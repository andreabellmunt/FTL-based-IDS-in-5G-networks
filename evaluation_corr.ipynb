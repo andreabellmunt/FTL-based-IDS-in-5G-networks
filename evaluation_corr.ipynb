{
 "cells": [
  {
   "cell_type": "code",
   "execution_count": 1,
   "metadata": {},
   "outputs": [
    {
     "name": "stderr",
     "output_type": "stream",
     "text": [
      "C:\\Users\\UX430\\AppData\\Local\\Temp/ipykernel_5420/2861151304.py:20: DtypeWarning: Columns (4) have mixed types. Specify dtype option on import or set low_memory=False.\n",
      "  test_basic = pd.read_csv('C:/Users/UX430/Documents/thesis/datasets/UNSW-NB15/UNSW-NB15-Test-Basic.csv')\n",
      "C:\\Users\\UX430\\AppData\\Local\\Temp/ipykernel_5420/2861151304.py:22: DtypeWarning: Columns (4) have mixed types. Specify dtype option on import or set low_memory=False.\n",
      "  test_complete = pd.read_csv('C:/Users/UX430/Documents/thesis/datasets/UNSW-NB15/UNSW-NB15-Test-Complete.csv')\n"
     ]
    }
   ],
   "source": [
    "# Imports\n",
    "import tensorflow as tf\n",
    "import numpy as np\n",
    "from tensorflow import keras\n",
    "import matplotlib.pyplot as plt\n",
    "import pandas as pd\n",
    "import seaborn as sns\n",
    "import sys\n",
    "\n",
    "from tensorflow.keras import datasets, layers, models\n",
    "from tensorflow.keras.callbacks import EarlyStopping\n",
    "from tensorflow.keras.layers import Dense, BatchNormalization\n",
    "from sklearn.preprocessing import StandardScaler\n",
    "from sklearn.model_selection import train_test_split\n",
    "from sklearn.metrics import confusion_matrix, classification_report\n",
    "\n",
    "# Disable warns\n",
    "pd.options.mode.chained_assignment = None  # default='warn'\n",
    "# Load training datasets and testing datasets \n",
    "test_basic = pd.read_csv('C:/Users/UX430/Documents/thesis/datasets/UNSW-NB15/UNSW-NB15-Test-Basic.csv')\n",
    "test_plus = pd.read_csv('C:/Users/UX430/Documents/thesis/datasets/UNSW-NB15/UNSW-NB15-Test+.csv')\n",
    "test_complete = pd.read_csv('C:/Users/UX430/Documents/thesis/datasets/UNSW-NB15/UNSW-NB15-Test-Complete.csv')"
   ]
  },
  {
   "cell_type": "code",
   "execution_count": 2,
   "metadata": {},
   "outputs": [],
   "source": [
    "def preprocessing(data): \n",
    "\n",
    "    # Select the 'proto' and 'state' values that I want\n",
    "    data = data.loc[(data['proto'] == 'tcp') | (data['proto'] =='udp') | (data['proto'] =='icmp') | (data['proto'] =='arp') | (data['proto'] =='ipv6-icmp') | (data['proto'] =='igmp') | (data['proto'] =='rarp'), :]\n",
    "    data = data.loc[(data['state'] == 'RST') | (data['state'] =='REQ') | (data['state'] =='INT') | (data['state'] =='FIN') | (data['state'] =='CON') | (data['state'] =='ECO') | (data['state'] =='ACC') | (data['state'] == 'PAR'), :]\n",
    "\n",
    "    # Extracting labels \n",
    "    data_labels = data[['label']]\n",
    "\n",
    "    # Drop the invalid features and select interested data features\n",
    "    data_features=data[['proto','srcip','sport','dstip','dsport','spkts','dpkts','sbytes','dbytes','state','stime','ltime','dur']]\n",
    "\n",
    "    \"\"\"PREPROCESSING\"\"\"\n",
    "\n",
    "\n",
    "    # Preprocess IP and ports features\n",
    "    # IP Source Address\n",
    "    data_features['srcip'] = data_features['srcip'].apply(lambda x: x.split(\".\")[-1])\n",
    "    data_features['srcip'] = data_features['srcip'].apply(lambda x: x.split(\":\")[-1])\n",
    "    data_features['srcip'] = data_features['srcip'].apply(lambda x: int(x, 16))\n",
    "\n",
    "\n",
    "    # IP Destination Address\n",
    "    data_features['dstip'] = data_features['dstip'].apply(lambda x: x.split(\".\")[-1])\n",
    "    data_features['dstip'] = data_features['dstip'].apply(lambda x: x.split(\":\")[-1])\n",
    "    data_features['dstip'] = data_features['dstip'].apply(lambda x: int(x, 16))\n",
    "\n",
    "    # Ports\n",
    "    data_features['sport'] = data_features['sport'].apply(lambda x: x.replace('0x','') if \"0x\" in str(x) else x)\n",
    "    data_features['dsport'] = data_features['dsport'].apply(lambda x: x.replace('0x','') if \"0x\" in str(x) else x)\n",
    "\n",
    "    # Convert all ports with 0 decimal, and HEX to DEC\n",
    "    data_features['sport'] = data_features['sport'].apply(lambda x: str(x)[:-2] if str(x)[-2:] == '.0' else str(x))\n",
    "    data_features['sport'] = data_features['sport'].apply(lambda x: -1 if str(x).isalpha()==True else int(x,16))\n",
    "\n",
    "    data_features['dsport'] = data_features['dsport'].apply(lambda x: str(x)[:-2] if str(x)[-2:] == '.0' else str(x))\n",
    "    data_features['dsport'] = data_features['dsport'].apply(lambda x: -1 if str(x).isalpha()==True else int(x,16))\n",
    "\n",
    "    # Convert field to int format\n",
    "    data_features['srcip'] = data_features['srcip'].astype(int)\n",
    "    data_features['sport'] = data_features['sport'].astype(int)\n",
    "    data_features['dstip'] = data_features['dstip'].astype(int)\n",
    "    data_features['dsport'] = data_features['dsport'].astype(int)\n",
    "\n",
    "    # Convert some fields to logarithmic\n",
    "    log1p_col = ['dur', 'sbytes', 'dbytes', 'spkts']\n",
    "\n",
    "    for col in log1p_col:\n",
    "        data_features[col] = data_features[col].apply(np.log1p)\n",
    "\n",
    "    # Create a complementary field of attack & Transform to One hot encoding - LABELS\n",
    "    normal=data_labels['label']\n",
    "    normal=normal.replace(1,2)\n",
    "    normal=normal.replace(0,1)\n",
    "    normal=normal.replace(2,0)\n",
    "\n",
    "    # Insert the new column in data labels\n",
    "    data_labels.insert(1, 'normal', normal)\n",
    "    data_labels = pd.get_dummies(data_labels)\n",
    "\n",
    "    data_labels = pd.get_dummies(data_labels)\n",
    "\n",
    "    # Transform to One hot encoding - FEATURES\n",
    "    data_features=pd.get_dummies(data_features)\n",
    "\n",
    "    # Value given for the missing columns\n",
    "    auxCol=0\n",
    "\n",
    "    # As we are using different datasets that might not have all representations, we are going to detect and add the missing columns \n",
    "    # The columns that can have types are: proto and state: need to check if all representations are done \n",
    "    state_cols = [col for col in data_features if col.startswith('state_')]\n",
    "    proto_cols = [col for col in data_features if col.startswith('proto_')]\n",
    "    \n",
    "    # Check if all columns are present\n",
    "    if 'state_PAR' not in state_cols:\n",
    "        data_features.insert(data_features.shape[1], 'state_PAR', auxCol, True)\n",
    "    if 'state_ACC' not in state_cols: \n",
    "        data_features.insert(data_features.shape[1], 'state_ACC', auxCol, True)\n",
    "    if 'state_ECO' not in state_cols:\n",
    "        data_features.insert(data_features.shape[1], 'state_ECO', auxCol, True)\n",
    "    if 'state_CON' not in state_cols:\n",
    "        data_features.insert(data_features.shape[1], 'state_CON', auxCol, True)\n",
    "    if 'state_FIN' not in state_cols:\n",
    "        data_features.insert(data_features.shape[1], 'state_FIN', auxCol, True)\n",
    "    if 'state_INT' not in state_cols:\n",
    "        data_features.insert(data_features.shape[1], 'state_INT', auxCol, True)\n",
    "    if 'state_REQ' not in state_cols:\n",
    "        data_features.insert(data_features.shape[1], 'state_REQ', auxCol, True)\n",
    "    if 'state_RST' not in state_cols:\n",
    "        data_features.insert(data_features.shape[1], 'state_RST', auxCol, True)\n",
    "    if 'proto_igmp' not in proto_cols:\n",
    "        data_features.insert(data_features.shape[1], 'proto_igmp', auxCol, True)\n",
    "    if 'proto_arp' not in proto_cols:\n",
    "        data_features.insert(data_features.shape[1], 'proto_arp', auxCol, True)\n",
    "    if 'proto_icmp' not in proto_cols:\n",
    "        data_features.insert(data_features.shape[1], 'proto_icmp', auxCol, True)\n",
    "    if 'proto_udp' not in proto_cols:\n",
    "        data_features.insert(data_features.shape[1], 'proto_udp', auxCol, True)\n",
    "    if 'proto_tcp' not in proto_cols:\n",
    "        data_features.insert(data_features.shape[1], 'proto_tcp', auxCol, True)\n",
    "\n",
    "    # Normalize all data features\n",
    "    data_features = StandardScaler().fit_transform(data_features)\n",
    "\n",
    "    #Add dimension to data features\n",
    "    data_features = np.expand_dims(data_features, axis=2)\n",
    "    data_features = np.expand_dims(data_features, axis=3)\n",
    "\n",
    "    x = data_features\n",
    "    y = data_labels.to_numpy()\n",
    "\n",
    "    return x, y"
   ]
  },
  {
   "cell_type": "code",
   "execution_count": 3,
   "metadata": {},
   "outputs": [],
   "source": [
    "xbasic, ybasic = preprocessing(test_basic)\n",
    "xplus, yplus = preprocessing(test_plus)\n",
    "xcom, ycom = preprocessing(test_complete)"
   ]
  },
  {
   "cell_type": "code",
   "execution_count": 4,
   "metadata": {},
   "outputs": [],
   "source": [
    "def evaluate_detection(model, x, y): \n",
    "    # Need to return FNR, F1, Precision, Recall, Accuracy, number of false positives, number of false negatives, number of true positives, number of true negatives\n",
    "    y_pred = model.predict(x)\n",
    "    y_pred = np.argmax(y_pred, axis=1)\n",
    "    y_true = np.argmax(y, axis=1)\n",
    "    report = classification_report(y_true, y_pred, output_dict=True)\n",
    "    cm = confusion_matrix(y_true, y_pred)\n",
    "    tn, fp, fn, tp = cm.ravel()\n",
    "    f1 = report['weighted avg']['f1-score']\n",
    "    precision = report['weighted avg']['precision']\n",
    "    recall = report['weighted avg']['recall']\n",
    "    accuracy = report['accuracy']\n",
    "    FNR = fn / (fn + tp)\n",
    "\n",
    "    \n",
    "    return FNR, f1, precision, recall, accuracy, cm"
   ]
  },
  {
   "cell_type": "code",
   "execution_count": 8,
   "metadata": {},
   "outputs": [],
   "source": [
    "corr3c5 = models.load_model('C:/Users/UX430/Documents/thesis/code/models/idcorr53Cavg.hdf5')\n",
    "corr3c25 = models.load_model('C:/Users/UX430/Documents/thesis/code/models/idcorr253Cavg.hdf5')\n",
    "corr3c50 = models.load_model('C:/Users/UX430/Documents/thesis/code/models/idcorr503Cavg.hdf5')\n",
    "corr3g5 = models.load_model('C:/Users/UX430/Documents/thesis/code/models/idcorr53Gavg.hdf5')\n",
    "corr3g25 = models.load_model('C:/Users/UX430/Documents/thesis/code/models/idcorr253Gavg.hdf5')\n",
    "corr3g50 = models.load_model('C:/Users/UX430/Documents/thesis/code/models/idcorr503Gavg.hdf5')"
   ]
  },
  {
   "cell_type": "code",
   "execution_count": 6,
   "metadata": {},
   "outputs": [
    {
     "data": {
      "text/plain": [
       "(0.010248618784530386,\n",
       " 0.9180986447905306,\n",
       " 0.9267800594450063,\n",
       " 0.918840749072424,\n",
       " 0.918840749072424,\n",
       " array([[54146, 10370],\n",
       "        [  742, 71658]], dtype=int64))"
      ]
     },
     "execution_count": 6,
     "metadata": {},
     "output_type": "execute_result"
    }
   ],
   "source": [
    "evaluate_detection(corr3c5, xbasic, ybasic)"
   ]
  },
  {
   "cell_type": "code",
   "execution_count": 7,
   "metadata": {},
   "outputs": [
    {
     "data": {
      "text/plain": [
       "(0.023938323993391856,\n",
       " 0.7449847862228615,\n",
       " 0.8119110396538817,\n",
       " 0.7634418368088353,\n",
       " 0.7634418368088353,\n",
       " array([[11897, 12284],\n",
       "        [  739, 30132]], dtype=int64))"
      ]
     },
     "execution_count": 7,
     "metadata": {},
     "output_type": "execute_result"
    }
   ],
   "source": [
    "evaluate_detection(corr3c5, xplus, yplus)"
   ]
  },
  {
   "cell_type": "code",
   "execution_count": 8,
   "metadata": {},
   "outputs": [
    {
     "data": {
      "text/plain": [
       "(0.01255524861878453,\n",
       " 0.9839582869405543,\n",
       " 0.983970662963597,\n",
       " 0.9839609687691724,\n",
       " 0.9839609687691724,\n",
       " array([[63229,  1287],\n",
       "        [  909, 71491]], dtype=int64))"
      ]
     },
     "execution_count": 8,
     "metadata": {},
     "output_type": "execute_result"
    }
   ],
   "source": [
    "evaluate_detection(corr3c25, xbasic, ybasic)"
   ]
  },
  {
   "cell_type": "code",
   "execution_count": 9,
   "metadata": {},
   "outputs": [
    {
     "data": {
      "text/plain": [
       "(0.011402286935959315,\n",
       " 0.7884540368927155,\n",
       " 0.844334649351584,\n",
       " 0.8010426505849015,\n",
       " 0.8010426505849015,\n",
       " array([[13580, 10601],\n",
       "        [  352, 30519]], dtype=int64))"
      ]
     },
     "execution_count": 9,
     "metadata": {},
     "output_type": "execute_result"
    }
   ],
   "source": [
    "evaluate_detection(corr3c25, xplus, yplus)"
   ]
  },
  {
   "cell_type": "code",
   "execution_count": 10,
   "metadata": {},
   "outputs": [
    {
     "data": {
      "text/plain": [
       "(0.010276243093922652,\n",
       " 0.9779549154317135,\n",
       " 0.9781830540609326,\n",
       " 0.9779718951766047,\n",
       " 0.9779718951766047,\n",
       " array([[62244,  2272],\n",
       "        [  744, 71656]], dtype=int64))"
      ]
     },
     "execution_count": 10,
     "metadata": {},
     "output_type": "execute_result"
    }
   ],
   "source": [
    "evaluate_detection(corr3c50, xbasic, ybasic)"
   ]
  },
  {
   "cell_type": "code",
   "execution_count": 11,
   "metadata": {},
   "outputs": [
    {
     "data": {
      "text/plain": [
       "(0.01120792977227819,\n",
       " 0.7853341121432225,\n",
       " 0.8429088245423307,\n",
       " 0.7984269418004796,\n",
       " 0.7984269418004796,\n",
       " array([[13430, 10751],\n",
       "        [  346, 30525]], dtype=int64))"
      ]
     },
     "execution_count": 11,
     "metadata": {},
     "output_type": "execute_result"
    }
   ],
   "source": [
    "evaluate_detection(corr3c50, xplus, yplus)"
   ]
  },
  {
   "cell_type": "code",
   "execution_count": 12,
   "metadata": {},
   "outputs": [
    {
     "data": {
      "text/plain": [
       "(0.013232044198895027,\n",
       " 0.9735519267354799,\n",
       " 0.9738316774014399,\n",
       " 0.973575038709866,\n",
       " 0.973575038709866,\n",
       " array([[61856,  2660],\n",
       "        [  958, 71442]], dtype=int64))"
      ]
     },
     "execution_count": 12,
     "metadata": {},
     "output_type": "execute_result"
    }
   ],
   "source": [
    "evaluate_detection(corr3g5, xbasic, ybasic)"
   ]
  },
  {
   "cell_type": "code",
   "execution_count": 13,
   "metadata": {},
   "outputs": [
    {
     "data": {
      "text/plain": [
       "(0.012406465614978459,\n",
       " 0.8205135437845434,\n",
       " 0.8608133572667405,\n",
       " 0.8286710746203589,\n",
       " 0.8286710746203589,\n",
       " array([[15132,  9049],\n",
       "        [  383, 30488]], dtype=int64))"
      ]
     },
     "execution_count": 13,
     "metadata": {},
     "output_type": "execute_result"
    }
   ],
   "source": [
    "evaluate_detection(corr3g5, xplus, yplus)"
   ]
  },
  {
   "cell_type": "code",
   "execution_count": 14,
   "metadata": {},
   "outputs": [
    {
     "data": {
      "text/plain": [
       "(0.014958563535911603,\n",
       " 0.9864313300484122,\n",
       " 0.986443035436232,\n",
       " 0.9864296356890356,\n",
       " 0.9864296356890356,\n",
       " array([[63741,   775],\n",
       "        [ 1083, 71317]], dtype=int64))"
      ]
     },
     "execution_count": 14,
     "metadata": {},
     "output_type": "execute_result"
    }
   ],
   "source": [
    "evaluate_detection(corr3g25, xbasic, ybasic)"
   ]
  },
  {
   "cell_type": "code",
   "execution_count": 15,
   "metadata": {},
   "outputs": [
    {
     "data": {
      "text/plain": [
       "(0.01334585857277056,\n",
       " 0.8643057549560927,\n",
       " 0.886921073906556,\n",
       " 0.8681973406960691,\n",
       " 0.8681973406960691,\n",
       " array([[17337,  6844],\n",
       "        [  412, 30459]], dtype=int64))"
      ]
     },
     "execution_count": 15,
     "metadata": {},
     "output_type": "execute_result"
    }
   ],
   "source": [
    "evaluate_detection(corr3g25, xplus, yplus)"
   ]
  },
  {
   "cell_type": "code",
   "execution_count": 16,
   "metadata": {},
   "outputs": [
    {
     "data": {
      "text/plain": [
       "(0.014806629834254143,\n",
       " 0.9889740519129036,\n",
       " 0.9890192719638692,\n",
       " 0.988971340091735,\n",
       " 0.988971340091735,\n",
       " array([[64078,   438],\n",
       "        [ 1072, 71328]], dtype=int64))"
      ]
     },
     "execution_count": 16,
     "metadata": {},
     "output_type": "execute_result"
    }
   ],
   "source": [
    "evaluate_detection(corr3g50, xbasic, ybasic)"
   ]
  },
  {
   "cell_type": "code",
   "execution_count": 17,
   "metadata": {},
   "outputs": [
    {
     "data": {
      "text/plain": [
       "(0.012665608499886625,\n",
       " 0.8636963260637445,\n",
       " 0.886847151134282,\n",
       " 0.8676705660103176,\n",
       " 0.8676705660103176,\n",
       " array([[17287,  6894],\n",
       "        [  391, 30480]], dtype=int64))"
      ]
     },
     "execution_count": 17,
     "metadata": {},
     "output_type": "execute_result"
    }
   ],
   "source": [
    "evaluate_detection(corr3g50, xplus, yplus)"
   ]
  },
  {
   "cell_type": "markdown",
   "metadata": {},
   "source": [
    "#### AVG "
   ]
  },
  {
   "cell_type": "code",
   "execution_count": 10,
   "metadata": {},
   "outputs": [],
   "source": [
    "corr5B5 = models.load_model('C:/Users/UX430/Documents/thesis/code/models/idcorr55Bavg.hdf5')\n",
    "corr5B10 = models.load_model('C:/Users/UX430/Documents/thesis/code/models/idcorr105Bavg.hdf5')\n",
    "corr5B25 = models.load_model('C:/Users/UX430/Documents/thesis/code/models/idcorr255Bavg.hdf5')\n",
    "corr5C15 = models.load_model('C:/Users/UX430/Documents/thesis/code/models/idcorr55C1avg.hdf5')\n",
    "corr5C110 = models.load_model('C:/Users/UX430/Documents/thesis/code/models/idcorr105C1avg.hdf5')\n",
    "corr5C125 = models.load_model('C:/Users/UX430/Documents/thesis/code/models/idcorr255C1avg.hdf5')\n",
    "corr5C35 = models.load_model('C:/Users/UX430/Documents/thesis/code/models/idcorr55C3avg.hdf5')\n",
    "corr5C310 = models.load_model('C:/Users/UX430/Documents/thesis/code/models/idcorr105C3avg.hdf5')\n",
    "corr5C325 = models.load_model('C:/Users/UX430/Documents/thesis/code/models/idcorr255C3avg.hdf5')"
   ]
  },
  {
   "cell_type": "code",
   "execution_count": 11,
   "metadata": {},
   "outputs": [
    {
     "data": {
      "text/plain": [
       "(0.005021971123666039,\n",
       " 0.9254076174924102,\n",
       " 0.9340827185788555,\n",
       " 0.9257649840621055,\n",
       " 0.9257649840621055,\n",
       " array([[61401, 10283],\n",
       "        [  360, 71325]], dtype=int64))"
      ]
     },
     "execution_count": 11,
     "metadata": {},
     "output_type": "execute_result"
    }
   ],
   "source": [
    "evaluate_detection(corr5B5, xcom, ycom)"
   ]
  },
  {
   "cell_type": "code",
   "execution_count": 12,
   "metadata": {},
   "outputs": [
    {
     "data": {
      "text/plain": [
       "(0.004422124572783706,\n",
       " 0.9148313587498618,\n",
       " 0.9263479035262767,\n",
       " 0.9153791963395155,\n",
       " 0.9153791963395155,\n",
       " array([[59869, 11815],\n",
       "        [  317, 71368]], dtype=int64))"
      ]
     },
     "execution_count": 12,
     "metadata": {},
     "output_type": "execute_result"
    }
   ],
   "source": [
    "evaluate_detection(corr5B10, xcom, ycom)"
   ]
  },
  {
   "cell_type": "code",
   "execution_count": 13,
   "metadata": {},
   "outputs": [
    {
     "data": {
      "text/plain": [
       "(0.005803166631791867,\n",
       " 0.9292708896736208,\n",
       " 0.9368656256740572,\n",
       " 0.9295663637187955,\n",
       " 0.9295663637187955,\n",
       " array([[62002,  9682],\n",
       "        [  416, 71269]], dtype=int64))"
      ]
     },
     "execution_count": 13,
     "metadata": {},
     "output_type": "execute_result"
    }
   ],
   "source": [
    "evaluate_detection(corr5B25, xcom, ycom)"
   ]
  },
  {
   "cell_type": "code",
   "execution_count": 14,
   "metadata": {},
   "outputs": [
    {
     "data": {
      "text/plain": [
       "(0.046997279765641345,\n",
       " 0.975860822454523,\n",
       " 0.9768712293801273,\n",
       " 0.9758734454449707,\n",
       " 0.9758734454449707,\n",
       " array([[71594,    90],\n",
       "        [ 3369, 68316]], dtype=int64))"
      ]
     },
     "execution_count": 14,
     "metadata": {},
     "output_type": "execute_result"
    }
   ],
   "source": [
    "evaluate_detection(corr5C15, xcom, ycom)"
   ]
  },
  {
   "cell_type": "code",
   "execution_count": 15,
   "metadata": {},
   "outputs": [
    {
     "data": {
      "text/plain": [
       "(0.01887424147311153,\n",
       " 0.9900249482572724,\n",
       " 0.9901810518164235,\n",
       " 0.9900257377815288,\n",
       " 0.9900257377815288,\n",
       " array([[71607,    77],\n",
       "        [ 1353, 70332]], dtype=int64))"
      ]
     },
     "execution_count": 15,
     "metadata": {},
     "output_type": "execute_result"
    }
   ],
   "source": [
    "evaluate_detection(corr5C110, xcom, ycom)"
   ]
  },
  {
   "cell_type": "code",
   "execution_count": 16,
   "metadata": {},
   "outputs": [
    {
     "data": {
      "text/plain": [
       "(0.038962125967775686,\n",
       " 0.9804626010679018,\n",
       " 0.9811968136566175,\n",
       " 0.9804699760757207,\n",
       " 0.9804699760757207,\n",
       " array([[71677,     7],\n",
       "        [ 2793, 68892]], dtype=int64))"
      ]
     },
     "execution_count": 16,
     "metadata": {},
     "output_type": "execute_result"
    }
   ],
   "source": [
    "evaluate_detection(corr5C125, xcom, ycom)"
   ]
  },
  {
   "cell_type": "code",
   "execution_count": 17,
   "metadata": {},
   "outputs": [
    {
     "data": {
      "text/plain": [
       "(0.015498360884424914,\n",
       " 0.9600442159177495,\n",
       " 0.9611693239843311,\n",
       " 0.9600680760833932,\n",
       " 0.9600680760833932,\n",
       " array([[67070,  4614],\n",
       "        [ 1111, 70574]], dtype=int64))"
      ]
     },
     "execution_count": 17,
     "metadata": {},
     "output_type": "execute_result"
    }
   ],
   "source": [
    "evaluate_detection(corr5C35, xcom, ycom)"
   ]
  },
  {
   "cell_type": "code",
   "execution_count": 18,
   "metadata": {},
   "outputs": [
    {
     "data": {
      "text/plain": [
       "(0.015484410964636954,\n",
       " 0.984055127037257,\n",
       " 0.9840555406944596,\n",
       " 0.9840551304675348,\n",
       " 0.9840551304675348,\n",
       " array([[70508,  1176],\n",
       "        [ 1110, 70575]], dtype=int64))"
      ]
     },
     "execution_count": 18,
     "metadata": {},
     "output_type": "execute_result"
    }
   ],
   "source": [
    "evaluate_detection(corr5C310, xcom, ycom)"
   ]
  },
  {
   "cell_type": "code",
   "execution_count": 19,
   "metadata": {},
   "outputs": [
    {
     "data": {
      "text/plain": [
       "(0.01648880518937016,\n",
       " 0.983008874841105,\n",
       " 0.9830093663372428,\n",
       " 0.983008879185877,\n",
       " 0.983008879185877,\n",
       " array([[70430,  1254],\n",
       "        [ 1182, 70503]], dtype=int64))"
      ]
     },
     "execution_count": 19,
     "metadata": {},
     "output_type": "execute_result"
    }
   ],
   "source": [
    "evaluate_detection(corr5C325, xcom, ycom)"
   ]
  },
  {
   "cell_type": "code",
   "execution_count": 7,
   "metadata": {},
   "outputs": [
    {
     "data": {
      "text/plain": [
       "(0.004558011049723757,\n",
       " 0.9560772557703201,\n",
       " 0.9588618004852771,\n",
       " 0.9562432440328377,\n",
       " 0.9562432440328377,\n",
       " array([[58855,  5661],\n",
       "        [  330, 72070]], dtype=int64))"
      ]
     },
     "execution_count": 7,
     "metadata": {},
     "output_type": "execute_result"
    }
   ],
   "source": [
    "evaluate_detection(corr5B5, xbasic, ybasic)"
   ]
  },
  {
   "cell_type": "code",
   "execution_count": 8,
   "metadata": {},
   "outputs": [
    {
     "data": {
      "text/plain": [
       "(0.01454439441547083,\n",
       " 0.8822572409757126,\n",
       " 0.8985446903073606,\n",
       " 0.8848906488410957,\n",
       " 0.8848906488410957,\n",
       " array([[18293,  5888],\n",
       "        [  449, 30422]], dtype=int64))"
      ]
     },
     "execution_count": 8,
     "metadata": {},
     "output_type": "execute_result"
    }
   ],
   "source": [
    "evaluate_detection(corr5B5, xplus, yplus)"
   ]
  },
  {
   "cell_type": "code",
   "execution_count": 9,
   "metadata": {},
   "outputs": [
    {
     "data": {
      "text/plain": [
       "(0.004129834254143646,\n",
       " 0.948103720135536,\n",
       " 0.9521770208609084,\n",
       " 0.9483624996348126,\n",
       " 0.9483624996348126,\n",
       " array([[57745,  6771],\n",
       "        [  299, 72101]], dtype=int64))"
      ]
     },
     "execution_count": 9,
     "metadata": {},
     "output_type": "execute_result"
    }
   ],
   "source": [
    "evaluate_detection(corr5B10, xbasic, ybasic)"
   ]
  },
  {
   "cell_type": "code",
   "execution_count": 10,
   "metadata": {},
   "outputs": [
    {
     "data": {
      "text/plain": [
       "(0.012827572802954228,\n",
       " 0.8604375955006761,\n",
       " 0.8846596668569583,\n",
       " 0.8646552350504977,\n",
       " 0.8646552350504977,\n",
       " array([[17126,  7055],\n",
       "        [  396, 30475]], dtype=int64))"
      ]
     },
     "execution_count": 10,
     "metadata": {},
     "output_type": "execute_result"
    }
   ],
   "source": [
    "evaluate_detection(corr5B10, xplus, yplus)"
   ]
  },
  {
   "cell_type": "code",
   "execution_count": 11,
   "metadata": {},
   "outputs": [
    {
     "data": {
      "text/plain": [
       "(0.0052900552486187845,\n",
       " 0.9564431931758209,\n",
       " 0.9590661290639726,\n",
       " 0.956601127698735,\n",
       " 0.956601127698735,\n",
       " array([[58957,  5559],\n",
       "        [  383, 72017]], dtype=int64))"
      ]
     },
     "execution_count": 11,
     "metadata": {},
     "output_type": "execute_result"
    }
   ],
   "source": [
    "evaluate_detection(corr5B25, xbasic, ybasic)"
   ]
  },
  {
   "cell_type": "code",
   "execution_count": 12,
   "metadata": {},
   "outputs": [
    {
     "data": {
      "text/plain": [
       "(0.01250364419681902,\n",
       " 0.8673570867825495,\n",
       " 0.8893179846143305,\n",
       " 0.8710673545011989,\n",
       " 0.8710673545011989,\n",
       " array([[17469,  6712],\n",
       "        [  386, 30485]], dtype=int64))"
      ]
     },
     "execution_count": 12,
     "metadata": {},
     "output_type": "execute_result"
    }
   ],
   "source": [
    "evaluate_detection(corr5B25, xplus, yplus)"
   ]
  },
  {
   "cell_type": "code",
   "execution_count": 13,
   "metadata": {},
   "outputs": [
    {
     "data": {
      "text/plain": [
       "(0.0626243093922652,\n",
       " 0.9668897656867086,\n",
       " 0.9690345154576933,\n",
       " 0.9668628940372199,\n",
       " 0.9668628940372199,\n",
       " array([[64513,     3],\n",
       "        [ 4534, 67866]], dtype=int64))"
      ]
     },
     "execution_count": 13,
     "metadata": {},
     "output_type": "execute_result"
    }
   ],
   "source": [
    "evaluate_detection(corr5C15, xbasic, ybasic)"
   ]
  },
  {
   "cell_type": "code",
   "execution_count": 14,
   "metadata": {},
   "outputs": [
    {
     "data": {
      "text/plain": [
       "(0.1865828771338797,\n",
       " 0.8955566319421113,\n",
       " 0.9154998776044775,\n",
       " 0.8953716486231199,\n",
       " 0.8953716486231199,\n",
       " array([[24181,     0],\n",
       "        [ 5760, 25111]], dtype=int64))"
      ]
     },
     "execution_count": 14,
     "metadata": {},
     "output_type": "execute_result"
    }
   ],
   "source": [
    "evaluate_detection(corr5C15, xplus, yplus)"
   ]
  },
  {
   "cell_type": "code",
   "execution_count": 15,
   "metadata": {},
   "outputs": [
    {
     "data": {
      "text/plain": [
       "(0.01888121546961326,\n",
       " 0.9899986226483048,\n",
       " 0.9902001605974614,\n",
       " 0.9899938648514418,\n",
       " 0.9899938648514418,\n",
       " array([[64513,     3],\n",
       "        [ 1367, 71033]], dtype=int64))"
      ]
     },
     "execution_count": 15,
     "metadata": {},
     "output_type": "execute_result"
    }
   ],
   "source": [
    "evaluate_detection(corr5C110, xbasic, ybasic)"
   ]
  },
  {
   "cell_type": "code",
   "execution_count": 16,
   "metadata": {},
   "outputs": [
    {
     "data": {
      "text/plain": [
       "(0.027501538660879142,\n",
       " 0.9845855778790374,\n",
       " 0.9850820400334382,\n",
       " 0.9845600523141756,\n",
       " 0.9845600523141756,\n",
       " array([[24180,     1],\n",
       "        [  849, 30022]], dtype=int64))"
      ]
     },
     "execution_count": 16,
     "metadata": {},
     "output_type": "execute_result"
    }
   ],
   "source": [
    "evaluate_detection(corr5C110, xplus, yplus)"
   ]
  },
  {
   "cell_type": "code",
   "execution_count": 17,
   "metadata": {},
   "outputs": [
    {
     "data": {
      "text/plain": [
       "(0.04825966850828729,\n",
       " 0.9744505128900312,\n",
       " 0.9757355470526499,\n",
       " 0.9744295772590493,\n",
       " 0.9744295772590493,\n",
       " array([[64509,     7],\n",
       "        [ 3494, 68906]], dtype=int64))"
      ]
     },
     "execution_count": 17,
     "metadata": {},
     "output_type": "execute_result"
    }
   ],
   "source": [
    "evaluate_detection(corr5C125, xbasic, ybasic)"
   ]
  },
  {
   "cell_type": "code",
   "execution_count": 18,
   "metadata": {},
   "outputs": [
    {
     "data": {
      "text/plain": [
       "(0.17731851899841275,\n",
       " 0.9007852290323695,\n",
       " 0.9189210677814361,\n",
       " 0.9005667369032915,\n",
       " 0.9005667369032915,\n",
       " array([[24181,     0],\n",
       "        [ 5474, 25397]], dtype=int64))"
      ]
     },
     "execution_count": 18,
     "metadata": {},
     "output_type": "execute_result"
    }
   ],
   "source": [
    "evaluate_detection(corr5C125, xplus, yplus)"
   ]
  },
  {
   "cell_type": "code",
   "execution_count": 19,
   "metadata": {},
   "outputs": [
    {
     "data": {
      "text/plain": [
       "(0.015455801104972376,\n",
       " 0.9900774749113563,\n",
       " 0.9901625178749895,\n",
       " 0.9900742060825616,\n",
       " 0.9900742060825616,\n",
       " array([[64276,   240],\n",
       "        [ 1119, 71281]], dtype=int64))"
      ]
     },
     "execution_count": 19,
     "metadata": {},
     "output_type": "execute_result"
    }
   ],
   "source": [
    "evaluate_detection(corr5C35, xbasic, ybasic)"
   ]
  },
  {
   "cell_type": "code",
   "execution_count": 20,
   "metadata": {},
   "outputs": [
    {
     "data": {
      "text/plain": [
       "(0.017135823264552492,\n",
       " 0.9469688561753138,\n",
       " 0.9488898335585798,\n",
       " 0.9472498728474896,\n",
       " 0.9472498728474896,\n",
       " array([[21806,  2375],\n",
       "        [  529, 30342]], dtype=int64))"
      ]
     },
     "execution_count": 20,
     "metadata": {},
     "output_type": "execute_result"
    }
   ],
   "source": [
    "evaluate_detection(corr5C35, xplus, yplus)"
   ]
  },
  {
   "cell_type": "code",
   "execution_count": 21,
   "metadata": {},
   "outputs": [
    {
     "data": {
      "text/plain": [
       "(0.015469613259668509,\n",
       " 0.9902162674857102,\n",
       " 0.9903052955349512,\n",
       " 0.9902129772999503,\n",
       " 0.9902129772999503,\n",
       " array([[64296,   220],\n",
       "        [ 1120, 71280]], dtype=int64))"
      ]
     },
     "execution_count": 21,
     "metadata": {},
     "output_type": "execute_result"
    }
   ],
   "source": [
    "evaluate_detection(corr5C310, xbasic, ybasic)"
   ]
  },
  {
   "cell_type": "code",
   "execution_count": 22,
   "metadata": {},
   "outputs": [
    {
     "data": {
      "text/plain": [
       "(0.017103430403938972,\n",
       " 0.9476694014296102,\n",
       " 0.9495162369660378,\n",
       " 0.9479401293322677,\n",
       " 0.9479401293322677,\n",
       " array([[21843,  2338],\n",
       "        [  528, 30343]], dtype=int64))"
      ]
     },
     "execution_count": 22,
     "metadata": {},
     "output_type": "execute_result"
    }
   ],
   "source": [
    "evaluate_detection(corr5C310, xplus, yplus)"
   ]
  },
  {
   "cell_type": "code",
   "execution_count": 23,
   "metadata": {},
   "outputs": [
    {
     "data": {
      "text/plain": [
       "(0.01680939226519337,\n",
       " 0.9890627905095888,\n",
       " 0.9891592171717783,\n",
       " 0.9890589850711385,\n",
       " 0.9890589850711385,\n",
       " array([[64235,   281],\n",
       "        [ 1217, 71183]], dtype=int64))"
      ]
     },
     "execution_count": 23,
     "metadata": {},
     "output_type": "execute_result"
    }
   ],
   "source": [
    "evaluate_detection(corr5C325, xbasic, ybasic)"
   ]
  },
  {
   "cell_type": "code",
   "execution_count": 24,
   "metadata": {},
   "outputs": [
    {
     "data": {
      "text/plain": [
       "(0.01694146610087137,\n",
       " 0.9472986746263102,\n",
       " 0.949208839513966,\n",
       " 0.9475768364455424,\n",
       " 0.9475768364455424,\n",
       " array([[21818,  2363],\n",
       "        [  523, 30348]], dtype=int64))"
      ]
     },
     "execution_count": 24,
     "metadata": {},
     "output_type": "execute_result"
    }
   ],
   "source": [
    "evaluate_detection(corr5C325, xplus, yplus)"
   ]
  },
  {
   "cell_type": "markdown",
   "metadata": {},
   "source": [
    "#### TRIM"
   ]
  },
  {
   "cell_type": "code",
   "execution_count": 20,
   "metadata": {},
   "outputs": [],
   "source": [
    "corr5B5 = models.load_model('C:/Users/UX430/Documents/thesis/code/models/idcorr55Btrim.hdf5')\n",
    "corr5B10 = models.load_model('C:/Users/UX430/Documents/thesis/code/models/idcorr105Btrim.hdf5')\n",
    "corr5B25 = models.load_model('C:/Users/UX430/Documents/thesis/code/models/idcorr255Btrim.hdf5')\n",
    "corr5C15 = models.load_model('C:/Users/UX430/Documents/thesis/code/models/idcorr55C1trim.hdf5')\n",
    "#corr5C110 = models.load_model('C:/Users/UX430/Documents/thesis/code/models/idcorr105C1trim.hdf5')\n",
    "#corr5C125 = models.load_model('C:/Users/UX430/Documents/thesis/code/models/idcorr255C1trim.hdf5')\n",
    "#corr5C35 = models.load_model('C:/Users/UX430/Documents/thesis/code/models/idcorr55C3trim.hdf5')\n",
    "#corr5C310 = models.load_model('C:/Users/UX430/Documents/thesis/code/models/idcorr105C3trim.hdf5')\n",
    "#corr5C325 = models.load_model('C:/Users/UX430/Documents/thesis/code/models/idcorr255C3trim.hdf5')"
   ]
  },
  {
   "cell_type": "code",
   "execution_count": 21,
   "metadata": {},
   "outputs": [
    {
     "data": {
      "text/plain": [
       "(0.004994071284090116,\n",
       " 0.929065449720116,\n",
       " 0.9368995449049262,\n",
       " 0.9293710634795528,\n",
       " 0.9293710634795528,\n",
       " array([[61916,  9768],\n",
       "        [  358, 71327]], dtype=int64))"
      ]
     },
     "execution_count": 21,
     "metadata": {},
     "output_type": "execute_result"
    }
   ],
   "source": [
    "evaluate_detection(corr5B5, xcom, ycom)"
   ]
  },
  {
   "cell_type": "code",
   "execution_count": 22,
   "metadata": {},
   "outputs": [
    {
     "data": {
      "text/plain": [
       "(0.004380274813419823,\n",
       " 0.9181372028786184,\n",
       " 0.9287909551669837,\n",
       " 0.9186225753126548,\n",
       " 0.9186225753126548,\n",
       " array([[60331, 11353],\n",
       "        [  314, 71371]], dtype=int64))"
      ]
     },
     "execution_count": 22,
     "metadata": {},
     "output_type": "execute_result"
    }
   ],
   "source": [
    "evaluate_detection(corr5B10, xcom, ycom)"
   ]
  },
  {
   "cell_type": "code",
   "execution_count": 23,
   "metadata": {},
   "outputs": [
    {
     "data": {
      "text/plain": [
       "(0.004422124572783706,\n",
       " 0.9142192863544645,\n",
       " 0.9259010807163767,\n",
       " 0.9147793456046983,\n",
       " 0.9147793456046983,\n",
       " array([[59783, 11901],\n",
       "        [  317, 71368]], dtype=int64))"
      ]
     },
     "execution_count": 23,
     "metadata": {},
     "output_type": "execute_result"
    }
   ],
   "source": [
    "evaluate_detection(corr5B25, xcom, ycom)"
   ]
  },
  {
   "cell_type": "code",
   "execution_count": 24,
   "metadata": {},
   "outputs": [
    {
     "data": {
      "text/plain": [
       "(0.027411592383343796,\n",
       " 0.9856360124014779,\n",
       " 0.9859695194240652,\n",
       " 0.9856384574071103,\n",
       " 0.9856384574071103,\n",
       " array([[71590,    94],\n",
       "        [ 1965, 69720]], dtype=int64))"
      ]
     },
     "execution_count": 24,
     "metadata": {},
     "output_type": "execute_result"
    }
   ],
   "source": [
    "evaluate_detection(corr5C15, xcom, ycom)"
   ]
  },
  {
   "cell_type": "code",
   "execution_count": null,
   "metadata": {},
   "outputs": [
    {
     "data": {
      "text/plain": [
       "(0.01887424147311153,\n",
       " 0.9900249482572724,\n",
       " 0.9901810518164235,\n",
       " 0.9900257377815288,\n",
       " 0.9900257377815288,\n",
       " array([[71607,    77],\n",
       "        [ 1353, 70332]], dtype=int64))"
      ]
     },
     "metadata": {},
     "output_type": "display_data"
    }
   ],
   "source": [
    "evaluate_detection(corr5C110, xcom, ycom)"
   ]
  },
  {
   "cell_type": "code",
   "execution_count": null,
   "metadata": {},
   "outputs": [
    {
     "data": {
      "text/plain": [
       "(0.038962125967775686,\n",
       " 0.9804626010679018,\n",
       " 0.9811968136566175,\n",
       " 0.9804699760757207,\n",
       " 0.9804699760757207,\n",
       " array([[71677,     7],\n",
       "        [ 2793, 68892]], dtype=int64))"
      ]
     },
     "metadata": {},
     "output_type": "display_data"
    }
   ],
   "source": [
    "evaluate_detection(corr5C125, xcom, ycom)"
   ]
  },
  {
   "cell_type": "code",
   "execution_count": null,
   "metadata": {},
   "outputs": [
    {
     "data": {
      "text/plain": [
       "(0.015498360884424914,\n",
       " 0.9600442159177495,\n",
       " 0.9611693239843311,\n",
       " 0.9600680760833932,\n",
       " 0.9600680760833932,\n",
       " array([[67070,  4614],\n",
       "        [ 1111, 70574]], dtype=int64))"
      ]
     },
     "metadata": {},
     "output_type": "display_data"
    }
   ],
   "source": [
    "evaluate_detection(corr5C35, xcom, ycom)"
   ]
  },
  {
   "cell_type": "code",
   "execution_count": null,
   "metadata": {},
   "outputs": [
    {
     "data": {
      "text/plain": [
       "(0.015484410964636954,\n",
       " 0.984055127037257,\n",
       " 0.9840555406944596,\n",
       " 0.9840551304675348,\n",
       " 0.9840551304675348,\n",
       " array([[70508,  1176],\n",
       "        [ 1110, 70575]], dtype=int64))"
      ]
     },
     "metadata": {},
     "output_type": "display_data"
    }
   ],
   "source": [
    "evaluate_detection(corr5C310, xcom, ycom)"
   ]
  },
  {
   "cell_type": "code",
   "execution_count": null,
   "metadata": {},
   "outputs": [
    {
     "data": {
      "text/plain": [
       "(0.01648880518937016,\n",
       " 0.983008874841105,\n",
       " 0.9830093663372428,\n",
       " 0.983008879185877,\n",
       " 0.983008879185877,\n",
       " array([[70430,  1254],\n",
       "        [ 1182, 70503]], dtype=int64))"
      ]
     },
     "metadata": {},
     "output_type": "display_data"
    }
   ],
   "source": [
    "evaluate_detection(corr5C325, xcom, ycom)"
   ]
  },
  {
   "cell_type": "code",
   "execution_count": 27,
   "metadata": {},
   "outputs": [
    {
     "data": {
      "text/plain": [
       "(0.004392265193370166,\n",
       " 0.959231231785833,\n",
       " 0.9616180683113731,\n",
       " 0.9593692482982267,\n",
       " 0.9593692482982267,\n",
       " array([[59271,  5245],\n",
       "        [  318, 72082]], dtype=int64))"
      ]
     },
     "execution_count": 27,
     "metadata": {},
     "output_type": "execute_result"
    }
   ],
   "source": [
    "evaluate_detection(corr5B5, xbasic, ybasic)"
   ]
  },
  {
   "cell_type": "code",
   "execution_count": 28,
   "metadata": {},
   "outputs": [
    {
     "data": {
      "text/plain": [
       "(0.013443037154611124,\n",
       " 0.8594891071087266,\n",
       " 0.8837468987190035,\n",
       " 0.8637470028336846,\n",
       " 0.8637470028336846,\n",
       " array([[17095,  7086],\n",
       "        [  415, 30456]], dtype=int64))"
      ]
     },
     "execution_count": 28,
     "metadata": {},
     "output_type": "execute_result"
    }
   ],
   "source": [
    "evaluate_detection(corr5B5, xplus, yplus)"
   ]
  },
  {
   "cell_type": "code",
   "execution_count": 29,
   "metadata": {},
   "outputs": [
    {
     "data": {
      "text/plain": [
       "(0.0038674033149171273,\n",
       " 0.9508598994241823,\n",
       " 0.9545341635122602,\n",
       " 0.9510867977446025,\n",
       " 0.9510867977446025,\n",
       " array([[58099,  6417],\n",
       "        [  280, 72120]], dtype=int64))"
      ]
     },
     "execution_count": 29,
     "metadata": {},
     "output_type": "execute_result"
    }
   ],
   "source": [
    "evaluate_detection(corr5B10, xbasic, ybasic)"
   ]
  },
  {
   "cell_type": "code",
   "execution_count": 30,
   "metadata": {},
   "outputs": [
    {
     "data": {
      "text/plain": [
       "(0.012568429918046062,\n",
       " 0.8312715046375951,\n",
       " 0.8668976370039558,\n",
       " 0.8382075128968974,\n",
       " 0.8382075128968974,\n",
       " array([[15662,  8519],\n",
       "        [  388, 30483]], dtype=int64))"
      ]
     },
     "execution_count": 30,
     "metadata": {},
     "output_type": "execute_result"
    }
   ],
   "source": [
    "evaluate_detection(corr5B10, xplus, yplus)"
   ]
  },
  {
   "cell_type": "code",
   "execution_count": 31,
   "metadata": {},
   "outputs": [
    {
     "data": {
      "text/plain": [
       "(0.003908839779005525,\n",
       " 0.9465919401131463,\n",
       " 0.9509623857296089,\n",
       " 0.9468725349849543,\n",
       " 0.9468725349849543,\n",
       " array([[57525,  6991],\n",
       "        [  283, 72117]], dtype=int64))"
      ]
     },
     "execution_count": 31,
     "metadata": {},
     "output_type": "execute_result"
    }
   ],
   "source": [
    "evaluate_detection(corr5B25, xbasic, ybasic)"
   ]
  },
  {
   "cell_type": "code",
   "execution_count": 32,
   "metadata": {},
   "outputs": [
    {
     "data": {
      "text/plain": [
       "(0.012633215639273105,\n",
       " 0.8716070442680398,\n",
       " 0.8920751366213381,\n",
       " 0.8750090823221681,\n",
       " 0.8750090823221681,\n",
       " array([[17690,  6491],\n",
       "        [  390, 30481]], dtype=int64))"
      ]
     },
     "execution_count": 32,
     "metadata": {},
     "output_type": "execute_result"
    }
   ],
   "source": [
    "evaluate_detection(corr5B25, xplus, yplus)"
   ]
  },
  {
   "cell_type": "code",
   "execution_count": 11,
   "metadata": {},
   "outputs": [
    {
     "data": {
      "text/plain": [
       "(0.03363259668508287,\n",
       " 0.9822060764648011,\n",
       " 0.9828387569128129,\n",
       " 0.9821934616845365,\n",
       " 0.9821934616845365,\n",
       " array([[64513,     3],\n",
       "        [ 2435, 69965]], dtype=int64))"
      ]
     },
     "execution_count": 11,
     "metadata": {},
     "output_type": "execute_result"
    }
   ],
   "source": [
    "evaluate_detection(corr5C15, xbasic, ybasic)"
   ]
  },
  {
   "cell_type": "code",
   "execution_count": 12,
   "metadata": {},
   "outputs": [
    {
     "data": {
      "text/plain": [
       "(0.086521330698714,\n",
       " 0.9507851310990553,\n",
       " 0.9552772476117818,\n",
       " 0.9506103320496985,\n",
       " 0.9506103320496985,\n",
       " array([[24133,    48],\n",
       "        [ 2671, 28200]], dtype=int64))"
      ]
     },
     "execution_count": 12,
     "metadata": {},
     "output_type": "execute_result"
    }
   ],
   "source": [
    "evaluate_detection(corr5C15, xplus, yplus)"
   ]
  },
  {
   "cell_type": "code",
   "execution_count": null,
   "metadata": {},
   "outputs": [
    {
     "data": {
      "text/plain": [
       "(0.01888121546961326,\n",
       " 0.9899986226483048,\n",
       " 0.9902001605974614,\n",
       " 0.9899938648514418,\n",
       " 0.9899938648514418,\n",
       " array([[64513,     3],\n",
       "        [ 1367, 71033]], dtype=int64))"
      ]
     },
     "metadata": {},
     "output_type": "display_data"
    }
   ],
   "source": [
    "evaluate_detection(corr5C110, xbasic, ybasic)"
   ]
  },
  {
   "cell_type": "code",
   "execution_count": null,
   "metadata": {},
   "outputs": [
    {
     "data": {
      "text/plain": [
       "(0.027501538660879142,\n",
       " 0.9845855778790374,\n",
       " 0.9850820400334382,\n",
       " 0.9845600523141756,\n",
       " 0.9845600523141756,\n",
       " array([[24180,     1],\n",
       "        [  849, 30022]], dtype=int64))"
      ]
     },
     "metadata": {},
     "output_type": "display_data"
    }
   ],
   "source": [
    "evaluate_detection(corr5C110, xplus, yplus)"
   ]
  },
  {
   "cell_type": "code",
   "execution_count": null,
   "metadata": {},
   "outputs": [
    {
     "data": {
      "text/plain": [
       "(0.04825966850828729,\n",
       " 0.9744505128900312,\n",
       " 0.9757355470526499,\n",
       " 0.9744295772590493,\n",
       " 0.9744295772590493,\n",
       " array([[64509,     7],\n",
       "        [ 3494, 68906]], dtype=int64))"
      ]
     },
     "metadata": {},
     "output_type": "display_data"
    }
   ],
   "source": [
    "evaluate_detection(corr5C125, xbasic, ybasic)"
   ]
  },
  {
   "cell_type": "code",
   "execution_count": null,
   "metadata": {},
   "outputs": [
    {
     "data": {
      "text/plain": [
       "(0.17731851899841275,\n",
       " 0.9007852290323695,\n",
       " 0.9189210677814361,\n",
       " 0.9005667369032915,\n",
       " 0.9005667369032915,\n",
       " array([[24181,     0],\n",
       "        [ 5474, 25397]], dtype=int64))"
      ]
     },
     "metadata": {},
     "output_type": "display_data"
    }
   ],
   "source": [
    "evaluate_detection(corr5C125, xplus, yplus)"
   ]
  },
  {
   "cell_type": "code",
   "execution_count": null,
   "metadata": {},
   "outputs": [
    {
     "data": {
      "text/plain": [
       "(0.015455801104972376,\n",
       " 0.9900774749113563,\n",
       " 0.9901625178749895,\n",
       " 0.9900742060825616,\n",
       " 0.9900742060825616,\n",
       " array([[64276,   240],\n",
       "        [ 1119, 71281]], dtype=int64))"
      ]
     },
     "metadata": {},
     "output_type": "display_data"
    }
   ],
   "source": [
    "evaluate_detection(corr5C35, xbasic, ybasic)"
   ]
  },
  {
   "cell_type": "code",
   "execution_count": null,
   "metadata": {},
   "outputs": [
    {
     "data": {
      "text/plain": [
       "(0.017135823264552492,\n",
       " 0.9469688561753138,\n",
       " 0.9488898335585798,\n",
       " 0.9472498728474896,\n",
       " 0.9472498728474896,\n",
       " array([[21806,  2375],\n",
       "        [  529, 30342]], dtype=int64))"
      ]
     },
     "metadata": {},
     "output_type": "display_data"
    }
   ],
   "source": [
    "evaluate_detection(corr5C35, xplus, yplus)"
   ]
  },
  {
   "cell_type": "code",
   "execution_count": null,
   "metadata": {},
   "outputs": [
    {
     "data": {
      "text/plain": [
       "(0.015469613259668509,\n",
       " 0.9902162674857102,\n",
       " 0.9903052955349512,\n",
       " 0.9902129772999503,\n",
       " 0.9902129772999503,\n",
       " array([[64296,   220],\n",
       "        [ 1120, 71280]], dtype=int64))"
      ]
     },
     "metadata": {},
     "output_type": "display_data"
    }
   ],
   "source": [
    "evaluate_detection(corr5C310, xbasic, ybasic)"
   ]
  },
  {
   "cell_type": "code",
   "execution_count": null,
   "metadata": {},
   "outputs": [
    {
     "data": {
      "text/plain": [
       "(0.017103430403938972,\n",
       " 0.9476694014296102,\n",
       " 0.9495162369660378,\n",
       " 0.9479401293322677,\n",
       " 0.9479401293322677,\n",
       " array([[21843,  2338],\n",
       "        [  528, 30343]], dtype=int64))"
      ]
     },
     "metadata": {},
     "output_type": "display_data"
    }
   ],
   "source": [
    "evaluate_detection(corr5C310, xplus, yplus)"
   ]
  },
  {
   "cell_type": "code",
   "execution_count": null,
   "metadata": {},
   "outputs": [
    {
     "data": {
      "text/plain": [
       "(0.01680939226519337,\n",
       " 0.9890627905095888,\n",
       " 0.9891592171717783,\n",
       " 0.9890589850711385,\n",
       " 0.9890589850711385,\n",
       " array([[64235,   281],\n",
       "        [ 1217, 71183]], dtype=int64))"
      ]
     },
     "metadata": {},
     "output_type": "display_data"
    }
   ],
   "source": [
    "evaluate_detection(corr5C325, xbasic, ybasic)"
   ]
  },
  {
   "cell_type": "code",
   "execution_count": null,
   "metadata": {},
   "outputs": [
    {
     "data": {
      "text/plain": [
       "(0.01694146610087137,\n",
       " 0.9472986746263102,\n",
       " 0.949208839513966,\n",
       " 0.9475768364455424,\n",
       " 0.9475768364455424,\n",
       " array([[21818,  2363],\n",
       "        [  523, 30348]], dtype=int64))"
      ]
     },
     "metadata": {},
     "output_type": "display_data"
    }
   ],
   "source": [
    "evaluate_detection(corr5C325, xplus, yplus)"
   ]
  },
  {
   "cell_type": "markdown",
   "metadata": {},
   "source": [
    "#### med"
   ]
  },
  {
   "cell_type": "code",
   "execution_count": 25,
   "metadata": {},
   "outputs": [],
   "source": [
    "corr5B5 = models.load_model('C:/Users/UX430/Documents/thesis/code/models/idcorr55Bmed.hdf5')\n",
    "corr5B10 = models.load_model('C:/Users/UX430/Documents/thesis/code/models/idcorr105Bmed.hdf5')\n",
    "corr5B25 = models.load_model('C:/Users/UX430/Documents/thesis/code/models/idcorr255Bmed.hdf5')\n",
    "corr5C15 = models.load_model('C:/Users/UX430/Documents/thesis/code/models/idcorr55C1med.hdf5')"
   ]
  },
  {
   "cell_type": "code",
   "execution_count": 26,
   "metadata": {},
   "outputs": [
    {
     "data": {
      "text/plain": [
       "(0.005370719118365069,\n",
       " 0.9272726131216085,\n",
       " 0.9354248101334217,\n",
       " 0.9275994113092788,\n",
       " 0.9275994113092788,\n",
       " array([[61689,  9995],\n",
       "        [  385, 71300]], dtype=int64))"
      ]
     },
     "execution_count": 26,
     "metadata": {},
     "output_type": "execute_result"
    }
   ],
   "source": [
    "evaluate_detection(corr5B5, xcom, ycom)"
   ]
  },
  {
   "cell_type": "code",
   "execution_count": 27,
   "metadata": {},
   "outputs": [
    {
     "data": {
      "text/plain": [
       "(0.006193764385854781,\n",
       " 0.9276908345918159,\n",
       " 0.9355474760885154,\n",
       " 0.9280039618048532,\n",
       " 0.9280039618048532,\n",
       " array([[61806,  9878],\n",
       "        [  444, 71241]], dtype=int64))"
      ]
     },
     "execution_count": 27,
     "metadata": {},
     "output_type": "execute_result"
    }
   ],
   "source": [
    "evaluate_detection(corr5B10, xcom, ycom)"
   ]
  },
  {
   "cell_type": "code",
   "execution_count": 28,
   "metadata": {},
   "outputs": [
    {
     "data": {
      "text/plain": [
       "(0.004784822487270698,\n",
       " 0.9050719095943358,\n",
       " 0.9192282410348668,\n",
       " 0.9058304096422518,\n",
       " 0.9058304096422518,\n",
       " array([[58526, 13158],\n",
       "        [  343, 71342]], dtype=int64))"
      ]
     },
     "execution_count": 28,
     "metadata": {},
     "output_type": "execute_result"
    }
   ],
   "source": [
    "evaluate_detection(corr5B25, xcom, ycom)"
   ]
  },
  {
   "cell_type": "code",
   "execution_count": 29,
   "metadata": {},
   "outputs": [
    {
     "data": {
      "text/plain": [
       "(0.018372044360744924,\n",
       " 0.9907922158545586,\n",
       " 0.9909579520824148,\n",
       " 0.9907929887214112,\n",
       " 0.9907929887214112,\n",
       " array([[71681,     3],\n",
       "        [ 1317, 70368]], dtype=int64))"
      ]
     },
     "execution_count": 29,
     "metadata": {},
     "output_type": "execute_result"
    }
   ],
   "source": [
    "evaluate_detection(corr5C15, xcom, ycom)"
   ]
  },
  {
   "cell_type": "code",
   "execution_count": null,
   "metadata": {},
   "outputs": [
    {
     "data": {
      "text/plain": [
       "(0.01887424147311153,\n",
       " 0.9900249482572724,\n",
       " 0.9901810518164235,\n",
       " 0.9900257377815288,\n",
       " 0.9900257377815288,\n",
       " array([[71607,    77],\n",
       "        [ 1353, 70332]], dtype=int64))"
      ]
     },
     "metadata": {},
     "output_type": "display_data"
    }
   ],
   "source": [
    "evaluate_detection(corr5C110, xcom, ycom)"
   ]
  },
  {
   "cell_type": "code",
   "execution_count": null,
   "metadata": {},
   "outputs": [
    {
     "data": {
      "text/plain": [
       "(0.038962125967775686,\n",
       " 0.9804626010679018,\n",
       " 0.9811968136566175,\n",
       " 0.9804699760757207,\n",
       " 0.9804699760757207,\n",
       " array([[71677,     7],\n",
       "        [ 2793, 68892]], dtype=int64))"
      ]
     },
     "metadata": {},
     "output_type": "display_data"
    }
   ],
   "source": [
    "evaluate_detection(corr5C125, xcom, ycom)"
   ]
  },
  {
   "cell_type": "code",
   "execution_count": null,
   "metadata": {},
   "outputs": [
    {
     "data": {
      "text/plain": [
       "(0.015498360884424914,\n",
       " 0.9600442159177495,\n",
       " 0.9611693239843311,\n",
       " 0.9600680760833932,\n",
       " 0.9600680760833932,\n",
       " array([[67070,  4614],\n",
       "        [ 1111, 70574]], dtype=int64))"
      ]
     },
     "metadata": {},
     "output_type": "display_data"
    }
   ],
   "source": [
    "evaluate_detection(corr5C35, xcom, ycom)"
   ]
  },
  {
   "cell_type": "code",
   "execution_count": null,
   "metadata": {},
   "outputs": [
    {
     "data": {
      "text/plain": [
       "(0.015484410964636954,\n",
       " 0.984055127037257,\n",
       " 0.9840555406944596,\n",
       " 0.9840551304675348,\n",
       " 0.9840551304675348,\n",
       " array([[70508,  1176],\n",
       "        [ 1110, 70575]], dtype=int64))"
      ]
     },
     "metadata": {},
     "output_type": "display_data"
    }
   ],
   "source": [
    "evaluate_detection(corr5C310, xcom, ycom)"
   ]
  },
  {
   "cell_type": "code",
   "execution_count": null,
   "metadata": {},
   "outputs": [
    {
     "data": {
      "text/plain": [
       "(0.01648880518937016,\n",
       " 0.983008874841105,\n",
       " 0.9830093663372428,\n",
       " 0.983008879185877,\n",
       " 0.983008879185877,\n",
       " array([[70430,  1254],\n",
       "        [ 1182, 70503]], dtype=int64))"
      ]
     },
     "metadata": {},
     "output_type": "display_data"
    }
   ],
   "source": [
    "evaluate_detection(corr5C325, xcom, ycom)"
   ]
  },
  {
   "cell_type": "code",
   "execution_count": 34,
   "metadata": {},
   "outputs": [
    {
     "data": {
      "text/plain": [
       "(0.004903314917127072,\n",
       " 0.9570748654616772,\n",
       " 0.9596707431635976,\n",
       " 0.9572292500511262,\n",
       " 0.9572292500511262,\n",
       " array([[59015,  5501],\n",
       "        [  355, 72045]], dtype=int64))"
      ]
     },
     "execution_count": 34,
     "metadata": {},
     "output_type": "execute_result"
    }
   ],
   "source": [
    "evaluate_detection(corr5B5, xbasic, ybasic)"
   ]
  },
  {
   "cell_type": "code",
   "execution_count": 35,
   "metadata": {},
   "outputs": [
    {
     "data": {
      "text/plain": [
       "(0.015127465906514204,\n",
       " 0.8974500173269647,\n",
       " 0.909251160417791,\n",
       " 0.8992588825110804,\n",
       " 0.8992588825110804,\n",
       " array([[19102,  5079],\n",
       "        [  467, 30404]], dtype=int64))"
      ]
     },
     "execution_count": 35,
     "metadata": {},
     "output_type": "execute_result"
    }
   ],
   "source": [
    "evaluate_detection(corr5B5, xplus, yplus)"
   ]
  },
  {
   "cell_type": "code",
   "execution_count": 36,
   "metadata": {},
   "outputs": [
    {
     "data": {
      "text/plain": [
       "(0.005441988950276243,\n",
       " 0.9546814595297561,\n",
       " 0.9575231853740371,\n",
       " 0.95485553185895,\n",
       " 0.95485553185895,\n",
       " array([[58729,  5787],\n",
       "        [  394, 72006]], dtype=int64))"
      ]
     },
     "execution_count": 36,
     "metadata": {},
     "output_type": "execute_result"
    }
   ],
   "source": [
    "evaluate_detection(corr5B10, xbasic, ybasic)"
   ]
  },
  {
   "cell_type": "code",
   "execution_count": 37,
   "metadata": {},
   "outputs": [
    {
     "data": {
      "text/plain": [
       "(0.015516180233876454,\n",
       " 0.8946788398873966,\n",
       " 0.9070789639401701,\n",
       " 0.8966068444379859,\n",
       " 0.8966068444379859,\n",
       " array([[18968,  5213],\n",
       "        [  479, 30392]], dtype=int64))"
      ]
     },
     "execution_count": 37,
     "metadata": {},
     "output_type": "execute_result"
    }
   ],
   "source": [
    "evaluate_detection(corr5B10, xplus, yplus)"
   ]
  },
  {
   "cell_type": "code",
   "execution_count": 38,
   "metadata": {},
   "outputs": [
    {
     "data": {
      "text/plain": [
       "(0.0040607734806629835,\n",
       " 0.9369931311537052,\n",
       " 0.9431179109978058,\n",
       " 0.9374214847059511,\n",
       " 0.9374214847059511,\n",
       " array([[56242,  8274],\n",
       "        [  294, 72106]], dtype=int64))"
      ]
     },
     "execution_count": 38,
     "metadata": {},
     "output_type": "execute_result"
    }
   ],
   "source": [
    "evaluate_detection(corr5B25, xbasic, ybasic)"
   ]
  },
  {
   "cell_type": "code",
   "execution_count": 39,
   "metadata": {},
   "outputs": [
    {
     "data": {
      "text/plain": [
       "(0.012017751287616209,\n",
       " 0.8613149899300455,\n",
       " 0.8856218871314806,\n",
       " 0.8655089733343021,\n",
       " 0.8655089733343021,\n",
       " array([[17148,  7033],\n",
       "        [  371, 30500]], dtype=int64))"
      ]
     },
     "execution_count": 39,
     "metadata": {},
     "output_type": "execute_result"
    }
   ],
   "source": [
    "evaluate_detection(corr5B25, xplus, yplus)"
   ]
  },
  {
   "cell_type": "code",
   "execution_count": 14,
   "metadata": {},
   "outputs": [
    {
     "data": {
      "text/plain": [
       "(0.018121546961325966,\n",
       " 0.9903999907930509,\n",
       " 0.990585726092373,\n",
       " 0.9903955710070408,\n",
       " 0.9903955710070408,\n",
       " array([[64513,     3],\n",
       "        [ 1312, 71088]], dtype=int64))"
      ]
     },
     "execution_count": 14,
     "metadata": {},
     "output_type": "execute_result"
    }
   ],
   "source": [
    "evaluate_detection(corr5C15, xbasic, ybasic)"
   ]
  },
  {
   "cell_type": "code",
   "execution_count": 15,
   "metadata": {},
   "outputs": [
    {
     "data": {
      "text/plain": [
       "(0.021476466586764276,\n",
       " 0.9879729119059167,\n",
       " 0.9882782308608551,\n",
       " 0.9879568408050571,\n",
       " 0.9879568408050571,\n",
       " array([[24181,     0],\n",
       "        [  663, 30208]], dtype=int64))"
      ]
     },
     "execution_count": 15,
     "metadata": {},
     "output_type": "execute_result"
    }
   ],
   "source": [
    "evaluate_detection(corr5C15, xplus, yplus)"
   ]
  },
  {
   "cell_type": "code",
   "execution_count": null,
   "metadata": {},
   "outputs": [
    {
     "data": {
      "text/plain": [
       "(0.01888121546961326,\n",
       " 0.9899986226483048,\n",
       " 0.9902001605974614,\n",
       " 0.9899938648514418,\n",
       " 0.9899938648514418,\n",
       " array([[64513,     3],\n",
       "        [ 1367, 71033]], dtype=int64))"
      ]
     },
     "metadata": {},
     "output_type": "display_data"
    }
   ],
   "source": [
    "evaluate_detection(corr5C110, xbasic, ybasic)"
   ]
  },
  {
   "cell_type": "code",
   "execution_count": null,
   "metadata": {},
   "outputs": [
    {
     "data": {
      "text/plain": [
       "(0.027501538660879142,\n",
       " 0.9845855778790374,\n",
       " 0.9850820400334382,\n",
       " 0.9845600523141756,\n",
       " 0.9845600523141756,\n",
       " array([[24180,     1],\n",
       "        [  849, 30022]], dtype=int64))"
      ]
     },
     "metadata": {},
     "output_type": "display_data"
    }
   ],
   "source": [
    "evaluate_detection(corr5C110, xplus, yplus)"
   ]
  },
  {
   "cell_type": "code",
   "execution_count": null,
   "metadata": {},
   "outputs": [
    {
     "data": {
      "text/plain": [
       "(0.04825966850828729,\n",
       " 0.9744505128900312,\n",
       " 0.9757355470526499,\n",
       " 0.9744295772590493,\n",
       " 0.9744295772590493,\n",
       " array([[64509,     7],\n",
       "        [ 3494, 68906]], dtype=int64))"
      ]
     },
     "metadata": {},
     "output_type": "display_data"
    }
   ],
   "source": [
    "evaluate_detection(corr5C125, xbasic, ybasic)"
   ]
  },
  {
   "cell_type": "code",
   "execution_count": null,
   "metadata": {},
   "outputs": [
    {
     "data": {
      "text/plain": [
       "(0.17731851899841275,\n",
       " 0.9007852290323695,\n",
       " 0.9189210677814361,\n",
       " 0.9005667369032915,\n",
       " 0.9005667369032915,\n",
       " array([[24181,     0],\n",
       "        [ 5474, 25397]], dtype=int64))"
      ]
     },
     "metadata": {},
     "output_type": "display_data"
    }
   ],
   "source": [
    "evaluate_detection(corr5C125, xplus, yplus)"
   ]
  },
  {
   "cell_type": "code",
   "execution_count": null,
   "metadata": {},
   "outputs": [
    {
     "data": {
      "text/plain": [
       "(0.015455801104972376,\n",
       " 0.9900774749113563,\n",
       " 0.9901625178749895,\n",
       " 0.9900742060825616,\n",
       " 0.9900742060825616,\n",
       " array([[64276,   240],\n",
       "        [ 1119, 71281]], dtype=int64))"
      ]
     },
     "metadata": {},
     "output_type": "display_data"
    }
   ],
   "source": [
    "evaluate_detection(corr5C35, xbasic, ybasic)"
   ]
  },
  {
   "cell_type": "code",
   "execution_count": null,
   "metadata": {},
   "outputs": [
    {
     "data": {
      "text/plain": [
       "(0.017135823264552492,\n",
       " 0.9469688561753138,\n",
       " 0.9488898335585798,\n",
       " 0.9472498728474896,\n",
       " 0.9472498728474896,\n",
       " array([[21806,  2375],\n",
       "        [  529, 30342]], dtype=int64))"
      ]
     },
     "metadata": {},
     "output_type": "display_data"
    }
   ],
   "source": [
    "evaluate_detection(corr5C35, xplus, yplus)"
   ]
  },
  {
   "cell_type": "code",
   "execution_count": null,
   "metadata": {},
   "outputs": [
    {
     "data": {
      "text/plain": [
       "(0.015469613259668509,\n",
       " 0.9902162674857102,\n",
       " 0.9903052955349512,\n",
       " 0.9902129772999503,\n",
       " 0.9902129772999503,\n",
       " array([[64296,   220],\n",
       "        [ 1120, 71280]], dtype=int64))"
      ]
     },
     "metadata": {},
     "output_type": "display_data"
    }
   ],
   "source": [
    "evaluate_detection(corr5C310, xbasic, ybasic)"
   ]
  },
  {
   "cell_type": "code",
   "execution_count": null,
   "metadata": {},
   "outputs": [
    {
     "data": {
      "text/plain": [
       "(0.017103430403938972,\n",
       " 0.9476694014296102,\n",
       " 0.9495162369660378,\n",
       " 0.9479401293322677,\n",
       " 0.9479401293322677,\n",
       " array([[21843,  2338],\n",
       "        [  528, 30343]], dtype=int64))"
      ]
     },
     "metadata": {},
     "output_type": "display_data"
    }
   ],
   "source": [
    "evaluate_detection(corr5C310, xplus, yplus)"
   ]
  },
  {
   "cell_type": "code",
   "execution_count": null,
   "metadata": {},
   "outputs": [
    {
     "data": {
      "text/plain": [
       "(0.01680939226519337,\n",
       " 0.9890627905095888,\n",
       " 0.9891592171717783,\n",
       " 0.9890589850711385,\n",
       " 0.9890589850711385,\n",
       " array([[64235,   281],\n",
       "        [ 1217, 71183]], dtype=int64))"
      ]
     },
     "metadata": {},
     "output_type": "display_data"
    }
   ],
   "source": [
    "evaluate_detection(corr5C325, xbasic, ybasic)"
   ]
  },
  {
   "cell_type": "code",
   "execution_count": null,
   "metadata": {},
   "outputs": [
    {
     "data": {
      "text/plain": [
       "(0.01694146610087137,\n",
       " 0.9472986746263102,\n",
       " 0.949208839513966,\n",
       " 0.9475768364455424,\n",
       " 0.9475768364455424,\n",
       " array([[21818,  2363],\n",
       "        [  523, 30348]], dtype=int64))"
      ]
     },
     "metadata": {},
     "output_type": "display_data"
    }
   ],
   "source": [
    "evaluate_detection(corr5C325, xplus, yplus)"
   ]
  },
  {
   "cell_type": "markdown",
   "metadata": {},
   "source": [
    "#### krum"
   ]
  },
  {
   "cell_type": "code",
   "execution_count": 33,
   "metadata": {},
   "outputs": [],
   "source": [
    "corr5b5 = models.load_model('C:/Users/UX430/Documents/thesis/code/models/idcorr55Bkrum.hdf5')\n",
    "corr5c15 = models.load_model('C:/Users/UX430/Documents/thesis/code/models/idcorr55C1krum.hdf5')"
   ]
  },
  {
   "cell_type": "code",
   "execution_count": 35,
   "metadata": {},
   "outputs": [
    {
     "data": {
      "text/plain": [
       "(0.005370719118365069,\n",
       " 0.9272726131216085,\n",
       " 0.9354248101334217,\n",
       " 0.9275994113092788,\n",
       " 0.9275994113092788,\n",
       " array([[61689,  9995],\n",
       "        [  385, 71300]], dtype=int64))"
      ]
     },
     "execution_count": 35,
     "metadata": {},
     "output_type": "execute_result"
    }
   ],
   "source": [
    "evaluate_detection(corr5B5, xcom, ycom)"
   ]
  },
  {
   "cell_type": "code",
   "execution_count": null,
   "metadata": {},
   "outputs": [
    {
     "data": {
      "text/plain": [
       "(0.004422124572783706,\n",
       " 0.9148313587498618,\n",
       " 0.9263479035262767,\n",
       " 0.9153791963395155,\n",
       " 0.9153791963395155,\n",
       " array([[59869, 11815],\n",
       "        [  317, 71368]], dtype=int64))"
      ]
     },
     "metadata": {},
     "output_type": "display_data"
    }
   ],
   "source": [
    "evaluate_detection(corr5B10, xcom, ycom)"
   ]
  },
  {
   "cell_type": "code",
   "execution_count": null,
   "metadata": {},
   "outputs": [
    {
     "data": {
      "text/plain": [
       "(0.005803166631791867,\n",
       " 0.9292708896736208,\n",
       " 0.9368656256740572,\n",
       " 0.9295663637187955,\n",
       " 0.9295663637187955,\n",
       " array([[62002,  9682],\n",
       "        [  416, 71269]], dtype=int64))"
      ]
     },
     "metadata": {},
     "output_type": "display_data"
    }
   ],
   "source": [
    "evaluate_detection(corr5B25, xcom, ycom)"
   ]
  },
  {
   "cell_type": "code",
   "execution_count": 36,
   "metadata": {},
   "outputs": [
    {
     "data": {
      "text/plain": [
       "(0.018372044360744924,\n",
       " 0.9907922158545586,\n",
       " 0.9909579520824148,\n",
       " 0.9907929887214112,\n",
       " 0.9907929887214112,\n",
       " array([[71681,     3],\n",
       "        [ 1317, 70368]], dtype=int64))"
      ]
     },
     "execution_count": 36,
     "metadata": {},
     "output_type": "execute_result"
    }
   ],
   "source": [
    "evaluate_detection(corr5C15, xcom, ycom)"
   ]
  },
  {
   "cell_type": "code",
   "execution_count": null,
   "metadata": {},
   "outputs": [
    {
     "data": {
      "text/plain": [
       "(0.01887424147311153,\n",
       " 0.9900249482572724,\n",
       " 0.9901810518164235,\n",
       " 0.9900257377815288,\n",
       " 0.9900257377815288,\n",
       " array([[71607,    77],\n",
       "        [ 1353, 70332]], dtype=int64))"
      ]
     },
     "metadata": {},
     "output_type": "display_data"
    }
   ],
   "source": [
    "evaluate_detection(corr5C110, xcom, ycom)"
   ]
  },
  {
   "cell_type": "code",
   "execution_count": null,
   "metadata": {},
   "outputs": [
    {
     "data": {
      "text/plain": [
       "(0.038962125967775686,\n",
       " 0.9804626010679018,\n",
       " 0.9811968136566175,\n",
       " 0.9804699760757207,\n",
       " 0.9804699760757207,\n",
       " array([[71677,     7],\n",
       "        [ 2793, 68892]], dtype=int64))"
      ]
     },
     "metadata": {},
     "output_type": "display_data"
    }
   ],
   "source": [
    "evaluate_detection(corr5C125, xcom, ycom)"
   ]
  },
  {
   "cell_type": "code",
   "execution_count": null,
   "metadata": {},
   "outputs": [
    {
     "data": {
      "text/plain": [
       "(0.015498360884424914,\n",
       " 0.9600442159177495,\n",
       " 0.9611693239843311,\n",
       " 0.9600680760833932,\n",
       " 0.9600680760833932,\n",
       " array([[67070,  4614],\n",
       "        [ 1111, 70574]], dtype=int64))"
      ]
     },
     "metadata": {},
     "output_type": "display_data"
    }
   ],
   "source": [
    "evaluate_detection(corr5C35, xcom, ycom)"
   ]
  },
  {
   "cell_type": "code",
   "execution_count": null,
   "metadata": {},
   "outputs": [
    {
     "data": {
      "text/plain": [
       "(0.015484410964636954,\n",
       " 0.984055127037257,\n",
       " 0.9840555406944596,\n",
       " 0.9840551304675348,\n",
       " 0.9840551304675348,\n",
       " array([[70508,  1176],\n",
       "        [ 1110, 70575]], dtype=int64))"
      ]
     },
     "metadata": {},
     "output_type": "display_data"
    }
   ],
   "source": [
    "evaluate_detection(corr5C310, xcom, ycom)"
   ]
  },
  {
   "cell_type": "code",
   "execution_count": null,
   "metadata": {},
   "outputs": [
    {
     "data": {
      "text/plain": [
       "(0.01648880518937016,\n",
       " 0.983008874841105,\n",
       " 0.9830093663372428,\n",
       " 0.983008879185877,\n",
       " 0.983008879185877,\n",
       " array([[70430,  1254],\n",
       "        [ 1182, 70503]], dtype=int64))"
      ]
     },
     "metadata": {},
     "output_type": "display_data"
    }
   ],
   "source": [
    "evaluate_detection(corr5C325, xcom, ycom)"
   ]
  },
  {
   "cell_type": "code",
   "execution_count": 8,
   "metadata": {},
   "outputs": [
    {
     "data": {
      "text/plain": [
       "(0.002679558011049724,\n",
       " 0.9449435130368761,\n",
       " 0.9498496010451459,\n",
       " 0.9452584066142744,\n",
       " 0.9452584066142744,\n",
       " array([[57215,  7301],\n",
       "        [  194, 72206]], dtype=int64))"
      ]
     },
     "execution_count": 8,
     "metadata": {},
     "output_type": "execute_result"
    }
   ],
   "source": [
    "evaluate_detection(corr5b5, xbasic, ybasic)"
   ]
  },
  {
   "cell_type": "code",
   "execution_count": 9,
   "metadata": {},
   "outputs": [
    {
     "data": {
      "text/plain": [
       "(0.010689644002461857,\n",
       " 0.7826309359104554,\n",
       " 0.8419750922243834,\n",
       " 0.7962108551914554,\n",
       " 0.7962108551914554,\n",
       " array([[13292, 10889],\n",
       "        [  330, 30541]], dtype=int64))"
      ]
     },
     "execution_count": 9,
     "metadata": {},
     "output_type": "execute_result"
    }
   ],
   "source": [
    "evaluate_detection(corr5b5, xplus, yplus)"
   ]
  },
  {
   "cell_type": "code",
   "execution_count": 17,
   "metadata": {},
   "outputs": [
    {
     "data": {
      "text/plain": [
       "(0.018107734806629833,\n",
       " 0.9903634698516782,\n",
       " 0.9905472636848005,\n",
       " 0.9903590522656227,\n",
       " 0.9903590522656227,\n",
       " array([[64507,     9],\n",
       "        [ 1311, 71089]], dtype=int64))"
      ]
     },
     "execution_count": 17,
     "metadata": {},
     "output_type": "execute_result"
    }
   ],
   "source": [
    "evaluate_detection(corr5c15, xbasic, ybasic)"
   ]
  },
  {
   "cell_type": "code",
   "execution_count": 18,
   "metadata": {},
   "outputs": [
    {
     "data": {
      "text/plain": [
       "(0.020601859350199217,\n",
       " 0.9806997341844538,\n",
       " 0.9807371103277795,\n",
       " 0.9806909830705515,\n",
       " 0.9806909830705515,\n",
       " array([[23754,   427],\n",
       "        [  636, 30235]], dtype=int64))"
      ]
     },
     "execution_count": 18,
     "metadata": {},
     "output_type": "execute_result"
    }
   ],
   "source": [
    "evaluate_detection(corr5c15, xplus, yplus)"
   ]
  },
  {
   "cell_type": "markdown",
   "metadata": {},
   "source": [
    "#### geo"
   ]
  },
  {
   "cell_type": "code",
   "execution_count": 37,
   "metadata": {},
   "outputs": [],
   "source": [
    "corr5b5 = models.load_model('C:/Users/UX430/Documents/thesis/code/models/idcorr55Bgeo.hdf5')\n",
    "corr5c15 = models.load_model('C:/Users/UX430/Documents/thesis/code/models/idcorr55C1geo.hdf5')"
   ]
  },
  {
   "cell_type": "code",
   "execution_count": 38,
   "metadata": {},
   "outputs": [
    {
     "data": {
      "text/plain": [
       "(0.004463974332147591,\n",
       " 0.9251326689973141,\n",
       " 0.9340153451376743,\n",
       " 0.9254999337374188,\n",
       " 0.9254999337374188,\n",
       " array([[61323, 10361],\n",
       "        [  320, 71365]], dtype=int64))"
      ]
     },
     "execution_count": 38,
     "metadata": {},
     "output_type": "execute_result"
    }
   ],
   "source": [
    "evaluate_detection(corr5b5, xcom, ycom)"
   ]
  },
  {
   "cell_type": "code",
   "execution_count": 45,
   "metadata": {},
   "outputs": [
    {
     "data": {
      "text/plain": [
       "(0.011143144051051148,\n",
       " 0.8002756404314799,\n",
       " 0.8506515144349549,\n",
       " 0.8111603574802005,\n",
       " 0.8111603574802005,\n",
       " array([[14129, 10052],\n",
       "        [  344, 30527]], dtype=int64))"
      ]
     },
     "execution_count": 45,
     "metadata": {},
     "output_type": "execute_result"
    }
   ],
   "source": [
    "evaluate_detection(corr5b5, xplus, yplus)"
   ]
  },
  {
   "cell_type": "code",
   "execution_count": 39,
   "metadata": {},
   "outputs": [
    {
     "data": {
      "text/plain": [
       "(0.030731673292878566,\n",
       " 0.9845816153937013,\n",
       " 0.9850404235586885,\n",
       " 0.9845852311169081,\n",
       " 0.9845852311169081,\n",
       " array([[71677,     7],\n",
       "        [ 2203, 69482]], dtype=int64))"
      ]
     },
     "execution_count": 39,
     "metadata": {},
     "output_type": "execute_result"
    }
   ],
   "source": [
    "evaluate_detection(corr5c15, xcom, ycom)"
   ]
  },
  {
   "cell_type": "code",
   "execution_count": 21,
   "metadata": {},
   "outputs": [
    {
     "data": {
      "text/plain": [
       "(0.13922451491691232,\n",
       " 0.9221756408354781,\n",
       " 0.9336873622329488,\n",
       " 0.9219101939984015,\n",
       " 0.9219101939984015,\n",
       " array([[24180,     1],\n",
       "        [ 4298, 26573]], dtype=int64))"
      ]
     },
     "execution_count": 21,
     "metadata": {},
     "output_type": "execute_result"
    }
   ],
   "source": [
    "evaluate_detection(corr5c15, xplus, yplus)"
   ]
  },
  {
   "cell_type": "markdown",
   "metadata": {},
   "source": [
    "#### Corr 5A"
   ]
  },
  {
   "cell_type": "code",
   "execution_count": 6,
   "metadata": {},
   "outputs": [],
   "source": [
    "a5 = models.load_model('C:/Users/UX430/Documents/thesis/code/models/idcorr55Aavg.hdf5')\n",
    "a10 = models.load_model('C:/Users/UX430/Documents/thesis/code/models/idcorr105Aavg.hdf5')\n",
    "a25 = models.load_model('C:/Users/UX430/Documents/thesis/code/models/idcorr255Aavg.hdf5')\n",
    "t5 = models.load_model('C:/Users/UX430/Documents/thesis/code/models/idcorr55Atrim.hdf5')\n",
    "t10 = models.load_model('C:/Users/UX430/Documents/thesis/code/models/idcorr105Atrim.hdf5')\n",
    "t25 = models.load_model('C:/Users/UX430/Documents/thesis/code/models/idcorr255Atrim.hdf5')\n",
    "m5 = models.load_model('C:/Users/UX430/Documents/thesis/code/models/idcorr55Amed.hdf5')\n",
    "m10 = models.load_model('C:/Users/UX430/Documents/thesis/code/models/idcorr105Amed.hdf5')\n",
    "m25 = models.load_model('C:/Users/UX430/Documents/thesis/code/models/idcorr255Amed.hdf5')\n",
    "g5 = models.load_model('C:/Users/UX430/Documents/thesis/code/models/idcorr55Ageo.hdf5')\n",
    "g10 = models.load_model('C:/Users/UX430/Documents/thesis/code/models/idcorr105Ageo.hdf5')\n",
    "g25 = models.load_model('C:/Users/UX430/Documents/thesis/code/models/idcorr255Ageo.hdf5')\n",
    "k5 = models.load_model('C:/Users/UX430/Documents/thesis/code/models/idcorr55Akrum.hdf5')\n",
    "k10 = models.load_model('C:/Users/UX430/Documents/thesis/code/models/idcorr105Akrum.hdf5')\n",
    "k25 = models.load_model('C:/Users/UX430/Documents/thesis/code/models/idcorr255Akrum.hdf5')"
   ]
  },
  {
   "cell_type": "code",
   "execution_count": 8,
   "metadata": {},
   "outputs": [
    {
     "data": {
      "text/plain": [
       "(0.0048480662983425415,\n",
       " 0.9703233702758131,\n",
       " 0.9714401924272534,\n",
       " 0.9703833007099243,\n",
       " 0.9703833007099243,\n",
       " array([[60812,  3704],\n",
       "        [  351, 72049]], dtype=int64))"
      ]
     },
     "execution_count": 8,
     "metadata": {},
     "output_type": "execute_result"
    }
   ],
   "source": [
    "evaluate_detection(a5, xbasic, ybasic)"
   ]
  },
  {
   "cell_type": "code",
   "execution_count": 9,
   "metadata": {},
   "outputs": [
    {
     "data": {
      "text/plain": [
       "(0.010041786790191442,\n",
       " 0.7792450382246261,\n",
       " 0.8408396545166887,\n",
       " 0.7934498292523432,\n",
       " 0.7934498292523432,\n",
       " array([[13120, 11061],\n",
       "        [  310, 30561]], dtype=int64))"
      ]
     },
     "execution_count": 9,
     "metadata": {},
     "output_type": "execute_result"
    }
   ],
   "source": [
    "evaluate_detection(a5, xplus, yplus)"
   ]
  },
  {
   "cell_type": "code",
   "execution_count": 10,
   "metadata": {},
   "outputs": [
    {
     "data": {
      "text/plain": [
       "(0.005747366952640023,\n",
       " 0.9439542896745875,\n",
       " 0.9486096385822101,\n",
       " 0.9440953065167504,\n",
       " 0.9440953065167504,\n",
       " array([[64081,  7603],\n",
       "        [  412, 71273]], dtype=int64))"
      ]
     },
     "execution_count": 10,
     "metadata": {},
     "output_type": "execute_result"
    }
   ],
   "source": [
    "evaluate_detection(a5, xcom, ycom)"
   ]
  },
  {
   "cell_type": "code",
   "execution_count": 11,
   "metadata": {},
   "outputs": [
    {
     "data": {
      "text/plain": [
       "(0.005552486187845304,\n",
       " 0.970509245722283,\n",
       " 0.9715416851376081,\n",
       " 0.9705658944170148,\n",
       " 0.9705658944170148,\n",
       " array([[60888,  3628],\n",
       "        [  402, 71998]], dtype=int64))"
      ]
     },
     "execution_count": 11,
     "metadata": {},
     "output_type": "execute_result"
    }
   ],
   "source": [
    "evaluate_detection(a10, xbasic, ybasic)"
   ]
  },
  {
   "cell_type": "code",
   "execution_count": 12,
   "metadata": {},
   "outputs": [
    {
     "data": {
      "text/plain": [
       "(0.00955589388098863,\n",
       " 0.7212779894909753,\n",
       " 0.8151147441726448,\n",
       " 0.7469846690401802,\n",
       " 0.7469846690401802,\n",
       " array([[10547, 13634],\n",
       "        [  295, 30576]], dtype=int64))"
      ]
     },
     "execution_count": 12,
     "metadata": {},
     "output_type": "execute_result"
    }
   ],
   "source": [
    "evaluate_detection(a10, xplus, yplus)"
   ]
  },
  {
   "cell_type": "code",
   "execution_count": 13,
   "metadata": {},
   "outputs": [
    {
     "data": {
      "text/plain": [
       "(0.006542512380553812,\n",
       " 0.945814327597907,\n",
       " 0.9500014879158338,\n",
       " 0.9459367087724683,\n",
       " 0.9459367087724683,\n",
       " array([[64402,  7282],\n",
       "        [  469, 71216]], dtype=int64))"
      ]
     },
     "execution_count": 13,
     "metadata": {},
     "output_type": "execute_result"
    }
   ],
   "source": [
    "evaluate_detection(a10, xcom, ycom)"
   ]
  },
  {
   "cell_type": "code",
   "execution_count": 14,
   "metadata": {},
   "outputs": [
    {
     "data": {
      "text/plain": [
       "(0.0032596685082872928,\n",
       " 0.966386723597014,\n",
       " 0.9680696941098779,\n",
       " 0.9664757953781881,\n",
       " 0.9664757953781881,\n",
       " array([[60162,  4354],\n",
       "        [  236, 72164]], dtype=int64))"
      ]
     },
     "execution_count": 14,
     "metadata": {},
     "output_type": "execute_result"
    }
   ],
   "source": [
    "evaluate_detection(a25, xbasic, ybasic)"
   ]
  },
  {
   "cell_type": "code",
   "execution_count": 15,
   "metadata": {},
   "outputs": [
    {
     "data": {
      "text/plain": [
       "(0.012665608499886625,\n",
       " 0.6955668634465182,\n",
       " 0.8007693349375912,\n",
       " 0.7269853956259537,\n",
       " 0.7269853956259537,\n",
       " array([[ 9542, 14639],\n",
       "        [  391, 30480]], dtype=int64))"
      ]
     },
     "execution_count": 15,
     "metadata": {},
     "output_type": "execute_result"
    }
   ],
   "source": [
    "evaluate_detection(a25, xplus, yplus)"
   ]
  },
  {
   "cell_type": "code",
   "execution_count": 16,
   "metadata": {},
   "outputs": [
    {
     "data": {
      "text/plain": [
       "(0.0038362279416893352,\n",
       " 0.9359552270460666,\n",
       " 0.9425537261473779,\n",
       " 0.9361856468274173,\n",
       " 0.9361856468274173,\n",
       " array([[62810,  8874],\n",
       "        [  275, 71410]], dtype=int64))"
      ]
     },
     "execution_count": 16,
     "metadata": {},
     "output_type": "execute_result"
    }
   ],
   "source": [
    "evaluate_detection(a25, xcom, ycom)"
   ]
  },
  {
   "cell_type": "code",
   "execution_count": 17,
   "metadata": {},
   "outputs": [
    {
     "data": {
      "text/plain": [
       "(0.007334254143646409,\n",
       " 0.9728185377982685,\n",
       " 0.9735154730730012,\n",
       " 0.9728592713780713,\n",
       " 0.9728592713780713,\n",
       " array([[61331,  3185],\n",
       "        [  531, 71869]], dtype=int64))"
      ]
     },
     "execution_count": 17,
     "metadata": {},
     "output_type": "execute_result"
    }
   ],
   "source": [
    "evaluate_detection(t5, xbasic, ybasic)"
   ]
  },
  {
   "cell_type": "code",
   "execution_count": 18,
   "metadata": {},
   "outputs": [
    {
     "data": {
      "text/plain": [
       "(0.012406465614978459,\n",
       " 0.8206576736913368,\n",
       " 0.8608948198651091,\n",
       " 0.8287982271307128,\n",
       " 0.8287982271307128,\n",
       " array([[15139,  9042],\n",
       "        [  383, 30488]], dtype=int64))"
      ]
     },
     "execution_count": 18,
     "metadata": {},
     "output_type": "execute_result"
    }
   ],
   "source": [
    "evaluate_detection(t5, xplus, yplus)"
   ]
  },
  {
   "cell_type": "code",
   "execution_count": 19,
   "metadata": {},
   "outputs": [
    {
     "data": {
      "text/plain": [
       "(0.008049103717653624,\n",
       " 0.9551809612066414,\n",
       " 0.957708554847883,\n",
       " 0.9552413701706784,\n",
       " 0.9552413701706784,\n",
       " array([[65844,  5840],\n",
       "        [  577, 71108]], dtype=int64))"
      ]
     },
     "execution_count": 19,
     "metadata": {},
     "output_type": "execute_result"
    }
   ],
   "source": [
    "evaluate_detection(t5, xcom, ycom)"
   ]
  },
  {
   "cell_type": "code",
   "execution_count": 20,
   "metadata": {},
   "outputs": [
    {
     "data": {
      "text/plain": [
       "(0.004654696132596685,\n",
       " 0.9699702812954014,\n",
       " 0.9711383790561191,\n",
       " 0.9700327207923106,\n",
       " 0.9700327207923106,\n",
       " array([[60750,  3766],\n",
       "        [  337, 72063]], dtype=int64))"
      ]
     },
     "execution_count": 20,
     "metadata": {},
     "output_type": "execute_result"
    }
   ],
   "source": [
    "evaluate_detection(t10, xbasic, ybasic)"
   ]
  },
  {
   "cell_type": "code",
   "execution_count": 21,
   "metadata": {},
   "outputs": [
    {
     "data": {
      "text/plain": [
       "(0.01078682258430242,\n",
       " 0.7937612346782192,\n",
       " 0.8475302701275563,\n",
       " 0.80562014095764,\n",
       " 0.80562014095764,\n",
       " array([[13813, 10368],\n",
       "        [  333, 30538]], dtype=int64))"
      ]
     },
     "execution_count": 21,
     "metadata": {},
     "output_type": "execute_result"
    }
   ],
   "source": [
    "evaluate_detection(t10, xplus, yplus)"
   ]
  },
  {
   "cell_type": "code",
   "execution_count": 22,
   "metadata": {},
   "outputs": [
    {
     "data": {
      "text/plain": [
       "(0.005552068075608565,\n",
       " 0.9428559732809739,\n",
       " 0.9477463773341135,\n",
       " 0.9430072051838263,\n",
       " 0.9430072051838263,\n",
       " array([[63911,  7773],\n",
       "        [  398, 71287]], dtype=int64))"
      ]
     },
     "execution_count": 22,
     "metadata": {},
     "output_type": "execute_result"
    }
   ],
   "source": [
    "evaluate_detection(t10, xcom, ycom)"
   ]
  },
  {
   "cell_type": "code",
   "execution_count": 23,
   "metadata": {},
   "outputs": [
    {
     "data": {
      "text/plain": [
       "(0.0027071823204419887,\n",
       " 0.9664137908651006,\n",
       " 0.968161154710334,\n",
       " 0.9665050103713225,\n",
       " 0.9665050103713225,\n",
       " array([[60126,  4390],\n",
       "        [  196, 72204]], dtype=int64))"
      ]
     },
     "execution_count": 23,
     "metadata": {},
     "output_type": "execute_result"
    }
   ],
   "source": [
    "evaluate_detection(t25, xbasic, ybasic)"
   ]
  },
  {
   "cell_type": "code",
   "execution_count": 24,
   "metadata": {},
   "outputs": [
    {
     "data": {
      "text/plain": [
       "(0.005118071976936283,\n",
       " 0.6358010262225898,\n",
       " 0.7898784531411435,\n",
       " 0.6865508973334302,\n",
       " 0.6865508973334302,\n",
       " array([[ 7083, 17098],\n",
       "        [  158, 30713]], dtype=int64))"
      ]
     },
     "execution_count": 24,
     "metadata": {},
     "output_type": "execute_result"
    }
   ],
   "source": [
    "evaluate_detection(t25, xplus, yplus)"
   ]
  },
  {
   "cell_type": "code",
   "execution_count": 25,
   "metadata": {},
   "outputs": [
    {
     "data": {
      "text/plain": [
       "(0.003236381390807003,\n",
       " 0.9330635225456002,\n",
       " 0.9404208801608436,\n",
       " 0.9333328683327637,\n",
       " 0.9333328683327637,\n",
       " array([[62358,  9326],\n",
       "        [  232, 71453]], dtype=int64))"
      ]
     },
     "execution_count": 25,
     "metadata": {},
     "output_type": "execute_result"
    }
   ],
   "source": [
    "evaluate_detection(t25, xcom, ycom)"
   ]
  },
  {
   "cell_type": "code",
   "execution_count": 26,
   "metadata": {},
   "outputs": [
    {
     "data": {
      "text/plain": [
       "(0.0077486187845303865,\n",
       " 0.9747699338127015,\n",
       " 0.9753060270434274,\n",
       " 0.974802068421514,\n",
       " 0.974802068421514,\n",
       " array([[61627,  2889],\n",
       "        [  561, 71839]], dtype=int64))"
      ]
     },
     "execution_count": 26,
     "metadata": {},
     "output_type": "execute_result"
    }
   ],
   "source": [
    "evaluate_detection(m5, xbasic, ybasic)"
   ]
  },
  {
   "cell_type": "code",
   "execution_count": 27,
   "metadata": {},
   "outputs": [
    {
     "data": {
      "text/plain": [
       "(0.010851608305529462,\n",
       " 0.7811387610664655,\n",
       " 0.841100703673347,\n",
       " 0.7949393300879168,\n",
       " 0.7949393300879168,\n",
       " array([[13227, 10954],\n",
       "        [  335, 30536]], dtype=int64))"
      ]
     },
     "execution_count": 27,
     "metadata": {},
     "output_type": "execute_result"
    }
   ],
   "source": [
    "evaluate_detection(m5, xplus, yplus)"
   ]
  },
  {
   "cell_type": "code",
   "execution_count": 28,
   "metadata": {},
   "outputs": [
    {
     "data": {
      "text/plain": [
       "(0.00856525074980819,\n",
       " 0.9590557282592816,\n",
       " 0.9610267793958107,\n",
       " 0.9590985498957236,\n",
       " 0.9590985498957236,\n",
       " array([[66434,  5250],\n",
       "        [  614, 71071]], dtype=int64))"
      ]
     },
     "execution_count": 28,
     "metadata": {},
     "output_type": "execute_result"
    }
   ],
   "source": [
    "evaluate_detection(m5, xcom, ycom)"
   ]
  },
  {
   "cell_type": "code",
   "execution_count": 29,
   "metadata": {},
   "outputs": [
    {
     "data": {
      "text/plain": [
       "(0.007582872928176796,\n",
       " 0.9742197222524658,\n",
       " 0.9748025513826907,\n",
       " 0.9742542873002424,\n",
       " 0.9742542873002424,\n",
       " array([[61540,  2976],\n",
       "        [  549, 71851]], dtype=int64))"
      ]
     },
     "execution_count": 29,
     "metadata": {},
     "output_type": "execute_result"
    }
   ],
   "source": [
    "evaluate_detection(m10, xbasic, ybasic)"
   ]
  },
  {
   "cell_type": "code",
   "execution_count": 30,
   "metadata": {},
   "outputs": [
    {
     "data": {
      "text/plain": [
       "(0.012309287033137896,\n",
       " 0.8677772285101247,\n",
       " 0.8896848809784373,\n",
       " 0.8714669766765967,\n",
       " 0.8714669766765967,\n",
       " array([[17485,  6696],\n",
       "        [  380, 30491]], dtype=int64))"
      ]
     },
     "execution_count": 30,
     "metadata": {},
     "output_type": "execute_result"
    }
   ],
   "source": [
    "evaluate_detection(m10, xplus, yplus)"
   ]
  },
  {
   "cell_type": "code",
   "execution_count": 31,
   "metadata": {},
   "outputs": [
    {
     "data": {
      "text/plain": [
       "(0.008453651391504498,\n",
       " 0.9586493612877948,\n",
       " 0.9606827922425386,\n",
       " 0.9586939994001492,\n",
       " 0.9586939994001492,\n",
       " array([[66368,  5316],\n",
       "        [  606, 71079]], dtype=int64))"
      ]
     },
     "execution_count": 31,
     "metadata": {},
     "output_type": "execute_result"
    }
   ],
   "source": [
    "evaluate_detection(m10, xcom, ycom)"
   ]
  },
  {
   "cell_type": "code",
   "execution_count": 32,
   "metadata": {},
   "outputs": [
    {
     "data": {
      "text/plain": [
       "(0.007044198895027625,\n",
       " 0.972128241436249,\n",
       " 0.9728986964229371,\n",
       " 0.972172719039411,\n",
       " 0.972172719039411,\n",
       " array([[61216,  3300],\n",
       "        [  510, 71890]], dtype=int64))"
      ]
     },
     "execution_count": 32,
     "metadata": {},
     "output_type": "execute_result"
    }
   ],
   "source": [
    "evaluate_detection(m25, xbasic, ybasic)"
   ]
  },
  {
   "cell_type": "code",
   "execution_count": 33,
   "metadata": {},
   "outputs": [
    {
     "data": {
      "text/plain": [
       "(0.007644715104790904,\n",
       " 0.7132048262937432,\n",
       " 0.8140293191190128,\n",
       " 0.7411538182082394,\n",
       " 0.7411538182082394,\n",
       " array([[10167, 14014],\n",
       "        [  236, 30635]], dtype=int64))"
      ]
     },
     "execution_count": 33,
     "metadata": {},
     "output_type": "execute_result"
    }
   ],
   "source": [
    "evaluate_detection(m25, xplus, yplus)"
   ]
  },
  {
   "cell_type": "code",
   "execution_count": 34,
   "metadata": {},
   "outputs": [
    {
     "data": {
      "text/plain": [
       "(0.007714305642742554,\n",
       " 0.9528526132855153,\n",
       " 0.9557498489090596,\n",
       " 0.9529256673339425,\n",
       " 0.9529256673339425,\n",
       " array([[65488,  6196],\n",
       "        [  553, 71132]], dtype=int64))"
      ]
     },
     "execution_count": 34,
     "metadata": {},
     "output_type": "execute_result"
    }
   ],
   "source": [
    "evaluate_detection(m25, xcom, ycom)"
   ]
  },
  {
   "cell_type": "code",
   "execution_count": 35,
   "metadata": {},
   "outputs": [
    {
     "data": {
      "text/plain": [
       "(0.0054005524861878455,\n",
       " 0.9705968326335274,\n",
       " 0.971636109762449,\n",
       " 0.9706535393964183,\n",
       " 0.9706535393964183,\n",
       " array([[60889,  3627],\n",
       "        [  391, 72009]], dtype=int64))"
      ]
     },
     "execution_count": 35,
     "metadata": {},
     "output_type": "execute_result"
    }
   ],
   "source": [
    "evaluate_detection(k5, xbasic, ybasic)"
   ]
  },
  {
   "cell_type": "code",
   "execution_count": 36,
   "metadata": {},
   "outputs": [
    {
     "data": {
      "text/plain": [
       "(0.009847429626510317,\n",
       " 0.7332728705765952,\n",
       " 0.8198943188648957,\n",
       " 0.7562486376516748,\n",
       " 0.7562486376516748,\n",
       " array([[11066, 13115],\n",
       "        [  304, 30567]], dtype=int64))"
      ]
     },
     "execution_count": 36,
     "metadata": {},
     "output_type": "execute_result"
    }
   ],
   "source": [
    "evaluate_detection(k5, xplus, yplus)"
   ]
  },
  {
   "cell_type": "code",
   "execution_count": 37,
   "metadata": {},
   "outputs": [
    {
     "data": {
      "text/plain": [
       "(0.006584362139917695,\n",
       " 0.9464328404975225,\n",
       " 0.9505083504985741,\n",
       " 0.9465505095243741,\n",
       " 0.9465505095243741,\n",
       " array([[64493,  7191],\n",
       "        [  472, 71213]], dtype=int64))"
      ]
     },
     "execution_count": 37,
     "metadata": {},
     "output_type": "execute_result"
    }
   ],
   "source": [
    "evaluate_detection(k5, xcom, ycom)"
   ]
  },
  {
   "cell_type": "code",
   "execution_count": 38,
   "metadata": {},
   "outputs": [
    {
     "data": {
      "text/plain": [
       "(0.005497237569060774,\n",
       " 0.9714632203775988,\n",
       " 0.9724199668271004,\n",
       " 0.9715153816938853,\n",
       " 0.9715153816938853,\n",
       " array([[61014,  3502],\n",
       "        [  398, 72002]], dtype=int64))"
      ]
     },
     "execution_count": 38,
     "metadata": {},
     "output_type": "execute_result"
    }
   ],
   "source": [
    "evaluate_detection(k10, xbasic, ybasic)"
   ]
  },
  {
   "cell_type": "code",
   "execution_count": 39,
   "metadata": {},
   "outputs": [
    {
     "data": {
      "text/plain": [
       "(0.012276894172524375,\n",
       " 0.7895104623190683,\n",
       " 0.8441920596159352,\n",
       " 0.8018418949356971,\n",
       " 0.8018418949356971,\n",
       " array([[13651, 10530],\n",
       "        [  379, 30492]], dtype=int64))"
      ]
     },
     "execution_count": 39,
     "metadata": {},
     "output_type": "execute_result"
    }
   ],
   "source": [
    "evaluate_detection(k10, xplus, yplus)"
   ]
  },
  {
   "cell_type": "code",
   "execution_count": 40,
   "metadata": {},
   "outputs": [
    {
     "data": {
      "text/plain": [
       "(0.006389063262886238,\n",
       " 0.9469236221182135,\n",
       " 0.9509511168196567,\n",
       " 0.9470387601224811,\n",
       " 0.9470387601224811,\n",
       " array([[64549,  7135],\n",
       "        [  458, 71227]], dtype=int64))"
      ]
     },
     "execution_count": 40,
     "metadata": {},
     "output_type": "execute_result"
    }
   ],
   "source": [
    "evaluate_detection(k10, xcom, ycom)"
   ]
  },
  {
   "cell_type": "code",
   "execution_count": 41,
   "metadata": {},
   "outputs": [
    {
     "data": {
      "text/plain": [
       "(0.005994475138121547,\n",
       " 0.9726827033508688,\n",
       " 0.973498221066896,\n",
       " 0.9727278039089661,\n",
       " 0.9727278039089661,\n",
       " array([[61216,  3300],\n",
       "        [  434, 71966]], dtype=int64))"
      ]
     },
     "execution_count": 41,
     "metadata": {},
     "output_type": "execute_result"
    }
   ],
   "source": [
    "evaluate_detection(k25, xbasic, ybasic)"
   ]
  },
  {
   "cell_type": "code",
   "execution_count": 42,
   "metadata": {},
   "outputs": [
    {
     "data": {
      "text/plain": [
       "(0.01156425123902692,\n",
       " 0.8393311537717432,\n",
       " 0.8722525917485232,\n",
       " 0.8455096999200755,\n",
       " 0.8455096999200755,\n",
       " array([[16033,  8148],\n",
       "        [  357, 30514]], dtype=int64))"
      ]
     },
     "execution_count": 42,
     "metadata": {},
     "output_type": "execute_result"
    }
   ],
   "source": [
    "evaluate_detection(k25, xplus, yplus)"
   ]
  },
  {
   "cell_type": "code",
   "execution_count": 43,
   "metadata": {},
   "outputs": [
    {
     "data": {
      "text/plain": [
       "(0.006933110134616726,\n",
       " 0.9516573367734337,\n",
       " 0.9548472530292678,\n",
       " 0.951739915881397,\n",
       " 0.951739915881397,\n",
       " array([[65262,  6422],\n",
       "        [  497, 71188]], dtype=int64))"
      ]
     },
     "execution_count": 43,
     "metadata": {},
     "output_type": "execute_result"
    }
   ],
   "source": [
    "evaluate_detection(k25, xcom, ycom)"
   ]
  },
  {
   "cell_type": "code",
   "execution_count": 44,
   "metadata": {},
   "outputs": [
    {
     "data": {
      "text/plain": [
       "(0.005552486187845304,\n",
       " 0.9727401086043492,\n",
       " 0.9735887599953557,\n",
       " 0.972786233895235,\n",
       " 0.972786233895235,\n",
       " array([[61192,  3324],\n",
       "        [  402, 71998]], dtype=int64))"
      ]
     },
     "execution_count": 44,
     "metadata": {},
     "output_type": "execute_result"
    }
   ],
   "source": [
    "evaluate_detection(g5, xbasic, ybasic)"
   ]
  },
  {
   "cell_type": "code",
   "execution_count": 45,
   "metadata": {},
   "outputs": [
    {
     "data": {
      "text/plain": [
       "(0.01541900165203589,\n",
       " 0.7360250499662067,\n",
       " 0.8154317890204095,\n",
       " 0.7575383273995495,\n",
       " 0.7575383273995495,\n",
       " array([[11309, 12872],\n",
       "        [  476, 30395]], dtype=int64))"
      ]
     },
     "execution_count": 45,
     "metadata": {},
     "output_type": "execute_result"
    }
   ],
   "source": [
    "evaluate_detection(g5, xplus, yplus)"
   ]
  },
  {
   "cell_type": "code",
   "execution_count": 46,
   "metadata": {},
   "outputs": [
    {
     "data": {
      "text/plain": [
       "(0.006082165027551091,\n",
       " 0.9483268441316042,\n",
       " 0.9521755718178555,\n",
       " 0.9484337618313582,\n",
       " 0.9484337618313582,\n",
       " array([[64727,  6957],\n",
       "        [  436, 71249]], dtype=int64))"
      ]
     },
     "execution_count": 46,
     "metadata": {},
     "output_type": "execute_result"
    }
   ],
   "source": [
    "evaluate_detection(g5, xcom, ycom)"
   ]
  },
  {
   "cell_type": "code",
   "execution_count": 47,
   "metadata": {},
   "outputs": [
    {
     "data": {
      "text/plain": [
       "(0.00574585635359116,\n",
       " 0.971691480828758,\n",
       " 0.9726070256090559,\n",
       " 0.9717417978906775,\n",
       " 0.9717417978906775,\n",
       " array([[61063,  3453],\n",
       "        [  416, 71984]], dtype=int64))"
      ]
     },
     "execution_count": 47,
     "metadata": {},
     "output_type": "execute_result"
    }
   ],
   "source": [
    "evaluate_detection(g10, xbasic, ybasic)"
   ]
  },
  {
   "cell_type": "code",
   "execution_count": 48,
   "metadata": {},
   "outputs": [
    {
     "data": {
      "text/plain": [
       "(0.011952965566389168,\n",
       " 0.8248670942131826,\n",
       " 0.8635768653781645,\n",
       " 0.8325583085083194,\n",
       " 0.8325583085083194,\n",
       " array([[15332,  8849],\n",
       "        [  369, 30502]], dtype=int64))"
      ]
     },
     "execution_count": 48,
     "metadata": {},
     "output_type": "execute_result"
    }
   ],
   "source": [
    "evaluate_detection(g10, xplus, yplus)"
   ]
  },
  {
   "cell_type": "code",
   "execution_count": 49,
   "metadata": {},
   "outputs": [
    {
     "data": {
      "text/plain": [
       "(0.006668061658645463,\n",
       " 0.9490948511865016,\n",
       " 0.9527218917313103,\n",
       " 0.9491940377626963,\n",
       " 0.9491940377626963,\n",
       " array([[64878,  6806],\n",
       "        [  478, 71207]], dtype=int64))"
      ]
     },
     "execution_count": 49,
     "metadata": {},
     "output_type": "execute_result"
    }
   ],
   "source": [
    "evaluate_detection(g10, xcom, ycom)"
   ]
  },
  {
   "cell_type": "code",
   "execution_count": 50,
   "metadata": {},
   "outputs": [
    {
     "data": {
      "text/plain": [
       "(0.008370165745856353,\n",
       " 0.9758194239809572,\n",
       " 0.9762527430319973,\n",
       " 0.9758465044260715,\n",
       " 0.9758465044260715,\n",
       " array([[61815,  2701],\n",
       "        [  606, 71794]], dtype=int64))"
      ]
     },
     "execution_count": 50,
     "metadata": {},
     "output_type": "execute_result"
    }
   ],
   "source": [
    "evaluate_detection(g25, xbasic, ybasic)"
   ]
  },
  {
   "cell_type": "code",
   "execution_count": 51,
   "metadata": {},
   "outputs": [
    {
     "data": {
      "text/plain": [
       "(0.012568429918046062,\n",
       " 0.8385634886002252,\n",
       " 0.8712136934730742,\n",
       " 0.8447467848579525,\n",
       " 0.8447467848579525,\n",
       " array([[16022,  8159],\n",
       "        [  388, 30483]], dtype=int64))"
      ]
     },
     "execution_count": 51,
     "metadata": {},
     "output_type": "execute_result"
    }
   ],
   "source": [
    "evaluate_detection(g25, xplus, yplus)"
   ]
  },
  {
   "cell_type": "code",
   "execution_count": 52,
   "metadata": {},
   "outputs": [
    {
     "data": {
      "text/plain": [
       "(0.008927948664295181,\n",
       " 0.9623737746860572,\n",
       " 0.9639297445494767,\n",
       " 0.9624047039457624,\n",
       " 0.9624047039457624,\n",
       " array([[66934,  4750],\n",
       "        [  640, 71045]], dtype=int64))"
      ]
     },
     "execution_count": 52,
     "metadata": {},
     "output_type": "execute_result"
    }
   ],
   "source": [
    "evaluate_detection(g25, xcom, ycom)"
   ]
  }
 ],
 "metadata": {
  "kernelspec": {
   "display_name": "base",
   "language": "python",
   "name": "python3"
  },
  "language_info": {
   "codemirror_mode": {
    "name": "ipython",
    "version": 3
   },
   "file_extension": ".py",
   "mimetype": "text/x-python",
   "name": "python",
   "nbconvert_exporter": "python",
   "pygments_lexer": "ipython3",
   "version": "3.8.12"
  }
 },
 "nbformat": 4,
 "nbformat_minor": 2
}
