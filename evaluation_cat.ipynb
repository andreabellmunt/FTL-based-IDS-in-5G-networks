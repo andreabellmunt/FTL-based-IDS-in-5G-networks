{
 "cells": [
  {
   "cell_type": "code",
   "execution_count": 1,
   "metadata": {},
   "outputs": [],
   "source": [
    "# Imports\n",
    "import tensorflow as tf\n",
    "import numpy as np\n",
    "from tensorflow import keras\n",
    "import matplotlib.pyplot as plt\n",
    "import pandas as pd\n",
    "import seaborn as sns\n",
    "import sys\n",
    "\n",
    "from tensorflow.keras import datasets, layers, models\n",
    "from tensorflow.keras.callbacks import EarlyStopping\n",
    "from tensorflow.keras.layers import Dense, BatchNormalization\n",
    "from sklearn.preprocessing import StandardScaler\n",
    "from sklearn.model_selection import train_test_split\n",
    "from sklearn.metrics import confusion_matrix, classification_report\n",
    "\n",
    "# Disable warns\n",
    "pd.options.mode.chained_assignment = None  # default='warn'"
   ]
  },
  {
   "cell_type": "code",
   "execution_count": 2,
   "metadata": {},
   "outputs": [],
   "source": [
    "# Load training datasets and testing datasets \n",
    "test_cat = pd.read_csv('C:/Users/UX430/Documents/thesis/datasets/UNSW-NB15/UNSW-NB15-Test-Categories.csv')\n",
    "test_cat_eq = pd.read_csv('C:/Users/UX430/Documents/thesis/datasets/UNSW-NB15/UNSW-NB15-Test-Categories_Eq.csv')\n"
   ]
  },
  {
   "cell_type": "markdown",
   "metadata": {},
   "source": [
    "## Evaluate models that predict the categories of the attacks: "
   ]
  },
  {
   "cell_type": "code",
   "execution_count": 3,
   "metadata": {},
   "outputs": [],
   "source": [
    "# Preprocessing for test and training datasets (to be able to train and make predictions to evaluate)\n",
    "def preprocessing(data): \n",
    "\n",
    "    # Select the 'proto' and 'state' values that I want\n",
    "    data = data.loc[(data['proto'] == 'tcp') | (data['proto'] =='udp') | (data['proto'] =='icmp') | (data['proto'] =='arp') | (data['proto'] =='ipv6-icmp') | (data['proto'] =='igmp') | (data['proto'] =='rarp'), :]\n",
    "    data = data.loc[(data['state'] == 'RST') | (data['state'] =='REQ') | (data['state'] =='INT') | (data['state'] =='FIN') | (data['state'] =='CON') | (data['state'] =='ECO') | (data['state'] =='ACC') | (data['state'] == 'PAR'), :]\n",
    "\n",
    "    # Creating categories dataframe\n",
    "    data_labels = pd.DataFrame()\n",
    "\n",
    "    # Drop the invalid features and select interested data features\n",
    "    data_features=data[['proto','srcip','sport','dstip','dsport','spkts','dpkts','sbytes','dbytes','state','stime','ltime','dur']]\n",
    "\n",
    "    \"\"\"PREPROCESSING\"\"\"\n",
    "\n",
    "\n",
    "    # Preprocess IP and ports features\n",
    "    # IP Source Address\n",
    "    data_features['srcip'] = data_features['srcip'].apply(lambda x: x.split(\".\")[-1])\n",
    "    data_features['srcip'] = data_features['srcip'].apply(lambda x: x.split(\":\")[-1])\n",
    "    data_features['srcip'] = data_features['srcip'].apply(lambda x: int(x, 16))\n",
    "\n",
    "\n",
    "    # IP Destination Address\n",
    "    data_features['dstip'] = data_features['dstip'].apply(lambda x: x.split(\".\")[-1])\n",
    "    data_features['dstip'] = data_features['dstip'].apply(lambda x: x.split(\":\")[-1])\n",
    "    data_features['dstip'] = data_features['dstip'].apply(lambda x: int(x, 16))\n",
    "\n",
    "    # Ports\n",
    "    data_features['sport'] = data_features['sport'].apply(lambda x: x.replace('0x','') if \"0x\" in str(x) else x)\n",
    "    data_features['dsport'] = data_features['dsport'].apply(lambda x: x.replace('0x','') if \"0x\" in str(x) else x)\n",
    "\n",
    "    # Convert all ports with 0 decimal, and HEX to DEC\n",
    "    data_features['sport'] = data_features['sport'].apply(lambda x: str(x)[:-2] if str(x)[-2:] == '.0' else str(x))\n",
    "    data_features['sport'] = data_features['sport'].apply(lambda x: -1 if str(x).isalpha()==True else int(x,16))\n",
    "\n",
    "    data_features['dsport'] = data_features['dsport'].apply(lambda x: str(x)[:-2] if str(x)[-2:] == '.0' else str(x))\n",
    "    data_features['dsport'] = data_features['dsport'].apply(lambda x: -1 if str(x).isalpha()==True else int(x,16))\n",
    "\n",
    "    # Convert field to int format\n",
    "    data_features['srcip'] = data_features['srcip'].astype(int)\n",
    "    data_features['sport'] = data_features['sport'].astype(int)\n",
    "    data_features['dstip'] = data_features['dstip'].astype(int)\n",
    "    data_features['dsport'] = data_features['dsport'].astype(int)\n",
    "\n",
    "    # Convert some fields to logarithmic\n",
    "    log1p_col = ['dur', 'sbytes', 'dbytes', 'spkts']\n",
    "\n",
    "    for col in log1p_col:\n",
    "        data_features[col] = data_features[col].apply(np.log1p)\n",
    "        \n",
    "    # Transform to One Hot Encoding the Categories - normal, dos, reconnaissance, generic, exploits, worms, fuzzers, analysis, backdoor, shellcode\n",
    "    data_labels.insert(0, 'dos', data['attack_cat'].replace('dos', 1).replace(['reconnaissance', 'generic', 'exploits'], 0))\n",
    "    data_labels.insert(1, 'reconnaissance', data['attack_cat'].replace('reconnaissance', 1).replace([ 'dos', 'generic', 'exploits'], 0))\n",
    "    data_labels.insert(2, 'generic', data['attack_cat'].replace('generic', 1).replace(['dos', 'reconnaissance', 'exploits'], 0))\n",
    "    data_labels.insert(3, 'exploits', data['attack_cat'].replace('exploits', 1).replace([ 'dos', 'reconnaissance', 'generic'], 0))\n",
    "\n",
    "    data_labels = pd.get_dummies(data_labels)\n",
    "\n",
    "    # Transform to One hot encoding - FEATURES\n",
    "    data_features=pd.get_dummies(data_features)\n",
    "\n",
    "    # Generate 2 new columns to fit with training\n",
    "    auxCol=data_features['sbytes']\n",
    "    auxCol=0\n",
    "\n",
    "      # As we are using different datasets that might not have all representations, we are going to detect and add the missing columns \n",
    "    # The columns that can have types are: proto and state: need to check if all representations are done \n",
    "    state_cols = [col for col in data_features if col.startswith('state_')]\n",
    "    proto_cols = [col for col in data_features if col.startswith('proto_')]\n",
    "    \n",
    "    # Check if all columns are present\n",
    "    if 'state_PAR' not in state_cols:\n",
    "        data_features.insert(data_features.shape[1], 'state_PAR', auxCol, True)\n",
    "    if 'state_ACC' not in state_cols: \n",
    "        data_features.insert(data_features.shape[1], 'state_ACC', auxCol, True)\n",
    "    if 'state_ECO' not in state_cols:\n",
    "        data_features.insert(data_features.shape[1], 'state_ECO', auxCol, True)\n",
    "    if 'state_CON' not in state_cols:\n",
    "        data_features.insert(data_features.shape[1], 'state_CON', auxCol, True)\n",
    "    if 'state_FIN' not in state_cols:\n",
    "        data_features.insert(data_features.shape[1], 'state_FIN', auxCol, True)\n",
    "    if 'state_INT' not in state_cols:\n",
    "        data_features.insert(data_features.shape[1], 'state_INT', auxCol, True)\n",
    "    if 'state_REQ' not in state_cols:\n",
    "        data_features.insert(data_features.shape[1], 'state_REQ', auxCol, True)\n",
    "    if 'state_RST' not in state_cols:\n",
    "        data_features.insert(data_features.shape[1], 'state_RST', auxCol, True)\n",
    "    if 'proto_igmp' not in proto_cols:\n",
    "        data_features.insert(data_features.shape[1], 'proto_igmp', auxCol, True)\n",
    "    if 'proto_arp' not in proto_cols:\n",
    "        data_features.insert(data_features.shape[1], 'proto_arp', auxCol, True)\n",
    "    if 'proto_icmp' not in proto_cols:\n",
    "        data_features.insert(data_features.shape[1], 'proto_icmp', auxCol, True)\n",
    "    if 'proto_udp' not in proto_cols:\n",
    "        data_features.insert(data_features.shape[1], 'proto_udp', auxCol, True)\n",
    "    if 'proto_tcp' not in proto_cols:\n",
    "        data_features.insert(data_features.shape[1], 'proto_tcp', auxCol, True)\n",
    "\n",
    "    # Normalize all data features\n",
    "    data_features = StandardScaler().fit_transform(data_features)\n",
    "\n",
    "    #Add dimension to data features\n",
    "    data_features = np.expand_dims(data_features, axis=2)\n",
    "    data_features = np.expand_dims(data_features, axis=3)\n",
    "\n",
    "    x = data_features\n",
    "    y = data_labels.to_numpy()\n",
    "\n",
    "    return x, y"
   ]
  },
  {
   "cell_type": "code",
   "execution_count": 4,
   "metadata": {},
   "outputs": [],
   "source": [
    "xcat, ycat = preprocessing(test_cat)\n",
    "xcat_eq, ycat_eq = preprocessing(test_cat_eq)\n"
   ]
  },
  {
   "cell_type": "code",
   "execution_count": 5,
   "metadata": {},
   "outputs": [],
   "source": [
    "# Evaluate models that predict category: FNR, F1, Precision, Recall, Accuracy, FP, FN, TP, TN\n",
    "def evaluate_cat(model, x, y): \n",
    "    y_pred = model.predict(x)\n",
    "    y_pred = np.argmax(y_pred, axis=1)\n",
    "    y_true = np.argmax(y, axis=1)\n",
    "\n",
    "    report = classification_report(y_true, y_pred, output_dict=True)\n",
    "    f1 = report['weighted avg']['f1-score']\n",
    "    precision = report['weighted avg']['precision']\n",
    "    recall = report['weighted avg']['recall']\n",
    "    accuracy = report['accuracy']\n",
    "\n",
    "    cat = set(y_pred)\n",
    "    true_cat = set(y_true)\n",
    "\n",
    "    conf_matrix = confusion_matrix(y_true, y_pred)\n",
    "    return \"f1: \"+str('%.3f'%f1), \"precision: \"+str('%.3f'%precision), \"recall: \"+str('%.3f'%recall), \"accuracy: \"+str('%.3f'%accuracy), \"true categories: \"+str(true_cat), \"predicted categories: \"+str(cat), conf_matrix\n",
    "    "
   ]
  },
  {
   "cell_type": "markdown",
   "metadata": {},
   "source": [
    "#### 302"
   ]
  },
  {
   "cell_type": "code",
   "execution_count": 19,
   "metadata": {},
   "outputs": [],
   "source": [
    "# Load models \n",
    "model_glob = tf.keras.models.load_model('C:/Users/UX430/Documents/thesis/code/models/id302.hdf5')\n",
    "model_loc0 = tf.keras.models.load_model('C:/Users/UX430/Documents/thesis/code/models/node0id302.hdf5')\n",
    "model_loc1 = tf.keras.models.load_model('C:/Users/UX430/Documents/thesis/code/models/node1id302.hdf5')\n",
    "model_loc2 = tf.keras.models.load_model('C:/Users/UX430/Documents/thesis/code/models/node2id302.hdf5')\n"
   ]
  },
  {
   "cell_type": "code",
   "execution_count": 20,
   "metadata": {},
   "outputs": [
    {
     "name": "stderr",
     "output_type": "stream",
     "text": [
      "c:\\Users\\UX430\\anaconda3\\lib\\site-packages\\sklearn\\metrics\\_classification.py:1308: UndefinedMetricWarning: Precision and F-score are ill-defined and being set to 0.0 in labels with no predicted samples. Use `zero_division` parameter to control this behavior.\n",
      "  _warn_prf(average, modifier, msg_start, len(result))\n",
      "c:\\Users\\UX430\\anaconda3\\lib\\site-packages\\sklearn\\metrics\\_classification.py:1308: UndefinedMetricWarning: Precision and F-score are ill-defined and being set to 0.0 in labels with no predicted samples. Use `zero_division` parameter to control this behavior.\n",
      "  _warn_prf(average, modifier, msg_start, len(result))\n",
      "c:\\Users\\UX430\\anaconda3\\lib\\site-packages\\sklearn\\metrics\\_classification.py:1308: UndefinedMetricWarning: Precision and F-score are ill-defined and being set to 0.0 in labels with no predicted samples. Use `zero_division` parameter to control this behavior.\n",
      "  _warn_prf(average, modifier, msg_start, len(result))\n"
     ]
    },
    {
     "data": {
      "text/plain": [
       "('f1: 0.745',\n",
       " 'precision: 0.896',\n",
       " 'recall: 0.655',\n",
       " 'accuracy: 0.655',\n",
       " 'true categories: {0, 1, 2, 3}',\n",
       " 'predicted categories: {0, 2, 3}',\n",
       " array([[  154,     0,    22,   773],\n",
       "        [  942,     0,   265,  1735],\n",
       "        [17239,     0, 35675,   763],\n",
       "        [  520,     0,    19,  6409]], dtype=int64))"
      ]
     },
     "execution_count": 20,
     "metadata": {},
     "output_type": "execute_result"
    }
   ],
   "source": [
    "evaluate_cat(model_glob, xbasic, ybasic)"
   ]
  },
  {
   "cell_type": "code",
   "execution_count": 21,
   "metadata": {},
   "outputs": [
    {
     "name": "stderr",
     "output_type": "stream",
     "text": [
      "c:\\Users\\UX430\\anaconda3\\lib\\site-packages\\sklearn\\metrics\\_classification.py:1308: UndefinedMetricWarning: Precision and F-score are ill-defined and being set to 0.0 in labels with no predicted samples. Use `zero_division` parameter to control this behavior.\n",
      "  _warn_prf(average, modifier, msg_start, len(result))\n",
      "c:\\Users\\UX430\\anaconda3\\lib\\site-packages\\sklearn\\metrics\\_classification.py:1308: UndefinedMetricWarning: Precision and F-score are ill-defined and being set to 0.0 in labels with no predicted samples. Use `zero_division` parameter to control this behavior.\n",
      "  _warn_prf(average, modifier, msg_start, len(result))\n",
      "c:\\Users\\UX430\\anaconda3\\lib\\site-packages\\sklearn\\metrics\\_classification.py:1308: UndefinedMetricWarning: Precision and F-score are ill-defined and being set to 0.0 in labels with no predicted samples. Use `zero_division` parameter to control this behavior.\n",
      "  _warn_prf(average, modifier, msg_start, len(result))\n"
     ]
    },
    {
     "data": {
      "text/plain": [
       "('f1: 0.621',\n",
       " 'precision: 0.896',\n",
       " 'recall: 0.501',\n",
       " 'accuracy: 0.501',\n",
       " 'true categories: {0, 1, 2, 3}',\n",
       " 'predicted categories: {0, 2, 3}',\n",
       " array([[  153,     0,    21,   775],\n",
       "        [ 1039,     0,   185,  1718],\n",
       "        [27203,     0, 25707,   767],\n",
       "        [  466,     0,    18,  6464]], dtype=int64))"
      ]
     },
     "execution_count": 21,
     "metadata": {},
     "output_type": "execute_result"
    }
   ],
   "source": [
    "evaluate_cat(model_loc0, xbasic, ybasic)"
   ]
  },
  {
   "cell_type": "code",
   "execution_count": 22,
   "metadata": {},
   "outputs": [
    {
     "name": "stderr",
     "output_type": "stream",
     "text": [
      "c:\\Users\\UX430\\anaconda3\\lib\\site-packages\\sklearn\\metrics\\_classification.py:1308: UndefinedMetricWarning: Precision and F-score are ill-defined and being set to 0.0 in labels with no predicted samples. Use `zero_division` parameter to control this behavior.\n",
      "  _warn_prf(average, modifier, msg_start, len(result))\n",
      "c:\\Users\\UX430\\anaconda3\\lib\\site-packages\\sklearn\\metrics\\_classification.py:1308: UndefinedMetricWarning: Precision and F-score are ill-defined and being set to 0.0 in labels with no predicted samples. Use `zero_division` parameter to control this behavior.\n",
      "  _warn_prf(average, modifier, msg_start, len(result))\n",
      "c:\\Users\\UX430\\anaconda3\\lib\\site-packages\\sklearn\\metrics\\_classification.py:1308: UndefinedMetricWarning: Precision and F-score are ill-defined and being set to 0.0 in labels with no predicted samples. Use `zero_division` parameter to control this behavior.\n",
      "  _warn_prf(average, modifier, msg_start, len(result))\n"
     ]
    },
    {
     "data": {
      "text/plain": [
       "('f1: 0.745',\n",
       " 'precision: 0.896',\n",
       " 'recall: 0.655',\n",
       " 'accuracy: 0.655',\n",
       " 'true categories: {0, 1, 2, 3}',\n",
       " 'predicted categories: {0, 2, 3}',\n",
       " array([[  152,     0,    22,   775],\n",
       "        [  896,     0,   290,  1756],\n",
       "        [17230,     0, 35677,   770],\n",
       "        [  482,     0,    21,  6445]], dtype=int64))"
      ]
     },
     "execution_count": 22,
     "metadata": {},
     "output_type": "execute_result"
    }
   ],
   "source": [
    "evaluate_cat(model_loc1, xbasic, ybasic)"
   ]
  },
  {
   "cell_type": "code",
   "execution_count": 23,
   "metadata": {},
   "outputs": [
    {
     "name": "stderr",
     "output_type": "stream",
     "text": [
      "c:\\Users\\UX430\\anaconda3\\lib\\site-packages\\sklearn\\metrics\\_classification.py:1308: UndefinedMetricWarning: Precision and F-score are ill-defined and being set to 0.0 in labels with no predicted samples. Use `zero_division` parameter to control this behavior.\n",
      "  _warn_prf(average, modifier, msg_start, len(result))\n",
      "c:\\Users\\UX430\\anaconda3\\lib\\site-packages\\sklearn\\metrics\\_classification.py:1308: UndefinedMetricWarning: Precision and F-score are ill-defined and being set to 0.0 in labels with no predicted samples. Use `zero_division` parameter to control this behavior.\n",
      "  _warn_prf(average, modifier, msg_start, len(result))\n",
      "c:\\Users\\UX430\\anaconda3\\lib\\site-packages\\sklearn\\metrics\\_classification.py:1308: UndefinedMetricWarning: Precision and F-score are ill-defined and being set to 0.0 in labels with no predicted samples. Use `zero_division` parameter to control this behavior.\n",
      "  _warn_prf(average, modifier, msg_start, len(result))\n"
     ]
    },
    {
     "data": {
      "text/plain": [
       "('f1: 0.746',\n",
       " 'precision: 0.896',\n",
       " 'recall: 0.656',\n",
       " 'accuracy: 0.656',\n",
       " 'true categories: {0, 1, 2, 3}',\n",
       " 'predicted categories: {0, 2, 3}',\n",
       " array([[  141,     0,    25,   783],\n",
       "        [  914,     0,   282,  1746],\n",
       "        [17227,     0, 35677,   773],\n",
       "        [  444,     0,    21,  6483]], dtype=int64))"
      ]
     },
     "execution_count": 23,
     "metadata": {},
     "output_type": "execute_result"
    }
   ],
   "source": [
    "evaluate_cat(model_loc2, xbasic, ybasic)"
   ]
  },
  {
   "cell_type": "markdown",
   "metadata": {},
   "source": [
    "#### 310"
   ]
  },
  {
   "cell_type": "code",
   "execution_count": 28,
   "metadata": {},
   "outputs": [],
   "source": [
    "mod_310 = tf.keras.models.load_model('C:/Users/UX430/Documents/thesis/code/models/id310.hdf5')"
   ]
  },
  {
   "cell_type": "code",
   "execution_count": 29,
   "metadata": {},
   "outputs": [
    {
     "name": "stderr",
     "output_type": "stream",
     "text": [
      "c:\\Users\\UX430\\anaconda3\\lib\\site-packages\\sklearn\\metrics\\_classification.py:1308: UndefinedMetricWarning: Precision and F-score are ill-defined and being set to 0.0 in labels with no predicted samples. Use `zero_division` parameter to control this behavior.\n",
      "  _warn_prf(average, modifier, msg_start, len(result))\n",
      "c:\\Users\\UX430\\anaconda3\\lib\\site-packages\\sklearn\\metrics\\_classification.py:1308: UndefinedMetricWarning: Precision and F-score are ill-defined and being set to 0.0 in labels with no predicted samples. Use `zero_division` parameter to control this behavior.\n",
      "  _warn_prf(average, modifier, msg_start, len(result))\n",
      "c:\\Users\\UX430\\anaconda3\\lib\\site-packages\\sklearn\\metrics\\_classification.py:1308: UndefinedMetricWarning: Precision and F-score are ill-defined and being set to 0.0 in labels with no predicted samples. Use `zero_division` parameter to control this behavior.\n",
      "  _warn_prf(average, modifier, msg_start, len(result))\n"
     ]
    },
    {
     "data": {
      "text/plain": [
       "('f1: 0.263',\n",
       " 'precision: 0.873',\n",
       " 'recall: 0.212',\n",
       " 'accuracy: 0.212',\n",
       " 'true categories: {0, 1, 2, 3}',\n",
       " 'predicted categories: {0, 2, 3}',\n",
       " array([[   36,     0,    38,   875],\n",
       "        [  674,     0,     2,  2266],\n",
       "        [44219,     0,  6840,  2618],\n",
       "        [   45,     0,   103,  6800]], dtype=int64))"
      ]
     },
     "execution_count": 29,
     "metadata": {},
     "output_type": "execute_result"
    }
   ],
   "source": [
    "evaluate_cat(mod_310, xbasic, ybasic)"
   ]
  },
  {
   "cell_type": "markdown",
   "metadata": {},
   "source": [
    "#### 311, 312, 313"
   ]
  },
  {
   "cell_type": "code",
   "execution_count": 31,
   "metadata": {},
   "outputs": [],
   "source": [
    "mod_311 = tf.keras.models.load_model('C:/Users/UX430/Documents/thesis/code/models/id311.hdf5')\n",
    "mod_312 = tf.keras.models.load_model('C:/Users/UX430/Documents/thesis/code/models/id312.hdf5')\n",
    "mod_313 = tf.keras.models.load_model('C:/Users/UX430/Documents/thesis/code/models/id313.hdf5')"
   ]
  },
  {
   "cell_type": "code",
   "execution_count": 32,
   "metadata": {},
   "outputs": [
    {
     "name": "stderr",
     "output_type": "stream",
     "text": [
      "c:\\Users\\UX430\\anaconda3\\lib\\site-packages\\sklearn\\metrics\\_classification.py:1308: UndefinedMetricWarning: Precision and F-score are ill-defined and being set to 0.0 in labels with no predicted samples. Use `zero_division` parameter to control this behavior.\n",
      "  _warn_prf(average, modifier, msg_start, len(result))\n",
      "c:\\Users\\UX430\\anaconda3\\lib\\site-packages\\sklearn\\metrics\\_classification.py:1308: UndefinedMetricWarning: Precision and F-score are ill-defined and being set to 0.0 in labels with no predicted samples. Use `zero_division` parameter to control this behavior.\n",
      "  _warn_prf(average, modifier, msg_start, len(result))\n",
      "c:\\Users\\UX430\\anaconda3\\lib\\site-packages\\sklearn\\metrics\\_classification.py:1308: UndefinedMetricWarning: Precision and F-score are ill-defined and being set to 0.0 in labels with no predicted samples. Use `zero_division` parameter to control this behavior.\n",
      "  _warn_prf(average, modifier, msg_start, len(result))\n"
     ]
    },
    {
     "data": {
      "text/plain": [
       "('f1: 0.812',\n",
       " 'precision: 0.857',\n",
       " 'recall: 0.806',\n",
       " 'accuracy: 0.806',\n",
       " 'true categories: {0, 1, 2, 3}',\n",
       " 'predicted categories: {0, 2, 3}',\n",
       " array([[    7,     0,   189,   753],\n",
       "        [    0,     0,    37,  2905],\n",
       "        [    2,     0, 46124,  7551],\n",
       "        [    1,     0,  1058,  5889]], dtype=int64))"
      ]
     },
     "execution_count": 32,
     "metadata": {},
     "output_type": "execute_result"
    }
   ],
   "source": [
    "evaluate_cat(mod_311, xbasic, ybasic)"
   ]
  },
  {
   "cell_type": "code",
   "execution_count": 34,
   "metadata": {},
   "outputs": [
    {
     "name": "stderr",
     "output_type": "stream",
     "text": [
      "c:\\Users\\UX430\\anaconda3\\lib\\site-packages\\sklearn\\metrics\\_classification.py:1308: UndefinedMetricWarning: Precision and F-score are ill-defined and being set to 0.0 in labels with no predicted samples. Use `zero_division` parameter to control this behavior.\n",
      "  _warn_prf(average, modifier, msg_start, len(result))\n",
      "c:\\Users\\UX430\\anaconda3\\lib\\site-packages\\sklearn\\metrics\\_classification.py:1308: UndefinedMetricWarning: Precision and F-score are ill-defined and being set to 0.0 in labels with no predicted samples. Use `zero_division` parameter to control this behavior.\n",
      "  _warn_prf(average, modifier, msg_start, len(result))\n",
      "c:\\Users\\UX430\\anaconda3\\lib\\site-packages\\sklearn\\metrics\\_classification.py:1308: UndefinedMetricWarning: Precision and F-score are ill-defined and being set to 0.0 in labels with no predicted samples. Use `zero_division` parameter to control this behavior.\n",
      "  _warn_prf(average, modifier, msg_start, len(result))\n"
     ]
    },
    {
     "data": {
      "text/plain": [
       "('f1: 0.075',\n",
       " 'precision: 0.841',\n",
       " 'recall: 0.135',\n",
       " 'accuracy: 0.135',\n",
       " 'true categories: {0, 1, 2, 3}',\n",
       " 'predicted categories: {0, 2, 3}',\n",
       " array([[    7,     0,     8,   934],\n",
       "        [    3,     0,     1,  2938],\n",
       "        [    8,     0,  1764, 51905],\n",
       "        [   17,     0,     3,  6928]], dtype=int64))"
      ]
     },
     "execution_count": 34,
     "metadata": {},
     "output_type": "execute_result"
    }
   ],
   "source": [
    "evaluate_cat(mod_312, xbasic, ybasic)"
   ]
  },
  {
   "cell_type": "code",
   "execution_count": 36,
   "metadata": {},
   "outputs": [
    {
     "name": "stderr",
     "output_type": "stream",
     "text": [
      "c:\\Users\\UX430\\anaconda3\\lib\\site-packages\\sklearn\\metrics\\_classification.py:1308: UndefinedMetricWarning: Precision and F-score are ill-defined and being set to 0.0 in labels with no predicted samples. Use `zero_division` parameter to control this behavior.\n",
      "  _warn_prf(average, modifier, msg_start, len(result))\n",
      "c:\\Users\\UX430\\anaconda3\\lib\\site-packages\\sklearn\\metrics\\_classification.py:1308: UndefinedMetricWarning: Precision and F-score are ill-defined and being set to 0.0 in labels with no predicted samples. Use `zero_division` parameter to control this behavior.\n",
      "  _warn_prf(average, modifier, msg_start, len(result))\n",
      "c:\\Users\\UX430\\anaconda3\\lib\\site-packages\\sklearn\\metrics\\_classification.py:1308: UndefinedMetricWarning: Precision and F-score are ill-defined and being set to 0.0 in labels with no predicted samples. Use `zero_division` parameter to control this behavior.\n",
      "  _warn_prf(average, modifier, msg_start, len(result))\n"
     ]
    },
    {
     "data": {
      "text/plain": [
       "('f1: 0.023',\n",
       " 'precision: 0.473',\n",
       " 'recall: 0.108',\n",
       " 'accuracy: 0.108',\n",
       " 'true categories: {0, 1, 2, 3}',\n",
       " 'predicted categories: {0, 2, 3}',\n",
       " array([[    9,     0,     9,   931],\n",
       "        [    3,     0,     1,  2938],\n",
       "        [    4,     0,    66, 53607],\n",
       "        [   15,     0,    44,  6889]], dtype=int64))"
      ]
     },
     "execution_count": 36,
     "metadata": {},
     "output_type": "execute_result"
    }
   ],
   "source": [
    "evaluate_cat(mod_313, xbasic, ybasic)"
   ]
  },
  {
   "cell_type": "markdown",
   "metadata": {},
   "source": [
    "#### 300"
   ]
  },
  {
   "cell_type": "code",
   "execution_count": 38,
   "metadata": {},
   "outputs": [],
   "source": [
    "mod_300 = tf.keras.models.load_model('C:/Users/UX430/Documents/thesis/code/models/id300.hdf5')\n",
    "mod_300_0 = tf.keras.models.load_model('C:/Users/UX430/Documents/thesis/code/models/node0id300.hdf5')\n",
    "mod_300_1 = tf.keras.models.load_model('C:/Users/UX430/Documents/thesis/code/models/node1id300.hdf5')\n",
    "mod_300_2 = tf.keras.models.load_model('C:/Users/UX430/Documents/thesis/code/models/node2id300.hdf5')"
   ]
  },
  {
   "cell_type": "code",
   "execution_count": 39,
   "metadata": {},
   "outputs": [
    {
     "name": "stderr",
     "output_type": "stream",
     "text": [
      "c:\\Users\\UX430\\anaconda3\\lib\\site-packages\\sklearn\\metrics\\_classification.py:1308: UndefinedMetricWarning: Precision and F-score are ill-defined and being set to 0.0 in labels with no predicted samples. Use `zero_division` parameter to control this behavior.\n",
      "  _warn_prf(average, modifier, msg_start, len(result))\n",
      "c:\\Users\\UX430\\anaconda3\\lib\\site-packages\\sklearn\\metrics\\_classification.py:1308: UndefinedMetricWarning: Precision and F-score are ill-defined and being set to 0.0 in labels with no predicted samples. Use `zero_division` parameter to control this behavior.\n",
      "  _warn_prf(average, modifier, msg_start, len(result))\n",
      "c:\\Users\\UX430\\anaconda3\\lib\\site-packages\\sklearn\\metrics\\_classification.py:1308: UndefinedMetricWarning: Precision and F-score are ill-defined and being set to 0.0 in labels with no predicted samples. Use `zero_division` parameter to control this behavior.\n",
      "  _warn_prf(average, modifier, msg_start, len(result))\n"
     ]
    },
    {
     "data": {
      "text/plain": [
       "('f1: 0.756',\n",
       " 'precision: 0.728',\n",
       " 'recall: 0.832',\n",
       " 'accuracy: 0.832',\n",
       " 'true categories: {0, 1, 2, 3}',\n",
       " 'predicted categories: {2, 3}',\n",
       " array([[    0,     0,   949,     0],\n",
       "        [    0,     0,  2941,     1],\n",
       "        [    0,     0, 53676,     1],\n",
       "        [    0,     0,  6947,     1]], dtype=int64))"
      ]
     },
     "execution_count": 39,
     "metadata": {},
     "output_type": "execute_result"
    }
   ],
   "source": [
    "evaluate_cat(mod_300, xbasic, ybasic)"
   ]
  },
  {
   "cell_type": "code",
   "execution_count": 41,
   "metadata": {},
   "outputs": [
    {
     "name": "stderr",
     "output_type": "stream",
     "text": [
      "c:\\Users\\UX430\\anaconda3\\lib\\site-packages\\sklearn\\metrics\\_classification.py:1308: UndefinedMetricWarning: Precision and F-score are ill-defined and being set to 0.0 in labels with no predicted samples. Use `zero_division` parameter to control this behavior.\n",
      "  _warn_prf(average, modifier, msg_start, len(result))\n",
      "c:\\Users\\UX430\\anaconda3\\lib\\site-packages\\sklearn\\metrics\\_classification.py:1308: UndefinedMetricWarning: Precision and F-score are ill-defined and being set to 0.0 in labels with no predicted samples. Use `zero_division` parameter to control this behavior.\n",
      "  _warn_prf(average, modifier, msg_start, len(result))\n",
      "c:\\Users\\UX430\\anaconda3\\lib\\site-packages\\sklearn\\metrics\\_classification.py:1308: UndefinedMetricWarning: Precision and F-score are ill-defined and being set to 0.0 in labels with no predicted samples. Use `zero_division` parameter to control this behavior.\n",
      "  _warn_prf(average, modifier, msg_start, len(result))\n"
     ]
    },
    {
     "data": {
      "text/plain": [
       "('f1: 0.756',\n",
       " 'precision: 0.728',\n",
       " 'recall: 0.832',\n",
       " 'accuracy: 0.832',\n",
       " 'true categories: {0, 1, 2, 3}',\n",
       " 'predicted categories: {2, 3}',\n",
       " array([[    0,     0,   949,     0],\n",
       "        [    0,     0,  2941,     1],\n",
       "        [    0,     0, 53676,     1],\n",
       "        [    0,     0,  6947,     1]], dtype=int64))"
      ]
     },
     "execution_count": 41,
     "metadata": {},
     "output_type": "execute_result"
    }
   ],
   "source": [
    "evaluate_cat(mod_300_0, xbasic, ybasic)"
   ]
  },
  {
   "cell_type": "code",
   "execution_count": 43,
   "metadata": {},
   "outputs": [
    {
     "name": "stderr",
     "output_type": "stream",
     "text": [
      "c:\\Users\\UX430\\anaconda3\\lib\\site-packages\\sklearn\\metrics\\_classification.py:1308: UndefinedMetricWarning: Precision and F-score are ill-defined and being set to 0.0 in labels with no predicted samples. Use `zero_division` parameter to control this behavior.\n",
      "  _warn_prf(average, modifier, msg_start, len(result))\n",
      "c:\\Users\\UX430\\anaconda3\\lib\\site-packages\\sklearn\\metrics\\_classification.py:1308: UndefinedMetricWarning: Precision and F-score are ill-defined and being set to 0.0 in labels with no predicted samples. Use `zero_division` parameter to control this behavior.\n",
      "  _warn_prf(average, modifier, msg_start, len(result))\n",
      "c:\\Users\\UX430\\anaconda3\\lib\\site-packages\\sklearn\\metrics\\_classification.py:1308: UndefinedMetricWarning: Precision and F-score are ill-defined and being set to 0.0 in labels with no predicted samples. Use `zero_division` parameter to control this behavior.\n",
      "  _warn_prf(average, modifier, msg_start, len(result))\n"
     ]
    },
    {
     "data": {
      "text/plain": [
       "('f1: 0.756',\n",
       " 'precision: 0.728',\n",
       " 'recall: 0.832',\n",
       " 'accuracy: 0.832',\n",
       " 'true categories: {0, 1, 2, 3}',\n",
       " 'predicted categories: {2, 3}',\n",
       " array([[    0,     0,   949,     0],\n",
       "        [    0,     0,  2941,     1],\n",
       "        [    0,     0, 53676,     1],\n",
       "        [    0,     0,  6947,     1]], dtype=int64))"
      ]
     },
     "execution_count": 43,
     "metadata": {},
     "output_type": "execute_result"
    }
   ],
   "source": [
    "evaluate_cat(mod_300_1, xbasic, ybasic)"
   ]
  },
  {
   "cell_type": "code",
   "execution_count": 45,
   "metadata": {},
   "outputs": [
    {
     "name": "stderr",
     "output_type": "stream",
     "text": [
      "c:\\Users\\UX430\\anaconda3\\lib\\site-packages\\sklearn\\metrics\\_classification.py:1308: UndefinedMetricWarning: Precision and F-score are ill-defined and being set to 0.0 in labels with no predicted samples. Use `zero_division` parameter to control this behavior.\n",
      "  _warn_prf(average, modifier, msg_start, len(result))\n",
      "c:\\Users\\UX430\\anaconda3\\lib\\site-packages\\sklearn\\metrics\\_classification.py:1308: UndefinedMetricWarning: Precision and F-score are ill-defined and being set to 0.0 in labels with no predicted samples. Use `zero_division` parameter to control this behavior.\n",
      "  _warn_prf(average, modifier, msg_start, len(result))\n",
      "c:\\Users\\UX430\\anaconda3\\lib\\site-packages\\sklearn\\metrics\\_classification.py:1308: UndefinedMetricWarning: Precision and F-score are ill-defined and being set to 0.0 in labels with no predicted samples. Use `zero_division` parameter to control this behavior.\n",
      "  _warn_prf(average, modifier, msg_start, len(result))\n"
     ]
    },
    {
     "data": {
      "text/plain": [
       "('f1: 0.756',\n",
       " 'precision: 0.728',\n",
       " 'recall: 0.832',\n",
       " 'accuracy: 0.832',\n",
       " 'true categories: {0, 1, 2, 3}',\n",
       " 'predicted categories: {2, 3}',\n",
       " array([[    0,     0,   949,     0],\n",
       "        [    0,     0,  2941,     1],\n",
       "        [    0,     0, 53676,     1],\n",
       "        [    0,     0,  6947,     1]], dtype=int64))"
      ]
     },
     "execution_count": 45,
     "metadata": {},
     "output_type": "execute_result"
    }
   ],
   "source": [
    "evaluate_cat(mod_300_2, xbasic, ybasic)"
   ]
  },
  {
   "cell_type": "markdown",
   "metadata": {},
   "source": [
    "#### 301"
   ]
  },
  {
   "cell_type": "code",
   "execution_count": 47,
   "metadata": {},
   "outputs": [],
   "source": [
    "mod_301 = tf.keras.models.load_model('C:/Users/UX430/Documents/thesis/code/models/id301.hdf5')\n",
    "mod_301_0 = tf.keras.models.load_model('C:/Users/UX430/Documents/thesis/code/models/node0id301.hdf5')\n",
    "mod_301_1 = tf.keras.models.load_model('C:/Users/UX430/Documents/thesis/code/models/node1id301.hdf5')\n",
    "mod_301_2 = tf.keras.models.load_model('C:/Users/UX430/Documents/thesis/code/models/node2id301.hdf5')"
   ]
  },
  {
   "cell_type": "code",
   "execution_count": 48,
   "metadata": {},
   "outputs": [
    {
     "name": "stderr",
     "output_type": "stream",
     "text": [
      "c:\\Users\\UX430\\anaconda3\\lib\\site-packages\\sklearn\\metrics\\_classification.py:1308: UndefinedMetricWarning: Precision and F-score are ill-defined and being set to 0.0 in labels with no predicted samples. Use `zero_division` parameter to control this behavior.\n",
      "  _warn_prf(average, modifier, msg_start, len(result))\n",
      "c:\\Users\\UX430\\anaconda3\\lib\\site-packages\\sklearn\\metrics\\_classification.py:1308: UndefinedMetricWarning: Precision and F-score are ill-defined and being set to 0.0 in labels with no predicted samples. Use `zero_division` parameter to control this behavior.\n",
      "  _warn_prf(average, modifier, msg_start, len(result))\n",
      "c:\\Users\\UX430\\anaconda3\\lib\\site-packages\\sklearn\\metrics\\_classification.py:1308: UndefinedMetricWarning: Precision and F-score are ill-defined and being set to 0.0 in labels with no predicted samples. Use `zero_division` parameter to control this behavior.\n",
      "  _warn_prf(average, modifier, msg_start, len(result))\n"
     ]
    },
    {
     "data": {
      "text/plain": [
       "('f1: 0.883',\n",
       " 'precision: 0.901',\n",
       " 'recall: 0.897',\n",
       " 'accuracy: 0.897',\n",
       " 'true categories: {0, 1, 2, 3}',\n",
       " 'predicted categories: {0, 2, 3}',\n",
       " array([[    5,     0,    21,   923],\n",
       "        [    0,     0,     7,  2935],\n",
       "        [    0,     0, 50968,  2709],\n",
       "        [    0,     0,    19,  6929]], dtype=int64))"
      ]
     },
     "execution_count": 48,
     "metadata": {},
     "output_type": "execute_result"
    }
   ],
   "source": [
    "evaluate_cat(mod_301, xbasic, ybasic)"
   ]
  },
  {
   "cell_type": "code",
   "execution_count": 50,
   "metadata": {},
   "outputs": [
    {
     "name": "stderr",
     "output_type": "stream",
     "text": [
      "c:\\Users\\UX430\\anaconda3\\lib\\site-packages\\sklearn\\metrics\\_classification.py:1308: UndefinedMetricWarning: Precision and F-score are ill-defined and being set to 0.0 in labels with no predicted samples. Use `zero_division` parameter to control this behavior.\n",
      "  _warn_prf(average, modifier, msg_start, len(result))\n",
      "c:\\Users\\UX430\\anaconda3\\lib\\site-packages\\sklearn\\metrics\\_classification.py:1308: UndefinedMetricWarning: Precision and F-score are ill-defined and being set to 0.0 in labels with no predicted samples. Use `zero_division` parameter to control this behavior.\n",
      "  _warn_prf(average, modifier, msg_start, len(result))\n",
      "c:\\Users\\UX430\\anaconda3\\lib\\site-packages\\sklearn\\metrics\\_classification.py:1308: UndefinedMetricWarning: Precision and F-score are ill-defined and being set to 0.0 in labels with no predicted samples. Use `zero_division` parameter to control this behavior.\n",
      "  _warn_prf(average, modifier, msg_start, len(result))\n"
     ]
    },
    {
     "data": {
      "text/plain": [
       "('f1: 0.854',\n",
       " 'precision: 0.890',\n",
       " 'recall: 0.859',\n",
       " 'accuracy: 0.859',\n",
       " 'true categories: {0, 1, 2, 3}',\n",
       " 'predicted categories: {0, 2, 3}',\n",
       " array([[    5,     0,    22,   922],\n",
       "        [    0,     0,    31,  2911],\n",
       "        [    0,     0, 48463,  5214],\n",
       "        [    1,     0,    25,  6922]], dtype=int64))"
      ]
     },
     "execution_count": 50,
     "metadata": {},
     "output_type": "execute_result"
    }
   ],
   "source": [
    "evaluate_cat(mod_301_0, xbasic, ybasic)"
   ]
  },
  {
   "cell_type": "code",
   "execution_count": 52,
   "metadata": {},
   "outputs": [
    {
     "name": "stderr",
     "output_type": "stream",
     "text": [
      "c:\\Users\\UX430\\anaconda3\\lib\\site-packages\\sklearn\\metrics\\_classification.py:1308: UndefinedMetricWarning: Precision and F-score are ill-defined and being set to 0.0 in labels with no predicted samples. Use `zero_division` parameter to control this behavior.\n",
      "  _warn_prf(average, modifier, msg_start, len(result))\n",
      "c:\\Users\\UX430\\anaconda3\\lib\\site-packages\\sklearn\\metrics\\_classification.py:1308: UndefinedMetricWarning: Precision and F-score are ill-defined and being set to 0.0 in labels with no predicted samples. Use `zero_division` parameter to control this behavior.\n",
      "  _warn_prf(average, modifier, msg_start, len(result))\n",
      "c:\\Users\\UX430\\anaconda3\\lib\\site-packages\\sklearn\\metrics\\_classification.py:1308: UndefinedMetricWarning: Precision and F-score are ill-defined and being set to 0.0 in labels with no predicted samples. Use `zero_division` parameter to control this behavior.\n",
      "  _warn_prf(average, modifier, msg_start, len(result))\n"
     ]
    },
    {
     "data": {
      "text/plain": [
       "('f1: 0.854',\n",
       " 'precision: 0.893',\n",
       " 'recall: 0.859',\n",
       " 'accuracy: 0.859',\n",
       " 'true categories: {0, 1, 2, 3}',\n",
       " 'predicted categories: {0, 2, 3}',\n",
       " array([[    5,     0,    22,   922],\n",
       "        [    0,     0,     7,  2935],\n",
       "        [    0,     0, 48461,  5216],\n",
       "        [    0,     0,    19,  6929]], dtype=int64))"
      ]
     },
     "execution_count": 52,
     "metadata": {},
     "output_type": "execute_result"
    }
   ],
   "source": [
    "evaluate_cat(mod_301_1, xbasic, ybasic)"
   ]
  },
  {
   "cell_type": "code",
   "execution_count": 54,
   "metadata": {},
   "outputs": [
    {
     "name": "stderr",
     "output_type": "stream",
     "text": [
      "c:\\Users\\UX430\\anaconda3\\lib\\site-packages\\sklearn\\metrics\\_classification.py:1308: UndefinedMetricWarning: Precision and F-score are ill-defined and being set to 0.0 in labels with no predicted samples. Use `zero_division` parameter to control this behavior.\n",
      "  _warn_prf(average, modifier, msg_start, len(result))\n",
      "c:\\Users\\UX430\\anaconda3\\lib\\site-packages\\sklearn\\metrics\\_classification.py:1308: UndefinedMetricWarning: Precision and F-score are ill-defined and being set to 0.0 in labels with no predicted samples. Use `zero_division` parameter to control this behavior.\n",
      "  _warn_prf(average, modifier, msg_start, len(result))\n",
      "c:\\Users\\UX430\\anaconda3\\lib\\site-packages\\sklearn\\metrics\\_classification.py:1308: UndefinedMetricWarning: Precision and F-score are ill-defined and being set to 0.0 in labels with no predicted samples. Use `zero_division` parameter to control this behavior.\n",
      "  _warn_prf(average, modifier, msg_start, len(result))\n"
     ]
    },
    {
     "data": {
      "text/plain": [
       "('f1: 0.883',\n",
       " 'precision: 0.901',\n",
       " 'recall: 0.897',\n",
       " 'accuracy: 0.897',\n",
       " 'true categories: {0, 1, 2, 3}',\n",
       " 'predicted categories: {0, 2, 3}',\n",
       " array([[    3,     0,    22,   924],\n",
       "        [    0,     0,     7,  2935],\n",
       "        [    0,     0, 50969,  2708],\n",
       "        [    0,     0,    19,  6929]], dtype=int64))"
      ]
     },
     "execution_count": 54,
     "metadata": {},
     "output_type": "execute_result"
    }
   ],
   "source": [
    "evaluate_cat(mod_301_2, xbasic, ybasic)"
   ]
  },
  {
   "cell_type": "markdown",
   "metadata": {},
   "source": [
    "#### 303"
   ]
  },
  {
   "cell_type": "code",
   "execution_count": 56,
   "metadata": {},
   "outputs": [],
   "source": [
    "mod_303 = tf.keras.models.load_model('C:/Users/UX430/Documents/thesis/code/models/id303.hdf5')\n",
    "mod_303_0 = tf.keras.models.load_model('C:/Users/UX430/Documents/thesis/code/models/node0id303.hdf5')\n",
    "mod_303_1 = tf.keras.models.load_model('C:/Users/UX430/Documents/thesis/code/models/node1id303.hdf5')\n",
    "mod_303_2 = tf.keras.models.load_model('C:/Users/UX430/Documents/thesis/code/models/node2id303.hdf5')"
   ]
  },
  {
   "cell_type": "code",
   "execution_count": 57,
   "metadata": {},
   "outputs": [
    {
     "name": "stderr",
     "output_type": "stream",
     "text": [
      "c:\\Users\\UX430\\anaconda3\\lib\\site-packages\\sklearn\\metrics\\_classification.py:1308: UndefinedMetricWarning: Precision and F-score are ill-defined and being set to 0.0 in labels with no predicted samples. Use `zero_division` parameter to control this behavior.\n",
      "  _warn_prf(average, modifier, msg_start, len(result))\n",
      "c:\\Users\\UX430\\anaconda3\\lib\\site-packages\\sklearn\\metrics\\_classification.py:1308: UndefinedMetricWarning: Precision and F-score are ill-defined and being set to 0.0 in labels with no predicted samples. Use `zero_division` parameter to control this behavior.\n",
      "  _warn_prf(average, modifier, msg_start, len(result))\n",
      "c:\\Users\\UX430\\anaconda3\\lib\\site-packages\\sklearn\\metrics\\_classification.py:1308: UndefinedMetricWarning: Precision and F-score are ill-defined and being set to 0.0 in labels with no predicted samples. Use `zero_division` parameter to control this behavior.\n",
      "  _warn_prf(average, modifier, msg_start, len(result))\n"
     ]
    },
    {
     "data": {
      "text/plain": [
       "('f1: 0.901',\n",
       " 'precision: 0.888',\n",
       " 'recall: 0.924',\n",
       " 'accuracy: 0.924',\n",
       " 'true categories: {0, 1, 2, 3}',\n",
       " 'predicted categories: {2, 3}',\n",
       " array([[    0,     0,    55,   894],\n",
       "        [    0,     0,   595,  2347],\n",
       "        [    0,     0, 52731,   946],\n",
       "        [    0,     0,    73,  6875]], dtype=int64))"
      ]
     },
     "execution_count": 57,
     "metadata": {},
     "output_type": "execute_result"
    }
   ],
   "source": [
    "evaluate_cat(mod_303, xbasic, ybasic)"
   ]
  },
  {
   "cell_type": "code",
   "execution_count": 59,
   "metadata": {},
   "outputs": [
    {
     "name": "stderr",
     "output_type": "stream",
     "text": [
      "c:\\Users\\UX430\\anaconda3\\lib\\site-packages\\sklearn\\metrics\\_classification.py:1308: UndefinedMetricWarning: Precision and F-score are ill-defined and being set to 0.0 in labels with no predicted samples. Use `zero_division` parameter to control this behavior.\n",
      "  _warn_prf(average, modifier, msg_start, len(result))\n",
      "c:\\Users\\UX430\\anaconda3\\lib\\site-packages\\sklearn\\metrics\\_classification.py:1308: UndefinedMetricWarning: Precision and F-score are ill-defined and being set to 0.0 in labels with no predicted samples. Use `zero_division` parameter to control this behavior.\n",
      "  _warn_prf(average, modifier, msg_start, len(result))\n",
      "c:\\Users\\UX430\\anaconda3\\lib\\site-packages\\sklearn\\metrics\\_classification.py:1308: UndefinedMetricWarning: Precision and F-score are ill-defined and being set to 0.0 in labels with no predicted samples. Use `zero_division` parameter to control this behavior.\n",
      "  _warn_prf(average, modifier, msg_start, len(result))\n"
     ]
    },
    {
     "data": {
      "text/plain": [
       "('f1: 0.883',\n",
       " 'precision: 0.885',\n",
       " 'recall: 0.897',\n",
       " 'accuracy: 0.897',\n",
       " 'true categories: {0, 1, 2, 3}',\n",
       " 'predicted categories: {2, 3}',\n",
       " array([[    0,     0,    28,   921],\n",
       "        [    0,     0,    97,  2845],\n",
       "        [    0,     0, 50976,  2701],\n",
       "        [    0,     0,    31,  6917]], dtype=int64))"
      ]
     },
     "execution_count": 59,
     "metadata": {},
     "output_type": "execute_result"
    }
   ],
   "source": [
    "evaluate_cat(mod_303_0, xbasic, ybasic)"
   ]
  },
  {
   "cell_type": "code",
   "execution_count": 61,
   "metadata": {},
   "outputs": [
    {
     "name": "stderr",
     "output_type": "stream",
     "text": [
      "c:\\Users\\UX430\\anaconda3\\lib\\site-packages\\sklearn\\metrics\\_classification.py:1308: UndefinedMetricWarning: Precision and F-score are ill-defined and being set to 0.0 in labels with no predicted samples. Use `zero_division` parameter to control this behavior.\n",
      "  _warn_prf(average, modifier, msg_start, len(result))\n",
      "c:\\Users\\UX430\\anaconda3\\lib\\site-packages\\sklearn\\metrics\\_classification.py:1308: UndefinedMetricWarning: Precision and F-score are ill-defined and being set to 0.0 in labels with no predicted samples. Use `zero_division` parameter to control this behavior.\n",
      "  _warn_prf(average, modifier, msg_start, len(result))\n",
      "c:\\Users\\UX430\\anaconda3\\lib\\site-packages\\sklearn\\metrics\\_classification.py:1308: UndefinedMetricWarning: Precision and F-score are ill-defined and being set to 0.0 in labels with no predicted samples. Use `zero_division` parameter to control this behavior.\n",
      "  _warn_prf(average, modifier, msg_start, len(result))\n"
     ]
    },
    {
     "data": {
      "text/plain": [
       "('f1: 0.901',\n",
       " 'precision: 0.889',\n",
       " 'recall: 0.922',\n",
       " 'accuracy: 0.922',\n",
       " 'true categories: {0, 1, 2, 3}',\n",
       " 'predicted categories: {0, 2, 3}',\n",
       " array([[   11,     0,    55,   883],\n",
       "        [   84,     0,   588,  2270],\n",
       "        [   30,     0, 52735,   912],\n",
       "        [  104,     0,    78,  6766]], dtype=int64))"
      ]
     },
     "execution_count": 61,
     "metadata": {},
     "output_type": "execute_result"
    }
   ],
   "source": [
    "evaluate_cat(mod_303_1, xbasic, ybasic)"
   ]
  },
  {
   "cell_type": "code",
   "execution_count": 63,
   "metadata": {},
   "outputs": [
    {
     "data": {
      "text/plain": [
       "('f1: 0.841',\n",
       " 'precision: 0.938',\n",
       " 'recall: 0.835',\n",
       " 'accuracy: 0.835',\n",
       " 'true categories: {0, 1, 2, 3}',\n",
       " 'predicted categories: {0, 1, 2, 3}',\n",
       " array([[  128,   751,    55,    15],\n",
       "        [  640,  2232,    67,     3],\n",
       "        [   70,  2591, 50986,    30],\n",
       "        [  691,  5620,    84,   553]], dtype=int64))"
      ]
     },
     "execution_count": 63,
     "metadata": {},
     "output_type": "execute_result"
    }
   ],
   "source": [
    "evaluate_cat(mod_303_2, xbasic, ybasic)"
   ]
  },
  {
   "cell_type": "markdown",
   "metadata": {},
   "source": [
    "#### 304"
   ]
  },
  {
   "cell_type": "code",
   "execution_count": 65,
   "metadata": {},
   "outputs": [],
   "source": [
    "mod_304 = tf.keras.models.load_model('C:/Users/UX430/Documents/thesis/code/models/id304.hdf5')\n",
    "mod_304_0 = tf.keras.models.load_model('C:/Users/UX430/Documents/thesis/code/models/node0id304.hdf5')\n",
    "mod_304_1 = tf.keras.models.load_model('C:/Users/UX430/Documents/thesis/code/models/node1id304.hdf5')\n",
    "mod_304_2 = tf.keras.models.load_model('C:/Users/UX430/Documents/thesis/code/models/node2id304.hdf5')"
   ]
  },
  {
   "cell_type": "code",
   "execution_count": 66,
   "metadata": {},
   "outputs": [
    {
     "name": "stderr",
     "output_type": "stream",
     "text": [
      "c:\\Users\\UX430\\anaconda3\\lib\\site-packages\\sklearn\\metrics\\_classification.py:1308: UndefinedMetricWarning: Precision and F-score are ill-defined and being set to 0.0 in labels with no predicted samples. Use `zero_division` parameter to control this behavior.\n",
      "  _warn_prf(average, modifier, msg_start, len(result))\n",
      "c:\\Users\\UX430\\anaconda3\\lib\\site-packages\\sklearn\\metrics\\_classification.py:1308: UndefinedMetricWarning: Precision and F-score are ill-defined and being set to 0.0 in labels with no predicted samples. Use `zero_division` parameter to control this behavior.\n",
      "  _warn_prf(average, modifier, msg_start, len(result))\n",
      "c:\\Users\\UX430\\anaconda3\\lib\\site-packages\\sklearn\\metrics\\_classification.py:1308: UndefinedMetricWarning: Precision and F-score are ill-defined and being set to 0.0 in labels with no predicted samples. Use `zero_division` parameter to control this behavior.\n",
      "  _warn_prf(average, modifier, msg_start, len(result))\n"
     ]
    },
    {
     "data": {
      "text/plain": [
       "('f1: 0.760',\n",
       " 'precision: 0.781',\n",
       " 'recall: 0.834',\n",
       " 'accuracy: 0.834',\n",
       " 'true categories: {0, 1, 2, 3}',\n",
       " 'predicted categories: {2, 3}',\n",
       " array([[    0,     0,   935,    14],\n",
       "        [    0,     0,  2941,     1],\n",
       "        [    0,     0, 53663,    14],\n",
       "        [    0,     0,  6821,   127]], dtype=int64))"
      ]
     },
     "execution_count": 66,
     "metadata": {},
     "output_type": "execute_result"
    }
   ],
   "source": [
    "evaluate_cat(mod_304, xbasic, ybasic)"
   ]
  },
  {
   "cell_type": "code",
   "execution_count": 68,
   "metadata": {},
   "outputs": [
    {
     "name": "stderr",
     "output_type": "stream",
     "text": [
      "c:\\Users\\UX430\\anaconda3\\lib\\site-packages\\sklearn\\metrics\\_classification.py:1308: UndefinedMetricWarning: Precision and F-score are ill-defined and being set to 0.0 in labels with no predicted samples. Use `zero_division` parameter to control this behavior.\n",
      "  _warn_prf(average, modifier, msg_start, len(result))\n",
      "c:\\Users\\UX430\\anaconda3\\lib\\site-packages\\sklearn\\metrics\\_classification.py:1308: UndefinedMetricWarning: Precision and F-score are ill-defined and being set to 0.0 in labels with no predicted samples. Use `zero_division` parameter to control this behavior.\n",
      "  _warn_prf(average, modifier, msg_start, len(result))\n",
      "c:\\Users\\UX430\\anaconda3\\lib\\site-packages\\sklearn\\metrics\\_classification.py:1308: UndefinedMetricWarning: Precision and F-score are ill-defined and being set to 0.0 in labels with no predicted samples. Use `zero_division` parameter to control this behavior.\n",
      "  _warn_prf(average, modifier, msg_start, len(result))\n"
     ]
    },
    {
     "data": {
      "text/plain": [
       "('f1: 0.756',\n",
       " 'precision: 0.728',\n",
       " 'recall: 0.832',\n",
       " 'accuracy: 0.832',\n",
       " 'true categories: {0, 1, 2, 3}',\n",
       " 'predicted categories: {2, 3}',\n",
       " array([[    0,     0,   949,     0],\n",
       "        [    0,     0,  2941,     1],\n",
       "        [    0,     0, 53676,     1],\n",
       "        [    0,     0,  6947,     1]], dtype=int64))"
      ]
     },
     "execution_count": 68,
     "metadata": {},
     "output_type": "execute_result"
    }
   ],
   "source": [
    "evaluate_cat(mod_304_0, xbasic, ybasic)"
   ]
  },
  {
   "cell_type": "code",
   "execution_count": 70,
   "metadata": {},
   "outputs": [
    {
     "name": "stderr",
     "output_type": "stream",
     "text": [
      "c:\\Users\\UX430\\anaconda3\\lib\\site-packages\\sklearn\\metrics\\_classification.py:1308: UndefinedMetricWarning: Precision and F-score are ill-defined and being set to 0.0 in labels with no predicted samples. Use `zero_division` parameter to control this behavior.\n",
      "  _warn_prf(average, modifier, msg_start, len(result))\n",
      "c:\\Users\\UX430\\anaconda3\\lib\\site-packages\\sklearn\\metrics\\_classification.py:1308: UndefinedMetricWarning: Precision and F-score are ill-defined and being set to 0.0 in labels with no predicted samples. Use `zero_division` parameter to control this behavior.\n",
      "  _warn_prf(average, modifier, msg_start, len(result))\n",
      "c:\\Users\\UX430\\anaconda3\\lib\\site-packages\\sklearn\\metrics\\_classification.py:1308: UndefinedMetricWarning: Precision and F-score are ill-defined and being set to 0.0 in labels with no predicted samples. Use `zero_division` parameter to control this behavior.\n",
      "  _warn_prf(average, modifier, msg_start, len(result))\n"
     ]
    },
    {
     "data": {
      "text/plain": [
       "('f1: 0.844',\n",
       " 'precision: 0.821',\n",
       " 'recall: 0.879',\n",
       " 'accuracy: 0.879',\n",
       " 'true categories: {0, 1, 2, 3}',\n",
       " 'predicted categories: {2, 3}',\n",
       " array([[    0,     0,   609,   340],\n",
       "        [    0,     0,  2715,   227],\n",
       "        [    0,     0, 53259,   418],\n",
       "        [    0,     0,  3519,  3429]], dtype=int64))"
      ]
     },
     "execution_count": 70,
     "metadata": {},
     "output_type": "execute_result"
    }
   ],
   "source": [
    "evaluate_cat(mod_304_1, xbasic, ybasic)"
   ]
  },
  {
   "cell_type": "code",
   "execution_count": 72,
   "metadata": {},
   "outputs": [
    {
     "data": {
      "text/plain": [
       "('f1: 0.175',\n",
       " 'precision: 0.652',\n",
       " 'recall: 0.136',\n",
       " 'accuracy: 0.136',\n",
       " 'true categories: {0, 1, 2, 3}',\n",
       " 'predicted categories: {0, 1, 2, 3}',\n",
       " array([[  359,   379,   181,    30],\n",
       "        [  145,  2105,   531,   161],\n",
       "        [  460, 39651,  6256,  7310],\n",
       "        [ 3816,  2011,  1065,    56]], dtype=int64))"
      ]
     },
     "execution_count": 72,
     "metadata": {},
     "output_type": "execute_result"
    }
   ],
   "source": [
    "evaluate_cat(mod_304_2, xbasic, ybasic)"
   ]
  },
  {
   "cell_type": "markdown",
   "metadata": {},
   "source": [
    "### 000"
   ]
  },
  {
   "cell_type": "code",
   "execution_count": 74,
   "metadata": {},
   "outputs": [],
   "source": [
    "mod_000 = tf.keras.models.load_model('C:/Users/UX430/Documents/thesis/code/models/id000.hdf5')\n",
    "mod_000_0 = tf.keras.models.load_model('C:/Users/UX430/Documents/thesis/code/models/node0id000.hdf5')\n",
    "mod_000_1 = tf.keras.models.load_model('C:/Users/UX430/Documents/thesis/code/models/node1id000.hdf5')\n",
    "mod_000_2 = tf.keras.models.load_model('C:/Users/UX430/Documents/thesis/code/models/node2id000.hdf5')"
   ]
  },
  {
   "cell_type": "code",
   "execution_count": 75,
   "metadata": {},
   "outputs": [
    {
     "name": "stderr",
     "output_type": "stream",
     "text": [
      "c:\\Users\\UX430\\anaconda3\\lib\\site-packages\\sklearn\\metrics\\_classification.py:1308: UndefinedMetricWarning: Precision and F-score are ill-defined and being set to 0.0 in labels with no predicted samples. Use `zero_division` parameter to control this behavior.\n",
      "  _warn_prf(average, modifier, msg_start, len(result))\n",
      "c:\\Users\\UX430\\anaconda3\\lib\\site-packages\\sklearn\\metrics\\_classification.py:1308: UndefinedMetricWarning: Precision and F-score are ill-defined and being set to 0.0 in labels with no predicted samples. Use `zero_division` parameter to control this behavior.\n",
      "  _warn_prf(average, modifier, msg_start, len(result))\n",
      "c:\\Users\\UX430\\anaconda3\\lib\\site-packages\\sklearn\\metrics\\_classification.py:1308: UndefinedMetricWarning: Precision and F-score are ill-defined and being set to 0.0 in labels with no predicted samples. Use `zero_division` parameter to control this behavior.\n",
      "  _warn_prf(average, modifier, msg_start, len(result))\n"
     ]
    },
    {
     "data": {
      "text/plain": [
       "('f1: 0.756',\n",
       " 'precision: 0.692',\n",
       " 'recall: 0.832',\n",
       " 'accuracy: 0.832',\n",
       " 'true categories: {0, 1, 2, 3}',\n",
       " 'predicted categories: {0, 2}',\n",
       " array([[    0,     0,   949,     0],\n",
       "        [    1,     0,  2941,     0],\n",
       "        [    1,     0, 53676,     0],\n",
       "        [    1,     0,  6947,     0]], dtype=int64))"
      ]
     },
     "execution_count": 75,
     "metadata": {},
     "output_type": "execute_result"
    }
   ],
   "source": [
    "evaluate_cat(mod_000, xbasic, ybasic)"
   ]
  },
  {
   "cell_type": "code",
   "execution_count": 76,
   "metadata": {},
   "outputs": [
    {
     "name": "stderr",
     "output_type": "stream",
     "text": [
      "c:\\Users\\UX430\\anaconda3\\lib\\site-packages\\sklearn\\metrics\\_classification.py:1308: UndefinedMetricWarning: Precision and F-score are ill-defined and being set to 0.0 in labels with no predicted samples. Use `zero_division` parameter to control this behavior.\n",
      "  _warn_prf(average, modifier, msg_start, len(result))\n",
      "c:\\Users\\UX430\\anaconda3\\lib\\site-packages\\sklearn\\metrics\\_classification.py:1308: UndefinedMetricWarning: Precision and F-score are ill-defined and being set to 0.0 in labels with no predicted samples. Use `zero_division` parameter to control this behavior.\n",
      "  _warn_prf(average, modifier, msg_start, len(result))\n",
      "c:\\Users\\UX430\\anaconda3\\lib\\site-packages\\sklearn\\metrics\\_classification.py:1308: UndefinedMetricWarning: Precision and F-score are ill-defined and being set to 0.0 in labels with no predicted samples. Use `zero_division` parameter to control this behavior.\n",
      "  _warn_prf(average, modifier, msg_start, len(result))\n"
     ]
    },
    {
     "data": {
      "text/plain": [
       "('f1: 0.756',\n",
       " 'precision: 0.692',\n",
       " 'recall: 0.832',\n",
       " 'accuracy: 0.832',\n",
       " 'true categories: {0, 1, 2, 3}',\n",
       " 'predicted categories: {0, 2}',\n",
       " array([[    0,     0,   949,     0],\n",
       "        [    1,     0,  2941,     0],\n",
       "        [    1,     0, 53676,     0],\n",
       "        [    1,     0,  6947,     0]], dtype=int64))"
      ]
     },
     "execution_count": 76,
     "metadata": {},
     "output_type": "execute_result"
    }
   ],
   "source": [
    "evaluate_cat(mod_000_0, xbasic, ybasic)"
   ]
  },
  {
   "cell_type": "code",
   "execution_count": 77,
   "metadata": {},
   "outputs": [
    {
     "name": "stderr",
     "output_type": "stream",
     "text": [
      "c:\\Users\\UX430\\anaconda3\\lib\\site-packages\\sklearn\\metrics\\_classification.py:1308: UndefinedMetricWarning: Precision and F-score are ill-defined and being set to 0.0 in labels with no predicted samples. Use `zero_division` parameter to control this behavior.\n",
      "  _warn_prf(average, modifier, msg_start, len(result))\n",
      "c:\\Users\\UX430\\anaconda3\\lib\\site-packages\\sklearn\\metrics\\_classification.py:1308: UndefinedMetricWarning: Precision and F-score are ill-defined and being set to 0.0 in labels with no predicted samples. Use `zero_division` parameter to control this behavior.\n",
      "  _warn_prf(average, modifier, msg_start, len(result))\n",
      "c:\\Users\\UX430\\anaconda3\\lib\\site-packages\\sklearn\\metrics\\_classification.py:1308: UndefinedMetricWarning: Precision and F-score are ill-defined and being set to 0.0 in labels with no predicted samples. Use `zero_division` parameter to control this behavior.\n",
      "  _warn_prf(average, modifier, msg_start, len(result))\n"
     ]
    },
    {
     "data": {
      "text/plain": [
       "('f1: 0.756',\n",
       " 'precision: 0.692',\n",
       " 'recall: 0.832',\n",
       " 'accuracy: 0.832',\n",
       " 'true categories: {0, 1, 2, 3}',\n",
       " 'predicted categories: {0, 2}',\n",
       " array([[    0,     0,   949,     0],\n",
       "        [    1,     0,  2941,     0],\n",
       "        [    1,     0, 53676,     0],\n",
       "        [    1,     0,  6947,     0]], dtype=int64))"
      ]
     },
     "execution_count": 77,
     "metadata": {},
     "output_type": "execute_result"
    }
   ],
   "source": [
    "evaluate_cat(mod_000_1, xbasic, ybasic)"
   ]
  },
  {
   "cell_type": "code",
   "execution_count": 78,
   "metadata": {},
   "outputs": [
    {
     "name": "stderr",
     "output_type": "stream",
     "text": [
      "c:\\Users\\UX430\\anaconda3\\lib\\site-packages\\sklearn\\metrics\\_classification.py:1308: UndefinedMetricWarning: Precision and F-score are ill-defined and being set to 0.0 in labels with no predicted samples. Use `zero_division` parameter to control this behavior.\n",
      "  _warn_prf(average, modifier, msg_start, len(result))\n",
      "c:\\Users\\UX430\\anaconda3\\lib\\site-packages\\sklearn\\metrics\\_classification.py:1308: UndefinedMetricWarning: Precision and F-score are ill-defined and being set to 0.0 in labels with no predicted samples. Use `zero_division` parameter to control this behavior.\n",
      "  _warn_prf(average, modifier, msg_start, len(result))\n",
      "c:\\Users\\UX430\\anaconda3\\lib\\site-packages\\sklearn\\metrics\\_classification.py:1308: UndefinedMetricWarning: Precision and F-score are ill-defined and being set to 0.0 in labels with no predicted samples. Use `zero_division` parameter to control this behavior.\n",
      "  _warn_prf(average, modifier, msg_start, len(result))\n"
     ]
    },
    {
     "data": {
      "text/plain": [
       "('f1: 0.756',\n",
       " 'precision: 0.692',\n",
       " 'recall: 0.832',\n",
       " 'accuracy: 0.832',\n",
       " 'true categories: {0, 1, 2, 3}',\n",
       " 'predicted categories: {0, 2}',\n",
       " array([[    0,     0,   949,     0],\n",
       "        [    1,     0,  2941,     0],\n",
       "        [    1,     0, 53676,     0],\n",
       "        [    1,     0,  6947,     0]], dtype=int64))"
      ]
     },
     "execution_count": 78,
     "metadata": {},
     "output_type": "execute_result"
    }
   ],
   "source": [
    "evaluate_cat(mod_000_2, xbasic, ybasic)"
   ]
  },
  {
   "cell_type": "markdown",
   "metadata": {},
   "source": [
    "### 001"
   ]
  },
  {
   "cell_type": "code",
   "execution_count": 83,
   "metadata": {},
   "outputs": [],
   "source": [
    "mod_001 = tf.keras.models.load_model('C:/Users/UX430/Documents/thesis/code/models/id001.hdf5')\n",
    "mod_001_0 = tf.keras.models.load_model('C:/Users/UX430/Documents/thesis/code/models/node0id001.hdf5')\n",
    "mod_001_1 = tf.keras.models.load_model('C:/Users/UX430/Documents/thesis/code/models/node1id001.hdf5')\n",
    "mod_001_2 = tf.keras.models.load_model('C:/Users/UX430/Documents/thesis/code/models/node2id001.hdf5')"
   ]
  },
  {
   "cell_type": "code",
   "execution_count": 84,
   "metadata": {},
   "outputs": [
    {
     "name": "stderr",
     "output_type": "stream",
     "text": [
      "c:\\Users\\UX430\\anaconda3\\lib\\site-packages\\sklearn\\metrics\\_classification.py:1308: UndefinedMetricWarning: Precision and F-score are ill-defined and being set to 0.0 in labels with no predicted samples. Use `zero_division` parameter to control this behavior.\n",
      "  _warn_prf(average, modifier, msg_start, len(result))\n",
      "c:\\Users\\UX430\\anaconda3\\lib\\site-packages\\sklearn\\metrics\\_classification.py:1308: UndefinedMetricWarning: Precision and F-score are ill-defined and being set to 0.0 in labels with no predicted samples. Use `zero_division` parameter to control this behavior.\n",
      "  _warn_prf(average, modifier, msg_start, len(result))\n",
      "c:\\Users\\UX430\\anaconda3\\lib\\site-packages\\sklearn\\metrics\\_classification.py:1308: UndefinedMetricWarning: Precision and F-score are ill-defined and being set to 0.0 in labels with no predicted samples. Use `zero_division` parameter to control this behavior.\n",
      "  _warn_prf(average, modifier, msg_start, len(result))\n"
     ]
    },
    {
     "data": {
      "text/plain": [
       "('f1: 0.904',\n",
       " 'precision: 0.909',\n",
       " 'recall: 0.924',\n",
       " 'accuracy: 0.924',\n",
       " 'true categories: {0, 1, 2, 3}',\n",
       " 'predicted categories: {0, 2, 3}',\n",
       " array([[    3,     0,    28,   918],\n",
       "        [    0,     0,    16,  2926],\n",
       "        [    0,     0, 52721,   956],\n",
       "        [    0,     0,    31,  6917]], dtype=int64))"
      ]
     },
     "execution_count": 84,
     "metadata": {},
     "output_type": "execute_result"
    }
   ],
   "source": [
    "evaluate_cat(mod_001, xbasic, ybasic)"
   ]
  },
  {
   "cell_type": "code",
   "execution_count": 85,
   "metadata": {},
   "outputs": [
    {
     "name": "stderr",
     "output_type": "stream",
     "text": [
      "c:\\Users\\UX430\\anaconda3\\lib\\site-packages\\sklearn\\metrics\\_classification.py:1308: UndefinedMetricWarning: Precision and F-score are ill-defined and being set to 0.0 in labels with no predicted samples. Use `zero_division` parameter to control this behavior.\n",
      "  _warn_prf(average, modifier, msg_start, len(result))\n",
      "c:\\Users\\UX430\\anaconda3\\lib\\site-packages\\sklearn\\metrics\\_classification.py:1308: UndefinedMetricWarning: Precision and F-score are ill-defined and being set to 0.0 in labels with no predicted samples. Use `zero_division` parameter to control this behavior.\n",
      "  _warn_prf(average, modifier, msg_start, len(result))\n",
      "c:\\Users\\UX430\\anaconda3\\lib\\site-packages\\sklearn\\metrics\\_classification.py:1308: UndefinedMetricWarning: Precision and F-score are ill-defined and being set to 0.0 in labels with no predicted samples. Use `zero_division` parameter to control this behavior.\n",
      "  _warn_prf(average, modifier, msg_start, len(result))\n"
     ]
    },
    {
     "data": {
      "text/plain": [
       "('f1: 0.903',\n",
       " 'precision: 0.907',\n",
       " 'recall: 0.924',\n",
       " 'accuracy: 0.924',\n",
       " 'true categories: {0, 1, 2, 3}',\n",
       " 'predicted categories: {0, 2, 3}',\n",
       " array([[    3,     0,    32,   914],\n",
       "        [    0,     0,   210,  2732],\n",
       "        [    0,     0, 52723,   954],\n",
       "        [    0,     0,    32,  6916]], dtype=int64))"
      ]
     },
     "execution_count": 85,
     "metadata": {},
     "output_type": "execute_result"
    }
   ],
   "source": [
    "evaluate_cat(mod_001_0, xbasic, ybasic)"
   ]
  },
  {
   "cell_type": "code",
   "execution_count": 86,
   "metadata": {},
   "outputs": [
    {
     "name": "stderr",
     "output_type": "stream",
     "text": [
      "c:\\Users\\UX430\\anaconda3\\lib\\site-packages\\sklearn\\metrics\\_classification.py:1308: UndefinedMetricWarning: Precision and F-score are ill-defined and being set to 0.0 in labels with no predicted samples. Use `zero_division` parameter to control this behavior.\n",
      "  _warn_prf(average, modifier, msg_start, len(result))\n",
      "c:\\Users\\UX430\\anaconda3\\lib\\site-packages\\sklearn\\metrics\\_classification.py:1308: UndefinedMetricWarning: Precision and F-score are ill-defined and being set to 0.0 in labels with no predicted samples. Use `zero_division` parameter to control this behavior.\n",
      "  _warn_prf(average, modifier, msg_start, len(result))\n",
      "c:\\Users\\UX430\\anaconda3\\lib\\site-packages\\sklearn\\metrics\\_classification.py:1308: UndefinedMetricWarning: Precision and F-score are ill-defined and being set to 0.0 in labels with no predicted samples. Use `zero_division` parameter to control this behavior.\n",
      "  _warn_prf(average, modifier, msg_start, len(result))\n"
     ]
    },
    {
     "data": {
      "text/plain": [
       "('f1: 0.904',\n",
       " 'precision: 0.906',\n",
       " 'recall: 0.925',\n",
       " 'accuracy: 0.925',\n",
       " 'true categories: {0, 1, 2, 3}',\n",
       " 'predicted categories: {0, 2, 3}',\n",
       " array([[    7,     0,    30,   912],\n",
       "        [    0,     0,   109,  2833],\n",
       "        [    0,     0, 52723,   954],\n",
       "        [    1,     0,    31,  6916]], dtype=int64))"
      ]
     },
     "execution_count": 86,
     "metadata": {},
     "output_type": "execute_result"
    }
   ],
   "source": [
    "evaluate_cat(mod_001_1, xbasic, ybasic)"
   ]
  },
  {
   "cell_type": "code",
   "execution_count": 87,
   "metadata": {},
   "outputs": [
    {
     "name": "stderr",
     "output_type": "stream",
     "text": [
      "c:\\Users\\UX430\\anaconda3\\lib\\site-packages\\sklearn\\metrics\\_classification.py:1308: UndefinedMetricWarning: Precision and F-score are ill-defined and being set to 0.0 in labels with no predicted samples. Use `zero_division` parameter to control this behavior.\n",
      "  _warn_prf(average, modifier, msg_start, len(result))\n",
      "c:\\Users\\UX430\\anaconda3\\lib\\site-packages\\sklearn\\metrics\\_classification.py:1308: UndefinedMetricWarning: Precision and F-score are ill-defined and being set to 0.0 in labels with no predicted samples. Use `zero_division` parameter to control this behavior.\n",
      "  _warn_prf(average, modifier, msg_start, len(result))\n",
      "c:\\Users\\UX430\\anaconda3\\lib\\site-packages\\sklearn\\metrics\\_classification.py:1308: UndefinedMetricWarning: Precision and F-score are ill-defined and being set to 0.0 in labels with no predicted samples. Use `zero_division` parameter to control this behavior.\n",
      "  _warn_prf(average, modifier, msg_start, len(result))\n"
     ]
    },
    {
     "data": {
      "text/plain": [
       "('f1: 0.904',\n",
       " 'precision: 0.909',\n",
       " 'recall: 0.924',\n",
       " 'accuracy: 0.924',\n",
       " 'true categories: {0, 1, 2, 3}',\n",
       " 'predicted categories: {0, 2, 3}',\n",
       " array([[    3,     0,    31,   915],\n",
       "        [    0,     0,    45,  2897],\n",
       "        [    0,     0, 52723,   954],\n",
       "        [    0,     0,    32,  6916]], dtype=int64))"
      ]
     },
     "execution_count": 87,
     "metadata": {},
     "output_type": "execute_result"
    }
   ],
   "source": [
    "evaluate_cat(mod_001_2, xbasic, ybasic)"
   ]
  },
  {
   "cell_type": "markdown",
   "metadata": {},
   "source": [
    "### 002"
   ]
  },
  {
   "cell_type": "code",
   "execution_count": 92,
   "metadata": {},
   "outputs": [],
   "source": [
    "mod_002 = tf.keras.models.load_model('C:/Users/UX430/Documents/thesis/code/models/id002.hdf5')\n",
    "mod_002_0 = tf.keras.models.load_model('C:/Users/UX430/Documents/thesis/code/models/node0id002.hdf5')\n",
    "mod_002_1 = tf.keras.models.load_model('C:/Users/UX430/Documents/thesis/code/models/node1id002.hdf5')\n",
    "mod_002_2 = tf.keras.models.load_model('C:/Users/UX430/Documents/thesis/code/models/node2id002.hdf5')"
   ]
  },
  {
   "cell_type": "code",
   "execution_count": 93,
   "metadata": {},
   "outputs": [
    {
     "data": {
      "text/plain": [
       "('f1: 0.685',\n",
       " 'precision: 0.904',\n",
       " 'recall: 0.567',\n",
       " 'accuracy: 0.567',\n",
       " 'true categories: {0, 1, 2, 3}',\n",
       " 'predicted categories: {0, 1, 2, 3}',\n",
       " array([[  379,    44,    15,   511],\n",
       "        [ 1110,   461,    15,  1356],\n",
       "        [ 7704, 14248, 31220,   505],\n",
       "        [ 2350,   107,     1,  4490]], dtype=int64))"
      ]
     },
     "execution_count": 93,
     "metadata": {},
     "output_type": "execute_result"
    }
   ],
   "source": [
    "evaluate_cat(mod_002, xbasic, ybasic)"
   ]
  },
  {
   "cell_type": "code",
   "execution_count": 94,
   "metadata": {},
   "outputs": [
    {
     "data": {
      "text/plain": [
       "('f1: 0.683',\n",
       " 'precision: 0.904',\n",
       " 'recall: 0.562',\n",
       " 'accuracy: 0.562',\n",
       " 'true categories: {0, 1, 2, 3}',\n",
       " 'predicted categories: {0, 1, 2, 3}',\n",
       " array([[  433,    42,    14,   460],\n",
       "        [ 1321,   417,    23,  1181],\n",
       "        [ 6757, 15226, 31220,   474],\n",
       "        [ 2664,    94,     1,  4189]], dtype=int64))"
      ]
     },
     "execution_count": 94,
     "metadata": {},
     "output_type": "execute_result"
    }
   ],
   "source": [
    "evaluate_cat(mod_002_0, xbasic, ybasic)"
   ]
  },
  {
   "cell_type": "code",
   "execution_count": 95,
   "metadata": {},
   "outputs": [
    {
     "data": {
      "text/plain": [
       "('f1: 0.681',\n",
       " 'precision: 0.904',\n",
       " 'recall: 0.560',\n",
       " 'accuracy: 0.560',\n",
       " 'true categories: {0, 1, 2, 3}',\n",
       " 'predicted categories: {0, 1, 2, 3}',\n",
       " array([[  454,    42,    11,   442],\n",
       "        [ 1326,   454,    14,  1148],\n",
       "        [ 6776, 15227, 31218,   456],\n",
       "        [ 2857,   102,     1,  3988]], dtype=int64))"
      ]
     },
     "execution_count": 95,
     "metadata": {},
     "output_type": "execute_result"
    }
   ],
   "source": [
    "evaluate_cat(mod_002_1, xbasic, ybasic)"
   ]
  },
  {
   "cell_type": "code",
   "execution_count": 96,
   "metadata": {},
   "outputs": [
    {
     "data": {
      "text/plain": [
       "('f1: 0.684',\n",
       " 'precision: 0.904',\n",
       " 'recall: 0.565',\n",
       " 'accuracy: 0.565',\n",
       " 'true categories: {0, 1, 2, 3}',\n",
       " 'predicted categories: {0, 1, 2, 3}',\n",
       " array([[  394,    44,    14,   497],\n",
       "        [ 1160,   447,    10,  1325],\n",
       "        [ 7713, 14246, 31219,   499],\n",
       "        [ 2422,   108,     1,  4417]], dtype=int64))"
      ]
     },
     "execution_count": 96,
     "metadata": {},
     "output_type": "execute_result"
    }
   ],
   "source": [
    "evaluate_cat(mod_002_2, xbasic, ybasic)"
   ]
  },
  {
   "cell_type": "markdown",
   "metadata": {},
   "source": [
    "### 003"
   ]
  },
  {
   "cell_type": "code",
   "execution_count": 101,
   "metadata": {},
   "outputs": [],
   "source": [
    "mod_003 = tf.keras.models.load_model('C:/Users/UX430/Documents/thesis/code/models/id003.hdf5')\n",
    "mod_003_0 = tf.keras.models.load_model('C:/Users/UX430/Documents/thesis/code/models/node0id003.hdf5')\n",
    "mod_003_1 = tf.keras.models.load_model('C:/Users/UX430/Documents/thesis/code/models/node1id003.hdf5')\n",
    "mod_003_2 = tf.keras.models.load_model('C:/Users/UX430/Documents/thesis/code/models/node2id003.hdf5')"
   ]
  },
  {
   "cell_type": "code",
   "execution_count": 102,
   "metadata": {},
   "outputs": [
    {
     "data": {
      "text/plain": [
       "('f1: 0.802',\n",
       " 'precision: 0.932',\n",
       " 'recall: 0.796',\n",
       " 'accuracy: 0.796',\n",
       " 'true categories: {0, 1, 2, 3}',\n",
       " 'predicted categories: {0, 1, 2, 3}',\n",
       " array([[    3,   907,    39,     0],\n",
       "        [    0,  2856,    86,     0],\n",
       "        [    3,  5173, 48500,     1],\n",
       "        [  410,  6337,   192,     9]], dtype=int64))"
      ]
     },
     "execution_count": 102,
     "metadata": {},
     "output_type": "execute_result"
    }
   ],
   "source": [
    "evaluate_cat(mod_003, xbasic, ybasic)"
   ]
  },
  {
   "cell_type": "code",
   "execution_count": 103,
   "metadata": {},
   "outputs": [
    {
     "name": "stderr",
     "output_type": "stream",
     "text": [
      "c:\\Users\\UX430\\anaconda3\\lib\\site-packages\\sklearn\\metrics\\_classification.py:1308: UndefinedMetricWarning: Precision and F-score are ill-defined and being set to 0.0 in labels with no predicted samples. Use `zero_division` parameter to control this behavior.\n",
      "  _warn_prf(average, modifier, msg_start, len(result))\n",
      "c:\\Users\\UX430\\anaconda3\\lib\\site-packages\\sklearn\\metrics\\_classification.py:1308: UndefinedMetricWarning: Precision and F-score are ill-defined and being set to 0.0 in labels with no predicted samples. Use `zero_division` parameter to control this behavior.\n",
      "  _warn_prf(average, modifier, msg_start, len(result))\n",
      "c:\\Users\\UX430\\anaconda3\\lib\\site-packages\\sklearn\\metrics\\_classification.py:1308: UndefinedMetricWarning: Precision and F-score are ill-defined and being set to 0.0 in labels with no predicted samples. Use `zero_division` parameter to control this behavior.\n",
      "  _warn_prf(average, modifier, msg_start, len(result))\n"
     ]
    },
    {
     "data": {
      "text/plain": [
       "('f1: 0.902',\n",
       " 'precision: 0.890',\n",
       " 'recall: 0.924',\n",
       " 'accuracy: 0.924',\n",
       " 'true categories: {0, 1, 2, 3}',\n",
       " 'predicted categories: {2, 3}',\n",
       " array([[    0,     0,    36,   913],\n",
       "        [    0,     0,   487,  2455],\n",
       "        [    0,     0, 52725,   952],\n",
       "        [    0,     0,    32,  6916]], dtype=int64))"
      ]
     },
     "execution_count": 103,
     "metadata": {},
     "output_type": "execute_result"
    }
   ],
   "source": [
    "evaluate_cat(mod_003_0, xbasic, ybasic)"
   ]
  },
  {
   "cell_type": "code",
   "execution_count": 104,
   "metadata": {},
   "outputs": [
    {
     "data": {
      "text/plain": [
       "('f1: 0.884',\n",
       " 'precision: 0.891',\n",
       " 'recall: 0.885',\n",
       " 'accuracy: 0.885',\n",
       " 'true categories: {0, 1, 2, 3}',\n",
       " 'predicted categories: {0, 1, 2, 3}',\n",
       " array([[   27,   380,   104,   438],\n",
       "        [  114,  1242,  1090,   496],\n",
       "        [   30,   285, 52811,   551],\n",
       "        [  203,  3271,   474,  3000]], dtype=int64))"
      ]
     },
     "execution_count": 104,
     "metadata": {},
     "output_type": "execute_result"
    }
   ],
   "source": [
    "evaluate_cat(mod_003_1, xbasic, ybasic)"
   ]
  },
  {
   "cell_type": "code",
   "execution_count": 105,
   "metadata": {},
   "outputs": [
    {
     "data": {
      "text/plain": [
       "('f1: 0.802',\n",
       " 'precision: 0.932',\n",
       " 'recall: 0.796',\n",
       " 'accuracy: 0.796',\n",
       " 'true categories: {0, 1, 2, 3}',\n",
       " 'predicted categories: {0, 1, 2, 3}',\n",
       " array([[    3,   906,    40,     0],\n",
       "        [    0,  2856,    86,     0],\n",
       "        [    3,  5173, 48500,     1],\n",
       "        [  404,  6334,   201,     9]], dtype=int64))"
      ]
     },
     "execution_count": 105,
     "metadata": {},
     "output_type": "execute_result"
    }
   ],
   "source": [
    "evaluate_cat(mod_003_2, xbasic, ybasic)"
   ]
  },
  {
   "cell_type": "markdown",
   "metadata": {},
   "source": [
    "### 004"
   ]
  },
  {
   "cell_type": "code",
   "execution_count": 110,
   "metadata": {},
   "outputs": [],
   "source": [
    "mod_004 = tf.keras.models.load_model('C:/Users/UX430/Documents/thesis/code/models/id004.hdf5')\n",
    "mod_004_0 = tf.keras.models.load_model('C:/Users/UX430/Documents/thesis/code/models/node0id004.hdf5')\n",
    "mod_004_1 = tf.keras.models.load_model('C:/Users/UX430/Documents/thesis/code/models/node1id004.hdf5')\n",
    "mod_004_2 = tf.keras.models.load_model('C:/Users/UX430/Documents/thesis/code/models/node2id004.hdf5')"
   ]
  },
  {
   "cell_type": "code",
   "execution_count": 111,
   "metadata": {},
   "outputs": [
    {
     "data": {
      "text/plain": [
       "('f1: 0.756',\n",
       " 'precision: 0.721',\n",
       " 'recall: 0.832',\n",
       " 'accuracy: 0.832',\n",
       " 'true categories: {0, 1, 2, 3}',\n",
       " 'predicted categories: {0, 1, 2, 3}',\n",
       " array([[    1,     0,   947,     1],\n",
       "        [    0,     0,  2941,     1],\n",
       "        [    1,     1, 53674,     1],\n",
       "        [    8,     2,  6937,     1]], dtype=int64))"
      ]
     },
     "execution_count": 111,
     "metadata": {},
     "output_type": "execute_result"
    }
   ],
   "source": [
    "evaluate_cat(mod_004, xbasic, ybasic)"
   ]
  },
  {
   "cell_type": "code",
   "execution_count": 112,
   "metadata": {},
   "outputs": [
    {
     "name": "stderr",
     "output_type": "stream",
     "text": [
      "c:\\Users\\UX430\\anaconda3\\lib\\site-packages\\sklearn\\metrics\\_classification.py:1308: UndefinedMetricWarning: Precision and F-score are ill-defined and being set to 0.0 in labels with no predicted samples. Use `zero_division` parameter to control this behavior.\n",
      "  _warn_prf(average, modifier, msg_start, len(result))\n",
      "c:\\Users\\UX430\\anaconda3\\lib\\site-packages\\sklearn\\metrics\\_classification.py:1308: UndefinedMetricWarning: Precision and F-score are ill-defined and being set to 0.0 in labels with no predicted samples. Use `zero_division` parameter to control this behavior.\n",
      "  _warn_prf(average, modifier, msg_start, len(result))\n",
      "c:\\Users\\UX430\\anaconda3\\lib\\site-packages\\sklearn\\metrics\\_classification.py:1308: UndefinedMetricWarning: Precision and F-score are ill-defined and being set to 0.0 in labels with no predicted samples. Use `zero_division` parameter to control this behavior.\n",
      "  _warn_prf(average, modifier, msg_start, len(result))\n"
     ]
    },
    {
     "data": {
      "text/plain": [
       "('f1: 0.756',\n",
       " 'precision: 0.728',\n",
       " 'recall: 0.832',\n",
       " 'accuracy: 0.832',\n",
       " 'true categories: {0, 1, 2, 3}',\n",
       " 'predicted categories: {1, 2, 3}',\n",
       " array([[    0,     0,   949,     0],\n",
       "        [    0,     0,  2941,     1],\n",
       "        [    0,     1, 53675,     1],\n",
       "        [    0,     0,  6947,     1]], dtype=int64))"
      ]
     },
     "execution_count": 112,
     "metadata": {},
     "output_type": "execute_result"
    }
   ],
   "source": [
    "evaluate_cat(mod_004_0, xbasic, ybasic)"
   ]
  },
  {
   "cell_type": "code",
   "execution_count": 113,
   "metadata": {},
   "outputs": [
    {
     "name": "stderr",
     "output_type": "stream",
     "text": [
      "c:\\Users\\UX430\\anaconda3\\lib\\site-packages\\sklearn\\metrics\\_classification.py:1308: UndefinedMetricWarning: Precision and F-score are ill-defined and being set to 0.0 in labels with no predicted samples. Use `zero_division` parameter to control this behavior.\n",
      "  _warn_prf(average, modifier, msg_start, len(result))\n",
      "c:\\Users\\UX430\\anaconda3\\lib\\site-packages\\sklearn\\metrics\\_classification.py:1308: UndefinedMetricWarning: Precision and F-score are ill-defined and being set to 0.0 in labels with no predicted samples. Use `zero_division` parameter to control this behavior.\n",
      "  _warn_prf(average, modifier, msg_start, len(result))\n",
      "c:\\Users\\UX430\\anaconda3\\lib\\site-packages\\sklearn\\metrics\\_classification.py:1308: UndefinedMetricWarning: Precision and F-score are ill-defined and being set to 0.0 in labels with no predicted samples. Use `zero_division` parameter to control this behavior.\n",
      "  _warn_prf(average, modifier, msg_start, len(result))\n"
     ]
    },
    {
     "data": {
      "text/plain": [
       "('f1: 0.757',\n",
       " 'precision: 0.754',\n",
       " 'recall: 0.832',\n",
       " 'accuracy: 0.832',\n",
       " 'true categories: {0, 1, 2, 3}',\n",
       " 'predicted categories: {2, 3}',\n",
       " array([[    0,     0,   943,     6],\n",
       "        [    0,     0,  2939,     3],\n",
       "        [    0,     0, 53660,    17],\n",
       "        [    0,     0,  6913,    35]], dtype=int64))"
      ]
     },
     "execution_count": 113,
     "metadata": {},
     "output_type": "execute_result"
    }
   ],
   "source": [
    "evaluate_cat(mod_004_1, xbasic, ybasic)"
   ]
  },
  {
   "cell_type": "code",
   "execution_count": 114,
   "metadata": {},
   "outputs": [
    {
     "data": {
      "text/plain": [
       "('f1: 0.756',\n",
       " 'precision: 0.730',\n",
       " 'recall: 0.832',\n",
       " 'accuracy: 0.832',\n",
       " 'true categories: {0, 1, 2, 3}',\n",
       " 'predicted categories: {0, 1, 2, 3}',\n",
       " array([[    1,     0,   948,     0],\n",
       "        [    0,     0,  2941,     1],\n",
       "        [    1,     1, 53674,     1],\n",
       "        [    5,     2,  6940,     1]], dtype=int64))"
      ]
     },
     "execution_count": 114,
     "metadata": {},
     "output_type": "execute_result"
    }
   ],
   "source": [
    "evaluate_cat(mod_004_2, xbasic, ybasic)"
   ]
  },
  {
   "cell_type": "markdown",
   "metadata": {},
   "source": [
    "### 010"
   ]
  },
  {
   "cell_type": "code",
   "execution_count": 119,
   "metadata": {},
   "outputs": [],
   "source": [
    "mod_010 = tf.keras.models.load_model('C:/Users/UX430/Documents/thesis/code/models/id010.hdf5')\n",
    "mod_010_0 = tf.keras.models.load_model('C:/Users/UX430/Documents/thesis/code/models/node0id010.hdf5')\n",
    "mod_010_1 = tf.keras.models.load_model('C:/Users/UX430/Documents/thesis/code/models/node1id010.hdf5')\n",
    "mod_010_2 = tf.keras.models.load_model('C:/Users/UX430/Documents/thesis/code/models/node2id010.hdf5')"
   ]
  },
  {
   "cell_type": "code",
   "execution_count": 120,
   "metadata": {},
   "outputs": [
    {
     "name": "stderr",
     "output_type": "stream",
     "text": [
      "c:\\Users\\UX430\\anaconda3\\lib\\site-packages\\sklearn\\metrics\\_classification.py:1308: UndefinedMetricWarning: Precision and F-score are ill-defined and being set to 0.0 in labels with no predicted samples. Use `zero_division` parameter to control this behavior.\n",
      "  _warn_prf(average, modifier, msg_start, len(result))\n",
      "c:\\Users\\UX430\\anaconda3\\lib\\site-packages\\sklearn\\metrics\\_classification.py:1308: UndefinedMetricWarning: Precision and F-score are ill-defined and being set to 0.0 in labels with no predicted samples. Use `zero_division` parameter to control this behavior.\n",
      "  _warn_prf(average, modifier, msg_start, len(result))\n",
      "c:\\Users\\UX430\\anaconda3\\lib\\site-packages\\sklearn\\metrics\\_classification.py:1308: UndefinedMetricWarning: Precision and F-score are ill-defined and being set to 0.0 in labels with no predicted samples. Use `zero_division` parameter to control this behavior.\n",
      "  _warn_prf(average, modifier, msg_start, len(result))\n"
     ]
    },
    {
     "data": {
      "text/plain": [
       "('f1: 0.052',\n",
       " 'precision: 0.461',\n",
       " 'recall: 0.108',\n",
       " 'accuracy: 0.108',\n",
       " 'true categories: {0, 1, 2, 3}',\n",
       " 'predicted categories: {0, 2, 3}',\n",
       " array([[   23,     0,     6,   920],\n",
       "        [  477,     0,     2,  2463],\n",
       "        [41953,     0,    19, 11705],\n",
       "        [   17,     0,    10,  6921]], dtype=int64))"
      ]
     },
     "execution_count": 120,
     "metadata": {},
     "output_type": "execute_result"
    }
   ],
   "source": [
    "evaluate_cat(mod_010, xbasic, ybasic)"
   ]
  },
  {
   "cell_type": "code",
   "execution_count": 121,
   "metadata": {},
   "outputs": [
    {
     "name": "stderr",
     "output_type": "stream",
     "text": [
      "c:\\Users\\UX430\\anaconda3\\lib\\site-packages\\sklearn\\metrics\\_classification.py:1308: UndefinedMetricWarning: Precision and F-score are ill-defined and being set to 0.0 in labels with no predicted samples. Use `zero_division` parameter to control this behavior.\n",
      "  _warn_prf(average, modifier, msg_start, len(result))\n",
      "c:\\Users\\UX430\\anaconda3\\lib\\site-packages\\sklearn\\metrics\\_classification.py:1308: UndefinedMetricWarning: Precision and F-score are ill-defined and being set to 0.0 in labels with no predicted samples. Use `zero_division` parameter to control this behavior.\n",
      "  _warn_prf(average, modifier, msg_start, len(result))\n",
      "c:\\Users\\UX430\\anaconda3\\lib\\site-packages\\sklearn\\metrics\\_classification.py:1308: UndefinedMetricWarning: Precision and F-score are ill-defined and being set to 0.0 in labels with no predicted samples. Use `zero_division` parameter to control this behavior.\n",
      "  _warn_prf(average, modifier, msg_start, len(result))\n"
     ]
    },
    {
     "data": {
      "text/plain": [
       "('f1: 0.053',\n",
       " 'precision: 0.374',\n",
       " 'recall: 0.108',\n",
       " 'accuracy: 0.108',\n",
       " 'true categories: {0, 1, 2, 3}',\n",
       " 'predicted categories: {0, 2, 3}',\n",
       " array([[   27,     0,     9,   913],\n",
       "        [  498,     0,     4,  2440],\n",
       "        [41960,     0,    49, 11668],\n",
       "        [   23,     0,    58,  6867]], dtype=int64))"
      ]
     },
     "execution_count": 121,
     "metadata": {},
     "output_type": "execute_result"
    }
   ],
   "source": [
    "evaluate_cat(mod_010_0, xbasic, ybasic)"
   ]
  },
  {
   "cell_type": "code",
   "execution_count": 122,
   "metadata": {},
   "outputs": [
    {
     "name": "stderr",
     "output_type": "stream",
     "text": [
      "c:\\Users\\UX430\\anaconda3\\lib\\site-packages\\sklearn\\metrics\\_classification.py:1308: UndefinedMetricWarning: Precision and F-score are ill-defined and being set to 0.0 in labels with no predicted samples. Use `zero_division` parameter to control this behavior.\n",
      "  _warn_prf(average, modifier, msg_start, len(result))\n",
      "c:\\Users\\UX430\\anaconda3\\lib\\site-packages\\sklearn\\metrics\\_classification.py:1308: UndefinedMetricWarning: Precision and F-score are ill-defined and being set to 0.0 in labels with no predicted samples. Use `zero_division` parameter to control this behavior.\n",
      "  _warn_prf(average, modifier, msg_start, len(result))\n",
      "c:\\Users\\UX430\\anaconda3\\lib\\site-packages\\sklearn\\metrics\\_classification.py:1308: UndefinedMetricWarning: Precision and F-score are ill-defined and being set to 0.0 in labels with no predicted samples. Use `zero_division` parameter to control this behavior.\n",
      "  _warn_prf(average, modifier, msg_start, len(result))\n"
     ]
    },
    {
     "data": {
      "text/plain": [
       "('f1: 0.059',\n",
       " 'precision: 0.456',\n",
       " 'recall: 0.108',\n",
       " 'accuracy: 0.108',\n",
       " 'true categories: {0, 1, 2, 3}',\n",
       " 'predicted categories: {0, 2, 3}',\n",
       " array([[   30,     0,     6,   913],\n",
       "        [  544,     0,     0,  2398],\n",
       "        [45434,     0,    28,  8215],\n",
       "        [   20,     0,    22,  6906]], dtype=int64))"
      ]
     },
     "execution_count": 122,
     "metadata": {},
     "output_type": "execute_result"
    }
   ],
   "source": [
    "evaluate_cat(mod_010_1, xbasic, ybasic)"
   ]
  },
  {
   "cell_type": "code",
   "execution_count": 123,
   "metadata": {},
   "outputs": [
    {
     "name": "stderr",
     "output_type": "stream",
     "text": [
      "c:\\Users\\UX430\\anaconda3\\lib\\site-packages\\sklearn\\metrics\\_classification.py:1308: UndefinedMetricWarning: Precision and F-score are ill-defined and being set to 0.0 in labels with no predicted samples. Use `zero_division` parameter to control this behavior.\n",
      "  _warn_prf(average, modifier, msg_start, len(result))\n",
      "c:\\Users\\UX430\\anaconda3\\lib\\site-packages\\sklearn\\metrics\\_classification.py:1308: UndefinedMetricWarning: Precision and F-score are ill-defined and being set to 0.0 in labels with no predicted samples. Use `zero_division` parameter to control this behavior.\n",
      "  _warn_prf(average, modifier, msg_start, len(result))\n",
      "c:\\Users\\UX430\\anaconda3\\lib\\site-packages\\sklearn\\metrics\\_classification.py:1308: UndefinedMetricWarning: Precision and F-score are ill-defined and being set to 0.0 in labels with no predicted samples. Use `zero_division` parameter to control this behavior.\n",
      "  _warn_prf(average, modifier, msg_start, len(result))\n"
     ]
    },
    {
     "data": {
      "text/plain": [
       "('f1: 0.059',\n",
       " 'precision: 0.499',\n",
       " 'recall: 0.108',\n",
       " 'accuracy: 0.108',\n",
       " 'true categories: {0, 1, 2, 3}',\n",
       " 'predicted categories: {0, 2, 3}',\n",
       " array([[   26,     0,     6,   917],\n",
       "        [  525,     0,     0,  2417],\n",
       "        [45429,     0,    16,  8232],\n",
       "        [   19,     0,     7,  6922]], dtype=int64))"
      ]
     },
     "execution_count": 123,
     "metadata": {},
     "output_type": "execute_result"
    }
   ],
   "source": [
    "evaluate_cat(mod_010_2, xbasic, ybasic)"
   ]
  },
  {
   "cell_type": "markdown",
   "metadata": {},
   "source": [
    "### 011"
   ]
  },
  {
   "cell_type": "code",
   "execution_count": 128,
   "metadata": {},
   "outputs": [],
   "source": [
    "mod_011 = tf.keras.models.load_model('C:/Users/UX430/Documents/thesis/code/models/id011.hdf5')\n",
    "mod_011_0 = tf.keras.models.load_model('C:/Users/UX430/Documents/thesis/code/models/node0id011.hdf5')\n",
    "mod_011_1 = tf.keras.models.load_model('C:/Users/UX430/Documents/thesis/code/models/node1id011.hdf5')\n",
    "mod_011_2 = tf.keras.models.load_model('C:/Users/UX430/Documents/thesis/code/models/node2id011.hdf5')"
   ]
  },
  {
   "cell_type": "code",
   "execution_count": 129,
   "metadata": {},
   "outputs": [
    {
     "name": "stderr",
     "output_type": "stream",
     "text": [
      "c:\\Users\\UX430\\anaconda3\\lib\\site-packages\\sklearn\\metrics\\_classification.py:1308: UndefinedMetricWarning: Precision and F-score are ill-defined and being set to 0.0 in labels with no predicted samples. Use `zero_division` parameter to control this behavior.\n",
      "  _warn_prf(average, modifier, msg_start, len(result))\n",
      "c:\\Users\\UX430\\anaconda3\\lib\\site-packages\\sklearn\\metrics\\_classification.py:1308: UndefinedMetricWarning: Precision and F-score are ill-defined and being set to 0.0 in labels with no predicted samples. Use `zero_division` parameter to control this behavior.\n",
      "  _warn_prf(average, modifier, msg_start, len(result))\n",
      "c:\\Users\\UX430\\anaconda3\\lib\\site-packages\\sklearn\\metrics\\_classification.py:1308: UndefinedMetricWarning: Precision and F-score are ill-defined and being set to 0.0 in labels with no predicted samples. Use `zero_division` parameter to control this behavior.\n",
      "  _warn_prf(average, modifier, msg_start, len(result))\n"
     ]
    },
    {
     "data": {
      "text/plain": [
       "('f1: 0.692',\n",
       " 'precision: 0.788',\n",
       " 'recall: 0.649',\n",
       " 'accuracy: 0.649',\n",
       " 'true categories: {0, 1, 2, 3}',\n",
       " 'predicted categories: {0, 2, 3}',\n",
       " array([[   22,     0,   400,   527],\n",
       "        [    0,     0,   165,  2777],\n",
       "        [   15,     0, 37673, 15989],\n",
       "        [   40,     0,  2757,  4151]], dtype=int64))"
      ]
     },
     "execution_count": 129,
     "metadata": {},
     "output_type": "execute_result"
    }
   ],
   "source": [
    "evaluate_cat(mod_011, xbasic, ybasic)"
   ]
  },
  {
   "cell_type": "code",
   "execution_count": 130,
   "metadata": {},
   "outputs": [
    {
     "name": "stderr",
     "output_type": "stream",
     "text": [
      "c:\\Users\\UX430\\anaconda3\\lib\\site-packages\\sklearn\\metrics\\_classification.py:1308: UndefinedMetricWarning: Precision and F-score are ill-defined and being set to 0.0 in labels with no predicted samples. Use `zero_division` parameter to control this behavior.\n",
      "  _warn_prf(average, modifier, msg_start, len(result))\n",
      "c:\\Users\\UX430\\anaconda3\\lib\\site-packages\\sklearn\\metrics\\_classification.py:1308: UndefinedMetricWarning: Precision and F-score are ill-defined and being set to 0.0 in labels with no predicted samples. Use `zero_division` parameter to control this behavior.\n",
      "  _warn_prf(average, modifier, msg_start, len(result))\n",
      "c:\\Users\\UX430\\anaconda3\\lib\\site-packages\\sklearn\\metrics\\_classification.py:1308: UndefinedMetricWarning: Precision and F-score are ill-defined and being set to 0.0 in labels with no predicted samples. Use `zero_division` parameter to control this behavior.\n",
      "  _warn_prf(average, modifier, msg_start, len(result))\n"
     ]
    },
    {
     "data": {
      "text/plain": [
       "('f1: 0.732',\n",
       " 'precision: 0.793',\n",
       " 'recall: 0.705',\n",
       " 'accuracy: 0.705',\n",
       " 'true categories: {0, 1, 2, 3}',\n",
       " 'predicted categories: {0, 2, 3}',\n",
       " array([[   16,     0,   431,   502],\n",
       "        [    0,     0,   154,  2788],\n",
       "        [   14,     0, 41469, 12194],\n",
       "        [   30,     0,  2928,  3990]], dtype=int64))"
      ]
     },
     "execution_count": 130,
     "metadata": {},
     "output_type": "execute_result"
    }
   ],
   "source": [
    "evaluate_cat(mod_011_0, xbasic, ybasic)"
   ]
  },
  {
   "cell_type": "code",
   "execution_count": 131,
   "metadata": {},
   "outputs": [
    {
     "name": "stderr",
     "output_type": "stream",
     "text": [
      "c:\\Users\\UX430\\anaconda3\\lib\\site-packages\\sklearn\\metrics\\_classification.py:1308: UndefinedMetricWarning: Precision and F-score are ill-defined and being set to 0.0 in labels with no predicted samples. Use `zero_division` parameter to control this behavior.\n",
      "  _warn_prf(average, modifier, msg_start, len(result))\n",
      "c:\\Users\\UX430\\anaconda3\\lib\\site-packages\\sklearn\\metrics\\_classification.py:1308: UndefinedMetricWarning: Precision and F-score are ill-defined and being set to 0.0 in labels with no predicted samples. Use `zero_division` parameter to control this behavior.\n",
      "  _warn_prf(average, modifier, msg_start, len(result))\n",
      "c:\\Users\\UX430\\anaconda3\\lib\\site-packages\\sklearn\\metrics\\_classification.py:1308: UndefinedMetricWarning: Precision and F-score are ill-defined and being set to 0.0 in labels with no predicted samples. Use `zero_division` parameter to control this behavior.\n",
      "  _warn_prf(average, modifier, msg_start, len(result))\n"
     ]
    },
    {
     "data": {
      "text/plain": [
       "('f1: 0.717',\n",
       " 'precision: 0.783',\n",
       " 'recall: 0.685',\n",
       " 'accuracy: 0.685',\n",
       " 'true categories: {0, 1, 2, 3}',\n",
       " 'predicted categories: {0, 2, 3}',\n",
       " array([[   24,     0,   452,   473],\n",
       "        [    0,     0,   217,  2725],\n",
       "        [   17,     0, 40503, 13157],\n",
       "        [   47,     0,  3220,  3681]], dtype=int64))"
      ]
     },
     "execution_count": 131,
     "metadata": {},
     "output_type": "execute_result"
    }
   ],
   "source": [
    "evaluate_cat(mod_011_1, xbasic, ybasic)"
   ]
  },
  {
   "cell_type": "code",
   "execution_count": 132,
   "metadata": {},
   "outputs": [
    {
     "name": "stderr",
     "output_type": "stream",
     "text": [
      "c:\\Users\\UX430\\anaconda3\\lib\\site-packages\\sklearn\\metrics\\_classification.py:1308: UndefinedMetricWarning: Precision and F-score are ill-defined and being set to 0.0 in labels with no predicted samples. Use `zero_division` parameter to control this behavior.\n",
      "  _warn_prf(average, modifier, msg_start, len(result))\n",
      "c:\\Users\\UX430\\anaconda3\\lib\\site-packages\\sklearn\\metrics\\_classification.py:1308: UndefinedMetricWarning: Precision and F-score are ill-defined and being set to 0.0 in labels with no predicted samples. Use `zero_division` parameter to control this behavior.\n",
      "  _warn_prf(average, modifier, msg_start, len(result))\n",
      "c:\\Users\\UX430\\anaconda3\\lib\\site-packages\\sklearn\\metrics\\_classification.py:1308: UndefinedMetricWarning: Precision and F-score are ill-defined and being set to 0.0 in labels with no predicted samples. Use `zero_division` parameter to control this behavior.\n",
      "  _warn_prf(average, modifier, msg_start, len(result))\n"
     ]
    },
    {
     "data": {
      "text/plain": [
       "('f1: 0.689',\n",
       " 'precision: 0.781',\n",
       " 'recall: 0.645',\n",
       " 'accuracy: 0.645',\n",
       " 'true categories: {0, 1, 2, 3}',\n",
       " 'predicted categories: {0, 2, 3}',\n",
       " array([[   25,     0,   432,   492],\n",
       "        [    0,     0,   232,  2710],\n",
       "        [   18,     0, 37703, 15956],\n",
       "        [   51,     0,  2994,  3903]], dtype=int64))"
      ]
     },
     "execution_count": 132,
     "metadata": {},
     "output_type": "execute_result"
    }
   ],
   "source": [
    "evaluate_cat(mod_011_2, xbasic, ybasic)"
   ]
  },
  {
   "cell_type": "markdown",
   "metadata": {},
   "source": [
    "#### 000, 001, 002, 003, 004, 010, 011, CAT500, CAT501, CAT502, CAT700, CAT701, CAT702"
   ]
  },
  {
   "cell_type": "code",
   "execution_count": 7,
   "metadata": {},
   "outputs": [],
   "source": [
    "mod_000 = models.load_model('C:/Users/UX430/Documents/thesis/code/models/id000.hdf5')\n",
    "mod_001 = models.load_model('C:/Users/UX430/Documents/thesis/code/models/id001.hdf5')\n",
    "mod_002 = models.load_model('C:/Users/UX430/Documents/thesis/code/models/id002.hdf5')\n",
    "mod_003 = models.load_model('C:/Users/UX430/Documents/thesis/code/models/id003.hdf5')\n",
    "mod_004 = models.load_model('C:/Users/UX430/Documents/thesis/code/models/id004.hdf5')\n",
    "mod_010 = models.load_model('C:/Users/UX430/Documents/thesis/code/models/id010.hdf5')\n",
    "mod_011 = models.load_model('C:/Users/UX430/Documents/thesis/code/models/id011.hdf5')\n",
    "cat500 = models.load_model('C:/Users/UX430/Documents/thesis/code/models/idCAT500.hdf5')\n",
    "cat501 = models.load_model('C:/Users/UX430/Documents/thesis/code/models/idCAT501.hdf5')\n",
    "cat502 = models.load_model('C:/Users/UX430/Documents/thesis/code/models/idCAT502.hdf5')\n",
    "cat700 = models.load_model('C:/Users/UX430/Documents/thesis/code/models/idCAT700.hdf5')\n",
    "cat701 = models.load_model('C:/Users/UX430/Documents/thesis/code/models/idCAT701.hdf5')\n",
    "cat702 = models.load_model('C:/Users/UX430/Documents/thesis/code/models/idCAT702.hdf5')"
   ]
  },
  {
   "cell_type": "code",
   "execution_count": 7,
   "metadata": {},
   "outputs": [
    {
     "name": "stderr",
     "output_type": "stream",
     "text": [
      "c:\\Users\\UX430\\anaconda3\\lib\\site-packages\\sklearn\\metrics\\_classification.py:1308: UndefinedMetricWarning: Precision and F-score are ill-defined and being set to 0.0 in labels with no predicted samples. Use `zero_division` parameter to control this behavior.\n",
      "  _warn_prf(average, modifier, msg_start, len(result))\n",
      "c:\\Users\\UX430\\anaconda3\\lib\\site-packages\\sklearn\\metrics\\_classification.py:1308: UndefinedMetricWarning: Precision and F-score are ill-defined and being set to 0.0 in labels with no predicted samples. Use `zero_division` parameter to control this behavior.\n",
      "  _warn_prf(average, modifier, msg_start, len(result))\n",
      "c:\\Users\\UX430\\anaconda3\\lib\\site-packages\\sklearn\\metrics\\_classification.py:1308: UndefinedMetricWarning: Precision and F-score are ill-defined and being set to 0.0 in labels with no predicted samples. Use `zero_division` parameter to control this behavior.\n",
      "  _warn_prf(average, modifier, msg_start, len(result))\n"
     ]
    },
    {
     "data": {
      "text/plain": [
       "('f1: 0.756',\n",
       " 'precision: 0.692',\n",
       " 'recall: 0.832',\n",
       " 'accuracy: 0.832',\n",
       " 'true categories: {0, 1, 2, 3}',\n",
       " 'predicted categories: {0, 2}',\n",
       " array([[    0,     0,   949,     0],\n",
       "        [    1,     0,  2941,     0],\n",
       "        [    1,     0, 53676,     0],\n",
       "        [    1,     0,  6947,     0]], dtype=int64))"
      ]
     },
     "execution_count": 7,
     "metadata": {},
     "output_type": "execute_result"
    }
   ],
   "source": [
    "evaluate_cat(mod_000, xcat, ycat)"
   ]
  },
  {
   "cell_type": "code",
   "execution_count": 8,
   "metadata": {},
   "outputs": [
    {
     "name": "stderr",
     "output_type": "stream",
     "text": [
      "c:\\Users\\UX430\\anaconda3\\lib\\site-packages\\sklearn\\metrics\\_classification.py:1308: UndefinedMetricWarning: Precision and F-score are ill-defined and being set to 0.0 in labels with no predicted samples. Use `zero_division` parameter to control this behavior.\n",
      "  _warn_prf(average, modifier, msg_start, len(result))\n",
      "c:\\Users\\UX430\\anaconda3\\lib\\site-packages\\sklearn\\metrics\\_classification.py:1308: UndefinedMetricWarning: Precision and F-score are ill-defined and being set to 0.0 in labels with no predicted samples. Use `zero_division` parameter to control this behavior.\n",
      "  _warn_prf(average, modifier, msg_start, len(result))\n",
      "c:\\Users\\UX430\\anaconda3\\lib\\site-packages\\sklearn\\metrics\\_classification.py:1308: UndefinedMetricWarning: Precision and F-score are ill-defined and being set to 0.0 in labels with no predicted samples. Use `zero_division` parameter to control this behavior.\n",
      "  _warn_prf(average, modifier, msg_start, len(result))\n"
     ]
    },
    {
     "data": {
      "text/plain": [
       "('f1: 0.100',\n",
       " 'precision: 0.062',\n",
       " 'recall: 0.250',\n",
       " 'accuracy: 0.250',\n",
       " 'true categories: {0, 1, 2, 3}',\n",
       " 'predicted categories: {2}',\n",
       " array([[  0,   0, 949,   0],\n",
       "        [  0,   0, 949,   0],\n",
       "        [  0,   0, 949,   0],\n",
       "        [  0,   0, 949,   0]], dtype=int64))"
      ]
     },
     "execution_count": 8,
     "metadata": {},
     "output_type": "execute_result"
    }
   ],
   "source": [
    "evaluate_cat(mod_000, xcat_eq, ycat_eq)"
   ]
  },
  {
   "cell_type": "code",
   "execution_count": 9,
   "metadata": {},
   "outputs": [
    {
     "name": "stderr",
     "output_type": "stream",
     "text": [
      "c:\\Users\\UX430\\anaconda3\\lib\\site-packages\\sklearn\\metrics\\_classification.py:1308: UndefinedMetricWarning: Precision and F-score are ill-defined and being set to 0.0 in labels with no predicted samples. Use `zero_division` parameter to control this behavior.\n",
      "  _warn_prf(average, modifier, msg_start, len(result))\n",
      "c:\\Users\\UX430\\anaconda3\\lib\\site-packages\\sklearn\\metrics\\_classification.py:1308: UndefinedMetricWarning: Precision and F-score are ill-defined and being set to 0.0 in labels with no predicted samples. Use `zero_division` parameter to control this behavior.\n",
      "  _warn_prf(average, modifier, msg_start, len(result))\n",
      "c:\\Users\\UX430\\anaconda3\\lib\\site-packages\\sklearn\\metrics\\_classification.py:1308: UndefinedMetricWarning: Precision and F-score are ill-defined and being set to 0.0 in labels with no predicted samples. Use `zero_division` parameter to control this behavior.\n",
      "  _warn_prf(average, modifier, msg_start, len(result))\n"
     ]
    },
    {
     "data": {
      "text/plain": [
       "('f1: 0.904',\n",
       " 'precision: 0.909',\n",
       " 'recall: 0.924',\n",
       " 'accuracy: 0.924',\n",
       " 'true categories: {0, 1, 2, 3}',\n",
       " 'predicted categories: {0, 2, 3}',\n",
       " array([[    3,     0,    28,   918],\n",
       "        [    0,     0,    16,  2926],\n",
       "        [    0,     0, 52721,   956],\n",
       "        [    0,     0,    31,  6917]], dtype=int64))"
      ]
     },
     "execution_count": 9,
     "metadata": {},
     "output_type": "execute_result"
    }
   ],
   "source": [
    "evaluate_cat(mod_001, xcat, ycat)"
   ]
  },
  {
   "cell_type": "code",
   "execution_count": 10,
   "metadata": {},
   "outputs": [
    {
     "name": "stderr",
     "output_type": "stream",
     "text": [
      "c:\\Users\\UX430\\anaconda3\\lib\\site-packages\\sklearn\\metrics\\_classification.py:1308: UndefinedMetricWarning: Precision and F-score are ill-defined and being set to 0.0 in labels with no predicted samples. Use `zero_division` parameter to control this behavior.\n",
      "  _warn_prf(average, modifier, msg_start, len(result))\n",
      "c:\\Users\\UX430\\anaconda3\\lib\\site-packages\\sklearn\\metrics\\_classification.py:1308: UndefinedMetricWarning: Precision and F-score are ill-defined and being set to 0.0 in labels with no predicted samples. Use `zero_division` parameter to control this behavior.\n",
      "  _warn_prf(average, modifier, msg_start, len(result))\n",
      "c:\\Users\\UX430\\anaconda3\\lib\\site-packages\\sklearn\\metrics\\_classification.py:1308: UndefinedMetricWarning: Precision and F-score are ill-defined and being set to 0.0 in labels with no predicted samples. Use `zero_division` parameter to control this behavior.\n",
      "  _warn_prf(average, modifier, msg_start, len(result))\n"
     ]
    },
    {
     "data": {
      "text/plain": [
       "('f1: 0.341',\n",
       " 'precision: 0.268',\n",
       " 'recall: 0.494',\n",
       " 'accuracy: 0.494',\n",
       " 'true categories: {0, 1, 2, 3}',\n",
       " 'predicted categories: {2, 3}',\n",
       " array([[  0,   0,  53, 896],\n",
       "        [  0,   0, 372, 577],\n",
       "        [  0,   0, 933,  16],\n",
       "        [  0,   0,   5, 944]], dtype=int64))"
      ]
     },
     "execution_count": 10,
     "metadata": {},
     "output_type": "execute_result"
    }
   ],
   "source": [
    "evaluate_cat(mod_001, xcat_eq, ycat_eq)"
   ]
  },
  {
   "cell_type": "code",
   "execution_count": 11,
   "metadata": {},
   "outputs": [
    {
     "data": {
      "text/plain": [
       "('f1: 0.685',\n",
       " 'precision: 0.904',\n",
       " 'recall: 0.567',\n",
       " 'accuracy: 0.567',\n",
       " 'true categories: {0, 1, 2, 3}',\n",
       " 'predicted categories: {0, 1, 2, 3}',\n",
       " array([[  379,    44,    15,   511],\n",
       "        [ 1110,   461,    15,  1356],\n",
       "        [ 7704, 14248, 31220,   505],\n",
       "        [ 2350,   107,     1,  4490]], dtype=int64))"
      ]
     },
     "execution_count": 11,
     "metadata": {},
     "output_type": "execute_result"
    }
   ],
   "source": [
    "evaluate_cat(mod_002, xcat, ycat)"
   ]
  },
  {
   "cell_type": "code",
   "execution_count": 12,
   "metadata": {},
   "outputs": [
    {
     "data": {
      "text/plain": [
       "('f1: 0.475',\n",
       " 'precision: 0.542',\n",
       " 'recall: 0.525',\n",
       " 'accuracy: 0.525',\n",
       " 'true categories: {0, 1, 2, 3}',\n",
       " 'predicted categories: {0, 1, 2, 3}',\n",
       " array([[531,  35,  56, 327],\n",
       "        [427,  67, 276, 179],\n",
       "        [ 35,   0, 905,   9],\n",
       "        [438,  13,   7, 491]], dtype=int64))"
      ]
     },
     "execution_count": 12,
     "metadata": {},
     "output_type": "execute_result"
    }
   ],
   "source": [
    "evaluate_cat(mod_002, xcat_eq, ycat_eq)"
   ]
  },
  {
   "cell_type": "code",
   "execution_count": 13,
   "metadata": {},
   "outputs": [
    {
     "data": {
      "text/plain": [
       "('f1: 0.802',\n",
       " 'precision: 0.932',\n",
       " 'recall: 0.796',\n",
       " 'accuracy: 0.796',\n",
       " 'true categories: {0, 1, 2, 3}',\n",
       " 'predicted categories: {0, 1, 2, 3}',\n",
       " array([[    3,   907,    39,     0],\n",
       "        [    0,  2856,    86,     0],\n",
       "        [    3,  5173, 48500,     1],\n",
       "        [  410,  6337,   192,     9]], dtype=int64))"
      ]
     },
     "execution_count": 13,
     "metadata": {},
     "output_type": "execute_result"
    }
   ],
   "source": [
    "evaluate_cat(mod_003, xcat, ycat)"
   ]
  },
  {
   "cell_type": "code",
   "execution_count": 14,
   "metadata": {},
   "outputs": [
    {
     "data": {
      "text/plain": [
       "('f1: 0.265',\n",
       " 'precision: 0.515',\n",
       " 'recall: 0.383',\n",
       " 'accuracy: 0.383',\n",
       " 'true categories: {0, 1, 2, 3}',\n",
       " 'predicted categories: {0, 1, 2, 3}',\n",
       " array([[  3, 794, 152,   0],\n",
       "        [  0, 513, 436,   0],\n",
       "        [  0,  13, 936,   0],\n",
       "        [  9, 815, 124,   1]], dtype=int64))"
      ]
     },
     "execution_count": 14,
     "metadata": {},
     "output_type": "execute_result"
    }
   ],
   "source": [
    "evaluate_cat(mod_003, xcat_eq, ycat_eq)"
   ]
  },
  {
   "cell_type": "code",
   "execution_count": 15,
   "metadata": {},
   "outputs": [
    {
     "data": {
      "text/plain": [
       "('f1: 0.756',\n",
       " 'precision: 0.721',\n",
       " 'recall: 0.832',\n",
       " 'accuracy: 0.832',\n",
       " 'true categories: {0, 1, 2, 3}',\n",
       " 'predicted categories: {0, 1, 2, 3}',\n",
       " array([[    1,     0,   947,     1],\n",
       "        [    0,     0,  2941,     1],\n",
       "        [    1,     1, 53674,     1],\n",
       "        [    8,     2,  6937,     1]], dtype=int64))"
      ]
     },
     "execution_count": 15,
     "metadata": {},
     "output_type": "execute_result"
    }
   ],
   "source": [
    "evaluate_cat(mod_004, xcat, ycat)"
   ]
  },
  {
   "cell_type": "code",
   "execution_count": 16,
   "metadata": {},
   "outputs": [
    {
     "data": {
      "text/plain": [
       "('f1: 0.171',\n",
       " 'precision: 0.196',\n",
       " 'recall: 0.242',\n",
       " 'accuracy: 0.242',\n",
       " 'true categories: {0, 1, 2, 3}',\n",
       " 'predicted categories: {0, 1, 2, 3}',\n",
       " array([[142, 462, 344,   1],\n",
       "        [  3, 765, 181,   0],\n",
       "        [  1, 938,  10,   0],\n",
       "        [158, 317, 474,   0]], dtype=int64))"
      ]
     },
     "execution_count": 16,
     "metadata": {},
     "output_type": "execute_result"
    }
   ],
   "source": [
    "evaluate_cat(mod_004, xcat_eq, ycat_eq)"
   ]
  },
  {
   "cell_type": "code",
   "execution_count": 17,
   "metadata": {},
   "outputs": [
    {
     "name": "stderr",
     "output_type": "stream",
     "text": [
      "c:\\Users\\UX430\\anaconda3\\lib\\site-packages\\sklearn\\metrics\\_classification.py:1308: UndefinedMetricWarning: Precision and F-score are ill-defined and being set to 0.0 in labels with no predicted samples. Use `zero_division` parameter to control this behavior.\n",
      "  _warn_prf(average, modifier, msg_start, len(result))\n",
      "c:\\Users\\UX430\\anaconda3\\lib\\site-packages\\sklearn\\metrics\\_classification.py:1308: UndefinedMetricWarning: Precision and F-score are ill-defined and being set to 0.0 in labels with no predicted samples. Use `zero_division` parameter to control this behavior.\n",
      "  _warn_prf(average, modifier, msg_start, len(result))\n",
      "c:\\Users\\UX430\\anaconda3\\lib\\site-packages\\sklearn\\metrics\\_classification.py:1308: UndefinedMetricWarning: Precision and F-score are ill-defined and being set to 0.0 in labels with no predicted samples. Use `zero_division` parameter to control this behavior.\n",
      "  _warn_prf(average, modifier, msg_start, len(result))\n"
     ]
    },
    {
     "data": {
      "text/plain": [
       "('f1: 0.052',\n",
       " 'precision: 0.461',\n",
       " 'recall: 0.108',\n",
       " 'accuracy: 0.108',\n",
       " 'true categories: {0, 1, 2, 3}',\n",
       " 'predicted categories: {0, 2, 3}',\n",
       " array([[   23,     0,     6,   920],\n",
       "        [  477,     0,     2,  2463],\n",
       "        [41953,     0,    19, 11705],\n",
       "        [   17,     0,    10,  6921]], dtype=int64))"
      ]
     },
     "execution_count": 17,
     "metadata": {},
     "output_type": "execute_result"
    }
   ],
   "source": [
    "evaluate_cat(mod_010, xcat, ycat)"
   ]
  },
  {
   "cell_type": "code",
   "execution_count": 18,
   "metadata": {},
   "outputs": [
    {
     "name": "stderr",
     "output_type": "stream",
     "text": [
      "c:\\Users\\UX430\\anaconda3\\lib\\site-packages\\sklearn\\metrics\\_classification.py:1308: UndefinedMetricWarning: Precision and F-score are ill-defined and being set to 0.0 in labels with no predicted samples. Use `zero_division` parameter to control this behavior.\n",
      "  _warn_prf(average, modifier, msg_start, len(result))\n",
      "c:\\Users\\UX430\\anaconda3\\lib\\site-packages\\sklearn\\metrics\\_classification.py:1308: UndefinedMetricWarning: Precision and F-score are ill-defined and being set to 0.0 in labels with no predicted samples. Use `zero_division` parameter to control this behavior.\n",
      "  _warn_prf(average, modifier, msg_start, len(result))\n",
      "c:\\Users\\UX430\\anaconda3\\lib\\site-packages\\sklearn\\metrics\\_classification.py:1308: UndefinedMetricWarning: Precision and F-score are ill-defined and being set to 0.0 in labels with no predicted samples. Use `zero_division` parameter to control this behavior.\n",
      "  _warn_prf(average, modifier, msg_start, len(result))\n"
     ]
    },
    {
     "data": {
      "text/plain": [
       "('f1: 0.358',\n",
       " 'precision: 0.333',\n",
       " 'recall: 0.496',\n",
       " 'accuracy: 0.496',\n",
       " 'true categories: {0, 1, 2, 3}',\n",
       " 'predicted categories: {0, 2, 3}',\n",
       " array([[ 10,   0,  45, 894],\n",
       "        [ 40,   0, 205, 704],\n",
       "        [  2,   0, 933,  14],\n",
       "        [  5,   0,   3, 941]], dtype=int64))"
      ]
     },
     "execution_count": 18,
     "metadata": {},
     "output_type": "execute_result"
    }
   ],
   "source": [
    "evaluate_cat(mod_010, xcat_eq, ycat_eq)"
   ]
  },
  {
   "cell_type": "code",
   "execution_count": 19,
   "metadata": {},
   "outputs": [
    {
     "name": "stderr",
     "output_type": "stream",
     "text": [
      "c:\\Users\\UX430\\anaconda3\\lib\\site-packages\\sklearn\\metrics\\_classification.py:1308: UndefinedMetricWarning: Precision and F-score are ill-defined and being set to 0.0 in labels with no predicted samples. Use `zero_division` parameter to control this behavior.\n",
      "  _warn_prf(average, modifier, msg_start, len(result))\n",
      "c:\\Users\\UX430\\anaconda3\\lib\\site-packages\\sklearn\\metrics\\_classification.py:1308: UndefinedMetricWarning: Precision and F-score are ill-defined and being set to 0.0 in labels with no predicted samples. Use `zero_division` parameter to control this behavior.\n",
      "  _warn_prf(average, modifier, msg_start, len(result))\n",
      "c:\\Users\\UX430\\anaconda3\\lib\\site-packages\\sklearn\\metrics\\_classification.py:1308: UndefinedMetricWarning: Precision and F-score are ill-defined and being set to 0.0 in labels with no predicted samples. Use `zero_division` parameter to control this behavior.\n",
      "  _warn_prf(average, modifier, msg_start, len(result))\n"
     ]
    },
    {
     "data": {
      "text/plain": [
       "('f1: 0.692',\n",
       " 'precision: 0.788',\n",
       " 'recall: 0.649',\n",
       " 'accuracy: 0.649',\n",
       " 'true categories: {0, 1, 2, 3}',\n",
       " 'predicted categories: {0, 2, 3}',\n",
       " array([[   22,     0,   400,   527],\n",
       "        [    0,     0,   165,  2777],\n",
       "        [   15,     0, 37673, 15989],\n",
       "        [   40,     0,  2757,  4151]], dtype=int64))"
      ]
     },
     "execution_count": 19,
     "metadata": {},
     "output_type": "execute_result"
    }
   ],
   "source": [
    "evaluate_cat(mod_011, xcat, ycat)"
   ]
  },
  {
   "cell_type": "code",
   "execution_count": 20,
   "metadata": {},
   "outputs": [
    {
     "name": "stderr",
     "output_type": "stream",
     "text": [
      "c:\\Users\\UX430\\anaconda3\\lib\\site-packages\\sklearn\\metrics\\_classification.py:1308: UndefinedMetricWarning: Precision and F-score are ill-defined and being set to 0.0 in labels with no predicted samples. Use `zero_division` parameter to control this behavior.\n",
      "  _warn_prf(average, modifier, msg_start, len(result))\n",
      "c:\\Users\\UX430\\anaconda3\\lib\\site-packages\\sklearn\\metrics\\_classification.py:1308: UndefinedMetricWarning: Precision and F-score are ill-defined and being set to 0.0 in labels with no predicted samples. Use `zero_division` parameter to control this behavior.\n",
      "  _warn_prf(average, modifier, msg_start, len(result))\n",
      "c:\\Users\\UX430\\anaconda3\\lib\\site-packages\\sklearn\\metrics\\_classification.py:1308: UndefinedMetricWarning: Precision and F-score are ill-defined and being set to 0.0 in labels with no predicted samples. Use `zero_division` parameter to control this behavior.\n",
      "  _warn_prf(average, modifier, msg_start, len(result))\n"
     ]
    },
    {
     "data": {
      "text/plain": [
       "('f1: 0.343',\n",
       " 'precision: 0.518',\n",
       " 'recall: 0.495',\n",
       " 'accuracy: 0.495',\n",
       " 'true categories: {0, 1, 2, 3}',\n",
       " 'predicted categories: {0, 2, 3}',\n",
       " array([[  3,   0,  55, 891],\n",
       "        [  0,   0, 369, 580],\n",
       "        [  0,   0, 933,  16],\n",
       "        [  0,   0,   5, 944]], dtype=int64))"
      ]
     },
     "execution_count": 20,
     "metadata": {},
     "output_type": "execute_result"
    }
   ],
   "source": [
    "evaluate_cat(mod_011, xcat_eq, ycat_eq)"
   ]
  },
  {
   "cell_type": "code",
   "execution_count": 8,
   "metadata": {},
   "outputs": [
    {
     "name": "stderr",
     "output_type": "stream",
     "text": [
      "c:\\Users\\UX430\\anaconda3\\lib\\site-packages\\sklearn\\metrics\\_classification.py:1308: UndefinedMetricWarning: Precision and F-score are ill-defined and being set to 0.0 in labels with no predicted samples. Use `zero_division` parameter to control this behavior.\n",
      "  _warn_prf(average, modifier, msg_start, len(result))\n",
      "c:\\Users\\UX430\\anaconda3\\lib\\site-packages\\sklearn\\metrics\\_classification.py:1308: UndefinedMetricWarning: Precision and F-score are ill-defined and being set to 0.0 in labels with no predicted samples. Use `zero_division` parameter to control this behavior.\n",
      "  _warn_prf(average, modifier, msg_start, len(result))\n",
      "c:\\Users\\UX430\\anaconda3\\lib\\site-packages\\sklearn\\metrics\\_classification.py:1308: UndefinedMetricWarning: Precision and F-score are ill-defined and being set to 0.0 in labels with no predicted samples. Use `zero_division` parameter to control this behavior.\n",
      "  _warn_prf(average, modifier, msg_start, len(result))\n"
     ]
    },
    {
     "data": {
      "text/plain": [
       "('f1: 0.756',\n",
       " 'precision: 0.692',\n",
       " 'recall: 0.832',\n",
       " 'accuracy: 0.832',\n",
       " 'true categories: {0, 1, 2, 3}',\n",
       " 'predicted categories: {0, 2}',\n",
       " array([[    0,     0,   949,     0],\n",
       "        [    1,     0,  2941,     0],\n",
       "        [    1,     0, 53676,     0],\n",
       "        [    1,     0,  6947,     0]], dtype=int64))"
      ]
     },
     "execution_count": 8,
     "metadata": {},
     "output_type": "execute_result"
    }
   ],
   "source": [
    "evaluate_cat(cat500, xcat, ycat)"
   ]
  },
  {
   "cell_type": "code",
   "execution_count": 9,
   "metadata": {},
   "outputs": [
    {
     "name": "stderr",
     "output_type": "stream",
     "text": [
      "c:\\Users\\UX430\\anaconda3\\lib\\site-packages\\sklearn\\metrics\\_classification.py:1308: UndefinedMetricWarning: Precision and F-score are ill-defined and being set to 0.0 in labels with no predicted samples. Use `zero_division` parameter to control this behavior.\n",
      "  _warn_prf(average, modifier, msg_start, len(result))\n",
      "c:\\Users\\UX430\\anaconda3\\lib\\site-packages\\sklearn\\metrics\\_classification.py:1308: UndefinedMetricWarning: Precision and F-score are ill-defined and being set to 0.0 in labels with no predicted samples. Use `zero_division` parameter to control this behavior.\n",
      "  _warn_prf(average, modifier, msg_start, len(result))\n",
      "c:\\Users\\UX430\\anaconda3\\lib\\site-packages\\sklearn\\metrics\\_classification.py:1308: UndefinedMetricWarning: Precision and F-score are ill-defined and being set to 0.0 in labels with no predicted samples. Use `zero_division` parameter to control this behavior.\n",
      "  _warn_prf(average, modifier, msg_start, len(result))\n"
     ]
    },
    {
     "data": {
      "text/plain": [
       "('f1: 0.100',\n",
       " 'precision: 0.062',\n",
       " 'recall: 0.250',\n",
       " 'accuracy: 0.250',\n",
       " 'true categories: {0, 1, 2, 3}',\n",
       " 'predicted categories: {2}',\n",
       " array([[  0,   0, 949,   0],\n",
       "        [  0,   0, 949,   0],\n",
       "        [  0,   0, 949,   0],\n",
       "        [  0,   0, 949,   0]], dtype=int64))"
      ]
     },
     "execution_count": 9,
     "metadata": {},
     "output_type": "execute_result"
    }
   ],
   "source": [
    "evaluate_cat(cat500, xcat_eq, ycat_eq)"
   ]
  },
  {
   "cell_type": "code",
   "execution_count": 10,
   "metadata": {},
   "outputs": [
    {
     "name": "stderr",
     "output_type": "stream",
     "text": [
      "c:\\Users\\UX430\\anaconda3\\lib\\site-packages\\sklearn\\metrics\\_classification.py:1308: UndefinedMetricWarning: Precision and F-score are ill-defined and being set to 0.0 in labels with no predicted samples. Use `zero_division` parameter to control this behavior.\n",
      "  _warn_prf(average, modifier, msg_start, len(result))\n",
      "c:\\Users\\UX430\\anaconda3\\lib\\site-packages\\sklearn\\metrics\\_classification.py:1308: UndefinedMetricWarning: Precision and F-score are ill-defined and being set to 0.0 in labels with no predicted samples. Use `zero_division` parameter to control this behavior.\n",
      "  _warn_prf(average, modifier, msg_start, len(result))\n",
      "c:\\Users\\UX430\\anaconda3\\lib\\site-packages\\sklearn\\metrics\\_classification.py:1308: UndefinedMetricWarning: Precision and F-score are ill-defined and being set to 0.0 in labels with no predicted samples. Use `zero_division` parameter to control this behavior.\n",
      "  _warn_prf(average, modifier, msg_start, len(result))\n"
     ]
    },
    {
     "data": {
      "text/plain": [
       "('f1: 0.820',\n",
       " 'precision: 0.900',\n",
       " 'recall: 0.774',\n",
       " 'accuracy: 0.774',\n",
       " 'true categories: {0, 1, 2, 3}',\n",
       " 'predicted categories: {0, 2, 3}',\n",
       " array([[  740,     0,    24,   185],\n",
       "        [ 2204,     0,   234,   504],\n",
       "        [ 6031,     0, 47493,   153],\n",
       "        [ 5189,     0,    26,  1733]], dtype=int64))"
      ]
     },
     "execution_count": 10,
     "metadata": {},
     "output_type": "execute_result"
    }
   ],
   "source": [
    "evaluate_cat(cat501, xcat, ycat)"
   ]
  },
  {
   "cell_type": "code",
   "execution_count": 11,
   "metadata": {},
   "outputs": [
    {
     "name": "stderr",
     "output_type": "stream",
     "text": [
      "c:\\Users\\UX430\\anaconda3\\lib\\site-packages\\sklearn\\metrics\\_classification.py:1308: UndefinedMetricWarning: Precision and F-score are ill-defined and being set to 0.0 in labels with no predicted samples. Use `zero_division` parameter to control this behavior.\n",
      "  _warn_prf(average, modifier, msg_start, len(result))\n",
      "c:\\Users\\UX430\\anaconda3\\lib\\site-packages\\sklearn\\metrics\\_classification.py:1308: UndefinedMetricWarning: Precision and F-score are ill-defined and being set to 0.0 in labels with no predicted samples. Use `zero_division` parameter to control this behavior.\n",
      "  _warn_prf(average, modifier, msg_start, len(result))\n",
      "c:\\Users\\UX430\\anaconda3\\lib\\site-packages\\sklearn\\metrics\\_classification.py:1308: UndefinedMetricWarning: Precision and F-score are ill-defined and being set to 0.0 in labels with no predicted samples. Use `zero_division` parameter to control this behavior.\n",
      "  _warn_prf(average, modifier, msg_start, len(result))\n"
     ]
    },
    {
     "data": {
      "text/plain": [
       "('f1: 0.437',\n",
       " 'precision: 0.382',\n",
       " 'recall: 0.513',\n",
       " 'accuracy: 0.513',\n",
       " 'true categories: {0, 1, 2, 3}',\n",
       " 'predicted categories: {0, 2, 3}',\n",
       " array([[510,   0,  62, 377],\n",
       "        [360,   0, 322, 267],\n",
       "        [ 10,   0, 934,   5],\n",
       "        [440,   0,   7, 502]], dtype=int64))"
      ]
     },
     "execution_count": 11,
     "metadata": {},
     "output_type": "execute_result"
    }
   ],
   "source": [
    "evaluate_cat(cat501, xcat_eq, ycat_eq)"
   ]
  },
  {
   "cell_type": "code",
   "execution_count": 12,
   "metadata": {},
   "outputs": [
    {
     "name": "stderr",
     "output_type": "stream",
     "text": [
      "c:\\Users\\UX430\\anaconda3\\lib\\site-packages\\sklearn\\metrics\\_classification.py:1308: UndefinedMetricWarning: Precision and F-score are ill-defined and being set to 0.0 in labels with no predicted samples. Use `zero_division` parameter to control this behavior.\n",
      "  _warn_prf(average, modifier, msg_start, len(result))\n",
      "c:\\Users\\UX430\\anaconda3\\lib\\site-packages\\sklearn\\metrics\\_classification.py:1308: UndefinedMetricWarning: Precision and F-score are ill-defined and being set to 0.0 in labels with no predicted samples. Use `zero_division` parameter to control this behavior.\n",
      "  _warn_prf(average, modifier, msg_start, len(result))\n",
      "c:\\Users\\UX430\\anaconda3\\lib\\site-packages\\sklearn\\metrics\\_classification.py:1308: UndefinedMetricWarning: Precision and F-score are ill-defined and being set to 0.0 in labels with no predicted samples. Use `zero_division` parameter to control this behavior.\n",
      "  _warn_prf(average, modifier, msg_start, len(result))\n"
     ]
    },
    {
     "data": {
      "text/plain": [
       "('f1: 0.900',\n",
       " 'precision: 0.899',\n",
       " 'recall: 0.924',\n",
       " 'accuracy: 0.924',\n",
       " 'true categories: {0, 1, 2, 3}',\n",
       " 'predicted categories: {1, 2, 3}',\n",
       " array([[    0,     0,    55,   894],\n",
       "        [    0,     1,  1095,  1846],\n",
       "        [    0,     1, 52743,   933],\n",
       "        [    0,     1,    50,  6897]], dtype=int64))"
      ]
     },
     "execution_count": 12,
     "metadata": {},
     "output_type": "execute_result"
    }
   ],
   "source": [
    "evaluate_cat(cat502, xcat, ycat)"
   ]
  },
  {
   "cell_type": "code",
   "execution_count": 13,
   "metadata": {},
   "outputs": [
    {
     "name": "stderr",
     "output_type": "stream",
     "text": [
      "c:\\Users\\UX430\\anaconda3\\lib\\site-packages\\sklearn\\metrics\\_classification.py:1308: UndefinedMetricWarning: Precision and F-score are ill-defined and being set to 0.0 in labels with no predicted samples. Use `zero_division` parameter to control this behavior.\n",
      "  _warn_prf(average, modifier, msg_start, len(result))\n",
      "c:\\Users\\UX430\\anaconda3\\lib\\site-packages\\sklearn\\metrics\\_classification.py:1308: UndefinedMetricWarning: Precision and F-score are ill-defined and being set to 0.0 in labels with no predicted samples. Use `zero_division` parameter to control this behavior.\n",
      "  _warn_prf(average, modifier, msg_start, len(result))\n",
      "c:\\Users\\UX430\\anaconda3\\lib\\site-packages\\sklearn\\metrics\\_classification.py:1308: UndefinedMetricWarning: Precision and F-score are ill-defined and being set to 0.0 in labels with no predicted samples. Use `zero_division` parameter to control this behavior.\n",
      "  _warn_prf(average, modifier, msg_start, len(result))\n"
     ]
    },
    {
     "data": {
      "text/plain": [
       "('f1: 0.337',\n",
       " 'precision: 0.262',\n",
       " 'recall: 0.491',\n",
       " 'accuracy: 0.491',\n",
       " 'true categories: {0, 1, 2, 3}',\n",
       " 'predicted categories: {2, 3}',\n",
       " array([[  0,   0,  96, 853],\n",
       "        [  0,   0, 374, 575],\n",
       "        [  0,   0, 936,  13],\n",
       "        [  0,   0,  20, 929]], dtype=int64))"
      ]
     },
     "execution_count": 13,
     "metadata": {},
     "output_type": "execute_result"
    }
   ],
   "source": [
    "evaluate_cat(cat502, xcat_eq, ycat_eq)"
   ]
  },
  {
   "cell_type": "code",
   "execution_count": 14,
   "metadata": {},
   "outputs": [
    {
     "name": "stderr",
     "output_type": "stream",
     "text": [
      "c:\\Users\\UX430\\anaconda3\\lib\\site-packages\\sklearn\\metrics\\_classification.py:1308: UndefinedMetricWarning: Precision and F-score are ill-defined and being set to 0.0 in labels with no predicted samples. Use `zero_division` parameter to control this behavior.\n",
      "  _warn_prf(average, modifier, msg_start, len(result))\n",
      "c:\\Users\\UX430\\anaconda3\\lib\\site-packages\\sklearn\\metrics\\_classification.py:1308: UndefinedMetricWarning: Precision and F-score are ill-defined and being set to 0.0 in labels with no predicted samples. Use `zero_division` parameter to control this behavior.\n",
      "  _warn_prf(average, modifier, msg_start, len(result))\n",
      "c:\\Users\\UX430\\anaconda3\\lib\\site-packages\\sklearn\\metrics\\_classification.py:1308: UndefinedMetricWarning: Precision and F-score are ill-defined and being set to 0.0 in labels with no predicted samples. Use `zero_division` parameter to control this behavior.\n",
      "  _warn_prf(average, modifier, msg_start, len(result))\n"
     ]
    },
    {
     "data": {
      "text/plain": [
       "('f1: 0.756',\n",
       " 'precision: 0.692',\n",
       " 'recall: 0.832',\n",
       " 'accuracy: 0.832',\n",
       " 'true categories: {0, 1, 2, 3}',\n",
       " 'predicted categories: {0, 2}',\n",
       " array([[    0,     0,   949,     0],\n",
       "        [    1,     0,  2941,     0],\n",
       "        [    1,     0, 53676,     0],\n",
       "        [    1,     0,  6947,     0]], dtype=int64))"
      ]
     },
     "execution_count": 14,
     "metadata": {},
     "output_type": "execute_result"
    }
   ],
   "source": [
    "evaluate_cat(cat700, xcat, ycat)"
   ]
  },
  {
   "cell_type": "code",
   "execution_count": 15,
   "metadata": {},
   "outputs": [
    {
     "name": "stderr",
     "output_type": "stream",
     "text": [
      "c:\\Users\\UX430\\anaconda3\\lib\\site-packages\\sklearn\\metrics\\_classification.py:1308: UndefinedMetricWarning: Precision and F-score are ill-defined and being set to 0.0 in labels with no predicted samples. Use `zero_division` parameter to control this behavior.\n",
      "  _warn_prf(average, modifier, msg_start, len(result))\n",
      "c:\\Users\\UX430\\anaconda3\\lib\\site-packages\\sklearn\\metrics\\_classification.py:1308: UndefinedMetricWarning: Precision and F-score are ill-defined and being set to 0.0 in labels with no predicted samples. Use `zero_division` parameter to control this behavior.\n",
      "  _warn_prf(average, modifier, msg_start, len(result))\n",
      "c:\\Users\\UX430\\anaconda3\\lib\\site-packages\\sklearn\\metrics\\_classification.py:1308: UndefinedMetricWarning: Precision and F-score are ill-defined and being set to 0.0 in labels with no predicted samples. Use `zero_division` parameter to control this behavior.\n",
      "  _warn_prf(average, modifier, msg_start, len(result))\n"
     ]
    },
    {
     "data": {
      "text/plain": [
       "('f1: 0.100',\n",
       " 'precision: 0.062',\n",
       " 'recall: 0.250',\n",
       " 'accuracy: 0.250',\n",
       " 'true categories: {0, 1, 2, 3}',\n",
       " 'predicted categories: {2}',\n",
       " array([[  0,   0, 949,   0],\n",
       "        [  0,   0, 949,   0],\n",
       "        [  0,   0, 949,   0],\n",
       "        [  0,   0, 949,   0]], dtype=int64))"
      ]
     },
     "execution_count": 15,
     "metadata": {},
     "output_type": "execute_result"
    }
   ],
   "source": [
    "evaluate_cat(cat700, xcat_eq, ycat_eq)"
   ]
  },
  {
   "cell_type": "code",
   "execution_count": 16,
   "metadata": {},
   "outputs": [
    {
     "data": {
      "text/plain": [
       "('f1: 0.388',\n",
       " 'precision: 0.892',\n",
       " 'recall: 0.302',\n",
       " 'accuracy: 0.302',\n",
       " 'true categories: {0, 1, 2, 3}',\n",
       " 'predicted categories: {0, 1, 2, 3}',\n",
       " array([[  166,    16,     3,   764],\n",
       "        [  503,   624,     2,  1813],\n",
       "        [ 5717, 33088, 12363,  2509],\n",
       "        [  608,    19,     2,  6319]], dtype=int64))"
      ]
     },
     "execution_count": 16,
     "metadata": {},
     "output_type": "execute_result"
    }
   ],
   "source": [
    "evaluate_cat(cat701, xcat, ycat)"
   ]
  },
  {
   "cell_type": "code",
   "execution_count": 17,
   "metadata": {},
   "outputs": [
    {
     "data": {
      "text/plain": [
       "('f1: 0.545',\n",
       " 'precision: 0.647',\n",
       " 'recall: 0.575',\n",
       " 'accuracy: 0.575',\n",
       " 'true categories: {0, 1, 2, 3}',\n",
       " 'predicted categories: {0, 1, 2, 3}',\n",
       " array([[391,   8,  48, 502],\n",
       "        [298, 205, 253, 193],\n",
       "        [ 35,   0, 905,   9],\n",
       "        [258,   3,   6, 682]], dtype=int64))"
      ]
     },
     "execution_count": 17,
     "metadata": {},
     "output_type": "execute_result"
    }
   ],
   "source": [
    "evaluate_cat(cat701, xcat_eq, ycat_eq)"
   ]
  },
  {
   "cell_type": "code",
   "execution_count": 18,
   "metadata": {},
   "outputs": [
    {
     "name": "stderr",
     "output_type": "stream",
     "text": [
      "c:\\Users\\UX430\\anaconda3\\lib\\site-packages\\sklearn\\metrics\\_classification.py:1308: UndefinedMetricWarning: Precision and F-score are ill-defined and being set to 0.0 in labels with no predicted samples. Use `zero_division` parameter to control this behavior.\n",
      "  _warn_prf(average, modifier, msg_start, len(result))\n",
      "c:\\Users\\UX430\\anaconda3\\lib\\site-packages\\sklearn\\metrics\\_classification.py:1308: UndefinedMetricWarning: Precision and F-score are ill-defined and being set to 0.0 in labels with no predicted samples. Use `zero_division` parameter to control this behavior.\n",
      "  _warn_prf(average, modifier, msg_start, len(result))\n",
      "c:\\Users\\UX430\\anaconda3\\lib\\site-packages\\sklearn\\metrics\\_classification.py:1308: UndefinedMetricWarning: Precision and F-score are ill-defined and being set to 0.0 in labels with no predicted samples. Use `zero_division` parameter to control this behavior.\n",
      "  _warn_prf(average, modifier, msg_start, len(result))\n"
     ]
    },
    {
     "data": {
      "text/plain": [
       "('f1: 0.896',\n",
       " 'precision: 0.932',\n",
       " 'recall: 0.912',\n",
       " 'accuracy: 0.912',\n",
       " 'true categories: {0, 1, 2, 3}',\n",
       " 'predicted categories: {1, 2, 3}',\n",
       " array([[    0,     3,    40,   906],\n",
       "        [    0,   149,   252,  2541],\n",
       "        [    0,     1, 51763,  1913],\n",
       "        [    0,     0,    52,  6896]], dtype=int64))"
      ]
     },
     "execution_count": 18,
     "metadata": {},
     "output_type": "execute_result"
    }
   ],
   "source": [
    "evaluate_cat(cat702, xcat, ycat)"
   ]
  },
  {
   "cell_type": "code",
   "execution_count": 19,
   "metadata": {},
   "outputs": [
    {
     "name": "stderr",
     "output_type": "stream",
     "text": [
      "c:\\Users\\UX430\\anaconda3\\lib\\site-packages\\sklearn\\metrics\\_classification.py:1308: UndefinedMetricWarning: Precision and F-score are ill-defined and being set to 0.0 in labels with no predicted samples. Use `zero_division` parameter to control this behavior.\n",
      "  _warn_prf(average, modifier, msg_start, len(result))\n",
      "c:\\Users\\UX430\\anaconda3\\lib\\site-packages\\sklearn\\metrics\\_classification.py:1308: UndefinedMetricWarning: Precision and F-score are ill-defined and being set to 0.0 in labels with no predicted samples. Use `zero_division` parameter to control this behavior.\n",
      "  _warn_prf(average, modifier, msg_start, len(result))\n",
      "c:\\Users\\UX430\\anaconda3\\lib\\site-packages\\sklearn\\metrics\\_classification.py:1308: UndefinedMetricWarning: Precision and F-score are ill-defined and being set to 0.0 in labels with no predicted samples. Use `zero_division` parameter to control this behavior.\n",
      "  _warn_prf(average, modifier, msg_start, len(result))\n"
     ]
    },
    {
     "data": {
      "text/plain": [
       "('f1: 0.368',\n",
       " 'precision: 0.440',\n",
       " 'recall: 0.504',\n",
       " 'accuracy: 0.504',\n",
       " 'true categories: {0, 1, 2, 3}',\n",
       " 'predicted categories: {1, 2, 3}',\n",
       " array([[  0,  17,  61, 871],\n",
       "        [  0,  48, 324, 577],\n",
       "        [  0,   2, 934,  13],\n",
       "        [  0,   5,  11, 933]], dtype=int64))"
      ]
     },
     "execution_count": 19,
     "metadata": {},
     "output_type": "execute_result"
    }
   ],
   "source": [
    "evaluate_cat(cat702, xcat_eq, ycat_eq)"
   ]
  }
 ],
 "metadata": {
  "kernelspec": {
   "display_name": "base",
   "language": "python",
   "name": "python3"
  },
  "language_info": {
   "codemirror_mode": {
    "name": "ipython",
    "version": 3
   },
   "file_extension": ".py",
   "mimetype": "text/x-python",
   "name": "python",
   "nbconvert_exporter": "python",
   "pygments_lexer": "ipython3",
   "version": "3.8.12"
  }
 },
 "nbformat": 4,
 "nbformat_minor": 2
}
