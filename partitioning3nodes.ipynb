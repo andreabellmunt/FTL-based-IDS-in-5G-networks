{
 "cells": [
  {
   "cell_type": "markdown",
   "metadata": {},
   "source": [
    "## Partitioning UNSW-NB15-Train-Basic into 3 nodes \n",
    "\n",
    "The partitions made can be balanced/ unbalanced, with 3 nodes. Attacks might appear in all nodes or only a subset. "
   ]
  },
  {
   "cell_type": "code",
   "execution_count": 3,
   "metadata": {},
   "outputs": [],
   "source": [
    "import numpy as np  # for array\n",
    "import pandas as pd  # for csv files and dataframe\n",
    "import matplotlib.pyplot as plt  # for plotting\n",
    "import seaborn as sns  # plotting\n",
    "from scipy import stats\n",
    "\n",
    "import pickle  # To load data int disk\n",
    "\n",
    "import warnings\n",
    "warnings.filterwarnings(\"ignore\")\n",
    "\n",
    "from sklearn.preprocessing import StandardScaler\n",
    "from sklearn.preprocessing import LabelEncoder, OneHotEncoder\n",
    "\n",
    "from sklearn.model_selection import train_test_split\n",
    "\n",
    "from sklearn.metrics import accuracy_score, confusion_matrix, make_scorer\n",
    "from sklearn.metrics import auc, f1_score, roc_curve\n",
    "from sklearn.model_selection import GridSearchCV, RandomizedSearchCV\n",
    "from sklearn.model_selection import cross_validate, cross_val_predict"
   ]
  },
  {
   "cell_type": "code",
   "execution_count": 4,
   "metadata": {},
   "outputs": [],
   "source": [
    "# Get UNSW-NB15-Train-Basic dataset \n",
    "complete = pd.read_csv('C:/Users/UX430/Documents/thesis/datasets/UNSW-NB15/UNSW-NB15-Train-Basic.csv')"
   ]
  },
  {
   "cell_type": "code",
   "execution_count": 3,
   "metadata": {},
   "outputs": [
    {
     "data": {
      "text/html": [
       "<div>\n",
       "<style scoped>\n",
       "    .dataframe tbody tr th:only-of-type {\n",
       "        vertical-align: middle;\n",
       "    }\n",
       "\n",
       "    .dataframe tbody tr th {\n",
       "        vertical-align: top;\n",
       "    }\n",
       "\n",
       "    .dataframe thead th {\n",
       "        text-align: right;\n",
       "    }\n",
       "</style>\n",
       "<table border=\"1\" class=\"dataframe\">\n",
       "  <thead>\n",
       "    <tr style=\"text-align: right;\">\n",
       "      <th></th>\n",
       "      <th>proto</th>\n",
       "      <th>srcip</th>\n",
       "      <th>sport</th>\n",
       "      <th>dstip</th>\n",
       "      <th>dsport</th>\n",
       "      <th>spkts</th>\n",
       "      <th>dpkts</th>\n",
       "      <th>sbytes</th>\n",
       "      <th>dbytes</th>\n",
       "      <th>state</th>\n",
       "      <th>stime</th>\n",
       "      <th>ltime</th>\n",
       "      <th>dur</th>\n",
       "      <th>label</th>\n",
       "      <th>attack_cat</th>\n",
       "    </tr>\n",
       "  </thead>\n",
       "  <tbody>\n",
       "    <tr>\n",
       "      <th>0</th>\n",
       "      <td>udp</td>\n",
       "      <td>59.166.0.7</td>\n",
       "      <td>45584</td>\n",
       "      <td>149.171.126.0</td>\n",
       "      <td>53</td>\n",
       "      <td>2</td>\n",
       "      <td>2</td>\n",
       "      <td>130</td>\n",
       "      <td>162</td>\n",
       "      <td>CON</td>\n",
       "      <td>1424257612</td>\n",
       "      <td>1424257612</td>\n",
       "      <td>0.003362</td>\n",
       "      <td>0</td>\n",
       "      <td>normal</td>\n",
       "    </tr>\n",
       "    <tr>\n",
       "      <th>1</th>\n",
       "      <td>tcp</td>\n",
       "      <td>59.166.0.2</td>\n",
       "      <td>18633</td>\n",
       "      <td>149.171.126.3</td>\n",
       "      <td>8908</td>\n",
       "      <td>38</td>\n",
       "      <td>40</td>\n",
       "      <td>2438</td>\n",
       "      <td>19440</td>\n",
       "      <td>FIN</td>\n",
       "      <td>1424258064</td>\n",
       "      <td>1424258064</td>\n",
       "      <td>0.013975</td>\n",
       "      <td>0</td>\n",
       "      <td>normal</td>\n",
       "    </tr>\n",
       "    <tr>\n",
       "      <th>2</th>\n",
       "      <td>tcp</td>\n",
       "      <td>59.166.0.7</td>\n",
       "      <td>48428</td>\n",
       "      <td>149.171.126.4</td>\n",
       "      <td>143</td>\n",
       "      <td>122</td>\n",
       "      <td>126</td>\n",
       "      <td>7824</td>\n",
       "      <td>14814</td>\n",
       "      <td>FIN</td>\n",
       "      <td>1421951117</td>\n",
       "      <td>1421951118</td>\n",
       "      <td>0.757193</td>\n",
       "      <td>0</td>\n",
       "      <td>normal</td>\n",
       "    </tr>\n",
       "    <tr>\n",
       "      <th>3</th>\n",
       "      <td>unas</td>\n",
       "      <td>175.45.176.1</td>\n",
       "      <td>0</td>\n",
       "      <td>149.171.126.17</td>\n",
       "      <td>0</td>\n",
       "      <td>2</td>\n",
       "      <td>0</td>\n",
       "      <td>200</td>\n",
       "      <td>0</td>\n",
       "      <td>INT</td>\n",
       "      <td>1424244417</td>\n",
       "      <td>1424244417</td>\n",
       "      <td>0.000004</td>\n",
       "      <td>1</td>\n",
       "      <td>dos</td>\n",
       "    </tr>\n",
       "    <tr>\n",
       "      <th>4</th>\n",
       "      <td>tcp</td>\n",
       "      <td>175.45.176.1</td>\n",
       "      <td>65485</td>\n",
       "      <td>149.171.126.17</td>\n",
       "      <td>179</td>\n",
       "      <td>10</td>\n",
       "      <td>6</td>\n",
       "      <td>876</td>\n",
       "      <td>268</td>\n",
       "      <td>FIN</td>\n",
       "      <td>1421928270</td>\n",
       "      <td>1421928271</td>\n",
       "      <td>0.436004</td>\n",
       "      <td>0</td>\n",
       "      <td>normal</td>\n",
       "    </tr>\n",
       "    <tr>\n",
       "      <th>...</th>\n",
       "      <td>...</td>\n",
       "      <td>...</td>\n",
       "      <td>...</td>\n",
       "      <td>...</td>\n",
       "      <td>...</td>\n",
       "      <td>...</td>\n",
       "      <td>...</td>\n",
       "      <td>...</td>\n",
       "      <td>...</td>\n",
       "      <td>...</td>\n",
       "      <td>...</td>\n",
       "      <td>...</td>\n",
       "      <td>...</td>\n",
       "      <td>...</td>\n",
       "      <td>...</td>\n",
       "    </tr>\n",
       "    <tr>\n",
       "      <th>435514</th>\n",
       "      <td>udp</td>\n",
       "      <td>175.45.176.2</td>\n",
       "      <td>31072</td>\n",
       "      <td>149.171.126.19</td>\n",
       "      <td>500</td>\n",
       "      <td>2</td>\n",
       "      <td>0</td>\n",
       "      <td>136</td>\n",
       "      <td>0</td>\n",
       "      <td>INT</td>\n",
       "      <td>1424223755</td>\n",
       "      <td>1424223755</td>\n",
       "      <td>0.000001</td>\n",
       "      <td>1</td>\n",
       "      <td>dos</td>\n",
       "    </tr>\n",
       "    <tr>\n",
       "      <th>435515</th>\n",
       "      <td>tcp</td>\n",
       "      <td>59.166.0.5</td>\n",
       "      <td>2758</td>\n",
       "      <td>149.171.126.8</td>\n",
       "      <td>51824</td>\n",
       "      <td>44</td>\n",
       "      <td>46</td>\n",
       "      <td>2766</td>\n",
       "      <td>28558</td>\n",
       "      <td>FIN</td>\n",
       "      <td>1424261274</td>\n",
       "      <td>1424261274</td>\n",
       "      <td>0.014994</td>\n",
       "      <td>0</td>\n",
       "      <td>normal</td>\n",
       "    </tr>\n",
       "    <tr>\n",
       "      <th>435516</th>\n",
       "      <td>udp</td>\n",
       "      <td>175.45.176.0</td>\n",
       "      <td>47439</td>\n",
       "      <td>149.171.126.10</td>\n",
       "      <td>53</td>\n",
       "      <td>2</td>\n",
       "      <td>0</td>\n",
       "      <td>114</td>\n",
       "      <td>0</td>\n",
       "      <td>INT</td>\n",
       "      <td>1424259155</td>\n",
       "      <td>1424259155</td>\n",
       "      <td>0.000002</td>\n",
       "      <td>1</td>\n",
       "      <td>generic</td>\n",
       "    </tr>\n",
       "    <tr>\n",
       "      <th>435517</th>\n",
       "      <td>udp</td>\n",
       "      <td>175.45.176.1</td>\n",
       "      <td>47439</td>\n",
       "      <td>149.171.126.18</td>\n",
       "      <td>53</td>\n",
       "      <td>2</td>\n",
       "      <td>0</td>\n",
       "      <td>114</td>\n",
       "      <td>0</td>\n",
       "      <td>INT</td>\n",
       "      <td>1424238658</td>\n",
       "      <td>1424238658</td>\n",
       "      <td>0.000002</td>\n",
       "      <td>1</td>\n",
       "      <td>generic</td>\n",
       "    </tr>\n",
       "    <tr>\n",
       "      <th>435518</th>\n",
       "      <td>tcp</td>\n",
       "      <td>59.166.0.9</td>\n",
       "      <td>21223</td>\n",
       "      <td>149.171.126.7</td>\n",
       "      <td>5190</td>\n",
       "      <td>12</td>\n",
       "      <td>12</td>\n",
       "      <td>1064</td>\n",
       "      <td>2260</td>\n",
       "      <td>FIN</td>\n",
       "      <td>1424231610</td>\n",
       "      <td>1424231610</td>\n",
       "      <td>0.004064</td>\n",
       "      <td>0</td>\n",
       "      <td>normal</td>\n",
       "    </tr>\n",
       "  </tbody>\n",
       "</table>\n",
       "<p>435519 rows × 15 columns</p>\n",
       "</div>"
      ],
      "text/plain": [
       "       proto         srcip  sport           dstip dsport  spkts  dpkts  \\\n",
       "0        udp    59.166.0.7  45584   149.171.126.0     53      2      2   \n",
       "1        tcp    59.166.0.2  18633   149.171.126.3   8908     38     40   \n",
       "2        tcp    59.166.0.7  48428   149.171.126.4    143    122    126   \n",
       "3       unas  175.45.176.1      0  149.171.126.17      0      2      0   \n",
       "4        tcp  175.45.176.1  65485  149.171.126.17    179     10      6   \n",
       "...      ...           ...    ...             ...    ...    ...    ...   \n",
       "435514   udp  175.45.176.2  31072  149.171.126.19    500      2      0   \n",
       "435515   tcp    59.166.0.5   2758   149.171.126.8  51824     44     46   \n",
       "435516   udp  175.45.176.0  47439  149.171.126.10     53      2      0   \n",
       "435517   udp  175.45.176.1  47439  149.171.126.18     53      2      0   \n",
       "435518   tcp    59.166.0.9  21223   149.171.126.7   5190     12     12   \n",
       "\n",
       "        sbytes  dbytes state       stime       ltime       dur  label  \\\n",
       "0          130     162   CON  1424257612  1424257612  0.003362      0   \n",
       "1         2438   19440   FIN  1424258064  1424258064  0.013975      0   \n",
       "2         7824   14814   FIN  1421951117  1421951118  0.757193      0   \n",
       "3          200       0   INT  1424244417  1424244417  0.000004      1   \n",
       "4          876     268   FIN  1421928270  1421928271  0.436004      0   \n",
       "...        ...     ...   ...         ...         ...       ...    ...   \n",
       "435514     136       0   INT  1424223755  1424223755  0.000001      1   \n",
       "435515    2766   28558   FIN  1424261274  1424261274  0.014994      0   \n",
       "435516     114       0   INT  1424259155  1424259155  0.000002      1   \n",
       "435517     114       0   INT  1424238658  1424238658  0.000002      1   \n",
       "435518    1064    2260   FIN  1424231610  1424231610  0.004064      0   \n",
       "\n",
       "       attack_cat  \n",
       "0          normal  \n",
       "1          normal  \n",
       "2          normal  \n",
       "3             dos  \n",
       "4          normal  \n",
       "...           ...  \n",
       "435514        dos  \n",
       "435515     normal  \n",
       "435516    generic  \n",
       "435517    generic  \n",
       "435518     normal  \n",
       "\n",
       "[435519 rows x 15 columns]"
      ]
     },
     "execution_count": 3,
     "metadata": {},
     "output_type": "execute_result"
    }
   ],
   "source": [
    "complete"
   ]
  },
  {
   "cell_type": "markdown",
   "metadata": {},
   "source": [
    "### id = 3A : Partition with 3 balanced nodes \n",
    "\n",
    "Normal (3 nodes), Generic (3 nodes), Exploits (2 nodes), DoS and Reconnaissance (1 node).\n",
    "\n",
    "\n",
    "- UNSW-NB15-Train-Basic-Part1 (145200): \n",
    "    - Normal: 72600 (50.0%)\n",
    "    - Generic: 47369 (32.6%)\n",
    "    - Exploits: 14728 (10.2%)\n",
    "    - DoS: 0 (0.0%)\n",
    "    - Reconnaissance: 10503 (7.2%)\n",
    "\n",
    "- UNSW-NB15-Train-Basic-Part2 (145119): \n",
    "    - Normal: 72600 (50.0%)\n",
    "    - Generic: 60213 (41.5%)\n",
    "    - Exploits: 0 (0.0%)\n",
    "    - DoS: 12306 (8.5%)\n",
    "    - Reconnaissance: 0 (0.0%)\n",
    "\n",
    "- UNSW-NB15-Train-Basic-Part3 (145200): \n",
    "    - Normal: 72600 (50.0%)\n",
    "    - Generic: 53792 (37.0%)\n",
    "    - Exploits: 18808 (13.0%)\n",
    "    - DoS: 0 (0.0%)\n",
    "    - Reconnaissance: 0 (0.0%)"
   ]
  },
  {
   "cell_type": "markdown",
   "metadata": {},
   "source": [
    "Get amount of samples for every type of traffic (attack subtypes as well): "
   ]
  },
  {
   "cell_type": "code",
   "execution_count": 4,
   "metadata": {},
   "outputs": [
    {
     "data": {
      "text/plain": [
       "(217800, 15)"
      ]
     },
     "execution_count": 4,
     "metadata": {},
     "output_type": "execute_result"
    }
   ],
   "source": [
    "normal = complete[complete['label'] == 0]\n",
    "normal.shape"
   ]
  },
  {
   "cell_type": "code",
   "execution_count": 5,
   "metadata": {},
   "outputs": [
    {
     "data": {
      "text/plain": [
       "(161374, 15)"
      ]
     },
     "execution_count": 5,
     "metadata": {},
     "output_type": "execute_result"
    }
   ],
   "source": [
    "generic = complete[complete['attack_cat'] == \"generic\"]\n",
    "generic.shape"
   ]
  },
  {
   "cell_type": "code",
   "execution_count": 6,
   "metadata": {},
   "outputs": [
    {
     "data": {
      "text/plain": [
       "(33536, 15)"
      ]
     },
     "execution_count": 6,
     "metadata": {},
     "output_type": "execute_result"
    }
   ],
   "source": [
    "exploits = complete[complete['attack_cat'] == \"exploits\"]\n",
    "exploits.shape"
   ]
  },
  {
   "cell_type": "code",
   "execution_count": 7,
   "metadata": {},
   "outputs": [
    {
     "data": {
      "text/plain": [
       "(12306, 15)"
      ]
     },
     "execution_count": 7,
     "metadata": {},
     "output_type": "execute_result"
    }
   ],
   "source": [
    "dos = complete[complete['attack_cat'] == \"dos\"]\n",
    "dos.shape"
   ]
  },
  {
   "cell_type": "code",
   "execution_count": 8,
   "metadata": {},
   "outputs": [
    {
     "data": {
      "text/plain": [
       "(10503, 15)"
      ]
     },
     "execution_count": 8,
     "metadata": {},
     "output_type": "execute_result"
    }
   ],
   "source": [
    "reconnaissance = complete[complete['attack_cat'] == \"reconnaissance\"]\n",
    "reconnaissance.shape"
   ]
  },
  {
   "cell_type": "markdown",
   "metadata": {},
   "source": [
    "Construct the partitions for each subtype: "
   ]
  },
  {
   "cell_type": "code",
   "execution_count": 9,
   "metadata": {},
   "outputs": [],
   "source": [
    "# Separate into three partitions normal samples (72600)\n",
    "normal1 = complete[complete['label'] == 0].iloc[:72600]\n",
    "normal2 = complete[complete['label'] == 0].iloc[72600:72600*2]\n",
    "normal3 = complete[complete['label'] == 0].iloc[72600*2:]\n"
   ]
  },
  {
   "cell_type": "code",
   "execution_count": 10,
   "metadata": {},
   "outputs": [],
   "source": [
    "# Separate into three partitions generic samples (47369, 60213, 53792)\n",
    "generic1 = complete[complete['attack_cat'] == \"generic\"].iloc[:47369]\n",
    "generic2 = complete[complete['attack_cat'] == \"generic\"].iloc[47369:(47369+60213)]\n",
    "generic3 = complete[complete['attack_cat'] == \"generic\"].iloc[(47369+60213):]"
   ]
  },
  {
   "cell_type": "code",
   "execution_count": 11,
   "metadata": {},
   "outputs": [],
   "source": [
    "# Separate into two partitions exploits samples (14728, 18808)\n",
    "exploits1 = complete[complete['attack_cat'] == \"exploits\"].iloc[:14728]\n",
    "exploits2 = complete[complete['attack_cat'] == \"exploits\"].iloc[14728:]"
   ]
  },
  {
   "cell_type": "code",
   "execution_count": 12,
   "metadata": {},
   "outputs": [],
   "source": [
    "# Get all dos samples and reconnaissance samples\n",
    "dos = complete[complete['attack_cat'] == \"dos\"]\n",
    "recon = complete[complete['attack_cat'] == \"reconnaissance\"]"
   ]
  },
  {
   "cell_type": "markdown",
   "metadata": {},
   "source": [
    "Concatenate the different df to obtain the three final partitions: "
   ]
  },
  {
   "cell_type": "code",
   "execution_count": 13,
   "metadata": {},
   "outputs": [],
   "source": [
    "# Create UNSW-NB15-Train-Basic-PartN, N = 1,2,3, dataset and export to csv\n",
    "part1 = pd.concat([normal1, generic1, exploits1, recon])\n",
    "part2 = pd.concat([normal2, generic2, dos])\n",
    "part3 = pd.concat([normal3, generic3, exploits2])\n",
    "part1.to_csv('C:/Users/UX430/Documents/thesis/datasets/UNSW-NB15/UNSW-NB15-Train-Basic-3A-Part1.csv', index=False)\n",
    "part2.to_csv('C:/Users/UX430/Documents/thesis/datasets/UNSW-NB15/UNSW-NB15-Train-Basic-3A-Part2.csv', index=False)\n",
    "part3.to_csv('C:/Users/UX430/Documents/thesis/datasets/UNSW-NB15/UNSW-NB15-Train-Basic-3A-Part3.csv', index=False)"
   ]
  },
  {
   "cell_type": "markdown",
   "metadata": {},
   "source": [
    "### id = 3B : Partition with 3 balanced nodes \n",
    "\n",
    "Normal (2 nodes), Generic (2 nodes), Exploits (1 nodes), DoS and Reconnaissance (1 node).\n",
    "\n",
    "\n",
    "- UNSW-NB15-Train-Basic-Part1 (145200): \n",
    "    - Normal: 145200 (100.0%)\n",
    "    - Generic: 0 (0.0%)\n",
    "    - Exploits: 0 (0.0%)\n",
    "    - DoS: 0 (0.0%)\n",
    "    - Reconnaissance: 0 (0.0%)\n",
    "\n",
    "- UNSW-NB15-Train-Basic-Part2 (145119): \n",
    "    - Normal: 72600 (50.0%)\n",
    "    - Generic: 60213 (41.5%)\n",
    "    - Exploits: 0 (0.0%)\n",
    "    - DoS: 12306 (8.5%)\n",
    "    - Reconnaissance: 0 (0.0%)\n",
    "\n",
    "- UNSW-NB15-Train-Basic-Part3 (145200): \n",
    "    - Normal: 0 (0.0%)\n",
    "    - Generic: 101161 (69.7%)\n",
    "    - Exploits: 33536 (23.1%)\n",
    "    - DoS: 0 (0.0%)\n",
    "    - Reconnaissance: 10503 (7.2%)"
   ]
  },
  {
   "cell_type": "code",
   "execution_count": 4,
   "metadata": {},
   "outputs": [],
   "source": [
    "# Create the partitions \n",
    "\n",
    "# Separate into two partitions normal samples (145200, 72600)\n",
    "normal1 = complete[complete['label'] == 0].iloc[:145200]\n",
    "normal2 = complete[complete['label'] == 0].iloc[145200:]\n",
    "\n",
    "# Separate into two partitions generic samples (60213, 101161)\n",
    "generic1 = complete[complete['attack_cat'] == \"generic\"].iloc[:60213]\n",
    "generic2 = complete[complete['attack_cat'] == \"generic\"].iloc[60213:]\n",
    "\n",
    "# Grab the samples with exploit attacks \n",
    "exploits1 = complete[complete['attack_cat'] == \"exploits\"]\n",
    "\n",
    "# Get all dos samples and reconnaissance samples\n",
    "dos = complete[complete['attack_cat'] == \"dos\"]\n",
    "recon = complete[complete['attack_cat'] == \"reconnaissance\"]"
   ]
  },
  {
   "cell_type": "code",
   "execution_count": 5,
   "metadata": {},
   "outputs": [],
   "source": [
    "# Create UNSW-NB15-Train-Basic-PartN, N = 1,2,3, dataset and export to csv\n",
    "part1 = pd.concat([normal1])\n",
    "part2 = pd.concat([normal2, generic1, dos])\n",
    "part3 = pd.concat([generic1, exploits1, recon])\n",
    "part1.to_csv('C:/Users/UX430/Documents/thesis/datasets/UNSW-NB15/UNSW-NB15-Train-Basic-3B-Part1.csv', index=False)\n",
    "part2.to_csv('C:/Users/UX430/Documents/thesis/datasets/UNSW-NB15/UNSW-NB15-Train-Basic-3B-Part2.csv', index=False)\n",
    "part3.to_csv('C:/Users/UX430/Documents/thesis/datasets/UNSW-NB15/UNSW-NB15-Train-Basic-3B-Part3.csv', index=False)"
   ]
  },
  {
   "cell_type": "markdown",
   "metadata": {},
   "source": [
    "### id = 3C : Partition with 3 balanced nodes \n",
    "\n",
    "All types of traffic represented in all nodes: \n",
    "\n",
    "NEED TO CHANGE \n",
    "- UNSW-NB15-Train-Basic-Part1 (145173): \n",
    "    - Normal: 72600 (50.0%)\n",
    "    - Generic: 53791 (37.1%)\n",
    "    - Exploits: 11179 (7.7%)\n",
    "    - DoS: 4102 (2.8%)\n",
    "    - Reconnaissance: 3501 (2.4%)\n",
    "\n",
    "- UNSW-NB15-Train-Basic-Part2 (145173): \n",
    "    - Normal: 72600 (50.0%)\n",
    "    - Generic: 53791 (37.1%)\n",
    "    - Exploits: 11179 (7.7%)\n",
    "    - DoS: 4102 (2.8%)\n",
    "    - Reconnaissance: 3501 (2.4%)\n",
    "\n",
    "- UNSW-NB15-Train-Basic-Part3 (145173): \n",
    "    - Normal: 72600 (50.0%)\n",
    "    - Generic: 53792 (37.1%)\n",
    "    - Exploits: 11178 (7.7%)\n",
    "    - DoS: 4102 (2.8%)\n",
    "    - Reconnaissance: 3501 (2.4%)"
   ]
  },
  {
   "cell_type": "code",
   "execution_count": 5,
   "metadata": {},
   "outputs": [],
   "source": [
    "# Create the partitions \n",
    "\n",
    "# Separate into three partitions normal samples (72600)\n",
    "normal1 = complete[complete['label'] == 0].iloc[:72600]\n",
    "normal2 = complete[complete['label'] == 0].iloc[72600:72600*2]\n",
    "normal3 = complete[complete['label'] == 0].iloc[72600*2:]\n",
    "\n",
    "# Separate into three partitions generic samples (53791, 53791, 53792)\n",
    "generic1 = complete[complete['attack_cat'] == \"generic\"].iloc[:53791]\n",
    "generic2 = complete[complete['attack_cat'] == \"generic\"].iloc[53791:53791*2]\n",
    "generic3 = complete[complete['attack_cat'] == \"generic\"].iloc[53791*2:]\n",
    "\n",
    "# Separate into three partitions exploits samples (11179, 11179, 11178) \n",
    "exploits1 = complete[complete['attack_cat'] == \"exploits\"].iloc[:11179]\n",
    "exploits2 = complete[complete['attack_cat'] == \"exploits\"].iloc[11179:11179*2]\n",
    "exploits3 = complete[complete['attack_cat'] == \"exploits\"].iloc[11179*2:]\n",
    "\n",
    "# Separate into three partitions dos samples (4102)\n",
    "dos1 = complete[complete['attack_cat'] == \"dos\"].iloc[:4102]\n",
    "dos2 = complete[complete['attack_cat'] == \"dos\"].iloc[4102:4102*2]\n",
    "dos3 = complete[complete['attack_cat'] == \"dos\"].iloc[4102*2:]\n",
    "\n",
    "# Separate into three partitions reconnaissance samples (3501)\n",
    "recon1 = complete[complete['attack_cat'] == \"reconnaissance\"].iloc[:3501]\n",
    "recon2 = complete[complete['attack_cat'] == \"reconnaissance\"].iloc[3501:3501*2]\n",
    "recon3 = complete[complete['attack_cat'] == \"reconnaissance\"].iloc[3501*2:]"
   ]
  },
  {
   "cell_type": "code",
   "execution_count": 6,
   "metadata": {},
   "outputs": [],
   "source": [
    "# Create UNSW-NB15-Train-Basic-PartN, N = 1,2,3, dataset and export to csv\n",
    "part1 = pd.concat([normal1, generic1, exploits1, dos1, recon1])\n",
    "part2 = pd.concat([normal2, generic2, exploits2, dos2, recon2])\n",
    "part3 = pd.concat([normal3, generic3, exploits3, dos3, recon3])\n",
    "part1.to_csv('C:/Users/UX430/Documents/thesis/datasets/UNSW-NB15/UNSW-NB15-Train-Basic-3C-Part1.csv', index=False)\n",
    "part2.to_csv('C:/Users/UX430/Documents/thesis/datasets/UNSW-NB15/UNSW-NB15-Train-Basic-3C-Part2.csv', index=False)\n",
    "part3.to_csv('C:/Users/UX430/Documents/thesis/datasets/UNSW-NB15/UNSW-NB15-Train-Basic-3C-Part3.csv', index=False)"
   ]
  },
  {
   "cell_type": "markdown",
   "metadata": {},
   "source": [
    "### id = 3D : Partition with 3 balanced nodes \n",
    "\n",
    "To try with balanced nodes (same number of samples) that only contain Normal or Generic in one node, we need to restrict the number of samples at each node. \n",
    "- UNSW-NB15-Train-Basic-Part1 (56345): \n",
    "    - Normal: 56345 (100.0%)\n",
    "    - Generic: 0 (0.0%)\n",
    "    - Exploits: 0 (0.0%)\n",
    "    - DoS: 0 (0.0%)\n",
    "    - Reconnaissance: 0 (0.0%)\n",
    "\n",
    "- UNSW-NB15-Train-Basic-Part2 (56345): \n",
    "    - Normal: 0 (0.0%)\n",
    "    - Generic: 56345 (100.0%)\n",
    "    - Exploits: 0 (0.0%)\n",
    "    - DoS: 0 (0.0%)\n",
    "    - Reconnaissance: 0 (0.0%)\n",
    "\n",
    "- UNSW-NB15-Train-Basic-Part3 (56345): \n",
    "    - Normal: 0 (0.0%)\n",
    "    - Generic: 0 (0.0%)\n",
    "    - Exploits: 33536 (59.52%)\n",
    "    - DoS: 12306 (21.84%)\n",
    "    - Reconnaissance: 10503 (18.64%)"
   ]
  },
  {
   "cell_type": "code",
   "execution_count": 3,
   "metadata": {},
   "outputs": [],
   "source": [
    "# Create the partitions \n",
    "\n",
    "# Grab 56345 random samples from normal traffic \n",
    "normal = complete[complete['attack_cat'] == \"normal\"].sample(56345)\n",
    "\n",
    "# Grab 56345 random samples from generic attacks\n",
    "generic = complete[complete['attack_cat'] == \"generic\"].sample(56345)\n",
    "\n",
    "# Grab the samples with exploit attacks \n",
    "exploits1 = complete[complete['attack_cat'] == \"exploits\"]\n",
    "\n",
    "# Get all dos samples and reconnaissance samples\n",
    "dos = complete[complete['attack_cat'] == \"dos\"]\n",
    "recon = complete[complete['attack_cat'] == \"reconnaissance\"]"
   ]
  },
  {
   "cell_type": "code",
   "execution_count": 4,
   "metadata": {},
   "outputs": [],
   "source": [
    "# Create UNSW-NB15-Train-Basic-PartN, N = 1,2,3, dataset and export to csv\n",
    "part1 = pd.concat([normal])\n",
    "part2 = pd.concat([generic])\n",
    "part3 = pd.concat([exploits1, dos, recon])\n",
    "part1.to_csv('C:/Users/UX430/Documents/thesis/datasets/UNSW-NB15/UNSW-NB15-Train-Basic-3D-Part1.csv', index=False)\n",
    "part2.to_csv('C:/Users/UX430/Documents/thesis/datasets/UNSW-NB15/UNSW-NB15-Train-Basic-3D-Part2.csv', index=False)\n",
    "part3.to_csv('C:/Users/UX430/Documents/thesis/datasets/UNSW-NB15/UNSW-NB15-Train-Basic-3D-Part3.csv', index=False)"
   ]
  },
  {
   "cell_type": "markdown",
   "metadata": {},
   "source": [
    "### id = 3E : Partition with 3 unbalanced nodes \n",
    "\n",
    "To try with balanced nodes (same number of samples) that only contain Normal or Generic in one node, we need to restrict the number of samples at each node. \n",
    "- UNSW-NB15-Train-Basic-Part1 (145173): \n",
    "    - Normal: 74050 (51.0%)\n",
    "    - Generic: 53791 (37.1%)\n",
    "    - Exploits: 11179 (7.7%)\n",
    "    - DoS: 6153 (4.2%)\n",
    "    - Reconnaissance: 0 (0.0%)\n",
    "\n",
    "- UNSW-NB15-Train-Basic-Part2 (145173): \n",
    "    - Normal: 68799 (47.4%)\n",
    "    - Generic: 53791 (37.1%)\n",
    "    - Exploits: 11179 (7.7%)\n",
    "    - DoS: 6153 (4.2%)\n",
    "    - Reconnaissance: 5251 (3.6%)\n",
    "\n",
    "- UNSW-NB15-Train-Basic-Part3 (145173): \n",
    "    - Normal: 74951 (51.6%)\n",
    "    - Generic: 53792 (37.1%)\n",
    "    - Exploits: 11178 (7.7%)\n",
    "    - DoS: 0 (0.0%)\n",
    "    - Reconnaissance: 5252 (3.6%)"
   ]
  },
  {
   "cell_type": "code",
   "execution_count": 7,
   "metadata": {},
   "outputs": [],
   "source": [
    "# Create the partitions \n",
    "\n",
    "# Separate into three partitions normal samples (74050, 68799, 74951)\n",
    "normal1 = complete[complete['label'] == 0].iloc[:74050]\n",
    "normal2 = complete[complete['label'] == 0].iloc[74050:(74050+68799)]\n",
    "normal3 = complete[complete['label'] == 0].iloc[(74050+68799):]\n",
    "\n",
    "# Separate into three partitions generic samples (53791, 53791, 53792)\n",
    "generic1 = complete[complete['attack_cat'] == \"generic\"].iloc[:53791]\n",
    "generic2 = complete[complete['attack_cat'] == \"generic\"].iloc[53791:53791*2]\n",
    "generic3 = complete[complete['attack_cat'] == \"generic\"].iloc[53791*2:]\n",
    "\n",
    "# Separate into three partitions exploits samples (11179, 11179, 11178) \n",
    "exploits1 = complete[complete['attack_cat'] == \"exploits\"].iloc[:11179]\n",
    "exploits2 = complete[complete['attack_cat'] == \"exploits\"].iloc[11179:11179*2]\n",
    "exploits3 = complete[complete['attack_cat'] == \"exploits\"].iloc[11179*2:]\n",
    "\n",
    "# Separate into two partitions dos samples (6153)\n",
    "dos1 = complete[complete['attack_cat'] == \"dos\"].iloc[:6153]\n",
    "dos2 = complete[complete['attack_cat'] == \"dos\"].iloc[6153:]\n",
    "\n",
    "\n",
    "# Separate into two partitions reconnaissance samples (5251, 5252)\n",
    "recon1 = complete[complete['attack_cat'] == \"reconnaissance\"].iloc[:5251]\n",
    "recon2 = complete[complete['attack_cat'] == \"reconnaissance\"].iloc[5251:]"
   ]
  },
  {
   "cell_type": "code",
   "execution_count": 8,
   "metadata": {},
   "outputs": [],
   "source": [
    "# Create UNSW-NB15-Train-Basic-PartN, N = 1,2,3, dataset and export to csv\n",
    "part1 = pd.concat([normal1, generic1, exploits1, dos1])\n",
    "part2 = pd.concat([normal2, generic2, exploits2, dos2, recon1])\n",
    "part3 = pd.concat([normal3, generic3, exploits3, recon2])\n",
    "part1.to_csv('C:/Users/UX430/Documents/thesis/datasets/UNSW-NB15/UNSW-NB15-Train-Basic-3E-Part1.csv', index=False)\n",
    "part2.to_csv('C:/Users/UX430/Documents/thesis/datasets/UNSW-NB15/UNSW-NB15-Train-Basic-3E-Part2.csv', index=False)\n",
    "part3.to_csv('C:/Users/UX430/Documents/thesis/datasets/UNSW-NB15/UNSW-NB15-Train-Basic-3E-Part3.csv', index=False)"
   ]
  },
  {
   "cell_type": "markdown",
   "metadata": {},
   "source": [
    "### id = 3F : Partition with 3 unbalanced nodes\n",
    "\n",
    "Normal (3 nodes), Generic (3 nodes), Exploits (2 nodes), DoS (1 node), Reconnaissance (1 node)\n",
    "\n",
    "- UNSW-NB15-Train-Basic-Part1 (100000): \n",
    "    - Normal: 50000 (50.0%)\n",
    "    - Generic: 17191 (17.2%)\n",
    "    - Exploits: 10000 (10.0%)\n",
    "    - DoS: 12306 (12.3%)\n",
    "    - Reconnaissance: 10503 (10.5%)\n",
    "\n",
    "- UNSW-NB15-Train-Basic-Part2 (135600): \n",
    "    - Normal: 67800 (50.0%)\n",
    "    - Generic: 67800 (50.0%)\n",
    "    - Exploits: 0 (0.0%)\n",
    "    - DoS: 0 (0%)\n",
    "    - Reconnaissance: 0 (0.0%)\n",
    "\n",
    "- UNSW-NB15-Train-Basic-Part3 (199919): \n",
    "    - Normal: 100000 (50.0%)\n",
    "    - Generic: 76383 (38.2%)\n",
    "    - Exploits: 23536 (11.8%)\n",
    "    - DoS: 0 (0.0%)\n",
    "    - Reconnaissance: 0 (0.0%)"
   ]
  },
  {
   "cell_type": "code",
   "execution_count": 5,
   "metadata": {},
   "outputs": [],
   "source": [
    "# Create the partitions \n",
    "\n",
    "# Separate into three partitions normal samples \n",
    "normal1 = complete[complete['label'] == 0].iloc[:50000]\n",
    "normal2 = complete[complete['label'] == 0].iloc[50000:(50000+67800)]\n",
    "normal3 = complete[complete['label'] == 0].iloc[(50000+67800):]\n",
    "\n",
    "# Separate into three partitions generic samples\n",
    "generic1 = complete[complete['attack_cat'] == \"generic\"].iloc[:17191]\n",
    "generic2 = complete[complete['attack_cat'] == \"generic\"].iloc[17191:(17191+67800)]\n",
    "generic3 = complete[complete['attack_cat'] == \"generic\"].iloc[(17191+67800):]\n",
    "\n",
    "# Separate into two partitions exploits samples \n",
    "exploits1 = complete[complete['attack_cat'] == \"exploits\"].iloc[:10000]\n",
    "exploits2 = complete[complete['attack_cat'] == \"exploits\"].iloc[10000:]\n",
    "\n",
    "# Gather all DoS components\n",
    "dos1 = complete[complete['attack_cat'] == \"dos\"]\n",
    "\n",
    "# Gather all Reconnaissance components \n",
    "recon1 = complete[complete['attack_cat'] == \"reconnaissance\"]"
   ]
  },
  {
   "cell_type": "code",
   "execution_count": 6,
   "metadata": {},
   "outputs": [],
   "source": [
    "# Create UNSW-NB15-Train-Basic-PartN, N = 1,2,3, dataset and export to csv\n",
    "part1 = pd.concat([normal1, generic1, exploits1, dos1, recon1])\n",
    "part2 = pd.concat([normal2, generic2])\n",
    "part3 = pd.concat([normal3, generic3, exploits2])\n",
    "part1.to_csv('C:/Users/UX430/Documents/thesis/datasets/UNSW-NB15/UNSW-NB15-Train-Basic-3F-Part1.csv', index=False)\n",
    "part2.to_csv('C:/Users/UX430/Documents/thesis/datasets/UNSW-NB15/UNSW-NB15-Train-Basic-3F-Part2.csv', index=False)\n",
    "part3.to_csv('C:/Users/UX430/Documents/thesis/datasets/UNSW-NB15/UNSW-NB15-Train-Basic-3F-Part3.csv', index=False)"
   ]
  },
  {
   "cell_type": "markdown",
   "metadata": {},
   "source": [
    "### id = 3G : Partition with 3 unbalanced nodes \n",
    "\n",
    "- UNSW-NB15-Train-Basic-Part1 (122573): \n",
    "    - Normal: 50000 (40.8%)\n",
    "    - Generic: 53791 (43.9%)\n",
    "    - Exploits: 11179 (9.1%)\n",
    "    - DoS: 4102 (3.3%)\n",
    "    - Reconnaissance: 3501 (2.9%)\n",
    "\n",
    "- UNSW-NB15-Train-Basic-Part2 (172573): \n",
    "    - Normal: 100000 (57.9%)\n",
    "    - Generic: 53791 (31.2%)\n",
    "    - Exploits: 11179 (6.5%)\n",
    "    - DoS: 4102 (2.4%)\n",
    "    - Reconnaissance: 3501 (2.0%)\n",
    "\n",
    "- UNSW-NB15-Train-Basic-Part3 (140372)\n",
    "    - Normal: 67800 (48.3%)\n",
    "    - Generic: 53791 (38.3%)\n",
    "    - Exploits: 11178 (8.0%)\n",
    "    - DoS: 4102 (2.9%)\n",
    "    - Reconnaissance: 3501 (2.5%)"
   ]
  },
  {
   "cell_type": "code",
   "execution_count": 7,
   "metadata": {},
   "outputs": [],
   "source": [
    "# Create the partitions \n",
    "\n",
    "# Separate into three partitions normal samples \n",
    "normal1 = complete[complete['label'] == 0].iloc[:50000]\n",
    "normal2 = complete[complete['label'] == 0].iloc[50000:(50000+100000)]\n",
    "normal3 = complete[complete['label'] == 0].iloc[(50000+100000):]\n",
    "\n",
    "# Separate into three partitions generic samples \n",
    "generic1 = complete[complete['attack_cat'] == \"generic\"].iloc[:53791]\n",
    "generic2 = complete[complete['attack_cat'] == \"generic\"].iloc[53791:53791*2]\n",
    "generic3 = complete[complete['attack_cat'] == \"generic\"].iloc[53791*2:]\n",
    "\n",
    "# Separate into three partitions exploits samples\n",
    "exploits1 = complete[complete['attack_cat'] == \"exploits\"].iloc[:11179]\n",
    "exploits2 = complete[complete['attack_cat'] == \"exploits\"].iloc[11179:(11179*2)]\n",
    "exploits3 = complete[complete['attack_cat'] == \"exploits\"].iloc[(11179*2):]\n",
    "\n",
    "# Separate into three partitions dos samples\n",
    "dos1 = complete[complete['attack_cat'] == \"dos\"].iloc[:4102]\n",
    "dos2 = complete[complete['attack_cat'] == \"dos\"].iloc[4102:(4102*2)]\n",
    "dos3 = complete[complete['attack_cat'] == \"dos\"].iloc[(4102*2):]\n",
    "\n",
    "\n",
    "# Separate into three partitions reconnaissance samples\n",
    "recon1 = complete[complete['attack_cat'] == \"reconnaissance\"].iloc[:3501]\n",
    "recon2 = complete[complete['attack_cat'] == \"reconnaissance\"].iloc[3501:(3501*2)]\n",
    "recon3 = complete[complete['attack_cat'] == \"reconnaissance\"].iloc[3501*2:]"
   ]
  },
  {
   "cell_type": "code",
   "execution_count": 8,
   "metadata": {},
   "outputs": [],
   "source": [
    "# Create UNSW-NB15-Train-Basic-PartN, N = 1,2,3, dataset and export to csv\n",
    "part1 = pd.concat([normal1, generic1, exploits1, dos1, recon1])\n",
    "part2 = pd.concat([normal2, generic2, exploits2, dos2, recon2])\n",
    "part3 = pd.concat([normal3, generic3, exploits3, recon3, dos3])\n",
    "part1.to_csv('C:/Users/UX430/Documents/thesis/datasets/UNSW-NB15/UNSW-NB15-Train-Basic-3G-Part1.csv', index=False)\n",
    "part2.to_csv('C:/Users/UX430/Documents/thesis/datasets/UNSW-NB15/UNSW-NB15-Train-Basic-3G-Part2.csv', index=False)\n",
    "part3.to_csv('C:/Users/UX430/Documents/thesis/datasets/UNSW-NB15/UNSW-NB15-Train-Basic-3G-Part3.csv', index=False)"
   ]
  }
 ],
 "metadata": {
  "kernelspec": {
   "display_name": "base",
   "language": "python",
   "name": "python3"
  },
  "language_info": {
   "codemirror_mode": {
    "name": "ipython",
    "version": 3
   },
   "file_extension": ".py",
   "mimetype": "text/x-python",
   "name": "python",
   "nbconvert_exporter": "python",
   "pygments_lexer": "ipython3",
   "version": "3.8.12"
  }
 },
 "nbformat": 4,
 "nbformat_minor": 2
}
