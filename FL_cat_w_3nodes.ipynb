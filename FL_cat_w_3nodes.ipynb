{
 "cells": [
  {
   "cell_type": "markdown",
   "metadata": {},
   "source": [
    "## **Federated Learning for attack classification: 3 nodes sharing weights**\n",
    "\n",
    "IDs from this file = **ID3xy** (x = 0 if experiment with dataset, x = 1 if epochs & iterations, y being integer equal or greater than 0)\n",
    "\n",
    "In this file, experiments with different datasets, and number of epochs & iterations are done. The experiments are divided into sections, based on the elements being changed. "
   ]
  },
  {
   "cell_type": "markdown",
   "metadata": {},
   "source": [
    "### Static elements for all experiments (execute first)"
   ]
  },
  {
   "cell_type": "code",
   "execution_count": 1,
   "metadata": {},
   "outputs": [],
   "source": [
    "# Imports\n",
    "import tensorflow as tf\n",
    "import numpy as np\n",
    "from tensorflow import keras\n",
    "import matplotlib.pyplot as plt\n",
    "import pandas as pd\n",
    "import seaborn as sns\n",
    "\n",
    "from tensorflow.keras import datasets, layers, models\n",
    "from tensorflow.keras.callbacks import EarlyStopping\n",
    "from tensorflow.keras.layers import Dense, BatchNormalization\n",
    "from sklearn.preprocessing import StandardScaler\n",
    "from sklearn.model_selection import train_test_split\n",
    "from sklearn.metrics import confusion_matrix, classification_report\n",
    "\n",
    "# Disable warns\n",
    "pd.options.mode.chained_assignment = None  # default='warn'"
   ]
  },
  {
   "cell_type": "code",
   "execution_count": 2,
   "metadata": {},
   "outputs": [],
   "source": [
    "# Preprocessing for test and training datasets (to be able to train and make predictions to evaluate)\n",
    "def preprocessing(data): \n",
    "\n",
    "    # Select the 'proto' and 'state' values that I want\n",
    "    data = data.loc[(data['proto'] == 'tcp') | (data['proto'] =='udp') | (data['proto'] =='icmp') | (data['proto'] =='arp') | (data['proto'] =='ipv6-icmp') | (data['proto'] =='igmp') | (data['proto'] =='rarp'), :]\n",
    "    data = data.loc[(data['state'] == 'RST') | (data['state'] =='REQ') | (data['state'] =='INT') | (data['state'] =='FIN') | (data['state'] =='CON') | (data['state'] =='ECO') | (data['state'] =='ACC') | (data['state'] == 'PAR'), :]\n",
    "\n",
    "    # Creating categories dataframe\n",
    "    data_labels = pd.DataFrame()\n",
    "\n",
    "    # Drop the invalid features and select interested data features\n",
    "    data_features=data[['proto','srcip','sport','dstip','dsport','spkts','dpkts','sbytes','dbytes','state','stime','ltime','dur']]\n",
    "\n",
    "    \"\"\"PREPROCESSING\"\"\"\n",
    "\n",
    "\n",
    "    # Preprocess IP and ports features\n",
    "    # IP Source Address\n",
    "    data_features['srcip'] = data_features['srcip'].apply(lambda x: x.split(\".\")[-1])\n",
    "    data_features['srcip'] = data_features['srcip'].apply(lambda x: x.split(\":\")[-1])\n",
    "    data_features['srcip'] = data_features['srcip'].apply(lambda x: int(x, 16))\n",
    "\n",
    "\n",
    "    # IP Destination Address\n",
    "    data_features['dstip'] = data_features['dstip'].apply(lambda x: x.split(\".\")[-1])\n",
    "    data_features['dstip'] = data_features['dstip'].apply(lambda x: x.split(\":\")[-1])\n",
    "    data_features['dstip'] = data_features['dstip'].apply(lambda x: int(x, 16))\n",
    "\n",
    "    # Ports\n",
    "    data_features['sport'] = data_features['sport'].apply(lambda x: x.replace('0x','') if \"0x\" in str(x) else x)\n",
    "    data_features['dsport'] = data_features['dsport'].apply(lambda x: x.replace('0x','') if \"0x\" in str(x) else x)\n",
    "\n",
    "    # Convert all ports with 0 decimal, and HEX to DEC\n",
    "    data_features['sport'] = data_features['sport'].apply(lambda x: str(x)[:-2] if str(x)[-2:] == '.0' else str(x))\n",
    "    data_features['sport'] = data_features['sport'].apply(lambda x: -1 if str(x).isalpha()==True else int(x,16))\n",
    "\n",
    "    data_features['dsport'] = data_features['dsport'].apply(lambda x: str(x)[:-2] if str(x)[-2:] == '.0' else str(x))\n",
    "    data_features['dsport'] = data_features['dsport'].apply(lambda x: -1 if str(x).isalpha()==True else int(x,16))\n",
    "\n",
    "    # Convert field to int format\n",
    "    data_features['srcip'] = data_features['srcip'].astype(int)\n",
    "    data_features['sport'] = data_features['sport'].astype(int)\n",
    "    data_features['dstip'] = data_features['dstip'].astype(int)\n",
    "    data_features['dsport'] = data_features['dsport'].astype(int)\n",
    "\n",
    "    # Convert some fields to logarithmic\n",
    "    log1p_col = ['dur', 'sbytes', 'dbytes', 'spkts']\n",
    "\n",
    "    for col in log1p_col:\n",
    "        data_features[col] = data_features[col].apply(np.log1p)\n",
    "        \n",
    "    # Transform to One Hot Encoding the Categories - normal, dos, reconnaissance, generic, exploits, worms, fuzzers, analysis, backdoor, shellcode\n",
    "    data_labels.insert(0, 'normal', data['attack_cat'].replace('normal', 1).replace(['dos', 'reconnaissance', 'generic', 'exploits', 'worms', 'fuzzers', 'analysis', 'backdoor', 'shellcode'], 0))\n",
    "    data_labels.insert(1, 'dos', data['attack_cat'].replace('dos', 1).replace(['normal', 'reconnaissance', 'generic', 'exploits', 'worms', 'fuzzers', 'analysis', 'backdoor', 'shellcode'], 0))\n",
    "    data_labels.insert(2, 'reconnaissance', data['attack_cat'].replace('reconnaissance', 1).replace(['normal', 'dos', 'generic', 'exploits', 'worms', 'fuzzers', 'analysis', 'backdoor', 'shellcode'], 0))\n",
    "    data_labels.insert(3, 'generic', data['attack_cat'].replace('generic', 1).replace(['normal', 'dos', 'reconnaissance', 'exploits', 'worms', 'fuzzers', 'analysis', 'backdoor', 'shellcode'], 0))\n",
    "    data_labels.insert(4, 'exploits', data['attack_cat'].replace('exploits', 1).replace(['normal', 'dos', 'reconnaissance', 'generic', 'worms', 'fuzzers', 'analysis', 'backdoor', 'shellcode'], 0))\n",
    "    data_labels.insert(5, 'worms', data['attack_cat'].replace('worms', 1).replace(['normal', 'dos', 'reconnaissance', 'generic', 'exploits', 'fuzzers', 'analysis', 'backdoor', 'shellcode'], 0))\n",
    "    data_labels.insert(6, 'fuzzers', data['attack_cat'].replace('fuzzers', 1).replace(['normal', 'dos', 'reconnaissance', 'generic', 'exploits', 'worms', 'analysis', 'backdoor', 'shellcode'], 0))\n",
    "    data_labels.insert(7, 'analysis', data['attack_cat'].replace('analysis', 1).replace(['normal', 'dos', 'reconnaissance', 'generic', 'exploits', 'worms', 'fuzzers', 'backdoor', 'shellcode'], 0))\n",
    "    data_labels.insert(8, 'backdoor', data['attack_cat'].replace('backdoor', 1).replace(['normal', 'dos', 'reconnaissance', 'generic', 'exploits', 'worms', 'fuzzers', 'analysis', 'shellcode'], 0))\n",
    "    data_labels.insert(9, 'shellcode', data['attack_cat'].replace('shellcode', 1).replace(['normal', 'dos', 'reconnaissance', 'generic', 'exploits', 'worms', 'fuzzers', 'analysis', 'backdoor'], 0))\n",
    "\n",
    "    data_labels = pd.get_dummies(data_labels)\n",
    "\n",
    "    # Transform to One hot encoding - FEATURES\n",
    "    data_features=pd.get_dummies(data_features)\n",
    "\n",
    "    # Generate 2 new columns to fit with training\n",
    "    auxCol=data_features['sbytes']\n",
    "    auxCol=0\n",
    "\n",
    "      # As we are using different datasets that might not have all representations, we are going to detect and add the missing columns \n",
    "    # The columns that can have types are: proto and state: need to check if all representations are done \n",
    "    state_cols = [col for col in data_features if col.startswith('state_')]\n",
    "    proto_cols = [col for col in data_features if col.startswith('proto_')]\n",
    "    \n",
    "    # Check if all columns are present\n",
    "    if 'state_PAR' not in state_cols:\n",
    "        data_features.insert(data_features.shape[1], 'state_PAR', auxCol, True)\n",
    "    if 'state_ACC' not in state_cols: \n",
    "        data_features.insert(data_features.shape[1], 'state_ACC', auxCol, True)\n",
    "    if 'state_ECO' not in state_cols:\n",
    "        data_features.insert(data_features.shape[1], 'state_ECO', auxCol, True)\n",
    "    if 'state_CON' not in state_cols:\n",
    "        data_features.insert(data_features.shape[1], 'state_CON', auxCol, True)\n",
    "    if 'state_FIN' not in state_cols:\n",
    "        data_features.insert(data_features.shape[1], 'state_FIN', auxCol, True)\n",
    "    if 'state_INT' not in state_cols:\n",
    "        data_features.insert(data_features.shape[1], 'state_INT', auxCol, True)\n",
    "    if 'state_REQ' not in state_cols:\n",
    "        data_features.insert(data_features.shape[1], 'state_REQ', auxCol, True)\n",
    "    if 'state_RST' not in state_cols:\n",
    "        data_features.insert(data_features.shape[1], 'state_RST', auxCol, True)\n",
    "    if 'proto_igmp' not in proto_cols:\n",
    "        data_features.insert(data_features.shape[1], 'proto_igmp', auxCol, True)\n",
    "    if 'proto_arp' not in proto_cols:\n",
    "        data_features.insert(data_features.shape[1], 'proto_arp', auxCol, True)\n",
    "    if 'proto_icmp' not in proto_cols:\n",
    "        data_features.insert(data_features.shape[1], 'proto_icmp', auxCol, True)\n",
    "    if 'proto_udp' not in proto_cols:\n",
    "        data_features.insert(data_features.shape[1], 'proto_udp', auxCol, True)\n",
    "    if 'proto_tcp' not in proto_cols:\n",
    "        data_features.insert(data_features.shape[1], 'proto_tcp', auxCol, True)\n",
    "\n",
    "    # Normalize all data features\n",
    "    data_features = StandardScaler().fit_transform(data_features)\n",
    "\n",
    "    #Add dimension to data features\n",
    "    data_features = np.expand_dims(data_features, axis=2)\n",
    "    data_features = np.expand_dims(data_features, axis=3)\n",
    "\n",
    "    x = data_features\n",
    "    y = data_labels.to_numpy()\n",
    "\n",
    "    return x, y"
   ]
  },
  {
   "cell_type": "code",
   "execution_count": 3,
   "metadata": {},
   "outputs": [],
   "source": [
    "# Model building and definition\n",
    "def build_model(input_shape):\n",
    "    model = models.Sequential()\n",
    "    model.add(layers.Conv2D(filters=32,  input_shape=input_shape, kernel_size=(1,10), activation='relu', padding='same'))\n",
    "    model.add(layers.MaxPooling2D(pool_size=(1, 1), padding='same'))\n",
    "    model.add(layers.Conv2D(filters=64,  input_shape=input_shape, kernel_size=(1,10), activation='relu', padding='same'))\n",
    "    model.add(layers.MaxPooling2D(pool_size=(1, 1), padding='same'))\n",
    "    model.add(layers.Flatten())\n",
    "    model.add(Dense(444, activation='relu'))\n",
    "    model.add(Dense(10, activation='softmax'))\n",
    "\n",
    "    return model "
   ]
  },
  {
   "cell_type": "code",
   "execution_count": 4,
   "metadata": {},
   "outputs": [],
   "source": [
    "# Returns values of loss, accuracy, f1, precision and recall of model evaluating with test dataset \n",
    "def evaluation(model, x, y): \n",
    "    loss, accuracy = model.evaluate(x, y)\n",
    "    y_pred = model.predict(x)\n",
    "    y_pred = np.argmax(y_pred, axis=1)\n",
    "    y = np.argmax(y, axis=1)\n",
    "    report = classification_report(y, y_pred, labels = [i for i in range(10)], target_names=['normal', 'dos', 'reconnaissance', 'generic', 'exploits', 'worms', 'fuzzers', 'analysis', 'backdoor', 'shellcode'], output_dict=True)\n",
    "    # Obtain f1, precision and recall from the report\n",
    "    f1 = report['weighted avg']['f1-score']\n",
    "    precision = report['weighted avg']['precision']\n",
    "    recall = report['weighted avg']['recall']\n",
    "    return loss, accuracy, f1, precision, recall"
   ]
  },
  {
   "cell_type": "markdown",
   "metadata": {},
   "source": [
    "### Experiments with datasets"
   ]
  },
  {
   "cell_type": "markdown",
   "metadata": {},
   "source": [
    "#### Dataset 3A"
   ]
  },
  {
   "cell_type": "code",
   "execution_count": 5,
   "metadata": {},
   "outputs": [
    {
     "name": "stderr",
     "output_type": "stream",
     "text": [
      "C:\\Users\\UX430\\AppData\\Local\\Temp/ipykernel_15288/797642493.py:2: DtypeWarning: Columns (2,4) have mixed types. Specify dtype option on import or set low_memory=False.\n",
      "  training1 = pd.read_csv('C:/Users/UX430/Documents/thesis/datasets/UNSW-NB15/UNSW-NB15-Train-Basic-3A-Part1.csv')\n",
      "C:\\Users\\UX430\\AppData\\Local\\Temp/ipykernel_15288/797642493.py:3: DtypeWarning: Columns (4) have mixed types. Specify dtype option on import or set low_memory=False.\n",
      "  training2 = pd.read_csv('C:/Users/UX430/Documents/thesis/datasets/UNSW-NB15/UNSW-NB15-Train-Basic-3A-Part2.csv')\n",
      "C:\\Users\\UX430\\AppData\\Local\\Temp/ipykernel_15288/797642493.py:4: DtypeWarning: Columns (4) have mixed types. Specify dtype option on import or set low_memory=False.\n",
      "  training3 = pd.read_csv('C:/Users/UX430/Documents/thesis/datasets/UNSW-NB15/UNSW-NB15-Train-Basic-3A-Part3.csv')\n",
      "C:\\Users\\UX430\\AppData\\Local\\Temp/ipykernel_15288/797642493.py:5: DtypeWarning: Columns (4) have mixed types. Specify dtype option on import or set low_memory=False.\n",
      "  test_basic = pd.read_csv('C:/Users/UX430/Documents/thesis/datasets/UNSW-NB15/UNSW-NB15-Test-Basic.csv')\n"
     ]
    }
   ],
   "source": [
    "# Load training datasets and testing datasets \n",
    "training1 = pd.read_csv('C:/Users/UX430/Documents/thesis/datasets/UNSW-NB15/UNSW-NB15-Train-Basic-3A-Part1.csv')\n",
    "training2 = pd.read_csv('C:/Users/UX430/Documents/thesis/datasets/UNSW-NB15/UNSW-NB15-Train-Basic-3A-Part2.csv')\n",
    "training3 = pd.read_csv('C:/Users/UX430/Documents/thesis/datasets/UNSW-NB15/UNSW-NB15-Train-Basic-3A-Part3.csv')\n",
    "test_basic = pd.read_csv('C:/Users/UX430/Documents/thesis/datasets/UNSW-NB15/UNSW-NB15-Test-Basic.csv')\n",
    "test_plus = pd.read_csv('C:/Users/UX430/Documents/thesis/datasets/UNSW-NB15/UNSW-NB15-Test+.csv')"
   ]
  },
  {
   "cell_type": "code",
   "execution_count": 6,
   "metadata": {},
   "outputs": [],
   "source": [
    "# Define \n",
    "node_datasets = [training1, training2, training3]\n",
    "num_nodes = 3\n",
    "global_updates = 5\n",
    "\n",
    "# Define model training parameters\n",
    "loss_fct = \"categorical_crossentropy\"\n",
    "metrics = ['accuracy']\n",
    "local_epochs = 5"
   ]
  },
  {
   "cell_type": "code",
   "execution_count": 7,
   "metadata": {},
   "outputs": [],
   "source": [
    "def train_local_model(model, node, x_train, y_train): \n",
    "    filepath = 'C:/Users/UX430/Documents/thesis/code/models/node'+str(node)+'ID300.hdf5'\n",
    "    callbacks = [\n",
    "            keras.callbacks.EarlyStopping(\n",
    "                monitor = 'val_loss', # Use accuracy to monitor the model\n",
    "                patience = 10 # Stop after 10 steps with lower accuracy\n",
    "            ),\n",
    "            keras.callbacks.ModelCheckpoint(\n",
    "                filepath = filepath, # file where the checkpoint is saved\n",
    "                monitor = 'val_loss', # Don't overwrite the saved model unless val_loss is worse\n",
    "                save_best_only = True)]# Only save model if it is the best\n",
    "    optimizer = keras.optimizers.Adam(learning_rate=5e-4)\n",
    "    model.compile(optimizer=optimizer, loss=loss_fct, metrics=metrics)\n",
    "    history = model.fit(x_train, y_train, epochs=local_epochs, validation_split=0.2, callbacks=callbacks, batch_size=2048)\n",
    "    return model, history.history['loss'], history.history['accuracy'], history.history['val_loss'], history.history['val_accuracy']"
   ]
  },
  {
   "cell_type": "code",
   "execution_count": 8,
   "metadata": {},
   "outputs": [],
   "source": [
    "def aggregate(w_list): \n",
    "    avg_w = np.mean(w_list, axis=0)\n",
    "    return avg_w"
   ]
  },
  {
   "cell_type": "code",
   "execution_count": 9,
   "metadata": {},
   "outputs": [],
   "source": [
    "global_model = build_model((24,1,1))"
   ]
  },
  {
   "cell_type": "code",
   "execution_count": 10,
   "metadata": {},
   "outputs": [],
   "source": [
    "x1, y1 = preprocessing(training1)\n",
    "x2, y2 = preprocessing(training2)\n",
    "x3, y3 = preprocessing(training3)\n",
    "xbasic, ybasic = preprocessing(test_basic)\n",
    "xplus, yplus = preprocessing(test_plus)"
   ]
  },
  {
   "cell_type": "code",
   "execution_count": 11,
   "metadata": {},
   "outputs": [
    {
     "name": "stdout",
     "output_type": "stream",
     "text": [
      "Epoch 1/5\n",
      "54/54 [==============================] - 10s 185ms/step - loss: 0.6980 - accuracy: 0.8283 - val_loss: 7.7860 - val_accuracy: 0.3314\n",
      "Epoch 2/5\n",
      "54/54 [==============================] - 9s 171ms/step - loss: 0.0471 - accuracy: 0.9921 - val_loss: 8.2544 - val_accuracy: 0.3315\n",
      "Epoch 3/5\n",
      "54/54 [==============================] - 10s 178ms/step - loss: 0.0296 - accuracy: 0.9926 - val_loss: 8.5892 - val_accuracy: 0.3317\n",
      "Epoch 4/5\n",
      "54/54 [==============================] - 9s 175ms/step - loss: 0.0273 - accuracy: 0.9926 - val_loss: 8.7474 - val_accuracy: 0.3316\n",
      "Epoch 5/5\n",
      "54/54 [==============================] - 10s 186ms/step - loss: 0.0261 - accuracy: 0.9926 - val_loss: 8.8491 - val_accuracy: 0.3317\n",
      "Epoch 1/5\n",
      "53/53 [==============================] - 10s 184ms/step - loss: 0.0235 - accuracy: 0.9927 - val_loss: 1.7733 - val_accuracy: 0.8809\n",
      "Epoch 2/5\n",
      "53/53 [==============================] - 11s 212ms/step - loss: 0.0199 - accuracy: 0.9934 - val_loss: 1.9895 - val_accuracy: 0.8827\n",
      "Epoch 3/5\n",
      "53/53 [==============================] - 13s 237ms/step - loss: 0.0172 - accuracy: 0.9944 - val_loss: 2.3249 - val_accuracy: 0.8855\n",
      "Epoch 4/5\n",
      "53/53 [==============================] - 8s 152ms/step - loss: 0.0160 - accuracy: 0.9950 - val_loss: 2.6005 - val_accuracy: 0.8875\n",
      "Epoch 5/5\n",
      "53/53 [==============================] - 8s 143ms/step - loss: 0.0154 - accuracy: 0.9953 - val_loss: 2.6947 - val_accuracy: 0.8865\n",
      "Epoch 1/5\n",
      "54/54 [==============================] - 8s 147ms/step - loss: 0.0143 - accuracy: 0.9955 - val_loss: 10.7463 - val_accuracy: 0.5601\n",
      "Epoch 2/5\n",
      "54/54 [==============================] - 9s 162ms/step - loss: 0.0143 - accuracy: 0.9955 - val_loss: 10.2703 - val_accuracy: 0.5616\n",
      "Epoch 3/5\n",
      "54/54 [==============================] - 8s 156ms/step - loss: 0.0138 - accuracy: 0.9956 - val_loss: 10.3977 - val_accuracy: 0.5625\n",
      "Epoch 4/5\n",
      "54/54 [==============================] - 8s 155ms/step - loss: 0.0134 - accuracy: 0.9959 - val_loss: 10.3341 - val_accuracy: 0.5609\n",
      "Epoch 5/5\n",
      "54/54 [==============================] - 8s 155ms/step - loss: 0.0133 - accuracy: 0.9959 - val_loss: 10.3584 - val_accuracy: 0.5608\n",
      "  32/4279 [..............................] - ETA: 13s - loss: 1.4484 - accuracy: 0.9248"
     ]
    },
    {
     "name": "stderr",
     "output_type": "stream",
     "text": [
      "c:\\Users\\UX430\\anaconda3\\lib\\site-packages\\numpy\\core\\_asarray.py:171: VisibleDeprecationWarning: Creating an ndarray from ragged nested sequences (which is a list-or-tuple of lists-or-tuples-or ndarrays with different lengths or shapes) is deprecated. If you meant to do this, you must specify 'dtype=object' when creating the ndarray.\n",
      "  return array(a, dtype, copy=False, order=order, subok=True)\n"
     ]
    },
    {
     "name": "stdout",
     "output_type": "stream",
     "text": [
      "4279/4279 [==============================] - 28s 6ms/step - loss: 1.6320 - accuracy: 0.9116\n"
     ]
    },
    {
     "name": "stderr",
     "output_type": "stream",
     "text": [
      "c:\\Users\\UX430\\anaconda3\\lib\\site-packages\\sklearn\\metrics\\_classification.py:1308: UndefinedMetricWarning: Precision and F-score are ill-defined and being set to 0.0 in labels with no predicted samples. Use `zero_division` parameter to control this behavior.\n",
      "  _warn_prf(average, modifier, msg_start, len(result))\n",
      "c:\\Users\\UX430\\anaconda3\\lib\\site-packages\\sklearn\\metrics\\_classification.py:1308: UndefinedMetricWarning: Recall and F-score are ill-defined and being set to 0.0 in labels with no true samples. Use `zero_division` parameter to control this behavior.\n",
      "  _warn_prf(average, modifier, msg_start, len(result))\n",
      "c:\\Users\\UX430\\anaconda3\\lib\\site-packages\\sklearn\\metrics\\_classification.py:1308: UndefinedMetricWarning: Precision and F-score are ill-defined and being set to 0.0 in labels with no predicted samples. Use `zero_division` parameter to control this behavior.\n",
      "  _warn_prf(average, modifier, msg_start, len(result))\n",
      "c:\\Users\\UX430\\anaconda3\\lib\\site-packages\\sklearn\\metrics\\_classification.py:1308: UndefinedMetricWarning: Recall and F-score are ill-defined and being set to 0.0 in labels with no true samples. Use `zero_division` parameter to control this behavior.\n",
      "  _warn_prf(average, modifier, msg_start, len(result))\n",
      "c:\\Users\\UX430\\anaconda3\\lib\\site-packages\\sklearn\\metrics\\_classification.py:1308: UndefinedMetricWarning: Precision and F-score are ill-defined and being set to 0.0 in labels with no predicted samples. Use `zero_division` parameter to control this behavior.\n",
      "  _warn_prf(average, modifier, msg_start, len(result))\n",
      "c:\\Users\\UX430\\anaconda3\\lib\\site-packages\\sklearn\\metrics\\_classification.py:1308: UndefinedMetricWarning: Recall and F-score are ill-defined and being set to 0.0 in labels with no true samples. Use `zero_division` parameter to control this behavior.\n",
      "  _warn_prf(average, modifier, msg_start, len(result))\n"
     ]
    },
    {
     "name": "stdout",
     "output_type": "stream",
     "text": [
      "1721/1721 [==============================] - 11s 6ms/step - loss: 7.7785 - accuracy: 0.5524\n"
     ]
    },
    {
     "name": "stderr",
     "output_type": "stream",
     "text": [
      "c:\\Users\\UX430\\anaconda3\\lib\\site-packages\\sklearn\\metrics\\_classification.py:1308: UndefinedMetricWarning: Precision and F-score are ill-defined and being set to 0.0 in labels with no predicted samples. Use `zero_division` parameter to control this behavior.\n",
      "  _warn_prf(average, modifier, msg_start, len(result))\n",
      "c:\\Users\\UX430\\anaconda3\\lib\\site-packages\\sklearn\\metrics\\_classification.py:1308: UndefinedMetricWarning: Recall and F-score are ill-defined and being set to 0.0 in labels with no true samples. Use `zero_division` parameter to control this behavior.\n",
      "  _warn_prf(average, modifier, msg_start, len(result))\n",
      "c:\\Users\\UX430\\anaconda3\\lib\\site-packages\\sklearn\\metrics\\_classification.py:1308: UndefinedMetricWarning: Precision and F-score are ill-defined and being set to 0.0 in labels with no predicted samples. Use `zero_division` parameter to control this behavior.\n",
      "  _warn_prf(average, modifier, msg_start, len(result))\n",
      "c:\\Users\\UX430\\anaconda3\\lib\\site-packages\\sklearn\\metrics\\_classification.py:1308: UndefinedMetricWarning: Recall and F-score are ill-defined and being set to 0.0 in labels with no true samples. Use `zero_division` parameter to control this behavior.\n",
      "  _warn_prf(average, modifier, msg_start, len(result))\n",
      "c:\\Users\\UX430\\anaconda3\\lib\\site-packages\\sklearn\\metrics\\_classification.py:1308: UndefinedMetricWarning: Precision and F-score are ill-defined and being set to 0.0 in labels with no predicted samples. Use `zero_division` parameter to control this behavior.\n",
      "  _warn_prf(average, modifier, msg_start, len(result))\n",
      "c:\\Users\\UX430\\anaconda3\\lib\\site-packages\\sklearn\\metrics\\_classification.py:1308: UndefinedMetricWarning: Recall and F-score are ill-defined and being set to 0.0 in labels with no true samples. Use `zero_division` parameter to control this behavior.\n",
      "  _warn_prf(average, modifier, msg_start, len(result))\n"
     ]
    },
    {
     "name": "stdout",
     "output_type": "stream",
     "text": [
      "Epoch 1/5\n",
      "54/54 [==============================] - 8s 140ms/step - loss: 0.0165 - accuracy: 0.9952 - val_loss: 13.0901 - val_accuracy: 0.3344\n",
      "Epoch 2/5\n",
      "54/54 [==============================] - 7s 136ms/step - loss: 0.0155 - accuracy: 0.9955 - val_loss: 13.5570 - val_accuracy: 0.3341\n",
      "Epoch 3/5\n",
      "54/54 [==============================] - 7s 135ms/step - loss: 0.0149 - accuracy: 0.9959 - val_loss: 14.1326 - val_accuracy: 0.3351\n",
      "Epoch 4/5\n",
      "54/54 [==============================] - 7s 135ms/step - loss: 0.0148 - accuracy: 0.9958 - val_loss: 14.2509 - val_accuracy: 0.3338\n",
      "Epoch 5/5\n",
      "54/54 [==============================] - 7s 134ms/step - loss: 0.0152 - accuracy: 0.9959 - val_loss: 13.8013 - val_accuracy: 0.3351\n",
      "Epoch 1/5\n",
      "53/53 [==============================] - 7s 139ms/step - loss: 0.0141 - accuracy: 0.9960 - val_loss: 2.5175 - val_accuracy: 0.8891\n",
      "Epoch 2/5\n",
      "53/53 [==============================] - 7s 138ms/step - loss: 0.0140 - accuracy: 0.9959 - val_loss: 2.4509 - val_accuracy: 0.8884\n",
      "Epoch 3/5\n",
      "53/53 [==============================] - 8s 149ms/step - loss: 0.0137 - accuracy: 0.9960 - val_loss: 2.4295 - val_accuracy: 0.8881\n",
      "Epoch 4/5\n",
      "53/53 [==============================] - 8s 149ms/step - loss: 0.0137 - accuracy: 0.9960 - val_loss: 2.3580 - val_accuracy: 0.8876\n",
      "Epoch 5/5\n",
      "53/53 [==============================] - 8s 148ms/step - loss: 0.0133 - accuracy: 0.9960 - val_loss: 2.3511 - val_accuracy: 0.8879\n",
      "Epoch 1/5\n",
      "54/54 [==============================] - 8s 147ms/step - loss: 0.0130 - accuracy: 0.9960 - val_loss: 8.7379 - val_accuracy: 0.5613\n",
      "Epoch 2/5\n",
      "54/54 [==============================] - 8s 147ms/step - loss: 0.0125 - accuracy: 0.9963 - val_loss: 8.7122 - val_accuracy: 0.5612\n",
      "Epoch 3/5\n",
      "54/54 [==============================] - 9s 159ms/step - loss: 0.0125 - accuracy: 0.9962 - val_loss: 8.5316 - val_accuracy: 0.5614\n",
      "Epoch 4/5\n",
      "54/54 [==============================] - 8s 149ms/step - loss: 0.0124 - accuracy: 0.9962 - val_loss: 8.4334 - val_accuracy: 0.5609\n",
      "Epoch 5/5\n",
      "54/54 [==============================] - 8s 146ms/step - loss: 0.0122 - accuracy: 0.9963 - val_loss: 8.5964 - val_accuracy: 0.5624\n",
      "  13/4279 [..............................] - ETA: 17s - loss: 1.6104 - accuracy: 0.9207"
     ]
    },
    {
     "name": "stderr",
     "output_type": "stream",
     "text": [
      "c:\\Users\\UX430\\anaconda3\\lib\\site-packages\\numpy\\core\\_asarray.py:171: VisibleDeprecationWarning: Creating an ndarray from ragged nested sequences (which is a list-or-tuple of lists-or-tuples-or ndarrays with different lengths or shapes) is deprecated. If you meant to do this, you must specify 'dtype=object' when creating the ndarray.\n",
      "  return array(a, dtype, copy=False, order=order, subok=True)\n"
     ]
    },
    {
     "name": "stdout",
     "output_type": "stream",
     "text": [
      "4279/4279 [==============================] - 28s 7ms/step - loss: 1.7575 - accuracy: 0.9123\n"
     ]
    },
    {
     "name": "stderr",
     "output_type": "stream",
     "text": [
      "c:\\Users\\UX430\\anaconda3\\lib\\site-packages\\sklearn\\metrics\\_classification.py:1308: UndefinedMetricWarning: Precision and F-score are ill-defined and being set to 0.0 in labels with no predicted samples. Use `zero_division` parameter to control this behavior.\n",
      "  _warn_prf(average, modifier, msg_start, len(result))\n",
      "c:\\Users\\UX430\\anaconda3\\lib\\site-packages\\sklearn\\metrics\\_classification.py:1308: UndefinedMetricWarning: Recall and F-score are ill-defined and being set to 0.0 in labels with no true samples. Use `zero_division` parameter to control this behavior.\n",
      "  _warn_prf(average, modifier, msg_start, len(result))\n",
      "c:\\Users\\UX430\\anaconda3\\lib\\site-packages\\sklearn\\metrics\\_classification.py:1308: UndefinedMetricWarning: Precision and F-score are ill-defined and being set to 0.0 in labels with no predicted samples. Use `zero_division` parameter to control this behavior.\n",
      "  _warn_prf(average, modifier, msg_start, len(result))\n",
      "c:\\Users\\UX430\\anaconda3\\lib\\site-packages\\sklearn\\metrics\\_classification.py:1308: UndefinedMetricWarning: Recall and F-score are ill-defined and being set to 0.0 in labels with no true samples. Use `zero_division` parameter to control this behavior.\n",
      "  _warn_prf(average, modifier, msg_start, len(result))\n",
      "c:\\Users\\UX430\\anaconda3\\lib\\site-packages\\sklearn\\metrics\\_classification.py:1308: UndefinedMetricWarning: Precision and F-score are ill-defined and being set to 0.0 in labels with no predicted samples. Use `zero_division` parameter to control this behavior.\n",
      "  _warn_prf(average, modifier, msg_start, len(result))\n",
      "c:\\Users\\UX430\\anaconda3\\lib\\site-packages\\sklearn\\metrics\\_classification.py:1308: UndefinedMetricWarning: Recall and F-score are ill-defined and being set to 0.0 in labels with no true samples. Use `zero_division` parameter to control this behavior.\n",
      "  _warn_prf(average, modifier, msg_start, len(result))\n"
     ]
    },
    {
     "name": "stdout",
     "output_type": "stream",
     "text": [
      "1721/1721 [==============================] - 10s 6ms/step - loss: 7.8836 - accuracy: 0.5539\n"
     ]
    },
    {
     "name": "stderr",
     "output_type": "stream",
     "text": [
      "c:\\Users\\UX430\\anaconda3\\lib\\site-packages\\sklearn\\metrics\\_classification.py:1308: UndefinedMetricWarning: Precision and F-score are ill-defined and being set to 0.0 in labels with no predicted samples. Use `zero_division` parameter to control this behavior.\n",
      "  _warn_prf(average, modifier, msg_start, len(result))\n",
      "c:\\Users\\UX430\\anaconda3\\lib\\site-packages\\sklearn\\metrics\\_classification.py:1308: UndefinedMetricWarning: Recall and F-score are ill-defined and being set to 0.0 in labels with no true samples. Use `zero_division` parameter to control this behavior.\n",
      "  _warn_prf(average, modifier, msg_start, len(result))\n",
      "c:\\Users\\UX430\\anaconda3\\lib\\site-packages\\sklearn\\metrics\\_classification.py:1308: UndefinedMetricWarning: Precision and F-score are ill-defined and being set to 0.0 in labels with no predicted samples. Use `zero_division` parameter to control this behavior.\n",
      "  _warn_prf(average, modifier, msg_start, len(result))\n",
      "c:\\Users\\UX430\\anaconda3\\lib\\site-packages\\sklearn\\metrics\\_classification.py:1308: UndefinedMetricWarning: Recall and F-score are ill-defined and being set to 0.0 in labels with no true samples. Use `zero_division` parameter to control this behavior.\n",
      "  _warn_prf(average, modifier, msg_start, len(result))\n",
      "c:\\Users\\UX430\\anaconda3\\lib\\site-packages\\sklearn\\metrics\\_classification.py:1308: UndefinedMetricWarning: Precision and F-score are ill-defined and being set to 0.0 in labels with no predicted samples. Use `zero_division` parameter to control this behavior.\n",
      "  _warn_prf(average, modifier, msg_start, len(result))\n",
      "c:\\Users\\UX430\\anaconda3\\lib\\site-packages\\sklearn\\metrics\\_classification.py:1308: UndefinedMetricWarning: Recall and F-score are ill-defined and being set to 0.0 in labels with no true samples. Use `zero_division` parameter to control this behavior.\n",
      "  _warn_prf(average, modifier, msg_start, len(result))\n"
     ]
    },
    {
     "name": "stdout",
     "output_type": "stream",
     "text": [
      "Epoch 1/5\n",
      "54/54 [==============================] - 8s 141ms/step - loss: 0.0144 - accuracy: 0.9960 - val_loss: 12.1658 - val_accuracy: 0.3347\n",
      "Epoch 2/5\n",
      "54/54 [==============================] - 7s 136ms/step - loss: 0.0135 - accuracy: 0.9965 - val_loss: 12.3570 - val_accuracy: 0.3353\n",
      "Epoch 3/5\n",
      "54/54 [==============================] - 7s 133ms/step - loss: 0.0138 - accuracy: 0.9962 - val_loss: 12.2441 - val_accuracy: 0.3345\n",
      "Epoch 4/5\n",
      "54/54 [==============================] - 7s 134ms/step - loss: 0.0135 - accuracy: 0.9963 - val_loss: 12.0699 - val_accuracy: 0.3347\n",
      "Epoch 5/5\n",
      "54/54 [==============================] - 7s 138ms/step - loss: 0.0137 - accuracy: 0.9963 - val_loss: 11.6128 - val_accuracy: 0.3343\n",
      "Epoch 1/5\n",
      "53/53 [==============================] - 8s 145ms/step - loss: 0.0131 - accuracy: 0.9961 - val_loss: 2.1008 - val_accuracy: 0.8876\n",
      "Epoch 2/5\n",
      "53/53 [==============================] - 7s 135ms/step - loss: 0.0123 - accuracy: 0.9964 - val_loss: 2.1972 - val_accuracy: 0.8877\n",
      "Epoch 3/5\n",
      "53/53 [==============================] - 8s 143ms/step - loss: 0.0123 - accuracy: 0.9964 - val_loss: 2.2319 - val_accuracy: 0.8883\n",
      "Epoch 4/5\n",
      "53/53 [==============================] - 8s 145ms/step - loss: 0.0120 - accuracy: 0.9965 - val_loss: 2.3183 - val_accuracy: 0.8848\n",
      "Epoch 5/5\n",
      "53/53 [==============================] - 8s 144ms/step - loss: 0.0118 - accuracy: 0.9964 - val_loss: 2.3418 - val_accuracy: 0.8867\n",
      "Epoch 1/5\n",
      "54/54 [==============================] - 8s 146ms/step - loss: 0.0114 - accuracy: 0.9963 - val_loss: 8.9837 - val_accuracy: 0.5620\n",
      "Epoch 2/5\n",
      "54/54 [==============================] - 8s 146ms/step - loss: 0.0114 - accuracy: 0.9964 - val_loss: 9.1417 - val_accuracy: 0.5623\n",
      "Epoch 3/5\n",
      "54/54 [==============================] - 8s 143ms/step - loss: 0.0110 - accuracy: 0.9966 - val_loss: 9.0559 - val_accuracy: 0.5622\n",
      "Epoch 4/5\n",
      "54/54 [==============================] - 8s 144ms/step - loss: 0.0108 - accuracy: 0.9965 - val_loss: 9.4382 - val_accuracy: 0.5633\n",
      "Epoch 5/5\n",
      "54/54 [==============================] - 8s 145ms/step - loss: 0.0109 - accuracy: 0.9966 - val_loss: 9.2550 - val_accuracy: 0.5630\n",
      "  31/4279 [..............................] - ETA: 13s - loss: 1.5307 - accuracy: 0.9244"
     ]
    },
    {
     "name": "stderr",
     "output_type": "stream",
     "text": [
      "c:\\Users\\UX430\\anaconda3\\lib\\site-packages\\numpy\\core\\_asarray.py:171: VisibleDeprecationWarning: Creating an ndarray from ragged nested sequences (which is a list-or-tuple of lists-or-tuples-or ndarrays with different lengths or shapes) is deprecated. If you meant to do this, you must specify 'dtype=object' when creating the ndarray.\n",
      "  return array(a, dtype, copy=False, order=order, subok=True)\n"
     ]
    },
    {
     "name": "stdout",
     "output_type": "stream",
     "text": [
      "4279/4279 [==============================] - 21s 5ms/step - loss: 1.7030 - accuracy: 0.9142\n"
     ]
    },
    {
     "name": "stderr",
     "output_type": "stream",
     "text": [
      "c:\\Users\\UX430\\anaconda3\\lib\\site-packages\\sklearn\\metrics\\_classification.py:1308: UndefinedMetricWarning: Precision and F-score are ill-defined and being set to 0.0 in labels with no predicted samples. Use `zero_division` parameter to control this behavior.\n",
      "  _warn_prf(average, modifier, msg_start, len(result))\n",
      "c:\\Users\\UX430\\anaconda3\\lib\\site-packages\\sklearn\\metrics\\_classification.py:1308: UndefinedMetricWarning: Recall and F-score are ill-defined and being set to 0.0 in labels with no true samples. Use `zero_division` parameter to control this behavior.\n",
      "  _warn_prf(average, modifier, msg_start, len(result))\n",
      "c:\\Users\\UX430\\anaconda3\\lib\\site-packages\\sklearn\\metrics\\_classification.py:1308: UndefinedMetricWarning: Precision and F-score are ill-defined and being set to 0.0 in labels with no predicted samples. Use `zero_division` parameter to control this behavior.\n",
      "  _warn_prf(average, modifier, msg_start, len(result))\n",
      "c:\\Users\\UX430\\anaconda3\\lib\\site-packages\\sklearn\\metrics\\_classification.py:1308: UndefinedMetricWarning: Recall and F-score are ill-defined and being set to 0.0 in labels with no true samples. Use `zero_division` parameter to control this behavior.\n",
      "  _warn_prf(average, modifier, msg_start, len(result))\n",
      "c:\\Users\\UX430\\anaconda3\\lib\\site-packages\\sklearn\\metrics\\_classification.py:1308: UndefinedMetricWarning: Precision and F-score are ill-defined and being set to 0.0 in labels with no predicted samples. Use `zero_division` parameter to control this behavior.\n",
      "  _warn_prf(average, modifier, msg_start, len(result))\n",
      "c:\\Users\\UX430\\anaconda3\\lib\\site-packages\\sklearn\\metrics\\_classification.py:1308: UndefinedMetricWarning: Recall and F-score are ill-defined and being set to 0.0 in labels with no true samples. Use `zero_division` parameter to control this behavior.\n",
      "  _warn_prf(average, modifier, msg_start, len(result))\n"
     ]
    },
    {
     "name": "stdout",
     "output_type": "stream",
     "text": [
      "1721/1721 [==============================] - 8s 5ms/step - loss: 7.5256 - accuracy: 0.5555\n"
     ]
    },
    {
     "name": "stderr",
     "output_type": "stream",
     "text": [
      "c:\\Users\\UX430\\anaconda3\\lib\\site-packages\\sklearn\\metrics\\_classification.py:1308: UndefinedMetricWarning: Precision and F-score are ill-defined and being set to 0.0 in labels with no predicted samples. Use `zero_division` parameter to control this behavior.\n",
      "  _warn_prf(average, modifier, msg_start, len(result))\n",
      "c:\\Users\\UX430\\anaconda3\\lib\\site-packages\\sklearn\\metrics\\_classification.py:1308: UndefinedMetricWarning: Recall and F-score are ill-defined and being set to 0.0 in labels with no true samples. Use `zero_division` parameter to control this behavior.\n",
      "  _warn_prf(average, modifier, msg_start, len(result))\n",
      "c:\\Users\\UX430\\anaconda3\\lib\\site-packages\\sklearn\\metrics\\_classification.py:1308: UndefinedMetricWarning: Precision and F-score are ill-defined and being set to 0.0 in labels with no predicted samples. Use `zero_division` parameter to control this behavior.\n",
      "  _warn_prf(average, modifier, msg_start, len(result))\n",
      "c:\\Users\\UX430\\anaconda3\\lib\\site-packages\\sklearn\\metrics\\_classification.py:1308: UndefinedMetricWarning: Recall and F-score are ill-defined and being set to 0.0 in labels with no true samples. Use `zero_division` parameter to control this behavior.\n",
      "  _warn_prf(average, modifier, msg_start, len(result))\n",
      "c:\\Users\\UX430\\anaconda3\\lib\\site-packages\\sklearn\\metrics\\_classification.py:1308: UndefinedMetricWarning: Precision and F-score are ill-defined and being set to 0.0 in labels with no predicted samples. Use `zero_division` parameter to control this behavior.\n",
      "  _warn_prf(average, modifier, msg_start, len(result))\n",
      "c:\\Users\\UX430\\anaconda3\\lib\\site-packages\\sklearn\\metrics\\_classification.py:1308: UndefinedMetricWarning: Recall and F-score are ill-defined and being set to 0.0 in labels with no true samples. Use `zero_division` parameter to control this behavior.\n",
      "  _warn_prf(average, modifier, msg_start, len(result))\n"
     ]
    },
    {
     "name": "stdout",
     "output_type": "stream",
     "text": [
      "Epoch 1/5\n",
      "54/54 [==============================] - 8s 140ms/step - loss: 0.0127 - accuracy: 0.9965 - val_loss: 12.2217 - val_accuracy: 0.3352\n",
      "Epoch 2/5\n",
      "54/54 [==============================] - 7s 136ms/step - loss: 0.0122 - accuracy: 0.9966 - val_loss: 12.5146 - val_accuracy: 0.3353\n",
      "Epoch 3/5\n",
      "54/54 [==============================] - 7s 136ms/step - loss: 0.0121 - accuracy: 0.9963 - val_loss: 12.1262 - val_accuracy: 0.3352\n",
      "Epoch 4/5\n",
      "54/54 [==============================] - 8s 141ms/step - loss: 0.0120 - accuracy: 0.9967 - val_loss: 12.4796 - val_accuracy: 0.3353\n",
      "Epoch 5/5\n",
      "54/54 [==============================] - 7s 135ms/step - loss: 0.0113 - accuracy: 0.9968 - val_loss: 12.8963 - val_accuracy: 0.3353\n",
      "Epoch 1/5\n",
      "53/53 [==============================] - 7s 139ms/step - loss: 0.0110 - accuracy: 0.9966 - val_loss: 2.5106 - val_accuracy: 0.8872\n",
      "Epoch 2/5\n",
      "53/53 [==============================] - 8s 146ms/step - loss: 0.0108 - accuracy: 0.9966 - val_loss: 2.5443 - val_accuracy: 0.8882\n",
      "Epoch 3/5\n",
      "53/53 [==============================] - 8s 146ms/step - loss: 0.0103 - accuracy: 0.9967 - val_loss: 2.6256 - val_accuracy: 0.8880\n",
      "Epoch 4/5\n",
      "53/53 [==============================] - 8s 144ms/step - loss: 0.0100 - accuracy: 0.9970 - val_loss: 2.6569 - val_accuracy: 0.8871\n",
      "Epoch 5/5\n",
      "53/53 [==============================] - 8s 146ms/step - loss: 0.0101 - accuracy: 0.9967 - val_loss: 2.6905 - val_accuracy: 0.8875\n",
      "Epoch 1/5\n",
      "54/54 [==============================] - 8s 146ms/step - loss: 0.0099 - accuracy: 0.9969 - val_loss: 9.9878 - val_accuracy: 0.5616\n",
      "Epoch 2/5\n",
      "54/54 [==============================] - 8s 145ms/step - loss: 0.0093 - accuracy: 0.9971 - val_loss: 10.3363 - val_accuracy: 0.5628\n",
      "Epoch 3/5\n",
      "54/54 [==============================] - 8s 145ms/step - loss: 0.0092 - accuracy: 0.9971 - val_loss: 10.3757 - val_accuracy: 0.5628\n",
      "Epoch 4/5\n",
      "54/54 [==============================] - 8s 147ms/step - loss: 0.0092 - accuracy: 0.9970 - val_loss: 10.4985 - val_accuracy: 0.5620\n",
      "Epoch 5/5\n",
      "54/54 [==============================] - 8s 144ms/step - loss: 0.0093 - accuracy: 0.9968 - val_loss: 10.2481 - val_accuracy: 0.5616\n",
      "  13/4279 [..............................] - ETA: 17s - loss: 1.7357 - accuracy: 0.9207"
     ]
    },
    {
     "name": "stderr",
     "output_type": "stream",
     "text": [
      "c:\\Users\\UX430\\anaconda3\\lib\\site-packages\\numpy\\core\\_asarray.py:171: VisibleDeprecationWarning: Creating an ndarray from ragged nested sequences (which is a list-or-tuple of lists-or-tuples-or ndarrays with different lengths or shapes) is deprecated. If you meant to do this, you must specify 'dtype=object' when creating the ndarray.\n",
      "  return array(a, dtype, copy=False, order=order, subok=True)\n"
     ]
    },
    {
     "name": "stdout",
     "output_type": "stream",
     "text": [
      "4279/4279 [==============================] - 24s 6ms/step - loss: 1.8824 - accuracy: 0.9156\n"
     ]
    },
    {
     "name": "stderr",
     "output_type": "stream",
     "text": [
      "c:\\Users\\UX430\\anaconda3\\lib\\site-packages\\sklearn\\metrics\\_classification.py:1308: UndefinedMetricWarning: Precision and F-score are ill-defined and being set to 0.0 in labels with no predicted samples. Use `zero_division` parameter to control this behavior.\n",
      "  _warn_prf(average, modifier, msg_start, len(result))\n",
      "c:\\Users\\UX430\\anaconda3\\lib\\site-packages\\sklearn\\metrics\\_classification.py:1308: UndefinedMetricWarning: Recall and F-score are ill-defined and being set to 0.0 in labels with no true samples. Use `zero_division` parameter to control this behavior.\n",
      "  _warn_prf(average, modifier, msg_start, len(result))\n",
      "c:\\Users\\UX430\\anaconda3\\lib\\site-packages\\sklearn\\metrics\\_classification.py:1308: UndefinedMetricWarning: Precision and F-score are ill-defined and being set to 0.0 in labels with no predicted samples. Use `zero_division` parameter to control this behavior.\n",
      "  _warn_prf(average, modifier, msg_start, len(result))\n",
      "c:\\Users\\UX430\\anaconda3\\lib\\site-packages\\sklearn\\metrics\\_classification.py:1308: UndefinedMetricWarning: Recall and F-score are ill-defined and being set to 0.0 in labels with no true samples. Use `zero_division` parameter to control this behavior.\n",
      "  _warn_prf(average, modifier, msg_start, len(result))\n",
      "c:\\Users\\UX430\\anaconda3\\lib\\site-packages\\sklearn\\metrics\\_classification.py:1308: UndefinedMetricWarning: Precision and F-score are ill-defined and being set to 0.0 in labels with no predicted samples. Use `zero_division` parameter to control this behavior.\n",
      "  _warn_prf(average, modifier, msg_start, len(result))\n",
      "c:\\Users\\UX430\\anaconda3\\lib\\site-packages\\sklearn\\metrics\\_classification.py:1308: UndefinedMetricWarning: Recall and F-score are ill-defined and being set to 0.0 in labels with no true samples. Use `zero_division` parameter to control this behavior.\n",
      "  _warn_prf(average, modifier, msg_start, len(result))\n"
     ]
    },
    {
     "name": "stdout",
     "output_type": "stream",
     "text": [
      "1721/1721 [==============================] - 12s 7ms/step - loss: 8.6168 - accuracy: 0.5576\n"
     ]
    },
    {
     "name": "stderr",
     "output_type": "stream",
     "text": [
      "c:\\Users\\UX430\\anaconda3\\lib\\site-packages\\sklearn\\metrics\\_classification.py:1308: UndefinedMetricWarning: Precision and F-score are ill-defined and being set to 0.0 in labels with no predicted samples. Use `zero_division` parameter to control this behavior.\n",
      "  _warn_prf(average, modifier, msg_start, len(result))\n",
      "c:\\Users\\UX430\\anaconda3\\lib\\site-packages\\sklearn\\metrics\\_classification.py:1308: UndefinedMetricWarning: Recall and F-score are ill-defined and being set to 0.0 in labels with no true samples. Use `zero_division` parameter to control this behavior.\n",
      "  _warn_prf(average, modifier, msg_start, len(result))\n",
      "c:\\Users\\UX430\\anaconda3\\lib\\site-packages\\sklearn\\metrics\\_classification.py:1308: UndefinedMetricWarning: Precision and F-score are ill-defined and being set to 0.0 in labels with no predicted samples. Use `zero_division` parameter to control this behavior.\n",
      "  _warn_prf(average, modifier, msg_start, len(result))\n",
      "c:\\Users\\UX430\\anaconda3\\lib\\site-packages\\sklearn\\metrics\\_classification.py:1308: UndefinedMetricWarning: Recall and F-score are ill-defined and being set to 0.0 in labels with no true samples. Use `zero_division` parameter to control this behavior.\n",
      "  _warn_prf(average, modifier, msg_start, len(result))\n",
      "c:\\Users\\UX430\\anaconda3\\lib\\site-packages\\sklearn\\metrics\\_classification.py:1308: UndefinedMetricWarning: Precision and F-score are ill-defined and being set to 0.0 in labels with no predicted samples. Use `zero_division` parameter to control this behavior.\n",
      "  _warn_prf(average, modifier, msg_start, len(result))\n",
      "c:\\Users\\UX430\\anaconda3\\lib\\site-packages\\sklearn\\metrics\\_classification.py:1308: UndefinedMetricWarning: Recall and F-score are ill-defined and being set to 0.0 in labels with no true samples. Use `zero_division` parameter to control this behavior.\n",
      "  _warn_prf(average, modifier, msg_start, len(result))\n"
     ]
    },
    {
     "name": "stdout",
     "output_type": "stream",
     "text": [
      "Epoch 1/5\n",
      "54/54 [==============================] - 12s 216ms/step - loss: 0.0113 - accuracy: 0.9969 - val_loss: 12.9925 - val_accuracy: 0.3357\n",
      "Epoch 2/5\n",
      "54/54 [==============================] - 11s 204ms/step - loss: 0.0111 - accuracy: 0.9970 - val_loss: 13.4556 - val_accuracy: 0.3353\n",
      "Epoch 3/5\n",
      "54/54 [==============================] - 11s 212ms/step - loss: 0.0101 - accuracy: 0.9972 - val_loss: 13.8318 - val_accuracy: 0.3352\n",
      "Epoch 4/5\n",
      "54/54 [==============================] - 13s 233ms/step - loss: 0.0101 - accuracy: 0.9971 - val_loss: 14.0020 - val_accuracy: 0.3356\n",
      "Epoch 5/5\n",
      "54/54 [==============================] - 12s 214ms/step - loss: 0.0098 - accuracy: 0.9971 - val_loss: 13.7770 - val_accuracy: 0.3351\n",
      "Epoch 1/5\n",
      "53/53 [==============================] - 11s 215ms/step - loss: 0.0092 - accuracy: 0.9971 - val_loss: 2.6559 - val_accuracy: 0.8880\n",
      "Epoch 2/5\n",
      "53/53 [==============================] - 11s 204ms/step - loss: 0.0088 - accuracy: 0.9972 - val_loss: 2.7839 - val_accuracy: 0.8886\n",
      "Epoch 3/5\n",
      "53/53 [==============================] - 11s 204ms/step - loss: 0.0087 - accuracy: 0.9972 - val_loss: 2.8119 - val_accuracy: 0.8891\n",
      "Epoch 4/5\n",
      "53/53 [==============================] - 11s 204ms/step - loss: 0.0096 - accuracy: 0.9966 - val_loss: 2.7604 - val_accuracy: 0.8851\n",
      "Epoch 5/5\n",
      "53/53 [==============================] - 11s 208ms/step - loss: 0.0092 - accuracy: 0.9969 - val_loss: 2.6962 - val_accuracy: 0.8890\n",
      "Epoch 1/5\n",
      "54/54 [==============================] - 11s 212ms/step - loss: 0.0086 - accuracy: 0.9973 - val_loss: 10.0526 - val_accuracy: 0.5613\n",
      "Epoch 2/5\n",
      "54/54 [==============================] - 11s 199ms/step - loss: 0.0082 - accuracy: 0.9974 - val_loss: 10.3062 - val_accuracy: 0.5625\n",
      "Epoch 3/5\n",
      "54/54 [==============================] - 11s 207ms/step - loss: 0.0083 - accuracy: 0.9973 - val_loss: 10.2481 - val_accuracy: 0.5626\n",
      "Epoch 4/5\n",
      "54/54 [==============================] - 11s 207ms/step - loss: 0.0079 - accuracy: 0.9975 - val_loss: 10.4861 - val_accuracy: 0.5631\n",
      "Epoch 5/5\n",
      "54/54 [==============================] - 11s 206ms/step - loss: 0.0085 - accuracy: 0.9971 - val_loss: 10.3335 - val_accuracy: 0.5620\n",
      "  11/4279 [..............................] - ETA: 21s - loss: 1.8282 - accuracy: 0.9176"
     ]
    },
    {
     "name": "stderr",
     "output_type": "stream",
     "text": [
      "c:\\Users\\UX430\\anaconda3\\lib\\site-packages\\numpy\\core\\_asarray.py:171: VisibleDeprecationWarning: Creating an ndarray from ragged nested sequences (which is a list-or-tuple of lists-or-tuples-or ndarrays with different lengths or shapes) is deprecated. If you meant to do this, you must specify 'dtype=object' when creating the ndarray.\n",
      "  return array(a, dtype, copy=False, order=order, subok=True)\n"
     ]
    },
    {
     "name": "stdout",
     "output_type": "stream",
     "text": [
      "4279/4279 [==============================] - 28s 6ms/step - loss: 1.9097 - accuracy: 0.9171\n"
     ]
    },
    {
     "name": "stderr",
     "output_type": "stream",
     "text": [
      "c:\\Users\\UX430\\anaconda3\\lib\\site-packages\\sklearn\\metrics\\_classification.py:1308: UndefinedMetricWarning: Precision and F-score are ill-defined and being set to 0.0 in labels with no predicted samples. Use `zero_division` parameter to control this behavior.\n",
      "  _warn_prf(average, modifier, msg_start, len(result))\n",
      "c:\\Users\\UX430\\anaconda3\\lib\\site-packages\\sklearn\\metrics\\_classification.py:1308: UndefinedMetricWarning: Recall and F-score are ill-defined and being set to 0.0 in labels with no true samples. Use `zero_division` parameter to control this behavior.\n",
      "  _warn_prf(average, modifier, msg_start, len(result))\n",
      "c:\\Users\\UX430\\anaconda3\\lib\\site-packages\\sklearn\\metrics\\_classification.py:1308: UndefinedMetricWarning: Precision and F-score are ill-defined and being set to 0.0 in labels with no predicted samples. Use `zero_division` parameter to control this behavior.\n",
      "  _warn_prf(average, modifier, msg_start, len(result))\n",
      "c:\\Users\\UX430\\anaconda3\\lib\\site-packages\\sklearn\\metrics\\_classification.py:1308: UndefinedMetricWarning: Recall and F-score are ill-defined and being set to 0.0 in labels with no true samples. Use `zero_division` parameter to control this behavior.\n",
      "  _warn_prf(average, modifier, msg_start, len(result))\n"
     ]
    },
    {
     "name": "stdout",
     "output_type": "stream",
     "text": [
      "  25/1721 [..............................] - ETA: 7s - loss: 18.7677 - accuracy: 0.0000e+00"
     ]
    },
    {
     "name": "stderr",
     "output_type": "stream",
     "text": [
      "c:\\Users\\UX430\\anaconda3\\lib\\site-packages\\sklearn\\metrics\\_classification.py:1308: UndefinedMetricWarning: Precision and F-score are ill-defined and being set to 0.0 in labels with no predicted samples. Use `zero_division` parameter to control this behavior.\n",
      "  _warn_prf(average, modifier, msg_start, len(result))\n",
      "c:\\Users\\UX430\\anaconda3\\lib\\site-packages\\sklearn\\metrics\\_classification.py:1308: UndefinedMetricWarning: Recall and F-score are ill-defined and being set to 0.0 in labels with no true samples. Use `zero_division` parameter to control this behavior.\n",
      "  _warn_prf(average, modifier, msg_start, len(result))\n"
     ]
    },
    {
     "name": "stdout",
     "output_type": "stream",
     "text": [
      "1721/1721 [==============================] - 10s 6ms/step - loss: 8.9147 - accuracy: 0.5585\n"
     ]
    },
    {
     "name": "stderr",
     "output_type": "stream",
     "text": [
      "c:\\Users\\UX430\\anaconda3\\lib\\site-packages\\sklearn\\metrics\\_classification.py:1308: UndefinedMetricWarning: Precision and F-score are ill-defined and being set to 0.0 in labels with no predicted samples. Use `zero_division` parameter to control this behavior.\n",
      "  _warn_prf(average, modifier, msg_start, len(result))\n",
      "c:\\Users\\UX430\\anaconda3\\lib\\site-packages\\sklearn\\metrics\\_classification.py:1308: UndefinedMetricWarning: Recall and F-score are ill-defined and being set to 0.0 in labels with no true samples. Use `zero_division` parameter to control this behavior.\n",
      "  _warn_prf(average, modifier, msg_start, len(result))\n",
      "c:\\Users\\UX430\\anaconda3\\lib\\site-packages\\sklearn\\metrics\\_classification.py:1308: UndefinedMetricWarning: Precision and F-score are ill-defined and being set to 0.0 in labels with no predicted samples. Use `zero_division` parameter to control this behavior.\n",
      "  _warn_prf(average, modifier, msg_start, len(result))\n",
      "c:\\Users\\UX430\\anaconda3\\lib\\site-packages\\sklearn\\metrics\\_classification.py:1308: UndefinedMetricWarning: Recall and F-score are ill-defined and being set to 0.0 in labels with no true samples. Use `zero_division` parameter to control this behavior.\n",
      "  _warn_prf(average, modifier, msg_start, len(result))\n",
      "c:\\Users\\UX430\\anaconda3\\lib\\site-packages\\sklearn\\metrics\\_classification.py:1308: UndefinedMetricWarning: Precision and F-score are ill-defined and being set to 0.0 in labels with no predicted samples. Use `zero_division` parameter to control this behavior.\n",
      "  _warn_prf(average, modifier, msg_start, len(result))\n",
      "c:\\Users\\UX430\\anaconda3\\lib\\site-packages\\sklearn\\metrics\\_classification.py:1308: UndefinedMetricWarning: Recall and F-score are ill-defined and being set to 0.0 in labels with no true samples. Use `zero_division` parameter to control this behavior.\n",
      "  _warn_prf(average, modifier, msg_start, len(result))\n"
     ]
    }
   ],
   "source": [
    "# Values saved each iteration \n",
    "loss_it = []\n",
    "accuracy_it = []\n",
    "f1_it = []\n",
    "precision_it = []\n",
    "recall_it = []\n",
    "\n",
    "for i in range(global_updates): \n",
    "    w_list = []\n",
    "    for node in range(num_nodes): \n",
    "        cp = global_model # create a copy of the global model\n",
    "        if node == 0:\n",
    "            x, y = x1, y1\n",
    "        elif node == 1:\n",
    "            x, y = x2, y2\n",
    "        else:\n",
    "            x, y = x3, y3\n",
    "        local_model, local_loss, local_acc, local_val_loss, local_val_acc = train_local_model(cp, node, x, y)\n",
    "        w_list.append(local_model.get_weights())\n",
    "\n",
    "    avg_w = aggregate(w_list)\n",
    "    global_model.set_weights(avg_w) # apply gradients to global model\n",
    "    loss_basic, accuracy_basic, f1_basic, precision_basic, recall_basic = evaluation(global_model, xbasic, ybasic) # Evaluate with test basic to know progress\n",
    "    loss_plus, accuracy_plus, f1_plus, precision_plus, recall_plus = evaluation(global_model, xplus, yplus) # Evaluate with test plus to know progress\n",
    "\n",
    "    loss_it.append([loss_basic, loss_plus])\n",
    "    accuracy_it.append([accuracy_basic, accuracy_plus])\n",
    "    f1_it.append([f1_basic, f1_plus])\n",
    "    precision_it.append([precision_basic, precision_plus])\n",
    "    recall_it.append([recall_basic, recall_plus])\n",
    "\n",
    "\n",
    "global_model.save('C:/Users/UX430/Documents/thesis/code/models/id300.hdf5')"
   ]
  },
  {
   "cell_type": "code",
   "execution_count": 12,
   "metadata": {},
   "outputs": [
    {
     "name": "stdout",
     "output_type": "stream",
     "text": [
      "Loss for iterations:  [[1.6320276260375977, 7.77853536605835], [1.7574821710586548, 7.883608818054199], [1.7030421495437622, 7.525580406188965], [1.882430076599121, 8.61681842803955], [1.9096940755844116, 8.914719581604004]]\n",
      "Accuracy for iterations:  [[0.9115735292434692, 0.5523686408996582], [0.9122673869132996, 0.5539489984512329], [0.9141882658004761, 0.5555111765861511], [0.9156051874160767, 0.5575637817382812], [0.9170805215835571, 0.5585083365440369]]\n",
      "F1 for iterations:  [[0.8760270024233132, 0.5159273618408771], [0.8764756109182806, 0.49286564786163833], [0.8774193126960248, 0.4538742538400243], [0.8781933090874285, 0.4290106494069494], [0.8795024224212434, 0.4243538801741738]]\n",
      "Precision for iterations:  [[0.8470001512652475, 0.48399674159524714], [0.8467991925367551, 0.4439155669043238], [0.8451861327210978, 0.38367641692040805], [0.8442981645119603, 0.3486298057640144], [0.8452649443553124, 0.3421653170949944]]\n",
      "Recall for iterations:  [[0.9115735195302229, 0.5523686696214488], [0.9122673756171668, 0.5539489936787038], [0.9141882614157586, 0.5555111530916225], [0.9156051885827807, 0.5575637579016203], [0.9170805457360718, 0.558508319407106]]\n"
     ]
    }
   ],
   "source": [
    "print(\"Loss for iterations: \", loss_it)\n",
    "print(\"Accuracy for iterations: \", accuracy_it)\n",
    "print(\"F1 for iterations: \", f1_it)\n",
    "print(\"Precision for iterations: \", precision_it)\n",
    "print(\"Recall for iterations: \", recall_it)"
   ]
  },
  {
   "cell_type": "markdown",
   "metadata": {},
   "source": [
    "#### Dataset 3B "
   ]
  },
  {
   "cell_type": "code",
   "execution_count": 13,
   "metadata": {},
   "outputs": [
    {
     "name": "stderr",
     "output_type": "stream",
     "text": [
      "C:\\Users\\UX430\\AppData\\Local\\Temp/ipykernel_15288/2393886010.py:2: DtypeWarning: Columns (2,4) have mixed types. Specify dtype option on import or set low_memory=False.\n",
      "  training1 = pd.read_csv('C:/Users/UX430/Documents/thesis/datasets/UNSW-NB15/UNSW-NB15-Train-Basic-3B-Part1.csv')\n",
      "C:\\Users\\UX430\\AppData\\Local\\Temp/ipykernel_15288/2393886010.py:3: DtypeWarning: Columns (4) have mixed types. Specify dtype option on import or set low_memory=False.\n",
      "  training2 = pd.read_csv('C:/Users/UX430/Documents/thesis/datasets/UNSW-NB15/UNSW-NB15-Train-Basic-3B-Part2.csv')\n",
      "C:\\Users\\UX430\\AppData\\Local\\Temp/ipykernel_15288/2393886010.py:5: DtypeWarning: Columns (4) have mixed types. Specify dtype option on import or set low_memory=False.\n",
      "  test_basic = pd.read_csv('C:/Users/UX430/Documents/thesis/datasets/UNSW-NB15/UNSW-NB15-Test-Basic.csv')\n"
     ]
    }
   ],
   "source": [
    "# Load training datasets and testing datasets \n",
    "training1 = pd.read_csv('C:/Users/UX430/Documents/thesis/datasets/UNSW-NB15/UNSW-NB15-Train-Basic-3B-Part1.csv')\n",
    "training2 = pd.read_csv('C:/Users/UX430/Documents/thesis/datasets/UNSW-NB15/UNSW-NB15-Train-Basic-3B-Part2.csv')\n",
    "training3 = pd.read_csv('C:/Users/UX430/Documents/thesis/datasets/UNSW-NB15/UNSW-NB15-Train-Basic-3B-Part3.csv')\n",
    "test_basic = pd.read_csv('C:/Users/UX430/Documents/thesis/datasets/UNSW-NB15/UNSW-NB15-Test-Basic.csv')\n",
    "test_plus = pd.read_csv('C:/Users/UX430/Documents/thesis/datasets/UNSW-NB15/UNSW-NB15-Test+.csv')"
   ]
  },
  {
   "cell_type": "code",
   "execution_count": 14,
   "metadata": {},
   "outputs": [],
   "source": [
    "# Define \n",
    "node_datasets = [training1, training2, training3]\n",
    "num_nodes = 3\n",
    "global_updates = 5\n",
    "\n",
    "# Define model training parameters\n",
    "loss_fct = \"categorical_crossentropy\"\n",
    "metrics = ['accuracy']\n",
    "local_epochs = 5"
   ]
  },
  {
   "cell_type": "code",
   "execution_count": 15,
   "metadata": {},
   "outputs": [],
   "source": [
    "def train_local_model(model, node, x_train, y_train): \n",
    "    filepath = 'C:/Users/UX430/Documents/thesis/code/models/node'+str(node)+'ID301.hdf5'\n",
    "    callbacks = [\n",
    "            keras.callbacks.EarlyStopping(\n",
    "                monitor = 'val_loss', # Use accuracy to monitor the model\n",
    "                patience = 10 # Stop after 10 steps with lower accuracy\n",
    "            ),\n",
    "            keras.callbacks.ModelCheckpoint(\n",
    "                filepath = filepath, # file where the checkpoint is saved\n",
    "                monitor = 'val_loss', # Don't overwrite the saved model unless val_loss is worse\n",
    "                save_best_only = True)]# Only save model if it is the best\n",
    "    optimizer = keras.optimizers.Adam(learning_rate=5e-4)\n",
    "    model.compile(optimizer=optimizer, loss=loss_fct, metrics=metrics)\n",
    "    history = model.fit(x_train, y_train, epochs=local_epochs, validation_split=0.2, callbacks=callbacks, batch_size=2048)\n",
    "    return model, history.history['loss'], history.history['accuracy'], history.history['val_loss'], history.history['val_accuracy']"
   ]
  },
  {
   "cell_type": "code",
   "execution_count": 16,
   "metadata": {},
   "outputs": [],
   "source": [
    "def aggregate(w_list): \n",
    "    avg_w = np.mean(w_list, axis=0)\n",
    "    return avg_w"
   ]
  },
  {
   "cell_type": "code",
   "execution_count": 17,
   "metadata": {},
   "outputs": [],
   "source": [
    "global_model = build_model((24,1,1))"
   ]
  },
  {
   "cell_type": "code",
   "execution_count": 18,
   "metadata": {},
   "outputs": [],
   "source": [
    "x1, y1 = preprocessing(training1)\n",
    "x2, y2 = preprocessing(training2)\n",
    "x3, y3 = preprocessing(training3)\n",
    "xbasic, ybasic = preprocessing(test_basic)\n",
    "xplus, yplus = preprocessing(test_plus)"
   ]
  },
  {
   "cell_type": "code",
   "execution_count": 19,
   "metadata": {},
   "outputs": [
    {
     "name": "stdout",
     "output_type": "stream",
     "text": [
      "Epoch 1/5\n",
      "57/57 [==============================] - 12s 217ms/step - loss: 0.5607 - accuracy: 0.9821 - val_loss: 2.3660e-05 - val_accuracy: 1.0000\n",
      "Epoch 2/5\n",
      "57/57 [==============================] - 12s 216ms/step - loss: 1.6402e-05 - accuracy: 1.0000 - val_loss: 1.4547e-05 - val_accuracy: 1.0000\n",
      "Epoch 3/5\n",
      "57/57 [==============================] - 12s 216ms/step - loss: 1.4485e-05 - accuracy: 1.0000 - val_loss: 1.4058e-05 - val_accuracy: 1.0000\n",
      "Epoch 4/5\n",
      "57/57 [==============================] - 12s 209ms/step - loss: 1.3979e-05 - accuracy: 1.0000 - val_loss: 1.3537e-05 - val_accuracy: 1.0000\n",
      "Epoch 5/5\n",
      "57/57 [==============================] - 12s 209ms/step - loss: 1.3430e-05 - accuracy: 1.0000 - val_loss: 1.2974e-05 - val_accuracy: 1.0000\n",
      "Epoch 1/5\n",
      "53/53 [==============================] - 11s 212ms/step - loss: 1.1302 - accuracy: 0.6740 - val_loss: 1.4526 - val_accuracy: 0.8460\n",
      "Epoch 2/5\n",
      "53/53 [==============================] - 11s 212ms/step - loss: 0.1852 - accuracy: 0.9901 - val_loss: 1.4707 - val_accuracy: 0.8780\n",
      "Epoch 3/5\n",
      "53/53 [==============================] - 12s 217ms/step - loss: 0.0539 - accuracy: 0.9921 - val_loss: 1.5480 - val_accuracy: 0.8780\n",
      "Epoch 4/5\n",
      "53/53 [==============================] - 12s 218ms/step - loss: 0.0303 - accuracy: 0.9930 - val_loss: 1.6097 - val_accuracy: 0.8783\n",
      "Epoch 5/5\n",
      "53/53 [==============================] - 11s 210ms/step - loss: 0.0266 - accuracy: 0.9930 - val_loss: 1.6624 - val_accuracy: 0.8785\n",
      "Epoch 1/5\n",
      "36/36 [==============================] - 8s 213ms/step - loss: 1.6268 - accuracy: 0.7778 - val_loss: 3.6814 - val_accuracy: 0.0000e+00\n",
      "Epoch 2/5\n",
      "36/36 [==============================] - 7s 203ms/step - loss: 0.2194 - accuracy: 0.9263 - val_loss: 4.1113 - val_accuracy: 0.4941\n",
      "Epoch 3/5\n",
      "36/36 [==============================] - 7s 201ms/step - loss: 0.0811 - accuracy: 0.9833 - val_loss: 4.9326 - val_accuracy: 0.4940\n",
      "Epoch 4/5\n",
      "36/36 [==============================] - 7s 204ms/step - loss: 0.0710 - accuracy: 0.9838 - val_loss: 5.2130 - val_accuracy: 0.4949\n",
      "Epoch 5/5\n",
      "36/36 [==============================] - 7s 199ms/step - loss: 0.0665 - accuracy: 0.9840 - val_loss: 5.5264 - val_accuracy: 0.4952\n",
      "  12/4279 [..............................] - ETA: 17s - loss: 0.7997 - accuracy: 0.8958"
     ]
    },
    {
     "name": "stderr",
     "output_type": "stream",
     "text": [
      "c:\\Users\\UX430\\anaconda3\\lib\\site-packages\\numpy\\core\\_asarray.py:171: VisibleDeprecationWarning: Creating an ndarray from ragged nested sequences (which is a list-or-tuple of lists-or-tuples-or ndarrays with different lengths or shapes) is deprecated. If you meant to do this, you must specify 'dtype=object' when creating the ndarray.\n",
      "  return array(a, dtype, copy=False, order=order, subok=True)\n"
     ]
    },
    {
     "name": "stdout",
     "output_type": "stream",
     "text": [
      "4279/4279 [==============================] - 30s 7ms/step - loss: 0.8434 - accuracy: 0.8853\n"
     ]
    },
    {
     "name": "stderr",
     "output_type": "stream",
     "text": [
      "c:\\Users\\UX430\\anaconda3\\lib\\site-packages\\sklearn\\metrics\\_classification.py:1308: UndefinedMetricWarning: Precision and F-score are ill-defined and being set to 0.0 in labels with no predicted samples. Use `zero_division` parameter to control this behavior.\n",
      "  _warn_prf(average, modifier, msg_start, len(result))\n",
      "c:\\Users\\UX430\\anaconda3\\lib\\site-packages\\sklearn\\metrics\\_classification.py:1308: UndefinedMetricWarning: Recall and F-score are ill-defined and being set to 0.0 in labels with no true samples. Use `zero_division` parameter to control this behavior.\n",
      "  _warn_prf(average, modifier, msg_start, len(result))\n",
      "c:\\Users\\UX430\\anaconda3\\lib\\site-packages\\sklearn\\metrics\\_classification.py:1308: UndefinedMetricWarning: Precision and F-score are ill-defined and being set to 0.0 in labels with no predicted samples. Use `zero_division` parameter to control this behavior.\n",
      "  _warn_prf(average, modifier, msg_start, len(result))\n",
      "c:\\Users\\UX430\\anaconda3\\lib\\site-packages\\sklearn\\metrics\\_classification.py:1308: UndefinedMetricWarning: Recall and F-score are ill-defined and being set to 0.0 in labels with no true samples. Use `zero_division` parameter to control this behavior.\n",
      "  _warn_prf(average, modifier, msg_start, len(result))\n",
      "c:\\Users\\UX430\\anaconda3\\lib\\site-packages\\sklearn\\metrics\\_classification.py:1308: UndefinedMetricWarning: Precision and F-score are ill-defined and being set to 0.0 in labels with no predicted samples. Use `zero_division` parameter to control this behavior.\n",
      "  _warn_prf(average, modifier, msg_start, len(result))\n",
      "c:\\Users\\UX430\\anaconda3\\lib\\site-packages\\sklearn\\metrics\\_classification.py:1308: UndefinedMetricWarning: Recall and F-score are ill-defined and being set to 0.0 in labels with no true samples. Use `zero_division` parameter to control this behavior.\n",
      "  _warn_prf(average, modifier, msg_start, len(result))\n"
     ]
    },
    {
     "name": "stdout",
     "output_type": "stream",
     "text": [
      "1721/1721 [==============================] - 13s 7ms/step - loss: 3.9821 - accuracy: 0.5229\n"
     ]
    },
    {
     "name": "stderr",
     "output_type": "stream",
     "text": [
      "c:\\Users\\UX430\\anaconda3\\lib\\site-packages\\sklearn\\metrics\\_classification.py:1308: UndefinedMetricWarning: Precision and F-score are ill-defined and being set to 0.0 in labels with no predicted samples. Use `zero_division` parameter to control this behavior.\n",
      "  _warn_prf(average, modifier, msg_start, len(result))\n",
      "c:\\Users\\UX430\\anaconda3\\lib\\site-packages\\sklearn\\metrics\\_classification.py:1308: UndefinedMetricWarning: Recall and F-score are ill-defined and being set to 0.0 in labels with no true samples. Use `zero_division` parameter to control this behavior.\n",
      "  _warn_prf(average, modifier, msg_start, len(result))\n",
      "c:\\Users\\UX430\\anaconda3\\lib\\site-packages\\sklearn\\metrics\\_classification.py:1308: UndefinedMetricWarning: Precision and F-score are ill-defined and being set to 0.0 in labels with no predicted samples. Use `zero_division` parameter to control this behavior.\n",
      "  _warn_prf(average, modifier, msg_start, len(result))\n",
      "c:\\Users\\UX430\\anaconda3\\lib\\site-packages\\sklearn\\metrics\\_classification.py:1308: UndefinedMetricWarning: Recall and F-score are ill-defined and being set to 0.0 in labels with no true samples. Use `zero_division` parameter to control this behavior.\n",
      "  _warn_prf(average, modifier, msg_start, len(result))\n",
      "c:\\Users\\UX430\\anaconda3\\lib\\site-packages\\sklearn\\metrics\\_classification.py:1308: UndefinedMetricWarning: Precision and F-score are ill-defined and being set to 0.0 in labels with no predicted samples. Use `zero_division` parameter to control this behavior.\n",
      "  _warn_prf(average, modifier, msg_start, len(result))\n",
      "c:\\Users\\UX430\\anaconda3\\lib\\site-packages\\sklearn\\metrics\\_classification.py:1308: UndefinedMetricWarning: Recall and F-score are ill-defined and being set to 0.0 in labels with no true samples. Use `zero_division` parameter to control this behavior.\n",
      "  _warn_prf(average, modifier, msg_start, len(result))\n"
     ]
    },
    {
     "name": "stdout",
     "output_type": "stream",
     "text": [
      "Epoch 1/5\n",
      "57/57 [==============================] - 12s 214ms/step - loss: 0.0157 - accuracy: 0.9963 - val_loss: 1.0388e-05 - val_accuracy: 1.0000\n",
      "Epoch 2/5\n",
      "57/57 [==============================] - 12s 208ms/step - loss: 9.4886e-06 - accuracy: 1.0000 - val_loss: 8.7999e-06 - val_accuracy: 1.0000\n",
      "Epoch 3/5\n",
      "57/57 [==============================] - 12s 207ms/step - loss: 8.4446e-06 - accuracy: 1.0000 - val_loss: 7.8561e-06 - val_accuracy: 1.0000\n",
      "Epoch 4/5\n",
      "57/57 [==============================] - 12s 209ms/step - loss: 7.4718e-06 - accuracy: 1.0000 - val_loss: 6.8843e-06 - val_accuracy: 1.0000\n",
      "Epoch 5/5\n",
      "57/57 [==============================] - 12s 209ms/step - loss: 6.5174e-06 - accuracy: 1.0000 - val_loss: 5.9844e-06 - val_accuracy: 1.0000\n",
      "Epoch 1/5\n",
      "53/53 [==============================] - 12s 219ms/step - loss: 0.2951 - accuracy: 0.9309 - val_loss: 1.5104 - val_accuracy: 0.8780\n",
      "Epoch 2/5\n",
      "53/53 [==============================] - 11s 203ms/step - loss: 0.0316 - accuracy: 0.9930 - val_loss: 1.6417 - val_accuracy: 0.8783\n",
      "Epoch 3/5\n",
      "53/53 [==============================] - 11s 208ms/step - loss: 0.0275 - accuracy: 0.9931 - val_loss: 1.7490 - val_accuracy: 0.8785\n",
      "Epoch 4/5\n",
      "53/53 [==============================] - 11s 208ms/step - loss: 0.0260 - accuracy: 0.9931 - val_loss: 1.7941 - val_accuracy: 0.8787\n",
      "Epoch 5/5\n",
      "53/53 [==============================] - 11s 204ms/step - loss: 0.0249 - accuracy: 0.9931 - val_loss: 1.8373 - val_accuracy: 0.8786\n",
      "Epoch 1/5\n",
      "36/36 [==============================] - 8s 213ms/step - loss: 0.9903 - accuracy: 0.8338 - val_loss: 3.5937 - val_accuracy: 0.4936\n",
      "Epoch 2/5\n",
      "36/36 [==============================] - 7s 206ms/step - loss: 0.0877 - accuracy: 0.9836 - val_loss: 5.1332 - val_accuracy: 0.4945\n",
      "Epoch 3/5\n",
      "36/36 [==============================] - 7s 208ms/step - loss: 0.0736 - accuracy: 0.9838 - val_loss: 5.3891 - val_accuracy: 0.4952\n",
      "Epoch 4/5\n",
      "36/36 [==============================] - 7s 208ms/step - loss: 0.0686 - accuracy: 0.9840 - val_loss: 5.6225 - val_accuracy: 0.4951\n",
      "Epoch 5/5\n",
      "36/36 [==============================] - 8s 209ms/step - loss: 0.0659 - accuracy: 0.9840 - val_loss: 5.9117 - val_accuracy: 0.4954\n",
      "  14/4279 [..............................] - ETA: 16s - loss: 0.7602 - accuracy: 0.8728"
     ]
    },
    {
     "name": "stderr",
     "output_type": "stream",
     "text": [
      "c:\\Users\\UX430\\anaconda3\\lib\\site-packages\\numpy\\core\\_asarray.py:171: VisibleDeprecationWarning: Creating an ndarray from ragged nested sequences (which is a list-or-tuple of lists-or-tuples-or ndarrays with different lengths or shapes) is deprecated. If you meant to do this, you must specify 'dtype=object' when creating the ndarray.\n",
      "  return array(a, dtype, copy=False, order=order, subok=True)\n"
     ]
    },
    {
     "name": "stdout",
     "output_type": "stream",
     "text": [
      "4279/4279 [==============================] - 27s 6ms/step - loss: 0.8120 - accuracy: 0.8496\n"
     ]
    },
    {
     "name": "stderr",
     "output_type": "stream",
     "text": [
      "c:\\Users\\UX430\\anaconda3\\lib\\site-packages\\sklearn\\metrics\\_classification.py:1308: UndefinedMetricWarning: Precision and F-score are ill-defined and being set to 0.0 in labels with no predicted samples. Use `zero_division` parameter to control this behavior.\n",
      "  _warn_prf(average, modifier, msg_start, len(result))\n",
      "c:\\Users\\UX430\\anaconda3\\lib\\site-packages\\sklearn\\metrics\\_classification.py:1308: UndefinedMetricWarning: Recall and F-score are ill-defined and being set to 0.0 in labels with no true samples. Use `zero_division` parameter to control this behavior.\n",
      "  _warn_prf(average, modifier, msg_start, len(result))\n",
      "c:\\Users\\UX430\\anaconda3\\lib\\site-packages\\sklearn\\metrics\\_classification.py:1308: UndefinedMetricWarning: Precision and F-score are ill-defined and being set to 0.0 in labels with no predicted samples. Use `zero_division` parameter to control this behavior.\n",
      "  _warn_prf(average, modifier, msg_start, len(result))\n",
      "c:\\Users\\UX430\\anaconda3\\lib\\site-packages\\sklearn\\metrics\\_classification.py:1308: UndefinedMetricWarning: Recall and F-score are ill-defined and being set to 0.0 in labels with no true samples. Use `zero_division` parameter to control this behavior.\n",
      "  _warn_prf(average, modifier, msg_start, len(result))\n"
     ]
    },
    {
     "name": "stdout",
     "output_type": "stream",
     "text": [
      "  21/1721 [..............................] - ETA: 8s - loss: 10.2507 - accuracy: 0.0000e+00"
     ]
    },
    {
     "name": "stderr",
     "output_type": "stream",
     "text": [
      "c:\\Users\\UX430\\anaconda3\\lib\\site-packages\\sklearn\\metrics\\_classification.py:1308: UndefinedMetricWarning: Precision and F-score are ill-defined and being set to 0.0 in labels with no predicted samples. Use `zero_division` parameter to control this behavior.\n",
      "  _warn_prf(average, modifier, msg_start, len(result))\n",
      "c:\\Users\\UX430\\anaconda3\\lib\\site-packages\\sklearn\\metrics\\_classification.py:1308: UndefinedMetricWarning: Recall and F-score are ill-defined and being set to 0.0 in labels with no true samples. Use `zero_division` parameter to control this behavior.\n",
      "  _warn_prf(average, modifier, msg_start, len(result))\n"
     ]
    },
    {
     "name": "stdout",
     "output_type": "stream",
     "text": [
      "1721/1721 [==============================] - 11s 6ms/step - loss: 5.2527 - accuracy: 0.4493\n"
     ]
    },
    {
     "name": "stderr",
     "output_type": "stream",
     "text": [
      "c:\\Users\\UX430\\anaconda3\\lib\\site-packages\\sklearn\\metrics\\_classification.py:1308: UndefinedMetricWarning: Precision and F-score are ill-defined and being set to 0.0 in labels with no predicted samples. Use `zero_division` parameter to control this behavior.\n",
      "  _warn_prf(average, modifier, msg_start, len(result))\n",
      "c:\\Users\\UX430\\anaconda3\\lib\\site-packages\\sklearn\\metrics\\_classification.py:1308: UndefinedMetricWarning: Recall and F-score are ill-defined and being set to 0.0 in labels with no true samples. Use `zero_division` parameter to control this behavior.\n",
      "  _warn_prf(average, modifier, msg_start, len(result))\n",
      "c:\\Users\\UX430\\anaconda3\\lib\\site-packages\\sklearn\\metrics\\_classification.py:1308: UndefinedMetricWarning: Precision and F-score are ill-defined and being set to 0.0 in labels with no predicted samples. Use `zero_division` parameter to control this behavior.\n",
      "  _warn_prf(average, modifier, msg_start, len(result))\n",
      "c:\\Users\\UX430\\anaconda3\\lib\\site-packages\\sklearn\\metrics\\_classification.py:1308: UndefinedMetricWarning: Recall and F-score are ill-defined and being set to 0.0 in labels with no true samples. Use `zero_division` parameter to control this behavior.\n",
      "  _warn_prf(average, modifier, msg_start, len(result))\n",
      "c:\\Users\\UX430\\anaconda3\\lib\\site-packages\\sklearn\\metrics\\_classification.py:1308: UndefinedMetricWarning: Precision and F-score are ill-defined and being set to 0.0 in labels with no predicted samples. Use `zero_division` parameter to control this behavior.\n",
      "  _warn_prf(average, modifier, msg_start, len(result))\n",
      "c:\\Users\\UX430\\anaconda3\\lib\\site-packages\\sklearn\\metrics\\_classification.py:1308: UndefinedMetricWarning: Recall and F-score are ill-defined and being set to 0.0 in labels with no true samples. Use `zero_division` parameter to control this behavior.\n",
      "  _warn_prf(average, modifier, msg_start, len(result))\n"
     ]
    },
    {
     "name": "stdout",
     "output_type": "stream",
     "text": [
      "Epoch 1/5\n",
      "57/57 [==============================] - 13s 229ms/step - loss: 0.0296 - accuracy: 0.9890 - val_loss: 5.4784e-05 - val_accuracy: 1.0000\n",
      "Epoch 2/5\n",
      "57/57 [==============================] - 12s 211ms/step - loss: 4.2107e-05 - accuracy: 1.0000 - val_loss: 3.3994e-05 - val_accuracy: 1.0000\n",
      "Epoch 3/5\n",
      "57/57 [==============================] - 12s 207ms/step - loss: 2.8540e-05 - accuracy: 1.0000 - val_loss: 2.3847e-05 - val_accuracy: 1.0000\n",
      "Epoch 4/5\n",
      "57/57 [==============================] - 12s 207ms/step - loss: 2.0423e-05 - accuracy: 1.0000 - val_loss: 1.7345e-05 - val_accuracy: 1.0000\n",
      "Epoch 5/5\n",
      "57/57 [==============================] - 12s 210ms/step - loss: 1.5213e-05 - accuracy: 1.0000 - val_loss: 1.3296e-05 - val_accuracy: 1.0000\n",
      "Epoch 1/5\n",
      "53/53 [==============================] - 11s 211ms/step - loss: 0.1704 - accuracy: 0.9524 - val_loss: 1.6129 - val_accuracy: 0.8781\n",
      "Epoch 2/5\n",
      "53/53 [==============================] - 11s 207ms/step - loss: 0.0258 - accuracy: 0.9930 - val_loss: 1.6620 - val_accuracy: 0.8786\n",
      "Epoch 3/5\n",
      "53/53 [==============================] - 11s 216ms/step - loss: 0.0245 - accuracy: 0.9931 - val_loss: 1.7124 - val_accuracy: 0.8786\n",
      "Epoch 4/5\n",
      "53/53 [==============================] - 11s 213ms/step - loss: 0.0236 - accuracy: 0.9931 - val_loss: 1.7378 - val_accuracy: 0.8790\n",
      "Epoch 5/5\n",
      "53/53 [==============================] - 11s 210ms/step - loss: 0.0228 - accuracy: 0.9932 - val_loss: 1.7631 - val_accuracy: 0.8791\n",
      "Epoch 1/5\n",
      "36/36 [==============================] - 8s 213ms/step - loss: 0.7460 - accuracy: 0.8559 - val_loss: 4.0263 - val_accuracy: 0.4949\n",
      "Epoch 2/5\n",
      "36/36 [==============================] - 7s 198ms/step - loss: 0.0811 - accuracy: 0.9838 - val_loss: 5.3027 - val_accuracy: 0.4949\n",
      "Epoch 3/5\n",
      "36/36 [==============================] - 7s 200ms/step - loss: 0.0711 - accuracy: 0.9839 - val_loss: 5.5954 - val_accuracy: 0.4955\n",
      "Epoch 4/5\n",
      "36/36 [==============================] - 7s 202ms/step - loss: 0.0673 - accuracy: 0.9840 - val_loss: 5.8792 - val_accuracy: 0.4954\n",
      "Epoch 5/5\n",
      "36/36 [==============================] - 7s 200ms/step - loss: 0.0649 - accuracy: 0.9841 - val_loss: 6.1704 - val_accuracy: 0.4957\n",
      "  12/4279 [..............................] - ETA: 17s - loss: 0.6802 - accuracy: 0.8880"
     ]
    },
    {
     "name": "stderr",
     "output_type": "stream",
     "text": [
      "c:\\Users\\UX430\\anaconda3\\lib\\site-packages\\numpy\\core\\_asarray.py:171: VisibleDeprecationWarning: Creating an ndarray from ragged nested sequences (which is a list-or-tuple of lists-or-tuples-or ndarrays with different lengths or shapes) is deprecated. If you meant to do this, you must specify 'dtype=object' when creating the ndarray.\n",
      "  return array(a, dtype, copy=False, order=order, subok=True)\n"
     ]
    },
    {
     "name": "stdout",
     "output_type": "stream",
     "text": [
      "4279/4279 [==============================] - 30s 7ms/step - loss: 0.7316 - accuracy: 0.8577\n"
     ]
    },
    {
     "name": "stderr",
     "output_type": "stream",
     "text": [
      "c:\\Users\\UX430\\anaconda3\\lib\\site-packages\\sklearn\\metrics\\_classification.py:1308: UndefinedMetricWarning: Precision and F-score are ill-defined and being set to 0.0 in labels with no predicted samples. Use `zero_division` parameter to control this behavior.\n",
      "  _warn_prf(average, modifier, msg_start, len(result))\n",
      "c:\\Users\\UX430\\anaconda3\\lib\\site-packages\\sklearn\\metrics\\_classification.py:1308: UndefinedMetricWarning: Recall and F-score are ill-defined and being set to 0.0 in labels with no true samples. Use `zero_division` parameter to control this behavior.\n",
      "  _warn_prf(average, modifier, msg_start, len(result))\n",
      "c:\\Users\\UX430\\anaconda3\\lib\\site-packages\\sklearn\\metrics\\_classification.py:1308: UndefinedMetricWarning: Precision and F-score are ill-defined and being set to 0.0 in labels with no predicted samples. Use `zero_division` parameter to control this behavior.\n",
      "  _warn_prf(average, modifier, msg_start, len(result))\n",
      "c:\\Users\\UX430\\anaconda3\\lib\\site-packages\\sklearn\\metrics\\_classification.py:1308: UndefinedMetricWarning: Recall and F-score are ill-defined and being set to 0.0 in labels with no true samples. Use `zero_division` parameter to control this behavior.\n",
      "  _warn_prf(average, modifier, msg_start, len(result))\n"
     ]
    },
    {
     "name": "stdout",
     "output_type": "stream",
     "text": [
      "  25/1721 [..............................] - ETA: 6s - loss: 10.0610 - accuracy: 0.0000e+00"
     ]
    },
    {
     "name": "stderr",
     "output_type": "stream",
     "text": [
      "c:\\Users\\UX430\\anaconda3\\lib\\site-packages\\sklearn\\metrics\\_classification.py:1308: UndefinedMetricWarning: Precision and F-score are ill-defined and being set to 0.0 in labels with no predicted samples. Use `zero_division` parameter to control this behavior.\n",
      "  _warn_prf(average, modifier, msg_start, len(result))\n",
      "c:\\Users\\UX430\\anaconda3\\lib\\site-packages\\sklearn\\metrics\\_classification.py:1308: UndefinedMetricWarning: Recall and F-score are ill-defined and being set to 0.0 in labels with no true samples. Use `zero_division` parameter to control this behavior.\n",
      "  _warn_prf(average, modifier, msg_start, len(result))\n"
     ]
    },
    {
     "name": "stdout",
     "output_type": "stream",
     "text": [
      "1721/1721 [==============================] - 13s 8ms/step - loss: 5.4380 - accuracy: 0.4647\n"
     ]
    },
    {
     "name": "stderr",
     "output_type": "stream",
     "text": [
      "c:\\Users\\UX430\\anaconda3\\lib\\site-packages\\sklearn\\metrics\\_classification.py:1308: UndefinedMetricWarning: Precision and F-score are ill-defined and being set to 0.0 in labels with no predicted samples. Use `zero_division` parameter to control this behavior.\n",
      "  _warn_prf(average, modifier, msg_start, len(result))\n",
      "c:\\Users\\UX430\\anaconda3\\lib\\site-packages\\sklearn\\metrics\\_classification.py:1308: UndefinedMetricWarning: Recall and F-score are ill-defined and being set to 0.0 in labels with no true samples. Use `zero_division` parameter to control this behavior.\n",
      "  _warn_prf(average, modifier, msg_start, len(result))\n",
      "c:\\Users\\UX430\\anaconda3\\lib\\site-packages\\sklearn\\metrics\\_classification.py:1308: UndefinedMetricWarning: Precision and F-score are ill-defined and being set to 0.0 in labels with no predicted samples. Use `zero_division` parameter to control this behavior.\n",
      "  _warn_prf(average, modifier, msg_start, len(result))\n",
      "c:\\Users\\UX430\\anaconda3\\lib\\site-packages\\sklearn\\metrics\\_classification.py:1308: UndefinedMetricWarning: Recall and F-score are ill-defined and being set to 0.0 in labels with no true samples. Use `zero_division` parameter to control this behavior.\n",
      "  _warn_prf(average, modifier, msg_start, len(result))\n",
      "c:\\Users\\UX430\\anaconda3\\lib\\site-packages\\sklearn\\metrics\\_classification.py:1308: UndefinedMetricWarning: Precision and F-score are ill-defined and being set to 0.0 in labels with no predicted samples. Use `zero_division` parameter to control this behavior.\n",
      "  _warn_prf(average, modifier, msg_start, len(result))\n",
      "c:\\Users\\UX430\\anaconda3\\lib\\site-packages\\sklearn\\metrics\\_classification.py:1308: UndefinedMetricWarning: Recall and F-score are ill-defined and being set to 0.0 in labels with no true samples. Use `zero_division` parameter to control this behavior.\n",
      "  _warn_prf(average, modifier, msg_start, len(result))\n"
     ]
    },
    {
     "name": "stdout",
     "output_type": "stream",
     "text": [
      "Epoch 1/5\n",
      "57/57 [==============================] - 13s 220ms/step - loss: 0.0299 - accuracy: 0.9883 - val_loss: 1.5761e-04 - val_accuracy: 1.0000\n",
      "Epoch 2/5\n",
      "57/57 [==============================] - 12s 211ms/step - loss: 1.0979e-04 - accuracy: 1.0000 - val_loss: 8.2361e-05 - val_accuracy: 1.0000\n",
      "Epoch 3/5\n",
      "57/57 [==============================] - 12s 215ms/step - loss: 6.5776e-05 - accuracy: 1.0000 - val_loss: 5.3202e-05 - val_accuracy: 1.0000\n",
      "Epoch 4/5\n",
      "57/57 [==============================] - 12s 209ms/step - loss: 4.4020e-05 - accuracy: 1.0000 - val_loss: 3.6779e-05 - val_accuracy: 1.0000\n",
      "Epoch 5/5\n",
      "57/57 [==============================] - 12s 212ms/step - loss: 3.1411e-05 - accuracy: 1.0000 - val_loss: 2.6905e-05 - val_accuracy: 1.0000\n",
      "Epoch 1/5\n",
      "53/53 [==============================] - 12s 226ms/step - loss: 0.1316 - accuracy: 0.9584 - val_loss: 1.6191 - val_accuracy: 0.8781\n",
      "Epoch 2/5\n",
      "53/53 [==============================] - 11s 214ms/step - loss: 0.0232 - accuracy: 0.9930 - val_loss: 1.6133 - val_accuracy: 0.8785\n",
      "Epoch 3/5\n",
      "53/53 [==============================] - 11s 207ms/step - loss: 0.0222 - accuracy: 0.9932 - val_loss: 1.6360 - val_accuracy: 0.8786\n",
      "Epoch 4/5\n",
      "53/53 [==============================] - 11s 211ms/step - loss: 0.0214 - accuracy: 0.9935 - val_loss: 1.6578 - val_accuracy: 0.8790\n",
      "Epoch 5/5\n",
      "53/53 [==============================] - 11s 213ms/step - loss: 0.0207 - accuracy: 0.9935 - val_loss: 1.6801 - val_accuracy: 0.8804\n",
      "Epoch 1/5\n",
      "36/36 [==============================] - 8s 217ms/step - loss: 0.6876 - accuracy: 0.8547 - val_loss: 4.3485 - val_accuracy: 0.4953\n",
      "Epoch 2/5\n",
      "36/36 [==============================] - 7s 208ms/step - loss: 0.0768 - accuracy: 0.9840 - val_loss: 5.3851 - val_accuracy: 0.4957\n",
      "Epoch 3/5\n",
      "36/36 [==============================] - 8s 213ms/step - loss: 0.0687 - accuracy: 0.9841 - val_loss: 5.7749 - val_accuracy: 0.4962\n",
      "Epoch 4/5\n",
      "36/36 [==============================] - 8s 212ms/step - loss: 0.0647 - accuracy: 0.9842 - val_loss: 6.1472 - val_accuracy: 0.4959\n",
      "Epoch 5/5\n",
      "36/36 [==============================] - 7s 202ms/step - loss: 0.0622 - accuracy: 0.9843 - val_loss: 6.4715 - val_accuracy: 0.4963\n",
      "  13/4279 [..............................] - ETA: 17s - loss: 0.6265 - accuracy: 0.8894"
     ]
    },
    {
     "name": "stderr",
     "output_type": "stream",
     "text": [
      "c:\\Users\\UX430\\anaconda3\\lib\\site-packages\\numpy\\core\\_asarray.py:171: VisibleDeprecationWarning: Creating an ndarray from ragged nested sequences (which is a list-or-tuple of lists-or-tuples-or ndarrays with different lengths or shapes) is deprecated. If you meant to do this, you must specify 'dtype=object' when creating the ndarray.\n",
      "  return array(a, dtype, copy=False, order=order, subok=True)\n"
     ]
    },
    {
     "name": "stdout",
     "output_type": "stream",
     "text": [
      "4279/4279 [==============================] - 29s 7ms/step - loss: 0.6785 - accuracy: 0.8723\n"
     ]
    },
    {
     "name": "stderr",
     "output_type": "stream",
     "text": [
      "c:\\Users\\UX430\\anaconda3\\lib\\site-packages\\sklearn\\metrics\\_classification.py:1308: UndefinedMetricWarning: Precision and F-score are ill-defined and being set to 0.0 in labels with no predicted samples. Use `zero_division` parameter to control this behavior.\n",
      "  _warn_prf(average, modifier, msg_start, len(result))\n",
      "c:\\Users\\UX430\\anaconda3\\lib\\site-packages\\sklearn\\metrics\\_classification.py:1308: UndefinedMetricWarning: Recall and F-score are ill-defined and being set to 0.0 in labels with no true samples. Use `zero_division` parameter to control this behavior.\n",
      "  _warn_prf(average, modifier, msg_start, len(result))\n",
      "c:\\Users\\UX430\\anaconda3\\lib\\site-packages\\sklearn\\metrics\\_classification.py:1308: UndefinedMetricWarning: Precision and F-score are ill-defined and being set to 0.0 in labels with no predicted samples. Use `zero_division` parameter to control this behavior.\n",
      "  _warn_prf(average, modifier, msg_start, len(result))\n",
      "c:\\Users\\UX430\\anaconda3\\lib\\site-packages\\sklearn\\metrics\\_classification.py:1308: UndefinedMetricWarning: Recall and F-score are ill-defined and being set to 0.0 in labels with no true samples. Use `zero_division` parameter to control this behavior.\n",
      "  _warn_prf(average, modifier, msg_start, len(result))\n"
     ]
    },
    {
     "name": "stdout",
     "output_type": "stream",
     "text": [
      "  21/1721 [..............................] - ETA: 8s - loss: 10.1099 - accuracy: 0.0000e+00"
     ]
    },
    {
     "name": "stderr",
     "output_type": "stream",
     "text": [
      "c:\\Users\\UX430\\anaconda3\\lib\\site-packages\\sklearn\\metrics\\_classification.py:1308: UndefinedMetricWarning: Precision and F-score are ill-defined and being set to 0.0 in labels with no predicted samples. Use `zero_division` parameter to control this behavior.\n",
      "  _warn_prf(average, modifier, msg_start, len(result))\n",
      "c:\\Users\\UX430\\anaconda3\\lib\\site-packages\\sklearn\\metrics\\_classification.py:1308: UndefinedMetricWarning: Recall and F-score are ill-defined and being set to 0.0 in labels with no true samples. Use `zero_division` parameter to control this behavior.\n",
      "  _warn_prf(average, modifier, msg_start, len(result))\n"
     ]
    },
    {
     "name": "stdout",
     "output_type": "stream",
     "text": [
      "1721/1721 [==============================] - 16s 10ms/step - loss: 5.6021 - accuracy: 0.4862\n"
     ]
    },
    {
     "name": "stderr",
     "output_type": "stream",
     "text": [
      "c:\\Users\\UX430\\anaconda3\\lib\\site-packages\\sklearn\\metrics\\_classification.py:1308: UndefinedMetricWarning: Precision and F-score are ill-defined and being set to 0.0 in labels with no predicted samples. Use `zero_division` parameter to control this behavior.\n",
      "  _warn_prf(average, modifier, msg_start, len(result))\n",
      "c:\\Users\\UX430\\anaconda3\\lib\\site-packages\\sklearn\\metrics\\_classification.py:1308: UndefinedMetricWarning: Recall and F-score are ill-defined and being set to 0.0 in labels with no true samples. Use `zero_division` parameter to control this behavior.\n",
      "  _warn_prf(average, modifier, msg_start, len(result))\n",
      "c:\\Users\\UX430\\anaconda3\\lib\\site-packages\\sklearn\\metrics\\_classification.py:1308: UndefinedMetricWarning: Precision and F-score are ill-defined and being set to 0.0 in labels with no predicted samples. Use `zero_division` parameter to control this behavior.\n",
      "  _warn_prf(average, modifier, msg_start, len(result))\n",
      "c:\\Users\\UX430\\anaconda3\\lib\\site-packages\\sklearn\\metrics\\_classification.py:1308: UndefinedMetricWarning: Recall and F-score are ill-defined and being set to 0.0 in labels with no true samples. Use `zero_division` parameter to control this behavior.\n",
      "  _warn_prf(average, modifier, msg_start, len(result))\n",
      "c:\\Users\\UX430\\anaconda3\\lib\\site-packages\\sklearn\\metrics\\_classification.py:1308: UndefinedMetricWarning: Precision and F-score are ill-defined and being set to 0.0 in labels with no predicted samples. Use `zero_division` parameter to control this behavior.\n",
      "  _warn_prf(average, modifier, msg_start, len(result))\n",
      "c:\\Users\\UX430\\anaconda3\\lib\\site-packages\\sklearn\\metrics\\_classification.py:1308: UndefinedMetricWarning: Recall and F-score are ill-defined and being set to 0.0 in labels with no true samples. Use `zero_division` parameter to control this behavior.\n",
      "  _warn_prf(average, modifier, msg_start, len(result))\n"
     ]
    },
    {
     "name": "stdout",
     "output_type": "stream",
     "text": [
      "Epoch 1/5\n",
      "57/57 [==============================] - 13s 226ms/step - loss: 0.0274 - accuracy: 0.9896 - val_loss: 2.1141e-04 - val_accuracy: 1.0000\n",
      "Epoch 2/5\n",
      "57/57 [==============================] - 13s 220ms/step - loss: 1.3988e-04 - accuracy: 1.0000 - val_loss: 1.0200e-04 - val_accuracy: 1.0000\n",
      "Epoch 3/5\n",
      "57/57 [==============================] - 12s 218ms/step - loss: 8.0071e-05 - accuracy: 1.0000 - val_loss: 6.3626e-05 - val_accuracy: 1.0000\n",
      "Epoch 4/5\n",
      "57/57 [==============================] - 12s 216ms/step - loss: 5.2320e-05 - accuracy: 1.0000 - val_loss: 4.3974e-05 - val_accuracy: 1.0000\n",
      "Epoch 5/5\n",
      "57/57 [==============================] - 12s 213ms/step - loss: 3.7155e-05 - accuracy: 1.0000 - val_loss: 3.2259e-05 - val_accuracy: 1.0000\n",
      "Epoch 1/5\n",
      "53/53 [==============================] - 12s 228ms/step - loss: 0.1187 - accuracy: 0.9613 - val_loss: 1.5738 - val_accuracy: 0.8780\n",
      "Epoch 2/5\n",
      "53/53 [==============================] - 12s 222ms/step - loss: 0.0214 - accuracy: 0.9933 - val_loss: 1.5575 - val_accuracy: 0.8794\n",
      "Epoch 3/5\n",
      "53/53 [==============================] - 12s 227ms/step - loss: 0.0205 - accuracy: 0.9938 - val_loss: 1.5884 - val_accuracy: 0.8801\n",
      "Epoch 4/5\n",
      "53/53 [==============================] - 12s 220ms/step - loss: 0.0197 - accuracy: 0.9941 - val_loss: 1.6327 - val_accuracy: 0.8806\n",
      "Epoch 5/5\n",
      "53/53 [==============================] - 12s 222ms/step - loss: 0.0189 - accuracy: 0.9943 - val_loss: 1.6686 - val_accuracy: 0.8814\n",
      "Epoch 1/5\n",
      "36/36 [==============================] - 8s 222ms/step - loss: 0.6861 - accuracy: 0.8465 - val_loss: 4.9676 - val_accuracy: 0.4963\n",
      "Epoch 2/5\n",
      "36/36 [==============================] - 8s 222ms/step - loss: 0.0741 - accuracy: 0.9842 - val_loss: 5.6793 - val_accuracy: 0.4965\n",
      "Epoch 3/5\n",
      "36/36 [==============================] - 8s 216ms/step - loss: 0.0664 - accuracy: 0.9843 - val_loss: 6.1033 - val_accuracy: 0.4964\n",
      "Epoch 4/5\n",
      "36/36 [==============================] - 8s 217ms/step - loss: 0.0625 - accuracy: 0.9843 - val_loss: 6.5417 - val_accuracy: 0.4963\n",
      "Epoch 5/5\n",
      "36/36 [==============================] - 8s 219ms/step - loss: 0.0600 - accuracy: 0.9843 - val_loss: 6.9939 - val_accuracy: 0.4968\n",
      "  12/4279 [..............................] - ETA: 19s - loss: 0.5872 - accuracy: 0.9167"
     ]
    },
    {
     "name": "stderr",
     "output_type": "stream",
     "text": [
      "c:\\Users\\UX430\\anaconda3\\lib\\site-packages\\numpy\\core\\_asarray.py:171: VisibleDeprecationWarning: Creating an ndarray from ragged nested sequences (which is a list-or-tuple of lists-or-tuples-or ndarrays with different lengths or shapes) is deprecated. If you meant to do this, you must specify 'dtype=object' when creating the ndarray.\n",
      "  return array(a, dtype, copy=False, order=order, subok=True)\n"
     ]
    },
    {
     "name": "stdout",
     "output_type": "stream",
     "text": [
      "4279/4279 [==============================] - 44s 10ms/step - loss: 0.6155 - accuracy: 0.9008\n"
     ]
    },
    {
     "name": "stderr",
     "output_type": "stream",
     "text": [
      "c:\\Users\\UX430\\anaconda3\\lib\\site-packages\\sklearn\\metrics\\_classification.py:1308: UndefinedMetricWarning: Precision and F-score are ill-defined and being set to 0.0 in labels with no predicted samples. Use `zero_division` parameter to control this behavior.\n",
      "  _warn_prf(average, modifier, msg_start, len(result))\n",
      "c:\\Users\\UX430\\anaconda3\\lib\\site-packages\\sklearn\\metrics\\_classification.py:1308: UndefinedMetricWarning: Recall and F-score are ill-defined and being set to 0.0 in labels with no true samples. Use `zero_division` parameter to control this behavior.\n",
      "  _warn_prf(average, modifier, msg_start, len(result))\n",
      "c:\\Users\\UX430\\anaconda3\\lib\\site-packages\\sklearn\\metrics\\_classification.py:1308: UndefinedMetricWarning: Precision and F-score are ill-defined and being set to 0.0 in labels with no predicted samples. Use `zero_division` parameter to control this behavior.\n",
      "  _warn_prf(average, modifier, msg_start, len(result))\n",
      "c:\\Users\\UX430\\anaconda3\\lib\\site-packages\\sklearn\\metrics\\_classification.py:1308: UndefinedMetricWarning: Recall and F-score are ill-defined and being set to 0.0 in labels with no true samples. Use `zero_division` parameter to control this behavior.\n",
      "  _warn_prf(average, modifier, msg_start, len(result))\n"
     ]
    },
    {
     "name": "stdout",
     "output_type": "stream",
     "text": [
      "  21/1721 [..............................] - ETA: 8s - loss: 9.9485 - accuracy: 0.0000e+00 "
     ]
    },
    {
     "name": "stderr",
     "output_type": "stream",
     "text": [
      "c:\\Users\\UX430\\anaconda3\\lib\\site-packages\\sklearn\\metrics\\_classification.py:1308: UndefinedMetricWarning: Precision and F-score are ill-defined and being set to 0.0 in labels with no predicted samples. Use `zero_division` parameter to control this behavior.\n",
      "  _warn_prf(average, modifier, msg_start, len(result))\n",
      "c:\\Users\\UX430\\anaconda3\\lib\\site-packages\\sklearn\\metrics\\_classification.py:1308: UndefinedMetricWarning: Recall and F-score are ill-defined and being set to 0.0 in labels with no true samples. Use `zero_division` parameter to control this behavior.\n",
      "  _warn_prf(average, modifier, msg_start, len(result))\n"
     ]
    },
    {
     "name": "stdout",
     "output_type": "stream",
     "text": [
      "1721/1721 [==============================] - 17s 10ms/step - loss: 5.5805 - accuracy: 0.5261\n"
     ]
    },
    {
     "name": "stderr",
     "output_type": "stream",
     "text": [
      "c:\\Users\\UX430\\anaconda3\\lib\\site-packages\\sklearn\\metrics\\_classification.py:1308: UndefinedMetricWarning: Precision and F-score are ill-defined and being set to 0.0 in labels with no predicted samples. Use `zero_division` parameter to control this behavior.\n",
      "  _warn_prf(average, modifier, msg_start, len(result))\n",
      "c:\\Users\\UX430\\anaconda3\\lib\\site-packages\\sklearn\\metrics\\_classification.py:1308: UndefinedMetricWarning: Recall and F-score are ill-defined and being set to 0.0 in labels with no true samples. Use `zero_division` parameter to control this behavior.\n",
      "  _warn_prf(average, modifier, msg_start, len(result))\n",
      "c:\\Users\\UX430\\anaconda3\\lib\\site-packages\\sklearn\\metrics\\_classification.py:1308: UndefinedMetricWarning: Precision and F-score are ill-defined and being set to 0.0 in labels with no predicted samples. Use `zero_division` parameter to control this behavior.\n",
      "  _warn_prf(average, modifier, msg_start, len(result))\n",
      "c:\\Users\\UX430\\anaconda3\\lib\\site-packages\\sklearn\\metrics\\_classification.py:1308: UndefinedMetricWarning: Recall and F-score are ill-defined and being set to 0.0 in labels with no true samples. Use `zero_division` parameter to control this behavior.\n",
      "  _warn_prf(average, modifier, msg_start, len(result))\n",
      "c:\\Users\\UX430\\anaconda3\\lib\\site-packages\\sklearn\\metrics\\_classification.py:1308: UndefinedMetricWarning: Precision and F-score are ill-defined and being set to 0.0 in labels with no predicted samples. Use `zero_division` parameter to control this behavior.\n",
      "  _warn_prf(average, modifier, msg_start, len(result))\n",
      "c:\\Users\\UX430\\anaconda3\\lib\\site-packages\\sklearn\\metrics\\_classification.py:1308: UndefinedMetricWarning: Recall and F-score are ill-defined and being set to 0.0 in labels with no true samples. Use `zero_division` parameter to control this behavior.\n",
      "  _warn_prf(average, modifier, msg_start, len(result))\n"
     ]
    }
   ],
   "source": [
    "# Values saved each iteration \n",
    "loss_it = []\n",
    "accuracy_it = []\n",
    "f1_it = []\n",
    "precision_it = []\n",
    "recall_it = []\n",
    "\n",
    "for i in range(global_updates): \n",
    "    w_list = []\n",
    "    for node in range(num_nodes): \n",
    "        cp = global_model # create a copy of the global model\n",
    "        if node == 0:\n",
    "            x, y = x1, y1\n",
    "        elif node == 1:\n",
    "            x, y = x2, y2\n",
    "        else:\n",
    "            x, y = x3, y3\n",
    "        local_model, local_loss, local_acc, local_val_loss, local_val_acc = train_local_model(cp, node, x, y)\n",
    "        w_list.append(local_model.get_weights())\n",
    "\n",
    "    avg_w = aggregate(w_list)\n",
    "    global_model.set_weights(avg_w) # apply gradients to global model\n",
    "    loss_basic, accuracy_basic, f1_basic, precision_basic, recall_basic = evaluation(global_model, xbasic, ybasic) # Evaluate with test basic to know progress\n",
    "    loss_plus, accuracy_plus, f1_plus, precision_plus, recall_plus = evaluation(global_model, xplus, yplus) # Evaluate with test plus to know progress\n",
    "\n",
    "    loss_it.append([loss_basic, loss_plus])\n",
    "    accuracy_it.append([accuracy_basic, accuracy_plus])\n",
    "    f1_it.append([f1_basic, f1_plus])\n",
    "    precision_it.append([precision_basic, precision_plus])\n",
    "    recall_it.append([recall_basic, recall_plus])\n",
    "\n",
    "\n",
    "global_model.save('C:/Users/UX430/Documents/thesis/code/models/id301.hdf5')"
   ]
  },
  {
   "cell_type": "code",
   "execution_count": 20,
   "metadata": {},
   "outputs": [
    {
     "name": "stdout",
     "output_type": "stream",
     "text": [
      "Loss for iterations:  [[0.8434300422668457, 3.982133626937866], [0.8120449781417847, 5.25270414352417], [0.7316476106643677, 5.438048839569092], [0.6785434484481812, 5.602062225341797], [0.6155456900596619, 5.580507755279541]]\n",
      "Accuracy for iterations:  [[0.8853092193603516, 0.5228692889213562], [0.8495792746543884, 0.44926613569259644], [0.8576937913894653, 0.46474242210388184], [0.8722939491271973, 0.4862312078475952], [0.900763988494873, 0.5261389017105103]]\n",
      "F1 for iterations:  [[0.8488508203142945, 0.4895145571805106], [0.8191709614684793, 0.49661785932481195], [0.8269687781192594, 0.5081304555613025], [0.8404675272748898, 0.5207890836200524], [0.8666369071040085, 0.5422097308754044]]\n",
      "Precision for iterations:  [[0.8152959562188993, 0.46016015068557925], [0.810462669770749, 0.5551270919906215], [0.8161140002269235, 0.5604540572980733], [0.8244108559004776, 0.5606350699424426], [0.8805240966423145, 0.5592932301953656]]\n",
      "Recall for iterations:  [[0.8853092407023284, 0.5228692872193562], [0.8495793040988635, 0.44926614836881495], [0.8576937684419644, 0.4647424253433118], [0.8722939612609191, 0.48623119959311195], [0.9007639720704665, 0.5261389231998838]]\n"
     ]
    }
   ],
   "source": [
    "print(\"Loss for iterations: \", loss_it)\n",
    "print(\"Accuracy for iterations: \", accuracy_it)\n",
    "print(\"F1 for iterations: \", f1_it)\n",
    "print(\"Precision for iterations: \", precision_it)\n",
    "print(\"Recall for iterations: \", recall_it)"
   ]
  },
  {
   "cell_type": "markdown",
   "metadata": {},
   "source": [
    "#### Dataset 3C"
   ]
  },
  {
   "cell_type": "code",
   "execution_count": 11,
   "metadata": {},
   "outputs": [
    {
     "name": "stderr",
     "output_type": "stream",
     "text": [
      "C:\\Users\\UX430\\AppData\\Local\\Temp/ipykernel_7852/1685572531.py:2: DtypeWarning: Columns (2,4) have mixed types. Specify dtype option on import or set low_memory=False.\n",
      "  training1 = pd.read_csv('C:/Users/UX430/Documents/thesis/datasets/UNSW-NB15/UNSW-NB15-Train-Basic-3C-Part1.csv')\n",
      "C:\\Users\\UX430\\AppData\\Local\\Temp/ipykernel_7852/1685572531.py:3: DtypeWarning: Columns (4) have mixed types. Specify dtype option on import or set low_memory=False.\n",
      "  training2 = pd.read_csv('C:/Users/UX430/Documents/thesis/datasets/UNSW-NB15/UNSW-NB15-Train-Basic-3C-Part2.csv')\n",
      "C:\\Users\\UX430\\AppData\\Local\\Temp/ipykernel_7852/1685572531.py:4: DtypeWarning: Columns (4) have mixed types. Specify dtype option on import or set low_memory=False.\n",
      "  training3 = pd.read_csv('C:/Users/UX430/Documents/thesis/datasets/UNSW-NB15/UNSW-NB15-Train-Basic-3C-Part3.csv')\n",
      "C:\\Users\\UX430\\AppData\\Local\\Temp/ipykernel_7852/1685572531.py:5: DtypeWarning: Columns (4) have mixed types. Specify dtype option on import or set low_memory=False.\n",
      "  test_basic = pd.read_csv('C:/Users/UX430/Documents/thesis/datasets/UNSW-NB15/UNSW-NB15-Test-Basic.csv')\n"
     ]
    }
   ],
   "source": [
    "# Load training datasets and testing datasets \n",
    "training1 = pd.read_csv('C:/Users/UX430/Documents/thesis/datasets/UNSW-NB15/UNSW-NB15-Train-Basic-3C-Part1.csv')\n",
    "training2 = pd.read_csv('C:/Users/UX430/Documents/thesis/datasets/UNSW-NB15/UNSW-NB15-Train-Basic-3C-Part2.csv')\n",
    "training3 = pd.read_csv('C:/Users/UX430/Documents/thesis/datasets/UNSW-NB15/UNSW-NB15-Train-Basic-3C-Part3.csv')\n",
    "test_basic = pd.read_csv('C:/Users/UX430/Documents/thesis/datasets/UNSW-NB15/UNSW-NB15-Test-Basic.csv')\n",
    "test_plus = pd.read_csv('C:/Users/UX430/Documents/thesis/datasets/UNSW-NB15/UNSW-NB15-Test+.csv')"
   ]
  },
  {
   "cell_type": "code",
   "execution_count": 12,
   "metadata": {},
   "outputs": [],
   "source": [
    "# Define \n",
    "node_datasets = [training1, training2, training3]\n",
    "num_nodes = 3\n",
    "global_updates = 10\n",
    "\n",
    "# Define model training parameters\n",
    "loss_fct = \"categorical_crossentropy\"\n",
    "metrics = ['accuracy']\n",
    "local_epochs = 15"
   ]
  },
  {
   "cell_type": "code",
   "execution_count": 13,
   "metadata": {},
   "outputs": [],
   "source": [
    "def train_local_model(model, node, x_train, y_train): \n",
    "    filepath = 'C:/Users/UX430/Documents/thesis/code/models/node'+str(node)+'ID302.hdf5'\n",
    "    callbacks = [\n",
    "            keras.callbacks.EarlyStopping(\n",
    "                monitor = 'val_loss', # Use accuracy to monitor the model\n",
    "                patience = 10 # Stop after 10 steps with lower accuracy\n",
    "            ),\n",
    "            keras.callbacks.ModelCheckpoint(\n",
    "                filepath = filepath, # file where the checkpoint is saved\n",
    "                monitor = 'val_loss', # Don't overwrite the saved model unless val_loss is worse\n",
    "                save_best_only = True)]# Only save model if it is the best\n",
    "    optimizer = keras.optimizers.Adam(learning_rate=5e-4)\n",
    "    model.compile(optimizer=optimizer, loss=loss_fct, metrics=metrics)\n",
    "    history = model.fit(x_train, y_train, epochs=local_epochs, validation_split=0.2, callbacks=callbacks, batch_size=2048)\n",
    "    return model, history.history['loss'], history.history['accuracy'], history.history['val_loss'], history.history['val_accuracy']"
   ]
  },
  {
   "cell_type": "code",
   "execution_count": 14,
   "metadata": {},
   "outputs": [],
   "source": [
    "def aggregate(w_list): \n",
    "    avg_w = np.mean(w_list, axis=0)\n",
    "    return avg_w"
   ]
  },
  {
   "cell_type": "code",
   "execution_count": 15,
   "metadata": {},
   "outputs": [],
   "source": [
    "global_model = build_model((24,1,1))"
   ]
  },
  {
   "cell_type": "code",
   "execution_count": 16,
   "metadata": {},
   "outputs": [],
   "source": [
    "x1, y1 = preprocessing(training1)\n",
    "x2, y2 = preprocessing(training2)\n",
    "x3, y3 = preprocessing(training3)\n",
    "xbasic, ybasic = preprocessing(test_basic)\n",
    "xplus, yplus = preprocessing(test_plus)"
   ]
  },
  {
   "cell_type": "code",
   "execution_count": 17,
   "metadata": {},
   "outputs": [
    {
     "name": "stdout",
     "output_type": "stream",
     "text": [
      "Epoch 1/15\n",
      "54/54 [==============================] - 13s 239ms/step - loss: 0.8241 - accuracy: 0.7911 - val_loss: 4.7058 - val_accuracy: 0.5857\n",
      "Epoch 2/15\n",
      "54/54 [==============================] - 11s 204ms/step - loss: 0.0548 - accuracy: 0.9920 - val_loss: 5.3382 - val_accuracy: 0.5858\n",
      "Epoch 3/15\n",
      "54/54 [==============================] - 12s 214ms/step - loss: 0.0298 - accuracy: 0.9926 - val_loss: 5.6250 - val_accuracy: 0.5860\n",
      "Epoch 4/15\n",
      "54/54 [==============================] - 12s 220ms/step - loss: 0.0273 - accuracy: 0.9926 - val_loss: 5.7353 - val_accuracy: 0.5861\n",
      "Epoch 5/15\n",
      "54/54 [==============================] - 12s 220ms/step - loss: 0.0259 - accuracy: 0.9927 - val_loss: 5.8425 - val_accuracy: 0.5861\n",
      "Epoch 6/15\n",
      "54/54 [==============================] - 12s 226ms/step - loss: 0.0244 - accuracy: 0.9927 - val_loss: 5.8775 - val_accuracy: 0.5878\n",
      "Epoch 7/15\n",
      "54/54 [==============================] - 12s 218ms/step - loss: 0.0223 - accuracy: 0.9928 - val_loss: 5.9546 - val_accuracy: 0.5883\n",
      "Epoch 8/15\n",
      "54/54 [==============================] - 12s 228ms/step - loss: 0.0204 - accuracy: 0.9933 - val_loss: 6.0221 - val_accuracy: 0.5895\n",
      "Epoch 9/15\n",
      "54/54 [==============================] - 12s 215ms/step - loss: 0.0188 - accuracy: 0.9939 - val_loss: 6.1055 - val_accuracy: 0.5895\n",
      "Epoch 10/15\n",
      "54/54 [==============================] - 12s 213ms/step - loss: 0.0180 - accuracy: 0.9943 - val_loss: 6.1955 - val_accuracy: 0.5901\n",
      "Epoch 11/15\n",
      "54/54 [==============================] - 12s 217ms/step - loss: 0.0170 - accuracy: 0.9946 - val_loss: 6.2941 - val_accuracy: 0.5880\n",
      "Epoch 1/15\n",
      "54/54 [==============================] - 12s 222ms/step - loss: 0.0161 - accuracy: 0.9948 - val_loss: 6.9162 - val_accuracy: 0.5907\n",
      "Epoch 2/15\n",
      "54/54 [==============================] - 13s 241ms/step - loss: 0.0151 - accuracy: 0.9954 - val_loss: 7.5588 - val_accuracy: 0.5911\n",
      "Epoch 3/15\n",
      "54/54 [==============================] - 11s 210ms/step - loss: 0.0146 - accuracy: 0.9957 - val_loss: 7.9406 - val_accuracy: 0.5919\n",
      "Epoch 4/15\n",
      "54/54 [==============================] - 12s 214ms/step - loss: 0.0145 - accuracy: 0.9956 - val_loss: 8.0285 - val_accuracy: 0.5934\n",
      "Epoch 5/15\n",
      "54/54 [==============================] - 11s 200ms/step - loss: 0.0149 - accuracy: 0.9955 - val_loss: 7.1222 - val_accuracy: 0.5930\n",
      "Epoch 6/15\n",
      "54/54 [==============================] - 11s 208ms/step - loss: 0.0139 - accuracy: 0.9960 - val_loss: 7.6641 - val_accuracy: 0.5919\n",
      "Epoch 7/15\n",
      "54/54 [==============================] - 12s 214ms/step - loss: 0.0136 - accuracy: 0.9960 - val_loss: 8.1032 - val_accuracy: 0.5933\n",
      "Epoch 8/15\n",
      "54/54 [==============================] - 11s 202ms/step - loss: 0.0137 - accuracy: 0.9960 - val_loss: 8.0518 - val_accuracy: 0.5925\n",
      "Epoch 9/15\n",
      "54/54 [==============================] - 11s 205ms/step - loss: 0.0134 - accuracy: 0.9962 - val_loss: 8.1421 - val_accuracy: 0.5922\n",
      "Epoch 10/15\n",
      "54/54 [==============================] - 11s 204ms/step - loss: 0.0132 - accuracy: 0.9962 - val_loss: 8.3196 - val_accuracy: 0.5935\n",
      "Epoch 11/15\n",
      "54/54 [==============================] - 11s 209ms/step - loss: 0.0129 - accuracy: 0.9961 - val_loss: 8.5252 - val_accuracy: 0.5919\n",
      "Epoch 1/15\n",
      "54/54 [==============================] - 12s 214ms/step - loss: 0.0123 - accuracy: 0.9961 - val_loss: 8.3240 - val_accuracy: 0.5948\n",
      "Epoch 2/15\n",
      "54/54 [==============================] - 11s 209ms/step - loss: 0.0121 - accuracy: 0.9962 - val_loss: 8.3006 - val_accuracy: 0.5944\n",
      "Epoch 3/15\n",
      "54/54 [==============================] - 12s 213ms/step - loss: 0.0120 - accuracy: 0.9965 - val_loss: 8.3015 - val_accuracy: 0.5937\n",
      "Epoch 4/15\n",
      "54/54 [==============================] - 12s 216ms/step - loss: 0.0123 - accuracy: 0.9960 - val_loss: 7.7115 - val_accuracy: 0.5936\n",
      "Epoch 5/15\n",
      "54/54 [==============================] - 11s 203ms/step - loss: 0.0121 - accuracy: 0.9961 - val_loss: 7.4734 - val_accuracy: 0.5950\n",
      "Epoch 6/15\n",
      "54/54 [==============================] - 11s 198ms/step - loss: 0.0116 - accuracy: 0.9965 - val_loss: 8.0249 - val_accuracy: 0.5950\n",
      "Epoch 7/15\n",
      "54/54 [==============================] - 11s 201ms/step - loss: 0.0114 - accuracy: 0.9966 - val_loss: 8.2909 - val_accuracy: 0.5948\n",
      "Epoch 8/15\n",
      "54/54 [==============================] - 11s 210ms/step - loss: 0.0113 - accuracy: 0.9966 - val_loss: 8.2765 - val_accuracy: 0.5938\n",
      "Epoch 9/15\n",
      "54/54 [==============================] - 11s 203ms/step - loss: 0.0111 - accuracy: 0.9966 - val_loss: 8.4935 - val_accuracy: 0.5934\n",
      "Epoch 10/15\n",
      "54/54 [==============================] - 11s 213ms/step - loss: 0.0107 - accuracy: 0.9967 - val_loss: 8.7376 - val_accuracy: 0.5941\n",
      "Epoch 11/15\n",
      "54/54 [==============================] - 11s 209ms/step - loss: 0.0105 - accuracy: 0.9969 - val_loss: 9.0869 - val_accuracy: 0.5941\n",
      "Epoch 12/15\n",
      "54/54 [==============================] - 11s 210ms/step - loss: 0.0110 - accuracy: 0.9965 - val_loss: 8.7190 - val_accuracy: 0.5945\n",
      "Epoch 13/15\n",
      "54/54 [==============================] - 11s 205ms/step - loss: 0.0101 - accuracy: 0.9970 - val_loss: 9.0820 - val_accuracy: 0.5943\n",
      "Epoch 14/15\n",
      "54/54 [==============================] - 11s 208ms/step - loss: 0.0102 - accuracy: 0.9970 - val_loss: 9.4042 - val_accuracy: 0.5960\n",
      "Epoch 15/15\n",
      "54/54 [==============================] - 11s 213ms/step - loss: 0.0104 - accuracy: 0.9967 - val_loss: 8.9793 - val_accuracy: 0.5949\n",
      "  12/4279 [..............................] - ETA: 18s - loss: 1.5568 - accuracy: 0.9219"
     ]
    },
    {
     "name": "stderr",
     "output_type": "stream",
     "text": [
      "c:\\Users\\UX430\\anaconda3\\lib\\site-packages\\numpy\\core\\_asarray.py:171: VisibleDeprecationWarning: Creating an ndarray from ragged nested sequences (which is a list-or-tuple of lists-or-tuples-or ndarrays with different lengths or shapes) is deprecated. If you meant to do this, you must specify 'dtype=object' when creating the ndarray.\n",
      "  return array(a, dtype, copy=False, order=order, subok=True)\n"
     ]
    },
    {
     "name": "stdout",
     "output_type": "stream",
     "text": [
      "4279/4279 [==============================] - 21s 5ms/step - loss: 1.7454 - accuracy: 0.9122\n"
     ]
    },
    {
     "name": "stderr",
     "output_type": "stream",
     "text": [
      "c:\\Users\\UX430\\anaconda3\\lib\\site-packages\\sklearn\\metrics\\_classification.py:1308: UndefinedMetricWarning: Precision and F-score are ill-defined and being set to 0.0 in labels with no predicted samples. Use `zero_division` parameter to control this behavior.\n",
      "  _warn_prf(average, modifier, msg_start, len(result))\n",
      "c:\\Users\\UX430\\anaconda3\\lib\\site-packages\\sklearn\\metrics\\_classification.py:1308: UndefinedMetricWarning: Recall and F-score are ill-defined and being set to 0.0 in labels with no true samples. Use `zero_division` parameter to control this behavior.\n",
      "  _warn_prf(average, modifier, msg_start, len(result))\n",
      "c:\\Users\\UX430\\anaconda3\\lib\\site-packages\\sklearn\\metrics\\_classification.py:1308: UndefinedMetricWarning: Precision and F-score are ill-defined and being set to 0.0 in labels with no predicted samples. Use `zero_division` parameter to control this behavior.\n",
      "  _warn_prf(average, modifier, msg_start, len(result))\n",
      "c:\\Users\\UX430\\anaconda3\\lib\\site-packages\\sklearn\\metrics\\_classification.py:1308: UndefinedMetricWarning: Recall and F-score are ill-defined and being set to 0.0 in labels with no true samples. Use `zero_division` parameter to control this behavior.\n",
      "  _warn_prf(average, modifier, msg_start, len(result))\n",
      "c:\\Users\\UX430\\anaconda3\\lib\\site-packages\\sklearn\\metrics\\_classification.py:1308: UndefinedMetricWarning: Precision and F-score are ill-defined and being set to 0.0 in labels with no predicted samples. Use `zero_division` parameter to control this behavior.\n",
      "  _warn_prf(average, modifier, msg_start, len(result))\n",
      "c:\\Users\\UX430\\anaconda3\\lib\\site-packages\\sklearn\\metrics\\_classification.py:1308: UndefinedMetricWarning: Recall and F-score are ill-defined and being set to 0.0 in labels with no true samples. Use `zero_division` parameter to control this behavior.\n",
      "  _warn_prf(average, modifier, msg_start, len(result))\n"
     ]
    },
    {
     "name": "stdout",
     "output_type": "stream",
     "text": [
      "1721/1721 [==============================] - 9s 5ms/step - loss: 7.1226 - accuracy: 0.5535\n"
     ]
    },
    {
     "name": "stderr",
     "output_type": "stream",
     "text": [
      "c:\\Users\\UX430\\anaconda3\\lib\\site-packages\\sklearn\\metrics\\_classification.py:1308: UndefinedMetricWarning: Precision and F-score are ill-defined and being set to 0.0 in labels with no predicted samples. Use `zero_division` parameter to control this behavior.\n",
      "  _warn_prf(average, modifier, msg_start, len(result))\n",
      "c:\\Users\\UX430\\anaconda3\\lib\\site-packages\\sklearn\\metrics\\_classification.py:1308: UndefinedMetricWarning: Recall and F-score are ill-defined and being set to 0.0 in labels with no true samples. Use `zero_division` parameter to control this behavior.\n",
      "  _warn_prf(average, modifier, msg_start, len(result))\n",
      "c:\\Users\\UX430\\anaconda3\\lib\\site-packages\\sklearn\\metrics\\_classification.py:1308: UndefinedMetricWarning: Precision and F-score are ill-defined and being set to 0.0 in labels with no predicted samples. Use `zero_division` parameter to control this behavior.\n",
      "  _warn_prf(average, modifier, msg_start, len(result))\n",
      "c:\\Users\\UX430\\anaconda3\\lib\\site-packages\\sklearn\\metrics\\_classification.py:1308: UndefinedMetricWarning: Recall and F-score are ill-defined and being set to 0.0 in labels with no true samples. Use `zero_division` parameter to control this behavior.\n",
      "  _warn_prf(average, modifier, msg_start, len(result))\n",
      "c:\\Users\\UX430\\anaconda3\\lib\\site-packages\\sklearn\\metrics\\_classification.py:1308: UndefinedMetricWarning: Precision and F-score are ill-defined and being set to 0.0 in labels with no predicted samples. Use `zero_division` parameter to control this behavior.\n",
      "  _warn_prf(average, modifier, msg_start, len(result))\n",
      "c:\\Users\\UX430\\anaconda3\\lib\\site-packages\\sklearn\\metrics\\_classification.py:1308: UndefinedMetricWarning: Recall and F-score are ill-defined and being set to 0.0 in labels with no true samples. Use `zero_division` parameter to control this behavior.\n",
      "  _warn_prf(average, modifier, msg_start, len(result))\n"
     ]
    },
    {
     "name": "stdout",
     "output_type": "stream",
     "text": [
      "Epoch 1/15\n",
      "54/54 [==============================] - 11s 212ms/step - loss: 0.0139 - accuracy: 0.9960 - val_loss: 7.3641 - val_accuracy: 0.5920\n",
      "Epoch 2/15\n",
      "54/54 [==============================] - 11s 200ms/step - loss: 0.0133 - accuracy: 0.9964 - val_loss: 7.6339 - val_accuracy: 0.5922\n",
      "Epoch 3/15\n",
      "54/54 [==============================] - 11s 200ms/step - loss: 0.0132 - accuracy: 0.9964 - val_loss: 8.0544 - val_accuracy: 0.5910\n",
      "Epoch 4/15\n",
      "54/54 [==============================] - 11s 205ms/step - loss: 0.0133 - accuracy: 0.9962 - val_loss: 7.7375 - val_accuracy: 0.5917\n",
      "Epoch 5/15\n",
      "54/54 [==============================] - 11s 213ms/step - loss: 0.0127 - accuracy: 0.9965 - val_loss: 7.9554 - val_accuracy: 0.5919\n",
      "Epoch 6/15\n",
      "54/54 [==============================] - 12s 213ms/step - loss: 0.0125 - accuracy: 0.9963 - val_loss: 7.9219 - val_accuracy: 0.5927\n",
      "Epoch 7/15\n",
      "54/54 [==============================] - 12s 221ms/step - loss: 0.0117 - accuracy: 0.9966 - val_loss: 8.4271 - val_accuracy: 0.5924\n",
      "Epoch 8/15\n",
      "54/54 [==============================] - 12s 214ms/step - loss: 0.0119 - accuracy: 0.9968 - val_loss: 8.6381 - val_accuracy: 0.5913\n",
      "Epoch 9/15\n",
      "54/54 [==============================] - 11s 212ms/step - loss: 0.0115 - accuracy: 0.9965 - val_loss: 8.4123 - val_accuracy: 0.5920\n",
      "Epoch 10/15\n",
      "54/54 [==============================] - 11s 212ms/step - loss: 0.0110 - accuracy: 0.9968 - val_loss: 8.8945 - val_accuracy: 0.5921\n",
      "Epoch 11/15\n",
      "54/54 [==============================] - 12s 218ms/step - loss: 0.0108 - accuracy: 0.9971 - val_loss: 8.9846 - val_accuracy: 0.5919\n",
      "Epoch 1/15\n",
      "54/54 [==============================] - 12s 219ms/step - loss: 0.0100 - accuracy: 0.9969 - val_loss: 9.4757 - val_accuracy: 0.5933\n",
      "Epoch 2/15\n",
      "54/54 [==============================] - 11s 208ms/step - loss: 0.0098 - accuracy: 0.9969 - val_loss: 9.5208 - val_accuracy: 0.5929\n",
      "Epoch 3/15\n",
      "54/54 [==============================] - 11s 202ms/step - loss: 0.0094 - accuracy: 0.9972 - val_loss: 9.7500 - val_accuracy: 0.5922\n",
      "Epoch 4/15\n",
      "54/54 [==============================] - 11s 203ms/step - loss: 0.0092 - accuracy: 0.9972 - val_loss: 10.0772 - val_accuracy: 0.5924\n",
      "Epoch 5/15\n",
      "54/54 [==============================] - 12s 216ms/step - loss: 0.0089 - accuracy: 0.9972 - val_loss: 10.4401 - val_accuracy: 0.5933\n",
      "Epoch 6/15\n",
      "54/54 [==============================] - 11s 208ms/step - loss: 0.0087 - accuracy: 0.9973 - val_loss: 10.8471 - val_accuracy: 0.5930\n",
      "Epoch 7/15\n",
      "54/54 [==============================] - 11s 205ms/step - loss: 0.0086 - accuracy: 0.9973 - val_loss: 11.0083 - val_accuracy: 0.5930\n",
      "Epoch 8/15\n",
      "54/54 [==============================] - 11s 202ms/step - loss: 0.0088 - accuracy: 0.9970 - val_loss: 11.1000 - val_accuracy: 0.5938\n",
      "Epoch 9/15\n",
      "54/54 [==============================] - 11s 202ms/step - loss: 0.0088 - accuracy: 0.9968 - val_loss: 10.6636 - val_accuracy: 0.5940\n",
      "Epoch 10/15\n",
      "54/54 [==============================] - 11s 195ms/step - loss: 0.0085 - accuracy: 0.9971 - val_loss: 10.7099 - val_accuracy: 0.5929\n",
      "Epoch 11/15\n",
      "54/54 [==============================] - 11s 199ms/step - loss: 0.0085 - accuracy: 0.9972 - val_loss: 10.7073 - val_accuracy: 0.5936\n",
      "Epoch 1/15\n",
      "54/54 [==============================] - 11s 210ms/step - loss: 0.0085 - accuracy: 0.9973 - val_loss: 10.5469 - val_accuracy: 0.5943\n",
      "Epoch 2/15\n",
      "54/54 [==============================] - 11s 205ms/step - loss: 0.0082 - accuracy: 0.9975 - val_loss: 10.6198 - val_accuracy: 0.5938\n",
      "Epoch 3/15\n",
      "54/54 [==============================] - 11s 209ms/step - loss: 0.0079 - accuracy: 0.9975 - val_loss: 10.7201 - val_accuracy: 0.5936\n",
      "Epoch 4/15\n",
      "54/54 [==============================] - 11s 205ms/step - loss: 0.0077 - accuracy: 0.9975 - val_loss: 10.9174 - val_accuracy: 0.5940\n",
      "Epoch 5/15\n",
      "54/54 [==============================] - 11s 208ms/step - loss: 0.0077 - accuracy: 0.9977 - val_loss: 11.0063 - val_accuracy: 0.5952\n",
      "Epoch 6/15\n",
      "54/54 [==============================] - 11s 202ms/step - loss: 0.0079 - accuracy: 0.9975 - val_loss: 10.9821 - val_accuracy: 0.5944\n",
      "Epoch 7/15\n",
      "54/54 [==============================] - 11s 201ms/step - loss: 0.0077 - accuracy: 0.9975 - val_loss: 10.8916 - val_accuracy: 0.5944\n",
      "Epoch 8/15\n",
      "54/54 [==============================] - 11s 199ms/step - loss: 0.0081 - accuracy: 0.9973 - val_loss: 10.4366 - val_accuracy: 0.5937\n",
      "Epoch 9/15\n",
      "54/54 [==============================] - 11s 209ms/step - loss: 0.0076 - accuracy: 0.9977 - val_loss: 10.6854 - val_accuracy: 0.5946\n",
      "Epoch 10/15\n",
      "54/54 [==============================] - 12s 214ms/step - loss: 0.0073 - accuracy: 0.9976 - val_loss: 10.7189 - val_accuracy: 0.5939\n",
      "Epoch 11/15\n",
      "54/54 [==============================] - 11s 203ms/step - loss: 0.0073 - accuracy: 0.9978 - val_loss: 11.0605 - val_accuracy: 0.5953\n",
      "Epoch 12/15\n",
      "54/54 [==============================] - 11s 204ms/step - loss: 0.0072 - accuracy: 0.9977 - val_loss: 10.9334 - val_accuracy: 0.5948\n",
      "Epoch 13/15\n",
      "54/54 [==============================] - 11s 207ms/step - loss: 0.0071 - accuracy: 0.9978 - val_loss: 11.0273 - val_accuracy: 0.5941\n",
      "Epoch 14/15\n",
      "54/54 [==============================] - 11s 210ms/step - loss: 0.0071 - accuracy: 0.9978 - val_loss: 10.9515 - val_accuracy: 0.5947\n",
      "Epoch 15/15\n",
      "54/54 [==============================] - 11s 207ms/step - loss: 0.0071 - accuracy: 0.9976 - val_loss: 11.0086 - val_accuracy: 0.5954\n",
      "   4/4279 [..............................] - ETA: 1:04 - loss: 2.6534 - accuracy: 0.8828"
     ]
    },
    {
     "name": "stderr",
     "output_type": "stream",
     "text": [
      "c:\\Users\\UX430\\anaconda3\\lib\\site-packages\\numpy\\core\\_asarray.py:171: VisibleDeprecationWarning: Creating an ndarray from ragged nested sequences (which is a list-or-tuple of lists-or-tuples-or ndarrays with different lengths or shapes) is deprecated. If you meant to do this, you must specify 'dtype=object' when creating the ndarray.\n",
      "  return array(a, dtype, copy=False, order=order, subok=True)\n"
     ]
    },
    {
     "name": "stdout",
     "output_type": "stream",
     "text": [
      "4279/4279 [==============================] - 23s 5ms/step - loss: 2.2404 - accuracy: 0.9014\n"
     ]
    },
    {
     "name": "stderr",
     "output_type": "stream",
     "text": [
      "c:\\Users\\UX430\\anaconda3\\lib\\site-packages\\sklearn\\metrics\\_classification.py:1308: UndefinedMetricWarning: Precision and F-score are ill-defined and being set to 0.0 in labels with no predicted samples. Use `zero_division` parameter to control this behavior.\n",
      "  _warn_prf(average, modifier, msg_start, len(result))\n",
      "c:\\Users\\UX430\\anaconda3\\lib\\site-packages\\sklearn\\metrics\\_classification.py:1308: UndefinedMetricWarning: Recall and F-score are ill-defined and being set to 0.0 in labels with no true samples. Use `zero_division` parameter to control this behavior.\n",
      "  _warn_prf(average, modifier, msg_start, len(result))\n",
      "c:\\Users\\UX430\\anaconda3\\lib\\site-packages\\sklearn\\metrics\\_classification.py:1308: UndefinedMetricWarning: Precision and F-score are ill-defined and being set to 0.0 in labels with no predicted samples. Use `zero_division` parameter to control this behavior.\n",
      "  _warn_prf(average, modifier, msg_start, len(result))\n",
      "c:\\Users\\UX430\\anaconda3\\lib\\site-packages\\sklearn\\metrics\\_classification.py:1308: UndefinedMetricWarning: Recall and F-score are ill-defined and being set to 0.0 in labels with no true samples. Use `zero_division` parameter to control this behavior.\n",
      "  _warn_prf(average, modifier, msg_start, len(result))\n",
      "c:\\Users\\UX430\\anaconda3\\lib\\site-packages\\sklearn\\metrics\\_classification.py:1308: UndefinedMetricWarning: Precision and F-score are ill-defined and being set to 0.0 in labels with no predicted samples. Use `zero_division` parameter to control this behavior.\n",
      "  _warn_prf(average, modifier, msg_start, len(result))\n",
      "c:\\Users\\UX430\\anaconda3\\lib\\site-packages\\sklearn\\metrics\\_classification.py:1308: UndefinedMetricWarning: Recall and F-score are ill-defined and being set to 0.0 in labels with no true samples. Use `zero_division` parameter to control this behavior.\n",
      "  _warn_prf(average, modifier, msg_start, len(result))\n"
     ]
    },
    {
     "name": "stdout",
     "output_type": "stream",
     "text": [
      "1721/1721 [==============================] - 9s 5ms/step - loss: 8.7853 - accuracy: 0.5566: 0s - loss: 9.316\n"
     ]
    },
    {
     "name": "stderr",
     "output_type": "stream",
     "text": [
      "c:\\Users\\UX430\\anaconda3\\lib\\site-packages\\sklearn\\metrics\\_classification.py:1308: UndefinedMetricWarning: Precision and F-score are ill-defined and being set to 0.0 in labels with no predicted samples. Use `zero_division` parameter to control this behavior.\n",
      "  _warn_prf(average, modifier, msg_start, len(result))\n",
      "c:\\Users\\UX430\\anaconda3\\lib\\site-packages\\sklearn\\metrics\\_classification.py:1308: UndefinedMetricWarning: Recall and F-score are ill-defined and being set to 0.0 in labels with no true samples. Use `zero_division` parameter to control this behavior.\n",
      "  _warn_prf(average, modifier, msg_start, len(result))\n",
      "c:\\Users\\UX430\\anaconda3\\lib\\site-packages\\sklearn\\metrics\\_classification.py:1308: UndefinedMetricWarning: Precision and F-score are ill-defined and being set to 0.0 in labels with no predicted samples. Use `zero_division` parameter to control this behavior.\n",
      "  _warn_prf(average, modifier, msg_start, len(result))\n",
      "c:\\Users\\UX430\\anaconda3\\lib\\site-packages\\sklearn\\metrics\\_classification.py:1308: UndefinedMetricWarning: Recall and F-score are ill-defined and being set to 0.0 in labels with no true samples. Use `zero_division` parameter to control this behavior.\n",
      "  _warn_prf(average, modifier, msg_start, len(result))\n",
      "c:\\Users\\UX430\\anaconda3\\lib\\site-packages\\sklearn\\metrics\\_classification.py:1308: UndefinedMetricWarning: Precision and F-score are ill-defined and being set to 0.0 in labels with no predicted samples. Use `zero_division` parameter to control this behavior.\n",
      "  _warn_prf(average, modifier, msg_start, len(result))\n",
      "c:\\Users\\UX430\\anaconda3\\lib\\site-packages\\sklearn\\metrics\\_classification.py:1308: UndefinedMetricWarning: Recall and F-score are ill-defined and being set to 0.0 in labels with no true samples. Use `zero_division` parameter to control this behavior.\n",
      "  _warn_prf(average, modifier, msg_start, len(result))\n"
     ]
    },
    {
     "name": "stdout",
     "output_type": "stream",
     "text": [
      "Epoch 1/15\n",
      "54/54 [==============================] - 12s 214ms/step - loss: 0.0091 - accuracy: 0.9974 - val_loss: 10.3594 - val_accuracy: 0.5932\n",
      "Epoch 2/15\n",
      "54/54 [==============================] - 11s 204ms/step - loss: 0.0089 - accuracy: 0.9975 - val_loss: 10.3429 - val_accuracy: 0.5928\n",
      "Epoch 3/15\n",
      "54/54 [==============================] - 11s 213ms/step - loss: 0.0085 - accuracy: 0.9977 - val_loss: 10.5341 - val_accuracy: 0.5923\n",
      "Epoch 4/15\n",
      "54/54 [==============================] - 11s 208ms/step - loss: 0.0083 - accuracy: 0.9977 - val_loss: 10.8800 - val_accuracy: 0.5914\n",
      "Epoch 5/15\n",
      "54/54 [==============================] - 11s 204ms/step - loss: 0.0086 - accuracy: 0.9975 - val_loss: 10.8708 - val_accuracy: 0.5911\n",
      "Epoch 6/15\n",
      "54/54 [==============================] - 11s 207ms/step - loss: 0.0084 - accuracy: 0.9975 - val_loss: 10.3918 - val_accuracy: 0.5921\n",
      "Epoch 7/15\n",
      "54/54 [==============================] - 11s 206ms/step - loss: 0.0080 - accuracy: 0.9978 - val_loss: 10.7420 - val_accuracy: 0.5918\n",
      "Epoch 8/15\n",
      "54/54 [==============================] - 12s 214ms/step - loss: 0.0082 - accuracy: 0.9977 - val_loss: 10.5651 - val_accuracy: 0.5924\n",
      "Epoch 9/15\n",
      "54/54 [==============================] - 11s 203ms/step - loss: 0.0083 - accuracy: 0.9977 - val_loss: 10.4548 - val_accuracy: 0.5920\n",
      "Epoch 10/15\n",
      "54/54 [==============================] - 11s 209ms/step - loss: 0.0080 - accuracy: 0.9977 - val_loss: 10.5425 - val_accuracy: 0.5927\n",
      "Epoch 11/15\n",
      "54/54 [==============================] - 11s 202ms/step - loss: 0.0076 - accuracy: 0.9978 - val_loss: 10.8583 - val_accuracy: 0.5925\n",
      "Epoch 12/15\n",
      "54/54 [==============================] - 12s 214ms/step - loss: 0.0082 - accuracy: 0.9979 - val_loss: 10.6533 - val_accuracy: 0.5926\n",
      "Epoch 1/15\n",
      "54/54 [==============================] - 12s 222ms/step - loss: 0.0077 - accuracy: 0.9975 - val_loss: 10.5711 - val_accuracy: 0.5927\n",
      "Epoch 2/15\n",
      "54/54 [==============================] - 11s 210ms/step - loss: 0.0074 - accuracy: 0.9978 - val_loss: 10.5790 - val_accuracy: 0.5932\n",
      "Epoch 3/15\n",
      "54/54 [==============================] - 11s 206ms/step - loss: 0.0074 - accuracy: 0.9978 - val_loss: 10.6122 - val_accuracy: 0.5936\n",
      "Epoch 4/15\n",
      "54/54 [==============================] - 11s 211ms/step - loss: 0.0073 - accuracy: 0.9978 - val_loss: 10.4795 - val_accuracy: 0.5933\n",
      "Epoch 5/15\n",
      "54/54 [==============================] - 12s 215ms/step - loss: 0.0073 - accuracy: 0.9977 - val_loss: 10.5494 - val_accuracy: 0.5933\n",
      "Epoch 6/15\n",
      "54/54 [==============================] - 11s 204ms/step - loss: 0.0071 - accuracy: 0.9979 - val_loss: 10.3472 - val_accuracy: 0.5913\n",
      "Epoch 7/15\n",
      "54/54 [==============================] - 11s 204ms/step - loss: 0.0070 - accuracy: 0.9978 - val_loss: 10.5541 - val_accuracy: 0.5921\n",
      "Epoch 8/15\n",
      "54/54 [==============================] - 12s 213ms/step - loss: 0.0079 - accuracy: 0.9975 - val_loss: 10.1618 - val_accuracy: 0.5927\n",
      "Epoch 9/15\n",
      "54/54 [==============================] - 11s 207ms/step - loss: 0.0075 - accuracy: 0.9977 - val_loss: 9.8542 - val_accuracy: 0.5930\n",
      "Epoch 10/15\n",
      "54/54 [==============================] - 17s 313ms/step - loss: 0.0069 - accuracy: 0.9980 - val_loss: 9.9455 - val_accuracy: 0.5919\n",
      "Epoch 11/15\n",
      "54/54 [==============================] - 16s 294ms/step - loss: 0.0069 - accuracy: 0.9980 - val_loss: 10.1188 - val_accuracy: 0.5934\n",
      "Epoch 12/15\n",
      "54/54 [==============================] - 20s 370ms/step - loss: 0.0068 - accuracy: 0.9981 - val_loss: 10.0767 - val_accuracy: 0.5923\n",
      "Epoch 13/15\n",
      "54/54 [==============================] - 16s 290ms/step - loss: 0.0068 - accuracy: 0.9979 - val_loss: 10.1140 - val_accuracy: 0.5931\n",
      "Epoch 14/15\n",
      "54/54 [==============================] - 15s 279ms/step - loss: 0.0068 - accuracy: 0.9980 - val_loss: 10.1486 - val_accuracy: 0.5924\n",
      "Epoch 15/15\n",
      "54/54 [==============================] - 16s 293ms/step - loss: 0.0070 - accuracy: 0.9979 - val_loss: 10.1002 - val_accuracy: 0.5930\n",
      "Epoch 1/15\n",
      "54/54 [==============================] - 15s 272ms/step - loss: 0.0074 - accuracy: 0.9975 - val_loss: 9.6953 - val_accuracy: 0.5943\n",
      "Epoch 2/15\n",
      "54/54 [==============================] - 14s 262ms/step - loss: 0.0070 - accuracy: 0.9977 - val_loss: 9.6298 - val_accuracy: 0.5946\n",
      "Epoch 3/15\n",
      "54/54 [==============================] - 13s 242ms/step - loss: 0.0067 - accuracy: 0.9979 - val_loss: 9.8361 - val_accuracy: 0.5955\n",
      "Epoch 4/15\n",
      "54/54 [==============================] - 13s 248ms/step - loss: 0.0069 - accuracy: 0.9977 - val_loss: 9.4243 - val_accuracy: 0.5942\n",
      "Epoch 5/15\n",
      "54/54 [==============================] - 14s 266ms/step - loss: 0.0066 - accuracy: 0.9979 - val_loss: 9.6080 - val_accuracy: 0.5945\n",
      "Epoch 6/15\n",
      "54/54 [==============================] - 15s 271ms/step - loss: 0.0071 - accuracy: 0.9976 - val_loss: 9.5027 - val_accuracy: 0.5948\n",
      "Epoch 7/15\n",
      "54/54 [==============================] - 16s 293ms/step - loss: 0.0066 - accuracy: 0.9979 - val_loss: 9.4786 - val_accuracy: 0.5941\n",
      "Epoch 8/15\n",
      "54/54 [==============================] - 17s 311ms/step - loss: 0.0066 - accuracy: 0.9979 - val_loss: 9.7929 - val_accuracy: 0.5947\n",
      "Epoch 9/15\n",
      "54/54 [==============================] - 15s 282ms/step - loss: 0.0064 - accuracy: 0.9979 - val_loss: 9.6518 - val_accuracy: 0.5942\n",
      "Epoch 10/15\n",
      "54/54 [==============================] - 16s 298ms/step - loss: 0.0066 - accuracy: 0.9979 - val_loss: 9.8095 - val_accuracy: 0.5954\n",
      "Epoch 11/15\n",
      "54/54 [==============================] - 14s 261ms/step - loss: 0.0066 - accuracy: 0.9978 - val_loss: 9.9188 - val_accuracy: 0.5953\n",
      "Epoch 12/15\n",
      "54/54 [==============================] - 15s 284ms/step - loss: 0.0067 - accuracy: 0.9979 - val_loss: 9.8400 - val_accuracy: 0.5953\n",
      "Epoch 13/15\n",
      "54/54 [==============================] - 15s 283ms/step - loss: 0.0061 - accuracy: 0.9979 - val_loss: 9.7670 - val_accuracy: 0.5948\n",
      "Epoch 14/15\n",
      "54/54 [==============================] - 15s 273ms/step - loss: 0.0062 - accuracy: 0.9979 - val_loss: 10.1877 - val_accuracy: 0.5950\n",
      "   1/4279 [..............................] - ETA: 2s - loss: 2.5781 - accuracy: 0.6250"
     ]
    },
    {
     "name": "stderr",
     "output_type": "stream",
     "text": [
      "c:\\Users\\UX430\\anaconda3\\lib\\site-packages\\numpy\\core\\_asarray.py:171: VisibleDeprecationWarning: Creating an ndarray from ragged nested sequences (which is a list-or-tuple of lists-or-tuples-or ndarrays with different lengths or shapes) is deprecated. If you meant to do this, you must specify 'dtype=object' when creating the ndarray.\n",
      "  return array(a, dtype, copy=False, order=order, subok=True)\n"
     ]
    },
    {
     "name": "stdout",
     "output_type": "stream",
     "text": [
      "4279/4279 [==============================] - 21s 5ms/step - loss: 2.6085 - accuracy: 0.6207\n"
     ]
    },
    {
     "name": "stderr",
     "output_type": "stream",
     "text": [
      "c:\\Users\\UX430\\anaconda3\\lib\\site-packages\\sklearn\\metrics\\_classification.py:1308: UndefinedMetricWarning: Precision and F-score are ill-defined and being set to 0.0 in labels with no predicted samples. Use `zero_division` parameter to control this behavior.\n",
      "  _warn_prf(average, modifier, msg_start, len(result))\n",
      "c:\\Users\\UX430\\anaconda3\\lib\\site-packages\\sklearn\\metrics\\_classification.py:1308: UndefinedMetricWarning: Recall and F-score are ill-defined and being set to 0.0 in labels with no true samples. Use `zero_division` parameter to control this behavior.\n",
      "  _warn_prf(average, modifier, msg_start, len(result))\n",
      "c:\\Users\\UX430\\anaconda3\\lib\\site-packages\\sklearn\\metrics\\_classification.py:1308: UndefinedMetricWarning: Precision and F-score are ill-defined and being set to 0.0 in labels with no predicted samples. Use `zero_division` parameter to control this behavior.\n",
      "  _warn_prf(average, modifier, msg_start, len(result))\n",
      "c:\\Users\\UX430\\anaconda3\\lib\\site-packages\\sklearn\\metrics\\_classification.py:1308: UndefinedMetricWarning: Recall and F-score are ill-defined and being set to 0.0 in labels with no true samples. Use `zero_division` parameter to control this behavior.\n",
      "  _warn_prf(average, modifier, msg_start, len(result))\n",
      "c:\\Users\\UX430\\anaconda3\\lib\\site-packages\\sklearn\\metrics\\_classification.py:1308: UndefinedMetricWarning: Precision and F-score are ill-defined and being set to 0.0 in labels with no predicted samples. Use `zero_division` parameter to control this behavior.\n",
      "  _warn_prf(average, modifier, msg_start, len(result))\n",
      "c:\\Users\\UX430\\anaconda3\\lib\\site-packages\\sklearn\\metrics\\_classification.py:1308: UndefinedMetricWarning: Recall and F-score are ill-defined and being set to 0.0 in labels with no true samples. Use `zero_division` parameter to control this behavior.\n",
      "  _warn_prf(average, modifier, msg_start, len(result))\n"
     ]
    },
    {
     "name": "stdout",
     "output_type": "stream",
     "text": [
      "1721/1721 [==============================] - 8s 5ms/step - loss: 9.3566 - accuracy: 0.5582\n"
     ]
    },
    {
     "name": "stderr",
     "output_type": "stream",
     "text": [
      "c:\\Users\\UX430\\anaconda3\\lib\\site-packages\\sklearn\\metrics\\_classification.py:1308: UndefinedMetricWarning: Precision and F-score are ill-defined and being set to 0.0 in labels with no predicted samples. Use `zero_division` parameter to control this behavior.\n",
      "  _warn_prf(average, modifier, msg_start, len(result))\n",
      "c:\\Users\\UX430\\anaconda3\\lib\\site-packages\\sklearn\\metrics\\_classification.py:1308: UndefinedMetricWarning: Recall and F-score are ill-defined and being set to 0.0 in labels with no true samples. Use `zero_division` parameter to control this behavior.\n",
      "  _warn_prf(average, modifier, msg_start, len(result))\n",
      "c:\\Users\\UX430\\anaconda3\\lib\\site-packages\\sklearn\\metrics\\_classification.py:1308: UndefinedMetricWarning: Precision and F-score are ill-defined and being set to 0.0 in labels with no predicted samples. Use `zero_division` parameter to control this behavior.\n",
      "  _warn_prf(average, modifier, msg_start, len(result))\n",
      "c:\\Users\\UX430\\anaconda3\\lib\\site-packages\\sklearn\\metrics\\_classification.py:1308: UndefinedMetricWarning: Recall and F-score are ill-defined and being set to 0.0 in labels with no true samples. Use `zero_division` parameter to control this behavior.\n",
      "  _warn_prf(average, modifier, msg_start, len(result))\n",
      "c:\\Users\\UX430\\anaconda3\\lib\\site-packages\\sklearn\\metrics\\_classification.py:1308: UndefinedMetricWarning: Precision and F-score are ill-defined and being set to 0.0 in labels with no predicted samples. Use `zero_division` parameter to control this behavior.\n",
      "  _warn_prf(average, modifier, msg_start, len(result))\n",
      "c:\\Users\\UX430\\anaconda3\\lib\\site-packages\\sklearn\\metrics\\_classification.py:1308: UndefinedMetricWarning: Recall and F-score are ill-defined and being set to 0.0 in labels with no true samples. Use `zero_division` parameter to control this behavior.\n",
      "  _warn_prf(average, modifier, msg_start, len(result))\n"
     ]
    },
    {
     "name": "stdout",
     "output_type": "stream",
     "text": [
      "Epoch 1/15\n",
      "54/54 [==============================] - 15s 271ms/step - loss: 0.0080 - accuracy: 0.9978 - val_loss: 9.6318 - val_accuracy: 0.5913\n",
      "Epoch 2/15\n",
      "54/54 [==============================] - 15s 281ms/step - loss: 0.0075 - accuracy: 0.9978 - val_loss: 9.5324 - val_accuracy: 0.5923\n",
      "Epoch 3/15\n",
      "54/54 [==============================] - 15s 278ms/step - loss: 0.0071 - accuracy: 0.9982 - val_loss: 9.7953 - val_accuracy: 0.5924\n",
      "Epoch 4/15\n",
      "54/54 [==============================] - 15s 270ms/step - loss: 0.0070 - accuracy: 0.9982 - val_loss: 9.8640 - val_accuracy: 0.5927\n",
      "Epoch 5/15\n",
      "54/54 [==============================] - 13s 249ms/step - loss: 0.0075 - accuracy: 0.9983 - val_loss: 9.6994 - val_accuracy: 0.5924\n",
      "Epoch 6/15\n",
      "54/54 [==============================] - 15s 287ms/step - loss: 0.0076 - accuracy: 0.9982 - val_loss: 9.5493 - val_accuracy: 0.5915\n",
      "Epoch 7/15\n",
      "54/54 [==============================] - 14s 257ms/step - loss: 0.0073 - accuracy: 0.9981 - val_loss: 9.4478 - val_accuracy: 0.5920\n",
      "Epoch 8/15\n",
      "54/54 [==============================] - 14s 260ms/step - loss: 0.0066 - accuracy: 0.9981 - val_loss: 9.6418 - val_accuracy: 0.5917\n",
      "Epoch 9/15\n",
      "54/54 [==============================] - 14s 253ms/step - loss: 0.0068 - accuracy: 0.9982 - val_loss: 9.7809 - val_accuracy: 0.5926\n",
      "Epoch 10/15\n",
      "54/54 [==============================] - 13s 243ms/step - loss: 0.0064 - accuracy: 0.9982 - val_loss: 9.8086 - val_accuracy: 0.5917\n",
      "Epoch 11/15\n",
      "54/54 [==============================] - 14s 255ms/step - loss: 0.0071 - accuracy: 0.9980 - val_loss: 9.7913 - val_accuracy: 0.5924\n",
      "Epoch 12/15\n",
      "54/54 [==============================] - 14s 261ms/step - loss: 0.0063 - accuracy: 0.9981 - val_loss: 9.9312 - val_accuracy: 0.5925\n",
      "Epoch 13/15\n",
      "54/54 [==============================] - 14s 254ms/step - loss: 0.0067 - accuracy: 0.9983 - val_loss: 9.8450 - val_accuracy: 0.5922\n",
      "Epoch 14/15\n",
      "54/54 [==============================] - 13s 248ms/step - loss: 0.0061 - accuracy: 0.9983 - val_loss: 9.8429 - val_accuracy: 0.5908\n",
      "Epoch 15/15\n",
      "54/54 [==============================] - 15s 283ms/step - loss: 0.0079 - accuracy: 0.9983 - val_loss: 9.7960 - val_accuracy: 0.5921\n",
      "Epoch 1/15\n",
      "54/54 [==============================] - 16s 293ms/step - loss: 0.0069 - accuracy: 0.9978 - val_loss: 9.7546 - val_accuracy: 0.5937\n",
      "Epoch 2/15\n",
      "54/54 [==============================] - 14s 268ms/step - loss: 0.0067 - accuracy: 0.9979 - val_loss: 9.3710 - val_accuracy: 0.5929\n",
      "Epoch 3/15\n",
      "54/54 [==============================] - 15s 285ms/step - loss: 0.0067 - accuracy: 0.9979 - val_loss: 9.5711 - val_accuracy: 0.5939\n",
      "Epoch 4/15\n",
      "54/54 [==============================] - 14s 251ms/step - loss: 0.0064 - accuracy: 0.9981 - val_loss: 9.4036 - val_accuracy: 0.5930\n",
      "Epoch 5/15\n",
      "54/54 [==============================] - 13s 243ms/step - loss: 0.0065 - accuracy: 0.9980 - val_loss: 9.3778 - val_accuracy: 0.5930\n",
      "Epoch 6/15\n",
      "54/54 [==============================] - 16s 304ms/step - loss: 0.0063 - accuracy: 0.9982 - val_loss: 9.3014 - val_accuracy: 0.5929\n",
      "Epoch 7/15\n",
      "54/54 [==============================] - 15s 278ms/step - loss: 0.0063 - accuracy: 0.9981 - val_loss: 9.4866 - val_accuracy: 0.5932\n",
      "Epoch 8/15\n",
      "54/54 [==============================] - 14s 267ms/step - loss: 0.0062 - accuracy: 0.9981 - val_loss: 9.5607 - val_accuracy: 0.5931\n",
      "Epoch 9/15\n",
      "54/54 [==============================] - 15s 269ms/step - loss: 0.0063 - accuracy: 0.9980 - val_loss: 9.4610 - val_accuracy: 0.5931\n",
      "Epoch 10/15\n",
      "54/54 [==============================] - 14s 257ms/step - loss: 0.0064 - accuracy: 0.9981 - val_loss: 9.2774 - val_accuracy: 0.5927\n",
      "Epoch 11/15\n",
      "54/54 [==============================] - 16s 293ms/step - loss: 0.0065 - accuracy: 0.9980 - val_loss: 9.3783 - val_accuracy: 0.5932\n",
      "Epoch 12/15\n",
      "54/54 [==============================] - 15s 280ms/step - loss: 0.0063 - accuracy: 0.9980 - val_loss: 9.0913 - val_accuracy: 0.5927\n",
      "Epoch 13/15\n",
      "54/54 [==============================] - 18s 326ms/step - loss: 0.0062 - accuracy: 0.9980 - val_loss: 9.1328 - val_accuracy: 0.5931\n",
      "Epoch 14/15\n",
      "54/54 [==============================] - 14s 260ms/step - loss: 0.0060 - accuracy: 0.9982 - val_loss: 9.3600 - val_accuracy: 0.5931\n",
      "Epoch 15/15\n",
      "54/54 [==============================] - 14s 257ms/step - loss: 0.0061 - accuracy: 0.9980 - val_loss: 9.3017 - val_accuracy: 0.5930\n",
      "Epoch 1/15\n",
      "54/54 [==============================] - 16s 299ms/step - loss: 0.0066 - accuracy: 0.9978 - val_loss: 8.9790 - val_accuracy: 0.5947\n",
      "Epoch 2/15\n",
      "54/54 [==============================] - 16s 292ms/step - loss: 0.0060 - accuracy: 0.9980 - val_loss: 9.1041 - val_accuracy: 0.5954\n",
      "Epoch 3/15\n",
      "54/54 [==============================] - 15s 274ms/step - loss: 0.0060 - accuracy: 0.9980 - val_loss: 8.9598 - val_accuracy: 0.5950\n",
      "Epoch 4/15\n",
      "54/54 [==============================] - 15s 277ms/step - loss: 0.0062 - accuracy: 0.9980 - val_loss: 8.8225 - val_accuracy: 0.5947\n",
      "Epoch 5/15\n",
      "54/54 [==============================] - 16s 303ms/step - loss: 0.0059 - accuracy: 0.9981 - val_loss: 9.0145 - val_accuracy: 0.5952\n",
      "Epoch 6/15\n",
      "54/54 [==============================] - 14s 262ms/step - loss: 0.0058 - accuracy: 0.9981 - val_loss: 8.8418 - val_accuracy: 0.5945\n",
      "Epoch 7/15\n",
      "54/54 [==============================] - 15s 273ms/step - loss: 0.0060 - accuracy: 0.9981 - val_loss: 9.0472 - val_accuracy: 0.5950\n",
      "Epoch 8/15\n",
      "54/54 [==============================] - 14s 264ms/step - loss: 0.0059 - accuracy: 0.9980 - val_loss: 8.7479 - val_accuracy: 0.5944\n",
      "Epoch 9/15\n",
      "54/54 [==============================] - 13s 239ms/step - loss: 0.0058 - accuracy: 0.9981 - val_loss: 9.0192 - val_accuracy: 0.5947\n",
      "Epoch 10/15\n",
      "54/54 [==============================] - 13s 242ms/step - loss: 0.0055 - accuracy: 0.9982 - val_loss: 9.1547 - val_accuracy: 0.5953\n",
      "Epoch 11/15\n",
      "54/54 [==============================] - 13s 236ms/step - loss: 0.0056 - accuracy: 0.9981 - val_loss: 9.1038 - val_accuracy: 0.5944\n",
      "Epoch 12/15\n",
      "54/54 [==============================] - 13s 240ms/step - loss: 0.0056 - accuracy: 0.9982 - val_loss: 9.2952 - val_accuracy: 0.5953\n",
      "Epoch 13/15\n",
      "54/54 [==============================] - 13s 247ms/step - loss: 0.0056 - accuracy: 0.9982 - val_loss: 9.2414 - val_accuracy: 0.5951\n",
      "Epoch 14/15\n",
      "54/54 [==============================] - 13s 238ms/step - loss: 0.0054 - accuracy: 0.9982 - val_loss: 9.6797 - val_accuracy: 0.5954\n",
      "Epoch 15/15\n",
      "54/54 [==============================] - 13s 240ms/step - loss: 0.0054 - accuracy: 0.9983 - val_loss: 9.2617 - val_accuracy: 0.5947\n",
      "  13/4279 [..............................] - ETA: 18s - loss: 3.3701 - accuracy: 0.5529"
     ]
    },
    {
     "name": "stderr",
     "output_type": "stream",
     "text": [
      "c:\\Users\\UX430\\anaconda3\\lib\\site-packages\\numpy\\core\\_asarray.py:171: VisibleDeprecationWarning: Creating an ndarray from ragged nested sequences (which is a list-or-tuple of lists-or-tuples-or ndarrays with different lengths or shapes) is deprecated. If you meant to do this, you must specify 'dtype=object' when creating the ndarray.\n",
      "  return array(a, dtype, copy=False, order=order, subok=True)\n"
     ]
    },
    {
     "name": "stdout",
     "output_type": "stream",
     "text": [
      "4279/4279 [==============================] - 19s 4ms/step - loss: 3.6284 - accuracy: 0.5289\n"
     ]
    },
    {
     "name": "stderr",
     "output_type": "stream",
     "text": [
      "c:\\Users\\UX430\\anaconda3\\lib\\site-packages\\sklearn\\metrics\\_classification.py:1308: UndefinedMetricWarning: Precision and F-score are ill-defined and being set to 0.0 in labels with no predicted samples. Use `zero_division` parameter to control this behavior.\n",
      "  _warn_prf(average, modifier, msg_start, len(result))\n",
      "c:\\Users\\UX430\\anaconda3\\lib\\site-packages\\sklearn\\metrics\\_classification.py:1308: UndefinedMetricWarning: Recall and F-score are ill-defined and being set to 0.0 in labels with no true samples. Use `zero_division` parameter to control this behavior.\n",
      "  _warn_prf(average, modifier, msg_start, len(result))\n",
      "c:\\Users\\UX430\\anaconda3\\lib\\site-packages\\sklearn\\metrics\\_classification.py:1308: UndefinedMetricWarning: Precision and F-score are ill-defined and being set to 0.0 in labels with no predicted samples. Use `zero_division` parameter to control this behavior.\n",
      "  _warn_prf(average, modifier, msg_start, len(result))\n",
      "c:\\Users\\UX430\\anaconda3\\lib\\site-packages\\sklearn\\metrics\\_classification.py:1308: UndefinedMetricWarning: Recall and F-score are ill-defined and being set to 0.0 in labels with no true samples. Use `zero_division` parameter to control this behavior.\n",
      "  _warn_prf(average, modifier, msg_start, len(result))\n",
      "c:\\Users\\UX430\\anaconda3\\lib\\site-packages\\sklearn\\metrics\\_classification.py:1308: UndefinedMetricWarning: Precision and F-score are ill-defined and being set to 0.0 in labels with no predicted samples. Use `zero_division` parameter to control this behavior.\n",
      "  _warn_prf(average, modifier, msg_start, len(result))\n",
      "c:\\Users\\UX430\\anaconda3\\lib\\site-packages\\sklearn\\metrics\\_classification.py:1308: UndefinedMetricWarning: Recall and F-score are ill-defined and being set to 0.0 in labels with no true samples. Use `zero_division` parameter to control this behavior.\n",
      "  _warn_prf(average, modifier, msg_start, len(result))\n"
     ]
    },
    {
     "name": "stdout",
     "output_type": "stream",
     "text": [
      "1721/1721 [==============================] - 8s 4ms/step - loss: 9.5866 - accuracy: 0.5549\n"
     ]
    },
    {
     "name": "stderr",
     "output_type": "stream",
     "text": [
      "c:\\Users\\UX430\\anaconda3\\lib\\site-packages\\sklearn\\metrics\\_classification.py:1308: UndefinedMetricWarning: Precision and F-score are ill-defined and being set to 0.0 in labels with no predicted samples. Use `zero_division` parameter to control this behavior.\n",
      "  _warn_prf(average, modifier, msg_start, len(result))\n",
      "c:\\Users\\UX430\\anaconda3\\lib\\site-packages\\sklearn\\metrics\\_classification.py:1308: UndefinedMetricWarning: Recall and F-score are ill-defined and being set to 0.0 in labels with no true samples. Use `zero_division` parameter to control this behavior.\n",
      "  _warn_prf(average, modifier, msg_start, len(result))\n",
      "c:\\Users\\UX430\\anaconda3\\lib\\site-packages\\sklearn\\metrics\\_classification.py:1308: UndefinedMetricWarning: Precision and F-score are ill-defined and being set to 0.0 in labels with no predicted samples. Use `zero_division` parameter to control this behavior.\n",
      "  _warn_prf(average, modifier, msg_start, len(result))\n",
      "c:\\Users\\UX430\\anaconda3\\lib\\site-packages\\sklearn\\metrics\\_classification.py:1308: UndefinedMetricWarning: Recall and F-score are ill-defined and being set to 0.0 in labels with no true samples. Use `zero_division` parameter to control this behavior.\n",
      "  _warn_prf(average, modifier, msg_start, len(result))\n",
      "c:\\Users\\UX430\\anaconda3\\lib\\site-packages\\sklearn\\metrics\\_classification.py:1308: UndefinedMetricWarning: Precision and F-score are ill-defined and being set to 0.0 in labels with no predicted samples. Use `zero_division` parameter to control this behavior.\n",
      "  _warn_prf(average, modifier, msg_start, len(result))\n",
      "c:\\Users\\UX430\\anaconda3\\lib\\site-packages\\sklearn\\metrics\\_classification.py:1308: UndefinedMetricWarning: Recall and F-score are ill-defined and being set to 0.0 in labels with no true samples. Use `zero_division` parameter to control this behavior.\n",
      "  _warn_prf(average, modifier, msg_start, len(result))\n"
     ]
    },
    {
     "name": "stdout",
     "output_type": "stream",
     "text": [
      "Epoch 1/15\n",
      "54/54 [==============================] - 13s 246ms/step - loss: 0.0068 - accuracy: 0.9983 - val_loss: 9.1956 - val_accuracy: 0.5926\n",
      "Epoch 2/15\n",
      "54/54 [==============================] - 13s 239ms/step - loss: 0.0062 - accuracy: 0.9984 - val_loss: 9.2335 - val_accuracy: 0.5924\n",
      "Epoch 3/15\n",
      "54/54 [==============================] - 13s 243ms/step - loss: 0.0067 - accuracy: 0.9983 - val_loss: 8.9316 - val_accuracy: 0.5920\n",
      "Epoch 4/15\n",
      "54/54 [==============================] - 14s 250ms/step - loss: 0.0062 - accuracy: 0.9982 - val_loss: 9.1776 - val_accuracy: 0.5929\n",
      "Epoch 5/15\n",
      "54/54 [==============================] - 13s 245ms/step - loss: 0.0060 - accuracy: 0.9984 - val_loss: 9.1446 - val_accuracy: 0.5925\n",
      "Epoch 6/15\n",
      "54/54 [==============================] - 13s 242ms/step - loss: 0.0063 - accuracy: 0.9983 - val_loss: 9.1447 - val_accuracy: 0.5927\n",
      "Epoch 7/15\n",
      "54/54 [==============================] - 13s 242ms/step - loss: 0.0056 - accuracy: 0.9984 - val_loss: 9.3255 - val_accuracy: 0.5923\n",
      "Epoch 8/15\n",
      "54/54 [==============================] - 14s 251ms/step - loss: 0.0061 - accuracy: 0.9985 - val_loss: 9.3378 - val_accuracy: 0.5927\n",
      "Epoch 9/15\n",
      "54/54 [==============================] - 13s 241ms/step - loss: 0.0057 - accuracy: 0.9984 - val_loss: 9.2324 - val_accuracy: 0.5912\n",
      "Epoch 10/15\n",
      "54/54 [==============================] - 13s 243ms/step - loss: 0.0064 - accuracy: 0.9983 - val_loss: 9.0175 - val_accuracy: 0.5920\n",
      "Epoch 11/15\n",
      "54/54 [==============================] - 13s 243ms/step - loss: 0.0057 - accuracy: 0.9984 - val_loss: 9.1864 - val_accuracy: 0.5925\n",
      "Epoch 12/15\n",
      "54/54 [==============================] - 13s 246ms/step - loss: 0.0056 - accuracy: 0.9984 - val_loss: 9.2474 - val_accuracy: 0.5923\n",
      "Epoch 13/15\n",
      "54/54 [==============================] - 14s 251ms/step - loss: 0.0056 - accuracy: 0.9984 - val_loss: 9.6613 - val_accuracy: 0.5930\n",
      "Epoch 1/15\n",
      "54/54 [==============================] - 13s 240ms/step - loss: 0.0064 - accuracy: 0.9980 - val_loss: 9.3625 - val_accuracy: 0.5937\n",
      "Epoch 2/15\n",
      "54/54 [==============================] - 13s 241ms/step - loss: 0.0061 - accuracy: 0.9981 - val_loss: 9.0868 - val_accuracy: 0.5932\n",
      "Epoch 3/15\n",
      "54/54 [==============================] - 13s 249ms/step - loss: 0.0060 - accuracy: 0.9981 - val_loss: 9.0828 - val_accuracy: 0.5932\n",
      "Epoch 4/15\n",
      "54/54 [==============================] - 13s 245ms/step - loss: 0.0058 - accuracy: 0.9981 - val_loss: 9.0846 - val_accuracy: 0.5930\n",
      "Epoch 5/15\n",
      "54/54 [==============================] - 13s 242ms/step - loss: 0.0058 - accuracy: 0.9982 - val_loss: 8.9805 - val_accuracy: 0.5932\n",
      "Epoch 6/15\n",
      "54/54 [==============================] - 13s 239ms/step - loss: 0.0057 - accuracy: 0.9983 - val_loss: 8.9937 - val_accuracy: 0.5930\n",
      "Epoch 7/15\n",
      "54/54 [==============================] - 13s 240ms/step - loss: 0.0056 - accuracy: 0.9983 - val_loss: 9.2879 - val_accuracy: 0.5934\n",
      "Epoch 8/15\n",
      "54/54 [==============================] - 13s 249ms/step - loss: 0.0056 - accuracy: 0.9982 - val_loss: 9.0049 - val_accuracy: 0.5933\n",
      "Epoch 9/15\n",
      "54/54 [==============================] - 13s 245ms/step - loss: 0.0056 - accuracy: 0.9982 - val_loss: 9.3438 - val_accuracy: 0.5936\n",
      "Epoch 10/15\n",
      "54/54 [==============================] - 13s 243ms/step - loss: 0.0056 - accuracy: 0.9982 - val_loss: 9.1309 - val_accuracy: 0.5927\n",
      "Epoch 11/15\n",
      "54/54 [==============================] - 14s 259ms/step - loss: 0.0057 - accuracy: 0.9982 - val_loss: 9.0869 - val_accuracy: 0.5928\n",
      "Epoch 12/15\n",
      "54/54 [==============================] - 15s 280ms/step - loss: 0.0056 - accuracy: 0.9983 - val_loss: 8.8577 - val_accuracy: 0.5927\n",
      "Epoch 13/15\n",
      "54/54 [==============================] - 14s 263ms/step - loss: 0.0058 - accuracy: 0.9982 - val_loss: 9.0523 - val_accuracy: 0.5930\n",
      "Epoch 14/15\n",
      "54/54 [==============================] - 14s 268ms/step - loss: 0.0055 - accuracy: 0.9982 - val_loss: 9.0704 - val_accuracy: 0.5936\n",
      "Epoch 15/15\n",
      "54/54 [==============================] - 14s 267ms/step - loss: 0.0055 - accuracy: 0.9982 - val_loss: 8.7492 - val_accuracy: 0.5923\n",
      "Epoch 1/15\n",
      "54/54 [==============================] - 15s 270ms/step - loss: 0.0061 - accuracy: 0.9981 - val_loss: 8.6722 - val_accuracy: 0.5955\n",
      "Epoch 2/15\n",
      "54/54 [==============================] - 14s 268ms/step - loss: 0.0055 - accuracy: 0.9983 - val_loss: 8.5195 - val_accuracy: 0.5952\n",
      "Epoch 3/15\n",
      "54/54 [==============================] - 14s 262ms/step - loss: 0.0055 - accuracy: 0.9981 - val_loss: 8.5091 - val_accuracy: 0.5945\n",
      "Epoch 4/15\n",
      "54/54 [==============================] - 15s 271ms/step - loss: 0.0054 - accuracy: 0.9982 - val_loss: 8.5683 - val_accuracy: 0.5949\n",
      "Epoch 5/15\n",
      "54/54 [==============================] - 13s 247ms/step - loss: 0.0053 - accuracy: 0.9983 - val_loss: 8.8274 - val_accuracy: 0.5949\n",
      "Epoch 6/15\n",
      "54/54 [==============================] - 13s 248ms/step - loss: 0.0053 - accuracy: 0.9982 - val_loss: 8.8313 - val_accuracy: 0.5945\n",
      "Epoch 7/15\n",
      "54/54 [==============================] - 14s 262ms/step - loss: 0.0056 - accuracy: 0.9982 - val_loss: 8.6503 - val_accuracy: 0.5952\n",
      "Epoch 8/15\n",
      "54/54 [==============================] - 14s 268ms/step - loss: 0.0053 - accuracy: 0.9982 - val_loss: 8.6986 - val_accuracy: 0.5949\n",
      "Epoch 9/15\n",
      "54/54 [==============================] - 15s 272ms/step - loss: 0.0052 - accuracy: 0.9983 - val_loss: 8.7883 - val_accuracy: 0.5951\n",
      "Epoch 10/15\n",
      "54/54 [==============================] - 16s 290ms/step - loss: 0.0051 - accuracy: 0.9983 - val_loss: 8.9938 - val_accuracy: 0.5956\n",
      "Epoch 11/15\n",
      "54/54 [==============================] - 15s 271ms/step - loss: 0.0053 - accuracy: 0.9982 - val_loss: 8.7036 - val_accuracy: 0.5949\n",
      "Epoch 12/15\n",
      "54/54 [==============================] - 15s 269ms/step - loss: 0.0050 - accuracy: 0.9983 - val_loss: 8.6807 - val_accuracy: 0.5945\n",
      "Epoch 13/15\n",
      "54/54 [==============================] - 15s 269ms/step - loss: 0.0050 - accuracy: 0.9983 - val_loss: 8.7007 - val_accuracy: 0.5952\n",
      "  14/4279 [..............................] - ETA: 18s - loss: 4.2659 - accuracy: 0.5446"
     ]
    },
    {
     "name": "stderr",
     "output_type": "stream",
     "text": [
      "c:\\Users\\UX430\\anaconda3\\lib\\site-packages\\numpy\\core\\_asarray.py:171: VisibleDeprecationWarning: Creating an ndarray from ragged nested sequences (which is a list-or-tuple of lists-or-tuples-or ndarrays with different lengths or shapes) is deprecated. If you meant to do this, you must specify 'dtype=object' when creating the ndarray.\n",
      "  return array(a, dtype, copy=False, order=order, subok=True)\n"
     ]
    },
    {
     "name": "stdout",
     "output_type": "stream",
     "text": [
      "4279/4279 [==============================] - 20s 5ms/step - loss: 4.5033 - accuracy: 0.5266 0s - loss: 4.5035 \n"
     ]
    },
    {
     "name": "stderr",
     "output_type": "stream",
     "text": [
      "c:\\Users\\UX430\\anaconda3\\lib\\site-packages\\sklearn\\metrics\\_classification.py:1308: UndefinedMetricWarning: Precision and F-score are ill-defined and being set to 0.0 in labels with no predicted samples. Use `zero_division` parameter to control this behavior.\n",
      "  _warn_prf(average, modifier, msg_start, len(result))\n",
      "c:\\Users\\UX430\\anaconda3\\lib\\site-packages\\sklearn\\metrics\\_classification.py:1308: UndefinedMetricWarning: Recall and F-score are ill-defined and being set to 0.0 in labels with no true samples. Use `zero_division` parameter to control this behavior.\n",
      "  _warn_prf(average, modifier, msg_start, len(result))\n",
      "c:\\Users\\UX430\\anaconda3\\lib\\site-packages\\sklearn\\metrics\\_classification.py:1308: UndefinedMetricWarning: Precision and F-score are ill-defined and being set to 0.0 in labels with no predicted samples. Use `zero_division` parameter to control this behavior.\n",
      "  _warn_prf(average, modifier, msg_start, len(result))\n",
      "c:\\Users\\UX430\\anaconda3\\lib\\site-packages\\sklearn\\metrics\\_classification.py:1308: UndefinedMetricWarning: Recall and F-score are ill-defined and being set to 0.0 in labels with no true samples. Use `zero_division` parameter to control this behavior.\n",
      "  _warn_prf(average, modifier, msg_start, len(result))\n"
     ]
    },
    {
     "name": "stdout",
     "output_type": "stream",
     "text": [
      "  23/1721 [..............................] - ETA: 7s - loss: 17.4315 - accuracy: 0.0000e+00"
     ]
    },
    {
     "name": "stderr",
     "output_type": "stream",
     "text": [
      "c:\\Users\\UX430\\anaconda3\\lib\\site-packages\\sklearn\\metrics\\_classification.py:1308: UndefinedMetricWarning: Precision and F-score are ill-defined and being set to 0.0 in labels with no predicted samples. Use `zero_division` parameter to control this behavior.\n",
      "  _warn_prf(average, modifier, msg_start, len(result))\n",
      "c:\\Users\\UX430\\anaconda3\\lib\\site-packages\\sklearn\\metrics\\_classification.py:1308: UndefinedMetricWarning: Recall and F-score are ill-defined and being set to 0.0 in labels with no true samples. Use `zero_division` parameter to control this behavior.\n",
      "  _warn_prf(average, modifier, msg_start, len(result))\n"
     ]
    },
    {
     "name": "stdout",
     "output_type": "stream",
     "text": [
      "1721/1721 [==============================] - 8s 5ms/step - loss: 10.0581 - accuracy: 0.5550\n"
     ]
    },
    {
     "name": "stderr",
     "output_type": "stream",
     "text": [
      "c:\\Users\\UX430\\anaconda3\\lib\\site-packages\\sklearn\\metrics\\_classification.py:1308: UndefinedMetricWarning: Precision and F-score are ill-defined and being set to 0.0 in labels with no predicted samples. Use `zero_division` parameter to control this behavior.\n",
      "  _warn_prf(average, modifier, msg_start, len(result))\n",
      "c:\\Users\\UX430\\anaconda3\\lib\\site-packages\\sklearn\\metrics\\_classification.py:1308: UndefinedMetricWarning: Recall and F-score are ill-defined and being set to 0.0 in labels with no true samples. Use `zero_division` parameter to control this behavior.\n",
      "  _warn_prf(average, modifier, msg_start, len(result))\n",
      "c:\\Users\\UX430\\anaconda3\\lib\\site-packages\\sklearn\\metrics\\_classification.py:1308: UndefinedMetricWarning: Precision and F-score are ill-defined and being set to 0.0 in labels with no predicted samples. Use `zero_division` parameter to control this behavior.\n",
      "  _warn_prf(average, modifier, msg_start, len(result))\n",
      "c:\\Users\\UX430\\anaconda3\\lib\\site-packages\\sklearn\\metrics\\_classification.py:1308: UndefinedMetricWarning: Recall and F-score are ill-defined and being set to 0.0 in labels with no true samples. Use `zero_division` parameter to control this behavior.\n",
      "  _warn_prf(average, modifier, msg_start, len(result))\n",
      "c:\\Users\\UX430\\anaconda3\\lib\\site-packages\\sklearn\\metrics\\_classification.py:1308: UndefinedMetricWarning: Precision and F-score are ill-defined and being set to 0.0 in labels with no predicted samples. Use `zero_division` parameter to control this behavior.\n",
      "  _warn_prf(average, modifier, msg_start, len(result))\n",
      "c:\\Users\\UX430\\anaconda3\\lib\\site-packages\\sklearn\\metrics\\_classification.py:1308: UndefinedMetricWarning: Recall and F-score are ill-defined and being set to 0.0 in labels with no true samples. Use `zero_division` parameter to control this behavior.\n",
      "  _warn_prf(average, modifier, msg_start, len(result))\n"
     ]
    },
    {
     "name": "stdout",
     "output_type": "stream",
     "text": [
      "Epoch 1/15\n",
      "54/54 [==============================] - 15s 275ms/step - loss: 0.0063 - accuracy: 0.9984 - val_loss: 8.7263 - val_accuracy: 0.5924\n",
      "Epoch 2/15\n",
      "54/54 [==============================] - 15s 276ms/step - loss: 0.0053 - accuracy: 0.9984 - val_loss: 8.9259 - val_accuracy: 0.5920\n",
      "Epoch 3/15\n",
      "54/54 [==============================] - 16s 296ms/step - loss: 0.0060 - accuracy: 0.9984 - val_loss: 8.9134 - val_accuracy: 0.5927\n",
      "Epoch 4/15\n",
      "54/54 [==============================] - 15s 283ms/step - loss: 0.0055 - accuracy: 0.9984 - val_loss: 8.6459 - val_accuracy: 0.5920\n",
      "Epoch 5/15\n",
      "54/54 [==============================] - 14s 267ms/step - loss: 0.0061 - accuracy: 0.9984 - val_loss: 8.9810 - val_accuracy: 0.5931\n",
      "Epoch 6/15\n",
      "54/54 [==============================] - 15s 270ms/step - loss: 0.0054 - accuracy: 0.9984 - val_loss: 8.7552 - val_accuracy: 0.5923\n",
      "Epoch 7/15\n",
      "54/54 [==============================] - 16s 290ms/step - loss: 0.0053 - accuracy: 0.9986 - val_loss: 8.8345 - val_accuracy: 0.5922\n",
      "Epoch 8/15\n",
      "54/54 [==============================] - 15s 283ms/step - loss: 0.0051 - accuracy: 0.9985 - val_loss: 9.0176 - val_accuracy: 0.5926\n",
      "Epoch 9/15\n",
      "54/54 [==============================] - 16s 290ms/step - loss: 0.0058 - accuracy: 0.9986 - val_loss: 8.9804 - val_accuracy: 0.5926\n",
      "Epoch 10/15\n",
      "54/54 [==============================] - 15s 272ms/step - loss: 0.0054 - accuracy: 0.9985 - val_loss: 9.0538 - val_accuracy: 0.5927\n",
      "Epoch 11/15\n",
      "54/54 [==============================] - 15s 269ms/step - loss: 0.0048 - accuracy: 0.9985 - val_loss: 9.0804 - val_accuracy: 0.5920\n",
      "Epoch 12/15\n",
      "54/54 [==============================] - 14s 261ms/step - loss: 0.0053 - accuracy: 0.9985 - val_loss: 9.1572 - val_accuracy: 0.5926\n",
      "Epoch 13/15\n",
      "54/54 [==============================] - 14s 256ms/step - loss: 0.0048 - accuracy: 0.9986 - val_loss: 8.8811 - val_accuracy: 0.5913\n",
      "Epoch 14/15\n",
      "54/54 [==============================] - 14s 253ms/step - loss: 0.0055 - accuracy: 0.9984 - val_loss: 9.1587 - val_accuracy: 0.5924\n",
      "Epoch 1/15\n",
      "54/54 [==============================] - 14s 261ms/step - loss: 0.0063 - accuracy: 0.9979 - val_loss: 8.8469 - val_accuracy: 0.5930\n",
      "Epoch 2/15\n",
      "54/54 [==============================] - 15s 276ms/step - loss: 0.0055 - accuracy: 0.9983 - val_loss: 8.8984 - val_accuracy: 0.5933\n",
      "Epoch 3/15\n",
      "54/54 [==============================] - 16s 294ms/step - loss: 0.0054 - accuracy: 0.9983 - val_loss: 9.0125 - val_accuracy: 0.5935\n",
      "Epoch 4/15\n",
      "54/54 [==============================] - 15s 280ms/step - loss: 0.0054 - accuracy: 0.9983 - val_loss: 8.8479 - val_accuracy: 0.5933\n",
      "Epoch 5/15\n",
      "54/54 [==============================] - 14s 268ms/step - loss: 0.0059 - accuracy: 0.9980 - val_loss: 8.5532 - val_accuracy: 0.5932\n",
      "Epoch 6/15\n",
      "54/54 [==============================] - 14s 250ms/step - loss: 0.0054 - accuracy: 0.9983 - val_loss: 8.1956 - val_accuracy: 0.5930\n",
      "Epoch 7/15\n",
      "54/54 [==============================] - 14s 254ms/step - loss: 0.0050 - accuracy: 0.9983 - val_loss: 8.6170 - val_accuracy: 0.5934\n",
      "Epoch 8/15\n",
      "54/54 [==============================] - 16s 301ms/step - loss: 0.0050 - accuracy: 0.9984 - val_loss: 8.5090 - val_accuracy: 0.5930\n",
      "Epoch 9/15\n",
      "54/54 [==============================] - 15s 285ms/step - loss: 0.0049 - accuracy: 0.9984 - val_loss: 8.7138 - val_accuracy: 0.5934\n",
      "Epoch 10/15\n",
      "54/54 [==============================] - 16s 297ms/step - loss: 0.0049 - accuracy: 0.9984 - val_loss: 8.8078 - val_accuracy: 0.5935\n",
      "Epoch 11/15\n",
      "54/54 [==============================] - 15s 280ms/step - loss: 0.0048 - accuracy: 0.9984 - val_loss: 8.7746 - val_accuracy: 0.5929\n",
      "Epoch 12/15\n",
      "54/54 [==============================] - 14s 263ms/step - loss: 0.0048 - accuracy: 0.9983 - val_loss: 8.6105 - val_accuracy: 0.5922\n",
      "Epoch 13/15\n",
      "54/54 [==============================] - 15s 274ms/step - loss: 0.0051 - accuracy: 0.9983 - val_loss: 8.8640 - val_accuracy: 0.5930\n",
      "Epoch 14/15\n",
      "54/54 [==============================] - 15s 277ms/step - loss: 0.0049 - accuracy: 0.9984 - val_loss: 8.9685 - val_accuracy: 0.5935\n",
      "Epoch 15/15\n",
      "54/54 [==============================] - 13s 245ms/step - loss: 0.0047 - accuracy: 0.9984 - val_loss: 8.7990 - val_accuracy: 0.5933\n",
      "Epoch 1/15\n",
      "54/54 [==============================] - 13s 248ms/step - loss: 0.0056 - accuracy: 0.9980 - val_loss: 8.7873 - val_accuracy: 0.5949\n",
      "Epoch 2/15\n",
      "54/54 [==============================] - 14s 256ms/step - loss: 0.0054 - accuracy: 0.9981 - val_loss: 8.3652 - val_accuracy: 0.5949\n",
      "Epoch 3/15\n",
      "54/54 [==============================] - 14s 257ms/step - loss: 0.0051 - accuracy: 0.9983 - val_loss: 8.3599 - val_accuracy: 0.5948\n",
      "Epoch 4/15\n",
      "54/54 [==============================] - 15s 275ms/step - loss: 0.0050 - accuracy: 0.9982 - val_loss: 8.4669 - val_accuracy: 0.5944\n",
      "Epoch 5/15\n",
      "54/54 [==============================] - 15s 274ms/step - loss: 0.0054 - accuracy: 0.9981 - val_loss: 8.3542 - val_accuracy: 0.5946\n",
      "Epoch 6/15\n",
      "54/54 [==============================] - 15s 286ms/step - loss: 0.0050 - accuracy: 0.9983 - val_loss: 8.4334 - val_accuracy: 0.5952\n",
      "Epoch 7/15\n",
      "54/54 [==============================] - 14s 252ms/step - loss: 0.0048 - accuracy: 0.9982 - val_loss: 8.3770 - val_accuracy: 0.5951\n",
      "Epoch 8/15\n",
      "54/54 [==============================] - 12s 231ms/step - loss: 0.0048 - accuracy: 0.9984 - val_loss: 8.4669 - val_accuracy: 0.5952\n",
      "Epoch 9/15\n",
      "54/54 [==============================] - 12s 228ms/step - loss: 0.0048 - accuracy: 0.9984 - val_loss: 8.6136 - val_accuracy: 0.5952\n",
      "Epoch 10/15\n",
      "54/54 [==============================] - 13s 243ms/step - loss: 0.0047 - accuracy: 0.9984 - val_loss: 8.3972 - val_accuracy: 0.5950\n",
      "Epoch 11/15\n",
      "54/54 [==============================] - 12s 231ms/step - loss: 0.0045 - accuracy: 0.9985 - val_loss: 8.7066 - val_accuracy: 0.5952\n",
      "Epoch 12/15\n",
      "54/54 [==============================] - 12s 229ms/step - loss: 0.0045 - accuracy: 0.9984 - val_loss: 8.5239 - val_accuracy: 0.5949\n",
      "Epoch 13/15\n",
      "54/54 [==============================] - 13s 244ms/step - loss: 0.0045 - accuracy: 0.9983 - val_loss: 8.4640 - val_accuracy: 0.5946\n",
      "Epoch 14/15\n",
      "54/54 [==============================] - 14s 251ms/step - loss: 0.0047 - accuracy: 0.9983 - val_loss: 8.5723 - val_accuracy: 0.5952\n",
      "Epoch 15/15\n",
      "54/54 [==============================] - 16s 298ms/step - loss: 0.0047 - accuracy: 0.9982 - val_loss: 8.5826 - val_accuracy: 0.5948\n",
      "   9/4279 [..............................] - ETA: 24s - loss: 4.6763 - accuracy: 0.5486"
     ]
    },
    {
     "name": "stderr",
     "output_type": "stream",
     "text": [
      "c:\\Users\\UX430\\anaconda3\\lib\\site-packages\\numpy\\core\\_asarray.py:171: VisibleDeprecationWarning: Creating an ndarray from ragged nested sequences (which is a list-or-tuple of lists-or-tuples-or ndarrays with different lengths or shapes) is deprecated. If you meant to do this, you must specify 'dtype=object' when creating the ndarray.\n",
      "  return array(a, dtype, copy=False, order=order, subok=True)\n"
     ]
    },
    {
     "name": "stdout",
     "output_type": "stream",
     "text": [
      "4279/4279 [==============================] - 20s 5ms/step - loss: 4.9614 - accuracy: 0.5214\n"
     ]
    },
    {
     "name": "stderr",
     "output_type": "stream",
     "text": [
      "c:\\Users\\UX430\\anaconda3\\lib\\site-packages\\sklearn\\metrics\\_classification.py:1308: UndefinedMetricWarning: Precision and F-score are ill-defined and being set to 0.0 in labels with no predicted samples. Use `zero_division` parameter to control this behavior.\n",
      "  _warn_prf(average, modifier, msg_start, len(result))\n",
      "c:\\Users\\UX430\\anaconda3\\lib\\site-packages\\sklearn\\metrics\\_classification.py:1308: UndefinedMetricWarning: Recall and F-score are ill-defined and being set to 0.0 in labels with no true samples. Use `zero_division` parameter to control this behavior.\n",
      "  _warn_prf(average, modifier, msg_start, len(result))\n",
      "c:\\Users\\UX430\\anaconda3\\lib\\site-packages\\sklearn\\metrics\\_classification.py:1308: UndefinedMetricWarning: Precision and F-score are ill-defined and being set to 0.0 in labels with no predicted samples. Use `zero_division` parameter to control this behavior.\n",
      "  _warn_prf(average, modifier, msg_start, len(result))\n",
      "c:\\Users\\UX430\\anaconda3\\lib\\site-packages\\sklearn\\metrics\\_classification.py:1308: UndefinedMetricWarning: Recall and F-score are ill-defined and being set to 0.0 in labels with no true samples. Use `zero_division` parameter to control this behavior.\n",
      "  _warn_prf(average, modifier, msg_start, len(result))\n"
     ]
    },
    {
     "name": "stdout",
     "output_type": "stream",
     "text": [
      "  21/1721 [..............................] - ETA: 9s - loss: 18.6431 - accuracy: 0.0000e+00"
     ]
    },
    {
     "name": "stderr",
     "output_type": "stream",
     "text": [
      "c:\\Users\\UX430\\anaconda3\\lib\\site-packages\\sklearn\\metrics\\_classification.py:1308: UndefinedMetricWarning: Precision and F-score are ill-defined and being set to 0.0 in labels with no predicted samples. Use `zero_division` parameter to control this behavior.\n",
      "  _warn_prf(average, modifier, msg_start, len(result))\n",
      "c:\\Users\\UX430\\anaconda3\\lib\\site-packages\\sklearn\\metrics\\_classification.py:1308: UndefinedMetricWarning: Recall and F-score are ill-defined and being set to 0.0 in labels with no true samples. Use `zero_division` parameter to control this behavior.\n",
      "  _warn_prf(average, modifier, msg_start, len(result))\n"
     ]
    },
    {
     "name": "stdout",
     "output_type": "stream",
     "text": [
      "1721/1721 [==============================] - 8s 5ms/step - loss: 10.7997 - accuracy: 0.5533\n"
     ]
    },
    {
     "name": "stderr",
     "output_type": "stream",
     "text": [
      "c:\\Users\\UX430\\anaconda3\\lib\\site-packages\\sklearn\\metrics\\_classification.py:1308: UndefinedMetricWarning: Precision and F-score are ill-defined and being set to 0.0 in labels with no predicted samples. Use `zero_division` parameter to control this behavior.\n",
      "  _warn_prf(average, modifier, msg_start, len(result))\n",
      "c:\\Users\\UX430\\anaconda3\\lib\\site-packages\\sklearn\\metrics\\_classification.py:1308: UndefinedMetricWarning: Recall and F-score are ill-defined and being set to 0.0 in labels with no true samples. Use `zero_division` parameter to control this behavior.\n",
      "  _warn_prf(average, modifier, msg_start, len(result))\n",
      "c:\\Users\\UX430\\anaconda3\\lib\\site-packages\\sklearn\\metrics\\_classification.py:1308: UndefinedMetricWarning: Precision and F-score are ill-defined and being set to 0.0 in labels with no predicted samples. Use `zero_division` parameter to control this behavior.\n",
      "  _warn_prf(average, modifier, msg_start, len(result))\n",
      "c:\\Users\\UX430\\anaconda3\\lib\\site-packages\\sklearn\\metrics\\_classification.py:1308: UndefinedMetricWarning: Recall and F-score are ill-defined and being set to 0.0 in labels with no true samples. Use `zero_division` parameter to control this behavior.\n",
      "  _warn_prf(average, modifier, msg_start, len(result))\n",
      "c:\\Users\\UX430\\anaconda3\\lib\\site-packages\\sklearn\\metrics\\_classification.py:1308: UndefinedMetricWarning: Precision and F-score are ill-defined and being set to 0.0 in labels with no predicted samples. Use `zero_division` parameter to control this behavior.\n",
      "  _warn_prf(average, modifier, msg_start, len(result))\n",
      "c:\\Users\\UX430\\anaconda3\\lib\\site-packages\\sklearn\\metrics\\_classification.py:1308: UndefinedMetricWarning: Recall and F-score are ill-defined and being set to 0.0 in labels with no true samples. Use `zero_division` parameter to control this behavior.\n",
      "  _warn_prf(average, modifier, msg_start, len(result))\n"
     ]
    },
    {
     "name": "stdout",
     "output_type": "stream",
     "text": [
      "Epoch 1/15\n",
      "54/54 [==============================] - 16s 300ms/step - loss: 0.0053 - accuracy: 0.9984 - val_loss: 8.7965 - val_accuracy: 0.5931\n",
      "Epoch 2/15\n",
      "54/54 [==============================] - 16s 288ms/step - loss: 0.0048 - accuracy: 0.9986 - val_loss: 8.8411 - val_accuracy: 0.5931\n",
      "Epoch 3/15\n",
      "54/54 [==============================] - 14s 266ms/step - loss: 0.0049 - accuracy: 0.9986 - val_loss: 8.5832 - val_accuracy: 0.5924\n",
      "Epoch 4/15\n",
      "54/54 [==============================] - 13s 245ms/step - loss: 0.0053 - accuracy: 0.9986 - val_loss: 8.8322 - val_accuracy: 0.5929\n",
      "Epoch 5/15\n",
      "54/54 [==============================] - 13s 244ms/step - loss: 0.0049 - accuracy: 0.9986 - val_loss: 8.5691 - val_accuracy: 0.5927\n",
      "Epoch 6/15\n",
      "54/54 [==============================] - 13s 249ms/step - loss: 0.0050 - accuracy: 0.9986 - val_loss: 8.4785 - val_accuracy: 0.5925\n",
      "Epoch 7/15\n",
      "54/54 [==============================] - 14s 265ms/step - loss: 0.0047 - accuracy: 0.9986 - val_loss: 8.5350 - val_accuracy: 0.5922\n",
      "Epoch 8/15\n",
      "54/54 [==============================] - 14s 266ms/step - loss: 0.0046 - accuracy: 0.9986 - val_loss: 8.7221 - val_accuracy: 0.5926\n",
      "Epoch 9/15\n",
      "54/54 [==============================] - 15s 274ms/step - loss: 0.0048 - accuracy: 0.9986 - val_loss: 8.5776 - val_accuracy: 0.5924\n",
      "Epoch 10/15\n",
      "54/54 [==============================] - 14s 265ms/step - loss: 0.0044 - accuracy: 0.9987 - val_loss: 8.8929 - val_accuracy: 0.5926\n",
      "Epoch 11/15\n",
      "54/54 [==============================] - 16s 301ms/step - loss: 0.0045 - accuracy: 0.9988 - val_loss: 8.7884 - val_accuracy: 0.5920\n",
      "Epoch 12/15\n",
      "54/54 [==============================] - 15s 274ms/step - loss: 0.0046 - accuracy: 0.9986 - val_loss: 8.7865 - val_accuracy: 0.5921\n",
      "Epoch 13/15\n",
      "54/54 [==============================] - 15s 283ms/step - loss: 0.0044 - accuracy: 0.9987 - val_loss: 8.9529 - val_accuracy: 0.5927\n",
      "Epoch 14/15\n",
      "54/54 [==============================] - 14s 261ms/step - loss: 0.0045 - accuracy: 0.9987 - val_loss: 9.0020 - val_accuracy: 0.5922\n",
      "Epoch 15/15\n",
      "54/54 [==============================] - 15s 273ms/step - loss: 0.0045 - accuracy: 0.9986 - val_loss: 8.6725 - val_accuracy: 0.5923\n",
      "Epoch 1/15\n",
      "54/54 [==============================] - 15s 281ms/step - loss: 0.0057 - accuracy: 0.9982 - val_loss: 8.7565 - val_accuracy: 0.5933\n",
      "Epoch 2/15\n",
      "54/54 [==============================] - 15s 276ms/step - loss: 0.0052 - accuracy: 0.9983 - val_loss: 8.8370 - val_accuracy: 0.5937\n",
      "Epoch 3/15\n",
      "54/54 [==============================] - 16s 295ms/step - loss: 0.0049 - accuracy: 0.9984 - val_loss: 8.6569 - val_accuracy: 0.5937\n",
      "Epoch 4/15\n",
      "54/54 [==============================] - 15s 274ms/step - loss: 0.0049 - accuracy: 0.9983 - val_loss: 8.7328 - val_accuracy: 0.5941\n",
      "Epoch 5/15\n",
      "54/54 [==============================] - 15s 284ms/step - loss: 0.0048 - accuracy: 0.9984 - val_loss: 8.5727 - val_accuracy: 0.5934\n",
      "Epoch 6/15\n",
      "54/54 [==============================] - 15s 279ms/step - loss: 0.0045 - accuracy: 0.9986 - val_loss: 8.4377 - val_accuracy: 0.5933\n",
      "Epoch 7/15\n",
      "54/54 [==============================] - 15s 285ms/step - loss: 0.0045 - accuracy: 0.9985 - val_loss: 8.4608 - val_accuracy: 0.5933\n",
      "Epoch 8/15\n",
      "54/54 [==============================] - 14s 252ms/step - loss: 0.0045 - accuracy: 0.9985 - val_loss: 8.4073 - val_accuracy: 0.5933\n",
      "Epoch 9/15\n",
      "54/54 [==============================] - 14s 255ms/step - loss: 0.0047 - accuracy: 0.9984 - val_loss: 8.5561 - val_accuracy: 0.5933\n",
      "Epoch 10/15\n",
      "54/54 [==============================] - 13s 247ms/step - loss: 0.0045 - accuracy: 0.9985 - val_loss: 8.6295 - val_accuracy: 0.5937\n",
      "Epoch 11/15\n",
      "54/54 [==============================] - 14s 252ms/step - loss: 0.0043 - accuracy: 0.9986 - val_loss: 8.5214 - val_accuracy: 0.5933\n",
      "Epoch 12/15\n",
      "54/54 [==============================] - 16s 289ms/step - loss: 0.0047 - accuracy: 0.9984 - val_loss: 8.6807 - val_accuracy: 0.5935\n",
      "Epoch 13/15\n",
      "54/54 [==============================] - 13s 235ms/step - loss: 0.0045 - accuracy: 0.9984 - val_loss: 8.7364 - val_accuracy: 0.5930\n",
      "Epoch 14/15\n",
      "54/54 [==============================] - 13s 243ms/step - loss: 0.0043 - accuracy: 0.9984 - val_loss: 8.5959 - val_accuracy: 0.5932\n",
      "Epoch 15/15\n",
      "54/54 [==============================] - 13s 238ms/step - loss: 0.0043 - accuracy: 0.9985 - val_loss: 8.5834 - val_accuracy: 0.5933\n",
      "Epoch 1/15\n",
      "54/54 [==============================] - 13s 242ms/step - loss: 0.0051 - accuracy: 0.9982 - val_loss: 8.5481 - val_accuracy: 0.5952\n",
      "Epoch 2/15\n",
      "54/54 [==============================] - 13s 235ms/step - loss: 0.0047 - accuracy: 0.9984 - val_loss: 8.3878 - val_accuracy: 0.5950\n",
      "Epoch 3/15\n",
      "54/54 [==============================] - 14s 258ms/step - loss: 0.0046 - accuracy: 0.9983 - val_loss: 8.2092 - val_accuracy: 0.5948\n",
      "Epoch 4/15\n",
      "54/54 [==============================] - 13s 237ms/step - loss: 0.0045 - accuracy: 0.9984 - val_loss: 8.7202 - val_accuracy: 0.5955\n",
      "Epoch 5/15\n",
      "54/54 [==============================] - 14s 263ms/step - loss: 0.0046 - accuracy: 0.9983 - val_loss: 8.3808 - val_accuracy: 0.5949\n",
      "Epoch 6/15\n",
      "54/54 [==============================] - 17s 314ms/step - loss: 0.0043 - accuracy: 0.9985 - val_loss: 8.5044 - val_accuracy: 0.5953\n",
      "Epoch 7/15\n",
      "54/54 [==============================] - 19s 349ms/step - loss: 0.0046 - accuracy: 0.9984 - val_loss: 8.2199 - val_accuracy: 0.5951\n",
      "Epoch 8/15\n",
      "54/54 [==============================] - 15s 283ms/step - loss: 0.0043 - accuracy: 0.9984 - val_loss: 8.1471 - val_accuracy: 0.5952\n",
      "Epoch 9/15\n",
      "54/54 [==============================] - 16s 304ms/step - loss: 0.0041 - accuracy: 0.9986 - val_loss: 8.2985 - val_accuracy: 0.5950\n",
      "Epoch 10/15\n",
      "54/54 [==============================] - 14s 267ms/step - loss: 0.0040 - accuracy: 0.9986 - val_loss: 8.4768 - val_accuracy: 0.5950\n",
      "Epoch 11/15\n",
      "54/54 [==============================] - 14s 262ms/step - loss: 0.0042 - accuracy: 0.9985 - val_loss: 8.4578 - val_accuracy: 0.5949\n",
      "Epoch 12/15\n",
      "54/54 [==============================] - 14s 266ms/step - loss: 0.0042 - accuracy: 0.9985 - val_loss: 8.3552 - val_accuracy: 0.5948\n",
      "Epoch 13/15\n",
      "54/54 [==============================] - 16s 290ms/step - loss: 0.0041 - accuracy: 0.9986 - val_loss: 8.5421 - val_accuracy: 0.5947\n",
      "Epoch 14/15\n",
      "54/54 [==============================] - 15s 277ms/step - loss: 0.0040 - accuracy: 0.9986 - val_loss: 8.7875 - val_accuracy: 0.5956\n",
      "Epoch 15/15\n",
      "54/54 [==============================] - 15s 269ms/step - loss: 0.0041 - accuracy: 0.9985 - val_loss: 8.5077 - val_accuracy: 0.5948\n"
     ]
    },
    {
     "name": "stderr",
     "output_type": "stream",
     "text": [
      "c:\\Users\\UX430\\anaconda3\\lib\\site-packages\\numpy\\core\\_asarray.py:171: VisibleDeprecationWarning: Creating an ndarray from ragged nested sequences (which is a list-or-tuple of lists-or-tuples-or ndarrays with different lengths or shapes) is deprecated. If you meant to do this, you must specify 'dtype=object' when creating the ndarray.\n",
      "  return array(a, dtype, copy=False, order=order, subok=True)\n"
     ]
    },
    {
     "name": "stdout",
     "output_type": "stream",
     "text": [
      "4279/4279 [==============================] - 23s 5ms/step - loss: 5.2452 - accuracy: 0.5254\n"
     ]
    },
    {
     "name": "stderr",
     "output_type": "stream",
     "text": [
      "c:\\Users\\UX430\\anaconda3\\lib\\site-packages\\sklearn\\metrics\\_classification.py:1308: UndefinedMetricWarning: Precision and F-score are ill-defined and being set to 0.0 in labels with no predicted samples. Use `zero_division` parameter to control this behavior.\n",
      "  _warn_prf(average, modifier, msg_start, len(result))\n",
      "c:\\Users\\UX430\\anaconda3\\lib\\site-packages\\sklearn\\metrics\\_classification.py:1308: UndefinedMetricWarning: Recall and F-score are ill-defined and being set to 0.0 in labels with no true samples. Use `zero_division` parameter to control this behavior.\n",
      "  _warn_prf(average, modifier, msg_start, len(result))\n",
      "c:\\Users\\UX430\\anaconda3\\lib\\site-packages\\sklearn\\metrics\\_classification.py:1308: UndefinedMetricWarning: Precision and F-score are ill-defined and being set to 0.0 in labels with no predicted samples. Use `zero_division` parameter to control this behavior.\n",
      "  _warn_prf(average, modifier, msg_start, len(result))\n",
      "c:\\Users\\UX430\\anaconda3\\lib\\site-packages\\sklearn\\metrics\\_classification.py:1308: UndefinedMetricWarning: Recall and F-score are ill-defined and being set to 0.0 in labels with no true samples. Use `zero_division` parameter to control this behavior.\n",
      "  _warn_prf(average, modifier, msg_start, len(result))\n",
      "c:\\Users\\UX430\\anaconda3\\lib\\site-packages\\sklearn\\metrics\\_classification.py:1308: UndefinedMetricWarning: Precision and F-score are ill-defined and being set to 0.0 in labels with no predicted samples. Use `zero_division` parameter to control this behavior.\n",
      "  _warn_prf(average, modifier, msg_start, len(result))\n",
      "c:\\Users\\UX430\\anaconda3\\lib\\site-packages\\sklearn\\metrics\\_classification.py:1308: UndefinedMetricWarning: Recall and F-score are ill-defined and being set to 0.0 in labels with no true samples. Use `zero_division` parameter to control this behavior.\n",
      "  _warn_prf(average, modifier, msg_start, len(result))\n"
     ]
    },
    {
     "name": "stdout",
     "output_type": "stream",
     "text": [
      "1721/1721 [==============================] - 8s 5ms/step - loss: 11.7065 - accuracy: 0.5533\n"
     ]
    },
    {
     "name": "stderr",
     "output_type": "stream",
     "text": [
      "c:\\Users\\UX430\\anaconda3\\lib\\site-packages\\sklearn\\metrics\\_classification.py:1308: UndefinedMetricWarning: Precision and F-score are ill-defined and being set to 0.0 in labels with no predicted samples. Use `zero_division` parameter to control this behavior.\n",
      "  _warn_prf(average, modifier, msg_start, len(result))\n",
      "c:\\Users\\UX430\\anaconda3\\lib\\site-packages\\sklearn\\metrics\\_classification.py:1308: UndefinedMetricWarning: Recall and F-score are ill-defined and being set to 0.0 in labels with no true samples. Use `zero_division` parameter to control this behavior.\n",
      "  _warn_prf(average, modifier, msg_start, len(result))\n",
      "c:\\Users\\UX430\\anaconda3\\lib\\site-packages\\sklearn\\metrics\\_classification.py:1308: UndefinedMetricWarning: Precision and F-score are ill-defined and being set to 0.0 in labels with no predicted samples. Use `zero_division` parameter to control this behavior.\n",
      "  _warn_prf(average, modifier, msg_start, len(result))\n",
      "c:\\Users\\UX430\\anaconda3\\lib\\site-packages\\sklearn\\metrics\\_classification.py:1308: UndefinedMetricWarning: Recall and F-score are ill-defined and being set to 0.0 in labels with no true samples. Use `zero_division` parameter to control this behavior.\n",
      "  _warn_prf(average, modifier, msg_start, len(result))\n",
      "c:\\Users\\UX430\\anaconda3\\lib\\site-packages\\sklearn\\metrics\\_classification.py:1308: UndefinedMetricWarning: Precision and F-score are ill-defined and being set to 0.0 in labels with no predicted samples. Use `zero_division` parameter to control this behavior.\n",
      "  _warn_prf(average, modifier, msg_start, len(result))\n",
      "c:\\Users\\UX430\\anaconda3\\lib\\site-packages\\sklearn\\metrics\\_classification.py:1308: UndefinedMetricWarning: Recall and F-score are ill-defined and being set to 0.0 in labels with no true samples. Use `zero_division` parameter to control this behavior.\n",
      "  _warn_prf(average, modifier, msg_start, len(result))\n"
     ]
    },
    {
     "name": "stdout",
     "output_type": "stream",
     "text": [
      "Epoch 1/15\n",
      "54/54 [==============================] - 14s 256ms/step - loss: 0.0050 - accuracy: 0.9987 - val_loss: 8.5673 - val_accuracy: 0.5924\n",
      "Epoch 2/15\n",
      "54/54 [==============================] - 14s 267ms/step - loss: 0.0046 - accuracy: 0.9986 - val_loss: 8.3748 - val_accuracy: 0.5926\n",
      "Epoch 3/15\n",
      "54/54 [==============================] - 17s 313ms/step - loss: 0.0046 - accuracy: 0.9987 - val_loss: 8.2247 - val_accuracy: 0.5920\n",
      "Epoch 4/15\n",
      "54/54 [==============================] - 13s 249ms/step - loss: 0.0042 - accuracy: 0.9988 - val_loss: 8.6363 - val_accuracy: 0.5929\n",
      "Epoch 5/15\n",
      "54/54 [==============================] - 12s 226ms/step - loss: 0.0040 - accuracy: 0.9987 - val_loss: 8.8738 - val_accuracy: 0.5930\n",
      "Epoch 6/15\n",
      "54/54 [==============================] - 12s 230ms/step - loss: 0.0040 - accuracy: 0.9988 - val_loss: 8.4148 - val_accuracy: 0.5924\n",
      "Epoch 7/15\n",
      "54/54 [==============================] - 14s 252ms/step - loss: 0.0040 - accuracy: 0.9989 - val_loss: 8.5793 - val_accuracy: 0.5922\n",
      "Epoch 8/15\n",
      "54/54 [==============================] - 16s 293ms/step - loss: 0.0038 - accuracy: 0.9988 - val_loss: 8.7017 - val_accuracy: 0.5927\n",
      "Epoch 9/15\n",
      "54/54 [==============================] - 18s 336ms/step - loss: 0.0039 - accuracy: 0.9988 - val_loss: 8.6914 - val_accuracy: 0.5919\n",
      "Epoch 10/15\n",
      "54/54 [==============================] - 14s 263ms/step - loss: 0.0038 - accuracy: 0.9989 - val_loss: 8.9488 - val_accuracy: 0.5927\n",
      "Epoch 11/15\n",
      "54/54 [==============================] - 16s 290ms/step - loss: 0.0039 - accuracy: 0.9987 - val_loss: 8.7408 - val_accuracy: 0.5927\n",
      "Epoch 12/15\n",
      "54/54 [==============================] - 14s 255ms/step - loss: 0.0040 - accuracy: 0.9988 - val_loss: 8.8564 - val_accuracy: 0.5927\n",
      "Epoch 13/15\n",
      "54/54 [==============================] - 21s 394ms/step - loss: 0.0036 - accuracy: 0.9988 - val_loss: 8.7783 - val_accuracy: 0.5920\n",
      "Epoch 1/15\n",
      "54/54 [==============================] - 13s 248ms/step - loss: 0.0055 - accuracy: 0.9983 - val_loss: 8.8004 - val_accuracy: 0.5934\n",
      "Epoch 2/15\n",
      "54/54 [==============================] - 13s 242ms/step - loss: 0.0047 - accuracy: 0.9985 - val_loss: 8.7380 - val_accuracy: 0.5933\n",
      "Epoch 3/15\n",
      "54/54 [==============================] - 13s 245ms/step - loss: 0.0042 - accuracy: 0.9986 - val_loss: 8.7621 - val_accuracy: 0.5934\n",
      "Epoch 4/15\n",
      "54/54 [==============================] - 13s 242ms/step - loss: 0.0042 - accuracy: 0.9986 - val_loss: 8.5750 - val_accuracy: 0.5930\n",
      "Epoch 5/15\n",
      "54/54 [==============================] - 13s 243ms/step - loss: 0.0041 - accuracy: 0.9986 - val_loss: 8.6334 - val_accuracy: 0.5932\n",
      "Epoch 6/15\n",
      "54/54 [==============================] - 14s 258ms/step - loss: 0.0040 - accuracy: 0.9987 - val_loss: 8.6620 - val_accuracy: 0.5934\n",
      "Epoch 7/15\n",
      "54/54 [==============================] - 13s 241ms/step - loss: 0.0042 - accuracy: 0.9986 - val_loss: 8.6426 - val_accuracy: 0.5934\n",
      "Epoch 8/15\n",
      "54/54 [==============================] - 13s 240ms/step - loss: 0.0039 - accuracy: 0.9986 - val_loss: 8.5381 - val_accuracy: 0.5931\n",
      "Epoch 9/15\n",
      "54/54 [==============================] - 13s 243ms/step - loss: 0.0039 - accuracy: 0.9986 - val_loss: 8.8722 - val_accuracy: 0.5934\n",
      "Epoch 10/15\n",
      "54/54 [==============================] - 13s 242ms/step - loss: 0.0041 - accuracy: 0.9985 - val_loss: 8.9152 - val_accuracy: 0.5942\n",
      "Epoch 11/15\n",
      "54/54 [==============================] - 13s 243ms/step - loss: 0.0043 - accuracy: 0.9985 - val_loss: 8.4792 - val_accuracy: 0.5931\n",
      "Epoch 12/15\n",
      "54/54 [==============================] - 13s 243ms/step - loss: 0.0036 - accuracy: 0.9988 - val_loss: 8.6151 - val_accuracy: 0.5933\n",
      "Epoch 13/15\n",
      "54/54 [==============================] - 15s 269ms/step - loss: 0.0037 - accuracy: 0.9986 - val_loss: 8.8406 - val_accuracy: 0.5933\n",
      "Epoch 14/15\n",
      "54/54 [==============================] - 15s 272ms/step - loss: 0.0035 - accuracy: 0.9987 - val_loss: 8.9802 - val_accuracy: 0.5933\n",
      "Epoch 15/15\n",
      "54/54 [==============================] - 16s 298ms/step - loss: 0.0038 - accuracy: 0.9988 - val_loss: 9.0311 - val_accuracy: 0.5937\n",
      "Epoch 1/15\n",
      "54/54 [==============================] - 16s 292ms/step - loss: 0.0048 - accuracy: 0.9983 - val_loss: 8.5347 - val_accuracy: 0.5953\n",
      "Epoch 2/15\n",
      "54/54 [==============================] - 14s 259ms/step - loss: 0.0046 - accuracy: 0.9985 - val_loss: 8.3995 - val_accuracy: 0.5952\n",
      "Epoch 3/15\n",
      "54/54 [==============================] - 13s 236ms/step - loss: 0.0042 - accuracy: 0.9985 - val_loss: 8.4207 - val_accuracy: 0.5946\n",
      "Epoch 4/15\n",
      "54/54 [==============================] - 13s 232ms/step - loss: 0.0041 - accuracy: 0.9985 - val_loss: 8.5569 - val_accuracy: 0.5951\n",
      "Epoch 5/15\n",
      "54/54 [==============================] - 13s 234ms/step - loss: 0.0040 - accuracy: 0.9986 - val_loss: 8.5761 - val_accuracy: 0.5954\n",
      "Epoch 6/15\n",
      "54/54 [==============================] - 9s 166ms/step - loss: 0.0041 - accuracy: 0.9985 - val_loss: 8.4883 - val_accuracy: 0.5951\n",
      "Epoch 7/15\n",
      "54/54 [==============================] - 9s 166ms/step - loss: 0.0040 - accuracy: 0.9986 - val_loss: 8.5450 - val_accuracy: 0.5951\n",
      "Epoch 8/15\n",
      "54/54 [==============================] - 9s 175ms/step - loss: 0.0038 - accuracy: 0.9987 - val_loss: 8.6004 - val_accuracy: 0.5955\n",
      "Epoch 9/15\n",
      "54/54 [==============================] - 10s 182ms/step - loss: 0.0040 - accuracy: 0.9986 - val_loss: 8.3468 - val_accuracy: 0.5952\n",
      "Epoch 10/15\n",
      "54/54 [==============================] - 9s 174ms/step - loss: 0.0038 - accuracy: 0.9987 - val_loss: 8.7300 - val_accuracy: 0.5955\n",
      "Epoch 11/15\n",
      "54/54 [==============================] - 9s 174ms/step - loss: 0.0040 - accuracy: 0.9986 - val_loss: 8.4041 - val_accuracy: 0.5951\n",
      "Epoch 12/15\n",
      "54/54 [==============================] - 9s 172ms/step - loss: 0.0039 - accuracy: 0.9986 - val_loss: 8.5405 - val_accuracy: 0.5950\n",
      "Epoch 13/15\n",
      "54/54 [==============================] - 9s 174ms/step - loss: 0.0039 - accuracy: 0.9986 - val_loss: 8.9111 - val_accuracy: 0.5960\n",
      "Epoch 14/15\n",
      "54/54 [==============================] - 9s 174ms/step - loss: 0.0037 - accuracy: 0.9987 - val_loss: 8.6826 - val_accuracy: 0.5952\n",
      "Epoch 15/15\n",
      "54/54 [==============================] - 9s 172ms/step - loss: 0.0035 - accuracy: 0.9988 - val_loss: 8.8035 - val_accuracy: 0.5955\n",
      "  36/4279 [..............................] - ETA: 12s - loss: 4.5734 - accuracy: 0.5391"
     ]
    },
    {
     "name": "stderr",
     "output_type": "stream",
     "text": [
      "c:\\Users\\UX430\\anaconda3\\lib\\site-packages\\numpy\\core\\_asarray.py:171: VisibleDeprecationWarning: Creating an ndarray from ragged nested sequences (which is a list-or-tuple of lists-or-tuples-or ndarrays with different lengths or shapes) is deprecated. If you meant to do this, you must specify 'dtype=object' when creating the ndarray.\n",
      "  return array(a, dtype, copy=False, order=order, subok=True)\n"
     ]
    },
    {
     "name": "stdout",
     "output_type": "stream",
     "text": [
      "4279/4279 [==============================] - 12s 3ms/step - loss: 4.8730 - accuracy: 0.5212\n",
      "   1/1721 [..............................] - ETA: 0s - loss: 25.5393 - accuracy: 0.0000e+00"
     ]
    },
    {
     "name": "stderr",
     "output_type": "stream",
     "text": [
      "c:\\Users\\UX430\\anaconda3\\lib\\site-packages\\sklearn\\metrics\\_classification.py:1308: UndefinedMetricWarning: Precision and F-score are ill-defined and being set to 0.0 in labels with no predicted samples. Use `zero_division` parameter to control this behavior.\n",
      "  _warn_prf(average, modifier, msg_start, len(result))\n",
      "c:\\Users\\UX430\\anaconda3\\lib\\site-packages\\sklearn\\metrics\\_classification.py:1308: UndefinedMetricWarning: Recall and F-score are ill-defined and being set to 0.0 in labels with no true samples. Use `zero_division` parameter to control this behavior.\n",
      "  _warn_prf(average, modifier, msg_start, len(result))\n",
      "c:\\Users\\UX430\\anaconda3\\lib\\site-packages\\sklearn\\metrics\\_classification.py:1308: UndefinedMetricWarning: Precision and F-score are ill-defined and being set to 0.0 in labels with no predicted samples. Use `zero_division` parameter to control this behavior.\n",
      "  _warn_prf(average, modifier, msg_start, len(result))\n",
      "c:\\Users\\UX430\\anaconda3\\lib\\site-packages\\sklearn\\metrics\\_classification.py:1308: UndefinedMetricWarning: Recall and F-score are ill-defined and being set to 0.0 in labels with no true samples. Use `zero_division` parameter to control this behavior.\n",
      "  _warn_prf(average, modifier, msg_start, len(result))\n",
      "c:\\Users\\UX430\\anaconda3\\lib\\site-packages\\sklearn\\metrics\\_classification.py:1308: UndefinedMetricWarning: Precision and F-score are ill-defined and being set to 0.0 in labels with no predicted samples. Use `zero_division` parameter to control this behavior.\n",
      "  _warn_prf(average, modifier, msg_start, len(result))\n",
      "c:\\Users\\UX430\\anaconda3\\lib\\site-packages\\sklearn\\metrics\\_classification.py:1308: UndefinedMetricWarning: Recall and F-score are ill-defined and being set to 0.0 in labels with no true samples. Use `zero_division` parameter to control this behavior.\n",
      "  _warn_prf(average, modifier, msg_start, len(result))\n"
     ]
    },
    {
     "name": "stdout",
     "output_type": "stream",
     "text": [
      "1721/1721 [==============================] - 5s 3ms/step - loss: 13.0118 - accuracy: 0.5501\n"
     ]
    },
    {
     "name": "stderr",
     "output_type": "stream",
     "text": [
      "c:\\Users\\UX430\\anaconda3\\lib\\site-packages\\sklearn\\metrics\\_classification.py:1308: UndefinedMetricWarning: Precision and F-score are ill-defined and being set to 0.0 in labels with no predicted samples. Use `zero_division` parameter to control this behavior.\n",
      "  _warn_prf(average, modifier, msg_start, len(result))\n",
      "c:\\Users\\UX430\\anaconda3\\lib\\site-packages\\sklearn\\metrics\\_classification.py:1308: UndefinedMetricWarning: Recall and F-score are ill-defined and being set to 0.0 in labels with no true samples. Use `zero_division` parameter to control this behavior.\n",
      "  _warn_prf(average, modifier, msg_start, len(result))\n",
      "c:\\Users\\UX430\\anaconda3\\lib\\site-packages\\sklearn\\metrics\\_classification.py:1308: UndefinedMetricWarning: Precision and F-score are ill-defined and being set to 0.0 in labels with no predicted samples. Use `zero_division` parameter to control this behavior.\n",
      "  _warn_prf(average, modifier, msg_start, len(result))\n",
      "c:\\Users\\UX430\\anaconda3\\lib\\site-packages\\sklearn\\metrics\\_classification.py:1308: UndefinedMetricWarning: Recall and F-score are ill-defined and being set to 0.0 in labels with no true samples. Use `zero_division` parameter to control this behavior.\n",
      "  _warn_prf(average, modifier, msg_start, len(result))\n",
      "c:\\Users\\UX430\\anaconda3\\lib\\site-packages\\sklearn\\metrics\\_classification.py:1308: UndefinedMetricWarning: Precision and F-score are ill-defined and being set to 0.0 in labels with no predicted samples. Use `zero_division` parameter to control this behavior.\n",
      "  _warn_prf(average, modifier, msg_start, len(result))\n",
      "c:\\Users\\UX430\\anaconda3\\lib\\site-packages\\sklearn\\metrics\\_classification.py:1308: UndefinedMetricWarning: Recall and F-score are ill-defined and being set to 0.0 in labels with no true samples. Use `zero_division` parameter to control this behavior.\n",
      "  _warn_prf(average, modifier, msg_start, len(result))\n"
     ]
    },
    {
     "name": "stdout",
     "output_type": "stream",
     "text": [
      "Epoch 1/15\n",
      "54/54 [==============================] - 9s 173ms/step - loss: 0.0041 - accuracy: 0.9989 - val_loss: 8.8912 - val_accuracy: 0.5928\n",
      "Epoch 2/15\n",
      "54/54 [==============================] - 9s 172ms/step - loss: 0.0037 - accuracy: 0.9989 - val_loss: 8.6879 - val_accuracy: 0.5921\n",
      "Epoch 3/15\n",
      "54/54 [==============================] - 9s 174ms/step - loss: 0.0036 - accuracy: 0.9989 - val_loss: 8.7862 - val_accuracy: 0.5926\n",
      "Epoch 4/15\n",
      "54/54 [==============================] - 10s 190ms/step - loss: 0.0046 - accuracy: 0.9989 - val_loss: 8.8508 - val_accuracy: 0.5928\n",
      "Epoch 5/15\n",
      "54/54 [==============================] - 11s 211ms/step - loss: 0.0039 - accuracy: 0.9988 - val_loss: 8.6581 - val_accuracy: 0.5927\n",
      "Epoch 6/15\n",
      "54/54 [==============================] - 11s 202ms/step - loss: 0.0039 - accuracy: 0.9988 - val_loss: 8.6442 - val_accuracy: 0.5929\n",
      "Epoch 7/15\n",
      "54/54 [==============================] - 9s 170ms/step - loss: 0.0037 - accuracy: 0.9990 - val_loss: 8.6185 - val_accuracy: 0.5926\n",
      "Epoch 8/15\n",
      "54/54 [==============================] - 9s 168ms/step - loss: 0.0033 - accuracy: 0.9990 - val_loss: 8.7107 - val_accuracy: 0.5927\n",
      "Epoch 9/15\n",
      "54/54 [==============================] - 9s 170ms/step - loss: 0.0034 - accuracy: 0.9990 - val_loss: 8.6689 - val_accuracy: 0.5926\n",
      "Epoch 10/15\n",
      "54/54 [==============================] - 9s 169ms/step - loss: 0.0038 - accuracy: 0.9989 - val_loss: 8.5584 - val_accuracy: 0.5926\n",
      "Epoch 11/15\n",
      "54/54 [==============================] - 9s 170ms/step - loss: 0.0032 - accuracy: 0.9990 - val_loss: 8.7331 - val_accuracy: 0.5925\n",
      "Epoch 12/15\n",
      "54/54 [==============================] - 9s 172ms/step - loss: 0.0035 - accuracy: 0.9989 - val_loss: 8.8564 - val_accuracy: 0.5927\n",
      "Epoch 13/15\n",
      "54/54 [==============================] - 9s 168ms/step - loss: 0.0032 - accuracy: 0.9989 - val_loss: 8.7854 - val_accuracy: 0.5927\n",
      "Epoch 14/15\n",
      "54/54 [==============================] - 9s 170ms/step - loss: 0.0033 - accuracy: 0.9990 - val_loss: 8.7949 - val_accuracy: 0.5926\n",
      "Epoch 15/15\n",
      "54/54 [==============================] - 9s 168ms/step - loss: 0.0035 - accuracy: 0.9990 - val_loss: 9.0026 - val_accuracy: 0.5927\n",
      "Epoch 1/15\n",
      "54/54 [==============================] - 10s 186ms/step - loss: 0.0045 - accuracy: 0.9985 - val_loss: 8.7098 - val_accuracy: 0.5931\n",
      "Epoch 2/15\n",
      "54/54 [==============================] - 9s 167ms/step - loss: 0.0041 - accuracy: 0.9986 - val_loss: 8.8333 - val_accuracy: 0.5938\n",
      "Epoch 3/15\n",
      "54/54 [==============================] - 9s 169ms/step - loss: 0.0037 - accuracy: 0.9987 - val_loss: 8.8111 - val_accuracy: 0.5938\n",
      "Epoch 4/15\n",
      "54/54 [==============================] - 9s 169ms/step - loss: 0.0037 - accuracy: 0.9987 - val_loss: 8.9864 - val_accuracy: 0.5940\n",
      "Epoch 5/15\n",
      "54/54 [==============================] - 9s 167ms/step - loss: 0.0036 - accuracy: 0.9988 - val_loss: 8.8279 - val_accuracy: 0.5938\n",
      "Epoch 6/15\n",
      "54/54 [==============================] - 9s 170ms/step - loss: 0.0036 - accuracy: 0.9988 - val_loss: 8.7237 - val_accuracy: 0.5936\n",
      "Epoch 7/15\n",
      "54/54 [==============================] - 9s 166ms/step - loss: 0.0035 - accuracy: 0.9988 - val_loss: 8.8173 - val_accuracy: 0.5934\n",
      "Epoch 8/15\n",
      "54/54 [==============================] - 9s 169ms/step - loss: 0.0035 - accuracy: 0.9988 - val_loss: 8.8039 - val_accuracy: 0.5934\n",
      "Epoch 9/15\n",
      "54/54 [==============================] - 9s 171ms/step - loss: 0.0036 - accuracy: 0.9988 - val_loss: 8.6682 - val_accuracy: 0.5931\n",
      "Epoch 10/15\n",
      "54/54 [==============================] - 9s 167ms/step - loss: 0.0034 - accuracy: 0.9988 - val_loss: 8.7593 - val_accuracy: 0.5937\n",
      "Epoch 11/15\n",
      "54/54 [==============================] - 9s 170ms/step - loss: 0.0035 - accuracy: 0.9988 - val_loss: 8.6217 - val_accuracy: 0.5935\n",
      "Epoch 12/15\n",
      "54/54 [==============================] - 9s 166ms/step - loss: 0.0033 - accuracy: 0.9988 - val_loss: 8.9317 - val_accuracy: 0.5938\n",
      "Epoch 13/15\n",
      "54/54 [==============================] - 9s 170ms/step - loss: 0.0033 - accuracy: 0.9990 - val_loss: 9.0291 - val_accuracy: 0.5939\n",
      "Epoch 14/15\n",
      "54/54 [==============================] - 9s 171ms/step - loss: 0.0033 - accuracy: 0.9988 - val_loss: 8.7117 - val_accuracy: 0.5933\n",
      "Epoch 15/15\n",
      "54/54 [==============================] - 9s 166ms/step - loss: 0.0034 - accuracy: 0.9989 - val_loss: 8.7955 - val_accuracy: 0.5933\n",
      "Epoch 1/15\n",
      "54/54 [==============================] - 9s 169ms/step - loss: 0.0045 - accuracy: 0.9984 - val_loss: 8.2969 - val_accuracy: 0.5953\n",
      "Epoch 2/15\n",
      "54/54 [==============================] - 10s 181ms/step - loss: 0.0041 - accuracy: 0.9986 - val_loss: 8.2250 - val_accuracy: 0.5948\n",
      "Epoch 3/15\n",
      "54/54 [==============================] - 10s 176ms/step - loss: 0.0040 - accuracy: 0.9986 - val_loss: 8.4192 - val_accuracy: 0.5954\n",
      "Epoch 4/15\n",
      "54/54 [==============================] - 10s 185ms/step - loss: 0.0036 - accuracy: 0.9988 - val_loss: 8.3413 - val_accuracy: 0.5954\n",
      "Epoch 5/15\n",
      "54/54 [==============================] - 11s 196ms/step - loss: 0.0035 - accuracy: 0.9988 - val_loss: 8.4181 - val_accuracy: 0.5953\n",
      "Epoch 6/15\n",
      "54/54 [==============================] - 10s 189ms/step - loss: 0.0037 - accuracy: 0.9987 - val_loss: 8.7002 - val_accuracy: 0.5958\n",
      "Epoch 7/15\n",
      "54/54 [==============================] - 11s 195ms/step - loss: 0.0035 - accuracy: 0.9987 - val_loss: 8.4764 - val_accuracy: 0.5950\n",
      "Epoch 8/15\n",
      "54/54 [==============================] - 11s 201ms/step - loss: 0.0035 - accuracy: 0.9988 - val_loss: 8.4609 - val_accuracy: 0.5952\n",
      "Epoch 9/15\n",
      "54/54 [==============================] - 10s 188ms/step - loss: 0.0033 - accuracy: 0.9988 - val_loss: 8.6870 - val_accuracy: 0.5958\n",
      "Epoch 10/15\n",
      "54/54 [==============================] - 10s 189ms/step - loss: 0.0035 - accuracy: 0.9987 - val_loss: 8.6775 - val_accuracy: 0.5956\n",
      "Epoch 11/15\n",
      "54/54 [==============================] - 10s 185ms/step - loss: 0.0034 - accuracy: 0.9987 - val_loss: 8.4502 - val_accuracy: 0.5949\n",
      "Epoch 12/15\n",
      "54/54 [==============================] - 10s 187ms/step - loss: 0.0036 - accuracy: 0.9987 - val_loss: 8.4994 - val_accuracy: 0.5949\n",
      "  33/4279 [..............................] - ETA: 13s - loss: 4.1222 - accuracy: 0.5417"
     ]
    },
    {
     "name": "stderr",
     "output_type": "stream",
     "text": [
      "c:\\Users\\UX430\\anaconda3\\lib\\site-packages\\numpy\\core\\_asarray.py:171: VisibleDeprecationWarning: Creating an ndarray from ragged nested sequences (which is a list-or-tuple of lists-or-tuples-or ndarrays with different lengths or shapes) is deprecated. If you meant to do this, you must specify 'dtype=object' when creating the ndarray.\n",
      "  return array(a, dtype, copy=False, order=order, subok=True)\n"
     ]
    },
    {
     "name": "stdout",
     "output_type": "stream",
     "text": [
      "4279/4279 [==============================] - 13s 3ms/step - loss: 4.4423 - accuracy: 0.5257\n",
      "   1/1721 [..............................] - ETA: 0s - loss: 29.1827 - accuracy: 0.0000e+00"
     ]
    },
    {
     "name": "stderr",
     "output_type": "stream",
     "text": [
      "c:\\Users\\UX430\\anaconda3\\lib\\site-packages\\sklearn\\metrics\\_classification.py:1308: UndefinedMetricWarning: Precision and F-score are ill-defined and being set to 0.0 in labels with no predicted samples. Use `zero_division` parameter to control this behavior.\n",
      "  _warn_prf(average, modifier, msg_start, len(result))\n",
      "c:\\Users\\UX430\\anaconda3\\lib\\site-packages\\sklearn\\metrics\\_classification.py:1308: UndefinedMetricWarning: Recall and F-score are ill-defined and being set to 0.0 in labels with no true samples. Use `zero_division` parameter to control this behavior.\n",
      "  _warn_prf(average, modifier, msg_start, len(result))\n",
      "c:\\Users\\UX430\\anaconda3\\lib\\site-packages\\sklearn\\metrics\\_classification.py:1308: UndefinedMetricWarning: Precision and F-score are ill-defined and being set to 0.0 in labels with no predicted samples. Use `zero_division` parameter to control this behavior.\n",
      "  _warn_prf(average, modifier, msg_start, len(result))\n",
      "c:\\Users\\UX430\\anaconda3\\lib\\site-packages\\sklearn\\metrics\\_classification.py:1308: UndefinedMetricWarning: Recall and F-score are ill-defined and being set to 0.0 in labels with no true samples. Use `zero_division` parameter to control this behavior.\n",
      "  _warn_prf(average, modifier, msg_start, len(result))\n",
      "c:\\Users\\UX430\\anaconda3\\lib\\site-packages\\sklearn\\metrics\\_classification.py:1308: UndefinedMetricWarning: Precision and F-score are ill-defined and being set to 0.0 in labels with no predicted samples. Use `zero_division` parameter to control this behavior.\n",
      "  _warn_prf(average, modifier, msg_start, len(result))\n",
      "c:\\Users\\UX430\\anaconda3\\lib\\site-packages\\sklearn\\metrics\\_classification.py:1308: UndefinedMetricWarning: Recall and F-score are ill-defined and being set to 0.0 in labels with no true samples. Use `zero_division` parameter to control this behavior.\n",
      "  _warn_prf(average, modifier, msg_start, len(result))\n"
     ]
    },
    {
     "name": "stdout",
     "output_type": "stream",
     "text": [
      "1721/1721 [==============================] - 5s 3ms/step - loss: 13.7935 - accuracy: 0.5519\n"
     ]
    },
    {
     "name": "stderr",
     "output_type": "stream",
     "text": [
      "c:\\Users\\UX430\\anaconda3\\lib\\site-packages\\sklearn\\metrics\\_classification.py:1308: UndefinedMetricWarning: Precision and F-score are ill-defined and being set to 0.0 in labels with no predicted samples. Use `zero_division` parameter to control this behavior.\n",
      "  _warn_prf(average, modifier, msg_start, len(result))\n",
      "c:\\Users\\UX430\\anaconda3\\lib\\site-packages\\sklearn\\metrics\\_classification.py:1308: UndefinedMetricWarning: Recall and F-score are ill-defined and being set to 0.0 in labels with no true samples. Use `zero_division` parameter to control this behavior.\n",
      "  _warn_prf(average, modifier, msg_start, len(result))\n",
      "c:\\Users\\UX430\\anaconda3\\lib\\site-packages\\sklearn\\metrics\\_classification.py:1308: UndefinedMetricWarning: Precision and F-score are ill-defined and being set to 0.0 in labels with no predicted samples. Use `zero_division` parameter to control this behavior.\n",
      "  _warn_prf(average, modifier, msg_start, len(result))\n",
      "c:\\Users\\UX430\\anaconda3\\lib\\site-packages\\sklearn\\metrics\\_classification.py:1308: UndefinedMetricWarning: Recall and F-score are ill-defined and being set to 0.0 in labels with no true samples. Use `zero_division` parameter to control this behavior.\n",
      "  _warn_prf(average, modifier, msg_start, len(result))\n",
      "c:\\Users\\UX430\\anaconda3\\lib\\site-packages\\sklearn\\metrics\\_classification.py:1308: UndefinedMetricWarning: Precision and F-score are ill-defined and being set to 0.0 in labels with no predicted samples. Use `zero_division` parameter to control this behavior.\n",
      "  _warn_prf(average, modifier, msg_start, len(result))\n",
      "c:\\Users\\UX430\\anaconda3\\lib\\site-packages\\sklearn\\metrics\\_classification.py:1308: UndefinedMetricWarning: Recall and F-score are ill-defined and being set to 0.0 in labels with no true samples. Use `zero_division` parameter to control this behavior.\n",
      "  _warn_prf(average, modifier, msg_start, len(result))\n"
     ]
    },
    {
     "name": "stdout",
     "output_type": "stream",
     "text": [
      "Epoch 1/15\n",
      "54/54 [==============================] - 10s 186ms/step - loss: 0.0038 - accuracy: 0.9989 - val_loss: 8.7000 - val_accuracy: 0.5929\n",
      "Epoch 2/15\n",
      "54/54 [==============================] - 10s 184ms/step - loss: 0.0032 - accuracy: 0.9990 - val_loss: 8.7574 - val_accuracy: 0.5930\n",
      "Epoch 3/15\n",
      "54/54 [==============================] - 10s 178ms/step - loss: 0.0032 - accuracy: 0.9991 - val_loss: 8.7192 - val_accuracy: 0.5928\n",
      "Epoch 4/15\n",
      "54/54 [==============================] - 9s 171ms/step - loss: 0.0031 - accuracy: 0.9991 - val_loss: 8.6655 - val_accuracy: 0.5928\n",
      "Epoch 5/15\n",
      "54/54 [==============================] - 10s 184ms/step - loss: 0.0032 - accuracy: 0.9991 - val_loss: 8.7917 - val_accuracy: 0.5929\n",
      "Epoch 6/15\n",
      "54/54 [==============================] - 10s 187ms/step - loss: 0.0029 - accuracy: 0.9991 - val_loss: 8.9303 - val_accuracy: 0.5931\n",
      "Epoch 7/15\n",
      "54/54 [==============================] - 11s 206ms/step - loss: 0.0035 - accuracy: 0.9988 - val_loss: 8.6889 - val_accuracy: 0.5928\n",
      "Epoch 8/15\n",
      "54/54 [==============================] - 11s 208ms/step - loss: 0.0032 - accuracy: 0.9991 - val_loss: 8.7964 - val_accuracy: 0.5930\n",
      "Epoch 9/15\n",
      "54/54 [==============================] - 10s 176ms/step - loss: 0.0031 - accuracy: 0.9991 - val_loss: 8.9481 - val_accuracy: 0.5927\n",
      "Epoch 10/15\n",
      "54/54 [==============================] - 10s 180ms/step - loss: 0.0029 - accuracy: 0.9991 - val_loss: 8.9873 - val_accuracy: 0.5929\n",
      "Epoch 11/15\n",
      "54/54 [==============================] - 10s 183ms/step - loss: 0.0032 - accuracy: 0.9991 - val_loss: 8.8758 - val_accuracy: 0.5930\n",
      "Epoch 12/15\n",
      "54/54 [==============================] - 10s 179ms/step - loss: 0.0030 - accuracy: 0.9991 - val_loss: 8.8564 - val_accuracy: 0.5927\n",
      "Epoch 13/15\n",
      "54/54 [==============================] - 10s 180ms/step - loss: 0.0029 - accuracy: 0.9991 - val_loss: 9.0417 - val_accuracy: 0.5928\n",
      "Epoch 14/15\n",
      "54/54 [==============================] - 10s 176ms/step - loss: 0.0028 - accuracy: 0.9991 - val_loss: 8.8999 - val_accuracy: 0.5924\n",
      "Epoch 1/15\n",
      "54/54 [==============================] - 10s 182ms/step - loss: 0.0040 - accuracy: 0.9986 - val_loss: 9.0365 - val_accuracy: 0.5944\n",
      "Epoch 2/15\n",
      "54/54 [==============================] - 9s 174ms/step - loss: 0.0037 - accuracy: 0.9988 - val_loss: 8.6705 - val_accuracy: 0.5934\n",
      "Epoch 3/15\n",
      "54/54 [==============================] - 10s 176ms/step - loss: 0.0035 - accuracy: 0.9988 - val_loss: 8.5837 - val_accuracy: 0.5933\n",
      "Epoch 4/15\n",
      "54/54 [==============================] - 9s 173ms/step - loss: 0.0031 - accuracy: 0.9989 - val_loss: 8.7622 - val_accuracy: 0.5938\n",
      "Epoch 5/15\n",
      "54/54 [==============================] - 10s 179ms/step - loss: 0.0031 - accuracy: 0.9989 - val_loss: 8.7726 - val_accuracy: 0.5937\n",
      "Epoch 6/15\n",
      "54/54 [==============================] - 10s 176ms/step - loss: 0.0030 - accuracy: 0.9990 - val_loss: 8.6778 - val_accuracy: 0.5935\n",
      "Epoch 7/15\n",
      "54/54 [==============================] - 10s 179ms/step - loss: 0.0030 - accuracy: 0.9990 - val_loss: 8.9956 - val_accuracy: 0.5937\n",
      "Epoch 8/15\n",
      "54/54 [==============================] - 10s 179ms/step - loss: 0.0030 - accuracy: 0.9990 - val_loss: 8.9282 - val_accuracy: 0.5938\n",
      "Epoch 9/15\n",
      "54/54 [==============================] - 10s 181ms/step - loss: 0.0029 - accuracy: 0.9989 - val_loss: 8.9061 - val_accuracy: 0.5938\n",
      "Epoch 10/15\n",
      "54/54 [==============================] - 10s 179ms/step - loss: 0.0029 - accuracy: 0.9989 - val_loss: 9.2679 - val_accuracy: 0.5942\n",
      "Epoch 11/15\n",
      "54/54 [==============================] - 10s 181ms/step - loss: 0.0029 - accuracy: 0.9991 - val_loss: 9.1410 - val_accuracy: 0.5938\n",
      "Epoch 12/15\n",
      "54/54 [==============================] - 10s 177ms/step - loss: 0.0028 - accuracy: 0.9989 - val_loss: 9.0800 - val_accuracy: 0.5937\n",
      "Epoch 13/15\n",
      "54/54 [==============================] - 10s 177ms/step - loss: 0.0028 - accuracy: 0.9990 - val_loss: 8.9820 - val_accuracy: 0.5934\n",
      "Epoch 1/15\n",
      "54/54 [==============================] - 10s 180ms/step - loss: 0.0041 - accuracy: 0.9986 - val_loss: 8.7548 - val_accuracy: 0.5951\n",
      "Epoch 2/15\n",
      "54/54 [==============================] - 10s 176ms/step - loss: 0.0038 - accuracy: 0.9986 - val_loss: 8.7704 - val_accuracy: 0.5956\n",
      "Epoch 3/15\n",
      "54/54 [==============================] - 9s 165ms/step - loss: 0.0035 - accuracy: 0.9988 - val_loss: 8.5382 - val_accuracy: 0.5955\n",
      "Epoch 4/15\n",
      "54/54 [==============================] - 9s 172ms/step - loss: 0.0034 - accuracy: 0.9987 - val_loss: 8.6029 - val_accuracy: 0.5954\n",
      "Epoch 5/15\n",
      "54/54 [==============================] - 9s 162ms/step - loss: 0.0033 - accuracy: 0.9989 - val_loss: 8.6907 - val_accuracy: 0.5955\n",
      "Epoch 6/15\n",
      "54/54 [==============================] - 9s 167ms/step - loss: 0.0033 - accuracy: 0.9988 - val_loss: 8.5984 - val_accuracy: 0.5947\n",
      "Epoch 7/15\n",
      "54/54 [==============================] - 9s 163ms/step - loss: 0.0035 - accuracy: 0.9987 - val_loss: 8.6629 - val_accuracy: 0.5957\n",
      "Epoch 8/15\n",
      "54/54 [==============================] - 9s 167ms/step - loss: 0.0032 - accuracy: 0.9989 - val_loss: 8.6134 - val_accuracy: 0.5952\n",
      "Epoch 9/15\n",
      "54/54 [==============================] - 9s 172ms/step - loss: 0.0031 - accuracy: 0.9989 - val_loss: 8.7670 - val_accuracy: 0.5955\n",
      "Epoch 10/15\n",
      "54/54 [==============================] - 9s 164ms/step - loss: 0.0031 - accuracy: 0.9989 - val_loss: 8.7927 - val_accuracy: 0.5949\n",
      "Epoch 11/15\n",
      "54/54 [==============================] - 9s 164ms/step - loss: 0.0032 - accuracy: 0.9988 - val_loss: 8.7087 - val_accuracy: 0.5951\n",
      "Epoch 12/15\n",
      "54/54 [==============================] - 9s 161ms/step - loss: 0.0030 - accuracy: 0.9990 - val_loss: 8.8508 - val_accuracy: 0.5955\n",
      "Epoch 13/15\n",
      "54/54 [==============================] - 9s 169ms/step - loss: 0.0028 - accuracy: 0.9989 - val_loss: 8.9578 - val_accuracy: 0.5954\n",
      "  35/4279 [..............................] - ETA: 12s - loss: 2.9624 - accuracy: 0.5786"
     ]
    },
    {
     "name": "stderr",
     "output_type": "stream",
     "text": [
      "c:\\Users\\UX430\\anaconda3\\lib\\site-packages\\numpy\\core\\_asarray.py:171: VisibleDeprecationWarning: Creating an ndarray from ragged nested sequences (which is a list-or-tuple of lists-or-tuples-or ndarrays with different lengths or shapes) is deprecated. If you meant to do this, you must specify 'dtype=object' when creating the ndarray.\n",
      "  return array(a, dtype, copy=False, order=order, subok=True)\n"
     ]
    },
    {
     "name": "stdout",
     "output_type": "stream",
     "text": [
      "4279/4279 [==============================] - 11s 3ms/step - loss: 3.2827 - accuracy: 0.5695\n",
      "  21/1721 [..............................] - ETA: 4s - loss: 27.5205 - accuracy: 0.0000e+00"
     ]
    },
    {
     "name": "stderr",
     "output_type": "stream",
     "text": [
      "c:\\Users\\UX430\\anaconda3\\lib\\site-packages\\sklearn\\metrics\\_classification.py:1308: UndefinedMetricWarning: Precision and F-score are ill-defined and being set to 0.0 in labels with no predicted samples. Use `zero_division` parameter to control this behavior.\n",
      "  _warn_prf(average, modifier, msg_start, len(result))\n",
      "c:\\Users\\UX430\\anaconda3\\lib\\site-packages\\sklearn\\metrics\\_classification.py:1308: UndefinedMetricWarning: Recall and F-score are ill-defined and being set to 0.0 in labels with no true samples. Use `zero_division` parameter to control this behavior.\n",
      "  _warn_prf(average, modifier, msg_start, len(result))\n",
      "c:\\Users\\UX430\\anaconda3\\lib\\site-packages\\sklearn\\metrics\\_classification.py:1308: UndefinedMetricWarning: Precision and F-score are ill-defined and being set to 0.0 in labels with no predicted samples. Use `zero_division` parameter to control this behavior.\n",
      "  _warn_prf(average, modifier, msg_start, len(result))\n",
      "c:\\Users\\UX430\\anaconda3\\lib\\site-packages\\sklearn\\metrics\\_classification.py:1308: UndefinedMetricWarning: Recall and F-score are ill-defined and being set to 0.0 in labels with no true samples. Use `zero_division` parameter to control this behavior.\n",
      "  _warn_prf(average, modifier, msg_start, len(result))\n",
      "c:\\Users\\UX430\\anaconda3\\lib\\site-packages\\sklearn\\metrics\\_classification.py:1308: UndefinedMetricWarning: Precision and F-score are ill-defined and being set to 0.0 in labels with no predicted samples. Use `zero_division` parameter to control this behavior.\n",
      "  _warn_prf(average, modifier, msg_start, len(result))\n",
      "c:\\Users\\UX430\\anaconda3\\lib\\site-packages\\sklearn\\metrics\\_classification.py:1308: UndefinedMetricWarning: Recall and F-score are ill-defined and being set to 0.0 in labels with no true samples. Use `zero_division` parameter to control this behavior.\n",
      "  _warn_prf(average, modifier, msg_start, len(result))\n"
     ]
    },
    {
     "name": "stdout",
     "output_type": "stream",
     "text": [
      "1721/1721 [==============================] - 4s 3ms/step - loss: 14.8225 - accuracy: 0.5498\n"
     ]
    },
    {
     "name": "stderr",
     "output_type": "stream",
     "text": [
      "c:\\Users\\UX430\\anaconda3\\lib\\site-packages\\sklearn\\metrics\\_classification.py:1308: UndefinedMetricWarning: Precision and F-score are ill-defined and being set to 0.0 in labels with no predicted samples. Use `zero_division` parameter to control this behavior.\n",
      "  _warn_prf(average, modifier, msg_start, len(result))\n",
      "c:\\Users\\UX430\\anaconda3\\lib\\site-packages\\sklearn\\metrics\\_classification.py:1308: UndefinedMetricWarning: Recall and F-score are ill-defined and being set to 0.0 in labels with no true samples. Use `zero_division` parameter to control this behavior.\n",
      "  _warn_prf(average, modifier, msg_start, len(result))\n",
      "c:\\Users\\UX430\\anaconda3\\lib\\site-packages\\sklearn\\metrics\\_classification.py:1308: UndefinedMetricWarning: Precision and F-score are ill-defined and being set to 0.0 in labels with no predicted samples. Use `zero_division` parameter to control this behavior.\n",
      "  _warn_prf(average, modifier, msg_start, len(result))\n",
      "c:\\Users\\UX430\\anaconda3\\lib\\site-packages\\sklearn\\metrics\\_classification.py:1308: UndefinedMetricWarning: Recall and F-score are ill-defined and being set to 0.0 in labels with no true samples. Use `zero_division` parameter to control this behavior.\n",
      "  _warn_prf(average, modifier, msg_start, len(result))\n",
      "c:\\Users\\UX430\\anaconda3\\lib\\site-packages\\sklearn\\metrics\\_classification.py:1308: UndefinedMetricWarning: Precision and F-score are ill-defined and being set to 0.0 in labels with no predicted samples. Use `zero_division` parameter to control this behavior.\n",
      "  _warn_prf(average, modifier, msg_start, len(result))\n",
      "c:\\Users\\UX430\\anaconda3\\lib\\site-packages\\sklearn\\metrics\\_classification.py:1308: UndefinedMetricWarning: Recall and F-score are ill-defined and being set to 0.0 in labels with no true samples. Use `zero_division` parameter to control this behavior.\n",
      "  _warn_prf(average, modifier, msg_start, len(result))\n"
     ]
    }
   ],
   "source": [
    "# Values saved each iteration \n",
    "loss_it = []\n",
    "accuracy_it = []\n",
    "f1_it = []\n",
    "precision_it = []\n",
    "recall_it = []\n",
    "\n",
    "for i in range(global_updates): \n",
    "    w_list = []\n",
    "    for node in range(num_nodes): \n",
    "        cp = global_model # create a copy of the global model\n",
    "        if node == 0:\n",
    "            x, y = x1, y1\n",
    "        elif node == 1:\n",
    "            x, y = x2, y2\n",
    "        else:\n",
    "            x, y = x3, y3\n",
    "        local_model, local_loss, local_acc, local_val_loss, local_val_acc = train_local_model(cp, node, x, y)\n",
    "        w_list.append(local_model.get_weights())\n",
    "\n",
    "    avg_w = aggregate(w_list)\n",
    "    global_model.set_weights(avg_w) # apply gradients to global model\n",
    "    loss_basic, accuracy_basic, f1_basic, precision_basic, recall_basic = evaluation(global_model, xbasic, ybasic) # Evaluate with test basic to know progress\n",
    "    loss_plus, accuracy_plus, f1_plus, precision_plus, recall_plus = evaluation(global_model, xplus, yplus) # Evaluate with test plus to know progress\n",
    "\n",
    "    loss_it.append([loss_basic, loss_plus])\n",
    "    accuracy_it.append([accuracy_basic, accuracy_plus])\n",
    "    f1_it.append([f1_basic, f1_plus])\n",
    "    precision_it.append([precision_basic, precision_plus])\n",
    "    recall_it.append([recall_basic, recall_plus])\n",
    "\n",
    "\n",
    "global_model.save('C:/Users/UX430/Documents/thesis/code/models/id302.hdf5')"
   ]
  },
  {
   "cell_type": "code",
   "execution_count": 18,
   "metadata": {},
   "outputs": [
    {
     "name": "stdout",
     "output_type": "stream",
     "text": [
      "Loss for iterations:  [[1.7454180717468262, 7.122639179229736], [2.240445375442505, 8.785306930541992], [2.608531951904297, 9.356563568115234], [3.6284265518188477, 9.586573600769043], [4.503273963928223, 10.058083534240723], [4.961392879486084, 10.799714088439941], [5.245174407958984, 11.706480026245117], [4.873042583465576, 13.01179027557373], [4.442312717437744, 13.793519020080566], [3.282742977142334, 14.822486877441406]]\n",
      "Accuracy for iterations:  [[0.9122308492660522, 0.553458571434021], [0.9014139771461487, 0.5565828680992126], [0.6207455396652222, 0.5582358241081238], [0.5288717150688171, 0.554911732673645], [0.5266294479370117, 0.5549843907356262], [0.521399974822998, 0.5532950758934021], [0.5254243612289429, 0.5532950758934021], [0.521202802658081, 0.5500617623329163], [0.5256800055503845, 0.5519145727157593], [0.5694732666015625, 0.5498256087303162]]\n",
      "F1 for iterations:  [[0.8764003591511451, 0.5049523101976278], [0.8650250881698658, 0.44288195302345473], [0.5421017731665894, 0.42244172418799586], [0.3894263099442828, 0.42594558911001085], [0.389178397412425, 0.4351992162611167], [0.38778230670372815, 0.453130972208099], [0.39009481857448014, 0.47389984178298944], [0.38980175090828845, 0.4935894133215137], [0.39266471234875816, 0.5006656925009881], [0.46922180747806874, 0.5054544741651849]]\n",
      "Precision for iterations:  [[0.8466248679976554, 0.4642633238411509], [0.8323174852328032, 0.36775544048787423], [0.5686455346473207, 0.3397866421662368], [0.3325240584469743, 0.3456204923398854], [0.3311149519107733, 0.3579426041108877], [0.3279244707331117, 0.383673757213421], [0.33070334746165925, 0.41443095953862163], [0.32863796786845206, 0.4476329665612241], [0.3315214926043918, 0.45812573422336395], [0.4638304593607105, 0.4677100850607884]]\n",
      "Recall for iterations:  [[0.9122308568757487, 0.5534585482816247], [0.9014140056677087, 0.5565828671074621], [0.6207455666247919, 0.5582358497420621], [0.5288717169651466, 0.5549117198285257], [0.5266294662420754, 0.5549843784058708], [0.5213999824710042, 0.5532950664825983], [0.5254243477752782, 0.5532950664825983], [0.5212027812673464, 0.5500617597907433], [0.5256799789652049, 0.5519145535130422], [0.5694732536737854, 0.5498256194143719]]\n"
     ]
    }
   ],
   "source": [
    "print(\"Loss for iterations: \", loss_it)\n",
    "print(\"Accuracy for iterations: \", accuracy_it)\n",
    "print(\"F1 for iterations: \", f1_it)\n",
    "print(\"Precision for iterations: \", precision_it)\n",
    "print(\"Recall for iterations: \", recall_it)"
   ]
  },
  {
   "cell_type": "markdown",
   "metadata": {},
   "source": [
    "#### Dataset 3D"
   ]
  },
  {
   "cell_type": "code",
   "execution_count": 21,
   "metadata": {},
   "outputs": [
    {
     "name": "stderr",
     "output_type": "stream",
     "text": [
      "C:\\Users\\UX430\\AppData\\Local\\Temp/ipykernel_15288/4263416215.py:5: DtypeWarning: Columns (4) have mixed types. Specify dtype option on import or set low_memory=False.\n",
      "  test_basic = pd.read_csv('C:/Users/UX430/Documents/thesis/datasets/UNSW-NB15/UNSW-NB15-Test-Basic.csv')\n"
     ]
    }
   ],
   "source": [
    "# Load training datasets and testing datasets \n",
    "training1 = pd.read_csv('C:/Users/UX430/Documents/thesis/datasets/UNSW-NB15/UNSW-NB15-Train-Basic-3D-Part1.csv')\n",
    "training2 = pd.read_csv('C:/Users/UX430/Documents/thesis/datasets/UNSW-NB15/UNSW-NB15-Train-Basic-3D-Part2.csv')\n",
    "training3 = pd.read_csv('C:/Users/UX430/Documents/thesis/datasets/UNSW-NB15/UNSW-NB15-Train-Basic-3D-Part3.csv')\n",
    "test_basic = pd.read_csv('C:/Users/UX430/Documents/thesis/datasets/UNSW-NB15/UNSW-NB15-Test-Basic.csv')\n",
    "test_plus = pd.read_csv('C:/Users/UX430/Documents/thesis/datasets/UNSW-NB15/UNSW-NB15-Test+.csv')"
   ]
  },
  {
   "cell_type": "code",
   "execution_count": 22,
   "metadata": {},
   "outputs": [],
   "source": [
    "# Define \n",
    "node_datasets = [training1, training2, training3]\n",
    "num_nodes = 3\n",
    "global_updates = 5\n",
    "\n",
    "# Define model training parameters\n",
    "loss_fct = \"categorical_crossentropy\"\n",
    "metrics = ['accuracy']\n",
    "local_epochs = 5"
   ]
  },
  {
   "cell_type": "code",
   "execution_count": 23,
   "metadata": {},
   "outputs": [],
   "source": [
    "def train_local_model(model, node, x_train, y_train): \n",
    "    filepath = 'C:/Users/UX430/Documents/thesis/code/models/node'+str(node)+'ID303.hdf5'\n",
    "    callbacks = [\n",
    "            keras.callbacks.EarlyStopping(\n",
    "                monitor = 'val_loss', # Use accuracy to monitor the model\n",
    "                patience = 10 # Stop after 10 steps with lower accuracy\n",
    "            ),\n",
    "            keras.callbacks.ModelCheckpoint(\n",
    "                filepath = filepath, # file where the checkpoint is saved\n",
    "                monitor = 'val_loss', # Don't overwrite the saved model unless val_loss is worse\n",
    "                save_best_only = True)]# Only save model if it is the best\n",
    "    optimizer = keras.optimizers.Adam(learning_rate=5e-4)\n",
    "    model.compile(optimizer=optimizer, loss=loss_fct, metrics=metrics)\n",
    "    history = model.fit(x_train, y_train, epochs=local_epochs, validation_split=0.2, callbacks=callbacks, batch_size=2048)\n",
    "    return model, history.history['loss'], history.history['accuracy'], history.history['val_loss'], history.history['val_accuracy']"
   ]
  },
  {
   "cell_type": "code",
   "execution_count": 24,
   "metadata": {},
   "outputs": [],
   "source": [
    "def aggregate(w_list): \n",
    "    avg_w = np.mean(w_list, axis=0)\n",
    "    return avg_w"
   ]
  },
  {
   "cell_type": "code",
   "execution_count": 25,
   "metadata": {},
   "outputs": [],
   "source": [
    "global_model = build_model((24,1,1))"
   ]
  },
  {
   "cell_type": "code",
   "execution_count": 26,
   "metadata": {},
   "outputs": [],
   "source": [
    "x1, y1 = preprocessing(training1)\n",
    "x2, y2 = preprocessing(training2)\n",
    "x3, y3 = preprocessing(training3)\n",
    "xbasic, ybasic = preprocessing(test_basic)\n",
    "xplus, yplus = preprocessing(test_plus)"
   ]
  },
  {
   "cell_type": "code",
   "execution_count": 27,
   "metadata": {},
   "outputs": [
    {
     "name": "stdout",
     "output_type": "stream",
     "text": [
      "Epoch 1/5\n",
      "22/22 [==============================] - 4s 178ms/step - loss: 1.3106 - accuracy: 0.9563 - val_loss: 0.0587 - val_accuracy: 1.0000\n",
      "Epoch 2/5\n",
      "22/22 [==============================] - 4s 167ms/step - loss: 0.0075 - accuracy: 1.0000 - val_loss: 7.5518e-05 - val_accuracy: 1.0000\n",
      "Epoch 3/5\n",
      "22/22 [==============================] - 4s 173ms/step - loss: 3.8009e-05 - accuracy: 1.0000 - val_loss: 2.2706e-05 - val_accuracy: 1.0000\n",
      "Epoch 4/5\n",
      "22/22 [==============================] - 4s 170ms/step - loss: 2.0728e-05 - accuracy: 1.0000 - val_loss: 1.9370e-05 - val_accuracy: 1.0000\n",
      "Epoch 5/5\n",
      "22/22 [==============================] - 4s 180ms/step - loss: 1.9202e-05 - accuracy: 1.0000 - val_loss: 1.8808e-05 - val_accuracy: 1.0000\n",
      "Epoch 1/5\n",
      "22/22 [==============================] - 4s 177ms/step - loss: 5.5032 - accuracy: 0.0000e+00 - val_loss: 1.8328 - val_accuracy: 0.0000e+00\n",
      "Epoch 2/5\n",
      "22/22 [==============================] - 4s 178ms/step - loss: 1.2946 - accuracy: 0.4945 - val_loss: 0.7483 - val_accuracy: 1.0000\n",
      "Epoch 3/5\n",
      "22/22 [==============================] - 4s 177ms/step - loss: 0.3559 - accuracy: 1.0000 - val_loss: 0.0919 - val_accuracy: 1.0000\n",
      "Epoch 4/5\n",
      "22/22 [==============================] - 4s 177ms/step - loss: 0.0416 - accuracy: 1.0000 - val_loss: 0.0161 - val_accuracy: 1.0000\n",
      "Epoch 5/5\n",
      "22/22 [==============================] - 4s 177ms/step - loss: 0.0107 - accuracy: 1.0000 - val_loss: 0.0071 - val_accuracy: 1.0000\n",
      "Epoch 1/5\n",
      "13/13 [==============================] - 2s 183ms/step - loss: 7.1486 - accuracy: 0.0000e+00 - val_loss: 4.0958 - val_accuracy: 0.0000e+00\n",
      "Epoch 2/5\n",
      "13/13 [==============================] - 2s 175ms/step - loss: 2.8769 - accuracy: 0.0000e+00 - val_loss: 2.4185 - val_accuracy: 0.0000e+00\n",
      "Epoch 3/5\n",
      "13/13 [==============================] - 2s 172ms/step - loss: 2.1784 - accuracy: 0.0000e+00 - val_loss: 2.2600 - val_accuracy: 0.0000e+00\n",
      "Epoch 4/5\n",
      "13/13 [==============================] - 2s 176ms/step - loss: 1.8575 - accuracy: 0.5227 - val_loss: 2.2460 - val_accuracy: 0.0000e+00\n",
      "Epoch 5/5\n",
      "13/13 [==============================] - 2s 188ms/step - loss: 1.2686 - accuracy: 0.8047 - val_loss: 2.5971 - val_accuracy: 0.0000e+00\n",
      "  16/4279 [..............................] - ETA: 13s - loss: 0.9823 - accuracy: 0.529"
     ]
    },
    {
     "name": "stderr",
     "output_type": "stream",
     "text": [
      "c:\\Users\\UX430\\anaconda3\\lib\\site-packages\\numpy\\core\\_asarray.py:171: VisibleDeprecationWarning: Creating an ndarray from ragged nested sequences (which is a list-or-tuple of lists-or-tuples-or ndarrays with different lengths or shapes) is deprecated. If you meant to do this, you must specify 'dtype=object' when creating the ndarray.\n",
      "  return array(a, dtype, copy=False, order=order, subok=True)\n"
     ]
    },
    {
     "name": "stdout",
     "output_type": "stream",
     "text": [
      "4279/4279 [==============================] - 26s 6ms/step - loss: 0.9856 - accuracy: 0.5288\n"
     ]
    },
    {
     "name": "stderr",
     "output_type": "stream",
     "text": [
      "c:\\Users\\UX430\\anaconda3\\lib\\site-packages\\sklearn\\metrics\\_classification.py:1308: UndefinedMetricWarning: Precision and F-score are ill-defined and being set to 0.0 in labels with no predicted samples. Use `zero_division` parameter to control this behavior.\n",
      "  _warn_prf(average, modifier, msg_start, len(result))\n",
      "c:\\Users\\UX430\\anaconda3\\lib\\site-packages\\sklearn\\metrics\\_classification.py:1308: UndefinedMetricWarning: Recall and F-score are ill-defined and being set to 0.0 in labels with no true samples. Use `zero_division` parameter to control this behavior.\n",
      "  _warn_prf(average, modifier, msg_start, len(result))\n"
     ]
    },
    {
     "name": "stdout",
     "output_type": "stream",
     "text": [
      "   1/1721 [..............................] - ETA: 0s - loss: 5.0295 - accuracy: 0.0000e+00"
     ]
    },
    {
     "name": "stderr",
     "output_type": "stream",
     "text": [
      "c:\\Users\\UX430\\anaconda3\\lib\\site-packages\\sklearn\\metrics\\_classification.py:1308: UndefinedMetricWarning: Precision and F-score are ill-defined and being set to 0.0 in labels with no predicted samples. Use `zero_division` parameter to control this behavior.\n",
      "  _warn_prf(average, modifier, msg_start, len(result))\n",
      "c:\\Users\\UX430\\anaconda3\\lib\\site-packages\\sklearn\\metrics\\_classification.py:1308: UndefinedMetricWarning: Recall and F-score are ill-defined and being set to 0.0 in labels with no true samples. Use `zero_division` parameter to control this behavior.\n",
      "  _warn_prf(average, modifier, msg_start, len(result))\n",
      "c:\\Users\\UX430\\anaconda3\\lib\\site-packages\\sklearn\\metrics\\_classification.py:1308: UndefinedMetricWarning: Precision and F-score are ill-defined and being set to 0.0 in labels with no predicted samples. Use `zero_division` parameter to control this behavior.\n",
      "  _warn_prf(average, modifier, msg_start, len(result))\n",
      "c:\\Users\\UX430\\anaconda3\\lib\\site-packages\\sklearn\\metrics\\_classification.py:1308: UndefinedMetricWarning: Recall and F-score are ill-defined and being set to 0.0 in labels with no true samples. Use `zero_division` parameter to control this behavior.\n",
      "  _warn_prf(average, modifier, msg_start, len(result))\n"
     ]
    },
    {
     "name": "stdout",
     "output_type": "stream",
     "text": [
      "1721/1721 [==============================] - 13s 7ms/step - loss: 2.6537 - accuracy: 0.5608\n"
     ]
    },
    {
     "name": "stderr",
     "output_type": "stream",
     "text": [
      "c:\\Users\\UX430\\anaconda3\\lib\\site-packages\\sklearn\\metrics\\_classification.py:1308: UndefinedMetricWarning: Precision and F-score are ill-defined and being set to 0.0 in labels with no predicted samples. Use `zero_division` parameter to control this behavior.\n",
      "  _warn_prf(average, modifier, msg_start, len(result))\n",
      "c:\\Users\\UX430\\anaconda3\\lib\\site-packages\\sklearn\\metrics\\_classification.py:1308: UndefinedMetricWarning: Recall and F-score are ill-defined and being set to 0.0 in labels with no true samples. Use `zero_division` parameter to control this behavior.\n",
      "  _warn_prf(average, modifier, msg_start, len(result))\n",
      "c:\\Users\\UX430\\anaconda3\\lib\\site-packages\\sklearn\\metrics\\_classification.py:1308: UndefinedMetricWarning: Precision and F-score are ill-defined and being set to 0.0 in labels with no predicted samples. Use `zero_division` parameter to control this behavior.\n",
      "  _warn_prf(average, modifier, msg_start, len(result))\n",
      "c:\\Users\\UX430\\anaconda3\\lib\\site-packages\\sklearn\\metrics\\_classification.py:1308: UndefinedMetricWarning: Recall and F-score are ill-defined and being set to 0.0 in labels with no true samples. Use `zero_division` parameter to control this behavior.\n",
      "  _warn_prf(average, modifier, msg_start, len(result))\n",
      "c:\\Users\\UX430\\anaconda3\\lib\\site-packages\\sklearn\\metrics\\_classification.py:1308: UndefinedMetricWarning: Precision and F-score are ill-defined and being set to 0.0 in labels with no predicted samples. Use `zero_division` parameter to control this behavior.\n",
      "  _warn_prf(average, modifier, msg_start, len(result))\n",
      "c:\\Users\\UX430\\anaconda3\\lib\\site-packages\\sklearn\\metrics\\_classification.py:1308: UndefinedMetricWarning: Recall and F-score are ill-defined and being set to 0.0 in labels with no true samples. Use `zero_division` parameter to control this behavior.\n",
      "  _warn_prf(average, modifier, msg_start, len(result))\n"
     ]
    },
    {
     "name": "stdout",
     "output_type": "stream",
     "text": [
      "Epoch 1/5\n",
      "22/22 [==============================] - 5s 234ms/step - loss: 0.0655 - accuracy: 1.0000 - val_loss: 1.2673e-04 - val_accuracy: 1.0000\n",
      "Epoch 2/5\n",
      "22/22 [==============================] - 5s 215ms/step - loss: 4.6319e-05 - accuracy: 1.0000 - val_loss: 1.9290e-05 - val_accuracy: 1.0000\n",
      "Epoch 3/5\n",
      "22/22 [==============================] - 5s 225ms/step - loss: 1.6420e-05 - accuracy: 1.0000 - val_loss: 1.4711e-05 - val_accuracy: 1.0000\n",
      "Epoch 4/5\n",
      "22/22 [==============================] - 5s 229ms/step - loss: 1.4373e-05 - accuracy: 1.0000 - val_loss: 1.3973e-05 - val_accuracy: 1.0000\n",
      "Epoch 5/5\n",
      "22/22 [==============================] - 5s 226ms/step - loss: 1.3874e-05 - accuracy: 1.0000 - val_loss: 1.3601e-05 - val_accuracy: 1.0000\n",
      "Epoch 1/5\n",
      "22/22 [==============================] - 5s 231ms/step - loss: 3.3493 - accuracy: 0.2207 - val_loss: 0.3350 - val_accuracy: 1.0000\n",
      "Epoch 2/5\n",
      "22/22 [==============================] - 5s 223ms/step - loss: 0.1528 - accuracy: 1.0000 - val_loss: 0.0506 - val_accuracy: 1.0000\n",
      "Epoch 3/5\n",
      "22/22 [==============================] - 5s 218ms/step - loss: 0.0275 - accuracy: 1.0000 - val_loss: 0.0136 - val_accuracy: 1.0000\n",
      "Epoch 4/5\n",
      "22/22 [==============================] - 5s 207ms/step - loss: 0.0093 - accuracy: 1.0000 - val_loss: 0.0059 - val_accuracy: 1.0000\n",
      "Epoch 5/5\n",
      "22/22 [==============================] - 5s 219ms/step - loss: 0.0043 - accuracy: 1.0000 - val_loss: 0.0031 - val_accuracy: 1.0000\n",
      "Epoch 1/5\n",
      "13/13 [==============================] - 3s 238ms/step - loss: 6.5771 - accuracy: 0.0000e+00 - val_loss: 4.1435 - val_accuracy: 0.0000e+00\n",
      "Epoch 2/5\n",
      "13/13 [==============================] - 4s 316ms/step - loss: 2.3616 - accuracy: 0.0000e+00 - val_loss: 2.4047 - val_accuracy: 0.0000e+00\n",
      "Epoch 3/5\n",
      "13/13 [==============================] - 4s 288ms/step - loss: 1.6071 - accuracy: 0.5356 - val_loss: 2.3070 - val_accuracy: 0.0000e+00\n",
      "Epoch 4/5\n",
      "13/13 [==============================] - 3s 245ms/step - loss: 1.1004 - accuracy: 0.8047 - val_loss: 2.6549 - val_accuracy: 0.0000e+00\n",
      "Epoch 5/5\n",
      "13/13 [==============================] - 3s 256ms/step - loss: 0.7722 - accuracy: 0.8047 - val_loss: 2.9498 - val_accuracy: 0.0000e+00\n",
      "  27/4279 [..............................] - ETA: 16s - loss: 1.0750 - accuracy: 0.3866"
     ]
    },
    {
     "name": "stderr",
     "output_type": "stream",
     "text": [
      "c:\\Users\\UX430\\anaconda3\\lib\\site-packages\\numpy\\core\\_asarray.py:171: VisibleDeprecationWarning: Creating an ndarray from ragged nested sequences (which is a list-or-tuple of lists-or-tuples-or ndarrays with different lengths or shapes) is deprecated. If you meant to do this, you must specify 'dtype=object' when creating the ndarray.\n",
      "  return array(a, dtype, copy=False, order=order, subok=True)\n"
     ]
    },
    {
     "name": "stdout",
     "output_type": "stream",
     "text": [
      "4279/4279 [==============================] - 20s 5ms/step - loss: 1.0871 - accuracy: 0.3920\n"
     ]
    },
    {
     "name": "stderr",
     "output_type": "stream",
     "text": [
      "c:\\Users\\UX430\\anaconda3\\lib\\site-packages\\sklearn\\metrics\\_classification.py:1308: UndefinedMetricWarning: Precision and F-score are ill-defined and being set to 0.0 in labels with no predicted samples. Use `zero_division` parameter to control this behavior.\n",
      "  _warn_prf(average, modifier, msg_start, len(result))\n",
      "c:\\Users\\UX430\\anaconda3\\lib\\site-packages\\sklearn\\metrics\\_classification.py:1308: UndefinedMetricWarning: Recall and F-score are ill-defined and being set to 0.0 in labels with no true samples. Use `zero_division` parameter to control this behavior.\n",
      "  _warn_prf(average, modifier, msg_start, len(result))\n",
      "c:\\Users\\UX430\\anaconda3\\lib\\site-packages\\sklearn\\metrics\\_classification.py:1308: UndefinedMetricWarning: Precision and F-score are ill-defined and being set to 0.0 in labels with no predicted samples. Use `zero_division` parameter to control this behavior.\n",
      "  _warn_prf(average, modifier, msg_start, len(result))\n",
      "c:\\Users\\UX430\\anaconda3\\lib\\site-packages\\sklearn\\metrics\\_classification.py:1308: UndefinedMetricWarning: Recall and F-score are ill-defined and being set to 0.0 in labels with no true samples. Use `zero_division` parameter to control this behavior.\n",
      "  _warn_prf(average, modifier, msg_start, len(result))\n",
      "c:\\Users\\UX430\\anaconda3\\lib\\site-packages\\sklearn\\metrics\\_classification.py:1308: UndefinedMetricWarning: Precision and F-score are ill-defined and being set to 0.0 in labels with no predicted samples. Use `zero_division` parameter to control this behavior.\n",
      "  _warn_prf(average, modifier, msg_start, len(result))\n",
      "c:\\Users\\UX430\\anaconda3\\lib\\site-packages\\sklearn\\metrics\\_classification.py:1308: UndefinedMetricWarning: Recall and F-score are ill-defined and being set to 0.0 in labels with no true samples. Use `zero_division` parameter to control this behavior.\n",
      "  _warn_prf(average, modifier, msg_start, len(result))\n"
     ]
    },
    {
     "name": "stdout",
     "output_type": "stream",
     "text": [
      "1721/1721 [==============================] - 7s 4ms/step - loss: 3.9888 - accuracy: 0.0000e+00\n"
     ]
    },
    {
     "name": "stderr",
     "output_type": "stream",
     "text": [
      "c:\\Users\\UX430\\anaconda3\\lib\\site-packages\\sklearn\\metrics\\_classification.py:1308: UndefinedMetricWarning: Precision and F-score are ill-defined and being set to 0.0 in labels with no predicted samples. Use `zero_division` parameter to control this behavior.\n",
      "  _warn_prf(average, modifier, msg_start, len(result))\n",
      "c:\\Users\\UX430\\anaconda3\\lib\\site-packages\\sklearn\\metrics\\_classification.py:1308: UndefinedMetricWarning: Recall and F-score are ill-defined and being set to 0.0 in labels with no true samples. Use `zero_division` parameter to control this behavior.\n",
      "  _warn_prf(average, modifier, msg_start, len(result))\n",
      "c:\\Users\\UX430\\anaconda3\\lib\\site-packages\\sklearn\\metrics\\_classification.py:1308: UndefinedMetricWarning: Precision and F-score are ill-defined and being set to 0.0 in labels with no predicted samples. Use `zero_division` parameter to control this behavior.\n",
      "  _warn_prf(average, modifier, msg_start, len(result))\n",
      "c:\\Users\\UX430\\anaconda3\\lib\\site-packages\\sklearn\\metrics\\_classification.py:1308: UndefinedMetricWarning: Recall and F-score are ill-defined and being set to 0.0 in labels with no true samples. Use `zero_division` parameter to control this behavior.\n",
      "  _warn_prf(average, modifier, msg_start, len(result))\n",
      "c:\\Users\\UX430\\anaconda3\\lib\\site-packages\\sklearn\\metrics\\_classification.py:1308: UndefinedMetricWarning: Precision and F-score are ill-defined and being set to 0.0 in labels with no predicted samples. Use `zero_division` parameter to control this behavior.\n",
      "  _warn_prf(average, modifier, msg_start, len(result))\n",
      "c:\\Users\\UX430\\anaconda3\\lib\\site-packages\\sklearn\\metrics\\_classification.py:1308: UndefinedMetricWarning: Recall and F-score are ill-defined and being set to 0.0 in labels with no true samples. Use `zero_division` parameter to control this behavior.\n",
      "  _warn_prf(average, modifier, msg_start, len(result))\n"
     ]
    },
    {
     "name": "stdout",
     "output_type": "stream",
     "text": [
      "Epoch 1/5\n",
      "22/22 [==============================] - 6s 276ms/step - loss: 0.1783 - accuracy: 0.9091 - val_loss: 3.8247e-04 - val_accuracy: 1.0000\n",
      "Epoch 2/5\n",
      "22/22 [==============================] - 6s 263ms/step - loss: 1.2236e-04 - accuracy: 1.0000 - val_loss: 4.2184e-05 - val_accuracy: 1.0000\n",
      "Epoch 3/5\n",
      "22/22 [==============================] - 6s 252ms/step - loss: 3.4585e-05 - accuracy: 1.0000 - val_loss: 3.0181e-05 - val_accuracy: 1.0000\n",
      "Epoch 4/5\n",
      "22/22 [==============================] - 5s 236ms/step - loss: 2.9121e-05 - accuracy: 1.0000 - val_loss: 2.8023e-05 - val_accuracy: 1.0000\n",
      "Epoch 5/5\n",
      "22/22 [==============================] - 7s 299ms/step - loss: 2.7538e-05 - accuracy: 1.0000 - val_loss: 2.6734e-05 - val_accuracy: 1.0000\n",
      "Epoch 1/5\n",
      "22/22 [==============================] - 7s 325ms/step - loss: 2.9394 - accuracy: 0.3109 - val_loss: 0.2378 - val_accuracy: 1.0000\n",
      "Epoch 2/5\n",
      "22/22 [==============================] - 11s 508ms/step - loss: 0.1006 - accuracy: 1.0000 - val_loss: 0.0321 - val_accuracy: 1.0000\n",
      "Epoch 3/5\n",
      "22/22 [==============================] - 5s 249ms/step - loss: 0.0191 - accuracy: 1.0000 - val_loss: 0.0112 - val_accuracy: 1.0000\n",
      "Epoch 4/5\n",
      "22/22 [==============================] - 4s 173ms/step - loss: 0.0085 - accuracy: 1.0000 - val_loss: 0.0064 - val_accuracy: 1.0000\n",
      "Epoch 5/5\n",
      "22/22 [==============================] - 4s 166ms/step - loss: 0.0053 - accuracy: 1.0000 - val_loss: 0.0043 - val_accuracy: 1.0000\n",
      "Epoch 1/5\n",
      "13/13 [==============================] - 2s 175ms/step - loss: 6.2542 - accuracy: 0.0000e+00 - val_loss: 4.0466 - val_accuracy: 0.0000e+00\n",
      "Epoch 2/5\n",
      "13/13 [==============================] - 3s 210ms/step - loss: 1.8671 - accuracy: 0.2327 - val_loss: 2.4091 - val_accuracy: 0.0000e+00\n",
      "Epoch 3/5\n",
      "13/13 [==============================] - 2s 159ms/step - loss: 1.1314 - accuracy: 0.8046 - val_loss: 2.4537 - val_accuracy: 0.0000e+00\n",
      "Epoch 4/5\n",
      "13/13 [==============================] - 2s 157ms/step - loss: 0.8349 - accuracy: 0.8047 - val_loss: 2.7434 - val_accuracy: 0.0000e+00\n",
      "Epoch 5/5\n",
      "13/13 [==============================] - 2s 162ms/step - loss: 0.7049 - accuracy: 0.8047 - val_loss: 2.6488 - val_accuracy: 0.0000e+00\n",
      "  56/4279 [..............................] - ETA: 11s - loss: 1.0264 - accuracy: 0.3962"
     ]
    },
    {
     "name": "stderr",
     "output_type": "stream",
     "text": [
      "c:\\Users\\UX430\\anaconda3\\lib\\site-packages\\numpy\\core\\_asarray.py:171: VisibleDeprecationWarning: Creating an ndarray from ragged nested sequences (which is a list-or-tuple of lists-or-tuples-or ndarrays with different lengths or shapes) is deprecated. If you meant to do this, you must specify 'dtype=object' when creating the ndarray.\n",
      "  return array(a, dtype, copy=False, order=order, subok=True)\n"
     ]
    },
    {
     "name": "stdout",
     "output_type": "stream",
     "text": [
      "4279/4279 [==============================] - 16s 4ms/step - loss: 1.0524 - accuracy: 0.3920\n",
      "  14/1721 [..............................] - ETA: 6s - loss: 8.4276 - accuracy: 0.0000e+00"
     ]
    },
    {
     "name": "stderr",
     "output_type": "stream",
     "text": [
      "c:\\Users\\UX430\\anaconda3\\lib\\site-packages\\sklearn\\metrics\\_classification.py:1308: UndefinedMetricWarning: Precision and F-score are ill-defined and being set to 0.0 in labels with no predicted samples. Use `zero_division` parameter to control this behavior.\n",
      "  _warn_prf(average, modifier, msg_start, len(result))\n",
      "c:\\Users\\UX430\\anaconda3\\lib\\site-packages\\sklearn\\metrics\\_classification.py:1308: UndefinedMetricWarning: Recall and F-score are ill-defined and being set to 0.0 in labels with no true samples. Use `zero_division` parameter to control this behavior.\n",
      "  _warn_prf(average, modifier, msg_start, len(result))\n",
      "c:\\Users\\UX430\\anaconda3\\lib\\site-packages\\sklearn\\metrics\\_classification.py:1308: UndefinedMetricWarning: Precision and F-score are ill-defined and being set to 0.0 in labels with no predicted samples. Use `zero_division` parameter to control this behavior.\n",
      "  _warn_prf(average, modifier, msg_start, len(result))\n",
      "c:\\Users\\UX430\\anaconda3\\lib\\site-packages\\sklearn\\metrics\\_classification.py:1308: UndefinedMetricWarning: Recall and F-score are ill-defined and being set to 0.0 in labels with no true samples. Use `zero_division` parameter to control this behavior.\n",
      "  _warn_prf(average, modifier, msg_start, len(result))\n",
      "c:\\Users\\UX430\\anaconda3\\lib\\site-packages\\sklearn\\metrics\\_classification.py:1308: UndefinedMetricWarning: Precision and F-score are ill-defined and being set to 0.0 in labels with no predicted samples. Use `zero_division` parameter to control this behavior.\n",
      "  _warn_prf(average, modifier, msg_start, len(result))\n",
      "c:\\Users\\UX430\\anaconda3\\lib\\site-packages\\sklearn\\metrics\\_classification.py:1308: UndefinedMetricWarning: Recall and F-score are ill-defined and being set to 0.0 in labels with no true samples. Use `zero_division` parameter to control this behavior.\n",
      "  _warn_prf(average, modifier, msg_start, len(result))\n"
     ]
    },
    {
     "name": "stdout",
     "output_type": "stream",
     "text": [
      "1721/1721 [==============================] - 6s 4ms/step - loss: 4.5763 - accuracy: 0.0000e+00\n"
     ]
    },
    {
     "name": "stderr",
     "output_type": "stream",
     "text": [
      "c:\\Users\\UX430\\anaconda3\\lib\\site-packages\\sklearn\\metrics\\_classification.py:1308: UndefinedMetricWarning: Precision and F-score are ill-defined and being set to 0.0 in labels with no predicted samples. Use `zero_division` parameter to control this behavior.\n",
      "  _warn_prf(average, modifier, msg_start, len(result))\n",
      "c:\\Users\\UX430\\anaconda3\\lib\\site-packages\\sklearn\\metrics\\_classification.py:1308: UndefinedMetricWarning: Recall and F-score are ill-defined and being set to 0.0 in labels with no true samples. Use `zero_division` parameter to control this behavior.\n",
      "  _warn_prf(average, modifier, msg_start, len(result))\n",
      "c:\\Users\\UX430\\anaconda3\\lib\\site-packages\\sklearn\\metrics\\_classification.py:1308: UndefinedMetricWarning: Precision and F-score are ill-defined and being set to 0.0 in labels with no predicted samples. Use `zero_division` parameter to control this behavior.\n",
      "  _warn_prf(average, modifier, msg_start, len(result))\n",
      "c:\\Users\\UX430\\anaconda3\\lib\\site-packages\\sklearn\\metrics\\_classification.py:1308: UndefinedMetricWarning: Recall and F-score are ill-defined and being set to 0.0 in labels with no true samples. Use `zero_division` parameter to control this behavior.\n",
      "  _warn_prf(average, modifier, msg_start, len(result))\n",
      "c:\\Users\\UX430\\anaconda3\\lib\\site-packages\\sklearn\\metrics\\_classification.py:1308: UndefinedMetricWarning: Precision and F-score are ill-defined and being set to 0.0 in labels with no predicted samples. Use `zero_division` parameter to control this behavior.\n",
      "  _warn_prf(average, modifier, msg_start, len(result))\n",
      "c:\\Users\\UX430\\anaconda3\\lib\\site-packages\\sklearn\\metrics\\_classification.py:1308: UndefinedMetricWarning: Recall and F-score are ill-defined and being set to 0.0 in labels with no true samples. Use `zero_division` parameter to control this behavior.\n",
      "  _warn_prf(average, modifier, msg_start, len(result))\n"
     ]
    },
    {
     "name": "stdout",
     "output_type": "stream",
     "text": [
      "Epoch 1/5\n",
      "22/22 [==============================] - 4s 167ms/step - loss: 0.1697 - accuracy: 0.9251 - val_loss: 3.5900e-04 - val_accuracy: 1.0000\n",
      "Epoch 2/5\n",
      "22/22 [==============================] - 4s 170ms/step - loss: 1.1662e-04 - accuracy: 1.0000 - val_loss: 4.1384e-05 - val_accuracy: 1.0000\n",
      "Epoch 3/5\n",
      "22/22 [==============================] - 4s 172ms/step - loss: 3.4171e-05 - accuracy: 1.0000 - val_loss: 3.0057e-05 - val_accuracy: 1.0000\n",
      "Epoch 4/5\n",
      "22/22 [==============================] - 4s 168ms/step - loss: 2.9108e-05 - accuracy: 1.0000 - val_loss: 2.8206e-05 - val_accuracy: 1.0000\n",
      "Epoch 5/5\n",
      "22/22 [==============================] - 4s 163ms/step - loss: 2.7836e-05 - accuracy: 1.0000 - val_loss: 2.7243e-05 - val_accuracy: 1.0000\n",
      "Epoch 1/5\n",
      "22/22 [==============================] - 4s 167ms/step - loss: 2.9477 - accuracy: 0.3099 - val_loss: 0.2452 - val_accuracy: 1.0000\n",
      "Epoch 2/5\n",
      "22/22 [==============================] - 4s 161ms/step - loss: 0.0990 - accuracy: 1.0000 - val_loss: 0.0299 - val_accuracy: 1.0000\n",
      "Epoch 3/5\n",
      "22/22 [==============================] - 4s 165ms/step - loss: 0.0178 - accuracy: 1.0000 - val_loss: 0.0103 - val_accuracy: 1.0000\n",
      "Epoch 4/5\n",
      "22/22 [==============================] - 4s 160ms/step - loss: 0.0075 - accuracy: 1.0000 - val_loss: 0.0054 - val_accuracy: 1.0000\n",
      "Epoch 5/5\n",
      "22/22 [==============================] - 3s 159ms/step - loss: 0.0042 - accuracy: 1.0000 - val_loss: 0.0033 - val_accuracy: 1.0000\n",
      "Epoch 1/5\n",
      "13/13 [==============================] - 2s 166ms/step - loss: 6.4206 - accuracy: 0.0000e+00 - val_loss: 4.2780 - val_accuracy: 0.0000e+00\n",
      "Epoch 2/5\n",
      "13/13 [==============================] - 2s 155ms/step - loss: 1.7910 - accuracy: 0.2764 - val_loss: 2.4285 - val_accuracy: 0.0000e+00\n",
      "Epoch 3/5\n",
      "13/13 [==============================] - 2s 153ms/step - loss: 1.0147 - accuracy: 0.8047 - val_loss: 2.4667 - val_accuracy: 0.0000e+00\n",
      "Epoch 4/5\n",
      "13/13 [==============================] - 2s 153ms/step - loss: 0.7863 - accuracy: 0.8047 - val_loss: 2.6679 - val_accuracy: 0.0000e+00\n",
      "Epoch 5/5\n",
      "13/13 [==============================] - 2s 153ms/step - loss: 0.6862 - accuracy: 0.8047 - val_loss: 2.5255 - val_accuracy: 0.0000e+00\n",
      "  35/4279 [..............................] - ETA: 12s - loss: 1.0291 - accuracy: 0.3893"
     ]
    },
    {
     "name": "stderr",
     "output_type": "stream",
     "text": [
      "c:\\Users\\UX430\\anaconda3\\lib\\site-packages\\numpy\\core\\_asarray.py:171: VisibleDeprecationWarning: Creating an ndarray from ragged nested sequences (which is a list-or-tuple of lists-or-tuples-or ndarrays with different lengths or shapes) is deprecated. If you meant to do this, you must specify 'dtype=object' when creating the ndarray.\n",
      "  return array(a, dtype, copy=False, order=order, subok=True)\n"
     ]
    },
    {
     "name": "stdout",
     "output_type": "stream",
     "text": [
      "4279/4279 [==============================] - 12s 3ms/step - loss: 1.0575 - accuracy: 0.3920\n"
     ]
    },
    {
     "name": "stderr",
     "output_type": "stream",
     "text": [
      "c:\\Users\\UX430\\anaconda3\\lib\\site-packages\\sklearn\\metrics\\_classification.py:1308: UndefinedMetricWarning: Precision and F-score are ill-defined and being set to 0.0 in labels with no predicted samples. Use `zero_division` parameter to control this behavior.\n",
      "  _warn_prf(average, modifier, msg_start, len(result))\n",
      "c:\\Users\\UX430\\anaconda3\\lib\\site-packages\\sklearn\\metrics\\_classification.py:1308: UndefinedMetricWarning: Recall and F-score are ill-defined and being set to 0.0 in labels with no true samples. Use `zero_division` parameter to control this behavior.\n",
      "  _warn_prf(average, modifier, msg_start, len(result))\n",
      "c:\\Users\\UX430\\anaconda3\\lib\\site-packages\\sklearn\\metrics\\_classification.py:1308: UndefinedMetricWarning: Precision and F-score are ill-defined and being set to 0.0 in labels with no predicted samples. Use `zero_division` parameter to control this behavior.\n",
      "  _warn_prf(average, modifier, msg_start, len(result))\n",
      "c:\\Users\\UX430\\anaconda3\\lib\\site-packages\\sklearn\\metrics\\_classification.py:1308: UndefinedMetricWarning: Recall and F-score are ill-defined and being set to 0.0 in labels with no true samples. Use `zero_division` parameter to control this behavior.\n",
      "  _warn_prf(average, modifier, msg_start, len(result))\n",
      "c:\\Users\\UX430\\anaconda3\\lib\\site-packages\\sklearn\\metrics\\_classification.py:1308: UndefinedMetricWarning: Precision and F-score are ill-defined and being set to 0.0 in labels with no predicted samples. Use `zero_division` parameter to control this behavior.\n",
      "  _warn_prf(average, modifier, msg_start, len(result))\n",
      "c:\\Users\\UX430\\anaconda3\\lib\\site-packages\\sklearn\\metrics\\_classification.py:1308: UndefinedMetricWarning: Recall and F-score are ill-defined and being set to 0.0 in labels with no true samples. Use `zero_division` parameter to control this behavior.\n",
      "  _warn_prf(average, modifier, msg_start, len(result))\n"
     ]
    },
    {
     "name": "stdout",
     "output_type": "stream",
     "text": [
      "1721/1721 [==============================] - 5s 3ms/step - loss: 5.0935 - accuracy: 0.0000e+00\n"
     ]
    },
    {
     "name": "stderr",
     "output_type": "stream",
     "text": [
      "c:\\Users\\UX430\\anaconda3\\lib\\site-packages\\sklearn\\metrics\\_classification.py:1308: UndefinedMetricWarning: Precision and F-score are ill-defined and being set to 0.0 in labels with no predicted samples. Use `zero_division` parameter to control this behavior.\n",
      "  _warn_prf(average, modifier, msg_start, len(result))\n",
      "c:\\Users\\UX430\\anaconda3\\lib\\site-packages\\sklearn\\metrics\\_classification.py:1308: UndefinedMetricWarning: Recall and F-score are ill-defined and being set to 0.0 in labels with no true samples. Use `zero_division` parameter to control this behavior.\n",
      "  _warn_prf(average, modifier, msg_start, len(result))\n",
      "c:\\Users\\UX430\\anaconda3\\lib\\site-packages\\sklearn\\metrics\\_classification.py:1308: UndefinedMetricWarning: Precision and F-score are ill-defined and being set to 0.0 in labels with no predicted samples. Use `zero_division` parameter to control this behavior.\n",
      "  _warn_prf(average, modifier, msg_start, len(result))\n",
      "c:\\Users\\UX430\\anaconda3\\lib\\site-packages\\sklearn\\metrics\\_classification.py:1308: UndefinedMetricWarning: Recall and F-score are ill-defined and being set to 0.0 in labels with no true samples. Use `zero_division` parameter to control this behavior.\n",
      "  _warn_prf(average, modifier, msg_start, len(result))\n",
      "c:\\Users\\UX430\\anaconda3\\lib\\site-packages\\sklearn\\metrics\\_classification.py:1308: UndefinedMetricWarning: Precision and F-score are ill-defined and being set to 0.0 in labels with no predicted samples. Use `zero_division` parameter to control this behavior.\n",
      "  _warn_prf(average, modifier, msg_start, len(result))\n",
      "c:\\Users\\UX430\\anaconda3\\lib\\site-packages\\sklearn\\metrics\\_classification.py:1308: UndefinedMetricWarning: Recall and F-score are ill-defined and being set to 0.0 in labels with no true samples. Use `zero_division` parameter to control this behavior.\n",
      "  _warn_prf(average, modifier, msg_start, len(result))\n"
     ]
    },
    {
     "name": "stdout",
     "output_type": "stream",
     "text": [
      "Epoch 1/5\n",
      "22/22 [==============================] - 4s 174ms/step - loss: 0.1809 - accuracy: 0.9177 - val_loss: 3.9223e-04 - val_accuracy: 1.0000\n",
      "Epoch 2/5\n",
      "22/22 [==============================] - 4s 166ms/step - loss: 1.2593e-04 - accuracy: 1.0000 - val_loss: 4.3468e-05 - val_accuracy: 1.0000\n",
      "Epoch 3/5\n",
      "22/22 [==============================] - 4s 165ms/step - loss: 3.5578e-05 - accuracy: 1.0000 - val_loss: 3.1128e-05 - val_accuracy: 1.0000\n",
      "Epoch 4/5\n",
      "22/22 [==============================] - 4s 161ms/step - loss: 2.9981e-05 - accuracy: 1.0000 - val_loss: 2.8955e-05 - val_accuracy: 1.0000\n",
      "Epoch 5/5\n",
      "22/22 [==============================] - 4s 161ms/step - loss: 2.8422e-05 - accuracy: 1.0000 - val_loss: 2.7716e-05 - val_accuracy: 1.0000\n",
      "Epoch 1/5\n",
      "22/22 [==============================] - 4s 165ms/step - loss: 2.9300 - accuracy: 0.3099 - val_loss: 0.2462 - val_accuracy: 1.0000\n",
      "Epoch 2/5\n",
      "22/22 [==============================] - 3s 159ms/step - loss: 0.0927 - accuracy: 1.0000 - val_loss: 0.0240 - val_accuracy: 1.0000\n",
      "Epoch 3/5\n",
      "22/22 [==============================] - 4s 161ms/step - loss: 0.0137 - accuracy: 1.0000 - val_loss: 0.0077 - val_accuracy: 1.0000\n",
      "Epoch 4/5\n",
      "22/22 [==============================] - 4s 160ms/step - loss: 0.0057 - accuracy: 1.0000 - val_loss: 0.0042 - val_accuracy: 1.0000\n",
      "Epoch 5/5\n",
      "22/22 [==============================] - 4s 168ms/step - loss: 0.0034 - accuracy: 1.0000 - val_loss: 0.0027 - val_accuracy: 1.0000\n",
      "Epoch 1/5\n",
      "13/13 [==============================] - 2s 179ms/step - loss: 6.5399 - accuracy: 0.0000e+00 - val_loss: 4.2926 - val_accuracy: 0.0000e+00\n",
      "Epoch 2/5\n",
      "13/13 [==============================] - 2s 163ms/step - loss: 1.7731 - accuracy: 0.2516 - val_loss: 2.4378 - val_accuracy: 0.0000e+00\n",
      "Epoch 3/5\n",
      "13/13 [==============================] - 2s 162ms/step - loss: 1.0040 - accuracy: 0.8047 - val_loss: 2.4426 - val_accuracy: 0.0000e+00\n",
      "Epoch 4/5\n",
      "13/13 [==============================] - 2s 161ms/step - loss: 0.7819 - accuracy: 0.8047 - val_loss: 2.6029 - val_accuracy: 0.0000e+00\n",
      "Epoch 5/5\n",
      "13/13 [==============================] - 2s 167ms/step - loss: 0.6867 - accuracy: 0.8047 - val_loss: 2.4893 - val_accuracy: 0.0000e+00\n",
      "  37/4279 [..............................] - ETA: 11s - loss: 1.0523 - accuracy: 0.3877"
     ]
    },
    {
     "name": "stderr",
     "output_type": "stream",
     "text": [
      "c:\\Users\\UX430\\anaconda3\\lib\\site-packages\\numpy\\core\\_asarray.py:171: VisibleDeprecationWarning: Creating an ndarray from ragged nested sequences (which is a list-or-tuple of lists-or-tuples-or ndarrays with different lengths or shapes) is deprecated. If you meant to do this, you must specify 'dtype=object' when creating the ndarray.\n",
      "  return array(a, dtype, copy=False, order=order, subok=True)\n"
     ]
    },
    {
     "name": "stdout",
     "output_type": "stream",
     "text": [
      "4279/4279 [==============================] - 12s 3ms/step - loss: 1.0683 - accuracy: 0.3921\n",
      "   1/1721 [..............................] - ETA: 0s - loss: 10.0644 - accuracy: 0.0000e+00"
     ]
    },
    {
     "name": "stderr",
     "output_type": "stream",
     "text": [
      "c:\\Users\\UX430\\anaconda3\\lib\\site-packages\\sklearn\\metrics\\_classification.py:1308: UndefinedMetricWarning: Precision and F-score are ill-defined and being set to 0.0 in labels with no predicted samples. Use `zero_division` parameter to control this behavior.\n",
      "  _warn_prf(average, modifier, msg_start, len(result))\n",
      "c:\\Users\\UX430\\anaconda3\\lib\\site-packages\\sklearn\\metrics\\_classification.py:1308: UndefinedMetricWarning: Recall and F-score are ill-defined and being set to 0.0 in labels with no true samples. Use `zero_division` parameter to control this behavior.\n",
      "  _warn_prf(average, modifier, msg_start, len(result))\n",
      "c:\\Users\\UX430\\anaconda3\\lib\\site-packages\\sklearn\\metrics\\_classification.py:1308: UndefinedMetricWarning: Precision and F-score are ill-defined and being set to 0.0 in labels with no predicted samples. Use `zero_division` parameter to control this behavior.\n",
      "  _warn_prf(average, modifier, msg_start, len(result))\n",
      "c:\\Users\\UX430\\anaconda3\\lib\\site-packages\\sklearn\\metrics\\_classification.py:1308: UndefinedMetricWarning: Recall and F-score are ill-defined and being set to 0.0 in labels with no true samples. Use `zero_division` parameter to control this behavior.\n",
      "  _warn_prf(average, modifier, msg_start, len(result))\n",
      "c:\\Users\\UX430\\anaconda3\\lib\\site-packages\\sklearn\\metrics\\_classification.py:1308: UndefinedMetricWarning: Precision and F-score are ill-defined and being set to 0.0 in labels with no predicted samples. Use `zero_division` parameter to control this behavior.\n",
      "  _warn_prf(average, modifier, msg_start, len(result))\n",
      "c:\\Users\\UX430\\anaconda3\\lib\\site-packages\\sklearn\\metrics\\_classification.py:1308: UndefinedMetricWarning: Recall and F-score are ill-defined and being set to 0.0 in labels with no true samples. Use `zero_division` parameter to control this behavior.\n",
      "  _warn_prf(average, modifier, msg_start, len(result))\n"
     ]
    },
    {
     "name": "stdout",
     "output_type": "stream",
     "text": [
      "1721/1721 [==============================] - 5s 3ms/step - loss: 5.3948 - accuracy: 4.7228e-04\n"
     ]
    },
    {
     "name": "stderr",
     "output_type": "stream",
     "text": [
      "c:\\Users\\UX430\\anaconda3\\lib\\site-packages\\sklearn\\metrics\\_classification.py:1308: UndefinedMetricWarning: Precision and F-score are ill-defined and being set to 0.0 in labels with no predicted samples. Use `zero_division` parameter to control this behavior.\n",
      "  _warn_prf(average, modifier, msg_start, len(result))\n",
      "c:\\Users\\UX430\\anaconda3\\lib\\site-packages\\sklearn\\metrics\\_classification.py:1308: UndefinedMetricWarning: Recall and F-score are ill-defined and being set to 0.0 in labels with no true samples. Use `zero_division` parameter to control this behavior.\n",
      "  _warn_prf(average, modifier, msg_start, len(result))\n",
      "c:\\Users\\UX430\\anaconda3\\lib\\site-packages\\sklearn\\metrics\\_classification.py:1308: UndefinedMetricWarning: Precision and F-score are ill-defined and being set to 0.0 in labels with no predicted samples. Use `zero_division` parameter to control this behavior.\n",
      "  _warn_prf(average, modifier, msg_start, len(result))\n",
      "c:\\Users\\UX430\\anaconda3\\lib\\site-packages\\sklearn\\metrics\\_classification.py:1308: UndefinedMetricWarning: Recall and F-score are ill-defined and being set to 0.0 in labels with no true samples. Use `zero_division` parameter to control this behavior.\n",
      "  _warn_prf(average, modifier, msg_start, len(result))\n",
      "c:\\Users\\UX430\\anaconda3\\lib\\site-packages\\sklearn\\metrics\\_classification.py:1308: UndefinedMetricWarning: Precision and F-score are ill-defined and being set to 0.0 in labels with no predicted samples. Use `zero_division` parameter to control this behavior.\n",
      "  _warn_prf(average, modifier, msg_start, len(result))\n",
      "c:\\Users\\UX430\\anaconda3\\lib\\site-packages\\sklearn\\metrics\\_classification.py:1308: UndefinedMetricWarning: Recall and F-score are ill-defined and being set to 0.0 in labels with no true samples. Use `zero_division` parameter to control this behavior.\n",
      "  _warn_prf(average, modifier, msg_start, len(result))\n"
     ]
    }
   ],
   "source": [
    "# Values saved each iteration \n",
    "loss_it = []\n",
    "accuracy_it = []\n",
    "f1_it = []\n",
    "precision_it = []\n",
    "recall_it = []\n",
    "\n",
    "for i in range(global_updates): \n",
    "    w_list = []\n",
    "    for node in range(num_nodes): \n",
    "        cp = global_model # create a copy of the global model\n",
    "        if node == 0:\n",
    "            x, y = x1, y1\n",
    "        elif node == 1:\n",
    "            x, y = x2, y2\n",
    "        else:\n",
    "            x, y = x3, y3\n",
    "        local_model, local_loss, local_acc, local_val_loss, local_val_acc = train_local_model(cp, node, x, y)\n",
    "        w_list.append(local_model.get_weights())\n",
    "\n",
    "    avg_w = aggregate(w_list)\n",
    "    global_model.set_weights(avg_w) # apply gradients to global model\n",
    "    loss_basic, accuracy_basic, f1_basic, precision_basic, recall_basic = evaluation(global_model, xbasic, ybasic) # Evaluate with test basic to know progress\n",
    "    loss_plus, accuracy_plus, f1_plus, precision_plus, recall_plus = evaluation(global_model, xplus, yplus) # Evaluate with test plus to know progress\n",
    "\n",
    "    loss_it.append([loss_basic, loss_plus])\n",
    "    accuracy_it.append([accuracy_basic, accuracy_plus])\n",
    "    f1_it.append([f1_basic, f1_plus])\n",
    "    precision_it.append([precision_basic, precision_plus])\n",
    "    recall_it.append([recall_basic, recall_plus])\n",
    "\n",
    "\n",
    "global_model.save('C:/Users/UX430/Documents/thesis/code/models/id303.hdf5')"
   ]
  },
  {
   "cell_type": "code",
   "execution_count": 28,
   "metadata": {},
   "outputs": [
    {
     "name": "stdout",
     "output_type": "stream",
     "text": [
      "Loss for iterations:  [[0.9856173396110535, 2.653658390045166], [1.0871297121047974, 3.9887802600860596], [1.0524245500564575, 4.576304912567139], [1.057511568069458, 5.093491554260254], [1.0683388710021973, 5.394809246063232]]\n",
      "Accuracy for iterations:  [[0.5287913680076599, 0.5607607364654541], [0.3920432925224304, 0.0], [0.3920432925224304, 0.0], [0.39202138781547546, 0.0], [0.3920651972293854, 0.00047228074981831014]]\n",
      "F1 for iterations:  [[0.36580747297750793, 0.4029525537020685], [0.22082351432279634, 0.0], [0.22082814887178548, 0.0], [0.22083202836439722, 0.0], [0.22096963195564706, 0.0009437666516441644]]\n",
      "Precision for iterations:  [[0.27962236134202634, 0.31445831428302057], [0.15369794642454032, 0.0], [0.15370243684017734, 0.0], [0.1537095640752422, 0.0], [0.2936931264363026, 0.5607607353048027]]\n",
      "Recall for iterations:  [[0.5287913757340267, 0.5607607353048027], [0.3920432966198253, 0.0], [0.3920432966198253, 0.0], [0.39202138537497444, 0.0], [0.39206520786467614, 0.0004722807527428613]]\n"
     ]
    }
   ],
   "source": [
    "print(\"Loss for iterations: \", loss_it)\n",
    "print(\"Accuracy for iterations: \", accuracy_it)\n",
    "print(\"F1 for iterations: \", f1_it)\n",
    "print(\"Precision for iterations: \", precision_it)\n",
    "print(\"Recall for iterations: \", recall_it)"
   ]
  },
  {
   "cell_type": "markdown",
   "metadata": {},
   "source": [
    "#### DATASET 3E"
   ]
  },
  {
   "cell_type": "code",
   "execution_count": 29,
   "metadata": {},
   "outputs": [
    {
     "name": "stderr",
     "output_type": "stream",
     "text": [
      "C:\\Users\\UX430\\AppData\\Local\\Temp/ipykernel_15288/4252152495.py:2: DtypeWarning: Columns (2,4) have mixed types. Specify dtype option on import or set low_memory=False.\n",
      "  training1 = pd.read_csv('C:/Users/UX430/Documents/thesis/datasets/UNSW-NB15/UNSW-NB15-Train-Basic-3E-Part1.csv')\n",
      "C:\\Users\\UX430\\AppData\\Local\\Temp/ipykernel_15288/4252152495.py:3: DtypeWarning: Columns (4) have mixed types. Specify dtype option on import or set low_memory=False.\n",
      "  training2 = pd.read_csv('C:/Users/UX430/Documents/thesis/datasets/UNSW-NB15/UNSW-NB15-Train-Basic-3E-Part2.csv')\n",
      "C:\\Users\\UX430\\AppData\\Local\\Temp/ipykernel_15288/4252152495.py:4: DtypeWarning: Columns (4) have mixed types. Specify dtype option on import or set low_memory=False.\n",
      "  training3 = pd.read_csv('C:/Users/UX430/Documents/thesis/datasets/UNSW-NB15/UNSW-NB15-Train-Basic-3E-Part3.csv')\n"
     ]
    }
   ],
   "source": [
    "# Load training datasets and testing datasets \n",
    "training1 = pd.read_csv('C:/Users/UX430/Documents/thesis/datasets/UNSW-NB15/UNSW-NB15-Train-Basic-3E-Part1.csv')\n",
    "training2 = pd.read_csv('C:/Users/UX430/Documents/thesis/datasets/UNSW-NB15/UNSW-NB15-Train-Basic-3E-Part2.csv')\n",
    "training3 = pd.read_csv('C:/Users/UX430/Documents/thesis/datasets/UNSW-NB15/UNSW-NB15-Train-Basic-3E-Part3.csv')"
   ]
  },
  {
   "cell_type": "code",
   "execution_count": 30,
   "metadata": {},
   "outputs": [],
   "source": [
    "# Define \n",
    "node_datasets = [training1, training2, training3]\n",
    "num_nodes = 3\n",
    "global_updates = 5\n",
    "\n",
    "# Define model training parameters\n",
    "loss_fct = \"categorical_crossentropy\"\n",
    "metrics = ['accuracy']\n",
    "local_epochs = 5"
   ]
  },
  {
   "cell_type": "code",
   "execution_count": 31,
   "metadata": {},
   "outputs": [],
   "source": [
    "def train_local_model(model, node, x_train, y_train): \n",
    "    filepath = 'C:/Users/UX430/Documents/thesis/code/models/node'+str(node)+'ID304.hdf5'\n",
    "    callbacks = [\n",
    "            keras.callbacks.EarlyStopping(\n",
    "                monitor = 'val_loss', # Use accuracy to monitor the model\n",
    "                patience = 10 # Stop after 10 steps with lower accuracy\n",
    "            ),\n",
    "            keras.callbacks.ModelCheckpoint(\n",
    "                filepath = filepath, # file where the checkpoint is saved\n",
    "                monitor = 'val_loss', # Don't overwrite the saved model unless val_loss is worse\n",
    "                save_best_only = True)]# Only save model if it is the best\n",
    "    optimizer = keras.optimizers.Adam(learning_rate=5e-4)\n",
    "    model.compile(optimizer=optimizer, loss=loss_fct, metrics=metrics)\n",
    "    history = model.fit(x_train, y_train, epochs=local_epochs, validation_split=0.2, callbacks=callbacks, batch_size=2048)\n",
    "    return model, history.history['loss'], history.history['accuracy'], history.history['val_loss'], history.history['val_accuracy']"
   ]
  },
  {
   "cell_type": "code",
   "execution_count": 32,
   "metadata": {},
   "outputs": [],
   "source": [
    "def aggregate(w_list): \n",
    "    avg_w = np.mean(w_list, axis=0)\n",
    "    return avg_w"
   ]
  },
  {
   "cell_type": "code",
   "execution_count": 33,
   "metadata": {},
   "outputs": [],
   "source": [
    "global_model = build_model((24,1,1))"
   ]
  },
  {
   "cell_type": "code",
   "execution_count": 34,
   "metadata": {},
   "outputs": [],
   "source": [
    "x1, y1 = preprocessing(training1)\n",
    "x2, y2 = preprocessing(training2)\n",
    "x3, y3 = preprocessing(training3)\n",
    "xbasic, ybasic = preprocessing(test_basic)\n",
    "xplus, yplus = preprocessing(test_plus)"
   ]
  },
  {
   "cell_type": "code",
   "execution_count": 35,
   "metadata": {},
   "outputs": [
    {
     "name": "stdout",
     "output_type": "stream",
     "text": [
      "Epoch 1/5\n",
      "54/54 [==============================] - 9s 174ms/step - loss: 0.7826 - accuracy: 0.8571 - val_loss: 3.6667 - val_accuracy: 0.6728\n",
      "Epoch 2/5\n",
      "54/54 [==============================] - 10s 185ms/step - loss: 0.0530 - accuracy: 0.9922 - val_loss: 3.7714 - val_accuracy: 0.6729\n",
      "Epoch 3/5\n",
      "54/54 [==============================] - 10s 186ms/step - loss: 0.0299 - accuracy: 0.9929 - val_loss: 3.8627 - val_accuracy: 0.6733\n",
      "Epoch 4/5\n",
      "54/54 [==============================] - 11s 199ms/step - loss: 0.0268 - accuracy: 0.9928 - val_loss: 3.9457 - val_accuracy: 0.6734\n",
      "Epoch 5/5\n",
      "54/54 [==============================] - 10s 192ms/step - loss: 0.0255 - accuracy: 0.9928 - val_loss: 4.0206 - val_accuracy: 0.6733\n",
      "Epoch 1/5\n",
      "53/53 [==============================] - 10s 197ms/step - loss: 0.0239 - accuracy: 0.9920 - val_loss: 7.2282 - val_accuracy: 0.5110\n",
      "Epoch 2/5\n",
      "53/53 [==============================] - 11s 199ms/step - loss: 0.0203 - accuracy: 0.9930 - val_loss: 7.7986 - val_accuracy: 0.5136\n",
      "Epoch 3/5\n",
      "53/53 [==============================] - 12s 226ms/step - loss: 0.0183 - accuracy: 0.9938 - val_loss: 8.3512 - val_accuracy: 0.5132\n",
      "Epoch 4/5\n",
      "53/53 [==============================] - 12s 221ms/step - loss: 0.0162 - accuracy: 0.9948 - val_loss: 9.2930 - val_accuracy: 0.5146\n",
      "Epoch 5/5\n",
      "53/53 [==============================] - 11s 204ms/step - loss: 0.0156 - accuracy: 0.9950 - val_loss: 9.5460 - val_accuracy: 0.5135\n",
      "Epoch 1/5\n",
      "55/55 [==============================] - 11s 202ms/step - loss: 0.0143 - accuracy: 0.9955 - val_loss: 8.4573 - val_accuracy: 0.5822\n",
      "Epoch 2/5\n",
      "55/55 [==============================] - 10s 189ms/step - loss: 0.0140 - accuracy: 0.9955 - val_loss: 8.4012 - val_accuracy: 0.5825\n",
      "Epoch 3/5\n",
      "55/55 [==============================] - 10s 185ms/step - loss: 0.0138 - accuracy: 0.9956 - val_loss: 8.2705 - val_accuracy: 0.5841\n",
      "Epoch 4/5\n",
      "55/55 [==============================] - 10s 184ms/step - loss: 0.0133 - accuracy: 0.9960 - val_loss: 8.2667 - val_accuracy: 0.5831\n",
      "Epoch 5/5\n",
      "55/55 [==============================] - 10s 179ms/step - loss: 0.0131 - accuracy: 0.9961 - val_loss: 8.4462 - val_accuracy: 0.5843\n",
      "  27/4279 [..............................] - ETA: 16s - loss: 1.3260 - accuracy: 0.9213"
     ]
    },
    {
     "name": "stderr",
     "output_type": "stream",
     "text": [
      "c:\\Users\\UX430\\anaconda3\\lib\\site-packages\\numpy\\core\\_asarray.py:171: VisibleDeprecationWarning: Creating an ndarray from ragged nested sequences (which is a list-or-tuple of lists-or-tuples-or ndarrays with different lengths or shapes) is deprecated. If you meant to do this, you must specify 'dtype=object' when creating the ndarray.\n",
      "  return array(a, dtype, copy=False, order=order, subok=True)\n"
     ]
    },
    {
     "name": "stdout",
     "output_type": "stream",
     "text": [
      "4279/4279 [==============================] - 14s 3ms/step - loss: 1.4360 - accuracy: 0.9115\n",
      "   1/1721 [..............................] - ETA: 0s - loss: 14.9069 - accuracy: 0.0000e+00"
     ]
    },
    {
     "name": "stderr",
     "output_type": "stream",
     "text": [
      "c:\\Users\\UX430\\anaconda3\\lib\\site-packages\\sklearn\\metrics\\_classification.py:1308: UndefinedMetricWarning: Precision and F-score are ill-defined and being set to 0.0 in labels with no predicted samples. Use `zero_division` parameter to control this behavior.\n",
      "  _warn_prf(average, modifier, msg_start, len(result))\n",
      "c:\\Users\\UX430\\anaconda3\\lib\\site-packages\\sklearn\\metrics\\_classification.py:1308: UndefinedMetricWarning: Recall and F-score are ill-defined and being set to 0.0 in labels with no true samples. Use `zero_division` parameter to control this behavior.\n",
      "  _warn_prf(average, modifier, msg_start, len(result))\n",
      "c:\\Users\\UX430\\anaconda3\\lib\\site-packages\\sklearn\\metrics\\_classification.py:1308: UndefinedMetricWarning: Precision and F-score are ill-defined and being set to 0.0 in labels with no predicted samples. Use `zero_division` parameter to control this behavior.\n",
      "  _warn_prf(average, modifier, msg_start, len(result))\n",
      "c:\\Users\\UX430\\anaconda3\\lib\\site-packages\\sklearn\\metrics\\_classification.py:1308: UndefinedMetricWarning: Recall and F-score are ill-defined and being set to 0.0 in labels with no true samples. Use `zero_division` parameter to control this behavior.\n",
      "  _warn_prf(average, modifier, msg_start, len(result))\n",
      "c:\\Users\\UX430\\anaconda3\\lib\\site-packages\\sklearn\\metrics\\_classification.py:1308: UndefinedMetricWarning: Precision and F-score are ill-defined and being set to 0.0 in labels with no predicted samples. Use `zero_division` parameter to control this behavior.\n",
      "  _warn_prf(average, modifier, msg_start, len(result))\n",
      "c:\\Users\\UX430\\anaconda3\\lib\\site-packages\\sklearn\\metrics\\_classification.py:1308: UndefinedMetricWarning: Recall and F-score are ill-defined and being set to 0.0 in labels with no true samples. Use `zero_division` parameter to control this behavior.\n",
      "  _warn_prf(average, modifier, msg_start, len(result))\n"
     ]
    },
    {
     "name": "stdout",
     "output_type": "stream",
     "text": [
      "1721/1721 [==============================] - 5s 3ms/step - loss: 7.1128 - accuracy: 0.5523\n"
     ]
    },
    {
     "name": "stderr",
     "output_type": "stream",
     "text": [
      "c:\\Users\\UX430\\anaconda3\\lib\\site-packages\\sklearn\\metrics\\_classification.py:1308: UndefinedMetricWarning: Precision and F-score are ill-defined and being set to 0.0 in labels with no predicted samples. Use `zero_division` parameter to control this behavior.\n",
      "  _warn_prf(average, modifier, msg_start, len(result))\n",
      "c:\\Users\\UX430\\anaconda3\\lib\\site-packages\\sklearn\\metrics\\_classification.py:1308: UndefinedMetricWarning: Recall and F-score are ill-defined and being set to 0.0 in labels with no true samples. Use `zero_division` parameter to control this behavior.\n",
      "  _warn_prf(average, modifier, msg_start, len(result))\n",
      "c:\\Users\\UX430\\anaconda3\\lib\\site-packages\\sklearn\\metrics\\_classification.py:1308: UndefinedMetricWarning: Precision and F-score are ill-defined and being set to 0.0 in labels with no predicted samples. Use `zero_division` parameter to control this behavior.\n",
      "  _warn_prf(average, modifier, msg_start, len(result))\n",
      "c:\\Users\\UX430\\anaconda3\\lib\\site-packages\\sklearn\\metrics\\_classification.py:1308: UndefinedMetricWarning: Recall and F-score are ill-defined and being set to 0.0 in labels with no true samples. Use `zero_division` parameter to control this behavior.\n",
      "  _warn_prf(average, modifier, msg_start, len(result))\n",
      "c:\\Users\\UX430\\anaconda3\\lib\\site-packages\\sklearn\\metrics\\_classification.py:1308: UndefinedMetricWarning: Precision and F-score are ill-defined and being set to 0.0 in labels with no predicted samples. Use `zero_division` parameter to control this behavior.\n",
      "  _warn_prf(average, modifier, msg_start, len(result))\n",
      "c:\\Users\\UX430\\anaconda3\\lib\\site-packages\\sklearn\\metrics\\_classification.py:1308: UndefinedMetricWarning: Recall and F-score are ill-defined and being set to 0.0 in labels with no true samples. Use `zero_division` parameter to control this behavior.\n",
      "  _warn_prf(average, modifier, msg_start, len(result))\n"
     ]
    },
    {
     "name": "stdout",
     "output_type": "stream",
     "text": [
      "Epoch 1/5\n",
      "54/54 [==============================] - 10s 191ms/step - loss: 0.0170 - accuracy: 0.9950 - val_loss: 5.7612 - val_accuracy: 0.6808\n",
      "Epoch 2/5\n",
      "54/54 [==============================] - 10s 178ms/step - loss: 0.0163 - accuracy: 0.9954 - val_loss: 5.9486 - val_accuracy: 0.6794\n",
      "Epoch 3/5\n",
      "54/54 [==============================] - 9s 173ms/step - loss: 0.0157 - accuracy: 0.9954 - val_loss: 6.1082 - val_accuracy: 0.6782\n",
      "Epoch 4/5\n",
      "54/54 [==============================] - 10s 179ms/step - loss: 0.0152 - accuracy: 0.9957 - val_loss: 6.0092 - val_accuracy: 0.6808\n",
      "Epoch 5/5\n",
      "54/54 [==============================] - 10s 183ms/step - loss: 0.0149 - accuracy: 0.9960 - val_loss: 6.1154 - val_accuracy: 0.6793\n",
      "Epoch 1/5\n",
      "53/53 [==============================] - 10s 184ms/step - loss: 0.0139 - accuracy: 0.9959 - val_loss: 9.1875 - val_accuracy: 0.5162\n",
      "Epoch 2/5\n",
      "53/53 [==============================] - 10s 186ms/step - loss: 0.0139 - accuracy: 0.9959 - val_loss: 9.0520 - val_accuracy: 0.5156\n",
      "Epoch 3/5\n",
      "53/53 [==============================] - 11s 202ms/step - loss: 0.0139 - accuracy: 0.9957 - val_loss: 8.5921 - val_accuracy: 0.5148\n",
      "Epoch 4/5\n",
      "53/53 [==============================] - 10s 184ms/step - loss: 0.0132 - accuracy: 0.9960 - val_loss: 9.0184 - val_accuracy: 0.5146\n",
      "Epoch 5/5\n",
      "53/53 [==============================] - 10s 187ms/step - loss: 0.0135 - accuracy: 0.9960 - val_loss: 8.9138 - val_accuracy: 0.5148\n",
      "Epoch 1/5\n",
      "55/55 [==============================] - 10s 174ms/step - loss: 0.0127 - accuracy: 0.9962 - val_loss: 7.5346 - val_accuracy: 0.5841\n",
      "Epoch 2/5\n",
      "55/55 [==============================] - 9s 168ms/step - loss: 0.0125 - accuracy: 0.9963 - val_loss: 7.5469 - val_accuracy: 0.5827\n",
      "Epoch 3/5\n",
      "55/55 [==============================] - 10s 181ms/step - loss: 0.0125 - accuracy: 0.9962 - val_loss: 7.4674 - val_accuracy: 0.5841\n",
      "Epoch 4/5\n",
      "55/55 [==============================] - 10s 181ms/step - loss: 0.0124 - accuracy: 0.9963 - val_loss: 7.4311 - val_accuracy: 0.5841\n",
      "Epoch 5/5\n",
      "55/55 [==============================] - 10s 179ms/step - loss: 0.0121 - accuracy: 0.9964 - val_loss: 7.6549 - val_accuracy: 0.5815\n",
      "  16/4279 [..............................] - ETA: 14s - loss: 1.5343 - accuracy: 0.9180"
     ]
    },
    {
     "name": "stderr",
     "output_type": "stream",
     "text": [
      "c:\\Users\\UX430\\anaconda3\\lib\\site-packages\\numpy\\core\\_asarray.py:171: VisibleDeprecationWarning: Creating an ndarray from ragged nested sequences (which is a list-or-tuple of lists-or-tuples-or ndarrays with different lengths or shapes) is deprecated. If you meant to do this, you must specify 'dtype=object' when creating the ndarray.\n",
      "  return array(a, dtype, copy=False, order=order, subok=True)\n"
     ]
    },
    {
     "name": "stdout",
     "output_type": "stream",
     "text": [
      "4279/4279 [==============================] - 13s 3ms/step - loss: 1.6044 - accuracy: 0.9135 0s - loss: 1.6043 - accuracy\n",
      "   1/1721 [..............................] - ETA: 0s - loss: 15.0153 - accuracy: 0.0000e+00"
     ]
    },
    {
     "name": "stderr",
     "output_type": "stream",
     "text": [
      "c:\\Users\\UX430\\anaconda3\\lib\\site-packages\\sklearn\\metrics\\_classification.py:1308: UndefinedMetricWarning: Precision and F-score are ill-defined and being set to 0.0 in labels with no predicted samples. Use `zero_division` parameter to control this behavior.\n",
      "  _warn_prf(average, modifier, msg_start, len(result))\n",
      "c:\\Users\\UX430\\anaconda3\\lib\\site-packages\\sklearn\\metrics\\_classification.py:1308: UndefinedMetricWarning: Recall and F-score are ill-defined and being set to 0.0 in labels with no true samples. Use `zero_division` parameter to control this behavior.\n",
      "  _warn_prf(average, modifier, msg_start, len(result))\n",
      "c:\\Users\\UX430\\anaconda3\\lib\\site-packages\\sklearn\\metrics\\_classification.py:1308: UndefinedMetricWarning: Precision and F-score are ill-defined and being set to 0.0 in labels with no predicted samples. Use `zero_division` parameter to control this behavior.\n",
      "  _warn_prf(average, modifier, msg_start, len(result))\n",
      "c:\\Users\\UX430\\anaconda3\\lib\\site-packages\\sklearn\\metrics\\_classification.py:1308: UndefinedMetricWarning: Recall and F-score are ill-defined and being set to 0.0 in labels with no true samples. Use `zero_division` parameter to control this behavior.\n",
      "  _warn_prf(average, modifier, msg_start, len(result))\n",
      "c:\\Users\\UX430\\anaconda3\\lib\\site-packages\\sklearn\\metrics\\_classification.py:1308: UndefinedMetricWarning: Precision and F-score are ill-defined and being set to 0.0 in labels with no predicted samples. Use `zero_division` parameter to control this behavior.\n",
      "  _warn_prf(average, modifier, msg_start, len(result))\n",
      "c:\\Users\\UX430\\anaconda3\\lib\\site-packages\\sklearn\\metrics\\_classification.py:1308: UndefinedMetricWarning: Recall and F-score are ill-defined and being set to 0.0 in labels with no true samples. Use `zero_division` parameter to control this behavior.\n",
      "  _warn_prf(average, modifier, msg_start, len(result))\n"
     ]
    },
    {
     "name": "stdout",
     "output_type": "stream",
     "text": [
      "1721/1721 [==============================] - 5s 3ms/step - loss: 7.3587 - accuracy: 0.5545: 0s -\n"
     ]
    },
    {
     "name": "stderr",
     "output_type": "stream",
     "text": [
      "c:\\Users\\UX430\\anaconda3\\lib\\site-packages\\sklearn\\metrics\\_classification.py:1308: UndefinedMetricWarning: Precision and F-score are ill-defined and being set to 0.0 in labels with no predicted samples. Use `zero_division` parameter to control this behavior.\n",
      "  _warn_prf(average, modifier, msg_start, len(result))\n",
      "c:\\Users\\UX430\\anaconda3\\lib\\site-packages\\sklearn\\metrics\\_classification.py:1308: UndefinedMetricWarning: Recall and F-score are ill-defined and being set to 0.0 in labels with no true samples. Use `zero_division` parameter to control this behavior.\n",
      "  _warn_prf(average, modifier, msg_start, len(result))\n",
      "c:\\Users\\UX430\\anaconda3\\lib\\site-packages\\sklearn\\metrics\\_classification.py:1308: UndefinedMetricWarning: Precision and F-score are ill-defined and being set to 0.0 in labels with no predicted samples. Use `zero_division` parameter to control this behavior.\n",
      "  _warn_prf(average, modifier, msg_start, len(result))\n",
      "c:\\Users\\UX430\\anaconda3\\lib\\site-packages\\sklearn\\metrics\\_classification.py:1308: UndefinedMetricWarning: Recall and F-score are ill-defined and being set to 0.0 in labels with no true samples. Use `zero_division` parameter to control this behavior.\n",
      "  _warn_prf(average, modifier, msg_start, len(result))\n",
      "c:\\Users\\UX430\\anaconda3\\lib\\site-packages\\sklearn\\metrics\\_classification.py:1308: UndefinedMetricWarning: Precision and F-score are ill-defined and being set to 0.0 in labels with no predicted samples. Use `zero_division` parameter to control this behavior.\n",
      "  _warn_prf(average, modifier, msg_start, len(result))\n",
      "c:\\Users\\UX430\\anaconda3\\lib\\site-packages\\sklearn\\metrics\\_classification.py:1308: UndefinedMetricWarning: Recall and F-score are ill-defined and being set to 0.0 in labels with no true samples. Use `zero_division` parameter to control this behavior.\n",
      "  _warn_prf(average, modifier, msg_start, len(result))\n"
     ]
    },
    {
     "name": "stdout",
     "output_type": "stream",
     "text": [
      "Epoch 1/5\n",
      "54/54 [==============================] - 10s 180ms/step - loss: 0.0144 - accuracy: 0.9962 - val_loss: 5.9579 - val_accuracy: 0.6808\n",
      "Epoch 2/5\n",
      "54/54 [==============================] - 10s 185ms/step - loss: 0.0145 - accuracy: 0.9958 - val_loss: 5.6543 - val_accuracy: 0.6800\n",
      "Epoch 3/5\n",
      "54/54 [==============================] - 10s 180ms/step - loss: 0.0141 - accuracy: 0.9963 - val_loss: 5.7006 - val_accuracy: 0.6805\n",
      "Epoch 4/5\n",
      "54/54 [==============================] - 9s 166ms/step - loss: 0.0137 - accuracy: 0.9963 - val_loss: 5.9383 - val_accuracy: 0.6801\n",
      "Epoch 5/5\n",
      "54/54 [==============================] - 10s 181ms/step - loss: 0.0136 - accuracy: 0.9963 - val_loss: 6.0878 - val_accuracy: 0.6812\n",
      "Epoch 1/5\n",
      "53/53 [==============================] - 10s 184ms/step - loss: 0.0126 - accuracy: 0.9962 - val_loss: 8.9579 - val_accuracy: 0.5163\n",
      "Epoch 2/5\n",
      "53/53 [==============================] - 10s 180ms/step - loss: 0.0124 - accuracy: 0.9963 - val_loss: 9.1875 - val_accuracy: 0.5154\n",
      "Epoch 3/5\n",
      "53/53 [==============================] - 9s 173ms/step - loss: 0.0120 - accuracy: 0.9962 - val_loss: 9.6309 - val_accuracy: 0.5155\n",
      "Epoch 4/5\n",
      "53/53 [==============================] - 8s 157ms/step - loss: 0.0120 - accuracy: 0.9964 - val_loss: 9.5695 - val_accuracy: 0.5161\n",
      "Epoch 5/5\n",
      "53/53 [==============================] - 8s 157ms/step - loss: 0.0120 - accuracy: 0.9962 - val_loss: 9.5977 - val_accuracy: 0.5150\n",
      "Epoch 1/5\n",
      "55/55 [==============================] - 9s 160ms/step - loss: 0.0112 - accuracy: 0.9965 - val_loss: 8.4685 - val_accuracy: 0.5830\n",
      "Epoch 2/5\n",
      "55/55 [==============================] - 9s 158ms/step - loss: 0.0110 - accuracy: 0.9966 - val_loss: 8.5925 - val_accuracy: 0.5836\n",
      "Epoch 3/5\n",
      "55/55 [==============================] - 9s 157ms/step - loss: 0.0108 - accuracy: 0.9966 - val_loss: 8.9542 - val_accuracy: 0.5839\n",
      "Epoch 4/5\n",
      "55/55 [==============================] - 9s 157ms/step - loss: 0.0108 - accuracy: 0.9966 - val_loss: 8.6665 - val_accuracy: 0.5831\n",
      "Epoch 5/5\n",
      "55/55 [==============================] - 9s 155ms/step - loss: 0.0102 - accuracy: 0.9968 - val_loss: 9.2516 - val_accuracy: 0.5842\n",
      "  38/4279 [..............................] - ETA: 11s - loss: 1.5738 - accuracy: 0.9211"
     ]
    },
    {
     "name": "stderr",
     "output_type": "stream",
     "text": [
      "c:\\Users\\UX430\\anaconda3\\lib\\site-packages\\numpy\\core\\_asarray.py:171: VisibleDeprecationWarning: Creating an ndarray from ragged nested sequences (which is a list-or-tuple of lists-or-tuples-or ndarrays with different lengths or shapes) is deprecated. If you meant to do this, you must specify 'dtype=object' when creating the ndarray.\n",
      "  return array(a, dtype, copy=False, order=order, subok=True)\n"
     ]
    },
    {
     "name": "stdout",
     "output_type": "stream",
     "text": [
      "4279/4279 [==============================] - 11s 3ms/step - loss: 1.7365 - accuracy: 0.9140\n",
      "   1/1721 [..............................] - ETA: 0s - loss: 15.6772 - accuracy: 0.0000e+00"
     ]
    },
    {
     "name": "stderr",
     "output_type": "stream",
     "text": [
      "c:\\Users\\UX430\\anaconda3\\lib\\site-packages\\sklearn\\metrics\\_classification.py:1308: UndefinedMetricWarning: Precision and F-score are ill-defined and being set to 0.0 in labels with no predicted samples. Use `zero_division` parameter to control this behavior.\n",
      "  _warn_prf(average, modifier, msg_start, len(result))\n",
      "c:\\Users\\UX430\\anaconda3\\lib\\site-packages\\sklearn\\metrics\\_classification.py:1308: UndefinedMetricWarning: Recall and F-score are ill-defined and being set to 0.0 in labels with no true samples. Use `zero_division` parameter to control this behavior.\n",
      "  _warn_prf(average, modifier, msg_start, len(result))\n",
      "c:\\Users\\UX430\\anaconda3\\lib\\site-packages\\sklearn\\metrics\\_classification.py:1308: UndefinedMetricWarning: Precision and F-score are ill-defined and being set to 0.0 in labels with no predicted samples. Use `zero_division` parameter to control this behavior.\n",
      "  _warn_prf(average, modifier, msg_start, len(result))\n",
      "c:\\Users\\UX430\\anaconda3\\lib\\site-packages\\sklearn\\metrics\\_classification.py:1308: UndefinedMetricWarning: Recall and F-score are ill-defined and being set to 0.0 in labels with no true samples. Use `zero_division` parameter to control this behavior.\n",
      "  _warn_prf(average, modifier, msg_start, len(result))\n",
      "c:\\Users\\UX430\\anaconda3\\lib\\site-packages\\sklearn\\metrics\\_classification.py:1308: UndefinedMetricWarning: Precision and F-score are ill-defined and being set to 0.0 in labels with no predicted samples. Use `zero_division` parameter to control this behavior.\n",
      "  _warn_prf(average, modifier, msg_start, len(result))\n",
      "c:\\Users\\UX430\\anaconda3\\lib\\site-packages\\sklearn\\metrics\\_classification.py:1308: UndefinedMetricWarning: Recall and F-score are ill-defined and being set to 0.0 in labels with no true samples. Use `zero_division` parameter to control this behavior.\n",
      "  _warn_prf(average, modifier, msg_start, len(result))\n"
     ]
    },
    {
     "name": "stdout",
     "output_type": "stream",
     "text": [
      "1721/1721 [==============================] - 5s 3ms/step - loss: 7.8841 - accuracy: 0.5553\n"
     ]
    },
    {
     "name": "stderr",
     "output_type": "stream",
     "text": [
      "c:\\Users\\UX430\\anaconda3\\lib\\site-packages\\sklearn\\metrics\\_classification.py:1308: UndefinedMetricWarning: Precision and F-score are ill-defined and being set to 0.0 in labels with no predicted samples. Use `zero_division` parameter to control this behavior.\n",
      "  _warn_prf(average, modifier, msg_start, len(result))\n",
      "c:\\Users\\UX430\\anaconda3\\lib\\site-packages\\sklearn\\metrics\\_classification.py:1308: UndefinedMetricWarning: Recall and F-score are ill-defined and being set to 0.0 in labels with no true samples. Use `zero_division` parameter to control this behavior.\n",
      "  _warn_prf(average, modifier, msg_start, len(result))\n",
      "c:\\Users\\UX430\\anaconda3\\lib\\site-packages\\sklearn\\metrics\\_classification.py:1308: UndefinedMetricWarning: Precision and F-score are ill-defined and being set to 0.0 in labels with no predicted samples. Use `zero_division` parameter to control this behavior.\n",
      "  _warn_prf(average, modifier, msg_start, len(result))\n",
      "c:\\Users\\UX430\\anaconda3\\lib\\site-packages\\sklearn\\metrics\\_classification.py:1308: UndefinedMetricWarning: Recall and F-score are ill-defined and being set to 0.0 in labels with no true samples. Use `zero_division` parameter to control this behavior.\n",
      "  _warn_prf(average, modifier, msg_start, len(result))\n",
      "c:\\Users\\UX430\\anaconda3\\lib\\site-packages\\sklearn\\metrics\\_classification.py:1308: UndefinedMetricWarning: Precision and F-score are ill-defined and being set to 0.0 in labels with no predicted samples. Use `zero_division` parameter to control this behavior.\n",
      "  _warn_prf(average, modifier, msg_start, len(result))\n",
      "c:\\Users\\UX430\\anaconda3\\lib\\site-packages\\sklearn\\metrics\\_classification.py:1308: UndefinedMetricWarning: Recall and F-score are ill-defined and being set to 0.0 in labels with no true samples. Use `zero_division` parameter to control this behavior.\n",
      "  _warn_prf(average, modifier, msg_start, len(result))\n"
     ]
    },
    {
     "name": "stdout",
     "output_type": "stream",
     "text": [
      "Epoch 1/5\n",
      "54/54 [==============================] - 10s 185ms/step - loss: 0.0124 - accuracy: 0.9966 - val_loss: 6.7506 - val_accuracy: 0.6801\n",
      "Epoch 2/5\n",
      "54/54 [==============================] - 10s 190ms/step - loss: 0.0122 - accuracy: 0.9966 - val_loss: 6.8973 - val_accuracy: 0.6804\n",
      "Epoch 3/5\n",
      "54/54 [==============================] - 10s 184ms/step - loss: 0.0119 - accuracy: 0.9964 - val_loss: 7.0875 - val_accuracy: 0.6811\n",
      "Epoch 4/5\n",
      "54/54 [==============================] - 9s 171ms/step - loss: 0.0113 - accuracy: 0.9966 - val_loss: 7.3714 - val_accuracy: 0.6808\n",
      "Epoch 5/5\n",
      "54/54 [==============================] - 10s 187ms/step - loss: 0.0116 - accuracy: 0.9967 - val_loss: 7.6973 - val_accuracy: 0.6798\n",
      "Epoch 1/5\n",
      "53/53 [==============================] - 11s 201ms/step - loss: 0.0104 - accuracy: 0.9968 - val_loss: 11.2132 - val_accuracy: 0.5158\n",
      "Epoch 2/5\n",
      "53/53 [==============================] - 10s 189ms/step - loss: 0.0099 - accuracy: 0.9969 - val_loss: 11.6146 - val_accuracy: 0.5151\n",
      "Epoch 3/5\n",
      "53/53 [==============================] - 9s 172ms/step - loss: 0.0101 - accuracy: 0.9967 - val_loss: 11.8038 - val_accuracy: 0.5156\n",
      "Epoch 4/5\n",
      "53/53 [==============================] - 9s 172ms/step - loss: 0.0098 - accuracy: 0.9966 - val_loss: 11.7913 - val_accuracy: 0.5164\n",
      "Epoch 5/5\n",
      "53/53 [==============================] - 10s 187ms/step - loss: 0.0093 - accuracy: 0.9970 - val_loss: 12.0221 - val_accuracy: 0.5163\n",
      "Epoch 1/5\n",
      "55/55 [==============================] - 11s 200ms/step - loss: 0.0098 - accuracy: 0.9968 - val_loss: 10.0363 - val_accuracy: 0.5828\n",
      "Epoch 2/5\n",
      "55/55 [==============================] - 10s 178ms/step - loss: 0.0088 - accuracy: 0.9973 - val_loss: 10.2801 - val_accuracy: 0.5836\n",
      "Epoch 3/5\n",
      "55/55 [==============================] - 10s 175ms/step - loss: 0.0090 - accuracy: 0.9971 - val_loss: 10.4796 - val_accuracy: 0.5840\n",
      "Epoch 4/5\n",
      "55/55 [==============================] - 10s 182ms/step - loss: 0.0087 - accuracy: 0.9972 - val_loss: 10.4161 - val_accuracy: 0.5839\n",
      "Epoch 5/5\n",
      "55/55 [==============================] - 10s 178ms/step - loss: 0.0089 - accuracy: 0.9969 - val_loss: 10.4921 - val_accuracy: 0.5846\n",
      "  29/4279 [..............................] - ETA: 15s - loss: 1.8396 - accuracy: 0.9246"
     ]
    },
    {
     "name": "stderr",
     "output_type": "stream",
     "text": [
      "c:\\Users\\UX430\\anaconda3\\lib\\site-packages\\numpy\\core\\_asarray.py:171: VisibleDeprecationWarning: Creating an ndarray from ragged nested sequences (which is a list-or-tuple of lists-or-tuples-or ndarrays with different lengths or shapes) is deprecated. If you meant to do this, you must specify 'dtype=object' when creating the ndarray.\n",
      "  return array(a, dtype, copy=False, order=order, subok=True)\n"
     ]
    },
    {
     "name": "stdout",
     "output_type": "stream",
     "text": [
      "4279/4279 [==============================] - 12s 3ms/step - loss: 2.0826 - accuracy: 0.9149\n",
      "   1/1721 [..............................] - ETA: 0s - loss: 19.2136 - accuracy: 0.0000e+00"
     ]
    },
    {
     "name": "stderr",
     "output_type": "stream",
     "text": [
      "c:\\Users\\UX430\\anaconda3\\lib\\site-packages\\sklearn\\metrics\\_classification.py:1308: UndefinedMetricWarning: Precision and F-score are ill-defined and being set to 0.0 in labels with no predicted samples. Use `zero_division` parameter to control this behavior.\n",
      "  _warn_prf(average, modifier, msg_start, len(result))\n",
      "c:\\Users\\UX430\\anaconda3\\lib\\site-packages\\sklearn\\metrics\\_classification.py:1308: UndefinedMetricWarning: Recall and F-score are ill-defined and being set to 0.0 in labels with no true samples. Use `zero_division` parameter to control this behavior.\n",
      "  _warn_prf(average, modifier, msg_start, len(result))\n",
      "c:\\Users\\UX430\\anaconda3\\lib\\site-packages\\sklearn\\metrics\\_classification.py:1308: UndefinedMetricWarning: Precision and F-score are ill-defined and being set to 0.0 in labels with no predicted samples. Use `zero_division` parameter to control this behavior.\n",
      "  _warn_prf(average, modifier, msg_start, len(result))\n",
      "c:\\Users\\UX430\\anaconda3\\lib\\site-packages\\sklearn\\metrics\\_classification.py:1308: UndefinedMetricWarning: Recall and F-score are ill-defined and being set to 0.0 in labels with no true samples. Use `zero_division` parameter to control this behavior.\n",
      "  _warn_prf(average, modifier, msg_start, len(result))\n",
      "c:\\Users\\UX430\\anaconda3\\lib\\site-packages\\sklearn\\metrics\\_classification.py:1308: UndefinedMetricWarning: Precision and F-score are ill-defined and being set to 0.0 in labels with no predicted samples. Use `zero_division` parameter to control this behavior.\n",
      "  _warn_prf(average, modifier, msg_start, len(result))\n",
      "c:\\Users\\UX430\\anaconda3\\lib\\site-packages\\sklearn\\metrics\\_classification.py:1308: UndefinedMetricWarning: Recall and F-score are ill-defined and being set to 0.0 in labels with no true samples. Use `zero_division` parameter to control this behavior.\n",
      "  _warn_prf(average, modifier, msg_start, len(result))\n"
     ]
    },
    {
     "name": "stdout",
     "output_type": "stream",
     "text": [
      "1721/1721 [==============================] - 5s 3ms/step - loss: 9.6066 - accuracy: 0.5564\n"
     ]
    },
    {
     "name": "stderr",
     "output_type": "stream",
     "text": [
      "c:\\Users\\UX430\\anaconda3\\lib\\site-packages\\sklearn\\metrics\\_classification.py:1308: UndefinedMetricWarning: Precision and F-score are ill-defined and being set to 0.0 in labels with no predicted samples. Use `zero_division` parameter to control this behavior.\n",
      "  _warn_prf(average, modifier, msg_start, len(result))\n",
      "c:\\Users\\UX430\\anaconda3\\lib\\site-packages\\sklearn\\metrics\\_classification.py:1308: UndefinedMetricWarning: Recall and F-score are ill-defined and being set to 0.0 in labels with no true samples. Use `zero_division` parameter to control this behavior.\n",
      "  _warn_prf(average, modifier, msg_start, len(result))\n",
      "c:\\Users\\UX430\\anaconda3\\lib\\site-packages\\sklearn\\metrics\\_classification.py:1308: UndefinedMetricWarning: Precision and F-score are ill-defined and being set to 0.0 in labels with no predicted samples. Use `zero_division` parameter to control this behavior.\n",
      "  _warn_prf(average, modifier, msg_start, len(result))\n",
      "c:\\Users\\UX430\\anaconda3\\lib\\site-packages\\sklearn\\metrics\\_classification.py:1308: UndefinedMetricWarning: Recall and F-score are ill-defined and being set to 0.0 in labels with no true samples. Use `zero_division` parameter to control this behavior.\n",
      "  _warn_prf(average, modifier, msg_start, len(result))\n",
      "c:\\Users\\UX430\\anaconda3\\lib\\site-packages\\sklearn\\metrics\\_classification.py:1308: UndefinedMetricWarning: Precision and F-score are ill-defined and being set to 0.0 in labels with no predicted samples. Use `zero_division` parameter to control this behavior.\n",
      "  _warn_prf(average, modifier, msg_start, len(result))\n",
      "c:\\Users\\UX430\\anaconda3\\lib\\site-packages\\sklearn\\metrics\\_classification.py:1308: UndefinedMetricWarning: Recall and F-score are ill-defined and being set to 0.0 in labels with no true samples. Use `zero_division` parameter to control this behavior.\n",
      "  _warn_prf(average, modifier, msg_start, len(result))\n"
     ]
    },
    {
     "name": "stdout",
     "output_type": "stream",
     "text": [
      "Epoch 1/5\n",
      "54/54 [==============================] - 10s 179ms/step - loss: 0.0104 - accuracy: 0.9969 - val_loss: 8.1466 - val_accuracy: 0.6806\n",
      "Epoch 2/5\n",
      "54/54 [==============================] - 10s 181ms/step - loss: 0.0102 - accuracy: 0.9969 - val_loss: 8.2220 - val_accuracy: 0.6802\n",
      "Epoch 3/5\n",
      "54/54 [==============================] - 10s 178ms/step - loss: 0.0097 - accuracy: 0.9970 - val_loss: 8.3499 - val_accuracy: 0.6808\n",
      "Epoch 4/5\n",
      "54/54 [==============================] - 9s 174ms/step - loss: 0.0103 - accuracy: 0.9973 - val_loss: 8.2859 - val_accuracy: 0.6796\n",
      "Epoch 5/5\n",
      "54/54 [==============================] - 11s 197ms/step - loss: 0.0095 - accuracy: 0.9973 - val_loss: 8.4620 - val_accuracy: 0.6807\n",
      "Epoch 1/5\n",
      "53/53 [==============================] - 10s 192ms/step - loss: 0.0093 - accuracy: 0.9969 - val_loss: 11.7930 - val_accuracy: 0.5157\n",
      "Epoch 2/5\n",
      "53/53 [==============================] - 9s 177ms/step - loss: 0.0085 - accuracy: 0.9972 - val_loss: 12.1163 - val_accuracy: 0.5153\n",
      "Epoch 3/5\n",
      "53/53 [==============================] - 9s 174ms/step - loss: 0.0088 - accuracy: 0.9971 - val_loss: 12.1610 - val_accuracy: 0.5161\n",
      "Epoch 4/5\n",
      "53/53 [==============================] - 9s 176ms/step - loss: 0.0084 - accuracy: 0.9972 - val_loss: 12.1678 - val_accuracy: 0.5153\n",
      "Epoch 5/5\n",
      "53/53 [==============================] - 10s 195ms/step - loss: 0.0082 - accuracy: 0.9975 - val_loss: 12.1651 - val_accuracy: 0.5153\n",
      "Epoch 1/5\n",
      "55/55 [==============================] - 10s 180ms/step - loss: 0.0083 - accuracy: 0.9974 - val_loss: 10.6582 - val_accuracy: 0.5839\n",
      "Epoch 2/5\n",
      "55/55 [==============================] - 10s 190ms/step - loss: 0.0083 - accuracy: 0.9974 - val_loss: 10.4832 - val_accuracy: 0.5833\n",
      "Epoch 3/5\n",
      "55/55 [==============================] - 10s 189ms/step - loss: 0.0080 - accuracy: 0.9975 - val_loss: 10.4247 - val_accuracy: 0.5827\n",
      "Epoch 4/5\n",
      "55/55 [==============================] - 10s 184ms/step - loss: 0.0077 - accuracy: 0.9975 - val_loss: 10.4390 - val_accuracy: 0.5834\n",
      "Epoch 5/5\n",
      "55/55 [==============================] - 11s 204ms/step - loss: 0.0076 - accuracy: 0.9976 - val_loss: 10.5059 - val_accuracy: 0.5833\n",
      "  15/4279 [..............................] - ETA: 15s - loss: 2.0723 - accuracy: 0.9167"
     ]
    },
    {
     "name": "stderr",
     "output_type": "stream",
     "text": [
      "c:\\Users\\UX430\\anaconda3\\lib\\site-packages\\numpy\\core\\_asarray.py:171: VisibleDeprecationWarning: Creating an ndarray from ragged nested sequences (which is a list-or-tuple of lists-or-tuples-or ndarrays with different lengths or shapes) is deprecated. If you meant to do this, you must specify 'dtype=object' when creating the ndarray.\n",
      "  return array(a, dtype, copy=False, order=order, subok=True)\n"
     ]
    },
    {
     "name": "stdout",
     "output_type": "stream",
     "text": [
      "4279/4279 [==============================] - 12s 3ms/step - loss: 2.2064 - accuracy: 0.9160\n",
      "   1/1721 [..............................] - ETA: 0s - loss: 20.4746 - accuracy: 0.0000e+00"
     ]
    },
    {
     "name": "stderr",
     "output_type": "stream",
     "text": [
      "c:\\Users\\UX430\\anaconda3\\lib\\site-packages\\sklearn\\metrics\\_classification.py:1308: UndefinedMetricWarning: Precision and F-score are ill-defined and being set to 0.0 in labels with no predicted samples. Use `zero_division` parameter to control this behavior.\n",
      "  _warn_prf(average, modifier, msg_start, len(result))\n",
      "c:\\Users\\UX430\\anaconda3\\lib\\site-packages\\sklearn\\metrics\\_classification.py:1308: UndefinedMetricWarning: Recall and F-score are ill-defined and being set to 0.0 in labels with no true samples. Use `zero_division` parameter to control this behavior.\n",
      "  _warn_prf(average, modifier, msg_start, len(result))\n",
      "c:\\Users\\UX430\\anaconda3\\lib\\site-packages\\sklearn\\metrics\\_classification.py:1308: UndefinedMetricWarning: Precision and F-score are ill-defined and being set to 0.0 in labels with no predicted samples. Use `zero_division` parameter to control this behavior.\n",
      "  _warn_prf(average, modifier, msg_start, len(result))\n",
      "c:\\Users\\UX430\\anaconda3\\lib\\site-packages\\sklearn\\metrics\\_classification.py:1308: UndefinedMetricWarning: Recall and F-score are ill-defined and being set to 0.0 in labels with no true samples. Use `zero_division` parameter to control this behavior.\n",
      "  _warn_prf(average, modifier, msg_start, len(result))\n",
      "c:\\Users\\UX430\\anaconda3\\lib\\site-packages\\sklearn\\metrics\\_classification.py:1308: UndefinedMetricWarning: Precision and F-score are ill-defined and being set to 0.0 in labels with no predicted samples. Use `zero_division` parameter to control this behavior.\n",
      "  _warn_prf(average, modifier, msg_start, len(result))\n",
      "c:\\Users\\UX430\\anaconda3\\lib\\site-packages\\sklearn\\metrics\\_classification.py:1308: UndefinedMetricWarning: Recall and F-score are ill-defined and being set to 0.0 in labels with no true samples. Use `zero_division` parameter to control this behavior.\n",
      "  _warn_prf(average, modifier, msg_start, len(result))\n"
     ]
    },
    {
     "name": "stdout",
     "output_type": "stream",
     "text": [
      "1721/1721 [==============================] - 5s 3ms/step - loss: 10.0403 - accuracy: 0.5581\n"
     ]
    },
    {
     "name": "stderr",
     "output_type": "stream",
     "text": [
      "c:\\Users\\UX430\\anaconda3\\lib\\site-packages\\sklearn\\metrics\\_classification.py:1308: UndefinedMetricWarning: Precision and F-score are ill-defined and being set to 0.0 in labels with no predicted samples. Use `zero_division` parameter to control this behavior.\n",
      "  _warn_prf(average, modifier, msg_start, len(result))\n",
      "c:\\Users\\UX430\\anaconda3\\lib\\site-packages\\sklearn\\metrics\\_classification.py:1308: UndefinedMetricWarning: Recall and F-score are ill-defined and being set to 0.0 in labels with no true samples. Use `zero_division` parameter to control this behavior.\n",
      "  _warn_prf(average, modifier, msg_start, len(result))\n",
      "c:\\Users\\UX430\\anaconda3\\lib\\site-packages\\sklearn\\metrics\\_classification.py:1308: UndefinedMetricWarning: Precision and F-score are ill-defined and being set to 0.0 in labels with no predicted samples. Use `zero_division` parameter to control this behavior.\n",
      "  _warn_prf(average, modifier, msg_start, len(result))\n",
      "c:\\Users\\UX430\\anaconda3\\lib\\site-packages\\sklearn\\metrics\\_classification.py:1308: UndefinedMetricWarning: Recall and F-score are ill-defined and being set to 0.0 in labels with no true samples. Use `zero_division` parameter to control this behavior.\n",
      "  _warn_prf(average, modifier, msg_start, len(result))\n",
      "c:\\Users\\UX430\\anaconda3\\lib\\site-packages\\sklearn\\metrics\\_classification.py:1308: UndefinedMetricWarning: Precision and F-score are ill-defined and being set to 0.0 in labels with no predicted samples. Use `zero_division` parameter to control this behavior.\n",
      "  _warn_prf(average, modifier, msg_start, len(result))\n",
      "c:\\Users\\UX430\\anaconda3\\lib\\site-packages\\sklearn\\metrics\\_classification.py:1308: UndefinedMetricWarning: Recall and F-score are ill-defined and being set to 0.0 in labels with no true samples. Use `zero_division` parameter to control this behavior.\n",
      "  _warn_prf(average, modifier, msg_start, len(result))\n"
     ]
    }
   ],
   "source": [
    "# Values saved each iteration \n",
    "loss_it = []\n",
    "accuracy_it = []\n",
    "f1_it = []\n",
    "precision_it = []\n",
    "recall_it = []\n",
    "\n",
    "for i in range(global_updates): \n",
    "    w_list = []\n",
    "    for node in range(num_nodes): \n",
    "        cp = global_model # create a copy of the global model\n",
    "        if node == 0:\n",
    "            x, y = x1, y1\n",
    "        elif node == 1:\n",
    "            x, y = x2, y2\n",
    "        else:\n",
    "            x, y = x3, y3\n",
    "        local_model, local_loss, local_acc, local_val_loss, local_val_acc = train_local_model(cp, node, x, y)\n",
    "        w_list.append(local_model.get_weights())\n",
    "\n",
    "    avg_w = aggregate(w_list)\n",
    "    global_model.set_weights(avg_w) # apply gradients to global model\n",
    "    loss_basic, accuracy_basic, f1_basic, precision_basic, recall_basic = evaluation(global_model, xbasic, ybasic) # Evaluate with test basic to know progress\n",
    "    loss_plus, accuracy_plus, f1_plus, precision_plus, recall_plus = evaluation(global_model, xplus, yplus) # Evaluate with test plus to know progress\n",
    "\n",
    "    loss_it.append([loss_basic, loss_plus])\n",
    "    accuracy_it.append([accuracy_basic, accuracy_plus])\n",
    "    f1_it.append([f1_basic, f1_plus])\n",
    "    precision_it.append([precision_basic, precision_plus])\n",
    "    recall_it.append([recall_basic, recall_plus])\n",
    "\n",
    "\n",
    "global_model.save('C:/Users/UX430/Documents/thesis/code/models/id304.hdf5')"
   ]
  },
  {
   "cell_type": "code",
   "execution_count": 36,
   "metadata": {},
   "outputs": [
    {
     "name": "stdout",
     "output_type": "stream",
     "text": [
      "Loss for iterations:  [[1.4359604120254517, 7.112841606140137], [1.6044093370437622, 7.358659267425537], [1.736537218093872, 7.884057998657227], [2.0826218128204346, 9.606614112854004], [2.206364631652832, 10.0403470993042]]\n",
      "Accuracy for iterations:  [[0.911522388458252, 0.5522596836090088], [0.9135236144065857, 0.5545302629470825], [0.9139837622642517, 0.555275022983551], [0.9148967266082764, 0.5564375519752502], [0.9159703850746155, 0.5580723881721497]]\n",
      "F1 for iterations:  [[0.8760833283546495, 0.5207571707766672], [0.8770962356555084, 0.47590185917698785], [0.8775741753837639, 0.4619211780526143], [0.8781152963210125, 0.445533934317854], [0.8786184405157615, 0.4269650207746981]]\n",
      "Precision for iterations:  [[0.8473510681159582, 0.49265470252187243], [0.8457493253133496, 0.41680229176531497], [0.8462888499301466, 0.39543922391595], [0.8459027268109403, 0.3714918599609001], [0.8449393528483647, 0.3457405593170671]]\n",
      "Recall for iterations:  [[0.9115223932922376, 0.5522596817554313], [0.9135236203219492, 0.5545302622974642], [0.9139837564638172, 0.555275012715251], [0.9148967249992697, 0.556437549952772], [0.9159703759969616, 0.5580723679430357]]\n"
     ]
    }
   ],
   "source": [
    "print(\"Loss for iterations: \", loss_it)\n",
    "print(\"Accuracy for iterations: \", accuracy_it)\n",
    "print(\"F1 for iterations: \", f1_it)\n",
    "print(\"Precision for iterations: \", precision_it)\n",
    "print(\"Recall for iterations: \", recall_it)"
   ]
  },
  {
   "cell_type": "markdown",
   "metadata": {},
   "source": [
    "#### DATASET 3F"
   ]
  },
  {
   "cell_type": "code",
   "execution_count": 37,
   "metadata": {},
   "outputs": [
    {
     "name": "stderr",
     "output_type": "stream",
     "text": [
      "C:\\Users\\UX430\\AppData\\Local\\Temp/ipykernel_15288/3013475373.py:2: DtypeWarning: Columns (4) have mixed types. Specify dtype option on import or set low_memory=False.\n",
      "  training1 = pd.read_csv('C:/Users/UX430/Documents/thesis/datasets/UNSW-NB15/UNSW-NB15-Train-Basic-3F-Part1.csv')\n",
      "C:\\Users\\UX430\\AppData\\Local\\Temp/ipykernel_15288/3013475373.py:3: DtypeWarning: Columns (2,4) have mixed types. Specify dtype option on import or set low_memory=False.\n",
      "  training2 = pd.read_csv('C:/Users/UX430/Documents/thesis/datasets/UNSW-NB15/UNSW-NB15-Train-Basic-3F-Part2.csv')\n",
      "C:\\Users\\UX430\\AppData\\Local\\Temp/ipykernel_15288/3013475373.py:4: DtypeWarning: Columns (4) have mixed types. Specify dtype option on import or set low_memory=False.\n",
      "  training3 = pd.read_csv('C:/Users/UX430/Documents/thesis/datasets/UNSW-NB15/UNSW-NB15-Train-Basic-3F-Part3.csv')\n"
     ]
    }
   ],
   "source": [
    "# Load training datasets and testing datasets \n",
    "training1 = pd.read_csv('C:/Users/UX430/Documents/thesis/datasets/UNSW-NB15/UNSW-NB15-Train-Basic-3F-Part1.csv')\n",
    "training2 = pd.read_csv('C:/Users/UX430/Documents/thesis/datasets/UNSW-NB15/UNSW-NB15-Train-Basic-3F-Part2.csv')\n",
    "training3 = pd.read_csv('C:/Users/UX430/Documents/thesis/datasets/UNSW-NB15/UNSW-NB15-Train-Basic-3F-Part3.csv')"
   ]
  },
  {
   "cell_type": "code",
   "execution_count": 38,
   "metadata": {},
   "outputs": [],
   "source": [
    "# Define \n",
    "node_datasets = [training1, training2, training3]\n",
    "num_nodes = 3\n",
    "global_updates = 5\n",
    "\n",
    "# Define model training parameters\n",
    "loss_fct = \"categorical_crossentropy\"\n",
    "metrics = ['accuracy']\n",
    "local_epochs = 5"
   ]
  },
  {
   "cell_type": "code",
   "execution_count": 39,
   "metadata": {},
   "outputs": [],
   "source": [
    "def train_local_model(model, node, x_train, y_train): \n",
    "    filepath = 'C:/Users/UX430/Documents/thesis/code/models/node'+str(node)+'ID305.hdf5'\n",
    "    callbacks = [\n",
    "            keras.callbacks.EarlyStopping(\n",
    "                monitor = 'val_loss', # Use accuracy to monitor the model\n",
    "                patience = 10 # Stop after 10 steps with lower accuracy\n",
    "            ),\n",
    "            keras.callbacks.ModelCheckpoint(\n",
    "                filepath = filepath, # file where the checkpoint is saved\n",
    "                monitor = 'val_loss', # Don't overwrite the saved model unless val_loss is worse\n",
    "                save_best_only = True)]# Only save model if it is the best\n",
    "    optimizer = keras.optimizers.Adam(learning_rate=5e-4)\n",
    "    model.compile(optimizer=optimizer, loss=loss_fct, metrics=metrics)\n",
    "    history = model.fit(x_train, y_train, epochs=local_epochs, validation_split=0.2, callbacks=callbacks, batch_size=2048)\n",
    "    return model, history.history['loss'], history.history['accuracy'], history.history['val_loss'], history.history['val_accuracy']"
   ]
  },
  {
   "cell_type": "code",
   "execution_count": 40,
   "metadata": {},
   "outputs": [],
   "source": [
    "def aggregate(w_list): \n",
    "    avg_w = np.mean(w_list, axis=0)\n",
    "    return avg_w"
   ]
  },
  {
   "cell_type": "code",
   "execution_count": 41,
   "metadata": {},
   "outputs": [],
   "source": [
    "global_model = build_model((24,1,1))"
   ]
  },
  {
   "cell_type": "code",
   "execution_count": 42,
   "metadata": {},
   "outputs": [],
   "source": [
    "x1, y1 = preprocessing(training1)\n",
    "x2, y2 = preprocessing(training2)\n",
    "x3, y3 = preprocessing(training3)\n",
    "xbasic, ybasic = preprocessing(test_basic)\n",
    "xplus, yplus = preprocessing(test_plus)"
   ]
  },
  {
   "cell_type": "code",
   "execution_count": 43,
   "metadata": {},
   "outputs": [
    {
     "name": "stdout",
     "output_type": "stream",
     "text": [
      "Epoch 1/5\n",
      "34/34 [==============================] - 6s 165ms/step - loss: 1.1694 - accuracy: 0.7470 - val_loss: 6.1846 - val_accuracy: 0.0000e+00\n",
      "Epoch 2/5\n",
      "34/34 [==============================] - 6s 179ms/step - loss: 0.2046 - accuracy: 0.9681 - val_loss: 6.2975 - val_accuracy: 0.0000e+00\n",
      "Epoch 3/5\n",
      "34/34 [==============================] - 6s 190ms/step - loss: 0.0969 - accuracy: 0.9757 - val_loss: 6.6804 - val_accuracy: 0.0015\n",
      "Epoch 4/5\n",
      "34/34 [==============================] - 6s 188ms/step - loss: 0.0702 - accuracy: 0.9770 - val_loss: 6.9352 - val_accuracy: 0.0481\n",
      "Epoch 5/5\n",
      "34/34 [==============================] - 6s 182ms/step - loss: 0.0619 - accuracy: 0.9779 - val_loss: 7.1748 - val_accuracy: 0.0765\n",
      "Epoch 1/5\n",
      "53/53 [==============================] - 10s 196ms/step - loss: 0.0265 - accuracy: 0.9919 - val_loss: 0.0223 - val_accuracy: 0.9883\n",
      "Epoch 2/5\n",
      "53/53 [==============================] - 11s 209ms/step - loss: 0.0213 - accuracy: 0.9928 - val_loss: 0.0218 - val_accuracy: 0.9882\n",
      "Epoch 3/5\n",
      "53/53 [==============================] - 11s 201ms/step - loss: 0.0188 - accuracy: 0.9940 - val_loss: 0.0201 - val_accuracy: 0.9907\n",
      "Epoch 4/5\n",
      "53/53 [==============================] - 11s 208ms/step - loss: 0.0174 - accuracy: 0.9945 - val_loss: 0.0200 - val_accuracy: 0.9899\n",
      "Epoch 5/5\n",
      "53/53 [==============================] - 9s 162ms/step - loss: 0.0159 - accuracy: 0.9951 - val_loss: 0.0102 - val_accuracy: 0.9967\n",
      "Epoch 1/5\n",
      "75/75 [==============================] - 12s 165ms/step - loss: 0.0151 - accuracy: 0.9952 - val_loss: 5.5398 - val_accuracy: 0.6017\n",
      "Epoch 2/5\n",
      "75/75 [==============================] - 12s 165ms/step - loss: 0.0145 - accuracy: 0.9955 - val_loss: 5.7035 - val_accuracy: 0.6045\n",
      "Epoch 3/5\n",
      "75/75 [==============================] - 12s 163ms/step - loss: 0.0136 - accuracy: 0.9959 - val_loss: 6.3212 - val_accuracy: 0.6028\n",
      "Epoch 4/5\n",
      "75/75 [==============================] - 13s 167ms/step - loss: 0.0133 - accuracy: 0.9958 - val_loss: 6.4423 - val_accuracy: 0.6038\n",
      "Epoch 5/5\n",
      "75/75 [==============================] - 13s 167ms/step - loss: 0.0134 - accuracy: 0.9960 - val_loss: 6.2551 - val_accuracy: 0.6026\n",
      "  36/4279 [..............................] - ETA: 12s - loss: 0.8840 - accuracy: 0.9236"
     ]
    },
    {
     "name": "stderr",
     "output_type": "stream",
     "text": [
      "c:\\Users\\UX430\\anaconda3\\lib\\site-packages\\numpy\\core\\_asarray.py:171: VisibleDeprecationWarning: Creating an ndarray from ragged nested sequences (which is a list-or-tuple of lists-or-tuples-or ndarrays with different lengths or shapes) is deprecated. If you meant to do this, you must specify 'dtype=object' when creating the ndarray.\n",
      "  return array(a, dtype, copy=False, order=order, subok=True)\n"
     ]
    },
    {
     "name": "stdout",
     "output_type": "stream",
     "text": [
      "4279/4279 [==============================] - 12s 3ms/step - loss: 0.9912 - accuracy: 0.9120 0s - loss: 0.9917 - accu\n",
      "   1/1721 [..............................] - ETA: 0s - loss: 14.4072 - accuracy: 0.0000e+00"
     ]
    },
    {
     "name": "stderr",
     "output_type": "stream",
     "text": [
      "c:\\Users\\UX430\\anaconda3\\lib\\site-packages\\sklearn\\metrics\\_classification.py:1308: UndefinedMetricWarning: Precision and F-score are ill-defined and being set to 0.0 in labels with no predicted samples. Use `zero_division` parameter to control this behavior.\n",
      "  _warn_prf(average, modifier, msg_start, len(result))\n",
      "c:\\Users\\UX430\\anaconda3\\lib\\site-packages\\sklearn\\metrics\\_classification.py:1308: UndefinedMetricWarning: Recall and F-score are ill-defined and being set to 0.0 in labels with no true samples. Use `zero_division` parameter to control this behavior.\n",
      "  _warn_prf(average, modifier, msg_start, len(result))\n",
      "c:\\Users\\UX430\\anaconda3\\lib\\site-packages\\sklearn\\metrics\\_classification.py:1308: UndefinedMetricWarning: Precision and F-score are ill-defined and being set to 0.0 in labels with no predicted samples. Use `zero_division` parameter to control this behavior.\n",
      "  _warn_prf(average, modifier, msg_start, len(result))\n",
      "c:\\Users\\UX430\\anaconda3\\lib\\site-packages\\sklearn\\metrics\\_classification.py:1308: UndefinedMetricWarning: Recall and F-score are ill-defined and being set to 0.0 in labels with no true samples. Use `zero_division` parameter to control this behavior.\n",
      "  _warn_prf(average, modifier, msg_start, len(result))\n",
      "c:\\Users\\UX430\\anaconda3\\lib\\site-packages\\sklearn\\metrics\\_classification.py:1308: UndefinedMetricWarning: Precision and F-score are ill-defined and being set to 0.0 in labels with no predicted samples. Use `zero_division` parameter to control this behavior.\n",
      "  _warn_prf(average, modifier, msg_start, len(result))\n",
      "c:\\Users\\UX430\\anaconda3\\lib\\site-packages\\sklearn\\metrics\\_classification.py:1308: UndefinedMetricWarning: Recall and F-score are ill-defined and being set to 0.0 in labels with no true samples. Use `zero_division` parameter to control this behavior.\n",
      "  _warn_prf(average, modifier, msg_start, len(result))\n"
     ]
    },
    {
     "name": "stdout",
     "output_type": "stream",
     "text": [
      "1721/1721 [==============================] - 5s 3ms/step - loss: 6.7744 - accuracy: 0.5530\n"
     ]
    },
    {
     "name": "stderr",
     "output_type": "stream",
     "text": [
      "c:\\Users\\UX430\\anaconda3\\lib\\site-packages\\sklearn\\metrics\\_classification.py:1308: UndefinedMetricWarning: Precision and F-score are ill-defined and being set to 0.0 in labels with no predicted samples. Use `zero_division` parameter to control this behavior.\n",
      "  _warn_prf(average, modifier, msg_start, len(result))\n",
      "c:\\Users\\UX430\\anaconda3\\lib\\site-packages\\sklearn\\metrics\\_classification.py:1308: UndefinedMetricWarning: Recall and F-score are ill-defined and being set to 0.0 in labels with no true samples. Use `zero_division` parameter to control this behavior.\n",
      "  _warn_prf(average, modifier, msg_start, len(result))\n",
      "c:\\Users\\UX430\\anaconda3\\lib\\site-packages\\sklearn\\metrics\\_classification.py:1308: UndefinedMetricWarning: Precision and F-score are ill-defined and being set to 0.0 in labels with no predicted samples. Use `zero_division` parameter to control this behavior.\n",
      "  _warn_prf(average, modifier, msg_start, len(result))\n",
      "c:\\Users\\UX430\\anaconda3\\lib\\site-packages\\sklearn\\metrics\\_classification.py:1308: UndefinedMetricWarning: Recall and F-score are ill-defined and being set to 0.0 in labels with no true samples. Use `zero_division` parameter to control this behavior.\n",
      "  _warn_prf(average, modifier, msg_start, len(result))\n",
      "c:\\Users\\UX430\\anaconda3\\lib\\site-packages\\sklearn\\metrics\\_classification.py:1308: UndefinedMetricWarning: Precision and F-score are ill-defined and being set to 0.0 in labels with no predicted samples. Use `zero_division` parameter to control this behavior.\n",
      "  _warn_prf(average, modifier, msg_start, len(result))\n",
      "c:\\Users\\UX430\\anaconda3\\lib\\site-packages\\sklearn\\metrics\\_classification.py:1308: UndefinedMetricWarning: Recall and F-score are ill-defined and being set to 0.0 in labels with no true samples. Use `zero_division` parameter to control this behavior.\n",
      "  _warn_prf(average, modifier, msg_start, len(result))\n"
     ]
    },
    {
     "name": "stdout",
     "output_type": "stream",
     "text": [
      "Epoch 1/5\n",
      "34/34 [==============================] - 6s 163ms/step - loss: 0.0555 - accuracy: 0.9823 - val_loss: 8.0767 - val_accuracy: 0.2514\n",
      "Epoch 2/5\n",
      "34/34 [==============================] - 5s 162ms/step - loss: 0.0388 - accuracy: 0.9848 - val_loss: 9.1379 - val_accuracy: 0.2590\n",
      "Epoch 3/5\n",
      "34/34 [==============================] - 6s 162ms/step - loss: 0.0363 - accuracy: 0.9861 - val_loss: 9.9024 - val_accuracy: 0.2513\n",
      "Epoch 4/5\n",
      "34/34 [==============================] - 6s 178ms/step - loss: 0.0348 - accuracy: 0.9869 - val_loss: 10.4312 - val_accuracy: 0.2674\n",
      "Epoch 5/5\n",
      "34/34 [==============================] - 6s 177ms/step - loss: 0.0341 - accuracy: 0.9877 - val_loss: 10.7226 - val_accuracy: 0.2533\n",
      "Epoch 1/5\n",
      "53/53 [==============================] - 10s 179ms/step - loss: 0.0170 - accuracy: 0.9950 - val_loss: 0.0104 - val_accuracy: 0.9969\n",
      "Epoch 2/5\n",
      "53/53 [==============================] - 9s 171ms/step - loss: 0.0143 - accuracy: 0.9958 - val_loss: 0.0099 - val_accuracy: 0.9966\n",
      "Epoch 3/5\n",
      "53/53 [==============================] - 9s 174ms/step - loss: 0.0148 - accuracy: 0.9958 - val_loss: 0.0146 - val_accuracy: 0.9936\n",
      "Epoch 4/5\n",
      "53/53 [==============================] - 9s 170ms/step - loss: 0.0143 - accuracy: 0.9959 - val_loss: 0.0133 - val_accuracy: 0.9948\n",
      "Epoch 5/5\n",
      "53/53 [==============================] - 9s 167ms/step - loss: 0.0147 - accuracy: 0.9958 - val_loss: 0.0081 - val_accuracy: 0.9972\n",
      "Epoch 1/5\n",
      "75/75 [==============================] - 13s 174ms/step - loss: 0.0132 - accuracy: 0.9961 - val_loss: 4.3405 - val_accuracy: 0.6051\n",
      "Epoch 2/5\n",
      "75/75 [==============================] - 13s 170ms/step - loss: 0.0130 - accuracy: 0.9961 - val_loss: 4.4255 - val_accuracy: 0.6039\n",
      "Epoch 3/5\n",
      "75/75 [==============================] - 13s 169ms/step - loss: 0.0124 - accuracy: 0.9963 - val_loss: 4.7770 - val_accuracy: 0.6033\n",
      "Epoch 4/5\n",
      "75/75 [==============================] - 13s 169ms/step - loss: 0.0127 - accuracy: 0.9962 - val_loss: 4.7416 - val_accuracy: 0.6033\n",
      "Epoch 5/5\n",
      "75/75 [==============================] - 13s 168ms/step - loss: 0.0124 - accuracy: 0.9964 - val_loss: 4.9193 - val_accuracy: 0.6039\n",
      "  37/4279 [..............................] - ETA: 11s - loss: 0.8244 - accuracy: 0.9206"
     ]
    },
    {
     "name": "stderr",
     "output_type": "stream",
     "text": [
      "c:\\Users\\UX430\\anaconda3\\lib\\site-packages\\numpy\\core\\_asarray.py:171: VisibleDeprecationWarning: Creating an ndarray from ragged nested sequences (which is a list-or-tuple of lists-or-tuples-or ndarrays with different lengths or shapes) is deprecated. If you meant to do this, you must specify 'dtype=object' when creating the ndarray.\n",
      "  return array(a, dtype, copy=False, order=order, subok=True)\n"
     ]
    },
    {
     "name": "stdout",
     "output_type": "stream",
     "text": [
      "4279/4279 [==============================] - 12s 3ms/step - loss: 0.9177 - accuracy: 0.9126\n",
      "   1/1721 [..............................] - ETA: 0s - loss: 14.3726 - accuracy: 0.0000e+00"
     ]
    },
    {
     "name": "stderr",
     "output_type": "stream",
     "text": [
      "c:\\Users\\UX430\\anaconda3\\lib\\site-packages\\sklearn\\metrics\\_classification.py:1308: UndefinedMetricWarning: Precision and F-score are ill-defined and being set to 0.0 in labels with no predicted samples. Use `zero_division` parameter to control this behavior.\n",
      "  _warn_prf(average, modifier, msg_start, len(result))\n",
      "c:\\Users\\UX430\\anaconda3\\lib\\site-packages\\sklearn\\metrics\\_classification.py:1308: UndefinedMetricWarning: Recall and F-score are ill-defined and being set to 0.0 in labels with no true samples. Use `zero_division` parameter to control this behavior.\n",
      "  _warn_prf(average, modifier, msg_start, len(result))\n",
      "c:\\Users\\UX430\\anaconda3\\lib\\site-packages\\sklearn\\metrics\\_classification.py:1308: UndefinedMetricWarning: Precision and F-score are ill-defined and being set to 0.0 in labels with no predicted samples. Use `zero_division` parameter to control this behavior.\n",
      "  _warn_prf(average, modifier, msg_start, len(result))\n",
      "c:\\Users\\UX430\\anaconda3\\lib\\site-packages\\sklearn\\metrics\\_classification.py:1308: UndefinedMetricWarning: Recall and F-score are ill-defined and being set to 0.0 in labels with no true samples. Use `zero_division` parameter to control this behavior.\n",
      "  _warn_prf(average, modifier, msg_start, len(result))\n",
      "c:\\Users\\UX430\\anaconda3\\lib\\site-packages\\sklearn\\metrics\\_classification.py:1308: UndefinedMetricWarning: Precision and F-score are ill-defined and being set to 0.0 in labels with no predicted samples. Use `zero_division` parameter to control this behavior.\n",
      "  _warn_prf(average, modifier, msg_start, len(result))\n",
      "c:\\Users\\UX430\\anaconda3\\lib\\site-packages\\sklearn\\metrics\\_classification.py:1308: UndefinedMetricWarning: Recall and F-score are ill-defined and being set to 0.0 in labels with no true samples. Use `zero_division` parameter to control this behavior.\n",
      "  _warn_prf(average, modifier, msg_start, len(result))\n"
     ]
    },
    {
     "name": "stdout",
     "output_type": "stream",
     "text": [
      "1721/1721 [==============================] - 5s 3ms/step - loss: 6.9781 - accuracy: 0.5543\n"
     ]
    },
    {
     "name": "stderr",
     "output_type": "stream",
     "text": [
      "c:\\Users\\UX430\\anaconda3\\lib\\site-packages\\sklearn\\metrics\\_classification.py:1308: UndefinedMetricWarning: Precision and F-score are ill-defined and being set to 0.0 in labels with no predicted samples. Use `zero_division` parameter to control this behavior.\n",
      "  _warn_prf(average, modifier, msg_start, len(result))\n",
      "c:\\Users\\UX430\\anaconda3\\lib\\site-packages\\sklearn\\metrics\\_classification.py:1308: UndefinedMetricWarning: Recall and F-score are ill-defined and being set to 0.0 in labels with no true samples. Use `zero_division` parameter to control this behavior.\n",
      "  _warn_prf(average, modifier, msg_start, len(result))\n",
      "c:\\Users\\UX430\\anaconda3\\lib\\site-packages\\sklearn\\metrics\\_classification.py:1308: UndefinedMetricWarning: Precision and F-score are ill-defined and being set to 0.0 in labels with no predicted samples. Use `zero_division` parameter to control this behavior.\n",
      "  _warn_prf(average, modifier, msg_start, len(result))\n",
      "c:\\Users\\UX430\\anaconda3\\lib\\site-packages\\sklearn\\metrics\\_classification.py:1308: UndefinedMetricWarning: Recall and F-score are ill-defined and being set to 0.0 in labels with no true samples. Use `zero_division` parameter to control this behavior.\n",
      "  _warn_prf(average, modifier, msg_start, len(result))\n",
      "c:\\Users\\UX430\\anaconda3\\lib\\site-packages\\sklearn\\metrics\\_classification.py:1308: UndefinedMetricWarning: Precision and F-score are ill-defined and being set to 0.0 in labels with no predicted samples. Use `zero_division` parameter to control this behavior.\n",
      "  _warn_prf(average, modifier, msg_start, len(result))\n",
      "c:\\Users\\UX430\\anaconda3\\lib\\site-packages\\sklearn\\metrics\\_classification.py:1308: UndefinedMetricWarning: Recall and F-score are ill-defined and being set to 0.0 in labels with no true samples. Use `zero_division` parameter to control this behavior.\n",
      "  _warn_prf(average, modifier, msg_start, len(result))\n"
     ]
    },
    {
     "name": "stdout",
     "output_type": "stream",
     "text": [
      "Epoch 1/5\n",
      "34/34 [==============================] - 6s 169ms/step - loss: 0.0445 - accuracy: 0.9860 - val_loss: 8.1843 - val_accuracy: 0.2702\n",
      "Epoch 2/5\n",
      "34/34 [==============================] - 6s 170ms/step - loss: 0.0321 - accuracy: 0.9885 - val_loss: 8.9753 - val_accuracy: 0.2771\n",
      "Epoch 3/5\n",
      "34/34 [==============================] - 6s 168ms/step - loss: 0.0312 - accuracy: 0.9885 - val_loss: 9.7348 - val_accuracy: 0.2604\n",
      "Epoch 4/5\n",
      "34/34 [==============================] - 6s 169ms/step - loss: 0.0309 - accuracy: 0.9885 - val_loss: 10.2102 - val_accuracy: 0.2631\n",
      "Epoch 5/5\n",
      "34/34 [==============================] - 6s 166ms/step - loss: 0.0301 - accuracy: 0.9887 - val_loss: 10.6286 - val_accuracy: 0.2600\n",
      "Epoch 1/5\n",
      "53/53 [==============================] - 9s 173ms/step - loss: 0.0159 - accuracy: 0.9953 - val_loss: 0.0090 - val_accuracy: 0.9974\n",
      "Epoch 2/5\n",
      "53/53 [==============================] - 9s 174ms/step - loss: 0.0132 - accuracy: 0.9963 - val_loss: 0.0138 - val_accuracy: 0.9956\n",
      "Epoch 3/5\n",
      "53/53 [==============================] - 9s 172ms/step - loss: 0.0129 - accuracy: 0.9963 - val_loss: 0.0080 - val_accuracy: 0.9972\n",
      "Epoch 4/5\n",
      "53/53 [==============================] - 9s 173ms/step - loss: 0.0133 - accuracy: 0.9962 - val_loss: 0.0084 - val_accuracy: 0.9971\n",
      "Epoch 5/5\n",
      "53/53 [==============================] - 9s 171ms/step - loss: 0.0134 - accuracy: 0.9964 - val_loss: 0.0114 - val_accuracy: 0.9960\n",
      "Epoch 1/5\n",
      "75/75 [==============================] - 13s 173ms/step - loss: 0.0119 - accuracy: 0.9963 - val_loss: 4.3000 - val_accuracy: 0.6026\n",
      "Epoch 2/5\n",
      "75/75 [==============================] - 13s 171ms/step - loss: 0.0118 - accuracy: 0.9964 - val_loss: 4.6206 - val_accuracy: 0.6055\n",
      "Epoch 3/5\n",
      "75/75 [==============================] - 13s 172ms/step - loss: 0.0111 - accuracy: 0.9966 - val_loss: 4.9717 - val_accuracy: 0.6041\n",
      "Epoch 4/5\n",
      "75/75 [==============================] - 14s 185ms/step - loss: 0.0106 - accuracy: 0.9968 - val_loss: 5.3346 - val_accuracy: 0.6045\n",
      "Epoch 5/5\n",
      "75/75 [==============================] - 15s 198ms/step - loss: 0.0107 - accuracy: 0.9967 - val_loss: 5.3874 - val_accuracy: 0.6043\n",
      "  13/4279 [..............................] - ETA: 16s - loss: 0.8906 - accuracy: 0.9207"
     ]
    },
    {
     "name": "stderr",
     "output_type": "stream",
     "text": [
      "c:\\Users\\UX430\\anaconda3\\lib\\site-packages\\numpy\\core\\_asarray.py:171: VisibleDeprecationWarning: Creating an ndarray from ragged nested sequences (which is a list-or-tuple of lists-or-tuples-or ndarrays with different lengths or shapes) is deprecated. If you meant to do this, you must specify 'dtype=object' when creating the ndarray.\n",
      "  return array(a, dtype, copy=False, order=order, subok=True)\n"
     ]
    },
    {
     "name": "stdout",
     "output_type": "stream",
     "text": [
      "4279/4279 [==============================] - 16s 4ms/step - loss: 0.9474 - accuracy: 0.9147 0s - loss: 0.9475 - ac\n"
     ]
    },
    {
     "name": "stderr",
     "output_type": "stream",
     "text": [
      "c:\\Users\\UX430\\anaconda3\\lib\\site-packages\\sklearn\\metrics\\_classification.py:1308: UndefinedMetricWarning: Precision and F-score are ill-defined and being set to 0.0 in labels with no predicted samples. Use `zero_division` parameter to control this behavior.\n",
      "  _warn_prf(average, modifier, msg_start, len(result))\n",
      "c:\\Users\\UX430\\anaconda3\\lib\\site-packages\\sklearn\\metrics\\_classification.py:1308: UndefinedMetricWarning: Recall and F-score are ill-defined and being set to 0.0 in labels with no true samples. Use `zero_division` parameter to control this behavior.\n",
      "  _warn_prf(average, modifier, msg_start, len(result))\n",
      "c:\\Users\\UX430\\anaconda3\\lib\\site-packages\\sklearn\\metrics\\_classification.py:1308: UndefinedMetricWarning: Precision and F-score are ill-defined and being set to 0.0 in labels with no predicted samples. Use `zero_division` parameter to control this behavior.\n",
      "  _warn_prf(average, modifier, msg_start, len(result))\n",
      "c:\\Users\\UX430\\anaconda3\\lib\\site-packages\\sklearn\\metrics\\_classification.py:1308: UndefinedMetricWarning: Recall and F-score are ill-defined and being set to 0.0 in labels with no true samples. Use `zero_division` parameter to control this behavior.\n",
      "  _warn_prf(average, modifier, msg_start, len(result))\n",
      "c:\\Users\\UX430\\anaconda3\\lib\\site-packages\\sklearn\\metrics\\_classification.py:1308: UndefinedMetricWarning: Precision and F-score are ill-defined and being set to 0.0 in labels with no predicted samples. Use `zero_division` parameter to control this behavior.\n",
      "  _warn_prf(average, modifier, msg_start, len(result))\n",
      "c:\\Users\\UX430\\anaconda3\\lib\\site-packages\\sklearn\\metrics\\_classification.py:1308: UndefinedMetricWarning: Recall and F-score are ill-defined and being set to 0.0 in labels with no true samples. Use `zero_division` parameter to control this behavior.\n",
      "  _warn_prf(average, modifier, msg_start, len(result))\n"
     ]
    },
    {
     "name": "stdout",
     "output_type": "stream",
     "text": [
      "1721/1721 [==============================] - 6s 4ms/step - loss: 7.4069 - accuracy: 0.5563\n"
     ]
    },
    {
     "name": "stderr",
     "output_type": "stream",
     "text": [
      "c:\\Users\\UX430\\anaconda3\\lib\\site-packages\\sklearn\\metrics\\_classification.py:1308: UndefinedMetricWarning: Precision and F-score are ill-defined and being set to 0.0 in labels with no predicted samples. Use `zero_division` parameter to control this behavior.\n",
      "  _warn_prf(average, modifier, msg_start, len(result))\n",
      "c:\\Users\\UX430\\anaconda3\\lib\\site-packages\\sklearn\\metrics\\_classification.py:1308: UndefinedMetricWarning: Recall and F-score are ill-defined and being set to 0.0 in labels with no true samples. Use `zero_division` parameter to control this behavior.\n",
      "  _warn_prf(average, modifier, msg_start, len(result))\n",
      "c:\\Users\\UX430\\anaconda3\\lib\\site-packages\\sklearn\\metrics\\_classification.py:1308: UndefinedMetricWarning: Precision and F-score are ill-defined and being set to 0.0 in labels with no predicted samples. Use `zero_division` parameter to control this behavior.\n",
      "  _warn_prf(average, modifier, msg_start, len(result))\n",
      "c:\\Users\\UX430\\anaconda3\\lib\\site-packages\\sklearn\\metrics\\_classification.py:1308: UndefinedMetricWarning: Recall and F-score are ill-defined and being set to 0.0 in labels with no true samples. Use `zero_division` parameter to control this behavior.\n",
      "  _warn_prf(average, modifier, msg_start, len(result))\n",
      "c:\\Users\\UX430\\anaconda3\\lib\\site-packages\\sklearn\\metrics\\_classification.py:1308: UndefinedMetricWarning: Precision and F-score are ill-defined and being set to 0.0 in labels with no predicted samples. Use `zero_division` parameter to control this behavior.\n",
      "  _warn_prf(average, modifier, msg_start, len(result))\n",
      "c:\\Users\\UX430\\anaconda3\\lib\\site-packages\\sklearn\\metrics\\_classification.py:1308: UndefinedMetricWarning: Recall and F-score are ill-defined and being set to 0.0 in labels with no true samples. Use `zero_division` parameter to control this behavior.\n",
      "  _warn_prf(average, modifier, msg_start, len(result))\n"
     ]
    },
    {
     "name": "stdout",
     "output_type": "stream",
     "text": [
      "Epoch 1/5\n",
      "34/34 [==============================] - 7s 201ms/step - loss: 0.0408 - accuracy: 0.9865 - val_loss: 8.5295 - val_accuracy: 0.2659\n",
      "Epoch 2/5\n",
      "34/34 [==============================] - 7s 199ms/step - loss: 0.0293 - accuracy: 0.9887 - val_loss: 9.3111 - val_accuracy: 0.2575\n",
      "Epoch 3/5\n",
      "34/34 [==============================] - 7s 197ms/step - loss: 0.0285 - accuracy: 0.9889 - val_loss: 10.0635 - val_accuracy: 0.2705\n",
      "Epoch 4/5\n",
      "34/34 [==============================] - 7s 203ms/step - loss: 0.0279 - accuracy: 0.9891 - val_loss: 10.5190 - val_accuracy: 0.2659\n",
      "Epoch 5/5\n",
      "34/34 [==============================] - 8s 223ms/step - loss: 0.0274 - accuracy: 0.9891 - val_loss: 11.1177 - val_accuracy: 0.2719\n",
      "Epoch 1/5\n",
      "53/53 [==============================] - 11s 207ms/step - loss: 0.0143 - accuracy: 0.9958 - val_loss: 0.0159 - val_accuracy: 0.9948\n",
      "Epoch 2/5\n",
      "53/53 [==============================] - 11s 204ms/step - loss: 0.0116 - accuracy: 0.9968 - val_loss: 0.0067 - val_accuracy: 0.9975\n",
      "Epoch 3/5\n",
      "53/53 [==============================] - 11s 208ms/step - loss: 0.0116 - accuracy: 0.9965 - val_loss: 0.0179 - val_accuracy: 0.9940\n",
      "Epoch 4/5\n",
      "53/53 [==============================] - 10s 195ms/step - loss: 0.0113 - accuracy: 0.9966 - val_loss: 0.0090 - val_accuracy: 0.9964\n",
      "Epoch 5/5\n",
      "53/53 [==============================] - 10s 190ms/step - loss: 0.0106 - accuracy: 0.9969 - val_loss: 0.0088 - val_accuracy: 0.9969\n",
      "Epoch 1/5\n",
      "75/75 [==============================] - 14s 192ms/step - loss: 0.0098 - accuracy: 0.9967 - val_loss: 4.5458 - val_accuracy: 0.6043\n",
      "Epoch 2/5\n",
      "75/75 [==============================] - 15s 197ms/step - loss: 0.0092 - accuracy: 0.9970 - val_loss: 5.0061 - val_accuracy: 0.6038\n",
      "Epoch 3/5\n",
      "75/75 [==============================] - 15s 193ms/step - loss: 0.0094 - accuracy: 0.9970 - val_loss: 5.0427 - val_accuracy: 0.6043\n",
      "Epoch 4/5\n",
      "75/75 [==============================] - 15s 195ms/step - loss: 0.0088 - accuracy: 0.9971 - val_loss: 5.3401 - val_accuracy: 0.6036\n",
      "Epoch 5/5\n",
      "75/75 [==============================] - 13s 178ms/step - loss: 0.0083 - accuracy: 0.9974 - val_loss: 5.6352 - val_accuracy: 0.6034\n",
      "  30/4279 [..............................] - ETA: 14s - loss: 0.8930 - accuracy: 0.9219"
     ]
    },
    {
     "name": "stderr",
     "output_type": "stream",
     "text": [
      "c:\\Users\\UX430\\anaconda3\\lib\\site-packages\\numpy\\core\\_asarray.py:171: VisibleDeprecationWarning: Creating an ndarray from ragged nested sequences (which is a list-or-tuple of lists-or-tuples-or ndarrays with different lengths or shapes) is deprecated. If you meant to do this, you must specify 'dtype=object' when creating the ndarray.\n",
      "  return array(a, dtype, copy=False, order=order, subok=True)\n"
     ]
    },
    {
     "name": "stdout",
     "output_type": "stream",
     "text": [
      "4279/4279 [==============================] - 14s 3ms/step - loss: 0.9507 - accuracy: 0.9156\n",
      "   1/1721 [..............................] - ETA: 0s - loss: 16.5584 - accuracy: 0.0000e+00"
     ]
    },
    {
     "name": "stderr",
     "output_type": "stream",
     "text": [
      "c:\\Users\\UX430\\anaconda3\\lib\\site-packages\\sklearn\\metrics\\_classification.py:1308: UndefinedMetricWarning: Precision and F-score are ill-defined and being set to 0.0 in labels with no predicted samples. Use `zero_division` parameter to control this behavior.\n",
      "  _warn_prf(average, modifier, msg_start, len(result))\n",
      "c:\\Users\\UX430\\anaconda3\\lib\\site-packages\\sklearn\\metrics\\_classification.py:1308: UndefinedMetricWarning: Recall and F-score are ill-defined and being set to 0.0 in labels with no true samples. Use `zero_division` parameter to control this behavior.\n",
      "  _warn_prf(average, modifier, msg_start, len(result))\n",
      "c:\\Users\\UX430\\anaconda3\\lib\\site-packages\\sklearn\\metrics\\_classification.py:1308: UndefinedMetricWarning: Precision and F-score are ill-defined and being set to 0.0 in labels with no predicted samples. Use `zero_division` parameter to control this behavior.\n",
      "  _warn_prf(average, modifier, msg_start, len(result))\n",
      "c:\\Users\\UX430\\anaconda3\\lib\\site-packages\\sklearn\\metrics\\_classification.py:1308: UndefinedMetricWarning: Recall and F-score are ill-defined and being set to 0.0 in labels with no true samples. Use `zero_division` parameter to control this behavior.\n",
      "  _warn_prf(average, modifier, msg_start, len(result))\n",
      "c:\\Users\\UX430\\anaconda3\\lib\\site-packages\\sklearn\\metrics\\_classification.py:1308: UndefinedMetricWarning: Precision and F-score are ill-defined and being set to 0.0 in labels with no predicted samples. Use `zero_division` parameter to control this behavior.\n",
      "  _warn_prf(average, modifier, msg_start, len(result))\n",
      "c:\\Users\\UX430\\anaconda3\\lib\\site-packages\\sklearn\\metrics\\_classification.py:1308: UndefinedMetricWarning: Recall and F-score are ill-defined and being set to 0.0 in labels with no true samples. Use `zero_division` parameter to control this behavior.\n",
      "  _warn_prf(average, modifier, msg_start, len(result))\n"
     ]
    },
    {
     "name": "stdout",
     "output_type": "stream",
     "text": [
      "1721/1721 [==============================] - 6s 3ms/step - loss: 8.3491 - accuracy: 0.5567\n"
     ]
    },
    {
     "name": "stderr",
     "output_type": "stream",
     "text": [
      "c:\\Users\\UX430\\anaconda3\\lib\\site-packages\\sklearn\\metrics\\_classification.py:1308: UndefinedMetricWarning: Precision and F-score are ill-defined and being set to 0.0 in labels with no predicted samples. Use `zero_division` parameter to control this behavior.\n",
      "  _warn_prf(average, modifier, msg_start, len(result))\n",
      "c:\\Users\\UX430\\anaconda3\\lib\\site-packages\\sklearn\\metrics\\_classification.py:1308: UndefinedMetricWarning: Recall and F-score are ill-defined and being set to 0.0 in labels with no true samples. Use `zero_division` parameter to control this behavior.\n",
      "  _warn_prf(average, modifier, msg_start, len(result))\n",
      "c:\\Users\\UX430\\anaconda3\\lib\\site-packages\\sklearn\\metrics\\_classification.py:1308: UndefinedMetricWarning: Precision and F-score are ill-defined and being set to 0.0 in labels with no predicted samples. Use `zero_division` parameter to control this behavior.\n",
      "  _warn_prf(average, modifier, msg_start, len(result))\n",
      "c:\\Users\\UX430\\anaconda3\\lib\\site-packages\\sklearn\\metrics\\_classification.py:1308: UndefinedMetricWarning: Recall and F-score are ill-defined and being set to 0.0 in labels with no true samples. Use `zero_division` parameter to control this behavior.\n",
      "  _warn_prf(average, modifier, msg_start, len(result))\n",
      "c:\\Users\\UX430\\anaconda3\\lib\\site-packages\\sklearn\\metrics\\_classification.py:1308: UndefinedMetricWarning: Precision and F-score are ill-defined and being set to 0.0 in labels with no predicted samples. Use `zero_division` parameter to control this behavior.\n",
      "  _warn_prf(average, modifier, msg_start, len(result))\n",
      "c:\\Users\\UX430\\anaconda3\\lib\\site-packages\\sklearn\\metrics\\_classification.py:1308: UndefinedMetricWarning: Recall and F-score are ill-defined and being set to 0.0 in labels with no true samples. Use `zero_division` parameter to control this behavior.\n",
      "  _warn_prf(average, modifier, msg_start, len(result))\n"
     ]
    },
    {
     "name": "stdout",
     "output_type": "stream",
     "text": [
      "Epoch 1/5\n",
      "34/34 [==============================] - 6s 176ms/step - loss: 0.0368 - accuracy: 0.9877 - val_loss: 9.2724 - val_accuracy: 0.2573\n",
      "Epoch 2/5\n",
      "34/34 [==============================] - 6s 176ms/step - loss: 0.0260 - accuracy: 0.9897 - val_loss: 10.0332 - val_accuracy: 0.2679\n",
      "Epoch 3/5\n",
      "34/34 [==============================] - 6s 176ms/step - loss: 0.0256 - accuracy: 0.9897 - val_loss: 10.6714 - val_accuracy: 0.2640\n",
      "Epoch 4/5\n",
      "34/34 [==============================] - 6s 173ms/step - loss: 0.0248 - accuracy: 0.9898 - val_loss: 11.5197 - val_accuracy: 0.2487\n",
      "Epoch 5/5\n",
      "34/34 [==============================] - 6s 171ms/step - loss: 0.0247 - accuracy: 0.9899 - val_loss: 11.7683 - val_accuracy: 0.2608\n",
      "Epoch 1/5\n",
      "53/53 [==============================] - 9s 179ms/step - loss: 0.0123 - accuracy: 0.9963 - val_loss: 0.0110 - val_accuracy: 0.9958\n",
      "Epoch 2/5\n",
      "53/53 [==============================] - 9s 176ms/step - loss: 0.0096 - accuracy: 0.9971 - val_loss: 0.0062 - val_accuracy: 0.9974\n",
      "Epoch 3/5\n",
      "53/53 [==============================] - 9s 174ms/step - loss: 0.0092 - accuracy: 0.9971 - val_loss: 0.0134 - val_accuracy: 0.9953\n",
      "Epoch 4/5\n",
      "53/53 [==============================] - 9s 173ms/step - loss: 0.0092 - accuracy: 0.9971 - val_loss: 0.0132 - val_accuracy: 0.9950\n",
      "Epoch 5/5\n",
      "53/53 [==============================] - 9s 175ms/step - loss: 0.0088 - accuracy: 0.9971 - val_loss: 0.0096 - val_accuracy: 0.9964\n",
      "Epoch 1/5\n",
      "75/75 [==============================] - 13s 175ms/step - loss: 0.0086 - accuracy: 0.9973 - val_loss: 4.7036 - val_accuracy: 0.6049\n",
      "Epoch 2/5\n",
      "75/75 [==============================] - 13s 178ms/step - loss: 0.0081 - accuracy: 0.9974 - val_loss: 5.0531 - val_accuracy: 0.6038\n",
      "Epoch 3/5\n",
      "75/75 [==============================] - 13s 174ms/step - loss: 0.0081 - accuracy: 0.9973 - val_loss: 5.1718 - val_accuracy: 0.6038\n",
      "Epoch 4/5\n",
      "75/75 [==============================] - 13s 175ms/step - loss: 0.0076 - accuracy: 0.9976 - val_loss: 5.4680 - val_accuracy: 0.6046\n",
      "Epoch 5/5\n",
      "75/75 [==============================] - 13s 176ms/step - loss: 0.0076 - accuracy: 0.9975 - val_loss: 5.5925 - val_accuracy: 0.6045\n",
      "  33/4279 [..............................] - ETA: 13s - loss: 0.8955 - accuracy: 0.9271"
     ]
    },
    {
     "name": "stderr",
     "output_type": "stream",
     "text": [
      "c:\\Users\\UX430\\anaconda3\\lib\\site-packages\\numpy\\core\\_asarray.py:171: VisibleDeprecationWarning: Creating an ndarray from ragged nested sequences (which is a list-or-tuple of lists-or-tuples-or ndarrays with different lengths or shapes) is deprecated. If you meant to do this, you must specify 'dtype=object' when creating the ndarray.\n",
      "  return array(a, dtype, copy=False, order=order, subok=True)\n"
     ]
    },
    {
     "name": "stdout",
     "output_type": "stream",
     "text": [
      "4279/4279 [==============================] - 14s 3ms/step - loss: 1.0266 - accuracy: 0.9159\n",
      "   1/1721 [..............................] - ETA: 0s - loss: 18.6449 - accuracy: 0.0000e+00"
     ]
    },
    {
     "name": "stderr",
     "output_type": "stream",
     "text": [
      "c:\\Users\\UX430\\anaconda3\\lib\\site-packages\\sklearn\\metrics\\_classification.py:1308: UndefinedMetricWarning: Precision and F-score are ill-defined and being set to 0.0 in labels with no predicted samples. Use `zero_division` parameter to control this behavior.\n",
      "  _warn_prf(average, modifier, msg_start, len(result))\n",
      "c:\\Users\\UX430\\anaconda3\\lib\\site-packages\\sklearn\\metrics\\_classification.py:1308: UndefinedMetricWarning: Recall and F-score are ill-defined and being set to 0.0 in labels with no true samples. Use `zero_division` parameter to control this behavior.\n",
      "  _warn_prf(average, modifier, msg_start, len(result))\n",
      "c:\\Users\\UX430\\anaconda3\\lib\\site-packages\\sklearn\\metrics\\_classification.py:1308: UndefinedMetricWarning: Precision and F-score are ill-defined and being set to 0.0 in labels with no predicted samples. Use `zero_division` parameter to control this behavior.\n",
      "  _warn_prf(average, modifier, msg_start, len(result))\n",
      "c:\\Users\\UX430\\anaconda3\\lib\\site-packages\\sklearn\\metrics\\_classification.py:1308: UndefinedMetricWarning: Recall and F-score are ill-defined and being set to 0.0 in labels with no true samples. Use `zero_division` parameter to control this behavior.\n",
      "  _warn_prf(average, modifier, msg_start, len(result))\n",
      "c:\\Users\\UX430\\anaconda3\\lib\\site-packages\\sklearn\\metrics\\_classification.py:1308: UndefinedMetricWarning: Precision and F-score are ill-defined and being set to 0.0 in labels with no predicted samples. Use `zero_division` parameter to control this behavior.\n",
      "  _warn_prf(average, modifier, msg_start, len(result))\n",
      "c:\\Users\\UX430\\anaconda3\\lib\\site-packages\\sklearn\\metrics\\_classification.py:1308: UndefinedMetricWarning: Recall and F-score are ill-defined and being set to 0.0 in labels with no true samples. Use `zero_division` parameter to control this behavior.\n",
      "  _warn_prf(average, modifier, msg_start, len(result))\n"
     ]
    },
    {
     "name": "stdout",
     "output_type": "stream",
     "text": [
      "1721/1721 [==============================] - 5s 3ms/step - loss: 9.3115 - accuracy: 0.5580\n"
     ]
    },
    {
     "name": "stderr",
     "output_type": "stream",
     "text": [
      "c:\\Users\\UX430\\anaconda3\\lib\\site-packages\\sklearn\\metrics\\_classification.py:1308: UndefinedMetricWarning: Precision and F-score are ill-defined and being set to 0.0 in labels with no predicted samples. Use `zero_division` parameter to control this behavior.\n",
      "  _warn_prf(average, modifier, msg_start, len(result))\n",
      "c:\\Users\\UX430\\anaconda3\\lib\\site-packages\\sklearn\\metrics\\_classification.py:1308: UndefinedMetricWarning: Recall and F-score are ill-defined and being set to 0.0 in labels with no true samples. Use `zero_division` parameter to control this behavior.\n",
      "  _warn_prf(average, modifier, msg_start, len(result))\n",
      "c:\\Users\\UX430\\anaconda3\\lib\\site-packages\\sklearn\\metrics\\_classification.py:1308: UndefinedMetricWarning: Precision and F-score are ill-defined and being set to 0.0 in labels with no predicted samples. Use `zero_division` parameter to control this behavior.\n",
      "  _warn_prf(average, modifier, msg_start, len(result))\n",
      "c:\\Users\\UX430\\anaconda3\\lib\\site-packages\\sklearn\\metrics\\_classification.py:1308: UndefinedMetricWarning: Recall and F-score are ill-defined and being set to 0.0 in labels with no true samples. Use `zero_division` parameter to control this behavior.\n",
      "  _warn_prf(average, modifier, msg_start, len(result))\n",
      "c:\\Users\\UX430\\anaconda3\\lib\\site-packages\\sklearn\\metrics\\_classification.py:1308: UndefinedMetricWarning: Precision and F-score are ill-defined and being set to 0.0 in labels with no predicted samples. Use `zero_division` parameter to control this behavior.\n",
      "  _warn_prf(average, modifier, msg_start, len(result))\n",
      "c:\\Users\\UX430\\anaconda3\\lib\\site-packages\\sklearn\\metrics\\_classification.py:1308: UndefinedMetricWarning: Recall and F-score are ill-defined and being set to 0.0 in labels with no true samples. Use `zero_division` parameter to control this behavior.\n",
      "  _warn_prf(average, modifier, msg_start, len(result))\n"
     ]
    }
   ],
   "source": [
    "# Values saved each iteration \n",
    "loss_it = []\n",
    "accuracy_it = []\n",
    "f1_it = []\n",
    "precision_it = []\n",
    "recall_it = []\n",
    "\n",
    "for i in range(global_updates): \n",
    "    w_list = []\n",
    "    for node in range(num_nodes): \n",
    "        cp = global_model # create a copy of the global model\n",
    "        if node == 0:\n",
    "            x, y = x1, y1\n",
    "        elif node == 1:\n",
    "            x, y = x2, y2\n",
    "        else:\n",
    "            x, y = x3, y3\n",
    "        local_model, local_loss, local_acc, local_val_loss, local_val_acc = train_local_model(cp, node, x, y)\n",
    "        w_list.append(local_model.get_weights())\n",
    "\n",
    "    avg_w = aggregate(w_list)\n",
    "    global_model.set_weights(avg_w) # apply gradients to global model\n",
    "    loss_basic, accuracy_basic, f1_basic, precision_basic, recall_basic = evaluation(global_model, xbasic, ybasic) # Evaluate with test basic to know progress\n",
    "    loss_plus, accuracy_plus, f1_plus, precision_plus, recall_plus = evaluation(global_model, xplus, yplus) # Evaluate with test plus to know progress\n",
    "\n",
    "    loss_it.append([loss_basic, loss_plus])\n",
    "    accuracy_it.append([accuracy_basic, accuracy_plus])\n",
    "    f1_it.append([f1_basic, f1_plus])\n",
    "    precision_it.append([precision_basic, precision_plus])\n",
    "    recall_it.append([recall_basic, recall_plus])\n",
    "\n",
    "\n",
    "global_model.save('C:/Users/UX430/Documents/thesis/code/models/id305.hdf5')"
   ]
  },
  {
   "cell_type": "code",
   "execution_count": 44,
   "metadata": {},
   "outputs": [
    {
     "name": "stdout",
     "output_type": "stream",
     "text": [
      "Loss for iterations:  [[0.9912222623825073, 6.774355411529541], [0.9177464246749878, 6.9780964851379395], [0.9474042654037476, 7.406868934631348], [0.950697660446167, 8.349084854125977], [1.0266056060791016, 9.311530113220215]]\n",
      "Accuracy for iterations:  [[0.9120263457298279, 0.5529680848121643], [0.9126179814338684, 0.5543122887611389], [0.914692223072052, 0.5562558770179749], [0.915627121925354, 0.5566918253898621], [0.9159484505653381, 0.5579997301101685]]\n",
      "F1 for iterations:  [[0.8758826776084111, 0.4998588124549444], [0.8768384250933146, 0.4895837092786314], [0.8781997778833367, 0.4524887945412834], [0.8785328058720641, 0.4499917324732604], [0.8785357177841153, 0.4350606530661641]]\n",
      "Precision for iterations:  [[0.8452415707180265, 0.4560572334201279], [0.8472069963234071, 0.43839152017629146], [0.8467514453656142, 0.3813496779311343], [0.8455263072598433, 0.37761495583235455], [0.8446811318718072, 0.35651328754973793]]\n",
      "Recall for iterations:  [[0.9120263519238073, 0.5529681028845456], [0.9126179555347804, 0.5543122865654291], [0.9146922200473283, 0.5562559035094092], [0.9156270998276316, 0.5566918549734796], [0.9159484647521108, 0.5579997093656907]]\n"
     ]
    }
   ],
   "source": [
    "print(\"Loss for iterations: \", loss_it)\n",
    "print(\"Accuracy for iterations: \", accuracy_it)\n",
    "print(\"F1 for iterations: \", f1_it)\n",
    "print(\"Precision for iterations: \", precision_it)\n",
    "print(\"Recall for iterations: \", recall_it)"
   ]
  },
  {
   "cell_type": "markdown",
   "metadata": {},
   "source": [
    "#### DATASET 3G"
   ]
  },
  {
   "cell_type": "code",
   "execution_count": 45,
   "metadata": {},
   "outputs": [
    {
     "name": "stderr",
     "output_type": "stream",
     "text": [
      "C:\\Users\\UX430\\AppData\\Local\\Temp/ipykernel_15288/1708080388.py:2: DtypeWarning: Columns (4) have mixed types. Specify dtype option on import or set low_memory=False.\n",
      "  training1 = pd.read_csv('C:/Users/UX430/Documents/thesis/datasets/UNSW-NB15/UNSW-NB15-Train-Basic-3G-Part1.csv')\n",
      "C:\\Users\\UX430\\AppData\\Local\\Temp/ipykernel_15288/1708080388.py:3: DtypeWarning: Columns (2,4) have mixed types. Specify dtype option on import or set low_memory=False.\n",
      "  training2 = pd.read_csv('C:/Users/UX430/Documents/thesis/datasets/UNSW-NB15/UNSW-NB15-Train-Basic-3G-Part2.csv')\n",
      "C:\\Users\\UX430\\AppData\\Local\\Temp/ipykernel_15288/1708080388.py:4: DtypeWarning: Columns (4) have mixed types. Specify dtype option on import or set low_memory=False.\n",
      "  training3 = pd.read_csv('C:/Users/UX430/Documents/thesis/datasets/UNSW-NB15/UNSW-NB15-Train-Basic-3G-Part3.csv')\n"
     ]
    }
   ],
   "source": [
    "# Load training datasets and testing datasets \n",
    "training1 = pd.read_csv('C:/Users/UX430/Documents/thesis/datasets/UNSW-NB15/UNSW-NB15-Train-Basic-3G-Part1.csv')\n",
    "training2 = pd.read_csv('C:/Users/UX430/Documents/thesis/datasets/UNSW-NB15/UNSW-NB15-Train-Basic-3G-Part2.csv')\n",
    "training3 = pd.read_csv('C:/Users/UX430/Documents/thesis/datasets/UNSW-NB15/UNSW-NB15-Train-Basic-3G-Part3.csv')"
   ]
  },
  {
   "cell_type": "code",
   "execution_count": 46,
   "metadata": {},
   "outputs": [],
   "source": [
    "# Define \n",
    "node_datasets = [training1, training2, training3]\n",
    "num_nodes = 3\n",
    "global_updates = 5\n",
    "\n",
    "# Define model training parameters\n",
    "loss_fct = \"categorical_crossentropy\"\n",
    "metrics = ['accuracy']\n",
    "local_epochs = 5"
   ]
  },
  {
   "cell_type": "code",
   "execution_count": 47,
   "metadata": {},
   "outputs": [],
   "source": [
    "def train_local_model(model, node, x_train, y_train): \n",
    "    filepath = 'C:/Users/UX430/Documents/thesis/code/models/node'+str(node)+'ID306.hdf5'\n",
    "    callbacks = [\n",
    "            keras.callbacks.EarlyStopping(\n",
    "                monitor = 'val_loss', # Use accuracy to monitor the model\n",
    "                patience = 10 # Stop after 10 steps with lower accuracy\n",
    "            ),\n",
    "            keras.callbacks.ModelCheckpoint(\n",
    "                filepath = filepath, # file where the checkpoint is saved\n",
    "                monitor = 'val_loss', # Don't overwrite the saved model unless val_loss is worse\n",
    "                save_best_only = True)]# Only save model if it is the best\n",
    "    optimizer = keras.optimizers.Adam(learning_rate=5e-4)\n",
    "    model.compile(optimizer=optimizer, loss=loss_fct, metrics=metrics)\n",
    "    history = model.fit(x_train, y_train, epochs=local_epochs, validation_split=0.2, callbacks=callbacks, batch_size=2048)\n",
    "    return model, history.history['loss'], history.history['accuracy'], history.history['val_loss'], history.history['val_accuracy']"
   ]
  },
  {
   "cell_type": "code",
   "execution_count": 48,
   "metadata": {},
   "outputs": [],
   "source": [
    "def aggregate(w_list): \n",
    "    avg_w = np.mean(w_list, axis=0)\n",
    "    return avg_w"
   ]
  },
  {
   "cell_type": "code",
   "execution_count": 49,
   "metadata": {},
   "outputs": [],
   "source": [
    "global_model = build_model((24,1,1))"
   ]
  },
  {
   "cell_type": "code",
   "execution_count": 50,
   "metadata": {},
   "outputs": [],
   "source": [
    "x1, y1 = preprocessing(training1)\n",
    "x2, y2 = preprocessing(training2)\n",
    "x3, y3 = preprocessing(training3)\n",
    "xbasic, ybasic = preprocessing(test_basic)\n",
    "xplus, yplus = preprocessing(test_plus)"
   ]
  },
  {
   "cell_type": "code",
   "execution_count": 51,
   "metadata": {},
   "outputs": [
    {
     "name": "stdout",
     "output_type": "stream",
     "text": [
      "Epoch 1/5\n",
      "45/45 [==============================] - 8s 174ms/step - loss: 0.9717 - accuracy: 0.9529 - val_loss: 4.9747 - val_accuracy: 0.5073\n",
      "Epoch 2/5\n",
      "45/45 [==============================] - 8s 176ms/step - loss: 0.0730 - accuracy: 0.9888 - val_loss: 5.7969 - val_accuracy: 0.5073\n",
      "Epoch 3/5\n",
      "45/45 [==============================] - 8s 173ms/step - loss: 0.0329 - accuracy: 0.9912 - val_loss: 6.0743 - val_accuracy: 0.5076\n",
      "Epoch 4/5\n",
      "45/45 [==============================] - 8s 174ms/step - loss: 0.0278 - accuracy: 0.9913 - val_loss: 6.2302 - val_accuracy: 0.5080\n",
      "Epoch 5/5\n",
      "45/45 [==============================] - 8s 173ms/step - loss: 0.0262 - accuracy: 0.9913 - val_loss: 6.2942 - val_accuracy: 0.5086\n",
      "Epoch 1/5\n",
      "65/65 [==============================] - 11s 176ms/step - loss: 0.0243 - accuracy: 0.9935 - val_loss: 5.0260 - val_accuracy: 0.6528\n",
      "Epoch 2/5\n",
      "65/65 [==============================] - 11s 176ms/step - loss: 0.0211 - accuracy: 0.9937 - val_loss: 5.5553 - val_accuracy: 0.6530\n",
      "Epoch 3/5\n",
      "65/65 [==============================] - 11s 171ms/step - loss: 0.0187 - accuracy: 0.9941 - val_loss: 6.2387 - val_accuracy: 0.6566\n",
      "Epoch 4/5\n",
      "65/65 [==============================] - 11s 172ms/step - loss: 0.0168 - accuracy: 0.9949 - val_loss: 6.9340 - val_accuracy: 0.6586\n",
      "Epoch 5/5\n",
      "65/65 [==============================] - 12s 179ms/step - loss: 0.0160 - accuracy: 0.9954 - val_loss: 7.2099 - val_accuracy: 0.6578\n",
      "Epoch 1/5\n",
      "52/52 [==============================] - 9s 179ms/step - loss: 0.0231 - accuracy: 0.9936 - val_loss: 8.0338 - val_accuracy: 0.5784\n",
      "Epoch 2/5\n",
      "52/52 [==============================] - 9s 179ms/step - loss: 0.0141 - accuracy: 0.9954 - val_loss: 8.2128 - val_accuracy: 0.5798\n",
      "Epoch 3/5\n",
      "52/52 [==============================] - 9s 175ms/step - loss: 0.0139 - accuracy: 0.9954 - val_loss: 8.4888 - val_accuracy: 0.5800\n",
      "Epoch 4/5\n",
      "52/52 [==============================] - 9s 172ms/step - loss: 0.0141 - accuracy: 0.9954 - val_loss: 8.6466 - val_accuracy: 0.5805\n",
      "Epoch 5/5\n",
      "52/52 [==============================] - 9s 175ms/step - loss: 0.0136 - accuracy: 0.9955 - val_loss: 8.8501 - val_accuracy: 0.5794\n",
      "  16/4279 [..............................] - ETA: 14s - loss: 1.4048 - accuracy: 0.9160"
     ]
    },
    {
     "name": "stderr",
     "output_type": "stream",
     "text": [
      "c:\\Users\\UX430\\anaconda3\\lib\\site-packages\\numpy\\core\\_asarray.py:171: VisibleDeprecationWarning: Creating an ndarray from ragged nested sequences (which is a list-or-tuple of lists-or-tuples-or ndarrays with different lengths or shapes) is deprecated. If you meant to do this, you must specify 'dtype=object' when creating the ndarray.\n",
      "  return array(a, dtype, copy=False, order=order, subok=True)\n"
     ]
    },
    {
     "name": "stdout",
     "output_type": "stream",
     "text": [
      "4279/4279 [==============================] - 14s 3ms/step - loss: 1.4526 - accuracy: 0.9122\n",
      "   1/1721 [..............................] - ETA: 0s - loss: 15.3972 - accuracy: 0.0000e+00"
     ]
    },
    {
     "name": "stderr",
     "output_type": "stream",
     "text": [
      "c:\\Users\\UX430\\anaconda3\\lib\\site-packages\\sklearn\\metrics\\_classification.py:1308: UndefinedMetricWarning: Precision and F-score are ill-defined and being set to 0.0 in labels with no predicted samples. Use `zero_division` parameter to control this behavior.\n",
      "  _warn_prf(average, modifier, msg_start, len(result))\n",
      "c:\\Users\\UX430\\anaconda3\\lib\\site-packages\\sklearn\\metrics\\_classification.py:1308: UndefinedMetricWarning: Recall and F-score are ill-defined and being set to 0.0 in labels with no true samples. Use `zero_division` parameter to control this behavior.\n",
      "  _warn_prf(average, modifier, msg_start, len(result))\n",
      "c:\\Users\\UX430\\anaconda3\\lib\\site-packages\\sklearn\\metrics\\_classification.py:1308: UndefinedMetricWarning: Precision and F-score are ill-defined and being set to 0.0 in labels with no predicted samples. Use `zero_division` parameter to control this behavior.\n",
      "  _warn_prf(average, modifier, msg_start, len(result))\n",
      "c:\\Users\\UX430\\anaconda3\\lib\\site-packages\\sklearn\\metrics\\_classification.py:1308: UndefinedMetricWarning: Recall and F-score are ill-defined and being set to 0.0 in labels with no true samples. Use `zero_division` parameter to control this behavior.\n",
      "  _warn_prf(average, modifier, msg_start, len(result))\n",
      "c:\\Users\\UX430\\anaconda3\\lib\\site-packages\\sklearn\\metrics\\_classification.py:1308: UndefinedMetricWarning: Precision and F-score are ill-defined and being set to 0.0 in labels with no predicted samples. Use `zero_division` parameter to control this behavior.\n",
      "  _warn_prf(average, modifier, msg_start, len(result))\n",
      "c:\\Users\\UX430\\anaconda3\\lib\\site-packages\\sklearn\\metrics\\_classification.py:1308: UndefinedMetricWarning: Recall and F-score are ill-defined and being set to 0.0 in labels with no true samples. Use `zero_division` parameter to control this behavior.\n",
      "  _warn_prf(average, modifier, msg_start, len(result))\n"
     ]
    },
    {
     "name": "stdout",
     "output_type": "stream",
     "text": [
      "1721/1721 [==============================] - 6s 3ms/step - loss: 7.5590 - accuracy: 0.5516\n"
     ]
    },
    {
     "name": "stderr",
     "output_type": "stream",
     "text": [
      "c:\\Users\\UX430\\anaconda3\\lib\\site-packages\\sklearn\\metrics\\_classification.py:1308: UndefinedMetricWarning: Precision and F-score are ill-defined and being set to 0.0 in labels with no predicted samples. Use `zero_division` parameter to control this behavior.\n",
      "  _warn_prf(average, modifier, msg_start, len(result))\n",
      "c:\\Users\\UX430\\anaconda3\\lib\\site-packages\\sklearn\\metrics\\_classification.py:1308: UndefinedMetricWarning: Recall and F-score are ill-defined and being set to 0.0 in labels with no true samples. Use `zero_division` parameter to control this behavior.\n",
      "  _warn_prf(average, modifier, msg_start, len(result))\n",
      "c:\\Users\\UX430\\anaconda3\\lib\\site-packages\\sklearn\\metrics\\_classification.py:1308: UndefinedMetricWarning: Precision and F-score are ill-defined and being set to 0.0 in labels with no predicted samples. Use `zero_division` parameter to control this behavior.\n",
      "  _warn_prf(average, modifier, msg_start, len(result))\n",
      "c:\\Users\\UX430\\anaconda3\\lib\\site-packages\\sklearn\\metrics\\_classification.py:1308: UndefinedMetricWarning: Recall and F-score are ill-defined and being set to 0.0 in labels with no true samples. Use `zero_division` parameter to control this behavior.\n",
      "  _warn_prf(average, modifier, msg_start, len(result))\n",
      "c:\\Users\\UX430\\anaconda3\\lib\\site-packages\\sklearn\\metrics\\_classification.py:1308: UndefinedMetricWarning: Precision and F-score are ill-defined and being set to 0.0 in labels with no predicted samples. Use `zero_division` parameter to control this behavior.\n",
      "  _warn_prf(average, modifier, msg_start, len(result))\n",
      "c:\\Users\\UX430\\anaconda3\\lib\\site-packages\\sklearn\\metrics\\_classification.py:1308: UndefinedMetricWarning: Recall and F-score are ill-defined and being set to 0.0 in labels with no true samples. Use `zero_division` parameter to control this behavior.\n",
      "  _warn_prf(average, modifier, msg_start, len(result))\n"
     ]
    },
    {
     "name": "stdout",
     "output_type": "stream",
     "text": [
      "Epoch 1/5\n",
      "45/45 [==============================] - 8s 184ms/step - loss: 0.0165 - accuracy: 0.9948 - val_loss: 8.9145 - val_accuracy: 0.5120\n",
      "Epoch 2/5\n",
      "45/45 [==============================] - 8s 181ms/step - loss: 0.0151 - accuracy: 0.9953 - val_loss: 9.4032 - val_accuracy: 0.5134\n",
      "Epoch 3/5\n",
      "45/45 [==============================] - 8s 179ms/step - loss: 0.0152 - accuracy: 0.9952 - val_loss: 9.3789 - val_accuracy: 0.5131\n",
      "Epoch 4/5\n",
      "45/45 [==============================] - 8s 181ms/step - loss: 0.0151 - accuracy: 0.9952 - val_loss: 8.8172 - val_accuracy: 0.5123\n",
      "Epoch 5/5\n",
      "45/45 [==============================] - 8s 178ms/step - loss: 0.0150 - accuracy: 0.9955 - val_loss: 8.7031 - val_accuracy: 0.5135\n",
      "Epoch 1/5\n",
      "65/65 [==============================] - 12s 181ms/step - loss: 0.0153 - accuracy: 0.9959 - val_loss: 5.8876 - val_accuracy: 0.6583\n",
      "Epoch 2/5\n",
      "65/65 [==============================] - 12s 177ms/step - loss: 0.0142 - accuracy: 0.9960 - val_loss: 6.3726 - val_accuracy: 0.6585\n",
      "Epoch 3/5\n",
      "65/65 [==============================] - 12s 180ms/step - loss: 0.0137 - accuracy: 0.9962 - val_loss: 6.8941 - val_accuracy: 0.6564\n",
      "Epoch 4/5\n",
      "65/65 [==============================] - 12s 179ms/step - loss: 0.0135 - accuracy: 0.9963 - val_loss: 6.9333 - val_accuracy: 0.6596\n",
      "Epoch 5/5\n",
      "65/65 [==============================] - 12s 179ms/step - loss: 0.0131 - accuracy: 0.9963 - val_loss: 7.1513 - val_accuracy: 0.6556\n",
      "Epoch 1/5\n",
      "52/52 [==============================] - 9s 182ms/step - loss: 0.0318 - accuracy: 0.9885 - val_loss: 7.8108 - val_accuracy: 0.5801\n",
      "Epoch 2/5\n",
      "52/52 [==============================] - 9s 182ms/step - loss: 0.0133 - accuracy: 0.9957 - val_loss: 7.6831 - val_accuracy: 0.5801\n",
      "Epoch 3/5\n",
      "52/52 [==============================] - 9s 180ms/step - loss: 0.0127 - accuracy: 0.9958 - val_loss: 7.8230 - val_accuracy: 0.5799\n",
      "Epoch 4/5\n",
      "52/52 [==============================] - 9s 177ms/step - loss: 0.0125 - accuracy: 0.9960 - val_loss: 7.9161 - val_accuracy: 0.5799\n",
      "Epoch 5/5\n",
      "52/52 [==============================] - 9s 178ms/step - loss: 0.0125 - accuracy: 0.9959 - val_loss: 7.9892 - val_accuracy: 0.5798\n",
      "  28/4279 [..............................] - ETA: 15s - loss: 1.3973 - accuracy: 0.9252"
     ]
    },
    {
     "name": "stderr",
     "output_type": "stream",
     "text": [
      "c:\\Users\\UX430\\anaconda3\\lib\\site-packages\\numpy\\core\\_asarray.py:171: VisibleDeprecationWarning: Creating an ndarray from ragged nested sequences (which is a list-or-tuple of lists-or-tuples-or ndarrays with different lengths or shapes) is deprecated. If you meant to do this, you must specify 'dtype=object' when creating the ndarray.\n",
      "  return array(a, dtype, copy=False, order=order, subok=True)\n"
     ]
    },
    {
     "name": "stdout",
     "output_type": "stream",
     "text": [
      "4279/4279 [==============================] - 13s 3ms/step - loss: 1.5480 - accuracy: 0.9152\n",
      "   1/1721 [..............................] - ETA: 0s - loss: 15.4435 - accuracy: 0.0000e+00"
     ]
    },
    {
     "name": "stderr",
     "output_type": "stream",
     "text": [
      "c:\\Users\\UX430\\anaconda3\\lib\\site-packages\\sklearn\\metrics\\_classification.py:1308: UndefinedMetricWarning: Precision and F-score are ill-defined and being set to 0.0 in labels with no predicted samples. Use `zero_division` parameter to control this behavior.\n",
      "  _warn_prf(average, modifier, msg_start, len(result))\n",
      "c:\\Users\\UX430\\anaconda3\\lib\\site-packages\\sklearn\\metrics\\_classification.py:1308: UndefinedMetricWarning: Recall and F-score are ill-defined and being set to 0.0 in labels with no true samples. Use `zero_division` parameter to control this behavior.\n",
      "  _warn_prf(average, modifier, msg_start, len(result))\n",
      "c:\\Users\\UX430\\anaconda3\\lib\\site-packages\\sklearn\\metrics\\_classification.py:1308: UndefinedMetricWarning: Precision and F-score are ill-defined and being set to 0.0 in labels with no predicted samples. Use `zero_division` parameter to control this behavior.\n",
      "  _warn_prf(average, modifier, msg_start, len(result))\n",
      "c:\\Users\\UX430\\anaconda3\\lib\\site-packages\\sklearn\\metrics\\_classification.py:1308: UndefinedMetricWarning: Recall and F-score are ill-defined and being set to 0.0 in labels with no true samples. Use `zero_division` parameter to control this behavior.\n",
      "  _warn_prf(average, modifier, msg_start, len(result))\n",
      "c:\\Users\\UX430\\anaconda3\\lib\\site-packages\\sklearn\\metrics\\_classification.py:1308: UndefinedMetricWarning: Precision and F-score are ill-defined and being set to 0.0 in labels with no predicted samples. Use `zero_division` parameter to control this behavior.\n",
      "  _warn_prf(average, modifier, msg_start, len(result))\n",
      "c:\\Users\\UX430\\anaconda3\\lib\\site-packages\\sklearn\\metrics\\_classification.py:1308: UndefinedMetricWarning: Recall and F-score are ill-defined and being set to 0.0 in labels with no true samples. Use `zero_division` parameter to control this behavior.\n",
      "  _warn_prf(average, modifier, msg_start, len(result))\n"
     ]
    },
    {
     "name": "stdout",
     "output_type": "stream",
     "text": [
      "1721/1721 [==============================] - 5s 3ms/step - loss: 7.7813 - accuracy: 0.5541TA: 1s - loss: 10.5774 - accuracy: 0.39\n"
     ]
    },
    {
     "name": "stderr",
     "output_type": "stream",
     "text": [
      "c:\\Users\\UX430\\anaconda3\\lib\\site-packages\\sklearn\\metrics\\_classification.py:1308: UndefinedMetricWarning: Precision and F-score are ill-defined and being set to 0.0 in labels with no predicted samples. Use `zero_division` parameter to control this behavior.\n",
      "  _warn_prf(average, modifier, msg_start, len(result))\n",
      "c:\\Users\\UX430\\anaconda3\\lib\\site-packages\\sklearn\\metrics\\_classification.py:1308: UndefinedMetricWarning: Recall and F-score are ill-defined and being set to 0.0 in labels with no true samples. Use `zero_division` parameter to control this behavior.\n",
      "  _warn_prf(average, modifier, msg_start, len(result))\n",
      "c:\\Users\\UX430\\anaconda3\\lib\\site-packages\\sklearn\\metrics\\_classification.py:1308: UndefinedMetricWarning: Precision and F-score are ill-defined and being set to 0.0 in labels with no predicted samples. Use `zero_division` parameter to control this behavior.\n",
      "  _warn_prf(average, modifier, msg_start, len(result))\n",
      "c:\\Users\\UX430\\anaconda3\\lib\\site-packages\\sklearn\\metrics\\_classification.py:1308: UndefinedMetricWarning: Recall and F-score are ill-defined and being set to 0.0 in labels with no true samples. Use `zero_division` parameter to control this behavior.\n",
      "  _warn_prf(average, modifier, msg_start, len(result))\n",
      "c:\\Users\\UX430\\anaconda3\\lib\\site-packages\\sklearn\\metrics\\_classification.py:1308: UndefinedMetricWarning: Precision and F-score are ill-defined and being set to 0.0 in labels with no predicted samples. Use `zero_division` parameter to control this behavior.\n",
      "  _warn_prf(average, modifier, msg_start, len(result))\n",
      "c:\\Users\\UX430\\anaconda3\\lib\\site-packages\\sklearn\\metrics\\_classification.py:1308: UndefinedMetricWarning: Recall and F-score are ill-defined and being set to 0.0 in labels with no true samples. Use `zero_division` parameter to control this behavior.\n",
      "  _warn_prf(average, modifier, msg_start, len(result))\n"
     ]
    },
    {
     "name": "stdout",
     "output_type": "stream",
     "text": [
      "Epoch 1/5\n",
      "45/45 [==============================] - 8s 171ms/step - loss: 0.0142 - accuracy: 0.9957 - val_loss: 9.2800 - val_accuracy: 0.5133\n",
      "Epoch 2/5\n",
      "45/45 [==============================] - 7s 164ms/step - loss: 0.0135 - accuracy: 0.9957 - val_loss: 9.1042 - val_accuracy: 0.5121\n",
      "Epoch 3/5\n",
      "45/45 [==============================] - 8s 167ms/step - loss: 0.0139 - accuracy: 0.9955 - val_loss: 8.7478 - val_accuracy: 0.5124\n",
      "Epoch 4/5\n",
      "45/45 [==============================] - 8s 172ms/step - loss: 0.0132 - accuracy: 0.9961 - val_loss: 8.8011 - val_accuracy: 0.5132\n",
      "Epoch 5/5\n",
      "45/45 [==============================] - 7s 166ms/step - loss: 0.0130 - accuracy: 0.9959 - val_loss: 8.9435 - val_accuracy: 0.5119\n",
      "Epoch 1/5\n",
      "65/65 [==============================] - 11s 166ms/step - loss: 0.0130 - accuracy: 0.9962 - val_loss: 6.3196 - val_accuracy: 0.6599\n",
      "Epoch 2/5\n",
      "65/65 [==============================] - 11s 169ms/step - loss: 0.0123 - accuracy: 0.9965 - val_loss: 6.7913 - val_accuracy: 0.6585\n",
      "Epoch 3/5\n",
      "65/65 [==============================] - 11s 163ms/step - loss: 0.0119 - accuracy: 0.9965 - val_loss: 7.0435 - val_accuracy: 0.6608\n",
      "Epoch 4/5\n",
      "65/65 [==============================] - 11s 164ms/step - loss: 0.0117 - accuracy: 0.9966 - val_loss: 7.1502 - val_accuracy: 0.6587\n",
      "Epoch 5/5\n",
      "65/65 [==============================] - 11s 169ms/step - loss: 0.0108 - accuracy: 0.9968 - val_loss: 7.4933 - val_accuracy: 0.6602\n",
      "Epoch 1/5\n",
      "52/52 [==============================] - 9s 174ms/step - loss: 0.0190 - accuracy: 0.9954 - val_loss: 8.7679 - val_accuracy: 0.5797\n",
      "Epoch 2/5\n",
      "52/52 [==============================] - 9s 167ms/step - loss: 0.0113 - accuracy: 0.9962 - val_loss: 8.8708 - val_accuracy: 0.5806\n",
      "Epoch 3/5\n",
      "52/52 [==============================] - 9s 166ms/step - loss: 0.0113 - accuracy: 0.9960 - val_loss: 8.8527 - val_accuracy: 0.5790\n",
      "Epoch 4/5\n",
      "52/52 [==============================] - 9s 166ms/step - loss: 0.0110 - accuracy: 0.9964 - val_loss: 8.8692 - val_accuracy: 0.5799\n",
      "Epoch 5/5\n",
      "52/52 [==============================] - 9s 168ms/step - loss: 0.0112 - accuracy: 0.9962 - val_loss: 8.7342 - val_accuracy: 0.5795\n",
      "  33/4279 [..............................] - ETA: 13s - loss: 1.3958 - accuracy: 0.9290"
     ]
    },
    {
     "name": "stderr",
     "output_type": "stream",
     "text": [
      "c:\\Users\\UX430\\anaconda3\\lib\\site-packages\\numpy\\core\\_asarray.py:171: VisibleDeprecationWarning: Creating an ndarray from ragged nested sequences (which is a list-or-tuple of lists-or-tuples-or ndarrays with different lengths or shapes) is deprecated. If you meant to do this, you must specify 'dtype=object' when creating the ndarray.\n",
      "  return array(a, dtype, copy=False, order=order, subok=True)\n"
     ]
    },
    {
     "name": "stdout",
     "output_type": "stream",
     "text": [
      "4279/4279 [==============================] - 12s 3ms/step - loss: 1.6406 - accuracy: 0.9162\n",
      "   1/1721 [..............................] - ETA: 0s - loss: 15.7171 - accuracy: 0.0000e+00"
     ]
    },
    {
     "name": "stderr",
     "output_type": "stream",
     "text": [
      "c:\\Users\\UX430\\anaconda3\\lib\\site-packages\\sklearn\\metrics\\_classification.py:1308: UndefinedMetricWarning: Precision and F-score are ill-defined and being set to 0.0 in labels with no predicted samples. Use `zero_division` parameter to control this behavior.\n",
      "  _warn_prf(average, modifier, msg_start, len(result))\n",
      "c:\\Users\\UX430\\anaconda3\\lib\\site-packages\\sklearn\\metrics\\_classification.py:1308: UndefinedMetricWarning: Recall and F-score are ill-defined and being set to 0.0 in labels with no true samples. Use `zero_division` parameter to control this behavior.\n",
      "  _warn_prf(average, modifier, msg_start, len(result))\n",
      "c:\\Users\\UX430\\anaconda3\\lib\\site-packages\\sklearn\\metrics\\_classification.py:1308: UndefinedMetricWarning: Precision and F-score are ill-defined and being set to 0.0 in labels with no predicted samples. Use `zero_division` parameter to control this behavior.\n",
      "  _warn_prf(average, modifier, msg_start, len(result))\n",
      "c:\\Users\\UX430\\anaconda3\\lib\\site-packages\\sklearn\\metrics\\_classification.py:1308: UndefinedMetricWarning: Recall and F-score are ill-defined and being set to 0.0 in labels with no true samples. Use `zero_division` parameter to control this behavior.\n",
      "  _warn_prf(average, modifier, msg_start, len(result))\n",
      "c:\\Users\\UX430\\anaconda3\\lib\\site-packages\\sklearn\\metrics\\_classification.py:1308: UndefinedMetricWarning: Precision and F-score are ill-defined and being set to 0.0 in labels with no predicted samples. Use `zero_division` parameter to control this behavior.\n",
      "  _warn_prf(average, modifier, msg_start, len(result))\n",
      "c:\\Users\\UX430\\anaconda3\\lib\\site-packages\\sklearn\\metrics\\_classification.py:1308: UndefinedMetricWarning: Recall and F-score are ill-defined and being set to 0.0 in labels with no true samples. Use `zero_division` parameter to control this behavior.\n",
      "  _warn_prf(average, modifier, msg_start, len(result))\n"
     ]
    },
    {
     "name": "stdout",
     "output_type": "stream",
     "text": [
      "1721/1721 [==============================] - 5s 3ms/step - loss: 8.0615 - accuracy: 0.5556\n"
     ]
    },
    {
     "name": "stderr",
     "output_type": "stream",
     "text": [
      "c:\\Users\\UX430\\anaconda3\\lib\\site-packages\\sklearn\\metrics\\_classification.py:1308: UndefinedMetricWarning: Precision and F-score are ill-defined and being set to 0.0 in labels with no predicted samples. Use `zero_division` parameter to control this behavior.\n",
      "  _warn_prf(average, modifier, msg_start, len(result))\n",
      "c:\\Users\\UX430\\anaconda3\\lib\\site-packages\\sklearn\\metrics\\_classification.py:1308: UndefinedMetricWarning: Recall and F-score are ill-defined and being set to 0.0 in labels with no true samples. Use `zero_division` parameter to control this behavior.\n",
      "  _warn_prf(average, modifier, msg_start, len(result))\n",
      "c:\\Users\\UX430\\anaconda3\\lib\\site-packages\\sklearn\\metrics\\_classification.py:1308: UndefinedMetricWarning: Precision and F-score are ill-defined and being set to 0.0 in labels with no predicted samples. Use `zero_division` parameter to control this behavior.\n",
      "  _warn_prf(average, modifier, msg_start, len(result))\n",
      "c:\\Users\\UX430\\anaconda3\\lib\\site-packages\\sklearn\\metrics\\_classification.py:1308: UndefinedMetricWarning: Recall and F-score are ill-defined and being set to 0.0 in labels with no true samples. Use `zero_division` parameter to control this behavior.\n",
      "  _warn_prf(average, modifier, msg_start, len(result))\n",
      "c:\\Users\\UX430\\anaconda3\\lib\\site-packages\\sklearn\\metrics\\_classification.py:1308: UndefinedMetricWarning: Precision and F-score are ill-defined and being set to 0.0 in labels with no predicted samples. Use `zero_division` parameter to control this behavior.\n",
      "  _warn_prf(average, modifier, msg_start, len(result))\n",
      "c:\\Users\\UX430\\anaconda3\\lib\\site-packages\\sklearn\\metrics\\_classification.py:1308: UndefinedMetricWarning: Recall and F-score are ill-defined and being set to 0.0 in labels with no true samples. Use `zero_division` parameter to control this behavior.\n",
      "  _warn_prf(average, modifier, msg_start, len(result))\n"
     ]
    },
    {
     "name": "stdout",
     "output_type": "stream",
     "text": [
      "Epoch 1/5\n",
      "45/45 [==============================] - 8s 169ms/step - loss: 0.0127 - accuracy: 0.9958 - val_loss: 9.5828 - val_accuracy: 0.5132\n",
      "Epoch 2/5\n",
      "45/45 [==============================] - 7s 166ms/step - loss: 0.0117 - accuracy: 0.9960 - val_loss: 9.7190 - val_accuracy: 0.5130\n",
      "Epoch 3/5\n",
      "45/45 [==============================] - 7s 165ms/step - loss: 0.0120 - accuracy: 0.9961 - val_loss: 9.8451 - val_accuracy: 0.5138\n",
      "Epoch 4/5\n",
      "45/45 [==============================] - 7s 164ms/step - loss: 0.0119 - accuracy: 0.9961 - val_loss: 9.4391 - val_accuracy: 0.5139\n",
      "Epoch 5/5\n",
      "45/45 [==============================] - 7s 163ms/step - loss: 0.0116 - accuracy: 0.9963 - val_loss: 9.5890 - val_accuracy: 0.5137\n",
      "Epoch 1/5\n",
      "65/65 [==============================] - 11s 163ms/step - loss: 0.0110 - accuracy: 0.9968 - val_loss: 6.7022 - val_accuracy: 0.6584\n",
      "Epoch 2/5\n",
      "65/65 [==============================] - 11s 163ms/step - loss: 0.0099 - accuracy: 0.9971 - val_loss: 7.3685 - val_accuracy: 0.6580\n",
      "Epoch 3/5\n",
      "65/65 [==============================] - 11s 163ms/step - loss: 0.0098 - accuracy: 0.9971 - val_loss: 7.7565 - val_accuracy: 0.6569\n",
      "Epoch 4/5\n",
      "65/65 [==============================] - 11s 163ms/step - loss: 0.0096 - accuracy: 0.9972 - val_loss: 7.8797 - val_accuracy: 0.6587\n",
      "Epoch 5/5\n",
      "65/65 [==============================] - 11s 164ms/step - loss: 0.0092 - accuracy: 0.9971 - val_loss: 7.9827 - val_accuracy: 0.6587\n",
      "Epoch 1/5\n",
      "52/52 [==============================] - 9s 168ms/step - loss: 0.0161 - accuracy: 0.9957 - val_loss: 9.5675 - val_accuracy: 0.5803\n",
      "Epoch 2/5\n",
      "52/52 [==============================] - 8s 163ms/step - loss: 0.0101 - accuracy: 0.9966 - val_loss: 9.5782 - val_accuracy: 0.5801\n",
      "Epoch 3/5\n",
      "52/52 [==============================] - 8s 163ms/step - loss: 0.0097 - accuracy: 0.9968 - val_loss: 9.7030 - val_accuracy: 0.5801\n",
      "Epoch 4/5\n",
      "52/52 [==============================] - 9s 164ms/step - loss: 0.0094 - accuracy: 0.9969 - val_loss: 9.8932 - val_accuracy: 0.5801\n",
      "Epoch 5/5\n",
      "52/52 [==============================] - 9s 164ms/step - loss: 0.0095 - accuracy: 0.9967 - val_loss: 9.9493 - val_accuracy: 0.5796\n",
      "  34/4279 [..............................] - ETA: 12s - loss: 1.5209 - accuracy: 0.9292"
     ]
    },
    {
     "name": "stderr",
     "output_type": "stream",
     "text": [
      "c:\\Users\\UX430\\anaconda3\\lib\\site-packages\\numpy\\core\\_asarray.py:171: VisibleDeprecationWarning: Creating an ndarray from ragged nested sequences (which is a list-or-tuple of lists-or-tuples-or ndarrays with different lengths or shapes) is deprecated. If you meant to do this, you must specify 'dtype=object' when creating the ndarray.\n",
      "  return array(a, dtype, copy=False, order=order, subok=True)\n"
     ]
    },
    {
     "name": "stdout",
     "output_type": "stream",
     "text": [
      "4279/4279 [==============================] - 12s 3ms/step - loss: 1.7922 - accuracy: 0.9175\n",
      "   1/1721 [..............................] - ETA: 0s - loss: 17.0384 - accuracy: 0.0000e+00"
     ]
    },
    {
     "name": "stderr",
     "output_type": "stream",
     "text": [
      "c:\\Users\\UX430\\anaconda3\\lib\\site-packages\\sklearn\\metrics\\_classification.py:1308: UndefinedMetricWarning: Precision and F-score are ill-defined and being set to 0.0 in labels with no predicted samples. Use `zero_division` parameter to control this behavior.\n",
      "  _warn_prf(average, modifier, msg_start, len(result))\n",
      "c:\\Users\\UX430\\anaconda3\\lib\\site-packages\\sklearn\\metrics\\_classification.py:1308: UndefinedMetricWarning: Recall and F-score are ill-defined and being set to 0.0 in labels with no true samples. Use `zero_division` parameter to control this behavior.\n",
      "  _warn_prf(average, modifier, msg_start, len(result))\n",
      "c:\\Users\\UX430\\anaconda3\\lib\\site-packages\\sklearn\\metrics\\_classification.py:1308: UndefinedMetricWarning: Precision and F-score are ill-defined and being set to 0.0 in labels with no predicted samples. Use `zero_division` parameter to control this behavior.\n",
      "  _warn_prf(average, modifier, msg_start, len(result))\n",
      "c:\\Users\\UX430\\anaconda3\\lib\\site-packages\\sklearn\\metrics\\_classification.py:1308: UndefinedMetricWarning: Recall and F-score are ill-defined and being set to 0.0 in labels with no true samples. Use `zero_division` parameter to control this behavior.\n",
      "  _warn_prf(average, modifier, msg_start, len(result))\n",
      "c:\\Users\\UX430\\anaconda3\\lib\\site-packages\\sklearn\\metrics\\_classification.py:1308: UndefinedMetricWarning: Precision and F-score are ill-defined and being set to 0.0 in labels with no predicted samples. Use `zero_division` parameter to control this behavior.\n",
      "  _warn_prf(average, modifier, msg_start, len(result))\n",
      "c:\\Users\\UX430\\anaconda3\\lib\\site-packages\\sklearn\\metrics\\_classification.py:1308: UndefinedMetricWarning: Recall and F-score are ill-defined and being set to 0.0 in labels with no true samples. Use `zero_division` parameter to control this behavior.\n",
      "  _warn_prf(average, modifier, msg_start, len(result))\n"
     ]
    },
    {
     "name": "stdout",
     "output_type": "stream",
     "text": [
      "1721/1721 [==============================] - 5s 3ms/step - loss: 8.7740 - accuracy: 0.5577\n"
     ]
    },
    {
     "name": "stderr",
     "output_type": "stream",
     "text": [
      "c:\\Users\\UX430\\anaconda3\\lib\\site-packages\\sklearn\\metrics\\_classification.py:1308: UndefinedMetricWarning: Precision and F-score are ill-defined and being set to 0.0 in labels with no predicted samples. Use `zero_division` parameter to control this behavior.\n",
      "  _warn_prf(average, modifier, msg_start, len(result))\n",
      "c:\\Users\\UX430\\anaconda3\\lib\\site-packages\\sklearn\\metrics\\_classification.py:1308: UndefinedMetricWarning: Recall and F-score are ill-defined and being set to 0.0 in labels with no true samples. Use `zero_division` parameter to control this behavior.\n",
      "  _warn_prf(average, modifier, msg_start, len(result))\n",
      "c:\\Users\\UX430\\anaconda3\\lib\\site-packages\\sklearn\\metrics\\_classification.py:1308: UndefinedMetricWarning: Precision and F-score are ill-defined and being set to 0.0 in labels with no predicted samples. Use `zero_division` parameter to control this behavior.\n",
      "  _warn_prf(average, modifier, msg_start, len(result))\n",
      "c:\\Users\\UX430\\anaconda3\\lib\\site-packages\\sklearn\\metrics\\_classification.py:1308: UndefinedMetricWarning: Recall and F-score are ill-defined and being set to 0.0 in labels with no true samples. Use `zero_division` parameter to control this behavior.\n",
      "  _warn_prf(average, modifier, msg_start, len(result))\n",
      "c:\\Users\\UX430\\anaconda3\\lib\\site-packages\\sklearn\\metrics\\_classification.py:1308: UndefinedMetricWarning: Precision and F-score are ill-defined and being set to 0.0 in labels with no predicted samples. Use `zero_division` parameter to control this behavior.\n",
      "  _warn_prf(average, modifier, msg_start, len(result))\n",
      "c:\\Users\\UX430\\anaconda3\\lib\\site-packages\\sklearn\\metrics\\_classification.py:1308: UndefinedMetricWarning: Recall and F-score are ill-defined and being set to 0.0 in labels with no true samples. Use `zero_division` parameter to control this behavior.\n",
      "  _warn_prf(average, modifier, msg_start, len(result))\n"
     ]
    },
    {
     "name": "stdout",
     "output_type": "stream",
     "text": [
      "Epoch 1/5\n",
      "45/45 [==============================] - 7s 165ms/step - loss: 0.0106 - accuracy: 0.9966 - val_loss: 11.1501 - val_accuracy: 0.5137\n",
      "Epoch 2/5\n",
      "45/45 [==============================] - 7s 162ms/step - loss: 0.0103 - accuracy: 0.9965 - val_loss: 11.0021 - val_accuracy: 0.5130\n",
      "Epoch 3/5\n",
      "45/45 [==============================] - 7s 163ms/step - loss: 0.0101 - accuracy: 0.9968 - val_loss: 11.1645 - val_accuracy: 0.5131\n",
      "Epoch 4/5\n",
      "45/45 [==============================] - 7s 163ms/step - loss: 0.0105 - accuracy: 0.9969 - val_loss: 10.8333 - val_accuracy: 0.5129\n",
      "Epoch 5/5\n",
      "45/45 [==============================] - 7s 163ms/step - loss: 0.0098 - accuracy: 0.9965 - val_loss: 10.7022 - val_accuracy: 0.5135\n",
      "Epoch 1/5\n",
      "65/65 [==============================] - 11s 165ms/step - loss: 0.0098 - accuracy: 0.9971 - val_loss: 7.2536 - val_accuracy: 0.6588\n",
      "Epoch 2/5\n",
      "65/65 [==============================] - 11s 164ms/step - loss: 0.0087 - accuracy: 0.9973 - val_loss: 7.5288 - val_accuracy: 0.6577\n",
      "Epoch 3/5\n",
      "65/65 [==============================] - 11s 163ms/step - loss: 0.0084 - accuracy: 0.9975 - val_loss: 7.8655 - val_accuracy: 0.6578\n",
      "Epoch 4/5\n",
      "65/65 [==============================] - 11s 165ms/step - loss: 0.0083 - accuracy: 0.9975 - val_loss: 8.2072 - val_accuracy: 0.6603\n",
      "Epoch 5/5\n",
      "65/65 [==============================] - 11s 163ms/step - loss: 0.0085 - accuracy: 0.9975 - val_loss: 8.0612 - val_accuracy: 0.6592\n",
      "Epoch 1/5\n",
      "52/52 [==============================] - 9s 169ms/step - loss: 0.0116 - accuracy: 0.9964 - val_loss: 9.8965 - val_accuracy: 0.5785\n",
      "Epoch 2/5\n",
      "52/52 [==============================] - 9s 168ms/step - loss: 0.0089 - accuracy: 0.9970 - val_loss: 9.9369 - val_accuracy: 0.5796\n",
      "Epoch 3/5\n",
      "52/52 [==============================] - 9s 168ms/step - loss: 0.0087 - accuracy: 0.9971 - val_loss: 9.9369 - val_accuracy: 0.5799\n",
      "Epoch 4/5\n",
      "52/52 [==============================] - 9s 169ms/step - loss: 0.0083 - accuracy: 0.9971 - val_loss: 10.0104 - val_accuracy: 0.5789\n",
      "Epoch 5/5\n",
      "52/52 [==============================] - 9s 168ms/step - loss: 0.0086 - accuracy: 0.9971 - val_loss: 10.1157 - val_accuracy: 0.5806\n",
      "  34/4279 [..............................] - ETA: 12s - loss: 1.5885 - accuracy: 0.9311"
     ]
    },
    {
     "name": "stderr",
     "output_type": "stream",
     "text": [
      "c:\\Users\\UX430\\anaconda3\\lib\\site-packages\\numpy\\core\\_asarray.py:171: VisibleDeprecationWarning: Creating an ndarray from ragged nested sequences (which is a list-or-tuple of lists-or-tuples-or ndarrays with different lengths or shapes) is deprecated. If you meant to do this, you must specify 'dtype=object' when creating the ndarray.\n",
      "  return array(a, dtype, copy=False, order=order, subok=True)\n"
     ]
    },
    {
     "name": "stdout",
     "output_type": "stream",
     "text": [
      "4279/4279 [==============================] - 12s 3ms/step - loss: 1.8739 - accuracy: 0.9179\n",
      "   1/1721 [..............................] - ETA: 0s - loss: 18.0856 - accuracy: 0.0000e+00"
     ]
    },
    {
     "name": "stderr",
     "output_type": "stream",
     "text": [
      "c:\\Users\\UX430\\anaconda3\\lib\\site-packages\\sklearn\\metrics\\_classification.py:1308: UndefinedMetricWarning: Precision and F-score are ill-defined and being set to 0.0 in labels with no predicted samples. Use `zero_division` parameter to control this behavior.\n",
      "  _warn_prf(average, modifier, msg_start, len(result))\n",
      "c:\\Users\\UX430\\anaconda3\\lib\\site-packages\\sklearn\\metrics\\_classification.py:1308: UndefinedMetricWarning: Recall and F-score are ill-defined and being set to 0.0 in labels with no true samples. Use `zero_division` parameter to control this behavior.\n",
      "  _warn_prf(average, modifier, msg_start, len(result))\n",
      "c:\\Users\\UX430\\anaconda3\\lib\\site-packages\\sklearn\\metrics\\_classification.py:1308: UndefinedMetricWarning: Precision and F-score are ill-defined and being set to 0.0 in labels with no predicted samples. Use `zero_division` parameter to control this behavior.\n",
      "  _warn_prf(average, modifier, msg_start, len(result))\n",
      "c:\\Users\\UX430\\anaconda3\\lib\\site-packages\\sklearn\\metrics\\_classification.py:1308: UndefinedMetricWarning: Recall and F-score are ill-defined and being set to 0.0 in labels with no true samples. Use `zero_division` parameter to control this behavior.\n",
      "  _warn_prf(average, modifier, msg_start, len(result))\n",
      "c:\\Users\\UX430\\anaconda3\\lib\\site-packages\\sklearn\\metrics\\_classification.py:1308: UndefinedMetricWarning: Precision and F-score are ill-defined and being set to 0.0 in labels with no predicted samples. Use `zero_division` parameter to control this behavior.\n",
      "  _warn_prf(average, modifier, msg_start, len(result))\n",
      "c:\\Users\\UX430\\anaconda3\\lib\\site-packages\\sklearn\\metrics\\_classification.py:1308: UndefinedMetricWarning: Recall and F-score are ill-defined and being set to 0.0 in labels with no true samples. Use `zero_division` parameter to control this behavior.\n",
      "  _warn_prf(average, modifier, msg_start, len(result))\n"
     ]
    },
    {
     "name": "stdout",
     "output_type": "stream",
     "text": [
      "1721/1721 [==============================] - 5s 3ms/step - loss: 9.1641 - accuracy: 0.5584\n"
     ]
    },
    {
     "name": "stderr",
     "output_type": "stream",
     "text": [
      "c:\\Users\\UX430\\anaconda3\\lib\\site-packages\\sklearn\\metrics\\_classification.py:1308: UndefinedMetricWarning: Precision and F-score are ill-defined and being set to 0.0 in labels with no predicted samples. Use `zero_division` parameter to control this behavior.\n",
      "  _warn_prf(average, modifier, msg_start, len(result))\n",
      "c:\\Users\\UX430\\anaconda3\\lib\\site-packages\\sklearn\\metrics\\_classification.py:1308: UndefinedMetricWarning: Recall and F-score are ill-defined and being set to 0.0 in labels with no true samples. Use `zero_division` parameter to control this behavior.\n",
      "  _warn_prf(average, modifier, msg_start, len(result))\n",
      "c:\\Users\\UX430\\anaconda3\\lib\\site-packages\\sklearn\\metrics\\_classification.py:1308: UndefinedMetricWarning: Precision and F-score are ill-defined and being set to 0.0 in labels with no predicted samples. Use `zero_division` parameter to control this behavior.\n",
      "  _warn_prf(average, modifier, msg_start, len(result))\n",
      "c:\\Users\\UX430\\anaconda3\\lib\\site-packages\\sklearn\\metrics\\_classification.py:1308: UndefinedMetricWarning: Recall and F-score are ill-defined and being set to 0.0 in labels with no true samples. Use `zero_division` parameter to control this behavior.\n",
      "  _warn_prf(average, modifier, msg_start, len(result))\n",
      "c:\\Users\\UX430\\anaconda3\\lib\\site-packages\\sklearn\\metrics\\_classification.py:1308: UndefinedMetricWarning: Precision and F-score are ill-defined and being set to 0.0 in labels with no predicted samples. Use `zero_division` parameter to control this behavior.\n",
      "  _warn_prf(average, modifier, msg_start, len(result))\n",
      "c:\\Users\\UX430\\anaconda3\\lib\\site-packages\\sklearn\\metrics\\_classification.py:1308: UndefinedMetricWarning: Recall and F-score are ill-defined and being set to 0.0 in labels with no true samples. Use `zero_division` parameter to control this behavior.\n",
      "  _warn_prf(average, modifier, msg_start, len(result))\n"
     ]
    }
   ],
   "source": [
    "# Values saved each iteration \n",
    "loss_it = []\n",
    "accuracy_it = []\n",
    "f1_it = []\n",
    "precision_it = []\n",
    "recall_it = []\n",
    "\n",
    "for i in range(global_updates): \n",
    "    w_list = []\n",
    "    for node in range(num_nodes): \n",
    "        cp = global_model # create a copy of the global model\n",
    "        if node == 0:\n",
    "            x, y = x1, y1\n",
    "        elif node == 1:\n",
    "            x, y = x2, y2\n",
    "        else:\n",
    "            x, y = x3, y3\n",
    "        local_model, local_loss, local_acc, local_val_loss, local_val_acc = train_local_model(cp, node, x, y)\n",
    "        w_list.append(local_model.get_weights())\n",
    "\n",
    "    avg_w = aggregate(w_list)\n",
    "    global_model.set_weights(avg_w) # apply gradients to global model\n",
    "    loss_basic, accuracy_basic, f1_basic, precision_basic, recall_basic = evaluation(global_model, xbasic, ybasic) # Evaluate with test basic to know progress\n",
    "    loss_plus, accuracy_plus, f1_plus, precision_plus, recall_plus = evaluation(global_model, xplus, yplus) # Evaluate with test plus to know progress\n",
    "\n",
    "    loss_it.append([loss_basic, loss_plus])\n",
    "    accuracy_it.append([accuracy_basic, accuracy_plus])\n",
    "    f1_it.append([f1_basic, f1_plus])\n",
    "    precision_it.append([precision_basic, precision_plus])\n",
    "    recall_it.append([recall_basic, recall_plus])\n",
    "\n",
    "\n",
    "global_model.save('C:/Users/UX430/Documents/thesis/code/models/id306.hdf5')"
   ]
  },
  {
   "cell_type": "code",
   "execution_count": 52,
   "metadata": {},
   "outputs": [
    {
     "name": "stdout",
     "output_type": "stream",
     "text": [
      "Loss for iterations:  [[1.4525729417800903, 7.558960914611816], [1.5479938983917236, 7.78129768371582], [1.6405596733093262, 8.061517715454102], [1.7921552658081055, 8.774020195007324], [1.8738912343978882, 9.164085388183594]]\n",
      "Accuracy for iterations:  [[0.9122089743614197, 0.5516420602798462], [0.9152327179908752, 0.5541306138038635], [0.9162040948867798, 0.5555656552314758], [0.9174530506134033, 0.5576909184455872], [0.917905867099762, 0.5583630204200745]]\n",
      "F1 for iterations:  [[0.8764874773768301, 0.537665328128295], [0.8782155900272335, 0.4871722672212882], [0.8787972930849102, 0.45554641794728656], [0.8798821635923831, 0.4344358645788631], [0.8803036198458515, 0.43391922472364236]]\n",
      "Precision for iterations:  [[0.8471109102220106, 0.5243793192040754], [0.8453523964221387, 0.4346511927029071], [0.8449277985539658, 0.3860460325769778], [0.8456688538813, 0.3558005310268673], [0.846038356256242, 0.354836021296355]]\n",
      "Recall for iterations:  [[0.9122089456308978, 0.5516420838479983], [0.9152326974203161, 0.5541306401220664], [0.9162040959420374, 0.5555656470246313], [0.9174530368985363, 0.5576909104119742], [0.9179058692921207, 0.5583630022524159]]\n"
     ]
    }
   ],
   "source": [
    "print(\"Loss for iterations: \", loss_it)\n",
    "print(\"Accuracy for iterations: \", accuracy_it)\n",
    "print(\"F1 for iterations: \", f1_it)\n",
    "print(\"Precision for iterations: \", precision_it)\n",
    "print(\"Recall for iterations: \", recall_it)"
   ]
  },
  {
   "cell_type": "markdown",
   "metadata": {},
   "source": [
    "### Experimenting with epochs and iterations \n",
    "\n",
    "Use of dataset 3C, considering it contains an equal partition of the data between the 3 nodes. "
   ]
  },
  {
   "cell_type": "markdown",
   "metadata": {},
   "source": [
    "#### #Epochs = 10, #Iterations = 10"
   ]
  },
  {
   "cell_type": "code",
   "execution_count": 5,
   "metadata": {},
   "outputs": [
    {
     "name": "stderr",
     "output_type": "stream",
     "text": [
      "C:\\Users\\UX430\\AppData\\Local\\Temp/ipykernel_18676/1685572531.py:2: DtypeWarning: Columns (2,4) have mixed types. Specify dtype option on import or set low_memory=False.\n",
      "  training1 = pd.read_csv('C:/Users/UX430/Documents/thesis/datasets/UNSW-NB15/UNSW-NB15-Train-Basic-3C-Part1.csv')\n",
      "C:\\Users\\UX430\\AppData\\Local\\Temp/ipykernel_18676/1685572531.py:3: DtypeWarning: Columns (4) have mixed types. Specify dtype option on import or set low_memory=False.\n",
      "  training2 = pd.read_csv('C:/Users/UX430/Documents/thesis/datasets/UNSW-NB15/UNSW-NB15-Train-Basic-3C-Part2.csv')\n",
      "C:\\Users\\UX430\\AppData\\Local\\Temp/ipykernel_18676/1685572531.py:4: DtypeWarning: Columns (4) have mixed types. Specify dtype option on import or set low_memory=False.\n",
      "  training3 = pd.read_csv('C:/Users/UX430/Documents/thesis/datasets/UNSW-NB15/UNSW-NB15-Train-Basic-3C-Part3.csv')\n",
      "C:\\Users\\UX430\\AppData\\Local\\Temp/ipykernel_18676/1685572531.py:5: DtypeWarning: Columns (4) have mixed types. Specify dtype option on import or set low_memory=False.\n",
      "  test_basic = pd.read_csv('C:/Users/UX430/Documents/thesis/datasets/UNSW-NB15/UNSW-NB15-Test-Basic.csv')\n"
     ]
    }
   ],
   "source": [
    "# Load training datasets and testing datasets \n",
    "training1 = pd.read_csv('C:/Users/UX430/Documents/thesis/datasets/UNSW-NB15/UNSW-NB15-Train-Basic-3C-Part1.csv')\n",
    "training2 = pd.read_csv('C:/Users/UX430/Documents/thesis/datasets/UNSW-NB15/UNSW-NB15-Train-Basic-3C-Part2.csv')\n",
    "training3 = pd.read_csv('C:/Users/UX430/Documents/thesis/datasets/UNSW-NB15/UNSW-NB15-Train-Basic-3C-Part3.csv')\n",
    "test_basic = pd.read_csv('C:/Users/UX430/Documents/thesis/datasets/UNSW-NB15/UNSW-NB15-Test-Basic.csv')\n",
    "test_plus = pd.read_csv('C:/Users/UX430/Documents/thesis/datasets/UNSW-NB15/UNSW-NB15-Test+.csv')"
   ]
  },
  {
   "cell_type": "code",
   "execution_count": 6,
   "metadata": {},
   "outputs": [],
   "source": [
    "# Define \n",
    "node_datasets = [training1, training2, training3]\n",
    "num_nodes = 3\n",
    "global_updates = 10\n",
    "\n",
    "# Define model training parameters\n",
    "loss_fct = \"categorical_crossentropy\"\n",
    "metrics = ['accuracy']\n",
    "local_epochs = 10"
   ]
  },
  {
   "cell_type": "code",
   "execution_count": 7,
   "metadata": {},
   "outputs": [],
   "source": [
    "def train_local_model(model, node, x_train, y_train): \n",
    "    filepath = 'C:/Users/UX430/Documents/thesis/code/models/node'+str(node)+'ID310.hdf5'\n",
    "    callbacks = [\n",
    "            keras.callbacks.EarlyStopping(\n",
    "                monitor = 'val_loss', # Use accuracy to monitor the model\n",
    "                patience = 10 # Stop after 10 steps with lower accuracy\n",
    "            ),\n",
    "            keras.callbacks.ModelCheckpoint(\n",
    "                filepath = filepath, # file where the checkpoint is saved\n",
    "                monitor = 'val_loss', # Don't overwrite the saved model unless val_loss is worse\n",
    "                save_best_only = True)]# Only save model if it is the best\n",
    "    optimizer = keras.optimizers.Adam(learning_rate=5e-4)\n",
    "    model.compile(optimizer=optimizer, loss=loss_fct, metrics=metrics)\n",
    "    history = model.fit(x_train, y_train, epochs=local_epochs, validation_split=0.2, callbacks=callbacks, batch_size=2048)\n",
    "    return model, history.history['loss'], history.history['accuracy'], history.history['val_loss'], history.history['val_accuracy']"
   ]
  },
  {
   "cell_type": "code",
   "execution_count": 8,
   "metadata": {},
   "outputs": [],
   "source": [
    "def aggregate(w_list): \n",
    "    avg_w = np.mean(w_list, axis=0)\n",
    "    return avg_w"
   ]
  },
  {
   "cell_type": "code",
   "execution_count": 9,
   "metadata": {},
   "outputs": [],
   "source": [
    "global_model = build_model((24,1,1))"
   ]
  },
  {
   "cell_type": "code",
   "execution_count": 10,
   "metadata": {},
   "outputs": [],
   "source": [
    "x1, y1 = preprocessing(training1)\n",
    "x2, y2 = preprocessing(training2)\n",
    "x3, y3 = preprocessing(training3)\n",
    "xbasic, ybasic = preprocessing(test_basic)\n",
    "xplus, yplus = preprocessing(test_plus)"
   ]
  },
  {
   "cell_type": "code",
   "execution_count": 11,
   "metadata": {},
   "outputs": [
    {
     "name": "stdout",
     "output_type": "stream",
     "text": [
      "Epoch 1/10\n",
      "54/54 [==============================] - 9s 175ms/step - loss: 0.8036 - accuracy: 0.8386 - val_loss: 4.5136 - val_accuracy: 0.5857\n",
      "Epoch 2/10\n",
      "54/54 [==============================] - 10s 194ms/step - loss: 0.0506 - accuracy: 0.9921 - val_loss: 4.7649 - val_accuracy: 0.5858\n",
      "Epoch 3/10\n",
      "54/54 [==============================] - 11s 203ms/step - loss: 0.0295 - accuracy: 0.9927 - val_loss: 4.9133 - val_accuracy: 0.5860\n",
      "Epoch 4/10\n",
      "54/54 [==============================] - 11s 205ms/step - loss: 0.0267 - accuracy: 0.9927 - val_loss: 4.9926 - val_accuracy: 0.5862\n",
      "Epoch 5/10\n",
      "54/54 [==============================] - 10s 194ms/step - loss: 0.0254 - accuracy: 0.9927 - val_loss: 5.0472 - val_accuracy: 0.5866\n",
      "Epoch 6/10\n",
      "54/54 [==============================] - 17s 321ms/step - loss: 0.0242 - accuracy: 0.9928 - val_loss: 5.1357 - val_accuracy: 0.5863\n",
      "Epoch 7/10\n",
      "54/54 [==============================] - 14s 261ms/step - loss: 0.0230 - accuracy: 0.9929 - val_loss: 5.2242 - val_accuracy: 0.5863\n",
      "Epoch 8/10\n",
      "54/54 [==============================] - 11s 199ms/step - loss: 0.0220 - accuracy: 0.9930 - val_loss: 5.3076 - val_accuracy: 0.5864\n",
      "Epoch 9/10\n",
      "54/54 [==============================] - 12s 216ms/step - loss: 0.0210 - accuracy: 0.9933 - val_loss: 5.3801 - val_accuracy: 0.5871\n",
      "Epoch 10/10\n",
      "54/54 [==============================] - 12s 227ms/step - loss: 0.0200 - accuracy: 0.9936 - val_loss: 5.5041 - val_accuracy: 0.5870\n",
      "Epoch 1/10\n",
      "54/54 [==============================] - 11s 208ms/step - loss: 0.0185 - accuracy: 0.9939 - val_loss: 6.3282 - val_accuracy: 0.5896\n",
      "Epoch 2/10\n",
      "54/54 [==============================] - 13s 235ms/step - loss: 0.0167 - accuracy: 0.9949 - val_loss: 7.0785 - val_accuracy: 0.5912\n",
      "Epoch 3/10\n",
      "54/54 [==============================] - 14s 256ms/step - loss: 0.0153 - accuracy: 0.9953 - val_loss: 7.7317 - val_accuracy: 0.5927\n",
      "Epoch 4/10\n",
      "54/54 [==============================] - 12s 214ms/step - loss: 0.0148 - accuracy: 0.9956 - val_loss: 8.1746 - val_accuracy: 0.5930\n",
      "Epoch 5/10\n",
      "54/54 [==============================] - 12s 216ms/step - loss: 0.0152 - accuracy: 0.9953 - val_loss: 7.7247 - val_accuracy: 0.5904\n",
      "Epoch 6/10\n",
      "54/54 [==============================] - 14s 257ms/step - loss: 0.0145 - accuracy: 0.9957 - val_loss: 7.8963 - val_accuracy: 0.5930\n",
      "Epoch 7/10\n",
      "54/54 [==============================] - 13s 233ms/step - loss: 0.0142 - accuracy: 0.9958 - val_loss: 8.0590 - val_accuracy: 0.5919\n",
      "Epoch 8/10\n",
      "54/54 [==============================] - 13s 234ms/step - loss: 0.0141 - accuracy: 0.9960 - val_loss: 8.0496 - val_accuracy: 0.5927\n",
      "Epoch 9/10\n",
      "54/54 [==============================] - 12s 220ms/step - loss: 0.0142 - accuracy: 0.9958 - val_loss: 7.8264 - val_accuracy: 0.5930\n",
      "Epoch 10/10\n",
      "54/54 [==============================] - 11s 211ms/step - loss: 0.0140 - accuracy: 0.9961 - val_loss: 7.7798 - val_accuracy: 0.5916\n",
      "Epoch 1/10\n",
      "54/54 [==============================] - 11s 213ms/step - loss: 0.0133 - accuracy: 0.9958 - val_loss: 7.6174 - val_accuracy: 0.5929\n",
      "Epoch 2/10\n",
      "54/54 [==============================] - 11s 210ms/step - loss: 0.0128 - accuracy: 0.9962 - val_loss: 7.5639 - val_accuracy: 0.5938\n",
      "Epoch 3/10\n",
      "54/54 [==============================] - 11s 195ms/step - loss: 0.0128 - accuracy: 0.9962 - val_loss: 7.7434 - val_accuracy: 0.5952\n",
      "Epoch 4/10\n",
      "54/54 [==============================] - 9s 159ms/step - loss: 0.0127 - accuracy: 0.9962 - val_loss: 7.6996 - val_accuracy: 0.5937\n",
      "Epoch 5/10\n",
      "54/54 [==============================] - 8s 157ms/step - loss: 0.0126 - accuracy: 0.9961 - val_loss: 7.6284 - val_accuracy: 0.5934\n",
      "Epoch 6/10\n",
      "54/54 [==============================] - 9s 159ms/step - loss: 0.0128 - accuracy: 0.9962 - val_loss: 7.5624 - val_accuracy: 0.5949\n",
      "Epoch 7/10\n",
      "54/54 [==============================] - 10s 181ms/step - loss: 0.0127 - accuracy: 0.9961 - val_loss: 7.4019 - val_accuracy: 0.5946\n",
      "Epoch 8/10\n",
      "54/54 [==============================] - 9s 175ms/step - loss: 0.0123 - accuracy: 0.9963 - val_loss: 7.5414 - val_accuracy: 0.5946\n",
      "Epoch 9/10\n",
      "54/54 [==============================] - 9s 168ms/step - loss: 0.0122 - accuracy: 0.9964 - val_loss: 7.7213 - val_accuracy: 0.5941\n",
      "Epoch 10/10\n",
      "54/54 [==============================] - 9s 175ms/step - loss: 0.0121 - accuracy: 0.9965 - val_loss: 7.8426 - val_accuracy: 0.5946\n",
      "  16/4279 [..............................] - ETA: 13s - loss: 1.3832 - accuracy: 0.9160"
     ]
    },
    {
     "name": "stderr",
     "output_type": "stream",
     "text": [
      "c:\\Users\\UX430\\anaconda3\\lib\\site-packages\\numpy\\core\\_asarray.py:171: VisibleDeprecationWarning: Creating an ndarray from ragged nested sequences (which is a list-or-tuple of lists-or-tuples-or ndarrays with different lengths or shapes) is deprecated. If you meant to do this, you must specify 'dtype=object' when creating the ndarray.\n",
      "  return array(a, dtype, copy=False, order=order, subok=True)\n"
     ]
    },
    {
     "name": "stdout",
     "output_type": "stream",
     "text": [
      "4279/4279 [==============================] - 20s 5ms/step - loss: 1.4489 - accuracy: 0.9120\n"
     ]
    },
    {
     "name": "stderr",
     "output_type": "stream",
     "text": [
      "c:\\Users\\UX430\\anaconda3\\lib\\site-packages\\sklearn\\metrics\\_classification.py:1308: UndefinedMetricWarning: Precision and F-score are ill-defined and being set to 0.0 in labels with no predicted samples. Use `zero_division` parameter to control this behavior.\n",
      "  _warn_prf(average, modifier, msg_start, len(result))\n",
      "c:\\Users\\UX430\\anaconda3\\lib\\site-packages\\sklearn\\metrics\\_classification.py:1308: UndefinedMetricWarning: Recall and F-score are ill-defined and being set to 0.0 in labels with no true samples. Use `zero_division` parameter to control this behavior.\n",
      "  _warn_prf(average, modifier, msg_start, len(result))\n",
      "c:\\Users\\UX430\\anaconda3\\lib\\site-packages\\sklearn\\metrics\\_classification.py:1308: UndefinedMetricWarning: Precision and F-score are ill-defined and being set to 0.0 in labels with no predicted samples. Use `zero_division` parameter to control this behavior.\n",
      "  _warn_prf(average, modifier, msg_start, len(result))\n",
      "c:\\Users\\UX430\\anaconda3\\lib\\site-packages\\sklearn\\metrics\\_classification.py:1308: UndefinedMetricWarning: Recall and F-score are ill-defined and being set to 0.0 in labels with no true samples. Use `zero_division` parameter to control this behavior.\n",
      "  _warn_prf(average, modifier, msg_start, len(result))\n",
      "c:\\Users\\UX430\\anaconda3\\lib\\site-packages\\sklearn\\metrics\\_classification.py:1308: UndefinedMetricWarning: Precision and F-score are ill-defined and being set to 0.0 in labels with no predicted samples. Use `zero_division` parameter to control this behavior.\n",
      "  _warn_prf(average, modifier, msg_start, len(result))\n",
      "c:\\Users\\UX430\\anaconda3\\lib\\site-packages\\sklearn\\metrics\\_classification.py:1308: UndefinedMetricWarning: Recall and F-score are ill-defined and being set to 0.0 in labels with no true samples. Use `zero_division` parameter to control this behavior.\n",
      "  _warn_prf(average, modifier, msg_start, len(result))\n"
     ]
    },
    {
     "name": "stdout",
     "output_type": "stream",
     "text": [
      "1721/1721 [==============================] - 8s 5ms/step - loss: 6.9076 - accuracy: 0.5534\n"
     ]
    },
    {
     "name": "stderr",
     "output_type": "stream",
     "text": [
      "c:\\Users\\UX430\\anaconda3\\lib\\site-packages\\sklearn\\metrics\\_classification.py:1308: UndefinedMetricWarning: Precision and F-score are ill-defined and being set to 0.0 in labels with no predicted samples. Use `zero_division` parameter to control this behavior.\n",
      "  _warn_prf(average, modifier, msg_start, len(result))\n",
      "c:\\Users\\UX430\\anaconda3\\lib\\site-packages\\sklearn\\metrics\\_classification.py:1308: UndefinedMetricWarning: Recall and F-score are ill-defined and being set to 0.0 in labels with no true samples. Use `zero_division` parameter to control this behavior.\n",
      "  _warn_prf(average, modifier, msg_start, len(result))\n",
      "c:\\Users\\UX430\\anaconda3\\lib\\site-packages\\sklearn\\metrics\\_classification.py:1308: UndefinedMetricWarning: Precision and F-score are ill-defined and being set to 0.0 in labels with no predicted samples. Use `zero_division` parameter to control this behavior.\n",
      "  _warn_prf(average, modifier, msg_start, len(result))\n",
      "c:\\Users\\UX430\\anaconda3\\lib\\site-packages\\sklearn\\metrics\\_classification.py:1308: UndefinedMetricWarning: Recall and F-score are ill-defined and being set to 0.0 in labels with no true samples. Use `zero_division` parameter to control this behavior.\n",
      "  _warn_prf(average, modifier, msg_start, len(result))\n",
      "c:\\Users\\UX430\\anaconda3\\lib\\site-packages\\sklearn\\metrics\\_classification.py:1308: UndefinedMetricWarning: Precision and F-score are ill-defined and being set to 0.0 in labels with no predicted samples. Use `zero_division` parameter to control this behavior.\n",
      "  _warn_prf(average, modifier, msg_start, len(result))\n",
      "c:\\Users\\UX430\\anaconda3\\lib\\site-packages\\sklearn\\metrics\\_classification.py:1308: UndefinedMetricWarning: Recall and F-score are ill-defined and being set to 0.0 in labels with no true samples. Use `zero_division` parameter to control this behavior.\n",
      "  _warn_prf(average, modifier, msg_start, len(result))\n"
     ]
    },
    {
     "name": "stdout",
     "output_type": "stream",
     "text": [
      "Epoch 1/10\n",
      "54/54 [==============================] - 9s 159ms/step - loss: 0.0149 - accuracy: 0.9957 - val_loss: 7.1118 - val_accuracy: 0.5925\n",
      "Epoch 2/10\n",
      "54/54 [==============================] - 8s 149ms/step - loss: 0.0143 - accuracy: 0.9960 - val_loss: 7.1522 - val_accuracy: 0.5924\n",
      "Epoch 3/10\n",
      "54/54 [==============================] - 9s 158ms/step - loss: 0.0148 - accuracy: 0.9961 - val_loss: 7.5367 - val_accuracy: 0.5924\n",
      "Epoch 4/10\n",
      "54/54 [==============================] - 9s 164ms/step - loss: 0.0140 - accuracy: 0.9963 - val_loss: 7.5046 - val_accuracy: 0.5926\n",
      "Epoch 5/10\n",
      "54/54 [==============================] - 9s 161ms/step - loss: 0.0138 - accuracy: 0.9962 - val_loss: 7.3819 - val_accuracy: 0.5924\n",
      "Epoch 6/10\n",
      "54/54 [==============================] - 9s 161ms/step - loss: 0.0138 - accuracy: 0.9961 - val_loss: 7.5991 - val_accuracy: 0.5931\n",
      "Epoch 7/10\n",
      "54/54 [==============================] - 9s 169ms/step - loss: 0.0135 - accuracy: 0.9963 - val_loss: 7.6651 - val_accuracy: 0.5916\n",
      "Epoch 8/10\n",
      "54/54 [==============================] - 9s 164ms/step - loss: 0.0136 - accuracy: 0.9963 - val_loss: 7.7155 - val_accuracy: 0.5919\n",
      "Epoch 9/10\n",
      "54/54 [==============================] - 9s 166ms/step - loss: 0.0137 - accuracy: 0.9964 - val_loss: 7.6730 - val_accuracy: 0.5926\n",
      "Epoch 10/10\n",
      "54/54 [==============================] - 9s 164ms/step - loss: 0.0136 - accuracy: 0.9964 - val_loss: 7.4954 - val_accuracy: 0.5919\n",
      "Epoch 1/10\n",
      "54/54 [==============================] - 9s 170ms/step - loss: 0.0124 - accuracy: 0.9964 - val_loss: 8.0066 - val_accuracy: 0.5926\n",
      "Epoch 2/10\n",
      "54/54 [==============================] - 8s 152ms/step - loss: 0.0121 - accuracy: 0.9967 - val_loss: 8.2982 - val_accuracy: 0.5925\n",
      "Epoch 3/10\n",
      "54/54 [==============================] - 9s 160ms/step - loss: 0.0119 - accuracy: 0.9966 - val_loss: 8.6231 - val_accuracy: 0.5918\n",
      "Epoch 4/10\n",
      "54/54 [==============================] - 9s 162ms/step - loss: 0.0115 - accuracy: 0.9965 - val_loss: 8.8012 - val_accuracy: 0.5922\n",
      "Epoch 5/10\n",
      "54/54 [==============================] - 9s 158ms/step - loss: 0.0114 - accuracy: 0.9965 - val_loss: 8.9466 - val_accuracy: 0.5918\n",
      "Epoch 6/10\n",
      "54/54 [==============================] - 9s 170ms/step - loss: 0.0113 - accuracy: 0.9966 - val_loss: 9.0250 - val_accuracy: 0.5920\n",
      "Epoch 7/10\n",
      "54/54 [==============================] - 9s 169ms/step - loss: 0.0110 - accuracy: 0.9968 - val_loss: 9.3264 - val_accuracy: 0.5931\n",
      "Epoch 8/10\n",
      "54/54 [==============================] - 9s 169ms/step - loss: 0.0105 - accuracy: 0.9967 - val_loss: 9.7604 - val_accuracy: 0.5928\n",
      "Epoch 9/10\n",
      "54/54 [==============================] - 9s 171ms/step - loss: 0.0108 - accuracy: 0.9967 - val_loss: 9.4897 - val_accuracy: 0.5911\n",
      "Epoch 10/10\n",
      "54/54 [==============================] - 11s 198ms/step - loss: 0.0109 - accuracy: 0.9965 - val_loss: 9.2120 - val_accuracy: 0.5919\n",
      "Epoch 1/10\n",
      "54/54 [==============================] - 12s 226ms/step - loss: 0.0103 - accuracy: 0.9967 - val_loss: 9.3775 - val_accuracy: 0.5945\n",
      "Epoch 2/10\n",
      "54/54 [==============================] - 12s 223ms/step - loss: 0.0101 - accuracy: 0.9966 - val_loss: 9.3708 - val_accuracy: 0.5936\n",
      "Epoch 3/10\n",
      "54/54 [==============================] - 12s 215ms/step - loss: 0.0099 - accuracy: 0.9969 - val_loss: 9.4012 - val_accuracy: 0.5948\n",
      "Epoch 4/10\n",
      "54/54 [==============================] - 11s 202ms/step - loss: 0.0095 - accuracy: 0.9970 - val_loss: 9.8585 - val_accuracy: 0.5951\n",
      "Epoch 5/10\n",
      "54/54 [==============================] - 11s 210ms/step - loss: 0.0096 - accuracy: 0.9970 - val_loss: 9.9411 - val_accuracy: 0.5953\n",
      "Epoch 6/10\n",
      "54/54 [==============================] - 12s 216ms/step - loss: 0.0091 - accuracy: 0.9971 - val_loss: 10.0163 - val_accuracy: 0.5942\n",
      "Epoch 7/10\n",
      "54/54 [==============================] - 11s 211ms/step - loss: 0.0093 - accuracy: 0.9970 - val_loss: 9.8501 - val_accuracy: 0.5952\n",
      "Epoch 8/10\n",
      "54/54 [==============================] - 12s 214ms/step - loss: 0.0091 - accuracy: 0.9970 - val_loss: 9.9822 - val_accuracy: 0.5944\n",
      "Epoch 9/10\n",
      "54/54 [==============================] - 12s 215ms/step - loss: 0.0087 - accuracy: 0.9973 - val_loss: 10.2622 - val_accuracy: 0.5944\n",
      "Epoch 10/10\n",
      "54/54 [==============================] - 11s 212ms/step - loss: 0.0085 - accuracy: 0.9973 - val_loss: 10.4181 - val_accuracy: 0.5941\n",
      "  11/4279 [..............................] - ETA: 20s - loss: 1.8142 - accuracy: 0.9091"
     ]
    },
    {
     "name": "stderr",
     "output_type": "stream",
     "text": [
      "c:\\Users\\UX430\\anaconda3\\lib\\site-packages\\numpy\\core\\_asarray.py:171: VisibleDeprecationWarning: Creating an ndarray from ragged nested sequences (which is a list-or-tuple of lists-or-tuples-or ndarrays with different lengths or shapes) is deprecated. If you meant to do this, you must specify 'dtype=object' when creating the ndarray.\n",
      "  return array(a, dtype, copy=False, order=order, subok=True)\n"
     ]
    },
    {
     "name": "stdout",
     "output_type": "stream",
     "text": [
      "4279/4279 [==============================] - 23s 5ms/step - loss: 1.9238 - accuracy: 0.9065\n"
     ]
    },
    {
     "name": "stderr",
     "output_type": "stream",
     "text": [
      "c:\\Users\\UX430\\anaconda3\\lib\\site-packages\\sklearn\\metrics\\_classification.py:1308: UndefinedMetricWarning: Precision and F-score are ill-defined and being set to 0.0 in labels with no predicted samples. Use `zero_division` parameter to control this behavior.\n",
      "  _warn_prf(average, modifier, msg_start, len(result))\n",
      "c:\\Users\\UX430\\anaconda3\\lib\\site-packages\\sklearn\\metrics\\_classification.py:1308: UndefinedMetricWarning: Recall and F-score are ill-defined and being set to 0.0 in labels with no true samples. Use `zero_division` parameter to control this behavior.\n",
      "  _warn_prf(average, modifier, msg_start, len(result))\n",
      "c:\\Users\\UX430\\anaconda3\\lib\\site-packages\\sklearn\\metrics\\_classification.py:1308: UndefinedMetricWarning: Precision and F-score are ill-defined and being set to 0.0 in labels with no predicted samples. Use `zero_division` parameter to control this behavior.\n",
      "  _warn_prf(average, modifier, msg_start, len(result))\n",
      "c:\\Users\\UX430\\anaconda3\\lib\\site-packages\\sklearn\\metrics\\_classification.py:1308: UndefinedMetricWarning: Recall and F-score are ill-defined and being set to 0.0 in labels with no true samples. Use `zero_division` parameter to control this behavior.\n",
      "  _warn_prf(average, modifier, msg_start, len(result))\n",
      "c:\\Users\\UX430\\anaconda3\\lib\\site-packages\\sklearn\\metrics\\_classification.py:1308: UndefinedMetricWarning: Precision and F-score are ill-defined and being set to 0.0 in labels with no predicted samples. Use `zero_division` parameter to control this behavior.\n",
      "  _warn_prf(average, modifier, msg_start, len(result))\n",
      "c:\\Users\\UX430\\anaconda3\\lib\\site-packages\\sklearn\\metrics\\_classification.py:1308: UndefinedMetricWarning: Recall and F-score are ill-defined and being set to 0.0 in labels with no true samples. Use `zero_division` parameter to control this behavior.\n",
      "  _warn_prf(average, modifier, msg_start, len(result))\n"
     ]
    },
    {
     "name": "stdout",
     "output_type": "stream",
     "text": [
      "1721/1721 [==============================] - 9s 6ms/step - loss: 8.4231 - accuracy: 0.5559\n"
     ]
    },
    {
     "name": "stderr",
     "output_type": "stream",
     "text": [
      "c:\\Users\\UX430\\anaconda3\\lib\\site-packages\\sklearn\\metrics\\_classification.py:1308: UndefinedMetricWarning: Precision and F-score are ill-defined and being set to 0.0 in labels with no predicted samples. Use `zero_division` parameter to control this behavior.\n",
      "  _warn_prf(average, modifier, msg_start, len(result))\n",
      "c:\\Users\\UX430\\anaconda3\\lib\\site-packages\\sklearn\\metrics\\_classification.py:1308: UndefinedMetricWarning: Recall and F-score are ill-defined and being set to 0.0 in labels with no true samples. Use `zero_division` parameter to control this behavior.\n",
      "  _warn_prf(average, modifier, msg_start, len(result))\n",
      "c:\\Users\\UX430\\anaconda3\\lib\\site-packages\\sklearn\\metrics\\_classification.py:1308: UndefinedMetricWarning: Precision and F-score are ill-defined and being set to 0.0 in labels with no predicted samples. Use `zero_division` parameter to control this behavior.\n",
      "  _warn_prf(average, modifier, msg_start, len(result))\n",
      "c:\\Users\\UX430\\anaconda3\\lib\\site-packages\\sklearn\\metrics\\_classification.py:1308: UndefinedMetricWarning: Recall and F-score are ill-defined and being set to 0.0 in labels with no true samples. Use `zero_division` parameter to control this behavior.\n",
      "  _warn_prf(average, modifier, msg_start, len(result))\n",
      "c:\\Users\\UX430\\anaconda3\\lib\\site-packages\\sklearn\\metrics\\_classification.py:1308: UndefinedMetricWarning: Precision and F-score are ill-defined and being set to 0.0 in labels with no predicted samples. Use `zero_division` parameter to control this behavior.\n",
      "  _warn_prf(average, modifier, msg_start, len(result))\n",
      "c:\\Users\\UX430\\anaconda3\\lib\\site-packages\\sklearn\\metrics\\_classification.py:1308: UndefinedMetricWarning: Recall and F-score are ill-defined and being set to 0.0 in labels with no true samples. Use `zero_division` parameter to control this behavior.\n",
      "  _warn_prf(average, modifier, msg_start, len(result))\n"
     ]
    },
    {
     "name": "stdout",
     "output_type": "stream",
     "text": [
      "Epoch 1/10\n",
      "54/54 [==============================] - 9s 158ms/step - loss: 0.0114 - accuracy: 0.9968 - val_loss: 8.8265 - val_accuracy: 0.5923\n",
      "Epoch 2/10\n",
      "54/54 [==============================] - 8s 155ms/step - loss: 0.0109 - accuracy: 0.9970 - val_loss: 9.2559 - val_accuracy: 0.5918\n",
      "Epoch 3/10\n",
      "54/54 [==============================] - 8s 155ms/step - loss: 0.0106 - accuracy: 0.9969 - val_loss: 9.4472 - val_accuracy: 0.5920\n",
      "Epoch 4/10\n",
      "54/54 [==============================] - 9s 168ms/step - loss: 0.0103 - accuracy: 0.9969 - val_loss: 9.4636 - val_accuracy: 0.5923\n",
      "Epoch 5/10\n",
      "54/54 [==============================] - 9s 165ms/step - loss: 0.0104 - accuracy: 0.9971 - val_loss: 9.7759 - val_accuracy: 0.5924\n",
      "Epoch 6/10\n",
      "54/54 [==============================] - 9s 175ms/step - loss: 0.0112 - accuracy: 0.9970 - val_loss: 9.5630 - val_accuracy: 0.5923\n",
      "Epoch 7/10\n",
      "54/54 [==============================] - 10s 185ms/step - loss: 0.0107 - accuracy: 0.9972 - val_loss: 9.5077 - val_accuracy: 0.5926\n",
      "Epoch 8/10\n",
      "54/54 [==============================] - 10s 182ms/step - loss: 0.0097 - accuracy: 0.9974 - val_loss: 9.7752 - val_accuracy: 0.5921\n",
      "Epoch 9/10\n",
      "54/54 [==============================] - 9s 164ms/step - loss: 0.0090 - accuracy: 0.9974 - val_loss: 10.2828 - val_accuracy: 0.5926\n",
      "Epoch 10/10\n",
      "54/54 [==============================] - 9s 164ms/step - loss: 0.0091 - accuracy: 0.9974 - val_loss: 10.3934 - val_accuracy: 0.5928\n",
      "Epoch 1/10\n",
      "54/54 [==============================] - 12s 217ms/step - loss: 0.0091 - accuracy: 0.9970 - val_loss: 10.2295 - val_accuracy: 0.5933\n",
      "Epoch 2/10\n",
      "54/54 [==============================] - 12s 221ms/step - loss: 0.0088 - accuracy: 0.9972 - val_loss: 10.3905 - val_accuracy: 0.5929\n",
      "Epoch 3/10\n",
      "54/54 [==============================] - 12s 218ms/step - loss: 0.0083 - accuracy: 0.9973 - val_loss: 10.5489 - val_accuracy: 0.5930\n",
      "Epoch 4/10\n",
      "54/54 [==============================] - 12s 220ms/step - loss: 0.0084 - accuracy: 0.9975 - val_loss: 10.8312 - val_accuracy: 0.5930\n",
      "Epoch 5/10\n",
      "54/54 [==============================] - 10s 192ms/step - loss: 0.0082 - accuracy: 0.9974 - val_loss: 10.8412 - val_accuracy: 0.5926\n",
      "Epoch 6/10\n",
      "54/54 [==============================] - 10s 178ms/step - loss: 0.0080 - accuracy: 0.9976 - val_loss: 10.9685 - val_accuracy: 0.5925\n",
      "Epoch 7/10\n",
      "54/54 [==============================] - 10s 178ms/step - loss: 0.0078 - accuracy: 0.9976 - val_loss: 11.2012 - val_accuracy: 0.5932\n",
      "Epoch 8/10\n",
      "54/54 [==============================] - 9s 168ms/step - loss: 0.0077 - accuracy: 0.9977 - val_loss: 11.3119 - val_accuracy: 0.5929\n",
      "Epoch 9/10\n",
      "54/54 [==============================] - 10s 176ms/step - loss: 0.0079 - accuracy: 0.9976 - val_loss: 11.3126 - val_accuracy: 0.5927\n",
      "Epoch 10/10\n",
      "54/54 [==============================] - 10s 188ms/step - loss: 0.0079 - accuracy: 0.9976 - val_loss: 11.2983 - val_accuracy: 0.5933\n",
      "Epoch 1/10\n",
      "54/54 [==============================] - 10s 184ms/step - loss: 0.0079 - accuracy: 0.9975 - val_loss: 11.2276 - val_accuracy: 0.5942\n",
      "Epoch 2/10\n",
      "54/54 [==============================] - 9s 169ms/step - loss: 0.0078 - accuracy: 0.9974 - val_loss: 10.9827 - val_accuracy: 0.5940\n",
      "Epoch 3/10\n",
      "54/54 [==============================] - 10s 187ms/step - loss: 0.0077 - accuracy: 0.9975 - val_loss: 10.9489 - val_accuracy: 0.5943\n",
      "Epoch 4/10\n",
      "54/54 [==============================] - 9s 172ms/step - loss: 0.0078 - accuracy: 0.9974 - val_loss: 10.8221 - val_accuracy: 0.5933\n",
      "Epoch 5/10\n",
      "54/54 [==============================] - 9s 173ms/step - loss: 0.0077 - accuracy: 0.9974 - val_loss: 10.5505 - val_accuracy: 0.5940\n",
      "Epoch 6/10\n",
      "54/54 [==============================] - 10s 193ms/step - loss: 0.0076 - accuracy: 0.9975 - val_loss: 10.7425 - val_accuracy: 0.5944\n",
      "Epoch 7/10\n",
      "54/54 [==============================] - 11s 201ms/step - loss: 0.0076 - accuracy: 0.9975 - val_loss: 10.4898 - val_accuracy: 0.5937\n",
      "Epoch 8/10\n",
      "54/54 [==============================] - 12s 217ms/step - loss: 0.0076 - accuracy: 0.9974 - val_loss: 10.4185 - val_accuracy: 0.5948\n",
      "Epoch 9/10\n",
      "54/54 [==============================] - 12s 219ms/step - loss: 0.0073 - accuracy: 0.9976 - val_loss: 10.3841 - val_accuracy: 0.5941\n",
      "Epoch 10/10\n",
      "54/54 [==============================] - 12s 215ms/step - loss: 0.0070 - accuracy: 0.9979 - val_loss: 10.6303 - val_accuracy: 0.5944\n",
      "  10/4279 [..............................] - ETA: 24s - loss: 2.3953 - accuracy: 0.8750"
     ]
    },
    {
     "name": "stderr",
     "output_type": "stream",
     "text": [
      "c:\\Users\\UX430\\anaconda3\\lib\\site-packages\\numpy\\core\\_asarray.py:171: VisibleDeprecationWarning: Creating an ndarray from ragged nested sequences (which is a list-or-tuple of lists-or-tuples-or ndarrays with different lengths or shapes) is deprecated. If you meant to do this, you must specify 'dtype=object' when creating the ndarray.\n",
      "  return array(a, dtype, copy=False, order=order, subok=True)\n"
     ]
    },
    {
     "name": "stdout",
     "output_type": "stream",
     "text": [
      "4279/4279 [==============================] - 25s 6ms/step - loss: 2.3299 - accuracy: 0.8779\n"
     ]
    },
    {
     "name": "stderr",
     "output_type": "stream",
     "text": [
      "c:\\Users\\UX430\\anaconda3\\lib\\site-packages\\sklearn\\metrics\\_classification.py:1308: UndefinedMetricWarning: Precision and F-score are ill-defined and being set to 0.0 in labels with no predicted samples. Use `zero_division` parameter to control this behavior.\n",
      "  _warn_prf(average, modifier, msg_start, len(result))\n",
      "c:\\Users\\UX430\\anaconda3\\lib\\site-packages\\sklearn\\metrics\\_classification.py:1308: UndefinedMetricWarning: Recall and F-score are ill-defined and being set to 0.0 in labels with no true samples. Use `zero_division` parameter to control this behavior.\n",
      "  _warn_prf(average, modifier, msg_start, len(result))\n",
      "c:\\Users\\UX430\\anaconda3\\lib\\site-packages\\sklearn\\metrics\\_classification.py:1308: UndefinedMetricWarning: Precision and F-score are ill-defined and being set to 0.0 in labels with no predicted samples. Use `zero_division` parameter to control this behavior.\n",
      "  _warn_prf(average, modifier, msg_start, len(result))\n"
     ]
    },
    {
     "name": "stdout",
     "output_type": "stream",
     "text": [
      "   1/1721 [..............................] - ETA: 0s - loss: 20.3767 - accuracy: 0.0000e+00"
     ]
    },
    {
     "name": "stderr",
     "output_type": "stream",
     "text": [
      "c:\\Users\\UX430\\anaconda3\\lib\\site-packages\\sklearn\\metrics\\_classification.py:1308: UndefinedMetricWarning: Recall and F-score are ill-defined and being set to 0.0 in labels with no true samples. Use `zero_division` parameter to control this behavior.\n",
      "  _warn_prf(average, modifier, msg_start, len(result))\n",
      "c:\\Users\\UX430\\anaconda3\\lib\\site-packages\\sklearn\\metrics\\_classification.py:1308: UndefinedMetricWarning: Precision and F-score are ill-defined and being set to 0.0 in labels with no predicted samples. Use `zero_division` parameter to control this behavior.\n",
      "  _warn_prf(average, modifier, msg_start, len(result))\n",
      "c:\\Users\\UX430\\anaconda3\\lib\\site-packages\\sklearn\\metrics\\_classification.py:1308: UndefinedMetricWarning: Recall and F-score are ill-defined and being set to 0.0 in labels with no true samples. Use `zero_division` parameter to control this behavior.\n",
      "  _warn_prf(average, modifier, msg_start, len(result))\n"
     ]
    },
    {
     "name": "stdout",
     "output_type": "stream",
     "text": [
      "1721/1721 [==============================] - 9s 5ms/step - loss: 10.2069 - accuracy: 0.5580\n"
     ]
    },
    {
     "name": "stderr",
     "output_type": "stream",
     "text": [
      "c:\\Users\\UX430\\anaconda3\\lib\\site-packages\\sklearn\\metrics\\_classification.py:1308: UndefinedMetricWarning: Precision and F-score are ill-defined and being set to 0.0 in labels with no predicted samples. Use `zero_division` parameter to control this behavior.\n",
      "  _warn_prf(average, modifier, msg_start, len(result))\n",
      "c:\\Users\\UX430\\anaconda3\\lib\\site-packages\\sklearn\\metrics\\_classification.py:1308: UndefinedMetricWarning: Recall and F-score are ill-defined and being set to 0.0 in labels with no true samples. Use `zero_division` parameter to control this behavior.\n",
      "  _warn_prf(average, modifier, msg_start, len(result))\n",
      "c:\\Users\\UX430\\anaconda3\\lib\\site-packages\\sklearn\\metrics\\_classification.py:1308: UndefinedMetricWarning: Precision and F-score are ill-defined and being set to 0.0 in labels with no predicted samples. Use `zero_division` parameter to control this behavior.\n",
      "  _warn_prf(average, modifier, msg_start, len(result))\n",
      "c:\\Users\\UX430\\anaconda3\\lib\\site-packages\\sklearn\\metrics\\_classification.py:1308: UndefinedMetricWarning: Recall and F-score are ill-defined and being set to 0.0 in labels with no true samples. Use `zero_division` parameter to control this behavior.\n",
      "  _warn_prf(average, modifier, msg_start, len(result))\n",
      "c:\\Users\\UX430\\anaconda3\\lib\\site-packages\\sklearn\\metrics\\_classification.py:1308: UndefinedMetricWarning: Precision and F-score are ill-defined and being set to 0.0 in labels with no predicted samples. Use `zero_division` parameter to control this behavior.\n",
      "  _warn_prf(average, modifier, msg_start, len(result))\n",
      "c:\\Users\\UX430\\anaconda3\\lib\\site-packages\\sklearn\\metrics\\_classification.py:1308: UndefinedMetricWarning: Recall and F-score are ill-defined and being set to 0.0 in labels with no true samples. Use `zero_division` parameter to control this behavior.\n",
      "  _warn_prf(average, modifier, msg_start, len(result))\n"
     ]
    },
    {
     "name": "stdout",
     "output_type": "stream",
     "text": [
      "Epoch 1/10\n",
      "54/54 [==============================] - 11s 213ms/step - loss: 0.0088 - accuracy: 0.9976 - val_loss: 10.5276 - val_accuracy: 0.5922\n",
      "Epoch 2/10\n",
      "54/54 [==============================] - 11s 210ms/step - loss: 0.0082 - accuracy: 0.9976 - val_loss: 10.6533 - val_accuracy: 0.5928\n",
      "Epoch 3/10\n",
      "54/54 [==============================] - 10s 192ms/step - loss: 0.0083 - accuracy: 0.9977 - val_loss: 10.6922 - val_accuracy: 0.5922\n",
      "Epoch 4/10\n",
      "54/54 [==============================] - 9s 175ms/step - loss: 0.0082 - accuracy: 0.9977 - val_loss: 10.6288 - val_accuracy: 0.5918\n",
      "Epoch 5/10\n",
      "54/54 [==============================] - 10s 178ms/step - loss: 0.0080 - accuracy: 0.9976 - val_loss: 10.4760 - val_accuracy: 0.5910\n",
      "Epoch 6/10\n",
      "54/54 [==============================] - 9s 172ms/step - loss: 0.0087 - accuracy: 0.9976 - val_loss: 10.3082 - val_accuracy: 0.5928\n",
      "Epoch 7/10\n",
      "54/54 [==============================] - 10s 181ms/step - loss: 0.0078 - accuracy: 0.9978 - val_loss: 10.2338 - val_accuracy: 0.5915\n",
      "Epoch 8/10\n",
      "54/54 [==============================] - 9s 165ms/step - loss: 0.0079 - accuracy: 0.9979 - val_loss: 10.2513 - val_accuracy: 0.5907\n",
      "Epoch 9/10\n",
      "54/54 [==============================] - 10s 184ms/step - loss: 0.0073 - accuracy: 0.9977 - val_loss: 10.3727 - val_accuracy: 0.5907\n",
      "Epoch 10/10\n",
      "54/54 [==============================] - 10s 181ms/step - loss: 0.0082 - accuracy: 0.9978 - val_loss: 10.5205 - val_accuracy: 0.5928\n",
      "Epoch 1/10\n",
      "54/54 [==============================] - 10s 177ms/step - loss: 0.0077 - accuracy: 0.9976 - val_loss: 10.3174 - val_accuracy: 0.5931\n",
      "Epoch 2/10\n",
      "54/54 [==============================] - 10s 186ms/step - loss: 0.0074 - accuracy: 0.9977 - val_loss: 10.2528 - val_accuracy: 0.5929\n",
      "Epoch 3/10\n",
      "54/54 [==============================] - 9s 162ms/step - loss: 0.0074 - accuracy: 0.9978 - val_loss: 10.2144 - val_accuracy: 0.5930\n",
      "Epoch 4/10\n",
      "54/54 [==============================] - 10s 178ms/step - loss: 0.0079 - accuracy: 0.9973 - val_loss: 10.0024 - val_accuracy: 0.5934\n",
      "Epoch 5/10\n",
      "54/54 [==============================] - 9s 167ms/step - loss: 0.0074 - accuracy: 0.9977 - val_loss: 9.7530 - val_accuracy: 0.5925\n",
      "Epoch 6/10\n",
      "54/54 [==============================] - 9s 164ms/step - loss: 0.0071 - accuracy: 0.9978 - val_loss: 9.8960 - val_accuracy: 0.5931\n",
      "Epoch 7/10\n",
      "54/54 [==============================] - 9s 169ms/step - loss: 0.0069 - accuracy: 0.9979 - val_loss: 10.0362 - val_accuracy: 0.5929\n",
      "Epoch 8/10\n",
      "54/54 [==============================] - 10s 179ms/step - loss: 0.0071 - accuracy: 0.9979 - val_loss: 10.0766 - val_accuracy: 0.5936\n",
      "Epoch 9/10\n",
      "54/54 [==============================] - 10s 189ms/step - loss: 0.0071 - accuracy: 0.9977 - val_loss: 9.9367 - val_accuracy: 0.5918\n",
      "Epoch 10/10\n",
      "54/54 [==============================] - 10s 184ms/step - loss: 0.0070 - accuracy: 0.9978 - val_loss: 9.9116 - val_accuracy: 0.5928\n",
      "Epoch 1/10\n",
      "54/54 [==============================] - 10s 182ms/step - loss: 0.0073 - accuracy: 0.9975 - val_loss: 9.9939 - val_accuracy: 0.5955\n",
      "Epoch 2/10\n",
      "54/54 [==============================] - 10s 183ms/step - loss: 0.0077 - accuracy: 0.9974 - val_loss: 9.6872 - val_accuracy: 0.5949\n",
      "Epoch 3/10\n",
      "54/54 [==============================] - 9s 173ms/step - loss: 0.0071 - accuracy: 0.9976 - val_loss: 9.4889 - val_accuracy: 0.5939\n",
      "Epoch 4/10\n",
      "54/54 [==============================] - 10s 193ms/step - loss: 0.0071 - accuracy: 0.9977 - val_loss: 9.7714 - val_accuracy: 0.5951\n",
      "Epoch 5/10\n",
      "54/54 [==============================] - 10s 192ms/step - loss: 0.0071 - accuracy: 0.9976 - val_loss: 9.7918 - val_accuracy: 0.5957\n",
      "Epoch 6/10\n",
      "54/54 [==============================] - 11s 197ms/step - loss: 0.0071 - accuracy: 0.9976 - val_loss: 9.5754 - val_accuracy: 0.5955\n",
      "Epoch 7/10\n",
      "54/54 [==============================] - 9s 168ms/step - loss: 0.0068 - accuracy: 0.9977 - val_loss: 9.3946 - val_accuracy: 0.5948\n",
      "Epoch 8/10\n",
      "54/54 [==============================] - 8s 155ms/step - loss: 0.0071 - accuracy: 0.9977 - val_loss: 9.3002 - val_accuracy: 0.5945\n",
      "Epoch 9/10\n",
      "54/54 [==============================] - 9s 161ms/step - loss: 0.0068 - accuracy: 0.9978 - val_loss: 9.5479 - val_accuracy: 0.5953\n",
      "Epoch 10/10\n",
      "54/54 [==============================] - 9s 159ms/step - loss: 0.0069 - accuracy: 0.9976 - val_loss: 9.3435 - val_accuracy: 0.5952\n",
      "  24/4279 [..............................] - ETA: 18s - loss: 2.4020 - accuracy: 0.5352"
     ]
    },
    {
     "name": "stderr",
     "output_type": "stream",
     "text": [
      "c:\\Users\\UX430\\anaconda3\\lib\\site-packages\\numpy\\core\\_asarray.py:171: VisibleDeprecationWarning: Creating an ndarray from ragged nested sequences (which is a list-or-tuple of lists-or-tuples-or ndarrays with different lengths or shapes) is deprecated. If you meant to do this, you must specify 'dtype=object' when creating the ndarray.\n",
      "  return array(a, dtype, copy=False, order=order, subok=True)\n"
     ]
    },
    {
     "name": "stdout",
     "output_type": "stream",
     "text": [
      "4279/4279 [==============================] - 29s 7ms/step - loss: 2.5327 - accuracy: 0.5304\n"
     ]
    },
    {
     "name": "stderr",
     "output_type": "stream",
     "text": [
      "c:\\Users\\UX430\\anaconda3\\lib\\site-packages\\sklearn\\metrics\\_classification.py:1308: UndefinedMetricWarning: Precision and F-score are ill-defined and being set to 0.0 in labels with no predicted samples. Use `zero_division` parameter to control this behavior.\n",
      "  _warn_prf(average, modifier, msg_start, len(result))\n",
      "c:\\Users\\UX430\\anaconda3\\lib\\site-packages\\sklearn\\metrics\\_classification.py:1308: UndefinedMetricWarning: Recall and F-score are ill-defined and being set to 0.0 in labels with no true samples. Use `zero_division` parameter to control this behavior.\n",
      "  _warn_prf(average, modifier, msg_start, len(result))\n",
      "c:\\Users\\UX430\\anaconda3\\lib\\site-packages\\sklearn\\metrics\\_classification.py:1308: UndefinedMetricWarning: Precision and F-score are ill-defined and being set to 0.0 in labels with no predicted samples. Use `zero_division` parameter to control this behavior.\n",
      "  _warn_prf(average, modifier, msg_start, len(result))\n",
      "c:\\Users\\UX430\\anaconda3\\lib\\site-packages\\sklearn\\metrics\\_classification.py:1308: UndefinedMetricWarning: Recall and F-score are ill-defined and being set to 0.0 in labels with no true samples. Use `zero_division` parameter to control this behavior.\n",
      "  _warn_prf(average, modifier, msg_start, len(result))\n"
     ]
    },
    {
     "name": "stdout",
     "output_type": "stream",
     "text": [
      "  11/1721 [..............................] - ETA: 8s - loss: 19.6274 - accuracy: 0.0000e+00"
     ]
    },
    {
     "name": "stderr",
     "output_type": "stream",
     "text": [
      "c:\\Users\\UX430\\anaconda3\\lib\\site-packages\\sklearn\\metrics\\_classification.py:1308: UndefinedMetricWarning: Precision and F-score are ill-defined and being set to 0.0 in labels with no predicted samples. Use `zero_division` parameter to control this behavior.\n",
      "  _warn_prf(average, modifier, msg_start, len(result))\n",
      "c:\\Users\\UX430\\anaconda3\\lib\\site-packages\\sklearn\\metrics\\_classification.py:1308: UndefinedMetricWarning: Recall and F-score are ill-defined and being set to 0.0 in labels with no true samples. Use `zero_division` parameter to control this behavior.\n",
      "  _warn_prf(average, modifier, msg_start, len(result))\n"
     ]
    },
    {
     "name": "stdout",
     "output_type": "stream",
     "text": [
      "1721/1721 [==============================] - 14s 8ms/step - loss: 9.7672 - accuracy: 0.5585\n"
     ]
    },
    {
     "name": "stderr",
     "output_type": "stream",
     "text": [
      "c:\\Users\\UX430\\anaconda3\\lib\\site-packages\\sklearn\\metrics\\_classification.py:1308: UndefinedMetricWarning: Precision and F-score are ill-defined and being set to 0.0 in labels with no predicted samples. Use `zero_division` parameter to control this behavior.\n",
      "  _warn_prf(average, modifier, msg_start, len(result))\n",
      "c:\\Users\\UX430\\anaconda3\\lib\\site-packages\\sklearn\\metrics\\_classification.py:1308: UndefinedMetricWarning: Recall and F-score are ill-defined and being set to 0.0 in labels with no true samples. Use `zero_division` parameter to control this behavior.\n",
      "  _warn_prf(average, modifier, msg_start, len(result))\n",
      "c:\\Users\\UX430\\anaconda3\\lib\\site-packages\\sklearn\\metrics\\_classification.py:1308: UndefinedMetricWarning: Precision and F-score are ill-defined and being set to 0.0 in labels with no predicted samples. Use `zero_division` parameter to control this behavior.\n",
      "  _warn_prf(average, modifier, msg_start, len(result))\n",
      "c:\\Users\\UX430\\anaconda3\\lib\\site-packages\\sklearn\\metrics\\_classification.py:1308: UndefinedMetricWarning: Recall and F-score are ill-defined and being set to 0.0 in labels with no true samples. Use `zero_division` parameter to control this behavior.\n",
      "  _warn_prf(average, modifier, msg_start, len(result))\n",
      "c:\\Users\\UX430\\anaconda3\\lib\\site-packages\\sklearn\\metrics\\_classification.py:1308: UndefinedMetricWarning: Precision and F-score are ill-defined and being set to 0.0 in labels with no predicted samples. Use `zero_division` parameter to control this behavior.\n",
      "  _warn_prf(average, modifier, msg_start, len(result))\n",
      "c:\\Users\\UX430\\anaconda3\\lib\\site-packages\\sklearn\\metrics\\_classification.py:1308: UndefinedMetricWarning: Recall and F-score are ill-defined and being set to 0.0 in labels with no true samples. Use `zero_division` parameter to control this behavior.\n",
      "  _warn_prf(average, modifier, msg_start, len(result))\n"
     ]
    },
    {
     "name": "stdout",
     "output_type": "stream",
     "text": [
      "Epoch 1/10\n",
      "54/54 [==============================] - 12s 226ms/step - loss: 0.0085 - accuracy: 0.9980 - val_loss: 9.7268 - val_accuracy: 0.5922\n",
      "Epoch 2/10\n",
      "54/54 [==============================] - 12s 224ms/step - loss: 0.0077 - accuracy: 0.9981 - val_loss: 9.5574 - val_accuracy: 0.5921\n",
      "Epoch 3/10\n",
      "54/54 [==============================] - 12s 230ms/step - loss: 0.0080 - accuracy: 0.9980 - val_loss: 9.6043 - val_accuracy: 0.5930\n",
      "Epoch 4/10\n",
      "54/54 [==============================] - 12s 229ms/step - loss: 0.0080 - accuracy: 0.9978 - val_loss: 9.5583 - val_accuracy: 0.5924\n",
      "Epoch 5/10\n",
      "54/54 [==============================] - 12s 222ms/step - loss: 0.0070 - accuracy: 0.9980 - val_loss: 9.6380 - val_accuracy: 0.5920\n",
      "Epoch 6/10\n",
      "54/54 [==============================] - 12s 222ms/step - loss: 0.0070 - accuracy: 0.9980 - val_loss: 9.6120 - val_accuracy: 0.5920\n",
      "Epoch 7/10\n",
      "54/54 [==============================] - 12s 224ms/step - loss: 0.0069 - accuracy: 0.9981 - val_loss: 9.7284 - val_accuracy: 0.5930\n",
      "Epoch 8/10\n",
      "54/54 [==============================] - 12s 224ms/step - loss: 0.0072 - accuracy: 0.9982 - val_loss: 9.7641 - val_accuracy: 0.5924\n",
      "Epoch 9/10\n",
      "54/54 [==============================] - 12s 223ms/step - loss: 0.0071 - accuracy: 0.9982 - val_loss: 9.7182 - val_accuracy: 0.5910\n",
      "Epoch 10/10\n",
      "54/54 [==============================] - 12s 223ms/step - loss: 0.0078 - accuracy: 0.9981 - val_loss: 9.5008 - val_accuracy: 0.5919\n",
      "Epoch 1/10\n",
      "54/54 [==============================] - 13s 232ms/step - loss: 0.0073 - accuracy: 0.9975 - val_loss: 9.2734 - val_accuracy: 0.5934\n",
      "Epoch 2/10\n",
      "54/54 [==============================] - 12s 223ms/step - loss: 0.0067 - accuracy: 0.9980 - val_loss: 9.4293 - val_accuracy: 0.5933\n",
      "Epoch 3/10\n",
      "54/54 [==============================] - 12s 221ms/step - loss: 0.0067 - accuracy: 0.9978 - val_loss: 9.4058 - val_accuracy: 0.5930\n",
      "Epoch 4/10\n",
      "54/54 [==============================] - 12s 218ms/step - loss: 0.0066 - accuracy: 0.9981 - val_loss: 9.6117 - val_accuracy: 0.5923\n",
      "Epoch 5/10\n",
      "54/54 [==============================] - 13s 239ms/step - loss: 0.0068 - accuracy: 0.9980 - val_loss: 9.5322 - val_accuracy: 0.5935\n",
      "Epoch 6/10\n",
      "54/54 [==============================] - 9s 161ms/step - loss: 0.0068 - accuracy: 0.9979 - val_loss: 9.5725 - val_accuracy: 0.5936\n",
      "Epoch 7/10\n",
      "54/54 [==============================] - 9s 167ms/step - loss: 0.0071 - accuracy: 0.9978 - val_loss: 9.4203 - val_accuracy: 0.5933\n",
      "Epoch 8/10\n",
      "54/54 [==============================] - 12s 213ms/step - loss: 0.0066 - accuracy: 0.9980 - val_loss: 9.3483 - val_accuracy: 0.5916\n",
      "Epoch 9/10\n",
      "54/54 [==============================] - 11s 203ms/step - loss: 0.0070 - accuracy: 0.9977 - val_loss: 9.2377 - val_accuracy: 0.5934\n",
      "Epoch 10/10\n",
      "54/54 [==============================] - 11s 210ms/step - loss: 0.0067 - accuracy: 0.9980 - val_loss: 9.1066 - val_accuracy: 0.5932\n",
      "Epoch 1/10\n",
      "54/54 [==============================] - 10s 192ms/step - loss: 0.0072 - accuracy: 0.9976 - val_loss: 9.0059 - val_accuracy: 0.5953\n",
      "Epoch 2/10\n",
      "54/54 [==============================] - 10s 187ms/step - loss: 0.0067 - accuracy: 0.9978 - val_loss: 8.8161 - val_accuracy: 0.5945\n",
      "Epoch 3/10\n",
      "54/54 [==============================] - 9s 172ms/step - loss: 0.0065 - accuracy: 0.9979 - val_loss: 8.9381 - val_accuracy: 0.5954\n",
      "Epoch 4/10\n",
      "54/54 [==============================] - 9s 174ms/step - loss: 0.0067 - accuracy: 0.9978 - val_loss: 8.7970 - val_accuracy: 0.5955\n",
      "Epoch 5/10\n",
      "54/54 [==============================] - 12s 222ms/step - loss: 0.0064 - accuracy: 0.9979 - val_loss: 8.8099 - val_accuracy: 0.5947\n",
      "Epoch 6/10\n",
      "54/54 [==============================] - 9s 175ms/step - loss: 0.0064 - accuracy: 0.9978 - val_loss: 8.6300 - val_accuracy: 0.5940\n",
      "Epoch 7/10\n",
      "54/54 [==============================] - 8s 147ms/step - loss: 0.0063 - accuracy: 0.9980 - val_loss: 9.0206 - val_accuracy: 0.5955\n",
      "Epoch 8/10\n",
      "54/54 [==============================] - 9s 167ms/step - loss: 0.0064 - accuracy: 0.9980 - val_loss: 8.8833 - val_accuracy: 0.5943\n",
      "Epoch 9/10\n",
      "54/54 [==============================] - 9s 167ms/step - loss: 0.0062 - accuracy: 0.9981 - val_loss: 9.0512 - val_accuracy: 0.5945\n",
      "Epoch 10/10\n",
      "54/54 [==============================] - 9s 161ms/step - loss: 0.0061 - accuracy: 0.9980 - val_loss: 9.1016 - val_accuracy: 0.5951\n",
      "  11/4279 [..............................] - ETA: 19s - loss: 3.0950 - accuracy: 0.5426"
     ]
    },
    {
     "name": "stderr",
     "output_type": "stream",
     "text": [
      "c:\\Users\\UX430\\anaconda3\\lib\\site-packages\\numpy\\core\\_asarray.py:171: VisibleDeprecationWarning: Creating an ndarray from ragged nested sequences (which is a list-or-tuple of lists-or-tuples-or ndarrays with different lengths or shapes) is deprecated. If you meant to do this, you must specify 'dtype=object' when creating the ndarray.\n",
      "  return array(a, dtype, copy=False, order=order, subok=True)\n"
     ]
    },
    {
     "name": "stdout",
     "output_type": "stream",
     "text": [
      "4279/4279 [==============================] - 24s 6ms/step - loss: 3.2361 - accuracy: 0.5305\n"
     ]
    },
    {
     "name": "stderr",
     "output_type": "stream",
     "text": [
      "c:\\Users\\UX430\\anaconda3\\lib\\site-packages\\sklearn\\metrics\\_classification.py:1308: UndefinedMetricWarning: Precision and F-score are ill-defined and being set to 0.0 in labels with no predicted samples. Use `zero_division` parameter to control this behavior.\n",
      "  _warn_prf(average, modifier, msg_start, len(result))\n",
      "c:\\Users\\UX430\\anaconda3\\lib\\site-packages\\sklearn\\metrics\\_classification.py:1308: UndefinedMetricWarning: Recall and F-score are ill-defined and being set to 0.0 in labels with no true samples. Use `zero_division` parameter to control this behavior.\n",
      "  _warn_prf(average, modifier, msg_start, len(result))\n",
      "c:\\Users\\UX430\\anaconda3\\lib\\site-packages\\sklearn\\metrics\\_classification.py:1308: UndefinedMetricWarning: Precision and F-score are ill-defined and being set to 0.0 in labels with no predicted samples. Use `zero_division` parameter to control this behavior.\n",
      "  _warn_prf(average, modifier, msg_start, len(result))\n",
      "c:\\Users\\UX430\\anaconda3\\lib\\site-packages\\sklearn\\metrics\\_classification.py:1308: UndefinedMetricWarning: Recall and F-score are ill-defined and being set to 0.0 in labels with no true samples. Use `zero_division` parameter to control this behavior.\n",
      "  _warn_prf(average, modifier, msg_start, len(result))\n"
     ]
    },
    {
     "name": "stdout",
     "output_type": "stream",
     "text": [
      "  24/1721 [..............................] - ETA: 7s - loss: 18.6904 - accuracy: 0.0000e+00"
     ]
    },
    {
     "name": "stderr",
     "output_type": "stream",
     "text": [
      "c:\\Users\\UX430\\anaconda3\\lib\\site-packages\\sklearn\\metrics\\_classification.py:1308: UndefinedMetricWarning: Precision and F-score are ill-defined and being set to 0.0 in labels with no predicted samples. Use `zero_division` parameter to control this behavior.\n",
      "  _warn_prf(average, modifier, msg_start, len(result))\n",
      "c:\\Users\\UX430\\anaconda3\\lib\\site-packages\\sklearn\\metrics\\_classification.py:1308: UndefinedMetricWarning: Recall and F-score are ill-defined and being set to 0.0 in labels with no true samples. Use `zero_division` parameter to control this behavior.\n",
      "  _warn_prf(average, modifier, msg_start, len(result))\n"
     ]
    },
    {
     "name": "stdout",
     "output_type": "stream",
     "text": [
      "1721/1721 [==============================] - 8s 4ms/step - loss: 9.4940 - accuracy: 0.5591\n"
     ]
    },
    {
     "name": "stderr",
     "output_type": "stream",
     "text": [
      "c:\\Users\\UX430\\anaconda3\\lib\\site-packages\\sklearn\\metrics\\_classification.py:1308: UndefinedMetricWarning: Precision and F-score are ill-defined and being set to 0.0 in labels with no predicted samples. Use `zero_division` parameter to control this behavior.\n",
      "  _warn_prf(average, modifier, msg_start, len(result))\n",
      "c:\\Users\\UX430\\anaconda3\\lib\\site-packages\\sklearn\\metrics\\_classification.py:1308: UndefinedMetricWarning: Recall and F-score are ill-defined and being set to 0.0 in labels with no true samples. Use `zero_division` parameter to control this behavior.\n",
      "  _warn_prf(average, modifier, msg_start, len(result))\n",
      "c:\\Users\\UX430\\anaconda3\\lib\\site-packages\\sklearn\\metrics\\_classification.py:1308: UndefinedMetricWarning: Precision and F-score are ill-defined and being set to 0.0 in labels with no predicted samples. Use `zero_division` parameter to control this behavior.\n",
      "  _warn_prf(average, modifier, msg_start, len(result))\n",
      "c:\\Users\\UX430\\anaconda3\\lib\\site-packages\\sklearn\\metrics\\_classification.py:1308: UndefinedMetricWarning: Recall and F-score are ill-defined and being set to 0.0 in labels with no true samples. Use `zero_division` parameter to control this behavior.\n",
      "  _warn_prf(average, modifier, msg_start, len(result))\n",
      "c:\\Users\\UX430\\anaconda3\\lib\\site-packages\\sklearn\\metrics\\_classification.py:1308: UndefinedMetricWarning: Precision and F-score are ill-defined and being set to 0.0 in labels with no predicted samples. Use `zero_division` parameter to control this behavior.\n",
      "  _warn_prf(average, modifier, msg_start, len(result))\n",
      "c:\\Users\\UX430\\anaconda3\\lib\\site-packages\\sklearn\\metrics\\_classification.py:1308: UndefinedMetricWarning: Recall and F-score are ill-defined and being set to 0.0 in labels with no true samples. Use `zero_division` parameter to control this behavior.\n",
      "  _warn_prf(average, modifier, msg_start, len(result))\n"
     ]
    },
    {
     "name": "stdout",
     "output_type": "stream",
     "text": [
      "Epoch 1/10\n",
      "54/54 [==============================] - 12s 216ms/step - loss: 0.0076 - accuracy: 0.9981 - val_loss: 8.8715 - val_accuracy: 0.5932\n",
      "Epoch 2/10\n",
      "54/54 [==============================] - 9s 173ms/step - loss: 0.0070 - accuracy: 0.9980 - val_loss: 8.8571 - val_accuracy: 0.5925\n",
      "Epoch 3/10\n",
      "54/54 [==============================] - 9s 160ms/step - loss: 0.0068 - accuracy: 0.9984 - val_loss: 8.8999 - val_accuracy: 0.5922\n",
      "Epoch 4/10\n",
      "54/54 [==============================] - 8s 147ms/step - loss: 0.0066 - accuracy: 0.9983 - val_loss: 8.8426 - val_accuracy: 0.5920\n",
      "Epoch 5/10\n",
      "54/54 [==============================] - 8s 147ms/step - loss: 0.0067 - accuracy: 0.9982 - val_loss: 9.0010 - val_accuracy: 0.5928\n",
      "Epoch 6/10\n",
      "54/54 [==============================] - 8s 146ms/step - loss: 0.0072 - accuracy: 0.9982 - val_loss: 8.8352 - val_accuracy: 0.5924\n",
      "Epoch 7/10\n",
      "54/54 [==============================] - 9s 160ms/step - loss: 0.0070 - accuracy: 0.9983 - val_loss: 8.6989 - val_accuracy: 0.5921\n",
      "Epoch 8/10\n",
      "54/54 [==============================] - 10s 182ms/step - loss: 0.0065 - accuracy: 0.9981 - val_loss: 8.6776 - val_accuracy: 0.5919\n",
      "Epoch 9/10\n",
      "54/54 [==============================] - 9s 165ms/step - loss: 0.0062 - accuracy: 0.9983 - val_loss: 8.8068 - val_accuracy: 0.5920\n",
      "Epoch 10/10\n",
      "54/54 [==============================] - 8s 157ms/step - loss: 0.0064 - accuracy: 0.9983 - val_loss: 8.8627 - val_accuracy: 0.5920\n",
      "Epoch 1/10\n",
      "54/54 [==============================] - 9s 159ms/step - loss: 0.0066 - accuracy: 0.9979 - val_loss: 9.0284 - val_accuracy: 0.5930\n",
      "Epoch 2/10\n",
      "54/54 [==============================] - 10s 181ms/step - loss: 0.0065 - accuracy: 0.9980 - val_loss: 8.8153 - val_accuracy: 0.5923\n",
      "Epoch 3/10\n",
      "54/54 [==============================] - 9s 159ms/step - loss: 0.0065 - accuracy: 0.9980 - val_loss: 8.8546 - val_accuracy: 0.5932\n",
      "Epoch 4/10\n",
      "54/54 [==============================] - 8s 155ms/step - loss: 0.0068 - accuracy: 0.9979 - val_loss: 8.5841 - val_accuracy: 0.5931\n",
      "Epoch 5/10\n",
      "54/54 [==============================] - 10s 183ms/step - loss: 0.0063 - accuracy: 0.9982 - val_loss: 8.5863 - val_accuracy: 0.5929\n",
      "Epoch 6/10\n",
      "54/54 [==============================] - 10s 191ms/step - loss: 0.0061 - accuracy: 0.9982 - val_loss: 8.7679 - val_accuracy: 0.5936\n",
      "Epoch 7/10\n",
      "54/54 [==============================] - 10s 184ms/step - loss: 0.0062 - accuracy: 0.9980 - val_loss: 8.6782 - val_accuracy: 0.5928\n",
      "Epoch 8/10\n",
      "54/54 [==============================] - 11s 199ms/step - loss: 0.0061 - accuracy: 0.9981 - val_loss: 8.9018 - val_accuracy: 0.5935\n",
      "Epoch 9/10\n",
      "54/54 [==============================] - 10s 185ms/step - loss: 0.0062 - accuracy: 0.9981 - val_loss: 8.6907 - val_accuracy: 0.5928\n",
      "Epoch 10/10\n",
      "54/54 [==============================] - 10s 185ms/step - loss: 0.0063 - accuracy: 0.9979 - val_loss: 8.7995 - val_accuracy: 0.5933\n",
      "Epoch 1/10\n",
      "54/54 [==============================] - 12s 230ms/step - loss: 0.0066 - accuracy: 0.9978 - val_loss: 8.5511 - val_accuracy: 0.5942\n",
      "Epoch 2/10\n",
      "54/54 [==============================] - 11s 197ms/step - loss: 0.0064 - accuracy: 0.9979 - val_loss: 8.3890 - val_accuracy: 0.5945\n",
      "Epoch 3/10\n",
      "54/54 [==============================] - 12s 217ms/step - loss: 0.0060 - accuracy: 0.9981 - val_loss: 8.4936 - val_accuracy: 0.5942\n",
      "Epoch 4/10\n",
      "54/54 [==============================] - 10s 186ms/step - loss: 0.0065 - accuracy: 0.9978 - val_loss: 8.4700 - val_accuracy: 0.5948\n",
      "Epoch 5/10\n",
      "54/54 [==============================] - 10s 190ms/step - loss: 0.0060 - accuracy: 0.9981 - val_loss: 8.5045 - val_accuracy: 0.5943\n",
      "Epoch 6/10\n",
      "54/54 [==============================] - 11s 195ms/step - loss: 0.0061 - accuracy: 0.9979 - val_loss: 8.8403 - val_accuracy: 0.5949\n",
      "Epoch 7/10\n",
      "54/54 [==============================] - 10s 191ms/step - loss: 0.0060 - accuracy: 0.9982 - val_loss: 8.7077 - val_accuracy: 0.5950\n",
      "Epoch 8/10\n",
      "54/54 [==============================] - 12s 214ms/step - loss: 0.0063 - accuracy: 0.9979 - val_loss: 8.5356 - val_accuracy: 0.5946\n",
      "Epoch 9/10\n",
      "54/54 [==============================] - 10s 189ms/step - loss: 0.0059 - accuracy: 0.9981 - val_loss: 8.6751 - val_accuracy: 0.5946\n",
      "Epoch 10/10\n",
      "54/54 [==============================] - 10s 185ms/step - loss: 0.0062 - accuracy: 0.9979 - val_loss: 8.5949 - val_accuracy: 0.5951\n",
      "  16/4279 [..............................] - ETA: 28s - loss: 3.8333 - accuracy: 0.5391"
     ]
    },
    {
     "name": "stderr",
     "output_type": "stream",
     "text": [
      "c:\\Users\\UX430\\anaconda3\\lib\\site-packages\\numpy\\core\\_asarray.py:171: VisibleDeprecationWarning: Creating an ndarray from ragged nested sequences (which is a list-or-tuple of lists-or-tuples-or ndarrays with different lengths or shapes) is deprecated. If you meant to do this, you must specify 'dtype=object' when creating the ndarray.\n",
      "  return array(a, dtype, copy=False, order=order, subok=True)\n"
     ]
    },
    {
     "name": "stdout",
     "output_type": "stream",
     "text": [
      "4279/4279 [==============================] - 21s 5ms/step - loss: 3.9401 - accuracy: 0.5307\n"
     ]
    },
    {
     "name": "stderr",
     "output_type": "stream",
     "text": [
      "c:\\Users\\UX430\\anaconda3\\lib\\site-packages\\sklearn\\metrics\\_classification.py:1308: UndefinedMetricWarning: Precision and F-score are ill-defined and being set to 0.0 in labels with no predicted samples. Use `zero_division` parameter to control this behavior.\n",
      "  _warn_prf(average, modifier, msg_start, len(result))\n",
      "c:\\Users\\UX430\\anaconda3\\lib\\site-packages\\sklearn\\metrics\\_classification.py:1308: UndefinedMetricWarning: Recall and F-score are ill-defined and being set to 0.0 in labels with no true samples. Use `zero_division` parameter to control this behavior.\n",
      "  _warn_prf(average, modifier, msg_start, len(result))\n",
      "c:\\Users\\UX430\\anaconda3\\lib\\site-packages\\sklearn\\metrics\\_classification.py:1308: UndefinedMetricWarning: Precision and F-score are ill-defined and being set to 0.0 in labels with no predicted samples. Use `zero_division` parameter to control this behavior.\n",
      "  _warn_prf(average, modifier, msg_start, len(result))\n",
      "c:\\Users\\UX430\\anaconda3\\lib\\site-packages\\sklearn\\metrics\\_classification.py:1308: UndefinedMetricWarning: Recall and F-score are ill-defined and being set to 0.0 in labels with no true samples. Use `zero_division` parameter to control this behavior.\n",
      "  _warn_prf(average, modifier, msg_start, len(result))\n",
      "c:\\Users\\UX430\\anaconda3\\lib\\site-packages\\sklearn\\metrics\\_classification.py:1308: UndefinedMetricWarning: Precision and F-score are ill-defined and being set to 0.0 in labels with no predicted samples. Use `zero_division` parameter to control this behavior.\n",
      "  _warn_prf(average, modifier, msg_start, len(result))\n",
      "c:\\Users\\UX430\\anaconda3\\lib\\site-packages\\sklearn\\metrics\\_classification.py:1308: UndefinedMetricWarning: Recall and F-score are ill-defined and being set to 0.0 in labels with no true samples. Use `zero_division` parameter to control this behavior.\n",
      "  _warn_prf(average, modifier, msg_start, len(result))\n"
     ]
    },
    {
     "name": "stdout",
     "output_type": "stream",
     "text": [
      "1721/1721 [==============================] - 9s 5ms/step - loss: 9.3563 - accuracy: 0.5580\n"
     ]
    },
    {
     "name": "stderr",
     "output_type": "stream",
     "text": [
      "c:\\Users\\UX430\\anaconda3\\lib\\site-packages\\sklearn\\metrics\\_classification.py:1308: UndefinedMetricWarning: Precision and F-score are ill-defined and being set to 0.0 in labels with no predicted samples. Use `zero_division` parameter to control this behavior.\n",
      "  _warn_prf(average, modifier, msg_start, len(result))\n",
      "c:\\Users\\UX430\\anaconda3\\lib\\site-packages\\sklearn\\metrics\\_classification.py:1308: UndefinedMetricWarning: Recall and F-score are ill-defined and being set to 0.0 in labels with no true samples. Use `zero_division` parameter to control this behavior.\n",
      "  _warn_prf(average, modifier, msg_start, len(result))\n",
      "c:\\Users\\UX430\\anaconda3\\lib\\site-packages\\sklearn\\metrics\\_classification.py:1308: UndefinedMetricWarning: Precision and F-score are ill-defined and being set to 0.0 in labels with no predicted samples. Use `zero_division` parameter to control this behavior.\n",
      "  _warn_prf(average, modifier, msg_start, len(result))\n",
      "c:\\Users\\UX430\\anaconda3\\lib\\site-packages\\sklearn\\metrics\\_classification.py:1308: UndefinedMetricWarning: Recall and F-score are ill-defined and being set to 0.0 in labels with no true samples. Use `zero_division` parameter to control this behavior.\n",
      "  _warn_prf(average, modifier, msg_start, len(result))\n",
      "c:\\Users\\UX430\\anaconda3\\lib\\site-packages\\sklearn\\metrics\\_classification.py:1308: UndefinedMetricWarning: Precision and F-score are ill-defined and being set to 0.0 in labels with no predicted samples. Use `zero_division` parameter to control this behavior.\n",
      "  _warn_prf(average, modifier, msg_start, len(result))\n",
      "c:\\Users\\UX430\\anaconda3\\lib\\site-packages\\sklearn\\metrics\\_classification.py:1308: UndefinedMetricWarning: Recall and F-score are ill-defined and being set to 0.0 in labels with no true samples. Use `zero_division` parameter to control this behavior.\n",
      "  _warn_prf(average, modifier, msg_start, len(result))\n"
     ]
    },
    {
     "name": "stdout",
     "output_type": "stream",
     "text": [
      "Epoch 1/10\n",
      "54/54 [==============================] - 10s 181ms/step - loss: 0.0064 - accuracy: 0.9983 - val_loss: 8.7929 - val_accuracy: 0.5926\n",
      "Epoch 2/10\n",
      "54/54 [==============================] - 12s 221ms/step - loss: 0.0065 - accuracy: 0.9983 - val_loss: 8.5869 - val_accuracy: 0.5921\n",
      "Epoch 3/10\n",
      "54/54 [==============================] - 12s 223ms/step - loss: 0.0066 - accuracy: 0.9981 - val_loss: 8.7924 - val_accuracy: 0.5920\n",
      "Epoch 4/10\n",
      "54/54 [==============================] - 11s 213ms/step - loss: 0.0066 - accuracy: 0.9984 - val_loss: 8.7683 - val_accuracy: 0.5925\n",
      "Epoch 5/10\n",
      "54/54 [==============================] - 12s 217ms/step - loss: 0.0063 - accuracy: 0.9984 - val_loss: 8.5456 - val_accuracy: 0.5907\n",
      "Epoch 6/10\n",
      "54/54 [==============================] - 11s 210ms/step - loss: 0.0062 - accuracy: 0.9983 - val_loss: 8.7252 - val_accuracy: 0.5922\n",
      "Epoch 7/10\n",
      "54/54 [==============================] - 12s 215ms/step - loss: 0.0059 - accuracy: 0.9984 - val_loss: 8.7527 - val_accuracy: 0.5921\n",
      "Epoch 8/10\n",
      "54/54 [==============================] - 12s 216ms/step - loss: 0.0066 - accuracy: 0.9980 - val_loss: 8.5802 - val_accuracy: 0.5926\n",
      "Epoch 9/10\n",
      "54/54 [==============================] - 12s 220ms/step - loss: 0.0059 - accuracy: 0.9984 - val_loss: 8.6815 - val_accuracy: 0.5917\n",
      "Epoch 10/10\n",
      "54/54 [==============================] - 12s 218ms/step - loss: 0.0061 - accuracy: 0.9984 - val_loss: 8.7683 - val_accuracy: 0.5919\n",
      "Epoch 1/10\n",
      "54/54 [==============================] - 12s 219ms/step - loss: 0.0066 - accuracy: 0.9979 - val_loss: 8.7692 - val_accuracy: 0.5928\n",
      "Epoch 2/10\n",
      "54/54 [==============================] - 12s 217ms/step - loss: 0.0061 - accuracy: 0.9981 - val_loss: 8.6892 - val_accuracy: 0.5929\n",
      "Epoch 3/10\n",
      "54/54 [==============================] - 12s 219ms/step - loss: 0.0060 - accuracy: 0.9982 - val_loss: 8.7948 - val_accuracy: 0.5937\n",
      "Epoch 4/10\n",
      "54/54 [==============================] - 12s 226ms/step - loss: 0.0060 - accuracy: 0.9982 - val_loss: 8.6871 - val_accuracy: 0.5937\n",
      "Epoch 5/10\n",
      "54/54 [==============================] - 12s 217ms/step - loss: 0.0063 - accuracy: 0.9980 - val_loss: 8.7161 - val_accuracy: 0.5934\n",
      "Epoch 6/10\n",
      "54/54 [==============================] - 12s 220ms/step - loss: 0.0060 - accuracy: 0.9982 - val_loss: 8.6457 - val_accuracy: 0.5923\n",
      "Epoch 7/10\n",
      "54/54 [==============================] - 13s 234ms/step - loss: 0.0058 - accuracy: 0.9983 - val_loss: 8.7250 - val_accuracy: 0.5930\n",
      "Epoch 8/10\n",
      "54/54 [==============================] - 12s 221ms/step - loss: 0.0061 - accuracy: 0.9981 - val_loss: 8.7446 - val_accuracy: 0.5930\n",
      "Epoch 9/10\n",
      "54/54 [==============================] - 12s 214ms/step - loss: 0.0059 - accuracy: 0.9983 - val_loss: 8.9468 - val_accuracy: 0.5932\n",
      "Epoch 10/10\n",
      "54/54 [==============================] - 11s 210ms/step - loss: 0.0059 - accuracy: 0.9981 - val_loss: 8.7889 - val_accuracy: 0.5926\n",
      "Epoch 1/10\n",
      "54/54 [==============================] - 12s 228ms/step - loss: 0.0065 - accuracy: 0.9979 - val_loss: 8.3910 - val_accuracy: 0.5939\n",
      "Epoch 2/10\n",
      "54/54 [==============================] - 12s 215ms/step - loss: 0.0062 - accuracy: 0.9980 - val_loss: 8.5649 - val_accuracy: 0.5948\n",
      "Epoch 3/10\n",
      "54/54 [==============================] - 12s 223ms/step - loss: 0.0057 - accuracy: 0.9982 - val_loss: 8.4701 - val_accuracy: 0.5949\n",
      "Epoch 4/10\n",
      "54/54 [==============================] - 12s 218ms/step - loss: 0.0058 - accuracy: 0.9981 - val_loss: 8.6404 - val_accuracy: 0.5951\n",
      "Epoch 5/10\n",
      "54/54 [==============================] - 12s 218ms/step - loss: 0.0060 - accuracy: 0.9980 - val_loss: 8.5434 - val_accuracy: 0.5945\n",
      "Epoch 6/10\n",
      "54/54 [==============================] - 13s 242ms/step - loss: 0.0057 - accuracy: 0.9982 - val_loss: 8.8123 - val_accuracy: 0.5955\n",
      "Epoch 7/10\n",
      "54/54 [==============================] - 12s 219ms/step - loss: 0.0056 - accuracy: 0.9982 - val_loss: 8.7981 - val_accuracy: 0.5956\n",
      "Epoch 8/10\n",
      "54/54 [==============================] - 12s 223ms/step - loss: 0.0059 - accuracy: 0.9980 - val_loss: 8.6354 - val_accuracy: 0.5950\n",
      "Epoch 9/10\n",
      "54/54 [==============================] - 12s 224ms/step - loss: 0.0059 - accuracy: 0.9980 - val_loss: 8.4813 - val_accuracy: 0.5953\n",
      "Epoch 10/10\n",
      "54/54 [==============================] - 12s 226ms/step - loss: 0.0056 - accuracy: 0.9981 - val_loss: 8.5301 - val_accuracy: 0.5945\n",
      "   1/4279 [..............................] - ETA: 0s - loss: 4.6732 - accuracy: 0.5312"
     ]
    },
    {
     "name": "stderr",
     "output_type": "stream",
     "text": [
      "c:\\Users\\UX430\\anaconda3\\lib\\site-packages\\numpy\\core\\_asarray.py:171: VisibleDeprecationWarning: Creating an ndarray from ragged nested sequences (which is a list-or-tuple of lists-or-tuples-or ndarrays with different lengths or shapes) is deprecated. If you meant to do this, you must specify 'dtype=object' when creating the ndarray.\n",
      "  return array(a, dtype, copy=False, order=order, subok=True)\n"
     ]
    },
    {
     "name": "stdout",
     "output_type": "stream",
     "text": [
      "4279/4279 [==============================] - 23s 5ms/step - loss: 4.6747 - accuracy: 0.5301\n"
     ]
    },
    {
     "name": "stderr",
     "output_type": "stream",
     "text": [
      "c:\\Users\\UX430\\anaconda3\\lib\\site-packages\\sklearn\\metrics\\_classification.py:1308: UndefinedMetricWarning: Precision and F-score are ill-defined and being set to 0.0 in labels with no predicted samples. Use `zero_division` parameter to control this behavior.\n",
      "  _warn_prf(average, modifier, msg_start, len(result))\n",
      "c:\\Users\\UX430\\anaconda3\\lib\\site-packages\\sklearn\\metrics\\_classification.py:1308: UndefinedMetricWarning: Recall and F-score are ill-defined and being set to 0.0 in labels with no true samples. Use `zero_division` parameter to control this behavior.\n",
      "  _warn_prf(average, modifier, msg_start, len(result))\n"
     ]
    },
    {
     "name": "stdout",
     "output_type": "stream",
     "text": [
      "   1/1721 [..............................] - ETA: 0s - loss: 16.9563 - accuracy: 0.0000e+00"
     ]
    },
    {
     "name": "stderr",
     "output_type": "stream",
     "text": [
      "c:\\Users\\UX430\\anaconda3\\lib\\site-packages\\sklearn\\metrics\\_classification.py:1308: UndefinedMetricWarning: Precision and F-score are ill-defined and being set to 0.0 in labels with no predicted samples. Use `zero_division` parameter to control this behavior.\n",
      "  _warn_prf(average, modifier, msg_start, len(result))\n",
      "c:\\Users\\UX430\\anaconda3\\lib\\site-packages\\sklearn\\metrics\\_classification.py:1308: UndefinedMetricWarning: Recall and F-score are ill-defined and being set to 0.0 in labels with no true samples. Use `zero_division` parameter to control this behavior.\n",
      "  _warn_prf(average, modifier, msg_start, len(result))\n",
      "c:\\Users\\UX430\\anaconda3\\lib\\site-packages\\sklearn\\metrics\\_classification.py:1308: UndefinedMetricWarning: Precision and F-score are ill-defined and being set to 0.0 in labels with no predicted samples. Use `zero_division` parameter to control this behavior.\n",
      "  _warn_prf(average, modifier, msg_start, len(result))\n",
      "c:\\Users\\UX430\\anaconda3\\lib\\site-packages\\sklearn\\metrics\\_classification.py:1308: UndefinedMetricWarning: Recall and F-score are ill-defined and being set to 0.0 in labels with no true samples. Use `zero_division` parameter to control this behavior.\n",
      "  _warn_prf(average, modifier, msg_start, len(result))\n"
     ]
    },
    {
     "name": "stdout",
     "output_type": "stream",
     "text": [
      "1721/1721 [==============================] - 9s 5ms/step - loss: 9.6510 - accuracy: 0.5565\n"
     ]
    },
    {
     "name": "stderr",
     "output_type": "stream",
     "text": [
      "c:\\Users\\UX430\\anaconda3\\lib\\site-packages\\sklearn\\metrics\\_classification.py:1308: UndefinedMetricWarning: Precision and F-score are ill-defined and being set to 0.0 in labels with no predicted samples. Use `zero_division` parameter to control this behavior.\n",
      "  _warn_prf(average, modifier, msg_start, len(result))\n",
      "c:\\Users\\UX430\\anaconda3\\lib\\site-packages\\sklearn\\metrics\\_classification.py:1308: UndefinedMetricWarning: Recall and F-score are ill-defined and being set to 0.0 in labels with no true samples. Use `zero_division` parameter to control this behavior.\n",
      "  _warn_prf(average, modifier, msg_start, len(result))\n",
      "c:\\Users\\UX430\\anaconda3\\lib\\site-packages\\sklearn\\metrics\\_classification.py:1308: UndefinedMetricWarning: Precision and F-score are ill-defined and being set to 0.0 in labels with no predicted samples. Use `zero_division` parameter to control this behavior.\n",
      "  _warn_prf(average, modifier, msg_start, len(result))\n",
      "c:\\Users\\UX430\\anaconda3\\lib\\site-packages\\sklearn\\metrics\\_classification.py:1308: UndefinedMetricWarning: Recall and F-score are ill-defined and being set to 0.0 in labels with no true samples. Use `zero_division` parameter to control this behavior.\n",
      "  _warn_prf(average, modifier, msg_start, len(result))\n",
      "c:\\Users\\UX430\\anaconda3\\lib\\site-packages\\sklearn\\metrics\\_classification.py:1308: UndefinedMetricWarning: Precision and F-score are ill-defined and being set to 0.0 in labels with no predicted samples. Use `zero_division` parameter to control this behavior.\n",
      "  _warn_prf(average, modifier, msg_start, len(result))\n",
      "c:\\Users\\UX430\\anaconda3\\lib\\site-packages\\sklearn\\metrics\\_classification.py:1308: UndefinedMetricWarning: Recall and F-score are ill-defined and being set to 0.0 in labels with no true samples. Use `zero_division` parameter to control this behavior.\n",
      "  _warn_prf(average, modifier, msg_start, len(result))\n"
     ]
    },
    {
     "name": "stdout",
     "output_type": "stream",
     "text": [
      "Epoch 1/10\n",
      "54/54 [==============================] - 12s 225ms/step - loss: 0.0062 - accuracy: 0.9984 - val_loss: 8.7125 - val_accuracy: 0.5923\n",
      "Epoch 2/10\n",
      "54/54 [==============================] - 12s 218ms/step - loss: 0.0061 - accuracy: 0.9984 - val_loss: 8.5405 - val_accuracy: 0.5921\n",
      "Epoch 3/10\n",
      "54/54 [==============================] - 12s 220ms/step - loss: 0.0062 - accuracy: 0.9983 - val_loss: 8.4596 - val_accuracy: 0.5915\n",
      "Epoch 4/10\n",
      "54/54 [==============================] - 12s 221ms/step - loss: 0.0067 - accuracy: 0.9983 - val_loss: 8.5135 - val_accuracy: 0.5927\n",
      "Epoch 5/10\n",
      "54/54 [==============================] - 12s 216ms/step - loss: 0.0059 - accuracy: 0.9984 - val_loss: 8.5037 - val_accuracy: 0.5924\n",
      "Epoch 6/10\n",
      "54/54 [==============================] - 12s 221ms/step - loss: 0.0056 - accuracy: 0.9985 - val_loss: 8.7745 - val_accuracy: 0.5925\n",
      "Epoch 7/10\n",
      "54/54 [==============================] - 12s 218ms/step - loss: 0.0062 - accuracy: 0.9983 - val_loss: 8.6426 - val_accuracy: 0.5929\n",
      "Epoch 8/10\n",
      "54/54 [==============================] - 12s 221ms/step - loss: 0.0059 - accuracy: 0.9984 - val_loss: 8.5971 - val_accuracy: 0.5916\n",
      "Epoch 9/10\n",
      "54/54 [==============================] - 12s 221ms/step - loss: 0.0064 - accuracy: 0.9984 - val_loss: 8.4825 - val_accuracy: 0.5918\n",
      "Epoch 10/10\n",
      "54/54 [==============================] - 12s 215ms/step - loss: 0.0057 - accuracy: 0.9985 - val_loss: 8.6824 - val_accuracy: 0.5923\n",
      "Epoch 1/10\n",
      "54/54 [==============================] - 12s 225ms/step - loss: 0.0064 - accuracy: 0.9979 - val_loss: 8.7109 - val_accuracy: 0.5938\n",
      "Epoch 2/10\n",
      "54/54 [==============================] - 12s 217ms/step - loss: 0.0058 - accuracy: 0.9982 - val_loss: 8.7879 - val_accuracy: 0.5934\n",
      "Epoch 3/10\n",
      "54/54 [==============================] - 12s 221ms/step - loss: 0.0059 - accuracy: 0.9982 - val_loss: 8.6610 - val_accuracy: 0.5933\n",
      "Epoch 4/10\n",
      "54/54 [==============================] - 12s 214ms/step - loss: 0.0059 - accuracy: 0.9982 - val_loss: 8.9269 - val_accuracy: 0.5935\n",
      "Epoch 5/10\n",
      "54/54 [==============================] - 12s 215ms/step - loss: 0.0059 - accuracy: 0.9982 - val_loss: 8.7044 - val_accuracy: 0.5932\n",
      "Epoch 6/10\n",
      "54/54 [==============================] - 12s 218ms/step - loss: 0.0056 - accuracy: 0.9982 - val_loss: 8.7967 - val_accuracy: 0.5929\n",
      "Epoch 7/10\n",
      "54/54 [==============================] - 11s 212ms/step - loss: 0.0056 - accuracy: 0.9983 - val_loss: 8.7676 - val_accuracy: 0.5933\n",
      "Epoch 8/10\n",
      "54/54 [==============================] - 11s 213ms/step - loss: 0.0055 - accuracy: 0.9983 - val_loss: 8.9950 - val_accuracy: 0.5936\n",
      "Epoch 9/10\n",
      "54/54 [==============================] - 11s 205ms/step - loss: 0.0058 - accuracy: 0.9980 - val_loss: 8.7787 - val_accuracy: 0.5934\n",
      "Epoch 10/10\n",
      "54/54 [==============================] - 12s 213ms/step - loss: 0.0056 - accuracy: 0.9983 - val_loss: 8.9858 - val_accuracy: 0.5936\n",
      "Epoch 1/10\n",
      "54/54 [==============================] - 12s 226ms/step - loss: 0.0059 - accuracy: 0.9981 - val_loss: 8.7443 - val_accuracy: 0.5955\n",
      "Epoch 2/10\n",
      "54/54 [==============================] - 11s 205ms/step - loss: 0.0057 - accuracy: 0.9981 - val_loss: 8.7647 - val_accuracy: 0.5949\n",
      "Epoch 3/10\n",
      "54/54 [==============================] - 11s 207ms/step - loss: 0.0057 - accuracy: 0.9981 - val_loss: 8.9305 - val_accuracy: 0.5954\n",
      "Epoch 4/10\n",
      "54/54 [==============================] - 12s 213ms/step - loss: 0.0058 - accuracy: 0.9981 - val_loss: 8.7753 - val_accuracy: 0.5953\n",
      "Epoch 5/10\n",
      "54/54 [==============================] - 12s 217ms/step - loss: 0.0056 - accuracy: 0.9982 - val_loss: 8.5380 - val_accuracy: 0.5947\n",
      "Epoch 6/10\n",
      "54/54 [==============================] - 12s 217ms/step - loss: 0.0054 - accuracy: 0.9982 - val_loss: 8.6030 - val_accuracy: 0.5946\n",
      "Epoch 7/10\n",
      "54/54 [==============================] - 12s 224ms/step - loss: 0.0054 - accuracy: 0.9982 - val_loss: 8.8359 - val_accuracy: 0.5954\n",
      "Epoch 8/10\n",
      "54/54 [==============================] - 12s 230ms/step - loss: 0.0057 - accuracy: 0.9982 - val_loss: 8.7436 - val_accuracy: 0.5949\n",
      "Epoch 9/10\n",
      "54/54 [==============================] - 13s 237ms/step - loss: 0.0054 - accuracy: 0.9980 - val_loss: 8.6609 - val_accuracy: 0.5946\n",
      "Epoch 10/10\n",
      "54/54 [==============================] - 13s 243ms/step - loss: 0.0053 - accuracy: 0.9983 - val_loss: 8.5851 - val_accuracy: 0.5938\n",
      "   1/4279 [..............................] - ETA: 0s - loss: 4.9969 - accuracy: 0.5312"
     ]
    },
    {
     "name": "stderr",
     "output_type": "stream",
     "text": [
      "c:\\Users\\UX430\\anaconda3\\lib\\site-packages\\numpy\\core\\_asarray.py:171: VisibleDeprecationWarning: Creating an ndarray from ragged nested sequences (which is a list-or-tuple of lists-or-tuples-or ndarrays with different lengths or shapes) is deprecated. If you meant to do this, you must specify 'dtype=object' when creating the ndarray.\n",
      "  return array(a, dtype, copy=False, order=order, subok=True)\n"
     ]
    },
    {
     "name": "stdout",
     "output_type": "stream",
     "text": [
      "4279/4279 [==============================] - 23s 5ms/step - loss: 4.8811 - accuracy: 0.5291\n"
     ]
    },
    {
     "name": "stderr",
     "output_type": "stream",
     "text": [
      "c:\\Users\\UX430\\anaconda3\\lib\\site-packages\\sklearn\\metrics\\_classification.py:1308: UndefinedMetricWarning: Precision and F-score are ill-defined and being set to 0.0 in labels with no predicted samples. Use `zero_division` parameter to control this behavior.\n",
      "  _warn_prf(average, modifier, msg_start, len(result))\n",
      "c:\\Users\\UX430\\anaconda3\\lib\\site-packages\\sklearn\\metrics\\_classification.py:1308: UndefinedMetricWarning: Recall and F-score are ill-defined and being set to 0.0 in labels with no true samples. Use `zero_division` parameter to control this behavior.\n",
      "  _warn_prf(average, modifier, msg_start, len(result))\n",
      "c:\\Users\\UX430\\anaconda3\\lib\\site-packages\\sklearn\\metrics\\_classification.py:1308: UndefinedMetricWarning: Precision and F-score are ill-defined and being set to 0.0 in labels with no predicted samples. Use `zero_division` parameter to control this behavior.\n",
      "  _warn_prf(average, modifier, msg_start, len(result))\n",
      "c:\\Users\\UX430\\anaconda3\\lib\\site-packages\\sklearn\\metrics\\_classification.py:1308: UndefinedMetricWarning: Recall and F-score are ill-defined and being set to 0.0 in labels with no true samples. Use `zero_division` parameter to control this behavior.\n",
      "  _warn_prf(average, modifier, msg_start, len(result))\n"
     ]
    },
    {
     "name": "stdout",
     "output_type": "stream",
     "text": [
      "  23/1721 [..............................] - ETA: 7s - loss: 16.9536 - accuracy: 0.0000e+00"
     ]
    },
    {
     "name": "stderr",
     "output_type": "stream",
     "text": [
      "c:\\Users\\UX430\\anaconda3\\lib\\site-packages\\sklearn\\metrics\\_classification.py:1308: UndefinedMetricWarning: Precision and F-score are ill-defined and being set to 0.0 in labels with no predicted samples. Use `zero_division` parameter to control this behavior.\n",
      "  _warn_prf(average, modifier, msg_start, len(result))\n",
      "c:\\Users\\UX430\\anaconda3\\lib\\site-packages\\sklearn\\metrics\\_classification.py:1308: UndefinedMetricWarning: Recall and F-score are ill-defined and being set to 0.0 in labels with no true samples. Use `zero_division` parameter to control this behavior.\n",
      "  _warn_prf(average, modifier, msg_start, len(result))\n"
     ]
    },
    {
     "name": "stdout",
     "output_type": "stream",
     "text": [
      "1721/1721 [==============================] - 12s 7ms/step - loss: 9.7391 - accuracy: 0.5555\n"
     ]
    },
    {
     "name": "stderr",
     "output_type": "stream",
     "text": [
      "c:\\Users\\UX430\\anaconda3\\lib\\site-packages\\sklearn\\metrics\\_classification.py:1308: UndefinedMetricWarning: Precision and F-score are ill-defined and being set to 0.0 in labels with no predicted samples. Use `zero_division` parameter to control this behavior.\n",
      "  _warn_prf(average, modifier, msg_start, len(result))\n",
      "c:\\Users\\UX430\\anaconda3\\lib\\site-packages\\sklearn\\metrics\\_classification.py:1308: UndefinedMetricWarning: Recall and F-score are ill-defined and being set to 0.0 in labels with no true samples. Use `zero_division` parameter to control this behavior.\n",
      "  _warn_prf(average, modifier, msg_start, len(result))\n",
      "c:\\Users\\UX430\\anaconda3\\lib\\site-packages\\sklearn\\metrics\\_classification.py:1308: UndefinedMetricWarning: Precision and F-score are ill-defined and being set to 0.0 in labels with no predicted samples. Use `zero_division` parameter to control this behavior.\n",
      "  _warn_prf(average, modifier, msg_start, len(result))\n",
      "c:\\Users\\UX430\\anaconda3\\lib\\site-packages\\sklearn\\metrics\\_classification.py:1308: UndefinedMetricWarning: Recall and F-score are ill-defined and being set to 0.0 in labels with no true samples. Use `zero_division` parameter to control this behavior.\n",
      "  _warn_prf(average, modifier, msg_start, len(result))\n",
      "c:\\Users\\UX430\\anaconda3\\lib\\site-packages\\sklearn\\metrics\\_classification.py:1308: UndefinedMetricWarning: Precision and F-score are ill-defined and being set to 0.0 in labels with no predicted samples. Use `zero_division` parameter to control this behavior.\n",
      "  _warn_prf(average, modifier, msg_start, len(result))\n",
      "c:\\Users\\UX430\\anaconda3\\lib\\site-packages\\sklearn\\metrics\\_classification.py:1308: UndefinedMetricWarning: Recall and F-score are ill-defined and being set to 0.0 in labels with no true samples. Use `zero_division` parameter to control this behavior.\n",
      "  _warn_prf(average, modifier, msg_start, len(result))\n"
     ]
    },
    {
     "name": "stdout",
     "output_type": "stream",
     "text": [
      "Epoch 1/10\n",
      "54/54 [==============================] - 12s 225ms/step - loss: 0.0061 - accuracy: 0.9982 - val_loss: 8.5378 - val_accuracy: 0.5927\n",
      "Epoch 2/10\n",
      "54/54 [==============================] - 12s 217ms/step - loss: 0.0057 - accuracy: 0.9985 - val_loss: 8.5202 - val_accuracy: 0.5922\n",
      "Epoch 3/10\n",
      "54/54 [==============================] - 12s 219ms/step - loss: 0.0060 - accuracy: 0.9983 - val_loss: 8.5501 - val_accuracy: 0.5928\n",
      "Epoch 4/10\n",
      "54/54 [==============================] - 12s 221ms/step - loss: 0.0063 - accuracy: 0.9985 - val_loss: 8.7514 - val_accuracy: 0.5919\n",
      "Epoch 5/10\n",
      "54/54 [==============================] - 12s 219ms/step - loss: 0.0058 - accuracy: 0.9984 - val_loss: 8.5952 - val_accuracy: 0.5920\n",
      "Epoch 6/10\n",
      "54/54 [==============================] - 12s 214ms/step - loss: 0.0054 - accuracy: 0.9983 - val_loss: 8.5534 - val_accuracy: 0.5924\n",
      "Epoch 7/10\n",
      "54/54 [==============================] - 12s 214ms/step - loss: 0.0055 - accuracy: 0.9984 - val_loss: 8.7991 - val_accuracy: 0.5928\n",
      "Epoch 8/10\n",
      "54/54 [==============================] - 12s 217ms/step - loss: 0.0052 - accuracy: 0.9985 - val_loss: 8.7874 - val_accuracy: 0.5925\n",
      "Epoch 9/10\n",
      "54/54 [==============================] - 12s 215ms/step - loss: 0.0052 - accuracy: 0.9986 - val_loss: 8.8558 - val_accuracy: 0.5924\n",
      "Epoch 10/10\n",
      "54/54 [==============================] - 12s 224ms/step - loss: 0.0049 - accuracy: 0.9986 - val_loss: 9.1129 - val_accuracy: 0.5927\n",
      "Epoch 1/10\n",
      "54/54 [==============================] - 13s 243ms/step - loss: 0.0060 - accuracy: 0.9981 - val_loss: 9.0235 - val_accuracy: 0.5935\n",
      "Epoch 2/10\n",
      "54/54 [==============================] - 12s 219ms/step - loss: 0.0057 - accuracy: 0.9982 - val_loss: 8.8905 - val_accuracy: 0.5934\n",
      "Epoch 3/10\n",
      "54/54 [==============================] - 12s 218ms/step - loss: 0.0055 - accuracy: 0.9983 - val_loss: 8.7811 - val_accuracy: 0.5937\n",
      "Epoch 4/10\n",
      "54/54 [==============================] - 11s 208ms/step - loss: 0.0054 - accuracy: 0.9983 - val_loss: 8.8773 - val_accuracy: 0.5933\n",
      "Epoch 5/10\n",
      "54/54 [==============================] - 12s 214ms/step - loss: 0.0055 - accuracy: 0.9982 - val_loss: 8.9949 - val_accuracy: 0.5932\n",
      "Epoch 6/10\n",
      "54/54 [==============================] - 12s 219ms/step - loss: 0.0055 - accuracy: 0.9982 - val_loss: 8.8592 - val_accuracy: 0.5928\n",
      "Epoch 7/10\n",
      "54/54 [==============================] - 12s 215ms/step - loss: 0.0053 - accuracy: 0.9984 - val_loss: 8.8899 - val_accuracy: 0.5934\n",
      "Epoch 8/10\n",
      "54/54 [==============================] - 12s 215ms/step - loss: 0.0052 - accuracy: 0.9983 - val_loss: 9.1008 - val_accuracy: 0.5939\n",
      "Epoch 9/10\n",
      "54/54 [==============================] - 12s 217ms/step - loss: 0.0054 - accuracy: 0.9983 - val_loss: 8.8819 - val_accuracy: 0.5935\n",
      "Epoch 10/10\n",
      "54/54 [==============================] - 12s 217ms/step - loss: 0.0052 - accuracy: 0.9983 - val_loss: 8.8328 - val_accuracy: 0.5932\n",
      "Epoch 1/10\n",
      "54/54 [==============================] - 12s 228ms/step - loss: 0.0060 - accuracy: 0.9979 - val_loss: 8.4310 - val_accuracy: 0.5946\n",
      "Epoch 2/10\n",
      "54/54 [==============================] - 12s 223ms/step - loss: 0.0055 - accuracy: 0.9980 - val_loss: 8.2920 - val_accuracy: 0.5946\n",
      "Epoch 3/10\n",
      "54/54 [==============================] - 12s 225ms/step - loss: 0.0053 - accuracy: 0.9982 - val_loss: 8.1561 - val_accuracy: 0.5943\n",
      "Epoch 4/10\n",
      "54/54 [==============================] - 12s 221ms/step - loss: 0.0052 - accuracy: 0.9981 - val_loss: 8.4006 - val_accuracy: 0.5947\n",
      "Epoch 5/10\n",
      "54/54 [==============================] - 12s 221ms/step - loss: 0.0054 - accuracy: 0.9981 - val_loss: 8.4866 - val_accuracy: 0.5955\n",
      "Epoch 6/10\n",
      "54/54 [==============================] - 12s 223ms/step - loss: 0.0051 - accuracy: 0.9982 - val_loss: 8.6391 - val_accuracy: 0.5951\n",
      "Epoch 7/10\n",
      "54/54 [==============================] - 12s 219ms/step - loss: 0.0054 - accuracy: 0.9981 - val_loss: 8.5431 - val_accuracy: 0.5948\n",
      "Epoch 8/10\n",
      "54/54 [==============================] - 12s 220ms/step - loss: 0.0054 - accuracy: 0.9982 - val_loss: 8.3418 - val_accuracy: 0.5939\n",
      "Epoch 9/10\n",
      "54/54 [==============================] - 12s 223ms/step - loss: 0.0051 - accuracy: 0.9983 - val_loss: 8.6093 - val_accuracy: 0.5951\n",
      "Epoch 10/10\n",
      "54/54 [==============================] - 11s 211ms/step - loss: 0.0049 - accuracy: 0.9983 - val_loss: 8.6786 - val_accuracy: 0.5950\n",
      "   1/4279 [..............................] - ETA: 0s - loss: 5.9122 - accuracy: 0.5312"
     ]
    },
    {
     "name": "stderr",
     "output_type": "stream",
     "text": [
      "c:\\Users\\UX430\\anaconda3\\lib\\site-packages\\numpy\\core\\_asarray.py:171: VisibleDeprecationWarning: Creating an ndarray from ragged nested sequences (which is a list-or-tuple of lists-or-tuples-or ndarrays with different lengths or shapes) is deprecated. If you meant to do this, you must specify 'dtype=object' when creating the ndarray.\n",
      "  return array(a, dtype, copy=False, order=order, subok=True)\n"
     ]
    },
    {
     "name": "stdout",
     "output_type": "stream",
     "text": [
      "4279/4279 [==============================] - 33s 8ms/step - loss: 5.7219 - accuracy: 0.5265\n"
     ]
    },
    {
     "name": "stderr",
     "output_type": "stream",
     "text": [
      "c:\\Users\\UX430\\anaconda3\\lib\\site-packages\\sklearn\\metrics\\_classification.py:1308: UndefinedMetricWarning: Precision and F-score are ill-defined and being set to 0.0 in labels with no predicted samples. Use `zero_division` parameter to control this behavior.\n",
      "  _warn_prf(average, modifier, msg_start, len(result))\n",
      "c:\\Users\\UX430\\anaconda3\\lib\\site-packages\\sklearn\\metrics\\_classification.py:1308: UndefinedMetricWarning: Recall and F-score are ill-defined and being set to 0.0 in labels with no true samples. Use `zero_division` parameter to control this behavior.\n",
      "  _warn_prf(average, modifier, msg_start, len(result))\n"
     ]
    },
    {
     "name": "stdout",
     "output_type": "stream",
     "text": [
      "   1/1721 [..............................] - ETA: 0s - loss: 17.6090 - accuracy: 0.0000e+00"
     ]
    },
    {
     "name": "stderr",
     "output_type": "stream",
     "text": [
      "c:\\Users\\UX430\\anaconda3\\lib\\site-packages\\sklearn\\metrics\\_classification.py:1308: UndefinedMetricWarning: Precision and F-score are ill-defined and being set to 0.0 in labels with no predicted samples. Use `zero_division` parameter to control this behavior.\n",
      "  _warn_prf(average, modifier, msg_start, len(result))\n",
      "c:\\Users\\UX430\\anaconda3\\lib\\site-packages\\sklearn\\metrics\\_classification.py:1308: UndefinedMetricWarning: Recall and F-score are ill-defined and being set to 0.0 in labels with no true samples. Use `zero_division` parameter to control this behavior.\n",
      "  _warn_prf(average, modifier, msg_start, len(result))\n",
      "c:\\Users\\UX430\\anaconda3\\lib\\site-packages\\sklearn\\metrics\\_classification.py:1308: UndefinedMetricWarning: Precision and F-score are ill-defined and being set to 0.0 in labels with no predicted samples. Use `zero_division` parameter to control this behavior.\n",
      "  _warn_prf(average, modifier, msg_start, len(result))\n",
      "c:\\Users\\UX430\\anaconda3\\lib\\site-packages\\sklearn\\metrics\\_classification.py:1308: UndefinedMetricWarning: Recall and F-score are ill-defined and being set to 0.0 in labels with no true samples. Use `zero_division` parameter to control this behavior.\n",
      "  _warn_prf(average, modifier, msg_start, len(result))\n"
     ]
    },
    {
     "name": "stdout",
     "output_type": "stream",
     "text": [
      "1721/1721 [==============================] - 13s 7ms/step - loss: 10.4176 - accuracy: 0.5547: 1\n"
     ]
    },
    {
     "name": "stderr",
     "output_type": "stream",
     "text": [
      "c:\\Users\\UX430\\anaconda3\\lib\\site-packages\\sklearn\\metrics\\_classification.py:1308: UndefinedMetricWarning: Precision and F-score are ill-defined and being set to 0.0 in labels with no predicted samples. Use `zero_division` parameter to control this behavior.\n",
      "  _warn_prf(average, modifier, msg_start, len(result))\n",
      "c:\\Users\\UX430\\anaconda3\\lib\\site-packages\\sklearn\\metrics\\_classification.py:1308: UndefinedMetricWarning: Recall and F-score are ill-defined and being set to 0.0 in labels with no true samples. Use `zero_division` parameter to control this behavior.\n",
      "  _warn_prf(average, modifier, msg_start, len(result))\n",
      "c:\\Users\\UX430\\anaconda3\\lib\\site-packages\\sklearn\\metrics\\_classification.py:1308: UndefinedMetricWarning: Precision and F-score are ill-defined and being set to 0.0 in labels with no predicted samples. Use `zero_division` parameter to control this behavior.\n",
      "  _warn_prf(average, modifier, msg_start, len(result))\n",
      "c:\\Users\\UX430\\anaconda3\\lib\\site-packages\\sklearn\\metrics\\_classification.py:1308: UndefinedMetricWarning: Recall and F-score are ill-defined and being set to 0.0 in labels with no true samples. Use `zero_division` parameter to control this behavior.\n",
      "  _warn_prf(average, modifier, msg_start, len(result))\n",
      "c:\\Users\\UX430\\anaconda3\\lib\\site-packages\\sklearn\\metrics\\_classification.py:1308: UndefinedMetricWarning: Precision and F-score are ill-defined and being set to 0.0 in labels with no predicted samples. Use `zero_division` parameter to control this behavior.\n",
      "  _warn_prf(average, modifier, msg_start, len(result))\n",
      "c:\\Users\\UX430\\anaconda3\\lib\\site-packages\\sklearn\\metrics\\_classification.py:1308: UndefinedMetricWarning: Recall and F-score are ill-defined and being set to 0.0 in labels with no true samples. Use `zero_division` parameter to control this behavior.\n",
      "  _warn_prf(average, modifier, msg_start, len(result))\n"
     ]
    },
    {
     "name": "stdout",
     "output_type": "stream",
     "text": [
      "Epoch 1/10\n",
      "54/54 [==============================] - 12s 224ms/step - loss: 0.0053 - accuracy: 0.9984 - val_loss: 8.6985 - val_accuracy: 0.5924\n",
      "Epoch 2/10\n",
      "54/54 [==============================] - 12s 218ms/step - loss: 0.0052 - accuracy: 0.9986 - val_loss: 8.9527 - val_accuracy: 0.5929\n",
      "Epoch 3/10\n",
      "54/54 [==============================] - 12s 220ms/step - loss: 0.0060 - accuracy: 0.9985 - val_loss: 8.7829 - val_accuracy: 0.5922\n",
      "Epoch 4/10\n",
      "54/54 [==============================] - 10s 189ms/step - loss: 0.0054 - accuracy: 0.9986 - val_loss: 8.7989 - val_accuracy: 0.5923\n",
      "Epoch 5/10\n",
      "54/54 [==============================] - 9s 161ms/step - loss: 0.0048 - accuracy: 0.9986 - val_loss: 8.8440 - val_accuracy: 0.5922\n",
      "Epoch 6/10\n",
      "54/54 [==============================] - 10s 183ms/step - loss: 0.0054 - accuracy: 0.9985 - val_loss: 9.1058 - val_accuracy: 0.5928\n",
      "Epoch 7/10\n",
      "54/54 [==============================] - 12s 215ms/step - loss: 0.0052 - accuracy: 0.9985 - val_loss: 8.8353 - val_accuracy: 0.5923\n",
      "Epoch 8/10\n",
      "54/54 [==============================] - 12s 217ms/step - loss: 0.0052 - accuracy: 0.9986 - val_loss: 8.8018 - val_accuracy: 0.5918\n",
      "Epoch 9/10\n",
      "54/54 [==============================] - 12s 221ms/step - loss: 0.0047 - accuracy: 0.9986 - val_loss: 9.2129 - val_accuracy: 0.5929\n",
      "Epoch 10/10\n",
      "54/54 [==============================] - 12s 213ms/step - loss: 0.0054 - accuracy: 0.9986 - val_loss: 9.0844 - val_accuracy: 0.5923\n",
      "Epoch 1/10\n",
      "54/54 [==============================] - 12s 228ms/step - loss: 0.0059 - accuracy: 0.9982 - val_loss: 8.9101 - val_accuracy: 0.5931\n",
      "Epoch 2/10\n",
      "54/54 [==============================] - 12s 216ms/step - loss: 0.0053 - accuracy: 0.9983 - val_loss: 8.8653 - val_accuracy: 0.5931\n",
      "Epoch 3/10\n",
      "54/54 [==============================] - 11s 211ms/step - loss: 0.0055 - accuracy: 0.9981 - val_loss: 8.8846 - val_accuracy: 0.5934\n",
      "Epoch 4/10\n",
      "54/54 [==============================] - 12s 215ms/step - loss: 0.0052 - accuracy: 0.9982 - val_loss: 8.6783 - val_accuracy: 0.5928\n",
      "Epoch 5/10\n",
      "54/54 [==============================] - 12s 214ms/step - loss: 0.0052 - accuracy: 0.9984 - val_loss: 8.6530 - val_accuracy: 0.5931\n",
      "Epoch 6/10\n",
      "54/54 [==============================] - 12s 216ms/step - loss: 0.0053 - accuracy: 0.9983 - val_loss: 8.6883 - val_accuracy: 0.5931\n",
      "Epoch 7/10\n",
      "54/54 [==============================] - 12s 217ms/step - loss: 0.0051 - accuracy: 0.9983 - val_loss: 8.5177 - val_accuracy: 0.5925\n",
      "Epoch 8/10\n",
      "54/54 [==============================] - 12s 216ms/step - loss: 0.0052 - accuracy: 0.9983 - val_loss: 8.8936 - val_accuracy: 0.5936\n",
      "Epoch 9/10\n",
      "54/54 [==============================] - 12s 222ms/step - loss: 0.0052 - accuracy: 0.9981 - val_loss: 8.6096 - val_accuracy: 0.5938\n",
      "Epoch 10/10\n",
      "54/54 [==============================] - 16s 303ms/step - loss: 0.0048 - accuracy: 0.9984 - val_loss: 8.5938 - val_accuracy: 0.5934\n",
      "Epoch 1/10\n",
      "54/54 [==============================] - 16s 288ms/step - loss: 0.0058 - accuracy: 0.9981 - val_loss: 8.5533 - val_accuracy: 0.5951\n",
      "Epoch 2/10\n",
      "54/54 [==============================] - 16s 295ms/step - loss: 0.0053 - accuracy: 0.9982 - val_loss: 8.3753 - val_accuracy: 0.5949\n",
      "Epoch 3/10\n",
      "54/54 [==============================] - 16s 294ms/step - loss: 0.0050 - accuracy: 0.9984 - val_loss: 8.4567 - val_accuracy: 0.5950\n",
      "Epoch 4/10\n",
      "54/54 [==============================] - 16s 297ms/step - loss: 0.0052 - accuracy: 0.9982 - val_loss: 8.3880 - val_accuracy: 0.5949\n",
      "Epoch 5/10\n",
      "54/54 [==============================] - 16s 288ms/step - loss: 0.0049 - accuracy: 0.9982 - val_loss: 8.3944 - val_accuracy: 0.5951\n",
      "Epoch 6/10\n",
      "54/54 [==============================] - 15s 272ms/step - loss: 0.0048 - accuracy: 0.9983 - val_loss: 8.4280 - val_accuracy: 0.5945\n",
      "Epoch 7/10\n",
      "54/54 [==============================] - 14s 261ms/step - loss: 0.0048 - accuracy: 0.9984 - val_loss: 8.5149 - val_accuracy: 0.5948\n",
      "Epoch 8/10\n",
      "54/54 [==============================] - 19s 346ms/step - loss: 0.0048 - accuracy: 0.9984 - val_loss: 8.6524 - val_accuracy: 0.5953\n",
      "Epoch 9/10\n",
      "54/54 [==============================] - 14s 252ms/step - loss: 0.0047 - accuracy: 0.9984 - val_loss: 8.6732 - val_accuracy: 0.5948\n",
      "Epoch 10/10\n",
      "54/54 [==============================] - 13s 243ms/step - loss: 0.0048 - accuracy: 0.9983 - val_loss: 8.7201 - val_accuracy: 0.5950\n",
      "  13/4279 [..............................] - ETA: 17s - loss: 5.7525 - accuracy: 0.5481"
     ]
    },
    {
     "name": "stderr",
     "output_type": "stream",
     "text": [
      "c:\\Users\\UX430\\anaconda3\\lib\\site-packages\\numpy\\core\\_asarray.py:171: VisibleDeprecationWarning: Creating an ndarray from ragged nested sequences (which is a list-or-tuple of lists-or-tuples-or ndarrays with different lengths or shapes) is deprecated. If you meant to do this, you must specify 'dtype=object' when creating the ndarray.\n",
      "  return array(a, dtype, copy=False, order=order, subok=True)\n"
     ]
    },
    {
     "name": "stdout",
     "output_type": "stream",
     "text": [
      "4279/4279 [==============================] - 19s 4ms/step - loss: 6.1062 - accuracy: 0.5234\n"
     ]
    },
    {
     "name": "stderr",
     "output_type": "stream",
     "text": [
      "c:\\Users\\UX430\\anaconda3\\lib\\site-packages\\sklearn\\metrics\\_classification.py:1308: UndefinedMetricWarning: Precision and F-score are ill-defined and being set to 0.0 in labels with no predicted samples. Use `zero_division` parameter to control this behavior.\n",
      "  _warn_prf(average, modifier, msg_start, len(result))\n",
      "c:\\Users\\UX430\\anaconda3\\lib\\site-packages\\sklearn\\metrics\\_classification.py:1308: UndefinedMetricWarning: Recall and F-score are ill-defined and being set to 0.0 in labels with no true samples. Use `zero_division` parameter to control this behavior.\n",
      "  _warn_prf(average, modifier, msg_start, len(result))\n",
      "c:\\Users\\UX430\\anaconda3\\lib\\site-packages\\sklearn\\metrics\\_classification.py:1308: UndefinedMetricWarning: Precision and F-score are ill-defined and being set to 0.0 in labels with no predicted samples. Use `zero_division` parameter to control this behavior.\n",
      "  _warn_prf(average, modifier, msg_start, len(result))\n",
      "c:\\Users\\UX430\\anaconda3\\lib\\site-packages\\sklearn\\metrics\\_classification.py:1308: UndefinedMetricWarning: Recall and F-score are ill-defined and being set to 0.0 in labels with no true samples. Use `zero_division` parameter to control this behavior.\n",
      "  _warn_prf(average, modifier, msg_start, len(result))\n",
      "c:\\Users\\UX430\\anaconda3\\lib\\site-packages\\sklearn\\metrics\\_classification.py:1308: UndefinedMetricWarning: Precision and F-score are ill-defined and being set to 0.0 in labels with no predicted samples. Use `zero_division` parameter to control this behavior.\n",
      "  _warn_prf(average, modifier, msg_start, len(result))\n",
      "c:\\Users\\UX430\\anaconda3\\lib\\site-packages\\sklearn\\metrics\\_classification.py:1308: UndefinedMetricWarning: Recall and F-score are ill-defined and being set to 0.0 in labels with no true samples. Use `zero_division` parameter to control this behavior.\n",
      "  _warn_prf(average, modifier, msg_start, len(result))\n"
     ]
    },
    {
     "name": "stdout",
     "output_type": "stream",
     "text": [
      "1721/1721 [==============================] - 8s 4ms/step - loss: 10.8002 - accuracy: 0.5530\n"
     ]
    },
    {
     "name": "stderr",
     "output_type": "stream",
     "text": [
      "c:\\Users\\UX430\\anaconda3\\lib\\site-packages\\sklearn\\metrics\\_classification.py:1308: UndefinedMetricWarning: Precision and F-score are ill-defined and being set to 0.0 in labels with no predicted samples. Use `zero_division` parameter to control this behavior.\n",
      "  _warn_prf(average, modifier, msg_start, len(result))\n",
      "c:\\Users\\UX430\\anaconda3\\lib\\site-packages\\sklearn\\metrics\\_classification.py:1308: UndefinedMetricWarning: Recall and F-score are ill-defined and being set to 0.0 in labels with no true samples. Use `zero_division` parameter to control this behavior.\n",
      "  _warn_prf(average, modifier, msg_start, len(result))\n",
      "c:\\Users\\UX430\\anaconda3\\lib\\site-packages\\sklearn\\metrics\\_classification.py:1308: UndefinedMetricWarning: Precision and F-score are ill-defined and being set to 0.0 in labels with no predicted samples. Use `zero_division` parameter to control this behavior.\n",
      "  _warn_prf(average, modifier, msg_start, len(result))\n",
      "c:\\Users\\UX430\\anaconda3\\lib\\site-packages\\sklearn\\metrics\\_classification.py:1308: UndefinedMetricWarning: Recall and F-score are ill-defined and being set to 0.0 in labels with no true samples. Use `zero_division` parameter to control this behavior.\n",
      "  _warn_prf(average, modifier, msg_start, len(result))\n",
      "c:\\Users\\UX430\\anaconda3\\lib\\site-packages\\sklearn\\metrics\\_classification.py:1308: UndefinedMetricWarning: Precision and F-score are ill-defined and being set to 0.0 in labels with no predicted samples. Use `zero_division` parameter to control this behavior.\n",
      "  _warn_prf(average, modifier, msg_start, len(result))\n",
      "c:\\Users\\UX430\\anaconda3\\lib\\site-packages\\sklearn\\metrics\\_classification.py:1308: UndefinedMetricWarning: Recall and F-score are ill-defined and being set to 0.0 in labels with no true samples. Use `zero_division` parameter to control this behavior.\n",
      "  _warn_prf(average, modifier, msg_start, len(result))\n"
     ]
    }
   ],
   "source": [
    "# Values saved each iteration \n",
    "loss_it = []\n",
    "accuracy_it = []\n",
    "f1_it = []\n",
    "precision_it = []\n",
    "recall_it = []\n",
    "\n",
    "for i in range(global_updates): \n",
    "    w_list = []\n",
    "    for node in range(num_nodes): \n",
    "        cp = global_model # create a copy of the global model\n",
    "        if node == 0:\n",
    "            x, y = x1, y1\n",
    "        elif node == 1:\n",
    "            x, y = x2, y2\n",
    "        else:\n",
    "            x, y = x3, y3\n",
    "        local_model, local_loss, local_acc, local_val_loss, local_val_acc = train_local_model(cp, node, x, y)\n",
    "        w_list.append(local_model.get_weights())\n",
    "\n",
    "    avg_w = aggregate(w_list)\n",
    "    global_model.set_weights(avg_w) # apply gradients to global model\n",
    "    loss_basic, accuracy_basic, f1_basic, precision_basic, recall_basic = evaluation(global_model, xbasic, ybasic) # Evaluate with test basic to know progress\n",
    "    loss_plus, accuracy_plus, f1_plus, precision_plus, recall_plus = evaluation(global_model, xplus, yplus) # Evaluate with test plus to know progress\n",
    "\n",
    "    loss_it.append([loss_basic, loss_plus])\n",
    "    accuracy_it.append([accuracy_basic, accuracy_plus])\n",
    "    f1_it.append([f1_basic, f1_plus])\n",
    "    precision_it.append([precision_basic, precision_plus])\n",
    "    recall_it.append([recall_basic, recall_plus])\n",
    "\n",
    "\n",
    "global_model.save('C:/Users/UX430/Documents/thesis/code/models/id310.hdf5')"
   ]
  },
  {
   "cell_type": "code",
   "execution_count": 12,
   "metadata": {},
   "outputs": [
    {
     "name": "stdout",
     "output_type": "stream",
     "text": [
      "Loss for iterations:  [[1.4489041566848755, 6.9075727462768555], [1.923803448677063, 8.423050880432129], [2.329939365386963, 10.206940650939941], [2.532693862915039, 9.767226219177246], [3.236109972000122, 9.494013786315918], [3.940077304840088, 9.356292724609375], [4.674725532531738, 9.650962829589844], [4.8810834884643555, 9.73909854888916], [5.7219014167785645, 10.417563438415527], [6.106197834014893, 10.800235748291016]]\n",
      "Accuracy for iterations:  [[0.9120190739631653, 0.5534040331840515], [0.9065485596656799, 0.5558562874794006], [0.8778594136238098, 0.557981550693512], [0.5304493308067322, 0.5584719777107239], [0.5304785370826721, 0.5590896010398865], [0.5307414531707764, 0.5579633712768555], [0.5301498770713806, 0.5565102100372314], [0.5290908217430115, 0.5555292963981628], [0.5264760851860046, 0.5547119379043579], [0.5233500599861145, 0.5529680848121643]]\n",
      "F1 for iterations:  [[0.8765312183027194, 0.5091459137163755], [0.8702958221128957, 0.45165791753907997], [0.841629595662646, 0.4316614025082804], [0.39009389773501635, 0.4215148296993058], [0.38973582540191953, 0.4172122766309682], [0.3901312408484484, 0.4173706689207081], [0.39065599975352766, 0.4243920469234895], [0.39048474771325414, 0.43313454060101225], [0.3898996740747843, 0.4401056626763831], [0.3891187434123647, 0.4495181973680084]]\n",
      "Precision for iterations:  [[0.8476648017251784, 0.471442589596449], [0.8384364862965178, 0.3803577360315254], [0.8082743949995352, 0.3519779371685758], [0.33316749886247, 0.33850209704991285], [0.33339873127332725, 0.33276755300955374], [0.3335799463009176, 0.3333698640646737], [0.3330592281213617, 0.3429694691274703], [0.332141998157406, 0.3549349221372321], [0.33081746658150896, 0.3647470943947276], [0.3291275155573047, 0.37867520639194335]]\n",
      "Recall for iterations:  [[0.9120190481755237, 0.5534040543486158], [0.9065485407110929, 0.5558562813340114], [0.8778594174530369, 0.5579815447213543], [0.5304493265944082, 0.5584719901184335], [0.5304785415875427, 0.5590895880258665], [0.530741476525753, 0.5579633800770181], [0.5301498729147799, 0.556510208530117], [0.529090829413655, 0.5555293177359587], [0.5264760875281195, 0.5547119087408269], [0.5233500832627305, 0.5529681028845456]]\n"
     ]
    }
   ],
   "source": [
    "print(\"Loss for iterations: \", loss_it)\n",
    "print(\"Accuracy for iterations: \", accuracy_it)\n",
    "print(\"F1 for iterations: \", f1_it)\n",
    "print(\"Precision for iterations: \", precision_it)\n",
    "print(\"Recall for iterations: \", recall_it)"
   ]
  },
  {
   "cell_type": "markdown",
   "metadata": {},
   "source": [
    "#### #Epochs = 5, #Iterations = 5"
   ]
  },
  {
   "cell_type": "code",
   "execution_count": 5,
   "metadata": {},
   "outputs": [
    {
     "name": "stderr",
     "output_type": "stream",
     "text": [
      "C:\\Users\\UX430\\AppData\\Local\\Temp/ipykernel_9376/1685572531.py:2: DtypeWarning: Columns (2,4) have mixed types. Specify dtype option on import or set low_memory=False.\n",
      "  training1 = pd.read_csv('C:/Users/UX430/Documents/thesis/datasets/UNSW-NB15/UNSW-NB15-Train-Basic-3C-Part1.csv')\n",
      "C:\\Users\\UX430\\AppData\\Local\\Temp/ipykernel_9376/1685572531.py:3: DtypeWarning: Columns (4) have mixed types. Specify dtype option on import or set low_memory=False.\n",
      "  training2 = pd.read_csv('C:/Users/UX430/Documents/thesis/datasets/UNSW-NB15/UNSW-NB15-Train-Basic-3C-Part2.csv')\n",
      "C:\\Users\\UX430\\AppData\\Local\\Temp/ipykernel_9376/1685572531.py:4: DtypeWarning: Columns (4) have mixed types. Specify dtype option on import or set low_memory=False.\n",
      "  training3 = pd.read_csv('C:/Users/UX430/Documents/thesis/datasets/UNSW-NB15/UNSW-NB15-Train-Basic-3C-Part3.csv')\n",
      "C:\\Users\\UX430\\AppData\\Local\\Temp/ipykernel_9376/1685572531.py:5: DtypeWarning: Columns (4) have mixed types. Specify dtype option on import or set low_memory=False.\n",
      "  test_basic = pd.read_csv('C:/Users/UX430/Documents/thesis/datasets/UNSW-NB15/UNSW-NB15-Test-Basic.csv')\n"
     ]
    }
   ],
   "source": [
    "# Load training datasets and testing datasets \n",
    "training1 = pd.read_csv('C:/Users/UX430/Documents/thesis/datasets/UNSW-NB15/UNSW-NB15-Train-Basic-3C-Part1.csv')\n",
    "training2 = pd.read_csv('C:/Users/UX430/Documents/thesis/datasets/UNSW-NB15/UNSW-NB15-Train-Basic-3C-Part2.csv')\n",
    "training3 = pd.read_csv('C:/Users/UX430/Documents/thesis/datasets/UNSW-NB15/UNSW-NB15-Train-Basic-3C-Part3.csv')\n",
    "test_basic = pd.read_csv('C:/Users/UX430/Documents/thesis/datasets/UNSW-NB15/UNSW-NB15-Test-Basic.csv')\n",
    "test_plus = pd.read_csv('C:/Users/UX430/Documents/thesis/datasets/UNSW-NB15/UNSW-NB15-Test+.csv')"
   ]
  },
  {
   "cell_type": "code",
   "execution_count": 6,
   "metadata": {},
   "outputs": [],
   "source": [
    "# Define \n",
    "node_datasets = [training1, training2, training3]\n",
    "num_nodes = 3\n",
    "global_updates = 5\n",
    "\n",
    "# Define model training parameters\n",
    "loss_fct = \"categorical_crossentropy\"\n",
    "metrics = ['accuracy']\n",
    "local_epochs = 5"
   ]
  },
  {
   "cell_type": "code",
   "execution_count": 7,
   "metadata": {},
   "outputs": [],
   "source": [
    "def train_local_model(model, node, x_train, y_train): \n",
    "    filepath = 'C:/Users/UX430/Documents/thesis/code/models/node'+str(node)+'ID311.hdf5'\n",
    "    callbacks = [\n",
    "            keras.callbacks.EarlyStopping(\n",
    "                monitor = 'val_loss', # Use accuracy to monitor the model\n",
    "                patience = 10 # Stop after 10 steps with lower accuracy\n",
    "            ),\n",
    "            keras.callbacks.ModelCheckpoint(\n",
    "                filepath = filepath, # file where the checkpoint is saved\n",
    "                monitor = 'val_loss', # Don't overwrite the saved model unless val_loss is worse\n",
    "                save_best_only = True)]# Only save model if it is the best\n",
    "    optimizer = keras.optimizers.Adam(learning_rate=5e-4)\n",
    "    model.compile(optimizer=optimizer, loss=loss_fct, metrics=metrics)\n",
    "    history = model.fit(x_train, y_train, epochs=local_epochs, validation_split=0.2, callbacks=callbacks, batch_size=2048)\n",
    "    return model, history.history['loss'], history.history['accuracy'], history.history['val_loss'], history.history['val_accuracy']"
   ]
  },
  {
   "cell_type": "code",
   "execution_count": 8,
   "metadata": {},
   "outputs": [],
   "source": [
    "def aggregate(w_list): \n",
    "    avg_w = np.mean(w_list, axis=0)\n",
    "    return avg_w"
   ]
  },
  {
   "cell_type": "code",
   "execution_count": 9,
   "metadata": {},
   "outputs": [],
   "source": [
    "global_model = build_model((24,1,1))"
   ]
  },
  {
   "cell_type": "code",
   "execution_count": 10,
   "metadata": {},
   "outputs": [],
   "source": [
    "x1, y1 = preprocessing(training1)\n",
    "x2, y2 = preprocessing(training2)\n",
    "x3, y3 = preprocessing(training3)\n",
    "xbasic, ybasic = preprocessing(test_basic)\n",
    "xplus, yplus = preprocessing(test_plus)"
   ]
  },
  {
   "cell_type": "code",
   "execution_count": 11,
   "metadata": {},
   "outputs": [
    {
     "name": "stdout",
     "output_type": "stream",
     "text": [
      "Epoch 1/5\n",
      "54/54 [==============================] - 14s 256ms/step - loss: 0.7701 - accuracy: 0.8241 - val_loss: 4.6357 - val_accuracy: 0.5857\n",
      "Epoch 2/5\n",
      "54/54 [==============================] - 13s 249ms/step - loss: 0.0459 - accuracy: 0.9922 - val_loss: 4.9664 - val_accuracy: 0.5859\n",
      "Epoch 3/5\n",
      "54/54 [==============================] - 13s 241ms/step - loss: 0.0294 - accuracy: 0.9927 - val_loss: 5.1248 - val_accuracy: 0.5861\n",
      "Epoch 4/5\n",
      "54/54 [==============================] - 14s 256ms/step - loss: 0.0272 - accuracy: 0.9927 - val_loss: 5.1674 - val_accuracy: 0.5863\n",
      "Epoch 5/5\n",
      "54/54 [==============================] - 13s 243ms/step - loss: 0.0258 - accuracy: 0.9926 - val_loss: 5.2412 - val_accuracy: 0.5865\n",
      "Epoch 1/5\n",
      "54/54 [==============================] - 14s 268ms/step - loss: 0.0234 - accuracy: 0.9928 - val_loss: 6.2055 - val_accuracy: 0.5875\n",
      "Epoch 2/5\n",
      "54/54 [==============================] - 13s 235ms/step - loss: 0.0197 - accuracy: 0.9934 - val_loss: 7.1371 - val_accuracy: 0.5909\n",
      "Epoch 3/5\n",
      "54/54 [==============================] - 12s 231ms/step - loss: 0.0172 - accuracy: 0.9946 - val_loss: 8.1630 - val_accuracy: 0.5930\n",
      "Epoch 4/5\n",
      "54/54 [==============================] - 12s 228ms/step - loss: 0.0158 - accuracy: 0.9950 - val_loss: 8.8008 - val_accuracy: 0.5907\n",
      "Epoch 5/5\n",
      "54/54 [==============================] - 12s 227ms/step - loss: 0.0151 - accuracy: 0.9954 - val_loss: 9.0732 - val_accuracy: 0.5910\n",
      "Epoch 1/5\n",
      "54/54 [==============================] - 13s 239ms/step - loss: 0.0147 - accuracy: 0.9952 - val_loss: 8.7031 - val_accuracy: 0.5935\n",
      "Epoch 2/5\n",
      "54/54 [==============================] - 13s 232ms/step - loss: 0.0137 - accuracy: 0.9956 - val_loss: 9.0970 - val_accuracy: 0.5953\n",
      "Epoch 3/5\n",
      "54/54 [==============================] - 12s 225ms/step - loss: 0.0138 - accuracy: 0.9956 - val_loss: 8.8677 - val_accuracy: 0.5948\n",
      "Epoch 4/5\n",
      "54/54 [==============================] - 12s 225ms/step - loss: 0.0133 - accuracy: 0.9959 - val_loss: 8.9944 - val_accuracy: 0.5940\n",
      "Epoch 5/5\n",
      "54/54 [==============================] - 12s 222ms/step - loss: 0.0132 - accuracy: 0.9959 - val_loss: 9.0703 - val_accuracy: 0.5938\n",
      "  24/4279 [..............................] - ETA: 18s - loss: 1.5622 - accuracy: 0.9167"
     ]
    },
    {
     "name": "stderr",
     "output_type": "stream",
     "text": [
      "c:\\Users\\UX430\\anaconda3\\lib\\site-packages\\numpy\\core\\_asarray.py:171: VisibleDeprecationWarning: Creating an ndarray from ragged nested sequences (which is a list-or-tuple of lists-or-tuples-or ndarrays with different lengths or shapes) is deprecated. If you meant to do this, you must specify 'dtype=object' when creating the ndarray.\n",
      "  return array(a, dtype, copy=False, order=order, subok=True)\n"
     ]
    },
    {
     "name": "stdout",
     "output_type": "stream",
     "text": [
      "4279/4279 [==============================] - 17s 4ms/step - loss: 1.6126 - accuracy: 0.9112\n",
      "   1/1721 [..............................] - ETA: 0s - loss: 15.8184 - accuracy: 0.0000e+00"
     ]
    },
    {
     "name": "stderr",
     "output_type": "stream",
     "text": [
      "c:\\Users\\UX430\\anaconda3\\lib\\site-packages\\sklearn\\metrics\\_classification.py:1308: UndefinedMetricWarning: Precision and F-score are ill-defined and being set to 0.0 in labels with no predicted samples. Use `zero_division` parameter to control this behavior.\n",
      "  _warn_prf(average, modifier, msg_start, len(result))\n",
      "c:\\Users\\UX430\\anaconda3\\lib\\site-packages\\sklearn\\metrics\\_classification.py:1308: UndefinedMetricWarning: Recall and F-score are ill-defined and being set to 0.0 in labels with no true samples. Use `zero_division` parameter to control this behavior.\n",
      "  _warn_prf(average, modifier, msg_start, len(result))\n",
      "c:\\Users\\UX430\\anaconda3\\lib\\site-packages\\sklearn\\metrics\\_classification.py:1308: UndefinedMetricWarning: Precision and F-score are ill-defined and being set to 0.0 in labels with no predicted samples. Use `zero_division` parameter to control this behavior.\n",
      "  _warn_prf(average, modifier, msg_start, len(result))\n",
      "c:\\Users\\UX430\\anaconda3\\lib\\site-packages\\sklearn\\metrics\\_classification.py:1308: UndefinedMetricWarning: Recall and F-score are ill-defined and being set to 0.0 in labels with no true samples. Use `zero_division` parameter to control this behavior.\n",
      "  _warn_prf(average, modifier, msg_start, len(result))\n",
      "c:\\Users\\UX430\\anaconda3\\lib\\site-packages\\sklearn\\metrics\\_classification.py:1308: UndefinedMetricWarning: Precision and F-score are ill-defined and being set to 0.0 in labels with no predicted samples. Use `zero_division` parameter to control this behavior.\n",
      "  _warn_prf(average, modifier, msg_start, len(result))\n",
      "c:\\Users\\UX430\\anaconda3\\lib\\site-packages\\sklearn\\metrics\\_classification.py:1308: UndefinedMetricWarning: Recall and F-score are ill-defined and being set to 0.0 in labels with no true samples. Use `zero_division` parameter to control this behavior.\n",
      "  _warn_prf(average, modifier, msg_start, len(result))\n"
     ]
    },
    {
     "name": "stdout",
     "output_type": "stream",
     "text": [
      "1721/1721 [==============================] - 7s 4ms/step - loss: 7.8958 - accuracy: 0.5520\n"
     ]
    },
    {
     "name": "stderr",
     "output_type": "stream",
     "text": [
      "c:\\Users\\UX430\\anaconda3\\lib\\site-packages\\sklearn\\metrics\\_classification.py:1308: UndefinedMetricWarning: Precision and F-score are ill-defined and being set to 0.0 in labels with no predicted samples. Use `zero_division` parameter to control this behavior.\n",
      "  _warn_prf(average, modifier, msg_start, len(result))\n",
      "c:\\Users\\UX430\\anaconda3\\lib\\site-packages\\sklearn\\metrics\\_classification.py:1308: UndefinedMetricWarning: Recall and F-score are ill-defined and being set to 0.0 in labels with no true samples. Use `zero_division` parameter to control this behavior.\n",
      "  _warn_prf(average, modifier, msg_start, len(result))\n",
      "c:\\Users\\UX430\\anaconda3\\lib\\site-packages\\sklearn\\metrics\\_classification.py:1308: UndefinedMetricWarning: Precision and F-score are ill-defined and being set to 0.0 in labels with no predicted samples. Use `zero_division` parameter to control this behavior.\n",
      "  _warn_prf(average, modifier, msg_start, len(result))\n",
      "c:\\Users\\UX430\\anaconda3\\lib\\site-packages\\sklearn\\metrics\\_classification.py:1308: UndefinedMetricWarning: Recall and F-score are ill-defined and being set to 0.0 in labels with no true samples. Use `zero_division` parameter to control this behavior.\n",
      "  _warn_prf(average, modifier, msg_start, len(result))\n",
      "c:\\Users\\UX430\\anaconda3\\lib\\site-packages\\sklearn\\metrics\\_classification.py:1308: UndefinedMetricWarning: Precision and F-score are ill-defined and being set to 0.0 in labels with no predicted samples. Use `zero_division` parameter to control this behavior.\n",
      "  _warn_prf(average, modifier, msg_start, len(result))\n",
      "c:\\Users\\UX430\\anaconda3\\lib\\site-packages\\sklearn\\metrics\\_classification.py:1308: UndefinedMetricWarning: Recall and F-score are ill-defined and being set to 0.0 in labels with no true samples. Use `zero_division` parameter to control this behavior.\n",
      "  _warn_prf(average, modifier, msg_start, len(result))\n"
     ]
    },
    {
     "name": "stdout",
     "output_type": "stream",
     "text": [
      "Epoch 1/5\n",
      "54/54 [==============================] - 12s 224ms/step - loss: 0.0171 - accuracy: 0.9950 - val_loss: 7.5984 - val_accuracy: 0.5907\n",
      "Epoch 2/5\n",
      "54/54 [==============================] - 12s 230ms/step - loss: 0.0154 - accuracy: 0.9953 - val_loss: 7.8070 - val_accuracy: 0.5915\n",
      "Epoch 3/5\n",
      "54/54 [==============================] - 12s 228ms/step - loss: 0.0150 - accuracy: 0.9959 - val_loss: 8.1286 - val_accuracy: 0.5920\n",
      "Epoch 4/5\n",
      "54/54 [==============================] - 12s 227ms/step - loss: 0.0151 - accuracy: 0.9958 - val_loss: 7.8776 - val_accuracy: 0.5921\n",
      "Epoch 5/5\n",
      "54/54 [==============================] - 12s 225ms/step - loss: 0.0148 - accuracy: 0.9959 - val_loss: 8.1051 - val_accuracy: 0.5915\n",
      "Epoch 1/5\n",
      "54/54 [==============================] - 13s 232ms/step - loss: 0.0143 - accuracy: 0.9958 - val_loss: 7.9230 - val_accuracy: 0.5933\n",
      "Epoch 2/5\n",
      "54/54 [==============================] - 12s 230ms/step - loss: 0.0138 - accuracy: 0.9959 - val_loss: 8.0974 - val_accuracy: 0.5927\n",
      "Epoch 3/5\n",
      "54/54 [==============================] - 12s 224ms/step - loss: 0.0141 - accuracy: 0.9960 - val_loss: 7.6859 - val_accuracy: 0.5930\n",
      "Epoch 4/5\n",
      "54/54 [==============================] - 12s 231ms/step - loss: 0.0135 - accuracy: 0.9961 - val_loss: 7.9251 - val_accuracy: 0.5932\n",
      "Epoch 5/5\n",
      "54/54 [==============================] - 12s 223ms/step - loss: 0.0133 - accuracy: 0.9960 - val_loss: 7.9630 - val_accuracy: 0.5923\n",
      "Epoch 1/5\n",
      "54/54 [==============================] - 12s 228ms/step - loss: 0.0130 - accuracy: 0.9959 - val_loss: 7.5678 - val_accuracy: 0.5934\n",
      "Epoch 2/5\n",
      "54/54 [==============================] - 12s 231ms/step - loss: 0.0124 - accuracy: 0.9962 - val_loss: 7.5427 - val_accuracy: 0.5940\n",
      "Epoch 3/5\n",
      "54/54 [==============================] - 13s 240ms/step - loss: 0.0122 - accuracy: 0.9963 - val_loss: 7.7131 - val_accuracy: 0.5943\n",
      "Epoch 4/5\n",
      "54/54 [==============================] - 12s 231ms/step - loss: 0.0126 - accuracy: 0.9961 - val_loss: 7.3820 - val_accuracy: 0.5929\n",
      "Epoch 5/5\n",
      "54/54 [==============================] - 12s 227ms/step - loss: 0.0121 - accuracy: 0.9964 - val_loss: 7.5576 - val_accuracy: 0.5938\n",
      "  24/4279 [..............................] - ETA: 23s - loss: 1.6527 - accuracy: 0.9167"
     ]
    },
    {
     "name": "stderr",
     "output_type": "stream",
     "text": [
      "c:\\Users\\UX430\\anaconda3\\lib\\site-packages\\numpy\\core\\_asarray.py:171: VisibleDeprecationWarning: Creating an ndarray from ragged nested sequences (which is a list-or-tuple of lists-or-tuples-or ndarrays with different lengths or shapes) is deprecated. If you meant to do this, you must specify 'dtype=object' when creating the ndarray.\n",
      "  return array(a, dtype, copy=False, order=order, subok=True)\n"
     ]
    },
    {
     "name": "stdout",
     "output_type": "stream",
     "text": [
      "4279/4279 [==============================] - 16s 4ms/step - loss: 1.7283 - accuracy: 0.9122\n",
      "  13/1721 [..............................] - ETA: 6s - loss: 15.5262 - accuracy: 0.0000e+00"
     ]
    },
    {
     "name": "stderr",
     "output_type": "stream",
     "text": [
      "c:\\Users\\UX430\\anaconda3\\lib\\site-packages\\sklearn\\metrics\\_classification.py:1308: UndefinedMetricWarning: Precision and F-score are ill-defined and being set to 0.0 in labels with no predicted samples. Use `zero_division` parameter to control this behavior.\n",
      "  _warn_prf(average, modifier, msg_start, len(result))\n",
      "c:\\Users\\UX430\\anaconda3\\lib\\site-packages\\sklearn\\metrics\\_classification.py:1308: UndefinedMetricWarning: Recall and F-score are ill-defined and being set to 0.0 in labels with no true samples. Use `zero_division` parameter to control this behavior.\n",
      "  _warn_prf(average, modifier, msg_start, len(result))\n",
      "c:\\Users\\UX430\\anaconda3\\lib\\site-packages\\sklearn\\metrics\\_classification.py:1308: UndefinedMetricWarning: Precision and F-score are ill-defined and being set to 0.0 in labels with no predicted samples. Use `zero_division` parameter to control this behavior.\n",
      "  _warn_prf(average, modifier, msg_start, len(result))\n",
      "c:\\Users\\UX430\\anaconda3\\lib\\site-packages\\sklearn\\metrics\\_classification.py:1308: UndefinedMetricWarning: Recall and F-score are ill-defined and being set to 0.0 in labels with no true samples. Use `zero_division` parameter to control this behavior.\n",
      "  _warn_prf(average, modifier, msg_start, len(result))\n",
      "c:\\Users\\UX430\\anaconda3\\lib\\site-packages\\sklearn\\metrics\\_classification.py:1308: UndefinedMetricWarning: Precision and F-score are ill-defined and being set to 0.0 in labels with no predicted samples. Use `zero_division` parameter to control this behavior.\n",
      "  _warn_prf(average, modifier, msg_start, len(result))\n",
      "c:\\Users\\UX430\\anaconda3\\lib\\site-packages\\sklearn\\metrics\\_classification.py:1308: UndefinedMetricWarning: Recall and F-score are ill-defined and being set to 0.0 in labels with no true samples. Use `zero_division` parameter to control this behavior.\n",
      "  _warn_prf(average, modifier, msg_start, len(result))\n"
     ]
    },
    {
     "name": "stdout",
     "output_type": "stream",
     "text": [
      "1721/1721 [==============================] - 7s 4ms/step - loss: 7.8446 - accuracy: 0.5541\n"
     ]
    },
    {
     "name": "stderr",
     "output_type": "stream",
     "text": [
      "c:\\Users\\UX430\\anaconda3\\lib\\site-packages\\sklearn\\metrics\\_classification.py:1308: UndefinedMetricWarning: Precision and F-score are ill-defined and being set to 0.0 in labels with no predicted samples. Use `zero_division` parameter to control this behavior.\n",
      "  _warn_prf(average, modifier, msg_start, len(result))\n",
      "c:\\Users\\UX430\\anaconda3\\lib\\site-packages\\sklearn\\metrics\\_classification.py:1308: UndefinedMetricWarning: Recall and F-score are ill-defined and being set to 0.0 in labels with no true samples. Use `zero_division` parameter to control this behavior.\n",
      "  _warn_prf(average, modifier, msg_start, len(result))\n",
      "c:\\Users\\UX430\\anaconda3\\lib\\site-packages\\sklearn\\metrics\\_classification.py:1308: UndefinedMetricWarning: Precision and F-score are ill-defined and being set to 0.0 in labels with no predicted samples. Use `zero_division` parameter to control this behavior.\n",
      "  _warn_prf(average, modifier, msg_start, len(result))\n",
      "c:\\Users\\UX430\\anaconda3\\lib\\site-packages\\sklearn\\metrics\\_classification.py:1308: UndefinedMetricWarning: Recall and F-score are ill-defined and being set to 0.0 in labels with no true samples. Use `zero_division` parameter to control this behavior.\n",
      "  _warn_prf(average, modifier, msg_start, len(result))\n",
      "c:\\Users\\UX430\\anaconda3\\lib\\site-packages\\sklearn\\metrics\\_classification.py:1308: UndefinedMetricWarning: Precision and F-score are ill-defined and being set to 0.0 in labels with no predicted samples. Use `zero_division` parameter to control this behavior.\n",
      "  _warn_prf(average, modifier, msg_start, len(result))\n",
      "c:\\Users\\UX430\\anaconda3\\lib\\site-packages\\sklearn\\metrics\\_classification.py:1308: UndefinedMetricWarning: Recall and F-score are ill-defined and being set to 0.0 in labels with no true samples. Use `zero_division` parameter to control this behavior.\n",
      "  _warn_prf(average, modifier, msg_start, len(result))\n"
     ]
    },
    {
     "name": "stdout",
     "output_type": "stream",
     "text": [
      "Epoch 1/5\n",
      "54/54 [==============================] - 12s 225ms/step - loss: 0.0142 - accuracy: 0.9963 - val_loss: 7.6746 - val_accuracy: 0.5924\n",
      "Epoch 2/5\n",
      "54/54 [==============================] - 12s 226ms/step - loss: 0.0140 - accuracy: 0.9963 - val_loss: 7.4825 - val_accuracy: 0.5926\n",
      "Epoch 3/5\n",
      "54/54 [==============================] - 13s 246ms/step - loss: 0.0136 - accuracy: 0.9962 - val_loss: 7.4881 - val_accuracy: 0.5922\n",
      "Epoch 4/5\n",
      "54/54 [==============================] - 15s 285ms/step - loss: 0.0133 - accuracy: 0.9964 - val_loss: 7.3701 - val_accuracy: 0.5921\n",
      "Epoch 5/5\n",
      "54/54 [==============================] - 13s 244ms/step - loss: 0.0137 - accuracy: 0.9964 - val_loss: 7.4683 - val_accuracy: 0.5905\n",
      "Epoch 1/5\n",
      "54/54 [==============================] - 14s 252ms/step - loss: 0.0125 - accuracy: 0.9963 - val_loss: 7.6797 - val_accuracy: 0.5925\n",
      "Epoch 2/5\n",
      "54/54 [==============================] - 13s 244ms/step - loss: 0.0119 - accuracy: 0.9966 - val_loss: 8.1524 - val_accuracy: 0.5906\n",
      "Epoch 3/5\n",
      "54/54 [==============================] - 13s 249ms/step - loss: 0.0130 - accuracy: 0.9960 - val_loss: 7.5563 - val_accuracy: 0.5913\n",
      "Epoch 4/5\n",
      "54/54 [==============================] - 12s 227ms/step - loss: 0.0116 - accuracy: 0.9965 - val_loss: 7.8875 - val_accuracy: 0.5924\n",
      "Epoch 5/5\n",
      "54/54 [==============================] - 12s 223ms/step - loss: 0.0114 - accuracy: 0.9966 - val_loss: 8.3307 - val_accuracy: 0.5927\n",
      "Epoch 1/5\n",
      "54/54 [==============================] - 13s 236ms/step - loss: 0.0113 - accuracy: 0.9965 - val_loss: 8.1347 - val_accuracy: 0.5935\n",
      "Epoch 2/5\n",
      "54/54 [==============================] - 12s 227ms/step - loss: 0.0107 - accuracy: 0.9966 - val_loss: 8.2825 - val_accuracy: 0.5937\n",
      "Epoch 3/5\n",
      "54/54 [==============================] - 13s 235ms/step - loss: 0.0106 - accuracy: 0.9967 - val_loss: 8.5324 - val_accuracy: 0.5944\n",
      "Epoch 4/5\n",
      "54/54 [==============================] - 12s 231ms/step - loss: 0.0106 - accuracy: 0.9966 - val_loss: 8.4261 - val_accuracy: 0.5942\n",
      "Epoch 5/5\n",
      "54/54 [==============================] - 12s 227ms/step - loss: 0.0103 - accuracy: 0.9966 - val_loss: 8.5830 - val_accuracy: 0.5940\n",
      "  13/4279 [..............................] - ETA: 19s - loss: 1.6439 - accuracy: 0.9135"
     ]
    },
    {
     "name": "stderr",
     "output_type": "stream",
     "text": [
      "c:\\Users\\UX430\\anaconda3\\lib\\site-packages\\numpy\\core\\_asarray.py:171: VisibleDeprecationWarning: Creating an ndarray from ragged nested sequences (which is a list-or-tuple of lists-or-tuples-or ndarrays with different lengths or shapes) is deprecated. If you meant to do this, you must specify 'dtype=object' when creating the ndarray.\n",
      "  return array(a, dtype, copy=False, order=order, subok=True)\n"
     ]
    },
    {
     "name": "stdout",
     "output_type": "stream",
     "text": [
      "4279/4279 [==============================] - 17s 4ms/step - loss: 1.7934 - accuracy: 0.9064\n"
     ]
    },
    {
     "name": "stderr",
     "output_type": "stream",
     "text": [
      "c:\\Users\\UX430\\anaconda3\\lib\\site-packages\\sklearn\\metrics\\_classification.py:1308: UndefinedMetricWarning: Precision and F-score are ill-defined and being set to 0.0 in labels with no predicted samples. Use `zero_division` parameter to control this behavior.\n",
      "  _warn_prf(average, modifier, msg_start, len(result))\n",
      "c:\\Users\\UX430\\anaconda3\\lib\\site-packages\\sklearn\\metrics\\_classification.py:1308: UndefinedMetricWarning: Recall and F-score are ill-defined and being set to 0.0 in labels with no true samples. Use `zero_division` parameter to control this behavior.\n",
      "  _warn_prf(average, modifier, msg_start, len(result))\n",
      "c:\\Users\\UX430\\anaconda3\\lib\\site-packages\\sklearn\\metrics\\_classification.py:1308: UndefinedMetricWarning: Precision and F-score are ill-defined and being set to 0.0 in labels with no predicted samples. Use `zero_division` parameter to control this behavior.\n",
      "  _warn_prf(average, modifier, msg_start, len(result))\n",
      "c:\\Users\\UX430\\anaconda3\\lib\\site-packages\\sklearn\\metrics\\_classification.py:1308: UndefinedMetricWarning: Recall and F-score are ill-defined and being set to 0.0 in labels with no true samples. Use `zero_division` parameter to control this behavior.\n",
      "  _warn_prf(average, modifier, msg_start, len(result))\n",
      "c:\\Users\\UX430\\anaconda3\\lib\\site-packages\\sklearn\\metrics\\_classification.py:1308: UndefinedMetricWarning: Precision and F-score are ill-defined and being set to 0.0 in labels with no predicted samples. Use `zero_division` parameter to control this behavior.\n",
      "  _warn_prf(average, modifier, msg_start, len(result))\n",
      "c:\\Users\\UX430\\anaconda3\\lib\\site-packages\\sklearn\\metrics\\_classification.py:1308: UndefinedMetricWarning: Recall and F-score are ill-defined and being set to 0.0 in labels with no true samples. Use `zero_division` parameter to control this behavior.\n",
      "  _warn_prf(average, modifier, msg_start, len(result))\n"
     ]
    },
    {
     "name": "stdout",
     "output_type": "stream",
     "text": [
      "1721/1721 [==============================] - 7s 4ms/step - loss: 7.9050 - accuracy: 0.5555\n"
     ]
    },
    {
     "name": "stderr",
     "output_type": "stream",
     "text": [
      "c:\\Users\\UX430\\anaconda3\\lib\\site-packages\\sklearn\\metrics\\_classification.py:1308: UndefinedMetricWarning: Precision and F-score are ill-defined and being set to 0.0 in labels with no predicted samples. Use `zero_division` parameter to control this behavior.\n",
      "  _warn_prf(average, modifier, msg_start, len(result))\n",
      "c:\\Users\\UX430\\anaconda3\\lib\\site-packages\\sklearn\\metrics\\_classification.py:1308: UndefinedMetricWarning: Recall and F-score are ill-defined and being set to 0.0 in labels with no true samples. Use `zero_division` parameter to control this behavior.\n",
      "  _warn_prf(average, modifier, msg_start, len(result))\n",
      "c:\\Users\\UX430\\anaconda3\\lib\\site-packages\\sklearn\\metrics\\_classification.py:1308: UndefinedMetricWarning: Precision and F-score are ill-defined and being set to 0.0 in labels with no predicted samples. Use `zero_division` parameter to control this behavior.\n",
      "  _warn_prf(average, modifier, msg_start, len(result))\n",
      "c:\\Users\\UX430\\anaconda3\\lib\\site-packages\\sklearn\\metrics\\_classification.py:1308: UndefinedMetricWarning: Recall and F-score are ill-defined and being set to 0.0 in labels with no true samples. Use `zero_division` parameter to control this behavior.\n",
      "  _warn_prf(average, modifier, msg_start, len(result))\n",
      "c:\\Users\\UX430\\anaconda3\\lib\\site-packages\\sklearn\\metrics\\_classification.py:1308: UndefinedMetricWarning: Precision and F-score are ill-defined and being set to 0.0 in labels with no predicted samples. Use `zero_division` parameter to control this behavior.\n",
      "  _warn_prf(average, modifier, msg_start, len(result))\n",
      "c:\\Users\\UX430\\anaconda3\\lib\\site-packages\\sklearn\\metrics\\_classification.py:1308: UndefinedMetricWarning: Recall and F-score are ill-defined and being set to 0.0 in labels with no true samples. Use `zero_division` parameter to control this behavior.\n",
      "  _warn_prf(average, modifier, msg_start, len(result))\n"
     ]
    },
    {
     "name": "stdout",
     "output_type": "stream",
     "text": [
      "Epoch 1/5\n",
      "54/54 [==============================] - 12s 225ms/step - loss: 0.0127 - accuracy: 0.9965 - val_loss: 7.7214 - val_accuracy: 0.5911\n",
      "Epoch 2/5\n",
      "54/54 [==============================] - 13s 245ms/step - loss: 0.0121 - accuracy: 0.9966 - val_loss: 7.8407 - val_accuracy: 0.5922\n",
      "Epoch 3/5\n",
      "54/54 [==============================] - 15s 285ms/step - loss: 0.0115 - accuracy: 0.9966 - val_loss: 8.0564 - val_accuracy: 0.5924\n",
      "Epoch 4/5\n",
      "54/54 [==============================] - 15s 278ms/step - loss: 0.0118 - accuracy: 0.9968 - val_loss: 7.9488 - val_accuracy: 0.5912\n",
      "Epoch 5/5\n",
      "54/54 [==============================] - 15s 286ms/step - loss: 0.0108 - accuracy: 0.9968 - val_loss: 8.4586 - val_accuracy: 0.5920\n",
      "Epoch 1/5\n",
      "54/54 [==============================] - 21s 388ms/step - loss: 0.0104 - accuracy: 0.9968 - val_loss: 8.8122 - val_accuracy: 0.5933\n",
      "Epoch 2/5\n",
      "54/54 [==============================] - 16s 300ms/step - loss: 0.0099 - accuracy: 0.9970 - val_loss: 9.0534 - val_accuracy: 0.5934\n",
      "Epoch 3/5\n",
      "54/54 [==============================] - 21s 391ms/step - loss: 0.0096 - accuracy: 0.9971 - val_loss: 9.3052 - val_accuracy: 0.5922\n",
      "Epoch 4/5\n",
      "54/54 [==============================] - 21s 384ms/step - loss: 0.0096 - accuracy: 0.9969 - val_loss: 9.3705 - val_accuracy: 0.5914\n",
      "Epoch 5/5\n",
      "54/54 [==============================] - 17s 313ms/step - loss: 0.0098 - accuracy: 0.9969 - val_loss: 9.1767 - val_accuracy: 0.5923\n",
      "Epoch 1/5\n",
      "54/54 [==============================] - 16s 300ms/step - loss: 0.0095 - accuracy: 0.9969 - val_loss: 9.2823 - val_accuracy: 0.5947\n",
      "Epoch 2/5\n",
      "54/54 [==============================] - 15s 278ms/step - loss: 0.0093 - accuracy: 0.9970 - val_loss: 9.2639 - val_accuracy: 0.5943\n",
      "Epoch 3/5\n",
      "54/54 [==============================] - 19s 347ms/step - loss: 0.0089 - accuracy: 0.9972 - val_loss: 9.4124 - val_accuracy: 0.5945\n",
      "Epoch 4/5\n",
      "54/54 [==============================] - 14s 261ms/step - loss: 0.0089 - accuracy: 0.9972 - val_loss: 9.4140 - val_accuracy: 0.5951\n",
      "Epoch 5/5\n",
      "54/54 [==============================] - 15s 283ms/step - loss: 0.0085 - accuracy: 0.9973 - val_loss: 9.5067 - val_accuracy: 0.5933\n",
      "  24/4279 [..............................] - ETA: 18s - loss: 1.8675 - accuracy: 0.9128"
     ]
    },
    {
     "name": "stderr",
     "output_type": "stream",
     "text": [
      "c:\\Users\\UX430\\anaconda3\\lib\\site-packages\\numpy\\core\\_asarray.py:171: VisibleDeprecationWarning: Creating an ndarray from ragged nested sequences (which is a list-or-tuple of lists-or-tuples-or ndarrays with different lengths or shapes) is deprecated. If you meant to do this, you must specify 'dtype=object' when creating the ndarray.\n",
      "  return array(a, dtype, copy=False, order=order, subok=True)\n"
     ]
    },
    {
     "name": "stdout",
     "output_type": "stream",
     "text": [
      "4279/4279 [==============================] - 20s 5ms/step - loss: 1.9736 - accuracy: 0.9076\n",
      "   1/1721 [..............................] - ETA: 0s - loss: 16.3469 - accuracy: 0.0000e+00"
     ]
    },
    {
     "name": "stderr",
     "output_type": "stream",
     "text": [
      "c:\\Users\\UX430\\anaconda3\\lib\\site-packages\\sklearn\\metrics\\_classification.py:1308: UndefinedMetricWarning: Precision and F-score are ill-defined and being set to 0.0 in labels with no predicted samples. Use `zero_division` parameter to control this behavior.\n",
      "  _warn_prf(average, modifier, msg_start, len(result))\n",
      "c:\\Users\\UX430\\anaconda3\\lib\\site-packages\\sklearn\\metrics\\_classification.py:1308: UndefinedMetricWarning: Recall and F-score are ill-defined and being set to 0.0 in labels with no true samples. Use `zero_division` parameter to control this behavior.\n",
      "  _warn_prf(average, modifier, msg_start, len(result))\n",
      "c:\\Users\\UX430\\anaconda3\\lib\\site-packages\\sklearn\\metrics\\_classification.py:1308: UndefinedMetricWarning: Precision and F-score are ill-defined and being set to 0.0 in labels with no predicted samples. Use `zero_division` parameter to control this behavior.\n",
      "  _warn_prf(average, modifier, msg_start, len(result))\n",
      "c:\\Users\\UX430\\anaconda3\\lib\\site-packages\\sklearn\\metrics\\_classification.py:1308: UndefinedMetricWarning: Recall and F-score are ill-defined and being set to 0.0 in labels with no true samples. Use `zero_division` parameter to control this behavior.\n",
      "  _warn_prf(average, modifier, msg_start, len(result))\n",
      "c:\\Users\\UX430\\anaconda3\\lib\\site-packages\\sklearn\\metrics\\_classification.py:1308: UndefinedMetricWarning: Precision and F-score are ill-defined and being set to 0.0 in labels with no predicted samples. Use `zero_division` parameter to control this behavior.\n",
      "  _warn_prf(average, modifier, msg_start, len(result))\n",
      "c:\\Users\\UX430\\anaconda3\\lib\\site-packages\\sklearn\\metrics\\_classification.py:1308: UndefinedMetricWarning: Recall and F-score are ill-defined and being set to 0.0 in labels with no true samples. Use `zero_division` parameter to control this behavior.\n",
      "  _warn_prf(average, modifier, msg_start, len(result))\n"
     ]
    },
    {
     "name": "stdout",
     "output_type": "stream",
     "text": [
      "1721/1721 [==============================] - 7s 4ms/step - loss: 8.7495 - accuracy: 0.5563\n"
     ]
    },
    {
     "name": "stderr",
     "output_type": "stream",
     "text": [
      "c:\\Users\\UX430\\anaconda3\\lib\\site-packages\\sklearn\\metrics\\_classification.py:1308: UndefinedMetricWarning: Precision and F-score are ill-defined and being set to 0.0 in labels with no predicted samples. Use `zero_division` parameter to control this behavior.\n",
      "  _warn_prf(average, modifier, msg_start, len(result))\n",
      "c:\\Users\\UX430\\anaconda3\\lib\\site-packages\\sklearn\\metrics\\_classification.py:1308: UndefinedMetricWarning: Recall and F-score are ill-defined and being set to 0.0 in labels with no true samples. Use `zero_division` parameter to control this behavior.\n",
      "  _warn_prf(average, modifier, msg_start, len(result))\n",
      "c:\\Users\\UX430\\anaconda3\\lib\\site-packages\\sklearn\\metrics\\_classification.py:1308: UndefinedMetricWarning: Precision and F-score are ill-defined and being set to 0.0 in labels with no predicted samples. Use `zero_division` parameter to control this behavior.\n",
      "  _warn_prf(average, modifier, msg_start, len(result))\n",
      "c:\\Users\\UX430\\anaconda3\\lib\\site-packages\\sklearn\\metrics\\_classification.py:1308: UndefinedMetricWarning: Recall and F-score are ill-defined and being set to 0.0 in labels with no true samples. Use `zero_division` parameter to control this behavior.\n",
      "  _warn_prf(average, modifier, msg_start, len(result))\n",
      "c:\\Users\\UX430\\anaconda3\\lib\\site-packages\\sklearn\\metrics\\_classification.py:1308: UndefinedMetricWarning: Precision and F-score are ill-defined and being set to 0.0 in labels with no predicted samples. Use `zero_division` parameter to control this behavior.\n",
      "  _warn_prf(average, modifier, msg_start, len(result))\n",
      "c:\\Users\\UX430\\anaconda3\\lib\\site-packages\\sklearn\\metrics\\_classification.py:1308: UndefinedMetricWarning: Recall and F-score are ill-defined and being set to 0.0 in labels with no true samples. Use `zero_division` parameter to control this behavior.\n",
      "  _warn_prf(average, modifier, msg_start, len(result))\n"
     ]
    },
    {
     "name": "stdout",
     "output_type": "stream",
     "text": [
      "Epoch 1/5\n",
      "54/54 [==============================] - 17s 315ms/step - loss: 0.0104 - accuracy: 0.9969 - val_loss: 8.9789 - val_accuracy: 0.5909\n",
      "Epoch 2/5\n",
      "54/54 [==============================] - 16s 305ms/step - loss: 0.0102 - accuracy: 0.9973 - val_loss: 9.1325 - val_accuracy: 0.5936\n",
      "Epoch 3/5\n",
      "54/54 [==============================] - 20s 379ms/step - loss: 0.0098 - accuracy: 0.9969 - val_loss: 9.0737 - val_accuracy: 0.5922\n",
      "Epoch 4/5\n",
      "54/54 [==============================] - 17s 322ms/step - loss: 0.0091 - accuracy: 0.9973 - val_loss: 9.1637 - val_accuracy: 0.5919\n",
      "Epoch 5/5\n",
      "54/54 [==============================] - 14s 265ms/step - loss: 0.0088 - accuracy: 0.9975 - val_loss: 9.4419 - val_accuracy: 0.5917\n",
      "Epoch 1/5\n",
      "54/54 [==============================] - 15s 272ms/step - loss: 0.0087 - accuracy: 0.9973 - val_loss: 9.5000 - val_accuracy: 0.5921\n",
      "Epoch 2/5\n",
      "54/54 [==============================] - 13s 234ms/step - loss: 0.0087 - accuracy: 0.9972 - val_loss: 9.6459 - val_accuracy: 0.5929\n",
      "Epoch 3/5\n",
      "54/54 [==============================] - 13s 232ms/step - loss: 0.0083 - accuracy: 0.9975 - val_loss: 9.8535 - val_accuracy: 0.5929\n",
      "Epoch 4/5\n",
      "54/54 [==============================] - 14s 265ms/step - loss: 0.0083 - accuracy: 0.9974 - val_loss: 9.7219 - val_accuracy: 0.5929\n",
      "Epoch 5/5\n",
      "54/54 [==============================] - 14s 268ms/step - loss: 0.0080 - accuracy: 0.9974 - val_loss: 9.8639 - val_accuracy: 0.5928\n",
      "Epoch 1/5\n",
      "54/54 [==============================] - 15s 276ms/step - loss: 0.0082 - accuracy: 0.9973 - val_loss: 9.7126 - val_accuracy: 0.5937\n",
      "Epoch 2/5\n",
      "54/54 [==============================] - 16s 292ms/step - loss: 0.0080 - accuracy: 0.9974 - val_loss: 9.8307 - val_accuracy: 0.5945\n",
      "Epoch 3/5\n",
      "54/54 [==============================] - 21s 387ms/step - loss: 0.0081 - accuracy: 0.9974 - val_loss: 9.9867 - val_accuracy: 0.5950\n",
      "Epoch 4/5\n",
      "54/54 [==============================] - 16s 289ms/step - loss: 0.0080 - accuracy: 0.9975 - val_loss: 9.9313 - val_accuracy: 0.5959\n",
      "Epoch 5/5\n",
      "54/54 [==============================] - 13s 236ms/step - loss: 0.0081 - accuracy: 0.9974 - val_loss: 9.6211 - val_accuracy: 0.5956\n",
      "  24/4279 [..............................] - ETA: 19s - loss: 1.9820 - accuracy: 0.9193"
     ]
    },
    {
     "name": "stderr",
     "output_type": "stream",
     "text": [
      "c:\\Users\\UX430\\anaconda3\\lib\\site-packages\\numpy\\core\\_asarray.py:171: VisibleDeprecationWarning: Creating an ndarray from ragged nested sequences (which is a list-or-tuple of lists-or-tuples-or ndarrays with different lengths or shapes) is deprecated. If you meant to do this, you must specify 'dtype=object' when creating the ndarray.\n",
      "  return array(a, dtype, copy=False, order=order, subok=True)\n"
     ]
    },
    {
     "name": "stdout",
     "output_type": "stream",
     "text": [
      "4279/4279 [==============================] - 15s 4ms/step - loss: 2.1027 - accuracy: 0.9152\n",
      "  16/1721 [..............................] - ETA: 5s - loss: 18.4584 - accuracy: 0.0000e+00"
     ]
    },
    {
     "name": "stderr",
     "output_type": "stream",
     "text": [
      "c:\\Users\\UX430\\anaconda3\\lib\\site-packages\\sklearn\\metrics\\_classification.py:1308: UndefinedMetricWarning: Precision and F-score are ill-defined and being set to 0.0 in labels with no predicted samples. Use `zero_division` parameter to control this behavior.\n",
      "  _warn_prf(average, modifier, msg_start, len(result))\n",
      "c:\\Users\\UX430\\anaconda3\\lib\\site-packages\\sklearn\\metrics\\_classification.py:1308: UndefinedMetricWarning: Recall and F-score are ill-defined and being set to 0.0 in labels with no true samples. Use `zero_division` parameter to control this behavior.\n",
      "  _warn_prf(average, modifier, msg_start, len(result))\n",
      "c:\\Users\\UX430\\anaconda3\\lib\\site-packages\\sklearn\\metrics\\_classification.py:1308: UndefinedMetricWarning: Precision and F-score are ill-defined and being set to 0.0 in labels with no predicted samples. Use `zero_division` parameter to control this behavior.\n",
      "  _warn_prf(average, modifier, msg_start, len(result))\n",
      "c:\\Users\\UX430\\anaconda3\\lib\\site-packages\\sklearn\\metrics\\_classification.py:1308: UndefinedMetricWarning: Recall and F-score are ill-defined and being set to 0.0 in labels with no true samples. Use `zero_division` parameter to control this behavior.\n",
      "  _warn_prf(average, modifier, msg_start, len(result))\n",
      "c:\\Users\\UX430\\anaconda3\\lib\\site-packages\\sklearn\\metrics\\_classification.py:1308: UndefinedMetricWarning: Precision and F-score are ill-defined and being set to 0.0 in labels with no predicted samples. Use `zero_division` parameter to control this behavior.\n",
      "  _warn_prf(average, modifier, msg_start, len(result))\n",
      "c:\\Users\\UX430\\anaconda3\\lib\\site-packages\\sklearn\\metrics\\_classification.py:1308: UndefinedMetricWarning: Recall and F-score are ill-defined and being set to 0.0 in labels with no true samples. Use `zero_division` parameter to control this behavior.\n",
      "  _warn_prf(average, modifier, msg_start, len(result))\n"
     ]
    },
    {
     "name": "stdout",
     "output_type": "stream",
     "text": [
      "1721/1721 [==============================] - 6s 3ms/step - loss: 9.3620 - accuracy: 0.5567\n"
     ]
    },
    {
     "name": "stderr",
     "output_type": "stream",
     "text": [
      "c:\\Users\\UX430\\anaconda3\\lib\\site-packages\\sklearn\\metrics\\_classification.py:1308: UndefinedMetricWarning: Precision and F-score are ill-defined and being set to 0.0 in labels with no predicted samples. Use `zero_division` parameter to control this behavior.\n",
      "  _warn_prf(average, modifier, msg_start, len(result))\n",
      "c:\\Users\\UX430\\anaconda3\\lib\\site-packages\\sklearn\\metrics\\_classification.py:1308: UndefinedMetricWarning: Recall and F-score are ill-defined and being set to 0.0 in labels with no true samples. Use `zero_division` parameter to control this behavior.\n",
      "  _warn_prf(average, modifier, msg_start, len(result))\n",
      "c:\\Users\\UX430\\anaconda3\\lib\\site-packages\\sklearn\\metrics\\_classification.py:1308: UndefinedMetricWarning: Precision and F-score are ill-defined and being set to 0.0 in labels with no predicted samples. Use `zero_division` parameter to control this behavior.\n",
      "  _warn_prf(average, modifier, msg_start, len(result))\n",
      "c:\\Users\\UX430\\anaconda3\\lib\\site-packages\\sklearn\\metrics\\_classification.py:1308: UndefinedMetricWarning: Recall and F-score are ill-defined and being set to 0.0 in labels with no true samples. Use `zero_division` parameter to control this behavior.\n",
      "  _warn_prf(average, modifier, msg_start, len(result))\n",
      "c:\\Users\\UX430\\anaconda3\\lib\\site-packages\\sklearn\\metrics\\_classification.py:1308: UndefinedMetricWarning: Precision and F-score are ill-defined and being set to 0.0 in labels with no predicted samples. Use `zero_division` parameter to control this behavior.\n",
      "  _warn_prf(average, modifier, msg_start, len(result))\n",
      "c:\\Users\\UX430\\anaconda3\\lib\\site-packages\\sklearn\\metrics\\_classification.py:1308: UndefinedMetricWarning: Recall and F-score are ill-defined and being set to 0.0 in labels with no true samples. Use `zero_division` parameter to control this behavior.\n",
      "  _warn_prf(average, modifier, msg_start, len(result))\n"
     ]
    }
   ],
   "source": [
    "# Values saved each iteration \n",
    "loss_it = []\n",
    "accuracy_it = []\n",
    "f1_it = []\n",
    "precision_it = []\n",
    "recall_it = []\n",
    "\n",
    "for i in range(global_updates): \n",
    "    w_list = []\n",
    "    for node in range(num_nodes): \n",
    "        cp = global_model # create a copy of the global model\n",
    "        if node == 0:\n",
    "            x, y = x1, y1\n",
    "        elif node == 1:\n",
    "            x, y = x2, y2\n",
    "        else:\n",
    "            x, y = x3, y3\n",
    "        local_model, local_loss, local_acc, local_val_loss, local_val_acc = train_local_model(cp, node, x, y)\n",
    "        w_list.append(local_model.get_weights())\n",
    "\n",
    "    avg_w = aggregate(w_list)\n",
    "    global_model.set_weights(avg_w) # apply gradients to global model\n",
    "    loss_basic, accuracy_basic, f1_basic, precision_basic, recall_basic = evaluation(global_model, xbasic, ybasic) # Evaluate with test basic to know progress\n",
    "    loss_plus, accuracy_plus, f1_plus, precision_plus, recall_plus = evaluation(global_model, xplus, yplus) # Evaluate with test plus to know progress\n",
    "\n",
    "    loss_it.append([loss_basic, loss_plus])\n",
    "    accuracy_it.append([accuracy_basic, accuracy_plus])\n",
    "    f1_it.append([f1_basic, f1_plus])\n",
    "    precision_it.append([precision_basic, precision_plus])\n",
    "    recall_it.append([recall_basic, recall_plus])\n",
    "\n",
    "\n",
    "global_model.save('C:/Users/UX430/Documents/thesis/code/models/id311.hdf5')"
   ]
  },
  {
   "cell_type": "code",
   "execution_count": 12,
   "metadata": {},
   "outputs": [
    {
     "name": "stdout",
     "output_type": "stream",
     "text": [
      "Loss for iterations:  [[1.612608551979065, 7.8958234786987305], [1.728319525718689, 7.844552993774414], [1.793425440788269, 7.905001640319824], [1.9736148118972778, 8.749491691589355], [2.102714776992798, 9.362007141113281]]\n",
      "Accuracy for iterations:  [[0.9112448692321777, 0.5519508719444275], [0.912179708480835, 0.5540579557418823], [0.9063878655433655, 0.5554929971694946], [0.9075564742088318, 0.5563104152679443], [0.9152473211288452, 0.5566555261611938]]\n",
      "F1 for iterations:  [[0.8758378769170576, 0.5200529751093939], [0.8764899537597619, 0.4913411932340489], [0.8701740067200219, 0.4544367194815606], [0.871108526419613, 0.44566330473057014], [0.8787834330382069, 0.4480559201485048]]\n",
      "Precision for iterations:  [[0.8471949108816553, 0.4916404784745726], [0.847088361450581, 0.4413791274841839], [0.8384094406261163, 0.3844896761587447], [0.8388108335810887, 0.37172853418711876], [0.8474425943842103, 0.3749130101539332]]\n",
      "Recall for iterations:  [[0.9112448508574601, 0.5519508828017148], [0.9121797306377633, 0.5540579815447213], [0.9063878582488533, 0.5554929884472862], [0.9075564579742323, 0.5563103974424181], [0.9152473049168833, 0.5566555256848071]]\n"
     ]
    }
   ],
   "source": [
    "print(\"Loss for iterations: \", loss_it)\n",
    "print(\"Accuracy for iterations: \", accuracy_it)\n",
    "print(\"F1 for iterations: \", f1_it)\n",
    "print(\"Precision for iterations: \", precision_it)\n",
    "print(\"Recall for iterations: \", recall_it)"
   ]
  },
  {
   "cell_type": "markdown",
   "metadata": {},
   "source": [
    "#### #Epochs = 5, #Iterations = 10"
   ]
  },
  {
   "cell_type": "code",
   "execution_count": 13,
   "metadata": {},
   "outputs": [
    {
     "name": "stderr",
     "output_type": "stream",
     "text": [
      "C:\\Users\\UX430\\AppData\\Local\\Temp/ipykernel_9376/1685572531.py:2: DtypeWarning: Columns (2,4) have mixed types. Specify dtype option on import or set low_memory=False.\n",
      "  training1 = pd.read_csv('C:/Users/UX430/Documents/thesis/datasets/UNSW-NB15/UNSW-NB15-Train-Basic-3C-Part1.csv')\n",
      "C:\\Users\\UX430\\AppData\\Local\\Temp/ipykernel_9376/1685572531.py:3: DtypeWarning: Columns (4) have mixed types. Specify dtype option on import or set low_memory=False.\n",
      "  training2 = pd.read_csv('C:/Users/UX430/Documents/thesis/datasets/UNSW-NB15/UNSW-NB15-Train-Basic-3C-Part2.csv')\n",
      "C:\\Users\\UX430\\AppData\\Local\\Temp/ipykernel_9376/1685572531.py:4: DtypeWarning: Columns (4) have mixed types. Specify dtype option on import or set low_memory=False.\n",
      "  training3 = pd.read_csv('C:/Users/UX430/Documents/thesis/datasets/UNSW-NB15/UNSW-NB15-Train-Basic-3C-Part3.csv')\n",
      "C:\\Users\\UX430\\AppData\\Local\\Temp/ipykernel_9376/1685572531.py:5: DtypeWarning: Columns (4) have mixed types. Specify dtype option on import or set low_memory=False.\n",
      "  test_basic = pd.read_csv('C:/Users/UX430/Documents/thesis/datasets/UNSW-NB15/UNSW-NB15-Test-Basic.csv')\n"
     ]
    }
   ],
   "source": [
    "# Load training datasets and testing datasets \n",
    "training1 = pd.read_csv('C:/Users/UX430/Documents/thesis/datasets/UNSW-NB15/UNSW-NB15-Train-Basic-3C-Part1.csv')\n",
    "training2 = pd.read_csv('C:/Users/UX430/Documents/thesis/datasets/UNSW-NB15/UNSW-NB15-Train-Basic-3C-Part2.csv')\n",
    "training3 = pd.read_csv('C:/Users/UX430/Documents/thesis/datasets/UNSW-NB15/UNSW-NB15-Train-Basic-3C-Part3.csv')\n",
    "test_basic = pd.read_csv('C:/Users/UX430/Documents/thesis/datasets/UNSW-NB15/UNSW-NB15-Test-Basic.csv')\n",
    "test_plus = pd.read_csv('C:/Users/UX430/Documents/thesis/datasets/UNSW-NB15/UNSW-NB15-Test+.csv')"
   ]
  },
  {
   "cell_type": "code",
   "execution_count": 14,
   "metadata": {},
   "outputs": [],
   "source": [
    "# Define \n",
    "node_datasets = [training1, training2, training3]\n",
    "num_nodes = 3\n",
    "global_updates = 10\n",
    "\n",
    "# Define model training parameters\n",
    "loss_fct = \"categorical_crossentropy\"\n",
    "metrics = ['accuracy']\n",
    "local_epochs = 5"
   ]
  },
  {
   "cell_type": "code",
   "execution_count": 15,
   "metadata": {},
   "outputs": [],
   "source": [
    "def train_local_model(model, node, x_train, y_train): \n",
    "    filepath = 'C:/Users/UX430/Documents/thesis/code/models/node'+str(node)+'ID312.hdf5'\n",
    "    callbacks = [\n",
    "            keras.callbacks.EarlyStopping(\n",
    "                monitor = 'val_loss', # Use accuracy to monitor the model\n",
    "                patience = 10 # Stop after 10 steps with lower accuracy\n",
    "            ),\n",
    "            keras.callbacks.ModelCheckpoint(\n",
    "                filepath = filepath, # file where the checkpoint is saved\n",
    "                monitor = 'val_loss', # Don't overwrite the saved model unless val_loss is worse\n",
    "                save_best_only = True)]# Only save model if it is the best\n",
    "    optimizer = keras.optimizers.Adam(learning_rate=5e-4)\n",
    "    model.compile(optimizer=optimizer, loss=loss_fct, metrics=metrics)\n",
    "    history = model.fit(x_train, y_train, epochs=local_epochs, validation_split=0.2, callbacks=callbacks, batch_size=2048)\n",
    "    return model, history.history['loss'], history.history['accuracy'], history.history['val_loss'], history.history['val_accuracy']"
   ]
  },
  {
   "cell_type": "code",
   "execution_count": 16,
   "metadata": {},
   "outputs": [],
   "source": [
    "def aggregate(w_list): \n",
    "    avg_w = np.mean(w_list, axis=0)\n",
    "    return avg_w"
   ]
  },
  {
   "cell_type": "code",
   "execution_count": 17,
   "metadata": {},
   "outputs": [],
   "source": [
    "global_model = build_model((24,1,1))"
   ]
  },
  {
   "cell_type": "code",
   "execution_count": 18,
   "metadata": {},
   "outputs": [],
   "source": [
    "x1, y1 = preprocessing(training1)\n",
    "x2, y2 = preprocessing(training2)\n",
    "x3, y3 = preprocessing(training3)\n",
    "xbasic, ybasic = preprocessing(test_basic)\n",
    "xplus, yplus = preprocessing(test_plus)"
   ]
  },
  {
   "cell_type": "code",
   "execution_count": 19,
   "metadata": {},
   "outputs": [
    {
     "name": "stdout",
     "output_type": "stream",
     "text": [
      "Epoch 1/5\n",
      "54/54 [==============================] - 11s 207ms/step - loss: 0.7829 - accuracy: 0.8088 - val_loss: 4.8228 - val_accuracy: 0.5857\n",
      "Epoch 2/5\n",
      "54/54 [==============================] - 12s 222ms/step - loss: 0.0518 - accuracy: 0.9920 - val_loss: 5.1629 - val_accuracy: 0.5858\n",
      "Epoch 3/5\n",
      "54/54 [==============================] - 10s 194ms/step - loss: 0.0301 - accuracy: 0.9927 - val_loss: 5.3480 - val_accuracy: 0.5861\n",
      "Epoch 4/5\n",
      "54/54 [==============================] - 11s 197ms/step - loss: 0.0273 - accuracy: 0.9926 - val_loss: 5.4211 - val_accuracy: 0.5862\n",
      "Epoch 5/5\n",
      "54/54 [==============================] - 11s 202ms/step - loss: 0.0257 - accuracy: 0.9926 - val_loss: 5.4700 - val_accuracy: 0.5862\n",
      "Epoch 1/5\n",
      "54/54 [==============================] - 10s 188ms/step - loss: 0.0230 - accuracy: 0.9926 - val_loss: 6.2862 - val_accuracy: 0.5886\n",
      "Epoch 2/5\n",
      "54/54 [==============================] - 11s 195ms/step - loss: 0.0197 - accuracy: 0.9932 - val_loss: 6.9341 - val_accuracy: 0.5905\n",
      "Epoch 3/5\n",
      "54/54 [==============================] - 10s 192ms/step - loss: 0.0172 - accuracy: 0.9944 - val_loss: 7.6869 - val_accuracy: 0.5910\n",
      "Epoch 4/5\n",
      "54/54 [==============================] - 10s 188ms/step - loss: 0.0158 - accuracy: 0.9951 - val_loss: 8.3615 - val_accuracy: 0.5917\n",
      "Epoch 5/5\n",
      "54/54 [==============================] - 10s 187ms/step - loss: 0.0152 - accuracy: 0.9953 - val_loss: 8.5852 - val_accuracy: 0.5926\n",
      "Epoch 1/5\n",
      "54/54 [==============================] - 10s 189ms/step - loss: 0.0141 - accuracy: 0.9954 - val_loss: 8.7070 - val_accuracy: 0.5935\n",
      "Epoch 2/5\n",
      "54/54 [==============================] - 10s 188ms/step - loss: 0.0135 - accuracy: 0.9958 - val_loss: 8.7830 - val_accuracy: 0.5940\n",
      "Epoch 3/5\n",
      "54/54 [==============================] - 10s 184ms/step - loss: 0.0133 - accuracy: 0.9960 - val_loss: 8.8224 - val_accuracy: 0.5917\n",
      "Epoch 4/5\n",
      "54/54 [==============================] - 10s 187ms/step - loss: 0.0132 - accuracy: 0.9960 - val_loss: 8.6204 - val_accuracy: 0.5929\n",
      "Epoch 5/5\n",
      "54/54 [==============================] - 10s 194ms/step - loss: 0.0132 - accuracy: 0.9960 - val_loss: 8.4480 - val_accuracy: 0.5930\n",
      "  31/4279 [..............................] - ETA: 14s - loss: 1.4135 - accuracy: 0.9234"
     ]
    },
    {
     "name": "stderr",
     "output_type": "stream",
     "text": [
      "c:\\Users\\UX430\\anaconda3\\lib\\site-packages\\numpy\\core\\_asarray.py:171: VisibleDeprecationWarning: Creating an ndarray from ragged nested sequences (which is a list-or-tuple of lists-or-tuples-or ndarrays with different lengths or shapes) is deprecated. If you meant to do this, you must specify 'dtype=object' when creating the ndarray.\n",
      "  return array(a, dtype, copy=False, order=order, subok=True)\n"
     ]
    },
    {
     "name": "stdout",
     "output_type": "stream",
     "text": [
      "4279/4279 [==============================] - 14s 3ms/step - loss: 1.5571 - accuracy: 0.9114\n",
      "   1/1721 [..............................] - ETA: 0s - loss: 14.8338 - accuracy: 0.0000e+00"
     ]
    },
    {
     "name": "stderr",
     "output_type": "stream",
     "text": [
      "c:\\Users\\UX430\\anaconda3\\lib\\site-packages\\sklearn\\metrics\\_classification.py:1308: UndefinedMetricWarning: Precision and F-score are ill-defined and being set to 0.0 in labels with no predicted samples. Use `zero_division` parameter to control this behavior.\n",
      "  _warn_prf(average, modifier, msg_start, len(result))\n",
      "c:\\Users\\UX430\\anaconda3\\lib\\site-packages\\sklearn\\metrics\\_classification.py:1308: UndefinedMetricWarning: Recall and F-score are ill-defined and being set to 0.0 in labels with no true samples. Use `zero_division` parameter to control this behavior.\n",
      "  _warn_prf(average, modifier, msg_start, len(result))\n",
      "c:\\Users\\UX430\\anaconda3\\lib\\site-packages\\sklearn\\metrics\\_classification.py:1308: UndefinedMetricWarning: Precision and F-score are ill-defined and being set to 0.0 in labels with no predicted samples. Use `zero_division` parameter to control this behavior.\n",
      "  _warn_prf(average, modifier, msg_start, len(result))\n",
      "c:\\Users\\UX430\\anaconda3\\lib\\site-packages\\sklearn\\metrics\\_classification.py:1308: UndefinedMetricWarning: Recall and F-score are ill-defined and being set to 0.0 in labels with no true samples. Use `zero_division` parameter to control this behavior.\n",
      "  _warn_prf(average, modifier, msg_start, len(result))\n",
      "c:\\Users\\UX430\\anaconda3\\lib\\site-packages\\sklearn\\metrics\\_classification.py:1308: UndefinedMetricWarning: Precision and F-score are ill-defined and being set to 0.0 in labels with no predicted samples. Use `zero_division` parameter to control this behavior.\n",
      "  _warn_prf(average, modifier, msg_start, len(result))\n",
      "c:\\Users\\UX430\\anaconda3\\lib\\site-packages\\sklearn\\metrics\\_classification.py:1308: UndefinedMetricWarning: Recall and F-score are ill-defined and being set to 0.0 in labels with no true samples. Use `zero_division` parameter to control this behavior.\n",
      "  _warn_prf(average, modifier, msg_start, len(result))\n"
     ]
    },
    {
     "name": "stdout",
     "output_type": "stream",
     "text": [
      "1721/1721 [==============================] - 5s 3ms/step - loss: 7.5000 - accuracy: 0.5521\n"
     ]
    },
    {
     "name": "stderr",
     "output_type": "stream",
     "text": [
      "c:\\Users\\UX430\\anaconda3\\lib\\site-packages\\sklearn\\metrics\\_classification.py:1308: UndefinedMetricWarning: Precision and F-score are ill-defined and being set to 0.0 in labels with no predicted samples. Use `zero_division` parameter to control this behavior.\n",
      "  _warn_prf(average, modifier, msg_start, len(result))\n",
      "c:\\Users\\UX430\\anaconda3\\lib\\site-packages\\sklearn\\metrics\\_classification.py:1308: UndefinedMetricWarning: Recall and F-score are ill-defined and being set to 0.0 in labels with no true samples. Use `zero_division` parameter to control this behavior.\n",
      "  _warn_prf(average, modifier, msg_start, len(result))\n",
      "c:\\Users\\UX430\\anaconda3\\lib\\site-packages\\sklearn\\metrics\\_classification.py:1308: UndefinedMetricWarning: Precision and F-score are ill-defined and being set to 0.0 in labels with no predicted samples. Use `zero_division` parameter to control this behavior.\n",
      "  _warn_prf(average, modifier, msg_start, len(result))\n",
      "c:\\Users\\UX430\\anaconda3\\lib\\site-packages\\sklearn\\metrics\\_classification.py:1308: UndefinedMetricWarning: Recall and F-score are ill-defined and being set to 0.0 in labels with no true samples. Use `zero_division` parameter to control this behavior.\n",
      "  _warn_prf(average, modifier, msg_start, len(result))\n",
      "c:\\Users\\UX430\\anaconda3\\lib\\site-packages\\sklearn\\metrics\\_classification.py:1308: UndefinedMetricWarning: Precision and F-score are ill-defined and being set to 0.0 in labels with no predicted samples. Use `zero_division` parameter to control this behavior.\n",
      "  _warn_prf(average, modifier, msg_start, len(result))\n",
      "c:\\Users\\UX430\\anaconda3\\lib\\site-packages\\sklearn\\metrics\\_classification.py:1308: UndefinedMetricWarning: Recall and F-score are ill-defined and being set to 0.0 in labels with no true samples. Use `zero_division` parameter to control this behavior.\n",
      "  _warn_prf(average, modifier, msg_start, len(result))\n"
     ]
    },
    {
     "name": "stdout",
     "output_type": "stream",
     "text": [
      "Epoch 1/5\n",
      "54/54 [==============================] - 11s 200ms/step - loss: 0.0160 - accuracy: 0.9955 - val_loss: 7.8716 - val_accuracy: 0.5926\n",
      "Epoch 2/5\n",
      "54/54 [==============================] - 10s 191ms/step - loss: 0.0154 - accuracy: 0.9956 - val_loss: 7.8440 - val_accuracy: 0.5922\n",
      "Epoch 3/5\n",
      "54/54 [==============================] - 10s 194ms/step - loss: 0.0149 - accuracy: 0.9959 - val_loss: 8.1571 - val_accuracy: 0.5933\n",
      "Epoch 4/5\n",
      "54/54 [==============================] - 10s 187ms/step - loss: 0.0151 - accuracy: 0.9958 - val_loss: 7.7839 - val_accuracy: 0.5904\n",
      "Epoch 5/5\n",
      "54/54 [==============================] - 10s 188ms/step - loss: 0.0146 - accuracy: 0.9960 - val_loss: 7.8077 - val_accuracy: 0.5909\n",
      "Epoch 1/5\n",
      "54/54 [==============================] - 10s 184ms/step - loss: 0.0139 - accuracy: 0.9961 - val_loss: 7.7540 - val_accuracy: 0.5907\n",
      "Epoch 2/5\n",
      "54/54 [==============================] - 10s 187ms/step - loss: 0.0137 - accuracy: 0.9960 - val_loss: 7.4959 - val_accuracy: 0.5925\n",
      "Epoch 3/5\n",
      "54/54 [==============================] - 10s 191ms/step - loss: 0.0135 - accuracy: 0.9962 - val_loss: 7.5771 - val_accuracy: 0.5923\n",
      "Epoch 4/5\n",
      "54/54 [==============================] - 10s 186ms/step - loss: 0.0135 - accuracy: 0.9961 - val_loss: 7.5489 - val_accuracy: 0.5937\n",
      "Epoch 5/5\n",
      "54/54 [==============================] - 10s 190ms/step - loss: 0.0131 - accuracy: 0.9962 - val_loss: 7.5770 - val_accuracy: 0.5926\n",
      "Epoch 1/5\n",
      "54/54 [==============================] - 10s 187ms/step - loss: 0.0127 - accuracy: 0.9961 - val_loss: 7.1632 - val_accuracy: 0.5937\n",
      "Epoch 2/5\n",
      "54/54 [==============================] - 10s 193ms/step - loss: 0.0126 - accuracy: 0.9961 - val_loss: 7.1284 - val_accuracy: 0.5921\n",
      "Epoch 3/5\n",
      "54/54 [==============================] - 10s 194ms/step - loss: 0.0125 - accuracy: 0.9960 - val_loss: 6.8803 - val_accuracy: 0.5957\n",
      "Epoch 4/5\n",
      "54/54 [==============================] - 11s 199ms/step - loss: 0.0121 - accuracy: 0.9964 - val_loss: 7.0120 - val_accuracy: 0.5946\n",
      "Epoch 5/5\n",
      "54/54 [==============================] - 10s 194ms/step - loss: 0.0121 - accuracy: 0.9963 - val_loss: 7.2197 - val_accuracy: 0.5947\n",
      "  31/4279 [..............................] - ETA: 14s - loss: 1.5546 - accuracy: 0.9173"
     ]
    },
    {
     "name": "stderr",
     "output_type": "stream",
     "text": [
      "c:\\Users\\UX430\\anaconda3\\lib\\site-packages\\numpy\\core\\_asarray.py:171: VisibleDeprecationWarning: Creating an ndarray from ragged nested sequences (which is a list-or-tuple of lists-or-tuples-or ndarrays with different lengths or shapes) is deprecated. If you meant to do this, you must specify 'dtype=object' when creating the ndarray.\n",
      "  return array(a, dtype, copy=False, order=order, subok=True)\n"
     ]
    },
    {
     "name": "stdout",
     "output_type": "stream",
     "text": [
      "4279/4279 [==============================] - 14s 3ms/step - loss: 1.7192 - accuracy: 0.9057\n",
      "   1/1721 [..............................] - ETA: 0s - loss: 14.0392 - accuracy: 0.0000e+00"
     ]
    },
    {
     "name": "stderr",
     "output_type": "stream",
     "text": [
      "c:\\Users\\UX430\\anaconda3\\lib\\site-packages\\sklearn\\metrics\\_classification.py:1308: UndefinedMetricWarning: Precision and F-score are ill-defined and being set to 0.0 in labels with no predicted samples. Use `zero_division` parameter to control this behavior.\n",
      "  _warn_prf(average, modifier, msg_start, len(result))\n",
      "c:\\Users\\UX430\\anaconda3\\lib\\site-packages\\sklearn\\metrics\\_classification.py:1308: UndefinedMetricWarning: Recall and F-score are ill-defined and being set to 0.0 in labels with no true samples. Use `zero_division` parameter to control this behavior.\n",
      "  _warn_prf(average, modifier, msg_start, len(result))\n",
      "c:\\Users\\UX430\\anaconda3\\lib\\site-packages\\sklearn\\metrics\\_classification.py:1308: UndefinedMetricWarning: Precision and F-score are ill-defined and being set to 0.0 in labels with no predicted samples. Use `zero_division` parameter to control this behavior.\n",
      "  _warn_prf(average, modifier, msg_start, len(result))\n",
      "c:\\Users\\UX430\\anaconda3\\lib\\site-packages\\sklearn\\metrics\\_classification.py:1308: UndefinedMetricWarning: Recall and F-score are ill-defined and being set to 0.0 in labels with no true samples. Use `zero_division` parameter to control this behavior.\n",
      "  _warn_prf(average, modifier, msg_start, len(result))\n",
      "c:\\Users\\UX430\\anaconda3\\lib\\site-packages\\sklearn\\metrics\\_classification.py:1308: UndefinedMetricWarning: Precision and F-score are ill-defined and being set to 0.0 in labels with no predicted samples. Use `zero_division` parameter to control this behavior.\n",
      "  _warn_prf(average, modifier, msg_start, len(result))\n",
      "c:\\Users\\UX430\\anaconda3\\lib\\site-packages\\sklearn\\metrics\\_classification.py:1308: UndefinedMetricWarning: Recall and F-score are ill-defined and being set to 0.0 in labels with no true samples. Use `zero_division` parameter to control this behavior.\n",
      "  _warn_prf(average, modifier, msg_start, len(result))\n"
     ]
    },
    {
     "name": "stdout",
     "output_type": "stream",
     "text": [
      "1721/1721 [==============================] - 5s 3ms/step - loss: 7.3265 - accuracy: 0.5542\n"
     ]
    },
    {
     "name": "stderr",
     "output_type": "stream",
     "text": [
      "c:\\Users\\UX430\\anaconda3\\lib\\site-packages\\sklearn\\metrics\\_classification.py:1308: UndefinedMetricWarning: Precision and F-score are ill-defined and being set to 0.0 in labels with no predicted samples. Use `zero_division` parameter to control this behavior.\n",
      "  _warn_prf(average, modifier, msg_start, len(result))\n",
      "c:\\Users\\UX430\\anaconda3\\lib\\site-packages\\sklearn\\metrics\\_classification.py:1308: UndefinedMetricWarning: Recall and F-score are ill-defined and being set to 0.0 in labels with no true samples. Use `zero_division` parameter to control this behavior.\n",
      "  _warn_prf(average, modifier, msg_start, len(result))\n",
      "c:\\Users\\UX430\\anaconda3\\lib\\site-packages\\sklearn\\metrics\\_classification.py:1308: UndefinedMetricWarning: Precision and F-score are ill-defined and being set to 0.0 in labels with no predicted samples. Use `zero_division` parameter to control this behavior.\n",
      "  _warn_prf(average, modifier, msg_start, len(result))\n",
      "c:\\Users\\UX430\\anaconda3\\lib\\site-packages\\sklearn\\metrics\\_classification.py:1308: UndefinedMetricWarning: Recall and F-score are ill-defined and being set to 0.0 in labels with no true samples. Use `zero_division` parameter to control this behavior.\n",
      "  _warn_prf(average, modifier, msg_start, len(result))\n",
      "c:\\Users\\UX430\\anaconda3\\lib\\site-packages\\sklearn\\metrics\\_classification.py:1308: UndefinedMetricWarning: Precision and F-score are ill-defined and being set to 0.0 in labels with no predicted samples. Use `zero_division` parameter to control this behavior.\n",
      "  _warn_prf(average, modifier, msg_start, len(result))\n",
      "c:\\Users\\UX430\\anaconda3\\lib\\site-packages\\sklearn\\metrics\\_classification.py:1308: UndefinedMetricWarning: Recall and F-score are ill-defined and being set to 0.0 in labels with no true samples. Use `zero_division` parameter to control this behavior.\n",
      "  _warn_prf(average, modifier, msg_start, len(result))\n"
     ]
    },
    {
     "name": "stdout",
     "output_type": "stream",
     "text": [
      "Epoch 1/5\n",
      "54/54 [==============================] - 10s 189ms/step - loss: 0.0141 - accuracy: 0.9962 - val_loss: 7.1698 - val_accuracy: 0.5919\n",
      "Epoch 2/5\n",
      "54/54 [==============================] - 10s 191ms/step - loss: 0.0139 - accuracy: 0.9962 - val_loss: 7.0665 - val_accuracy: 0.5916\n",
      "Epoch 3/5\n",
      "54/54 [==============================] - 10s 192ms/step - loss: 0.0138 - accuracy: 0.9961 - val_loss: 6.9338 - val_accuracy: 0.5922\n",
      "Epoch 4/5\n",
      "54/54 [==============================] - 10s 190ms/step - loss: 0.0135 - accuracy: 0.9962 - val_loss: 7.2394 - val_accuracy: 0.5907\n",
      "Epoch 5/5\n",
      "54/54 [==============================] - 10s 187ms/step - loss: 0.0136 - accuracy: 0.9963 - val_loss: 7.2451 - val_accuracy: 0.5908\n",
      "Epoch 1/5\n",
      "54/54 [==============================] - 10s 190ms/step - loss: 0.0127 - accuracy: 0.9962 - val_loss: 7.1181 - val_accuracy: 0.5930\n",
      "Epoch 2/5\n",
      "54/54 [==============================] - 11s 196ms/step - loss: 0.0122 - accuracy: 0.9965 - val_loss: 7.4731 - val_accuracy: 0.5925\n",
      "Epoch 3/5\n",
      "54/54 [==============================] - 10s 194ms/step - loss: 0.0121 - accuracy: 0.9965 - val_loss: 7.8640 - val_accuracy: 0.5925\n",
      "Epoch 4/5\n",
      "54/54 [==============================] - 10s 192ms/step - loss: 0.0117 - accuracy: 0.9965 - val_loss: 8.2966 - val_accuracy: 0.5934\n",
      "Epoch 5/5\n",
      "54/54 [==============================] - 10s 191ms/step - loss: 0.0119 - accuracy: 0.9963 - val_loss: 8.1617 - val_accuracy: 0.5921\n",
      "Epoch 1/5\n",
      "54/54 [==============================] - 10s 189ms/step - loss: 0.0114 - accuracy: 0.9965 - val_loss: 8.0949 - val_accuracy: 0.5946\n",
      "Epoch 2/5\n",
      "54/54 [==============================] - 10s 186ms/step - loss: 0.0109 - accuracy: 0.9966 - val_loss: 8.3968 - val_accuracy: 0.5943\n",
      "Epoch 3/5\n",
      "54/54 [==============================] - 10s 189ms/step - loss: 0.0109 - accuracy: 0.9965 - val_loss: 8.4863 - val_accuracy: 0.5943\n",
      "Epoch 4/5\n",
      "54/54 [==============================] - 10s 189ms/step - loss: 0.0106 - accuracy: 0.9967 - val_loss: 8.5372 - val_accuracy: 0.5949\n",
      "Epoch 5/5\n",
      "54/54 [==============================] - 10s 188ms/step - loss: 0.0103 - accuracy: 0.9969 - val_loss: 8.8697 - val_accuracy: 0.5948\n",
      "  30/4279 [..............................] - ETA: 14s - loss: 1.7601 - accuracy: 0.7844"
     ]
    },
    {
     "name": "stderr",
     "output_type": "stream",
     "text": [
      "c:\\Users\\UX430\\anaconda3\\lib\\site-packages\\numpy\\core\\_asarray.py:171: VisibleDeprecationWarning: Creating an ndarray from ragged nested sequences (which is a list-or-tuple of lists-or-tuples-or ndarrays with different lengths or shapes) is deprecated. If you meant to do this, you must specify 'dtype=object' when creating the ndarray.\n",
      "  return array(a, dtype, copy=False, order=order, subok=True)\n"
     ]
    },
    {
     "name": "stdout",
     "output_type": "stream",
     "text": [
      "4279/4279 [==============================] - 14s 3ms/step - loss: 1.9163 - accuracy: 0.7759\n",
      "   1/1721 [..............................] - ETA: 0s - loss: 14.4803 - accuracy: 0.0000e+00"
     ]
    },
    {
     "name": "stderr",
     "output_type": "stream",
     "text": [
      "c:\\Users\\UX430\\anaconda3\\lib\\site-packages\\sklearn\\metrics\\_classification.py:1308: UndefinedMetricWarning: Precision and F-score are ill-defined and being set to 0.0 in labels with no predicted samples. Use `zero_division` parameter to control this behavior.\n",
      "  _warn_prf(average, modifier, msg_start, len(result))\n",
      "c:\\Users\\UX430\\anaconda3\\lib\\site-packages\\sklearn\\metrics\\_classification.py:1308: UndefinedMetricWarning: Recall and F-score are ill-defined and being set to 0.0 in labels with no true samples. Use `zero_division` parameter to control this behavior.\n",
      "  _warn_prf(average, modifier, msg_start, len(result))\n",
      "c:\\Users\\UX430\\anaconda3\\lib\\site-packages\\sklearn\\metrics\\_classification.py:1308: UndefinedMetricWarning: Precision and F-score are ill-defined and being set to 0.0 in labels with no predicted samples. Use `zero_division` parameter to control this behavior.\n",
      "  _warn_prf(average, modifier, msg_start, len(result))\n",
      "c:\\Users\\UX430\\anaconda3\\lib\\site-packages\\sklearn\\metrics\\_classification.py:1308: UndefinedMetricWarning: Recall and F-score are ill-defined and being set to 0.0 in labels with no true samples. Use `zero_division` parameter to control this behavior.\n",
      "  _warn_prf(average, modifier, msg_start, len(result))\n",
      "c:\\Users\\UX430\\anaconda3\\lib\\site-packages\\sklearn\\metrics\\_classification.py:1308: UndefinedMetricWarning: Precision and F-score are ill-defined and being set to 0.0 in labels with no predicted samples. Use `zero_division` parameter to control this behavior.\n",
      "  _warn_prf(average, modifier, msg_start, len(result))\n",
      "c:\\Users\\UX430\\anaconda3\\lib\\site-packages\\sklearn\\metrics\\_classification.py:1308: UndefinedMetricWarning: Recall and F-score are ill-defined and being set to 0.0 in labels with no true samples. Use `zero_division` parameter to control this behavior.\n",
      "  _warn_prf(average, modifier, msg_start, len(result))\n"
     ]
    },
    {
     "name": "stdout",
     "output_type": "stream",
     "text": [
      "1721/1721 [==============================] - 6s 3ms/step - loss: 7.6775 - accuracy: 0.5557\n"
     ]
    },
    {
     "name": "stderr",
     "output_type": "stream",
     "text": [
      "c:\\Users\\UX430\\anaconda3\\lib\\site-packages\\sklearn\\metrics\\_classification.py:1308: UndefinedMetricWarning: Precision and F-score are ill-defined and being set to 0.0 in labels with no predicted samples. Use `zero_division` parameter to control this behavior.\n",
      "  _warn_prf(average, modifier, msg_start, len(result))\n",
      "c:\\Users\\UX430\\anaconda3\\lib\\site-packages\\sklearn\\metrics\\_classification.py:1308: UndefinedMetricWarning: Recall and F-score are ill-defined and being set to 0.0 in labels with no true samples. Use `zero_division` parameter to control this behavior.\n",
      "  _warn_prf(average, modifier, msg_start, len(result))\n",
      "c:\\Users\\UX430\\anaconda3\\lib\\site-packages\\sklearn\\metrics\\_classification.py:1308: UndefinedMetricWarning: Precision and F-score are ill-defined and being set to 0.0 in labels with no predicted samples. Use `zero_division` parameter to control this behavior.\n",
      "  _warn_prf(average, modifier, msg_start, len(result))\n",
      "c:\\Users\\UX430\\anaconda3\\lib\\site-packages\\sklearn\\metrics\\_classification.py:1308: UndefinedMetricWarning: Recall and F-score are ill-defined and being set to 0.0 in labels with no true samples. Use `zero_division` parameter to control this behavior.\n",
      "  _warn_prf(average, modifier, msg_start, len(result))\n",
      "c:\\Users\\UX430\\anaconda3\\lib\\site-packages\\sklearn\\metrics\\_classification.py:1308: UndefinedMetricWarning: Precision and F-score are ill-defined and being set to 0.0 in labels with no predicted samples. Use `zero_division` parameter to control this behavior.\n",
      "  _warn_prf(average, modifier, msg_start, len(result))\n",
      "c:\\Users\\UX430\\anaconda3\\lib\\site-packages\\sklearn\\metrics\\_classification.py:1308: UndefinedMetricWarning: Recall and F-score are ill-defined and being set to 0.0 in labels with no true samples. Use `zero_division` parameter to control this behavior.\n",
      "  _warn_prf(average, modifier, msg_start, len(result))\n"
     ]
    },
    {
     "name": "stdout",
     "output_type": "stream",
     "text": [
      "Epoch 1/5\n",
      "54/54 [==============================] - 11s 195ms/step - loss: 0.0126 - accuracy: 0.9966 - val_loss: 7.9833 - val_accuracy: 0.5926\n",
      "Epoch 2/5\n",
      "54/54 [==============================] - 11s 196ms/step - loss: 0.0123 - accuracy: 0.9965 - val_loss: 7.8176 - val_accuracy: 0.5927\n",
      "Epoch 3/5\n",
      "54/54 [==============================] - 11s 197ms/step - loss: 0.0114 - accuracy: 0.9967 - val_loss: 8.1850 - val_accuracy: 0.5922\n",
      "Epoch 4/5\n",
      "54/54 [==============================] - 10s 191ms/step - loss: 0.0116 - accuracy: 0.9969 - val_loss: 8.4497 - val_accuracy: 0.5924\n",
      "Epoch 5/5\n",
      "54/54 [==============================] - 10s 187ms/step - loss: 0.0111 - accuracy: 0.9968 - val_loss: 8.7597 - val_accuracy: 0.5920\n",
      "Epoch 1/5\n",
      "54/54 [==============================] - 10s 183ms/step - loss: 0.0104 - accuracy: 0.9968 - val_loss: 8.9889 - val_accuracy: 0.5926\n",
      "Epoch 2/5\n",
      "54/54 [==============================] - 10s 186ms/step - loss: 0.0099 - accuracy: 0.9971 - val_loss: 9.4992 - val_accuracy: 0.5928\n",
      "Epoch 3/5\n",
      "54/54 [==============================] - 10s 189ms/step - loss: 0.0100 - accuracy: 0.9969 - val_loss: 9.3142 - val_accuracy: 0.5918\n",
      "Epoch 4/5\n",
      "54/54 [==============================] - 10s 190ms/step - loss: 0.0096 - accuracy: 0.9970 - val_loss: 9.4147 - val_accuracy: 0.5921\n",
      "Epoch 5/5\n",
      "54/54 [==============================] - 10s 189ms/step - loss: 0.0098 - accuracy: 0.9968 - val_loss: 9.1365 - val_accuracy: 0.5911\n",
      "Epoch 1/5\n",
      "54/54 [==============================] - 11s 196ms/step - loss: 0.0097 - accuracy: 0.9968 - val_loss: 8.9331 - val_accuracy: 0.5932\n",
      "Epoch 2/5\n",
      "54/54 [==============================] - 11s 200ms/step - loss: 0.0096 - accuracy: 0.9967 - val_loss: 8.6733 - val_accuracy: 0.5944\n",
      "Epoch 3/5\n",
      "54/54 [==============================] - 11s 199ms/step - loss: 0.0087 - accuracy: 0.9972 - val_loss: 9.0196 - val_accuracy: 0.5934\n",
      "Epoch 4/5\n",
      "54/54 [==============================] - 11s 199ms/step - loss: 0.0085 - accuracy: 0.9972 - val_loss: 9.3093 - val_accuracy: 0.5949\n",
      "Epoch 5/5\n",
      "54/54 [==============================] - 11s 209ms/step - loss: 0.0087 - accuracy: 0.9971 - val_loss: 9.2730 - val_accuracy: 0.5947\n",
      "  13/4279 [..............................] - ETA: 17s - loss: 1.9085 - accuracy: 0.8870"
     ]
    },
    {
     "name": "stderr",
     "output_type": "stream",
     "text": [
      "c:\\Users\\UX430\\anaconda3\\lib\\site-packages\\numpy\\core\\_asarray.py:171: VisibleDeprecationWarning: Creating an ndarray from ragged nested sequences (which is a list-or-tuple of lists-or-tuples-or ndarrays with different lengths or shapes) is deprecated. If you meant to do this, you must specify 'dtype=object' when creating the ndarray.\n",
      "  return array(a, dtype, copy=False, order=order, subok=True)\n"
     ]
    },
    {
     "name": "stdout",
     "output_type": "stream",
     "text": [
      "4279/4279 [==============================] - 18s 4ms/step - loss: 2.0788 - accuracy: 0.8790\n",
      "   1/1721 [..............................] - ETA: 0s - loss: 16.3717 - accuracy: 0.0000e+00"
     ]
    },
    {
     "name": "stderr",
     "output_type": "stream",
     "text": [
      "c:\\Users\\UX430\\anaconda3\\lib\\site-packages\\sklearn\\metrics\\_classification.py:1308: UndefinedMetricWarning: Precision and F-score are ill-defined and being set to 0.0 in labels with no predicted samples. Use `zero_division` parameter to control this behavior.\n",
      "  _warn_prf(average, modifier, msg_start, len(result))\n",
      "c:\\Users\\UX430\\anaconda3\\lib\\site-packages\\sklearn\\metrics\\_classification.py:1308: UndefinedMetricWarning: Recall and F-score are ill-defined and being set to 0.0 in labels with no true samples. Use `zero_division` parameter to control this behavior.\n",
      "  _warn_prf(average, modifier, msg_start, len(result))\n",
      "c:\\Users\\UX430\\anaconda3\\lib\\site-packages\\sklearn\\metrics\\_classification.py:1308: UndefinedMetricWarning: Precision and F-score are ill-defined and being set to 0.0 in labels with no predicted samples. Use `zero_division` parameter to control this behavior.\n",
      "  _warn_prf(average, modifier, msg_start, len(result))\n",
      "c:\\Users\\UX430\\anaconda3\\lib\\site-packages\\sklearn\\metrics\\_classification.py:1308: UndefinedMetricWarning: Recall and F-score are ill-defined and being set to 0.0 in labels with no true samples. Use `zero_division` parameter to control this behavior.\n",
      "  _warn_prf(average, modifier, msg_start, len(result))\n",
      "c:\\Users\\UX430\\anaconda3\\lib\\site-packages\\sklearn\\metrics\\_classification.py:1308: UndefinedMetricWarning: Precision and F-score are ill-defined and being set to 0.0 in labels with no predicted samples. Use `zero_division` parameter to control this behavior.\n",
      "  _warn_prf(average, modifier, msg_start, len(result))\n",
      "c:\\Users\\UX430\\anaconda3\\lib\\site-packages\\sklearn\\metrics\\_classification.py:1308: UndefinedMetricWarning: Recall and F-score are ill-defined and being set to 0.0 in labels with no true samples. Use `zero_division` parameter to control this behavior.\n",
      "  _warn_prf(average, modifier, msg_start, len(result))\n"
     ]
    },
    {
     "name": "stdout",
     "output_type": "stream",
     "text": [
      "1721/1721 [==============================] - 7s 4ms/step - loss: 8.6148 - accuracy: 0.5582\n"
     ]
    },
    {
     "name": "stderr",
     "output_type": "stream",
     "text": [
      "c:\\Users\\UX430\\anaconda3\\lib\\site-packages\\sklearn\\metrics\\_classification.py:1308: UndefinedMetricWarning: Precision and F-score are ill-defined and being set to 0.0 in labels with no predicted samples. Use `zero_division` parameter to control this behavior.\n",
      "  _warn_prf(average, modifier, msg_start, len(result))\n",
      "c:\\Users\\UX430\\anaconda3\\lib\\site-packages\\sklearn\\metrics\\_classification.py:1308: UndefinedMetricWarning: Recall and F-score are ill-defined and being set to 0.0 in labels with no true samples. Use `zero_division` parameter to control this behavior.\n",
      "  _warn_prf(average, modifier, msg_start, len(result))\n",
      "c:\\Users\\UX430\\anaconda3\\lib\\site-packages\\sklearn\\metrics\\_classification.py:1308: UndefinedMetricWarning: Precision and F-score are ill-defined and being set to 0.0 in labels with no predicted samples. Use `zero_division` parameter to control this behavior.\n",
      "  _warn_prf(average, modifier, msg_start, len(result))\n",
      "c:\\Users\\UX430\\anaconda3\\lib\\site-packages\\sklearn\\metrics\\_classification.py:1308: UndefinedMetricWarning: Recall and F-score are ill-defined and being set to 0.0 in labels with no true samples. Use `zero_division` parameter to control this behavior.\n",
      "  _warn_prf(average, modifier, msg_start, len(result))\n",
      "c:\\Users\\UX430\\anaconda3\\lib\\site-packages\\sklearn\\metrics\\_classification.py:1308: UndefinedMetricWarning: Precision and F-score are ill-defined and being set to 0.0 in labels with no predicted samples. Use `zero_division` parameter to control this behavior.\n",
      "  _warn_prf(average, modifier, msg_start, len(result))\n",
      "c:\\Users\\UX430\\anaconda3\\lib\\site-packages\\sklearn\\metrics\\_classification.py:1308: UndefinedMetricWarning: Recall and F-score are ill-defined and being set to 0.0 in labels with no true samples. Use `zero_division` parameter to control this behavior.\n",
      "  _warn_prf(average, modifier, msg_start, len(result))\n"
     ]
    },
    {
     "name": "stdout",
     "output_type": "stream",
     "text": [
      "Epoch 1/5\n",
      "54/54 [==============================] - 11s 210ms/step - loss: 0.0102 - accuracy: 0.9970 - val_loss: 9.0012 - val_accuracy: 0.5921\n",
      "Epoch 2/5\n",
      "54/54 [==============================] - 11s 213ms/step - loss: 0.0095 - accuracy: 0.9975 - val_loss: 9.3864 - val_accuracy: 0.5923\n",
      "Epoch 3/5\n",
      "54/54 [==============================] - 11s 204ms/step - loss: 0.0089 - accuracy: 0.9974 - val_loss: 9.7222 - val_accuracy: 0.5919\n",
      "Epoch 4/5\n",
      "54/54 [==============================] - 11s 202ms/step - loss: 0.0090 - accuracy: 0.9973 - val_loss: 9.9531 - val_accuracy: 0.5920\n",
      "Epoch 5/5\n",
      "54/54 [==============================] - 11s 207ms/step - loss: 0.0091 - accuracy: 0.9974 - val_loss: 9.8504 - val_accuracy: 0.5919\n",
      "Epoch 1/5\n",
      "54/54 [==============================] - 11s 202ms/step - loss: 0.0088 - accuracy: 0.9971 - val_loss: 9.6266 - val_accuracy: 0.5920\n",
      "Epoch 2/5\n",
      "54/54 [==============================] - 11s 205ms/step - loss: 0.0086 - accuracy: 0.9973 - val_loss: 9.6068 - val_accuracy: 0.5929\n",
      "Epoch 3/5\n",
      "54/54 [==============================] - 11s 197ms/step - loss: 0.0080 - accuracy: 0.9975 - val_loss: 9.9048 - val_accuracy: 0.5934\n",
      "Epoch 4/5\n",
      "54/54 [==============================] - 11s 198ms/step - loss: 0.0085 - accuracy: 0.9973 - val_loss: 9.6176 - val_accuracy: 0.5926\n",
      "Epoch 5/5\n",
      "54/54 [==============================] - 10s 193ms/step - loss: 0.0081 - accuracy: 0.9974 - val_loss: 9.8084 - val_accuracy: 0.5925\n",
      "Epoch 1/5\n",
      "54/54 [==============================] - 11s 196ms/step - loss: 0.0083 - accuracy: 0.9974 - val_loss: 9.7016 - val_accuracy: 0.5947\n",
      "Epoch 2/5\n",
      "54/54 [==============================] - 11s 203ms/step - loss: 0.0082 - accuracy: 0.9974 - val_loss: 9.5123 - val_accuracy: 0.5938\n",
      "Epoch 3/5\n",
      "54/54 [==============================] - 11s 209ms/step - loss: 0.0079 - accuracy: 0.9974 - val_loss: 9.4317 - val_accuracy: 0.5940\n",
      "Epoch 4/5\n",
      "54/54 [==============================] - 11s 196ms/step - loss: 0.0078 - accuracy: 0.9974 - val_loss: 9.3648 - val_accuracy: 0.5939\n",
      "Epoch 5/5\n",
      "54/54 [==============================] - 11s 204ms/step - loss: 0.0075 - accuracy: 0.9977 - val_loss: 9.4342 - val_accuracy: 0.5942\n",
      "  29/4279 [..............................] - ETA: 15s - loss: 2.0183 - accuracy: 0.8621"
     ]
    },
    {
     "name": "stderr",
     "output_type": "stream",
     "text": [
      "c:\\Users\\UX430\\anaconda3\\lib\\site-packages\\numpy\\core\\_asarray.py:171: VisibleDeprecationWarning: Creating an ndarray from ragged nested sequences (which is a list-or-tuple of lists-or-tuples-or ndarrays with different lengths or shapes) is deprecated. If you meant to do this, you must specify 'dtype=object' when creating the ndarray.\n",
      "  return array(a, dtype, copy=False, order=order, subok=True)\n"
     ]
    },
    {
     "name": "stdout",
     "output_type": "stream",
     "text": [
      "4279/4279 [==============================] - 15s 4ms/step - loss: 2.2594 - accuracy: 0.8540\n",
      "   1/1721 [..............................] - ETA: 0s - loss: 18.0396 - accuracy: 0.0000e+00"
     ]
    },
    {
     "name": "stderr",
     "output_type": "stream",
     "text": [
      "c:\\Users\\UX430\\anaconda3\\lib\\site-packages\\sklearn\\metrics\\_classification.py:1308: UndefinedMetricWarning: Precision and F-score are ill-defined and being set to 0.0 in labels with no predicted samples. Use `zero_division` parameter to control this behavior.\n",
      "  _warn_prf(average, modifier, msg_start, len(result))\n",
      "c:\\Users\\UX430\\anaconda3\\lib\\site-packages\\sklearn\\metrics\\_classification.py:1308: UndefinedMetricWarning: Recall and F-score are ill-defined and being set to 0.0 in labels with no true samples. Use `zero_division` parameter to control this behavior.\n",
      "  _warn_prf(average, modifier, msg_start, len(result))\n",
      "c:\\Users\\UX430\\anaconda3\\lib\\site-packages\\sklearn\\metrics\\_classification.py:1308: UndefinedMetricWarning: Precision and F-score are ill-defined and being set to 0.0 in labels with no predicted samples. Use `zero_division` parameter to control this behavior.\n",
      "  _warn_prf(average, modifier, msg_start, len(result))\n",
      "c:\\Users\\UX430\\anaconda3\\lib\\site-packages\\sklearn\\metrics\\_classification.py:1308: UndefinedMetricWarning: Recall and F-score are ill-defined and being set to 0.0 in labels with no true samples. Use `zero_division` parameter to control this behavior.\n",
      "  _warn_prf(average, modifier, msg_start, len(result))\n",
      "c:\\Users\\UX430\\anaconda3\\lib\\site-packages\\sklearn\\metrics\\_classification.py:1308: UndefinedMetricWarning: Precision and F-score are ill-defined and being set to 0.0 in labels with no predicted samples. Use `zero_division` parameter to control this behavior.\n",
      "  _warn_prf(average, modifier, msg_start, len(result))\n",
      "c:\\Users\\UX430\\anaconda3\\lib\\site-packages\\sklearn\\metrics\\_classification.py:1308: UndefinedMetricWarning: Recall and F-score are ill-defined and being set to 0.0 in labels with no true samples. Use `zero_division` parameter to control this behavior.\n",
      "  _warn_prf(average, modifier, msg_start, len(result))\n"
     ]
    },
    {
     "name": "stdout",
     "output_type": "stream",
     "text": [
      "1721/1721 [==============================] - 6s 4ms/step - loss: 9.4043 - accuracy: 0.5591\n"
     ]
    },
    {
     "name": "stderr",
     "output_type": "stream",
     "text": [
      "c:\\Users\\UX430\\anaconda3\\lib\\site-packages\\sklearn\\metrics\\_classification.py:1308: UndefinedMetricWarning: Precision and F-score are ill-defined and being set to 0.0 in labels with no predicted samples. Use `zero_division` parameter to control this behavior.\n",
      "  _warn_prf(average, modifier, msg_start, len(result))\n",
      "c:\\Users\\UX430\\anaconda3\\lib\\site-packages\\sklearn\\metrics\\_classification.py:1308: UndefinedMetricWarning: Recall and F-score are ill-defined and being set to 0.0 in labels with no true samples. Use `zero_division` parameter to control this behavior.\n",
      "  _warn_prf(average, modifier, msg_start, len(result))\n",
      "c:\\Users\\UX430\\anaconda3\\lib\\site-packages\\sklearn\\metrics\\_classification.py:1308: UndefinedMetricWarning: Precision and F-score are ill-defined and being set to 0.0 in labels with no predicted samples. Use `zero_division` parameter to control this behavior.\n",
      "  _warn_prf(average, modifier, msg_start, len(result))\n",
      "c:\\Users\\UX430\\anaconda3\\lib\\site-packages\\sklearn\\metrics\\_classification.py:1308: UndefinedMetricWarning: Recall and F-score are ill-defined and being set to 0.0 in labels with no true samples. Use `zero_division` parameter to control this behavior.\n",
      "  _warn_prf(average, modifier, msg_start, len(result))\n",
      "c:\\Users\\UX430\\anaconda3\\lib\\site-packages\\sklearn\\metrics\\_classification.py:1308: UndefinedMetricWarning: Precision and F-score are ill-defined and being set to 0.0 in labels with no predicted samples. Use `zero_division` parameter to control this behavior.\n",
      "  _warn_prf(average, modifier, msg_start, len(result))\n",
      "c:\\Users\\UX430\\anaconda3\\lib\\site-packages\\sklearn\\metrics\\_classification.py:1308: UndefinedMetricWarning: Recall and F-score are ill-defined and being set to 0.0 in labels with no true samples. Use `zero_division` parameter to control this behavior.\n",
      "  _warn_prf(average, modifier, msg_start, len(result))\n"
     ]
    },
    {
     "name": "stdout",
     "output_type": "stream",
     "text": [
      "Epoch 1/5\n",
      "54/54 [==============================] - 11s 204ms/step - loss: 0.0085 - accuracy: 0.9975 - val_loss: 9.7126 - val_accuracy: 0.5923\n",
      "Epoch 2/5\n",
      "54/54 [==============================] - 11s 201ms/step - loss: 0.0087 - accuracy: 0.9976 - val_loss: 9.6818 - val_accuracy: 0.5917\n",
      "Epoch 3/5\n",
      "54/54 [==============================] - 11s 195ms/step - loss: 0.0083 - accuracy: 0.9977 - val_loss: 9.7601 - val_accuracy: 0.5916\n",
      "Epoch 4/5\n",
      "54/54 [==============================] - 11s 195ms/step - loss: 0.0081 - accuracy: 0.9977 - val_loss: 9.6697 - val_accuracy: 0.5920\n",
      "Epoch 5/5\n",
      "54/54 [==============================] - 11s 206ms/step - loss: 0.0078 - accuracy: 0.9977 - val_loss: 9.7612 - val_accuracy: 0.5922\n",
      "Epoch 1/5\n",
      "54/54 [==============================] - 11s 202ms/step - loss: 0.0078 - accuracy: 0.9975 - val_loss: 9.6883 - val_accuracy: 0.5929\n",
      "Epoch 2/5\n",
      "54/54 [==============================] - 11s 201ms/step - loss: 0.0074 - accuracy: 0.9979 - val_loss: 9.9121 - val_accuracy: 0.5929\n",
      "Epoch 3/5\n",
      "54/54 [==============================] - 11s 200ms/step - loss: 0.0076 - accuracy: 0.9977 - val_loss: 9.6383 - val_accuracy: 0.5928\n",
      "Epoch 4/5\n",
      "54/54 [==============================] - 11s 206ms/step - loss: 0.0074 - accuracy: 0.9977 - val_loss: 9.6453 - val_accuracy: 0.5919\n",
      "Epoch 5/5\n",
      "54/54 [==============================] - 11s 205ms/step - loss: 0.0079 - accuracy: 0.9976 - val_loss: 9.4849 - val_accuracy: 0.5926\n",
      "Epoch 1/5\n",
      "54/54 [==============================] - 11s 208ms/step - loss: 0.0077 - accuracy: 0.9975 - val_loss: 9.4151 - val_accuracy: 0.5951\n",
      "Epoch 2/5\n",
      "54/54 [==============================] - 11s 206ms/step - loss: 0.0076 - accuracy: 0.9976 - val_loss: 9.2015 - val_accuracy: 0.5941\n",
      "Epoch 3/5\n",
      "54/54 [==============================] - 11s 206ms/step - loss: 0.0074 - accuracy: 0.9977 - val_loss: 9.1678 - val_accuracy: 0.5950\n",
      "Epoch 4/5\n",
      "54/54 [==============================] - 11s 199ms/step - loss: 0.0071 - accuracy: 0.9978 - val_loss: 9.2398 - val_accuracy: 0.5952\n",
      "Epoch 5/5\n",
      "54/54 [==============================] - 11s 196ms/step - loss: 0.0071 - accuracy: 0.9977 - val_loss: 9.2377 - val_accuracy: 0.5951\n",
      "  15/4279 [..............................] - ETA: 14s - loss: 2.2295 - accuracy: 0.6042"
     ]
    },
    {
     "name": "stderr",
     "output_type": "stream",
     "text": [
      "c:\\Users\\UX430\\anaconda3\\lib\\site-packages\\numpy\\core\\_asarray.py:171: VisibleDeprecationWarning: Creating an ndarray from ragged nested sequences (which is a list-or-tuple of lists-or-tuples-or ndarrays with different lengths or shapes) is deprecated. If you meant to do this, you must specify 'dtype=object' when creating the ndarray.\n",
      "  return array(a, dtype, copy=False, order=order, subok=True)\n"
     ]
    },
    {
     "name": "stdout",
     "output_type": "stream",
     "text": [
      "4279/4279 [==============================] - 16s 4ms/step - loss: 2.3542 - accuracy: 0.6125\n",
      "   1/1721 [..............................] - ETA: 0s - loss: 18.4279 - accuracy: 0.0000e+00"
     ]
    },
    {
     "name": "stderr",
     "output_type": "stream",
     "text": [
      "c:\\Users\\UX430\\anaconda3\\lib\\site-packages\\sklearn\\metrics\\_classification.py:1308: UndefinedMetricWarning: Precision and F-score are ill-defined and being set to 0.0 in labels with no predicted samples. Use `zero_division` parameter to control this behavior.\n",
      "  _warn_prf(average, modifier, msg_start, len(result))\n",
      "c:\\Users\\UX430\\anaconda3\\lib\\site-packages\\sklearn\\metrics\\_classification.py:1308: UndefinedMetricWarning: Recall and F-score are ill-defined and being set to 0.0 in labels with no true samples. Use `zero_division` parameter to control this behavior.\n",
      "  _warn_prf(average, modifier, msg_start, len(result))\n",
      "c:\\Users\\UX430\\anaconda3\\lib\\site-packages\\sklearn\\metrics\\_classification.py:1308: UndefinedMetricWarning: Precision and F-score are ill-defined and being set to 0.0 in labels with no predicted samples. Use `zero_division` parameter to control this behavior.\n",
      "  _warn_prf(average, modifier, msg_start, len(result))\n",
      "c:\\Users\\UX430\\anaconda3\\lib\\site-packages\\sklearn\\metrics\\_classification.py:1308: UndefinedMetricWarning: Recall and F-score are ill-defined and being set to 0.0 in labels with no true samples. Use `zero_division` parameter to control this behavior.\n",
      "  _warn_prf(average, modifier, msg_start, len(result))\n",
      "c:\\Users\\UX430\\anaconda3\\lib\\site-packages\\sklearn\\metrics\\_classification.py:1308: UndefinedMetricWarning: Precision and F-score are ill-defined and being set to 0.0 in labels with no predicted samples. Use `zero_division` parameter to control this behavior.\n",
      "  _warn_prf(average, modifier, msg_start, len(result))\n",
      "c:\\Users\\UX430\\anaconda3\\lib\\site-packages\\sklearn\\metrics\\_classification.py:1308: UndefinedMetricWarning: Recall and F-score are ill-defined and being set to 0.0 in labels with no true samples. Use `zero_division` parameter to control this behavior.\n",
      "  _warn_prf(average, modifier, msg_start, len(result))\n"
     ]
    },
    {
     "name": "stdout",
     "output_type": "stream",
     "text": [
      "1721/1721 [==============================] - 6s 4ms/step - loss: 9.4116 - accuracy: 0.5591\n"
     ]
    },
    {
     "name": "stderr",
     "output_type": "stream",
     "text": [
      "c:\\Users\\UX430\\anaconda3\\lib\\site-packages\\sklearn\\metrics\\_classification.py:1308: UndefinedMetricWarning: Precision and F-score are ill-defined and being set to 0.0 in labels with no predicted samples. Use `zero_division` parameter to control this behavior.\n",
      "  _warn_prf(average, modifier, msg_start, len(result))\n",
      "c:\\Users\\UX430\\anaconda3\\lib\\site-packages\\sklearn\\metrics\\_classification.py:1308: UndefinedMetricWarning: Recall and F-score are ill-defined and being set to 0.0 in labels with no true samples. Use `zero_division` parameter to control this behavior.\n",
      "  _warn_prf(average, modifier, msg_start, len(result))\n",
      "c:\\Users\\UX430\\anaconda3\\lib\\site-packages\\sklearn\\metrics\\_classification.py:1308: UndefinedMetricWarning: Precision and F-score are ill-defined and being set to 0.0 in labels with no predicted samples. Use `zero_division` parameter to control this behavior.\n",
      "  _warn_prf(average, modifier, msg_start, len(result))\n",
      "c:\\Users\\UX430\\anaconda3\\lib\\site-packages\\sklearn\\metrics\\_classification.py:1308: UndefinedMetricWarning: Recall and F-score are ill-defined and being set to 0.0 in labels with no true samples. Use `zero_division` parameter to control this behavior.\n",
      "  _warn_prf(average, modifier, msg_start, len(result))\n",
      "c:\\Users\\UX430\\anaconda3\\lib\\site-packages\\sklearn\\metrics\\_classification.py:1308: UndefinedMetricWarning: Precision and F-score are ill-defined and being set to 0.0 in labels with no predicted samples. Use `zero_division` parameter to control this behavior.\n",
      "  _warn_prf(average, modifier, msg_start, len(result))\n",
      "c:\\Users\\UX430\\anaconda3\\lib\\site-packages\\sklearn\\metrics\\_classification.py:1308: UndefinedMetricWarning: Recall and F-score are ill-defined and being set to 0.0 in labels with no true samples. Use `zero_division` parameter to control this behavior.\n",
      "  _warn_prf(average, modifier, msg_start, len(result))\n"
     ]
    },
    {
     "name": "stdout",
     "output_type": "stream",
     "text": [
      "Epoch 1/5\n",
      "54/54 [==============================] - 11s 202ms/step - loss: 0.0083 - accuracy: 0.9977 - val_loss: 9.3407 - val_accuracy: 0.5919\n",
      "Epoch 2/5\n",
      "54/54 [==============================] - 11s 200ms/step - loss: 0.0080 - accuracy: 0.9980 - val_loss: 9.3041 - val_accuracy: 0.5924\n",
      "Epoch 3/5\n",
      "54/54 [==============================] - 11s 203ms/step - loss: 0.0075 - accuracy: 0.9980 - val_loss: 9.3039 - val_accuracy: 0.5923\n",
      "Epoch 4/5\n",
      "54/54 [==============================] - 11s 201ms/step - loss: 0.0080 - accuracy: 0.9979 - val_loss: 9.3237 - val_accuracy: 0.5924\n",
      "Epoch 5/5\n",
      "54/54 [==============================] - 11s 199ms/step - loss: 0.0073 - accuracy: 0.9981 - val_loss: 9.4969 - val_accuracy: 0.5926\n",
      "Epoch 1/5\n",
      "54/54 [==============================] - 11s 209ms/step - loss: 0.0080 - accuracy: 0.9974 - val_loss: 8.8697 - val_accuracy: 0.5927\n",
      "Epoch 2/5\n",
      "54/54 [==============================] - 11s 201ms/step - loss: 0.0072 - accuracy: 0.9979 - val_loss: 8.9188 - val_accuracy: 0.5920\n",
      "Epoch 3/5\n",
      "54/54 [==============================] - 11s 199ms/step - loss: 0.0073 - accuracy: 0.9978 - val_loss: 8.7434 - val_accuracy: 0.5931\n",
      "Epoch 4/5\n",
      "54/54 [==============================] - 11s 200ms/step - loss: 0.0070 - accuracy: 0.9979 - val_loss: 8.9028 - val_accuracy: 0.5924\n",
      "Epoch 5/5\n",
      "54/54 [==============================] - 11s 201ms/step - loss: 0.0071 - accuracy: 0.9979 - val_loss: 9.0831 - val_accuracy: 0.5936\n",
      "Epoch 1/5\n",
      "54/54 [==============================] - 11s 205ms/step - loss: 0.0072 - accuracy: 0.9977 - val_loss: 8.8548 - val_accuracy: 0.5942\n",
      "Epoch 2/5\n",
      "54/54 [==============================] - 11s 204ms/step - loss: 0.0069 - accuracy: 0.9978 - val_loss: 9.0477 - val_accuracy: 0.5946\n",
      "Epoch 3/5\n",
      "54/54 [==============================] - 12s 230ms/step - loss: 0.0070 - accuracy: 0.9978 - val_loss: 8.7882 - val_accuracy: 0.5942\n",
      "Epoch 4/5\n",
      "54/54 [==============================] - 12s 220ms/step - loss: 0.0071 - accuracy: 0.9977 - val_loss: 8.7744 - val_accuracy: 0.5945\n",
      "Epoch 5/5\n",
      "54/54 [==============================] - 12s 215ms/step - loss: 0.0068 - accuracy: 0.9979 - val_loss: 8.9386 - val_accuracy: 0.5955\n",
      "  14/4279 [..............................] - ETA: 15s - loss: 2.3180 - accuracy: 0.5469"
     ]
    },
    {
     "name": "stderr",
     "output_type": "stream",
     "text": [
      "c:\\Users\\UX430\\anaconda3\\lib\\site-packages\\numpy\\core\\_asarray.py:171: VisibleDeprecationWarning: Creating an ndarray from ragged nested sequences (which is a list-or-tuple of lists-or-tuples-or ndarrays with different lengths or shapes) is deprecated. If you meant to do this, you must specify 'dtype=object' when creating the ndarray.\n",
      "  return array(a, dtype, copy=False, order=order, subok=True)\n"
     ]
    },
    {
     "name": "stdout",
     "output_type": "stream",
     "text": [
      "4279/4279 [==============================] - 16s 4ms/step - loss: 2.5232 - accuracy: 0.5315\n"
     ]
    },
    {
     "name": "stderr",
     "output_type": "stream",
     "text": [
      "c:\\Users\\UX430\\anaconda3\\lib\\site-packages\\sklearn\\metrics\\_classification.py:1308: UndefinedMetricWarning: Precision and F-score are ill-defined and being set to 0.0 in labels with no predicted samples. Use `zero_division` parameter to control this behavior.\n",
      "  _warn_prf(average, modifier, msg_start, len(result))\n",
      "c:\\Users\\UX430\\anaconda3\\lib\\site-packages\\sklearn\\metrics\\_classification.py:1308: UndefinedMetricWarning: Recall and F-score are ill-defined and being set to 0.0 in labels with no true samples. Use `zero_division` parameter to control this behavior.\n",
      "  _warn_prf(average, modifier, msg_start, len(result))\n",
      "c:\\Users\\UX430\\anaconda3\\lib\\site-packages\\sklearn\\metrics\\_classification.py:1308: UndefinedMetricWarning: Precision and F-score are ill-defined and being set to 0.0 in labels with no predicted samples. Use `zero_division` parameter to control this behavior.\n",
      "  _warn_prf(average, modifier, msg_start, len(result))\n",
      "c:\\Users\\UX430\\anaconda3\\lib\\site-packages\\sklearn\\metrics\\_classification.py:1308: UndefinedMetricWarning: Recall and F-score are ill-defined and being set to 0.0 in labels with no true samples. Use `zero_division` parameter to control this behavior.\n",
      "  _warn_prf(average, modifier, msg_start, len(result))\n",
      "c:\\Users\\UX430\\anaconda3\\lib\\site-packages\\sklearn\\metrics\\_classification.py:1308: UndefinedMetricWarning: Precision and F-score are ill-defined and being set to 0.0 in labels with no predicted samples. Use `zero_division` parameter to control this behavior.\n",
      "  _warn_prf(average, modifier, msg_start, len(result))\n",
      "c:\\Users\\UX430\\anaconda3\\lib\\site-packages\\sklearn\\metrics\\_classification.py:1308: UndefinedMetricWarning: Recall and F-score are ill-defined and being set to 0.0 in labels with no true samples. Use `zero_division` parameter to control this behavior.\n",
      "  _warn_prf(average, modifier, msg_start, len(result))\n"
     ]
    },
    {
     "name": "stdout",
     "output_type": "stream",
     "text": [
      "1721/1721 [==============================] - 7s 4ms/step - loss: 9.0838 - accuracy: 0.5591\n"
     ]
    },
    {
     "name": "stderr",
     "output_type": "stream",
     "text": [
      "c:\\Users\\UX430\\anaconda3\\lib\\site-packages\\sklearn\\metrics\\_classification.py:1308: UndefinedMetricWarning: Precision and F-score are ill-defined and being set to 0.0 in labels with no predicted samples. Use `zero_division` parameter to control this behavior.\n",
      "  _warn_prf(average, modifier, msg_start, len(result))\n",
      "c:\\Users\\UX430\\anaconda3\\lib\\site-packages\\sklearn\\metrics\\_classification.py:1308: UndefinedMetricWarning: Recall and F-score are ill-defined and being set to 0.0 in labels with no true samples. Use `zero_division` parameter to control this behavior.\n",
      "  _warn_prf(average, modifier, msg_start, len(result))\n",
      "c:\\Users\\UX430\\anaconda3\\lib\\site-packages\\sklearn\\metrics\\_classification.py:1308: UndefinedMetricWarning: Precision and F-score are ill-defined and being set to 0.0 in labels with no predicted samples. Use `zero_division` parameter to control this behavior.\n",
      "  _warn_prf(average, modifier, msg_start, len(result))\n",
      "c:\\Users\\UX430\\anaconda3\\lib\\site-packages\\sklearn\\metrics\\_classification.py:1308: UndefinedMetricWarning: Recall and F-score are ill-defined and being set to 0.0 in labels with no true samples. Use `zero_division` parameter to control this behavior.\n",
      "  _warn_prf(average, modifier, msg_start, len(result))\n",
      "c:\\Users\\UX430\\anaconda3\\lib\\site-packages\\sklearn\\metrics\\_classification.py:1308: UndefinedMetricWarning: Precision and F-score are ill-defined and being set to 0.0 in labels with no predicted samples. Use `zero_division` parameter to control this behavior.\n",
      "  _warn_prf(average, modifier, msg_start, len(result))\n",
      "c:\\Users\\UX430\\anaconda3\\lib\\site-packages\\sklearn\\metrics\\_classification.py:1308: UndefinedMetricWarning: Recall and F-score are ill-defined and being set to 0.0 in labels with no true samples. Use `zero_division` parameter to control this behavior.\n",
      "  _warn_prf(average, modifier, msg_start, len(result))\n"
     ]
    },
    {
     "name": "stdout",
     "output_type": "stream",
     "text": [
      "Epoch 1/5\n",
      "54/54 [==============================] - 11s 204ms/step - loss: 0.0082 - accuracy: 0.9979 - val_loss: 8.8762 - val_accuracy: 0.5924\n",
      "Epoch 2/5\n",
      "54/54 [==============================] - 11s 201ms/step - loss: 0.0074 - accuracy: 0.9980 - val_loss: 8.8559 - val_accuracy: 0.5927\n",
      "Epoch 3/5\n",
      "54/54 [==============================] - 11s 211ms/step - loss: 0.0075 - accuracy: 0.9980 - val_loss: 8.7230 - val_accuracy: 0.5912\n",
      "Epoch 4/5\n",
      "54/54 [==============================] - 11s 203ms/step - loss: 0.0067 - accuracy: 0.9980 - val_loss: 8.9006 - val_accuracy: 0.5923\n",
      "Epoch 5/5\n",
      "54/54 [==============================] - 11s 201ms/step - loss: 0.0074 - accuracy: 0.9981 - val_loss: 8.9403 - val_accuracy: 0.5920\n",
      "Epoch 1/5\n",
      "54/54 [==============================] - 11s 203ms/step - loss: 0.0074 - accuracy: 0.9976 - val_loss: 8.4929 - val_accuracy: 0.5925\n",
      "Epoch 2/5\n",
      "54/54 [==============================] - 11s 206ms/step - loss: 0.0070 - accuracy: 0.9979 - val_loss: 8.7834 - val_accuracy: 0.5934\n",
      "Epoch 3/5\n",
      "54/54 [==============================] - 11s 203ms/step - loss: 0.0069 - accuracy: 0.9980 - val_loss: 8.7684 - val_accuracy: 0.5936\n",
      "Epoch 4/5\n",
      "54/54 [==============================] - 11s 203ms/step - loss: 0.0069 - accuracy: 0.9980 - val_loss: 8.7362 - val_accuracy: 0.5935\n",
      "Epoch 5/5\n",
      "54/54 [==============================] - 11s 203ms/step - loss: 0.0069 - accuracy: 0.9980 - val_loss: 8.7586 - val_accuracy: 0.5935\n",
      "Epoch 1/5\n",
      "54/54 [==============================] - 11s 203ms/step - loss: 0.0070 - accuracy: 0.9977 - val_loss: 8.5098 - val_accuracy: 0.5952\n",
      "Epoch 2/5\n",
      "54/54 [==============================] - 11s 201ms/step - loss: 0.0071 - accuracy: 0.9976 - val_loss: 8.3842 - val_accuracy: 0.5952\n",
      "Epoch 3/5\n",
      "54/54 [==============================] - 11s 199ms/step - loss: 0.0066 - accuracy: 0.9980 - val_loss: 8.4921 - val_accuracy: 0.5951\n",
      "Epoch 4/5\n",
      "54/54 [==============================] - 11s 203ms/step - loss: 0.0066 - accuracy: 0.9980 - val_loss: 8.4754 - val_accuracy: 0.5942\n",
      "Epoch 5/5\n",
      "54/54 [==============================] - 11s 204ms/step - loss: 0.0066 - accuracy: 0.9980 - val_loss: 8.4871 - val_accuracy: 0.5944\n",
      "  29/4279 [..............................] - ETA: 15s - loss: 2.5853 - accuracy: 0.5463"
     ]
    },
    {
     "name": "stderr",
     "output_type": "stream",
     "text": [
      "c:\\Users\\UX430\\anaconda3\\lib\\site-packages\\numpy\\core\\_asarray.py:171: VisibleDeprecationWarning: Creating an ndarray from ragged nested sequences (which is a list-or-tuple of lists-or-tuples-or ndarrays with different lengths or shapes) is deprecated. If you meant to do this, you must specify 'dtype=object' when creating the ndarray.\n",
      "  return array(a, dtype, copy=False, order=order, subok=True)\n"
     ]
    },
    {
     "name": "stdout",
     "output_type": "stream",
     "text": [
      "4279/4279 [==============================] - 16s 4ms/step - loss: 2.8231 - accuracy: 0.5318\n",
      "   1/1721 [..............................] - ETA: 0s - loss: 17.1661 - accuracy: 0.0000e+00"
     ]
    },
    {
     "name": "stderr",
     "output_type": "stream",
     "text": [
      "c:\\Users\\UX430\\anaconda3\\lib\\site-packages\\sklearn\\metrics\\_classification.py:1308: UndefinedMetricWarning: Precision and F-score are ill-defined and being set to 0.0 in labels with no predicted samples. Use `zero_division` parameter to control this behavior.\n",
      "  _warn_prf(average, modifier, msg_start, len(result))\n",
      "c:\\Users\\UX430\\anaconda3\\lib\\site-packages\\sklearn\\metrics\\_classification.py:1308: UndefinedMetricWarning: Recall and F-score are ill-defined and being set to 0.0 in labels with no true samples. Use `zero_division` parameter to control this behavior.\n",
      "  _warn_prf(average, modifier, msg_start, len(result))\n",
      "c:\\Users\\UX430\\anaconda3\\lib\\site-packages\\sklearn\\metrics\\_classification.py:1308: UndefinedMetricWarning: Precision and F-score are ill-defined and being set to 0.0 in labels with no predicted samples. Use `zero_division` parameter to control this behavior.\n",
      "  _warn_prf(average, modifier, msg_start, len(result))\n",
      "c:\\Users\\UX430\\anaconda3\\lib\\site-packages\\sklearn\\metrics\\_classification.py:1308: UndefinedMetricWarning: Recall and F-score are ill-defined and being set to 0.0 in labels with no true samples. Use `zero_division` parameter to control this behavior.\n",
      "  _warn_prf(average, modifier, msg_start, len(result))\n",
      "c:\\Users\\UX430\\anaconda3\\lib\\site-packages\\sklearn\\metrics\\_classification.py:1308: UndefinedMetricWarning: Precision and F-score are ill-defined and being set to 0.0 in labels with no predicted samples. Use `zero_division` parameter to control this behavior.\n",
      "  _warn_prf(average, modifier, msg_start, len(result))\n",
      "c:\\Users\\UX430\\anaconda3\\lib\\site-packages\\sklearn\\metrics\\_classification.py:1308: UndefinedMetricWarning: Recall and F-score are ill-defined and being set to 0.0 in labels with no true samples. Use `zero_division` parameter to control this behavior.\n",
      "  _warn_prf(average, modifier, msg_start, len(result))\n"
     ]
    },
    {
     "name": "stdout",
     "output_type": "stream",
     "text": [
      "1721/1721 [==============================] - 7s 4ms/step - loss: 8.8444 - accuracy: 0.5593\n"
     ]
    },
    {
     "name": "stderr",
     "output_type": "stream",
     "text": [
      "c:\\Users\\UX430\\anaconda3\\lib\\site-packages\\sklearn\\metrics\\_classification.py:1308: UndefinedMetricWarning: Precision and F-score are ill-defined and being set to 0.0 in labels with no predicted samples. Use `zero_division` parameter to control this behavior.\n",
      "  _warn_prf(average, modifier, msg_start, len(result))\n",
      "c:\\Users\\UX430\\anaconda3\\lib\\site-packages\\sklearn\\metrics\\_classification.py:1308: UndefinedMetricWarning: Recall and F-score are ill-defined and being set to 0.0 in labels with no true samples. Use `zero_division` parameter to control this behavior.\n",
      "  _warn_prf(average, modifier, msg_start, len(result))\n",
      "c:\\Users\\UX430\\anaconda3\\lib\\site-packages\\sklearn\\metrics\\_classification.py:1308: UndefinedMetricWarning: Precision and F-score are ill-defined and being set to 0.0 in labels with no predicted samples. Use `zero_division` parameter to control this behavior.\n",
      "  _warn_prf(average, modifier, msg_start, len(result))\n",
      "c:\\Users\\UX430\\anaconda3\\lib\\site-packages\\sklearn\\metrics\\_classification.py:1308: UndefinedMetricWarning: Recall and F-score are ill-defined and being set to 0.0 in labels with no true samples. Use `zero_division` parameter to control this behavior.\n",
      "  _warn_prf(average, modifier, msg_start, len(result))\n",
      "c:\\Users\\UX430\\anaconda3\\lib\\site-packages\\sklearn\\metrics\\_classification.py:1308: UndefinedMetricWarning: Precision and F-score are ill-defined and being set to 0.0 in labels with no predicted samples. Use `zero_division` parameter to control this behavior.\n",
      "  _warn_prf(average, modifier, msg_start, len(result))\n",
      "c:\\Users\\UX430\\anaconda3\\lib\\site-packages\\sklearn\\metrics\\_classification.py:1308: UndefinedMetricWarning: Recall and F-score are ill-defined and being set to 0.0 in labels with no true samples. Use `zero_division` parameter to control this behavior.\n",
      "  _warn_prf(average, modifier, msg_start, len(result))\n"
     ]
    },
    {
     "name": "stdout",
     "output_type": "stream",
     "text": [
      "Epoch 1/5\n",
      "54/54 [==============================] - 11s 207ms/step - loss: 0.0072 - accuracy: 0.9981 - val_loss: 8.6183 - val_accuracy: 0.5923\n",
      "Epoch 2/5\n",
      "54/54 [==============================] - 11s 211ms/step - loss: 0.0071 - accuracy: 0.9983 - val_loss: 8.7173 - val_accuracy: 0.5922\n",
      "Epoch 3/5\n",
      "54/54 [==============================] - 11s 203ms/step - loss: 0.0073 - accuracy: 0.9983 - val_loss: 8.8928 - val_accuracy: 0.5919\n",
      "Epoch 4/5\n",
      "54/54 [==============================] - 11s 203ms/step - loss: 0.0070 - accuracy: 0.9981 - val_loss: 8.7413 - val_accuracy: 0.5921\n",
      "Epoch 5/5\n",
      "54/54 [==============================] - 11s 209ms/step - loss: 0.0066 - accuracy: 0.9983 - val_loss: 8.6781 - val_accuracy: 0.5912\n",
      "Epoch 1/5\n",
      "54/54 [==============================] - 11s 202ms/step - loss: 0.0071 - accuracy: 0.9977 - val_loss: 8.4945 - val_accuracy: 0.5928\n",
      "Epoch 2/5\n",
      "54/54 [==============================] - 11s 211ms/step - loss: 0.0067 - accuracy: 0.9980 - val_loss: 8.5656 - val_accuracy: 0.5926\n",
      "Epoch 3/5\n",
      "54/54 [==============================] - 11s 206ms/step - loss: 0.0065 - accuracy: 0.9981 - val_loss: 8.6338 - val_accuracy: 0.5926\n",
      "Epoch 4/5\n",
      "54/54 [==============================] - 11s 205ms/step - loss: 0.0066 - accuracy: 0.9980 - val_loss: 8.5966 - val_accuracy: 0.5930\n",
      "Epoch 5/5\n",
      "54/54 [==============================] - 11s 203ms/step - loss: 0.0067 - accuracy: 0.9980 - val_loss: 8.6902 - val_accuracy: 0.5928\n",
      "Epoch 1/5\n",
      "54/54 [==============================] - 11s 203ms/step - loss: 0.0074 - accuracy: 0.9976 - val_loss: 8.2489 - val_accuracy: 0.5951\n",
      "Epoch 2/5\n",
      "54/54 [==============================] - 11s 206ms/step - loss: 0.0065 - accuracy: 0.9980 - val_loss: 8.3897 - val_accuracy: 0.5946\n",
      "Epoch 3/5\n",
      "54/54 [==============================] - 11s 205ms/step - loss: 0.0066 - accuracy: 0.9980 - val_loss: 8.6550 - val_accuracy: 0.5955\n",
      "Epoch 4/5\n",
      "54/54 [==============================] - 11s 210ms/step - loss: 0.0066 - accuracy: 0.9979 - val_loss: 8.3741 - val_accuracy: 0.5944\n",
      "Epoch 5/5\n",
      "54/54 [==============================] - 11s 207ms/step - loss: 0.0063 - accuracy: 0.9979 - val_loss: 8.3943 - val_accuracy: 0.5947\n",
      "  27/4279 [..............................] - ETA: 16s - loss: 3.2964 - accuracy: 0.5428"
     ]
    },
    {
     "name": "stderr",
     "output_type": "stream",
     "text": [
      "c:\\Users\\UX430\\anaconda3\\lib\\site-packages\\numpy\\core\\_asarray.py:171: VisibleDeprecationWarning: Creating an ndarray from ragged nested sequences (which is a list-or-tuple of lists-or-tuples-or ndarrays with different lengths or shapes) is deprecated. If you meant to do this, you must specify 'dtype=object' when creating the ndarray.\n",
      "  return array(a, dtype, copy=False, order=order, subok=True)\n"
     ]
    },
    {
     "name": "stdout",
     "output_type": "stream",
     "text": [
      "4279/4279 [==============================] - 16s 4ms/step - loss: 3.4998 - accuracy: 0.5320\n",
      "   1/1721 [..............................] - ETA: 0s - loss: 16.9932 - accuracy: 0.0000e+00"
     ]
    },
    {
     "name": "stderr",
     "output_type": "stream",
     "text": [
      "c:\\Users\\UX430\\anaconda3\\lib\\site-packages\\sklearn\\metrics\\_classification.py:1308: UndefinedMetricWarning: Precision and F-score are ill-defined and being set to 0.0 in labels with no predicted samples. Use `zero_division` parameter to control this behavior.\n",
      "  _warn_prf(average, modifier, msg_start, len(result))\n",
      "c:\\Users\\UX430\\anaconda3\\lib\\site-packages\\sklearn\\metrics\\_classification.py:1308: UndefinedMetricWarning: Recall and F-score are ill-defined and being set to 0.0 in labels with no true samples. Use `zero_division` parameter to control this behavior.\n",
      "  _warn_prf(average, modifier, msg_start, len(result))\n",
      "c:\\Users\\UX430\\anaconda3\\lib\\site-packages\\sklearn\\metrics\\_classification.py:1308: UndefinedMetricWarning: Precision and F-score are ill-defined and being set to 0.0 in labels with no predicted samples. Use `zero_division` parameter to control this behavior.\n",
      "  _warn_prf(average, modifier, msg_start, len(result))\n",
      "c:\\Users\\UX430\\anaconda3\\lib\\site-packages\\sklearn\\metrics\\_classification.py:1308: UndefinedMetricWarning: Recall and F-score are ill-defined and being set to 0.0 in labels with no true samples. Use `zero_division` parameter to control this behavior.\n",
      "  _warn_prf(average, modifier, msg_start, len(result))\n",
      "c:\\Users\\UX430\\anaconda3\\lib\\site-packages\\sklearn\\metrics\\_classification.py:1308: UndefinedMetricWarning: Precision and F-score are ill-defined and being set to 0.0 in labels with no predicted samples. Use `zero_division` parameter to control this behavior.\n",
      "  _warn_prf(average, modifier, msg_start, len(result))\n",
      "c:\\Users\\UX430\\anaconda3\\lib\\site-packages\\sklearn\\metrics\\_classification.py:1308: UndefinedMetricWarning: Recall and F-score are ill-defined and being set to 0.0 in labels with no true samples. Use `zero_division` parameter to control this behavior.\n",
      "  _warn_prf(average, modifier, msg_start, len(result))\n"
     ]
    },
    {
     "name": "stdout",
     "output_type": "stream",
     "text": [
      "1721/1721 [==============================] - 6s 4ms/step - loss: 8.8845 - accuracy: 0.5598\n"
     ]
    },
    {
     "name": "stderr",
     "output_type": "stream",
     "text": [
      "c:\\Users\\UX430\\anaconda3\\lib\\site-packages\\sklearn\\metrics\\_classification.py:1308: UndefinedMetricWarning: Precision and F-score are ill-defined and being set to 0.0 in labels with no predicted samples. Use `zero_division` parameter to control this behavior.\n",
      "  _warn_prf(average, modifier, msg_start, len(result))\n",
      "c:\\Users\\UX430\\anaconda3\\lib\\site-packages\\sklearn\\metrics\\_classification.py:1308: UndefinedMetricWarning: Recall and F-score are ill-defined and being set to 0.0 in labels with no true samples. Use `zero_division` parameter to control this behavior.\n",
      "  _warn_prf(average, modifier, msg_start, len(result))\n",
      "c:\\Users\\UX430\\anaconda3\\lib\\site-packages\\sklearn\\metrics\\_classification.py:1308: UndefinedMetricWarning: Precision and F-score are ill-defined and being set to 0.0 in labels with no predicted samples. Use `zero_division` parameter to control this behavior.\n",
      "  _warn_prf(average, modifier, msg_start, len(result))\n",
      "c:\\Users\\UX430\\anaconda3\\lib\\site-packages\\sklearn\\metrics\\_classification.py:1308: UndefinedMetricWarning: Recall and F-score are ill-defined and being set to 0.0 in labels with no true samples. Use `zero_division` parameter to control this behavior.\n",
      "  _warn_prf(average, modifier, msg_start, len(result))\n",
      "c:\\Users\\UX430\\anaconda3\\lib\\site-packages\\sklearn\\metrics\\_classification.py:1308: UndefinedMetricWarning: Precision and F-score are ill-defined and being set to 0.0 in labels with no predicted samples. Use `zero_division` parameter to control this behavior.\n",
      "  _warn_prf(average, modifier, msg_start, len(result))\n",
      "c:\\Users\\UX430\\anaconda3\\lib\\site-packages\\sklearn\\metrics\\_classification.py:1308: UndefinedMetricWarning: Recall and F-score are ill-defined and being set to 0.0 in labels with no true samples. Use `zero_division` parameter to control this behavior.\n",
      "  _warn_prf(average, modifier, msg_start, len(result))\n"
     ]
    },
    {
     "name": "stdout",
     "output_type": "stream",
     "text": [
      "Epoch 1/5\n",
      "54/54 [==============================] - 11s 206ms/step - loss: 0.0068 - accuracy: 0.9982 - val_loss: 8.6284 - val_accuracy: 0.5916\n",
      "Epoch 2/5\n",
      "54/54 [==============================] - 11s 206ms/step - loss: 0.0065 - accuracy: 0.9983 - val_loss: 8.6465 - val_accuracy: 0.5917\n",
      "Epoch 3/5\n",
      "54/54 [==============================] - 11s 209ms/step - loss: 0.0069 - accuracy: 0.9982 - val_loss: 8.6035 - val_accuracy: 0.5911\n",
      "Epoch 4/5\n",
      "54/54 [==============================] - 12s 217ms/step - loss: 0.0066 - accuracy: 0.9983 - val_loss: 8.9185 - val_accuracy: 0.5927\n",
      "Epoch 5/5\n",
      "54/54 [==============================] - 11s 207ms/step - loss: 0.0065 - accuracy: 0.9982 - val_loss: 8.8187 - val_accuracy: 0.5924\n",
      "Epoch 1/5\n",
      "54/54 [==============================] - 12s 214ms/step - loss: 0.0069 - accuracy: 0.9979 - val_loss: 8.4927 - val_accuracy: 0.5929\n",
      "Epoch 2/5\n",
      "54/54 [==============================] - 12s 220ms/step - loss: 0.0068 - accuracy: 0.9979 - val_loss: 8.5891 - val_accuracy: 0.5934\n",
      "Epoch 3/5\n",
      "54/54 [==============================] - 12s 227ms/step - loss: 0.0066 - accuracy: 0.9979 - val_loss: 8.5242 - val_accuracy: 0.5933\n",
      "Epoch 4/5\n",
      "54/54 [==============================] - 14s 251ms/step - loss: 0.0062 - accuracy: 0.9981 - val_loss: 8.4142 - val_accuracy: 0.5926\n",
      "Epoch 5/5\n",
      "54/54 [==============================] - 13s 247ms/step - loss: 0.0063 - accuracy: 0.9981 - val_loss: 8.8352 - val_accuracy: 0.5936\n",
      "Epoch 1/5\n",
      "54/54 [==============================] - 13s 245ms/step - loss: 0.0067 - accuracy: 0.9978 - val_loss: 8.6444 - val_accuracy: 0.5949\n",
      "Epoch 2/5\n",
      "54/54 [==============================] - 14s 264ms/step - loss: 0.0064 - accuracy: 0.9980 - val_loss: 8.3093 - val_accuracy: 0.5948\n",
      "Epoch 3/5\n",
      "54/54 [==============================] - 14s 265ms/step - loss: 0.0063 - accuracy: 0.9981 - val_loss: 8.6240 - val_accuracy: 0.5952\n",
      "Epoch 4/5\n",
      "54/54 [==============================] - 13s 232ms/step - loss: 0.0060 - accuracy: 0.9981 - val_loss: 8.5857 - val_accuracy: 0.5947\n",
      "Epoch 5/5\n",
      "54/54 [==============================] - 13s 243ms/step - loss: 0.0063 - accuracy: 0.9981 - val_loss: 8.4185 - val_accuracy: 0.5949\n",
      "  24/4279 [..............................] - ETA: 18s - loss: 3.5494 - accuracy: 0.5352"
     ]
    },
    {
     "name": "stderr",
     "output_type": "stream",
     "text": [
      "c:\\Users\\UX430\\anaconda3\\lib\\site-packages\\numpy\\core\\_asarray.py:171: VisibleDeprecationWarning: Creating an ndarray from ragged nested sequences (which is a list-or-tuple of lists-or-tuples-or ndarrays with different lengths or shapes) is deprecated. If you meant to do this, you must specify 'dtype=object' when creating the ndarray.\n",
      "  return array(a, dtype, copy=False, order=order, subok=True)\n"
     ]
    },
    {
     "name": "stdout",
     "output_type": "stream",
     "text": [
      "4279/4279 [==============================] - 18s 4ms/step - loss: 3.6630 - accuracy: 0.5313\n",
      "   1/1721 [..............................] - ETA: 0s - loss: 16.9597 - accuracy: 0.0000e+00"
     ]
    },
    {
     "name": "stderr",
     "output_type": "stream",
     "text": [
      "c:\\Users\\UX430\\anaconda3\\lib\\site-packages\\sklearn\\metrics\\_classification.py:1308: UndefinedMetricWarning: Precision and F-score are ill-defined and being set to 0.0 in labels with no predicted samples. Use `zero_division` parameter to control this behavior.\n",
      "  _warn_prf(average, modifier, msg_start, len(result))\n",
      "c:\\Users\\UX430\\anaconda3\\lib\\site-packages\\sklearn\\metrics\\_classification.py:1308: UndefinedMetricWarning: Recall and F-score are ill-defined and being set to 0.0 in labels with no true samples. Use `zero_division` parameter to control this behavior.\n",
      "  _warn_prf(average, modifier, msg_start, len(result))\n",
      "c:\\Users\\UX430\\anaconda3\\lib\\site-packages\\sklearn\\metrics\\_classification.py:1308: UndefinedMetricWarning: Precision and F-score are ill-defined and being set to 0.0 in labels with no predicted samples. Use `zero_division` parameter to control this behavior.\n",
      "  _warn_prf(average, modifier, msg_start, len(result))\n",
      "c:\\Users\\UX430\\anaconda3\\lib\\site-packages\\sklearn\\metrics\\_classification.py:1308: UndefinedMetricWarning: Recall and F-score are ill-defined and being set to 0.0 in labels with no true samples. Use `zero_division` parameter to control this behavior.\n",
      "  _warn_prf(average, modifier, msg_start, len(result))\n",
      "c:\\Users\\UX430\\anaconda3\\lib\\site-packages\\sklearn\\metrics\\_classification.py:1308: UndefinedMetricWarning: Precision and F-score are ill-defined and being set to 0.0 in labels with no predicted samples. Use `zero_division` parameter to control this behavior.\n",
      "  _warn_prf(average, modifier, msg_start, len(result))\n",
      "c:\\Users\\UX430\\anaconda3\\lib\\site-packages\\sklearn\\metrics\\_classification.py:1308: UndefinedMetricWarning: Recall and F-score are ill-defined and being set to 0.0 in labels with no true samples. Use `zero_division` parameter to control this behavior.\n",
      "  _warn_prf(average, modifier, msg_start, len(result))\n"
     ]
    },
    {
     "name": "stdout",
     "output_type": "stream",
     "text": [
      "1721/1721 [==============================] - 6s 4ms/step - loss: 9.0108 - accuracy: 0.5592\n"
     ]
    },
    {
     "name": "stderr",
     "output_type": "stream",
     "text": [
      "c:\\Users\\UX430\\anaconda3\\lib\\site-packages\\sklearn\\metrics\\_classification.py:1308: UndefinedMetricWarning: Precision and F-score are ill-defined and being set to 0.0 in labels with no predicted samples. Use `zero_division` parameter to control this behavior.\n",
      "  _warn_prf(average, modifier, msg_start, len(result))\n",
      "c:\\Users\\UX430\\anaconda3\\lib\\site-packages\\sklearn\\metrics\\_classification.py:1308: UndefinedMetricWarning: Recall and F-score are ill-defined and being set to 0.0 in labels with no true samples. Use `zero_division` parameter to control this behavior.\n",
      "  _warn_prf(average, modifier, msg_start, len(result))\n",
      "c:\\Users\\UX430\\anaconda3\\lib\\site-packages\\sklearn\\metrics\\_classification.py:1308: UndefinedMetricWarning: Precision and F-score are ill-defined and being set to 0.0 in labels with no predicted samples. Use `zero_division` parameter to control this behavior.\n",
      "  _warn_prf(average, modifier, msg_start, len(result))\n",
      "c:\\Users\\UX430\\anaconda3\\lib\\site-packages\\sklearn\\metrics\\_classification.py:1308: UndefinedMetricWarning: Recall and F-score are ill-defined and being set to 0.0 in labels with no true samples. Use `zero_division` parameter to control this behavior.\n",
      "  _warn_prf(average, modifier, msg_start, len(result))\n",
      "c:\\Users\\UX430\\anaconda3\\lib\\site-packages\\sklearn\\metrics\\_classification.py:1308: UndefinedMetricWarning: Precision and F-score are ill-defined and being set to 0.0 in labels with no predicted samples. Use `zero_division` parameter to control this behavior.\n",
      "  _warn_prf(average, modifier, msg_start, len(result))\n",
      "c:\\Users\\UX430\\anaconda3\\lib\\site-packages\\sklearn\\metrics\\_classification.py:1308: UndefinedMetricWarning: Recall and F-score are ill-defined and being set to 0.0 in labels with no true samples. Use `zero_division` parameter to control this behavior.\n",
      "  _warn_prf(average, modifier, msg_start, len(result))\n"
     ]
    }
   ],
   "source": [
    "# Values saved each iteration \n",
    "loss_it = []\n",
    "accuracy_it = []\n",
    "f1_it = []\n",
    "precision_it = []\n",
    "recall_it = []\n",
    "\n",
    "for i in range(global_updates): \n",
    "    w_list = []\n",
    "    for node in range(num_nodes): \n",
    "        cp = global_model # create a copy of the global model\n",
    "        if node == 0:\n",
    "            x, y = x1, y1\n",
    "        elif node == 1:\n",
    "            x, y = x2, y2\n",
    "        else:\n",
    "            x, y = x3, y3\n",
    "        local_model, local_loss, local_acc, local_val_loss, local_val_acc = train_local_model(cp, node, x, y)\n",
    "        w_list.append(local_model.get_weights())\n",
    "\n",
    "    avg_w = aggregate(w_list)\n",
    "    global_model.set_weights(avg_w) # apply gradients to global model\n",
    "    loss_basic, accuracy_basic, f1_basic, precision_basic, recall_basic = evaluation(global_model, xbasic, ybasic) # Evaluate with test basic to know progress\n",
    "    loss_plus, accuracy_plus, f1_plus, precision_plus, recall_plus = evaluation(global_model, xplus, yplus) # Evaluate with test plus to know progress\n",
    "\n",
    "    loss_it.append([loss_basic, loss_plus])\n",
    "    accuracy_it.append([accuracy_basic, accuracy_plus])\n",
    "    f1_it.append([f1_basic, f1_plus])\n",
    "    precision_it.append([precision_basic, precision_plus])\n",
    "    recall_it.append([recall_basic, recall_plus])\n",
    "\n",
    "\n",
    "global_model.save('C:/Users/UX430/Documents/thesis/code/models/id312.hdf5')"
   ]
  },
  {
   "cell_type": "code",
   "execution_count": 20,
   "metadata": {},
   "outputs": [
    {
     "name": "stdout",
     "output_type": "stream",
     "text": [
      "Loss for iterations:  [[1.5571002960205078, 7.499985218048096], [1.7192085981369019, 7.326535224914551], [1.9162622690200806, 7.677500247955322], [2.0788421630859375, 8.614826202392578], [2.2594287395477295, 9.404302597045898], [2.35416579246521, 9.411624908447266], [2.5231947898864746, 9.083773612976074], [2.823070526123047, 8.84437084197998], [3.499779462814331, 8.884505271911621], [3.66304087638855, 9.010758399963379]]\n",
      "Accuracy for iterations:  [[0.9113690257072449, 0.5521143674850464], [0.9057451486587524, 0.5541669726371765], [0.7759063839912415, 0.5557291507720947], [0.8789988160133362, 0.5581631660461426], [0.8540053963661194, 0.55907142162323], [0.612463116645813, 0.5590532422065735], [0.5314645767211914, 0.5590532422065735], [0.5318297147750854, 0.5593438744544983], [0.5319831371307373, 0.559798002243042], [0.531289279460907, 0.5591622591018677]]\n",
      "F1 for iterations:  [[0.8758920795313926, 0.514747600555372], [0.869579600890824, 0.48357539432348023], [0.7359487538277062, 0.44856167063430996], [0.842289035753134, 0.42117878529132347], [0.8174423824709905, 0.4183819914479593], [0.5275023034320993, 0.42181948088027255], [0.3878263479787369, 0.42111444136534454], [0.3868096305507976, 0.41630515748687946], [0.3864889435750822, 0.40999085052841944], [0.3880049053117798, 0.4130134636891433]]\n",
      "Precision for iterations:  [[0.8470599788837287, 0.4821181384773422], [0.8379227109381767, 0.42893612758697525], [0.7180465017171036, 0.376044757702756], [0.8095023125171645, 0.3381821297386948], [0.7881247980079769, 0.33426479017704214], [0.5794148547041997, 0.3386815249906965], [0.3361348705565878, 0.337773425001975], [0.3377465261673077, 0.33152549337123527], [0.33819380217356215, 0.3234362886830381], [0.33561237560675455, 0.3274321917124328]]\n",
      "Recall for iterations:  [[0.9113690145782816, 0.5521143646007411], [0.9057451283998948, 0.554166969410739], [0.7759063951619971, 0.5557291288236577], [0.8789988021852815, 0.558163191164717], [0.8540053755587368, 0.5590714233815302], [0.6124631160711678, 0.5590532587371939], [0.5314645476058313, 0.5590532587371939], [0.5318297350200123, 0.5593438930465742], [0.5319831137339682, 0.5597980091549808], [0.5312892576470245, 0.5591622466032115]]\n"
     ]
    }
   ],
   "source": [
    "print(\"Loss for iterations: \", loss_it)\n",
    "print(\"Accuracy for iterations: \", accuracy_it)\n",
    "print(\"F1 for iterations: \", f1_it)\n",
    "print(\"Precision for iterations: \", precision_it)\n",
    "print(\"Recall for iterations: \", recall_it)"
   ]
  },
  {
   "cell_type": "markdown",
   "metadata": {},
   "source": [
    "#### #Epochs = 5, #Iterations = 15"
   ]
  },
  {
   "cell_type": "code",
   "execution_count": 21,
   "metadata": {},
   "outputs": [
    {
     "name": "stderr",
     "output_type": "stream",
     "text": [
      "C:\\Users\\UX430\\AppData\\Local\\Temp/ipykernel_9376/1685572531.py:2: DtypeWarning: Columns (2,4) have mixed types. Specify dtype option on import or set low_memory=False.\n",
      "  training1 = pd.read_csv('C:/Users/UX430/Documents/thesis/datasets/UNSW-NB15/UNSW-NB15-Train-Basic-3C-Part1.csv')\n",
      "C:\\Users\\UX430\\AppData\\Local\\Temp/ipykernel_9376/1685572531.py:3: DtypeWarning: Columns (4) have mixed types. Specify dtype option on import or set low_memory=False.\n",
      "  training2 = pd.read_csv('C:/Users/UX430/Documents/thesis/datasets/UNSW-NB15/UNSW-NB15-Train-Basic-3C-Part2.csv')\n",
      "C:\\Users\\UX430\\AppData\\Local\\Temp/ipykernel_9376/1685572531.py:4: DtypeWarning: Columns (4) have mixed types. Specify dtype option on import or set low_memory=False.\n",
      "  training3 = pd.read_csv('C:/Users/UX430/Documents/thesis/datasets/UNSW-NB15/UNSW-NB15-Train-Basic-3C-Part3.csv')\n",
      "C:\\Users\\UX430\\AppData\\Local\\Temp/ipykernel_9376/1685572531.py:5: DtypeWarning: Columns (4) have mixed types. Specify dtype option on import or set low_memory=False.\n",
      "  test_basic = pd.read_csv('C:/Users/UX430/Documents/thesis/datasets/UNSW-NB15/UNSW-NB15-Test-Basic.csv')\n"
     ]
    }
   ],
   "source": [
    "# Load training datasets and testing datasets \n",
    "training1 = pd.read_csv('C:/Users/UX430/Documents/thesis/datasets/UNSW-NB15/UNSW-NB15-Train-Basic-3C-Part1.csv')\n",
    "training2 = pd.read_csv('C:/Users/UX430/Documents/thesis/datasets/UNSW-NB15/UNSW-NB15-Train-Basic-3C-Part2.csv')\n",
    "training3 = pd.read_csv('C:/Users/UX430/Documents/thesis/datasets/UNSW-NB15/UNSW-NB15-Train-Basic-3C-Part3.csv')\n",
    "test_basic = pd.read_csv('C:/Users/UX430/Documents/thesis/datasets/UNSW-NB15/UNSW-NB15-Test-Basic.csv')\n",
    "test_plus = pd.read_csv('C:/Users/UX430/Documents/thesis/datasets/UNSW-NB15/UNSW-NB15-Test+.csv')"
   ]
  },
  {
   "cell_type": "code",
   "execution_count": 22,
   "metadata": {},
   "outputs": [],
   "source": [
    "# Define \n",
    "node_datasets = [training1, training2, training3]\n",
    "num_nodes = 3\n",
    "global_updates = 15\n",
    "\n",
    "# Define model training parameters\n",
    "loss_fct = \"categorical_crossentropy\"\n",
    "metrics = ['accuracy']\n",
    "local_epochs = 5"
   ]
  },
  {
   "cell_type": "code",
   "execution_count": 23,
   "metadata": {},
   "outputs": [],
   "source": [
    "def train_local_model(model, node, x_train, y_train): \n",
    "    filepath = 'C:/Users/UX430/Documents/thesis/code/models/node'+str(node)+'ID313.hdf5'\n",
    "    callbacks = [\n",
    "            keras.callbacks.EarlyStopping(\n",
    "                monitor = 'val_loss', # Use accuracy to monitor the model\n",
    "                patience = 10 # Stop after 10 steps with lower accuracy\n",
    "            ),\n",
    "            keras.callbacks.ModelCheckpoint(\n",
    "                filepath = filepath, # file where the checkpoint is saved\n",
    "                monitor = 'val_loss', # Don't overwrite the saved model unless val_loss is worse\n",
    "                save_best_only = True)]# Only save model if it is the best\n",
    "    optimizer = keras.optimizers.Adam(learning_rate=5e-4)\n",
    "    model.compile(optimizer=optimizer, loss=loss_fct, metrics=metrics)\n",
    "    history = model.fit(x_train, y_train, epochs=local_epochs, validation_split=0.2, callbacks=callbacks, batch_size=2048)\n",
    "    return model, history.history['loss'], history.history['accuracy'], history.history['val_loss'], history.history['val_accuracy']"
   ]
  },
  {
   "cell_type": "code",
   "execution_count": 24,
   "metadata": {},
   "outputs": [],
   "source": [
    "def aggregate(w_list): \n",
    "    avg_w = np.mean(w_list, axis=0)\n",
    "    return avg_w"
   ]
  },
  {
   "cell_type": "code",
   "execution_count": 25,
   "metadata": {},
   "outputs": [],
   "source": [
    "global_model = build_model((24,1,1))"
   ]
  },
  {
   "cell_type": "code",
   "execution_count": 26,
   "metadata": {},
   "outputs": [],
   "source": [
    "x1, y1 = preprocessing(training1)\n",
    "x2, y2 = preprocessing(training2)\n",
    "x3, y3 = preprocessing(training3)\n",
    "xbasic, ybasic = preprocessing(test_basic)\n",
    "xplus, yplus = preprocessing(test_plus)"
   ]
  },
  {
   "cell_type": "code",
   "execution_count": 27,
   "metadata": {},
   "outputs": [
    {
     "name": "stdout",
     "output_type": "stream",
     "text": [
      "Epoch 1/5\n",
      "54/54 [==============================] - 11s 209ms/step - loss: 0.8375 - accuracy: 0.9079 - val_loss: 4.5796 - val_accuracy: 0.5857\n",
      "Epoch 2/5\n",
      "54/54 [==============================] - 12s 215ms/step - loss: 0.0528 - accuracy: 0.9919 - val_loss: 4.8642 - val_accuracy: 0.5859\n",
      "Epoch 3/5\n",
      "54/54 [==============================] - 11s 206ms/step - loss: 0.0295 - accuracy: 0.9926 - val_loss: 5.0439 - val_accuracy: 0.5862\n",
      "Epoch 4/5\n",
      "54/54 [==============================] - 11s 205ms/step - loss: 0.0272 - accuracy: 0.9925 - val_loss: 5.0992 - val_accuracy: 0.5862\n",
      "Epoch 5/5\n",
      "54/54 [==============================] - 11s 208ms/step - loss: 0.0256 - accuracy: 0.9925 - val_loss: 5.1269 - val_accuracy: 0.5864\n",
      "Epoch 1/5\n",
      "54/54 [==============================] - 11s 209ms/step - loss: 0.0230 - accuracy: 0.9924 - val_loss: 6.0249 - val_accuracy: 0.5863\n",
      "Epoch 2/5\n",
      "54/54 [==============================] - 12s 214ms/step - loss: 0.0194 - accuracy: 0.9938 - val_loss: 6.9476 - val_accuracy: 0.5880\n",
      "Epoch 3/5\n",
      "54/54 [==============================] - 11s 203ms/step - loss: 0.0171 - accuracy: 0.9946 - val_loss: 7.5465 - val_accuracy: 0.5917\n",
      "Epoch 4/5\n",
      "54/54 [==============================] - 11s 206ms/step - loss: 0.0159 - accuracy: 0.9949 - val_loss: 8.0650 - val_accuracy: 0.5929\n",
      "Epoch 5/5\n",
      "54/54 [==============================] - 11s 205ms/step - loss: 0.0153 - accuracy: 0.9952 - val_loss: 8.0388 - val_accuracy: 0.5924\n",
      "Epoch 1/5\n",
      "54/54 [==============================] - 11s 201ms/step - loss: 0.0145 - accuracy: 0.9953 - val_loss: 7.8213 - val_accuracy: 0.5946\n",
      "Epoch 2/5\n",
      "54/54 [==============================] - 11s 211ms/step - loss: 0.0140 - accuracy: 0.9956 - val_loss: 7.8534 - val_accuracy: 0.5931\n",
      "Epoch 3/5\n",
      "54/54 [==============================] - 11s 203ms/step - loss: 0.0134 - accuracy: 0.9958 - val_loss: 7.9570 - val_accuracy: 0.5931\n",
      "Epoch 4/5\n",
      "54/54 [==============================] - 11s 209ms/step - loss: 0.0133 - accuracy: 0.9960 - val_loss: 7.9768 - val_accuracy: 0.5928\n",
      "Epoch 5/5\n",
      "54/54 [==============================] - 11s 204ms/step - loss: 0.0131 - accuracy: 0.9960 - val_loss: 8.0887 - val_accuracy: 0.5946\n",
      "  15/4279 [..............................] - ETA: 14s - loss: 1.3874 - accuracy: 0.9187"
     ]
    },
    {
     "name": "stderr",
     "output_type": "stream",
     "text": [
      "c:\\Users\\UX430\\anaconda3\\lib\\site-packages\\numpy\\core\\_asarray.py:171: VisibleDeprecationWarning: Creating an ndarray from ragged nested sequences (which is a list-or-tuple of lists-or-tuples-or ndarrays with different lengths or shapes) is deprecated. If you meant to do this, you must specify 'dtype=object' when creating the ndarray.\n",
      "  return array(a, dtype, copy=False, order=order, subok=True)\n"
     ]
    },
    {
     "name": "stdout",
     "output_type": "stream",
     "text": [
      "4279/4279 [==============================] - 16s 4ms/step - loss: 1.4652 - accuracy: 0.9115 0s - loss: 1.4649 - accuracy\n",
      "   1/1721 [..............................] - ETA: 0s - loss: 14.0231 - accuracy: 0.0000e+00"
     ]
    },
    {
     "name": "stderr",
     "output_type": "stream",
     "text": [
      "c:\\Users\\UX430\\anaconda3\\lib\\site-packages\\sklearn\\metrics\\_classification.py:1308: UndefinedMetricWarning: Precision and F-score are ill-defined and being set to 0.0 in labels with no predicted samples. Use `zero_division` parameter to control this behavior.\n",
      "  _warn_prf(average, modifier, msg_start, len(result))\n",
      "c:\\Users\\UX430\\anaconda3\\lib\\site-packages\\sklearn\\metrics\\_classification.py:1308: UndefinedMetricWarning: Recall and F-score are ill-defined and being set to 0.0 in labels with no true samples. Use `zero_division` parameter to control this behavior.\n",
      "  _warn_prf(average, modifier, msg_start, len(result))\n",
      "c:\\Users\\UX430\\anaconda3\\lib\\site-packages\\sklearn\\metrics\\_classification.py:1308: UndefinedMetricWarning: Precision and F-score are ill-defined and being set to 0.0 in labels with no predicted samples. Use `zero_division` parameter to control this behavior.\n",
      "  _warn_prf(average, modifier, msg_start, len(result))\n",
      "c:\\Users\\UX430\\anaconda3\\lib\\site-packages\\sklearn\\metrics\\_classification.py:1308: UndefinedMetricWarning: Recall and F-score are ill-defined and being set to 0.0 in labels with no true samples. Use `zero_division` parameter to control this behavior.\n",
      "  _warn_prf(average, modifier, msg_start, len(result))\n",
      "c:\\Users\\UX430\\anaconda3\\lib\\site-packages\\sklearn\\metrics\\_classification.py:1308: UndefinedMetricWarning: Precision and F-score are ill-defined and being set to 0.0 in labels with no predicted samples. Use `zero_division` parameter to control this behavior.\n",
      "  _warn_prf(average, modifier, msg_start, len(result))\n",
      "c:\\Users\\UX430\\anaconda3\\lib\\site-packages\\sklearn\\metrics\\_classification.py:1308: UndefinedMetricWarning: Recall and F-score are ill-defined and being set to 0.0 in labels with no true samples. Use `zero_division` parameter to control this behavior.\n",
      "  _warn_prf(average, modifier, msg_start, len(result))\n"
     ]
    },
    {
     "name": "stdout",
     "output_type": "stream",
     "text": [
      "1721/1721 [==============================] - 6s 4ms/step - loss: 7.0648 - accuracy: 0.5520\n"
     ]
    },
    {
     "name": "stderr",
     "output_type": "stream",
     "text": [
      "c:\\Users\\UX430\\anaconda3\\lib\\site-packages\\sklearn\\metrics\\_classification.py:1308: UndefinedMetricWarning: Precision and F-score are ill-defined and being set to 0.0 in labels with no predicted samples. Use `zero_division` parameter to control this behavior.\n",
      "  _warn_prf(average, modifier, msg_start, len(result))\n",
      "c:\\Users\\UX430\\anaconda3\\lib\\site-packages\\sklearn\\metrics\\_classification.py:1308: UndefinedMetricWarning: Recall and F-score are ill-defined and being set to 0.0 in labels with no true samples. Use `zero_division` parameter to control this behavior.\n",
      "  _warn_prf(average, modifier, msg_start, len(result))\n",
      "c:\\Users\\UX430\\anaconda3\\lib\\site-packages\\sklearn\\metrics\\_classification.py:1308: UndefinedMetricWarning: Precision and F-score are ill-defined and being set to 0.0 in labels with no predicted samples. Use `zero_division` parameter to control this behavior.\n",
      "  _warn_prf(average, modifier, msg_start, len(result))\n",
      "c:\\Users\\UX430\\anaconda3\\lib\\site-packages\\sklearn\\metrics\\_classification.py:1308: UndefinedMetricWarning: Recall and F-score are ill-defined and being set to 0.0 in labels with no true samples. Use `zero_division` parameter to control this behavior.\n",
      "  _warn_prf(average, modifier, msg_start, len(result))\n",
      "c:\\Users\\UX430\\anaconda3\\lib\\site-packages\\sklearn\\metrics\\_classification.py:1308: UndefinedMetricWarning: Precision and F-score are ill-defined and being set to 0.0 in labels with no predicted samples. Use `zero_division` parameter to control this behavior.\n",
      "  _warn_prf(average, modifier, msg_start, len(result))\n",
      "c:\\Users\\UX430\\anaconda3\\lib\\site-packages\\sklearn\\metrics\\_classification.py:1308: UndefinedMetricWarning: Recall and F-score are ill-defined and being set to 0.0 in labels with no true samples. Use `zero_division` parameter to control this behavior.\n",
      "  _warn_prf(average, modifier, msg_start, len(result))\n"
     ]
    },
    {
     "name": "stdout",
     "output_type": "stream",
     "text": [
      "Epoch 1/5\n",
      "54/54 [==============================] - 11s 207ms/step - loss: 0.0165 - accuracy: 0.9952 - val_loss: 7.0946 - val_accuracy: 0.5905\n",
      "Epoch 2/5\n",
      "54/54 [==============================] - 12s 214ms/step - loss: 0.0157 - accuracy: 0.9953 - val_loss: 7.1153 - val_accuracy: 0.5889\n",
      "Epoch 3/5\n",
      "54/54 [==============================] - 11s 202ms/step - loss: 0.0151 - accuracy: 0.9958 - val_loss: 7.2400 - val_accuracy: 0.5927\n",
      "Epoch 4/5\n",
      "54/54 [==============================] - 11s 198ms/step - loss: 0.0147 - accuracy: 0.9958 - val_loss: 7.4795 - val_accuracy: 0.5900\n",
      "Epoch 5/5\n",
      "54/54 [==============================] - 11s 204ms/step - loss: 0.0147 - accuracy: 0.9960 - val_loss: 7.4285 - val_accuracy: 0.5930\n",
      "Epoch 1/5\n",
      "54/54 [==============================] - 11s 198ms/step - loss: 0.0139 - accuracy: 0.9961 - val_loss: 7.6868 - val_accuracy: 0.5905\n",
      "Epoch 2/5\n",
      "54/54 [==============================] - 11s 197ms/step - loss: 0.0137 - accuracy: 0.9961 - val_loss: 7.6570 - val_accuracy: 0.5922\n",
      "Epoch 3/5\n",
      "54/54 [==============================] - 11s 200ms/step - loss: 0.0133 - accuracy: 0.9962 - val_loss: 7.9249 - val_accuracy: 0.5933\n",
      "Epoch 4/5\n",
      "54/54 [==============================] - 11s 195ms/step - loss: 0.0134 - accuracy: 0.9961 - val_loss: 7.7941 - val_accuracy: 0.5932\n",
      "Epoch 5/5\n",
      "54/54 [==============================] - 11s 199ms/step - loss: 0.0132 - accuracy: 0.9962 - val_loss: 7.6652 - val_accuracy: 0.5927\n",
      "Epoch 1/5\n",
      "54/54 [==============================] - 12s 221ms/step - loss: 0.0128 - accuracy: 0.9961 - val_loss: 7.4810 - val_accuracy: 0.5932\n",
      "Epoch 2/5\n",
      "54/54 [==============================] - 11s 205ms/step - loss: 0.0123 - accuracy: 0.9963 - val_loss: 7.3043 - val_accuracy: 0.5939\n",
      "Epoch 3/5\n",
      "54/54 [==============================] - 11s 197ms/step - loss: 0.0122 - accuracy: 0.9962 - val_loss: 7.3064 - val_accuracy: 0.5945\n",
      "Epoch 4/5\n",
      "54/54 [==============================] - 11s 196ms/step - loss: 0.0120 - accuracy: 0.9964 - val_loss: 7.4464 - val_accuracy: 0.5941\n",
      "Epoch 5/5\n",
      "54/54 [==============================] - 10s 194ms/step - loss: 0.0121 - accuracy: 0.9965 - val_loss: 7.4222 - val_accuracy: 0.5931\n",
      "  25/4279 [..............................] - ETA: 17s - loss: 1.5557 - accuracy: 0.9187"
     ]
    },
    {
     "name": "stderr",
     "output_type": "stream",
     "text": [
      "c:\\Users\\UX430\\anaconda3\\lib\\site-packages\\numpy\\core\\_asarray.py:171: VisibleDeprecationWarning: Creating an ndarray from ragged nested sequences (which is a list-or-tuple of lists-or-tuples-or ndarrays with different lengths or shapes) is deprecated. If you meant to do this, you must specify 'dtype=object' when creating the ndarray.\n",
      "  return array(a, dtype, copy=False, order=order, subok=True)\n"
     ]
    },
    {
     "name": "stdout",
     "output_type": "stream",
     "text": [
      "4279/4279 [==============================] - 17s 4ms/step - loss: 1.6627 - accuracy: 0.9122\n",
      "   1/1721 [..............................] - ETA: 0s - loss: 14.2171 - accuracy: 0.0000e+00"
     ]
    },
    {
     "name": "stderr",
     "output_type": "stream",
     "text": [
      "c:\\Users\\UX430\\anaconda3\\lib\\site-packages\\sklearn\\metrics\\_classification.py:1308: UndefinedMetricWarning: Precision and F-score are ill-defined and being set to 0.0 in labels with no predicted samples. Use `zero_division` parameter to control this behavior.\n",
      "  _warn_prf(average, modifier, msg_start, len(result))\n",
      "c:\\Users\\UX430\\anaconda3\\lib\\site-packages\\sklearn\\metrics\\_classification.py:1308: UndefinedMetricWarning: Recall and F-score are ill-defined and being set to 0.0 in labels with no true samples. Use `zero_division` parameter to control this behavior.\n",
      "  _warn_prf(average, modifier, msg_start, len(result))\n",
      "c:\\Users\\UX430\\anaconda3\\lib\\site-packages\\sklearn\\metrics\\_classification.py:1308: UndefinedMetricWarning: Precision and F-score are ill-defined and being set to 0.0 in labels with no predicted samples. Use `zero_division` parameter to control this behavior.\n",
      "  _warn_prf(average, modifier, msg_start, len(result))\n",
      "c:\\Users\\UX430\\anaconda3\\lib\\site-packages\\sklearn\\metrics\\_classification.py:1308: UndefinedMetricWarning: Recall and F-score are ill-defined and being set to 0.0 in labels with no true samples. Use `zero_division` parameter to control this behavior.\n",
      "  _warn_prf(average, modifier, msg_start, len(result))\n",
      "c:\\Users\\UX430\\anaconda3\\lib\\site-packages\\sklearn\\metrics\\_classification.py:1308: UndefinedMetricWarning: Precision and F-score are ill-defined and being set to 0.0 in labels with no predicted samples. Use `zero_division` parameter to control this behavior.\n",
      "  _warn_prf(average, modifier, msg_start, len(result))\n",
      "c:\\Users\\UX430\\anaconda3\\lib\\site-packages\\sklearn\\metrics\\_classification.py:1308: UndefinedMetricWarning: Recall and F-score are ill-defined and being set to 0.0 in labels with no true samples. Use `zero_division` parameter to control this behavior.\n",
      "  _warn_prf(average, modifier, msg_start, len(result))\n"
     ]
    },
    {
     "name": "stdout",
     "output_type": "stream",
     "text": [
      "1721/1721 [==============================] - 7s 4ms/step - loss: 7.2642 - accuracy: 0.5539\n"
     ]
    },
    {
     "name": "stderr",
     "output_type": "stream",
     "text": [
      "c:\\Users\\UX430\\anaconda3\\lib\\site-packages\\sklearn\\metrics\\_classification.py:1308: UndefinedMetricWarning: Precision and F-score are ill-defined and being set to 0.0 in labels with no predicted samples. Use `zero_division` parameter to control this behavior.\n",
      "  _warn_prf(average, modifier, msg_start, len(result))\n",
      "c:\\Users\\UX430\\anaconda3\\lib\\site-packages\\sklearn\\metrics\\_classification.py:1308: UndefinedMetricWarning: Recall and F-score are ill-defined and being set to 0.0 in labels with no true samples. Use `zero_division` parameter to control this behavior.\n",
      "  _warn_prf(average, modifier, msg_start, len(result))\n",
      "c:\\Users\\UX430\\anaconda3\\lib\\site-packages\\sklearn\\metrics\\_classification.py:1308: UndefinedMetricWarning: Precision and F-score are ill-defined and being set to 0.0 in labels with no predicted samples. Use `zero_division` parameter to control this behavior.\n",
      "  _warn_prf(average, modifier, msg_start, len(result))\n",
      "c:\\Users\\UX430\\anaconda3\\lib\\site-packages\\sklearn\\metrics\\_classification.py:1308: UndefinedMetricWarning: Recall and F-score are ill-defined and being set to 0.0 in labels with no true samples. Use `zero_division` parameter to control this behavior.\n",
      "  _warn_prf(average, modifier, msg_start, len(result))\n",
      "c:\\Users\\UX430\\anaconda3\\lib\\site-packages\\sklearn\\metrics\\_classification.py:1308: UndefinedMetricWarning: Precision and F-score are ill-defined and being set to 0.0 in labels with no predicted samples. Use `zero_division` parameter to control this behavior.\n",
      "  _warn_prf(average, modifier, msg_start, len(result))\n",
      "c:\\Users\\UX430\\anaconda3\\lib\\site-packages\\sklearn\\metrics\\_classification.py:1308: UndefinedMetricWarning: Recall and F-score are ill-defined and being set to 0.0 in labels with no true samples. Use `zero_division` parameter to control this behavior.\n",
      "  _warn_prf(average, modifier, msg_start, len(result))\n"
     ]
    },
    {
     "name": "stdout",
     "output_type": "stream",
     "text": [
      "Epoch 1/5\n",
      "54/54 [==============================] - 11s 201ms/step - loss: 0.0143 - accuracy: 0.9961 - val_loss: 6.9937 - val_accuracy: 0.5908\n",
      "Epoch 2/5\n",
      "54/54 [==============================] - 11s 196ms/step - loss: 0.0135 - accuracy: 0.9962 - val_loss: 6.9269 - val_accuracy: 0.5924\n",
      "Epoch 3/5\n",
      "54/54 [==============================] - 11s 202ms/step - loss: 0.0137 - accuracy: 0.9963 - val_loss: 6.9010 - val_accuracy: 0.5922\n",
      "Epoch 4/5\n",
      "54/54 [==============================] - 11s 197ms/step - loss: 0.0141 - accuracy: 0.9961 - val_loss: 6.5768 - val_accuracy: 0.5926\n",
      "Epoch 5/5\n",
      "54/54 [==============================] - 11s 200ms/step - loss: 0.0134 - accuracy: 0.9963 - val_loss: 6.7458 - val_accuracy: 0.5922\n",
      "Epoch 1/5\n",
      "54/54 [==============================] - 11s 196ms/step - loss: 0.0127 - accuracy: 0.9964 - val_loss: 6.9325 - val_accuracy: 0.5921\n",
      "Epoch 2/5\n",
      "54/54 [==============================] - 11s 198ms/step - loss: 0.0125 - accuracy: 0.9964 - val_loss: 7.2431 - val_accuracy: 0.5925\n",
      "Epoch 3/5\n",
      "54/54 [==============================] - 11s 196ms/step - loss: 0.0121 - accuracy: 0.9964 - val_loss: 7.6027 - val_accuracy: 0.5919\n",
      "Epoch 4/5\n",
      "54/54 [==============================] - 10s 193ms/step - loss: 0.0120 - accuracy: 0.9966 - val_loss: 7.4869 - val_accuracy: 0.5933\n",
      "Epoch 5/5\n",
      "54/54 [==============================] - 10s 194ms/step - loss: 0.0115 - accuracy: 0.9966 - val_loss: 7.9167 - val_accuracy: 0.5931\n",
      "Epoch 1/5\n",
      "54/54 [==============================] - 11s 201ms/step - loss: 0.0113 - accuracy: 0.9966 - val_loss: 7.9083 - val_accuracy: 0.5950\n",
      "Epoch 2/5\n",
      "54/54 [==============================] - 11s 203ms/step - loss: 0.0110 - accuracy: 0.9967 - val_loss: 7.9768 - val_accuracy: 0.5939\n",
      "Epoch 3/5\n",
      "54/54 [==============================] - 11s 195ms/step - loss: 0.0106 - accuracy: 0.9969 - val_loss: 8.1485 - val_accuracy: 0.5951\n",
      "Epoch 4/5\n",
      "54/54 [==============================] - 10s 193ms/step - loss: 0.0106 - accuracy: 0.9970 - val_loss: 8.3753 - val_accuracy: 0.5942\n",
      "Epoch 5/5\n",
      "54/54 [==============================] - 11s 199ms/step - loss: 0.0105 - accuracy: 0.9968 - val_loss: 8.4327 - val_accuracy: 0.5948\n",
      "  14/4279 [..............................] - ETA: 15s - loss: 1.5628 - accuracy: 0.9219"
     ]
    },
    {
     "name": "stderr",
     "output_type": "stream",
     "text": [
      "c:\\Users\\UX430\\anaconda3\\lib\\site-packages\\numpy\\core\\_asarray.py:171: VisibleDeprecationWarning: Creating an ndarray from ragged nested sequences (which is a list-or-tuple of lists-or-tuples-or ndarrays with different lengths or shapes) is deprecated. If you meant to do this, you must specify 'dtype=object' when creating the ndarray.\n",
      "  return array(a, dtype, copy=False, order=order, subok=True)\n"
     ]
    },
    {
     "name": "stdout",
     "output_type": "stream",
     "text": [
      "4279/4279 [==============================] - 17s 4ms/step - loss: 1.7147 - accuracy: 0.9132\n",
      "   1/1721 [..............................] - ETA: 0s - loss: 13.7737 - accuracy: 0.0000e+00"
     ]
    },
    {
     "name": "stderr",
     "output_type": "stream",
     "text": [
      "c:\\Users\\UX430\\anaconda3\\lib\\site-packages\\sklearn\\metrics\\_classification.py:1308: UndefinedMetricWarning: Precision and F-score are ill-defined and being set to 0.0 in labels with no predicted samples. Use `zero_division` parameter to control this behavior.\n",
      "  _warn_prf(average, modifier, msg_start, len(result))\n",
      "c:\\Users\\UX430\\anaconda3\\lib\\site-packages\\sklearn\\metrics\\_classification.py:1308: UndefinedMetricWarning: Recall and F-score are ill-defined and being set to 0.0 in labels with no true samples. Use `zero_division` parameter to control this behavior.\n",
      "  _warn_prf(average, modifier, msg_start, len(result))\n",
      "c:\\Users\\UX430\\anaconda3\\lib\\site-packages\\sklearn\\metrics\\_classification.py:1308: UndefinedMetricWarning: Precision and F-score are ill-defined and being set to 0.0 in labels with no predicted samples. Use `zero_division` parameter to control this behavior.\n",
      "  _warn_prf(average, modifier, msg_start, len(result))\n",
      "c:\\Users\\UX430\\anaconda3\\lib\\site-packages\\sklearn\\metrics\\_classification.py:1308: UndefinedMetricWarning: Recall and F-score are ill-defined and being set to 0.0 in labels with no true samples. Use `zero_division` parameter to control this behavior.\n",
      "  _warn_prf(average, modifier, msg_start, len(result))\n",
      "c:\\Users\\UX430\\anaconda3\\lib\\site-packages\\sklearn\\metrics\\_classification.py:1308: UndefinedMetricWarning: Precision and F-score are ill-defined and being set to 0.0 in labels with no predicted samples. Use `zero_division` parameter to control this behavior.\n",
      "  _warn_prf(average, modifier, msg_start, len(result))\n",
      "c:\\Users\\UX430\\anaconda3\\lib\\site-packages\\sklearn\\metrics\\_classification.py:1308: UndefinedMetricWarning: Recall and F-score are ill-defined and being set to 0.0 in labels with no true samples. Use `zero_division` parameter to control this behavior.\n",
      "  _warn_prf(average, modifier, msg_start, len(result))\n"
     ]
    },
    {
     "name": "stdout",
     "output_type": "stream",
     "text": [
      "1721/1721 [==============================] - 7s 4ms/step - loss: 7.1922 - accuracy: 0.5549\n"
     ]
    },
    {
     "name": "stderr",
     "output_type": "stream",
     "text": [
      "c:\\Users\\UX430\\anaconda3\\lib\\site-packages\\sklearn\\metrics\\_classification.py:1308: UndefinedMetricWarning: Precision and F-score are ill-defined and being set to 0.0 in labels with no predicted samples. Use `zero_division` parameter to control this behavior.\n",
      "  _warn_prf(average, modifier, msg_start, len(result))\n",
      "c:\\Users\\UX430\\anaconda3\\lib\\site-packages\\sklearn\\metrics\\_classification.py:1308: UndefinedMetricWarning: Recall and F-score are ill-defined and being set to 0.0 in labels with no true samples. Use `zero_division` parameter to control this behavior.\n",
      "  _warn_prf(average, modifier, msg_start, len(result))\n",
      "c:\\Users\\UX430\\anaconda3\\lib\\site-packages\\sklearn\\metrics\\_classification.py:1308: UndefinedMetricWarning: Precision and F-score are ill-defined and being set to 0.0 in labels with no predicted samples. Use `zero_division` parameter to control this behavior.\n",
      "  _warn_prf(average, modifier, msg_start, len(result))\n",
      "c:\\Users\\UX430\\anaconda3\\lib\\site-packages\\sklearn\\metrics\\_classification.py:1308: UndefinedMetricWarning: Recall and F-score are ill-defined and being set to 0.0 in labels with no true samples. Use `zero_division` parameter to control this behavior.\n",
      "  _warn_prf(average, modifier, msg_start, len(result))\n",
      "c:\\Users\\UX430\\anaconda3\\lib\\site-packages\\sklearn\\metrics\\_classification.py:1308: UndefinedMetricWarning: Precision and F-score are ill-defined and being set to 0.0 in labels with no predicted samples. Use `zero_division` parameter to control this behavior.\n",
      "  _warn_prf(average, modifier, msg_start, len(result))\n",
      "c:\\Users\\UX430\\anaconda3\\lib\\site-packages\\sklearn\\metrics\\_classification.py:1308: UndefinedMetricWarning: Recall and F-score are ill-defined and being set to 0.0 in labels with no true samples. Use `zero_division` parameter to control this behavior.\n",
      "  _warn_prf(average, modifier, msg_start, len(result))\n"
     ]
    },
    {
     "name": "stdout",
     "output_type": "stream",
     "text": [
      "Epoch 1/5\n",
      "54/54 [==============================] - 10s 191ms/step - loss: 0.0124 - accuracy: 0.9966 - val_loss: 7.7782 - val_accuracy: 0.5930\n",
      "Epoch 2/5\n",
      "54/54 [==============================] - 11s 195ms/step - loss: 0.0125 - accuracy: 0.9967 - val_loss: 7.6478 - val_accuracy: 0.5917\n",
      "Epoch 3/5\n",
      "54/54 [==============================] - 11s 195ms/step - loss: 0.0116 - accuracy: 0.9970 - val_loss: 7.8252 - val_accuracy: 0.5923\n",
      "Epoch 4/5\n",
      "54/54 [==============================] - 11s 195ms/step - loss: 0.0121 - accuracy: 0.9969 - val_loss: 7.9808 - val_accuracy: 0.5923\n",
      "Epoch 5/5\n",
      "54/54 [==============================] - 11s 200ms/step - loss: 0.0115 - accuracy: 0.9969 - val_loss: 8.0936 - val_accuracy: 0.5927\n",
      "Epoch 1/5\n",
      "54/54 [==============================] - 11s 197ms/step - loss: 0.0104 - accuracy: 0.9968 - val_loss: 8.5603 - val_accuracy: 0.5928\n",
      "Epoch 2/5\n",
      "54/54 [==============================] - 11s 200ms/step - loss: 0.0100 - accuracy: 0.9970 - val_loss: 8.9274 - val_accuracy: 0.5929\n",
      "Epoch 3/5\n",
      "54/54 [==============================] - 10s 194ms/step - loss: 0.0103 - accuracy: 0.9968 - val_loss: 8.5216 - val_accuracy: 0.5916\n",
      "Epoch 4/5\n",
      "54/54 [==============================] - 11s 196ms/step - loss: 0.0100 - accuracy: 0.9970 - val_loss: 8.4862 - val_accuracy: 0.5922\n",
      "Epoch 5/5\n",
      "54/54 [==============================] - 11s 200ms/step - loss: 0.0095 - accuracy: 0.9973 - val_loss: 8.8414 - val_accuracy: 0.5934\n",
      "Epoch 1/5\n",
      "54/54 [==============================] - 11s 199ms/step - loss: 0.0095 - accuracy: 0.9970 - val_loss: 8.6515 - val_accuracy: 0.5944\n",
      "Epoch 2/5\n",
      "54/54 [==============================] - 10s 194ms/step - loss: 0.0091 - accuracy: 0.9973 - val_loss: 8.9515 - val_accuracy: 0.5942\n",
      "Epoch 3/5\n",
      "54/54 [==============================] - 10s 191ms/step - loss: 0.0088 - accuracy: 0.9973 - val_loss: 9.1163 - val_accuracy: 0.5942\n",
      "Epoch 4/5\n",
      "54/54 [==============================] - 11s 206ms/step - loss: 0.0093 - accuracy: 0.9970 - val_loss: 8.8416 - val_accuracy: 0.5946\n",
      "Epoch 5/5\n",
      "54/54 [==============================] - 11s 195ms/step - loss: 0.0089 - accuracy: 0.9974 - val_loss: 8.8644 - val_accuracy: 0.5942\n",
      "  25/4279 [..............................] - ETA: 17s - loss: 1.7137 - accuracy: 0.9212"
     ]
    },
    {
     "name": "stderr",
     "output_type": "stream",
     "text": [
      "c:\\Users\\UX430\\anaconda3\\lib\\site-packages\\numpy\\core\\_asarray.py:171: VisibleDeprecationWarning: Creating an ndarray from ragged nested sequences (which is a list-or-tuple of lists-or-tuples-or ndarrays with different lengths or shapes) is deprecated. If you meant to do this, you must specify 'dtype=object' when creating the ndarray.\n",
      "  return array(a, dtype, copy=False, order=order, subok=True)\n"
     ]
    },
    {
     "name": "stdout",
     "output_type": "stream",
     "text": [
      "4279/4279 [==============================] - 16s 4ms/step - loss: 1.8582 - accuracy: 0.9144\n",
      "   1/1721 [..............................] - ETA: 0s - loss: 15.2585 - accuracy: 0.0000e+00"
     ]
    },
    {
     "name": "stderr",
     "output_type": "stream",
     "text": [
      "c:\\Users\\UX430\\anaconda3\\lib\\site-packages\\sklearn\\metrics\\_classification.py:1308: UndefinedMetricWarning: Precision and F-score are ill-defined and being set to 0.0 in labels with no predicted samples. Use `zero_division` parameter to control this behavior.\n",
      "  _warn_prf(average, modifier, msg_start, len(result))\n",
      "c:\\Users\\UX430\\anaconda3\\lib\\site-packages\\sklearn\\metrics\\_classification.py:1308: UndefinedMetricWarning: Recall and F-score are ill-defined and being set to 0.0 in labels with no true samples. Use `zero_division` parameter to control this behavior.\n",
      "  _warn_prf(average, modifier, msg_start, len(result))\n",
      "c:\\Users\\UX430\\anaconda3\\lib\\site-packages\\sklearn\\metrics\\_classification.py:1308: UndefinedMetricWarning: Precision and F-score are ill-defined and being set to 0.0 in labels with no predicted samples. Use `zero_division` parameter to control this behavior.\n",
      "  _warn_prf(average, modifier, msg_start, len(result))\n",
      "c:\\Users\\UX430\\anaconda3\\lib\\site-packages\\sklearn\\metrics\\_classification.py:1308: UndefinedMetricWarning: Recall and F-score are ill-defined and being set to 0.0 in labels with no true samples. Use `zero_division` parameter to control this behavior.\n",
      "  _warn_prf(average, modifier, msg_start, len(result))\n",
      "c:\\Users\\UX430\\anaconda3\\lib\\site-packages\\sklearn\\metrics\\_classification.py:1308: UndefinedMetricWarning: Precision and F-score are ill-defined and being set to 0.0 in labels with no predicted samples. Use `zero_division` parameter to control this behavior.\n",
      "  _warn_prf(average, modifier, msg_start, len(result))\n",
      "c:\\Users\\UX430\\anaconda3\\lib\\site-packages\\sklearn\\metrics\\_classification.py:1308: UndefinedMetricWarning: Recall and F-score are ill-defined and being set to 0.0 in labels with no true samples. Use `zero_division` parameter to control this behavior.\n",
      "  _warn_prf(average, modifier, msg_start, len(result))\n"
     ]
    },
    {
     "name": "stdout",
     "output_type": "stream",
     "text": [
      "1721/1721 [==============================] - 6s 4ms/step - loss: 7.9718 - accuracy: 0.5552\n"
     ]
    },
    {
     "name": "stderr",
     "output_type": "stream",
     "text": [
      "c:\\Users\\UX430\\anaconda3\\lib\\site-packages\\sklearn\\metrics\\_classification.py:1308: UndefinedMetricWarning: Precision and F-score are ill-defined and being set to 0.0 in labels with no predicted samples. Use `zero_division` parameter to control this behavior.\n",
      "  _warn_prf(average, modifier, msg_start, len(result))\n",
      "c:\\Users\\UX430\\anaconda3\\lib\\site-packages\\sklearn\\metrics\\_classification.py:1308: UndefinedMetricWarning: Recall and F-score are ill-defined and being set to 0.0 in labels with no true samples. Use `zero_division` parameter to control this behavior.\n",
      "  _warn_prf(average, modifier, msg_start, len(result))\n",
      "c:\\Users\\UX430\\anaconda3\\lib\\site-packages\\sklearn\\metrics\\_classification.py:1308: UndefinedMetricWarning: Precision and F-score are ill-defined and being set to 0.0 in labels with no predicted samples. Use `zero_division` parameter to control this behavior.\n",
      "  _warn_prf(average, modifier, msg_start, len(result))\n",
      "c:\\Users\\UX430\\anaconda3\\lib\\site-packages\\sklearn\\metrics\\_classification.py:1308: UndefinedMetricWarning: Recall and F-score are ill-defined and being set to 0.0 in labels with no true samples. Use `zero_division` parameter to control this behavior.\n",
      "  _warn_prf(average, modifier, msg_start, len(result))\n",
      "c:\\Users\\UX430\\anaconda3\\lib\\site-packages\\sklearn\\metrics\\_classification.py:1308: UndefinedMetricWarning: Precision and F-score are ill-defined and being set to 0.0 in labels with no predicted samples. Use `zero_division` parameter to control this behavior.\n",
      "  _warn_prf(average, modifier, msg_start, len(result))\n",
      "c:\\Users\\UX430\\anaconda3\\lib\\site-packages\\sklearn\\metrics\\_classification.py:1308: UndefinedMetricWarning: Recall and F-score are ill-defined and being set to 0.0 in labels with no true samples. Use `zero_division` parameter to control this behavior.\n",
      "  _warn_prf(average, modifier, msg_start, len(result))\n"
     ]
    },
    {
     "name": "stdout",
     "output_type": "stream",
     "text": [
      "Epoch 1/5\n",
      "54/54 [==============================] - 11s 206ms/step - loss: 0.0101 - accuracy: 0.9974 - val_loss: 8.8503 - val_accuracy: 0.5927\n",
      "Epoch 2/5\n",
      "54/54 [==============================] - 11s 199ms/step - loss: 0.0099 - accuracy: 0.9971 - val_loss: 8.7087 - val_accuracy: 0.5914\n",
      "Epoch 3/5\n",
      "54/54 [==============================] - 11s 195ms/step - loss: 0.0099 - accuracy: 0.9974 - val_loss: 8.8953 - val_accuracy: 0.5928\n",
      "Epoch 4/5\n",
      "54/54 [==============================] - 11s 196ms/step - loss: 0.0094 - accuracy: 0.9975 - val_loss: 8.9255 - val_accuracy: 0.5916\n",
      "Epoch 5/5\n",
      "54/54 [==============================] - 10s 188ms/step - loss: 0.0091 - accuracy: 0.9974 - val_loss: 9.1711 - val_accuracy: 0.5918\n",
      "Epoch 1/5\n",
      "54/54 [==============================] - 10s 193ms/step - loss: 0.0087 - accuracy: 0.9974 - val_loss: 9.3079 - val_accuracy: 0.5924\n",
      "Epoch 2/5\n",
      "54/54 [==============================] - 10s 192ms/step - loss: 0.0083 - accuracy: 0.9974 - val_loss: 9.5725 - val_accuracy: 0.5930\n",
      "Epoch 3/5\n",
      "54/54 [==============================] - 10s 191ms/step - loss: 0.0085 - accuracy: 0.9972 - val_loss: 9.5629 - val_accuracy: 0.5928\n",
      "Epoch 4/5\n",
      "54/54 [==============================] - 10s 194ms/step - loss: 0.0082 - accuracy: 0.9975 - val_loss: 9.8842 - val_accuracy: 0.5934\n",
      "Epoch 5/5\n",
      "54/54 [==============================] - 10s 192ms/step - loss: 0.0082 - accuracy: 0.9975 - val_loss: 9.8013 - val_accuracy: 0.5936\n",
      "Epoch 1/5\n",
      "54/54 [==============================] - 10s 194ms/step - loss: 0.0084 - accuracy: 0.9972 - val_loss: 9.7203 - val_accuracy: 0.5955\n",
      "Epoch 2/5\n",
      "54/54 [==============================] - 11s 197ms/step - loss: 0.0081 - accuracy: 0.9974 - val_loss: 9.7215 - val_accuracy: 0.5953\n",
      "Epoch 3/5\n",
      "54/54 [==============================] - 10s 192ms/step - loss: 0.0079 - accuracy: 0.9976 - val_loss: 9.5432 - val_accuracy: 0.5942\n",
      "Epoch 4/5\n",
      "54/54 [==============================] - 11s 197ms/step - loss: 0.0077 - accuracy: 0.9976 - val_loss: 9.6744 - val_accuracy: 0.5941\n",
      "Epoch 5/5\n",
      "54/54 [==============================] - 11s 200ms/step - loss: 0.0080 - accuracy: 0.9973 - val_loss: 9.5484 - val_accuracy: 0.5953\n",
      "  28/4279 [..............................] - ETA: 15s - loss: 1.8572 - accuracy: 0.9241"
     ]
    },
    {
     "name": "stderr",
     "output_type": "stream",
     "text": [
      "c:\\Users\\UX430\\anaconda3\\lib\\site-packages\\numpy\\core\\_asarray.py:171: VisibleDeprecationWarning: Creating an ndarray from ragged nested sequences (which is a list-or-tuple of lists-or-tuples-or ndarrays with different lengths or shapes) is deprecated. If you meant to do this, you must specify 'dtype=object' when creating the ndarray.\n",
      "  return array(a, dtype, copy=False, order=order, subok=True)\n"
     ]
    },
    {
     "name": "stdout",
     "output_type": "stream",
     "text": [
      "4279/4279 [==============================] - 15s 3ms/step - loss: 2.0776 - accuracy: 0.9151\n",
      "   1/1721 [..............................] - ETA: 0s - loss: 17.4782 - accuracy: 0.0000e+00"
     ]
    },
    {
     "name": "stderr",
     "output_type": "stream",
     "text": [
      "c:\\Users\\UX430\\anaconda3\\lib\\site-packages\\sklearn\\metrics\\_classification.py:1308: UndefinedMetricWarning: Precision and F-score are ill-defined and being set to 0.0 in labels with no predicted samples. Use `zero_division` parameter to control this behavior.\n",
      "  _warn_prf(average, modifier, msg_start, len(result))\n",
      "c:\\Users\\UX430\\anaconda3\\lib\\site-packages\\sklearn\\metrics\\_classification.py:1308: UndefinedMetricWarning: Recall and F-score are ill-defined and being set to 0.0 in labels with no true samples. Use `zero_division` parameter to control this behavior.\n",
      "  _warn_prf(average, modifier, msg_start, len(result))\n",
      "c:\\Users\\UX430\\anaconda3\\lib\\site-packages\\sklearn\\metrics\\_classification.py:1308: UndefinedMetricWarning: Precision and F-score are ill-defined and being set to 0.0 in labels with no predicted samples. Use `zero_division` parameter to control this behavior.\n",
      "  _warn_prf(average, modifier, msg_start, len(result))\n",
      "c:\\Users\\UX430\\anaconda3\\lib\\site-packages\\sklearn\\metrics\\_classification.py:1308: UndefinedMetricWarning: Recall and F-score are ill-defined and being set to 0.0 in labels with no true samples. Use `zero_division` parameter to control this behavior.\n",
      "  _warn_prf(average, modifier, msg_start, len(result))\n",
      "c:\\Users\\UX430\\anaconda3\\lib\\site-packages\\sklearn\\metrics\\_classification.py:1308: UndefinedMetricWarning: Precision and F-score are ill-defined and being set to 0.0 in labels with no predicted samples. Use `zero_division` parameter to control this behavior.\n",
      "  _warn_prf(average, modifier, msg_start, len(result))\n",
      "c:\\Users\\UX430\\anaconda3\\lib\\site-packages\\sklearn\\metrics\\_classification.py:1308: UndefinedMetricWarning: Recall and F-score are ill-defined and being set to 0.0 in labels with no true samples. Use `zero_division` parameter to control this behavior.\n",
      "  _warn_prf(average, modifier, msg_start, len(result))\n"
     ]
    },
    {
     "name": "stdout",
     "output_type": "stream",
     "text": [
      "1721/1721 [==============================] - 6s 3ms/step - loss: 8.9030 - accuracy: 0.5559\n"
     ]
    },
    {
     "name": "stderr",
     "output_type": "stream",
     "text": [
      "c:\\Users\\UX430\\anaconda3\\lib\\site-packages\\sklearn\\metrics\\_classification.py:1308: UndefinedMetricWarning: Precision and F-score are ill-defined and being set to 0.0 in labels with no predicted samples. Use `zero_division` parameter to control this behavior.\n",
      "  _warn_prf(average, modifier, msg_start, len(result))\n",
      "c:\\Users\\UX430\\anaconda3\\lib\\site-packages\\sklearn\\metrics\\_classification.py:1308: UndefinedMetricWarning: Recall and F-score are ill-defined and being set to 0.0 in labels with no true samples. Use `zero_division` parameter to control this behavior.\n",
      "  _warn_prf(average, modifier, msg_start, len(result))\n",
      "c:\\Users\\UX430\\anaconda3\\lib\\site-packages\\sklearn\\metrics\\_classification.py:1308: UndefinedMetricWarning: Precision and F-score are ill-defined and being set to 0.0 in labels with no predicted samples. Use `zero_division` parameter to control this behavior.\n",
      "  _warn_prf(average, modifier, msg_start, len(result))\n",
      "c:\\Users\\UX430\\anaconda3\\lib\\site-packages\\sklearn\\metrics\\_classification.py:1308: UndefinedMetricWarning: Recall and F-score are ill-defined and being set to 0.0 in labels with no true samples. Use `zero_division` parameter to control this behavior.\n",
      "  _warn_prf(average, modifier, msg_start, len(result))\n",
      "c:\\Users\\UX430\\anaconda3\\lib\\site-packages\\sklearn\\metrics\\_classification.py:1308: UndefinedMetricWarning: Precision and F-score are ill-defined and being set to 0.0 in labels with no predicted samples. Use `zero_division` parameter to control this behavior.\n",
      "  _warn_prf(average, modifier, msg_start, len(result))\n",
      "c:\\Users\\UX430\\anaconda3\\lib\\site-packages\\sklearn\\metrics\\_classification.py:1308: UndefinedMetricWarning: Recall and F-score are ill-defined and being set to 0.0 in labels with no true samples. Use `zero_division` parameter to control this behavior.\n",
      "  _warn_prf(average, modifier, msg_start, len(result))\n"
     ]
    },
    {
     "name": "stdout",
     "output_type": "stream",
     "text": [
      "Epoch 1/5\n",
      "54/54 [==============================] - 10s 193ms/step - loss: 0.0091 - accuracy: 0.9975 - val_loss: 9.4549 - val_accuracy: 0.5925\n",
      "Epoch 2/5\n",
      "54/54 [==============================] - 11s 196ms/step - loss: 0.0081 - accuracy: 0.9977 - val_loss: 9.5693 - val_accuracy: 0.5914\n",
      "Epoch 3/5\n",
      "54/54 [==============================] - 11s 199ms/step - loss: 0.0085 - accuracy: 0.9978 - val_loss: 9.6139 - val_accuracy: 0.5925\n",
      "Epoch 4/5\n",
      "54/54 [==============================] - 10s 194ms/step - loss: 0.0086 - accuracy: 0.9975 - val_loss: 9.2983 - val_accuracy: 0.5911\n",
      "Epoch 5/5\n",
      "54/54 [==============================] - 11s 195ms/step - loss: 0.0091 - accuracy: 0.9978 - val_loss: 9.2577 - val_accuracy: 0.5919\n",
      "Epoch 1/5\n",
      "54/54 [==============================] - 11s 199ms/step - loss: 0.0081 - accuracy: 0.9975 - val_loss: 9.2232 - val_accuracy: 0.5926\n",
      "Epoch 2/5\n",
      "54/54 [==============================] - 11s 201ms/step - loss: 0.0078 - accuracy: 0.9976 - val_loss: 9.3046 - val_accuracy: 0.5929\n",
      "Epoch 3/5\n",
      "54/54 [==============================] - 11s 199ms/step - loss: 0.0076 - accuracy: 0.9978 - val_loss: 9.4621 - val_accuracy: 0.5933\n",
      "Epoch 4/5\n",
      "54/54 [==============================] - 11s 200ms/step - loss: 0.0083 - accuracy: 0.9974 - val_loss: 8.9323 - val_accuracy: 0.5928\n",
      "Epoch 5/5\n",
      "54/54 [==============================] - 11s 196ms/step - loss: 0.0075 - accuracy: 0.9977 - val_loss: 9.1649 - val_accuracy: 0.5927\n",
      "Epoch 1/5\n",
      "54/54 [==============================] - 11s 201ms/step - loss: 0.0078 - accuracy: 0.9975 - val_loss: 8.9854 - val_accuracy: 0.5956\n",
      "Epoch 2/5\n",
      "54/54 [==============================] - 10s 193ms/step - loss: 0.0073 - accuracy: 0.9978 - val_loss: 9.1123 - val_accuracy: 0.5948\n",
      "Epoch 3/5\n",
      "54/54 [==============================] - 11s 198ms/step - loss: 0.0073 - accuracy: 0.9977 - val_loss: 9.2533 - val_accuracy: 0.5940\n",
      "Epoch 4/5\n",
      "54/54 [==============================] - 11s 195ms/step - loss: 0.0074 - accuracy: 0.9977 - val_loss: 9.1366 - val_accuracy: 0.5948\n",
      "Epoch 5/5\n",
      "54/54 [==============================] - 10s 194ms/step - loss: 0.0075 - accuracy: 0.9976 - val_loss: 9.0000 - val_accuracy: 0.5945\n",
      "  29/4279 [..............................] - ETA: 15s - loss: 1.8200 - accuracy: 0.9203"
     ]
    },
    {
     "name": "stderr",
     "output_type": "stream",
     "text": [
      "c:\\Users\\UX430\\anaconda3\\lib\\site-packages\\numpy\\core\\_asarray.py:171: VisibleDeprecationWarning: Creating an ndarray from ragged nested sequences (which is a list-or-tuple of lists-or-tuples-or ndarrays with different lengths or shapes) is deprecated. If you meant to do this, you must specify 'dtype=object' when creating the ndarray.\n",
      "  return array(a, dtype, copy=False, order=order, subok=True)\n"
     ]
    },
    {
     "name": "stdout",
     "output_type": "stream",
     "text": [
      "4279/4279 [==============================] - 15s 3ms/step - loss: 2.0624 - accuracy: 0.9099\n",
      "   1/1721 [..............................] - ETA: 0s - loss: 17.1812 - accuracy: 0.0000e+00"
     ]
    },
    {
     "name": "stderr",
     "output_type": "stream",
     "text": [
      "c:\\Users\\UX430\\anaconda3\\lib\\site-packages\\sklearn\\metrics\\_classification.py:1308: UndefinedMetricWarning: Precision and F-score are ill-defined and being set to 0.0 in labels with no predicted samples. Use `zero_division` parameter to control this behavior.\n",
      "  _warn_prf(average, modifier, msg_start, len(result))\n",
      "c:\\Users\\UX430\\anaconda3\\lib\\site-packages\\sklearn\\metrics\\_classification.py:1308: UndefinedMetricWarning: Recall and F-score are ill-defined and being set to 0.0 in labels with no true samples. Use `zero_division` parameter to control this behavior.\n",
      "  _warn_prf(average, modifier, msg_start, len(result))\n",
      "c:\\Users\\UX430\\anaconda3\\lib\\site-packages\\sklearn\\metrics\\_classification.py:1308: UndefinedMetricWarning: Precision and F-score are ill-defined and being set to 0.0 in labels with no predicted samples. Use `zero_division` parameter to control this behavior.\n",
      "  _warn_prf(average, modifier, msg_start, len(result))\n",
      "c:\\Users\\UX430\\anaconda3\\lib\\site-packages\\sklearn\\metrics\\_classification.py:1308: UndefinedMetricWarning: Recall and F-score are ill-defined and being set to 0.0 in labels with no true samples. Use `zero_division` parameter to control this behavior.\n",
      "  _warn_prf(average, modifier, msg_start, len(result))\n",
      "c:\\Users\\UX430\\anaconda3\\lib\\site-packages\\sklearn\\metrics\\_classification.py:1308: UndefinedMetricWarning: Precision and F-score are ill-defined and being set to 0.0 in labels with no predicted samples. Use `zero_division` parameter to control this behavior.\n",
      "  _warn_prf(average, modifier, msg_start, len(result))\n",
      "c:\\Users\\UX430\\anaconda3\\lib\\site-packages\\sklearn\\metrics\\_classification.py:1308: UndefinedMetricWarning: Recall and F-score are ill-defined and being set to 0.0 in labels with no true samples. Use `zero_division` parameter to control this behavior.\n",
      "  _warn_prf(average, modifier, msg_start, len(result))\n"
     ]
    },
    {
     "name": "stdout",
     "output_type": "stream",
     "text": [
      "1721/1721 [==============================] - 6s 4ms/step - loss: 8.6760 - accuracy: 0.5569\n"
     ]
    },
    {
     "name": "stderr",
     "output_type": "stream",
     "text": [
      "c:\\Users\\UX430\\anaconda3\\lib\\site-packages\\sklearn\\metrics\\_classification.py:1308: UndefinedMetricWarning: Precision and F-score are ill-defined and being set to 0.0 in labels with no predicted samples. Use `zero_division` parameter to control this behavior.\n",
      "  _warn_prf(average, modifier, msg_start, len(result))\n",
      "c:\\Users\\UX430\\anaconda3\\lib\\site-packages\\sklearn\\metrics\\_classification.py:1308: UndefinedMetricWarning: Recall and F-score are ill-defined and being set to 0.0 in labels with no true samples. Use `zero_division` parameter to control this behavior.\n",
      "  _warn_prf(average, modifier, msg_start, len(result))\n",
      "c:\\Users\\UX430\\anaconda3\\lib\\site-packages\\sklearn\\metrics\\_classification.py:1308: UndefinedMetricWarning: Precision and F-score are ill-defined and being set to 0.0 in labels with no predicted samples. Use `zero_division` parameter to control this behavior.\n",
      "  _warn_prf(average, modifier, msg_start, len(result))\n",
      "c:\\Users\\UX430\\anaconda3\\lib\\site-packages\\sklearn\\metrics\\_classification.py:1308: UndefinedMetricWarning: Recall and F-score are ill-defined and being set to 0.0 in labels with no true samples. Use `zero_division` parameter to control this behavior.\n",
      "  _warn_prf(average, modifier, msg_start, len(result))\n",
      "c:\\Users\\UX430\\anaconda3\\lib\\site-packages\\sklearn\\metrics\\_classification.py:1308: UndefinedMetricWarning: Precision and F-score are ill-defined and being set to 0.0 in labels with no predicted samples. Use `zero_division` parameter to control this behavior.\n",
      "  _warn_prf(average, modifier, msg_start, len(result))\n",
      "c:\\Users\\UX430\\anaconda3\\lib\\site-packages\\sklearn\\metrics\\_classification.py:1308: UndefinedMetricWarning: Recall and F-score are ill-defined and being set to 0.0 in labels with no true samples. Use `zero_division` parameter to control this behavior.\n",
      "  _warn_prf(average, modifier, msg_start, len(result))\n"
     ]
    },
    {
     "name": "stdout",
     "output_type": "stream",
     "text": [
      "Epoch 1/5\n",
      "54/54 [==============================] - 11s 205ms/step - loss: 0.0086 - accuracy: 0.9978 - val_loss: 8.9643 - val_accuracy: 0.5926\n",
      "Epoch 2/5\n",
      "54/54 [==============================] - 11s 206ms/step - loss: 0.0078 - accuracy: 0.9980 - val_loss: 8.8503 - val_accuracy: 0.5916\n",
      "Epoch 3/5\n",
      "54/54 [==============================] - 11s 203ms/step - loss: 0.0076 - accuracy: 0.9979 - val_loss: 8.9308 - val_accuracy: 0.5909\n",
      "Epoch 4/5\n",
      "54/54 [==============================] - 11s 205ms/step - loss: 0.0078 - accuracy: 0.9979 - val_loss: 9.1763 - val_accuracy: 0.5924\n",
      "Epoch 5/5\n",
      "54/54 [==============================] - 10s 193ms/step - loss: 0.0075 - accuracy: 0.9978 - val_loss: 8.9531 - val_accuracy: 0.5922\n",
      "Epoch 1/5\n",
      "54/54 [==============================] - 11s 199ms/step - loss: 0.0077 - accuracy: 0.9977 - val_loss: 8.5461 - val_accuracy: 0.5930\n",
      "Epoch 2/5\n",
      "54/54 [==============================] - 11s 203ms/step - loss: 0.0075 - accuracy: 0.9978 - val_loss: 8.9380 - val_accuracy: 0.5937\n",
      "Epoch 3/5\n",
      "54/54 [==============================] - 11s 198ms/step - loss: 0.0070 - accuracy: 0.9979 - val_loss: 8.8505 - val_accuracy: 0.5933\n",
      "Epoch 4/5\n",
      "54/54 [==============================] - 11s 198ms/step - loss: 0.0072 - accuracy: 0.9977 - val_loss: 8.7340 - val_accuracy: 0.5922\n",
      "Epoch 5/5\n",
      "54/54 [==============================] - 11s 203ms/step - loss: 0.0071 - accuracy: 0.9979 - val_loss: 8.7132 - val_accuracy: 0.5931\n",
      "Epoch 1/5\n",
      "54/54 [==============================] - 11s 202ms/step - loss: 0.0077 - accuracy: 0.9974 - val_loss: 8.3551 - val_accuracy: 0.5939\n",
      "Epoch 2/5\n",
      "54/54 [==============================] - 11s 203ms/step - loss: 0.0071 - accuracy: 0.9978 - val_loss: 8.7020 - val_accuracy: 0.5956\n",
      "Epoch 3/5\n",
      "54/54 [==============================] - 11s 207ms/step - loss: 0.0073 - accuracy: 0.9977 - val_loss: 8.5332 - val_accuracy: 0.5948\n",
      "Epoch 4/5\n",
      "54/54 [==============================] - 11s 202ms/step - loss: 0.0067 - accuracy: 0.9979 - val_loss: 8.7145 - val_accuracy: 0.5947\n",
      "Epoch 5/5\n",
      "54/54 [==============================] - 11s 203ms/step - loss: 0.0069 - accuracy: 0.9979 - val_loss: 8.7776 - val_accuracy: 0.5950\n",
      "  15/4279 [..............................] - ETA: 14s - loss: 1.9590 - accuracy: 0.8833"
     ]
    },
    {
     "name": "stderr",
     "output_type": "stream",
     "text": [
      "c:\\Users\\UX430\\anaconda3\\lib\\site-packages\\numpy\\core\\_asarray.py:171: VisibleDeprecationWarning: Creating an ndarray from ragged nested sequences (which is a list-or-tuple of lists-or-tuples-or ndarrays with different lengths or shapes) is deprecated. If you meant to do this, you must specify 'dtype=object' when creating the ndarray.\n",
      "  return array(a, dtype, copy=False, order=order, subok=True)\n"
     ]
    },
    {
     "name": "stdout",
     "output_type": "stream",
     "text": [
      "4279/4279 [==============================] - 15s 4ms/step - loss: 2.0955 - accuracy: 0.8785\n",
      "   1/1721 [..............................] - ETA: 0s - loss: 16.9875 - accuracy: 0.0000e+00"
     ]
    },
    {
     "name": "stderr",
     "output_type": "stream",
     "text": [
      "c:\\Users\\UX430\\anaconda3\\lib\\site-packages\\sklearn\\metrics\\_classification.py:1308: UndefinedMetricWarning: Precision and F-score are ill-defined and being set to 0.0 in labels with no predicted samples. Use `zero_division` parameter to control this behavior.\n",
      "  _warn_prf(average, modifier, msg_start, len(result))\n",
      "c:\\Users\\UX430\\anaconda3\\lib\\site-packages\\sklearn\\metrics\\_classification.py:1308: UndefinedMetricWarning: Recall and F-score are ill-defined and being set to 0.0 in labels with no true samples. Use `zero_division` parameter to control this behavior.\n",
      "  _warn_prf(average, modifier, msg_start, len(result))\n",
      "c:\\Users\\UX430\\anaconda3\\lib\\site-packages\\sklearn\\metrics\\_classification.py:1308: UndefinedMetricWarning: Precision and F-score are ill-defined and being set to 0.0 in labels with no predicted samples. Use `zero_division` parameter to control this behavior.\n",
      "  _warn_prf(average, modifier, msg_start, len(result))\n",
      "c:\\Users\\UX430\\anaconda3\\lib\\site-packages\\sklearn\\metrics\\_classification.py:1308: UndefinedMetricWarning: Recall and F-score are ill-defined and being set to 0.0 in labels with no true samples. Use `zero_division` parameter to control this behavior.\n",
      "  _warn_prf(average, modifier, msg_start, len(result))\n",
      "c:\\Users\\UX430\\anaconda3\\lib\\site-packages\\sklearn\\metrics\\_classification.py:1308: UndefinedMetricWarning: Precision and F-score are ill-defined and being set to 0.0 in labels with no predicted samples. Use `zero_division` parameter to control this behavior.\n",
      "  _warn_prf(average, modifier, msg_start, len(result))\n",
      "c:\\Users\\UX430\\anaconda3\\lib\\site-packages\\sklearn\\metrics\\_classification.py:1308: UndefinedMetricWarning: Recall and F-score are ill-defined and being set to 0.0 in labels with no true samples. Use `zero_division` parameter to control this behavior.\n",
      "  _warn_prf(average, modifier, msg_start, len(result))\n"
     ]
    },
    {
     "name": "stdout",
     "output_type": "stream",
     "text": [
      "1721/1721 [==============================] - 6s 4ms/step - loss: 8.4080 - accuracy: 0.5574\n"
     ]
    },
    {
     "name": "stderr",
     "output_type": "stream",
     "text": [
      "c:\\Users\\UX430\\anaconda3\\lib\\site-packages\\sklearn\\metrics\\_classification.py:1308: UndefinedMetricWarning: Precision and F-score are ill-defined and being set to 0.0 in labels with no predicted samples. Use `zero_division` parameter to control this behavior.\n",
      "  _warn_prf(average, modifier, msg_start, len(result))\n",
      "c:\\Users\\UX430\\anaconda3\\lib\\site-packages\\sklearn\\metrics\\_classification.py:1308: UndefinedMetricWarning: Recall and F-score are ill-defined and being set to 0.0 in labels with no true samples. Use `zero_division` parameter to control this behavior.\n",
      "  _warn_prf(average, modifier, msg_start, len(result))\n",
      "c:\\Users\\UX430\\anaconda3\\lib\\site-packages\\sklearn\\metrics\\_classification.py:1308: UndefinedMetricWarning: Precision and F-score are ill-defined and being set to 0.0 in labels with no predicted samples. Use `zero_division` parameter to control this behavior.\n",
      "  _warn_prf(average, modifier, msg_start, len(result))\n",
      "c:\\Users\\UX430\\anaconda3\\lib\\site-packages\\sklearn\\metrics\\_classification.py:1308: UndefinedMetricWarning: Recall and F-score are ill-defined and being set to 0.0 in labels with no true samples. Use `zero_division` parameter to control this behavior.\n",
      "  _warn_prf(average, modifier, msg_start, len(result))\n",
      "c:\\Users\\UX430\\anaconda3\\lib\\site-packages\\sklearn\\metrics\\_classification.py:1308: UndefinedMetricWarning: Precision and F-score are ill-defined and being set to 0.0 in labels with no predicted samples. Use `zero_division` parameter to control this behavior.\n",
      "  _warn_prf(average, modifier, msg_start, len(result))\n",
      "c:\\Users\\UX430\\anaconda3\\lib\\site-packages\\sklearn\\metrics\\_classification.py:1308: UndefinedMetricWarning: Recall and F-score are ill-defined and being set to 0.0 in labels with no true samples. Use `zero_division` parameter to control this behavior.\n",
      "  _warn_prf(average, modifier, msg_start, len(result))\n"
     ]
    },
    {
     "name": "stdout",
     "output_type": "stream",
     "text": [
      "Epoch 1/5\n",
      "54/54 [==============================] - 11s 206ms/step - loss: 0.0078 - accuracy: 0.9980 - val_loss: 8.9234 - val_accuracy: 0.5927\n",
      "Epoch 2/5\n",
      "54/54 [==============================] - 11s 204ms/step - loss: 0.0076 - accuracy: 0.9981 - val_loss: 8.7160 - val_accuracy: 0.5919\n",
      "Epoch 3/5\n",
      "54/54 [==============================] - 11s 210ms/step - loss: 0.0076 - accuracy: 0.9979 - val_loss: 8.7193 - val_accuracy: 0.5916\n",
      "Epoch 4/5\n",
      "54/54 [==============================] - 11s 202ms/step - loss: 0.0082 - accuracy: 0.9980 - val_loss: 8.8119 - val_accuracy: 0.5918\n",
      "Epoch 5/5\n",
      "54/54 [==============================] - 11s 199ms/step - loss: 0.0072 - accuracy: 0.9983 - val_loss: 8.6222 - val_accuracy: 0.5916\n",
      "Epoch 1/5\n",
      "54/54 [==============================] - 11s 208ms/step - loss: 0.0072 - accuracy: 0.9978 - val_loss: 8.7365 - val_accuracy: 0.5936\n",
      "Epoch 2/5\n",
      "54/54 [==============================] - 11s 204ms/step - loss: 0.0068 - accuracy: 0.9981 - val_loss: 8.7887 - val_accuracy: 0.5933\n",
      "Epoch 3/5\n",
      "54/54 [==============================] - 11s 200ms/step - loss: 0.0068 - accuracy: 0.9980 - val_loss: 8.6594 - val_accuracy: 0.5934\n",
      "Epoch 4/5\n",
      "54/54 [==============================] - 11s 196ms/step - loss: 0.0067 - accuracy: 0.9980 - val_loss: 8.7391 - val_accuracy: 0.5934\n",
      "Epoch 5/5\n",
      "54/54 [==============================] - 11s 197ms/step - loss: 0.0068 - accuracy: 0.9980 - val_loss: 8.8463 - val_accuracy: 0.5929\n",
      "Epoch 1/5\n",
      "54/54 [==============================] - 11s 203ms/step - loss: 0.0070 - accuracy: 0.9978 - val_loss: 8.6323 - val_accuracy: 0.5949\n",
      "Epoch 2/5\n",
      "54/54 [==============================] - 11s 205ms/step - loss: 0.0065 - accuracy: 0.9980 - val_loss: 8.7030 - val_accuracy: 0.5945\n",
      "Epoch 3/5\n",
      "54/54 [==============================] - 11s 203ms/step - loss: 0.0075 - accuracy: 0.9974 - val_loss: 8.3019 - val_accuracy: 0.5949\n",
      "Epoch 4/5\n",
      "54/54 [==============================] - 12s 213ms/step - loss: 0.0067 - accuracy: 0.9979 - val_loss: 8.2585 - val_accuracy: 0.5944\n",
      "Epoch 5/5\n",
      "54/54 [==============================] - 11s 207ms/step - loss: 0.0065 - accuracy: 0.9980 - val_loss: 8.5151 - val_accuracy: 0.5948\n",
      "  27/4279 [..............................] - ETA: 16s - loss: 2.2016 - accuracy: 0.5428"
     ]
    },
    {
     "name": "stderr",
     "output_type": "stream",
     "text": [
      "c:\\Users\\UX430\\anaconda3\\lib\\site-packages\\numpy\\core\\_asarray.py:171: VisibleDeprecationWarning: Creating an ndarray from ragged nested sequences (which is a list-or-tuple of lists-or-tuples-or ndarrays with different lengths or shapes) is deprecated. If you meant to do this, you must specify 'dtype=object' when creating the ndarray.\n",
      "  return array(a, dtype, copy=False, order=order, subok=True)\n"
     ]
    },
    {
     "name": "stdout",
     "output_type": "stream",
     "text": [
      "4279/4279 [==============================] - 16s 4ms/step - loss: 2.4021 - accuracy: 0.5305\n",
      "   1/1721 [..............................] - ETA: 0s - loss: 16.9388 - accuracy: 0.0000e+00"
     ]
    },
    {
     "name": "stderr",
     "output_type": "stream",
     "text": [
      "c:\\Users\\UX430\\anaconda3\\lib\\site-packages\\sklearn\\metrics\\_classification.py:1308: UndefinedMetricWarning: Precision and F-score are ill-defined and being set to 0.0 in labels with no predicted samples. Use `zero_division` parameter to control this behavior.\n",
      "  _warn_prf(average, modifier, msg_start, len(result))\n",
      "c:\\Users\\UX430\\anaconda3\\lib\\site-packages\\sklearn\\metrics\\_classification.py:1308: UndefinedMetricWarning: Recall and F-score are ill-defined and being set to 0.0 in labels with no true samples. Use `zero_division` parameter to control this behavior.\n",
      "  _warn_prf(average, modifier, msg_start, len(result))\n",
      "c:\\Users\\UX430\\anaconda3\\lib\\site-packages\\sklearn\\metrics\\_classification.py:1308: UndefinedMetricWarning: Precision and F-score are ill-defined and being set to 0.0 in labels with no predicted samples. Use `zero_division` parameter to control this behavior.\n",
      "  _warn_prf(average, modifier, msg_start, len(result))\n",
      "c:\\Users\\UX430\\anaconda3\\lib\\site-packages\\sklearn\\metrics\\_classification.py:1308: UndefinedMetricWarning: Recall and F-score are ill-defined and being set to 0.0 in labels with no true samples. Use `zero_division` parameter to control this behavior.\n",
      "  _warn_prf(average, modifier, msg_start, len(result))\n",
      "c:\\Users\\UX430\\anaconda3\\lib\\site-packages\\sklearn\\metrics\\_classification.py:1308: UndefinedMetricWarning: Precision and F-score are ill-defined and being set to 0.0 in labels with no predicted samples. Use `zero_division` parameter to control this behavior.\n",
      "  _warn_prf(average, modifier, msg_start, len(result))\n",
      "c:\\Users\\UX430\\anaconda3\\lib\\site-packages\\sklearn\\metrics\\_classification.py:1308: UndefinedMetricWarning: Recall and F-score are ill-defined and being set to 0.0 in labels with no true samples. Use `zero_division` parameter to control this behavior.\n",
      "  _warn_prf(average, modifier, msg_start, len(result))\n"
     ]
    },
    {
     "name": "stdout",
     "output_type": "stream",
     "text": [
      "1721/1721 [==============================] - 6s 4ms/step - loss: 8.4060 - accuracy: 0.5576\n"
     ]
    },
    {
     "name": "stderr",
     "output_type": "stream",
     "text": [
      "c:\\Users\\UX430\\anaconda3\\lib\\site-packages\\sklearn\\metrics\\_classification.py:1308: UndefinedMetricWarning: Precision and F-score are ill-defined and being set to 0.0 in labels with no predicted samples. Use `zero_division` parameter to control this behavior.\n",
      "  _warn_prf(average, modifier, msg_start, len(result))\n",
      "c:\\Users\\UX430\\anaconda3\\lib\\site-packages\\sklearn\\metrics\\_classification.py:1308: UndefinedMetricWarning: Recall and F-score are ill-defined and being set to 0.0 in labels with no true samples. Use `zero_division` parameter to control this behavior.\n",
      "  _warn_prf(average, modifier, msg_start, len(result))\n",
      "c:\\Users\\UX430\\anaconda3\\lib\\site-packages\\sklearn\\metrics\\_classification.py:1308: UndefinedMetricWarning: Precision and F-score are ill-defined and being set to 0.0 in labels with no predicted samples. Use `zero_division` parameter to control this behavior.\n",
      "  _warn_prf(average, modifier, msg_start, len(result))\n",
      "c:\\Users\\UX430\\anaconda3\\lib\\site-packages\\sklearn\\metrics\\_classification.py:1308: UndefinedMetricWarning: Recall and F-score are ill-defined and being set to 0.0 in labels with no true samples. Use `zero_division` parameter to control this behavior.\n",
      "  _warn_prf(average, modifier, msg_start, len(result))\n",
      "c:\\Users\\UX430\\anaconda3\\lib\\site-packages\\sklearn\\metrics\\_classification.py:1308: UndefinedMetricWarning: Precision and F-score are ill-defined and being set to 0.0 in labels with no predicted samples. Use `zero_division` parameter to control this behavior.\n",
      "  _warn_prf(average, modifier, msg_start, len(result))\n",
      "c:\\Users\\UX430\\anaconda3\\lib\\site-packages\\sklearn\\metrics\\_classification.py:1308: UndefinedMetricWarning: Recall and F-score are ill-defined and being set to 0.0 in labels with no true samples. Use `zero_division` parameter to control this behavior.\n",
      "  _warn_prf(average, modifier, msg_start, len(result))\n"
     ]
    },
    {
     "name": "stdout",
     "output_type": "stream",
     "text": [
      "Epoch 1/5\n",
      "54/54 [==============================] - 11s 204ms/step - loss: 0.0070 - accuracy: 0.9981 - val_loss: 8.5778 - val_accuracy: 0.5923\n",
      "Epoch 2/5\n",
      "54/54 [==============================] - 11s 203ms/step - loss: 0.0066 - accuracy: 0.9983 - val_loss: 8.7160 - val_accuracy: 0.5926\n",
      "Epoch 3/5\n",
      "54/54 [==============================] - 11s 197ms/step - loss: 0.0073 - accuracy: 0.9981 - val_loss: 8.4976 - val_accuracy: 0.5920\n",
      "Epoch 4/5\n",
      "54/54 [==============================] - 11s 203ms/step - loss: 0.0068 - accuracy: 0.9982 - val_loss: 8.5907 - val_accuracy: 0.5922\n",
      "Epoch 5/5\n",
      "54/54 [==============================] - 11s 200ms/step - loss: 0.0077 - accuracy: 0.9981 - val_loss: 8.4387 - val_accuracy: 0.5924\n",
      "Epoch 1/5\n",
      "54/54 [==============================] - 11s 206ms/step - loss: 0.0069 - accuracy: 0.9980 - val_loss: 8.5802 - val_accuracy: 0.5931\n",
      "Epoch 2/5\n",
      "54/54 [==============================] - 11s 204ms/step - loss: 0.0066 - accuracy: 0.9979 - val_loss: 8.7472 - val_accuracy: 0.5937\n",
      "Epoch 3/5\n",
      "54/54 [==============================] - 11s 201ms/step - loss: 0.0066 - accuracy: 0.9980 - val_loss: 8.5067 - val_accuracy: 0.5935\n",
      "Epoch 4/5\n",
      "54/54 [==============================] - 11s 207ms/step - loss: 0.0064 - accuracy: 0.9981 - val_loss: 8.4472 - val_accuracy: 0.5930\n",
      "Epoch 5/5\n",
      "54/54 [==============================] - 11s 207ms/step - loss: 0.0064 - accuracy: 0.9981 - val_loss: 8.5832 - val_accuracy: 0.5934\n",
      "Epoch 1/5\n",
      "54/54 [==============================] - 11s 208ms/step - loss: 0.0069 - accuracy: 0.9978 - val_loss: 8.3643 - val_accuracy: 0.5952\n",
      "Epoch 2/5\n",
      "54/54 [==============================] - 11s 205ms/step - loss: 0.0064 - accuracy: 0.9980 - val_loss: 8.1535 - val_accuracy: 0.5944\n",
      "Epoch 3/5\n",
      "54/54 [==============================] - 11s 203ms/step - loss: 0.0062 - accuracy: 0.9980 - val_loss: 8.3171 - val_accuracy: 0.5946\n",
      "Epoch 4/5\n",
      "54/54 [==============================] - 11s 196ms/step - loss: 0.0063 - accuracy: 0.9979 - val_loss: 8.6509 - val_accuracy: 0.5955\n",
      "Epoch 5/5\n",
      "54/54 [==============================] - 11s 204ms/step - loss: 0.0063 - accuracy: 0.9980 - val_loss: 8.5912 - val_accuracy: 0.5948\n",
      "  27/4279 [..............................] - ETA: 16s - loss: 2.5411 - accuracy: 0.5440"
     ]
    },
    {
     "name": "stderr",
     "output_type": "stream",
     "text": [
      "c:\\Users\\UX430\\anaconda3\\lib\\site-packages\\numpy\\core\\_asarray.py:171: VisibleDeprecationWarning: Creating an ndarray from ragged nested sequences (which is a list-or-tuple of lists-or-tuples-or ndarrays with different lengths or shapes) is deprecated. If you meant to do this, you must specify 'dtype=object' when creating the ndarray.\n",
      "  return array(a, dtype, copy=False, order=order, subok=True)\n"
     ]
    },
    {
     "name": "stdout",
     "output_type": "stream",
     "text": [
      "4279/4279 [==============================] - 16s 4ms/step - loss: 2.7491 - accuracy: 0.5299\n",
      "   1/1721 [..............................] - ETA: 0s - loss: 17.0884 - accuracy: 0.0000e+00"
     ]
    },
    {
     "name": "stderr",
     "output_type": "stream",
     "text": [
      "c:\\Users\\UX430\\anaconda3\\lib\\site-packages\\sklearn\\metrics\\_classification.py:1308: UndefinedMetricWarning: Precision and F-score are ill-defined and being set to 0.0 in labels with no predicted samples. Use `zero_division` parameter to control this behavior.\n",
      "  _warn_prf(average, modifier, msg_start, len(result))\n",
      "c:\\Users\\UX430\\anaconda3\\lib\\site-packages\\sklearn\\metrics\\_classification.py:1308: UndefinedMetricWarning: Recall and F-score are ill-defined and being set to 0.0 in labels with no true samples. Use `zero_division` parameter to control this behavior.\n",
      "  _warn_prf(average, modifier, msg_start, len(result))\n",
      "c:\\Users\\UX430\\anaconda3\\lib\\site-packages\\sklearn\\metrics\\_classification.py:1308: UndefinedMetricWarning: Precision and F-score are ill-defined and being set to 0.0 in labels with no predicted samples. Use `zero_division` parameter to control this behavior.\n",
      "  _warn_prf(average, modifier, msg_start, len(result))\n",
      "c:\\Users\\UX430\\anaconda3\\lib\\site-packages\\sklearn\\metrics\\_classification.py:1308: UndefinedMetricWarning: Recall and F-score are ill-defined and being set to 0.0 in labels with no true samples. Use `zero_division` parameter to control this behavior.\n",
      "  _warn_prf(average, modifier, msg_start, len(result))\n",
      "c:\\Users\\UX430\\anaconda3\\lib\\site-packages\\sklearn\\metrics\\_classification.py:1308: UndefinedMetricWarning: Precision and F-score are ill-defined and being set to 0.0 in labels with no predicted samples. Use `zero_division` parameter to control this behavior.\n",
      "  _warn_prf(average, modifier, msg_start, len(result))\n",
      "c:\\Users\\UX430\\anaconda3\\lib\\site-packages\\sklearn\\metrics\\_classification.py:1308: UndefinedMetricWarning: Recall and F-score are ill-defined and being set to 0.0 in labels with no true samples. Use `zero_division` parameter to control this behavior.\n",
      "  _warn_prf(average, modifier, msg_start, len(result))\n"
     ]
    },
    {
     "name": "stdout",
     "output_type": "stream",
     "text": [
      "1721/1721 [==============================] - 7s 4ms/step - loss: 8.4185 - accuracy: 0.5574\n"
     ]
    },
    {
     "name": "stderr",
     "output_type": "stream",
     "text": [
      "c:\\Users\\UX430\\anaconda3\\lib\\site-packages\\sklearn\\metrics\\_classification.py:1308: UndefinedMetricWarning: Precision and F-score are ill-defined and being set to 0.0 in labels with no predicted samples. Use `zero_division` parameter to control this behavior.\n",
      "  _warn_prf(average, modifier, msg_start, len(result))\n",
      "c:\\Users\\UX430\\anaconda3\\lib\\site-packages\\sklearn\\metrics\\_classification.py:1308: UndefinedMetricWarning: Recall and F-score are ill-defined and being set to 0.0 in labels with no true samples. Use `zero_division` parameter to control this behavior.\n",
      "  _warn_prf(average, modifier, msg_start, len(result))\n",
      "c:\\Users\\UX430\\anaconda3\\lib\\site-packages\\sklearn\\metrics\\_classification.py:1308: UndefinedMetricWarning: Precision and F-score are ill-defined and being set to 0.0 in labels with no predicted samples. Use `zero_division` parameter to control this behavior.\n",
      "  _warn_prf(average, modifier, msg_start, len(result))\n",
      "c:\\Users\\UX430\\anaconda3\\lib\\site-packages\\sklearn\\metrics\\_classification.py:1308: UndefinedMetricWarning: Recall and F-score are ill-defined and being set to 0.0 in labels with no true samples. Use `zero_division` parameter to control this behavior.\n",
      "  _warn_prf(average, modifier, msg_start, len(result))\n",
      "c:\\Users\\UX430\\anaconda3\\lib\\site-packages\\sklearn\\metrics\\_classification.py:1308: UndefinedMetricWarning: Precision and F-score are ill-defined and being set to 0.0 in labels with no predicted samples. Use `zero_division` parameter to control this behavior.\n",
      "  _warn_prf(average, modifier, msg_start, len(result))\n",
      "c:\\Users\\UX430\\anaconda3\\lib\\site-packages\\sklearn\\metrics\\_classification.py:1308: UndefinedMetricWarning: Recall and F-score are ill-defined and being set to 0.0 in labels with no true samples. Use `zero_division` parameter to control this behavior.\n",
      "  _warn_prf(average, modifier, msg_start, len(result))\n"
     ]
    },
    {
     "name": "stdout",
     "output_type": "stream",
     "text": [
      "Epoch 1/5\n",
      "54/54 [==============================] - 11s 208ms/step - loss: 0.0070 - accuracy: 0.9982 - val_loss: 8.3969 - val_accuracy: 0.5920\n",
      "Epoch 2/5\n",
      "54/54 [==============================] - 11s 213ms/step - loss: 0.0069 - accuracy: 0.9982 - val_loss: 8.4184 - val_accuracy: 0.5925\n",
      "Epoch 3/5\n",
      "54/54 [==============================] - 11s 206ms/step - loss: 0.0063 - accuracy: 0.9983 - val_loss: 8.4579 - val_accuracy: 0.5921\n",
      "Epoch 4/5\n",
      "54/54 [==============================] - 12s 213ms/step - loss: 0.0065 - accuracy: 0.9983 - val_loss: 8.5447 - val_accuracy: 0.5913\n",
      "Epoch 5/5\n",
      "54/54 [==============================] - 11s 205ms/step - loss: 0.0069 - accuracy: 0.9983 - val_loss: 8.6548 - val_accuracy: 0.5927\n",
      "Epoch 1/5\n",
      "54/54 [==============================] - 11s 209ms/step - loss: 0.0067 - accuracy: 0.9978 - val_loss: 8.4756 - val_accuracy: 0.5931\n",
      "Epoch 2/5\n",
      "54/54 [==============================] - 11s 202ms/step - loss: 0.0066 - accuracy: 0.9979 - val_loss: 8.3768 - val_accuracy: 0.5931\n",
      "Epoch 3/5\n",
      "54/54 [==============================] - 11s 208ms/step - loss: 0.0063 - accuracy: 0.9981 - val_loss: 8.6397 - val_accuracy: 0.5935\n",
      "Epoch 4/5\n",
      "54/54 [==============================] - 11s 207ms/step - loss: 0.0064 - accuracy: 0.9981 - val_loss: 8.5420 - val_accuracy: 0.5934\n",
      "Epoch 5/5\n",
      "54/54 [==============================] - 11s 203ms/step - loss: 0.0061 - accuracy: 0.9982 - val_loss: 8.5560 - val_accuracy: 0.5933\n",
      "Epoch 1/5\n",
      "54/54 [==============================] - 11s 207ms/step - loss: 0.0064 - accuracy: 0.9979 - val_loss: 8.3884 - val_accuracy: 0.5948\n",
      "Epoch 2/5\n",
      "54/54 [==============================] - 11s 211ms/step - loss: 0.0060 - accuracy: 0.9981 - val_loss: 8.6433 - val_accuracy: 0.5948\n",
      "Epoch 3/5\n",
      "54/54 [==============================] - 11s 207ms/step - loss: 0.0061 - accuracy: 0.9981 - val_loss: 8.3449 - val_accuracy: 0.5948\n",
      "Epoch 4/5\n",
      "54/54 [==============================] - 11s 211ms/step - loss: 0.0059 - accuracy: 0.9981 - val_loss: 8.4874 - val_accuracy: 0.5942\n",
      "Epoch 5/5\n",
      "54/54 [==============================] - 11s 206ms/step - loss: 0.0058 - accuracy: 0.9982 - val_loss: 8.5455 - val_accuracy: 0.5945\n",
      "  27/4279 [..............................] - ETA: 16s - loss: 2.8611 - accuracy: 0.5440"
     ]
    },
    {
     "name": "stderr",
     "output_type": "stream",
     "text": [
      "c:\\Users\\UX430\\anaconda3\\lib\\site-packages\\numpy\\core\\_asarray.py:171: VisibleDeprecationWarning: Creating an ndarray from ragged nested sequences (which is a list-or-tuple of lists-or-tuples-or ndarrays with different lengths or shapes) is deprecated. If you meant to do this, you must specify 'dtype=object' when creating the ndarray.\n",
      "  return array(a, dtype, copy=False, order=order, subok=True)\n"
     ]
    },
    {
     "name": "stdout",
     "output_type": "stream",
     "text": [
      "4279/4279 [==============================] - 17s 4ms/step - loss: 3.0763 - accuracy: 0.5297\n",
      "   1/1721 [..............................] - ETA: 0s - loss: 17.7774 - accuracy: 0.0000e+00"
     ]
    },
    {
     "name": "stderr",
     "output_type": "stream",
     "text": [
      "c:\\Users\\UX430\\anaconda3\\lib\\site-packages\\sklearn\\metrics\\_classification.py:1308: UndefinedMetricWarning: Precision and F-score are ill-defined and being set to 0.0 in labels with no predicted samples. Use `zero_division` parameter to control this behavior.\n",
      "  _warn_prf(average, modifier, msg_start, len(result))\n",
      "c:\\Users\\UX430\\anaconda3\\lib\\site-packages\\sklearn\\metrics\\_classification.py:1308: UndefinedMetricWarning: Recall and F-score are ill-defined and being set to 0.0 in labels with no true samples. Use `zero_division` parameter to control this behavior.\n",
      "  _warn_prf(average, modifier, msg_start, len(result))\n",
      "c:\\Users\\UX430\\anaconda3\\lib\\site-packages\\sklearn\\metrics\\_classification.py:1308: UndefinedMetricWarning: Precision and F-score are ill-defined and being set to 0.0 in labels with no predicted samples. Use `zero_division` parameter to control this behavior.\n",
      "  _warn_prf(average, modifier, msg_start, len(result))\n",
      "c:\\Users\\UX430\\anaconda3\\lib\\site-packages\\sklearn\\metrics\\_classification.py:1308: UndefinedMetricWarning: Recall and F-score are ill-defined and being set to 0.0 in labels with no true samples. Use `zero_division` parameter to control this behavior.\n",
      "  _warn_prf(average, modifier, msg_start, len(result))\n",
      "c:\\Users\\UX430\\anaconda3\\lib\\site-packages\\sklearn\\metrics\\_classification.py:1308: UndefinedMetricWarning: Precision and F-score are ill-defined and being set to 0.0 in labels with no predicted samples. Use `zero_division` parameter to control this behavior.\n",
      "  _warn_prf(average, modifier, msg_start, len(result))\n",
      "c:\\Users\\UX430\\anaconda3\\lib\\site-packages\\sklearn\\metrics\\_classification.py:1308: UndefinedMetricWarning: Recall and F-score are ill-defined and being set to 0.0 in labels with no true samples. Use `zero_division` parameter to control this behavior.\n",
      "  _warn_prf(average, modifier, msg_start, len(result))\n"
     ]
    },
    {
     "name": "stdout",
     "output_type": "stream",
     "text": [
      "1721/1721 [==============================] - 7s 4ms/step - loss: 8.7442 - accuracy: 0.5569\n"
     ]
    },
    {
     "name": "stderr",
     "output_type": "stream",
     "text": [
      "c:\\Users\\UX430\\anaconda3\\lib\\site-packages\\sklearn\\metrics\\_classification.py:1308: UndefinedMetricWarning: Precision and F-score are ill-defined and being set to 0.0 in labels with no predicted samples. Use `zero_division` parameter to control this behavior.\n",
      "  _warn_prf(average, modifier, msg_start, len(result))\n",
      "c:\\Users\\UX430\\anaconda3\\lib\\site-packages\\sklearn\\metrics\\_classification.py:1308: UndefinedMetricWarning: Recall and F-score are ill-defined and being set to 0.0 in labels with no true samples. Use `zero_division` parameter to control this behavior.\n",
      "  _warn_prf(average, modifier, msg_start, len(result))\n",
      "c:\\Users\\UX430\\anaconda3\\lib\\site-packages\\sklearn\\metrics\\_classification.py:1308: UndefinedMetricWarning: Precision and F-score are ill-defined and being set to 0.0 in labels with no predicted samples. Use `zero_division` parameter to control this behavior.\n",
      "  _warn_prf(average, modifier, msg_start, len(result))\n",
      "c:\\Users\\UX430\\anaconda3\\lib\\site-packages\\sklearn\\metrics\\_classification.py:1308: UndefinedMetricWarning: Recall and F-score are ill-defined and being set to 0.0 in labels with no true samples. Use `zero_division` parameter to control this behavior.\n",
      "  _warn_prf(average, modifier, msg_start, len(result))\n",
      "c:\\Users\\UX430\\anaconda3\\lib\\site-packages\\sklearn\\metrics\\_classification.py:1308: UndefinedMetricWarning: Precision and F-score are ill-defined and being set to 0.0 in labels with no predicted samples. Use `zero_division` parameter to control this behavior.\n",
      "  _warn_prf(average, modifier, msg_start, len(result))\n",
      "c:\\Users\\UX430\\anaconda3\\lib\\site-packages\\sklearn\\metrics\\_classification.py:1308: UndefinedMetricWarning: Recall and F-score are ill-defined and being set to 0.0 in labels with no true samples. Use `zero_division` parameter to control this behavior.\n",
      "  _warn_prf(average, modifier, msg_start, len(result))\n"
     ]
    },
    {
     "name": "stdout",
     "output_type": "stream",
     "text": [
      "Epoch 1/5\n",
      "54/54 [==============================] - 11s 207ms/step - loss: 0.0067 - accuracy: 0.9983 - val_loss: 8.3746 - val_accuracy: 0.5922\n",
      "Epoch 2/5\n",
      "54/54 [==============================] - 11s 205ms/step - loss: 0.0061 - accuracy: 0.9984 - val_loss: 8.6830 - val_accuracy: 0.5929\n",
      "Epoch 3/5\n",
      "54/54 [==============================] - 11s 205ms/step - loss: 0.0060 - accuracy: 0.9984 - val_loss: 8.6228 - val_accuracy: 0.5924\n",
      "Epoch 4/5\n",
      "54/54 [==============================] - 11s 205ms/step - loss: 0.0063 - accuracy: 0.9984 - val_loss: 8.6190 - val_accuracy: 0.5927\n",
      "Epoch 5/5\n",
      "54/54 [==============================] - 11s 204ms/step - loss: 0.0063 - accuracy: 0.9984 - val_loss: 8.5401 - val_accuracy: 0.5920\n",
      "Epoch 1/5\n",
      "54/54 [==============================] - 11s 208ms/step - loss: 0.0065 - accuracy: 0.9980 - val_loss: 8.6326 - val_accuracy: 0.5934\n",
      "Epoch 2/5\n",
      "54/54 [==============================] - 13s 237ms/step - loss: 0.0065 - accuracy: 0.9980 - val_loss: 8.4794 - val_accuracy: 0.5934\n",
      "Epoch 3/5\n",
      "54/54 [==============================] - 12s 218ms/step - loss: 0.0059 - accuracy: 0.9982 - val_loss: 8.6125 - val_accuracy: 0.5934\n",
      "Epoch 4/5\n",
      "54/54 [==============================] - 11s 205ms/step - loss: 0.0061 - accuracy: 0.9982 - val_loss: 8.5547 - val_accuracy: 0.5934\n",
      "Epoch 5/5\n",
      "54/54 [==============================] - 11s 202ms/step - loss: 0.0062 - accuracy: 0.9981 - val_loss: 8.5460 - val_accuracy: 0.5937\n",
      "Epoch 1/5\n",
      "54/54 [==============================] - 11s 209ms/step - loss: 0.0063 - accuracy: 0.9979 - val_loss: 8.2676 - val_accuracy: 0.5949\n",
      "Epoch 2/5\n",
      "54/54 [==============================] - 11s 209ms/step - loss: 0.0062 - accuracy: 0.9981 - val_loss: 8.4061 - val_accuracy: 0.5953\n",
      "Epoch 3/5\n",
      "54/54 [==============================] - 11s 209ms/step - loss: 0.0059 - accuracy: 0.9981 - val_loss: 8.4897 - val_accuracy: 0.5950\n",
      "Epoch 4/5\n",
      "54/54 [==============================] - 11s 210ms/step - loss: 0.0059 - accuracy: 0.9981 - val_loss: 8.1692 - val_accuracy: 0.5943\n",
      "Epoch 5/5\n",
      "54/54 [==============================] - 12s 215ms/step - loss: 0.0060 - accuracy: 0.9980 - val_loss: 8.4484 - val_accuracy: 0.5951\n",
      "  14/4279 [..............................] - ETA: 16s - loss: 3.0580 - accuracy: 0.5491"
     ]
    },
    {
     "name": "stderr",
     "output_type": "stream",
     "text": [
      "c:\\Users\\UX430\\anaconda3\\lib\\site-packages\\numpy\\core\\_asarray.py:171: VisibleDeprecationWarning: Creating an ndarray from ragged nested sequences (which is a list-or-tuple of lists-or-tuples-or ndarrays with different lengths or shapes) is deprecated. If you meant to do this, you must specify 'dtype=object' when creating the ndarray.\n",
      "  return array(a, dtype, copy=False, order=order, subok=True)\n"
     ]
    },
    {
     "name": "stdout",
     "output_type": "stream",
     "text": [
      "4279/4279 [==============================] - 17s 4ms/step - loss: 3.2958 - accuracy: 0.5295\n",
      "   1/1721 [..............................] - ETA: 0s - loss: 17.9849 - accuracy: 0.0000e+00"
     ]
    },
    {
     "name": "stderr",
     "output_type": "stream",
     "text": [
      "c:\\Users\\UX430\\anaconda3\\lib\\site-packages\\sklearn\\metrics\\_classification.py:1308: UndefinedMetricWarning: Precision and F-score are ill-defined and being set to 0.0 in labels with no predicted samples. Use `zero_division` parameter to control this behavior.\n",
      "  _warn_prf(average, modifier, msg_start, len(result))\n",
      "c:\\Users\\UX430\\anaconda3\\lib\\site-packages\\sklearn\\metrics\\_classification.py:1308: UndefinedMetricWarning: Recall and F-score are ill-defined and being set to 0.0 in labels with no true samples. Use `zero_division` parameter to control this behavior.\n",
      "  _warn_prf(average, modifier, msg_start, len(result))\n",
      "c:\\Users\\UX430\\anaconda3\\lib\\site-packages\\sklearn\\metrics\\_classification.py:1308: UndefinedMetricWarning: Precision and F-score are ill-defined and being set to 0.0 in labels with no predicted samples. Use `zero_division` parameter to control this behavior.\n",
      "  _warn_prf(average, modifier, msg_start, len(result))\n",
      "c:\\Users\\UX430\\anaconda3\\lib\\site-packages\\sklearn\\metrics\\_classification.py:1308: UndefinedMetricWarning: Recall and F-score are ill-defined and being set to 0.0 in labels with no true samples. Use `zero_division` parameter to control this behavior.\n",
      "  _warn_prf(average, modifier, msg_start, len(result))\n",
      "c:\\Users\\UX430\\anaconda3\\lib\\site-packages\\sklearn\\metrics\\_classification.py:1308: UndefinedMetricWarning: Precision and F-score are ill-defined and being set to 0.0 in labels with no predicted samples. Use `zero_division` parameter to control this behavior.\n",
      "  _warn_prf(average, modifier, msg_start, len(result))\n",
      "c:\\Users\\UX430\\anaconda3\\lib\\site-packages\\sklearn\\metrics\\_classification.py:1308: UndefinedMetricWarning: Recall and F-score are ill-defined and being set to 0.0 in labels with no true samples. Use `zero_division` parameter to control this behavior.\n",
      "  _warn_prf(average, modifier, msg_start, len(result))\n"
     ]
    },
    {
     "name": "stdout",
     "output_type": "stream",
     "text": [
      "1721/1721 [==============================] - 7s 4ms/step - loss: 8.8156 - accuracy: 0.5566TA: 1\n"
     ]
    },
    {
     "name": "stderr",
     "output_type": "stream",
     "text": [
      "c:\\Users\\UX430\\anaconda3\\lib\\site-packages\\sklearn\\metrics\\_classification.py:1308: UndefinedMetricWarning: Precision and F-score are ill-defined and being set to 0.0 in labels with no predicted samples. Use `zero_division` parameter to control this behavior.\n",
      "  _warn_prf(average, modifier, msg_start, len(result))\n",
      "c:\\Users\\UX430\\anaconda3\\lib\\site-packages\\sklearn\\metrics\\_classification.py:1308: UndefinedMetricWarning: Recall and F-score are ill-defined and being set to 0.0 in labels with no true samples. Use `zero_division` parameter to control this behavior.\n",
      "  _warn_prf(average, modifier, msg_start, len(result))\n",
      "c:\\Users\\UX430\\anaconda3\\lib\\site-packages\\sklearn\\metrics\\_classification.py:1308: UndefinedMetricWarning: Precision and F-score are ill-defined and being set to 0.0 in labels with no predicted samples. Use `zero_division` parameter to control this behavior.\n",
      "  _warn_prf(average, modifier, msg_start, len(result))\n",
      "c:\\Users\\UX430\\anaconda3\\lib\\site-packages\\sklearn\\metrics\\_classification.py:1308: UndefinedMetricWarning: Recall and F-score are ill-defined and being set to 0.0 in labels with no true samples. Use `zero_division` parameter to control this behavior.\n",
      "  _warn_prf(average, modifier, msg_start, len(result))\n",
      "c:\\Users\\UX430\\anaconda3\\lib\\site-packages\\sklearn\\metrics\\_classification.py:1308: UndefinedMetricWarning: Precision and F-score are ill-defined and being set to 0.0 in labels with no predicted samples. Use `zero_division` parameter to control this behavior.\n",
      "  _warn_prf(average, modifier, msg_start, len(result))\n",
      "c:\\Users\\UX430\\anaconda3\\lib\\site-packages\\sklearn\\metrics\\_classification.py:1308: UndefinedMetricWarning: Recall and F-score are ill-defined and being set to 0.0 in labels with no true samples. Use `zero_division` parameter to control this behavior.\n",
      "  _warn_prf(average, modifier, msg_start, len(result))\n"
     ]
    },
    {
     "name": "stdout",
     "output_type": "stream",
     "text": [
      "Epoch 1/5\n",
      "54/54 [==============================] - 12s 216ms/step - loss: 0.0061 - accuracy: 0.9982 - val_loss: 8.3159 - val_accuracy: 0.5924\n",
      "Epoch 2/5\n",
      "54/54 [==============================] - 12s 213ms/step - loss: 0.0058 - accuracy: 0.9984 - val_loss: 8.5798 - val_accuracy: 0.5923\n",
      "Epoch 3/5\n",
      "54/54 [==============================] - 11s 211ms/step - loss: 0.0060 - accuracy: 0.9984 - val_loss: 8.6754 - val_accuracy: 0.5926\n",
      "Epoch 4/5\n",
      "54/54 [==============================] - 12s 213ms/step - loss: 0.0059 - accuracy: 0.9985 - val_loss: 8.7191 - val_accuracy: 0.5928\n",
      "Epoch 5/5\n",
      "54/54 [==============================] - 11s 211ms/step - loss: 0.0055 - accuracy: 0.9984 - val_loss: 8.6656 - val_accuracy: 0.5924\n",
      "Epoch 1/5\n",
      "54/54 [==============================] - 12s 215ms/step - loss: 0.0063 - accuracy: 0.9981 - val_loss: 8.4591 - val_accuracy: 0.5929\n",
      "Epoch 2/5\n",
      "54/54 [==============================] - 12s 215ms/step - loss: 0.0059 - accuracy: 0.9982 - val_loss: 8.7078 - val_accuracy: 0.5932\n",
      "Epoch 3/5\n",
      "54/54 [==============================] - 11s 211ms/step - loss: 0.0060 - accuracy: 0.9982 - val_loss: 8.6585 - val_accuracy: 0.5933\n",
      "Epoch 4/5\n",
      "54/54 [==============================] - 11s 210ms/step - loss: 0.0064 - accuracy: 0.9981 - val_loss: 8.4680 - val_accuracy: 0.5936\n",
      "Epoch 5/5\n",
      "54/54 [==============================] - 11s 212ms/step - loss: 0.0058 - accuracy: 0.9983 - val_loss: 8.3914 - val_accuracy: 0.5933\n",
      "Epoch 1/5\n",
      "54/54 [==============================] - 12s 215ms/step - loss: 0.0061 - accuracy: 0.9979 - val_loss: 8.0538 - val_accuracy: 0.5947\n",
      "Epoch 2/5\n",
      "54/54 [==============================] - 12s 218ms/step - loss: 0.0056 - accuracy: 0.9982 - val_loss: 8.3554 - val_accuracy: 0.5948\n",
      "Epoch 3/5\n",
      "54/54 [==============================] - 11s 213ms/step - loss: 0.0057 - accuracy: 0.9982 - val_loss: 8.3092 - val_accuracy: 0.5944\n",
      "Epoch 4/5\n",
      "54/54 [==============================] - 11s 208ms/step - loss: 0.0057 - accuracy: 0.9981 - val_loss: 8.4717 - val_accuracy: 0.5948\n",
      "Epoch 5/5\n",
      "54/54 [==============================] - 11s 209ms/step - loss: 0.0058 - accuracy: 0.9982 - val_loss: 8.5956 - val_accuracy: 0.5952\n",
      "  26/4279 [..............................] - ETA: 17s - loss: 3.3889 - accuracy: 0.5421"
     ]
    },
    {
     "name": "stderr",
     "output_type": "stream",
     "text": [
      "c:\\Users\\UX430\\anaconda3\\lib\\site-packages\\numpy\\core\\_asarray.py:171: VisibleDeprecationWarning: Creating an ndarray from ragged nested sequences (which is a list-or-tuple of lists-or-tuples-or ndarrays with different lengths or shapes) is deprecated. If you meant to do this, you must specify 'dtype=object' when creating the ndarray.\n",
      "  return array(a, dtype, copy=False, order=order, subok=True)\n"
     ]
    },
    {
     "name": "stdout",
     "output_type": "stream",
     "text": [
      "4279/4279 [==============================] - 17s 4ms/step - loss: 3.6248 - accuracy: 0.5295\n",
      "   1/1721 [..............................] - ETA: 0s - loss: 18.6527 - accuracy: 0.0000e+00"
     ]
    },
    {
     "name": "stderr",
     "output_type": "stream",
     "text": [
      "c:\\Users\\UX430\\anaconda3\\lib\\site-packages\\sklearn\\metrics\\_classification.py:1308: UndefinedMetricWarning: Precision and F-score are ill-defined and being set to 0.0 in labels with no predicted samples. Use `zero_division` parameter to control this behavior.\n",
      "  _warn_prf(average, modifier, msg_start, len(result))\n",
      "c:\\Users\\UX430\\anaconda3\\lib\\site-packages\\sklearn\\metrics\\_classification.py:1308: UndefinedMetricWarning: Recall and F-score are ill-defined and being set to 0.0 in labels with no true samples. Use `zero_division` parameter to control this behavior.\n",
      "  _warn_prf(average, modifier, msg_start, len(result))\n",
      "c:\\Users\\UX430\\anaconda3\\lib\\site-packages\\sklearn\\metrics\\_classification.py:1308: UndefinedMetricWarning: Precision and F-score are ill-defined and being set to 0.0 in labels with no predicted samples. Use `zero_division` parameter to control this behavior.\n",
      "  _warn_prf(average, modifier, msg_start, len(result))\n",
      "c:\\Users\\UX430\\anaconda3\\lib\\site-packages\\sklearn\\metrics\\_classification.py:1308: UndefinedMetricWarning: Recall and F-score are ill-defined and being set to 0.0 in labels with no true samples. Use `zero_division` parameter to control this behavior.\n",
      "  _warn_prf(average, modifier, msg_start, len(result))\n",
      "c:\\Users\\UX430\\anaconda3\\lib\\site-packages\\sklearn\\metrics\\_classification.py:1308: UndefinedMetricWarning: Precision and F-score are ill-defined and being set to 0.0 in labels with no predicted samples. Use `zero_division` parameter to control this behavior.\n",
      "  _warn_prf(average, modifier, msg_start, len(result))\n",
      "c:\\Users\\UX430\\anaconda3\\lib\\site-packages\\sklearn\\metrics\\_classification.py:1308: UndefinedMetricWarning: Recall and F-score are ill-defined and being set to 0.0 in labels with no true samples. Use `zero_division` parameter to control this behavior.\n",
      "  _warn_prf(average, modifier, msg_start, len(result))\n"
     ]
    },
    {
     "name": "stdout",
     "output_type": "stream",
     "text": [
      "1721/1721 [==============================] - 7s 4ms/step - loss: 9.1613 - accuracy: 0.5560\n"
     ]
    },
    {
     "name": "stderr",
     "output_type": "stream",
     "text": [
      "c:\\Users\\UX430\\anaconda3\\lib\\site-packages\\sklearn\\metrics\\_classification.py:1308: UndefinedMetricWarning: Precision and F-score are ill-defined and being set to 0.0 in labels with no predicted samples. Use `zero_division` parameter to control this behavior.\n",
      "  _warn_prf(average, modifier, msg_start, len(result))\n",
      "c:\\Users\\UX430\\anaconda3\\lib\\site-packages\\sklearn\\metrics\\_classification.py:1308: UndefinedMetricWarning: Recall and F-score are ill-defined and being set to 0.0 in labels with no true samples. Use `zero_division` parameter to control this behavior.\n",
      "  _warn_prf(average, modifier, msg_start, len(result))\n",
      "c:\\Users\\UX430\\anaconda3\\lib\\site-packages\\sklearn\\metrics\\_classification.py:1308: UndefinedMetricWarning: Precision and F-score are ill-defined and being set to 0.0 in labels with no predicted samples. Use `zero_division` parameter to control this behavior.\n",
      "  _warn_prf(average, modifier, msg_start, len(result))\n",
      "c:\\Users\\UX430\\anaconda3\\lib\\site-packages\\sklearn\\metrics\\_classification.py:1308: UndefinedMetricWarning: Recall and F-score are ill-defined and being set to 0.0 in labels with no true samples. Use `zero_division` parameter to control this behavior.\n",
      "  _warn_prf(average, modifier, msg_start, len(result))\n",
      "c:\\Users\\UX430\\anaconda3\\lib\\site-packages\\sklearn\\metrics\\_classification.py:1308: UndefinedMetricWarning: Precision and F-score are ill-defined and being set to 0.0 in labels with no predicted samples. Use `zero_division` parameter to control this behavior.\n",
      "  _warn_prf(average, modifier, msg_start, len(result))\n",
      "c:\\Users\\UX430\\anaconda3\\lib\\site-packages\\sklearn\\metrics\\_classification.py:1308: UndefinedMetricWarning: Recall and F-score are ill-defined and being set to 0.0 in labels with no true samples. Use `zero_division` parameter to control this behavior.\n",
      "  _warn_prf(average, modifier, msg_start, len(result))\n"
     ]
    },
    {
     "name": "stdout",
     "output_type": "stream",
     "text": [
      "Epoch 1/5\n",
      "54/54 [==============================] - 11s 209ms/step - loss: 0.0059 - accuracy: 0.9984 - val_loss: 8.7853 - val_accuracy: 0.5931\n",
      "Epoch 2/5\n",
      "54/54 [==============================] - 12s 224ms/step - loss: 0.0062 - accuracy: 0.9984 - val_loss: 8.6518 - val_accuracy: 0.5926\n",
      "Epoch 3/5\n",
      "54/54 [==============================] - 12s 219ms/step - loss: 0.0063 - accuracy: 0.9985 - val_loss: 8.6508 - val_accuracy: 0.5926\n",
      "Epoch 4/5\n",
      "54/54 [==============================] - 11s 210ms/step - loss: 0.0058 - accuracy: 0.9985 - val_loss: 8.6649 - val_accuracy: 0.5926\n",
      "Epoch 5/5\n",
      "54/54 [==============================] - 11s 209ms/step - loss: 0.0057 - accuracy: 0.9984 - val_loss: 8.6275 - val_accuracy: 0.5922\n",
      "Epoch 1/5\n",
      "54/54 [==============================] - 12s 223ms/step - loss: 0.0063 - accuracy: 0.9980 - val_loss: 8.4695 - val_accuracy: 0.5931\n",
      "Epoch 2/5\n",
      "54/54 [==============================] - 12s 217ms/step - loss: 0.0057 - accuracy: 0.9983 - val_loss: 8.6848 - val_accuracy: 0.5931\n",
      "Epoch 3/5\n",
      "54/54 [==============================] - 12s 222ms/step - loss: 0.0058 - accuracy: 0.9982 - val_loss: 8.6028 - val_accuracy: 0.5929\n",
      "Epoch 4/5\n",
      "54/54 [==============================] - 11s 210ms/step - loss: 0.0058 - accuracy: 0.9983 - val_loss: 8.6672 - val_accuracy: 0.5933\n",
      "Epoch 5/5\n",
      "54/54 [==============================] - 11s 212ms/step - loss: 0.0057 - accuracy: 0.9982 - val_loss: 9.0744 - val_accuracy: 0.5939\n",
      "Epoch 1/5\n",
      "54/54 [==============================] - 13s 239ms/step - loss: 0.0059 - accuracy: 0.9981 - val_loss: 8.3366 - val_accuracy: 0.5947\n",
      "Epoch 2/5\n",
      "54/54 [==============================] - 13s 248ms/step - loss: 0.0056 - accuracy: 0.9982 - val_loss: 8.3697 - val_accuracy: 0.5947\n",
      "Epoch 3/5\n",
      "54/54 [==============================] - 12s 228ms/step - loss: 0.0055 - accuracy: 0.9982 - val_loss: 8.3697 - val_accuracy: 0.5942\n",
      "Epoch 4/5\n",
      "54/54 [==============================] - 12s 226ms/step - loss: 0.0053 - accuracy: 0.9983 - val_loss: 8.7322 - val_accuracy: 0.5951\n",
      "Epoch 5/5\n",
      "54/54 [==============================] - 13s 232ms/step - loss: 0.0053 - accuracy: 0.9982 - val_loss: 8.6022 - val_accuracy: 0.5948\n",
      "  13/4279 [..............................] - ETA: 17s - loss: 3.6896 - accuracy: 0.5553"
     ]
    },
    {
     "name": "stderr",
     "output_type": "stream",
     "text": [
      "c:\\Users\\UX430\\anaconda3\\lib\\site-packages\\numpy\\core\\_asarray.py:171: VisibleDeprecationWarning: Creating an ndarray from ragged nested sequences (which is a list-or-tuple of lists-or-tuples-or ndarrays with different lengths or shapes) is deprecated. If you meant to do this, you must specify 'dtype=object' when creating the ndarray.\n",
      "  return array(a, dtype, copy=False, order=order, subok=True)\n"
     ]
    },
    {
     "name": "stdout",
     "output_type": "stream",
     "text": [
      "4279/4279 [==============================] - 18s 4ms/step - loss: 3.9819 - accuracy: 0.5292\n"
     ]
    },
    {
     "name": "stderr",
     "output_type": "stream",
     "text": [
      "c:\\Users\\UX430\\anaconda3\\lib\\site-packages\\sklearn\\metrics\\_classification.py:1308: UndefinedMetricWarning: Precision and F-score are ill-defined and being set to 0.0 in labels with no predicted samples. Use `zero_division` parameter to control this behavior.\n",
      "  _warn_prf(average, modifier, msg_start, len(result))\n",
      "c:\\Users\\UX430\\anaconda3\\lib\\site-packages\\sklearn\\metrics\\_classification.py:1308: UndefinedMetricWarning: Recall and F-score are ill-defined and being set to 0.0 in labels with no true samples. Use `zero_division` parameter to control this behavior.\n",
      "  _warn_prf(average, modifier, msg_start, len(result))\n",
      "c:\\Users\\UX430\\anaconda3\\lib\\site-packages\\sklearn\\metrics\\_classification.py:1308: UndefinedMetricWarning: Precision and F-score are ill-defined and being set to 0.0 in labels with no predicted samples. Use `zero_division` parameter to control this behavior.\n",
      "  _warn_prf(average, modifier, msg_start, len(result))\n",
      "c:\\Users\\UX430\\anaconda3\\lib\\site-packages\\sklearn\\metrics\\_classification.py:1308: UndefinedMetricWarning: Recall and F-score are ill-defined and being set to 0.0 in labels with no true samples. Use `zero_division` parameter to control this behavior.\n",
      "  _warn_prf(average, modifier, msg_start, len(result))\n",
      "c:\\Users\\UX430\\anaconda3\\lib\\site-packages\\sklearn\\metrics\\_classification.py:1308: UndefinedMetricWarning: Precision and F-score are ill-defined and being set to 0.0 in labels with no predicted samples. Use `zero_division` parameter to control this behavior.\n",
      "  _warn_prf(average, modifier, msg_start, len(result))\n",
      "c:\\Users\\UX430\\anaconda3\\lib\\site-packages\\sklearn\\metrics\\_classification.py:1308: UndefinedMetricWarning: Recall and F-score are ill-defined and being set to 0.0 in labels with no true samples. Use `zero_division` parameter to control this behavior.\n",
      "  _warn_prf(average, modifier, msg_start, len(result))\n"
     ]
    },
    {
     "name": "stdout",
     "output_type": "stream",
     "text": [
      "1721/1721 [==============================] - 7s 4ms/step - loss: 9.4881 - accuracy: 0.5556\n"
     ]
    },
    {
     "name": "stderr",
     "output_type": "stream",
     "text": [
      "c:\\Users\\UX430\\anaconda3\\lib\\site-packages\\sklearn\\metrics\\_classification.py:1308: UndefinedMetricWarning: Precision and F-score are ill-defined and being set to 0.0 in labels with no predicted samples. Use `zero_division` parameter to control this behavior.\n",
      "  _warn_prf(average, modifier, msg_start, len(result))\n",
      "c:\\Users\\UX430\\anaconda3\\lib\\site-packages\\sklearn\\metrics\\_classification.py:1308: UndefinedMetricWarning: Recall and F-score are ill-defined and being set to 0.0 in labels with no true samples. Use `zero_division` parameter to control this behavior.\n",
      "  _warn_prf(average, modifier, msg_start, len(result))\n",
      "c:\\Users\\UX430\\anaconda3\\lib\\site-packages\\sklearn\\metrics\\_classification.py:1308: UndefinedMetricWarning: Precision and F-score are ill-defined and being set to 0.0 in labels with no predicted samples. Use `zero_division` parameter to control this behavior.\n",
      "  _warn_prf(average, modifier, msg_start, len(result))\n",
      "c:\\Users\\UX430\\anaconda3\\lib\\site-packages\\sklearn\\metrics\\_classification.py:1308: UndefinedMetricWarning: Recall and F-score are ill-defined and being set to 0.0 in labels with no true samples. Use `zero_division` parameter to control this behavior.\n",
      "  _warn_prf(average, modifier, msg_start, len(result))\n",
      "c:\\Users\\UX430\\anaconda3\\lib\\site-packages\\sklearn\\metrics\\_classification.py:1308: UndefinedMetricWarning: Precision and F-score are ill-defined and being set to 0.0 in labels with no predicted samples. Use `zero_division` parameter to control this behavior.\n",
      "  _warn_prf(average, modifier, msg_start, len(result))\n",
      "c:\\Users\\UX430\\anaconda3\\lib\\site-packages\\sklearn\\metrics\\_classification.py:1308: UndefinedMetricWarning: Recall and F-score are ill-defined and being set to 0.0 in labels with no true samples. Use `zero_division` parameter to control this behavior.\n",
      "  _warn_prf(average, modifier, msg_start, len(result))\n"
     ]
    },
    {
     "name": "stdout",
     "output_type": "stream",
     "text": [
      "Epoch 1/5\n",
      "54/54 [==============================] - 12s 223ms/step - loss: 0.0064 - accuracy: 0.9985 - val_loss: 8.6424 - val_accuracy: 0.5925\n",
      "Epoch 2/5\n",
      "54/54 [==============================] - 12s 230ms/step - loss: 0.0059 - accuracy: 0.9984 - val_loss: 8.6502 - val_accuracy: 0.5926\n",
      "Epoch 3/5\n",
      "54/54 [==============================] - 12s 220ms/step - loss: 0.0054 - accuracy: 0.9984 - val_loss: 8.6610 - val_accuracy: 0.5921\n",
      "Epoch 4/5\n",
      "54/54 [==============================] - 12s 222ms/step - loss: 0.0053 - accuracy: 0.9985 - val_loss: 8.8148 - val_accuracy: 0.5926\n",
      "Epoch 5/5\n",
      "54/54 [==============================] - 12s 221ms/step - loss: 0.0058 - accuracy: 0.9985 - val_loss: 8.7907 - val_accuracy: 0.5924\n",
      "Epoch 1/5\n",
      "54/54 [==============================] - 12s 225ms/step - loss: 0.0062 - accuracy: 0.9980 - val_loss: 8.8601 - val_accuracy: 0.5938\n",
      "Epoch 2/5\n",
      "54/54 [==============================] - 12s 223ms/step - loss: 0.0057 - accuracy: 0.9983 - val_loss: 8.7626 - val_accuracy: 0.5935\n",
      "Epoch 3/5\n",
      "54/54 [==============================] - 12s 224ms/step - loss: 0.0057 - accuracy: 0.9982 - val_loss: 8.8486 - val_accuracy: 0.5936\n",
      "Epoch 4/5\n",
      "54/54 [==============================] - 12s 217ms/step - loss: 0.0056 - accuracy: 0.9983 - val_loss: 8.6480 - val_accuracy: 0.5931\n",
      "Epoch 5/5\n",
      "54/54 [==============================] - 12s 221ms/step - loss: 0.0054 - accuracy: 0.9984 - val_loss: 8.8564 - val_accuracy: 0.5936\n",
      "Epoch 1/5\n",
      "54/54 [==============================] - 12s 223ms/step - loss: 0.0057 - accuracy: 0.9982 - val_loss: 8.7084 - val_accuracy: 0.5952\n",
      "Epoch 2/5\n",
      "54/54 [==============================] - 12s 225ms/step - loss: 0.0053 - accuracy: 0.9982 - val_loss: 8.6838 - val_accuracy: 0.5947\n",
      "Epoch 3/5\n",
      "54/54 [==============================] - 12s 229ms/step - loss: 0.0058 - accuracy: 0.9980 - val_loss: 8.4505 - val_accuracy: 0.5952\n",
      "Epoch 4/5\n",
      "54/54 [==============================] - 12s 230ms/step - loss: 0.0053 - accuracy: 0.9981 - val_loss: 8.5855 - val_accuracy: 0.5948\n",
      "Epoch 5/5\n",
      "54/54 [==============================] - 12s 225ms/step - loss: 0.0053 - accuracy: 0.9983 - val_loss: 8.5351 - val_accuracy: 0.5945\n",
      "  21/4279 [..............................] - ETA: 21s - loss: 4.3721 - accuracy: 0.5387"
     ]
    },
    {
     "name": "stderr",
     "output_type": "stream",
     "text": [
      "c:\\Users\\UX430\\anaconda3\\lib\\site-packages\\numpy\\core\\_asarray.py:171: VisibleDeprecationWarning: Creating an ndarray from ragged nested sequences (which is a list-or-tuple of lists-or-tuples-or ndarrays with different lengths or shapes) is deprecated. If you meant to do this, you must specify 'dtype=object' when creating the ndarray.\n",
      "  return array(a, dtype, copy=False, order=order, subok=True)\n"
     ]
    },
    {
     "name": "stdout",
     "output_type": "stream",
     "text": [
      "4279/4279 [==============================] - 19s 5ms/step - loss: 4.3592 - accuracy: 0.5293\n",
      "   1/1721 [..............................] - ETA: 0s - loss: 20.1491 - accuracy: 0.0000e+00"
     ]
    },
    {
     "name": "stderr",
     "output_type": "stream",
     "text": [
      "c:\\Users\\UX430\\anaconda3\\lib\\site-packages\\sklearn\\metrics\\_classification.py:1308: UndefinedMetricWarning: Precision and F-score are ill-defined and being set to 0.0 in labels with no predicted samples. Use `zero_division` parameter to control this behavior.\n",
      "  _warn_prf(average, modifier, msg_start, len(result))\n",
      "c:\\Users\\UX430\\anaconda3\\lib\\site-packages\\sklearn\\metrics\\_classification.py:1308: UndefinedMetricWarning: Recall and F-score are ill-defined and being set to 0.0 in labels with no true samples. Use `zero_division` parameter to control this behavior.\n",
      "  _warn_prf(average, modifier, msg_start, len(result))\n",
      "c:\\Users\\UX430\\anaconda3\\lib\\site-packages\\sklearn\\metrics\\_classification.py:1308: UndefinedMetricWarning: Precision and F-score are ill-defined and being set to 0.0 in labels with no predicted samples. Use `zero_division` parameter to control this behavior.\n",
      "  _warn_prf(average, modifier, msg_start, len(result))\n",
      "c:\\Users\\UX430\\anaconda3\\lib\\site-packages\\sklearn\\metrics\\_classification.py:1308: UndefinedMetricWarning: Recall and F-score are ill-defined and being set to 0.0 in labels with no true samples. Use `zero_division` parameter to control this behavior.\n",
      "  _warn_prf(average, modifier, msg_start, len(result))\n",
      "c:\\Users\\UX430\\anaconda3\\lib\\site-packages\\sklearn\\metrics\\_classification.py:1308: UndefinedMetricWarning: Precision and F-score are ill-defined and being set to 0.0 in labels with no predicted samples. Use `zero_division` parameter to control this behavior.\n",
      "  _warn_prf(average, modifier, msg_start, len(result))\n",
      "c:\\Users\\UX430\\anaconda3\\lib\\site-packages\\sklearn\\metrics\\_classification.py:1308: UndefinedMetricWarning: Recall and F-score are ill-defined and being set to 0.0 in labels with no true samples. Use `zero_division` parameter to control this behavior.\n",
      "  _warn_prf(average, modifier, msg_start, len(result))\n"
     ]
    },
    {
     "name": "stdout",
     "output_type": "stream",
     "text": [
      "1721/1721 [==============================] - 8s 4ms/step - loss: 9.8016 - accuracy: 0.5556\n"
     ]
    },
    {
     "name": "stderr",
     "output_type": "stream",
     "text": [
      "c:\\Users\\UX430\\anaconda3\\lib\\site-packages\\sklearn\\metrics\\_classification.py:1308: UndefinedMetricWarning: Precision and F-score are ill-defined and being set to 0.0 in labels with no predicted samples. Use `zero_division` parameter to control this behavior.\n",
      "  _warn_prf(average, modifier, msg_start, len(result))\n",
      "c:\\Users\\UX430\\anaconda3\\lib\\site-packages\\sklearn\\metrics\\_classification.py:1308: UndefinedMetricWarning: Recall and F-score are ill-defined and being set to 0.0 in labels with no true samples. Use `zero_division` parameter to control this behavior.\n",
      "  _warn_prf(average, modifier, msg_start, len(result))\n",
      "c:\\Users\\UX430\\anaconda3\\lib\\site-packages\\sklearn\\metrics\\_classification.py:1308: UndefinedMetricWarning: Precision and F-score are ill-defined and being set to 0.0 in labels with no predicted samples. Use `zero_division` parameter to control this behavior.\n",
      "  _warn_prf(average, modifier, msg_start, len(result))\n",
      "c:\\Users\\UX430\\anaconda3\\lib\\site-packages\\sklearn\\metrics\\_classification.py:1308: UndefinedMetricWarning: Recall and F-score are ill-defined and being set to 0.0 in labels with no true samples. Use `zero_division` parameter to control this behavior.\n",
      "  _warn_prf(average, modifier, msg_start, len(result))\n",
      "c:\\Users\\UX430\\anaconda3\\lib\\site-packages\\sklearn\\metrics\\_classification.py:1308: UndefinedMetricWarning: Precision and F-score are ill-defined and being set to 0.0 in labels with no predicted samples. Use `zero_division` parameter to control this behavior.\n",
      "  _warn_prf(average, modifier, msg_start, len(result))\n",
      "c:\\Users\\UX430\\anaconda3\\lib\\site-packages\\sklearn\\metrics\\_classification.py:1308: UndefinedMetricWarning: Recall and F-score are ill-defined and being set to 0.0 in labels with no true samples. Use `zero_division` parameter to control this behavior.\n",
      "  _warn_prf(average, modifier, msg_start, len(result))\n"
     ]
    },
    {
     "name": "stdout",
     "output_type": "stream",
     "text": [
      "Epoch 1/5\n",
      "54/54 [==============================] - 12s 223ms/step - loss: 0.0061 - accuracy: 0.9984 - val_loss: 8.7043 - val_accuracy: 0.5928\n",
      "Epoch 2/5\n",
      "54/54 [==============================] - 12s 224ms/step - loss: 0.0056 - accuracy: 0.9985 - val_loss: 8.6081 - val_accuracy: 0.5922\n",
      "Epoch 3/5\n",
      "54/54 [==============================] - 12s 223ms/step - loss: 0.0054 - accuracy: 0.9986 - val_loss: 8.6970 - val_accuracy: 0.5920\n",
      "Epoch 4/5\n",
      "54/54 [==============================] - 12s 222ms/step - loss: 0.0055 - accuracy: 0.9985 - val_loss: 8.8442 - val_accuracy: 0.5929\n",
      "Epoch 5/5\n",
      "54/54 [==============================] - 12s 222ms/step - loss: 0.0054 - accuracy: 0.9985 - val_loss: 8.8606 - val_accuracy: 0.5926\n",
      "Epoch 1/5\n",
      "54/54 [==============================] - 12s 224ms/step - loss: 0.0060 - accuracy: 0.9982 - val_loss: 8.7310 - val_accuracy: 0.5931\n",
      "Epoch 2/5\n",
      "54/54 [==============================] - 12s 228ms/step - loss: 0.0055 - accuracy: 0.9983 - val_loss: 8.8410 - val_accuracy: 0.5938\n",
      "Epoch 3/5\n",
      "54/54 [==============================] - 12s 224ms/step - loss: 0.0054 - accuracy: 0.9983 - val_loss: 8.8512 - val_accuracy: 0.5934\n",
      "Epoch 4/5\n",
      "54/54 [==============================] - 12s 222ms/step - loss: 0.0055 - accuracy: 0.9983 - val_loss: 8.7933 - val_accuracy: 0.5933\n",
      "Epoch 5/5\n",
      "54/54 [==============================] - 12s 222ms/step - loss: 0.0052 - accuracy: 0.9984 - val_loss: 8.6204 - val_accuracy: 0.5927\n",
      "Epoch 1/5\n",
      "54/54 [==============================] - 12s 221ms/step - loss: 0.0055 - accuracy: 0.9981 - val_loss: 8.5337 - val_accuracy: 0.5949\n",
      "Epoch 2/5\n",
      "54/54 [==============================] - 12s 226ms/step - loss: 0.0053 - accuracy: 0.9982 - val_loss: 8.7453 - val_accuracy: 0.5954\n",
      "Epoch 3/5\n",
      "54/54 [==============================] - 13s 234ms/step - loss: 0.0052 - accuracy: 0.9983 - val_loss: 8.7947 - val_accuracy: 0.5951\n",
      "Epoch 4/5\n",
      "54/54 [==============================] - 13s 233ms/step - loss: 0.0051 - accuracy: 0.9983 - val_loss: 8.6556 - val_accuracy: 0.5948\n",
      "Epoch 5/5\n",
      "54/54 [==============================] - 13s 234ms/step - loss: 0.0053 - accuracy: 0.9982 - val_loss: 8.6096 - val_accuracy: 0.5950\n",
      "  13/4279 [..............................] - ETA: 17s - loss: 4.3456 - accuracy: 0.5553"
     ]
    },
    {
     "name": "stderr",
     "output_type": "stream",
     "text": [
      "c:\\Users\\UX430\\anaconda3\\lib\\site-packages\\numpy\\core\\_asarray.py:171: VisibleDeprecationWarning: Creating an ndarray from ragged nested sequences (which is a list-or-tuple of lists-or-tuples-or ndarrays with different lengths or shapes) is deprecated. If you meant to do this, you must specify 'dtype=object' when creating the ndarray.\n",
      "  return array(a, dtype, copy=False, order=order, subok=True)\n"
     ]
    },
    {
     "name": "stdout",
     "output_type": "stream",
     "text": [
      "4279/4279 [==============================] - 18s 4ms/step - loss: 4.6625 - accuracy: 0.5289\n",
      "   1/1721 [..............................] - ETA: 0s - loss: 20.9957 - accuracy: 0.0000e+00"
     ]
    },
    {
     "name": "stderr",
     "output_type": "stream",
     "text": [
      "c:\\Users\\UX430\\anaconda3\\lib\\site-packages\\sklearn\\metrics\\_classification.py:1308: UndefinedMetricWarning: Precision and F-score are ill-defined and being set to 0.0 in labels with no predicted samples. Use `zero_division` parameter to control this behavior.\n",
      "  _warn_prf(average, modifier, msg_start, len(result))\n",
      "c:\\Users\\UX430\\anaconda3\\lib\\site-packages\\sklearn\\metrics\\_classification.py:1308: UndefinedMetricWarning: Recall and F-score are ill-defined and being set to 0.0 in labels with no true samples. Use `zero_division` parameter to control this behavior.\n",
      "  _warn_prf(average, modifier, msg_start, len(result))\n",
      "c:\\Users\\UX430\\anaconda3\\lib\\site-packages\\sklearn\\metrics\\_classification.py:1308: UndefinedMetricWarning: Precision and F-score are ill-defined and being set to 0.0 in labels with no predicted samples. Use `zero_division` parameter to control this behavior.\n",
      "  _warn_prf(average, modifier, msg_start, len(result))\n",
      "c:\\Users\\UX430\\anaconda3\\lib\\site-packages\\sklearn\\metrics\\_classification.py:1308: UndefinedMetricWarning: Recall and F-score are ill-defined and being set to 0.0 in labels with no true samples. Use `zero_division` parameter to control this behavior.\n",
      "  _warn_prf(average, modifier, msg_start, len(result))\n",
      "c:\\Users\\UX430\\anaconda3\\lib\\site-packages\\sklearn\\metrics\\_classification.py:1308: UndefinedMetricWarning: Precision and F-score are ill-defined and being set to 0.0 in labels with no predicted samples. Use `zero_division` parameter to control this behavior.\n",
      "  _warn_prf(average, modifier, msg_start, len(result))\n",
      "c:\\Users\\UX430\\anaconda3\\lib\\site-packages\\sklearn\\metrics\\_classification.py:1308: UndefinedMetricWarning: Recall and F-score are ill-defined and being set to 0.0 in labels with no true samples. Use `zero_division` parameter to control this behavior.\n",
      "  _warn_prf(average, modifier, msg_start, len(result))\n"
     ]
    },
    {
     "name": "stdout",
     "output_type": "stream",
     "text": [
      "1721/1721 [==============================] - 8s 4ms/step - loss: 10.0530 - accuracy: 0.5549\n"
     ]
    },
    {
     "name": "stderr",
     "output_type": "stream",
     "text": [
      "c:\\Users\\UX430\\anaconda3\\lib\\site-packages\\sklearn\\metrics\\_classification.py:1308: UndefinedMetricWarning: Precision and F-score are ill-defined and being set to 0.0 in labels with no predicted samples. Use `zero_division` parameter to control this behavior.\n",
      "  _warn_prf(average, modifier, msg_start, len(result))\n",
      "c:\\Users\\UX430\\anaconda3\\lib\\site-packages\\sklearn\\metrics\\_classification.py:1308: UndefinedMetricWarning: Recall and F-score are ill-defined and being set to 0.0 in labels with no true samples. Use `zero_division` parameter to control this behavior.\n",
      "  _warn_prf(average, modifier, msg_start, len(result))\n",
      "c:\\Users\\UX430\\anaconda3\\lib\\site-packages\\sklearn\\metrics\\_classification.py:1308: UndefinedMetricWarning: Precision and F-score are ill-defined and being set to 0.0 in labels with no predicted samples. Use `zero_division` parameter to control this behavior.\n",
      "  _warn_prf(average, modifier, msg_start, len(result))\n",
      "c:\\Users\\UX430\\anaconda3\\lib\\site-packages\\sklearn\\metrics\\_classification.py:1308: UndefinedMetricWarning: Recall and F-score are ill-defined and being set to 0.0 in labels with no true samples. Use `zero_division` parameter to control this behavior.\n",
      "  _warn_prf(average, modifier, msg_start, len(result))\n",
      "c:\\Users\\UX430\\anaconda3\\lib\\site-packages\\sklearn\\metrics\\_classification.py:1308: UndefinedMetricWarning: Precision and F-score are ill-defined and being set to 0.0 in labels with no predicted samples. Use `zero_division` parameter to control this behavior.\n",
      "  _warn_prf(average, modifier, msg_start, len(result))\n",
      "c:\\Users\\UX430\\anaconda3\\lib\\site-packages\\sklearn\\metrics\\_classification.py:1308: UndefinedMetricWarning: Recall and F-score are ill-defined and being set to 0.0 in labels with no true samples. Use `zero_division` parameter to control this behavior.\n",
      "  _warn_prf(average, modifier, msg_start, len(result))\n"
     ]
    }
   ],
   "source": [
    "# Values saved each iteration \n",
    "loss_it = []\n",
    "accuracy_it = []\n",
    "f1_it = []\n",
    "precision_it = []\n",
    "recall_it = []\n",
    "\n",
    "for i in range(global_updates): \n",
    "    w_list = []\n",
    "    for node in range(num_nodes): \n",
    "        cp = global_model # create a copy of the global model\n",
    "        if node == 0:\n",
    "            x, y = x1, y1\n",
    "        elif node == 1:\n",
    "            x, y = x2, y2\n",
    "        else:\n",
    "            x, y = x3, y3\n",
    "        local_model, local_loss, local_acc, local_val_loss, local_val_acc = train_local_model(cp, node, x, y)\n",
    "        w_list.append(local_model.get_weights())\n",
    "\n",
    "    avg_w = aggregate(w_list)\n",
    "    global_model.set_weights(avg_w) # apply gradients to global model\n",
    "    loss_basic, accuracy_basic, f1_basic, precision_basic, recall_basic = evaluation(global_model, xbasic, ybasic) # Evaluate with test basic to know progress\n",
    "    loss_plus, accuracy_plus, f1_plus, precision_plus, recall_plus = evaluation(global_model, xplus, yplus) # Evaluate with test plus to know progress\n",
    "\n",
    "    loss_it.append([loss_basic, loss_plus])\n",
    "    accuracy_it.append([accuracy_basic, accuracy_plus])\n",
    "    f1_it.append([f1_basic, f1_plus])\n",
    "    precision_it.append([precision_basic, precision_plus])\n",
    "    recall_it.append([recall_basic, recall_plus])\n",
    "\n",
    "\n",
    "global_model.save('C:/Users/UX430/Documents/thesis/code/models/id313.hdf5')"
   ]
  },
  {
   "cell_type": "code",
   "execution_count": 28,
   "metadata": {},
   "outputs": [
    {
     "name": "stdout",
     "output_type": "stream",
     "text": [
      "Loss for iterations:  [[1.4651645421981812, 7.0648274421691895], [1.6627473831176758, 7.264178276062012], [1.7146838903427124, 7.192192077636719], [1.8581995964050293, 7.971784591674805], [2.077592134475708, 8.902975082397461], [2.062408685684204, 8.676009178161621], [2.095534324645996, 8.408003807067871], [2.4021499156951904, 8.405956268310547], [2.749082088470459, 8.418549537658691], [3.076317310333252, 8.74422836303711], [3.2957704067230225, 8.815567970275879], [3.624767303466797, 9.16128921508789], [3.981947898864746, 9.488123893737793], [4.359187126159668, 9.801562309265137], [4.662505149841309, 10.05297565460205]]\n",
      "Accuracy for iterations:  [[0.9115369915962219, 0.5520053505897522], [0.9122016429901123, 0.5539126396179199], [0.9132387638092041, 0.5548935532569885], [0.9144365787506104, 0.5552205443382263], [0.9150938987731934, 0.5558744668960571], [0.9099447727203369, 0.5569461584091187], [0.8784875273704529, 0.5573821067810059], [0.5305442810058594, 0.557618260383606], [0.5299161672592163, 0.5573639273643494], [0.5297408699989319, 0.5568735003471375], [0.5295436382293701, 0.5566191673278809], [0.5294706225395203, 0.55596524477005], [0.5292149782180786, 0.5556201338768005], [0.5292734503746033, 0.555638313293457], [0.528930127620697, 0.5548572540283203]]\n",
      "F1 for iterations:  [[0.8761348066402581, 0.5224002693146227], [0.8764867033978105, 0.49396512926654595], [0.8771218127816067, 0.47107356017190394], [0.8782729863865305, 0.46840140560562404], [0.8786874905878397, 0.4619841168878066], [0.8732503127403742, 0.4475663444489999], [0.8422228610368161, 0.4482492292397915], [0.39141462236942093, 0.4430662905189327], [0.39173954195168753, 0.44726754359481585], [0.3918751392108537, 0.4496029150743226], [0.3919565602698359, 0.454887920898612], [0.3920964649880299, 0.4581374643107625], [0.39211445917670623, 0.4613877063563403], [0.392143230006941, 0.46121049520021], [0.392325780790367, 0.46806933790464555]]\n",
      "Precision for iterations:  [[0.8475020320494939, 0.4958090772527684], [0.8470153772708754, 0.4457261459280746], [0.846590427118575, 0.409253385146836], [0.8477120657508955, 0.40506233334105163], [0.8475107062796714, 0.39522789612376086], [0.8405955433341652, 0.3740967124712915], [0.8088372938499064, 0.3748544357194055], [0.3336860132909273, 0.36755846291981964], [0.33320358010016926, 0.37349155401881023], [0.33308062857365756, 0.3769843836287737], [0.33293554531604475, 0.38459659374527344], [0.33305973989948084, 0.38958583192541363], [0.33286430572161363, 0.3944837830662428], [0.3328683131949283, 0.39421562171903407], [0.3327215128486789, 0.40475903071009484]]\n",
      "Recall for iterations:  [[0.9115370007888048, 0.5520053767347235], [0.9122016418826142, 0.5539126643900313], [0.9132387741388881, 0.5548935551841895], [0.9144365888574016, 0.5552205187822422], [0.9150939262029273, 0.5558744459783478], [0.9099447836629758, 0.5569461599941873], [0.8784875398054282, 0.5573821114582577], [0.5305442753220952, 0.5576182518346291], [0.5299161529697041, 0.5573639468139214], [0.5297408630108972, 0.5568735014168422], [0.5295436618072394, 0.5566191963961346], [0.5294706243244033, 0.5559652692000291], [0.5292149931344766, 0.55562014095764], [0.5292734231207455, 0.5556383056019764], [0.5289301469514155, 0.554857225895517]]\n"
     ]
    }
   ],
   "source": [
    "print(\"Loss for iterations: \", loss_it)\n",
    "print(\"Accuracy for iterations: \", accuracy_it)\n",
    "print(\"F1 for iterations: \", f1_it)\n",
    "print(\"Precision for iterations: \", precision_it)\n",
    "print(\"Recall for iterations: \", recall_it)"
   ]
  }
 ],
 "metadata": {
  "kernelspec": {
   "display_name": "base",
   "language": "python",
   "name": "python3"
  },
  "language_info": {
   "codemirror_mode": {
    "name": "ipython",
    "version": 3
   },
   "file_extension": ".py",
   "mimetype": "text/x-python",
   "name": "python",
   "nbconvert_exporter": "python",
   "pygments_lexer": "ipython3",
   "version": "3.8.12"
  }
 },
 "nbformat": 4,
 "nbformat_minor": 2
}
