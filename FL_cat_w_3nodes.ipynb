{
 "cells": [
  {
   "cell_type": "markdown",
   "metadata": {},
   "source": [
    "## **Federated Learning for attack classification: 3 nodes sharing weights**\n",
    "\n",
    "IDs from this file = **ID3xy** (x = 0 if experiment with dataset, x = 1 if epochs & iterations, y being integer equal or greater than 0)\n",
    "\n",
    "In this file, experiments with different datasets, and number of epochs & iterations are done. The experiments are divided into sections, based on the elements being changed. "
   ]
  },
  {
   "cell_type": "markdown",
   "metadata": {},
   "source": [
    "### Static elements for all experiments (execute first)"
   ]
  },
  {
   "cell_type": "code",
   "execution_count": 31,
   "metadata": {},
   "outputs": [],
   "source": [
    "# Imports\n",
    "import tensorflow as tf\n",
    "import numpy as np\n",
    "from tensorflow import keras\n",
    "import matplotlib.pyplot as plt\n",
    "import pandas as pd\n",
    "import seaborn as sns\n",
    "\n",
    "from tensorflow.keras import datasets, layers, models\n",
    "from tensorflow.keras.callbacks import EarlyStopping\n",
    "from tensorflow.keras.layers import Dense, BatchNormalization\n",
    "from tensorflow.keras import regularizers\n",
    "from sklearn.preprocessing import StandardScaler\n",
    "from sklearn.model_selection import train_test_split\n",
    "from sklearn.metrics import confusion_matrix, classification_report\n",
    "\n",
    "# Disable warns\n",
    "pd.options.mode.chained_assignment = None  # default='warn'"
   ]
  },
  {
   "cell_type": "code",
   "execution_count": 33,
   "metadata": {},
   "outputs": [],
   "source": [
    "# Preprocessing for test and training datasets (to be able to train and make predictions to evaluate)\n",
    "def preprocessing(data): \n",
    "\n",
    "    # Select the 'proto' and 'state' values that I want\n",
    "    data = data.loc[(data['proto'] == 'tcp') | (data['proto'] =='udp') | (data['proto'] =='icmp') | (data['proto'] =='arp') | (data['proto'] =='ipv6-icmp') | (data['proto'] =='igmp') | (data['proto'] =='rarp'), :]\n",
    "    data = data.loc[(data['state'] == 'RST') | (data['state'] =='REQ') | (data['state'] =='INT') | (data['state'] =='FIN') | (data['state'] =='CON') | (data['state'] =='ECO') | (data['state'] =='ACC') | (data['state'] == 'PAR'), :]\n",
    "\n",
    "    # Creating categories dataframe\n",
    "    data_labels = pd.DataFrame()\n",
    "\n",
    "    # Drop the invalid features and select interested data features\n",
    "    data_features=data[['proto','srcip','sport','dstip','dsport','spkts','dpkts','sbytes','dbytes','state','stime','ltime','dur']]\n",
    "\n",
    "    \"\"\"PREPROCESSING\"\"\"\n",
    "\n",
    "\n",
    "    # Preprocess IP and ports features\n",
    "    # IP Source Address\n",
    "    data_features['srcip'] = data_features['srcip'].apply(lambda x: x.split(\".\")[-1])\n",
    "    data_features['srcip'] = data_features['srcip'].apply(lambda x: x.split(\":\")[-1])\n",
    "    data_features['srcip'] = data_features['srcip'].apply(lambda x: int(x, 16))\n",
    "\n",
    "\n",
    "    # IP Destination Address\n",
    "    data_features['dstip'] = data_features['dstip'].apply(lambda x: x.split(\".\")[-1])\n",
    "    data_features['dstip'] = data_features['dstip'].apply(lambda x: x.split(\":\")[-1])\n",
    "    data_features['dstip'] = data_features['dstip'].apply(lambda x: int(x, 16))\n",
    "\n",
    "    # Ports\n",
    "    data_features['sport'] = data_features['sport'].apply(lambda x: x.replace('0x','') if \"0x\" in str(x) else x)\n",
    "    data_features['dsport'] = data_features['dsport'].apply(lambda x: x.replace('0x','') if \"0x\" in str(x) else x)\n",
    "\n",
    "    # Convert all ports with 0 decimal, and HEX to DEC\n",
    "    data_features['sport'] = data_features['sport'].apply(lambda x: str(x)[:-2] if str(x)[-2:] == '.0' else str(x))\n",
    "    data_features['sport'] = data_features['sport'].apply(lambda x: -1 if str(x).isalpha()==True else int(x,16))\n",
    "\n",
    "    data_features['dsport'] = data_features['dsport'].apply(lambda x: str(x)[:-2] if str(x)[-2:] == '.0' else str(x))\n",
    "    data_features['dsport'] = data_features['dsport'].apply(lambda x: -1 if str(x).isalpha()==True else int(x,16))\n",
    "\n",
    "    # Convert field to int format\n",
    "    data_features['srcip'] = data_features['srcip'].astype(int)\n",
    "    data_features['sport'] = data_features['sport'].astype(int)\n",
    "    data_features['dstip'] = data_features['dstip'].astype(int)\n",
    "    data_features['dsport'] = data_features['dsport'].astype(int)\n",
    "\n",
    "    # Convert some fields to logarithmic\n",
    "    log1p_col = ['dur', 'sbytes', 'dbytes', 'spkts']\n",
    "\n",
    "    for col in log1p_col:\n",
    "        data_features[col] = data_features[col].apply(np.log1p)\n",
    "        \n",
    "    # Transform to One Hot Encoding the Categories - normal, dos, reconnaissance, generic, exploits, worms, fuzzers, analysis, backdoor, shellcode\n",
    "    data_labels.insert(0, 'dos', data['attack_cat'].replace('dos', 1).replace(['reconnaissance', 'generic', 'exploits', 'worms', 'fuzzers', 'analysis', 'backdoor', 'shellcode'], 0))\n",
    "    data_labels.insert(1, 'reconnaissance', data['attack_cat'].replace('reconnaissance', 1).replace([ 'dos', 'generic', 'exploits', 'worms', 'fuzzers', 'analysis', 'backdoor', 'shellcode'], 0))\n",
    "    data_labels.insert(2, 'generic', data['attack_cat'].replace('generic', 1).replace(['dos', 'reconnaissance', 'exploits', 'worms', 'fuzzers', 'analysis', 'backdoor', 'shellcode'], 0))\n",
    "    data_labels.insert(3, 'exploits', data['attack_cat'].replace('exploits', 1).replace([ 'dos', 'reconnaissance', 'generic', 'worms', 'fuzzers', 'analysis', 'backdoor', 'shellcode'], 0))\n",
    "    data_labels = pd.get_dummies(data_labels)\n",
    "\n",
    "    # Transform to One hot encoding - FEATURES\n",
    "    data_features=pd.get_dummies(data_features)\n",
    "\n",
    "    # Generate 2 new columns to fit with training\n",
    "    auxCol=data_features['sbytes']\n",
    "    auxCol=0\n",
    "\n",
    "      # As we are using different datasets that might not have all representations, we are going to detect and add the missing columns \n",
    "    # The columns that can have types are: proto and state: need to check if all representations are done \n",
    "    state_cols = [col for col in data_features if col.startswith('state_')]\n",
    "    proto_cols = [col for col in data_features if col.startswith('proto_')]\n",
    "    \n",
    "    # Check if all columns are present\n",
    "    if 'state_PAR' not in state_cols:\n",
    "        data_features.insert(data_features.shape[1], 'state_PAR', auxCol, True)\n",
    "    if 'state_ACC' not in state_cols: \n",
    "        data_features.insert(data_features.shape[1], 'state_ACC', auxCol, True)\n",
    "    if 'state_ECO' not in state_cols:\n",
    "        data_features.insert(data_features.shape[1], 'state_ECO', auxCol, True)\n",
    "    if 'state_CON' not in state_cols:\n",
    "        data_features.insert(data_features.shape[1], 'state_CON', auxCol, True)\n",
    "    if 'state_FIN' not in state_cols:\n",
    "        data_features.insert(data_features.shape[1], 'state_FIN', auxCol, True)\n",
    "    if 'state_INT' not in state_cols:\n",
    "        data_features.insert(data_features.shape[1], 'state_INT', auxCol, True)\n",
    "    if 'state_REQ' not in state_cols:\n",
    "        data_features.insert(data_features.shape[1], 'state_REQ', auxCol, True)\n",
    "    if 'state_RST' not in state_cols:\n",
    "        data_features.insert(data_features.shape[1], 'state_RST', auxCol, True)\n",
    "    if 'proto_igmp' not in proto_cols:\n",
    "        data_features.insert(data_features.shape[1], 'proto_igmp', auxCol, True)\n",
    "    if 'proto_arp' not in proto_cols:\n",
    "        data_features.insert(data_features.shape[1], 'proto_arp', auxCol, True)\n",
    "    if 'proto_icmp' not in proto_cols:\n",
    "        data_features.insert(data_features.shape[1], 'proto_icmp', auxCol, True)\n",
    "    if 'proto_udp' not in proto_cols:\n",
    "        data_features.insert(data_features.shape[1], 'proto_udp', auxCol, True)\n",
    "    if 'proto_tcp' not in proto_cols:\n",
    "        data_features.insert(data_features.shape[1], 'proto_tcp', auxCol, True)\n",
    "\n",
    "    # Normalize all data features\n",
    "    data_features = StandardScaler().fit_transform(data_features)\n",
    "\n",
    "    #Add dimension to data features\n",
    "    data_features = np.expand_dims(data_features, axis=2)\n",
    "    data_features = np.expand_dims(data_features, axis=3)\n",
    "\n",
    "    x = data_features\n",
    "    y = data_labels.to_numpy()\n",
    "\n",
    "    return x, y"
   ]
  },
  {
   "cell_type": "code",
   "execution_count": 34,
   "metadata": {},
   "outputs": [],
   "source": [
    "# Model building and definition\n",
    "def build_model(input_shape):\n",
    "    model = models.Sequential()\n",
    "    model.add(Dense(108, input_shape=input_shape, activation='relu'))\n",
    "    model.add(layers.Conv2D(filters=16, kernel_size=(1, 2), activation='relu', padding='same'))\n",
    "    model.add(BatchNormalization())\n",
    "    model.add(layers.MaxPooling2D(pool_size=(1, 1), padding='same'))\n",
    "    model.add(layers.Flatten())\n",
    "    model.add(Dense(108, activation='relu'))\n",
    "    model.add(Dense(4, activation='softmax'))\n",
    "\n",
    "    return model "
   ]
  },
  {
   "cell_type": "code",
   "execution_count": 35,
   "metadata": {},
   "outputs": [],
   "source": [
    "# Returns values of loss, accuracy, f1, precision and recall of model evaluating with test dataset \n",
    "def evaluation(model, x, y): \n",
    "    loss, accuracy = model.evaluate(x, y)\n",
    "    y_pred = model.predict(x)\n",
    "    y_pred = np.argmax(y_pred, axis=1)\n",
    "    y = np.argmax(y, axis=1)\n",
    "    report = classification_report(y, y_pred, labels = [i for i in range(4)], target_names=['dos', 'reconnaissance', 'generic', 'exploits'], output_dict=True)\n",
    "    # Obtain f1, precision and recall from the report\n",
    "    f1 = report['weighted avg']['f1-score']\n",
    "    precision = report['weighted avg']['precision']\n",
    "    recall = report['weighted avg']['recall']\n",
    "    return loss, accuracy, f1, precision, recall"
   ]
  },
  {
   "cell_type": "markdown",
   "metadata": {},
   "source": [
    "### Experiments with datasets"
   ]
  },
  {
   "cell_type": "markdown",
   "metadata": {},
   "source": [
    "#### Dataset 3A"
   ]
  },
  {
   "cell_type": "code",
   "execution_count": 36,
   "metadata": {},
   "outputs": [
    {
     "name": "stderr",
     "output_type": "stream",
     "text": [
      "C:\\Users\\UX430\\AppData\\Local\\Temp/ipykernel_11572/2733919938.py:5: DtypeWarning: Columns (4) have mixed types. Specify dtype option on import or set low_memory=False.\n",
      "  test_basic = pd.read_csv('C:/Users/UX430/Documents/thesis/datasets/UNSW-NB15/UNSW-NB15-Test-Basic.csv')\n"
     ]
    }
   ],
   "source": [
    "# Load training datasets and testing datasets \n",
    "training1 = pd.read_csv('C:/Users/UX430/Documents/thesis/datasets/UNSW-NB15/UNSW-NB15-Train-Basic-Cat3A-Part1.csv')\n",
    "training2 = pd.read_csv('C:/Users/UX430/Documents/thesis/datasets/UNSW-NB15/UNSW-NB15-Train-Basic-Cat3A-Part2.csv')\n",
    "training3 = pd.read_csv('C:/Users/UX430/Documents/thesis/datasets/UNSW-NB15/UNSW-NB15-Train-Basic-Cat3A-Part3.csv')\n",
    "test_basic = pd.read_csv('C:/Users/UX430/Documents/thesis/datasets/UNSW-NB15/UNSW-NB15-Test-Basic.csv')\n",
    "test_plus = pd.read_csv('C:/Users/UX430/Documents/thesis/datasets/UNSW-NB15/UNSW-NB15-Test+.csv')"
   ]
  },
  {
   "cell_type": "code",
   "execution_count": 37,
   "metadata": {},
   "outputs": [],
   "source": [
    "# Define \n",
    "node_datasets = [training1, training2, training3]\n",
    "num_nodes = 3\n",
    "global_updates = 3\n",
    "\n",
    "# Define model training parameters\n",
    "loss_fct = \"categorical_crossentropy\"\n",
    "metrics = ['accuracy']\n",
    "local_epochs = 5"
   ]
  },
  {
   "cell_type": "code",
   "execution_count": 38,
   "metadata": {},
   "outputs": [],
   "source": [
    "def train_local_model(model, node, x_train, y_train): \n",
    "    filepath = 'C:/Users/UX430/Documents/thesis/code/models/node'+str(node)+'ID300.hdf5'\n",
    "    callbacks = [\n",
    "            keras.callbacks.EarlyStopping(\n",
    "                monitor = 'val_loss', # Use accuracy to monitor the model\n",
    "                patience = 10 # Stop after 10 steps with lower accuracy\n",
    "            ),\n",
    "            keras.callbacks.ModelCheckpoint(\n",
    "                filepath = filepath, # file where the checkpoint is saved\n",
    "                monitor = 'val_loss', # Don't overwrite the saved model unless val_loss is worse\n",
    "                save_best_only = True)]# Only save model if it is the best\n",
    "    optimizer = keras.optimizers.Adam(learning_rate=1e-4)\n",
    "    model.compile(optimizer=optimizer, loss=loss_fct, metrics=metrics)\n",
    "    history = model.fit(x_train, y_train, epochs=local_epochs, validation_split=0.2, callbacks=callbacks, batch_size=1024)\n",
    "    return model, history.history['loss'], history.history['accuracy'], history.history['val_loss'], history.history['val_accuracy']"
   ]
  },
  {
   "cell_type": "code",
   "execution_count": 39,
   "metadata": {},
   "outputs": [],
   "source": [
    "def aggregate(w_list): \n",
    "    avg_w = np.mean(w_list, axis=0)\n",
    "    return avg_w"
   ]
  },
  {
   "cell_type": "code",
   "execution_count": 40,
   "metadata": {},
   "outputs": [],
   "source": [
    "global_model = build_model((24,1,1))"
   ]
  },
  {
   "cell_type": "code",
   "execution_count": 41,
   "metadata": {},
   "outputs": [],
   "source": [
    "# Filter test and train by not getting normal traffic: label is 1\n",
    "test_basic = test_basic.loc[test_basic['label'] == 1]\n",
    "test_plus = test_plus.loc[test_plus['label'] == 1]"
   ]
  },
  {
   "cell_type": "code",
   "execution_count": 42,
   "metadata": {},
   "outputs": [],
   "source": [
    "x1, y1 = preprocessing(training1)\n",
    "x2, y2 = preprocessing(training2)\n",
    "x3, y3 = preprocessing(training3)\n",
    "xbasic, ybasic = preprocessing(test_basic)\n",
    "xplus, yplus = preprocessing(test_plus)"
   ]
  },
  {
   "cell_type": "code",
   "execution_count": 43,
   "metadata": {},
   "outputs": [
    {
     "name": "stdout",
     "output_type": "stream",
     "text": [
      "Epoch 1/5\n",
      "51/51 [==============================] - 3s 59ms/step - loss: 0.4610 - accuracy: 0.9267 - val_loss: 1.3888 - val_accuracy: 0.1524\n",
      "Epoch 2/5\n",
      "51/51 [==============================] - 3s 56ms/step - loss: 0.0271 - accuracy: 0.9994 - val_loss: 1.4406 - val_accuracy: 0.1439\n",
      "Epoch 3/5\n",
      "51/51 [==============================] - 3s 59ms/step - loss: 0.0092 - accuracy: 0.9999 - val_loss: 1.4983 - val_accuracy: 0.1428\n",
      "Epoch 4/5\n",
      "51/51 [==============================] - 3s 55ms/step - loss: 0.0048 - accuracy: 0.9999 - val_loss: 1.5822 - val_accuracy: 0.1424\n",
      "Epoch 5/5\n",
      "51/51 [==============================] - 3s 54ms/step - loss: 0.0030 - accuracy: 1.0000 - val_loss: 1.7133 - val_accuracy: 0.1420\n",
      "Epoch 1/5\n",
      "51/51 [==============================] - 3s 60ms/step - loss: 3.6558e-04 - accuracy: 1.0000 - val_loss: 2.3970 - val_accuracy: 0.1415\n",
      "Epoch 2/5\n",
      "51/51 [==============================] - 3s 56ms/step - loss: 3.4561e-05 - accuracy: 1.0000 - val_loss: 3.1075 - val_accuracy: 0.1414\n",
      "Epoch 3/5\n",
      "51/51 [==============================] - 3s 53ms/step - loss: 1.8523e-05 - accuracy: 1.0000 - val_loss: 3.9866 - val_accuracy: 0.1414\n",
      "Epoch 4/5\n",
      "51/51 [==============================] - 3s 54ms/step - loss: 1.1765e-05 - accuracy: 1.0000 - val_loss: 5.0154 - val_accuracy: 0.1413\n",
      "Epoch 5/5\n",
      "51/51 [==============================] - 3s 56ms/step - loss: 8.1063e-06 - accuracy: 1.0000 - val_loss: 6.1296 - val_accuracy: 0.1413\n",
      "Epoch 1/5\n",
      "51/51 [==============================] - 3s 57ms/step - loss: 2.1203e-06 - accuracy: 1.0000 - val_loss: 8.8942 - val_accuracy: 0.1413\n",
      "Epoch 2/5\n",
      "51/51 [==============================] - 3s 56ms/step - loss: 3.5342e-07 - accuracy: 1.0000 - val_loss: 10.6769 - val_accuracy: 0.1413\n",
      "Epoch 3/5\n",
      "51/51 [==============================] - 3s 56ms/step - loss: 1.5796e-07 - accuracy: 1.0000 - val_loss: 12.0509 - val_accuracy: 0.1413\n",
      "Epoch 4/5\n",
      "51/51 [==============================] - 3s 57ms/step - loss: 9.5040e-08 - accuracy: 1.0000 - val_loss: 13.1037 - val_accuracy: 0.1413\n",
      "Epoch 5/5\n",
      "51/51 [==============================] - 3s 55ms/step - loss: 6.5739e-08 - accuracy: 1.0000 - val_loss: 13.8546 - val_accuracy: 0.1413\n",
      " 133/2017 [>.............................] - ETA: 2s - loss: 0.7385 - accuracy: 0.8454"
     ]
    },
    {
     "name": "stderr",
     "output_type": "stream",
     "text": [
      "c:\\Users\\UX430\\anaconda3\\lib\\site-packages\\numpy\\core\\_asarray.py:171: VisibleDeprecationWarning: Creating an ndarray from ragged nested sequences (which is a list-or-tuple of lists-or-tuples-or ndarrays with different lengths or shapes) is deprecated. If you meant to do this, you must specify 'dtype=object' when creating the ndarray.\n",
      "  return array(a, dtype, copy=False, order=order, subok=True)\n"
     ]
    },
    {
     "name": "stdout",
     "output_type": "stream",
     "text": [
      "2017/2017 [==============================] - 3s 1ms/step - loss: 0.7941 - accuracy: 0.8320\n",
      " 39/756 [>.............................] - ETA: 1s - loss: 0.0000e+00 - accuracy: 0.0000e+00"
     ]
    },
    {
     "name": "stderr",
     "output_type": "stream",
     "text": [
      "c:\\Users\\UX430\\anaconda3\\lib\\site-packages\\sklearn\\metrics\\_classification.py:1308: UndefinedMetricWarning: Precision and F-score are ill-defined and being set to 0.0 in labels with no predicted samples. Use `zero_division` parameter to control this behavior.\n",
      "  _warn_prf(average, modifier, msg_start, len(result))\n",
      "c:\\Users\\UX430\\anaconda3\\lib\\site-packages\\sklearn\\metrics\\_classification.py:1308: UndefinedMetricWarning: Precision and F-score are ill-defined and being set to 0.0 in labels with no predicted samples. Use `zero_division` parameter to control this behavior.\n",
      "  _warn_prf(average, modifier, msg_start, len(result))\n",
      "c:\\Users\\UX430\\anaconda3\\lib\\site-packages\\sklearn\\metrics\\_classification.py:1308: UndefinedMetricWarning: Precision and F-score are ill-defined and being set to 0.0 in labels with no predicted samples. Use `zero_division` parameter to control this behavior.\n",
      "  _warn_prf(average, modifier, msg_start, len(result))\n"
     ]
    },
    {
     "name": "stdout",
     "output_type": "stream",
     "text": [
      "756/756 [==============================] - 1s 1ms/step - loss: 0.0000e+00 - accuracy: 0.0000e+00\n"
     ]
    },
    {
     "name": "stderr",
     "output_type": "stream",
     "text": [
      "c:\\Users\\UX430\\anaconda3\\lib\\site-packages\\sklearn\\metrics\\_classification.py:1308: UndefinedMetricWarning: Precision and F-score are ill-defined and being set to 0.0 in labels with no predicted samples. Use `zero_division` parameter to control this behavior.\n",
      "  _warn_prf(average, modifier, msg_start, len(result))\n",
      "c:\\Users\\UX430\\anaconda3\\lib\\site-packages\\sklearn\\metrics\\_classification.py:1308: UndefinedMetricWarning: Recall and F-score are ill-defined and being set to 0.0 in labels with no true samples. Use `zero_division` parameter to control this behavior.\n",
      "  _warn_prf(average, modifier, msg_start, len(result))\n",
      "c:\\Users\\UX430\\anaconda3\\lib\\site-packages\\sklearn\\metrics\\_classification.py:1308: UndefinedMetricWarning: Precision and F-score are ill-defined and being set to 0.0 in labels with no predicted samples. Use `zero_division` parameter to control this behavior.\n",
      "  _warn_prf(average, modifier, msg_start, len(result))\n",
      "c:\\Users\\UX430\\anaconda3\\lib\\site-packages\\sklearn\\metrics\\_classification.py:1308: UndefinedMetricWarning: Recall and F-score are ill-defined and being set to 0.0 in labels with no true samples. Use `zero_division` parameter to control this behavior.\n",
      "  _warn_prf(average, modifier, msg_start, len(result))\n",
      "c:\\Users\\UX430\\anaconda3\\lib\\site-packages\\sklearn\\metrics\\_classification.py:1308: UndefinedMetricWarning: Precision and F-score are ill-defined and being set to 0.0 in labels with no predicted samples. Use `zero_division` parameter to control this behavior.\n",
      "  _warn_prf(average, modifier, msg_start, len(result))\n",
      "c:\\Users\\UX430\\anaconda3\\lib\\site-packages\\sklearn\\metrics\\_classification.py:1308: UndefinedMetricWarning: Recall and F-score are ill-defined and being set to 0.0 in labels with no true samples. Use `zero_division` parameter to control this behavior.\n",
      "  _warn_prf(average, modifier, msg_start, len(result))\n"
     ]
    },
    {
     "name": "stdout",
     "output_type": "stream",
     "text": [
      "Epoch 1/5\n",
      "51/51 [==============================] - 3s 58ms/step - loss: 2.2768e-04 - accuracy: 1.0000 - val_loss: 5.3382 - val_accuracy: 0.1413\n",
      "Epoch 2/5\n",
      "51/51 [==============================] - 3s 55ms/step - loss: 6.4731e-05 - accuracy: 1.0000 - val_loss: 6.8240 - val_accuracy: 0.1413\n",
      "Epoch 3/5\n",
      "51/51 [==============================] - 3s 54ms/step - loss: 3.4143e-06 - accuracy: 1.0000 - val_loss: 8.1992 - val_accuracy: 0.1413\n",
      "Epoch 4/5\n",
      "51/51 [==============================] - 3s 56ms/step - loss: 1.4342e-06 - accuracy: 1.0000 - val_loss: 9.5255 - val_accuracy: 0.1413\n",
      "Epoch 5/5\n",
      "51/51 [==============================] - 3s 56ms/step - loss: 1.0355e-06 - accuracy: 1.0000 - val_loss: 10.7366 - val_accuracy: 0.1413\n",
      "Epoch 1/5\n",
      "51/51 [==============================] - 3s 54ms/step - loss: 1.1248e-07 - accuracy: 1.0000 - val_loss: 12.2289 - val_accuracy: 0.1413\n",
      "Epoch 2/5\n",
      "51/51 [==============================] - 2s 48ms/step - loss: 5.5529e-08 - accuracy: 1.0000 - val_loss: 13.4947 - val_accuracy: 0.1413\n",
      "Epoch 3/5\n",
      "51/51 [==============================] - 2s 43ms/step - loss: 2.7285e-08 - accuracy: 1.0000 - val_loss: 14.3894 - val_accuracy: 0.1413\n",
      "Epoch 4/5\n",
      "51/51 [==============================] - 2s 44ms/step - loss: 1.7177e-08 - accuracy: 1.0000 - val_loss: 15.0192 - val_accuracy: 0.1413\n",
      "Epoch 5/5\n",
      "51/51 [==============================] - 2s 44ms/step - loss: 1.2398e-08 - accuracy: 1.0000 - val_loss: 15.4669 - val_accuracy: 0.1412\n",
      "Epoch 1/5\n",
      "51/51 [==============================] - 2s 47ms/step - loss: 8.7818e-09 - accuracy: 1.0000 - val_loss: 15.7046 - val_accuracy: 0.1412\n",
      "Epoch 2/5\n",
      "51/51 [==============================] - 2s 46ms/step - loss: 6.8547e-09 - accuracy: 1.0000 - val_loss: 15.9248 - val_accuracy: 0.1412\n",
      "Epoch 3/5\n",
      "51/51 [==============================] - 2s 48ms/step - loss: 6.0843e-09 - accuracy: 1.0000 - val_loss: 16.1013 - val_accuracy: 0.1412\n",
      "Epoch 4/5\n",
      "51/51 [==============================] - 2s 46ms/step - loss: 5.3325e-09 - accuracy: 1.0000 - val_loss: 16.2921 - val_accuracy: 0.1412\n",
      "Epoch 5/5\n",
      "51/51 [==============================] - 2s 46ms/step - loss: 4.7310e-09 - accuracy: 1.0000 - val_loss: 16.4415 - val_accuracy: 0.1412\n",
      " 106/2017 [>.............................] - ETA: 2s - loss: 2.4547 - accuracy: 0.8396"
     ]
    },
    {
     "name": "stderr",
     "output_type": "stream",
     "text": [
      "c:\\Users\\UX430\\anaconda3\\lib\\site-packages\\numpy\\core\\_asarray.py:171: VisibleDeprecationWarning: Creating an ndarray from ragged nested sequences (which is a list-or-tuple of lists-or-tuples-or ndarrays with different lengths or shapes) is deprecated. If you meant to do this, you must specify 'dtype=object' when creating the ndarray.\n",
      "  return array(a, dtype, copy=False, order=order, subok=True)\n"
     ]
    },
    {
     "name": "stdout",
     "output_type": "stream",
     "text": [
      "2017/2017 [==============================] - 3s 1ms/step - loss: 2.5833 - accuracy: 0.8320\n",
      " 76/756 [==>...........................] - ETA: 0s - loss: 0.0000e+00 - accuracy: 0.0000e+00"
     ]
    },
    {
     "name": "stderr",
     "output_type": "stream",
     "text": [
      "c:\\Users\\UX430\\anaconda3\\lib\\site-packages\\sklearn\\metrics\\_classification.py:1308: UndefinedMetricWarning: Precision and F-score are ill-defined and being set to 0.0 in labels with no predicted samples. Use `zero_division` parameter to control this behavior.\n",
      "  _warn_prf(average, modifier, msg_start, len(result))\n",
      "c:\\Users\\UX430\\anaconda3\\lib\\site-packages\\sklearn\\metrics\\_classification.py:1308: UndefinedMetricWarning: Precision and F-score are ill-defined and being set to 0.0 in labels with no predicted samples. Use `zero_division` parameter to control this behavior.\n",
      "  _warn_prf(average, modifier, msg_start, len(result))\n",
      "c:\\Users\\UX430\\anaconda3\\lib\\site-packages\\sklearn\\metrics\\_classification.py:1308: UndefinedMetricWarning: Precision and F-score are ill-defined and being set to 0.0 in labels with no predicted samples. Use `zero_division` parameter to control this behavior.\n",
      "  _warn_prf(average, modifier, msg_start, len(result))\n"
     ]
    },
    {
     "name": "stdout",
     "output_type": "stream",
     "text": [
      "756/756 [==============================] - 1s 1ms/step - loss: 0.0000e+00 - accuracy: 0.0000e+00\n"
     ]
    },
    {
     "name": "stderr",
     "output_type": "stream",
     "text": [
      "c:\\Users\\UX430\\anaconda3\\lib\\site-packages\\sklearn\\metrics\\_classification.py:1308: UndefinedMetricWarning: Precision and F-score are ill-defined and being set to 0.0 in labels with no predicted samples. Use `zero_division` parameter to control this behavior.\n",
      "  _warn_prf(average, modifier, msg_start, len(result))\n",
      "c:\\Users\\UX430\\anaconda3\\lib\\site-packages\\sklearn\\metrics\\_classification.py:1308: UndefinedMetricWarning: Recall and F-score are ill-defined and being set to 0.0 in labels with no true samples. Use `zero_division` parameter to control this behavior.\n",
      "  _warn_prf(average, modifier, msg_start, len(result))\n",
      "c:\\Users\\UX430\\anaconda3\\lib\\site-packages\\sklearn\\metrics\\_classification.py:1308: UndefinedMetricWarning: Precision and F-score are ill-defined and being set to 0.0 in labels with no predicted samples. Use `zero_division` parameter to control this behavior.\n",
      "  _warn_prf(average, modifier, msg_start, len(result))\n",
      "c:\\Users\\UX430\\anaconda3\\lib\\site-packages\\sklearn\\metrics\\_classification.py:1308: UndefinedMetricWarning: Recall and F-score are ill-defined and being set to 0.0 in labels with no true samples. Use `zero_division` parameter to control this behavior.\n",
      "  _warn_prf(average, modifier, msg_start, len(result))\n",
      "c:\\Users\\UX430\\anaconda3\\lib\\site-packages\\sklearn\\metrics\\_classification.py:1308: UndefinedMetricWarning: Precision and F-score are ill-defined and being set to 0.0 in labels with no predicted samples. Use `zero_division` parameter to control this behavior.\n",
      "  _warn_prf(average, modifier, msg_start, len(result))\n",
      "c:\\Users\\UX430\\anaconda3\\lib\\site-packages\\sklearn\\metrics\\_classification.py:1308: UndefinedMetricWarning: Recall and F-score are ill-defined and being set to 0.0 in labels with no true samples. Use `zero_division` parameter to control this behavior.\n",
      "  _warn_prf(average, modifier, msg_start, len(result))\n"
     ]
    },
    {
     "name": "stdout",
     "output_type": "stream",
     "text": [
      "Epoch 1/5\n",
      "51/51 [==============================] - 3s 50ms/step - loss: 2.1659e-07 - accuracy: 1.0000 - val_loss: 14.6524 - val_accuracy: 0.1412\n",
      "Epoch 2/5\n",
      "51/51 [==============================] - 3s 49ms/step - loss: 3.3401e-08 - accuracy: 1.0000 - val_loss: 15.1175 - val_accuracy: 0.1411\n",
      "Epoch 3/5\n",
      "51/51 [==============================] - 2s 48ms/step - loss: 3.3991e-08 - accuracy: 1.0000 - val_loss: 15.5088 - val_accuracy: 0.1411\n",
      "Epoch 4/5\n",
      "51/51 [==============================] - 2s 49ms/step - loss: 2.8143e-08 - accuracy: 1.0000 - val_loss: 15.7959 - val_accuracy: 0.1411\n",
      "Epoch 5/5\n",
      "51/51 [==============================] - 2s 48ms/step - loss: 2.3826e-08 - accuracy: 1.0000 - val_loss: 15.9817 - val_accuracy: 0.1411\n",
      "Epoch 1/5\n",
      "51/51 [==============================] - 3s 53ms/step - loss: 4.7657e-09 - accuracy: 1.0000 - val_loss: 16.1496 - val_accuracy: 0.1411\n",
      "Epoch 2/5\n",
      "51/51 [==============================] - 3s 51ms/step - loss: 4.2105e-09 - accuracy: 1.0000 - val_loss: 16.3257 - val_accuracy: 0.1411\n",
      "Epoch 3/5\n",
      "51/51 [==============================] - 3s 49ms/step - loss: 4.1318e-09 - accuracy: 1.0000 - val_loss: 16.4795 - val_accuracy: 0.1411\n",
      "Epoch 4/5\n",
      "51/51 [==============================] - 3s 52ms/step - loss: 3.1440e-09 - accuracy: 1.0000 - val_loss: 16.6105 - val_accuracy: 0.1411\n",
      "Epoch 5/5\n",
      "51/51 [==============================] - 3s 50ms/step - loss: 3.1185e-09 - accuracy: 1.0000 - val_loss: 16.6743 - val_accuracy: 0.1411\n",
      "Epoch 1/5\n",
      "51/51 [==============================] - 3s 50ms/step - loss: 2.9681e-09 - accuracy: 1.0000 - val_loss: 16.7572 - val_accuracy: 0.1411\n",
      "Epoch 2/5\n",
      "51/51 [==============================] - 3s 52ms/step - loss: 2.7229e-09 - accuracy: 1.0000 - val_loss: 16.8336 - val_accuracy: 0.1411\n",
      "Epoch 3/5\n",
      "51/51 [==============================] - 3s 50ms/step - loss: 2.6165e-09 - accuracy: 1.0000 - val_loss: 16.9207 - val_accuracy: 0.1411\n",
      "Epoch 4/5\n",
      "51/51 [==============================] - 3s 50ms/step - loss: 2.3921e-09 - accuracy: 1.0000 - val_loss: 16.9939 - val_accuracy: 0.1411\n",
      "Epoch 5/5\n",
      "51/51 [==============================] - 3s 50ms/step - loss: 2.3412e-09 - accuracy: 1.0000 - val_loss: 17.0702 - val_accuracy: 0.1411\n",
      "  30/2017 [..............................] - ETA: 6s - loss: 2.7303 - accuracy: 0.8510"
     ]
    },
    {
     "name": "stderr",
     "output_type": "stream",
     "text": [
      "c:\\Users\\UX430\\anaconda3\\lib\\site-packages\\numpy\\core\\_asarray.py:171: VisibleDeprecationWarning: Creating an ndarray from ragged nested sequences (which is a list-or-tuple of lists-or-tuples-or ndarrays with different lengths or shapes) is deprecated. If you meant to do this, you must specify 'dtype=object' when creating the ndarray.\n",
      "  return array(a, dtype, copy=False, order=order, subok=True)\n"
     ]
    },
    {
     "name": "stdout",
     "output_type": "stream",
     "text": [
      "2017/2017 [==============================] - 3s 1ms/step - loss: 3.0700 - accuracy: 0.8320\n",
      " 73/756 [=>............................] - ETA: 0s - loss: 0.0000e+00 - accuracy: 0.0000e+00"
     ]
    },
    {
     "name": "stderr",
     "output_type": "stream",
     "text": [
      "c:\\Users\\UX430\\anaconda3\\lib\\site-packages\\sklearn\\metrics\\_classification.py:1308: UndefinedMetricWarning: Precision and F-score are ill-defined and being set to 0.0 in labels with no predicted samples. Use `zero_division` parameter to control this behavior.\n",
      "  _warn_prf(average, modifier, msg_start, len(result))\n",
      "c:\\Users\\UX430\\anaconda3\\lib\\site-packages\\sklearn\\metrics\\_classification.py:1308: UndefinedMetricWarning: Precision and F-score are ill-defined and being set to 0.0 in labels with no predicted samples. Use `zero_division` parameter to control this behavior.\n",
      "  _warn_prf(average, modifier, msg_start, len(result))\n",
      "c:\\Users\\UX430\\anaconda3\\lib\\site-packages\\sklearn\\metrics\\_classification.py:1308: UndefinedMetricWarning: Precision and F-score are ill-defined and being set to 0.0 in labels with no predicted samples. Use `zero_division` parameter to control this behavior.\n",
      "  _warn_prf(average, modifier, msg_start, len(result))\n"
     ]
    },
    {
     "name": "stdout",
     "output_type": "stream",
     "text": [
      "756/756 [==============================] - 1s 2ms/step - loss: 0.0000e+00 - accuracy: 0.0000e+00\n"
     ]
    },
    {
     "name": "stderr",
     "output_type": "stream",
     "text": [
      "c:\\Users\\UX430\\anaconda3\\lib\\site-packages\\sklearn\\metrics\\_classification.py:1308: UndefinedMetricWarning: Precision and F-score are ill-defined and being set to 0.0 in labels with no predicted samples. Use `zero_division` parameter to control this behavior.\n",
      "  _warn_prf(average, modifier, msg_start, len(result))\n",
      "c:\\Users\\UX430\\anaconda3\\lib\\site-packages\\sklearn\\metrics\\_classification.py:1308: UndefinedMetricWarning: Recall and F-score are ill-defined and being set to 0.0 in labels with no true samples. Use `zero_division` parameter to control this behavior.\n",
      "  _warn_prf(average, modifier, msg_start, len(result))\n",
      "c:\\Users\\UX430\\anaconda3\\lib\\site-packages\\sklearn\\metrics\\_classification.py:1308: UndefinedMetricWarning: Precision and F-score are ill-defined and being set to 0.0 in labels with no predicted samples. Use `zero_division` parameter to control this behavior.\n",
      "  _warn_prf(average, modifier, msg_start, len(result))\n",
      "c:\\Users\\UX430\\anaconda3\\lib\\site-packages\\sklearn\\metrics\\_classification.py:1308: UndefinedMetricWarning: Recall and F-score are ill-defined and being set to 0.0 in labels with no true samples. Use `zero_division` parameter to control this behavior.\n",
      "  _warn_prf(average, modifier, msg_start, len(result))\n",
      "c:\\Users\\UX430\\anaconda3\\lib\\site-packages\\sklearn\\metrics\\_classification.py:1308: UndefinedMetricWarning: Precision and F-score are ill-defined and being set to 0.0 in labels with no predicted samples. Use `zero_division` parameter to control this behavior.\n",
      "  _warn_prf(average, modifier, msg_start, len(result))\n",
      "c:\\Users\\UX430\\anaconda3\\lib\\site-packages\\sklearn\\metrics\\_classification.py:1308: UndefinedMetricWarning: Recall and F-score are ill-defined and being set to 0.0 in labels with no true samples. Use `zero_division` parameter to control this behavior.\n",
      "  _warn_prf(average, modifier, msg_start, len(result))\n"
     ]
    }
   ],
   "source": [
    "# Values saved each iteration \n",
    "loss_it = []\n",
    "accuracy_it = []\n",
    "f1_it = []\n",
    "precision_it = []\n",
    "recall_it = []\n",
    "\n",
    "for i in range(global_updates): \n",
    "    w_list = []\n",
    "    for node in range(num_nodes): \n",
    "        cp = global_model # create a copy of the global model\n",
    "        if node == 0:\n",
    "            x, y = x1, y1\n",
    "        elif node == 1:\n",
    "            x, y = x2, y2\n",
    "        else:\n",
    "            x, y = x3, y3\n",
    "        local_model, local_loss, local_acc, local_val_loss, local_val_acc = train_local_model(cp, node, x, y)\n",
    "        w_list.append(local_model.get_weights())\n",
    "\n",
    "    avg_w = aggregate(w_list)\n",
    "    global_model.set_weights(avg_w) # apply gradients to global model\n",
    "    loss_basic, accuracy_basic, f1_basic, precision_basic, recall_basic = evaluation(global_model, xbasic, ybasic) # Evaluate with test basic to know progress\n",
    "    loss_plus, accuracy_plus, f1_plus, precision_plus, recall_plus = evaluation(global_model, xplus, yplus) # Evaluate with test plus to know progress\n",
    "\n",
    "    loss_it.append([loss_basic, loss_plus])\n",
    "    accuracy_it.append([accuracy_basic, accuracy_plus])\n",
    "    f1_it.append([f1_basic, f1_plus])\n",
    "    precision_it.append([precision_basic, precision_plus])\n",
    "    recall_it.append([recall_basic, recall_plus])\n",
    "\n",
    "\n",
    "global_model.save('C:/Users/UX430/Documents/thesis/code/models/id300.hdf5')"
   ]
  },
  {
   "cell_type": "code",
   "execution_count": 44,
   "metadata": {},
   "outputs": [
    {
     "name": "stdout",
     "output_type": "stream",
     "text": [
      "Loss for iterations:  [[0.7941008806228638, 0.0], [2.583343505859375, 0.0], [3.069974184036255, 0.0]]\n",
      "Accuracy for iterations:  [[0.8319951891899109, 0.0], [0.8319951891899109, 0.0], [0.8319951891899109, 0.0]]\n",
      "F1 for iterations:  [[0.7557834755117917, 0.0], [0.7557451441663556, 0.0], [0.7557323560428683, 0.0]]\n",
      "Precision for iterations:  [[0.702111481152869, 0.0], [0.7281547787506915, 0.0], [0.7281333177519175, 0.0]]\n",
      "Recall for iterations:  [[0.831995163990328, 0.0], [0.831995163990328, 0.0], [0.831995163990328, 0.0]]\n"
     ]
    }
   ],
   "source": [
    "print(\"Loss for iterations: \", loss_it)\n",
    "print(\"Accuracy for iterations: \", accuracy_it)\n",
    "print(\"F1 for iterations: \", f1_it)\n",
    "print(\"Precision for iterations: \", precision_it)\n",
    "print(\"Recall for iterations: \", recall_it)"
   ]
  },
  {
   "cell_type": "markdown",
   "metadata": {},
   "source": [
    "#### Dataset 3B "
   ]
  },
  {
   "cell_type": "code",
   "execution_count": 45,
   "metadata": {},
   "outputs": [],
   "source": [
    "# Load training datasets and testing datasets \n",
    "training1 = pd.read_csv('C:/Users/UX430/Documents/thesis/datasets/UNSW-NB15/UNSW-NB15-Train-Basic-Cat3B-Part1.csv')\n",
    "training2 = pd.read_csv('C:/Users/UX430/Documents/thesis/datasets/UNSW-NB15/UNSW-NB15-Train-Basic-Cat3B-Part2.csv')\n",
    "training3 = pd.read_csv('C:/Users/UX430/Documents/thesis/datasets/UNSW-NB15/UNSW-NB15-Train-Basic-Cat3B-Part3.csv')"
   ]
  },
  {
   "cell_type": "code",
   "execution_count": 46,
   "metadata": {},
   "outputs": [],
   "source": [
    "# Define \n",
    "node_datasets = [training1, training2, training3]\n",
    "num_nodes = 3\n",
    "global_updates = 3\n",
    "\n",
    "# Define model training parameters\n",
    "loss_fct = \"categorical_crossentropy\"\n",
    "metrics = ['accuracy']\n",
    "local_epochs = 5"
   ]
  },
  {
   "cell_type": "code",
   "execution_count": 47,
   "metadata": {},
   "outputs": [],
   "source": [
    "def train_local_model(model, node, x_train, y_train): \n",
    "    filepath = 'C:/Users/UX430/Documents/thesis/code/models/node'+str(node)+'ID301.hdf5'\n",
    "    callbacks = [\n",
    "            keras.callbacks.EarlyStopping(\n",
    "                monitor = 'val_loss', # Use accuracy to monitor the model\n",
    "                patience = 10 # Stop after 10 steps with lower accuracy\n",
    "            ),\n",
    "            keras.callbacks.ModelCheckpoint(\n",
    "                filepath = filepath, # file where the checkpoint is saved\n",
    "                monitor = 'val_loss', # Don't overwrite the saved model unless val_loss is worse\n",
    "                save_best_only = True)]# Only save model if it is the best\n",
    "    optimizer = keras.optimizers.Adam(learning_rate=1e-4)\n",
    "    model.compile(optimizer=optimizer, loss=loss_fct, metrics=metrics)\n",
    "    history = model.fit(x_train, y_train, epochs=local_epochs, validation_split=0.2, callbacks=callbacks, batch_size=1024)\n",
    "    return model, history.history['loss'], history.history['accuracy'], history.history['val_loss'], history.history['val_accuracy']"
   ]
  },
  {
   "cell_type": "code",
   "execution_count": 48,
   "metadata": {},
   "outputs": [],
   "source": [
    "def aggregate(w_list): \n",
    "    avg_w = np.mean(w_list, axis=0)\n",
    "    return avg_w"
   ]
  },
  {
   "cell_type": "code",
   "execution_count": 49,
   "metadata": {},
   "outputs": [],
   "source": [
    "global_model = build_model((24,1,1))"
   ]
  },
  {
   "cell_type": "code",
   "execution_count": 50,
   "metadata": {},
   "outputs": [],
   "source": [
    "x1, y1 = preprocessing(training1)\n",
    "x2, y2 = preprocessing(training2)\n",
    "x3, y3 = preprocessing(training3)\n"
   ]
  },
  {
   "cell_type": "code",
   "execution_count": 51,
   "metadata": {},
   "outputs": [
    {
     "name": "stdout",
     "output_type": "stream",
     "text": [
      "Epoch 1/5\n",
      "15/15 [==============================] - 1s 52ms/step - loss: 1.1526 - accuracy: 0.5712 - val_loss: 1.3945 - val_accuracy: 0.0366\n",
      "Epoch 2/5\n",
      "15/15 [==============================] - 1s 40ms/step - loss: 0.6605 - accuracy: 0.9164 - val_loss: 1.4258 - val_accuracy: 5.4975e-04\n",
      "Epoch 3/5\n",
      "15/15 [==============================] - 1s 40ms/step - loss: 0.3799 - accuracy: 0.9474 - val_loss: 1.4602 - val_accuracy: 0.0000e+00\n",
      "Epoch 4/5\n",
      "15/15 [==============================] - 1s 42ms/step - loss: 0.2627 - accuracy: 0.9562 - val_loss: 1.4928 - val_accuracy: 0.0000e+00\n",
      "Epoch 5/5\n",
      "15/15 [==============================] - 1s 42ms/step - loss: 0.2192 - accuracy: 0.9614 - val_loss: 1.5218 - val_accuracy: 0.0000e+00\n",
      "Epoch 1/5\n",
      "15/15 [==============================] - 1s 65ms/step - loss: 0.1929 - accuracy: 0.9630 - val_loss: 1.5858 - val_accuracy: 0.0000e+00\n",
      "Epoch 2/5\n",
      "15/15 [==============================] - 1s 43ms/step - loss: 0.1798 - accuracy: 0.9628 - val_loss: 1.6270 - val_accuracy: 8.2463e-04\n",
      "Epoch 3/5\n",
      "15/15 [==============================] - 1s 40ms/step - loss: 0.1734 - accuracy: 0.9630 - val_loss: 1.6758 - val_accuracy: 8.2463e-04\n",
      "Epoch 4/5\n",
      "15/15 [==============================] - 1s 48ms/step - loss: 0.1688 - accuracy: 0.9632 - val_loss: 1.7283 - val_accuracy: 8.2463e-04\n",
      "Epoch 5/5\n",
      "15/15 [==============================] - 1s 42ms/step - loss: 0.1654 - accuracy: 0.9632 - val_loss: 1.7776 - val_accuracy: 8.2463e-04\n",
      "Epoch 1/5\n",
      "15/15 [==============================] - 1s 54ms/step - loss: 0.1611 - accuracy: 0.9641 - val_loss: 1.8498 - val_accuracy: 0.0014\n",
      "Epoch 2/5\n",
      "15/15 [==============================] - 1s 48ms/step - loss: 0.1577 - accuracy: 0.9643 - val_loss: 1.9227 - val_accuracy: 8.2463e-04\n",
      "Epoch 3/5\n",
      "15/15 [==============================] - 1s 43ms/step - loss: 0.1550 - accuracy: 0.9646 - val_loss: 2.0023 - val_accuracy: 2.7488e-04\n",
      "Epoch 4/5\n",
      "15/15 [==============================] - 1s 43ms/step - loss: 0.1530 - accuracy: 0.9647 - val_loss: 2.0769 - val_accuracy: 2.7488e-04\n",
      "Epoch 5/5\n",
      "15/15 [==============================] - 1s 41ms/step - loss: 0.1513 - accuracy: 0.9649 - val_loss: 2.1646 - val_accuracy: 2.7488e-04\n",
      "  79/2017 [>.............................] - ETA: 2s - loss: 1.1897 - accuracy: 0.8445"
     ]
    },
    {
     "name": "stderr",
     "output_type": "stream",
     "text": [
      "c:\\Users\\UX430\\anaconda3\\lib\\site-packages\\numpy\\core\\_asarray.py:171: VisibleDeprecationWarning: Creating an ndarray from ragged nested sequences (which is a list-or-tuple of lists-or-tuples-or ndarrays with different lengths or shapes) is deprecated. If you meant to do this, you must specify 'dtype=object' when creating the ndarray.\n",
      "  return array(a, dtype, copy=False, order=order, subok=True)\n"
     ]
    },
    {
     "name": "stdout",
     "output_type": "stream",
     "text": [
      "2017/2017 [==============================] - 3s 1ms/step - loss: 1.1887 - accuracy: 0.8464\n",
      "756/756 [==============================] - 1s 1ms/step - loss: 0.0000e+00 - accuracy: 7.8574e-04\n"
     ]
    },
    {
     "name": "stderr",
     "output_type": "stream",
     "text": [
      "c:\\Users\\UX430\\anaconda3\\lib\\site-packages\\sklearn\\metrics\\_classification.py:1308: UndefinedMetricWarning: Recall and F-score are ill-defined and being set to 0.0 in labels with no true samples. Use `zero_division` parameter to control this behavior.\n",
      "  _warn_prf(average, modifier, msg_start, len(result))\n",
      "c:\\Users\\UX430\\anaconda3\\lib\\site-packages\\sklearn\\metrics\\_classification.py:1308: UndefinedMetricWarning: Recall and F-score are ill-defined and being set to 0.0 in labels with no true samples. Use `zero_division` parameter to control this behavior.\n",
      "  _warn_prf(average, modifier, msg_start, len(result))\n",
      "c:\\Users\\UX430\\anaconda3\\lib\\site-packages\\sklearn\\metrics\\_classification.py:1308: UndefinedMetricWarning: Recall and F-score are ill-defined and being set to 0.0 in labels with no true samples. Use `zero_division` parameter to control this behavior.\n",
      "  _warn_prf(average, modifier, msg_start, len(result))\n"
     ]
    },
    {
     "name": "stdout",
     "output_type": "stream",
     "text": [
      "Epoch 1/5\n",
      "15/15 [==============================] - 1s 53ms/step - loss: 0.1686 - accuracy: 0.9613 - val_loss: 1.7795 - val_accuracy: 5.4975e-04\n",
      "Epoch 2/5\n",
      "15/15 [==============================] - 1s 49ms/step - loss: 0.1645 - accuracy: 0.9616 - val_loss: 1.8444 - val_accuracy: 5.4975e-04\n",
      "Epoch 3/5\n",
      "15/15 [==============================] - 1s 43ms/step - loss: 0.1613 - accuracy: 0.9619 - val_loss: 1.9172 - val_accuracy: 5.4975e-04\n",
      "Epoch 4/5\n",
      "15/15 [==============================] - 1s 43ms/step - loss: 0.1588 - accuracy: 0.9623 - val_loss: 1.9922 - val_accuracy: 5.4975e-04\n",
      "Epoch 5/5\n",
      "15/15 [==============================] - 1s 48ms/step - loss: 0.1565 - accuracy: 0.9627 - val_loss: 2.0779 - val_accuracy: 2.7488e-04\n",
      "Epoch 1/5\n",
      "15/15 [==============================] - 1s 50ms/step - loss: 0.1515 - accuracy: 0.9643 - val_loss: 2.1660 - val_accuracy: 0.0011\n",
      "Epoch 2/5\n",
      "15/15 [==============================] - 1s 41ms/step - loss: 0.1493 - accuracy: 0.9649 - val_loss: 2.2868 - val_accuracy: 0.0022\n",
      "Epoch 3/5\n",
      "15/15 [==============================] - 1s 41ms/step - loss: 0.1471 - accuracy: 0.9648 - val_loss: 2.4010 - val_accuracy: 0.0022\n",
      "Epoch 4/5\n",
      "15/15 [==============================] - 1s 48ms/step - loss: 0.1460 - accuracy: 0.9651 - val_loss: 2.5255 - val_accuracy: 0.0022\n",
      "Epoch 5/5\n",
      "15/15 [==============================] - 1s 45ms/step - loss: 0.1448 - accuracy: 0.9649 - val_loss: 2.6667 - val_accuracy: 0.0019\n",
      "Epoch 1/5\n",
      "15/15 [==============================] - 1s 59ms/step - loss: 0.1447 - accuracy: 0.9655 - val_loss: 2.8089 - val_accuracy: 0.0014\n",
      "Epoch 2/5\n",
      "15/15 [==============================] - 1s 44ms/step - loss: 0.1432 - accuracy: 0.9659 - val_loss: 2.9950 - val_accuracy: 0.0011\n",
      "Epoch 3/5\n",
      "15/15 [==============================] - 1s 41ms/step - loss: 0.1421 - accuracy: 0.9660 - val_loss: 3.1537 - val_accuracy: 0.0016\n",
      "Epoch 4/5\n",
      "15/15 [==============================] - 1s 41ms/step - loss: 0.1412 - accuracy: 0.9668 - val_loss: 3.3529 - val_accuracy: 0.0019\n",
      "Epoch 5/5\n",
      "15/15 [==============================] - 1s 47ms/step - loss: 0.1406 - accuracy: 0.9669 - val_loss: 3.5574 - val_accuracy: 0.0030\n",
      " 122/2017 [>.............................] - ETA: 2s - loss: 1.0289 - accuracy: 0.8432"
     ]
    },
    {
     "name": "stderr",
     "output_type": "stream",
     "text": [
      "c:\\Users\\UX430\\anaconda3\\lib\\site-packages\\numpy\\core\\_asarray.py:171: VisibleDeprecationWarning: Creating an ndarray from ragged nested sequences (which is a list-or-tuple of lists-or-tuples-or ndarrays with different lengths or shapes) is deprecated. If you meant to do this, you must specify 'dtype=object' when creating the ndarray.\n",
      "  return array(a, dtype, copy=False, order=order, subok=True)\n"
     ]
    },
    {
     "name": "stdout",
     "output_type": "stream",
     "text": [
      "2017/2017 [==============================] - 3s 1ms/step - loss: 1.0257 - accuracy: 0.8466\n",
      " 45/756 [>.............................] - ETA: 0s - loss: 0.0000e+00 - accuracy: 0.0000e+00"
     ]
    },
    {
     "name": "stderr",
     "output_type": "stream",
     "text": [
      "c:\\Users\\UX430\\anaconda3\\lib\\site-packages\\sklearn\\metrics\\_classification.py:1308: UndefinedMetricWarning: Precision and F-score are ill-defined and being set to 0.0 in labels with no predicted samples. Use `zero_division` parameter to control this behavior.\n",
      "  _warn_prf(average, modifier, msg_start, len(result))\n",
      "c:\\Users\\UX430\\anaconda3\\lib\\site-packages\\sklearn\\metrics\\_classification.py:1308: UndefinedMetricWarning: Precision and F-score are ill-defined and being set to 0.0 in labels with no predicted samples. Use `zero_division` parameter to control this behavior.\n",
      "  _warn_prf(average, modifier, msg_start, len(result))\n",
      "c:\\Users\\UX430\\anaconda3\\lib\\site-packages\\sklearn\\metrics\\_classification.py:1308: UndefinedMetricWarning: Precision and F-score are ill-defined and being set to 0.0 in labels with no predicted samples. Use `zero_division` parameter to control this behavior.\n",
      "  _warn_prf(average, modifier, msg_start, len(result))\n"
     ]
    },
    {
     "name": "stdout",
     "output_type": "stream",
     "text": [
      "756/756 [==============================] - 1s 1ms/step - loss: 0.0000e+00 - accuracy: 7.4439e-04\n"
     ]
    },
    {
     "name": "stderr",
     "output_type": "stream",
     "text": [
      "c:\\Users\\UX430\\anaconda3\\lib\\site-packages\\sklearn\\metrics\\_classification.py:1308: UndefinedMetricWarning: Precision and F-score are ill-defined and being set to 0.0 in labels with no predicted samples. Use `zero_division` parameter to control this behavior.\n",
      "  _warn_prf(average, modifier, msg_start, len(result))\n",
      "c:\\Users\\UX430\\anaconda3\\lib\\site-packages\\sklearn\\metrics\\_classification.py:1308: UndefinedMetricWarning: Recall and F-score are ill-defined and being set to 0.0 in labels with no true samples. Use `zero_division` parameter to control this behavior.\n",
      "  _warn_prf(average, modifier, msg_start, len(result))\n",
      "c:\\Users\\UX430\\anaconda3\\lib\\site-packages\\sklearn\\metrics\\_classification.py:1308: UndefinedMetricWarning: Precision and F-score are ill-defined and being set to 0.0 in labels with no predicted samples. Use `zero_division` parameter to control this behavior.\n",
      "  _warn_prf(average, modifier, msg_start, len(result))\n",
      "c:\\Users\\UX430\\anaconda3\\lib\\site-packages\\sklearn\\metrics\\_classification.py:1308: UndefinedMetricWarning: Recall and F-score are ill-defined and being set to 0.0 in labels with no true samples. Use `zero_division` parameter to control this behavior.\n",
      "  _warn_prf(average, modifier, msg_start, len(result))\n",
      "c:\\Users\\UX430\\anaconda3\\lib\\site-packages\\sklearn\\metrics\\_classification.py:1308: UndefinedMetricWarning: Precision and F-score are ill-defined and being set to 0.0 in labels with no predicted samples. Use `zero_division` parameter to control this behavior.\n",
      "  _warn_prf(average, modifier, msg_start, len(result))\n",
      "c:\\Users\\UX430\\anaconda3\\lib\\site-packages\\sklearn\\metrics\\_classification.py:1308: UndefinedMetricWarning: Recall and F-score are ill-defined and being set to 0.0 in labels with no true samples. Use `zero_division` parameter to control this behavior.\n",
      "  _warn_prf(average, modifier, msg_start, len(result))\n"
     ]
    },
    {
     "name": "stdout",
     "output_type": "stream",
     "text": [
      "Epoch 1/5\n",
      "15/15 [==============================] - 1s 53ms/step - loss: 0.1508 - accuracy: 0.9642 - val_loss: 2.6512 - val_accuracy: 0.0014\n",
      "Epoch 2/5\n",
      "15/15 [==============================] - 1s 41ms/step - loss: 0.1491 - accuracy: 0.9633 - val_loss: 2.8037 - val_accuracy: 0.0011\n",
      "Epoch 3/5\n",
      "15/15 [==============================] - 1s 49ms/step - loss: 0.1480 - accuracy: 0.9649 - val_loss: 2.9493 - val_accuracy: 0.0011\n",
      "Epoch 4/5\n",
      "15/15 [==============================] - 1s 44ms/step - loss: 0.1473 - accuracy: 0.9658 - val_loss: 3.1165 - val_accuracy: 0.0011\n",
      "Epoch 5/5\n",
      "15/15 [==============================] - 1s 42ms/step - loss: 0.1465 - accuracy: 0.9662 - val_loss: 3.2999 - val_accuracy: 0.0011\n",
      "Epoch 1/5\n",
      "15/15 [==============================] - 1s 63ms/step - loss: 0.1428 - accuracy: 0.9667 - val_loss: 3.4853 - val_accuracy: 0.0016\n",
      "Epoch 2/5\n",
      "15/15 [==============================] - 1s 42ms/step - loss: 0.1415 - accuracy: 0.9674 - val_loss: 3.7246 - val_accuracy: 0.0016\n",
      "Epoch 3/5\n",
      "15/15 [==============================] - 1s 42ms/step - loss: 0.1408 - accuracy: 0.9674 - val_loss: 3.9512 - val_accuracy: 0.0036\n",
      "Epoch 4/5\n",
      "15/15 [==============================] - 1s 49ms/step - loss: 0.1398 - accuracy: 0.9674 - val_loss: 4.1684 - val_accuracy: 0.0036\n",
      "Epoch 5/5\n",
      "15/15 [==============================] - 1s 45ms/step - loss: 0.1393 - accuracy: 0.9675 - val_loss: 4.3942 - val_accuracy: 0.0014\n",
      "Epoch 1/5\n",
      "15/15 [==============================] - 1s 53ms/step - loss: 0.1406 - accuracy: 0.9674 - val_loss: 4.6537 - val_accuracy: 0.0011\n",
      "Epoch 2/5\n",
      "15/15 [==============================] - 1s 49ms/step - loss: 0.1390 - accuracy: 0.9676 - val_loss: 4.8910 - val_accuracy: 0.0014\n",
      "Epoch 3/5\n",
      "15/15 [==============================] - 1s 41ms/step - loss: 0.1385 - accuracy: 0.9675 - val_loss: 5.2147 - val_accuracy: 0.0014\n",
      "Epoch 4/5\n",
      "15/15 [==============================] - 1s 42ms/step - loss: 0.1379 - accuracy: 0.9678 - val_loss: 5.4249 - val_accuracy: 0.0011\n",
      "Epoch 5/5\n",
      "15/15 [==============================] - 1s 42ms/step - loss: 0.1372 - accuracy: 0.9679 - val_loss: 5.6946 - val_accuracy: 0.0016\n",
      "  30/2017 [..............................] - ETA: 3s - loss: 0.9073 - accuracy: 0.9042"
     ]
    },
    {
     "name": "stderr",
     "output_type": "stream",
     "text": [
      "c:\\Users\\UX430\\anaconda3\\lib\\site-packages\\numpy\\core\\_asarray.py:171: VisibleDeprecationWarning: Creating an ndarray from ragged nested sequences (which is a list-or-tuple of lists-or-tuples-or ndarrays with different lengths or shapes) is deprecated. If you meant to do this, you must specify 'dtype=object' when creating the ndarray.\n",
      "  return array(a, dtype, copy=False, order=order, subok=True)\n"
     ]
    },
    {
     "name": "stdout",
     "output_type": "stream",
     "text": [
      "2017/2017 [==============================] - 3s 1ms/step - loss: 0.9147 - accuracy: 0.8975\n",
      " 87/756 [==>...........................] - ETA: 0s - loss: 0.0000e+00 - accuracy: 0.0000e+00"
     ]
    },
    {
     "name": "stderr",
     "output_type": "stream",
     "text": [
      "c:\\Users\\UX430\\anaconda3\\lib\\site-packages\\sklearn\\metrics\\_classification.py:1308: UndefinedMetricWarning: Precision and F-score are ill-defined and being set to 0.0 in labels with no predicted samples. Use `zero_division` parameter to control this behavior.\n",
      "  _warn_prf(average, modifier, msg_start, len(result))\n",
      "c:\\Users\\UX430\\anaconda3\\lib\\site-packages\\sklearn\\metrics\\_classification.py:1308: UndefinedMetricWarning: Precision and F-score are ill-defined and being set to 0.0 in labels with no predicted samples. Use `zero_division` parameter to control this behavior.\n",
      "  _warn_prf(average, modifier, msg_start, len(result))\n",
      "c:\\Users\\UX430\\anaconda3\\lib\\site-packages\\sklearn\\metrics\\_classification.py:1308: UndefinedMetricWarning: Precision and F-score are ill-defined and being set to 0.0 in labels with no predicted samples. Use `zero_division` parameter to control this behavior.\n",
      "  _warn_prf(average, modifier, msg_start, len(result))\n"
     ]
    },
    {
     "name": "stdout",
     "output_type": "stream",
     "text": [
      "756/756 [==============================] - 1s 1ms/step - loss: 0.0000e+00 - accuracy: 5.3761e-04\n"
     ]
    },
    {
     "name": "stderr",
     "output_type": "stream",
     "text": [
      "c:\\Users\\UX430\\anaconda3\\lib\\site-packages\\sklearn\\metrics\\_classification.py:1308: UndefinedMetricWarning: Precision and F-score are ill-defined and being set to 0.0 in labels with no predicted samples. Use `zero_division` parameter to control this behavior.\n",
      "  _warn_prf(average, modifier, msg_start, len(result))\n",
      "c:\\Users\\UX430\\anaconda3\\lib\\site-packages\\sklearn\\metrics\\_classification.py:1308: UndefinedMetricWarning: Recall and F-score are ill-defined and being set to 0.0 in labels with no true samples. Use `zero_division` parameter to control this behavior.\n",
      "  _warn_prf(average, modifier, msg_start, len(result))\n",
      "c:\\Users\\UX430\\anaconda3\\lib\\site-packages\\sklearn\\metrics\\_classification.py:1308: UndefinedMetricWarning: Precision and F-score are ill-defined and being set to 0.0 in labels with no predicted samples. Use `zero_division` parameter to control this behavior.\n",
      "  _warn_prf(average, modifier, msg_start, len(result))\n",
      "c:\\Users\\UX430\\anaconda3\\lib\\site-packages\\sklearn\\metrics\\_classification.py:1308: UndefinedMetricWarning: Recall and F-score are ill-defined and being set to 0.0 in labels with no true samples. Use `zero_division` parameter to control this behavior.\n",
      "  _warn_prf(average, modifier, msg_start, len(result))\n",
      "c:\\Users\\UX430\\anaconda3\\lib\\site-packages\\sklearn\\metrics\\_classification.py:1308: UndefinedMetricWarning: Precision and F-score are ill-defined and being set to 0.0 in labels with no predicted samples. Use `zero_division` parameter to control this behavior.\n",
      "  _warn_prf(average, modifier, msg_start, len(result))\n",
      "c:\\Users\\UX430\\anaconda3\\lib\\site-packages\\sklearn\\metrics\\_classification.py:1308: UndefinedMetricWarning: Recall and F-score are ill-defined and being set to 0.0 in labels with no true samples. Use `zero_division` parameter to control this behavior.\n",
      "  _warn_prf(average, modifier, msg_start, len(result))\n"
     ]
    }
   ],
   "source": [
    "# Values saved each iteration \n",
    "loss_it = []\n",
    "accuracy_it = []\n",
    "f1_it = []\n",
    "precision_it = []\n",
    "recall_it = []\n",
    "\n",
    "for i in range(global_updates): \n",
    "    w_list = []\n",
    "    for node in range(num_nodes): \n",
    "        cp = global_model # create a copy of the global model\n",
    "        if node == 0:\n",
    "            x, y = x1, y1\n",
    "        elif node == 1:\n",
    "            x, y = x2, y2\n",
    "        else:\n",
    "            x, y = x3, y3\n",
    "        local_model, local_loss, local_acc, local_val_loss, local_val_acc = train_local_model(cp, node, x, y)\n",
    "        w_list.append(local_model.get_weights())\n",
    "\n",
    "    avg_w = aggregate(w_list)\n",
    "    global_model.set_weights(avg_w) # apply gradients to global model\n",
    "    loss_basic, accuracy_basic, f1_basic, precision_basic, recall_basic = evaluation(global_model, xbasic, ybasic) # Evaluate with test basic to know progress\n",
    "    loss_plus, accuracy_plus, f1_plus, precision_plus, recall_plus = evaluation(global_model, xplus, yplus) # Evaluate with test plus to know progress\n",
    "\n",
    "    loss_it.append([loss_basic, loss_plus])\n",
    "    accuracy_it.append([accuracy_basic, accuracy_plus])\n",
    "    f1_it.append([f1_basic, f1_plus])\n",
    "    precision_it.append([precision_basic, precision_plus])\n",
    "    recall_it.append([recall_basic, recall_plus])\n",
    "\n",
    "\n",
    "global_model.save('C:/Users/UX430/Documents/thesis/code/models/id301.hdf5')"
   ]
  },
  {
   "cell_type": "code",
   "execution_count": 52,
   "metadata": {},
   "outputs": [
    {
     "name": "stdout",
     "output_type": "stream",
     "text": [
      "Loss for iterations:  [[1.1887272596359253, 0.0], [1.0256564617156982, 0.0], [0.9147417545318604, 0.0]]\n",
      "Accuracy for iterations:  [[0.8463636636734009, 0.000785740849096328], [0.8466426730155945, 0.0007443861104547977], [0.8974828124046326, 0.0005376121844165027]]\n",
      "F1 for iterations:  [[0.8425355362101674, 0.0015702479338842972], [0.8454203111891219, 0.0014876647795363446], [0.8832479197090152, 0.001074646606596677]]\n",
      "Precision for iterations:  [[0.867401586430612, 1.0], [0.8900050594541827, 1.0], [0.9012296140781448, 1.0]]\n",
      "Recall for iterations:  [[0.8463636927273854, 0.0007857408709317233], [0.8466426932853865, 0.0007443860882511063], [0.8974827949655899, 0.0005376121748480212]]\n"
     ]
    }
   ],
   "source": [
    "print(\"Loss for iterations: \", loss_it)\n",
    "print(\"Accuracy for iterations: \", accuracy_it)\n",
    "print(\"F1 for iterations: \", f1_it)\n",
    "print(\"Precision for iterations: \", precision_it)\n",
    "print(\"Recall for iterations: \", recall_it)"
   ]
  },
  {
   "cell_type": "markdown",
   "metadata": {},
   "source": [
    "#### Dataset 3C"
   ]
  },
  {
   "cell_type": "code",
   "execution_count": 53,
   "metadata": {},
   "outputs": [],
   "source": [
    "# Load training datasets and testing datasets \n",
    "training1 = pd.read_csv('C:/Users/UX430/Documents/thesis/datasets/UNSW-NB15/UNSW-NB15-Train-Basic-Cat3C-Part1.csv')\n",
    "training2 = pd.read_csv('C:/Users/UX430/Documents/thesis/datasets/UNSW-NB15/UNSW-NB15-Train-Basic-Cat3C-Part2.csv')\n",
    "training3 = pd.read_csv('C:/Users/UX430/Documents/thesis/datasets/UNSW-NB15/UNSW-NB15-Train-Basic-Cat3C-Part3.csv')"
   ]
  },
  {
   "cell_type": "code",
   "execution_count": 54,
   "metadata": {},
   "outputs": [],
   "source": [
    "# Define \n",
    "node_datasets = [training1, training2, training3]\n",
    "num_nodes = 3\n",
    "global_updates = 3\n",
    "\n",
    "# Define model training parameters\n",
    "loss_fct = \"categorical_crossentropy\"\n",
    "metrics = ['accuracy']\n",
    "local_epochs = 5"
   ]
  },
  {
   "cell_type": "code",
   "execution_count": 55,
   "metadata": {},
   "outputs": [],
   "source": [
    "def train_local_model(model, node, x_train, y_train): \n",
    "    filepath = 'C:/Users/UX430/Documents/thesis/code/models/node'+str(node)+'ID302.hdf5'\n",
    "    callbacks = [\n",
    "            keras.callbacks.EarlyStopping(\n",
    "                monitor = 'val_loss', # Use accuracy to monitor the model\n",
    "                patience = 10 # Stop after 10 steps with lower accuracy\n",
    "            ),\n",
    "            keras.callbacks.ModelCheckpoint(\n",
    "                filepath = filepath, # file where the checkpoint is saved\n",
    "                monitor = 'val_loss', # Don't overwrite the saved model unless val_loss is worse\n",
    "                save_best_only = True)]# Only save model if it is the best\n",
    "    optimizer = keras.optimizers.Adam(learning_rate=1e-4)\n",
    "    model.compile(optimizer=optimizer, loss=loss_fct, metrics=metrics)\n",
    "    history = model.fit(x_train, y_train, epochs=local_epochs, validation_split=0.2, callbacks=callbacks, batch_size=1024)\n",
    "    return model, history.history['loss'], history.history['accuracy'], history.history['val_loss'], history.history['val_accuracy']"
   ]
  },
  {
   "cell_type": "code",
   "execution_count": 56,
   "metadata": {},
   "outputs": [],
   "source": [
    "def aggregate(w_list): \n",
    "    avg_w = np.mean(w_list, axis=0)\n",
    "    return avg_w"
   ]
  },
  {
   "cell_type": "code",
   "execution_count": 57,
   "metadata": {},
   "outputs": [],
   "source": [
    "global_model = build_model((24,1,1))"
   ]
  },
  {
   "cell_type": "code",
   "execution_count": 58,
   "metadata": {},
   "outputs": [],
   "source": [
    "x1, y1 = preprocessing(training1)\n",
    "x2, y2 = preprocessing(training2)\n",
    "x3, y3 = preprocessing(training3)\n"
   ]
  },
  {
   "cell_type": "code",
   "execution_count": 59,
   "metadata": {},
   "outputs": [
    {
     "name": "stdout",
     "output_type": "stream",
     "text": [
      "Epoch 1/5\n",
      "4/4 [==============================] - 0s 88ms/step - loss: 1.3658 - accuracy: 0.3023 - val_loss: 1.4689 - val_accuracy: 0.0000e+00\n",
      "Epoch 2/5\n",
      "4/4 [==============================] - 0s 31ms/step - loss: 1.2662 - accuracy: 0.4471 - val_loss: 1.4690 - val_accuracy: 0.0000e+00\n",
      "Epoch 3/5\n",
      "4/4 [==============================] - 0s 34ms/step - loss: 1.1787 - accuracy: 0.5252 - val_loss: 1.4692 - val_accuracy: 0.0000e+00\n",
      "Epoch 4/5\n",
      "4/4 [==============================] - 0s 32ms/step - loss: 1.1040 - accuracy: 0.5595 - val_loss: 1.4702 - val_accuracy: 0.0000e+00\n",
      "Epoch 5/5\n",
      "4/4 [==============================] - 0s 29ms/step - loss: 1.0392 - accuracy: 0.5882 - val_loss: 1.4719 - val_accuracy: 0.0000e+00\n",
      "Epoch 1/5\n",
      "4/4 [==============================] - 1s 161ms/step - loss: 0.9810 - accuracy: 0.6174 - val_loss: 1.4747 - val_accuracy: 0.0000e+00\n",
      "Epoch 2/5\n",
      "4/4 [==============================] - 0s 28ms/step - loss: 0.9308 - accuracy: 0.6269 - val_loss: 1.4790 - val_accuracy: 0.0000e+00\n",
      "Epoch 3/5\n",
      "4/4 [==============================] - 0s 29ms/step - loss: 0.8848 - accuracy: 0.6357 - val_loss: 1.4822 - val_accuracy: 0.0000e+00\n",
      "Epoch 4/5\n",
      "4/4 [==============================] - 0s 29ms/step - loss: 0.8599 - accuracy: 0.6370 - val_loss: 1.4843 - val_accuracy: 0.0000e+00\n",
      "Epoch 5/5\n",
      "4/4 [==============================] - 0s 29ms/step - loss: 0.8350 - accuracy: 0.6401 - val_loss: 1.4849 - val_accuracy: 0.0000e+00\n",
      "Epoch 1/5\n",
      "4/4 [==============================] - 0s 70ms/step - loss: 0.8010 - accuracy: 0.6494 - val_loss: 1.4859 - val_accuracy: 0.0000e+00\n",
      "Epoch 2/5\n",
      "4/4 [==============================] - 0s 35ms/step - loss: 0.7822 - accuracy: 0.6572 - val_loss: 1.4857 - val_accuracy: 0.0000e+00\n",
      "Epoch 3/5\n",
      "4/4 [==============================] - 0s 36ms/step - loss: 0.7705 - accuracy: 0.6597 - val_loss: 1.4828 - val_accuracy: 0.0000e+00\n",
      "Epoch 4/5\n",
      "4/4 [==============================] - 0s 36ms/step - loss: 0.7606 - accuracy: 0.6563 - val_loss: 1.4823 - val_accuracy: 0.0000e+00\n",
      "Epoch 5/5\n",
      "4/4 [==============================] - 0s 30ms/step - loss: 0.7528 - accuracy: 0.6619 - val_loss: 1.4829 - val_accuracy: 0.0000e+00\n",
      " 106/2017 [>.............................] - ETA: 2s - loss: 1.3583 - accuracy: 0.4098"
     ]
    },
    {
     "name": "stderr",
     "output_type": "stream",
     "text": [
      "c:\\Users\\UX430\\anaconda3\\lib\\site-packages\\numpy\\core\\_asarray.py:171: VisibleDeprecationWarning: Creating an ndarray from ragged nested sequences (which is a list-or-tuple of lists-or-tuples-or ndarrays with different lengths or shapes) is deprecated. If you meant to do this, you must specify 'dtype=object' when creating the ndarray.\n",
      "  return array(a, dtype, copy=False, order=order, subok=True)\n"
     ]
    },
    {
     "name": "stdout",
     "output_type": "stream",
     "text": [
      "2017/2017 [==============================] - 3s 1ms/step - loss: 1.3564 - accuracy: 0.4129\n",
      " 73/756 [=>............................] - ETA: 0s - loss: 0.0000e+00 - accuracy: 0.9157"
     ]
    },
    {
     "name": "stderr",
     "output_type": "stream",
     "text": [
      "c:\\Users\\UX430\\anaconda3\\lib\\site-packages\\sklearn\\metrics\\_classification.py:1308: UndefinedMetricWarning: Precision and F-score are ill-defined and being set to 0.0 in labels with no predicted samples. Use `zero_division` parameter to control this behavior.\n",
      "  _warn_prf(average, modifier, msg_start, len(result))\n",
      "c:\\Users\\UX430\\anaconda3\\lib\\site-packages\\sklearn\\metrics\\_classification.py:1308: UndefinedMetricWarning: Precision and F-score are ill-defined and being set to 0.0 in labels with no predicted samples. Use `zero_division` parameter to control this behavior.\n",
      "  _warn_prf(average, modifier, msg_start, len(result))\n",
      "c:\\Users\\UX430\\anaconda3\\lib\\site-packages\\sklearn\\metrics\\_classification.py:1308: UndefinedMetricWarning: Precision and F-score are ill-defined and being set to 0.0 in labels with no predicted samples. Use `zero_division` parameter to control this behavior.\n",
      "  _warn_prf(average, modifier, msg_start, len(result))\n"
     ]
    },
    {
     "name": "stdout",
     "output_type": "stream",
     "text": [
      "756/756 [==============================] - 1s 1ms/step - loss: 0.0000e+00 - accuracy: 0.5039\n"
     ]
    },
    {
     "name": "stderr",
     "output_type": "stream",
     "text": [
      "c:\\Users\\UX430\\anaconda3\\lib\\site-packages\\sklearn\\metrics\\_classification.py:1308: UndefinedMetricWarning: Precision and F-score are ill-defined and being set to 0.0 in labels with no predicted samples. Use `zero_division` parameter to control this behavior.\n",
      "  _warn_prf(average, modifier, msg_start, len(result))\n",
      "c:\\Users\\UX430\\anaconda3\\lib\\site-packages\\sklearn\\metrics\\_classification.py:1308: UndefinedMetricWarning: Recall and F-score are ill-defined and being set to 0.0 in labels with no true samples. Use `zero_division` parameter to control this behavior.\n",
      "  _warn_prf(average, modifier, msg_start, len(result))\n",
      "c:\\Users\\UX430\\anaconda3\\lib\\site-packages\\sklearn\\metrics\\_classification.py:1308: UndefinedMetricWarning: Precision and F-score are ill-defined and being set to 0.0 in labels with no predicted samples. Use `zero_division` parameter to control this behavior.\n",
      "  _warn_prf(average, modifier, msg_start, len(result))\n",
      "c:\\Users\\UX430\\anaconda3\\lib\\site-packages\\sklearn\\metrics\\_classification.py:1308: UndefinedMetricWarning: Recall and F-score are ill-defined and being set to 0.0 in labels with no true samples. Use `zero_division` parameter to control this behavior.\n",
      "  _warn_prf(average, modifier, msg_start, len(result))\n",
      "c:\\Users\\UX430\\anaconda3\\lib\\site-packages\\sklearn\\metrics\\_classification.py:1308: UndefinedMetricWarning: Precision and F-score are ill-defined and being set to 0.0 in labels with no predicted samples. Use `zero_division` parameter to control this behavior.\n",
      "  _warn_prf(average, modifier, msg_start, len(result))\n",
      "c:\\Users\\UX430\\anaconda3\\lib\\site-packages\\sklearn\\metrics\\_classification.py:1308: UndefinedMetricWarning: Recall and F-score are ill-defined and being set to 0.0 in labels with no true samples. Use `zero_division` parameter to control this behavior.\n",
      "  _warn_prf(average, modifier, msg_start, len(result))\n"
     ]
    },
    {
     "name": "stdout",
     "output_type": "stream",
     "text": [
      "Epoch 1/5\n",
      "4/4 [==============================] - 0s 69ms/step - loss: 0.8261 - accuracy: 0.6272 - val_loss: 1.4808 - val_accuracy: 0.0000e+00\n",
      "Epoch 2/5\n",
      "4/4 [==============================] - 0s 31ms/step - loss: 0.8044 - accuracy: 0.6370 - val_loss: 1.4826 - val_accuracy: 0.0000e+00\n",
      "Epoch 3/5\n",
      "4/4 [==============================] - 0s 29ms/step - loss: 0.7889 - accuracy: 0.6398 - val_loss: 1.4841 - val_accuracy: 0.0000e+00\n",
      "Epoch 4/5\n",
      "4/4 [==============================] - 0s 29ms/step - loss: 0.7774 - accuracy: 0.6404 - val_loss: 1.4857 - val_accuracy: 0.0000e+00\n",
      "Epoch 5/5\n",
      "4/4 [==============================] - 0s 29ms/step - loss: 0.7688 - accuracy: 0.6455 - val_loss: 1.4855 - val_accuracy: 0.0000e+00\n",
      "Epoch 1/5\n",
      "4/4 [==============================] - 0s 109ms/step - loss: 0.7639 - accuracy: 0.6527 - val_loss: 1.4796 - val_accuracy: 0.0000e+00\n",
      "Epoch 2/5\n",
      "4/4 [==============================] - 0s 36ms/step - loss: 0.7561 - accuracy: 0.6499 - val_loss: 1.4732 - val_accuracy: 0.0000e+00\n",
      "Epoch 3/5\n",
      "4/4 [==============================] - 0s 38ms/step - loss: 0.7504 - accuracy: 0.6461 - val_loss: 1.4667 - val_accuracy: 0.0000e+00\n",
      "Epoch 4/5\n",
      "4/4 [==============================] - 0s 36ms/step - loss: 0.7463 - accuracy: 0.6492 - val_loss: 1.4632 - val_accuracy: 0.0000e+00\n",
      "Epoch 5/5\n",
      "4/4 [==============================] - 0s 35ms/step - loss: 0.7409 - accuracy: 0.6625 - val_loss: 1.4624 - val_accuracy: 0.0000e+00\n",
      "Epoch 1/5\n",
      "4/4 [==============================] - 0s 69ms/step - loss: 0.7281 - accuracy: 0.6619 - val_loss: 1.4666 - val_accuracy: 0.0000e+00\n",
      "Epoch 2/5\n",
      "4/4 [==============================] - 0s 35ms/step - loss: 0.7191 - accuracy: 0.6654 - val_loss: 1.4654 - val_accuracy: 0.0000e+00\n",
      "Epoch 3/5\n",
      "4/4 [==============================] - 0s 32ms/step - loss: 0.7129 - accuracy: 0.6632 - val_loss: 1.4637 - val_accuracy: 0.0000e+00\n",
      "Epoch 4/5\n",
      "4/4 [==============================] - 0s 34ms/step - loss: 0.7085 - accuracy: 0.6676 - val_loss: 1.4616 - val_accuracy: 0.0000e+00\n",
      "Epoch 5/5\n",
      "4/4 [==============================] - 0s 28ms/step - loss: 0.7050 - accuracy: 0.6670 - val_loss: 1.4627 - val_accuracy: 0.0000e+00\n",
      "  35/2017 [..............................] - ETA: 5s - loss: 1.3425 - accuracy: 0.4027"
     ]
    },
    {
     "name": "stderr",
     "output_type": "stream",
     "text": [
      "c:\\Users\\UX430\\anaconda3\\lib\\site-packages\\numpy\\core\\_asarray.py:171: VisibleDeprecationWarning: Creating an ndarray from ragged nested sequences (which is a list-or-tuple of lists-or-tuples-or ndarrays with different lengths or shapes) is deprecated. If you meant to do this, you must specify 'dtype=object' when creating the ndarray.\n",
      "  return array(a, dtype, copy=False, order=order, subok=True)\n"
     ]
    },
    {
     "name": "stdout",
     "output_type": "stream",
     "text": [
      "2017/2017 [==============================] - 3s 1ms/step - loss: 1.3395 - accuracy: 0.4031\n",
      "  1/756 [..............................] - ETA: 0s - loss: 0.0000e+00 - accuracy: 1.0000WARNING:tensorflow:Callbacks method `on_test_batch_end` is slow compared to the batch time (batch time: 0.0005s vs `on_test_batch_end` time: 0.0009s). Check your callbacks.\n",
      " 71/756 [=>............................] - ETA: 0s - loss: 0.0000e+00 - accuracy: 0.9639"
     ]
    },
    {
     "name": "stderr",
     "output_type": "stream",
     "text": [
      "c:\\Users\\UX430\\anaconda3\\lib\\site-packages\\sklearn\\metrics\\_classification.py:1308: UndefinedMetricWarning: Precision and F-score are ill-defined and being set to 0.0 in labels with no predicted samples. Use `zero_division` parameter to control this behavior.\n",
      "  _warn_prf(average, modifier, msg_start, len(result))\n",
      "c:\\Users\\UX430\\anaconda3\\lib\\site-packages\\sklearn\\metrics\\_classification.py:1308: UndefinedMetricWarning: Precision and F-score are ill-defined and being set to 0.0 in labels with no predicted samples. Use `zero_division` parameter to control this behavior.\n",
      "  _warn_prf(average, modifier, msg_start, len(result))\n",
      "c:\\Users\\UX430\\anaconda3\\lib\\site-packages\\sklearn\\metrics\\_classification.py:1308: UndefinedMetricWarning: Precision and F-score are ill-defined and being set to 0.0 in labels with no predicted samples. Use `zero_division` parameter to control this behavior.\n",
      "  _warn_prf(average, modifier, msg_start, len(result))\n"
     ]
    },
    {
     "name": "stdout",
     "output_type": "stream",
     "text": [
      "756/756 [==============================] - 1s 1ms/step - loss: 0.0000e+00 - accuracy: 0.5663\n"
     ]
    },
    {
     "name": "stderr",
     "output_type": "stream",
     "text": [
      "c:\\Users\\UX430\\anaconda3\\lib\\site-packages\\sklearn\\metrics\\_classification.py:1308: UndefinedMetricWarning: Precision and F-score are ill-defined and being set to 0.0 in labels with no predicted samples. Use `zero_division` parameter to control this behavior.\n",
      "  _warn_prf(average, modifier, msg_start, len(result))\n",
      "c:\\Users\\UX430\\anaconda3\\lib\\site-packages\\sklearn\\metrics\\_classification.py:1308: UndefinedMetricWarning: Recall and F-score are ill-defined and being set to 0.0 in labels with no true samples. Use `zero_division` parameter to control this behavior.\n",
      "  _warn_prf(average, modifier, msg_start, len(result))\n",
      "c:\\Users\\UX430\\anaconda3\\lib\\site-packages\\sklearn\\metrics\\_classification.py:1308: UndefinedMetricWarning: Precision and F-score are ill-defined and being set to 0.0 in labels with no predicted samples. Use `zero_division` parameter to control this behavior.\n",
      "  _warn_prf(average, modifier, msg_start, len(result))\n",
      "c:\\Users\\UX430\\anaconda3\\lib\\site-packages\\sklearn\\metrics\\_classification.py:1308: UndefinedMetricWarning: Recall and F-score are ill-defined and being set to 0.0 in labels with no true samples. Use `zero_division` parameter to control this behavior.\n",
      "  _warn_prf(average, modifier, msg_start, len(result))\n",
      "c:\\Users\\UX430\\anaconda3\\lib\\site-packages\\sklearn\\metrics\\_classification.py:1308: UndefinedMetricWarning: Precision and F-score are ill-defined and being set to 0.0 in labels with no predicted samples. Use `zero_division` parameter to control this behavior.\n",
      "  _warn_prf(average, modifier, msg_start, len(result))\n",
      "c:\\Users\\UX430\\anaconda3\\lib\\site-packages\\sklearn\\metrics\\_classification.py:1308: UndefinedMetricWarning: Recall and F-score are ill-defined and being set to 0.0 in labels with no true samples. Use `zero_division` parameter to control this behavior.\n",
      "  _warn_prf(average, modifier, msg_start, len(result))\n"
     ]
    },
    {
     "name": "stdout",
     "output_type": "stream",
     "text": [
      "Epoch 1/5\n",
      "4/4 [==============================] - 0s 98ms/step - loss: 0.7387 - accuracy: 0.6474 - val_loss: 1.4686 - val_accuracy: 0.0000e+00\n",
      "Epoch 2/5\n",
      "4/4 [==============================] - 0s 35ms/step - loss: 0.7329 - accuracy: 0.6492 - val_loss: 1.4675 - val_accuracy: 0.0000e+00\n",
      "Epoch 3/5\n",
      "4/4 [==============================] - 0s 40ms/step - loss: 0.7277 - accuracy: 0.6505 - val_loss: 1.4656 - val_accuracy: 0.0000e+00\n",
      "Epoch 4/5\n",
      "4/4 [==============================] - 0s 37ms/step - loss: 0.7244 - accuracy: 0.6565 - val_loss: 1.4607 - val_accuracy: 0.0000e+00\n",
      "Epoch 5/5\n",
      "4/4 [==============================] - 0s 36ms/step - loss: 0.7202 - accuracy: 0.6584 - val_loss: 1.4551 - val_accuracy: 0.0000e+00\n",
      "Epoch 1/5\n",
      "4/4 [==============================] - 0s 68ms/step - loss: 0.7254 - accuracy: 0.6653 - val_loss: 1.4562 - val_accuracy: 0.0000e+00\n",
      "Epoch 2/5\n",
      "4/4 [==============================] - 0s 34ms/step - loss: 0.7183 - accuracy: 0.6681 - val_loss: 1.4520 - val_accuracy: 0.0000e+00\n",
      "Epoch 3/5\n",
      "4/4 [==============================] - 0s 34ms/step - loss: 0.7150 - accuracy: 0.6662 - val_loss: 1.4505 - val_accuracy: 0.0000e+00\n",
      "Epoch 4/5\n",
      "4/4 [==============================] - 0s 29ms/step - loss: 0.7100 - accuracy: 0.6685 - val_loss: 1.4534 - val_accuracy: 0.0000e+00\n",
      "Epoch 5/5\n",
      "4/4 [==============================] - 0s 56ms/step - loss: 0.7081 - accuracy: 0.6685 - val_loss: 1.4523 - val_accuracy: 0.0000e+00\n",
      "Epoch 1/5\n",
      "4/4 [==============================] - 0s 72ms/step - loss: 0.6905 - accuracy: 0.6701 - val_loss: 1.4529 - val_accuracy: 0.0000e+00\n",
      "Epoch 2/5\n",
      "4/4 [==============================] - 0s 29ms/step - loss: 0.6852 - accuracy: 0.6708 - val_loss: 1.4564 - val_accuracy: 0.0000e+00\n",
      "Epoch 3/5\n",
      "4/4 [==============================] - 0s 33ms/step - loss: 0.6818 - accuracy: 0.6720 - val_loss: 1.4593 - val_accuracy: 0.0000e+00\n",
      "Epoch 4/5\n",
      "4/4 [==============================] - 0s 32ms/step - loss: 0.6784 - accuracy: 0.6701 - val_loss: 1.4558 - val_accuracy: 0.0000e+00\n",
      "Epoch 5/5\n",
      "4/4 [==============================] - 0s 32ms/step - loss: 0.6760 - accuracy: 0.6698 - val_loss: 1.4533 - val_accuracy: 0.0000e+00\n",
      " 115/2017 [>.............................] - ETA: 2s - loss: 1.3247 - accuracy: 0.6601"
     ]
    },
    {
     "name": "stderr",
     "output_type": "stream",
     "text": [
      "c:\\Users\\UX430\\anaconda3\\lib\\site-packages\\numpy\\core\\_asarray.py:171: VisibleDeprecationWarning: Creating an ndarray from ragged nested sequences (which is a list-or-tuple of lists-or-tuples-or ndarrays with different lengths or shapes) is deprecated. If you meant to do this, you must specify 'dtype=object' when creating the ndarray.\n",
      "  return array(a, dtype, copy=False, order=order, subok=True)\n"
     ]
    },
    {
     "name": "stdout",
     "output_type": "stream",
     "text": [
      "2017/2017 [==============================] - 3s 1ms/step - loss: 1.3219 - accuracy: 0.6547\n",
      " 81/756 [==>...........................] - ETA: 0s - loss: 0.0000e+00 - accuracy: 0.9475"
     ]
    },
    {
     "name": "stderr",
     "output_type": "stream",
     "text": [
      "c:\\Users\\UX430\\anaconda3\\lib\\site-packages\\sklearn\\metrics\\_classification.py:1308: UndefinedMetricWarning: Precision and F-score are ill-defined and being set to 0.0 in labels with no predicted samples. Use `zero_division` parameter to control this behavior.\n",
      "  _warn_prf(average, modifier, msg_start, len(result))\n",
      "c:\\Users\\UX430\\anaconda3\\lib\\site-packages\\sklearn\\metrics\\_classification.py:1308: UndefinedMetricWarning: Precision and F-score are ill-defined and being set to 0.0 in labels with no predicted samples. Use `zero_division` parameter to control this behavior.\n",
      "  _warn_prf(average, modifier, msg_start, len(result))\n",
      "c:\\Users\\UX430\\anaconda3\\lib\\site-packages\\sklearn\\metrics\\_classification.py:1308: UndefinedMetricWarning: Precision and F-score are ill-defined and being set to 0.0 in labels with no predicted samples. Use `zero_division` parameter to control this behavior.\n",
      "  _warn_prf(average, modifier, msg_start, len(result))\n"
     ]
    },
    {
     "name": "stdout",
     "output_type": "stream",
     "text": [
      "756/756 [==============================] - 1s 1ms/step - loss: 0.0000e+00 - accuracy: 0.5330\n"
     ]
    },
    {
     "name": "stderr",
     "output_type": "stream",
     "text": [
      "c:\\Users\\UX430\\anaconda3\\lib\\site-packages\\sklearn\\metrics\\_classification.py:1308: UndefinedMetricWarning: Precision and F-score are ill-defined and being set to 0.0 in labels with no predicted samples. Use `zero_division` parameter to control this behavior.\n",
      "  _warn_prf(average, modifier, msg_start, len(result))\n",
      "c:\\Users\\UX430\\anaconda3\\lib\\site-packages\\sklearn\\metrics\\_classification.py:1308: UndefinedMetricWarning: Recall and F-score are ill-defined and being set to 0.0 in labels with no true samples. Use `zero_division` parameter to control this behavior.\n",
      "  _warn_prf(average, modifier, msg_start, len(result))\n",
      "c:\\Users\\UX430\\anaconda3\\lib\\site-packages\\sklearn\\metrics\\_classification.py:1308: UndefinedMetricWarning: Precision and F-score are ill-defined and being set to 0.0 in labels with no predicted samples. Use `zero_division` parameter to control this behavior.\n",
      "  _warn_prf(average, modifier, msg_start, len(result))\n",
      "c:\\Users\\UX430\\anaconda3\\lib\\site-packages\\sklearn\\metrics\\_classification.py:1308: UndefinedMetricWarning: Recall and F-score are ill-defined and being set to 0.0 in labels with no true samples. Use `zero_division` parameter to control this behavior.\n",
      "  _warn_prf(average, modifier, msg_start, len(result))\n",
      "c:\\Users\\UX430\\anaconda3\\lib\\site-packages\\sklearn\\metrics\\_classification.py:1308: UndefinedMetricWarning: Precision and F-score are ill-defined and being set to 0.0 in labels with no predicted samples. Use `zero_division` parameter to control this behavior.\n",
      "  _warn_prf(average, modifier, msg_start, len(result))\n",
      "c:\\Users\\UX430\\anaconda3\\lib\\site-packages\\sklearn\\metrics\\_classification.py:1308: UndefinedMetricWarning: Recall and F-score are ill-defined and being set to 0.0 in labels with no true samples. Use `zero_division` parameter to control this behavior.\n",
      "  _warn_prf(average, modifier, msg_start, len(result))\n"
     ]
    }
   ],
   "source": [
    "# Values saved each iteration \n",
    "loss_it = []\n",
    "accuracy_it = []\n",
    "f1_it = []\n",
    "precision_it = []\n",
    "recall_it = []\n",
    "\n",
    "for i in range(global_updates): \n",
    "    w_list = []\n",
    "    for node in range(num_nodes): \n",
    "        cp = global_model # create a copy of the global model\n",
    "        if node == 0:\n",
    "            x, y = x1, y1\n",
    "        elif node == 1:\n",
    "            x, y = x2, y2\n",
    "        else:\n",
    "            x, y = x3, y3\n",
    "        local_model, local_loss, local_acc, local_val_loss, local_val_acc = train_local_model(cp, node, x, y)\n",
    "        w_list.append(local_model.get_weights())\n",
    "\n",
    "    avg_w = aggregate(w_list)\n",
    "    global_model.set_weights(avg_w) # apply gradients to global model\n",
    "    loss_basic, accuracy_basic, f1_basic, precision_basic, recall_basic = evaluation(global_model, xbasic, ybasic) # Evaluate with test basic to know progress\n",
    "    loss_plus, accuracy_plus, f1_plus, precision_plus, recall_plus = evaluation(global_model, xplus, yplus) # Evaluate with test plus to know progress\n",
    "\n",
    "    loss_it.append([loss_basic, loss_plus])\n",
    "    accuracy_it.append([accuracy_basic, accuracy_plus])\n",
    "    f1_it.append([f1_basic, f1_plus])\n",
    "    precision_it.append([precision_basic, precision_plus])\n",
    "    recall_it.append([recall_basic, recall_plus])\n",
    "\n",
    "\n",
    "global_model.save('C:/Users/UX430/Documents/thesis/code/models/id302.hdf5')"
   ]
  },
  {
   "cell_type": "code",
   "execution_count": 60,
   "metadata": {},
   "outputs": [
    {
     "name": "stdout",
     "output_type": "stream",
     "text": [
      "Loss for iterations:  [[1.3564409017562866, 0.0], [1.339467167854309, 0.0], [1.3219157457351685, 0.0]]\n",
      "Accuracy for iterations:  [[0.41292083263397217, 0.5038666725158691], [0.4031093120574951, 0.5662710666656494], [0.6546903252601624, 0.5330218076705933]]\n",
      "F1 for iterations:  [[0.5323212407347695, 0.6700948714423209], [0.5235249961400299, 0.723081797539209], [0.7453501074322023, 0.6953871054761263]]\n",
      "Precision for iterations:  [[0.8954696137612571, 1.0], [0.8960496716722028, 1.0], [0.8963425281316993, 1.0]]\n",
      "Recall for iterations:  [[0.4129208258416517, 0.5038666721806377], [0.40310930621861246, 0.5662710392456888], [0.6546903093806188, 0.5330217939704727]]\n"
     ]
    }
   ],
   "source": [
    "print(\"Loss for iterations: \", loss_it)\n",
    "print(\"Accuracy for iterations: \", accuracy_it)\n",
    "print(\"F1 for iterations: \", f1_it)\n",
    "print(\"Precision for iterations: \", precision_it)\n",
    "print(\"Recall for iterations: \", recall_it)"
   ]
  },
  {
   "cell_type": "markdown",
   "metadata": {},
   "source": [
    "#### Dataset 3D"
   ]
  },
  {
   "cell_type": "code",
   "execution_count": 61,
   "metadata": {},
   "outputs": [],
   "source": [
    "# Load training datasets and testing datasets \n",
    "training1 = pd.read_csv('C:/Users/UX430/Documents/thesis/datasets/UNSW-NB15/UNSW-NB15-Train-Basic-Cat3D-Part1.csv')\n",
    "training2 = pd.read_csv('C:/Users/UX430/Documents/thesis/datasets/UNSW-NB15/UNSW-NB15-Train-Basic-Cat3D-Part2.csv')\n",
    "training3 = pd.read_csv('C:/Users/UX430/Documents/thesis/datasets/UNSW-NB15/UNSW-NB15-Train-Basic-Cat3D-Part3.csv')\n"
   ]
  },
  {
   "cell_type": "code",
   "execution_count": 62,
   "metadata": {},
   "outputs": [],
   "source": [
    "# Define \n",
    "node_datasets = [training1, training2, training3]\n",
    "num_nodes = 3\n",
    "global_updates = 3\n",
    "\n",
    "# Define model training parameters\n",
    "loss_fct = \"categorical_crossentropy\"\n",
    "metrics = ['accuracy']\n",
    "local_epochs = 5"
   ]
  },
  {
   "cell_type": "code",
   "execution_count": 63,
   "metadata": {},
   "outputs": [],
   "source": [
    "def train_local_model(model, node, x_train, y_train): \n",
    "    filepath = 'C:/Users/UX430/Documents/thesis/code/models/node'+str(node)+'ID303.hdf5'\n",
    "    callbacks = [\n",
    "            keras.callbacks.EarlyStopping(\n",
    "                monitor = 'val_loss', # Use accuracy to monitor the model\n",
    "                patience = 10 # Stop after 10 steps with lower accuracy\n",
    "            ),\n",
    "            keras.callbacks.ModelCheckpoint(\n",
    "                filepath = filepath, # file where the checkpoint is saved\n",
    "                monitor = 'val_loss', # Don't overwrite the saved model unless val_loss is worse\n",
    "                save_best_only = True)]# Only save model if it is the best\n",
    "    optimizer = keras.optimizers.Adam(learning_rate=1e-4)\n",
    "    model.compile(optimizer=optimizer, loss=loss_fct, metrics=metrics)\n",
    "    history = model.fit(x_train, y_train, epochs=local_epochs, validation_split=0.2, callbacks=callbacks, batch_size=1024)\n",
    "    return model, history.history['loss'], history.history['accuracy'], history.history['val_loss'], history.history['val_accuracy']"
   ]
  },
  {
   "cell_type": "code",
   "execution_count": 64,
   "metadata": {},
   "outputs": [],
   "source": [
    "def aggregate(w_list): \n",
    "    avg_w = np.mean(w_list, axis=0)\n",
    "    return avg_w"
   ]
  },
  {
   "cell_type": "code",
   "execution_count": 65,
   "metadata": {},
   "outputs": [],
   "source": [
    "global_model = build_model((24,1,1))"
   ]
  },
  {
   "cell_type": "code",
   "execution_count": 66,
   "metadata": {},
   "outputs": [],
   "source": [
    "x1, y1 = preprocessing(training1)\n",
    "x2, y2 = preprocessing(training2)\n",
    "x3, y3 = preprocessing(training3)\n"
   ]
  },
  {
   "cell_type": "code",
   "execution_count": 67,
   "metadata": {},
   "outputs": [
    {
     "name": "stdout",
     "output_type": "stream",
     "text": [
      "Epoch 1/5\n",
      "34/34 [==============================] - 2s 49ms/step - loss: 1.0101 - accuracy: 0.6382 - val_loss: 1.2839 - val_accuracy: 0.9730\n",
      "Epoch 2/5\n",
      "34/34 [==============================] - 2s 45ms/step - loss: 0.2697 - accuracy: 0.9800 - val_loss: 1.1668 - val_accuracy: 0.9770\n",
      "Epoch 3/5\n",
      "34/34 [==============================] - 2s 48ms/step - loss: 0.1138 - accuracy: 0.9826 - val_loss: 1.0746 - val_accuracy: 0.9818\n",
      "Epoch 4/5\n",
      "34/34 [==============================] - 2s 46ms/step - loss: 0.0883 - accuracy: 0.9834 - val_loss: 0.9914 - val_accuracy: 0.9818\n",
      "Epoch 5/5\n",
      "34/34 [==============================] - 2s 52ms/step - loss: 0.0817 - accuracy: 0.9834 - val_loss: 0.9106 - val_accuracy: 0.9818\n",
      "Epoch 1/5\n",
      "5/5 [==============================] - 0s 93ms/step - loss: 2.1256 - accuracy: 0.6158 - val_loss: 1.5881 - val_accuracy: 0.0000e+00\n",
      "Epoch 2/5\n",
      "5/5 [==============================] - 0s 75ms/step - loss: 1.8321 - accuracy: 0.6158 - val_loss: 1.5287 - val_accuracy: 0.0000e+00\n",
      "Epoch 3/5\n",
      "5/5 [==============================] - 0s 47ms/step - loss: 1.5449 - accuracy: 0.6158 - val_loss: 1.4693 - val_accuracy: 0.0000e+00\n",
      "Epoch 4/5\n",
      "5/5 [==============================] - 0s 47ms/step - loss: 1.2721 - accuracy: 0.6158 - val_loss: 1.4106 - val_accuracy: 8.5763e-04\n",
      "Epoch 5/5\n",
      "5/5 [==============================] - 0s 51ms/step - loss: 1.0097 - accuracy: 0.6160 - val_loss: 1.3534 - val_accuracy: 0.0034\n",
      "Epoch 1/5\n",
      "14/14 [==============================] - 1s 70ms/step - loss: 1.4390 - accuracy: 0.6155 - val_loss: 1.5144 - val_accuracy: 0.0000e+00\n",
      "Epoch 2/5\n",
      "14/14 [==============================] - 1s 48ms/step - loss: 0.9061 - accuracy: 0.6244 - val_loss: 1.3637 - val_accuracy: 0.0948\n",
      "Epoch 3/5\n",
      "14/14 [==============================] - 1s 62ms/step - loss: 0.6332 - accuracy: 0.7928 - val_loss: 1.2469 - val_accuracy: 0.6264\n",
      "Epoch 4/5\n",
      "14/14 [==============================] - 1s 57ms/step - loss: 0.4874 - accuracy: 0.8550 - val_loss: 1.1496 - val_accuracy: 0.6440\n",
      "Epoch 5/5\n",
      "14/14 [==============================] - 1s 59ms/step - loss: 0.4065 - accuracy: 0.8562 - val_loss: 1.0670 - val_accuracy: 0.6550\n",
      "  60/2017 [..............................] - ETA: 3s - loss: 1.1714 - accuracy: 0.9292"
     ]
    },
    {
     "name": "stderr",
     "output_type": "stream",
     "text": [
      "c:\\Users\\UX430\\anaconda3\\lib\\site-packages\\numpy\\core\\_asarray.py:171: VisibleDeprecationWarning: Creating an ndarray from ragged nested sequences (which is a list-or-tuple of lists-or-tuples-or ndarrays with different lengths or shapes) is deprecated. If you meant to do this, you must specify 'dtype=object' when creating the ndarray.\n",
      "  return array(a, dtype, copy=False, order=order, subok=True)\n"
     ]
    },
    {
     "name": "stdout",
     "output_type": "stream",
     "text": [
      "2017/2017 [==============================] - 4s 2ms/step - loss: 1.1720 - accuracy: 0.9245\n",
      "756/756 [==============================] - 1s 2ms/step - loss: 0.0000e+00 - accuracy: 0.0017\n"
     ]
    },
    {
     "name": "stderr",
     "output_type": "stream",
     "text": [
      "c:\\Users\\UX430\\anaconda3\\lib\\site-packages\\sklearn\\metrics\\_classification.py:1308: UndefinedMetricWarning: Recall and F-score are ill-defined and being set to 0.0 in labels with no true samples. Use `zero_division` parameter to control this behavior.\n",
      "  _warn_prf(average, modifier, msg_start, len(result))\n",
      "c:\\Users\\UX430\\anaconda3\\lib\\site-packages\\sklearn\\metrics\\_classification.py:1308: UndefinedMetricWarning: Recall and F-score are ill-defined and being set to 0.0 in labels with no true samples. Use `zero_division` parameter to control this behavior.\n",
      "  _warn_prf(average, modifier, msg_start, len(result))\n",
      "c:\\Users\\UX430\\anaconda3\\lib\\site-packages\\sklearn\\metrics\\_classification.py:1308: UndefinedMetricWarning: Recall and F-score are ill-defined and being set to 0.0 in labels with no true samples. Use `zero_division` parameter to control this behavior.\n",
      "  _warn_prf(average, modifier, msg_start, len(result))\n"
     ]
    },
    {
     "name": "stdout",
     "output_type": "stream",
     "text": [
      "Epoch 1/5\n",
      "34/34 [==============================] - 3s 76ms/step - loss: 0.0919 - accuracy: 0.9834 - val_loss: 0.7690 - val_accuracy: 0.9819\n",
      "Epoch 2/5\n",
      "34/34 [==============================] - 2s 49ms/step - loss: 0.0738 - accuracy: 0.9834 - val_loss: 0.6583 - val_accuracy: 0.9829\n",
      "Epoch 3/5\n",
      "34/34 [==============================] - 2s 45ms/step - loss: 0.0702 - accuracy: 0.9837 - val_loss: 0.5547 - val_accuracy: 0.9835\n",
      "Epoch 4/5\n",
      "34/34 [==============================] - 2s 44ms/step - loss: 0.0678 - accuracy: 0.9840 - val_loss: 0.4548 - val_accuracy: 0.9842\n",
      "Epoch 5/5\n",
      "34/34 [==============================] - 2s 54ms/step - loss: 0.0657 - accuracy: 0.9840 - val_loss: 0.3561 - val_accuracy: 0.9846\n",
      "Epoch 1/5\n",
      "5/5 [==============================] - 0s 71ms/step - loss: 2.6893 - accuracy: 0.6158 - val_loss: 2.5477 - val_accuracy: 0.0000e+00\n",
      "Epoch 2/5\n",
      "5/5 [==============================] - 0s 39ms/step - loss: 2.3461 - accuracy: 0.6158 - val_loss: 2.3014 - val_accuracy: 0.0000e+00\n",
      "Epoch 3/5\n",
      "5/5 [==============================] - 0s 47ms/step - loss: 1.9987 - accuracy: 0.6158 - val_loss: 2.0640 - val_accuracy: 0.0000e+00\n",
      "Epoch 4/5\n",
      "5/5 [==============================] - 0s 67ms/step - loss: 1.6650 - accuracy: 0.6158 - val_loss: 1.8336 - val_accuracy: 0.0000e+00\n",
      "Epoch 5/5\n",
      "5/5 [==============================] - 0s 54ms/step - loss: 1.3339 - accuracy: 0.6158 - val_loss: 1.6186 - val_accuracy: 0.0000e+00\n",
      "Epoch 1/5\n",
      "14/14 [==============================] - 1s 74ms/step - loss: 1.4495 - accuracy: 0.6141 - val_loss: 1.7275 - val_accuracy: 0.0000e+00\n",
      "Epoch 2/5\n",
      "14/14 [==============================] - 1s 63ms/step - loss: 0.7851 - accuracy: 0.6841 - val_loss: 1.2581 - val_accuracy: 0.4070\n",
      "Epoch 3/5\n",
      "14/14 [==============================] - 1s 68ms/step - loss: 0.5064 - accuracy: 0.8509 - val_loss: 0.9631 - val_accuracy: 0.7108\n",
      "Epoch 4/5\n",
      "14/14 [==============================] - 1s 80ms/step - loss: 0.3909 - accuracy: 0.8730 - val_loss: 0.8043 - val_accuracy: 0.7173\n",
      "Epoch 5/5\n",
      "14/14 [==============================] - 1s 54ms/step - loss: 0.3301 - accuracy: 0.8807 - val_loss: 0.6948 - val_accuracy: 0.7504\n",
      "  51/2017 [..............................] - ETA: 3s - loss: 0.7994 - accuracy: 0.9259"
     ]
    },
    {
     "name": "stderr",
     "output_type": "stream",
     "text": [
      "c:\\Users\\UX430\\anaconda3\\lib\\site-packages\\numpy\\core\\_asarray.py:171: VisibleDeprecationWarning: Creating an ndarray from ragged nested sequences (which is a list-or-tuple of lists-or-tuples-or ndarrays with different lengths or shapes) is deprecated. If you meant to do this, you must specify 'dtype=object' when creating the ndarray.\n",
      "  return array(a, dtype, copy=False, order=order, subok=True)\n"
     ]
    },
    {
     "name": "stdout",
     "output_type": "stream",
     "text": [
      "2017/2017 [==============================] - 4s 2ms/step - loss: 0.8000 - accuracy: 0.9244\n",
      " 38/756 [>.............................] - ETA: 0s - loss: 0.0000e+00 - accuracy: 0.0000e+00"
     ]
    },
    {
     "name": "stderr",
     "output_type": "stream",
     "text": [
      "c:\\Users\\UX430\\anaconda3\\lib\\site-packages\\sklearn\\metrics\\_classification.py:1308: UndefinedMetricWarning: Precision and F-score are ill-defined and being set to 0.0 in labels with no predicted samples. Use `zero_division` parameter to control this behavior.\n",
      "  _warn_prf(average, modifier, msg_start, len(result))\n",
      "c:\\Users\\UX430\\anaconda3\\lib\\site-packages\\sklearn\\metrics\\_classification.py:1308: UndefinedMetricWarning: Precision and F-score are ill-defined and being set to 0.0 in labels with no predicted samples. Use `zero_division` parameter to control this behavior.\n",
      "  _warn_prf(average, modifier, msg_start, len(result))\n",
      "c:\\Users\\UX430\\anaconda3\\lib\\site-packages\\sklearn\\metrics\\_classification.py:1308: UndefinedMetricWarning: Precision and F-score are ill-defined and being set to 0.0 in labels with no predicted samples. Use `zero_division` parameter to control this behavior.\n",
      "  _warn_prf(average, modifier, msg_start, len(result))\n"
     ]
    },
    {
     "name": "stdout",
     "output_type": "stream",
     "text": [
      "756/756 [==============================] - 1s 1ms/step - loss: 0.0000e+00 - accuracy: 8.2710e-05\n"
     ]
    },
    {
     "name": "stderr",
     "output_type": "stream",
     "text": [
      "c:\\Users\\UX430\\anaconda3\\lib\\site-packages\\sklearn\\metrics\\_classification.py:1308: UndefinedMetricWarning: Precision and F-score are ill-defined and being set to 0.0 in labels with no predicted samples. Use `zero_division` parameter to control this behavior.\n",
      "  _warn_prf(average, modifier, msg_start, len(result))\n",
      "c:\\Users\\UX430\\anaconda3\\lib\\site-packages\\sklearn\\metrics\\_classification.py:1308: UndefinedMetricWarning: Recall and F-score are ill-defined and being set to 0.0 in labels with no true samples. Use `zero_division` parameter to control this behavior.\n",
      "  _warn_prf(average, modifier, msg_start, len(result))\n",
      "c:\\Users\\UX430\\anaconda3\\lib\\site-packages\\sklearn\\metrics\\_classification.py:1308: UndefinedMetricWarning: Precision and F-score are ill-defined and being set to 0.0 in labels with no predicted samples. Use `zero_division` parameter to control this behavior.\n",
      "  _warn_prf(average, modifier, msg_start, len(result))\n",
      "c:\\Users\\UX430\\anaconda3\\lib\\site-packages\\sklearn\\metrics\\_classification.py:1308: UndefinedMetricWarning: Recall and F-score are ill-defined and being set to 0.0 in labels with no true samples. Use `zero_division` parameter to control this behavior.\n",
      "  _warn_prf(average, modifier, msg_start, len(result))\n",
      "c:\\Users\\UX430\\anaconda3\\lib\\site-packages\\sklearn\\metrics\\_classification.py:1308: UndefinedMetricWarning: Precision and F-score are ill-defined and being set to 0.0 in labels with no predicted samples. Use `zero_division` parameter to control this behavior.\n",
      "  _warn_prf(average, modifier, msg_start, len(result))\n",
      "c:\\Users\\UX430\\anaconda3\\lib\\site-packages\\sklearn\\metrics\\_classification.py:1308: UndefinedMetricWarning: Recall and F-score are ill-defined and being set to 0.0 in labels with no true samples. Use `zero_division` parameter to control this behavior.\n",
      "  _warn_prf(average, modifier, msg_start, len(result))\n"
     ]
    },
    {
     "name": "stdout",
     "output_type": "stream",
     "text": [
      "Epoch 1/5\n",
      "34/34 [==============================] - 2s 59ms/step - loss: 0.0734 - accuracy: 0.9842 - val_loss: 0.2433 - val_accuracy: 0.9861\n",
      "Epoch 2/5\n",
      "34/34 [==============================] - 2s 48ms/step - loss: 0.0634 - accuracy: 0.9843 - val_loss: 0.1962 - val_accuracy: 0.9875\n",
      "Epoch 3/5\n",
      "34/34 [==============================] - 2s 51ms/step - loss: 0.0618 - accuracy: 0.9845 - val_loss: 0.1523 - val_accuracy: 0.9880\n",
      "Epoch 4/5\n",
      "34/34 [==============================] - 1s 44ms/step - loss: 0.0609 - accuracy: 0.9847 - val_loss: 0.1164 - val_accuracy: 0.9888\n",
      "Epoch 5/5\n",
      "34/34 [==============================] - 2s 48ms/step - loss: 0.0601 - accuracy: 0.9849 - val_loss: 0.1036 - val_accuracy: 0.9895\n",
      "Epoch 1/5\n",
      "5/5 [==============================] - 0s 68ms/step - loss: 2.9079 - accuracy: 0.6148 - val_loss: 4.8985 - val_accuracy: 0.0000e+00\n",
      "Epoch 2/5\n",
      "5/5 [==============================] - 0s 37ms/step - loss: 2.5284 - accuracy: 0.6148 - val_loss: 4.2159 - val_accuracy: 0.0000e+00\n",
      "Epoch 3/5\n",
      "5/5 [==============================] - 0s 42ms/step - loss: 2.1562 - accuracy: 0.6148 - val_loss: 3.5523 - val_accuracy: 0.0000e+00\n",
      "Epoch 4/5\n",
      "5/5 [==============================] - 0s 52ms/step - loss: 1.7960 - accuracy: 0.6148 - val_loss: 2.9204 - val_accuracy: 0.0000e+00\n",
      "Epoch 5/5\n",
      "5/5 [==============================] - 0s 54ms/step - loss: 1.4466 - accuracy: 0.6148 - val_loss: 2.3506 - val_accuracy: 0.0000e+00\n",
      "Epoch 1/5\n",
      "14/14 [==============================] - 1s 61ms/step - loss: 1.4446 - accuracy: 0.6140 - val_loss: 2.0273 - val_accuracy: 0.0000e+00\n",
      "Epoch 2/5\n",
      "14/14 [==============================] - 1s 45ms/step - loss: 0.7094 - accuracy: 0.7160 - val_loss: 1.0542 - val_accuracy: 0.6185\n",
      "Epoch 3/5\n",
      "14/14 [==============================] - 1s 45ms/step - loss: 0.4168 - accuracy: 0.8818 - val_loss: 0.6265 - val_accuracy: 0.8126\n",
      "Epoch 4/5\n",
      "14/14 [==============================] - 1s 60ms/step - loss: 0.3204 - accuracy: 0.9121 - val_loss: 0.5042 - val_accuracy: 0.8165\n",
      "Epoch 5/5\n",
      "14/14 [==============================] - 1s 48ms/step - loss: 0.2711 - accuracy: 0.9178 - val_loss: 0.4352 - val_accuracy: 0.8499\n",
      "  66/2017 [..............................] - ETA: 3s - loss: 0.4580 - accuracy: 0.9285"
     ]
    },
    {
     "name": "stderr",
     "output_type": "stream",
     "text": [
      "c:\\Users\\UX430\\anaconda3\\lib\\site-packages\\numpy\\core\\_asarray.py:171: VisibleDeprecationWarning: Creating an ndarray from ragged nested sequences (which is a list-or-tuple of lists-or-tuples-or ndarrays with different lengths or shapes) is deprecated. If you meant to do this, you must specify 'dtype=object' when creating the ndarray.\n",
      "  return array(a, dtype, copy=False, order=order, subok=True)\n"
     ]
    },
    {
     "name": "stdout",
     "output_type": "stream",
     "text": [
      "2017/2017 [==============================] - 4s 2ms/step - loss: 0.4705 - accuracy: 0.9239\n",
      " 32/756 [>.............................] - ETA: 1s - loss: 0.0000e+00 - accuracy: 0.0000e+00"
     ]
    },
    {
     "name": "stderr",
     "output_type": "stream",
     "text": [
      "c:\\Users\\UX430\\anaconda3\\lib\\site-packages\\sklearn\\metrics\\_classification.py:1308: UndefinedMetricWarning: Precision and F-score are ill-defined and being set to 0.0 in labels with no predicted samples. Use `zero_division` parameter to control this behavior.\n",
      "  _warn_prf(average, modifier, msg_start, len(result))\n",
      "c:\\Users\\UX430\\anaconda3\\lib\\site-packages\\sklearn\\metrics\\_classification.py:1308: UndefinedMetricWarning: Precision and F-score are ill-defined and being set to 0.0 in labels with no predicted samples. Use `zero_division` parameter to control this behavior.\n",
      "  _warn_prf(average, modifier, msg_start, len(result))\n",
      "c:\\Users\\UX430\\anaconda3\\lib\\site-packages\\sklearn\\metrics\\_classification.py:1308: UndefinedMetricWarning: Precision and F-score are ill-defined and being set to 0.0 in labels with no predicted samples. Use `zero_division` parameter to control this behavior.\n",
      "  _warn_prf(average, modifier, msg_start, len(result))\n"
     ]
    },
    {
     "name": "stdout",
     "output_type": "stream",
     "text": [
      "756/756 [==============================] - 1s 2ms/step - loss: 0.0000e+00 - accuracy: 0.0000e+00\n"
     ]
    },
    {
     "name": "stderr",
     "output_type": "stream",
     "text": [
      "c:\\Users\\UX430\\anaconda3\\lib\\site-packages\\sklearn\\metrics\\_classification.py:1308: UndefinedMetricWarning: Precision and F-score are ill-defined and being set to 0.0 in labels with no predicted samples. Use `zero_division` parameter to control this behavior.\n",
      "  _warn_prf(average, modifier, msg_start, len(result))\n",
      "c:\\Users\\UX430\\anaconda3\\lib\\site-packages\\sklearn\\metrics\\_classification.py:1308: UndefinedMetricWarning: Recall and F-score are ill-defined and being set to 0.0 in labels with no true samples. Use `zero_division` parameter to control this behavior.\n",
      "  _warn_prf(average, modifier, msg_start, len(result))\n",
      "c:\\Users\\UX430\\anaconda3\\lib\\site-packages\\sklearn\\metrics\\_classification.py:1308: UndefinedMetricWarning: Precision and F-score are ill-defined and being set to 0.0 in labels with no predicted samples. Use `zero_division` parameter to control this behavior.\n",
      "  _warn_prf(average, modifier, msg_start, len(result))\n",
      "c:\\Users\\UX430\\anaconda3\\lib\\site-packages\\sklearn\\metrics\\_classification.py:1308: UndefinedMetricWarning: Recall and F-score are ill-defined and being set to 0.0 in labels with no true samples. Use `zero_division` parameter to control this behavior.\n",
      "  _warn_prf(average, modifier, msg_start, len(result))\n",
      "c:\\Users\\UX430\\anaconda3\\lib\\site-packages\\sklearn\\metrics\\_classification.py:1308: UndefinedMetricWarning: Precision and F-score are ill-defined and being set to 0.0 in labels with no predicted samples. Use `zero_division` parameter to control this behavior.\n",
      "  _warn_prf(average, modifier, msg_start, len(result))\n",
      "c:\\Users\\UX430\\anaconda3\\lib\\site-packages\\sklearn\\metrics\\_classification.py:1308: UndefinedMetricWarning: Recall and F-score are ill-defined and being set to 0.0 in labels with no true samples. Use `zero_division` parameter to control this behavior.\n",
      "  _warn_prf(average, modifier, msg_start, len(result))\n"
     ]
    }
   ],
   "source": [
    "# Values saved each iteration \n",
    "loss_it = []\n",
    "accuracy_it = []\n",
    "f1_it = []\n",
    "precision_it = []\n",
    "recall_it = []\n",
    "\n",
    "for i in range(global_updates): \n",
    "    w_list = []\n",
    "    for node in range(num_nodes): \n",
    "        cp = global_model # create a copy of the global model\n",
    "        if node == 0:\n",
    "            x, y = x1, y1\n",
    "        elif node == 1:\n",
    "            x, y = x2, y2\n",
    "        else:\n",
    "            x, y = x3, y3\n",
    "        local_model, local_loss, local_acc, local_val_loss, local_val_acc = train_local_model(cp, node, x, y)\n",
    "        w_list.append(local_model.get_weights())\n",
    "\n",
    "    avg_w = aggregate(w_list)\n",
    "    global_model.set_weights(avg_w) # apply gradients to global model\n",
    "    loss_basic, accuracy_basic, f1_basic, precision_basic, recall_basic = evaluation(global_model, xbasic, ybasic) # Evaluate with test basic to know progress\n",
    "    loss_plus, accuracy_plus, f1_plus, precision_plus, recall_plus = evaluation(global_model, xplus, yplus) # Evaluate with test plus to know progress\n",
    "\n",
    "    loss_it.append([loss_basic, loss_plus])\n",
    "    accuracy_it.append([accuracy_basic, accuracy_plus])\n",
    "    f1_it.append([f1_basic, f1_plus])\n",
    "    precision_it.append([precision_basic, precision_plus])\n",
    "    recall_it.append([recall_basic, recall_plus])\n",
    "\n",
    "\n",
    "global_model.save('C:/Users/UX430/Documents/thesis/code/models/id303.hdf5')"
   ]
  },
  {
   "cell_type": "code",
   "execution_count": 68,
   "metadata": {},
   "outputs": [
    {
     "name": "stdout",
     "output_type": "stream",
     "text": [
      "Loss for iterations:  [[1.1719725131988525, 0.0], [0.800023078918457, 0.0], [0.47051626443862915, 0.0]]\n",
      "Accuracy for iterations:  [[0.9245458245277405, 0.0016541912918910384], [0.9244063496589661, 8.270956459455192e-05], [0.9238948225975037, 0.0]]\n",
      "F1 for iterations:  [[0.9003306100193208, 0.00330291895462615], [0.9004459250262938, 0.0001654054501095811], [0.9012541999069188, 0.0]]\n",
      "Precision for iterations:  [[0.911393225868665, 1.0], [0.8842761197961406, 1.0], [0.8876735236727731, 0.0]]\n",
      "Recall for iterations:  [[0.9245458490916982, 0.0016541913072246805], [0.9244063488126977, 8.270956536123402e-05], [0.9238948477896956, 0.0]]\n"
     ]
    }
   ],
   "source": [
    "print(\"Loss for iterations: \", loss_it)\n",
    "print(\"Accuracy for iterations: \", accuracy_it)\n",
    "print(\"F1 for iterations: \", f1_it)\n",
    "print(\"Precision for iterations: \", precision_it)\n",
    "print(\"Recall for iterations: \", recall_it)"
   ]
  },
  {
   "cell_type": "markdown",
   "metadata": {},
   "source": [
    "#### DATASET 3E"
   ]
  },
  {
   "cell_type": "code",
   "execution_count": 69,
   "metadata": {},
   "outputs": [],
   "source": [
    "# Load training datasets and testing datasets \n",
    "training1 = pd.read_csv('C:/Users/UX430/Documents/thesis/datasets/UNSW-NB15/UNSW-NB15-Train-Basic-Cat3E-Part1.csv')\n",
    "training2 = pd.read_csv('C:/Users/UX430/Documents/thesis/datasets/UNSW-NB15/UNSW-NB15-Train-Basic-Cat3E-Part2.csv')\n",
    "training3 = pd.read_csv('C:/Users/UX430/Documents/thesis/datasets/UNSW-NB15/UNSW-NB15-Train-Basic-Cat3E-Part3.csv')"
   ]
  },
  {
   "cell_type": "code",
   "execution_count": 70,
   "metadata": {},
   "outputs": [],
   "source": [
    "# Define \n",
    "node_datasets = [training1, training2, training3]\n",
    "num_nodes = 3\n",
    "global_updates = 3\n",
    "\n",
    "# Define model training parameters\n",
    "loss_fct = \"categorical_crossentropy\"\n",
    "metrics = ['accuracy']\n",
    "local_epochs = 5"
   ]
  },
  {
   "cell_type": "code",
   "execution_count": 71,
   "metadata": {},
   "outputs": [],
   "source": [
    "def train_local_model(model, node, x_train, y_train): \n",
    "    filepath = 'C:/Users/UX430/Documents/thesis/code/models/node'+str(node)+'ID304.hdf5'\n",
    "    callbacks = [\n",
    "            keras.callbacks.EarlyStopping(\n",
    "                monitor = 'val_loss', # Use accuracy to monitor the model\n",
    "                patience = 10 # Stop after 10 steps with lower accuracy\n",
    "            ),\n",
    "            keras.callbacks.ModelCheckpoint(\n",
    "                filepath = filepath, # file where the checkpoint is saved\n",
    "                monitor = 'val_loss', # Don't overwrite the saved model unless val_loss is worse\n",
    "                save_best_only = True)]# Only save model if it is the best\n",
    "    optimizer = keras.optimizers.Adam(learning_rate=1e-4)\n",
    "    model.compile(optimizer=optimizer, loss=loss_fct, metrics=metrics)\n",
    "    history = model.fit(x_train, y_train, epochs=local_epochs, validation_split=0.2, callbacks=callbacks, batch_size=1024)\n",
    "    return model, history.history['loss'], history.history['accuracy'], history.history['val_loss'], history.history['val_accuracy']"
   ]
  },
  {
   "cell_type": "code",
   "execution_count": 72,
   "metadata": {},
   "outputs": [],
   "source": [
    "def aggregate(w_list): \n",
    "    avg_w = np.mean(w_list, axis=0)\n",
    "    return avg_w"
   ]
  },
  {
   "cell_type": "code",
   "execution_count": 73,
   "metadata": {},
   "outputs": [],
   "source": [
    "global_model = build_model((24,1,1))"
   ]
  },
  {
   "cell_type": "code",
   "execution_count": 74,
   "metadata": {},
   "outputs": [],
   "source": [
    "x1, y1 = preprocessing(training1)\n",
    "x2, y2 = preprocessing(training2)\n",
    "x3, y3 = preprocessing(training3)\n"
   ]
  },
  {
   "cell_type": "code",
   "execution_count": 75,
   "metadata": {},
   "outputs": [
    {
     "name": "stdout",
     "output_type": "stream",
     "text": [
      "Epoch 1/5\n",
      "126/126 [==============================] - 7s 54ms/step - loss: 0.4138 - accuracy: 0.9215 - val_loss: 0.9119 - val_accuracy: 0.9997\n",
      "Epoch 2/5\n",
      "126/126 [==============================] - 6s 49ms/step - loss: 0.0161 - accuracy: 0.9999 - val_loss: 0.4875 - val_accuracy: 1.0000\n",
      "Epoch 3/5\n",
      "126/126 [==============================] - 6s 51ms/step - loss: 0.0049 - accuracy: 1.0000 - val_loss: 0.1639 - val_accuracy: 1.0000\n",
      "Epoch 4/5\n",
      "126/126 [==============================] - 6s 51ms/step - loss: 0.0025 - accuracy: 1.0000 - val_loss: 0.0319 - val_accuracy: 1.0000\n",
      "Epoch 5/5\n",
      "126/126 [==============================] - 7s 55ms/step - loss: 0.0016 - accuracy: 1.0000 - val_loss: 0.0057 - val_accuracy: 1.0000\n",
      "Epoch 1/5\n",
      "17/17 [==============================] - 1s 58ms/step - loss: 5.7038 - accuracy: 0.0023 - val_loss: 2.7096 - val_accuracy: 0.0267\n",
      "Epoch 2/5\n",
      "17/17 [==============================] - 1s 58ms/step - loss: 3.4110 - accuracy: 0.0313 - val_loss: 1.5475 - val_accuracy: 0.1235\n",
      "Epoch 3/5\n",
      "17/17 [==============================] - 1s 46ms/step - loss: 1.6090 - accuracy: 0.1922 - val_loss: 0.8216 - val_accuracy: 0.7244\n",
      "Epoch 4/5\n",
      "17/17 [==============================] - 1s 55ms/step - loss: 0.6736 - accuracy: 0.7764 - val_loss: 0.4689 - val_accuracy: 0.9902\n",
      "Epoch 5/5\n",
      "17/17 [==============================] - 1s 47ms/step - loss: 0.3305 - accuracy: 0.9920 - val_loss: 0.2978 - val_accuracy: 0.9979\n",
      "Epoch 1/5\n",
      "10/10 [==============================] - 1s 65ms/step - loss: 2.2238 - accuracy: 2.1142e-04 - val_loss: 1.6210 - val_accuracy: 4.2265e-04\n",
      "Epoch 2/5\n",
      "10/10 [==============================] - 1s 63ms/step - loss: 1.6154 - accuracy: 0.0356 - val_loss: 1.1641 - val_accuracy: 0.3715\n",
      "Epoch 3/5\n",
      "10/10 [==============================] - 1s 51ms/step - loss: 1.1843 - accuracy: 0.4756 - val_loss: 0.8161 - val_accuracy: 0.9442\n",
      "Epoch 4/5\n",
      "10/10 [==============================] - 0s 49ms/step - loss: 0.9102 - accuracy: 0.6971 - val_loss: 0.5929 - val_accuracy: 0.9869\n",
      "Epoch 5/5\n",
      "10/10 [==============================] - 0s 47ms/step - loss: 0.7418 - accuracy: 0.7387 - val_loss: 0.4697 - val_accuracy: 0.9920\n",
      "   1/2017 [..............................] - ETA: 0s - loss: 0.5234 - accuracy: 0.8750"
     ]
    },
    {
     "name": "stderr",
     "output_type": "stream",
     "text": [
      "c:\\Users\\UX430\\anaconda3\\lib\\site-packages\\numpy\\core\\_asarray.py:171: VisibleDeprecationWarning: Creating an ndarray from ragged nested sequences (which is a list-or-tuple of lists-or-tuples-or ndarrays with different lengths or shapes) is deprecated. If you meant to do this, you must specify 'dtype=object' when creating the ndarray.\n",
      "  return array(a, dtype, copy=False, order=order, subok=True)\n"
     ]
    },
    {
     "name": "stdout",
     "output_type": "stream",
     "text": [
      "2017/2017 [==============================] - 3s 1ms/step - loss: 0.5629 - accuracy: 0.8665\n",
      "756/756 [==============================] - 1s 1ms/step - loss: 0.0000e+00 - accuracy: 0.0126\n"
     ]
    },
    {
     "name": "stderr",
     "output_type": "stream",
     "text": [
      "c:\\Users\\UX430\\anaconda3\\lib\\site-packages\\sklearn\\metrics\\_classification.py:1308: UndefinedMetricWarning: Recall and F-score are ill-defined and being set to 0.0 in labels with no true samples. Use `zero_division` parameter to control this behavior.\n",
      "  _warn_prf(average, modifier, msg_start, len(result))\n",
      "c:\\Users\\UX430\\anaconda3\\lib\\site-packages\\sklearn\\metrics\\_classification.py:1308: UndefinedMetricWarning: Recall and F-score are ill-defined and being set to 0.0 in labels with no true samples. Use `zero_division` parameter to control this behavior.\n",
      "  _warn_prf(average, modifier, msg_start, len(result))\n",
      "c:\\Users\\UX430\\anaconda3\\lib\\site-packages\\sklearn\\metrics\\_classification.py:1308: UndefinedMetricWarning: Recall and F-score are ill-defined and being set to 0.0 in labels with no true samples. Use `zero_division` parameter to control this behavior.\n",
      "  _warn_prf(average, modifier, msg_start, len(result))\n"
     ]
    },
    {
     "name": "stdout",
     "output_type": "stream",
     "text": [
      "Epoch 1/5\n",
      "126/126 [==============================] - 6s 51ms/step - loss: 0.0030 - accuracy: 1.0000 - val_loss: 5.3238e-04 - val_accuracy: 1.0000\n",
      "Epoch 2/5\n",
      "126/126 [==============================] - 6s 51ms/step - loss: 3.2663e-04 - accuracy: 1.0000 - val_loss: 1.5189e-04 - val_accuracy: 1.0000\n",
      "Epoch 3/5\n",
      "126/126 [==============================] - 7s 52ms/step - loss: 1.3281e-04 - accuracy: 1.0000 - val_loss: 7.1471e-05 - val_accuracy: 1.0000\n",
      "Epoch 4/5\n",
      "126/126 [==============================] - 7s 52ms/step - loss: 5.9380e-05 - accuracy: 1.0000 - val_loss: 4.5461e-05 - val_accuracy: 1.0000\n",
      "Epoch 5/5\n",
      "126/126 [==============================] - 7s 53ms/step - loss: 3.9281e-05 - accuracy: 1.0000 - val_loss: 3.3125e-05 - val_accuracy: 1.0000\n",
      "Epoch 1/5\n",
      "17/17 [==============================] - 1s 68ms/step - loss: 4.4262 - accuracy: 0.0016 - val_loss: 1.6588 - val_accuracy: 0.0730\n",
      "Epoch 2/5\n",
      "17/17 [==============================] - 1s 51ms/step - loss: 1.6503 - accuracy: 0.2012 - val_loss: 0.5220 - val_accuracy: 0.8877\n",
      "Epoch 3/5\n",
      "17/17 [==============================] - 1s 53ms/step - loss: 0.4595 - accuracy: 0.8638 - val_loss: 0.2376 - val_accuracy: 0.9939\n",
      "Epoch 4/5\n",
      "17/17 [==============================] - 1s 49ms/step - loss: 0.1969 - accuracy: 0.9936 - val_loss: 0.1455 - val_accuracy: 0.9984\n",
      "Epoch 5/5\n",
      "17/17 [==============================] - 1s 47ms/step - loss: 0.1197 - accuracy: 0.9980 - val_loss: 0.1017 - val_accuracy: 0.9995\n",
      "Epoch 1/5\n",
      "10/10 [==============================] - 1s 73ms/step - loss: 2.5294 - accuracy: 0.0000e+00 - val_loss: 1.6714 - val_accuracy: 4.2265e-04\n",
      "Epoch 2/5\n",
      "10/10 [==============================] - 1s 53ms/step - loss: 1.7552 - accuracy: 0.0235 - val_loss: 1.1301 - val_accuracy: 0.3073\n",
      "Epoch 3/5\n",
      "10/10 [==============================] - 0s 47ms/step - loss: 1.2631 - accuracy: 0.3814 - val_loss: 0.7716 - val_accuracy: 0.8791\n",
      "Epoch 4/5\n",
      "10/10 [==============================] - 0s 47ms/step - loss: 0.9694 - accuracy: 0.6701 - val_loss: 0.5569 - val_accuracy: 0.9852\n",
      "Epoch 5/5\n",
      "10/10 [==============================] - 1s 65ms/step - loss: 0.7867 - accuracy: 0.7284 - val_loss: 0.4398 - val_accuracy: 0.9915\n",
      "  66/2017 [..............................] - ETA: 2s - loss: 0.3832 - accuracy: 0.8494"
     ]
    },
    {
     "name": "stderr",
     "output_type": "stream",
     "text": [
      "c:\\Users\\UX430\\anaconda3\\lib\\site-packages\\numpy\\core\\_asarray.py:171: VisibleDeprecationWarning: Creating an ndarray from ragged nested sequences (which is a list-or-tuple of lists-or-tuples-or ndarrays with different lengths or shapes) is deprecated. If you meant to do this, you must specify 'dtype=object' when creating the ndarray.\n",
      "  return array(a, dtype, copy=False, order=order, subok=True)\n"
     ]
    },
    {
     "name": "stdout",
     "output_type": "stream",
     "text": [
      "2017/2017 [==============================] - 3s 2ms/step - loss: 0.4062 - accuracy: 0.8442\n",
      "756/756 [==============================] - 1s 1ms/step - loss: 0.0000e+00 - accuracy: 0.0011: 0s - loss: 0.0000e\n"
     ]
    },
    {
     "name": "stderr",
     "output_type": "stream",
     "text": [
      "c:\\Users\\UX430\\anaconda3\\lib\\site-packages\\sklearn\\metrics\\_classification.py:1308: UndefinedMetricWarning: Recall and F-score are ill-defined and being set to 0.0 in labels with no true samples. Use `zero_division` parameter to control this behavior.\n",
      "  _warn_prf(average, modifier, msg_start, len(result))\n",
      "c:\\Users\\UX430\\anaconda3\\lib\\site-packages\\sklearn\\metrics\\_classification.py:1308: UndefinedMetricWarning: Recall and F-score are ill-defined and being set to 0.0 in labels with no true samples. Use `zero_division` parameter to control this behavior.\n",
      "  _warn_prf(average, modifier, msg_start, len(result))\n",
      "c:\\Users\\UX430\\anaconda3\\lib\\site-packages\\sklearn\\metrics\\_classification.py:1308: UndefinedMetricWarning: Recall and F-score are ill-defined and being set to 0.0 in labels with no true samples. Use `zero_division` parameter to control this behavior.\n",
      "  _warn_prf(average, modifier, msg_start, len(result))\n"
     ]
    },
    {
     "name": "stdout",
     "output_type": "stream",
     "text": [
      "Epoch 1/5\n",
      "126/126 [==============================] - 7s 53ms/step - loss: 2.2033e-04 - accuracy: 1.0000 - val_loss: 2.1672e-05 - val_accuracy: 1.0000\n",
      "Epoch 2/5\n",
      "126/126 [==============================] - 6s 51ms/step - loss: 1.5835e-05 - accuracy: 1.0000 - val_loss: 9.5540e-06 - val_accuracy: 1.0000\n",
      "Epoch 3/5\n",
      "126/126 [==============================] - 6s 50ms/step - loss: 7.5959e-06 - accuracy: 1.0000 - val_loss: 5.7047e-06 - val_accuracy: 1.0000\n",
      "Epoch 4/5\n",
      "126/126 [==============================] - 6s 49ms/step - loss: 4.4293e-06 - accuracy: 1.0000 - val_loss: 3.5423e-06 - val_accuracy: 1.0000\n",
      "Epoch 5/5\n",
      "126/126 [==============================] - 6s 47ms/step - loss: 2.9794e-06 - accuracy: 1.0000 - val_loss: 2.6255e-06 - val_accuracy: 1.0000\n",
      "Epoch 1/5\n",
      "17/17 [==============================] - 1s 63ms/step - loss: 2.8127 - accuracy: 0.0560 - val_loss: 0.6005 - val_accuracy: 0.7522\n",
      "Epoch 2/5\n",
      "17/17 [==============================] - 1s 44ms/step - loss: 0.5933 - accuracy: 0.7234 - val_loss: 0.1706 - val_accuracy: 0.9927\n",
      "Epoch 3/5\n",
      "17/17 [==============================] - 1s 44ms/step - loss: 0.1644 - accuracy: 0.9895 - val_loss: 0.0931 - val_accuracy: 0.9979\n",
      "Epoch 4/5\n",
      "17/17 [==============================] - 1s 51ms/step - loss: 0.0892 - accuracy: 0.9970 - val_loss: 0.0640 - val_accuracy: 0.9995\n",
      "Epoch 5/5\n",
      "17/17 [==============================] - 1s 44ms/step - loss: 0.0615 - accuracy: 0.9988 - val_loss: 0.0484 - val_accuracy: 0.9998\n",
      "Epoch 1/5\n",
      "10/10 [==============================] - 1s 60ms/step - loss: 2.6782 - accuracy: 0.0000e+00 - val_loss: 1.7700 - val_accuracy: 0.0000e+00\n",
      "Epoch 2/5\n",
      "10/10 [==============================] - 1s 53ms/step - loss: 1.7992 - accuracy: 0.0359 - val_loss: 1.1268 - val_accuracy: 0.3064\n",
      "Epoch 3/5\n",
      "10/10 [==============================] - 1s 54ms/step - loss: 1.2613 - accuracy: 0.4128 - val_loss: 0.7569 - val_accuracy: 0.8622\n",
      "Epoch 4/5\n",
      "10/10 [==============================] - 0s 46ms/step - loss: 0.9549 - accuracy: 0.6715 - val_loss: 0.5420 - val_accuracy: 0.9780\n",
      "Epoch 5/5\n",
      "10/10 [==============================] - 0s 49ms/step - loss: 0.7716 - accuracy: 0.7374 - val_loss: 0.4300 - val_accuracy: 0.9924\n",
      "  69/2017 [>.............................] - ETA: 2s - loss: 0.3876 - accuracy: 0.8406"
     ]
    },
    {
     "name": "stderr",
     "output_type": "stream",
     "text": [
      "c:\\Users\\UX430\\anaconda3\\lib\\site-packages\\numpy\\core\\_asarray.py:171: VisibleDeprecationWarning: Creating an ndarray from ragged nested sequences (which is a list-or-tuple of lists-or-tuples-or ndarrays with different lengths or shapes) is deprecated. If you meant to do this, you must specify 'dtype=object' when creating the ndarray.\n",
      "  return array(a, dtype, copy=False, order=order, subok=True)\n"
     ]
    },
    {
     "name": "stdout",
     "output_type": "stream",
     "text": [
      "2017/2017 [==============================] - 3s 1ms/step - loss: 0.4155 - accuracy: 0.8337\n",
      " 75/756 [=>............................] - ETA: 0s - loss: 0.0000e+00 - accuracy: 0.0000e+00"
     ]
    },
    {
     "name": "stderr",
     "output_type": "stream",
     "text": [
      "c:\\Users\\UX430\\anaconda3\\lib\\site-packages\\sklearn\\metrics\\_classification.py:1308: UndefinedMetricWarning: Precision and F-score are ill-defined and being set to 0.0 in labels with no predicted samples. Use `zero_division` parameter to control this behavior.\n",
      "  _warn_prf(average, modifier, msg_start, len(result))\n",
      "c:\\Users\\UX430\\anaconda3\\lib\\site-packages\\sklearn\\metrics\\_classification.py:1308: UndefinedMetricWarning: Precision and F-score are ill-defined and being set to 0.0 in labels with no predicted samples. Use `zero_division` parameter to control this behavior.\n",
      "  _warn_prf(average, modifier, msg_start, len(result))\n",
      "c:\\Users\\UX430\\anaconda3\\lib\\site-packages\\sklearn\\metrics\\_classification.py:1308: UndefinedMetricWarning: Precision and F-score are ill-defined and being set to 0.0 in labels with no predicted samples. Use `zero_division` parameter to control this behavior.\n",
      "  _warn_prf(average, modifier, msg_start, len(result))\n"
     ]
    },
    {
     "name": "stdout",
     "output_type": "stream",
     "text": [
      "756/756 [==============================] - 1s 1ms/step - loss: 0.0000e+00 - accuracy: 0.0000e+00\n"
     ]
    },
    {
     "name": "stderr",
     "output_type": "stream",
     "text": [
      "c:\\Users\\UX430\\anaconda3\\lib\\site-packages\\sklearn\\metrics\\_classification.py:1308: UndefinedMetricWarning: Precision and F-score are ill-defined and being set to 0.0 in labels with no predicted samples. Use `zero_division` parameter to control this behavior.\n",
      "  _warn_prf(average, modifier, msg_start, len(result))\n",
      "c:\\Users\\UX430\\anaconda3\\lib\\site-packages\\sklearn\\metrics\\_classification.py:1308: UndefinedMetricWarning: Recall and F-score are ill-defined and being set to 0.0 in labels with no true samples. Use `zero_division` parameter to control this behavior.\n",
      "  _warn_prf(average, modifier, msg_start, len(result))\n",
      "c:\\Users\\UX430\\anaconda3\\lib\\site-packages\\sklearn\\metrics\\_classification.py:1308: UndefinedMetricWarning: Precision and F-score are ill-defined and being set to 0.0 in labels with no predicted samples. Use `zero_division` parameter to control this behavior.\n",
      "  _warn_prf(average, modifier, msg_start, len(result))\n",
      "c:\\Users\\UX430\\anaconda3\\lib\\site-packages\\sklearn\\metrics\\_classification.py:1308: UndefinedMetricWarning: Recall and F-score are ill-defined and being set to 0.0 in labels with no true samples. Use `zero_division` parameter to control this behavior.\n",
      "  _warn_prf(average, modifier, msg_start, len(result))\n",
      "c:\\Users\\UX430\\anaconda3\\lib\\site-packages\\sklearn\\metrics\\_classification.py:1308: UndefinedMetricWarning: Precision and F-score are ill-defined and being set to 0.0 in labels with no predicted samples. Use `zero_division` parameter to control this behavior.\n",
      "  _warn_prf(average, modifier, msg_start, len(result))\n",
      "c:\\Users\\UX430\\anaconda3\\lib\\site-packages\\sklearn\\metrics\\_classification.py:1308: UndefinedMetricWarning: Recall and F-score are ill-defined and being set to 0.0 in labels with no true samples. Use `zero_division` parameter to control this behavior.\n",
      "  _warn_prf(average, modifier, msg_start, len(result))\n"
     ]
    }
   ],
   "source": [
    "# Values saved each iteration \n",
    "loss_it = []\n",
    "accuracy_it = []\n",
    "f1_it = []\n",
    "precision_it = []\n",
    "recall_it = []\n",
    "\n",
    "for i in range(global_updates): \n",
    "    w_list = []\n",
    "    for node in range(num_nodes): \n",
    "        cp = global_model # create a copy of the global model\n",
    "        if node == 0:\n",
    "            x, y = x1, y1\n",
    "        elif node == 1:\n",
    "            x, y = x2, y2\n",
    "        else:\n",
    "            x, y = x3, y3\n",
    "        local_model, local_loss, local_acc, local_val_loss, local_val_acc = train_local_model(cp, node, x, y)\n",
    "        w_list.append(local_model.get_weights())\n",
    "\n",
    "    avg_w = aggregate(w_list)\n",
    "    global_model.set_weights(avg_w) # apply gradients to global model\n",
    "    loss_basic, accuracy_basic, f1_basic, precision_basic, recall_basic = evaluation(global_model, xbasic, ybasic) # Evaluate with test basic to know progress\n",
    "    loss_plus, accuracy_plus, f1_plus, precision_plus, recall_plus = evaluation(global_model, xplus, yplus) # Evaluate with test plus to know progress\n",
    "\n",
    "    loss_it.append([loss_basic, loss_plus])\n",
    "    accuracy_it.append([accuracy_basic, accuracy_plus])\n",
    "    f1_it.append([f1_basic, f1_plus])\n",
    "    precision_it.append([precision_basic, precision_plus])\n",
    "    recall_it.append([recall_basic, recall_plus])\n",
    "\n",
    "\n",
    "global_model.save('C:/Users/UX430/Documents/thesis/code/models/id304.hdf5')"
   ]
  },
  {
   "cell_type": "code",
   "execution_count": 76,
   "metadata": {},
   "outputs": [
    {
     "name": "stdout",
     "output_type": "stream",
     "text": [
      "Loss for iterations:  [[0.5628840923309326, 0.0], [0.40617313981056213, 0.0], [0.41553929448127747, 0.0]]\n",
      "Accuracy for iterations:  [[0.8664982318878174, 0.012571853585541248], [0.8442401885986328, 0.0011165791656821966], [0.8337466716766357, 0.0]]\n",
      "F1 for iterations:  [[0.8487789989915046, 0.02483152950786196], [0.7865356967049646, 0.0022306675479180434], [0.7603482021009152, 0.0]]\n",
      "Precision for iterations:  [[0.8604512968539972, 1.0], [0.806134363984871, 1.0], [0.7813869474090002, 0.0]]\n",
      "Recall for iterations:  [[0.866498232996466, 0.012571853934907572], [0.844240188480377, 0.0011165791323766593], [0.833746667493335, 0.0]]\n"
     ]
    }
   ],
   "source": [
    "print(\"Loss for iterations: \", loss_it)\n",
    "print(\"Accuracy for iterations: \", accuracy_it)\n",
    "print(\"F1 for iterations: \", f1_it)\n",
    "print(\"Precision for iterations: \", precision_it)\n",
    "print(\"Recall for iterations: \", recall_it)"
   ]
  },
  {
   "cell_type": "markdown",
   "metadata": {},
   "source": [
    "### Experimenting with epochs and iterations \n",
    "\n",
    "Use of dataset 3C, considering it contains an equal partition of the data between the 3 nodes. "
   ]
  },
  {
   "cell_type": "markdown",
   "metadata": {},
   "source": [
    "#### #Epochs = 10, #Iterations = 10"
   ]
  },
  {
   "cell_type": "code",
   "execution_count": 84,
   "metadata": {},
   "outputs": [],
   "source": [
    "# Load training datasets and testing datasets \n",
    "training1 = pd.read_csv('C:/Users/UX430/Documents/thesis/datasets/UNSW-NB15/UNSW-NB15-Train-Basic-Cat3B-Part1.csv')\n",
    "training2 = pd.read_csv('C:/Users/UX430/Documents/thesis/datasets/UNSW-NB15/UNSW-NB15-Train-Basic-Cat3B-Part2.csv')\n",
    "training3 = pd.read_csv('C:/Users/UX430/Documents/thesis/datasets/UNSW-NB15/UNSW-NB15-Train-Basic-Cat3B-Part3.csv')\n"
   ]
  },
  {
   "cell_type": "code",
   "execution_count": 85,
   "metadata": {},
   "outputs": [],
   "source": [
    "# Define \n",
    "node_datasets = [training1, training2, training3]\n",
    "num_nodes = 3\n",
    "global_updates = 10\n",
    "\n",
    "# Define model training parameters\n",
    "loss_fct = \"categorical_crossentropy\"\n",
    "metrics = ['accuracy']\n",
    "local_epochs = 10"
   ]
  },
  {
   "cell_type": "code",
   "execution_count": 86,
   "metadata": {},
   "outputs": [],
   "source": [
    "def train_local_model(model, node, x_train, y_train): \n",
    "    filepath = 'C:/Users/UX430/Documents/thesis/code/models/node'+str(node)+'ID310.hdf5'\n",
    "    callbacks = [\n",
    "            keras.callbacks.EarlyStopping(\n",
    "                monitor = 'val_loss', # Use accuracy to monitor the model\n",
    "                patience = 10 # Stop after 10 steps with lower accuracy\n",
    "            ),\n",
    "            keras.callbacks.ModelCheckpoint(\n",
    "                filepath = filepath, # file where the checkpoint is saved\n",
    "                monitor = 'val_loss', # Don't overwrite the saved model unless val_loss is worse\n",
    "                save_best_only = True)]# Only save model if it is the best\n",
    "    optimizer = keras.optimizers.Adam(learning_rate=1e-4)\n",
    "    model.compile(optimizer=optimizer, loss=loss_fct, metrics=metrics)\n",
    "    history = model.fit(x_train, y_train, epochs=local_epochs, validation_split=0.2, callbacks=callbacks, batch_size=1024)\n",
    "    return model, history.history['loss'], history.history['accuracy'], history.history['val_loss'], history.history['val_accuracy']"
   ]
  },
  {
   "cell_type": "code",
   "execution_count": 87,
   "metadata": {},
   "outputs": [],
   "source": [
    "def aggregate(w_list): \n",
    "    avg_w = np.mean(w_list, axis=0)\n",
    "    return avg_w"
   ]
  },
  {
   "cell_type": "code",
   "execution_count": 88,
   "metadata": {},
   "outputs": [],
   "source": [
    "global_model = build_model((24,1,1))"
   ]
  },
  {
   "cell_type": "code",
   "execution_count": 89,
   "metadata": {},
   "outputs": [],
   "source": [
    "x1, y1 = preprocessing(training1)\n",
    "x2, y2 = preprocessing(training2)\n",
    "x3, y3 = preprocessing(training3)\n"
   ]
  },
  {
   "cell_type": "code",
   "execution_count": 90,
   "metadata": {},
   "outputs": [
    {
     "name": "stdout",
     "output_type": "stream",
     "text": [
      "Epoch 1/10\n",
      "15/15 [==============================] - 1s 64ms/step - loss: 1.4004 - accuracy: 0.2339 - val_loss: 1.3880 - val_accuracy: 0.0132\n",
      "Epoch 2/10\n",
      "15/15 [==============================] - 1s 55ms/step - loss: 0.7849 - accuracy: 0.7902 - val_loss: 1.4149 - val_accuracy: 0.0099\n",
      "Epoch 3/10\n",
      "15/15 [==============================] - 1s 61ms/step - loss: 0.4630 - accuracy: 0.9495 - val_loss: 1.4448 - val_accuracy: 0.0060\n",
      "Epoch 4/10\n",
      "15/15 [==============================] - 1s 56ms/step - loss: 0.3126 - accuracy: 0.9530 - val_loss: 1.4752 - val_accuracy: 0.0019\n",
      "Epoch 5/10\n",
      "15/15 [==============================] - 1s 55ms/step - loss: 0.2459 - accuracy: 0.9552 - val_loss: 1.5046 - val_accuracy: 0.0011\n",
      "Epoch 6/10\n",
      "15/15 [==============================] - 1s 54ms/step - loss: 0.2163 - accuracy: 0.9576 - val_loss: 1.5321 - val_accuracy: 0.0011\n",
      "Epoch 7/10\n",
      "15/15 [==============================] - 1s 57ms/step - loss: 0.2025 - accuracy: 0.9600 - val_loss: 1.5591 - val_accuracy: 0.0011\n",
      "Epoch 8/10\n",
      "15/15 [==============================] - 1s 48ms/step - loss: 0.1951 - accuracy: 0.9606 - val_loss: 1.5859 - val_accuracy: 0.0014\n",
      "Epoch 9/10\n",
      "15/15 [==============================] - 1s 58ms/step - loss: 0.1904 - accuracy: 0.9609 - val_loss: 1.6134 - val_accuracy: 0.0014\n",
      "Epoch 10/10\n",
      "15/15 [==============================] - 1s 59ms/step - loss: 0.1865 - accuracy: 0.9611 - val_loss: 1.6419 - val_accuracy: 0.0014\n",
      "Epoch 1/10\n",
      "15/15 [==============================] - 1s 64ms/step - loss: 0.1752 - accuracy: 0.9627 - val_loss: 1.7068 - val_accuracy: 0.0025\n",
      "Epoch 2/10\n",
      "15/15 [==============================] - 1s 54ms/step - loss: 0.1675 - accuracy: 0.9629 - val_loss: 1.7757 - val_accuracy: 0.0025\n",
      "Epoch 3/10\n",
      "15/15 [==============================] - 1s 68ms/step - loss: 0.1634 - accuracy: 0.9633 - val_loss: 1.8403 - val_accuracy: 0.0025\n",
      "Epoch 4/10\n",
      "15/15 [==============================] - 1s 55ms/step - loss: 0.1602 - accuracy: 0.9634 - val_loss: 1.9118 - val_accuracy: 0.0025\n",
      "Epoch 5/10\n",
      "15/15 [==============================] - 1s 50ms/step - loss: 0.1577 - accuracy: 0.9637 - val_loss: 1.9857 - val_accuracy: 0.0022\n",
      "Epoch 6/10\n",
      "15/15 [==============================] - 1s 58ms/step - loss: 0.1555 - accuracy: 0.9638 - val_loss: 2.0686 - val_accuracy: 0.0022\n",
      "Epoch 7/10\n",
      "15/15 [==============================] - 1s 58ms/step - loss: 0.1541 - accuracy: 0.9642 - val_loss: 2.1526 - val_accuracy: 0.0025\n",
      "Epoch 8/10\n",
      "15/15 [==============================] - 1s 52ms/step - loss: 0.1520 - accuracy: 0.9643 - val_loss: 2.2519 - val_accuracy: 0.0022\n",
      "Epoch 9/10\n",
      "15/15 [==============================] - 1s 57ms/step - loss: 0.1504 - accuracy: 0.9646 - val_loss: 2.3517 - val_accuracy: 0.0019\n",
      "Epoch 10/10\n",
      "15/15 [==============================] - 1s 52ms/step - loss: 0.1493 - accuracy: 0.9647 - val_loss: 2.4618 - val_accuracy: 0.0022\n",
      "Epoch 1/10\n",
      "15/15 [==============================] - 1s 69ms/step - loss: 0.1513 - accuracy: 0.9652 - val_loss: 2.5992 - val_accuracy: 8.2463e-04\n",
      "Epoch 2/10\n",
      "15/15 [==============================] - 1s 51ms/step - loss: 0.1490 - accuracy: 0.9656 - val_loss: 2.7419 - val_accuracy: 8.2463e-04\n",
      "Epoch 3/10\n",
      "15/15 [==============================] - 1s 51ms/step - loss: 0.1473 - accuracy: 0.9657 - val_loss: 2.9054 - val_accuracy: 8.2463e-04\n",
      "Epoch 4/10\n",
      "15/15 [==============================] - 1s 54ms/step - loss: 0.1456 - accuracy: 0.9658 - val_loss: 3.0685 - val_accuracy: 8.2463e-04\n",
      "Epoch 5/10\n",
      "15/15 [==============================] - 1s 50ms/step - loss: 0.1444 - accuracy: 0.9661 - val_loss: 3.2356 - val_accuracy: 8.2463e-04\n",
      "Epoch 6/10\n",
      "15/15 [==============================] - 1s 53ms/step - loss: 0.1431 - accuracy: 0.9662 - val_loss: 3.4179 - val_accuracy: 8.2463e-04\n",
      "Epoch 7/10\n",
      "15/15 [==============================] - 1s 53ms/step - loss: 0.1423 - accuracy: 0.9664 - val_loss: 3.6141 - val_accuracy: 8.2463e-04\n",
      "Epoch 8/10\n",
      "15/15 [==============================] - 1s 51ms/step - loss: 0.1417 - accuracy: 0.9668 - val_loss: 3.8027 - val_accuracy: 8.2463e-04\n",
      "Epoch 9/10\n",
      "15/15 [==============================] - 1s 50ms/step - loss: 0.1409 - accuracy: 0.9667 - val_loss: 4.0316 - val_accuracy: 0.0011\n",
      "Epoch 10/10\n",
      "15/15 [==============================] - 1s 54ms/step - loss: 0.1399 - accuracy: 0.9671 - val_loss: 4.2122 - val_accuracy: 8.2463e-04\n",
      "  66/2017 [..............................] - ETA: 2s - loss: 1.0193 - accuracy: 0.9285"
     ]
    },
    {
     "name": "stderr",
     "output_type": "stream",
     "text": [
      "c:\\Users\\UX430\\anaconda3\\lib\\site-packages\\numpy\\core\\_asarray.py:171: VisibleDeprecationWarning: Creating an ndarray from ragged nested sequences (which is a list-or-tuple of lists-or-tuples-or ndarrays with different lengths or shapes) is deprecated. If you meant to do this, you must specify 'dtype=object' when creating the ndarray.\n",
      "  return array(a, dtype, copy=False, order=order, subok=True)\n"
     ]
    },
    {
     "name": "stdout",
     "output_type": "stream",
     "text": [
      "2017/2017 [==============================] - 3s 2ms/step - loss: 1.0238 - accuracy: 0.9237\n",
      "756/756 [==============================] - 1s 2ms/step - loss: 0.0000e+00 - accuracy: 0.0026\n"
     ]
    },
    {
     "name": "stderr",
     "output_type": "stream",
     "text": [
      "c:\\Users\\UX430\\anaconda3\\lib\\site-packages\\sklearn\\metrics\\_classification.py:1308: UndefinedMetricWarning: Precision and F-score are ill-defined and being set to 0.0 in labels with no predicted samples. Use `zero_division` parameter to control this behavior.\n",
      "  _warn_prf(average, modifier, msg_start, len(result))\n",
      "c:\\Users\\UX430\\anaconda3\\lib\\site-packages\\sklearn\\metrics\\_classification.py:1308: UndefinedMetricWarning: Recall and F-score are ill-defined and being set to 0.0 in labels with no true samples. Use `zero_division` parameter to control this behavior.\n",
      "  _warn_prf(average, modifier, msg_start, len(result))\n",
      "c:\\Users\\UX430\\anaconda3\\lib\\site-packages\\sklearn\\metrics\\_classification.py:1308: UndefinedMetricWarning: Precision and F-score are ill-defined and being set to 0.0 in labels with no predicted samples. Use `zero_division` parameter to control this behavior.\n",
      "  _warn_prf(average, modifier, msg_start, len(result))\n",
      "c:\\Users\\UX430\\anaconda3\\lib\\site-packages\\sklearn\\metrics\\_classification.py:1308: UndefinedMetricWarning: Recall and F-score are ill-defined and being set to 0.0 in labels with no true samples. Use `zero_division` parameter to control this behavior.\n",
      "  _warn_prf(average, modifier, msg_start, len(result))\n",
      "c:\\Users\\UX430\\anaconda3\\lib\\site-packages\\sklearn\\metrics\\_classification.py:1308: UndefinedMetricWarning: Precision and F-score are ill-defined and being set to 0.0 in labels with no predicted samples. Use `zero_division` parameter to control this behavior.\n",
      "  _warn_prf(average, modifier, msg_start, len(result))\n",
      "c:\\Users\\UX430\\anaconda3\\lib\\site-packages\\sklearn\\metrics\\_classification.py:1308: UndefinedMetricWarning: Recall and F-score are ill-defined and being set to 0.0 in labels with no true samples. Use `zero_division` parameter to control this behavior.\n",
      "  _warn_prf(average, modifier, msg_start, len(result))\n"
     ]
    },
    {
     "name": "stdout",
     "output_type": "stream",
     "text": [
      "Epoch 1/10\n",
      "15/15 [==============================] - 1s 70ms/step - loss: 0.1575 - accuracy: 0.9625 - val_loss: 2.1861 - val_accuracy: 0.0014\n",
      "Epoch 2/10\n",
      "15/15 [==============================] - 1s 50ms/step - loss: 0.1545 - accuracy: 0.9630 - val_loss: 2.3001 - val_accuracy: 0.0014\n",
      "Epoch 3/10\n",
      "15/15 [==============================] - 1s 54ms/step - loss: 0.1523 - accuracy: 0.9638 - val_loss: 2.4124 - val_accuracy: 0.0014\n",
      "Epoch 4/10\n",
      "15/15 [==============================] - 1s 56ms/step - loss: 0.1509 - accuracy: 0.9642 - val_loss: 2.5315 - val_accuracy: 0.0014\n",
      "Epoch 5/10\n",
      "15/15 [==============================] - 1s 56ms/step - loss: 0.1502 - accuracy: 0.9646 - val_loss: 2.6696 - val_accuracy: 0.0014\n",
      "Epoch 6/10\n",
      "15/15 [==============================] - 1s 52ms/step - loss: 0.1487 - accuracy: 0.9652 - val_loss: 2.7996 - val_accuracy: 0.0014\n",
      "Epoch 7/10\n",
      "15/15 [==============================] - 1s 57ms/step - loss: 0.1478 - accuracy: 0.9652 - val_loss: 2.9563 - val_accuracy: 0.0014\n",
      "Epoch 8/10\n",
      "15/15 [==============================] - 1s 63ms/step - loss: 0.1474 - accuracy: 0.9655 - val_loss: 3.1025 - val_accuracy: 0.0014\n",
      "Epoch 9/10\n",
      "15/15 [==============================] - 1s 65ms/step - loss: 0.1466 - accuracy: 0.9658 - val_loss: 3.2971 - val_accuracy: 0.0014\n",
      "Epoch 10/10\n",
      "15/15 [==============================] - 1s 62ms/step - loss: 0.1460 - accuracy: 0.9658 - val_loss: 3.4718 - val_accuracy: 0.0014\n",
      "Epoch 1/10\n",
      "15/15 [==============================] - 1s 88ms/step - loss: 0.1437 - accuracy: 0.9667 - val_loss: 3.6575 - val_accuracy: 0.0025\n",
      "Epoch 2/10\n",
      "15/15 [==============================] - 1s 56ms/step - loss: 0.1423 - accuracy: 0.9669 - val_loss: 3.8745 - val_accuracy: 0.0022\n",
      "Epoch 3/10\n",
      "15/15 [==============================] - 1s 53ms/step - loss: 0.1412 - accuracy: 0.9673 - val_loss: 4.0896 - val_accuracy: 0.0022\n",
      "Epoch 4/10\n",
      "15/15 [==============================] - 1s 55ms/step - loss: 0.1406 - accuracy: 0.9674 - val_loss: 4.3164 - val_accuracy: 0.0019\n",
      "Epoch 5/10\n",
      "15/15 [==============================] - 1s 56ms/step - loss: 0.1401 - accuracy: 0.9674 - val_loss: 4.5528 - val_accuracy: 0.0022\n",
      "Epoch 6/10\n",
      "15/15 [==============================] - 1s 55ms/step - loss: 0.1396 - accuracy: 0.9676 - val_loss: 4.7635 - val_accuracy: 0.0016\n",
      "Epoch 7/10\n",
      "15/15 [==============================] - 1s 54ms/step - loss: 0.1390 - accuracy: 0.9677 - val_loss: 5.0266 - val_accuracy: 0.0016\n",
      "Epoch 8/10\n",
      "15/15 [==============================] - 1s 54ms/step - loss: 0.1391 - accuracy: 0.9674 - val_loss: 5.2789 - val_accuracy: 0.0022\n",
      "Epoch 9/10\n",
      "15/15 [==============================] - 1s 54ms/step - loss: 0.1386 - accuracy: 0.9679 - val_loss: 5.4351 - val_accuracy: 0.0025\n",
      "Epoch 10/10\n",
      "15/15 [==============================] - 1s 52ms/step - loss: 0.1384 - accuracy: 0.9678 - val_loss: 5.7040 - val_accuracy: 0.0019\n",
      "Epoch 1/10\n",
      "15/15 [==============================] - 1s 61ms/step - loss: 0.1404 - accuracy: 0.9674 - val_loss: 5.9008 - val_accuracy: 8.2463e-04\n",
      "Epoch 2/10\n",
      "15/15 [==============================] - 1s 53ms/step - loss: 0.1391 - accuracy: 0.9677 - val_loss: 6.1278 - val_accuracy: 0.0014\n",
      "Epoch 3/10\n",
      "15/15 [==============================] - 1s 62ms/step - loss: 0.1382 - accuracy: 0.9676 - val_loss: 6.3419 - val_accuracy: 8.2463e-04\n",
      "Epoch 4/10\n",
      "15/15 [==============================] - 1s 54ms/step - loss: 0.1375 - accuracy: 0.9678 - val_loss: 6.5051 - val_accuracy: 8.2463e-04\n",
      "Epoch 5/10\n",
      "15/15 [==============================] - 1s 53ms/step - loss: 0.1369 - accuracy: 0.9678 - val_loss: 6.7490 - val_accuracy: 0.0016\n",
      "Epoch 6/10\n",
      "15/15 [==============================] - 1s 57ms/step - loss: 0.1365 - accuracy: 0.9678 - val_loss: 6.9450 - val_accuracy: 0.0016\n",
      "Epoch 7/10\n",
      "15/15 [==============================] - 1s 54ms/step - loss: 0.1362 - accuracy: 0.9679 - val_loss: 7.1255 - val_accuracy: 0.0016\n",
      "Epoch 8/10\n",
      "15/15 [==============================] - 1s 58ms/step - loss: 0.1358 - accuracy: 0.9679 - val_loss: 7.3510 - val_accuracy: 0.0014\n",
      "Epoch 9/10\n",
      "15/15 [==============================] - 1s 54ms/step - loss: 0.1354 - accuracy: 0.9679 - val_loss: 7.4896 - val_accuracy: 0.0014\n",
      "Epoch 10/10\n",
      "15/15 [==============================] - 1s 57ms/step - loss: 0.1354 - accuracy: 0.9680 - val_loss: 7.6597 - val_accuracy: 0.0014\n",
      "  64/2017 [..............................] - ETA: 3s - loss: 0.8106 - accuracy: 0.9146"
     ]
    },
    {
     "name": "stderr",
     "output_type": "stream",
     "text": [
      "c:\\Users\\UX430\\anaconda3\\lib\\site-packages\\numpy\\core\\_asarray.py:171: VisibleDeprecationWarning: Creating an ndarray from ragged nested sequences (which is a list-or-tuple of lists-or-tuples-or ndarrays with different lengths or shapes) is deprecated. If you meant to do this, you must specify 'dtype=object' when creating the ndarray.\n",
      "  return array(a, dtype, copy=False, order=order, subok=True)\n"
     ]
    },
    {
     "name": "stdout",
     "output_type": "stream",
     "text": [
      "2017/2017 [==============================] - 3s 2ms/step - loss: 0.8249 - accuracy: 0.9086: 0s -\n",
      "756/756 [==============================] - 1s 2ms/step - loss: 0.0000e+00 - accuracy: 0.0033: 0s - loss:\n"
     ]
    },
    {
     "name": "stderr",
     "output_type": "stream",
     "text": [
      "c:\\Users\\UX430\\anaconda3\\lib\\site-packages\\sklearn\\metrics\\_classification.py:1308: UndefinedMetricWarning: Precision and F-score are ill-defined and being set to 0.0 in labels with no predicted samples. Use `zero_division` parameter to control this behavior.\n",
      "  _warn_prf(average, modifier, msg_start, len(result))\n",
      "c:\\Users\\UX430\\anaconda3\\lib\\site-packages\\sklearn\\metrics\\_classification.py:1308: UndefinedMetricWarning: Recall and F-score are ill-defined and being set to 0.0 in labels with no true samples. Use `zero_division` parameter to control this behavior.\n",
      "  _warn_prf(average, modifier, msg_start, len(result))\n",
      "c:\\Users\\UX430\\anaconda3\\lib\\site-packages\\sklearn\\metrics\\_classification.py:1308: UndefinedMetricWarning: Precision and F-score are ill-defined and being set to 0.0 in labels with no predicted samples. Use `zero_division` parameter to control this behavior.\n",
      "  _warn_prf(average, modifier, msg_start, len(result))\n",
      "c:\\Users\\UX430\\anaconda3\\lib\\site-packages\\sklearn\\metrics\\_classification.py:1308: UndefinedMetricWarning: Recall and F-score are ill-defined and being set to 0.0 in labels with no true samples. Use `zero_division` parameter to control this behavior.\n",
      "  _warn_prf(average, modifier, msg_start, len(result))\n",
      "c:\\Users\\UX430\\anaconda3\\lib\\site-packages\\sklearn\\metrics\\_classification.py:1308: UndefinedMetricWarning: Precision and F-score are ill-defined and being set to 0.0 in labels with no predicted samples. Use `zero_division` parameter to control this behavior.\n",
      "  _warn_prf(average, modifier, msg_start, len(result))\n",
      "c:\\Users\\UX430\\anaconda3\\lib\\site-packages\\sklearn\\metrics\\_classification.py:1308: UndefinedMetricWarning: Recall and F-score are ill-defined and being set to 0.0 in labels with no true samples. Use `zero_division` parameter to control this behavior.\n",
      "  _warn_prf(average, modifier, msg_start, len(result))\n"
     ]
    },
    {
     "name": "stdout",
     "output_type": "stream",
     "text": [
      "Epoch 1/10\n",
      "15/15 [==============================] - 1s 61ms/step - loss: 0.1447 - accuracy: 0.9661 - val_loss: 5.0942 - val_accuracy: 0.0011\n",
      "Epoch 2/10\n",
      "15/15 [==============================] - 1s 58ms/step - loss: 0.1437 - accuracy: 0.9665 - val_loss: 5.3008 - val_accuracy: 0.0011\n",
      "Epoch 3/10\n",
      "15/15 [==============================] - 1s 51ms/step - loss: 0.1428 - accuracy: 0.9665 - val_loss: 5.5877 - val_accuracy: 0.0011\n",
      "Epoch 4/10\n",
      "15/15 [==============================] - 1s 52ms/step - loss: 0.1424 - accuracy: 0.9665 - val_loss: 5.8147 - val_accuracy: 0.0014\n",
      "Epoch 5/10\n",
      "15/15 [==============================] - 1s 59ms/step - loss: 0.1422 - accuracy: 0.9665 - val_loss: 6.0737 - val_accuracy: 0.0011\n",
      "Epoch 6/10\n",
      "15/15 [==============================] - 1s 52ms/step - loss: 0.1419 - accuracy: 0.9665 - val_loss: 6.2365 - val_accuracy: 0.0014\n",
      "Epoch 7/10\n",
      "15/15 [==============================] - 1s 57ms/step - loss: 0.1414 - accuracy: 0.9666 - val_loss: 6.5326 - val_accuracy: 0.0016\n",
      "Epoch 8/10\n",
      "15/15 [==============================] - 1s 53ms/step - loss: 0.1412 - accuracy: 0.9666 - val_loss: 6.7265 - val_accuracy: 0.0014\n",
      "Epoch 9/10\n",
      "15/15 [==============================] - 1s 52ms/step - loss: 0.1411 - accuracy: 0.9665 - val_loss: 6.9511 - val_accuracy: 0.0011\n",
      "Epoch 10/10\n",
      "15/15 [==============================] - 1s 59ms/step - loss: 0.1408 - accuracy: 0.9665 - val_loss: 7.0867 - val_accuracy: 0.0014\n",
      "Epoch 1/10\n",
      "15/15 [==============================] - 1s 59ms/step - loss: 0.1391 - accuracy: 0.9677 - val_loss: 7.2465 - val_accuracy: 0.0022\n",
      "Epoch 2/10\n",
      "15/15 [==============================] - 1s 52ms/step - loss: 0.1378 - accuracy: 0.9680 - val_loss: 7.5261 - val_accuracy: 0.0025\n",
      "Epoch 3/10\n",
      "15/15 [==============================] - 1s 59ms/step - loss: 0.1371 - accuracy: 0.9680 - val_loss: 7.7114 - val_accuracy: 0.0014\n",
      "Epoch 4/10\n",
      "15/15 [==============================] - 1s 45ms/step - loss: 0.1366 - accuracy: 0.9680 - val_loss: 7.8770 - val_accuracy: 0.0016\n",
      "Epoch 5/10\n",
      "15/15 [==============================] - 1s 43ms/step - loss: 0.1364 - accuracy: 0.9682 - val_loss: 8.0550 - val_accuracy: 0.0030\n",
      "Epoch 6/10\n",
      "15/15 [==============================] - 1s 50ms/step - loss: 0.1356 - accuracy: 0.9683 - val_loss: 8.1805 - val_accuracy: 0.0022\n",
      "Epoch 7/10\n",
      "15/15 [==============================] - 1s 43ms/step - loss: 0.1355 - accuracy: 0.9680 - val_loss: 8.3937 - val_accuracy: 0.0016\n",
      "Epoch 8/10\n",
      "15/15 [==============================] - 1s 43ms/step - loss: 0.1352 - accuracy: 0.9682 - val_loss: 8.5086 - val_accuracy: 0.0022\n",
      "Epoch 9/10\n",
      "15/15 [==============================] - 1s 43ms/step - loss: 0.1352 - accuracy: 0.9685 - val_loss: 8.6463 - val_accuracy: 0.0022\n",
      "Epoch 10/10\n",
      "15/15 [==============================] - 1s 61ms/step - loss: 0.1349 - accuracy: 0.9680 - val_loss: 8.7714 - val_accuracy: 0.0016\n",
      "Epoch 1/10\n",
      "15/15 [==============================] - 1s 55ms/step - loss: 0.1369 - accuracy: 0.9678 - val_loss: 8.8280 - val_accuracy: 0.0014\n",
      "Epoch 2/10\n",
      "15/15 [==============================] - 1s 41ms/step - loss: 0.1357 - accuracy: 0.9680 - val_loss: 8.9190 - val_accuracy: 0.0014\n",
      "Epoch 3/10\n",
      "15/15 [==============================] - 1s 54ms/step - loss: 0.1349 - accuracy: 0.9683 - val_loss: 9.0065 - val_accuracy: 0.0014\n",
      "Epoch 4/10\n",
      "15/15 [==============================] - 1s 46ms/step - loss: 0.1342 - accuracy: 0.9684 - val_loss: 9.1559 - val_accuracy: 0.0014\n",
      "Epoch 5/10\n",
      "15/15 [==============================] - 1s 43ms/step - loss: 0.1341 - accuracy: 0.9682 - val_loss: 9.1889 - val_accuracy: 0.0014\n",
      "Epoch 6/10\n",
      "15/15 [==============================] - 1s 53ms/step - loss: 0.1334 - accuracy: 0.9686 - val_loss: 9.2887 - val_accuracy: 0.0014\n",
      "Epoch 7/10\n",
      "15/15 [==============================] - 1s 42ms/step - loss: 0.1331 - accuracy: 0.9683 - val_loss: 9.2961 - val_accuracy: 0.0016\n",
      "Epoch 8/10\n",
      "15/15 [==============================] - 1s 42ms/step - loss: 0.1330 - accuracy: 0.9683 - val_loss: 9.3916 - val_accuracy: 0.0016\n",
      "Epoch 9/10\n",
      "15/15 [==============================] - 1s 54ms/step - loss: 0.1324 - accuracy: 0.9687 - val_loss: 9.4207 - val_accuracy: 0.0016\n",
      "Epoch 10/10\n",
      "15/15 [==============================] - 1s 43ms/step - loss: 0.1321 - accuracy: 0.9687 - val_loss: 9.5328 - val_accuracy: 0.0016\n",
      " 102/2017 [>.............................] - ETA: 2s - loss: 0.9065 - accuracy: 0.9010"
     ]
    },
    {
     "name": "stderr",
     "output_type": "stream",
     "text": [
      "c:\\Users\\UX430\\anaconda3\\lib\\site-packages\\numpy\\core\\_asarray.py:171: VisibleDeprecationWarning: Creating an ndarray from ragged nested sequences (which is a list-or-tuple of lists-or-tuples-or ndarrays with different lengths or shapes) is deprecated. If you meant to do this, you must specify 'dtype=object' when creating the ndarray.\n",
      "  return array(a, dtype, copy=False, order=order, subok=True)\n"
     ]
    },
    {
     "name": "stdout",
     "output_type": "stream",
     "text": [
      "2017/2017 [==============================] - 3s 1ms/step - loss: 0.9148 - accuracy: 0.8969\n",
      " 82/756 [==>...........................] - ETA: 0s - loss: 0.0000e+00 - accuracy: 0.0015    "
     ]
    },
    {
     "name": "stderr",
     "output_type": "stream",
     "text": [
      "c:\\Users\\UX430\\anaconda3\\lib\\site-packages\\sklearn\\metrics\\_classification.py:1308: UndefinedMetricWarning: Precision and F-score are ill-defined and being set to 0.0 in labels with no predicted samples. Use `zero_division` parameter to control this behavior.\n",
      "  _warn_prf(average, modifier, msg_start, len(result))\n",
      "c:\\Users\\UX430\\anaconda3\\lib\\site-packages\\sklearn\\metrics\\_classification.py:1308: UndefinedMetricWarning: Precision and F-score are ill-defined and being set to 0.0 in labels with no predicted samples. Use `zero_division` parameter to control this behavior.\n",
      "  _warn_prf(average, modifier, msg_start, len(result))\n",
      "c:\\Users\\UX430\\anaconda3\\lib\\site-packages\\sklearn\\metrics\\_classification.py:1308: UndefinedMetricWarning: Precision and F-score are ill-defined and being set to 0.0 in labels with no predicted samples. Use `zero_division` parameter to control this behavior.\n",
      "  _warn_prf(average, modifier, msg_start, len(result))\n"
     ]
    },
    {
     "name": "stdout",
     "output_type": "stream",
     "text": [
      "756/756 [==============================] - 1s 1ms/step - loss: 0.0000e+00 - accuracy: 0.0014\n"
     ]
    },
    {
     "name": "stderr",
     "output_type": "stream",
     "text": [
      "c:\\Users\\UX430\\anaconda3\\lib\\site-packages\\sklearn\\metrics\\_classification.py:1308: UndefinedMetricWarning: Precision and F-score are ill-defined and being set to 0.0 in labels with no predicted samples. Use `zero_division` parameter to control this behavior.\n",
      "  _warn_prf(average, modifier, msg_start, len(result))\n",
      "c:\\Users\\UX430\\anaconda3\\lib\\site-packages\\sklearn\\metrics\\_classification.py:1308: UndefinedMetricWarning: Recall and F-score are ill-defined and being set to 0.0 in labels with no true samples. Use `zero_division` parameter to control this behavior.\n",
      "  _warn_prf(average, modifier, msg_start, len(result))\n",
      "c:\\Users\\UX430\\anaconda3\\lib\\site-packages\\sklearn\\metrics\\_classification.py:1308: UndefinedMetricWarning: Precision and F-score are ill-defined and being set to 0.0 in labels with no predicted samples. Use `zero_division` parameter to control this behavior.\n",
      "  _warn_prf(average, modifier, msg_start, len(result))\n",
      "c:\\Users\\UX430\\anaconda3\\lib\\site-packages\\sklearn\\metrics\\_classification.py:1308: UndefinedMetricWarning: Recall and F-score are ill-defined and being set to 0.0 in labels with no true samples. Use `zero_division` parameter to control this behavior.\n",
      "  _warn_prf(average, modifier, msg_start, len(result))\n",
      "c:\\Users\\UX430\\anaconda3\\lib\\site-packages\\sklearn\\metrics\\_classification.py:1308: UndefinedMetricWarning: Precision and F-score are ill-defined and being set to 0.0 in labels with no predicted samples. Use `zero_division` parameter to control this behavior.\n",
      "  _warn_prf(average, modifier, msg_start, len(result))\n",
      "c:\\Users\\UX430\\anaconda3\\lib\\site-packages\\sklearn\\metrics\\_classification.py:1308: UndefinedMetricWarning: Recall and F-score are ill-defined and being set to 0.0 in labels with no true samples. Use `zero_division` parameter to control this behavior.\n",
      "  _warn_prf(average, modifier, msg_start, len(result))\n"
     ]
    },
    {
     "name": "stdout",
     "output_type": "stream",
     "text": [
      "Epoch 1/10\n",
      "15/15 [==============================] - 1s 52ms/step - loss: 0.1403 - accuracy: 0.9671 - val_loss: 8.5171 - val_accuracy: 0.0019\n",
      "Epoch 2/10\n",
      "15/15 [==============================] - 1s 47ms/step - loss: 0.1393 - accuracy: 0.9671 - val_loss: 8.5230 - val_accuracy: 0.0019\n",
      "Epoch 3/10\n",
      "15/15 [==============================] - 1s 45ms/step - loss: 0.1388 - accuracy: 0.9671 - val_loss: 8.7206 - val_accuracy: 0.0019\n",
      "Epoch 4/10\n",
      "15/15 [==============================] - 1s 43ms/step - loss: 0.1388 - accuracy: 0.9671 - val_loss: 8.8887 - val_accuracy: 0.0014\n",
      "Epoch 5/10\n",
      "15/15 [==============================] - 1s 44ms/step - loss: 0.1382 - accuracy: 0.9672 - val_loss: 8.9589 - val_accuracy: 0.0019\n",
      "Epoch 6/10\n",
      "15/15 [==============================] - 1s 50ms/step - loss: 0.1383 - accuracy: 0.9671 - val_loss: 9.1170 - val_accuracy: 0.0016\n",
      "Epoch 7/10\n",
      "15/15 [==============================] - 1s 40ms/step - loss: 0.1382 - accuracy: 0.9672 - val_loss: 9.1704 - val_accuracy: 0.0016\n",
      "Epoch 8/10\n",
      "15/15 [==============================] - 1s 41ms/step - loss: 0.1376 - accuracy: 0.9671 - val_loss: 9.2479 - val_accuracy: 0.0019\n",
      "Epoch 9/10\n",
      "15/15 [==============================] - 1s 46ms/step - loss: 0.1375 - accuracy: 0.9670 - val_loss: 9.3724 - val_accuracy: 0.0016\n",
      "Epoch 10/10\n",
      "15/15 [==============================] - 1s 44ms/step - loss: 0.1371 - accuracy: 0.9672 - val_loss: 9.4887 - val_accuracy: 0.0016\n",
      "Epoch 1/10\n",
      "15/15 [==============================] - 1s 52ms/step - loss: 0.1360 - accuracy: 0.9680 - val_loss: 9.4581 - val_accuracy: 0.0016\n",
      "Epoch 2/10\n",
      "15/15 [==============================] - 1s 40ms/step - loss: 0.1347 - accuracy: 0.9682 - val_loss: 9.7670 - val_accuracy: 0.0019\n",
      "Epoch 3/10\n",
      "15/15 [==============================] - 1s 53ms/step - loss: 0.1340 - accuracy: 0.9683 - val_loss: 9.7740 - val_accuracy: 0.0027\n",
      "Epoch 4/10\n",
      "15/15 [==============================] - 1s 44ms/step - loss: 0.1334 - accuracy: 0.9686 - val_loss: 9.8493 - val_accuracy: 0.0014\n",
      "Epoch 5/10\n",
      "15/15 [==============================] - 1s 41ms/step - loss: 0.1331 - accuracy: 0.9682 - val_loss: 9.8482 - val_accuracy: 0.0016\n",
      "Epoch 6/10\n",
      "15/15 [==============================] - 1s 53ms/step - loss: 0.1328 - accuracy: 0.9687 - val_loss: 9.9321 - val_accuracy: 0.0030\n",
      "Epoch 7/10\n",
      "15/15 [==============================] - 1s 43ms/step - loss: 0.1325 - accuracy: 0.9687 - val_loss: 10.0070 - val_accuracy: 0.0022\n",
      "Epoch 8/10\n",
      "15/15 [==============================] - 1s 42ms/step - loss: 0.1320 - accuracy: 0.9686 - val_loss: 10.0673 - val_accuracy: 0.0016\n",
      "Epoch 9/10\n",
      "15/15 [==============================] - 1s 49ms/step - loss: 0.1317 - accuracy: 0.9687 - val_loss: 10.1466 - val_accuracy: 0.0025\n",
      "Epoch 10/10\n",
      "15/15 [==============================] - 1s 44ms/step - loss: 0.1316 - accuracy: 0.9689 - val_loss: 10.0983 - val_accuracy: 0.0019\n",
      "Epoch 1/10\n",
      "15/15 [==============================] - 1s 52ms/step - loss: 0.1342 - accuracy: 0.9683 - val_loss: 10.1785 - val_accuracy: 0.0011\n",
      "Epoch 2/10\n",
      "15/15 [==============================] - 1s 48ms/step - loss: 0.1327 - accuracy: 0.9687 - val_loss: 10.1361 - val_accuracy: 0.0016\n",
      "Epoch 3/10\n",
      "15/15 [==============================] - 1s 44ms/step - loss: 0.1321 - accuracy: 0.9691 - val_loss: 10.2078 - val_accuracy: 0.0016\n",
      "Epoch 4/10\n",
      "15/15 [==============================] - 1s 49ms/step - loss: 0.1316 - accuracy: 0.9689 - val_loss: 10.2810 - val_accuracy: 0.0016\n",
      "Epoch 5/10\n",
      "15/15 [==============================] - 1s 46ms/step - loss: 0.1313 - accuracy: 0.9688 - val_loss: 10.2934 - val_accuracy: 0.0016\n",
      "Epoch 6/10\n",
      "15/15 [==============================] - 1s 45ms/step - loss: 0.1308 - accuracy: 0.9689 - val_loss: 10.3161 - val_accuracy: 0.0022\n",
      "Epoch 7/10\n",
      "15/15 [==============================] - 1s 41ms/step - loss: 0.1304 - accuracy: 0.9689 - val_loss: 10.4037 - val_accuracy: 0.0019\n",
      "Epoch 8/10\n",
      "15/15 [==============================] - 1s 42ms/step - loss: 0.1302 - accuracy: 0.9687 - val_loss: 10.4862 - val_accuracy: 0.0014\n",
      "Epoch 9/10\n",
      "15/15 [==============================] - 1s 50ms/step - loss: 0.1298 - accuracy: 0.9690 - val_loss: 10.4598 - val_accuracy: 0.0014\n",
      "Epoch 10/10\n",
      "15/15 [==============================] - 1s 42ms/step - loss: 0.1293 - accuracy: 0.9690 - val_loss: 10.6358 - val_accuracy: 0.0025\n",
      "  65/2017 [..............................] - ETA: 3s - loss: 1.0413 - accuracy: 0.8346"
     ]
    },
    {
     "name": "stderr",
     "output_type": "stream",
     "text": [
      "c:\\Users\\UX430\\anaconda3\\lib\\site-packages\\numpy\\core\\_asarray.py:171: VisibleDeprecationWarning: Creating an ndarray from ragged nested sequences (which is a list-or-tuple of lists-or-tuples-or ndarrays with different lengths or shapes) is deprecated. If you meant to do this, you must specify 'dtype=object' when creating the ndarray.\n",
      "  return array(a, dtype, copy=False, order=order, subok=True)\n"
     ]
    },
    {
     "name": "stdout",
     "output_type": "stream",
     "text": [
      "2017/2017 [==============================] - 3s 2ms/step - loss: 1.0743 - accuracy: 0.8281\n",
      " 76/756 [==>...........................] - ETA: 0s - loss: 0.0000e+00 - accuracy: 0.0012    "
     ]
    },
    {
     "name": "stderr",
     "output_type": "stream",
     "text": [
      "c:\\Users\\UX430\\anaconda3\\lib\\site-packages\\sklearn\\metrics\\_classification.py:1308: UndefinedMetricWarning: Precision and F-score are ill-defined and being set to 0.0 in labels with no predicted samples. Use `zero_division` parameter to control this behavior.\n",
      "  _warn_prf(average, modifier, msg_start, len(result))\n",
      "c:\\Users\\UX430\\anaconda3\\lib\\site-packages\\sklearn\\metrics\\_classification.py:1308: UndefinedMetricWarning: Precision and F-score are ill-defined and being set to 0.0 in labels with no predicted samples. Use `zero_division` parameter to control this behavior.\n",
      "  _warn_prf(average, modifier, msg_start, len(result))\n",
      "c:\\Users\\UX430\\anaconda3\\lib\\site-packages\\sklearn\\metrics\\_classification.py:1308: UndefinedMetricWarning: Precision and F-score are ill-defined and being set to 0.0 in labels with no predicted samples. Use `zero_division` parameter to control this behavior.\n",
      "  _warn_prf(average, modifier, msg_start, len(result))\n"
     ]
    },
    {
     "name": "stdout",
     "output_type": "stream",
     "text": [
      "756/756 [==============================] - 1s 1ms/step - loss: 0.0000e+00 - accuracy: 0.0015\n"
     ]
    },
    {
     "name": "stderr",
     "output_type": "stream",
     "text": [
      "c:\\Users\\UX430\\anaconda3\\lib\\site-packages\\sklearn\\metrics\\_classification.py:1308: UndefinedMetricWarning: Precision and F-score are ill-defined and being set to 0.0 in labels with no predicted samples. Use `zero_division` parameter to control this behavior.\n",
      "  _warn_prf(average, modifier, msg_start, len(result))\n",
      "c:\\Users\\UX430\\anaconda3\\lib\\site-packages\\sklearn\\metrics\\_classification.py:1308: UndefinedMetricWarning: Recall and F-score are ill-defined and being set to 0.0 in labels with no true samples. Use `zero_division` parameter to control this behavior.\n",
      "  _warn_prf(average, modifier, msg_start, len(result))\n",
      "c:\\Users\\UX430\\anaconda3\\lib\\site-packages\\sklearn\\metrics\\_classification.py:1308: UndefinedMetricWarning: Precision and F-score are ill-defined and being set to 0.0 in labels with no predicted samples. Use `zero_division` parameter to control this behavior.\n",
      "  _warn_prf(average, modifier, msg_start, len(result))\n",
      "c:\\Users\\UX430\\anaconda3\\lib\\site-packages\\sklearn\\metrics\\_classification.py:1308: UndefinedMetricWarning: Recall and F-score are ill-defined and being set to 0.0 in labels with no true samples. Use `zero_division` parameter to control this behavior.\n",
      "  _warn_prf(average, modifier, msg_start, len(result))\n",
      "c:\\Users\\UX430\\anaconda3\\lib\\site-packages\\sklearn\\metrics\\_classification.py:1308: UndefinedMetricWarning: Precision and F-score are ill-defined and being set to 0.0 in labels with no predicted samples. Use `zero_division` parameter to control this behavior.\n",
      "  _warn_prf(average, modifier, msg_start, len(result))\n",
      "c:\\Users\\UX430\\anaconda3\\lib\\site-packages\\sklearn\\metrics\\_classification.py:1308: UndefinedMetricWarning: Recall and F-score are ill-defined and being set to 0.0 in labels with no true samples. Use `zero_division` parameter to control this behavior.\n",
      "  _warn_prf(average, modifier, msg_start, len(result))\n"
     ]
    },
    {
     "name": "stdout",
     "output_type": "stream",
     "text": [
      "Epoch 1/10\n",
      "15/15 [==============================] - 1s 64ms/step - loss: 0.1372 - accuracy: 0.9674 - val_loss: 10.0182 - val_accuracy: 0.0019\n",
      "Epoch 2/10\n",
      "15/15 [==============================] - 1s 46ms/step - loss: 0.1363 - accuracy: 0.9673 - val_loss: 10.1293 - val_accuracy: 0.0019\n",
      "Epoch 3/10\n",
      "15/15 [==============================] - 1s 46ms/step - loss: 0.1359 - accuracy: 0.9674 - val_loss: 10.2018 - val_accuracy: 0.0019\n",
      "Epoch 4/10\n",
      "15/15 [==============================] - 1s 56ms/step - loss: 0.1356 - accuracy: 0.9675 - val_loss: 10.3151 - val_accuracy: 0.0019\n",
      "Epoch 5/10\n",
      "15/15 [==============================] - 1s 44ms/step - loss: 0.1356 - accuracy: 0.9675 - val_loss: 10.3404 - val_accuracy: 0.0019\n",
      "Epoch 6/10\n",
      "15/15 [==============================] - 1s 43ms/step - loss: 0.1351 - accuracy: 0.9675 - val_loss: 10.4016 - val_accuracy: 0.0016\n",
      "Epoch 7/10\n",
      "15/15 [==============================] - 1s 50ms/step - loss: 0.1347 - accuracy: 0.9675 - val_loss: 10.4059 - val_accuracy: 0.0019\n",
      "Epoch 8/10\n",
      "15/15 [==============================] - 1s 46ms/step - loss: 0.1344 - accuracy: 0.9676 - val_loss: 10.4859 - val_accuracy: 0.0019\n",
      "Epoch 9/10\n",
      "15/15 [==============================] - 1s 50ms/step - loss: 0.1342 - accuracy: 0.9675 - val_loss: 10.5471 - val_accuracy: 0.0019\n",
      "Epoch 10/10\n",
      "15/15 [==============================] - 1s 56ms/step - loss: 0.1342 - accuracy: 0.9674 - val_loss: 10.6033 - val_accuracy: 0.0019\n",
      "Epoch 1/10\n",
      "15/15 [==============================] - 1s 58ms/step - loss: 0.1333 - accuracy: 0.9684 - val_loss: 10.5669 - val_accuracy: 0.0027\n",
      "Epoch 2/10\n",
      "15/15 [==============================] - 1s 44ms/step - loss: 0.1322 - accuracy: 0.9686 - val_loss: 10.6524 - val_accuracy: 0.0022\n",
      "Epoch 3/10\n",
      "15/15 [==============================] - 1s 59ms/step - loss: 0.1311 - accuracy: 0.9686 - val_loss: 10.6840 - val_accuracy: 0.0038\n",
      "Epoch 4/10\n",
      "15/15 [==============================] - 1s 47ms/step - loss: 0.1309 - accuracy: 0.9688 - val_loss: 10.7592 - val_accuracy: 0.0036\n",
      "Epoch 5/10\n",
      "15/15 [==============================] - 1s 44ms/step - loss: 0.1303 - accuracy: 0.9689 - val_loss: 10.7734 - val_accuracy: 0.0025\n",
      "Epoch 6/10\n",
      "15/15 [==============================] - 1s 53ms/step - loss: 0.1300 - accuracy: 0.9690 - val_loss: 10.7634 - val_accuracy: 0.0027\n",
      "Epoch 7/10\n",
      "15/15 [==============================] - 1s 45ms/step - loss: 0.1302 - accuracy: 0.9689 - val_loss: 10.7784 - val_accuracy: 0.0027\n",
      "Epoch 8/10\n",
      "15/15 [==============================] - 1s 45ms/step - loss: 0.1292 - accuracy: 0.9691 - val_loss: 10.9380 - val_accuracy: 0.0019\n",
      "Epoch 9/10\n",
      "15/15 [==============================] - 1s 59ms/step - loss: 0.1291 - accuracy: 0.9689 - val_loss: 10.8945 - val_accuracy: 0.0025\n",
      "Epoch 10/10\n",
      "15/15 [==============================] - 1s 47ms/step - loss: 0.1290 - accuracy: 0.9690 - val_loss: 10.9917 - val_accuracy: 0.0019\n",
      "Epoch 1/10\n",
      "15/15 [==============================] - 1s 63ms/step - loss: 0.1319 - accuracy: 0.9686 - val_loss: 10.8836 - val_accuracy: 0.0027\n",
      "Epoch 2/10\n",
      "15/15 [==============================] - 1s 50ms/step - loss: 0.1306 - accuracy: 0.9688 - val_loss: 11.0009 - val_accuracy: 0.0016\n",
      "Epoch 3/10\n",
      "15/15 [==============================] - 1s 48ms/step - loss: 0.1297 - accuracy: 0.9689 - val_loss: 11.0063 - val_accuracy: 0.0033\n",
      "Epoch 4/10\n",
      "15/15 [==============================] - 1s 46ms/step - loss: 0.1291 - accuracy: 0.9690 - val_loss: 11.0664 - val_accuracy: 0.0016\n",
      "Epoch 5/10\n",
      "15/15 [==============================] - 1s 52ms/step - loss: 0.1288 - accuracy: 0.9689 - val_loss: 10.9939 - val_accuracy: 0.0016\n",
      "Epoch 6/10\n",
      "15/15 [==============================] - 1s 44ms/step - loss: 0.1283 - accuracy: 0.9690 - val_loss: 11.1372 - val_accuracy: 0.0022\n",
      "Epoch 7/10\n",
      "15/15 [==============================] - 1s 44ms/step - loss: 0.1286 - accuracy: 0.9689 - val_loss: 11.1500 - val_accuracy: 0.0033\n",
      "Epoch 8/10\n",
      "15/15 [==============================] - 1s 46ms/step - loss: 0.1279 - accuracy: 0.9691 - val_loss: 11.2302 - val_accuracy: 0.0019\n",
      "Epoch 9/10\n",
      "15/15 [==============================] - 1s 50ms/step - loss: 0.1280 - accuracy: 0.9689 - val_loss: 11.2021 - val_accuracy: 0.0019\n",
      "Epoch 10/10\n",
      "15/15 [==============================] - 1s 47ms/step - loss: 0.1276 - accuracy: 0.9689 - val_loss: 11.3223 - val_accuracy: 0.0016\n",
      "  57/2017 [..............................] - ETA: 3s - loss: 1.1769 - accuracy: 0.7560"
     ]
    },
    {
     "name": "stderr",
     "output_type": "stream",
     "text": [
      "c:\\Users\\UX430\\anaconda3\\lib\\site-packages\\numpy\\core\\_asarray.py:171: VisibleDeprecationWarning: Creating an ndarray from ragged nested sequences (which is a list-or-tuple of lists-or-tuples-or ndarrays with different lengths or shapes) is deprecated. If you meant to do this, you must specify 'dtype=object' when creating the ndarray.\n",
      "  return array(a, dtype, copy=False, order=order, subok=True)\n"
     ]
    },
    {
     "name": "stdout",
     "output_type": "stream",
     "text": [
      "2017/2017 [==============================] - 3s 1ms/step - loss: 1.2179 - accuracy: 0.7500\n",
      " 76/756 [==>...........................] - ETA: 0s - loss: 0.0000e+00 - accuracy: 0.0016  "
     ]
    },
    {
     "name": "stderr",
     "output_type": "stream",
     "text": [
      "c:\\Users\\UX430\\anaconda3\\lib\\site-packages\\sklearn\\metrics\\_classification.py:1308: UndefinedMetricWarning: Precision and F-score are ill-defined and being set to 0.0 in labels with no predicted samples. Use `zero_division` parameter to control this behavior.\n",
      "  _warn_prf(average, modifier, msg_start, len(result))\n",
      "c:\\Users\\UX430\\anaconda3\\lib\\site-packages\\sklearn\\metrics\\_classification.py:1308: UndefinedMetricWarning: Precision and F-score are ill-defined and being set to 0.0 in labels with no predicted samples. Use `zero_division` parameter to control this behavior.\n",
      "  _warn_prf(average, modifier, msg_start, len(result))\n",
      "c:\\Users\\UX430\\anaconda3\\lib\\site-packages\\sklearn\\metrics\\_classification.py:1308: UndefinedMetricWarning: Precision and F-score are ill-defined and being set to 0.0 in labels with no predicted samples. Use `zero_division` parameter to control this behavior.\n",
      "  _warn_prf(average, modifier, msg_start, len(result))\n"
     ]
    },
    {
     "name": "stdout",
     "output_type": "stream",
     "text": [
      "756/756 [==============================] - 1s 2ms/step - loss: 0.0000e+00 - accuracy: 0.0025\n"
     ]
    },
    {
     "name": "stderr",
     "output_type": "stream",
     "text": [
      "c:\\Users\\UX430\\anaconda3\\lib\\site-packages\\sklearn\\metrics\\_classification.py:1308: UndefinedMetricWarning: Precision and F-score are ill-defined and being set to 0.0 in labels with no predicted samples. Use `zero_division` parameter to control this behavior.\n",
      "  _warn_prf(average, modifier, msg_start, len(result))\n",
      "c:\\Users\\UX430\\anaconda3\\lib\\site-packages\\sklearn\\metrics\\_classification.py:1308: UndefinedMetricWarning: Recall and F-score are ill-defined and being set to 0.0 in labels with no true samples. Use `zero_division` parameter to control this behavior.\n",
      "  _warn_prf(average, modifier, msg_start, len(result))\n",
      "c:\\Users\\UX430\\anaconda3\\lib\\site-packages\\sklearn\\metrics\\_classification.py:1308: UndefinedMetricWarning: Precision and F-score are ill-defined and being set to 0.0 in labels with no predicted samples. Use `zero_division` parameter to control this behavior.\n",
      "  _warn_prf(average, modifier, msg_start, len(result))\n",
      "c:\\Users\\UX430\\anaconda3\\lib\\site-packages\\sklearn\\metrics\\_classification.py:1308: UndefinedMetricWarning: Recall and F-score are ill-defined and being set to 0.0 in labels with no true samples. Use `zero_division` parameter to control this behavior.\n",
      "  _warn_prf(average, modifier, msg_start, len(result))\n",
      "c:\\Users\\UX430\\anaconda3\\lib\\site-packages\\sklearn\\metrics\\_classification.py:1308: UndefinedMetricWarning: Precision and F-score are ill-defined and being set to 0.0 in labels with no predicted samples. Use `zero_division` parameter to control this behavior.\n",
      "  _warn_prf(average, modifier, msg_start, len(result))\n",
      "c:\\Users\\UX430\\anaconda3\\lib\\site-packages\\sklearn\\metrics\\_classification.py:1308: UndefinedMetricWarning: Recall and F-score are ill-defined and being set to 0.0 in labels with no true samples. Use `zero_division` parameter to control this behavior.\n",
      "  _warn_prf(average, modifier, msg_start, len(result))\n"
     ]
    },
    {
     "name": "stdout",
     "output_type": "stream",
     "text": [
      "Epoch 1/10\n",
      "15/15 [==============================] - 1s 53ms/step - loss: 0.1348 - accuracy: 0.9677 - val_loss: 10.8790 - val_accuracy: 0.0022\n",
      "Epoch 2/10\n",
      "15/15 [==============================] - 1s 50ms/step - loss: 0.1335 - accuracy: 0.9676 - val_loss: 10.9100 - val_accuracy: 0.0019\n",
      "Epoch 3/10\n",
      "15/15 [==============================] - 1s 51ms/step - loss: 0.1333 - accuracy: 0.9676 - val_loss: 11.0079 - val_accuracy: 0.0022\n",
      "Epoch 4/10\n",
      "15/15 [==============================] - 1s 45ms/step - loss: 0.1329 - accuracy: 0.9676 - val_loss: 11.0605 - val_accuracy: 0.0019\n",
      "Epoch 5/10\n",
      "15/15 [==============================] - 1s 53ms/step - loss: 0.1326 - accuracy: 0.9678 - val_loss: 11.1229 - val_accuracy: 0.0022\n",
      "Epoch 6/10\n",
      "15/15 [==============================] - 1s 42ms/step - loss: 0.1322 - accuracy: 0.9680 - val_loss: 11.1851 - val_accuracy: 0.0019\n",
      "Epoch 7/10\n",
      "15/15 [==============================] - 1s 42ms/step - loss: 0.1320 - accuracy: 0.9679 - val_loss: 11.2363 - val_accuracy: 0.0019\n",
      "Epoch 8/10\n",
      "15/15 [==============================] - 1s 49ms/step - loss: 0.1319 - accuracy: 0.9678 - val_loss: 11.2274 - val_accuracy: 0.0019\n",
      "Epoch 9/10\n",
      "15/15 [==============================] - 1s 43ms/step - loss: 0.1321 - accuracy: 0.9676 - val_loss: 11.2934 - val_accuracy: 0.0019\n",
      "Epoch 10/10\n",
      "15/15 [==============================] - 1s 43ms/step - loss: 0.1318 - accuracy: 0.9677 - val_loss: 11.3889 - val_accuracy: 0.0019\n",
      "Epoch 1/10\n",
      "15/15 [==============================] - 1s 52ms/step - loss: 0.1308 - accuracy: 0.9684 - val_loss: 11.1751 - val_accuracy: 0.0030\n",
      "Epoch 2/10\n",
      "15/15 [==============================] - 1s 50ms/step - loss: 0.1296 - accuracy: 0.9687 - val_loss: 11.3844 - val_accuracy: 0.0036\n",
      "Epoch 3/10\n",
      "15/15 [==============================] - 1s 47ms/step - loss: 0.1290 - accuracy: 0.9691 - val_loss: 11.3515 - val_accuracy: 0.0047\n",
      "Epoch 4/10\n",
      "15/15 [==============================] - 1s 43ms/step - loss: 0.1284 - accuracy: 0.9693 - val_loss: 11.3567 - val_accuracy: 0.0044\n",
      "Epoch 5/10\n",
      "15/15 [==============================] - 1s 53ms/step - loss: 0.1278 - accuracy: 0.9692 - val_loss: 11.3764 - val_accuracy: 0.0038\n",
      "Epoch 6/10\n",
      "15/15 [==============================] - 1s 43ms/step - loss: 0.1275 - accuracy: 0.9696 - val_loss: 11.4830 - val_accuracy: 0.0044\n",
      "Epoch 7/10\n",
      "15/15 [==============================] - 1s 43ms/step - loss: 0.1272 - accuracy: 0.9691 - val_loss: 11.4445 - val_accuracy: 0.0025\n",
      "Epoch 8/10\n",
      "15/15 [==============================] - 1s 42ms/step - loss: 0.1270 - accuracy: 0.9692 - val_loss: 11.5732 - val_accuracy: 0.0030\n",
      "Epoch 9/10\n",
      "15/15 [==============================] - 1s 49ms/step - loss: 0.1269 - accuracy: 0.9693 - val_loss: 11.5909 - val_accuracy: 0.0033\n",
      "Epoch 10/10\n",
      "15/15 [==============================] - 1s 44ms/step - loss: 0.1262 - accuracy: 0.9694 - val_loss: 11.5937 - val_accuracy: 0.0044\n",
      "Epoch 1/10\n",
      "15/15 [==============================] - 1s 54ms/step - loss: 0.1295 - accuracy: 0.9688 - val_loss: 11.6955 - val_accuracy: 0.0019\n",
      "Epoch 2/10\n",
      "15/15 [==============================] - 1s 51ms/step - loss: 0.1282 - accuracy: 0.9691 - val_loss: 11.6096 - val_accuracy: 0.0019\n",
      "Epoch 3/10\n",
      "15/15 [==============================] - 1s 45ms/step - loss: 0.1275 - accuracy: 0.9690 - val_loss: 11.7130 - val_accuracy: 0.0033\n",
      "Epoch 4/10\n",
      "15/15 [==============================] - 1s 45ms/step - loss: 0.1272 - accuracy: 0.9691 - val_loss: 11.6707 - val_accuracy: 0.0019\n",
      "Epoch 5/10\n",
      "15/15 [==============================] - 1s 56ms/step - loss: 0.1271 - accuracy: 0.9691 - val_loss: 11.7280 - val_accuracy: 0.0033\n",
      "Epoch 6/10\n",
      "15/15 [==============================] - 1s 43ms/step - loss: 0.1261 - accuracy: 0.9693 - val_loss: 11.6672 - val_accuracy: 0.0033\n",
      "Epoch 7/10\n",
      "15/15 [==============================] - 1s 43ms/step - loss: 0.1261 - accuracy: 0.9694 - val_loss: 11.7873 - val_accuracy: 0.0030\n",
      "Epoch 8/10\n",
      "15/15 [==============================] - 1s 51ms/step - loss: 0.1255 - accuracy: 0.9693 - val_loss: 11.7862 - val_accuracy: 0.0033\n",
      "Epoch 9/10\n",
      "15/15 [==============================] - 1s 45ms/step - loss: 0.1253 - accuracy: 0.9694 - val_loss: 11.8089 - val_accuracy: 0.0027\n",
      "Epoch 10/10\n",
      "15/15 [==============================] - 1s 42ms/step - loss: 0.1253 - accuracy: 0.9693 - val_loss: 11.8811 - val_accuracy: 0.0014\n",
      "  73/2017 [>.............................] - ETA: 2s - loss: 1.3091 - accuracy: 0.5685"
     ]
    },
    {
     "name": "stderr",
     "output_type": "stream",
     "text": [
      "c:\\Users\\UX430\\anaconda3\\lib\\site-packages\\numpy\\core\\_asarray.py:171: VisibleDeprecationWarning: Creating an ndarray from ragged nested sequences (which is a list-or-tuple of lists-or-tuples-or ndarrays with different lengths or shapes) is deprecated. If you meant to do this, you must specify 'dtype=object' when creating the ndarray.\n",
      "  return array(a, dtype, copy=False, order=order, subok=True)\n"
     ]
    },
    {
     "name": "stdout",
     "output_type": "stream",
     "text": [
      "2017/2017 [==============================] - 3s 1ms/step - loss: 1.3567 - accuracy: 0.5480\n",
      " 77/756 [==>...........................] - ETA: 0s - loss: 0.0000e+00 - accuracy: 0.0012    "
     ]
    },
    {
     "name": "stderr",
     "output_type": "stream",
     "text": [
      "c:\\Users\\UX430\\anaconda3\\lib\\site-packages\\sklearn\\metrics\\_classification.py:1308: UndefinedMetricWarning: Precision and F-score are ill-defined and being set to 0.0 in labels with no predicted samples. Use `zero_division` parameter to control this behavior.\n",
      "  _warn_prf(average, modifier, msg_start, len(result))\n",
      "c:\\Users\\UX430\\anaconda3\\lib\\site-packages\\sklearn\\metrics\\_classification.py:1308: UndefinedMetricWarning: Precision and F-score are ill-defined and being set to 0.0 in labels with no predicted samples. Use `zero_division` parameter to control this behavior.\n",
      "  _warn_prf(average, modifier, msg_start, len(result))\n",
      "c:\\Users\\UX430\\anaconda3\\lib\\site-packages\\sklearn\\metrics\\_classification.py:1308: UndefinedMetricWarning: Precision and F-score are ill-defined and being set to 0.0 in labels with no predicted samples. Use `zero_division` parameter to control this behavior.\n",
      "  _warn_prf(average, modifier, msg_start, len(result))\n"
     ]
    },
    {
     "name": "stdout",
     "output_type": "stream",
     "text": [
      "756/756 [==============================] - 1s 1ms/step - loss: 0.0000e+00 - accuracy: 0.0020\n"
     ]
    },
    {
     "name": "stderr",
     "output_type": "stream",
     "text": [
      "c:\\Users\\UX430\\anaconda3\\lib\\site-packages\\sklearn\\metrics\\_classification.py:1308: UndefinedMetricWarning: Precision and F-score are ill-defined and being set to 0.0 in labels with no predicted samples. Use `zero_division` parameter to control this behavior.\n",
      "  _warn_prf(average, modifier, msg_start, len(result))\n",
      "c:\\Users\\UX430\\anaconda3\\lib\\site-packages\\sklearn\\metrics\\_classification.py:1308: UndefinedMetricWarning: Recall and F-score are ill-defined and being set to 0.0 in labels with no true samples. Use `zero_division` parameter to control this behavior.\n",
      "  _warn_prf(average, modifier, msg_start, len(result))\n",
      "c:\\Users\\UX430\\anaconda3\\lib\\site-packages\\sklearn\\metrics\\_classification.py:1308: UndefinedMetricWarning: Precision and F-score are ill-defined and being set to 0.0 in labels with no predicted samples. Use `zero_division` parameter to control this behavior.\n",
      "  _warn_prf(average, modifier, msg_start, len(result))\n",
      "c:\\Users\\UX430\\anaconda3\\lib\\site-packages\\sklearn\\metrics\\_classification.py:1308: UndefinedMetricWarning: Recall and F-score are ill-defined and being set to 0.0 in labels with no true samples. Use `zero_division` parameter to control this behavior.\n",
      "  _warn_prf(average, modifier, msg_start, len(result))\n",
      "c:\\Users\\UX430\\anaconda3\\lib\\site-packages\\sklearn\\metrics\\_classification.py:1308: UndefinedMetricWarning: Precision and F-score are ill-defined and being set to 0.0 in labels with no predicted samples. Use `zero_division` parameter to control this behavior.\n",
      "  _warn_prf(average, modifier, msg_start, len(result))\n",
      "c:\\Users\\UX430\\anaconda3\\lib\\site-packages\\sklearn\\metrics\\_classification.py:1308: UndefinedMetricWarning: Recall and F-score are ill-defined and being set to 0.0 in labels with no true samples. Use `zero_division` parameter to control this behavior.\n",
      "  _warn_prf(average, modifier, msg_start, len(result))\n"
     ]
    },
    {
     "name": "stdout",
     "output_type": "stream",
     "text": [
      "Epoch 1/10\n",
      "15/15 [==============================] - 1s 56ms/step - loss: 0.1319 - accuracy: 0.9678 - val_loss: 11.4719 - val_accuracy: 0.0019\n",
      "Epoch 2/10\n",
      "15/15 [==============================] - 1s 40ms/step - loss: 0.1312 - accuracy: 0.9681 - val_loss: 11.5585 - val_accuracy: 0.0025\n",
      "Epoch 3/10\n",
      "15/15 [==============================] - 1s 43ms/step - loss: 0.1307 - accuracy: 0.9680 - val_loss: 11.6585 - val_accuracy: 0.0022\n",
      "Epoch 4/10\n",
      "15/15 [==============================] - 1s 53ms/step - loss: 0.1305 - accuracy: 0.9683 - val_loss: 11.6729 - val_accuracy: 0.0019\n",
      "Epoch 5/10\n",
      "15/15 [==============================] - 1s 41ms/step - loss: 0.1301 - accuracy: 0.9683 - val_loss: 11.6886 - val_accuracy: 0.0019\n",
      "Epoch 6/10\n",
      "15/15 [==============================] - 1s 41ms/step - loss: 0.1298 - accuracy: 0.9681 - val_loss: 11.7666 - val_accuracy: 0.0022\n",
      "Epoch 7/10\n",
      "15/15 [==============================] - 1s 49ms/step - loss: 0.1299 - accuracy: 0.9682 - val_loss: 11.7652 - val_accuracy: 0.0019\n",
      "Epoch 8/10\n",
      "15/15 [==============================] - 1s 42ms/step - loss: 0.1297 - accuracy: 0.9681 - val_loss: 11.7729 - val_accuracy: 0.0022\n",
      "Epoch 9/10\n",
      "15/15 [==============================] - 1s 41ms/step - loss: 0.1292 - accuracy: 0.9682 - val_loss: 11.8383 - val_accuracy: 0.0022\n",
      "Epoch 10/10\n",
      "15/15 [==============================] - 1s 41ms/step - loss: 0.1295 - accuracy: 0.9681 - val_loss: 11.8539 - val_accuracy: 0.0019\n",
      "Epoch 1/10\n",
      "15/15 [==============================] - 1s 60ms/step - loss: 0.1287 - accuracy: 0.9690 - val_loss: 11.8351 - val_accuracy: 0.0030\n",
      "Epoch 2/10\n",
      "15/15 [==============================] - 1s 40ms/step - loss: 0.1270 - accuracy: 0.9695 - val_loss: 11.9129 - val_accuracy: 0.0033\n",
      "Epoch 3/10\n",
      "15/15 [==============================] - 1s 45ms/step - loss: 0.1266 - accuracy: 0.9695 - val_loss: 11.9019 - val_accuracy: 0.0044\n",
      "Epoch 4/10\n",
      "15/15 [==============================] - 1s 53ms/step - loss: 0.1260 - accuracy: 0.9695 - val_loss: 11.8950 - val_accuracy: 0.0041\n",
      "Epoch 5/10\n",
      "15/15 [==============================] - 1s 42ms/step - loss: 0.1256 - accuracy: 0.9699 - val_loss: 11.8917 - val_accuracy: 0.0041\n",
      "Epoch 6/10\n",
      "15/15 [==============================] - 1s 42ms/step - loss: 0.1253 - accuracy: 0.9696 - val_loss: 11.9510 - val_accuracy: 0.0047\n",
      "Epoch 7/10\n",
      "15/15 [==============================] - 1s 51ms/step - loss: 0.1249 - accuracy: 0.9698 - val_loss: 11.9579 - val_accuracy: 0.0047\n",
      "Epoch 8/10\n",
      "15/15 [==============================] - 1s 42ms/step - loss: 0.1247 - accuracy: 0.9696 - val_loss: 12.0394 - val_accuracy: 0.0038\n",
      "Epoch 9/10\n",
      "15/15 [==============================] - 1s 42ms/step - loss: 0.1245 - accuracy: 0.9695 - val_loss: 11.9604 - val_accuracy: 0.0041\n",
      "Epoch 10/10\n",
      "15/15 [==============================] - 1s 49ms/step - loss: 0.1241 - accuracy: 0.9698 - val_loss: 12.1306 - val_accuracy: 0.0044\n",
      "Epoch 1/10\n",
      "15/15 [==============================] - 1s 53ms/step - loss: 0.1289 - accuracy: 0.9689 - val_loss: 11.9067 - val_accuracy: 0.0027\n",
      "Epoch 2/10\n",
      "15/15 [==============================] - 1s 41ms/step - loss: 0.1266 - accuracy: 0.9691 - val_loss: 12.0944 - val_accuracy: 0.0030\n",
      "Epoch 3/10\n",
      "15/15 [==============================] - 1s 44ms/step - loss: 0.1263 - accuracy: 0.9696 - val_loss: 12.0386 - val_accuracy: 0.0030\n",
      "Epoch 4/10\n",
      "15/15 [==============================] - 1s 51ms/step - loss: 0.1254 - accuracy: 0.9694 - val_loss: 12.0423 - val_accuracy: 0.0033\n",
      "Epoch 5/10\n",
      "15/15 [==============================] - 1s 44ms/step - loss: 0.1251 - accuracy: 0.9694 - val_loss: 12.0238 - val_accuracy: 0.0033\n",
      "Epoch 6/10\n",
      "15/15 [==============================] - 1s 44ms/step - loss: 0.1248 - accuracy: 0.9696 - val_loss: 12.1281 - val_accuracy: 0.0030\n",
      "Epoch 7/10\n",
      "15/15 [==============================] - 1s 58ms/step - loss: 0.1245 - accuracy: 0.9694 - val_loss: 12.1402 - val_accuracy: 0.0033\n",
      "Epoch 8/10\n",
      "15/15 [==============================] - 1s 44ms/step - loss: 0.1242 - accuracy: 0.9693 - val_loss: 12.1262 - val_accuracy: 0.0038\n",
      "Epoch 9/10\n",
      "15/15 [==============================] - 1s 44ms/step - loss: 0.1240 - accuracy: 0.9694 - val_loss: 12.1515 - val_accuracy: 0.0030\n",
      "Epoch 10/10\n",
      "15/15 [==============================] - 1s 53ms/step - loss: 0.1235 - accuracy: 0.9694 - val_loss: 12.1631 - val_accuracy: 0.0030\n",
      " 104/2017 [>.............................] - ETA: 2s - loss: 1.4752 - accuracy: 0.5532"
     ]
    },
    {
     "name": "stderr",
     "output_type": "stream",
     "text": [
      "c:\\Users\\UX430\\anaconda3\\lib\\site-packages\\numpy\\core\\_asarray.py:171: VisibleDeprecationWarning: Creating an ndarray from ragged nested sequences (which is a list-or-tuple of lists-or-tuples-or ndarrays with different lengths or shapes) is deprecated. If you meant to do this, you must specify 'dtype=object' when creating the ndarray.\n",
      "  return array(a, dtype, copy=False, order=order, subok=True)\n"
     ]
    },
    {
     "name": "stdout",
     "output_type": "stream",
     "text": [
      "2017/2017 [==============================] - 3s 1ms/step - loss: 1.4845 - accuracy: 0.5481\n",
      " 82/756 [==>...........................] - ETA: 0s - loss: 0.0000e+00 - accuracy: 0.0011    "
     ]
    },
    {
     "name": "stderr",
     "output_type": "stream",
     "text": [
      "c:\\Users\\UX430\\anaconda3\\lib\\site-packages\\sklearn\\metrics\\_classification.py:1308: UndefinedMetricWarning: Precision and F-score are ill-defined and being set to 0.0 in labels with no predicted samples. Use `zero_division` parameter to control this behavior.\n",
      "  _warn_prf(average, modifier, msg_start, len(result))\n",
      "c:\\Users\\UX430\\anaconda3\\lib\\site-packages\\sklearn\\metrics\\_classification.py:1308: UndefinedMetricWarning: Precision and F-score are ill-defined and being set to 0.0 in labels with no predicted samples. Use `zero_division` parameter to control this behavior.\n",
      "  _warn_prf(average, modifier, msg_start, len(result))\n",
      "c:\\Users\\UX430\\anaconda3\\lib\\site-packages\\sklearn\\metrics\\_classification.py:1308: UndefinedMetricWarning: Precision and F-score are ill-defined and being set to 0.0 in labels with no predicted samples. Use `zero_division` parameter to control this behavior.\n",
      "  _warn_prf(average, modifier, msg_start, len(result))\n"
     ]
    },
    {
     "name": "stdout",
     "output_type": "stream",
     "text": [
      "756/756 [==============================] - 1s 1ms/step - loss: 0.0000e+00 - accuracy: 0.0030\n"
     ]
    },
    {
     "name": "stderr",
     "output_type": "stream",
     "text": [
      "c:\\Users\\UX430\\anaconda3\\lib\\site-packages\\sklearn\\metrics\\_classification.py:1308: UndefinedMetricWarning: Precision and F-score are ill-defined and being set to 0.0 in labels with no predicted samples. Use `zero_division` parameter to control this behavior.\n",
      "  _warn_prf(average, modifier, msg_start, len(result))\n",
      "c:\\Users\\UX430\\anaconda3\\lib\\site-packages\\sklearn\\metrics\\_classification.py:1308: UndefinedMetricWarning: Recall and F-score are ill-defined and being set to 0.0 in labels with no true samples. Use `zero_division` parameter to control this behavior.\n",
      "  _warn_prf(average, modifier, msg_start, len(result))\n",
      "c:\\Users\\UX430\\anaconda3\\lib\\site-packages\\sklearn\\metrics\\_classification.py:1308: UndefinedMetricWarning: Precision and F-score are ill-defined and being set to 0.0 in labels with no predicted samples. Use `zero_division` parameter to control this behavior.\n",
      "  _warn_prf(average, modifier, msg_start, len(result))\n",
      "c:\\Users\\UX430\\anaconda3\\lib\\site-packages\\sklearn\\metrics\\_classification.py:1308: UndefinedMetricWarning: Recall and F-score are ill-defined and being set to 0.0 in labels with no true samples. Use `zero_division` parameter to control this behavior.\n",
      "  _warn_prf(average, modifier, msg_start, len(result))\n",
      "c:\\Users\\UX430\\anaconda3\\lib\\site-packages\\sklearn\\metrics\\_classification.py:1308: UndefinedMetricWarning: Precision and F-score are ill-defined and being set to 0.0 in labels with no predicted samples. Use `zero_division` parameter to control this behavior.\n",
      "  _warn_prf(average, modifier, msg_start, len(result))\n",
      "c:\\Users\\UX430\\anaconda3\\lib\\site-packages\\sklearn\\metrics\\_classification.py:1308: UndefinedMetricWarning: Recall and F-score are ill-defined and being set to 0.0 in labels with no true samples. Use `zero_division` parameter to control this behavior.\n",
      "  _warn_prf(average, modifier, msg_start, len(result))\n"
     ]
    },
    {
     "name": "stdout",
     "output_type": "stream",
     "text": [
      "Epoch 1/10\n",
      "15/15 [==============================] - 1s 51ms/step - loss: 0.1302 - accuracy: 0.9682 - val_loss: 12.0179 - val_accuracy: 0.0022\n",
      "Epoch 2/10\n",
      "15/15 [==============================] - 1s 40ms/step - loss: 0.1290 - accuracy: 0.9682 - val_loss: 12.0597 - val_accuracy: 0.0022\n",
      "Epoch 3/10\n",
      "15/15 [==============================] - 1s 46ms/step - loss: 0.1290 - accuracy: 0.9684 - val_loss: 12.1211 - val_accuracy: 0.0022\n",
      "Epoch 4/10\n",
      "15/15 [==============================] - 1s 50ms/step - loss: 0.1283 - accuracy: 0.9683 - val_loss: 12.0705 - val_accuracy: 0.0022\n",
      "Epoch 5/10\n",
      "15/15 [==============================] - 1s 41ms/step - loss: 0.1282 - accuracy: 0.9685 - val_loss: 12.1426 - val_accuracy: 0.0022\n",
      "Epoch 6/10\n",
      "15/15 [==============================] - 1s 41ms/step - loss: 0.1279 - accuracy: 0.9684 - val_loss: 12.1476 - val_accuracy: 0.0022\n",
      "Epoch 7/10\n",
      "15/15 [==============================] - 1s 49ms/step - loss: 0.1278 - accuracy: 0.9684 - val_loss: 12.1555 - val_accuracy: 0.0022\n",
      "Epoch 8/10\n",
      "15/15 [==============================] - 1s 41ms/step - loss: 0.1275 - accuracy: 0.9684 - val_loss: 12.2537 - val_accuracy: 0.0022\n",
      "Epoch 9/10\n",
      "15/15 [==============================] - 1s 41ms/step - loss: 0.1274 - accuracy: 0.9685 - val_loss: 12.1942 - val_accuracy: 0.0022\n",
      "Epoch 10/10\n",
      "15/15 [==============================] - 1s 47ms/step - loss: 0.1272 - accuracy: 0.9685 - val_loss: 12.2593 - val_accuracy: 0.0022\n",
      "Epoch 1/10\n",
      "15/15 [==============================] - 1s 51ms/step - loss: 0.1265 - accuracy: 0.9690 - val_loss: 12.2533 - val_accuracy: 0.0038\n",
      "Epoch 2/10\n",
      "15/15 [==============================] - 1s 40ms/step - loss: 0.1250 - accuracy: 0.9694 - val_loss: 12.3313 - val_accuracy: 0.0038\n",
      "Epoch 3/10\n",
      "15/15 [==============================] - 1s 43ms/step - loss: 0.1245 - accuracy: 0.9696 - val_loss: 12.2586 - val_accuracy: 0.0044\n",
      "Epoch 4/10\n",
      "15/15 [==============================] - 1s 49ms/step - loss: 0.1238 - accuracy: 0.9696 - val_loss: 12.3182 - val_accuracy: 0.0038\n",
      "Epoch 5/10\n",
      "15/15 [==============================] - 1s 45ms/step - loss: 0.1237 - accuracy: 0.9698 - val_loss: 12.2459 - val_accuracy: 0.0044\n",
      "Epoch 6/10\n",
      "15/15 [==============================] - 1s 43ms/step - loss: 0.1231 - accuracy: 0.9698 - val_loss: 12.3609 - val_accuracy: 0.0036\n",
      "Epoch 7/10\n",
      "15/15 [==============================] - 1s 52ms/step - loss: 0.1229 - accuracy: 0.9697 - val_loss: 12.2864 - val_accuracy: 0.0047\n",
      "Epoch 8/10\n",
      "15/15 [==============================] - 1s 42ms/step - loss: 0.1227 - accuracy: 0.9699 - val_loss: 12.3496 - val_accuracy: 0.0047\n",
      "Epoch 9/10\n",
      "15/15 [==============================] - 1s 42ms/step - loss: 0.1221 - accuracy: 0.9697 - val_loss: 12.3730 - val_accuracy: 0.0044\n",
      "Epoch 10/10\n",
      "15/15 [==============================] - 1s 50ms/step - loss: 0.1222 - accuracy: 0.9699 - val_loss: 12.3728 - val_accuracy: 0.0044\n",
      "Epoch 1/10\n",
      "15/15 [==============================] - 1s 56ms/step - loss: 0.1267 - accuracy: 0.9689 - val_loss: 12.2667 - val_accuracy: 0.0041\n",
      "Epoch 2/10\n",
      "15/15 [==============================] - 1s 41ms/step - loss: 0.1251 - accuracy: 0.9693 - val_loss: 12.4282 - val_accuracy: 0.0041\n",
      "Epoch 3/10\n",
      "15/15 [==============================] - 1s 58ms/step - loss: 0.1243 - accuracy: 0.9695 - val_loss: 12.4206 - val_accuracy: 0.0033\n",
      "Epoch 4/10\n",
      "15/15 [==============================] - 1s 48ms/step - loss: 0.1237 - accuracy: 0.9695 - val_loss: 12.4435 - val_accuracy: 0.0027\n",
      "Epoch 5/10\n",
      "15/15 [==============================] - 1s 45ms/step - loss: 0.1233 - accuracy: 0.9694 - val_loss: 12.3716 - val_accuracy: 0.0033\n",
      "Epoch 6/10\n",
      "15/15 [==============================] - 1s 58ms/step - loss: 0.1232 - accuracy: 0.9694 - val_loss: 12.4741 - val_accuracy: 0.0033\n",
      "Epoch 7/10\n",
      "15/15 [==============================] - 1s 50ms/step - loss: 0.1226 - accuracy: 0.9695 - val_loss: 12.4619 - val_accuracy: 0.0033\n",
      "Epoch 8/10\n",
      "15/15 [==============================] - 1s 62ms/step - loss: 0.1224 - accuracy: 0.9694 - val_loss: 12.5560 - val_accuracy: 0.0030\n",
      "Epoch 9/10\n",
      "15/15 [==============================] - 1s 51ms/step - loss: 0.1222 - accuracy: 0.9693 - val_loss: 12.6390 - val_accuracy: 0.0030\n",
      "Epoch 10/10\n",
      "15/15 [==============================] - 1s 45ms/step - loss: 0.1218 - accuracy: 0.9695 - val_loss: 12.5303 - val_accuracy: 0.0033\n",
      " 102/2017 [>.............................] - ETA: 2s - loss: 1.5632 - accuracy: 0.5254"
     ]
    },
    {
     "name": "stderr",
     "output_type": "stream",
     "text": [
      "c:\\Users\\UX430\\anaconda3\\lib\\site-packages\\numpy\\core\\_asarray.py:171: VisibleDeprecationWarning: Creating an ndarray from ragged nested sequences (which is a list-or-tuple of lists-or-tuples-or ndarrays with different lengths or shapes) is deprecated. If you meant to do this, you must specify 'dtype=object' when creating the ndarray.\n",
      "  return array(a, dtype, copy=False, order=order, subok=True)\n"
     ]
    },
    {
     "name": "stdout",
     "output_type": "stream",
     "text": [
      "2017/2017 [==============================] - 3s 1ms/step - loss: 1.5786 - accuracy: 0.5173\n",
      " 78/756 [==>...........................] - ETA: 0s - loss: 0.0000e+00 - accuracy: 0.0012    "
     ]
    },
    {
     "name": "stderr",
     "output_type": "stream",
     "text": [
      "c:\\Users\\UX430\\anaconda3\\lib\\site-packages\\sklearn\\metrics\\_classification.py:1308: UndefinedMetricWarning: Precision and F-score are ill-defined and being set to 0.0 in labels with no predicted samples. Use `zero_division` parameter to control this behavior.\n",
      "  _warn_prf(average, modifier, msg_start, len(result))\n",
      "c:\\Users\\UX430\\anaconda3\\lib\\site-packages\\sklearn\\metrics\\_classification.py:1308: UndefinedMetricWarning: Precision and F-score are ill-defined and being set to 0.0 in labels with no predicted samples. Use `zero_division` parameter to control this behavior.\n",
      "  _warn_prf(average, modifier, msg_start, len(result))\n",
      "c:\\Users\\UX430\\anaconda3\\lib\\site-packages\\sklearn\\metrics\\_classification.py:1308: UndefinedMetricWarning: Precision and F-score are ill-defined and being set to 0.0 in labels with no predicted samples. Use `zero_division` parameter to control this behavior.\n",
      "  _warn_prf(average, modifier, msg_start, len(result))\n"
     ]
    },
    {
     "name": "stdout",
     "output_type": "stream",
     "text": [
      "756/756 [==============================] - 1s 2ms/step - loss: 0.0000e+00 - accuracy: 0.0100\n"
     ]
    },
    {
     "name": "stderr",
     "output_type": "stream",
     "text": [
      "c:\\Users\\UX430\\anaconda3\\lib\\site-packages\\sklearn\\metrics\\_classification.py:1308: UndefinedMetricWarning: Precision and F-score are ill-defined and being set to 0.0 in labels with no predicted samples. Use `zero_division` parameter to control this behavior.\n",
      "  _warn_prf(average, modifier, msg_start, len(result))\n",
      "c:\\Users\\UX430\\anaconda3\\lib\\site-packages\\sklearn\\metrics\\_classification.py:1308: UndefinedMetricWarning: Recall and F-score are ill-defined and being set to 0.0 in labels with no true samples. Use `zero_division` parameter to control this behavior.\n",
      "  _warn_prf(average, modifier, msg_start, len(result))\n",
      "c:\\Users\\UX430\\anaconda3\\lib\\site-packages\\sklearn\\metrics\\_classification.py:1308: UndefinedMetricWarning: Precision and F-score are ill-defined and being set to 0.0 in labels with no predicted samples. Use `zero_division` parameter to control this behavior.\n",
      "  _warn_prf(average, modifier, msg_start, len(result))\n",
      "c:\\Users\\UX430\\anaconda3\\lib\\site-packages\\sklearn\\metrics\\_classification.py:1308: UndefinedMetricWarning: Recall and F-score are ill-defined and being set to 0.0 in labels with no true samples. Use `zero_division` parameter to control this behavior.\n",
      "  _warn_prf(average, modifier, msg_start, len(result))\n",
      "c:\\Users\\UX430\\anaconda3\\lib\\site-packages\\sklearn\\metrics\\_classification.py:1308: UndefinedMetricWarning: Precision and F-score are ill-defined and being set to 0.0 in labels with no predicted samples. Use `zero_division` parameter to control this behavior.\n",
      "  _warn_prf(average, modifier, msg_start, len(result))\n",
      "c:\\Users\\UX430\\anaconda3\\lib\\site-packages\\sklearn\\metrics\\_classification.py:1308: UndefinedMetricWarning: Recall and F-score are ill-defined and being set to 0.0 in labels with no true samples. Use `zero_division` parameter to control this behavior.\n",
      "  _warn_prf(average, modifier, msg_start, len(result))\n"
     ]
    },
    {
     "name": "stdout",
     "output_type": "stream",
     "text": [
      "Epoch 1/10\n",
      "15/15 [==============================] - 1s 52ms/step - loss: 0.1277 - accuracy: 0.9687 - val_loss: 12.5012 - val_accuracy: 0.0025\n",
      "Epoch 2/10\n",
      "15/15 [==============================] - 1s 44ms/step - loss: 0.1273 - accuracy: 0.9685 - val_loss: 12.3857 - val_accuracy: 0.0022\n",
      "Epoch 3/10\n",
      "15/15 [==============================] - 1s 53ms/step - loss: 0.1266 - accuracy: 0.9685 - val_loss: 12.4324 - val_accuracy: 0.0022\n",
      "Epoch 4/10\n",
      "15/15 [==============================] - 1s 49ms/step - loss: 0.1261 - accuracy: 0.9686 - val_loss: 12.4234 - val_accuracy: 0.0025\n",
      "Epoch 5/10\n",
      "15/15 [==============================] - 1s 46ms/step - loss: 0.1263 - accuracy: 0.9688 - val_loss: 12.4700 - val_accuracy: 0.0027\n",
      "Epoch 6/10\n",
      "15/15 [==============================] - 1s 51ms/step - loss: 0.1260 - accuracy: 0.9685 - val_loss: 12.4867 - val_accuracy: 0.0019\n",
      "Epoch 7/10\n",
      "15/15 [==============================] - 1s 45ms/step - loss: 0.1257 - accuracy: 0.9685 - val_loss: 12.5257 - val_accuracy: 0.0019\n",
      "Epoch 8/10\n",
      "15/15 [==============================] - 1s 54ms/step - loss: 0.1259 - accuracy: 0.9682 - val_loss: 12.5129 - val_accuracy: 0.0022\n",
      "Epoch 9/10\n",
      "15/15 [==============================] - 1s 46ms/step - loss: 0.1262 - accuracy: 0.9687 - val_loss: 12.6101 - val_accuracy: 0.0022\n",
      "Epoch 10/10\n",
      "15/15 [==============================] - 1s 47ms/step - loss: 0.1256 - accuracy: 0.9686 - val_loss: 12.6291 - val_accuracy: 0.0027\n",
      "Epoch 1/10\n",
      "15/15 [==============================] - 1s 65ms/step - loss: 0.1250 - accuracy: 0.9691 - val_loss: 12.5046 - val_accuracy: 0.0044\n",
      "Epoch 2/10\n",
      "15/15 [==============================] - 1s 42ms/step - loss: 0.1234 - accuracy: 0.9697 - val_loss: 12.6318 - val_accuracy: 0.0041\n",
      "Epoch 3/10\n",
      "15/15 [==============================] - 1s 45ms/step - loss: 0.1226 - accuracy: 0.9698 - val_loss: 12.5558 - val_accuracy: 0.0049\n",
      "Epoch 4/10\n",
      "15/15 [==============================] - 1s 44ms/step - loss: 0.1220 - accuracy: 0.9699 - val_loss: 12.5841 - val_accuracy: 0.0038\n",
      "Epoch 5/10\n",
      "15/15 [==============================] - 1s 56ms/step - loss: 0.1221 - accuracy: 0.9698 - val_loss: 12.6095 - val_accuracy: 0.0047\n",
      "Epoch 6/10\n",
      "15/15 [==============================] - 1s 44ms/step - loss: 0.1217 - accuracy: 0.9698 - val_loss: 12.6056 - val_accuracy: 0.0049\n",
      "Epoch 7/10\n",
      "15/15 [==============================] - 1s 44ms/step - loss: 0.1211 - accuracy: 0.9700 - val_loss: 12.6990 - val_accuracy: 0.0038\n",
      "Epoch 8/10\n",
      "15/15 [==============================] - 1s 50ms/step - loss: 0.1210 - accuracy: 0.9698 - val_loss: 12.7075 - val_accuracy: 0.0047\n",
      "Epoch 9/10\n",
      "15/15 [==============================] - 1s 47ms/step - loss: 0.1205 - accuracy: 0.9698 - val_loss: 12.6643 - val_accuracy: 0.0044\n",
      "Epoch 10/10\n",
      "15/15 [==============================] - 1s 45ms/step - loss: 0.1203 - accuracy: 0.9700 - val_loss: 12.6757 - val_accuracy: 0.0047\n",
      "Epoch 1/10\n",
      "15/15 [==============================] - 1s 61ms/step - loss: 0.1253 - accuracy: 0.9691 - val_loss: 12.5242 - val_accuracy: 0.0036\n",
      "Epoch 2/10\n",
      "15/15 [==============================] - 1s 45ms/step - loss: 0.1237 - accuracy: 0.9693 - val_loss: 12.6914 - val_accuracy: 0.0033\n",
      "Epoch 3/10\n",
      "15/15 [==============================] - 1s 48ms/step - loss: 0.1229 - accuracy: 0.9696 - val_loss: 12.6232 - val_accuracy: 0.0033\n",
      "Epoch 4/10\n",
      "15/15 [==============================] - 1s 55ms/step - loss: 0.1226 - accuracy: 0.9695 - val_loss: 12.7041 - val_accuracy: 0.0033\n",
      "Epoch 5/10\n",
      "15/15 [==============================] - 1s 47ms/step - loss: 0.1219 - accuracy: 0.9693 - val_loss: 12.6924 - val_accuracy: 0.0033\n",
      "Epoch 6/10\n",
      "15/15 [==============================] - 1s 49ms/step - loss: 0.1218 - accuracy: 0.9696 - val_loss: 12.6918 - val_accuracy: 0.0036\n",
      "Epoch 7/10\n",
      "15/15 [==============================] - 1s 51ms/step - loss: 0.1217 - accuracy: 0.9693 - val_loss: 12.7569 - val_accuracy: 0.0027\n",
      "Epoch 8/10\n",
      "15/15 [==============================] - 1s 43ms/step - loss: 0.1210 - accuracy: 0.9694 - val_loss: 12.7642 - val_accuracy: 0.0033\n",
      "Epoch 9/10\n",
      "15/15 [==============================] - 1s 43ms/step - loss: 0.1208 - accuracy: 0.9698 - val_loss: 12.7957 - val_accuracy: 0.0033\n",
      "Epoch 10/10\n",
      "15/15 [==============================] - 1s 51ms/step - loss: 0.1206 - accuracy: 0.9697 - val_loss: 12.7898 - val_accuracy: 0.0030\n",
      "  64/2017 [..............................] - ETA: 3s - loss: 1.6292 - accuracy: 0.3413"
     ]
    },
    {
     "name": "stderr",
     "output_type": "stream",
     "text": [
      "c:\\Users\\UX430\\anaconda3\\lib\\site-packages\\numpy\\core\\_asarray.py:171: VisibleDeprecationWarning: Creating an ndarray from ragged nested sequences (which is a list-or-tuple of lists-or-tuples-or ndarrays with different lengths or shapes) is deprecated. If you meant to do this, you must specify 'dtype=object' when creating the ndarray.\n",
      "  return array(a, dtype, copy=False, order=order, subok=True)\n"
     ]
    },
    {
     "name": "stdout",
     "output_type": "stream",
     "text": [
      "2017/2017 [==============================] - 3s 1ms/step - loss: 1.6686 - accuracy: 0.3387\n",
      " 65/756 [=>............................] - ETA: 1s - loss: 0.0000e+00 - accuracy: 0.0014  "
     ]
    },
    {
     "name": "stderr",
     "output_type": "stream",
     "text": [
      "c:\\Users\\UX430\\anaconda3\\lib\\site-packages\\sklearn\\metrics\\_classification.py:1308: UndefinedMetricWarning: Precision and F-score are ill-defined and being set to 0.0 in labels with no predicted samples. Use `zero_division` parameter to control this behavior.\n",
      "  _warn_prf(average, modifier, msg_start, len(result))\n",
      "c:\\Users\\UX430\\anaconda3\\lib\\site-packages\\sklearn\\metrics\\_classification.py:1308: UndefinedMetricWarning: Precision and F-score are ill-defined and being set to 0.0 in labels with no predicted samples. Use `zero_division` parameter to control this behavior.\n",
      "  _warn_prf(average, modifier, msg_start, len(result))\n",
      "c:\\Users\\UX430\\anaconda3\\lib\\site-packages\\sklearn\\metrics\\_classification.py:1308: UndefinedMetricWarning: Precision and F-score are ill-defined and being set to 0.0 in labels with no predicted samples. Use `zero_division` parameter to control this behavior.\n",
      "  _warn_prf(average, modifier, msg_start, len(result))\n"
     ]
    },
    {
     "name": "stdout",
     "output_type": "stream",
     "text": [
      "756/756 [==============================] - 1s 2ms/step - loss: 0.0000e+00 - accuracy: 0.0167\n"
     ]
    },
    {
     "name": "stderr",
     "output_type": "stream",
     "text": [
      "c:\\Users\\UX430\\anaconda3\\lib\\site-packages\\sklearn\\metrics\\_classification.py:1308: UndefinedMetricWarning: Precision and F-score are ill-defined and being set to 0.0 in labels with no predicted samples. Use `zero_division` parameter to control this behavior.\n",
      "  _warn_prf(average, modifier, msg_start, len(result))\n",
      "c:\\Users\\UX430\\anaconda3\\lib\\site-packages\\sklearn\\metrics\\_classification.py:1308: UndefinedMetricWarning: Recall and F-score are ill-defined and being set to 0.0 in labels with no true samples. Use `zero_division` parameter to control this behavior.\n",
      "  _warn_prf(average, modifier, msg_start, len(result))\n",
      "c:\\Users\\UX430\\anaconda3\\lib\\site-packages\\sklearn\\metrics\\_classification.py:1308: UndefinedMetricWarning: Precision and F-score are ill-defined and being set to 0.0 in labels with no predicted samples. Use `zero_division` parameter to control this behavior.\n",
      "  _warn_prf(average, modifier, msg_start, len(result))\n",
      "c:\\Users\\UX430\\anaconda3\\lib\\site-packages\\sklearn\\metrics\\_classification.py:1308: UndefinedMetricWarning: Recall and F-score are ill-defined and being set to 0.0 in labels with no true samples. Use `zero_division` parameter to control this behavior.\n",
      "  _warn_prf(average, modifier, msg_start, len(result))\n",
      "c:\\Users\\UX430\\anaconda3\\lib\\site-packages\\sklearn\\metrics\\_classification.py:1308: UndefinedMetricWarning: Precision and F-score are ill-defined and being set to 0.0 in labels with no predicted samples. Use `zero_division` parameter to control this behavior.\n",
      "  _warn_prf(average, modifier, msg_start, len(result))\n",
      "c:\\Users\\UX430\\anaconda3\\lib\\site-packages\\sklearn\\metrics\\_classification.py:1308: UndefinedMetricWarning: Recall and F-score are ill-defined and being set to 0.0 in labels with no true samples. Use `zero_division` parameter to control this behavior.\n",
      "  _warn_prf(average, modifier, msg_start, len(result))\n"
     ]
    },
    {
     "name": "stdout",
     "output_type": "stream",
     "text": [
      "Epoch 1/10\n",
      "15/15 [==============================] - 1s 54ms/step - loss: 0.1264 - accuracy: 0.9687 - val_loss: 12.7254 - val_accuracy: 0.0033\n",
      "Epoch 2/10\n",
      "15/15 [==============================] - 1s 49ms/step - loss: 0.1253 - accuracy: 0.9689 - val_loss: 12.6968 - val_accuracy: 0.0027\n",
      "Epoch 3/10\n",
      "15/15 [==============================] - 1s 43ms/step - loss: 0.1251 - accuracy: 0.9687 - val_loss: 12.7872 - val_accuracy: 0.0025\n",
      "Epoch 4/10\n",
      "15/15 [==============================] - 1s 41ms/step - loss: 0.1247 - accuracy: 0.9688 - val_loss: 12.7905 - val_accuracy: 0.0025\n",
      "Epoch 5/10\n",
      "15/15 [==============================] - 1s 42ms/step - loss: 0.1247 - accuracy: 0.9687 - val_loss: 12.8253 - val_accuracy: 0.0025\n",
      "Epoch 6/10\n",
      "15/15 [==============================] - 1s 46ms/step - loss: 0.1242 - accuracy: 0.9689 - val_loss: 12.7911 - val_accuracy: 0.0025\n",
      "Epoch 7/10\n",
      "15/15 [==============================] - 1s 40ms/step - loss: 0.1241 - accuracy: 0.9689 - val_loss: 12.8044 - val_accuracy: 0.0025\n",
      "Epoch 8/10\n",
      "15/15 [==============================] - 1s 39ms/step - loss: 0.1240 - accuracy: 0.9693 - val_loss: 12.8537 - val_accuracy: 0.0027\n",
      "Epoch 9/10\n",
      "15/15 [==============================] - 1s 39ms/step - loss: 0.1237 - accuracy: 0.9692 - val_loss: 12.7998 - val_accuracy: 0.0025\n",
      "Epoch 10/10\n",
      "15/15 [==============================] - 1s 46ms/step - loss: 0.1237 - accuracy: 0.9693 - val_loss: 12.8539 - val_accuracy: 0.0027\n",
      "Epoch 1/10\n",
      "15/15 [==============================] - 1s 49ms/step - loss: 0.1239 - accuracy: 0.9696 - val_loss: 12.9173 - val_accuracy: 0.0033\n",
      "Epoch 2/10\n",
      "15/15 [==============================] - 1s 39ms/step - loss: 0.1220 - accuracy: 0.9698 - val_loss: 12.6914 - val_accuracy: 0.0052\n",
      "Epoch 3/10\n",
      "15/15 [==============================] - 1s 39ms/step - loss: 0.1213 - accuracy: 0.9700 - val_loss: 12.8329 - val_accuracy: 0.0027\n",
      "Epoch 4/10\n",
      "15/15 [==============================] - 1s 49ms/step - loss: 0.1210 - accuracy: 0.9695 - val_loss: 12.8367 - val_accuracy: 0.0047\n",
      "Epoch 5/10\n",
      "15/15 [==============================] - 1s 41ms/step - loss: 0.1207 - accuracy: 0.9704 - val_loss: 12.7805 - val_accuracy: 0.0049\n",
      "Epoch 6/10\n",
      "15/15 [==============================] - 1s 39ms/step - loss: 0.1199 - accuracy: 0.9705 - val_loss: 12.8362 - val_accuracy: 0.0041\n",
      "Epoch 7/10\n",
      "15/15 [==============================] - 1s 39ms/step - loss: 0.1198 - accuracy: 0.9702 - val_loss: 12.8478 - val_accuracy: 0.0055\n",
      "Epoch 8/10\n",
      "15/15 [==============================] - 1s 47ms/step - loss: 0.1194 - accuracy: 0.9704 - val_loss: 12.8787 - val_accuracy: 0.0058\n",
      "Epoch 9/10\n",
      "15/15 [==============================] - 1s 38ms/step - loss: 0.1194 - accuracy: 0.9702 - val_loss: 12.9178 - val_accuracy: 0.0052\n",
      "Epoch 10/10\n",
      "15/15 [==============================] - 1s 39ms/step - loss: 0.1190 - accuracy: 0.9703 - val_loss: 12.9094 - val_accuracy: 0.0052\n",
      "Epoch 1/10\n",
      "15/15 [==============================] - 1s 59ms/step - loss: 0.1246 - accuracy: 0.9691 - val_loss: 12.7597 - val_accuracy: 0.0033\n",
      "Epoch 2/10\n",
      "15/15 [==============================] - 1s 37ms/step - loss: 0.1230 - accuracy: 0.9696 - val_loss: 12.9774 - val_accuracy: 0.0038\n",
      "Epoch 3/10\n",
      "15/15 [==============================] - 1s 39ms/step - loss: 0.1221 - accuracy: 0.9699 - val_loss: 12.8150 - val_accuracy: 0.0036\n",
      "Epoch 4/10\n",
      "15/15 [==============================] - 1s 48ms/step - loss: 0.1220 - accuracy: 0.9694 - val_loss: 12.9109 - val_accuracy: 0.0030\n",
      "Epoch 5/10\n",
      "15/15 [==============================] - 1s 39ms/step - loss: 0.1212 - accuracy: 0.9696 - val_loss: 12.9385 - val_accuracy: 0.0036\n",
      "Epoch 6/10\n",
      "15/15 [==============================] - 1s 38ms/step - loss: 0.1208 - accuracy: 0.9698 - val_loss: 12.8838 - val_accuracy: 0.0033\n",
      "Epoch 7/10\n",
      "15/15 [==============================] - 1s 39ms/step - loss: 0.1201 - accuracy: 0.9699 - val_loss: 12.9105 - val_accuracy: 0.0030\n",
      "Epoch 8/10\n",
      "15/15 [==============================] - 1s 46ms/step - loss: 0.1201 - accuracy: 0.9701 - val_loss: 12.9569 - val_accuracy: 0.0036\n",
      "Epoch 9/10\n",
      "15/15 [==============================] - 1s 39ms/step - loss: 0.1198 - accuracy: 0.9698 - val_loss: 12.9145 - val_accuracy: 0.0036\n",
      "Epoch 10/10\n",
      "15/15 [==============================] - 1s 38ms/step - loss: 0.1196 - accuracy: 0.9698 - val_loss: 12.9395 - val_accuracy: 0.0030\n",
      " 117/2017 [>.............................] - ETA: 2s - loss: 1.7463 - accuracy: 0.2105"
     ]
    },
    {
     "name": "stderr",
     "output_type": "stream",
     "text": [
      "c:\\Users\\UX430\\anaconda3\\lib\\site-packages\\numpy\\core\\_asarray.py:171: VisibleDeprecationWarning: Creating an ndarray from ragged nested sequences (which is a list-or-tuple of lists-or-tuples-or ndarrays with different lengths or shapes) is deprecated. If you meant to do this, you must specify 'dtype=object' when creating the ndarray.\n",
      "  return array(a, dtype, copy=False, order=order, subok=True)\n"
     ]
    },
    {
     "name": "stdout",
     "output_type": "stream",
     "text": [
      "2017/2017 [==============================] - 3s 1ms/step - loss: 1.7720 - accuracy: 0.2120\n",
      " 94/756 [==>...........................] - ETA: 0s - loss: 0.0000e+00 - accuracy: 0.0020    "
     ]
    },
    {
     "name": "stderr",
     "output_type": "stream",
     "text": [
      "c:\\Users\\UX430\\anaconda3\\lib\\site-packages\\sklearn\\metrics\\_classification.py:1308: UndefinedMetricWarning: Precision and F-score are ill-defined and being set to 0.0 in labels with no predicted samples. Use `zero_division` parameter to control this behavior.\n",
      "  _warn_prf(average, modifier, msg_start, len(result))\n",
      "c:\\Users\\UX430\\anaconda3\\lib\\site-packages\\sklearn\\metrics\\_classification.py:1308: UndefinedMetricWarning: Precision and F-score are ill-defined and being set to 0.0 in labels with no predicted samples. Use `zero_division` parameter to control this behavior.\n",
      "  _warn_prf(average, modifier, msg_start, len(result))\n",
      "c:\\Users\\UX430\\anaconda3\\lib\\site-packages\\sklearn\\metrics\\_classification.py:1308: UndefinedMetricWarning: Precision and F-score are ill-defined and being set to 0.0 in labels with no predicted samples. Use `zero_division` parameter to control this behavior.\n",
      "  _warn_prf(average, modifier, msg_start, len(result))\n"
     ]
    },
    {
     "name": "stdout",
     "output_type": "stream",
     "text": [
      "756/756 [==============================] - 1s 1ms/step - loss: 0.0000e+00 - accuracy: 0.0319\n"
     ]
    },
    {
     "name": "stderr",
     "output_type": "stream",
     "text": [
      "c:\\Users\\UX430\\anaconda3\\lib\\site-packages\\sklearn\\metrics\\_classification.py:1308: UndefinedMetricWarning: Precision and F-score are ill-defined and being set to 0.0 in labels with no predicted samples. Use `zero_division` parameter to control this behavior.\n",
      "  _warn_prf(average, modifier, msg_start, len(result))\n",
      "c:\\Users\\UX430\\anaconda3\\lib\\site-packages\\sklearn\\metrics\\_classification.py:1308: UndefinedMetricWarning: Recall and F-score are ill-defined and being set to 0.0 in labels with no true samples. Use `zero_division` parameter to control this behavior.\n",
      "  _warn_prf(average, modifier, msg_start, len(result))\n",
      "c:\\Users\\UX430\\anaconda3\\lib\\site-packages\\sklearn\\metrics\\_classification.py:1308: UndefinedMetricWarning: Precision and F-score are ill-defined and being set to 0.0 in labels with no predicted samples. Use `zero_division` parameter to control this behavior.\n",
      "  _warn_prf(average, modifier, msg_start, len(result))\n",
      "c:\\Users\\UX430\\anaconda3\\lib\\site-packages\\sklearn\\metrics\\_classification.py:1308: UndefinedMetricWarning: Recall and F-score are ill-defined and being set to 0.0 in labels with no true samples. Use `zero_division` parameter to control this behavior.\n",
      "  _warn_prf(average, modifier, msg_start, len(result))\n",
      "c:\\Users\\UX430\\anaconda3\\lib\\site-packages\\sklearn\\metrics\\_classification.py:1308: UndefinedMetricWarning: Precision and F-score are ill-defined and being set to 0.0 in labels with no predicted samples. Use `zero_division` parameter to control this behavior.\n",
      "  _warn_prf(average, modifier, msg_start, len(result))\n",
      "c:\\Users\\UX430\\anaconda3\\lib\\site-packages\\sklearn\\metrics\\_classification.py:1308: UndefinedMetricWarning: Recall and F-score are ill-defined and being set to 0.0 in labels with no true samples. Use `zero_division` parameter to control this behavior.\n",
      "  _warn_prf(average, modifier, msg_start, len(result))\n"
     ]
    }
   ],
   "source": [
    "# Values saved each iteration \n",
    "loss_it = []\n",
    "accuracy_it = []\n",
    "f1_it = []\n",
    "precision_it = []\n",
    "recall_it = []\n",
    "\n",
    "for i in range(global_updates): \n",
    "    w_list = []\n",
    "    for node in range(num_nodes): \n",
    "        cp = global_model # create a copy of the global model\n",
    "        if node == 0:\n",
    "            x, y = x1, y1\n",
    "        elif node == 1:\n",
    "            x, y = x2, y2\n",
    "        else:\n",
    "            x, y = x3, y3\n",
    "        local_model, local_loss, local_acc, local_val_loss, local_val_acc = train_local_model(cp, node, x, y)\n",
    "        w_list.append(local_model.get_weights())\n",
    "\n",
    "    avg_w = aggregate(w_list)\n",
    "    global_model.set_weights(avg_w) # apply gradients to global model\n",
    "    loss_basic, accuracy_basic, f1_basic, precision_basic, recall_basic = evaluation(global_model, xbasic, ybasic) # Evaluate with test basic to know progress\n",
    "    loss_plus, accuracy_plus, f1_plus, precision_plus, recall_plus = evaluation(global_model, xplus, yplus) # Evaluate with test plus to know progress\n",
    "\n",
    "    loss_it.append([loss_basic, loss_plus])\n",
    "    accuracy_it.append([accuracy_basic, accuracy_plus])\n",
    "    f1_it.append([f1_basic, f1_plus])\n",
    "    precision_it.append([precision_basic, precision_plus])\n",
    "    recall_it.append([recall_basic, recall_plus])\n",
    "\n",
    "\n",
    "global_model.save('C:/Users/UX430/Documents/thesis/code/models/id310.hdf5')"
   ]
  },
  {
   "cell_type": "code",
   "execution_count": 91,
   "metadata": {},
   "outputs": [
    {
     "name": "stdout",
     "output_type": "stream",
     "text": [
      "Loss for iterations:  [[1.0237730741500854, 0.0], [0.8249384164810181, 0.0], [0.9147790670394897, 0.0], [1.074325442314148, 0.0], [1.217869520187378, 0.0], [1.3567068576812744, 0.0], [1.484483003616333, 0.0], [1.5786012411117554, 0.0], [1.6685655117034912, 0.0], [1.7719646692276, 0.0]]\n",
      "Accuracy for iterations:  [[0.9236623644828796, 0.0026467060670256615], [0.9085963368415833, 0.003308382583782077], [0.8968937993049622, 0.0014060626272112131], [0.82808917760849, 0.0014887722209095955], [0.7499535083770752, 0.0025226417928934097], [0.548003613948822, 0.001985029550269246], [0.5481120944023132, 0.0030188991222530603], [0.5173445343971252, 0.010007857345044613], [0.3387066721916199, 0.01670733280479908], [0.21197842061519623, 0.031884536147117615]]\n",
      "F1 for iterations:  [[0.902279788651716, 0.0052794390595999165], [0.8926317561239985, 0.006594946622150777], [0.8832665010353082, 0.0028081767499483793], [0.8322452060127586, 0.002973118057562869], [0.7749116402238502, 0.0050325880702912305], [0.6110192911676289, 0.0039621940649634734], [0.6114191281532744, 0.006019625628762267], [0.5961353178096337, 0.019817385251607093], [0.41844469176051313, 0.03286556843603823], [0.26273687801662365, 0.06179865341455595]]\n",
      "Precision for iterations:  [[0.9068308514268183, 1.0], [0.9082182925470064, 1.0], [0.8897513137320411, 1.0], [0.8768328384327456, 1.0], [0.8683614588647416, 1.0], [0.8528486469814064, 1.0], [0.8514744632533667, 1.0], [0.8588023366834016, 1.0], [0.8632730117495969, 1.0], [0.8732795160960635, 1.0]]\n",
      "Recall for iterations:  [[0.9236623473246947, 0.0026467060915594887], [0.9085963171926343, 0.003308382614449361], [0.8968937937875876, 0.0014060626111409786], [0.8280891561783124, 0.0014887721765022126], [0.7499534999069998, 0.002522641743517638], [0.5480035960071921, 0.0019850295686696167], [0.5481120962241924, 0.003018899135685042], [0.5173445346890694, 0.010007857408709317], [0.3387066774133548, 0.01670733220296927], [0.2119784239568479, 0.03188453744675572]]\n"
     ]
    }
   ],
   "source": [
    "print(\"Loss for iterations: \", loss_it)\n",
    "print(\"Accuracy for iterations: \", accuracy_it)\n",
    "print(\"F1 for iterations: \", f1_it)\n",
    "print(\"Precision for iterations: \", precision_it)\n",
    "print(\"Recall for iterations: \", recall_it)"
   ]
  },
  {
   "cell_type": "markdown",
   "metadata": {},
   "source": [
    "#### #Epochs = 5, #Iterations = 5"
   ]
  },
  {
   "cell_type": "code",
   "execution_count": 92,
   "metadata": {},
   "outputs": [],
   "source": [
    "# Load training datasets and testing datasets \n",
    "training1 = pd.read_csv('C:/Users/UX430/Documents/thesis/datasets/UNSW-NB15/UNSW-NB15-Train-Basic-Cat3B-Part1.csv')\n",
    "training2 = pd.read_csv('C:/Users/UX430/Documents/thesis/datasets/UNSW-NB15/UNSW-NB15-Train-Basic-Cat3B-Part2.csv')\n",
    "training3 = pd.read_csv('C:/Users/UX430/Documents/thesis/datasets/UNSW-NB15/UNSW-NB15-Train-Basic-Cat3B-Part3.csv')\n"
   ]
  },
  {
   "cell_type": "code",
   "execution_count": 93,
   "metadata": {},
   "outputs": [],
   "source": [
    "# Define \n",
    "node_datasets = [training1, training2, training3]\n",
    "num_nodes = 3\n",
    "global_updates = 5\n",
    "\n",
    "# Define model training parameters\n",
    "loss_fct = \"categorical_crossentropy\"\n",
    "metrics = ['accuracy']\n",
    "local_epochs = 5"
   ]
  },
  {
   "cell_type": "code",
   "execution_count": 94,
   "metadata": {},
   "outputs": [],
   "source": [
    "def train_local_model(model, node, x_train, y_train): \n",
    "    filepath = 'C:/Users/UX430/Documents/thesis/code/models/node'+str(node)+'ID311.hdf5'\n",
    "    callbacks = [\n",
    "            keras.callbacks.EarlyStopping(\n",
    "                monitor = 'val_loss', # Use accuracy to monitor the model\n",
    "                patience = 10 # Stop after 10 steps with lower accuracy\n",
    "            ),\n",
    "            keras.callbacks.ModelCheckpoint(\n",
    "                filepath = filepath, # file where the checkpoint is saved\n",
    "                monitor = 'val_loss', # Don't overwrite the saved model unless val_loss is worse\n",
    "                save_best_only = True)]# Only save model if it is the best\n",
    "    optimizer = keras.optimizers.Adam(learning_rate=1e-4)\n",
    "    model.compile(optimizer=optimizer, loss=loss_fct, metrics=metrics)\n",
    "    history = model.fit(x_train, y_train, epochs=local_epochs, validation_split=0.2, callbacks=callbacks, batch_size=1024)\n",
    "    return model, history.history['loss'], history.history['accuracy'], history.history['val_loss'], history.history['val_accuracy']"
   ]
  },
  {
   "cell_type": "code",
   "execution_count": 95,
   "metadata": {},
   "outputs": [],
   "source": [
    "def aggregate(w_list): \n",
    "    avg_w = np.mean(w_list, axis=0)\n",
    "    return avg_w"
   ]
  },
  {
   "cell_type": "code",
   "execution_count": 96,
   "metadata": {},
   "outputs": [],
   "source": [
    "global_model = build_model((24,1,1))"
   ]
  },
  {
   "cell_type": "code",
   "execution_count": 97,
   "metadata": {},
   "outputs": [],
   "source": [
    "x1, y1 = preprocessing(training1)\n",
    "x2, y2 = preprocessing(training2)\n",
    "x3, y3 = preprocessing(training3)\n"
   ]
  },
  {
   "cell_type": "code",
   "execution_count": 98,
   "metadata": {},
   "outputs": [
    {
     "name": "stdout",
     "output_type": "stream",
     "text": [
      "Epoch 1/5\n",
      "15/15 [==============================] - 1s 51ms/step - loss: 0.7485 - accuracy: 0.6808 - val_loss: 1.4227 - val_accuracy: 0.0000e+00\n",
      "Epoch 2/5\n",
      "15/15 [==============================] - 1s 40ms/step - loss: 0.4078 - accuracy: 0.9541 - val_loss: 1.4464 - val_accuracy: 0.0000e+00\n",
      "Epoch 3/5\n",
      "15/15 [==============================] - 1s 41ms/step - loss: 0.2669 - accuracy: 0.9566 - val_loss: 1.4729 - val_accuracy: 0.0000e+00\n",
      "Epoch 4/5\n",
      "15/15 [==============================] - 1s 41ms/step - loss: 0.2165 - accuracy: 0.9579 - val_loss: 1.4985 - val_accuracy: 0.0000e+00\n",
      "Epoch 5/5\n",
      "15/15 [==============================] - 1s 41ms/step - loss: 0.1986 - accuracy: 0.9602 - val_loss: 1.5230 - val_accuracy: 0.0000e+00\n",
      "Epoch 1/5\n",
      "15/15 [==============================] - 1s 51ms/step - loss: 0.1834 - accuracy: 0.9626 - val_loss: 1.5605 - val_accuracy: 2.7488e-04\n",
      "Epoch 2/5\n",
      "15/15 [==============================] - 1s 45ms/step - loss: 0.1710 - accuracy: 0.9628 - val_loss: 1.5963 - val_accuracy: 0.0011\n",
      "Epoch 3/5\n",
      "15/15 [==============================] - 1s 43ms/step - loss: 0.1648 - accuracy: 0.9632 - val_loss: 1.6432 - val_accuracy: 0.0019\n",
      "Epoch 4/5\n",
      "15/15 [==============================] - 1s 42ms/step - loss: 0.1610 - accuracy: 0.9634 - val_loss: 1.6899 - val_accuracy: 0.0019\n",
      "Epoch 5/5\n",
      "15/15 [==============================] - 1s 42ms/step - loss: 0.1580 - accuracy: 0.9636 - val_loss: 1.7399 - val_accuracy: 0.0022\n",
      "Epoch 1/5\n",
      "15/15 [==============================] - 1s 52ms/step - loss: 0.1533 - accuracy: 0.9651 - val_loss: 1.8173 - val_accuracy: 0.0011\n",
      "Epoch 2/5\n",
      "15/15 [==============================] - 1s 44ms/step - loss: 0.1506 - accuracy: 0.9649 - val_loss: 1.8864 - val_accuracy: 8.2463e-04\n",
      "Epoch 3/5\n",
      "15/15 [==============================] - 1s 50ms/step - loss: 0.1487 - accuracy: 0.9651 - val_loss: 1.9605 - val_accuracy: 0.0011\n",
      "Epoch 4/5\n",
      "15/15 [==============================] - 1s 49ms/step - loss: 0.1468 - accuracy: 0.9653 - val_loss: 2.0443 - val_accuracy: 8.2463e-04\n",
      "Epoch 5/5\n",
      "15/15 [==============================] - 1s 45ms/step - loss: 0.1454 - accuracy: 0.9654 - val_loss: 2.1311 - val_accuracy: 0.0014\n",
      "  60/2017 [..............................] - ETA: 3s - loss: 1.2191 - accuracy: 0.8094"
     ]
    },
    {
     "name": "stderr",
     "output_type": "stream",
     "text": [
      "c:\\Users\\UX430\\anaconda3\\lib\\site-packages\\numpy\\core\\_asarray.py:171: VisibleDeprecationWarning: Creating an ndarray from ragged nested sequences (which is a list-or-tuple of lists-or-tuples-or ndarrays with different lengths or shapes) is deprecated. If you meant to do this, you must specify 'dtype=object' when creating the ndarray.\n",
      "  return array(a, dtype, copy=False, order=order, subok=True)\n"
     ]
    },
    {
     "name": "stdout",
     "output_type": "stream",
     "text": [
      "2017/2017 [==============================] - 3s 1ms/step - loss: 1.2214 - accuracy: 0.8111\n",
      " 88/756 [==>...........................] - ETA: 0s - loss: 0.0000e+00 - accuracy: 0.0000e+00"
     ]
    },
    {
     "name": "stderr",
     "output_type": "stream",
     "text": [
      "c:\\Users\\UX430\\anaconda3\\lib\\site-packages\\sklearn\\metrics\\_classification.py:1308: UndefinedMetricWarning: Precision and F-score are ill-defined and being set to 0.0 in labels with no predicted samples. Use `zero_division` parameter to control this behavior.\n",
      "  _warn_prf(average, modifier, msg_start, len(result))\n",
      "c:\\Users\\UX430\\anaconda3\\lib\\site-packages\\sklearn\\metrics\\_classification.py:1308: UndefinedMetricWarning: Precision and F-score are ill-defined and being set to 0.0 in labels with no predicted samples. Use `zero_division` parameter to control this behavior.\n",
      "  _warn_prf(average, modifier, msg_start, len(result))\n",
      "c:\\Users\\UX430\\anaconda3\\lib\\site-packages\\sklearn\\metrics\\_classification.py:1308: UndefinedMetricWarning: Precision and F-score are ill-defined and being set to 0.0 in labels with no predicted samples. Use `zero_division` parameter to control this behavior.\n",
      "  _warn_prf(average, modifier, msg_start, len(result))\n"
     ]
    },
    {
     "name": "stdout",
     "output_type": "stream",
     "text": [
      "756/756 [==============================] - 1s 1ms/step - loss: 0.0000e+00 - accuracy: 4.1355e-05\n"
     ]
    },
    {
     "name": "stderr",
     "output_type": "stream",
     "text": [
      "c:\\Users\\UX430\\anaconda3\\lib\\site-packages\\sklearn\\metrics\\_classification.py:1308: UndefinedMetricWarning: Precision and F-score are ill-defined and being set to 0.0 in labels with no predicted samples. Use `zero_division` parameter to control this behavior.\n",
      "  _warn_prf(average, modifier, msg_start, len(result))\n",
      "c:\\Users\\UX430\\anaconda3\\lib\\site-packages\\sklearn\\metrics\\_classification.py:1308: UndefinedMetricWarning: Recall and F-score are ill-defined and being set to 0.0 in labels with no true samples. Use `zero_division` parameter to control this behavior.\n",
      "  _warn_prf(average, modifier, msg_start, len(result))\n",
      "c:\\Users\\UX430\\anaconda3\\lib\\site-packages\\sklearn\\metrics\\_classification.py:1308: UndefinedMetricWarning: Precision and F-score are ill-defined and being set to 0.0 in labels with no predicted samples. Use `zero_division` parameter to control this behavior.\n",
      "  _warn_prf(average, modifier, msg_start, len(result))\n",
      "c:\\Users\\UX430\\anaconda3\\lib\\site-packages\\sklearn\\metrics\\_classification.py:1308: UndefinedMetricWarning: Recall and F-score are ill-defined and being set to 0.0 in labels with no true samples. Use `zero_division` parameter to control this behavior.\n",
      "  _warn_prf(average, modifier, msg_start, len(result))\n",
      "c:\\Users\\UX430\\anaconda3\\lib\\site-packages\\sklearn\\metrics\\_classification.py:1308: UndefinedMetricWarning: Precision and F-score are ill-defined and being set to 0.0 in labels with no predicted samples. Use `zero_division` parameter to control this behavior.\n",
      "  _warn_prf(average, modifier, msg_start, len(result))\n",
      "c:\\Users\\UX430\\anaconda3\\lib\\site-packages\\sklearn\\metrics\\_classification.py:1308: UndefinedMetricWarning: Recall and F-score are ill-defined and being set to 0.0 in labels with no true samples. Use `zero_division` parameter to control this behavior.\n",
      "  _warn_prf(average, modifier, msg_start, len(result))\n"
     ]
    },
    {
     "name": "stdout",
     "output_type": "stream",
     "text": [
      "Epoch 1/5\n",
      "15/15 [==============================] - 1s 64ms/step - loss: 0.1627 - accuracy: 0.9619 - val_loss: 1.7466 - val_accuracy: 0.0014\n",
      "Epoch 2/5\n",
      "15/15 [==============================] - 1s 41ms/step - loss: 0.1590 - accuracy: 0.9624 - val_loss: 1.8091 - val_accuracy: 0.0011\n",
      "Epoch 3/5\n",
      "15/15 [==============================] - 1s 45ms/step - loss: 0.1563 - accuracy: 0.9625 - val_loss: 1.8756 - val_accuracy: 0.0011\n",
      "Epoch 4/5\n",
      "15/15 [==============================] - 1s 50ms/step - loss: 0.1543 - accuracy: 0.9626 - val_loss: 1.9423 - val_accuracy: 0.0011\n",
      "Epoch 5/5\n",
      "15/15 [==============================] - 1s 41ms/step - loss: 0.1528 - accuracy: 0.9626 - val_loss: 2.0198 - val_accuracy: 0.0011\n",
      "Epoch 1/5\n",
      "15/15 [==============================] - 1s 55ms/step - loss: 0.1486 - accuracy: 0.9645 - val_loss: 2.1197 - val_accuracy: 0.0016\n",
      "Epoch 2/5\n",
      "15/15 [==============================] - 1s 43ms/step - loss: 0.1462 - accuracy: 0.9652 - val_loss: 2.2076 - val_accuracy: 0.0016\n",
      "Epoch 3/5\n",
      "15/15 [==============================] - 1s 52ms/step - loss: 0.1452 - accuracy: 0.9653 - val_loss: 2.3224 - val_accuracy: 0.0014\n",
      "Epoch 4/5\n",
      "15/15 [==============================] - 1s 41ms/step - loss: 0.1439 - accuracy: 0.9655 - val_loss: 2.4483 - val_accuracy: 0.0025\n",
      "Epoch 5/5\n",
      "15/15 [==============================] - 1s 42ms/step - loss: 0.1432 - accuracy: 0.9667 - val_loss: 2.5839 - val_accuracy: 0.0019\n",
      "Epoch 1/5\n",
      "15/15 [==============================] - 1s 60ms/step - loss: 0.1427 - accuracy: 0.9665 - val_loss: 2.7714 - val_accuracy: 8.2463e-04\n",
      "Epoch 2/5\n",
      "15/15 [==============================] - 1s 41ms/step - loss: 0.1414 - accuracy: 0.9664 - val_loss: 2.9187 - val_accuracy: 8.2463e-04\n",
      "Epoch 3/5\n",
      "15/15 [==============================] - 1s 42ms/step - loss: 0.1405 - accuracy: 0.9671 - val_loss: 3.1045 - val_accuracy: 8.2463e-04\n",
      "Epoch 4/5\n",
      "15/15 [==============================] - 1s 41ms/step - loss: 0.1396 - accuracy: 0.9671 - val_loss: 3.3039 - val_accuracy: 8.2463e-04\n",
      "Epoch 5/5\n",
      "15/15 [==============================] - 1s 53ms/step - loss: 0.1392 - accuracy: 0.9670 - val_loss: 3.5085 - val_accuracy: 8.2463e-04\n",
      "  77/2017 [>.............................] - ETA: 2s - loss: 1.0073 - accuracy: 0.9294"
     ]
    },
    {
     "name": "stderr",
     "output_type": "stream",
     "text": [
      "c:\\Users\\UX430\\anaconda3\\lib\\site-packages\\numpy\\core\\_asarray.py:171: VisibleDeprecationWarning: Creating an ndarray from ragged nested sequences (which is a list-or-tuple of lists-or-tuples-or ndarrays with different lengths or shapes) is deprecated. If you meant to do this, you must specify 'dtype=object' when creating the ndarray.\n",
      "  return array(a, dtype, copy=False, order=order, subok=True)\n"
     ]
    },
    {
     "name": "stdout",
     "output_type": "stream",
     "text": [
      "2017/2017 [==============================] - 3s 1ms/step - loss: 1.0118 - accuracy: 0.9234\n",
      " 85/756 [==>...........................] - ETA: 0s - loss: 0.0000e+00 - accuracy: 0.0000e+00"
     ]
    },
    {
     "name": "stderr",
     "output_type": "stream",
     "text": [
      "c:\\Users\\UX430\\anaconda3\\lib\\site-packages\\sklearn\\metrics\\_classification.py:1308: UndefinedMetricWarning: Precision and F-score are ill-defined and being set to 0.0 in labels with no predicted samples. Use `zero_division` parameter to control this behavior.\n",
      "  _warn_prf(average, modifier, msg_start, len(result))\n",
      "c:\\Users\\UX430\\anaconda3\\lib\\site-packages\\sklearn\\metrics\\_classification.py:1308: UndefinedMetricWarning: Precision and F-score are ill-defined and being set to 0.0 in labels with no predicted samples. Use `zero_division` parameter to control this behavior.\n",
      "  _warn_prf(average, modifier, msg_start, len(result))\n",
      "c:\\Users\\UX430\\anaconda3\\lib\\site-packages\\sklearn\\metrics\\_classification.py:1308: UndefinedMetricWarning: Precision and F-score are ill-defined and being set to 0.0 in labels with no predicted samples. Use `zero_division` parameter to control this behavior.\n",
      "  _warn_prf(average, modifier, msg_start, len(result))\n"
     ]
    },
    {
     "name": "stdout",
     "output_type": "stream",
     "text": [
      "756/756 [==============================] - 1s 1ms/step - loss: 0.0000e+00 - accuracy: 4.1355e-05\n"
     ]
    },
    {
     "name": "stderr",
     "output_type": "stream",
     "text": [
      "c:\\Users\\UX430\\anaconda3\\lib\\site-packages\\sklearn\\metrics\\_classification.py:1308: UndefinedMetricWarning: Precision and F-score are ill-defined and being set to 0.0 in labels with no predicted samples. Use `zero_division` parameter to control this behavior.\n",
      "  _warn_prf(average, modifier, msg_start, len(result))\n",
      "c:\\Users\\UX430\\anaconda3\\lib\\site-packages\\sklearn\\metrics\\_classification.py:1308: UndefinedMetricWarning: Recall and F-score are ill-defined and being set to 0.0 in labels with no true samples. Use `zero_division` parameter to control this behavior.\n",
      "  _warn_prf(average, modifier, msg_start, len(result))\n",
      "c:\\Users\\UX430\\anaconda3\\lib\\site-packages\\sklearn\\metrics\\_classification.py:1308: UndefinedMetricWarning: Precision and F-score are ill-defined and being set to 0.0 in labels with no predicted samples. Use `zero_division` parameter to control this behavior.\n",
      "  _warn_prf(average, modifier, msg_start, len(result))\n",
      "c:\\Users\\UX430\\anaconda3\\lib\\site-packages\\sklearn\\metrics\\_classification.py:1308: UndefinedMetricWarning: Recall and F-score are ill-defined and being set to 0.0 in labels with no true samples. Use `zero_division` parameter to control this behavior.\n",
      "  _warn_prf(average, modifier, msg_start, len(result))\n",
      "c:\\Users\\UX430\\anaconda3\\lib\\site-packages\\sklearn\\metrics\\_classification.py:1308: UndefinedMetricWarning: Precision and F-score are ill-defined and being set to 0.0 in labels with no predicted samples. Use `zero_division` parameter to control this behavior.\n",
      "  _warn_prf(average, modifier, msg_start, len(result))\n",
      "c:\\Users\\UX430\\anaconda3\\lib\\site-packages\\sklearn\\metrics\\_classification.py:1308: UndefinedMetricWarning: Recall and F-score are ill-defined and being set to 0.0 in labels with no true samples. Use `zero_division` parameter to control this behavior.\n",
      "  _warn_prf(average, modifier, msg_start, len(result))\n"
     ]
    },
    {
     "name": "stdout",
     "output_type": "stream",
     "text": [
      "Epoch 1/5\n",
      "15/15 [==============================] - 1s 53ms/step - loss: 0.1489 - accuracy: 0.9645 - val_loss: 2.5837 - val_accuracy: 0.0014\n",
      "Epoch 2/5\n",
      "15/15 [==============================] - 1s 40ms/step - loss: 0.1472 - accuracy: 0.9654 - val_loss: 2.7365 - val_accuracy: 0.0014\n",
      "Epoch 3/5\n",
      "15/15 [==============================] - 1s 53ms/step - loss: 0.1469 - accuracy: 0.9654 - val_loss: 2.8905 - val_accuracy: 0.0014\n",
      "Epoch 4/5\n",
      "15/15 [==============================] - 1s 44ms/step - loss: 0.1460 - accuracy: 0.9659 - val_loss: 3.0413 - val_accuracy: 0.0014\n",
      "Epoch 5/5\n",
      "15/15 [==============================] - 1s 42ms/step - loss: 0.1456 - accuracy: 0.9659 - val_loss: 3.2462 - val_accuracy: 0.0014\n",
      "Epoch 1/5\n",
      "15/15 [==============================] - 1s 60ms/step - loss: 0.1426 - accuracy: 0.9674 - val_loss: 3.4689 - val_accuracy: 0.0027\n",
      "Epoch 2/5\n",
      "15/15 [==============================] - 1s 41ms/step - loss: 0.1411 - accuracy: 0.9676 - val_loss: 3.6381 - val_accuracy: 0.0030\n",
      "Epoch 3/5\n",
      "15/15 [==============================] - 1s 41ms/step - loss: 0.1402 - accuracy: 0.9676 - val_loss: 3.8818 - val_accuracy: 0.0022\n",
      "Epoch 4/5\n",
      "15/15 [==============================] - 1s 48ms/step - loss: 0.1402 - accuracy: 0.9674 - val_loss: 4.1141 - val_accuracy: 0.0027\n",
      "Epoch 5/5\n",
      "15/15 [==============================] - 1s 49ms/step - loss: 0.1395 - accuracy: 0.9675 - val_loss: 4.3793 - val_accuracy: 0.0025\n",
      "Epoch 1/5\n",
      "15/15 [==============================] - 1s 51ms/step - loss: 0.1400 - accuracy: 0.9676 - val_loss: 4.6017 - val_accuracy: 0.0022\n",
      "Epoch 2/5\n",
      "15/15 [==============================] - 1s 41ms/step - loss: 0.1387 - accuracy: 0.9676 - val_loss: 4.8893 - val_accuracy: 0.0016\n",
      "Epoch 3/5\n",
      "15/15 [==============================] - 1s 48ms/step - loss: 0.1379 - accuracy: 0.9676 - val_loss: 5.1084 - val_accuracy: 0.0016\n",
      "Epoch 4/5\n",
      "15/15 [==============================] - 1s 42ms/step - loss: 0.1376 - accuracy: 0.9678 - val_loss: 5.3668 - val_accuracy: 0.0019\n",
      "Epoch 5/5\n",
      "15/15 [==============================] - 1s 42ms/step - loss: 0.1372 - accuracy: 0.9677 - val_loss: 5.6158 - val_accuracy: 8.2463e-04\n",
      "  75/2017 [>.............................] - ETA: 2s - loss: 0.8378 - accuracy: 0.9308"
     ]
    },
    {
     "name": "stderr",
     "output_type": "stream",
     "text": [
      "c:\\Users\\UX430\\anaconda3\\lib\\site-packages\\numpy\\core\\_asarray.py:171: VisibleDeprecationWarning: Creating an ndarray from ragged nested sequences (which is a list-or-tuple of lists-or-tuples-or ndarrays with different lengths or shapes) is deprecated. If you meant to do this, you must specify 'dtype=object' when creating the ndarray.\n",
      "  return array(a, dtype, copy=False, order=order, subok=True)\n"
     ]
    },
    {
     "name": "stdout",
     "output_type": "stream",
     "text": [
      "2017/2017 [==============================] - 3s 1ms/step - loss: 0.8540 - accuracy: 0.9229\n",
      " 83/756 [==>...........................] - ETA: 0s - loss: 0.0000e+00 - accuracy: 0.0000e+00"
     ]
    },
    {
     "name": "stderr",
     "output_type": "stream",
     "text": [
      "c:\\Users\\UX430\\anaconda3\\lib\\site-packages\\sklearn\\metrics\\_classification.py:1308: UndefinedMetricWarning: Precision and F-score are ill-defined and being set to 0.0 in labels with no predicted samples. Use `zero_division` parameter to control this behavior.\n",
      "  _warn_prf(average, modifier, msg_start, len(result))\n",
      "c:\\Users\\UX430\\anaconda3\\lib\\site-packages\\sklearn\\metrics\\_classification.py:1308: UndefinedMetricWarning: Precision and F-score are ill-defined and being set to 0.0 in labels with no predicted samples. Use `zero_division` parameter to control this behavior.\n",
      "  _warn_prf(average, modifier, msg_start, len(result))\n",
      "c:\\Users\\UX430\\anaconda3\\lib\\site-packages\\sklearn\\metrics\\_classification.py:1308: UndefinedMetricWarning: Precision and F-score are ill-defined and being set to 0.0 in labels with no predicted samples. Use `zero_division` parameter to control this behavior.\n",
      "  _warn_prf(average, modifier, msg_start, len(result))\n"
     ]
    },
    {
     "name": "stdout",
     "output_type": "stream",
     "text": [
      "756/756 [==============================] - 1s 1ms/step - loss: 0.0000e+00 - accuracy: 8.2710e-05\n"
     ]
    },
    {
     "name": "stderr",
     "output_type": "stream",
     "text": [
      "c:\\Users\\UX430\\anaconda3\\lib\\site-packages\\sklearn\\metrics\\_classification.py:1308: UndefinedMetricWarning: Precision and F-score are ill-defined and being set to 0.0 in labels with no predicted samples. Use `zero_division` parameter to control this behavior.\n",
      "  _warn_prf(average, modifier, msg_start, len(result))\n",
      "c:\\Users\\UX430\\anaconda3\\lib\\site-packages\\sklearn\\metrics\\_classification.py:1308: UndefinedMetricWarning: Recall and F-score are ill-defined and being set to 0.0 in labels with no true samples. Use `zero_division` parameter to control this behavior.\n",
      "  _warn_prf(average, modifier, msg_start, len(result))\n",
      "c:\\Users\\UX430\\anaconda3\\lib\\site-packages\\sklearn\\metrics\\_classification.py:1308: UndefinedMetricWarning: Precision and F-score are ill-defined and being set to 0.0 in labels with no predicted samples. Use `zero_division` parameter to control this behavior.\n",
      "  _warn_prf(average, modifier, msg_start, len(result))\n",
      "c:\\Users\\UX430\\anaconda3\\lib\\site-packages\\sklearn\\metrics\\_classification.py:1308: UndefinedMetricWarning: Recall and F-score are ill-defined and being set to 0.0 in labels with no true samples. Use `zero_division` parameter to control this behavior.\n",
      "  _warn_prf(average, modifier, msg_start, len(result))\n",
      "c:\\Users\\UX430\\anaconda3\\lib\\site-packages\\sklearn\\metrics\\_classification.py:1308: UndefinedMetricWarning: Precision and F-score are ill-defined and being set to 0.0 in labels with no predicted samples. Use `zero_division` parameter to control this behavior.\n",
      "  _warn_prf(average, modifier, msg_start, len(result))\n",
      "c:\\Users\\UX430\\anaconda3\\lib\\site-packages\\sklearn\\metrics\\_classification.py:1308: UndefinedMetricWarning: Recall and F-score are ill-defined and being set to 0.0 in labels with no true samples. Use `zero_division` parameter to control this behavior.\n",
      "  _warn_prf(average, modifier, msg_start, len(result))\n"
     ]
    },
    {
     "name": "stdout",
     "output_type": "stream",
     "text": [
      "Epoch 1/5\n",
      "15/15 [==============================] - 1s 54ms/step - loss: 0.1449 - accuracy: 0.9667 - val_loss: 4.3329 - val_accuracy: 0.0019\n",
      "Epoch 2/5\n",
      "15/15 [==============================] - 1s 50ms/step - loss: 0.1443 - accuracy: 0.9665 - val_loss: 4.5732 - val_accuracy: 0.0019\n",
      "Epoch 3/5\n",
      "15/15 [==============================] - 1s 51ms/step - loss: 0.1440 - accuracy: 0.9665 - val_loss: 4.8365 - val_accuracy: 0.0022\n",
      "Epoch 4/5\n",
      "15/15 [==============================] - 1s 48ms/step - loss: 0.1435 - accuracy: 0.9665 - val_loss: 5.0509 - val_accuracy: 0.0014\n",
      "Epoch 5/5\n",
      "15/15 [==============================] - 1s 45ms/step - loss: 0.1432 - accuracy: 0.9665 - val_loss: 5.3136 - val_accuracy: 0.0014\n",
      "Epoch 1/5\n",
      "15/15 [==============================] - 1s 64ms/step - loss: 0.1406 - accuracy: 0.9677 - val_loss: 5.5583 - val_accuracy: 0.0027\n",
      "Epoch 2/5\n",
      "15/15 [==============================] - 1s 48ms/step - loss: 0.1394 - accuracy: 0.9678 - val_loss: 5.7969 - val_accuracy: 0.0025\n",
      "Epoch 3/5\n",
      "15/15 [==============================] - 1s 53ms/step - loss: 0.1387 - accuracy: 0.9677 - val_loss: 6.0738 - val_accuracy: 0.0027\n",
      "Epoch 4/5\n",
      "15/15 [==============================] - 1s 49ms/step - loss: 0.1383 - accuracy: 0.9678 - val_loss: 6.3014 - val_accuracy: 0.0027\n",
      "Epoch 5/5\n",
      "15/15 [==============================] - 1s 46ms/step - loss: 0.1378 - accuracy: 0.9680 - val_loss: 6.5346 - val_accuracy: 0.0022\n",
      "Epoch 1/5\n",
      "15/15 [==============================] - 1s 64ms/step - loss: 0.1389 - accuracy: 0.9676 - val_loss: 6.7097 - val_accuracy: 0.0016\n",
      "Epoch 2/5\n",
      "15/15 [==============================] - 1s 42ms/step - loss: 0.1374 - accuracy: 0.9679 - val_loss: 7.0220 - val_accuracy: 5.4975e-04\n",
      "Epoch 3/5\n",
      "15/15 [==============================] - 1s 50ms/step - loss: 0.1368 - accuracy: 0.9677 - val_loss: 7.1891 - val_accuracy: 0.0014\n",
      "Epoch 4/5\n",
      "15/15 [==============================] - 1s 60ms/step - loss: 0.1364 - accuracy: 0.9678 - val_loss: 7.3145 - val_accuracy: 0.0016\n",
      "Epoch 5/5\n",
      "15/15 [==============================] - 1s 51ms/step - loss: 0.1361 - accuracy: 0.9679 - val_loss: 7.5394 - val_accuracy: 0.0016\n",
      "  56/2017 [..............................] - ETA: 3s - loss: 0.8412 - accuracy: 0.8371"
     ]
    },
    {
     "name": "stderr",
     "output_type": "stream",
     "text": [
      "c:\\Users\\UX430\\anaconda3\\lib\\site-packages\\numpy\\core\\_asarray.py:171: VisibleDeprecationWarning: Creating an ndarray from ragged nested sequences (which is a list-or-tuple of lists-or-tuples-or ndarrays with different lengths or shapes) is deprecated. If you meant to do this, you must specify 'dtype=object' when creating the ndarray.\n",
      "  return array(a, dtype, copy=False, order=order, subok=True)\n"
     ]
    },
    {
     "name": "stdout",
     "output_type": "stream",
     "text": [
      "2017/2017 [==============================] - 3s 2ms/step - loss: 0.8655 - accuracy: 0.8311\n",
      " 70/756 [=>............................] - ETA: 1s - loss: 0.0000e+00 - accuracy: 0.0000e+00"
     ]
    },
    {
     "name": "stderr",
     "output_type": "stream",
     "text": [
      "c:\\Users\\UX430\\anaconda3\\lib\\site-packages\\sklearn\\metrics\\_classification.py:1308: UndefinedMetricWarning: Precision and F-score are ill-defined and being set to 0.0 in labels with no predicted samples. Use `zero_division` parameter to control this behavior.\n",
      "  _warn_prf(average, modifier, msg_start, len(result))\n",
      "c:\\Users\\UX430\\anaconda3\\lib\\site-packages\\sklearn\\metrics\\_classification.py:1308: UndefinedMetricWarning: Precision and F-score are ill-defined and being set to 0.0 in labels with no predicted samples. Use `zero_division` parameter to control this behavior.\n",
      "  _warn_prf(average, modifier, msg_start, len(result))\n",
      "c:\\Users\\UX430\\anaconda3\\lib\\site-packages\\sklearn\\metrics\\_classification.py:1308: UndefinedMetricWarning: Precision and F-score are ill-defined and being set to 0.0 in labels with no predicted samples. Use `zero_division` parameter to control this behavior.\n",
      "  _warn_prf(average, modifier, msg_start, len(result))\n"
     ]
    },
    {
     "name": "stdout",
     "output_type": "stream",
     "text": [
      "756/756 [==============================] - 1s 1ms/step - loss: 0.0000e+00 - accuracy: 5.3761e-04\n"
     ]
    },
    {
     "name": "stderr",
     "output_type": "stream",
     "text": [
      "c:\\Users\\UX430\\anaconda3\\lib\\site-packages\\sklearn\\metrics\\_classification.py:1308: UndefinedMetricWarning: Precision and F-score are ill-defined and being set to 0.0 in labels with no predicted samples. Use `zero_division` parameter to control this behavior.\n",
      "  _warn_prf(average, modifier, msg_start, len(result))\n",
      "c:\\Users\\UX430\\anaconda3\\lib\\site-packages\\sklearn\\metrics\\_classification.py:1308: UndefinedMetricWarning: Recall and F-score are ill-defined and being set to 0.0 in labels with no true samples. Use `zero_division` parameter to control this behavior.\n",
      "  _warn_prf(average, modifier, msg_start, len(result))\n",
      "c:\\Users\\UX430\\anaconda3\\lib\\site-packages\\sklearn\\metrics\\_classification.py:1308: UndefinedMetricWarning: Precision and F-score are ill-defined and being set to 0.0 in labels with no predicted samples. Use `zero_division` parameter to control this behavior.\n",
      "  _warn_prf(average, modifier, msg_start, len(result))\n",
      "c:\\Users\\UX430\\anaconda3\\lib\\site-packages\\sklearn\\metrics\\_classification.py:1308: UndefinedMetricWarning: Recall and F-score are ill-defined and being set to 0.0 in labels with no true samples. Use `zero_division` parameter to control this behavior.\n",
      "  _warn_prf(average, modifier, msg_start, len(result))\n",
      "c:\\Users\\UX430\\anaconda3\\lib\\site-packages\\sklearn\\metrics\\_classification.py:1308: UndefinedMetricWarning: Precision and F-score are ill-defined and being set to 0.0 in labels with no predicted samples. Use `zero_division` parameter to control this behavior.\n",
      "  _warn_prf(average, modifier, msg_start, len(result))\n",
      "c:\\Users\\UX430\\anaconda3\\lib\\site-packages\\sklearn\\metrics\\_classification.py:1308: UndefinedMetricWarning: Recall and F-score are ill-defined and being set to 0.0 in labels with no true samples. Use `zero_division` parameter to control this behavior.\n",
      "  _warn_prf(average, modifier, msg_start, len(result))\n"
     ]
    },
    {
     "name": "stdout",
     "output_type": "stream",
     "text": [
      "Epoch 1/5\n",
      "15/15 [==============================] - 1s 53ms/step - loss: 0.1438 - accuracy: 0.9667 - val_loss: 6.5061 - val_accuracy: 0.0022\n",
      "Epoch 2/5\n",
      "15/15 [==============================] - 1s 42ms/step - loss: 0.1427 - accuracy: 0.9666 - val_loss: 6.7953 - val_accuracy: 0.0011\n",
      "Epoch 3/5\n",
      "15/15 [==============================] - 1s 45ms/step - loss: 0.1420 - accuracy: 0.9666 - val_loss: 6.9224 - val_accuracy: 0.0019\n",
      "Epoch 4/5\n",
      "15/15 [==============================] - 1s 54ms/step - loss: 0.1420 - accuracy: 0.9666 - val_loss: 7.1737 - val_accuracy: 0.0011\n",
      "Epoch 5/5\n",
      "15/15 [==============================] - 1s 50ms/step - loss: 0.1418 - accuracy: 0.9667 - val_loss: 7.3166 - val_accuracy: 0.0019\n",
      "Epoch 1/5\n",
      "15/15 [==============================] - 1s 52ms/step - loss: 0.1393 - accuracy: 0.9680 - val_loss: 7.4781 - val_accuracy: 0.0025\n",
      "Epoch 2/5\n",
      "15/15 [==============================] - 1s 50ms/step - loss: 0.1380 - accuracy: 0.9678 - val_loss: 7.7044 - val_accuracy: 0.0025\n",
      "Epoch 3/5\n",
      "15/15 [==============================] - 1s 46ms/step - loss: 0.1374 - accuracy: 0.9679 - val_loss: 7.8451 - val_accuracy: 0.0025\n",
      "Epoch 4/5\n",
      "15/15 [==============================] - 1s 44ms/step - loss: 0.1369 - accuracy: 0.9679 - val_loss: 8.0929 - val_accuracy: 0.0033\n",
      "Epoch 5/5\n",
      "15/15 [==============================] - 1s 55ms/step - loss: 0.1367 - accuracy: 0.9682 - val_loss: 8.2403 - val_accuracy: 0.0022\n",
      "Epoch 1/5\n",
      "15/15 [==============================] - 1s 53ms/step - loss: 0.1377 - accuracy: 0.9680 - val_loss: 8.4210 - val_accuracy: 0.0011\n",
      "Epoch 2/5\n",
      "15/15 [==============================] - 1s 45ms/step - loss: 0.1362 - accuracy: 0.9678 - val_loss: 8.5088 - val_accuracy: 0.0011\n",
      "Epoch 3/5\n",
      "15/15 [==============================] - 1s 53ms/step - loss: 0.1355 - accuracy: 0.9680 - val_loss: 8.5757 - val_accuracy: 0.0014\n",
      "Epoch 4/5\n",
      "15/15 [==============================] - 1s 50ms/step - loss: 0.1349 - accuracy: 0.9680 - val_loss: 8.7190 - val_accuracy: 0.0014\n",
      "Epoch 5/5\n",
      "15/15 [==============================] - 1s 46ms/step - loss: 0.1349 - accuracy: 0.9681 - val_loss: 8.8047 - val_accuracy: 0.0019\n",
      "  73/2017 [>.............................] - ETA: 4s - loss: 0.8995 - accuracy: 0.8146"
     ]
    },
    {
     "name": "stderr",
     "output_type": "stream",
     "text": [
      "c:\\Users\\UX430\\anaconda3\\lib\\site-packages\\numpy\\core\\_asarray.py:171: VisibleDeprecationWarning: Creating an ndarray from ragged nested sequences (which is a list-or-tuple of lists-or-tuples-or ndarrays with different lengths or shapes) is deprecated. If you meant to do this, you must specify 'dtype=object' when creating the ndarray.\n",
      "  return array(a, dtype, copy=False, order=order, subok=True)\n"
     ]
    },
    {
     "name": "stdout",
     "output_type": "stream",
     "text": [
      "2017/2017 [==============================] - 4s 2ms/step - loss: 0.9344 - accuracy: 0.8063\n",
      " 66/756 [=>............................] - ETA: 1s - loss: 0.0000e+00 - accuracy: 0.0000e+00"
     ]
    },
    {
     "name": "stderr",
     "output_type": "stream",
     "text": [
      "c:\\Users\\UX430\\anaconda3\\lib\\site-packages\\sklearn\\metrics\\_classification.py:1308: UndefinedMetricWarning: Precision and F-score are ill-defined and being set to 0.0 in labels with no predicted samples. Use `zero_division` parameter to control this behavior.\n",
      "  _warn_prf(average, modifier, msg_start, len(result))\n",
      "c:\\Users\\UX430\\anaconda3\\lib\\site-packages\\sklearn\\metrics\\_classification.py:1308: UndefinedMetricWarning: Precision and F-score are ill-defined and being set to 0.0 in labels with no predicted samples. Use `zero_division` parameter to control this behavior.\n",
      "  _warn_prf(average, modifier, msg_start, len(result))\n",
      "c:\\Users\\UX430\\anaconda3\\lib\\site-packages\\sklearn\\metrics\\_classification.py:1308: UndefinedMetricWarning: Precision and F-score are ill-defined and being set to 0.0 in labels with no predicted samples. Use `zero_division` parameter to control this behavior.\n",
      "  _warn_prf(average, modifier, msg_start, len(result))\n"
     ]
    },
    {
     "name": "stdout",
     "output_type": "stream",
     "text": [
      "756/756 [==============================] - 1s 2ms/step - loss: 0.0000e+00 - accuracy: 8.6845e-04\n"
     ]
    },
    {
     "name": "stderr",
     "output_type": "stream",
     "text": [
      "c:\\Users\\UX430\\anaconda3\\lib\\site-packages\\sklearn\\metrics\\_classification.py:1308: UndefinedMetricWarning: Precision and F-score are ill-defined and being set to 0.0 in labels with no predicted samples. Use `zero_division` parameter to control this behavior.\n",
      "  _warn_prf(average, modifier, msg_start, len(result))\n",
      "c:\\Users\\UX430\\anaconda3\\lib\\site-packages\\sklearn\\metrics\\_classification.py:1308: UndefinedMetricWarning: Recall and F-score are ill-defined and being set to 0.0 in labels with no true samples. Use `zero_division` parameter to control this behavior.\n",
      "  _warn_prf(average, modifier, msg_start, len(result))\n",
      "c:\\Users\\UX430\\anaconda3\\lib\\site-packages\\sklearn\\metrics\\_classification.py:1308: UndefinedMetricWarning: Precision and F-score are ill-defined and being set to 0.0 in labels with no predicted samples. Use `zero_division` parameter to control this behavior.\n",
      "  _warn_prf(average, modifier, msg_start, len(result))\n",
      "c:\\Users\\UX430\\anaconda3\\lib\\site-packages\\sklearn\\metrics\\_classification.py:1308: UndefinedMetricWarning: Recall and F-score are ill-defined and being set to 0.0 in labels with no true samples. Use `zero_division` parameter to control this behavior.\n",
      "  _warn_prf(average, modifier, msg_start, len(result))\n",
      "c:\\Users\\UX430\\anaconda3\\lib\\site-packages\\sklearn\\metrics\\_classification.py:1308: UndefinedMetricWarning: Precision and F-score are ill-defined and being set to 0.0 in labels with no predicted samples. Use `zero_division` parameter to control this behavior.\n",
      "  _warn_prf(average, modifier, msg_start, len(result))\n",
      "c:\\Users\\UX430\\anaconda3\\lib\\site-packages\\sklearn\\metrics\\_classification.py:1308: UndefinedMetricWarning: Recall and F-score are ill-defined and being set to 0.0 in labels with no true samples. Use `zero_division` parameter to control this behavior.\n",
      "  _warn_prf(average, modifier, msg_start, len(result))\n"
     ]
    }
   ],
   "source": [
    "# Values saved each iteration \n",
    "loss_it = []\n",
    "accuracy_it = []\n",
    "f1_it = []\n",
    "precision_it = []\n",
    "recall_it = []\n",
    "\n",
    "for i in range(global_updates): \n",
    "    w_list = []\n",
    "    for node in range(num_nodes): \n",
    "        cp = global_model # create a copy of the global model\n",
    "        if node == 0:\n",
    "            x, y = x1, y1\n",
    "        elif node == 1:\n",
    "            x, y = x2, y2\n",
    "        else:\n",
    "            x, y = x3, y3\n",
    "        local_model, local_loss, local_acc, local_val_loss, local_val_acc = train_local_model(cp, node, x, y)\n",
    "        w_list.append(local_model.get_weights())\n",
    "\n",
    "    avg_w = aggregate(w_list)\n",
    "    global_model.set_weights(avg_w) # apply gradients to global model\n",
    "    loss_basic, accuracy_basic, f1_basic, precision_basic, recall_basic = evaluation(global_model, xbasic, ybasic) # Evaluate with test basic to know progress\n",
    "    loss_plus, accuracy_plus, f1_plus, precision_plus, recall_plus = evaluation(global_model, xplus, yplus) # Evaluate with test plus to know progress\n",
    "\n",
    "    loss_it.append([loss_basic, loss_plus])\n",
    "    accuracy_it.append([accuracy_basic, accuracy_plus])\n",
    "    f1_it.append([f1_basic, f1_plus])\n",
    "    precision_it.append([precision_basic, precision_plus])\n",
    "    recall_it.append([recall_basic, recall_plus])\n",
    "\n",
    "\n",
    "global_model.save('C:/Users/UX430/Documents/thesis/code/models/id311.hdf5')"
   ]
  },
  {
   "cell_type": "code",
   "execution_count": 99,
   "metadata": {},
   "outputs": [
    {
     "name": "stdout",
     "output_type": "stream",
     "text": [
      "Loss for iterations:  [[1.2214161157608032, 0.0], [1.0118076801300049, 0.0], [0.8539761304855347, 0.0], [0.8654507994651794, 0.0], [0.9344009757041931, 0.0]]\n",
      "Accuracy for iterations:  [[0.8110701441764832, 4.135478229727596e-05], [0.9233988523483276, 4.135478229727596e-05], [0.9228873252868652, 8.270956459455192e-05], [0.8311271667480469, 0.0005376121844165027], [0.8063116073608398, 0.0008684504427947104]]\n",
      "F1 for iterations:  [[0.8192511653591829, 8.270614506657845e-05], [0.9027045462324034, 8.270614506657845e-05], [0.9021710101400904, 0.0001654054501095811], [0.8330765817023695, 0.001074646606596677], [0.8122254879306584, 0.0017353937691099908]]\n",
      "Precision for iterations:  [[0.8690046798810036, 1.0], [0.9073787378424245, 1.0], [0.9063403946297581, 1.0], [0.8794303545171928, 1.0], [0.8568507618475205, 1.0]]\n",
      "Recall for iterations:  [[0.8110701221402443, 4.135478268061701e-05], [0.9233988467976936, 4.135478268061701e-05], [0.9228873457746916, 8.270956536123402e-05], [0.8311271622543245, 0.0005376121748480212], [0.8063116126232253, 0.0008684504362929573]]\n"
     ]
    }
   ],
   "source": [
    "print(\"Loss for iterations: \", loss_it)\n",
    "print(\"Accuracy for iterations: \", accuracy_it)\n",
    "print(\"F1 for iterations: \", f1_it)\n",
    "print(\"Precision for iterations: \", precision_it)\n",
    "print(\"Recall for iterations: \", recall_it)"
   ]
  },
  {
   "cell_type": "markdown",
   "metadata": {},
   "source": [
    "#### #Epochs = 5, #Iterations = 10"
   ]
  },
  {
   "cell_type": "code",
   "execution_count": 100,
   "metadata": {},
   "outputs": [],
   "source": [
    "# Load training datasets and testing datasets \n",
    "training1 = pd.read_csv('C:/Users/UX430/Documents/thesis/datasets/UNSW-NB15/UNSW-NB15-Train-Basic-Cat3B-Part1.csv')\n",
    "training2 = pd.read_csv('C:/Users/UX430/Documents/thesis/datasets/UNSW-NB15/UNSW-NB15-Train-Basic-Cat3B-Part2.csv')\n",
    "training3 = pd.read_csv('C:/Users/UX430/Documents/thesis/datasets/UNSW-NB15/UNSW-NB15-Train-Basic-Cat3B-Part3.csv')\n"
   ]
  },
  {
   "cell_type": "code",
   "execution_count": 101,
   "metadata": {},
   "outputs": [],
   "source": [
    "# Define \n",
    "node_datasets = [training1, training2, training3]\n",
    "num_nodes = 3\n",
    "global_updates = 10\n",
    "\n",
    "# Define model training parameters\n",
    "loss_fct = \"categorical_crossentropy\"\n",
    "metrics = ['accuracy']\n",
    "local_epochs = 5"
   ]
  },
  {
   "cell_type": "code",
   "execution_count": 102,
   "metadata": {},
   "outputs": [],
   "source": [
    "def train_local_model(model, node, x_train, y_train): \n",
    "    filepath = 'C:/Users/UX430/Documents/thesis/code/models/node'+str(node)+'ID312.hdf5'\n",
    "    callbacks = [\n",
    "            keras.callbacks.EarlyStopping(\n",
    "                monitor = 'val_loss', # Use accuracy to monitor the model\n",
    "                patience = 10 # Stop after 10 steps with lower accuracy\n",
    "            ),\n",
    "            keras.callbacks.ModelCheckpoint(\n",
    "                filepath = filepath, # file where the checkpoint is saved\n",
    "                monitor = 'val_loss', # Don't overwrite the saved model unless val_loss is worse\n",
    "                save_best_only = True)]# Only save model if it is the best\n",
    "    optimizer = keras.optimizers.Adam(learning_rate=1e-4)\n",
    "    model.compile(optimizer=optimizer, loss=loss_fct, metrics=metrics)\n",
    "    history = model.fit(x_train, y_train, epochs=local_epochs, validation_split=0.2, callbacks=callbacks, batch_size=1024)\n",
    "    return model, history.history['loss'], history.history['accuracy'], history.history['val_loss'], history.history['val_accuracy']"
   ]
  },
  {
   "cell_type": "code",
   "execution_count": 103,
   "metadata": {},
   "outputs": [],
   "source": [
    "def aggregate(w_list): \n",
    "    avg_w = np.mean(w_list, axis=0)\n",
    "    return avg_w"
   ]
  },
  {
   "cell_type": "code",
   "execution_count": 104,
   "metadata": {},
   "outputs": [],
   "source": [
    "global_model = build_model((24,1,1))"
   ]
  },
  {
   "cell_type": "code",
   "execution_count": 105,
   "metadata": {},
   "outputs": [],
   "source": [
    "x1, y1 = preprocessing(training1)\n",
    "x2, y2 = preprocessing(training2)\n",
    "x3, y3 = preprocessing(training3)\n"
   ]
  },
  {
   "cell_type": "code",
   "execution_count": 106,
   "metadata": {},
   "outputs": [
    {
     "name": "stdout",
     "output_type": "stream",
     "text": [
      "Epoch 1/5\n",
      "15/15 [==============================] - 1s 52ms/step - loss: 1.1180 - accuracy: 0.6776 - val_loss: 1.4099 - val_accuracy: 0.0679\n",
      "Epoch 2/5\n",
      "15/15 [==============================] - 1s 40ms/step - loss: 0.6454 - accuracy: 0.9178 - val_loss: 1.4348 - val_accuracy: 0.0047\n",
      "Epoch 3/5\n",
      "15/15 [==============================] - 1s 41ms/step - loss: 0.3934 - accuracy: 0.9509 - val_loss: 1.4622 - val_accuracy: 0.0022\n",
      "Epoch 4/5\n",
      "15/15 [==============================] - 1s 41ms/step - loss: 0.2780 - accuracy: 0.9544 - val_loss: 1.4915 - val_accuracy: 0.0014\n",
      "Epoch 5/5\n",
      "15/15 [==============================] - 1s 41ms/step - loss: 0.2301 - accuracy: 0.9546 - val_loss: 1.5212 - val_accuracy: 0.0014\n",
      "Epoch 1/5\n",
      "15/15 [==============================] - 1s 63ms/step - loss: 0.1960 - accuracy: 0.9574 - val_loss: 1.5872 - val_accuracy: 5.4975e-04\n",
      "Epoch 2/5\n",
      "15/15 [==============================] - 1s 40ms/step - loss: 0.1784 - accuracy: 0.9594 - val_loss: 1.6412 - val_accuracy: 8.2463e-04\n",
      "Epoch 3/5\n",
      "15/15 [==============================] - 1s 41ms/step - loss: 0.1711 - accuracy: 0.9625 - val_loss: 1.6904 - val_accuracy: 0.0011\n",
      "Epoch 4/5\n",
      "15/15 [==============================] - 1s 41ms/step - loss: 0.1664 - accuracy: 0.9636 - val_loss: 1.7469 - val_accuracy: 8.2463e-04\n",
      "Epoch 5/5\n",
      "15/15 [==============================] - 1s 42ms/step - loss: 0.1617 - accuracy: 0.9636 - val_loss: 1.7954 - val_accuracy: 0.0011\n",
      "Epoch 1/5\n",
      "15/15 [==============================] - 1s 60ms/step - loss: 0.1568 - accuracy: 0.9651 - val_loss: 1.8763 - val_accuracy: 5.4975e-04\n",
      "Epoch 2/5\n",
      "15/15 [==============================] - 1s 51ms/step - loss: 0.1536 - accuracy: 0.9652 - val_loss: 1.9460 - val_accuracy: 5.4975e-04\n",
      "Epoch 3/5\n",
      "15/15 [==============================] - 1s 49ms/step - loss: 0.1518 - accuracy: 0.9651 - val_loss: 2.0124 - val_accuracy: 8.2463e-04\n",
      "Epoch 4/5\n",
      "15/15 [==============================] - 1s 50ms/step - loss: 0.1503 - accuracy: 0.9654 - val_loss: 2.0958 - val_accuracy: 8.2463e-04\n",
      "Epoch 5/5\n",
      "15/15 [==============================] - 1s 49ms/step - loss: 0.1485 - accuracy: 0.9654 - val_loss: 2.1833 - val_accuracy: 0.0011\n",
      "  45/2017 [..............................] - ETA: 6s - loss: 1.1836 - accuracy: 0.9118 "
     ]
    },
    {
     "name": "stderr",
     "output_type": "stream",
     "text": [
      "c:\\Users\\UX430\\anaconda3\\lib\\site-packages\\numpy\\core\\_asarray.py:171: VisibleDeprecationWarning: Creating an ndarray from ragged nested sequences (which is a list-or-tuple of lists-or-tuples-or ndarrays with different lengths or shapes) is deprecated. If you meant to do this, you must specify 'dtype=object' when creating the ndarray.\n",
      "  return array(a, dtype, copy=False, order=order, subok=True)\n"
     ]
    },
    {
     "name": "stdout",
     "output_type": "stream",
     "text": [
      "2017/2017 [==============================] - 3s 1ms/step - loss: 1.1799 - accuracy: 0.9123\n",
      "756/756 [==============================] - 1s 1ms/step - loss: 0.0000e+00 - accuracy: 0.0095\n"
     ]
    },
    {
     "name": "stderr",
     "output_type": "stream",
     "text": [
      "c:\\Users\\UX430\\anaconda3\\lib\\site-packages\\sklearn\\metrics\\_classification.py:1308: UndefinedMetricWarning: Recall and F-score are ill-defined and being set to 0.0 in labels with no true samples. Use `zero_division` parameter to control this behavior.\n",
      "  _warn_prf(average, modifier, msg_start, len(result))\n",
      "c:\\Users\\UX430\\anaconda3\\lib\\site-packages\\sklearn\\metrics\\_classification.py:1308: UndefinedMetricWarning: Recall and F-score are ill-defined and being set to 0.0 in labels with no true samples. Use `zero_division` parameter to control this behavior.\n",
      "  _warn_prf(average, modifier, msg_start, len(result))\n",
      "c:\\Users\\UX430\\anaconda3\\lib\\site-packages\\sklearn\\metrics\\_classification.py:1308: UndefinedMetricWarning: Recall and F-score are ill-defined and being set to 0.0 in labels with no true samples. Use `zero_division` parameter to control this behavior.\n",
      "  _warn_prf(average, modifier, msg_start, len(result))\n"
     ]
    },
    {
     "name": "stdout",
     "output_type": "stream",
     "text": [
      "Epoch 1/5\n",
      "15/15 [==============================] - 1s 67ms/step - loss: 0.1669 - accuracy: 0.9622 - val_loss: 1.8009 - val_accuracy: 0.0000e+00\n",
      "Epoch 2/5\n",
      "15/15 [==============================] - 1s 43ms/step - loss: 0.1617 - accuracy: 0.9624 - val_loss: 1.8758 - val_accuracy: 0.0000e+00\n",
      "Epoch 3/5\n",
      "15/15 [==============================] - 1s 42ms/step - loss: 0.1588 - accuracy: 0.9625 - val_loss: 1.9430 - val_accuracy: 0.0000e+00\n",
      "Epoch 4/5\n",
      "15/15 [==============================] - 1s 42ms/step - loss: 0.1572 - accuracy: 0.9625 - val_loss: 2.0184 - val_accuracy: 0.0000e+00\n",
      "Epoch 5/5\n",
      "15/15 [==============================] - 1s 47ms/step - loss: 0.1550 - accuracy: 0.9627 - val_loss: 2.1028 - val_accuracy: 0.0000e+00\n",
      "Epoch 1/5\n",
      "15/15 [==============================] - 1s 61ms/step - loss: 0.1506 - accuracy: 0.9650 - val_loss: 2.1979 - val_accuracy: 8.2463e-04\n",
      "Epoch 2/5\n",
      "15/15 [==============================] - 1s 46ms/step - loss: 0.1482 - accuracy: 0.9649 - val_loss: 2.2954 - val_accuracy: 8.2463e-04\n",
      "Epoch 3/5\n",
      "15/15 [==============================] - 1s 48ms/step - loss: 0.1468 - accuracy: 0.9651 - val_loss: 2.4013 - val_accuracy: 8.2463e-04\n",
      "Epoch 4/5\n",
      "15/15 [==============================] - 1s 44ms/step - loss: 0.1455 - accuracy: 0.9659 - val_loss: 2.5203 - val_accuracy: 5.4975e-04\n",
      "Epoch 5/5\n",
      "15/15 [==============================] - 1s 46ms/step - loss: 0.1447 - accuracy: 0.9658 - val_loss: 2.6458 - val_accuracy: 5.4975e-04\n",
      "Epoch 1/5\n",
      "15/15 [==============================] - 1s 60ms/step - loss: 0.1447 - accuracy: 0.9660 - val_loss: 2.7810 - val_accuracy: 2.7488e-04\n",
      "Epoch 2/5\n",
      "15/15 [==============================] - 1s 40ms/step - loss: 0.1428 - accuracy: 0.9664 - val_loss: 2.9212 - val_accuracy: 2.7488e-04\n",
      "Epoch 3/5\n",
      "15/15 [==============================] - 1s 41ms/step - loss: 0.1423 - accuracy: 0.9663 - val_loss: 3.0984 - val_accuracy: 2.7488e-04\n",
      "Epoch 4/5\n",
      "15/15 [==============================] - 1s 41ms/step - loss: 0.1414 - accuracy: 0.9664 - val_loss: 3.2745 - val_accuracy: 5.4975e-04\n",
      "Epoch 5/5\n",
      "15/15 [==============================] - 1s 45ms/step - loss: 0.1407 - accuracy: 0.9665 - val_loss: 3.4787 - val_accuracy: 5.4975e-04\n",
      " 106/2017 [>.............................] - ETA: 2s - loss: 1.1018 - accuracy: 0.5634"
     ]
    },
    {
     "name": "stderr",
     "output_type": "stream",
     "text": [
      "c:\\Users\\UX430\\anaconda3\\lib\\site-packages\\numpy\\core\\_asarray.py:171: VisibleDeprecationWarning: Creating an ndarray from ragged nested sequences (which is a list-or-tuple of lists-or-tuples-or ndarrays with different lengths or shapes) is deprecated. If you meant to do this, you must specify 'dtype=object' when creating the ndarray.\n",
      "  return array(a, dtype, copy=False, order=order, subok=True)\n"
     ]
    },
    {
     "name": "stdout",
     "output_type": "stream",
     "text": [
      "2017/2017 [==============================] - 3s 2ms/step - loss: 1.0977 - accuracy: 0.5661\n",
      "756/756 [==============================] - 1s 2ms/step - loss: 0.0000e+00 - accuracy: 0.0085\n"
     ]
    },
    {
     "name": "stderr",
     "output_type": "stream",
     "text": [
      "c:\\Users\\UX430\\anaconda3\\lib\\site-packages\\sklearn\\metrics\\_classification.py:1308: UndefinedMetricWarning: Recall and F-score are ill-defined and being set to 0.0 in labels with no true samples. Use `zero_division` parameter to control this behavior.\n",
      "  _warn_prf(average, modifier, msg_start, len(result))\n",
      "c:\\Users\\UX430\\anaconda3\\lib\\site-packages\\sklearn\\metrics\\_classification.py:1308: UndefinedMetricWarning: Recall and F-score are ill-defined and being set to 0.0 in labels with no true samples. Use `zero_division` parameter to control this behavior.\n",
      "  _warn_prf(average, modifier, msg_start, len(result))\n",
      "c:\\Users\\UX430\\anaconda3\\lib\\site-packages\\sklearn\\metrics\\_classification.py:1308: UndefinedMetricWarning: Recall and F-score are ill-defined and being set to 0.0 in labels with no true samples. Use `zero_division` parameter to control this behavior.\n",
      "  _warn_prf(average, modifier, msg_start, len(result))\n"
     ]
    },
    {
     "name": "stdout",
     "output_type": "stream",
     "text": [
      "Epoch 1/5\n",
      "15/15 [==============================] - 1s 63ms/step - loss: 0.1507 - accuracy: 0.9642 - val_loss: 2.6423 - val_accuracy: 0.0000e+00\n",
      "Epoch 2/5\n",
      "15/15 [==============================] - 1s 52ms/step - loss: 0.1491 - accuracy: 0.9642 - val_loss: 2.7823 - val_accuracy: 0.0000e+00\n",
      "Epoch 3/5\n",
      "15/15 [==============================] - 1s 50ms/step - loss: 0.1485 - accuracy: 0.9651 - val_loss: 2.9232 - val_accuracy: 0.0000e+00\n",
      "Epoch 4/5\n",
      "15/15 [==============================] - 1s 43ms/step - loss: 0.1474 - accuracy: 0.9647 - val_loss: 3.0904 - val_accuracy: 0.0000e+00\n",
      "Epoch 5/5\n",
      "15/15 [==============================] - 1s 41ms/step - loss: 0.1472 - accuracy: 0.9656 - val_loss: 3.2520 - val_accuracy: 0.0000e+00\n",
      "Epoch 1/5\n",
      "15/15 [==============================] - 1s 59ms/step - loss: 0.1434 - accuracy: 0.9667 - val_loss: 3.4375 - val_accuracy: 8.2463e-04\n",
      "Epoch 2/5\n",
      "15/15 [==============================] - 1s 42ms/step - loss: 0.1420 - accuracy: 0.9667 - val_loss: 3.6647 - val_accuracy: 5.4975e-04\n",
      "Epoch 3/5\n",
      "15/15 [==============================] - 1s 46ms/step - loss: 0.1411 - accuracy: 0.9670 - val_loss: 3.8696 - val_accuracy: 0.0011\n",
      "Epoch 4/5\n",
      "15/15 [==============================] - 1s 54ms/step - loss: 0.1404 - accuracy: 0.9674 - val_loss: 4.0862 - val_accuracy: 8.2463e-04\n",
      "Epoch 5/5\n",
      "15/15 [==============================] - 1s 46ms/step - loss: 0.1402 - accuracy: 0.9669 - val_loss: 4.3284 - val_accuracy: 5.4975e-04\n",
      "Epoch 1/5\n",
      "15/15 [==============================] - 1s 60ms/step - loss: 0.1407 - accuracy: 0.9670 - val_loss: 4.5531 - val_accuracy: 2.7488e-04\n",
      "Epoch 2/5\n",
      "15/15 [==============================] - 1s 53ms/step - loss: 0.1402 - accuracy: 0.9676 - val_loss: 4.7536 - val_accuracy: 2.7488e-04\n",
      "Epoch 3/5\n",
      "15/15 [==============================] - 1s 42ms/step - loss: 0.1389 - accuracy: 0.9672 - val_loss: 5.0267 - val_accuracy: 5.4975e-04\n",
      "Epoch 4/5\n",
      "15/15 [==============================] - 1s 42ms/step - loss: 0.1387 - accuracy: 0.9671 - val_loss: 5.3326 - val_accuracy: 5.4975e-04\n",
      "Epoch 5/5\n",
      "15/15 [==============================] - 1s 44ms/step - loss: 0.1383 - accuracy: 0.9676 - val_loss: 5.5379 - val_accuracy: 0.0016\n",
      "  25/2017 [..............................] - ETA: 4s - loss: 1.1127 - accuracy: 0.5150"
     ]
    },
    {
     "name": "stderr",
     "output_type": "stream",
     "text": [
      "c:\\Users\\UX430\\anaconda3\\lib\\site-packages\\numpy\\core\\_asarray.py:171: VisibleDeprecationWarning: Creating an ndarray from ragged nested sequences (which is a list-or-tuple of lists-or-tuples-or ndarrays with different lengths or shapes) is deprecated. If you meant to do this, you must specify 'dtype=object' when creating the ndarray.\n",
      "  return array(a, dtype, copy=False, order=order, subok=True)\n"
     ]
    },
    {
     "name": "stdout",
     "output_type": "stream",
     "text": [
      "2017/2017 [==============================] - 3s 2ms/step - loss: 1.0861 - accuracy: 0.5472\n",
      " 61/756 [=>............................] - ETA: 1s - loss: 0.0000e+00 - accuracy: 0.0010  "
     ]
    },
    {
     "name": "stderr",
     "output_type": "stream",
     "text": [
      "c:\\Users\\UX430\\anaconda3\\lib\\site-packages\\sklearn\\metrics\\_classification.py:1308: UndefinedMetricWarning: Precision and F-score are ill-defined and being set to 0.0 in labels with no predicted samples. Use `zero_division` parameter to control this behavior.\n",
      "  _warn_prf(average, modifier, msg_start, len(result))\n",
      "c:\\Users\\UX430\\anaconda3\\lib\\site-packages\\sklearn\\metrics\\_classification.py:1308: UndefinedMetricWarning: Precision and F-score are ill-defined and being set to 0.0 in labels with no predicted samples. Use `zero_division` parameter to control this behavior.\n",
      "  _warn_prf(average, modifier, msg_start, len(result))\n",
      "c:\\Users\\UX430\\anaconda3\\lib\\site-packages\\sklearn\\metrics\\_classification.py:1308: UndefinedMetricWarning: Precision and F-score are ill-defined and being set to 0.0 in labels with no predicted samples. Use `zero_division` parameter to control this behavior.\n",
      "  _warn_prf(average, modifier, msg_start, len(result))\n"
     ]
    },
    {
     "name": "stdout",
     "output_type": "stream",
     "text": [
      "756/756 [==============================] - 1s 2ms/step - loss: 0.0000e+00 - accuracy: 0.0086\n"
     ]
    },
    {
     "name": "stderr",
     "output_type": "stream",
     "text": [
      "c:\\Users\\UX430\\anaconda3\\lib\\site-packages\\sklearn\\metrics\\_classification.py:1308: UndefinedMetricWarning: Precision and F-score are ill-defined and being set to 0.0 in labels with no predicted samples. Use `zero_division` parameter to control this behavior.\n",
      "  _warn_prf(average, modifier, msg_start, len(result))\n",
      "c:\\Users\\UX430\\anaconda3\\lib\\site-packages\\sklearn\\metrics\\_classification.py:1308: UndefinedMetricWarning: Recall and F-score are ill-defined and being set to 0.0 in labels with no true samples. Use `zero_division` parameter to control this behavior.\n",
      "  _warn_prf(average, modifier, msg_start, len(result))\n",
      "c:\\Users\\UX430\\anaconda3\\lib\\site-packages\\sklearn\\metrics\\_classification.py:1308: UndefinedMetricWarning: Precision and F-score are ill-defined and being set to 0.0 in labels with no predicted samples. Use `zero_division` parameter to control this behavior.\n",
      "  _warn_prf(average, modifier, msg_start, len(result))\n",
      "c:\\Users\\UX430\\anaconda3\\lib\\site-packages\\sklearn\\metrics\\_classification.py:1308: UndefinedMetricWarning: Recall and F-score are ill-defined and being set to 0.0 in labels with no true samples. Use `zero_division` parameter to control this behavior.\n",
      "  _warn_prf(average, modifier, msg_start, len(result))\n",
      "c:\\Users\\UX430\\anaconda3\\lib\\site-packages\\sklearn\\metrics\\_classification.py:1308: UndefinedMetricWarning: Precision and F-score are ill-defined and being set to 0.0 in labels with no predicted samples. Use `zero_division` parameter to control this behavior.\n",
      "  _warn_prf(average, modifier, msg_start, len(result))\n",
      "c:\\Users\\UX430\\anaconda3\\lib\\site-packages\\sklearn\\metrics\\_classification.py:1308: UndefinedMetricWarning: Recall and F-score are ill-defined and being set to 0.0 in labels with no true samples. Use `zero_division` parameter to control this behavior.\n",
      "  _warn_prf(average, modifier, msg_start, len(result))\n"
     ]
    },
    {
     "name": "stdout",
     "output_type": "stream",
     "text": [
      "Epoch 1/5\n",
      "15/15 [==============================] - 1s 56ms/step - loss: 0.1464 - accuracy: 0.9660 - val_loss: 4.2807 - val_accuracy: 0.0000e+00\n",
      "Epoch 2/5\n",
      "15/15 [==============================] - 1s 50ms/step - loss: 0.1456 - accuracy: 0.9656 - val_loss: 4.5408 - val_accuracy: 0.0000e+00\n",
      "Epoch 3/5\n",
      "15/15 [==============================] - 1s 64ms/step - loss: 0.1447 - accuracy: 0.9658 - val_loss: 4.7663 - val_accuracy: 0.0000e+00\n",
      "Epoch 4/5\n",
      "15/15 [==============================] - 1s 53ms/step - loss: 0.1442 - accuracy: 0.9660 - val_loss: 5.0415 - val_accuracy: 0.0000e+00\n",
      "Epoch 5/5\n",
      "15/15 [==============================] - 1s 51ms/step - loss: 0.1439 - accuracy: 0.9662 - val_loss: 5.2828 - val_accuracy: 0.0000e+00\n",
      "Epoch 1/5\n",
      "15/15 [==============================] - 1s 58ms/step - loss: 0.1406 - accuracy: 0.9673 - val_loss: 5.5978 - val_accuracy: 0.0011\n",
      "Epoch 2/5\n",
      "15/15 [==============================] - 1s 47ms/step - loss: 0.1390 - accuracy: 0.9675 - val_loss: 5.8316 - val_accuracy: 5.4975e-04\n",
      "Epoch 3/5\n",
      "15/15 [==============================] - 1s 45ms/step - loss: 0.1384 - accuracy: 0.9675 - val_loss: 6.1338 - val_accuracy: 8.2463e-04\n",
      "Epoch 4/5\n",
      "15/15 [==============================] - 1s 42ms/step - loss: 0.1380 - accuracy: 0.9676 - val_loss: 6.3882 - val_accuracy: 0.0014\n",
      "Epoch 5/5\n",
      "15/15 [==============================] - 1s 49ms/step - loss: 0.1381 - accuracy: 0.9678 - val_loss: 6.6722 - val_accuracy: 8.2463e-04\n",
      "Epoch 1/5\n",
      "15/15 [==============================] - 1s 51ms/step - loss: 0.1390 - accuracy: 0.9676 - val_loss: 6.9125 - val_accuracy: 2.7488e-04\n",
      "Epoch 2/5\n",
      "15/15 [==============================] - 1s 43ms/step - loss: 0.1379 - accuracy: 0.9679 - val_loss: 7.0311 - val_accuracy: 2.7488e-04\n",
      "Epoch 3/5\n",
      "15/15 [==============================] - 1s 63ms/step - loss: 0.1374 - accuracy: 0.9680 - val_loss: 7.3029 - val_accuracy: 5.4975e-04\n",
      "Epoch 4/5\n",
      "15/15 [==============================] - 1s 46ms/step - loss: 0.1367 - accuracy: 0.9680 - val_loss: 7.5891 - val_accuracy: 5.4975e-04\n",
      "Epoch 5/5\n",
      "15/15 [==============================] - 1s 47ms/step - loss: 0.1364 - accuracy: 0.9679 - val_loss: 7.7422 - val_accuracy: 5.4975e-04\n",
      "  56/2017 [..............................] - ETA: 3s - loss: 1.1449 - accuracy: 0.5731"
     ]
    },
    {
     "name": "stderr",
     "output_type": "stream",
     "text": [
      "c:\\Users\\UX430\\anaconda3\\lib\\site-packages\\numpy\\core\\_asarray.py:171: VisibleDeprecationWarning: Creating an ndarray from ragged nested sequences (which is a list-or-tuple of lists-or-tuples-or ndarrays with different lengths or shapes) is deprecated. If you meant to do this, you must specify 'dtype=object' when creating the ndarray.\n",
      "  return array(a, dtype, copy=False, order=order, subok=True)\n"
     ]
    },
    {
     "name": "stdout",
     "output_type": "stream",
     "text": [
      "2017/2017 [==============================] - 3s 2ms/step - loss: 1.1553 - accuracy: 0.5720\n",
      " 63/756 [=>............................] - ETA: 1s - loss: 0.0000e+00 - accuracy: 9.9206e-04"
     ]
    },
    {
     "name": "stderr",
     "output_type": "stream",
     "text": [
      "c:\\Users\\UX430\\anaconda3\\lib\\site-packages\\sklearn\\metrics\\_classification.py:1308: UndefinedMetricWarning: Precision and F-score are ill-defined and being set to 0.0 in labels with no predicted samples. Use `zero_division` parameter to control this behavior.\n",
      "  _warn_prf(average, modifier, msg_start, len(result))\n",
      "c:\\Users\\UX430\\anaconda3\\lib\\site-packages\\sklearn\\metrics\\_classification.py:1308: UndefinedMetricWarning: Precision and F-score are ill-defined and being set to 0.0 in labels with no predicted samples. Use `zero_division` parameter to control this behavior.\n",
      "  _warn_prf(average, modifier, msg_start, len(result))\n",
      "c:\\Users\\UX430\\anaconda3\\lib\\site-packages\\sklearn\\metrics\\_classification.py:1308: UndefinedMetricWarning: Precision and F-score are ill-defined and being set to 0.0 in labels with no predicted samples. Use `zero_division` parameter to control this behavior.\n",
      "  _warn_prf(average, modifier, msg_start, len(result))\n"
     ]
    },
    {
     "name": "stdout",
     "output_type": "stream",
     "text": [
      "756/756 [==============================] - 1s 1ms/step - loss: 0.0000e+00 - accuracy: 0.0095\n"
     ]
    },
    {
     "name": "stderr",
     "output_type": "stream",
     "text": [
      "c:\\Users\\UX430\\anaconda3\\lib\\site-packages\\sklearn\\metrics\\_classification.py:1308: UndefinedMetricWarning: Precision and F-score are ill-defined and being set to 0.0 in labels with no predicted samples. Use `zero_division` parameter to control this behavior.\n",
      "  _warn_prf(average, modifier, msg_start, len(result))\n",
      "c:\\Users\\UX430\\anaconda3\\lib\\site-packages\\sklearn\\metrics\\_classification.py:1308: UndefinedMetricWarning: Recall and F-score are ill-defined and being set to 0.0 in labels with no true samples. Use `zero_division` parameter to control this behavior.\n",
      "  _warn_prf(average, modifier, msg_start, len(result))\n",
      "c:\\Users\\UX430\\anaconda3\\lib\\site-packages\\sklearn\\metrics\\_classification.py:1308: UndefinedMetricWarning: Precision and F-score are ill-defined and being set to 0.0 in labels with no predicted samples. Use `zero_division` parameter to control this behavior.\n",
      "  _warn_prf(average, modifier, msg_start, len(result))\n",
      "c:\\Users\\UX430\\anaconda3\\lib\\site-packages\\sklearn\\metrics\\_classification.py:1308: UndefinedMetricWarning: Recall and F-score are ill-defined and being set to 0.0 in labels with no true samples. Use `zero_division` parameter to control this behavior.\n",
      "  _warn_prf(average, modifier, msg_start, len(result))\n",
      "c:\\Users\\UX430\\anaconda3\\lib\\site-packages\\sklearn\\metrics\\_classification.py:1308: UndefinedMetricWarning: Precision and F-score are ill-defined and being set to 0.0 in labels with no predicted samples. Use `zero_division` parameter to control this behavior.\n",
      "  _warn_prf(average, modifier, msg_start, len(result))\n",
      "c:\\Users\\UX430\\anaconda3\\lib\\site-packages\\sklearn\\metrics\\_classification.py:1308: UndefinedMetricWarning: Recall and F-score are ill-defined and being set to 0.0 in labels with no true samples. Use `zero_division` parameter to control this behavior.\n",
      "  _warn_prf(average, modifier, msg_start, len(result))\n"
     ]
    },
    {
     "name": "stdout",
     "output_type": "stream",
     "text": [
      "Epoch 1/5\n",
      "15/15 [==============================] - 1s 61ms/step - loss: 0.1440 - accuracy: 0.9660 - val_loss: 6.5302 - val_accuracy: 0.0000e+00\n",
      "Epoch 2/5\n",
      "15/15 [==============================] - 1s 57ms/step - loss: 0.1429 - accuracy: 0.9664 - val_loss: 6.8140 - val_accuracy: 5.4975e-04\n",
      "Epoch 3/5\n",
      "15/15 [==============================] - 1s 47ms/step - loss: 0.1423 - accuracy: 0.9662 - val_loss: 7.0965 - val_accuracy: 0.0000e+00\n",
      "Epoch 4/5\n",
      "15/15 [==============================] - 1s 44ms/step - loss: 0.1422 - accuracy: 0.9667 - val_loss: 7.3153 - val_accuracy: 5.4975e-04\n",
      "Epoch 5/5\n",
      "15/15 [==============================] - 1s 46ms/step - loss: 0.1416 - accuracy: 0.9667 - val_loss: 7.4619 - val_accuracy: 5.4975e-04\n",
      "Epoch 1/5\n",
      "15/15 [==============================] - 1s 53ms/step - loss: 0.1387 - accuracy: 0.9676 - val_loss: 7.7227 - val_accuracy: 8.2463e-04\n",
      "Epoch 2/5\n",
      "15/15 [==============================] - 1s 43ms/step - loss: 0.1371 - accuracy: 0.9678 - val_loss: 7.9539 - val_accuracy: 5.4975e-04\n",
      "Epoch 3/5\n",
      "15/15 [==============================] - 1s 44ms/step - loss: 0.1365 - accuracy: 0.9677 - val_loss: 8.1544 - val_accuracy: 5.4975e-04\n",
      "Epoch 4/5\n",
      "15/15 [==============================] - 1s 55ms/step - loss: 0.1364 - accuracy: 0.9680 - val_loss: 8.3125 - val_accuracy: 5.4975e-04\n",
      "Epoch 5/5\n",
      "15/15 [==============================] - 1s 48ms/step - loss: 0.1360 - accuracy: 0.9677 - val_loss: 8.4638 - val_accuracy: 0.0014\n",
      "Epoch 1/5\n",
      "15/15 [==============================] - 1s 60ms/step - loss: 0.1375 - accuracy: 0.9678 - val_loss: 8.5862 - val_accuracy: 0.0000e+00\n",
      "Epoch 2/5\n",
      "15/15 [==============================] - 1s 44ms/step - loss: 0.1364 - accuracy: 0.9680 - val_loss: 8.7635 - val_accuracy: 2.7488e-04\n",
      "Epoch 3/5\n",
      "15/15 [==============================] - 1s 48ms/step - loss: 0.1358 - accuracy: 0.9680 - val_loss: 8.9385 - val_accuracy: 0.0011\n",
      "Epoch 4/5\n",
      "15/15 [==============================] - 1s 51ms/step - loss: 0.1354 - accuracy: 0.9680 - val_loss: 9.0087 - val_accuracy: 5.4975e-04\n",
      "Epoch 5/5\n",
      "15/15 [==============================] - 1s 46ms/step - loss: 0.1350 - accuracy: 0.9681 - val_loss: 9.0960 - val_accuracy: 0.0022\n",
      "  59/2017 [..............................] - ETA: 3s - loss: 1.2521 - accuracy: 0.5064"
     ]
    },
    {
     "name": "stderr",
     "output_type": "stream",
     "text": [
      "c:\\Users\\UX430\\anaconda3\\lib\\site-packages\\numpy\\core\\_asarray.py:171: VisibleDeprecationWarning: Creating an ndarray from ragged nested sequences (which is a list-or-tuple of lists-or-tuples-or ndarrays with different lengths or shapes) is deprecated. If you meant to do this, you must specify 'dtype=object' when creating the ndarray.\n",
      "  return array(a, dtype, copy=False, order=order, subok=True)\n"
     ]
    },
    {
     "name": "stdout",
     "output_type": "stream",
     "text": [
      "2017/2017 [==============================] - 3s 2ms/step - loss: 1.2711 - accuracy: 0.5032\n",
      " 66/756 [=>............................] - ETA: 1s - loss: 0.0000e+00 - accuracy: 9.4697e-04"
     ]
    },
    {
     "name": "stderr",
     "output_type": "stream",
     "text": [
      "c:\\Users\\UX430\\anaconda3\\lib\\site-packages\\sklearn\\metrics\\_classification.py:1308: UndefinedMetricWarning: Precision and F-score are ill-defined and being set to 0.0 in labels with no predicted samples. Use `zero_division` parameter to control this behavior.\n",
      "  _warn_prf(average, modifier, msg_start, len(result))\n",
      "c:\\Users\\UX430\\anaconda3\\lib\\site-packages\\sklearn\\metrics\\_classification.py:1308: UndefinedMetricWarning: Precision and F-score are ill-defined and being set to 0.0 in labels with no predicted samples. Use `zero_division` parameter to control this behavior.\n",
      "  _warn_prf(average, modifier, msg_start, len(result))\n",
      "c:\\Users\\UX430\\anaconda3\\lib\\site-packages\\sklearn\\metrics\\_classification.py:1308: UndefinedMetricWarning: Precision and F-score are ill-defined and being set to 0.0 in labels with no predicted samples. Use `zero_division` parameter to control this behavior.\n",
      "  _warn_prf(average, modifier, msg_start, len(result))\n"
     ]
    },
    {
     "name": "stdout",
     "output_type": "stream",
     "text": [
      "756/756 [==============================] - 1s 2ms/step - loss: 0.0000e+00 - accuracy: 0.0103\n"
     ]
    },
    {
     "name": "stderr",
     "output_type": "stream",
     "text": [
      "c:\\Users\\UX430\\anaconda3\\lib\\site-packages\\sklearn\\metrics\\_classification.py:1308: UndefinedMetricWarning: Precision and F-score are ill-defined and being set to 0.0 in labels with no predicted samples. Use `zero_division` parameter to control this behavior.\n",
      "  _warn_prf(average, modifier, msg_start, len(result))\n",
      "c:\\Users\\UX430\\anaconda3\\lib\\site-packages\\sklearn\\metrics\\_classification.py:1308: UndefinedMetricWarning: Recall and F-score are ill-defined and being set to 0.0 in labels with no true samples. Use `zero_division` parameter to control this behavior.\n",
      "  _warn_prf(average, modifier, msg_start, len(result))\n",
      "c:\\Users\\UX430\\anaconda3\\lib\\site-packages\\sklearn\\metrics\\_classification.py:1308: UndefinedMetricWarning: Precision and F-score are ill-defined and being set to 0.0 in labels with no predicted samples. Use `zero_division` parameter to control this behavior.\n",
      "  _warn_prf(average, modifier, msg_start, len(result))\n",
      "c:\\Users\\UX430\\anaconda3\\lib\\site-packages\\sklearn\\metrics\\_classification.py:1308: UndefinedMetricWarning: Recall and F-score are ill-defined and being set to 0.0 in labels with no true samples. Use `zero_division` parameter to control this behavior.\n",
      "  _warn_prf(average, modifier, msg_start, len(result))\n",
      "c:\\Users\\UX430\\anaconda3\\lib\\site-packages\\sklearn\\metrics\\_classification.py:1308: UndefinedMetricWarning: Precision and F-score are ill-defined and being set to 0.0 in labels with no predicted samples. Use `zero_division` parameter to control this behavior.\n",
      "  _warn_prf(average, modifier, msg_start, len(result))\n",
      "c:\\Users\\UX430\\anaconda3\\lib\\site-packages\\sklearn\\metrics\\_classification.py:1308: UndefinedMetricWarning: Recall and F-score are ill-defined and being set to 0.0 in labels with no true samples. Use `zero_division` parameter to control this behavior.\n",
      "  _warn_prf(average, modifier, msg_start, len(result))\n"
     ]
    },
    {
     "name": "stdout",
     "output_type": "stream",
     "text": [
      "Epoch 1/5\n",
      "15/15 [==============================] - 1s 60ms/step - loss: 0.1417 - accuracy: 0.9669 - val_loss: 8.4802 - val_accuracy: 0.0011\n",
      "Epoch 2/5\n",
      "15/15 [==============================] - 1s 45ms/step - loss: 0.1408 - accuracy: 0.9667 - val_loss: 8.5888 - val_accuracy: 0.0014\n",
      "Epoch 3/5\n",
      "15/15 [==============================] - 1s 46ms/step - loss: 0.1404 - accuracy: 0.9669 - val_loss: 8.6260 - val_accuracy: 0.0011\n",
      "Epoch 4/5\n",
      "15/15 [==============================] - 1s 52ms/step - loss: 0.1401 - accuracy: 0.9668 - val_loss: 8.8957 - val_accuracy: 0.0011\n",
      "Epoch 5/5\n",
      "15/15 [==============================] - 1s 45ms/step - loss: 0.1396 - accuracy: 0.9666 - val_loss: 9.0126 - val_accuracy: 0.0011\n",
      "Epoch 1/5\n",
      "15/15 [==============================] - 1s 57ms/step - loss: 0.1375 - accuracy: 0.9680 - val_loss: 9.1255 - val_accuracy: 0.0014\n",
      "Epoch 2/5\n",
      "15/15 [==============================] - 1s 42ms/step - loss: 0.1362 - accuracy: 0.9681 - val_loss: 9.2795 - val_accuracy: 8.2463e-04\n",
      "Epoch 3/5\n",
      "15/15 [==============================] - 1s 54ms/step - loss: 0.1353 - accuracy: 0.9682 - val_loss: 9.4362 - val_accuracy: 0.0016\n",
      "Epoch 4/5\n",
      "15/15 [==============================] - 1s 46ms/step - loss: 0.1349 - accuracy: 0.9682 - val_loss: 9.5229 - val_accuracy: 0.0019\n",
      "Epoch 5/5\n",
      "15/15 [==============================] - 1s 50ms/step - loss: 0.1345 - accuracy: 0.9683 - val_loss: 9.5869 - val_accuracy: 0.0019\n",
      "Epoch 1/5\n",
      "15/15 [==============================] - 1s 53ms/step - loss: 0.1367 - accuracy: 0.9678 - val_loss: 9.8275 - val_accuracy: 0.0011\n",
      "Epoch 2/5\n",
      "15/15 [==============================] - 1s 44ms/step - loss: 0.1352 - accuracy: 0.9680 - val_loss: 9.7037 - val_accuracy: 0.0011\n",
      "Epoch 3/5\n",
      "15/15 [==============================] - 1s 44ms/step - loss: 0.1344 - accuracy: 0.9681 - val_loss: 9.9299 - val_accuracy: 0.0019\n",
      "Epoch 4/5\n",
      "15/15 [==============================] - 1s 53ms/step - loss: 0.1341 - accuracy: 0.9682 - val_loss: 9.8841 - val_accuracy: 0.0019\n",
      "Epoch 5/5\n",
      "15/15 [==============================] - 1s 44ms/step - loss: 0.1335 - accuracy: 0.9682 - val_loss: 10.0330 - val_accuracy: 0.0022\n",
      "  98/2017 [>.............................] - ETA: 2s - loss: 1.3881 - accuracy: 0.5571"
     ]
    },
    {
     "name": "stderr",
     "output_type": "stream",
     "text": [
      "c:\\Users\\UX430\\anaconda3\\lib\\site-packages\\numpy\\core\\_asarray.py:171: VisibleDeprecationWarning: Creating an ndarray from ragged nested sequences (which is a list-or-tuple of lists-or-tuples-or ndarrays with different lengths or shapes) is deprecated. If you meant to do this, you must specify 'dtype=object' when creating the ndarray.\n",
      "  return array(a, dtype, copy=False, order=order, subok=True)\n"
     ]
    },
    {
     "name": "stdout",
     "output_type": "stream",
     "text": [
      "2017/2017 [==============================] - 3s 2ms/step - loss: 1.3829 - accuracy: 0.5570\n",
      " 67/756 [=>............................] - ETA: 1s - loss: 0.0000e+00 - accuracy: 9.3284e-04"
     ]
    },
    {
     "name": "stderr",
     "output_type": "stream",
     "text": [
      "c:\\Users\\UX430\\anaconda3\\lib\\site-packages\\sklearn\\metrics\\_classification.py:1308: UndefinedMetricWarning: Precision and F-score are ill-defined and being set to 0.0 in labels with no predicted samples. Use `zero_division` parameter to control this behavior.\n",
      "  _warn_prf(average, modifier, msg_start, len(result))\n",
      "c:\\Users\\UX430\\anaconda3\\lib\\site-packages\\sklearn\\metrics\\_classification.py:1308: UndefinedMetricWarning: Precision and F-score are ill-defined and being set to 0.0 in labels with no predicted samples. Use `zero_division` parameter to control this behavior.\n",
      "  _warn_prf(average, modifier, msg_start, len(result))\n",
      "c:\\Users\\UX430\\anaconda3\\lib\\site-packages\\sklearn\\metrics\\_classification.py:1308: UndefinedMetricWarning: Precision and F-score are ill-defined and being set to 0.0 in labels with no predicted samples. Use `zero_division` parameter to control this behavior.\n",
      "  _warn_prf(average, modifier, msg_start, len(result))\n"
     ]
    },
    {
     "name": "stdout",
     "output_type": "stream",
     "text": [
      "756/756 [==============================] - 1s 2ms/step - loss: 0.0000e+00 - accuracy: 0.0110\n"
     ]
    },
    {
     "name": "stderr",
     "output_type": "stream",
     "text": [
      "c:\\Users\\UX430\\anaconda3\\lib\\site-packages\\sklearn\\metrics\\_classification.py:1308: UndefinedMetricWarning: Precision and F-score are ill-defined and being set to 0.0 in labels with no predicted samples. Use `zero_division` parameter to control this behavior.\n",
      "  _warn_prf(average, modifier, msg_start, len(result))\n",
      "c:\\Users\\UX430\\anaconda3\\lib\\site-packages\\sklearn\\metrics\\_classification.py:1308: UndefinedMetricWarning: Recall and F-score are ill-defined and being set to 0.0 in labels with no true samples. Use `zero_division` parameter to control this behavior.\n",
      "  _warn_prf(average, modifier, msg_start, len(result))\n",
      "c:\\Users\\UX430\\anaconda3\\lib\\site-packages\\sklearn\\metrics\\_classification.py:1308: UndefinedMetricWarning: Precision and F-score are ill-defined and being set to 0.0 in labels with no predicted samples. Use `zero_division` parameter to control this behavior.\n",
      "  _warn_prf(average, modifier, msg_start, len(result))\n",
      "c:\\Users\\UX430\\anaconda3\\lib\\site-packages\\sklearn\\metrics\\_classification.py:1308: UndefinedMetricWarning: Recall and F-score are ill-defined and being set to 0.0 in labels with no true samples. Use `zero_division` parameter to control this behavior.\n",
      "  _warn_prf(average, modifier, msg_start, len(result))\n",
      "c:\\Users\\UX430\\anaconda3\\lib\\site-packages\\sklearn\\metrics\\_classification.py:1308: UndefinedMetricWarning: Precision and F-score are ill-defined and being set to 0.0 in labels with no predicted samples. Use `zero_division` parameter to control this behavior.\n",
      "  _warn_prf(average, modifier, msg_start, len(result))\n",
      "c:\\Users\\UX430\\anaconda3\\lib\\site-packages\\sklearn\\metrics\\_classification.py:1308: UndefinedMetricWarning: Recall and F-score are ill-defined and being set to 0.0 in labels with no true samples. Use `zero_division` parameter to control this behavior.\n",
      "  _warn_prf(average, modifier, msg_start, len(result))\n"
     ]
    },
    {
     "name": "stdout",
     "output_type": "stream",
     "text": [
      "Epoch 1/5\n",
      "15/15 [==============================] - 1s 63ms/step - loss: 0.1398 - accuracy: 0.9671 - val_loss: 9.5712 - val_accuracy: 0.0014\n",
      "Epoch 2/5\n",
      "15/15 [==============================] - 1s 43ms/step - loss: 0.1391 - accuracy: 0.9669 - val_loss: 9.6397 - val_accuracy: 0.0014\n",
      "Epoch 3/5\n",
      "15/15 [==============================] - 1s 46ms/step - loss: 0.1388 - accuracy: 0.9669 - val_loss: 9.7615 - val_accuracy: 0.0014\n",
      "Epoch 4/5\n",
      "15/15 [==============================] - 1s 55ms/step - loss: 0.1382 - accuracy: 0.9669 - val_loss: 9.7029 - val_accuracy: 0.0014\n",
      "Epoch 5/5\n",
      "15/15 [==============================] - 1s 44ms/step - loss: 0.1382 - accuracy: 0.9669 - val_loss: 10.0547 - val_accuracy: 0.0011\n",
      "Epoch 1/5\n",
      "15/15 [==============================] - 1s 61ms/step - loss: 0.1357 - accuracy: 0.9680 - val_loss: 10.0235 - val_accuracy: 0.0022\n",
      "Epoch 2/5\n",
      "15/15 [==============================] - 1s 51ms/step - loss: 0.1350 - accuracy: 0.9682 - val_loss: 10.0967 - val_accuracy: 0.0030\n",
      "Epoch 3/5\n",
      "15/15 [==============================] - 1s 44ms/step - loss: 0.1342 - accuracy: 0.9683 - val_loss: 10.2409 - val_accuracy: 0.0025\n",
      "Epoch 4/5\n",
      "15/15 [==============================] - 1s 45ms/step - loss: 0.1334 - accuracy: 0.9684 - val_loss: 10.2082 - val_accuracy: 0.0027\n",
      "Epoch 5/5\n",
      "15/15 [==============================] - 1s 48ms/step - loss: 0.1329 - accuracy: 0.9685 - val_loss: 10.3190 - val_accuracy: 0.0022\n",
      "Epoch 1/5\n",
      "15/15 [==============================] - 1s 53ms/step - loss: 0.1349 - accuracy: 0.9682 - val_loss: 10.3490 - val_accuracy: 0.0011\n",
      "Epoch 2/5\n",
      "15/15 [==============================] - 1s 44ms/step - loss: 0.1337 - accuracy: 0.9684 - val_loss: 10.5041 - val_accuracy: 0.0011\n",
      "Epoch 3/5\n",
      "15/15 [==============================] - 1s 55ms/step - loss: 0.1331 - accuracy: 0.9685 - val_loss: 10.4603 - val_accuracy: 0.0025\n",
      "Epoch 4/5\n",
      "15/15 [==============================] - 1s 44ms/step - loss: 0.1327 - accuracy: 0.9686 - val_loss: 10.6035 - val_accuracy: 0.0025\n",
      "Epoch 5/5\n",
      "15/15 [==============================] - 1s 43ms/step - loss: 0.1323 - accuracy: 0.9685 - val_loss: 10.6270 - val_accuracy: 0.0019\n",
      "  53/2017 [..............................] - ETA: 3s - loss: 1.5090 - accuracy: 0.4682"
     ]
    },
    {
     "name": "stderr",
     "output_type": "stream",
     "text": [
      "c:\\Users\\UX430\\anaconda3\\lib\\site-packages\\numpy\\core\\_asarray.py:171: VisibleDeprecationWarning: Creating an ndarray from ragged nested sequences (which is a list-or-tuple of lists-or-tuples-or ndarrays with different lengths or shapes) is deprecated. If you meant to do this, you must specify 'dtype=object' when creating the ndarray.\n",
      "  return array(a, dtype, copy=False, order=order, subok=True)\n"
     ]
    },
    {
     "name": "stdout",
     "output_type": "stream",
     "text": [
      "2017/2017 [==============================] - 3s 2ms/step - loss: 1.5128 - accuracy: 0.4714\n",
      " 65/756 [=>............................] - ETA: 1s - loss: 0.0000e+00 - accuracy: 9.6154e-04"
     ]
    },
    {
     "name": "stderr",
     "output_type": "stream",
     "text": [
      "c:\\Users\\UX430\\anaconda3\\lib\\site-packages\\sklearn\\metrics\\_classification.py:1308: UndefinedMetricWarning: Precision and F-score are ill-defined and being set to 0.0 in labels with no predicted samples. Use `zero_division` parameter to control this behavior.\n",
      "  _warn_prf(average, modifier, msg_start, len(result))\n",
      "c:\\Users\\UX430\\anaconda3\\lib\\site-packages\\sklearn\\metrics\\_classification.py:1308: UndefinedMetricWarning: Precision and F-score are ill-defined and being set to 0.0 in labels with no predicted samples. Use `zero_division` parameter to control this behavior.\n",
      "  _warn_prf(average, modifier, msg_start, len(result))\n",
      "c:\\Users\\UX430\\anaconda3\\lib\\site-packages\\sklearn\\metrics\\_classification.py:1308: UndefinedMetricWarning: Precision and F-score are ill-defined and being set to 0.0 in labels with no predicted samples. Use `zero_division` parameter to control this behavior.\n",
      "  _warn_prf(average, modifier, msg_start, len(result))\n"
     ]
    },
    {
     "name": "stdout",
     "output_type": "stream",
     "text": [
      "756/756 [==============================] - 1s 1ms/step - loss: 0.0000e+00 - accuracy: 0.0111\n"
     ]
    },
    {
     "name": "stderr",
     "output_type": "stream",
     "text": [
      "c:\\Users\\UX430\\anaconda3\\lib\\site-packages\\sklearn\\metrics\\_classification.py:1308: UndefinedMetricWarning: Precision and F-score are ill-defined and being set to 0.0 in labels with no predicted samples. Use `zero_division` parameter to control this behavior.\n",
      "  _warn_prf(average, modifier, msg_start, len(result))\n",
      "c:\\Users\\UX430\\anaconda3\\lib\\site-packages\\sklearn\\metrics\\_classification.py:1308: UndefinedMetricWarning: Recall and F-score are ill-defined and being set to 0.0 in labels with no true samples. Use `zero_division` parameter to control this behavior.\n",
      "  _warn_prf(average, modifier, msg_start, len(result))\n",
      "c:\\Users\\UX430\\anaconda3\\lib\\site-packages\\sklearn\\metrics\\_classification.py:1308: UndefinedMetricWarning: Precision and F-score are ill-defined and being set to 0.0 in labels with no predicted samples. Use `zero_division` parameter to control this behavior.\n",
      "  _warn_prf(average, modifier, msg_start, len(result))\n",
      "c:\\Users\\UX430\\anaconda3\\lib\\site-packages\\sklearn\\metrics\\_classification.py:1308: UndefinedMetricWarning: Recall and F-score are ill-defined and being set to 0.0 in labels with no true samples. Use `zero_division` parameter to control this behavior.\n",
      "  _warn_prf(average, modifier, msg_start, len(result))\n",
      "c:\\Users\\UX430\\anaconda3\\lib\\site-packages\\sklearn\\metrics\\_classification.py:1308: UndefinedMetricWarning: Precision and F-score are ill-defined and being set to 0.0 in labels with no predicted samples. Use `zero_division` parameter to control this behavior.\n",
      "  _warn_prf(average, modifier, msg_start, len(result))\n",
      "c:\\Users\\UX430\\anaconda3\\lib\\site-packages\\sklearn\\metrics\\_classification.py:1308: UndefinedMetricWarning: Recall and F-score are ill-defined and being set to 0.0 in labels with no true samples. Use `zero_division` parameter to control this behavior.\n",
      "  _warn_prf(average, modifier, msg_start, len(result))\n"
     ]
    },
    {
     "name": "stdout",
     "output_type": "stream",
     "text": [
      "Epoch 1/5\n",
      "15/15 [==============================] - 1s 55ms/step - loss: 0.1386 - accuracy: 0.9671 - val_loss: 10.1610 - val_accuracy: 0.0016\n",
      "Epoch 2/5\n",
      "15/15 [==============================] - 1s 44ms/step - loss: 0.1377 - accuracy: 0.9669 - val_loss: 10.3698 - val_accuracy: 0.0014\n",
      "Epoch 3/5\n",
      "15/15 [==============================] - 1s 48ms/step - loss: 0.1372 - accuracy: 0.9670 - val_loss: 10.3652 - val_accuracy: 0.0014\n",
      "Epoch 4/5\n",
      "15/15 [==============================] - 1s 56ms/step - loss: 0.1369 - accuracy: 0.9669 - val_loss: 10.4965 - val_accuracy: 0.0014\n",
      "Epoch 5/5\n",
      "15/15 [==============================] - 1s 45ms/step - loss: 0.1369 - accuracy: 0.9671 - val_loss: 10.5133 - val_accuracy: 0.0014\n",
      "Epoch 1/5\n",
      "15/15 [==============================] - 1s 54ms/step - loss: 0.1345 - accuracy: 0.9682 - val_loss: 10.7589 - val_accuracy: 0.0025\n",
      "Epoch 2/5\n",
      "15/15 [==============================] - 1s 56ms/step - loss: 0.1334 - accuracy: 0.9683 - val_loss: 10.6462 - val_accuracy: 0.0036\n",
      "Epoch 3/5\n",
      "15/15 [==============================] - 1s 47ms/step - loss: 0.1325 - accuracy: 0.9685 - val_loss: 10.7358 - val_accuracy: 0.0022\n",
      "Epoch 4/5\n",
      "15/15 [==============================] - 1s 45ms/step - loss: 0.1321 - accuracy: 0.9684 - val_loss: 10.8579 - val_accuracy: 0.0027\n",
      "Epoch 5/5\n",
      "15/15 [==============================] - 1s 60ms/step - loss: 0.1317 - accuracy: 0.9686 - val_loss: 10.8201 - val_accuracy: 0.0027\n",
      "Epoch 1/5\n",
      "15/15 [==============================] - 1s 55ms/step - loss: 0.1338 - accuracy: 0.9685 - val_loss: 11.0428 - val_accuracy: 0.0011\n",
      "Epoch 2/5\n",
      "15/15 [==============================] - 1s 47ms/step - loss: 0.1326 - accuracy: 0.9685 - val_loss: 10.9079 - val_accuracy: 0.0019\n",
      "Epoch 3/5\n",
      "15/15 [==============================] - 1s 53ms/step - loss: 0.1320 - accuracy: 0.9685 - val_loss: 11.0894 - val_accuracy: 0.0011\n",
      "Epoch 4/5\n",
      "15/15 [==============================] - 1s 46ms/step - loss: 0.1316 - accuracy: 0.9685 - val_loss: 11.1560 - val_accuracy: 0.0019\n",
      "Epoch 5/5\n",
      "15/15 [==============================] - 1s 46ms/step - loss: 0.1314 - accuracy: 0.9686 - val_loss: 11.1874 - val_accuracy: 0.0011\n",
      "  66/2017 [..............................] - ETA: 4s - loss: 1.5913 - accuracy: 0.2831"
     ]
    },
    {
     "name": "stderr",
     "output_type": "stream",
     "text": [
      "c:\\Users\\UX430\\anaconda3\\lib\\site-packages\\numpy\\core\\_asarray.py:171: VisibleDeprecationWarning: Creating an ndarray from ragged nested sequences (which is a list-or-tuple of lists-or-tuples-or ndarrays with different lengths or shapes) is deprecated. If you meant to do this, you must specify 'dtype=object' when creating the ndarray.\n",
      "  return array(a, dtype, copy=False, order=order, subok=True)\n"
     ]
    },
    {
     "name": "stdout",
     "output_type": "stream",
     "text": [
      "2017/2017 [==============================] - 3s 2ms/step - loss: 1.6245 - accuracy: 0.2799\n",
      " 59/756 [=>............................] - ETA: 1s - loss: 0.0000e+00 - accuracy: 0.0011  "
     ]
    },
    {
     "name": "stderr",
     "output_type": "stream",
     "text": [
      "c:\\Users\\UX430\\anaconda3\\lib\\site-packages\\sklearn\\metrics\\_classification.py:1308: UndefinedMetricWarning: Precision and F-score are ill-defined and being set to 0.0 in labels with no predicted samples. Use `zero_division` parameter to control this behavior.\n",
      "  _warn_prf(average, modifier, msg_start, len(result))\n",
      "c:\\Users\\UX430\\anaconda3\\lib\\site-packages\\sklearn\\metrics\\_classification.py:1308: UndefinedMetricWarning: Precision and F-score are ill-defined and being set to 0.0 in labels with no predicted samples. Use `zero_division` parameter to control this behavior.\n",
      "  _warn_prf(average, modifier, msg_start, len(result))\n",
      "c:\\Users\\UX430\\anaconda3\\lib\\site-packages\\sklearn\\metrics\\_classification.py:1308: UndefinedMetricWarning: Precision and F-score are ill-defined and being set to 0.0 in labels with no predicted samples. Use `zero_division` parameter to control this behavior.\n",
      "  _warn_prf(average, modifier, msg_start, len(result))\n"
     ]
    },
    {
     "name": "stdout",
     "output_type": "stream",
     "text": [
      "756/756 [==============================] - 1s 2ms/step - loss: 0.0000e+00 - accuracy: 0.0128\n"
     ]
    },
    {
     "name": "stderr",
     "output_type": "stream",
     "text": [
      "c:\\Users\\UX430\\anaconda3\\lib\\site-packages\\sklearn\\metrics\\_classification.py:1308: UndefinedMetricWarning: Precision and F-score are ill-defined and being set to 0.0 in labels with no predicted samples. Use `zero_division` parameter to control this behavior.\n",
      "  _warn_prf(average, modifier, msg_start, len(result))\n",
      "c:\\Users\\UX430\\anaconda3\\lib\\site-packages\\sklearn\\metrics\\_classification.py:1308: UndefinedMetricWarning: Recall and F-score are ill-defined and being set to 0.0 in labels with no true samples. Use `zero_division` parameter to control this behavior.\n",
      "  _warn_prf(average, modifier, msg_start, len(result))\n",
      "c:\\Users\\UX430\\anaconda3\\lib\\site-packages\\sklearn\\metrics\\_classification.py:1308: UndefinedMetricWarning: Precision and F-score are ill-defined and being set to 0.0 in labels with no predicted samples. Use `zero_division` parameter to control this behavior.\n",
      "  _warn_prf(average, modifier, msg_start, len(result))\n",
      "c:\\Users\\UX430\\anaconda3\\lib\\site-packages\\sklearn\\metrics\\_classification.py:1308: UndefinedMetricWarning: Recall and F-score are ill-defined and being set to 0.0 in labels with no true samples. Use `zero_division` parameter to control this behavior.\n",
      "  _warn_prf(average, modifier, msg_start, len(result))\n",
      "c:\\Users\\UX430\\anaconda3\\lib\\site-packages\\sklearn\\metrics\\_classification.py:1308: UndefinedMetricWarning: Precision and F-score are ill-defined and being set to 0.0 in labels with no predicted samples. Use `zero_division` parameter to control this behavior.\n",
      "  _warn_prf(average, modifier, msg_start, len(result))\n",
      "c:\\Users\\UX430\\anaconda3\\lib\\site-packages\\sklearn\\metrics\\_classification.py:1308: UndefinedMetricWarning: Recall and F-score are ill-defined and being set to 0.0 in labels with no true samples. Use `zero_division` parameter to control this behavior.\n",
      "  _warn_prf(average, modifier, msg_start, len(result))\n"
     ]
    },
    {
     "name": "stdout",
     "output_type": "stream",
     "text": [
      "Epoch 1/5\n",
      "15/15 [==============================] - 1s 56ms/step - loss: 0.1370 - accuracy: 0.9671 - val_loss: 10.8437 - val_accuracy: 0.0014\n",
      "Epoch 2/5\n",
      "15/15 [==============================] - 1s 45ms/step - loss: 0.1361 - accuracy: 0.9671 - val_loss: 10.9038 - val_accuracy: 0.0016\n",
      "Epoch 3/5\n",
      "15/15 [==============================] - 1s 49ms/step - loss: 0.1356 - accuracy: 0.9672 - val_loss: 10.8931 - val_accuracy: 0.0014\n",
      "Epoch 4/5\n",
      "15/15 [==============================] - 1s 58ms/step - loss: 0.1353 - accuracy: 0.9670 - val_loss: 11.0092 - val_accuracy: 0.0014\n",
      "Epoch 5/5\n",
      "15/15 [==============================] - 1s 47ms/step - loss: 0.1350 - accuracy: 0.9670 - val_loss: 11.0124 - val_accuracy: 0.0014\n",
      "Epoch 1/5\n",
      "15/15 [==============================] - 1s 63ms/step - loss: 0.1335 - accuracy: 0.9681 - val_loss: 11.2626 - val_accuracy: 0.0014\n",
      "Epoch 2/5\n",
      "15/15 [==============================] - 1s 48ms/step - loss: 0.1318 - accuracy: 0.9682 - val_loss: 11.1312 - val_accuracy: 0.0019\n",
      "Epoch 3/5\n",
      "15/15 [==============================] - 1s 46ms/step - loss: 0.1313 - accuracy: 0.9684 - val_loss: 11.3399 - val_accuracy: 0.0025\n",
      "Epoch 4/5\n",
      "15/15 [==============================] - 1s 46ms/step - loss: 0.1305 - accuracy: 0.9685 - val_loss: 11.3692 - val_accuracy: 0.0025\n",
      "Epoch 5/5\n",
      "15/15 [==============================] - 1s 57ms/step - loss: 0.1302 - accuracy: 0.9687 - val_loss: 11.3764 - val_accuracy: 0.0025\n",
      "Epoch 1/5\n",
      "15/15 [==============================] - 1s 55ms/step - loss: 0.1325 - accuracy: 0.9682 - val_loss: 11.3922 - val_accuracy: 0.0011\n",
      "Epoch 2/5\n",
      "15/15 [==============================] - 1s 49ms/step - loss: 0.1310 - accuracy: 0.9685 - val_loss: 11.6041 - val_accuracy: 0.0019\n",
      "Epoch 3/5\n",
      "15/15 [==============================] - 1s 50ms/step - loss: 0.1303 - accuracy: 0.9685 - val_loss: 11.4931 - val_accuracy: 0.0019\n",
      "Epoch 4/5\n",
      "15/15 [==============================] - 1s 49ms/step - loss: 0.1298 - accuracy: 0.9686 - val_loss: 11.4994 - val_accuracy: 0.0019\n",
      "Epoch 5/5\n",
      "15/15 [==============================] - 1s 60ms/step - loss: 0.1297 - accuracy: 0.9689 - val_loss: 11.5405 - val_accuracy: 0.0019\n",
      "  72/2017 [>.............................] - ETA: 4s - loss: 1.7414 - accuracy: 0.1315"
     ]
    },
    {
     "name": "stderr",
     "output_type": "stream",
     "text": [
      "c:\\Users\\UX430\\anaconda3\\lib\\site-packages\\numpy\\core\\_asarray.py:171: VisibleDeprecationWarning: Creating an ndarray from ragged nested sequences (which is a list-or-tuple of lists-or-tuples-or ndarrays with different lengths or shapes) is deprecated. If you meant to do this, you must specify 'dtype=object' when creating the ndarray.\n",
      "  return array(a, dtype, copy=False, order=order, subok=True)\n"
     ]
    },
    {
     "name": "stdout",
     "output_type": "stream",
     "text": [
      "2017/2017 [==============================] - 4s 2ms/step - loss: 1.7884 - accuracy: 0.1349\n",
      " 63/756 [=>............................] - ETA: 1s - loss: 0.0000e+00 - accuracy: 9.9206e-04"
     ]
    },
    {
     "name": "stderr",
     "output_type": "stream",
     "text": [
      "c:\\Users\\UX430\\anaconda3\\lib\\site-packages\\sklearn\\metrics\\_classification.py:1308: UndefinedMetricWarning: Precision and F-score are ill-defined and being set to 0.0 in labels with no predicted samples. Use `zero_division` parameter to control this behavior.\n",
      "  _warn_prf(average, modifier, msg_start, len(result))\n",
      "c:\\Users\\UX430\\anaconda3\\lib\\site-packages\\sklearn\\metrics\\_classification.py:1308: UndefinedMetricWarning: Precision and F-score are ill-defined and being set to 0.0 in labels with no predicted samples. Use `zero_division` parameter to control this behavior.\n",
      "  _warn_prf(average, modifier, msg_start, len(result))\n",
      "c:\\Users\\UX430\\anaconda3\\lib\\site-packages\\sklearn\\metrics\\_classification.py:1308: UndefinedMetricWarning: Precision and F-score are ill-defined and being set to 0.0 in labels with no predicted samples. Use `zero_division` parameter to control this behavior.\n",
      "  _warn_prf(average, modifier, msg_start, len(result))\n"
     ]
    },
    {
     "name": "stdout",
     "output_type": "stream",
     "text": [
      "756/756 [==============================] - 1s 2ms/step - loss: 0.0000e+00 - accuracy: 0.0134\n"
     ]
    },
    {
     "name": "stderr",
     "output_type": "stream",
     "text": [
      "c:\\Users\\UX430\\anaconda3\\lib\\site-packages\\sklearn\\metrics\\_classification.py:1308: UndefinedMetricWarning: Precision and F-score are ill-defined and being set to 0.0 in labels with no predicted samples. Use `zero_division` parameter to control this behavior.\n",
      "  _warn_prf(average, modifier, msg_start, len(result))\n",
      "c:\\Users\\UX430\\anaconda3\\lib\\site-packages\\sklearn\\metrics\\_classification.py:1308: UndefinedMetricWarning: Recall and F-score are ill-defined and being set to 0.0 in labels with no true samples. Use `zero_division` parameter to control this behavior.\n",
      "  _warn_prf(average, modifier, msg_start, len(result))\n",
      "c:\\Users\\UX430\\anaconda3\\lib\\site-packages\\sklearn\\metrics\\_classification.py:1308: UndefinedMetricWarning: Precision and F-score are ill-defined and being set to 0.0 in labels with no predicted samples. Use `zero_division` parameter to control this behavior.\n",
      "  _warn_prf(average, modifier, msg_start, len(result))\n",
      "c:\\Users\\UX430\\anaconda3\\lib\\site-packages\\sklearn\\metrics\\_classification.py:1308: UndefinedMetricWarning: Recall and F-score are ill-defined and being set to 0.0 in labels with no true samples. Use `zero_division` parameter to control this behavior.\n",
      "  _warn_prf(average, modifier, msg_start, len(result))\n",
      "c:\\Users\\UX430\\anaconda3\\lib\\site-packages\\sklearn\\metrics\\_classification.py:1308: UndefinedMetricWarning: Precision and F-score are ill-defined and being set to 0.0 in labels with no predicted samples. Use `zero_division` parameter to control this behavior.\n",
      "  _warn_prf(average, modifier, msg_start, len(result))\n",
      "c:\\Users\\UX430\\anaconda3\\lib\\site-packages\\sklearn\\metrics\\_classification.py:1308: UndefinedMetricWarning: Recall and F-score are ill-defined and being set to 0.0 in labels with no true samples. Use `zero_division` parameter to control this behavior.\n",
      "  _warn_prf(average, modifier, msg_start, len(result))\n"
     ]
    },
    {
     "name": "stdout",
     "output_type": "stream",
     "text": [
      "Epoch 1/5\n",
      "15/15 [==============================] - 1s 59ms/step - loss: 0.1358 - accuracy: 0.9673 - val_loss: 11.2233 - val_accuracy: 0.0014\n",
      "Epoch 2/5\n",
      "15/15 [==============================] - 1s 47ms/step - loss: 0.1343 - accuracy: 0.9672 - val_loss: 11.2952 - val_accuracy: 0.0014\n",
      "Epoch 3/5\n",
      "15/15 [==============================] - 1s 61ms/step - loss: 0.1346 - accuracy: 0.9673 - val_loss: 11.2984 - val_accuracy: 0.0014\n",
      "Epoch 4/5\n",
      "15/15 [==============================] - 1s 52ms/step - loss: 0.1345 - accuracy: 0.9673 - val_loss: 11.4640 - val_accuracy: 0.0014\n",
      "Epoch 5/5\n",
      "15/15 [==============================] - 1s 56ms/step - loss: 0.1341 - accuracy: 0.9673 - val_loss: 11.2853 - val_accuracy: 0.0014\n",
      "Epoch 1/5\n",
      "15/15 [==============================] - 1s 73ms/step - loss: 0.1322 - accuracy: 0.9685 - val_loss: 11.7338 - val_accuracy: 0.0036\n",
      "Epoch 2/5\n",
      "15/15 [==============================] - 1s 48ms/step - loss: 0.1307 - accuracy: 0.9686 - val_loss: 11.5481 - val_accuracy: 0.0033\n",
      "Epoch 3/5\n",
      "15/15 [==============================] - 1s 57ms/step - loss: 0.1298 - accuracy: 0.9689 - val_loss: 11.7373 - val_accuracy: 0.0030\n",
      "Epoch 4/5\n",
      "15/15 [==============================] - 1s 55ms/step - loss: 0.1295 - accuracy: 0.9689 - val_loss: 11.6947 - val_accuracy: 0.0036\n",
      "Epoch 5/5\n",
      "15/15 [==============================] - 1s 56ms/step - loss: 0.1291 - accuracy: 0.9689 - val_loss: 11.7762 - val_accuracy: 0.0033\n",
      "Epoch 1/5\n",
      "15/15 [==============================] - 1s 59ms/step - loss: 0.1320 - accuracy: 0.9681 - val_loss: 11.7278 - val_accuracy: 0.0011\n",
      "Epoch 2/5\n",
      "15/15 [==============================] - 1s 48ms/step - loss: 0.1302 - accuracy: 0.9687 - val_loss: 11.7788 - val_accuracy: 0.0022\n",
      "Epoch 3/5\n",
      "15/15 [==============================] - 1s 62ms/step - loss: 0.1296 - accuracy: 0.9688 - val_loss: 11.7655 - val_accuracy: 0.0019\n",
      "Epoch 4/5\n",
      "15/15 [==============================] - 1s 51ms/step - loss: 0.1290 - accuracy: 0.9687 - val_loss: 11.7694 - val_accuracy: 0.0019\n",
      "Epoch 5/5\n",
      "15/15 [==============================] - 1s 61ms/step - loss: 0.1286 - accuracy: 0.9688 - val_loss: 11.8178 - val_accuracy: 0.0019\n",
      "  56/2017 [..............................] - ETA: 3s - loss: 1.8544 - accuracy: 0.1295"
     ]
    },
    {
     "name": "stderr",
     "output_type": "stream",
     "text": [
      "c:\\Users\\UX430\\anaconda3\\lib\\site-packages\\numpy\\core\\_asarray.py:171: VisibleDeprecationWarning: Creating an ndarray from ragged nested sequences (which is a list-or-tuple of lists-or-tuples-or ndarrays with different lengths or shapes) is deprecated. If you meant to do this, you must specify 'dtype=object' when creating the ndarray.\n",
      "  return array(a, dtype, copy=False, order=order, subok=True)\n"
     ]
    },
    {
     "name": "stdout",
     "output_type": "stream",
     "text": [
      "2017/2017 [==============================] - 3s 2ms/step - loss: 1.8809 - accuracy: 0.1348\n",
      " 55/756 [=>............................] - ETA: 1s - loss: 0.0000e+00 - accuracy: 0.0011    "
     ]
    },
    {
     "name": "stderr",
     "output_type": "stream",
     "text": [
      "c:\\Users\\UX430\\anaconda3\\lib\\site-packages\\sklearn\\metrics\\_classification.py:1308: UndefinedMetricWarning: Precision and F-score are ill-defined and being set to 0.0 in labels with no predicted samples. Use `zero_division` parameter to control this behavior.\n",
      "  _warn_prf(average, modifier, msg_start, len(result))\n",
      "c:\\Users\\UX430\\anaconda3\\lib\\site-packages\\sklearn\\metrics\\_classification.py:1308: UndefinedMetricWarning: Precision and F-score are ill-defined and being set to 0.0 in labels with no predicted samples. Use `zero_division` parameter to control this behavior.\n",
      "  _warn_prf(average, modifier, msg_start, len(result))\n",
      "c:\\Users\\UX430\\anaconda3\\lib\\site-packages\\sklearn\\metrics\\_classification.py:1308: UndefinedMetricWarning: Precision and F-score are ill-defined and being set to 0.0 in labels with no predicted samples. Use `zero_division` parameter to control this behavior.\n",
      "  _warn_prf(average, modifier, msg_start, len(result))\n"
     ]
    },
    {
     "name": "stdout",
     "output_type": "stream",
     "text": [
      "756/756 [==============================] - 1s 2ms/step - loss: 0.0000e+00 - accuracy: 0.0161\n"
     ]
    },
    {
     "name": "stderr",
     "output_type": "stream",
     "text": [
      "c:\\Users\\UX430\\anaconda3\\lib\\site-packages\\sklearn\\metrics\\_classification.py:1308: UndefinedMetricWarning: Precision and F-score are ill-defined and being set to 0.0 in labels with no predicted samples. Use `zero_division` parameter to control this behavior.\n",
      "  _warn_prf(average, modifier, msg_start, len(result))\n",
      "c:\\Users\\UX430\\anaconda3\\lib\\site-packages\\sklearn\\metrics\\_classification.py:1308: UndefinedMetricWarning: Recall and F-score are ill-defined and being set to 0.0 in labels with no true samples. Use `zero_division` parameter to control this behavior.\n",
      "  _warn_prf(average, modifier, msg_start, len(result))\n",
      "c:\\Users\\UX430\\anaconda3\\lib\\site-packages\\sklearn\\metrics\\_classification.py:1308: UndefinedMetricWarning: Precision and F-score are ill-defined and being set to 0.0 in labels with no predicted samples. Use `zero_division` parameter to control this behavior.\n",
      "  _warn_prf(average, modifier, msg_start, len(result))\n",
      "c:\\Users\\UX430\\anaconda3\\lib\\site-packages\\sklearn\\metrics\\_classification.py:1308: UndefinedMetricWarning: Recall and F-score are ill-defined and being set to 0.0 in labels with no true samples. Use `zero_division` parameter to control this behavior.\n",
      "  _warn_prf(average, modifier, msg_start, len(result))\n",
      "c:\\Users\\UX430\\anaconda3\\lib\\site-packages\\sklearn\\metrics\\_classification.py:1308: UndefinedMetricWarning: Precision and F-score are ill-defined and being set to 0.0 in labels with no predicted samples. Use `zero_division` parameter to control this behavior.\n",
      "  _warn_prf(average, modifier, msg_start, len(result))\n",
      "c:\\Users\\UX430\\anaconda3\\lib\\site-packages\\sklearn\\metrics\\_classification.py:1308: UndefinedMetricWarning: Recall and F-score are ill-defined and being set to 0.0 in labels with no true samples. Use `zero_division` parameter to control this behavior.\n",
      "  _warn_prf(average, modifier, msg_start, len(result))\n"
     ]
    }
   ],
   "source": [
    "# Values saved each iteration \n",
    "loss_it = []\n",
    "accuracy_it = []\n",
    "f1_it = []\n",
    "precision_it = []\n",
    "recall_it = []\n",
    "\n",
    "for i in range(global_updates): \n",
    "    w_list = []\n",
    "    for node in range(num_nodes): \n",
    "        cp = global_model # create a copy of the global model\n",
    "        if node == 0:\n",
    "            x, y = x1, y1\n",
    "        elif node == 1:\n",
    "            x, y = x2, y2\n",
    "        else:\n",
    "            x, y = x3, y3\n",
    "        local_model, local_loss, local_acc, local_val_loss, local_val_acc = train_local_model(cp, node, x, y)\n",
    "        w_list.append(local_model.get_weights())\n",
    "\n",
    "    avg_w = aggregate(w_list)\n",
    "    global_model.set_weights(avg_w) # apply gradients to global model\n",
    "    loss_basic, accuracy_basic, f1_basic, precision_basic, recall_basic = evaluation(global_model, xbasic, ybasic) # Evaluate with test basic to know progress\n",
    "    loss_plus, accuracy_plus, f1_plus, precision_plus, recall_plus = evaluation(global_model, xplus, yplus) # Evaluate with test plus to know progress\n",
    "\n",
    "    loss_it.append([loss_basic, loss_plus])\n",
    "    accuracy_it.append([accuracy_basic, accuracy_plus])\n",
    "    f1_it.append([f1_basic, f1_plus])\n",
    "    precision_it.append([precision_basic, precision_plus])\n",
    "    recall_it.append([recall_basic, recall_plus])\n",
    "\n",
    "\n",
    "global_model.save('C:/Users/UX430/Documents/thesis/code/models/id312.hdf5')"
   ]
  },
  {
   "cell_type": "code",
   "execution_count": 107,
   "metadata": {},
   "outputs": [
    {
     "name": "stdout",
     "output_type": "stream",
     "text": [
      "Loss for iterations:  [[1.1798760890960693, 0.0], [1.0976953506469727, 0.0], [1.0861066579818726, 0.0], [1.1553384065628052, 0.0], [1.271125316619873, 0.0], [1.382882833480835, 0.0], [1.5127978324890137, 0.0], [1.6245250701904297, 0.0], [1.7884374856948853, 0.0], [1.8808571100234985, 0.0]]\n",
      "Accuracy for iterations:  [[0.9123473167419434, 0.009511600248515606], [0.5660921335220337, 0.008519085124135017], [0.547213077545166, 0.008560439571738243], [0.5720441341400146, 0.009511600248515606], [0.5031620264053345, 0.010297341272234917], [0.5569781064987183, 0.010959017090499401], [0.4714334309101105, 0.011083081364631653], [0.27986857295036316, 0.012778627686202526], [0.13485026359558105, 0.013357594609260559], [0.13483476638793945, 0.016087010502815247]]\n",
      "F1 for iterations:  [[0.8914495420950246, 0.018843963786817422], [0.6268891873320014, 0.016894246934842337], [0.6099492831593067, 0.016975561751681155], [0.6321475005474692, 0.018843963786817422], [0.5688086766181324, 0.020384772820302908], [0.6188434376579203, 0.021680438517548882], [0.5374874572339877, 0.021923187042414822], [0.3104467537171745, 0.025234789710085748], [0.07454141113604557, 0.026363042768527585], [0.07456551668692032, 0.03166463166463166]]\n",
      "Precision for iterations:  [[0.8814638652623297, 1.0], [0.8543745269367351, 1.0], [0.8552903502439819, 1.0], [0.8580930043434998, 1.0], [0.8546954714502446, 1.0], [0.8559527886890556, 1.0], [0.8533939522852789, 1.0], [0.8484438765266389, 1.0], [0.8410243451820438, 1.0], [0.8412141417082775, 1.0]]\n",
      "Recall for iterations:  [[0.9123473246946494, 0.009511600016541914], [0.5660921321842644, 0.008519085232207105], [0.5472130944261888, 0.008560440014887722], [0.5720441440882882, 0.009511600016541914], [0.5031620063240126, 0.010297340887473637], [0.5569781139562279, 0.010959017410363509], [0.4714334428668857, 0.01108308175840536], [0.2798685597371195, 0.012778627848310657], [0.1348502697005394, 0.013357594805839295], [0.13483476966953933, 0.016087010462760017]]\n"
     ]
    }
   ],
   "source": [
    "print(\"Loss for iterations: \", loss_it)\n",
    "print(\"Accuracy for iterations: \", accuracy_it)\n",
    "print(\"F1 for iterations: \", f1_it)\n",
    "print(\"Precision for iterations: \", precision_it)\n",
    "print(\"Recall for iterations: \", recall_it)"
   ]
  },
  {
   "cell_type": "markdown",
   "metadata": {},
   "source": [
    "#### #Epochs = 5, #Iterations = 15"
   ]
  },
  {
   "cell_type": "code",
   "execution_count": 108,
   "metadata": {},
   "outputs": [
    {
     "name": "stderr",
     "output_type": "stream",
     "text": [
      "C:\\Users\\UX430\\AppData\\Local\\Temp/ipykernel_11572/2294361559.py:5: DtypeWarning: Columns (4) have mixed types. Specify dtype option on import or set low_memory=False.\n",
      "  test_basic = pd.read_csv('C:/Users/UX430/Documents/thesis/datasets/UNSW-NB15/UNSW-NB15-Test-Basic.csv')\n"
     ]
    }
   ],
   "source": [
    "# Load training datasets and testing datasets \n",
    "training1 = pd.read_csv('C:/Users/UX430/Documents/thesis/datasets/UNSW-NB15/UNSW-NB15-Train-Basic-Cat3B-Part1.csv')\n",
    "training2 = pd.read_csv('C:/Users/UX430/Documents/thesis/datasets/UNSW-NB15/UNSW-NB15-Train-Basic-Cat3B-Part2.csv')\n",
    "training3 = pd.read_csv('C:/Users/UX430/Documents/thesis/datasets/UNSW-NB15/UNSW-NB15-Train-Basic-Cat3B-Part3.csv')\n",
    "test_basic = pd.read_csv('C:/Users/UX430/Documents/thesis/datasets/UNSW-NB15/UNSW-NB15-Test-Basic.csv')\n",
    "test_plus = pd.read_csv('C:/Users/UX430/Documents/thesis/datasets/UNSW-NB15/UNSW-NB15-Test+.csv')"
   ]
  },
  {
   "cell_type": "code",
   "execution_count": 109,
   "metadata": {},
   "outputs": [],
   "source": [
    "# Define \n",
    "node_datasets = [training1, training2, training3]\n",
    "num_nodes = 3\n",
    "global_updates = 15\n",
    "\n",
    "# Define model training parameters\n",
    "loss_fct = \"categorical_crossentropy\"\n",
    "metrics = ['accuracy']\n",
    "local_epochs = 5"
   ]
  },
  {
   "cell_type": "code",
   "execution_count": 110,
   "metadata": {},
   "outputs": [],
   "source": [
    "def train_local_model(model, node, x_train, y_train): \n",
    "    filepath = 'C:/Users/UX430/Documents/thesis/code/models/node'+str(node)+'ID313.hdf5'\n",
    "    callbacks = [\n",
    "            keras.callbacks.EarlyStopping(\n",
    "                monitor = 'val_loss', # Use accuracy to monitor the model\n",
    "                patience = 10 # Stop after 10 steps with lower accuracy\n",
    "            ),\n",
    "            keras.callbacks.ModelCheckpoint(\n",
    "                filepath = filepath, # file where the checkpoint is saved\n",
    "                monitor = 'val_loss', # Don't overwrite the saved model unless val_loss is worse\n",
    "                save_best_only = True)]# Only save model if it is the best\n",
    "    optimizer = keras.optimizers.Adam(learning_rate=1e-4)\n",
    "    model.compile(optimizer=optimizer, loss=loss_fct, metrics=metrics)\n",
    "    history = model.fit(x_train, y_train, epochs=local_epochs, validation_split=0.2, callbacks=callbacks, batch_size=1024)\n",
    "    return model, history.history['loss'], history.history['accuracy'], history.history['val_loss'], history.history['val_accuracy']"
   ]
  },
  {
   "cell_type": "code",
   "execution_count": 111,
   "metadata": {},
   "outputs": [],
   "source": [
    "def aggregate(w_list): \n",
    "    avg_w = np.mean(w_list, axis=0)\n",
    "    return avg_w"
   ]
  },
  {
   "cell_type": "code",
   "execution_count": 112,
   "metadata": {},
   "outputs": [],
   "source": [
    "global_model = build_model((24,1,1))"
   ]
  },
  {
   "cell_type": "code",
   "execution_count": 113,
   "metadata": {},
   "outputs": [],
   "source": [
    "x1, y1 = preprocessing(training1)\n",
    "x2, y2 = preprocessing(training2)\n",
    "x3, y3 = preprocessing(training3)\n"
   ]
  },
  {
   "cell_type": "code",
   "execution_count": 114,
   "metadata": {},
   "outputs": [
    {
     "name": "stdout",
     "output_type": "stream",
     "text": [
      "Epoch 1/5\n",
      "15/15 [==============================] - 1s 56ms/step - loss: 1.3037 - accuracy: 0.3619 - val_loss: 1.4089 - val_accuracy: 0.0478\n",
      "Epoch 2/5\n",
      "15/15 [==============================] - 1s 51ms/step - loss: 0.7652 - accuracy: 0.8485 - val_loss: 1.4299 - val_accuracy: 8.2463e-04\n",
      "Epoch 3/5\n",
      "15/15 [==============================] - 1s 55ms/step - loss: 0.4578 - accuracy: 0.9477 - val_loss: 1.4532 - val_accuracy: 8.2463e-04\n",
      "Epoch 4/5\n",
      "15/15 [==============================] - 1s 62ms/step - loss: 0.3100 - accuracy: 0.9546 - val_loss: 1.4790 - val_accuracy: 5.4975e-04\n",
      "Epoch 5/5\n",
      "15/15 [==============================] - 1s 57ms/step - loss: 0.2450 - accuracy: 0.9557 - val_loss: 1.5068 - val_accuracy: 5.4975e-04\n",
      "Epoch 1/5\n",
      "15/15 [==============================] - 1s 66ms/step - loss: 0.2013 - accuracy: 0.9598 - val_loss: 1.5573 - val_accuracy: 0.0000e+00\n",
      "Epoch 2/5\n",
      "15/15 [==============================] - 1s 55ms/step - loss: 0.1783 - accuracy: 0.9625 - val_loss: 1.6069 - val_accuracy: 0.0000e+00\n",
      "Epoch 3/5\n",
      "15/15 [==============================] - 1s 57ms/step - loss: 0.1698 - accuracy: 0.9630 - val_loss: 1.6540 - val_accuracy: 0.0000e+00\n",
      "Epoch 4/5\n",
      "15/15 [==============================] - 1s 56ms/step - loss: 0.1649 - accuracy: 0.9632 - val_loss: 1.7028 - val_accuracy: 0.0000e+00\n",
      "Epoch 5/5\n",
      "15/15 [==============================] - 1s 56ms/step - loss: 0.1613 - accuracy: 0.9634 - val_loss: 1.7592 - val_accuracy: 0.0000e+00\n",
      "Epoch 1/5\n",
      "15/15 [==============================] - 1s 66ms/step - loss: 0.1572 - accuracy: 0.9645 - val_loss: 1.8304 - val_accuracy: 2.7488e-04\n",
      "Epoch 2/5\n",
      "15/15 [==============================] - 1s 62ms/step - loss: 0.1537 - accuracy: 0.9651 - val_loss: 1.9113 - val_accuracy: 0.0000e+00\n",
      "Epoch 3/5\n",
      "15/15 [==============================] - 1s 57ms/step - loss: 0.1511 - accuracy: 0.9651 - val_loss: 1.9937 - val_accuracy: 0.0000e+00\n",
      "Epoch 4/5\n",
      "15/15 [==============================] - 1s 56ms/step - loss: 0.1487 - accuracy: 0.9653 - val_loss: 2.0820 - val_accuracy: 0.0000e+00\n",
      "Epoch 5/5\n",
      "15/15 [==============================] - 1s 64ms/step - loss: 0.1472 - accuracy: 0.9657 - val_loss: 2.1766 - val_accuracy: 0.0000e+00\n",
      "  55/2017 [..............................] - ETA: 3s - loss: 1.1896 - accuracy: 0.8477"
     ]
    },
    {
     "name": "stderr",
     "output_type": "stream",
     "text": [
      "c:\\Users\\UX430\\anaconda3\\lib\\site-packages\\numpy\\core\\_asarray.py:171: VisibleDeprecationWarning: Creating an ndarray from ragged nested sequences (which is a list-or-tuple of lists-or-tuples-or ndarrays with different lengths or shapes) is deprecated. If you meant to do this, you must specify 'dtype=object' when creating the ndarray.\n",
      "  return array(a, dtype, copy=False, order=order, subok=True)\n"
     ]
    },
    {
     "name": "stdout",
     "output_type": "stream",
     "text": [
      "2017/2017 [==============================] - 3s 2ms/step - loss: 1.1898 - accuracy: 0.8465\n",
      " 65/756 [=>............................] - ETA: 1s - loss: 0.0000e+00 - accuracy: 0.0000e+00"
     ]
    },
    {
     "name": "stderr",
     "output_type": "stream",
     "text": [
      "c:\\Users\\UX430\\anaconda3\\lib\\site-packages\\sklearn\\metrics\\_classification.py:1308: UndefinedMetricWarning: Precision and F-score are ill-defined and being set to 0.0 in labels with no predicted samples. Use `zero_division` parameter to control this behavior.\n",
      "  _warn_prf(average, modifier, msg_start, len(result))\n",
      "c:\\Users\\UX430\\anaconda3\\lib\\site-packages\\sklearn\\metrics\\_classification.py:1308: UndefinedMetricWarning: Precision and F-score are ill-defined and being set to 0.0 in labels with no predicted samples. Use `zero_division` parameter to control this behavior.\n",
      "  _warn_prf(average, modifier, msg_start, len(result))\n",
      "c:\\Users\\UX430\\anaconda3\\lib\\site-packages\\sklearn\\metrics\\_classification.py:1308: UndefinedMetricWarning: Precision and F-score are ill-defined and being set to 0.0 in labels with no predicted samples. Use `zero_division` parameter to control this behavior.\n",
      "  _warn_prf(average, modifier, msg_start, len(result))\n"
     ]
    },
    {
     "name": "stdout",
     "output_type": "stream",
     "text": [
      "756/756 [==============================] - 1s 2ms/step - loss: 0.0000e+00 - accuracy: 0.0000e+00\n"
     ]
    },
    {
     "name": "stderr",
     "output_type": "stream",
     "text": [
      "c:\\Users\\UX430\\anaconda3\\lib\\site-packages\\sklearn\\metrics\\_classification.py:1308: UndefinedMetricWarning: Precision and F-score are ill-defined and being set to 0.0 in labels with no predicted samples. Use `zero_division` parameter to control this behavior.\n",
      "  _warn_prf(average, modifier, msg_start, len(result))\n",
      "c:\\Users\\UX430\\anaconda3\\lib\\site-packages\\sklearn\\metrics\\_classification.py:1308: UndefinedMetricWarning: Recall and F-score are ill-defined and being set to 0.0 in labels with no true samples. Use `zero_division` parameter to control this behavior.\n",
      "  _warn_prf(average, modifier, msg_start, len(result))\n",
      "c:\\Users\\UX430\\anaconda3\\lib\\site-packages\\sklearn\\metrics\\_classification.py:1308: UndefinedMetricWarning: Precision and F-score are ill-defined and being set to 0.0 in labels with no predicted samples. Use `zero_division` parameter to control this behavior.\n",
      "  _warn_prf(average, modifier, msg_start, len(result))\n",
      "c:\\Users\\UX430\\anaconda3\\lib\\site-packages\\sklearn\\metrics\\_classification.py:1308: UndefinedMetricWarning: Recall and F-score are ill-defined and being set to 0.0 in labels with no true samples. Use `zero_division` parameter to control this behavior.\n",
      "  _warn_prf(average, modifier, msg_start, len(result))\n",
      "c:\\Users\\UX430\\anaconda3\\lib\\site-packages\\sklearn\\metrics\\_classification.py:1308: UndefinedMetricWarning: Precision and F-score are ill-defined and being set to 0.0 in labels with no predicted samples. Use `zero_division` parameter to control this behavior.\n",
      "  _warn_prf(average, modifier, msg_start, len(result))\n",
      "c:\\Users\\UX430\\anaconda3\\lib\\site-packages\\sklearn\\metrics\\_classification.py:1308: UndefinedMetricWarning: Recall and F-score are ill-defined and being set to 0.0 in labels with no true samples. Use `zero_division` parameter to control this behavior.\n",
      "  _warn_prf(average, modifier, msg_start, len(result))\n"
     ]
    },
    {
     "name": "stdout",
     "output_type": "stream",
     "text": [
      "Epoch 1/5\n",
      "15/15 [==============================] - 1s 72ms/step - loss: 0.1654 - accuracy: 0.9620 - val_loss: 1.7733 - val_accuracy: 0.0000e+00\n",
      "Epoch 2/5\n",
      "15/15 [==============================] - 1s 56ms/step - loss: 0.1607 - accuracy: 0.9625 - val_loss: 1.8479 - val_accuracy: 0.0000e+00\n",
      "Epoch 3/5\n",
      "15/15 [==============================] - 1s 67ms/step - loss: 0.1578 - accuracy: 0.9628 - val_loss: 1.9242 - val_accuracy: 0.0000e+00\n",
      "Epoch 4/5\n",
      "15/15 [==============================] - 1s 56ms/step - loss: 0.1557 - accuracy: 0.9631 - val_loss: 2.0088 - val_accuracy: 0.0000e+00\n",
      "Epoch 5/5\n",
      "15/15 [==============================] - 1s 63ms/step - loss: 0.1539 - accuracy: 0.9629 - val_loss: 2.0945 - val_accuracy: 0.0000e+00\n",
      "Epoch 1/5\n",
      "15/15 [==============================] - 1s 66ms/step - loss: 0.1496 - accuracy: 0.9656 - val_loss: 2.1906 - val_accuracy: 0.0000e+00\n",
      "Epoch 2/5\n",
      "15/15 [==============================] - 1s 62ms/step - loss: 0.1472 - accuracy: 0.9655 - val_loss: 2.2988 - val_accuracy: 0.0000e+00\n",
      "Epoch 3/5\n",
      "15/15 [==============================] - 1s 59ms/step - loss: 0.1462 - accuracy: 0.9664 - val_loss: 2.4207 - val_accuracy: 0.0000e+00\n",
      "Epoch 4/5\n",
      "15/15 [==============================] - 1s 64ms/step - loss: 0.1449 - accuracy: 0.9663 - val_loss: 2.5458 - val_accuracy: 0.0000e+00\n",
      "Epoch 5/5\n",
      "15/15 [==============================] - 1s 56ms/step - loss: 0.1444 - accuracy: 0.9663 - val_loss: 2.6714 - val_accuracy: 0.0000e+00\n",
      "Epoch 1/5\n",
      "15/15 [==============================] - 1s 74ms/step - loss: 0.1445 - accuracy: 0.9662 - val_loss: 2.8461 - val_accuracy: 0.0000e+00\n",
      "Epoch 2/5\n",
      "15/15 [==============================] - 1s 58ms/step - loss: 0.1426 - accuracy: 0.9665 - val_loss: 3.0223 - val_accuracy: 0.0000e+00\n",
      "Epoch 3/5\n",
      "15/15 [==============================] - 1s 68ms/step - loss: 0.1421 - accuracy: 0.9664 - val_loss: 3.2000 - val_accuracy: 0.0000e+00\n",
      "Epoch 4/5\n",
      "15/15 [==============================] - 1s 58ms/step - loss: 0.1412 - accuracy: 0.9667 - val_loss: 3.3899 - val_accuracy: 0.0000e+00\n",
      "Epoch 5/5\n",
      "15/15 [==============================] - 1s 63ms/step - loss: 0.1406 - accuracy: 0.9668 - val_loss: 3.5917 - val_accuracy: 0.0000e+00\n",
      "  85/2017 [>.............................] - ETA: 3s - loss: 1.0025 - accuracy: 0.8456"
     ]
    },
    {
     "name": "stderr",
     "output_type": "stream",
     "text": [
      "c:\\Users\\UX430\\anaconda3\\lib\\site-packages\\numpy\\core\\_asarray.py:171: VisibleDeprecationWarning: Creating an ndarray from ragged nested sequences (which is a list-or-tuple of lists-or-tuples-or ndarrays with different lengths or shapes) is deprecated. If you meant to do this, you must specify 'dtype=object' when creating the ndarray.\n",
      "  return array(a, dtype, copy=False, order=order, subok=True)\n"
     ]
    },
    {
     "name": "stdout",
     "output_type": "stream",
     "text": [
      "2017/2017 [==============================] - 3s 2ms/step - loss: 1.0045 - accuracy: 0.8466\n",
      " 33/756 [>.............................] - ETA: 1s - loss: 0.0000e+00 - accuracy: 0.0000e+00"
     ]
    },
    {
     "name": "stderr",
     "output_type": "stream",
     "text": [
      "c:\\Users\\UX430\\anaconda3\\lib\\site-packages\\sklearn\\metrics\\_classification.py:1308: UndefinedMetricWarning: Precision and F-score are ill-defined and being set to 0.0 in labels with no predicted samples. Use `zero_division` parameter to control this behavior.\n",
      "  _warn_prf(average, modifier, msg_start, len(result))\n",
      "c:\\Users\\UX430\\anaconda3\\lib\\site-packages\\sklearn\\metrics\\_classification.py:1308: UndefinedMetricWarning: Precision and F-score are ill-defined and being set to 0.0 in labels with no predicted samples. Use `zero_division` parameter to control this behavior.\n",
      "  _warn_prf(average, modifier, msg_start, len(result))\n",
      "c:\\Users\\UX430\\anaconda3\\lib\\site-packages\\sklearn\\metrics\\_classification.py:1308: UndefinedMetricWarning: Precision and F-score are ill-defined and being set to 0.0 in labels with no predicted samples. Use `zero_division` parameter to control this behavior.\n",
      "  _warn_prf(average, modifier, msg_start, len(result))\n"
     ]
    },
    {
     "name": "stdout",
     "output_type": "stream",
     "text": [
      "756/756 [==============================] - 1s 2ms/step - loss: 0.0000e+00 - accuracy: 4.1355e-05\n"
     ]
    },
    {
     "name": "stderr",
     "output_type": "stream",
     "text": [
      "c:\\Users\\UX430\\anaconda3\\lib\\site-packages\\sklearn\\metrics\\_classification.py:1308: UndefinedMetricWarning: Recall and F-score are ill-defined and being set to 0.0 in labels with no true samples. Use `zero_division` parameter to control this behavior.\n",
      "  _warn_prf(average, modifier, msg_start, len(result))\n",
      "c:\\Users\\UX430\\anaconda3\\lib\\site-packages\\sklearn\\metrics\\_classification.py:1308: UndefinedMetricWarning: Recall and F-score are ill-defined and being set to 0.0 in labels with no true samples. Use `zero_division` parameter to control this behavior.\n",
      "  _warn_prf(average, modifier, msg_start, len(result))\n",
      "c:\\Users\\UX430\\anaconda3\\lib\\site-packages\\sklearn\\metrics\\_classification.py:1308: UndefinedMetricWarning: Recall and F-score are ill-defined and being set to 0.0 in labels with no true samples. Use `zero_division` parameter to control this behavior.\n",
      "  _warn_prf(average, modifier, msg_start, len(result))\n"
     ]
    },
    {
     "name": "stdout",
     "output_type": "stream",
     "text": [
      "Epoch 1/5\n",
      "15/15 [==============================] - 1s 73ms/step - loss: 0.1501 - accuracy: 0.9651 - val_loss: 2.6971 - val_accuracy: 0.0000e+00\n",
      "Epoch 2/5\n",
      "15/15 [==============================] - 1s 60ms/step - loss: 0.1488 - accuracy: 0.9646 - val_loss: 2.8542 - val_accuracy: 0.0000e+00\n",
      "Epoch 3/5\n",
      "15/15 [==============================] - 1s 76ms/step - loss: 0.1481 - accuracy: 0.9656 - val_loss: 3.0225 - val_accuracy: 0.0000e+00\n",
      "Epoch 4/5\n",
      "15/15 [==============================] - 1s 73ms/step - loss: 0.1474 - accuracy: 0.9656 - val_loss: 3.2015 - val_accuracy: 0.0000e+00\n",
      "Epoch 5/5\n",
      "15/15 [==============================] - 1s 76ms/step - loss: 0.1465 - accuracy: 0.9660 - val_loss: 3.3832 - val_accuracy: 0.0000e+00\n",
      "Epoch 1/5\n",
      "15/15 [==============================] - 1s 71ms/step - loss: 0.1427 - accuracy: 0.9667 - val_loss: 3.5957 - val_accuracy: 0.0000e+00\n",
      "Epoch 2/5\n",
      "15/15 [==============================] - 1s 62ms/step - loss: 0.1420 - accuracy: 0.9673 - val_loss: 3.8051 - val_accuracy: 0.0000e+00\n",
      "Epoch 3/5\n",
      "15/15 [==============================] - 1s 61ms/step - loss: 0.1412 - accuracy: 0.9671 - val_loss: 4.0580 - val_accuracy: 0.0000e+00\n",
      "Epoch 4/5\n",
      "15/15 [==============================] - 1s 64ms/step - loss: 0.1410 - accuracy: 0.9669 - val_loss: 4.2544 - val_accuracy: 0.0000e+00\n",
      "Epoch 5/5\n",
      "15/15 [==============================] - 1s 56ms/step - loss: 0.1403 - accuracy: 0.9675 - val_loss: 4.5336 - val_accuracy: 0.0000e+00\n",
      "Epoch 1/5\n",
      "15/15 [==============================] - 1s 72ms/step - loss: 0.1407 - accuracy: 0.9669 - val_loss: 4.8021 - val_accuracy: 0.0000e+00\n",
      "Epoch 2/5\n",
      "15/15 [==============================] - 1s 57ms/step - loss: 0.1390 - accuracy: 0.9671 - val_loss: 5.0453 - val_accuracy: 0.0000e+00\n",
      "Epoch 3/5\n",
      "15/15 [==============================] - 1s 68ms/step - loss: 0.1387 - accuracy: 0.9672 - val_loss: 5.3304 - val_accuracy: 0.0000e+00\n",
      "Epoch 4/5\n",
      "15/15 [==============================] - 1s 63ms/step - loss: 0.1379 - accuracy: 0.9676 - val_loss: 5.6160 - val_accuracy: 0.0000e+00\n",
      "Epoch 5/5\n",
      "15/15 [==============================] - 1s 56ms/step - loss: 0.1376 - accuracy: 0.9674 - val_loss: 5.8969 - val_accuracy: 0.0000e+00\n",
      "  33/2017 [..............................] - ETA: 6s - loss: 0.8864 - accuracy: 0.8447"
     ]
    },
    {
     "name": "stderr",
     "output_type": "stream",
     "text": [
      "c:\\Users\\UX430\\anaconda3\\lib\\site-packages\\numpy\\core\\_asarray.py:171: VisibleDeprecationWarning: Creating an ndarray from ragged nested sequences (which is a list-or-tuple of lists-or-tuples-or ndarrays with different lengths or shapes) is deprecated. If you meant to do this, you must specify 'dtype=object' when creating the ndarray.\n",
      "  return array(a, dtype, copy=False, order=order, subok=True)\n"
     ]
    },
    {
     "name": "stdout",
     "output_type": "stream",
     "text": [
      "2017/2017 [==============================] - 4s 2ms/step - loss: 0.8886 - accuracy: 0.8467\n",
      " 68/756 [=>............................] - ETA: 1s - loss: 0.0000e+00 - accuracy: 0.0000e+00"
     ]
    },
    {
     "name": "stderr",
     "output_type": "stream",
     "text": [
      "c:\\Users\\UX430\\anaconda3\\lib\\site-packages\\sklearn\\metrics\\_classification.py:1308: UndefinedMetricWarning: Precision and F-score are ill-defined and being set to 0.0 in labels with no predicted samples. Use `zero_division` parameter to control this behavior.\n",
      "  _warn_prf(average, modifier, msg_start, len(result))\n",
      "c:\\Users\\UX430\\anaconda3\\lib\\site-packages\\sklearn\\metrics\\_classification.py:1308: UndefinedMetricWarning: Precision and F-score are ill-defined and being set to 0.0 in labels with no predicted samples. Use `zero_division` parameter to control this behavior.\n",
      "  _warn_prf(average, modifier, msg_start, len(result))\n",
      "c:\\Users\\UX430\\anaconda3\\lib\\site-packages\\sklearn\\metrics\\_classification.py:1308: UndefinedMetricWarning: Precision and F-score are ill-defined and being set to 0.0 in labels with no predicted samples. Use `zero_division` parameter to control this behavior.\n",
      "  _warn_prf(average, modifier, msg_start, len(result))\n"
     ]
    },
    {
     "name": "stdout",
     "output_type": "stream",
     "text": [
      "756/756 [==============================] - 1s 2ms/step - loss: 0.0000e+00 - accuracy: 2.0677e-04\n"
     ]
    },
    {
     "name": "stderr",
     "output_type": "stream",
     "text": [
      "c:\\Users\\UX430\\anaconda3\\lib\\site-packages\\sklearn\\metrics\\_classification.py:1308: UndefinedMetricWarning: Precision and F-score are ill-defined and being set to 0.0 in labels with no predicted samples. Use `zero_division` parameter to control this behavior.\n",
      "  _warn_prf(average, modifier, msg_start, len(result))\n",
      "c:\\Users\\UX430\\anaconda3\\lib\\site-packages\\sklearn\\metrics\\_classification.py:1308: UndefinedMetricWarning: Recall and F-score are ill-defined and being set to 0.0 in labels with no true samples. Use `zero_division` parameter to control this behavior.\n",
      "  _warn_prf(average, modifier, msg_start, len(result))\n",
      "c:\\Users\\UX430\\anaconda3\\lib\\site-packages\\sklearn\\metrics\\_classification.py:1308: UndefinedMetricWarning: Precision and F-score are ill-defined and being set to 0.0 in labels with no predicted samples. Use `zero_division` parameter to control this behavior.\n",
      "  _warn_prf(average, modifier, msg_start, len(result))\n",
      "c:\\Users\\UX430\\anaconda3\\lib\\site-packages\\sklearn\\metrics\\_classification.py:1308: UndefinedMetricWarning: Recall and F-score are ill-defined and being set to 0.0 in labels with no true samples. Use `zero_division` parameter to control this behavior.\n",
      "  _warn_prf(average, modifier, msg_start, len(result))\n",
      "c:\\Users\\UX430\\anaconda3\\lib\\site-packages\\sklearn\\metrics\\_classification.py:1308: UndefinedMetricWarning: Precision and F-score are ill-defined and being set to 0.0 in labels with no predicted samples. Use `zero_division` parameter to control this behavior.\n",
      "  _warn_prf(average, modifier, msg_start, len(result))\n",
      "c:\\Users\\UX430\\anaconda3\\lib\\site-packages\\sklearn\\metrics\\_classification.py:1308: UndefinedMetricWarning: Recall and F-score are ill-defined and being set to 0.0 in labels with no true samples. Use `zero_division` parameter to control this behavior.\n",
      "  _warn_prf(average, modifier, msg_start, len(result))\n"
     ]
    },
    {
     "name": "stdout",
     "output_type": "stream",
     "text": [
      "Epoch 1/5\n",
      "15/15 [==============================] - 1s 63ms/step - loss: 0.1467 - accuracy: 0.9663 - val_loss: 4.5548 - val_accuracy: 0.0000e+00\n",
      "Epoch 2/5\n",
      "15/15 [==============================] - 1s 62ms/step - loss: 0.1453 - accuracy: 0.9662 - val_loss: 4.7862 - val_accuracy: 0.0000e+00\n",
      "Epoch 3/5\n",
      "15/15 [==============================] - 1s 59ms/step - loss: 0.1447 - accuracy: 0.9663 - val_loss: 5.0489 - val_accuracy: 0.0000e+00\n",
      "Epoch 4/5\n",
      "15/15 [==============================] - 1s 63ms/step - loss: 0.1443 - accuracy: 0.9663 - val_loss: 5.2600 - val_accuracy: 2.7488e-04\n",
      "Epoch 5/5\n",
      "15/15 [==============================] - 1s 56ms/step - loss: 0.1438 - accuracy: 0.9663 - val_loss: 5.5974 - val_accuracy: 8.2463e-04\n",
      "Epoch 1/5\n",
      "15/15 [==============================] - 1s 72ms/step - loss: 0.1404 - accuracy: 0.9674 - val_loss: 5.8977 - val_accuracy: 0.0000e+00\n",
      "Epoch 2/5\n",
      "15/15 [==============================] - 1s 55ms/step - loss: 0.1393 - accuracy: 0.9676 - val_loss: 6.0567 - val_accuracy: 0.0000e+00\n",
      "Epoch 3/5\n",
      "15/15 [==============================] - 1s 67ms/step - loss: 0.1388 - accuracy: 0.9678 - val_loss: 6.3676 - val_accuracy: 2.7488e-04\n",
      "Epoch 4/5\n",
      "15/15 [==============================] - 1s 67ms/step - loss: 0.1383 - accuracy: 0.9678 - val_loss: 6.6151 - val_accuracy: 0.0000e+00\n",
      "Epoch 5/5\n",
      "15/15 [==============================] - 1s 64ms/step - loss: 0.1374 - accuracy: 0.9679 - val_loss: 6.9252 - val_accuracy: 8.2463e-04\n",
      "Epoch 1/5\n",
      "15/15 [==============================] - 1s 64ms/step - loss: 0.1385 - accuracy: 0.9674 - val_loss: 7.0896 - val_accuracy: 5.4975e-04\n",
      "Epoch 2/5\n",
      "15/15 [==============================] - 1s 59ms/step - loss: 0.1371 - accuracy: 0.9678 - val_loss: 7.4156 - val_accuracy: 5.4975e-04\n",
      "Epoch 3/5\n",
      "15/15 [==============================] - 1s 58ms/step - loss: 0.1361 - accuracy: 0.9677 - val_loss: 7.6412 - val_accuracy: 0.0011\n",
      "Epoch 4/5\n",
      "15/15 [==============================] - 1s 61ms/step - loss: 0.1361 - accuracy: 0.9681 - val_loss: 7.8604 - val_accuracy: 0.0011\n",
      "Epoch 5/5\n",
      "15/15 [==============================] - 1s 55ms/step - loss: 0.1357 - accuracy: 0.9680 - val_loss: 8.0548 - val_accuracy: 8.2463e-04\n",
      "  61/2017 [..............................] - ETA: 3s - loss: 0.9006 - accuracy: 0.8468"
     ]
    },
    {
     "name": "stderr",
     "output_type": "stream",
     "text": [
      "c:\\Users\\UX430\\anaconda3\\lib\\site-packages\\numpy\\core\\_asarray.py:171: VisibleDeprecationWarning: Creating an ndarray from ragged nested sequences (which is a list-or-tuple of lists-or-tuples-or ndarrays with different lengths or shapes) is deprecated. If you meant to do this, you must specify 'dtype=object' when creating the ndarray.\n",
      "  return array(a, dtype, copy=False, order=order, subok=True)\n"
     ]
    },
    {
     "name": "stdout",
     "output_type": "stream",
     "text": [
      "2017/2017 [==============================] - 3s 2ms/step - loss: 0.9194 - accuracy: 0.8467\n",
      " 66/756 [=>............................] - ETA: 1s - loss: 0.0000e+00 - accuracy: 0.0000e+00"
     ]
    },
    {
     "name": "stderr",
     "output_type": "stream",
     "text": [
      "c:\\Users\\UX430\\anaconda3\\lib\\site-packages\\sklearn\\metrics\\_classification.py:1308: UndefinedMetricWarning: Precision and F-score are ill-defined and being set to 0.0 in labels with no predicted samples. Use `zero_division` parameter to control this behavior.\n",
      "  _warn_prf(average, modifier, msg_start, len(result))\n",
      "c:\\Users\\UX430\\anaconda3\\lib\\site-packages\\sklearn\\metrics\\_classification.py:1308: UndefinedMetricWarning: Precision and F-score are ill-defined and being set to 0.0 in labels with no predicted samples. Use `zero_division` parameter to control this behavior.\n",
      "  _warn_prf(average, modifier, msg_start, len(result))\n",
      "c:\\Users\\UX430\\anaconda3\\lib\\site-packages\\sklearn\\metrics\\_classification.py:1308: UndefinedMetricWarning: Precision and F-score are ill-defined and being set to 0.0 in labels with no predicted samples. Use `zero_division` parameter to control this behavior.\n",
      "  _warn_prf(average, modifier, msg_start, len(result))\n"
     ]
    },
    {
     "name": "stdout",
     "output_type": "stream",
     "text": [
      "756/756 [==============================] - 1s 2ms/step - loss: 0.0000e+00 - accuracy: 0.0011\n"
     ]
    },
    {
     "name": "stderr",
     "output_type": "stream",
     "text": [
      "c:\\Users\\UX430\\anaconda3\\lib\\site-packages\\sklearn\\metrics\\_classification.py:1308: UndefinedMetricWarning: Precision and F-score are ill-defined and being set to 0.0 in labels with no predicted samples. Use `zero_division` parameter to control this behavior.\n",
      "  _warn_prf(average, modifier, msg_start, len(result))\n",
      "c:\\Users\\UX430\\anaconda3\\lib\\site-packages\\sklearn\\metrics\\_classification.py:1308: UndefinedMetricWarning: Recall and F-score are ill-defined and being set to 0.0 in labels with no true samples. Use `zero_division` parameter to control this behavior.\n",
      "  _warn_prf(average, modifier, msg_start, len(result))\n",
      "c:\\Users\\UX430\\anaconda3\\lib\\site-packages\\sklearn\\metrics\\_classification.py:1308: UndefinedMetricWarning: Precision and F-score are ill-defined and being set to 0.0 in labels with no predicted samples. Use `zero_division` parameter to control this behavior.\n",
      "  _warn_prf(average, modifier, msg_start, len(result))\n",
      "c:\\Users\\UX430\\anaconda3\\lib\\site-packages\\sklearn\\metrics\\_classification.py:1308: UndefinedMetricWarning: Recall and F-score are ill-defined and being set to 0.0 in labels with no true samples. Use `zero_division` parameter to control this behavior.\n",
      "  _warn_prf(average, modifier, msg_start, len(result))\n",
      "c:\\Users\\UX430\\anaconda3\\lib\\site-packages\\sklearn\\metrics\\_classification.py:1308: UndefinedMetricWarning: Precision and F-score are ill-defined and being set to 0.0 in labels with no predicted samples. Use `zero_division` parameter to control this behavior.\n",
      "  _warn_prf(average, modifier, msg_start, len(result))\n",
      "c:\\Users\\UX430\\anaconda3\\lib\\site-packages\\sklearn\\metrics\\_classification.py:1308: UndefinedMetricWarning: Recall and F-score are ill-defined and being set to 0.0 in labels with no true samples. Use `zero_division` parameter to control this behavior.\n",
      "  _warn_prf(average, modifier, msg_start, len(result))\n"
     ]
    },
    {
     "name": "stdout",
     "output_type": "stream",
     "text": [
      "Epoch 1/5\n",
      "15/15 [==============================] - 1s 70ms/step - loss: 0.1435 - accuracy: 0.9666 - val_loss: 6.9039 - val_accuracy: 0.0011\n",
      "Epoch 2/5\n",
      "15/15 [==============================] - 1s 53ms/step - loss: 0.1428 - accuracy: 0.9667 - val_loss: 7.1650 - val_accuracy: 0.0011\n",
      "Epoch 3/5\n",
      "15/15 [==============================] - 1s 61ms/step - loss: 0.1422 - accuracy: 0.9667 - val_loss: 7.4311 - val_accuracy: 0.0011\n",
      "Epoch 4/5\n",
      "15/15 [==============================] - 1s 61ms/step - loss: 0.1416 - accuracy: 0.9667 - val_loss: 7.6965 - val_accuracy: 0.0011\n",
      "Epoch 5/5\n",
      "15/15 [==============================] - 1s 54ms/step - loss: 0.1412 - accuracy: 0.9667 - val_loss: 7.9130 - val_accuracy: 0.0014\n",
      "Epoch 1/5\n",
      "15/15 [==============================] - 1s 69ms/step - loss: 0.1386 - accuracy: 0.9677 - val_loss: 8.0736 - val_accuracy: 0.0022\n",
      "Epoch 2/5\n",
      "15/15 [==============================] - 1s 56ms/step - loss: 0.1378 - accuracy: 0.9685 - val_loss: 8.3207 - val_accuracy: 0.0025\n",
      "Epoch 3/5\n",
      "15/15 [==============================] - 1s 54ms/step - loss: 0.1368 - accuracy: 0.9678 - val_loss: 8.5213 - val_accuracy: 0.0011\n",
      "Epoch 4/5\n",
      "15/15 [==============================] - 1s 57ms/step - loss: 0.1361 - accuracy: 0.9682 - val_loss: 8.6531 - val_accuracy: 0.0033\n",
      "Epoch 5/5\n",
      "15/15 [==============================] - 1s 52ms/step - loss: 0.1356 - accuracy: 0.9685 - val_loss: 8.8901 - val_accuracy: 0.0033\n",
      "Epoch 1/5\n",
      "15/15 [==============================] - 1s 59ms/step - loss: 0.1375 - accuracy: 0.9678 - val_loss: 9.1165 - val_accuracy: 5.4975e-04\n",
      "Epoch 2/5\n",
      "15/15 [==============================] - 1s 57ms/step - loss: 0.1361 - accuracy: 0.9680 - val_loss: 9.1565 - val_accuracy: 0.0016\n",
      "Epoch 3/5\n",
      "15/15 [==============================] - 1s 52ms/step - loss: 0.1354 - accuracy: 0.9680 - val_loss: 9.3008 - val_accuracy: 0.0014\n",
      "Epoch 4/5\n",
      "15/15 [==============================] - 1s 62ms/step - loss: 0.1346 - accuracy: 0.9680 - val_loss: 9.4667 - val_accuracy: 0.0011\n",
      "Epoch 5/5\n",
      "15/15 [==============================] - 1s 51ms/step - loss: 0.1344 - accuracy: 0.9681 - val_loss: 9.5568 - val_accuracy: 0.0014\n",
      "  87/2017 [>.............................] - ETA: 3s - loss: 1.0361 - accuracy: 0.8075"
     ]
    },
    {
     "name": "stderr",
     "output_type": "stream",
     "text": [
      "c:\\Users\\UX430\\anaconda3\\lib\\site-packages\\numpy\\core\\_asarray.py:171: VisibleDeprecationWarning: Creating an ndarray from ragged nested sequences (which is a list-or-tuple of lists-or-tuples-or ndarrays with different lengths or shapes) is deprecated. If you meant to do this, you must specify 'dtype=object' when creating the ndarray.\n",
      "  return array(a, dtype, copy=False, order=order, subok=True)\n"
     ]
    },
    {
     "name": "stdout",
     "output_type": "stream",
     "text": [
      "2017/2017 [==============================] - 3s 2ms/step - loss: 1.0399 - accuracy: 0.8118\n",
      " 66/756 [=>............................] - ETA: 1s - loss: 0.0000e+00 - accuracy: 0.0000e+00"
     ]
    },
    {
     "name": "stderr",
     "output_type": "stream",
     "text": [
      "c:\\Users\\UX430\\anaconda3\\lib\\site-packages\\sklearn\\metrics\\_classification.py:1308: UndefinedMetricWarning: Precision and F-score are ill-defined and being set to 0.0 in labels with no predicted samples. Use `zero_division` parameter to control this behavior.\n",
      "  _warn_prf(average, modifier, msg_start, len(result))\n",
      "c:\\Users\\UX430\\anaconda3\\lib\\site-packages\\sklearn\\metrics\\_classification.py:1308: UndefinedMetricWarning: Precision and F-score are ill-defined and being set to 0.0 in labels with no predicted samples. Use `zero_division` parameter to control this behavior.\n",
      "  _warn_prf(average, modifier, msg_start, len(result))\n",
      "c:\\Users\\UX430\\anaconda3\\lib\\site-packages\\sklearn\\metrics\\_classification.py:1308: UndefinedMetricWarning: Precision and F-score are ill-defined and being set to 0.0 in labels with no predicted samples. Use `zero_division` parameter to control this behavior.\n",
      "  _warn_prf(average, modifier, msg_start, len(result))\n"
     ]
    },
    {
     "name": "stdout",
     "output_type": "stream",
     "text": [
      "756/756 [==============================] - 1s 2ms/step - loss: 0.0000e+00 - accuracy: 0.0022\n"
     ]
    },
    {
     "name": "stderr",
     "output_type": "stream",
     "text": [
      "c:\\Users\\UX430\\anaconda3\\lib\\site-packages\\sklearn\\metrics\\_classification.py:1308: UndefinedMetricWarning: Precision and F-score are ill-defined and being set to 0.0 in labels with no predicted samples. Use `zero_division` parameter to control this behavior.\n",
      "  _warn_prf(average, modifier, msg_start, len(result))\n",
      "c:\\Users\\UX430\\anaconda3\\lib\\site-packages\\sklearn\\metrics\\_classification.py:1308: UndefinedMetricWarning: Recall and F-score are ill-defined and being set to 0.0 in labels with no true samples. Use `zero_division` parameter to control this behavior.\n",
      "  _warn_prf(average, modifier, msg_start, len(result))\n",
      "c:\\Users\\UX430\\anaconda3\\lib\\site-packages\\sklearn\\metrics\\_classification.py:1308: UndefinedMetricWarning: Precision and F-score are ill-defined and being set to 0.0 in labels with no predicted samples. Use `zero_division` parameter to control this behavior.\n",
      "  _warn_prf(average, modifier, msg_start, len(result))\n",
      "c:\\Users\\UX430\\anaconda3\\lib\\site-packages\\sklearn\\metrics\\_classification.py:1308: UndefinedMetricWarning: Recall and F-score are ill-defined and being set to 0.0 in labels with no true samples. Use `zero_division` parameter to control this behavior.\n",
      "  _warn_prf(average, modifier, msg_start, len(result))\n",
      "c:\\Users\\UX430\\anaconda3\\lib\\site-packages\\sklearn\\metrics\\_classification.py:1308: UndefinedMetricWarning: Precision and F-score are ill-defined and being set to 0.0 in labels with no predicted samples. Use `zero_division` parameter to control this behavior.\n",
      "  _warn_prf(average, modifier, msg_start, len(result))\n",
      "c:\\Users\\UX430\\anaconda3\\lib\\site-packages\\sklearn\\metrics\\_classification.py:1308: UndefinedMetricWarning: Recall and F-score are ill-defined and being set to 0.0 in labels with no true samples. Use `zero_division` parameter to control this behavior.\n",
      "  _warn_prf(average, modifier, msg_start, len(result))\n"
     ]
    },
    {
     "name": "stdout",
     "output_type": "stream",
     "text": [
      "Epoch 1/5\n",
      "15/15 [==============================] - 1s 63ms/step - loss: 0.1415 - accuracy: 0.9669 - val_loss: 8.8577 - val_accuracy: 0.0016\n",
      "Epoch 2/5\n",
      "15/15 [==============================] - 1s 49ms/step - loss: 0.1406 - accuracy: 0.9668 - val_loss: 9.0676 - val_accuracy: 0.0011\n",
      "Epoch 3/5\n",
      "15/15 [==============================] - 1s 60ms/step - loss: 0.1410 - accuracy: 0.9667 - val_loss: 9.2402 - val_accuracy: 0.0016\n",
      "Epoch 4/5\n",
      "15/15 [==============================] - 1s 52ms/step - loss: 0.1400 - accuracy: 0.9671 - val_loss: 9.3559 - val_accuracy: 0.0019\n",
      "Epoch 5/5\n",
      "15/15 [==============================] - 1s 50ms/step - loss: 0.1395 - accuracy: 0.9668 - val_loss: 9.6041 - val_accuracy: 0.0014\n",
      "Epoch 1/5\n",
      "15/15 [==============================] - 1s 67ms/step - loss: 0.1375 - accuracy: 0.9682 - val_loss: 9.7830 - val_accuracy: 0.0027\n",
      "Epoch 2/5\n",
      "15/15 [==============================] - 1s 51ms/step - loss: 0.1361 - accuracy: 0.9683 - val_loss: 9.7795 - val_accuracy: 0.0022\n",
      "Epoch 3/5\n",
      "15/15 [==============================] - 1s 59ms/step - loss: 0.1352 - accuracy: 0.9684 - val_loss: 9.8319 - val_accuracy: 0.0027\n",
      "Epoch 4/5\n",
      "15/15 [==============================] - 1s 54ms/step - loss: 0.1346 - accuracy: 0.9684 - val_loss: 10.0166 - val_accuracy: 0.0019\n",
      "Epoch 5/5\n",
      "15/15 [==============================] - 1s 57ms/step - loss: 0.1342 - accuracy: 0.9684 - val_loss: 10.1232 - val_accuracy: 0.0033\n",
      "Epoch 1/5\n",
      "15/15 [==============================] - 1s 61ms/step - loss: 0.1356 - accuracy: 0.9679 - val_loss: 10.1976 - val_accuracy: 8.2463e-04\n",
      "Epoch 2/5\n",
      "15/15 [==============================] - 1s 50ms/step - loss: 0.1347 - accuracy: 0.9681 - val_loss: 10.2464 - val_accuracy: 0.0025\n",
      "Epoch 3/5\n",
      "15/15 [==============================] - 1s 58ms/step - loss: 0.1339 - accuracy: 0.9682 - val_loss: 10.3026 - val_accuracy: 8.2463e-04\n",
      "Epoch 4/5\n",
      "15/15 [==============================] - 1s 52ms/step - loss: 0.1336 - accuracy: 0.9683 - val_loss: 10.4361 - val_accuracy: 0.0025\n",
      "Epoch 5/5\n",
      "15/15 [==============================] - 1s 61ms/step - loss: 0.1330 - accuracy: 0.9682 - val_loss: 10.5284 - val_accuracy: 8.2463e-04\n",
      "  84/2017 [>.............................] - ETA: 3s - loss: 1.1567 - accuracy: 0.6897"
     ]
    },
    {
     "name": "stderr",
     "output_type": "stream",
     "text": [
      "c:\\Users\\UX430\\anaconda3\\lib\\site-packages\\numpy\\core\\_asarray.py:171: VisibleDeprecationWarning: Creating an ndarray from ragged nested sequences (which is a list-or-tuple of lists-or-tuples-or ndarrays with different lengths or shapes) is deprecated. If you meant to do this, you must specify 'dtype=object' when creating the ndarray.\n",
      "  return array(a, dtype, copy=False, order=order, subok=True)\n"
     ]
    },
    {
     "name": "stdout",
     "output_type": "stream",
     "text": [
      "2017/2017 [==============================] - 4s 2ms/step - loss: 1.1802 - accuracy: 0.6897\n",
      " 66/756 [=>............................] - ETA: 1s - loss: 0.0000e+00 - accuracy: 0.0000e+00"
     ]
    },
    {
     "name": "stderr",
     "output_type": "stream",
     "text": [
      "c:\\Users\\UX430\\anaconda3\\lib\\site-packages\\sklearn\\metrics\\_classification.py:1308: UndefinedMetricWarning: Precision and F-score are ill-defined and being set to 0.0 in labels with no predicted samples. Use `zero_division` parameter to control this behavior.\n",
      "  _warn_prf(average, modifier, msg_start, len(result))\n",
      "c:\\Users\\UX430\\anaconda3\\lib\\site-packages\\sklearn\\metrics\\_classification.py:1308: UndefinedMetricWarning: Precision and F-score are ill-defined and being set to 0.0 in labels with no predicted samples. Use `zero_division` parameter to control this behavior.\n",
      "  _warn_prf(average, modifier, msg_start, len(result))\n",
      "c:\\Users\\UX430\\anaconda3\\lib\\site-packages\\sklearn\\metrics\\_classification.py:1308: UndefinedMetricWarning: Precision and F-score are ill-defined and being set to 0.0 in labels with no predicted samples. Use `zero_division` parameter to control this behavior.\n",
      "  _warn_prf(average, modifier, msg_start, len(result))\n"
     ]
    },
    {
     "name": "stdout",
     "output_type": "stream",
     "text": [
      "756/756 [==============================] - 1s 2ms/step - loss: 0.0000e+00 - accuracy: 0.0024\n"
     ]
    },
    {
     "name": "stderr",
     "output_type": "stream",
     "text": [
      "c:\\Users\\UX430\\anaconda3\\lib\\site-packages\\sklearn\\metrics\\_classification.py:1308: UndefinedMetricWarning: Precision and F-score are ill-defined and being set to 0.0 in labels with no predicted samples. Use `zero_division` parameter to control this behavior.\n",
      "  _warn_prf(average, modifier, msg_start, len(result))\n",
      "c:\\Users\\UX430\\anaconda3\\lib\\site-packages\\sklearn\\metrics\\_classification.py:1308: UndefinedMetricWarning: Recall and F-score are ill-defined and being set to 0.0 in labels with no true samples. Use `zero_division` parameter to control this behavior.\n",
      "  _warn_prf(average, modifier, msg_start, len(result))\n",
      "c:\\Users\\UX430\\anaconda3\\lib\\site-packages\\sklearn\\metrics\\_classification.py:1308: UndefinedMetricWarning: Precision and F-score are ill-defined and being set to 0.0 in labels with no predicted samples. Use `zero_division` parameter to control this behavior.\n",
      "  _warn_prf(average, modifier, msg_start, len(result))\n",
      "c:\\Users\\UX430\\anaconda3\\lib\\site-packages\\sklearn\\metrics\\_classification.py:1308: UndefinedMetricWarning: Recall and F-score are ill-defined and being set to 0.0 in labels with no true samples. Use `zero_division` parameter to control this behavior.\n",
      "  _warn_prf(average, modifier, msg_start, len(result))\n",
      "c:\\Users\\UX430\\anaconda3\\lib\\site-packages\\sklearn\\metrics\\_classification.py:1308: UndefinedMetricWarning: Precision and F-score are ill-defined and being set to 0.0 in labels with no predicted samples. Use `zero_division` parameter to control this behavior.\n",
      "  _warn_prf(average, modifier, msg_start, len(result))\n",
      "c:\\Users\\UX430\\anaconda3\\lib\\site-packages\\sklearn\\metrics\\_classification.py:1308: UndefinedMetricWarning: Recall and F-score are ill-defined and being set to 0.0 in labels with no true samples. Use `zero_division` parameter to control this behavior.\n",
      "  _warn_prf(average, modifier, msg_start, len(result))\n"
     ]
    },
    {
     "name": "stdout",
     "output_type": "stream",
     "text": [
      "Epoch 1/5\n",
      "15/15 [==============================] - 1s 63ms/step - loss: 0.1401 - accuracy: 0.9669 - val_loss: 10.1122 - val_accuracy: 0.0022\n",
      "Epoch 2/5\n",
      "15/15 [==============================] - 1s 60ms/step - loss: 0.1390 - accuracy: 0.9669 - val_loss: 10.2333 - val_accuracy: 0.0022\n",
      "Epoch 3/5\n",
      "15/15 [==============================] - 1s 58ms/step - loss: 0.1388 - accuracy: 0.9671 - val_loss: 10.3177 - val_accuracy: 0.0022\n",
      "Epoch 4/5\n",
      "15/15 [==============================] - 1s 60ms/step - loss: 0.1384 - accuracy: 0.9671 - val_loss: 10.4235 - val_accuracy: 0.0019\n",
      "Epoch 5/5\n",
      "15/15 [==============================] - 1s 58ms/step - loss: 0.1382 - accuracy: 0.9669 - val_loss: 10.4932 - val_accuracy: 0.0019\n",
      "Epoch 1/5\n",
      "15/15 [==============================] - 1s 66ms/step - loss: 0.1353 - accuracy: 0.9684 - val_loss: 10.6797 - val_accuracy: 0.0027\n",
      "Epoch 2/5\n",
      "15/15 [==============================] - 1s 63ms/step - loss: 0.1344 - accuracy: 0.9684 - val_loss: 10.6509 - val_accuracy: 0.0027\n",
      "Epoch 3/5\n",
      "15/15 [==============================] - 1s 55ms/step - loss: 0.1339 - accuracy: 0.9687 - val_loss: 10.8157 - val_accuracy: 0.0041\n",
      "Epoch 4/5\n",
      "15/15 [==============================] - 1s 67ms/step - loss: 0.1339 - accuracy: 0.9685 - val_loss: 10.7726 - val_accuracy: 0.0036\n",
      "Epoch 5/5\n",
      "15/15 [==============================] - 1s 52ms/step - loss: 0.1329 - accuracy: 0.9685 - val_loss: 10.9014 - val_accuracy: 0.0025\n",
      "Epoch 1/5\n",
      "15/15 [==============================] - 1s 68ms/step - loss: 0.1345 - accuracy: 0.9682 - val_loss: 10.9028 - val_accuracy: 0.0011\n",
      "Epoch 2/5\n",
      "15/15 [==============================] - 1s 49ms/step - loss: 0.1334 - accuracy: 0.9682 - val_loss: 11.0057 - val_accuracy: 0.0025\n",
      "Epoch 3/5\n",
      "15/15 [==============================] - 1s 57ms/step - loss: 0.1327 - accuracy: 0.9685 - val_loss: 11.0580 - val_accuracy: 0.0011\n",
      "Epoch 4/5\n",
      "15/15 [==============================] - 1s 52ms/step - loss: 0.1322 - accuracy: 0.9683 - val_loss: 11.0069 - val_accuracy: 8.2463e-04\n",
      "Epoch 5/5\n",
      "15/15 [==============================] - 1s 54ms/step - loss: 0.1316 - accuracy: 0.9685 - val_loss: 11.1456 - val_accuracy: 8.2463e-04\n",
      "  41/2017 [..............................] - ETA: 5s - loss: 1.2520 - accuracy: 0.5869"
     ]
    },
    {
     "name": "stderr",
     "output_type": "stream",
     "text": [
      "c:\\Users\\UX430\\anaconda3\\lib\\site-packages\\numpy\\core\\_asarray.py:171: VisibleDeprecationWarning: Creating an ndarray from ragged nested sequences (which is a list-or-tuple of lists-or-tuples-or ndarrays with different lengths or shapes) is deprecated. If you meant to do this, you must specify 'dtype=object' when creating the ndarray.\n",
      "  return array(a, dtype, copy=False, order=order, subok=True)\n"
     ]
    },
    {
     "name": "stdout",
     "output_type": "stream",
     "text": [
      "2017/2017 [==============================] - 3s 2ms/step - loss: 1.2594 - accuracy: 0.5924\n",
      " 66/756 [=>............................] - ETA: 1s - loss: 0.0000e+00 - accuracy: 0.0000e+00"
     ]
    },
    {
     "name": "stderr",
     "output_type": "stream",
     "text": [
      "c:\\Users\\UX430\\anaconda3\\lib\\site-packages\\sklearn\\metrics\\_classification.py:1308: UndefinedMetricWarning: Precision and F-score are ill-defined and being set to 0.0 in labels with no predicted samples. Use `zero_division` parameter to control this behavior.\n",
      "  _warn_prf(average, modifier, msg_start, len(result))\n",
      "c:\\Users\\UX430\\anaconda3\\lib\\site-packages\\sklearn\\metrics\\_classification.py:1308: UndefinedMetricWarning: Precision and F-score are ill-defined and being set to 0.0 in labels with no predicted samples. Use `zero_division` parameter to control this behavior.\n",
      "  _warn_prf(average, modifier, msg_start, len(result))\n",
      "c:\\Users\\UX430\\anaconda3\\lib\\site-packages\\sklearn\\metrics\\_classification.py:1308: UndefinedMetricWarning: Precision and F-score are ill-defined and being set to 0.0 in labels with no predicted samples. Use `zero_division` parameter to control this behavior.\n",
      "  _warn_prf(average, modifier, msg_start, len(result))\n"
     ]
    },
    {
     "name": "stdout",
     "output_type": "stream",
     "text": [
      "756/756 [==============================] - 1s 2ms/step - loss: 0.0000e+00 - accuracy: 0.0022\n"
     ]
    },
    {
     "name": "stderr",
     "output_type": "stream",
     "text": [
      "c:\\Users\\UX430\\anaconda3\\lib\\site-packages\\sklearn\\metrics\\_classification.py:1308: UndefinedMetricWarning: Precision and F-score are ill-defined and being set to 0.0 in labels with no predicted samples. Use `zero_division` parameter to control this behavior.\n",
      "  _warn_prf(average, modifier, msg_start, len(result))\n",
      "c:\\Users\\UX430\\anaconda3\\lib\\site-packages\\sklearn\\metrics\\_classification.py:1308: UndefinedMetricWarning: Recall and F-score are ill-defined and being set to 0.0 in labels with no true samples. Use `zero_division` parameter to control this behavior.\n",
      "  _warn_prf(average, modifier, msg_start, len(result))\n",
      "c:\\Users\\UX430\\anaconda3\\lib\\site-packages\\sklearn\\metrics\\_classification.py:1308: UndefinedMetricWarning: Precision and F-score are ill-defined and being set to 0.0 in labels with no predicted samples. Use `zero_division` parameter to control this behavior.\n",
      "  _warn_prf(average, modifier, msg_start, len(result))\n",
      "c:\\Users\\UX430\\anaconda3\\lib\\site-packages\\sklearn\\metrics\\_classification.py:1308: UndefinedMetricWarning: Recall and F-score are ill-defined and being set to 0.0 in labels with no true samples. Use `zero_division` parameter to control this behavior.\n",
      "  _warn_prf(average, modifier, msg_start, len(result))\n",
      "c:\\Users\\UX430\\anaconda3\\lib\\site-packages\\sklearn\\metrics\\_classification.py:1308: UndefinedMetricWarning: Precision and F-score are ill-defined and being set to 0.0 in labels with no predicted samples. Use `zero_division` parameter to control this behavior.\n",
      "  _warn_prf(average, modifier, msg_start, len(result))\n",
      "c:\\Users\\UX430\\anaconda3\\lib\\site-packages\\sklearn\\metrics\\_classification.py:1308: UndefinedMetricWarning: Recall and F-score are ill-defined and being set to 0.0 in labels with no true samples. Use `zero_division` parameter to control this behavior.\n",
      "  _warn_prf(average, modifier, msg_start, len(result))\n"
     ]
    },
    {
     "name": "stdout",
     "output_type": "stream",
     "text": [
      "Epoch 1/5\n",
      "15/15 [==============================] - 1s 59ms/step - loss: 0.1385 - accuracy: 0.9671 - val_loss: 10.9072 - val_accuracy: 0.0022\n",
      "Epoch 2/5\n",
      "15/15 [==============================] - 1s 52ms/step - loss: 0.1381 - accuracy: 0.9669 - val_loss: 10.9394 - val_accuracy: 0.0022\n",
      "Epoch 3/5\n",
      "15/15 [==============================] - 1s 65ms/step - loss: 0.1373 - accuracy: 0.9671 - val_loss: 11.0930 - val_accuracy: 0.0016\n",
      "Epoch 4/5\n",
      "15/15 [==============================] - 1s 57ms/step - loss: 0.1369 - accuracy: 0.9670 - val_loss: 11.0987 - val_accuracy: 0.0022\n",
      "Epoch 5/5\n",
      "15/15 [==============================] - 1s 62ms/step - loss: 0.1368 - accuracy: 0.9671 - val_loss: 11.2438 - val_accuracy: 0.0022\n",
      "Epoch 1/5\n",
      "15/15 [==============================] - 1s 59ms/step - loss: 0.1349 - accuracy: 0.9682 - val_loss: 11.3548 - val_accuracy: 0.0033\n",
      "Epoch 2/5\n",
      "15/15 [==============================] - 1s 51ms/step - loss: 0.1337 - accuracy: 0.9685 - val_loss: 11.2894 - val_accuracy: 0.0030\n",
      "Epoch 3/5\n",
      "15/15 [==============================] - 1s 60ms/step - loss: 0.1328 - accuracy: 0.9685 - val_loss: 11.3747 - val_accuracy: 0.0022\n",
      "Epoch 4/5\n",
      "15/15 [==============================] - 1s 53ms/step - loss: 0.1324 - accuracy: 0.9686 - val_loss: 11.3845 - val_accuracy: 0.0030\n",
      "Epoch 5/5\n",
      "15/15 [==============================] - 1s 60ms/step - loss: 0.1322 - accuracy: 0.9685 - val_loss: 11.4551 - val_accuracy: 0.0027\n",
      "Epoch 1/5\n",
      "15/15 [==============================] - 1s 59ms/step - loss: 0.1334 - accuracy: 0.9685 - val_loss: 11.3669 - val_accuracy: 0.0016\n",
      "Epoch 2/5\n",
      "15/15 [==============================] - 1s 47ms/step - loss: 0.1319 - accuracy: 0.9684 - val_loss: 11.5137 - val_accuracy: 0.0016\n",
      "Epoch 3/5\n",
      "15/15 [==============================] - 1s 55ms/step - loss: 0.1313 - accuracy: 0.9685 - val_loss: 11.4975 - val_accuracy: 0.0011\n",
      "Epoch 4/5\n",
      "15/15 [==============================] - 1s 52ms/step - loss: 0.1313 - accuracy: 0.9685 - val_loss: 11.5638 - val_accuracy: 0.0014\n",
      "Epoch 5/5\n",
      "15/15 [==============================] - 1s 60ms/step - loss: 0.1307 - accuracy: 0.9685 - val_loss: 11.6589 - val_accuracy: 0.0014\n",
      "  59/2017 [..............................] - ETA: 3s - loss: 1.3013 - accuracy: 0.4439"
     ]
    },
    {
     "name": "stderr",
     "output_type": "stream",
     "text": [
      "c:\\Users\\UX430\\anaconda3\\lib\\site-packages\\numpy\\core\\_asarray.py:171: VisibleDeprecationWarning: Creating an ndarray from ragged nested sequences (which is a list-or-tuple of lists-or-tuples-or ndarrays with different lengths or shapes) is deprecated. If you meant to do this, you must specify 'dtype=object' when creating the ndarray.\n",
      "  return array(a, dtype, copy=False, order=order, subok=True)\n"
     ]
    },
    {
     "name": "stdout",
     "output_type": "stream",
     "text": [
      "2017/2017 [==============================] - 3s 2ms/step - loss: 1.3348 - accuracy: 0.4452\n",
      " 74/756 [=>............................] - ETA: 0s - loss: 0.0000e+00 - accuracy: 0.0000e+00"
     ]
    },
    {
     "name": "stderr",
     "output_type": "stream",
     "text": [
      "c:\\Users\\UX430\\anaconda3\\lib\\site-packages\\sklearn\\metrics\\_classification.py:1308: UndefinedMetricWarning: Precision and F-score are ill-defined and being set to 0.0 in labels with no predicted samples. Use `zero_division` parameter to control this behavior.\n",
      "  _warn_prf(average, modifier, msg_start, len(result))\n",
      "c:\\Users\\UX430\\anaconda3\\lib\\site-packages\\sklearn\\metrics\\_classification.py:1308: UndefinedMetricWarning: Precision and F-score are ill-defined and being set to 0.0 in labels with no predicted samples. Use `zero_division` parameter to control this behavior.\n",
      "  _warn_prf(average, modifier, msg_start, len(result))\n",
      "c:\\Users\\UX430\\anaconda3\\lib\\site-packages\\sklearn\\metrics\\_classification.py:1308: UndefinedMetricWarning: Precision and F-score are ill-defined and being set to 0.0 in labels with no predicted samples. Use `zero_division` parameter to control this behavior.\n",
      "  _warn_prf(average, modifier, msg_start, len(result))\n"
     ]
    },
    {
     "name": "stdout",
     "output_type": "stream",
     "text": [
      "756/756 [==============================] - 1s 2ms/step - loss: 0.0000e+00 - accuracy: 0.0020\n"
     ]
    },
    {
     "name": "stderr",
     "output_type": "stream",
     "text": [
      "c:\\Users\\UX430\\anaconda3\\lib\\site-packages\\sklearn\\metrics\\_classification.py:1308: UndefinedMetricWarning: Precision and F-score are ill-defined and being set to 0.0 in labels with no predicted samples. Use `zero_division` parameter to control this behavior.\n",
      "  _warn_prf(average, modifier, msg_start, len(result))\n",
      "c:\\Users\\UX430\\anaconda3\\lib\\site-packages\\sklearn\\metrics\\_classification.py:1308: UndefinedMetricWarning: Recall and F-score are ill-defined and being set to 0.0 in labels with no true samples. Use `zero_division` parameter to control this behavior.\n",
      "  _warn_prf(average, modifier, msg_start, len(result))\n",
      "c:\\Users\\UX430\\anaconda3\\lib\\site-packages\\sklearn\\metrics\\_classification.py:1308: UndefinedMetricWarning: Precision and F-score are ill-defined and being set to 0.0 in labels with no predicted samples. Use `zero_division` parameter to control this behavior.\n",
      "  _warn_prf(average, modifier, msg_start, len(result))\n",
      "c:\\Users\\UX430\\anaconda3\\lib\\site-packages\\sklearn\\metrics\\_classification.py:1308: UndefinedMetricWarning: Recall and F-score are ill-defined and being set to 0.0 in labels with no true samples. Use `zero_division` parameter to control this behavior.\n",
      "  _warn_prf(average, modifier, msg_start, len(result))\n",
      "c:\\Users\\UX430\\anaconda3\\lib\\site-packages\\sklearn\\metrics\\_classification.py:1308: UndefinedMetricWarning: Precision and F-score are ill-defined and being set to 0.0 in labels with no predicted samples. Use `zero_division` parameter to control this behavior.\n",
      "  _warn_prf(average, modifier, msg_start, len(result))\n",
      "c:\\Users\\UX430\\anaconda3\\lib\\site-packages\\sklearn\\metrics\\_classification.py:1308: UndefinedMetricWarning: Recall and F-score are ill-defined and being set to 0.0 in labels with no true samples. Use `zero_division` parameter to control this behavior.\n",
      "  _warn_prf(average, modifier, msg_start, len(result))\n"
     ]
    },
    {
     "name": "stdout",
     "output_type": "stream",
     "text": [
      "Epoch 1/5\n",
      "15/15 [==============================] - 1s 64ms/step - loss: 0.1372 - accuracy: 0.9671 - val_loss: 11.3953 - val_accuracy: 0.0022\n",
      "Epoch 2/5\n",
      "15/15 [==============================] - 1s 55ms/step - loss: 0.1364 - accuracy: 0.9671 - val_loss: 11.4555 - val_accuracy: 0.0019\n",
      "Epoch 3/5\n",
      "15/15 [==============================] - 1s 53ms/step - loss: 0.1361 - accuracy: 0.9673 - val_loss: 11.5275 - val_accuracy: 0.0022\n",
      "Epoch 4/5\n",
      "15/15 [==============================] - 1s 59ms/step - loss: 0.1358 - accuracy: 0.9671 - val_loss: 11.6038 - val_accuracy: 0.0016\n",
      "Epoch 5/5\n",
      "15/15 [==============================] - 1s 50ms/step - loss: 0.1355 - accuracy: 0.9673 - val_loss: 11.6657 - val_accuracy: 0.0022\n",
      "Epoch 1/5\n",
      "15/15 [==============================] - 1s 61ms/step - loss: 0.1334 - accuracy: 0.9684 - val_loss: 11.8467 - val_accuracy: 0.0022\n",
      "Epoch 2/5\n",
      "15/15 [==============================] - 1s 59ms/step - loss: 0.1327 - accuracy: 0.9684 - val_loss: 11.6943 - val_accuracy: 0.0027\n",
      "Epoch 3/5\n",
      "15/15 [==============================] - 1s 51ms/step - loss: 0.1321 - accuracy: 0.9687 - val_loss: 11.8232 - val_accuracy: 0.0030\n",
      "Epoch 4/5\n",
      "15/15 [==============================] - 1s 60ms/step - loss: 0.1314 - accuracy: 0.9687 - val_loss: 11.8511 - val_accuracy: 0.0030\n",
      "Epoch 5/5\n",
      "15/15 [==============================] - 1s 51ms/step - loss: 0.1309 - accuracy: 0.9685 - val_loss: 11.8654 - val_accuracy: 0.0030\n",
      "Epoch 1/5\n",
      "15/15 [==============================] - 1s 75ms/step - loss: 0.1325 - accuracy: 0.9682 - val_loss: 11.7812 - val_accuracy: 0.0019\n",
      "Epoch 2/5\n",
      "15/15 [==============================] - 1s 56ms/step - loss: 0.1314 - accuracy: 0.9685 - val_loss: 11.8889 - val_accuracy: 0.0016\n",
      "Epoch 3/5\n",
      "15/15 [==============================] - 1s 63ms/step - loss: 0.1303 - accuracy: 0.9686 - val_loss: 11.9171 - val_accuracy: 0.0025\n",
      "Epoch 4/5\n",
      "15/15 [==============================] - 1s 57ms/step - loss: 0.1300 - accuracy: 0.9686 - val_loss: 11.9462 - val_accuracy: 0.0019\n",
      "Epoch 5/5\n",
      "15/15 [==============================] - 1s 67ms/step - loss: 0.1297 - accuracy: 0.9687 - val_loss: 11.9819 - val_accuracy: 0.0011\n",
      "  40/2017 [..............................] - ETA: 5s - loss: 1.3992 - accuracy: 0.2570"
     ]
    },
    {
     "name": "stderr",
     "output_type": "stream",
     "text": [
      "c:\\Users\\UX430\\anaconda3\\lib\\site-packages\\numpy\\core\\_asarray.py:171: VisibleDeprecationWarning: Creating an ndarray from ragged nested sequences (which is a list-or-tuple of lists-or-tuples-or ndarrays with different lengths or shapes) is deprecated. If you meant to do this, you must specify 'dtype=object' when creating the ndarray.\n",
      "  return array(a, dtype, copy=False, order=order, subok=True)\n"
     ]
    },
    {
     "name": "stdout",
     "output_type": "stream",
     "text": [
      "2017/2017 [==============================] - 4s 2ms/step - loss: 1.4188 - accuracy: 0.2609\n",
      " 55/756 [=>............................] - ETA: 1s - loss: 0.0000e+00 - accuracy: 0.0000e+00"
     ]
    },
    {
     "name": "stderr",
     "output_type": "stream",
     "text": [
      "c:\\Users\\UX430\\anaconda3\\lib\\site-packages\\sklearn\\metrics\\_classification.py:1308: UndefinedMetricWarning: Precision and F-score are ill-defined and being set to 0.0 in labels with no predicted samples. Use `zero_division` parameter to control this behavior.\n",
      "  _warn_prf(average, modifier, msg_start, len(result))\n",
      "c:\\Users\\UX430\\anaconda3\\lib\\site-packages\\sklearn\\metrics\\_classification.py:1308: UndefinedMetricWarning: Precision and F-score are ill-defined and being set to 0.0 in labels with no predicted samples. Use `zero_division` parameter to control this behavior.\n",
      "  _warn_prf(average, modifier, msg_start, len(result))\n",
      "c:\\Users\\UX430\\anaconda3\\lib\\site-packages\\sklearn\\metrics\\_classification.py:1308: UndefinedMetricWarning: Precision and F-score are ill-defined and being set to 0.0 in labels with no predicted samples. Use `zero_division` parameter to control this behavior.\n",
      "  _warn_prf(average, modifier, msg_start, len(result))\n"
     ]
    },
    {
     "name": "stdout",
     "output_type": "stream",
     "text": [
      "756/756 [==============================] - 2s 2ms/step - loss: 0.0000e+00 - accuracy: 0.0020\n"
     ]
    },
    {
     "name": "stderr",
     "output_type": "stream",
     "text": [
      "c:\\Users\\UX430\\anaconda3\\lib\\site-packages\\sklearn\\metrics\\_classification.py:1308: UndefinedMetricWarning: Precision and F-score are ill-defined and being set to 0.0 in labels with no predicted samples. Use `zero_division` parameter to control this behavior.\n",
      "  _warn_prf(average, modifier, msg_start, len(result))\n",
      "c:\\Users\\UX430\\anaconda3\\lib\\site-packages\\sklearn\\metrics\\_classification.py:1308: UndefinedMetricWarning: Recall and F-score are ill-defined and being set to 0.0 in labels with no true samples. Use `zero_division` parameter to control this behavior.\n",
      "  _warn_prf(average, modifier, msg_start, len(result))\n",
      "c:\\Users\\UX430\\anaconda3\\lib\\site-packages\\sklearn\\metrics\\_classification.py:1308: UndefinedMetricWarning: Precision and F-score are ill-defined and being set to 0.0 in labels with no predicted samples. Use `zero_division` parameter to control this behavior.\n",
      "  _warn_prf(average, modifier, msg_start, len(result))\n",
      "c:\\Users\\UX430\\anaconda3\\lib\\site-packages\\sklearn\\metrics\\_classification.py:1308: UndefinedMetricWarning: Recall and F-score are ill-defined and being set to 0.0 in labels with no true samples. Use `zero_division` parameter to control this behavior.\n",
      "  _warn_prf(average, modifier, msg_start, len(result))\n",
      "c:\\Users\\UX430\\anaconda3\\lib\\site-packages\\sklearn\\metrics\\_classification.py:1308: UndefinedMetricWarning: Precision and F-score are ill-defined and being set to 0.0 in labels with no predicted samples. Use `zero_division` parameter to control this behavior.\n",
      "  _warn_prf(average, modifier, msg_start, len(result))\n",
      "c:\\Users\\UX430\\anaconda3\\lib\\site-packages\\sklearn\\metrics\\_classification.py:1308: UndefinedMetricWarning: Recall and F-score are ill-defined and being set to 0.0 in labels with no true samples. Use `zero_division` parameter to control this behavior.\n",
      "  _warn_prf(average, modifier, msg_start, len(result))\n"
     ]
    },
    {
     "name": "stdout",
     "output_type": "stream",
     "text": [
      "Epoch 1/5\n",
      "15/15 [==============================] - 1s 86ms/step - loss: 0.1362 - accuracy: 0.9673 - val_loss: 11.6662 - val_accuracy: 0.0022\n",
      "Epoch 2/5\n",
      "15/15 [==============================] - 1s 56ms/step - loss: 0.1353 - accuracy: 0.9676 - val_loss: 11.8634 - val_accuracy: 0.0025\n",
      "Epoch 3/5\n",
      "15/15 [==============================] - 1s 68ms/step - loss: 0.1350 - accuracy: 0.9674 - val_loss: 11.9180 - val_accuracy: 0.0022\n",
      "Epoch 4/5\n",
      "15/15 [==============================] - 1s 57ms/step - loss: 0.1343 - accuracy: 0.9675 - val_loss: 11.9365 - val_accuracy: 0.0022\n",
      "Epoch 5/5\n",
      "15/15 [==============================] - 1s 68ms/step - loss: 0.1344 - accuracy: 0.9674 - val_loss: 12.0351 - val_accuracy: 0.0022\n",
      "Epoch 1/5\n",
      "15/15 [==============================] - 1s 67ms/step - loss: 0.1332 - accuracy: 0.9682 - val_loss: 12.0808 - val_accuracy: 0.0030\n",
      "Epoch 2/5\n",
      "15/15 [==============================] - 1s 61ms/step - loss: 0.1318 - accuracy: 0.9685 - val_loss: 12.0428 - val_accuracy: 0.0052\n",
      "Epoch 3/5\n",
      "15/15 [==============================] - 1s 56ms/step - loss: 0.1306 - accuracy: 0.9689 - val_loss: 12.1469 - val_accuracy: 0.0041\n",
      "Epoch 4/5\n",
      "15/15 [==============================] - 1s 60ms/step - loss: 0.1306 - accuracy: 0.9687 - val_loss: 12.1346 - val_accuracy: 0.0038\n",
      "Epoch 5/5\n",
      "15/15 [==============================] - 1s 66ms/step - loss: 0.1301 - accuracy: 0.9690 - val_loss: 12.1390 - val_accuracy: 0.0041\n",
      "Epoch 1/5\n",
      "15/15 [==============================] - 1s 65ms/step - loss: 0.1317 - accuracy: 0.9685 - val_loss: 12.0533 - val_accuracy: 0.0011\n",
      "Epoch 2/5\n",
      "15/15 [==============================] - 1s 54ms/step - loss: 0.1303 - accuracy: 0.9688 - val_loss: 12.1269 - val_accuracy: 0.0022\n",
      "Epoch 3/5\n",
      "15/15 [==============================] - 1s 62ms/step - loss: 0.1298 - accuracy: 0.9690 - val_loss: 12.1420 - val_accuracy: 0.0014\n",
      "Epoch 4/5\n",
      "15/15 [==============================] - 1s 59ms/step - loss: 0.1292 - accuracy: 0.9687 - val_loss: 12.2067 - val_accuracy: 0.0025\n",
      "Epoch 5/5\n",
      "15/15 [==============================] - 1s 72ms/step - loss: 0.1289 - accuracy: 0.9685 - val_loss: 12.2630 - val_accuracy: 0.0025\n",
      "  49/2017 [..............................] - ETA: 4s - loss: 1.5022 - accuracy: 0.1059"
     ]
    },
    {
     "name": "stderr",
     "output_type": "stream",
     "text": [
      "c:\\Users\\UX430\\anaconda3\\lib\\site-packages\\numpy\\core\\_asarray.py:171: VisibleDeprecationWarning: Creating an ndarray from ragged nested sequences (which is a list-or-tuple of lists-or-tuples-or ndarrays with different lengths or shapes) is deprecated. If you meant to do this, you must specify 'dtype=object' when creating the ndarray.\n",
      "  return array(a, dtype, copy=False, order=order, subok=True)\n"
     ]
    },
    {
     "name": "stdout",
     "output_type": "stream",
     "text": [
      "2017/2017 [==============================] - 4s 2ms/step - loss: 1.5068 - accuracy: 0.1077: 0s\n",
      " 56/756 [=>............................] - ETA: 1s - loss: 0.0000e+00 - accuracy: 0.0000e+00"
     ]
    },
    {
     "name": "stderr",
     "output_type": "stream",
     "text": [
      "c:\\Users\\UX430\\anaconda3\\lib\\site-packages\\sklearn\\metrics\\_classification.py:1308: UndefinedMetricWarning: Precision and F-score are ill-defined and being set to 0.0 in labels with no predicted samples. Use `zero_division` parameter to control this behavior.\n",
      "  _warn_prf(average, modifier, msg_start, len(result))\n",
      "c:\\Users\\UX430\\anaconda3\\lib\\site-packages\\sklearn\\metrics\\_classification.py:1308: UndefinedMetricWarning: Precision and F-score are ill-defined and being set to 0.0 in labels with no predicted samples. Use `zero_division` parameter to control this behavior.\n",
      "  _warn_prf(average, modifier, msg_start, len(result))\n",
      "c:\\Users\\UX430\\anaconda3\\lib\\site-packages\\sklearn\\metrics\\_classification.py:1308: UndefinedMetricWarning: Precision and F-score are ill-defined and being set to 0.0 in labels with no predicted samples. Use `zero_division` parameter to control this behavior.\n",
      "  _warn_prf(average, modifier, msg_start, len(result))\n"
     ]
    },
    {
     "name": "stdout",
     "output_type": "stream",
     "text": [
      "756/756 [==============================] - 1s 2ms/step - loss: 0.0000e+00 - accuracy: 0.0020\n"
     ]
    },
    {
     "name": "stderr",
     "output_type": "stream",
     "text": [
      "c:\\Users\\UX430\\anaconda3\\lib\\site-packages\\sklearn\\metrics\\_classification.py:1308: UndefinedMetricWarning: Precision and F-score are ill-defined and being set to 0.0 in labels with no predicted samples. Use `zero_division` parameter to control this behavior.\n",
      "  _warn_prf(average, modifier, msg_start, len(result))\n",
      "c:\\Users\\UX430\\anaconda3\\lib\\site-packages\\sklearn\\metrics\\_classification.py:1308: UndefinedMetricWarning: Recall and F-score are ill-defined and being set to 0.0 in labels with no true samples. Use `zero_division` parameter to control this behavior.\n",
      "  _warn_prf(average, modifier, msg_start, len(result))\n",
      "c:\\Users\\UX430\\anaconda3\\lib\\site-packages\\sklearn\\metrics\\_classification.py:1308: UndefinedMetricWarning: Precision and F-score are ill-defined and being set to 0.0 in labels with no predicted samples. Use `zero_division` parameter to control this behavior.\n",
      "  _warn_prf(average, modifier, msg_start, len(result))\n",
      "c:\\Users\\UX430\\anaconda3\\lib\\site-packages\\sklearn\\metrics\\_classification.py:1308: UndefinedMetricWarning: Recall and F-score are ill-defined and being set to 0.0 in labels with no true samples. Use `zero_division` parameter to control this behavior.\n",
      "  _warn_prf(average, modifier, msg_start, len(result))\n",
      "c:\\Users\\UX430\\anaconda3\\lib\\site-packages\\sklearn\\metrics\\_classification.py:1308: UndefinedMetricWarning: Precision and F-score are ill-defined and being set to 0.0 in labels with no predicted samples. Use `zero_division` parameter to control this behavior.\n",
      "  _warn_prf(average, modifier, msg_start, len(result))\n",
      "c:\\Users\\UX430\\anaconda3\\lib\\site-packages\\sklearn\\metrics\\_classification.py:1308: UndefinedMetricWarning: Recall and F-score are ill-defined and being set to 0.0 in labels with no true samples. Use `zero_division` parameter to control this behavior.\n",
      "  _warn_prf(average, modifier, msg_start, len(result))\n"
     ]
    },
    {
     "name": "stdout",
     "output_type": "stream",
     "text": [
      "Epoch 1/5\n",
      "15/15 [==============================] - 1s 78ms/step - loss: 0.1350 - accuracy: 0.9676 - val_loss: 12.0675 - val_accuracy: 0.0027\n",
      "Epoch 2/5\n",
      "15/15 [==============================] - 1s 59ms/step - loss: 0.1340 - accuracy: 0.9676 - val_loss: 12.1623 - val_accuracy: 0.0022\n",
      "Epoch 3/5\n",
      "15/15 [==============================] - 1s 74ms/step - loss: 0.1336 - accuracy: 0.9676 - val_loss: 12.1767 - val_accuracy: 0.0027\n",
      "Epoch 4/5\n",
      "15/15 [==============================] - 1s 61ms/step - loss: 0.1334 - accuracy: 0.9678 - val_loss: 12.2892 - val_accuracy: 0.0025\n",
      "Epoch 5/5\n",
      "15/15 [==============================] - 1s 64ms/step - loss: 0.1335 - accuracy: 0.9676 - val_loss: 12.3133 - val_accuracy: 0.0027\n",
      "Epoch 1/5\n",
      "15/15 [==============================] - 1s 66ms/step - loss: 0.1316 - accuracy: 0.9686 - val_loss: 12.3889 - val_accuracy: 0.0033\n",
      "Epoch 2/5\n",
      "15/15 [==============================] - 1s 61ms/step - loss: 0.1306 - accuracy: 0.9685 - val_loss: 12.3972 - val_accuracy: 0.0041\n",
      "Epoch 3/5\n",
      "15/15 [==============================] - 1s 64ms/step - loss: 0.1298 - accuracy: 0.9690 - val_loss: 12.3783 - val_accuracy: 0.0027\n",
      "Epoch 4/5\n",
      "15/15 [==============================] - 1s 63ms/step - loss: 0.1294 - accuracy: 0.9689 - val_loss: 12.4136 - val_accuracy: 0.0038\n",
      "Epoch 5/5\n",
      "15/15 [==============================] - 1s 56ms/step - loss: 0.1291 - accuracy: 0.9691 - val_loss: 12.4200 - val_accuracy: 0.0038\n",
      "Epoch 1/5\n",
      "15/15 [==============================] - 1s 73ms/step - loss: 0.1306 - accuracy: 0.9687 - val_loss: 12.4516 - val_accuracy: 0.0022\n",
      "Epoch 2/5\n",
      "15/15 [==============================] - 1s 55ms/step - loss: 0.1293 - accuracy: 0.9687 - val_loss: 12.4551 - val_accuracy: 0.0022\n",
      "Epoch 3/5\n",
      "15/15 [==============================] - 1s 69ms/step - loss: 0.1290 - accuracy: 0.9689 - val_loss: 12.4004 - val_accuracy: 0.0025\n",
      "Epoch 4/5\n",
      "15/15 [==============================] - 1s 61ms/step - loss: 0.1283 - accuracy: 0.9687 - val_loss: 12.4967 - val_accuracy: 0.0025\n",
      "Epoch 5/5\n",
      "15/15 [==============================] - 1s 63ms/step - loss: 0.1280 - accuracy: 0.9689 - val_loss: 12.5158 - val_accuracy: 0.0025\n",
      "  50/2017 [..............................] - ETA: 3s - loss: 1.5519 - accuracy: 0.1050"
     ]
    },
    {
     "name": "stderr",
     "output_type": "stream",
     "text": [
      "c:\\Users\\UX430\\anaconda3\\lib\\site-packages\\numpy\\core\\_asarray.py:171: VisibleDeprecationWarning: Creating an ndarray from ragged nested sequences (which is a list-or-tuple of lists-or-tuples-or ndarrays with different lengths or shapes) is deprecated. If you meant to do this, you must specify 'dtype=object' when creating the ndarray.\n",
      "  return array(a, dtype, copy=False, order=order, subok=True)\n"
     ]
    },
    {
     "name": "stdout",
     "output_type": "stream",
     "text": [
      "2017/2017 [==============================] - 4s 2ms/step - loss: 1.5602 - accuracy: 0.1076\n",
      " 60/756 [=>............................] - ETA: 1s - loss: 0.0000e+00 - accuracy: 0.0000e+00"
     ]
    },
    {
     "name": "stderr",
     "output_type": "stream",
     "text": [
      "c:\\Users\\UX430\\anaconda3\\lib\\site-packages\\sklearn\\metrics\\_classification.py:1308: UndefinedMetricWarning: Precision and F-score are ill-defined and being set to 0.0 in labels with no predicted samples. Use `zero_division` parameter to control this behavior.\n",
      "  _warn_prf(average, modifier, msg_start, len(result))\n",
      "c:\\Users\\UX430\\anaconda3\\lib\\site-packages\\sklearn\\metrics\\_classification.py:1308: UndefinedMetricWarning: Precision and F-score are ill-defined and being set to 0.0 in labels with no predicted samples. Use `zero_division` parameter to control this behavior.\n",
      "  _warn_prf(average, modifier, msg_start, len(result))\n",
      "c:\\Users\\UX430\\anaconda3\\lib\\site-packages\\sklearn\\metrics\\_classification.py:1308: UndefinedMetricWarning: Precision and F-score are ill-defined and being set to 0.0 in labels with no predicted samples. Use `zero_division` parameter to control this behavior.\n",
      "  _warn_prf(average, modifier, msg_start, len(result))\n"
     ]
    },
    {
     "name": "stdout",
     "output_type": "stream",
     "text": [
      "756/756 [==============================] - 1s 2ms/step - loss: 0.0000e+00 - accuracy: 0.0019\n"
     ]
    },
    {
     "name": "stderr",
     "output_type": "stream",
     "text": [
      "c:\\Users\\UX430\\anaconda3\\lib\\site-packages\\sklearn\\metrics\\_classification.py:1308: UndefinedMetricWarning: Precision and F-score are ill-defined and being set to 0.0 in labels with no predicted samples. Use `zero_division` parameter to control this behavior.\n",
      "  _warn_prf(average, modifier, msg_start, len(result))\n",
      "c:\\Users\\UX430\\anaconda3\\lib\\site-packages\\sklearn\\metrics\\_classification.py:1308: UndefinedMetricWarning: Recall and F-score are ill-defined and being set to 0.0 in labels with no true samples. Use `zero_division` parameter to control this behavior.\n",
      "  _warn_prf(average, modifier, msg_start, len(result))\n",
      "c:\\Users\\UX430\\anaconda3\\lib\\site-packages\\sklearn\\metrics\\_classification.py:1308: UndefinedMetricWarning: Precision and F-score are ill-defined and being set to 0.0 in labels with no predicted samples. Use `zero_division` parameter to control this behavior.\n",
      "  _warn_prf(average, modifier, msg_start, len(result))\n",
      "c:\\Users\\UX430\\anaconda3\\lib\\site-packages\\sklearn\\metrics\\_classification.py:1308: UndefinedMetricWarning: Recall and F-score are ill-defined and being set to 0.0 in labels with no true samples. Use `zero_division` parameter to control this behavior.\n",
      "  _warn_prf(average, modifier, msg_start, len(result))\n",
      "c:\\Users\\UX430\\anaconda3\\lib\\site-packages\\sklearn\\metrics\\_classification.py:1308: UndefinedMetricWarning: Precision and F-score are ill-defined and being set to 0.0 in labels with no predicted samples. Use `zero_division` parameter to control this behavior.\n",
      "  _warn_prf(average, modifier, msg_start, len(result))\n",
      "c:\\Users\\UX430\\anaconda3\\lib\\site-packages\\sklearn\\metrics\\_classification.py:1308: UndefinedMetricWarning: Recall and F-score are ill-defined and being set to 0.0 in labels with no true samples. Use `zero_division` parameter to control this behavior.\n",
      "  _warn_prf(average, modifier, msg_start, len(result))\n"
     ]
    },
    {
     "name": "stdout",
     "output_type": "stream",
     "text": [
      "Epoch 1/5\n",
      "15/15 [==============================] - 1s 70ms/step - loss: 0.1338 - accuracy: 0.9678 - val_loss: 12.4465 - val_accuracy: 0.0025\n",
      "Epoch 2/5\n",
      "15/15 [==============================] - 1s 52ms/step - loss: 0.1330 - accuracy: 0.9679 - val_loss: 12.4846 - val_accuracy: 0.0025\n",
      "Epoch 3/5\n",
      "15/15 [==============================] - 1s 63ms/step - loss: 0.1324 - accuracy: 0.9678 - val_loss: 12.4925 - val_accuracy: 0.0025\n",
      "Epoch 4/5\n",
      "15/15 [==============================] - 1s 57ms/step - loss: 0.1323 - accuracy: 0.9678 - val_loss: 12.5845 - val_accuracy: 0.0022\n",
      "Epoch 5/5\n",
      "15/15 [==============================] - 1s 61ms/step - loss: 0.1319 - accuracy: 0.9677 - val_loss: 12.5517 - val_accuracy: 0.0022\n",
      "Epoch 1/5\n",
      "15/15 [==============================] - 1s 63ms/step - loss: 0.1306 - accuracy: 0.9688 - val_loss: 12.5948 - val_accuracy: 0.0044\n",
      "Epoch 2/5\n",
      "15/15 [==============================] - 1s 56ms/step - loss: 0.1291 - accuracy: 0.9691 - val_loss: 12.6137 - val_accuracy: 0.0041\n",
      "Epoch 3/5\n",
      "15/15 [==============================] - 1s 59ms/step - loss: 0.1288 - accuracy: 0.9692 - val_loss: 12.6150 - val_accuracy: 0.0044\n",
      "Epoch 4/5\n",
      "15/15 [==============================] - 1s 59ms/step - loss: 0.1287 - accuracy: 0.9692 - val_loss: 12.6380 - val_accuracy: 0.0038\n",
      "Epoch 5/5\n",
      "15/15 [==============================] - 1s 56ms/step - loss: 0.1280 - accuracy: 0.9691 - val_loss: 12.6573 - val_accuracy: 0.0033\n",
      "Epoch 1/5\n",
      "15/15 [==============================] - 1s 65ms/step - loss: 0.1299 - accuracy: 0.9689 - val_loss: 12.6786 - val_accuracy: 0.0019\n",
      "Epoch 2/5\n",
      "15/15 [==============================] - 1s 60ms/step - loss: 0.1284 - accuracy: 0.9689 - val_loss: 12.7095 - val_accuracy: 0.0025\n",
      "Epoch 3/5\n",
      "15/15 [==============================] - 1s 56ms/step - loss: 0.1280 - accuracy: 0.9691 - val_loss: 12.6579 - val_accuracy: 0.0027\n",
      "Epoch 4/5\n",
      "15/15 [==============================] - 1s 65ms/step - loss: 0.1274 - accuracy: 0.9689 - val_loss: 12.7507 - val_accuracy: 0.0025\n",
      "Epoch 5/5\n",
      "15/15 [==============================] - 1s 54ms/step - loss: 0.1271 - accuracy: 0.9690 - val_loss: 12.7451 - val_accuracy: 0.0027\n",
      "  57/2017 [..............................] - ETA: 3s - loss: 1.6000 - accuracy: 0.10\r"
     ]
    },
    {
     "name": "stderr",
     "output_type": "stream",
     "text": [
      "c:\\Users\\UX430\\anaconda3\\lib\\site-packages\\numpy\\core\\_asarray.py:171: VisibleDeprecationWarning: Creating an ndarray from ragged nested sequences (which is a list-or-tuple of lists-or-tuples-or ndarrays with different lengths or shapes) is deprecated. If you meant to do this, you must specify 'dtype=object' when creating the ndarray.\n",
      "  return array(a, dtype, copy=False, order=order, subok=True)\n"
     ]
    },
    {
     "name": "stdout",
     "output_type": "stream",
     "text": [
      "2017/2017 [==============================] - 4s 2ms/step - loss: 1.6428 - accuracy: 0.1076\n",
      " 42/756 [>.............................] - ETA: 1s - loss: 0.0000e+00 - accuracy: 0.0000e+00"
     ]
    },
    {
     "name": "stderr",
     "output_type": "stream",
     "text": [
      "c:\\Users\\UX430\\anaconda3\\lib\\site-packages\\sklearn\\metrics\\_classification.py:1308: UndefinedMetricWarning: Precision and F-score are ill-defined and being set to 0.0 in labels with no predicted samples. Use `zero_division` parameter to control this behavior.\n",
      "  _warn_prf(average, modifier, msg_start, len(result))\n",
      "c:\\Users\\UX430\\anaconda3\\lib\\site-packages\\sklearn\\metrics\\_classification.py:1308: UndefinedMetricWarning: Precision and F-score are ill-defined and being set to 0.0 in labels with no predicted samples. Use `zero_division` parameter to control this behavior.\n",
      "  _warn_prf(average, modifier, msg_start, len(result))\n",
      "c:\\Users\\UX430\\anaconda3\\lib\\site-packages\\sklearn\\metrics\\_classification.py:1308: UndefinedMetricWarning: Precision and F-score are ill-defined and being set to 0.0 in labels with no predicted samples. Use `zero_division` parameter to control this behavior.\n",
      "  _warn_prf(average, modifier, msg_start, len(result))\n"
     ]
    },
    {
     "name": "stdout",
     "output_type": "stream",
     "text": [
      "756/756 [==============================] - 1s 2ms/step - loss: 0.0000e+00 - accuracy: 0.0019\n"
     ]
    },
    {
     "name": "stderr",
     "output_type": "stream",
     "text": [
      "c:\\Users\\UX430\\anaconda3\\lib\\site-packages\\sklearn\\metrics\\_classification.py:1308: UndefinedMetricWarning: Precision and F-score are ill-defined and being set to 0.0 in labels with no predicted samples. Use `zero_division` parameter to control this behavior.\n",
      "  _warn_prf(average, modifier, msg_start, len(result))\n",
      "c:\\Users\\UX430\\anaconda3\\lib\\site-packages\\sklearn\\metrics\\_classification.py:1308: UndefinedMetricWarning: Recall and F-score are ill-defined and being set to 0.0 in labels with no true samples. Use `zero_division` parameter to control this behavior.\n",
      "  _warn_prf(average, modifier, msg_start, len(result))\n",
      "c:\\Users\\UX430\\anaconda3\\lib\\site-packages\\sklearn\\metrics\\_classification.py:1308: UndefinedMetricWarning: Precision and F-score are ill-defined and being set to 0.0 in labels with no predicted samples. Use `zero_division` parameter to control this behavior.\n",
      "  _warn_prf(average, modifier, msg_start, len(result))\n",
      "c:\\Users\\UX430\\anaconda3\\lib\\site-packages\\sklearn\\metrics\\_classification.py:1308: UndefinedMetricWarning: Recall and F-score are ill-defined and being set to 0.0 in labels with no true samples. Use `zero_division` parameter to control this behavior.\n",
      "  _warn_prf(average, modifier, msg_start, len(result))\n",
      "c:\\Users\\UX430\\anaconda3\\lib\\site-packages\\sklearn\\metrics\\_classification.py:1308: UndefinedMetricWarning: Precision and F-score are ill-defined and being set to 0.0 in labels with no predicted samples. Use `zero_division` parameter to control this behavior.\n",
      "  _warn_prf(average, modifier, msg_start, len(result))\n",
      "c:\\Users\\UX430\\anaconda3\\lib\\site-packages\\sklearn\\metrics\\_classification.py:1308: UndefinedMetricWarning: Recall and F-score are ill-defined and being set to 0.0 in labels with no true samples. Use `zero_division` parameter to control this behavior.\n",
      "  _warn_prf(average, modifier, msg_start, len(result))\n"
     ]
    },
    {
     "name": "stdout",
     "output_type": "stream",
     "text": [
      "Epoch 1/5\n",
      "15/15 [==============================] - 1s 70ms/step - loss: 0.1330 - accuracy: 0.9679 - val_loss: 12.6809 - val_accuracy: 0.0025\n",
      "Epoch 2/5\n",
      "15/15 [==============================] - 1s 54ms/step - loss: 0.1321 - accuracy: 0.9680 - val_loss: 12.6732 - val_accuracy: 0.0025\n",
      "Epoch 3/5\n",
      "15/15 [==============================] - 1s 63ms/step - loss: 0.1315 - accuracy: 0.9679 - val_loss: 12.6611 - val_accuracy: 0.0025\n",
      "Epoch 4/5\n",
      "15/15 [==============================] - 1s 53ms/step - loss: 0.1315 - accuracy: 0.9678 - val_loss: 12.8026 - val_accuracy: 0.0022\n",
      "Epoch 5/5\n",
      "15/15 [==============================] - 1s 64ms/step - loss: 0.1313 - accuracy: 0.9678 - val_loss: 12.7867 - val_accuracy: 0.0022\n",
      "Epoch 1/5\n",
      "15/15 [==============================] - 1s 63ms/step - loss: 0.1297 - accuracy: 0.9691 - val_loss: 12.8140 - val_accuracy: 0.0055\n",
      "Epoch 2/5\n",
      "15/15 [==============================] - 1s 58ms/step - loss: 0.1286 - accuracy: 0.9692 - val_loss: 12.8842 - val_accuracy: 0.0041\n",
      "Epoch 3/5\n",
      "15/15 [==============================] - 1s 54ms/step - loss: 0.1278 - accuracy: 0.9691 - val_loss: 12.8151 - val_accuracy: 0.0041\n",
      "Epoch 4/5\n",
      "15/15 [==============================] - 1s 62ms/step - loss: 0.1273 - accuracy: 0.9693 - val_loss: 12.8802 - val_accuracy: 0.0041\n",
      "Epoch 5/5\n",
      "15/15 [==============================] - 1s 57ms/step - loss: 0.1270 - accuracy: 0.9691 - val_loss: 12.9016 - val_accuracy: 0.0041\n",
      "Epoch 1/5\n",
      "15/15 [==============================] - 1s 69ms/step - loss: 0.1293 - accuracy: 0.9690 - val_loss: 12.9009 - val_accuracy: 0.0019\n",
      "Epoch 2/5\n",
      "15/15 [==============================] - 1s 55ms/step - loss: 0.1277 - accuracy: 0.9692 - val_loss: 12.8880 - val_accuracy: 0.0033\n",
      "Epoch 3/5\n",
      "15/15 [==============================] - 1s 61ms/step - loss: 0.1270 - accuracy: 0.9692 - val_loss: 12.9237 - val_accuracy: 0.0025\n",
      "Epoch 4/5\n",
      "15/15 [==============================] - 1s 56ms/step - loss: 0.1268 - accuracy: 0.9691 - val_loss: 12.8576 - val_accuracy: 0.0030\n",
      "Epoch 5/5\n",
      "15/15 [==============================] - 1s 55ms/step - loss: 0.1265 - accuracy: 0.9694 - val_loss: 12.9902 - val_accuracy: 0.0025\n"
     ]
    },
    {
     "name": "stderr",
     "output_type": "stream",
     "text": [
      "c:\\Users\\UX430\\anaconda3\\lib\\site-packages\\numpy\\core\\_asarray.py:171: VisibleDeprecationWarning: Creating an ndarray from ragged nested sequences (which is a list-or-tuple of lists-or-tuples-or ndarrays with different lengths or shapes) is deprecated. If you meant to do this, you must specify 'dtype=object' when creating the ndarray.\n",
      "  return array(a, dtype, copy=False, order=order, subok=True)\n"
     ]
    },
    {
     "name": "stdout",
     "output_type": "stream",
     "text": [
      "2017/2017 [==============================] - 4s 2ms/step - loss: 1.7161 - accuracy: 0.1077\n",
      " 61/756 [=>............................] - ETA: 1s - loss: 0.0000e+00 - accuracy: 0.0000e+00"
     ]
    },
    {
     "name": "stderr",
     "output_type": "stream",
     "text": [
      "c:\\Users\\UX430\\anaconda3\\lib\\site-packages\\sklearn\\metrics\\_classification.py:1308: UndefinedMetricWarning: Precision and F-score are ill-defined and being set to 0.0 in labels with no predicted samples. Use `zero_division` parameter to control this behavior.\n",
      "  _warn_prf(average, modifier, msg_start, len(result))\n",
      "c:\\Users\\UX430\\anaconda3\\lib\\site-packages\\sklearn\\metrics\\_classification.py:1308: UndefinedMetricWarning: Precision and F-score are ill-defined and being set to 0.0 in labels with no predicted samples. Use `zero_division` parameter to control this behavior.\n",
      "  _warn_prf(average, modifier, msg_start, len(result))\n",
      "c:\\Users\\UX430\\anaconda3\\lib\\site-packages\\sklearn\\metrics\\_classification.py:1308: UndefinedMetricWarning: Precision and F-score are ill-defined and being set to 0.0 in labels with no predicted samples. Use `zero_division` parameter to control this behavior.\n",
      "  _warn_prf(average, modifier, msg_start, len(result))\n"
     ]
    },
    {
     "name": "stdout",
     "output_type": "stream",
     "text": [
      "756/756 [==============================] - 1s 2ms/step - loss: 0.0000e+00 - accuracy: 0.0019\n"
     ]
    },
    {
     "name": "stderr",
     "output_type": "stream",
     "text": [
      "c:\\Users\\UX430\\anaconda3\\lib\\site-packages\\sklearn\\metrics\\_classification.py:1308: UndefinedMetricWarning: Precision and F-score are ill-defined and being set to 0.0 in labels with no predicted samples. Use `zero_division` parameter to control this behavior.\n",
      "  _warn_prf(average, modifier, msg_start, len(result))\n",
      "c:\\Users\\UX430\\anaconda3\\lib\\site-packages\\sklearn\\metrics\\_classification.py:1308: UndefinedMetricWarning: Recall and F-score are ill-defined and being set to 0.0 in labels with no true samples. Use `zero_division` parameter to control this behavior.\n",
      "  _warn_prf(average, modifier, msg_start, len(result))\n",
      "c:\\Users\\UX430\\anaconda3\\lib\\site-packages\\sklearn\\metrics\\_classification.py:1308: UndefinedMetricWarning: Precision and F-score are ill-defined and being set to 0.0 in labels with no predicted samples. Use `zero_division` parameter to control this behavior.\n",
      "  _warn_prf(average, modifier, msg_start, len(result))\n",
      "c:\\Users\\UX430\\anaconda3\\lib\\site-packages\\sklearn\\metrics\\_classification.py:1308: UndefinedMetricWarning: Recall and F-score are ill-defined and being set to 0.0 in labels with no true samples. Use `zero_division` parameter to control this behavior.\n",
      "  _warn_prf(average, modifier, msg_start, len(result))\n",
      "c:\\Users\\UX430\\anaconda3\\lib\\site-packages\\sklearn\\metrics\\_classification.py:1308: UndefinedMetricWarning: Precision and F-score are ill-defined and being set to 0.0 in labels with no predicted samples. Use `zero_division` parameter to control this behavior.\n",
      "  _warn_prf(average, modifier, msg_start, len(result))\n",
      "c:\\Users\\UX430\\anaconda3\\lib\\site-packages\\sklearn\\metrics\\_classification.py:1308: UndefinedMetricWarning: Recall and F-score are ill-defined and being set to 0.0 in labels with no true samples. Use `zero_division` parameter to control this behavior.\n",
      "  _warn_prf(average, modifier, msg_start, len(result))\n"
     ]
    },
    {
     "name": "stdout",
     "output_type": "stream",
     "text": [
      "Epoch 1/5\n",
      "15/15 [==============================] - 1s 70ms/step - loss: 0.1323 - accuracy: 0.9680 - val_loss: 12.7576 - val_accuracy: 0.0033\n",
      "Epoch 2/5\n",
      "15/15 [==============================] - 1s 53ms/step - loss: 0.1306 - accuracy: 0.9678 - val_loss: 12.9623 - val_accuracy: 0.0022\n",
      "Epoch 3/5\n",
      "15/15 [==============================] - 1s 64ms/step - loss: 0.1309 - accuracy: 0.9680 - val_loss: 12.8848 - val_accuracy: 0.0025\n",
      "Epoch 4/5\n",
      "15/15 [==============================] - 1s 54ms/step - loss: 0.1305 - accuracy: 0.9679 - val_loss: 13.0055 - val_accuracy: 0.0025\n",
      "Epoch 5/5\n",
      "15/15 [==============================] - 1s 61ms/step - loss: 0.1299 - accuracy: 0.9680 - val_loss: 12.9575 - val_accuracy: 0.0025\n",
      "Epoch 1/5\n",
      "15/15 [==============================] - 1s 62ms/step - loss: 0.1290 - accuracy: 0.9689 - val_loss: 13.0566 - val_accuracy: 0.0047\n",
      "Epoch 2/5\n",
      "15/15 [==============================] - 1s 60ms/step - loss: 0.1276 - accuracy: 0.9693 - val_loss: 13.0462 - val_accuracy: 0.0055\n",
      "Epoch 3/5\n",
      "15/15 [==============================] - 1s 56ms/step - loss: 0.1274 - accuracy: 0.9693 - val_loss: 12.9996 - val_accuracy: 0.0038\n",
      "Epoch 4/5\n",
      "15/15 [==============================] - 1s 60ms/step - loss: 0.1264 - accuracy: 0.9692 - val_loss: 13.0466 - val_accuracy: 0.0038\n",
      "Epoch 5/5\n",
      "15/15 [==============================] - 1s 57ms/step - loss: 0.1263 - accuracy: 0.9692 - val_loss: 13.0919 - val_accuracy: 0.0038\n",
      "Epoch 1/5\n",
      "15/15 [==============================] - 1s 68ms/step - loss: 0.1286 - accuracy: 0.9691 - val_loss: 12.9738 - val_accuracy: 0.0038\n",
      "Epoch 2/5\n",
      "15/15 [==============================] - 1s 52ms/step - loss: 0.1274 - accuracy: 0.9693 - val_loss: 13.1341 - val_accuracy: 0.0027\n",
      "Epoch 3/5\n",
      "15/15 [==============================] - 1s 60ms/step - loss: 0.1265 - accuracy: 0.9693 - val_loss: 13.0653 - val_accuracy: 0.0030\n",
      "Epoch 4/5\n",
      "15/15 [==============================] - 1s 53ms/step - loss: 0.1259 - accuracy: 0.9694 - val_loss: 13.1183 - val_accuracy: 0.0038\n",
      "Epoch 5/5\n",
      "15/15 [==============================] - 1s 55ms/step - loss: 0.1258 - accuracy: 0.9693 - val_loss: 13.1546 - val_accuracy: 0.0038\n",
      "   1/2017 [..............................] - ETA: 0s - loss: 1.2053 - accuracy: 0.1562"
     ]
    },
    {
     "name": "stderr",
     "output_type": "stream",
     "text": [
      "c:\\Users\\UX430\\anaconda3\\lib\\site-packages\\numpy\\core\\_asarray.py:171: VisibleDeprecationWarning: Creating an ndarray from ragged nested sequences (which is a list-or-tuple of lists-or-tuples-or ndarrays with different lengths or shapes) is deprecated. If you meant to do this, you must specify 'dtype=object' when creating the ndarray.\n",
      "  return array(a, dtype, copy=False, order=order, subok=True)\n"
     ]
    },
    {
     "name": "stdout",
     "output_type": "stream",
     "text": [
      "2017/2017 [==============================] - 4s 2ms/step - loss: 1.7939 - accuracy: 0.1078\n",
      " 61/756 [=>............................] - ETA: 1s - loss: 0.0000e+00 - accuracy: 0.0000e+00"
     ]
    },
    {
     "name": "stderr",
     "output_type": "stream",
     "text": [
      "c:\\Users\\UX430\\anaconda3\\lib\\site-packages\\sklearn\\metrics\\_classification.py:1308: UndefinedMetricWarning: Precision and F-score are ill-defined and being set to 0.0 in labels with no predicted samples. Use `zero_division` parameter to control this behavior.\n",
      "  _warn_prf(average, modifier, msg_start, len(result))\n",
      "c:\\Users\\UX430\\anaconda3\\lib\\site-packages\\sklearn\\metrics\\_classification.py:1308: UndefinedMetricWarning: Precision and F-score are ill-defined and being set to 0.0 in labels with no predicted samples. Use `zero_division` parameter to control this behavior.\n",
      "  _warn_prf(average, modifier, msg_start, len(result))\n",
      "c:\\Users\\UX430\\anaconda3\\lib\\site-packages\\sklearn\\metrics\\_classification.py:1308: UndefinedMetricWarning: Precision and F-score are ill-defined and being set to 0.0 in labels with no predicted samples. Use `zero_division` parameter to control this behavior.\n",
      "  _warn_prf(average, modifier, msg_start, len(result))\n"
     ]
    },
    {
     "name": "stdout",
     "output_type": "stream",
     "text": [
      "756/756 [==============================] - 1s 2ms/step - loss: 0.0000e+00 - accuracy: 0.0018\n"
     ]
    },
    {
     "name": "stderr",
     "output_type": "stream",
     "text": [
      "c:\\Users\\UX430\\anaconda3\\lib\\site-packages\\sklearn\\metrics\\_classification.py:1308: UndefinedMetricWarning: Precision and F-score are ill-defined and being set to 0.0 in labels with no predicted samples. Use `zero_division` parameter to control this behavior.\n",
      "  _warn_prf(average, modifier, msg_start, len(result))\n",
      "c:\\Users\\UX430\\anaconda3\\lib\\site-packages\\sklearn\\metrics\\_classification.py:1308: UndefinedMetricWarning: Recall and F-score are ill-defined and being set to 0.0 in labels with no true samples. Use `zero_division` parameter to control this behavior.\n",
      "  _warn_prf(average, modifier, msg_start, len(result))\n",
      "c:\\Users\\UX430\\anaconda3\\lib\\site-packages\\sklearn\\metrics\\_classification.py:1308: UndefinedMetricWarning: Precision and F-score are ill-defined and being set to 0.0 in labels with no predicted samples. Use `zero_division` parameter to control this behavior.\n",
      "  _warn_prf(average, modifier, msg_start, len(result))\n",
      "c:\\Users\\UX430\\anaconda3\\lib\\site-packages\\sklearn\\metrics\\_classification.py:1308: UndefinedMetricWarning: Recall and F-score are ill-defined and being set to 0.0 in labels with no true samples. Use `zero_division` parameter to control this behavior.\n",
      "  _warn_prf(average, modifier, msg_start, len(result))\n",
      "c:\\Users\\UX430\\anaconda3\\lib\\site-packages\\sklearn\\metrics\\_classification.py:1308: UndefinedMetricWarning: Precision and F-score are ill-defined and being set to 0.0 in labels with no predicted samples. Use `zero_division` parameter to control this behavior.\n",
      "  _warn_prf(average, modifier, msg_start, len(result))\n",
      "c:\\Users\\UX430\\anaconda3\\lib\\site-packages\\sklearn\\metrics\\_classification.py:1308: UndefinedMetricWarning: Recall and F-score are ill-defined and being set to 0.0 in labels with no true samples. Use `zero_division` parameter to control this behavior.\n",
      "  _warn_prf(average, modifier, msg_start, len(result))\n"
     ]
    },
    {
     "name": "stdout",
     "output_type": "stream",
     "text": [
      "Epoch 1/5\n",
      "15/15 [==============================] - 1s 69ms/step - loss: 0.1312 - accuracy: 0.9681 - val_loss: 12.9964 - val_accuracy: 0.0027\n",
      "Epoch 2/5\n",
      "15/15 [==============================] - 1s 52ms/step - loss: 0.1301 - accuracy: 0.9678 - val_loss: 13.1180 - val_accuracy: 0.0025\n",
      "Epoch 3/5\n",
      "15/15 [==============================] - 1s 64ms/step - loss: 0.1299 - accuracy: 0.9680 - val_loss: 13.0955 - val_accuracy: 0.0027\n",
      "Epoch 4/5\n",
      "15/15 [==============================] - 1s 55ms/step - loss: 0.1301 - accuracy: 0.9680 - val_loss: 13.1381 - val_accuracy: 0.0027\n",
      "Epoch 5/5\n",
      "15/15 [==============================] - 1s 61ms/step - loss: 0.1295 - accuracy: 0.9679 - val_loss: 13.1344 - val_accuracy: 0.0025\n",
      "Epoch 1/5\n",
      "15/15 [==============================] - 1s 63ms/step - loss: 0.1282 - accuracy: 0.9689 - val_loss: 13.2820 - val_accuracy: 0.0038\n",
      "Epoch 2/5\n",
      "15/15 [==============================] - 1s 55ms/step - loss: 0.1266 - accuracy: 0.9693 - val_loss: 13.1714 - val_accuracy: 0.0049\n",
      "Epoch 3/5\n",
      "15/15 [==============================] - 1s 65ms/step - loss: 0.1260 - accuracy: 0.9693 - val_loss: 13.1125 - val_accuracy: 0.0041\n",
      "Epoch 4/5\n",
      "15/15 [==============================] - 1s 58ms/step - loss: 0.1256 - accuracy: 0.9694 - val_loss: 13.1666 - val_accuracy: 0.0044\n",
      "Epoch 5/5\n",
      "15/15 [==============================] - 1s 63ms/step - loss: 0.1253 - accuracy: 0.9695 - val_loss: 13.1803 - val_accuracy: 0.0047\n",
      "Epoch 1/5\n",
      "15/15 [==============================] - 1s 62ms/step - loss: 0.1280 - accuracy: 0.9690 - val_loss: 13.2430 - val_accuracy: 0.0025\n",
      "Epoch 2/5\n",
      "15/15 [==============================] - 1s 66ms/step - loss: 0.1265 - accuracy: 0.9693 - val_loss: 13.1866 - val_accuracy: 0.0047\n",
      "Epoch 3/5\n",
      "15/15 [==============================] - 1s 54ms/step - loss: 0.1259 - accuracy: 0.9693 - val_loss: 13.2068 - val_accuracy: 0.0033\n",
      "Epoch 4/5\n",
      "15/15 [==============================] - 1s 68ms/step - loss: 0.1252 - accuracy: 0.9695 - val_loss: 13.1694 - val_accuracy: 0.0030\n",
      "Epoch 5/5\n",
      "15/15 [==============================] - 1s 56ms/step - loss: 0.1248 - accuracy: 0.9696 - val_loss: 13.2827 - val_accuracy: 0.0030\n",
      "  85/2017 [>.............................] - ETA: 3s - loss: 1.8047 - accuracy: 0.1037"
     ]
    },
    {
     "name": "stderr",
     "output_type": "stream",
     "text": [
      "c:\\Users\\UX430\\anaconda3\\lib\\site-packages\\numpy\\core\\_asarray.py:171: VisibleDeprecationWarning: Creating an ndarray from ragged nested sequences (which is a list-or-tuple of lists-or-tuples-or ndarrays with different lengths or shapes) is deprecated. If you meant to do this, you must specify 'dtype=object' when creating the ndarray.\n",
      "  return array(a, dtype, copy=False, order=order, subok=True)\n"
     ]
    },
    {
     "name": "stdout",
     "output_type": "stream",
     "text": [
      "2017/2017 [==============================] - 3s 2ms/step - loss: 1.8376 - accuracy: 0.1079\n",
      " 63/756 [=>............................] - ETA: 1s - loss: 0.0000e+00 - accuracy: 0.0000e+00"
     ]
    },
    {
     "name": "stderr",
     "output_type": "stream",
     "text": [
      "c:\\Users\\UX430\\anaconda3\\lib\\site-packages\\sklearn\\metrics\\_classification.py:1308: UndefinedMetricWarning: Precision and F-score are ill-defined and being set to 0.0 in labels with no predicted samples. Use `zero_division` parameter to control this behavior.\n",
      "  _warn_prf(average, modifier, msg_start, len(result))\n",
      "c:\\Users\\UX430\\anaconda3\\lib\\site-packages\\sklearn\\metrics\\_classification.py:1308: UndefinedMetricWarning: Precision and F-score are ill-defined and being set to 0.0 in labels with no predicted samples. Use `zero_division` parameter to control this behavior.\n",
      "  _warn_prf(average, modifier, msg_start, len(result))\n",
      "c:\\Users\\UX430\\anaconda3\\lib\\site-packages\\sklearn\\metrics\\_classification.py:1308: UndefinedMetricWarning: Precision and F-score are ill-defined and being set to 0.0 in labels with no predicted samples. Use `zero_division` parameter to control this behavior.\n",
      "  _warn_prf(average, modifier, msg_start, len(result))\n"
     ]
    },
    {
     "name": "stdout",
     "output_type": "stream",
     "text": [
      "756/756 [==============================] - 1s 2ms/step - loss: 0.0000e+00 - accuracy: 0.0017\n"
     ]
    },
    {
     "name": "stderr",
     "output_type": "stream",
     "text": [
      "c:\\Users\\UX430\\anaconda3\\lib\\site-packages\\sklearn\\metrics\\_classification.py:1308: UndefinedMetricWarning: Precision and F-score are ill-defined and being set to 0.0 in labels with no predicted samples. Use `zero_division` parameter to control this behavior.\n",
      "  _warn_prf(average, modifier, msg_start, len(result))\n",
      "c:\\Users\\UX430\\anaconda3\\lib\\site-packages\\sklearn\\metrics\\_classification.py:1308: UndefinedMetricWarning: Recall and F-score are ill-defined and being set to 0.0 in labels with no true samples. Use `zero_division` parameter to control this behavior.\n",
      "  _warn_prf(average, modifier, msg_start, len(result))\n",
      "c:\\Users\\UX430\\anaconda3\\lib\\site-packages\\sklearn\\metrics\\_classification.py:1308: UndefinedMetricWarning: Precision and F-score are ill-defined and being set to 0.0 in labels with no predicted samples. Use `zero_division` parameter to control this behavior.\n",
      "  _warn_prf(average, modifier, msg_start, len(result))\n",
      "c:\\Users\\UX430\\anaconda3\\lib\\site-packages\\sklearn\\metrics\\_classification.py:1308: UndefinedMetricWarning: Recall and F-score are ill-defined and being set to 0.0 in labels with no true samples. Use `zero_division` parameter to control this behavior.\n",
      "  _warn_prf(average, modifier, msg_start, len(result))\n",
      "c:\\Users\\UX430\\anaconda3\\lib\\site-packages\\sklearn\\metrics\\_classification.py:1308: UndefinedMetricWarning: Precision and F-score are ill-defined and being set to 0.0 in labels with no predicted samples. Use `zero_division` parameter to control this behavior.\n",
      "  _warn_prf(average, modifier, msg_start, len(result))\n",
      "c:\\Users\\UX430\\anaconda3\\lib\\site-packages\\sklearn\\metrics\\_classification.py:1308: UndefinedMetricWarning: Recall and F-score are ill-defined and being set to 0.0 in labels with no true samples. Use `zero_division` parameter to control this behavior.\n",
      "  _warn_prf(average, modifier, msg_start, len(result))\n"
     ]
    }
   ],
   "source": [
    "# Values saved each iteration \n",
    "loss_it = []\n",
    "accuracy_it = []\n",
    "f1_it = []\n",
    "precision_it = []\n",
    "recall_it = []\n",
    "\n",
    "for i in range(global_updates): \n",
    "    w_list = []\n",
    "    for node in range(num_nodes): \n",
    "        cp = global_model # create a copy of the global model\n",
    "        if node == 0:\n",
    "            x, y = x1, y1\n",
    "        elif node == 1:\n",
    "            x, y = x2, y2\n",
    "        else:\n",
    "            x, y = x3, y3\n",
    "        local_model, local_loss, local_acc, local_val_loss, local_val_acc = train_local_model(cp, node, x, y)\n",
    "        w_list.append(local_model.get_weights())\n",
    "\n",
    "    avg_w = aggregate(w_list)\n",
    "    global_model.set_weights(avg_w) # apply gradients to global model\n",
    "    loss_basic, accuracy_basic, f1_basic, precision_basic, recall_basic = evaluation(global_model, xbasic, ybasic) # Evaluate with test basic to know progress\n",
    "    loss_plus, accuracy_plus, f1_plus, precision_plus, recall_plus = evaluation(global_model, xplus, yplus) # Evaluate with test plus to know progress\n",
    "\n",
    "    loss_it.append([loss_basic, loss_plus])\n",
    "    accuracy_it.append([accuracy_basic, accuracy_plus])\n",
    "    f1_it.append([f1_basic, f1_plus])\n",
    "    precision_it.append([precision_basic, precision_plus])\n",
    "    recall_it.append([recall_basic, recall_plus])\n",
    "\n",
    "\n",
    "global_model.save('C:/Users/UX430/Documents/thesis/code/models/id313.hdf5')"
   ]
  },
  {
   "cell_type": "code",
   "execution_count": 115,
   "metadata": {},
   "outputs": [
    {
     "name": "stdout",
     "output_type": "stream",
     "text": [
      "Loss for iterations:  [[1.1897985935211182, 0.0], [1.004499912261963, 0.0], [0.8885879516601562, 0.0], [0.9194231629371643, 0.0], [1.039891242980957, 0.0], [1.1802499294281006, 0.0], [1.2594116926193237, 0.0], [1.3347879648208618, 0.0], [1.418838381767273, 0.0], [1.506758689880371, 0.0], [1.5601729154586792, 0.0], [1.6428050994873047, 0.0], [1.7160673141479492, 0.0], [1.793906331062317, 0.0], [1.8375529050827026, 0.0]]\n",
      "Accuracy for iterations:  [[0.8465341925621033, 0.0], [0.8465806841850281, 4.135478229727596e-05], [0.8466581702232361, 0.0002067739114863798], [0.8467047214508057, 0.0011165791656821966], [0.8118296265602112, 0.0022331583313643932], [0.6897203922271729, 0.0024399321991950274], [0.5923646688461304, 0.0022331583313643932], [0.4451608955860138, 0.002026384463533759], [0.2608500123023987, 0.002026384463533759], [0.10774071514606476, 0.002026384463533759], [0.10760121792554855, 0.0019023199565708637], [0.10761671513319016, 0.0019023199565708637], [0.10774071514606476, 0.001943674753420055], [0.10783371329307556, 0.0018196104792878032], [0.10794221609830856, 0.0017369008855894208]]\n",
      "F1 for iterations:  [[0.8424175735922831, 0.0], [0.8440545871035089, 8.270614506657845e-05], [0.845381114722811, 0.0004134623335814107], [0.8456181915367702, 0.0022306675479180434], [0.8202949235767573, 0.004456364761708273], [0.7291396341140297, 0.004867986798679868], [0.6498781109468165, 0.004456364761708273], [0.5104422216289148, 0.0040445728435823365], [0.2832776710761534, 0.0040445728435823365], [0.02140412021556228, 0.0040445728435823365], [0.02143424076788746, 0.003797416105997441], [0.021607674752328294, 0.003797416105997441], [0.0217752959187392, 0.0038798084860492], [0.022389327124538356, 0.003632610939112487], [0.023118633640161104, 0.003467778557569253]]\n",
      "Precision for iterations:  [[0.8820856907281093, 0.0], [0.8867918180846086, 1.0], [0.890588667610679, 1.0], [0.884961384498216, 1.0], [0.8757662425706347, 1.0], [0.8654249067544981, 1.0], [0.8593552997620386, 1.0], [0.8537526182534233, 1.0], [0.849277048260179, 1.0], [0.3666050467437694, 1.0], [0.30383703676465823, 1.0], [0.37202505592598323, 1.0], [0.45092493982034393, 1.0], [0.4634688743500784, 1.0], [0.47339438411689694, 1.0]]\n",
      "Recall for iterations:  [[0.8465341930683862, 0.0], [0.8465806931613863, 4.135478268061701e-05], [0.8466581933163866, 0.00020677391340308507], [0.8467046934093868, 0.0011165791323766593], [0.8118296236592473, 0.0022331582647533185], [0.6897203794407589, 0.002439932178156404], [0.5923646847293694, 0.0022331582647533185], [0.44516089032178063, 0.0020263843513502336], [0.2608500217000434, 0.0020263843513502336], [0.10774071548143097, 0.0020263843513502336], [0.1076012152024304, 0.0019023200033083825], [0.10761671523343047, 0.0019023200033083825], [0.10774071548143097, 0.0019436747859889996], [0.10783371566743133, 0.0018196104379471485], [0.10794221588443177, 0.0017369008725859145]]\n"
     ]
    }
   ],
   "source": [
    "print(\"Loss for iterations: \", loss_it)\n",
    "print(\"Accuracy for iterations: \", accuracy_it)\n",
    "print(\"F1 for iterations: \", f1_it)\n",
    "print(\"Precision for iterations: \", precision_it)\n",
    "print(\"Recall for iterations: \", recall_it)"
   ]
  }
 ],
 "metadata": {
  "kernelspec": {
   "display_name": "base",
   "language": "python",
   "name": "python3"
  },
  "language_info": {
   "codemirror_mode": {
    "name": "ipython",
    "version": 3
   },
   "file_extension": ".py",
   "mimetype": "text/x-python",
   "name": "python",
   "nbconvert_exporter": "python",
   "pygments_lexer": "ipython3",
   "version": "3.8.12"
  }
 },
 "nbformat": 4,
 "nbformat_minor": 2
}
