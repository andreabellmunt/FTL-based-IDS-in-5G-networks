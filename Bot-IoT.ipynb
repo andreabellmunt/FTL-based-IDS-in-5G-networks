{
 "cells": [
  {
   "cell_type": "markdown",
   "metadata": {},
   "source": [
    "# Bot-IoT dataset"
   ]
  },
  {
   "cell_type": "markdown",
   "metadata": {},
   "source": [
    "## First analysis "
   ]
  },
  {
   "cell_type": "code",
   "execution_count": 30,
   "metadata": {},
   "outputs": [],
   "source": [
    "import csv\n",
    "import pandas as pd \n",
    "import numpy as np\n",
    "import matplotlib.pyplot as plt"
   ]
  },
  {
   "cell_type": "markdown",
   "metadata": {},
   "source": [
    "The following text file has been extracted from https://github.com/polvalls9/Transfer-Learning-Based-Intrusion-Detection-in-5G-and-IoT-Networks/tree/main/datasets:"
   ]
  },
  {
   "cell_type": "code",
   "execution_count": 31,
   "metadata": {},
   "outputs": [],
   "source": [
    "bot = pd.read_csv('../datasets/Bot-IoT/BoT-IoT.txt', sep = ',', low_memory=False)"
   ]
  },
  {
   "cell_type": "code",
   "execution_count": 3,
   "metadata": {},
   "outputs": [
    {
     "data": {
      "text/html": [
       "<div>\n",
       "<style scoped>\n",
       "    .dataframe tbody tr th:only-of-type {\n",
       "        vertical-align: middle;\n",
       "    }\n",
       "\n",
       "    .dataframe tbody tr th {\n",
       "        vertical-align: top;\n",
       "    }\n",
       "\n",
       "    .dataframe thead th {\n",
       "        text-align: right;\n",
       "    }\n",
       "</style>\n",
       "<table border=\"1\" class=\"dataframe\">\n",
       "  <thead>\n",
       "    <tr style=\"text-align: right;\">\n",
       "      <th></th>\n",
       "      <th>Unnamed: 0</th>\n",
       "      <th>proto</th>\n",
       "      <th>saddr</th>\n",
       "      <th>sport</th>\n",
       "      <th>daddr</th>\n",
       "      <th>dport</th>\n",
       "      <th>spkts</th>\n",
       "      <th>dpkts</th>\n",
       "      <th>sbytes</th>\n",
       "      <th>dbytes</th>\n",
       "      <th>state</th>\n",
       "      <th>stime</th>\n",
       "      <th>ltime</th>\n",
       "      <th>dur</th>\n",
       "      <th>attack</th>\n",
       "      <th>category</th>\n",
       "    </tr>\n",
       "  </thead>\n",
       "  <tbody>\n",
       "    <tr>\n",
       "      <th>0</th>\n",
       "      <td>0</td>\n",
       "      <td>udp</td>\n",
       "      <td>192.168.100.150</td>\n",
       "      <td>21847</td>\n",
       "      <td>192.168.100.3</td>\n",
       "      <td>80</td>\n",
       "      <td>7</td>\n",
       "      <td>0</td>\n",
       "      <td>420</td>\n",
       "      <td>0</td>\n",
       "      <td>INT</td>\n",
       "      <td>1.528100e+09</td>\n",
       "      <td>1.528100e+09</td>\n",
       "      <td>15.389218</td>\n",
       "      <td>1</td>\n",
       "      <td>DDoS</td>\n",
       "    </tr>\n",
       "    <tr>\n",
       "      <th>1</th>\n",
       "      <td>1</td>\n",
       "      <td>udp</td>\n",
       "      <td>192.168.100.147</td>\n",
       "      <td>8532</td>\n",
       "      <td>192.168.100.7</td>\n",
       "      <td>80</td>\n",
       "      <td>2</td>\n",
       "      <td>0</td>\n",
       "      <td>120</td>\n",
       "      <td>0</td>\n",
       "      <td>INT</td>\n",
       "      <td>1.528102e+09</td>\n",
       "      <td>1.528102e+09</td>\n",
       "      <td>7.553724</td>\n",
       "      <td>1</td>\n",
       "      <td>DDoS</td>\n",
       "    </tr>\n",
       "    <tr>\n",
       "      <th>2</th>\n",
       "      <td>2</td>\n",
       "      <td>tcp</td>\n",
       "      <td>192.168.100.147</td>\n",
       "      <td>53146.0</td>\n",
       "      <td>192.168.100.5</td>\n",
       "      <td>80.0</td>\n",
       "      <td>5</td>\n",
       "      <td>0</td>\n",
       "      <td>770</td>\n",
       "      <td>0</td>\n",
       "      <td>REQ</td>\n",
       "      <td>1.528097e+09</td>\n",
       "      <td>1.528097e+09</td>\n",
       "      <td>25.052450</td>\n",
       "      <td>1</td>\n",
       "      <td>DDoS</td>\n",
       "    </tr>\n",
       "    <tr>\n",
       "      <th>3</th>\n",
       "      <td>3</td>\n",
       "      <td>tcp</td>\n",
       "      <td>192.168.100.148</td>\n",
       "      <td>37167.0</td>\n",
       "      <td>192.168.100.3</td>\n",
       "      <td>80.0</td>\n",
       "      <td>2</td>\n",
       "      <td>0</td>\n",
       "      <td>308</td>\n",
       "      <td>0</td>\n",
       "      <td>REQ</td>\n",
       "      <td>1.528096e+09</td>\n",
       "      <td>1.528096e+09</td>\n",
       "      <td>3.642605</td>\n",
       "      <td>1</td>\n",
       "      <td>DDoS</td>\n",
       "    </tr>\n",
       "    <tr>\n",
       "      <th>4</th>\n",
       "      <td>4</td>\n",
       "      <td>udp</td>\n",
       "      <td>192.168.100.148</td>\n",
       "      <td>20595.0</td>\n",
       "      <td>192.168.100.3</td>\n",
       "      <td>80.0</td>\n",
       "      <td>13</td>\n",
       "      <td>0</td>\n",
       "      <td>780</td>\n",
       "      <td>0</td>\n",
       "      <td>INT</td>\n",
       "      <td>1.528100e+09</td>\n",
       "      <td>1.528100e+09</td>\n",
       "      <td>14.673398</td>\n",
       "      <td>1</td>\n",
       "      <td>DDoS</td>\n",
       "    </tr>\n",
       "  </tbody>\n",
       "</table>\n",
       "</div>"
      ],
      "text/plain": [
       "   Unnamed: 0 proto            saddr    sport          daddr dport  spkts  \\\n",
       "0           0   udp  192.168.100.150    21847  192.168.100.3    80      7   \n",
       "1           1   udp  192.168.100.147     8532  192.168.100.7    80      2   \n",
       "2           2   tcp  192.168.100.147  53146.0  192.168.100.5  80.0      5   \n",
       "3           3   tcp  192.168.100.148  37167.0  192.168.100.3  80.0      2   \n",
       "4           4   udp  192.168.100.148  20595.0  192.168.100.3  80.0     13   \n",
       "\n",
       "   dpkts  sbytes  dbytes state         stime         ltime        dur  attack  \\\n",
       "0      0     420       0   INT  1.528100e+09  1.528100e+09  15.389218       1   \n",
       "1      0     120       0   INT  1.528102e+09  1.528102e+09   7.553724       1   \n",
       "2      0     770       0   REQ  1.528097e+09  1.528097e+09  25.052450       1   \n",
       "3      0     308       0   REQ  1.528096e+09  1.528096e+09   3.642605       1   \n",
       "4      0     780       0   INT  1.528100e+09  1.528100e+09  14.673398       1   \n",
       "\n",
       "  category  \n",
       "0     DDoS  \n",
       "1     DDoS  \n",
       "2     DDoS  \n",
       "3     DDoS  \n",
       "4     DDoS  "
      ]
     },
     "execution_count": 3,
     "metadata": {},
     "output_type": "execute_result"
    }
   ],
   "source": [
    "bot.head()"
   ]
  },
  {
   "cell_type": "code",
   "execution_count": 32,
   "metadata": {},
   "outputs": [],
   "source": [
    "# Delete the first column \n",
    "bot = bot.drop(bot.columns[0], axis=1)"
   ]
  },
  {
   "cell_type": "code",
   "execution_count": 5,
   "metadata": {},
   "outputs": [
    {
     "data": {
      "text/plain": [
       "DDoS              2000000\n",
       "DoS               2000000\n",
       "Reconnaissance    1821639\n",
       "Normal               9543\n",
       "Theft                1587\n",
       "Name: category, dtype: int64"
      ]
     },
     "execution_count": 5,
     "metadata": {},
     "output_type": "execute_result"
    }
   ],
   "source": [
    "# Count the frequency of each value in the 'category' column\n",
    "freq = bot['category'].value_counts()\n",
    "freq"
   ]
  },
  {
   "cell_type": "code",
   "execution_count": 6,
   "metadata": {},
   "outputs": [
    {
     "data": {
      "image/png": "[encoded data removed]",
      "text/plain": [
       "<Figure size 432x288 with 1 Axes>"
      ]
     },
     "metadata": {
      "needs_background": "light"
     },
     "output_type": "display_data"
    }
   ],
   "source": [
    "# Plot frequency of each attack \n",
    "freq.plot(kind='bar', color='blue')\n",
    "plt.xlabel('Attack Type')\n",
    "plt.ylabel('Frequency')\n",
    "plt.title('Frequency of Each Category')\n",
    "plt.show()"
   ]
  },
  {
   "cell_type": "code",
   "execution_count": 7,
   "metadata": {},
   "outputs": [
    {
     "name": "stdout",
     "output_type": "stream",
     "text": [
      "(5832769, 15)\n",
      "Index(['proto', 'saddr', 'sport', 'daddr', 'dport', 'spkts', 'dpkts', 'sbytes',\n",
      "       'dbytes', 'state', 'stime', 'ltime', 'dur', 'attack', 'category'],\n",
      "      dtype='object')\n",
      "proto          0\n",
      "saddr          0\n",
      "sport       1045\n",
      "daddr          0\n",
      "dport       1045\n",
      "spkts          0\n",
      "dpkts          0\n",
      "sbytes         0\n",
      "dbytes         0\n",
      "state          0\n",
      "stime          0\n",
      "ltime          0\n",
      "dur            0\n",
      "attack         0\n",
      "category       0\n",
      "dtype: int64\n"
     ]
    }
   ],
   "source": [
    "# Get number of rows and name of columns\n",
    "print(bot.shape)\n",
    "print(bot.columns)\n",
    "\n",
    "# Get if nulls or not\n",
    "print(bot.isnull().sum())"
   ]
  },
  {
   "cell_type": "code",
   "execution_count": 33,
   "metadata": {},
   "outputs": [],
   "source": [
    "def filter(dataset): \n",
    "    # Get only the rows that contain state (PAR, ACC, ECO, CON, FIN, INT, REQ, RST) and proto (igmp, arp, icmp, udp, tcp, ipv6-icmp, rarp)\n",
    "    dataset = dataset[dataset['state'].isin(['PAR', 'ACC', 'ECO', 'CON', 'FIN', 'INT', 'REQ', 'RST'])]\n",
    "    dataset = dataset[dataset['proto'].isin(['igmp', 'arp', 'icmp', 'udp', 'tcp', 'ipv6-icmp', 'rarp'])]\n",
    "    return dataset"
   ]
  },
  {
   "cell_type": "code",
   "execution_count": 34,
   "metadata": {},
   "outputs": [],
   "source": [
    "bot = filter(bot)"
   ]
  },
  {
   "cell_type": "code",
   "execution_count": 10,
   "metadata": {},
   "outputs": [
    {
     "data": {
      "text/plain": [
       "DDoS              1999989\n",
       "DoS               1999980\n",
       "Reconnaissance    1791310\n",
       "Normal               9446\n",
       "Theft                1587\n",
       "Name: category, dtype: int64"
      ]
     },
     "execution_count": 10,
     "metadata": {},
     "output_type": "execute_result"
    }
   ],
   "source": [
    "bot['category'].value_counts()"
   ]
  },
  {
   "cell_type": "code",
   "execution_count": 35,
   "metadata": {},
   "outputs": [],
   "source": [
    "ddos = bot.loc[bot['category'] == 'DDoS']\n",
    "dos = bot.loc[bot['category'] == 'DoS']\n",
    "reconnaissance = bot.loc[bot['category'] == 'Reconnaissance']\n",
    "normal = bot.loc[bot['category'] == 'Normal']\n",
    "theft = bot.loc[bot['category'] == 'Theft']\n",
    "\n",
    "ddos = ddos.sample(n=10000, random_state=1)\n",
    "dos = dos.sample(n=10000, random_state=1)\n",
    "reconnaissance = reconnaissance.sample(n=10000, random_state=1)\n",
    "\n",
    "data = pd.concat([ddos, dos, reconnaissance, normal, theft], ignore_index=True)"
   ]
  },
  {
   "cell_type": "code",
   "execution_count": 36,
   "metadata": {},
   "outputs": [],
   "source": [
    "train = data.sample(frac=0.75, random_state=1)\n",
    "test = data.drop(train.index)"
   ]
  },
  {
   "cell_type": "code",
   "execution_count": 37,
   "metadata": {},
   "outputs": [
    {
     "data": {
      "text/plain": [
       "DoS               7551\n",
       "DDoS              7507\n",
       "Reconnaissance    7475\n",
       "Normal            7039\n",
       "Theft             1203\n",
       "Name: category, dtype: int64"
      ]
     },
     "execution_count": 37,
     "metadata": {},
     "output_type": "execute_result"
    }
   ],
   "source": [
    "train['category'].value_counts()"
   ]
  },
  {
   "cell_type": "code",
   "execution_count": 38,
   "metadata": {},
   "outputs": [],
   "source": [
    "bot = train \n",
    "test.to_csv('../datasets/Bot-IoT/Bot_test.csv', index=False)"
   ]
  },
  {
   "cell_type": "markdown",
   "metadata": {},
   "source": [
    "## Partitions"
   ]
  },
  {
   "cell_type": "markdown",
   "metadata": {},
   "source": [
    "### 3 nodes"
   ]
  },
  {
   "cell_type": "markdown",
   "metadata": {},
   "source": [
    "#### For detection"
   ]
  },
  {
   "cell_type": "code",
   "execution_count": 39,
   "metadata": {},
   "outputs": [],
   "source": [
    "ddos1 = bot[bot['category'] == 'DDoS'].iloc[:2517]\n",
    "ddos2 = bot[bot['category'] == 'DDoS'].iloc[2517:2517*2]\n",
    "ddos3 = bot[bot['category'] == 'DDoS'].iloc[2517*2:]\n",
    "\n",
    "dos1 = bot[bot['category'] == 'DoS'].iloc[:2502]\n",
    "dos2 = bot[bot['category'] == 'DoS'].iloc[2502:2502*2]\n",
    "dos3 = bot[bot['category'] == 'DoS'].iloc[2502*2:]\n",
    "\n",
    "recon1 = bot[bot['category'] == 'Reconnaissance'].iloc[:2492]\n",
    "recon2 = bot[bot['category'] == 'Reconnaissance'].iloc[2492:2492*2]\n",
    "recon3 = bot[bot['category'] == 'Reconnaissance'].iloc[2492*2:]\n",
    "\n",
    "normal1 = bot[bot['category'] == 'Normal'].iloc[:2346]\n",
    "normal2 = bot[bot['category'] == 'Normal'].iloc[2346:2346*2]\n",
    "normal3 = bot[bot['category'] == 'Normal'].iloc[2346*2:]\n",
    "\n",
    "theft1 = bot[bot['category'] == 'Theft'].iloc[:401]\n",
    "theft2 = bot[bot['category'] == 'Theft'].iloc[401:401*2]\n",
    "theft3 = bot[bot['category'] == 'Theft'].iloc[401*2:]"
   ]
  },
  {
   "cell_type": "code",
   "execution_count": 40,
   "metadata": {},
   "outputs": [],
   "source": [
    "part1 = pd.concat([ddos1, dos1, recon1, normal1, theft1])\n",
    "part2 = pd.concat([ddos2, dos2, recon2, normal2, theft2])\n",
    "part3 = pd.concat([ddos3, dos3, recon3, normal3, theft3])\n",
    "\n",
    "part1.to_csv('../datasets/Bot-IoT/pred3_part1.csv', index=False)\n",
    "part2.to_csv('../datasets/Bot-IoT/pred3_part2.csv', index=False)\n",
    "part3.to_csv('../datasets/Bot-IoT/pred3_part3.csv', index=False)"
   ]
  },
  {
   "cell_type": "markdown",
   "metadata": {},
   "source": [
    "#### For attack classification"
   ]
  },
  {
   "cell_type": "code",
   "execution_count": 41,
   "metadata": {},
   "outputs": [],
   "source": [
    "ddos1 = bot[bot['category'] == 'DDoS'].iloc[:2517]\n",
    "ddos2 = bot[bot['category'] == 'DDoS'].iloc[2517:2517*2]\n",
    "ddos3 = bot[bot['category'] == 'DDoS'].iloc[2517*2:]\n",
    "\n",
    "dos1 = bot[bot['category'] == 'DoS'].iloc[:2502]\n",
    "dos2 = bot[bot['category'] == 'DoS'].iloc[2502:2502*2]\n",
    "dos3 = bot[bot['category'] == 'DoS'].iloc[2502*2:]\n",
    "\n",
    "recon1 = bot[bot['category'] == 'Reconnaissance'].iloc[:2492]\n",
    "recon2 = bot[bot['category'] == 'Reconnaissance'].iloc[2492:2492*2]\n",
    "recon3 = bot[bot['category'] == 'Reconnaissance'].iloc[2492*2:]\n",
    "\n",
    "theft1 = bot[bot['category'] == 'Theft'].iloc[:401]\n",
    "theft2 = bot[bot['category'] == 'Theft'].iloc[401:401*2]\n",
    "theft3 = bot[bot['category'] == 'Theft'].iloc[401*2:]"
   ]
  },
  {
   "cell_type": "code",
   "execution_count": 42,
   "metadata": {},
   "outputs": [],
   "source": [
    "part1 = pd.concat([ddos1, dos1, recon1, theft1])\n",
    "part2 = pd.concat([ddos2, dos2, recon2, theft2])\n",
    "part3 = pd.concat([ddos3, dos3, recon3, theft3])\n",
    "\n",
    "part1.to_csv('../datasets/Bot-IoT/cat3_part1.csv', index=False)\n",
    "part2.to_csv('../datasets/Bot-IoT/cat3_part2.csv', index=False)\n",
    "part3.to_csv('../datasets/Bot-IoT/cat3_part3.csv', index=False)"
   ]
  },
  {
   "cell_type": "markdown",
   "metadata": {},
   "source": [
    "### 5 nodes"
   ]
  },
  {
   "cell_type": "markdown",
   "metadata": {},
   "source": [
    "#### For detection"
   ]
  },
  {
   "cell_type": "code",
   "execution_count": 43,
   "metadata": {},
   "outputs": [],
   "source": [
    "ddos1 = bot[bot['category'] == 'DDoS'].iloc[:1510]\n",
    "ddos2 = bot[bot['category'] == 'DDoS'].iloc[1510:1510*2]\n",
    "ddos3 = bot[bot['category'] == 'DDoS'].iloc[1510*2:1510*3]\n",
    "ddos4 = bot[bot['category'] == 'DDoS'].iloc[1510*3:1510*4]\n",
    "ddos5 = bot[bot['category'] == 'DDoS'].iloc[1510*4:]\n",
    "\n",
    "dos1 = bot[bot['category'] == 'DoS'].iloc[:1501]\n",
    "dos2 = bot[bot['category'] == 'DoS'].iloc[1501:1501*2]\n",
    "dos3 = bot[bot['category'] == 'DoS'].iloc[1501*2:1501*3]\n",
    "dos4 = bot[bot['category'] == 'DoS'].iloc[1501*3:1501*4+1]\n",
    "dos5 = bot[bot['category'] == 'DoS'].iloc[1501*4+1:]\n",
    "\n",
    "recon1 = bot[bot['category'] == 'Reconnaissance'].iloc[:1495]\n",
    "recon2 = bot[bot['category'] == 'Reconnaissance'].iloc[1495:1495*2]\n",
    "recon3 = bot[bot['category'] == 'Reconnaissance'].iloc[1495*2:1495*3]\n",
    "recon4 = bot[bot['category'] == 'Reconnaissance'].iloc[1495*3:1495*4]\n",
    "recon5 = bot[bot['category'] == 'Reconnaissance'].iloc[1495*4:]\n",
    "\n",
    "normal1 = bot[bot['category'] == 'Normal'].iloc[:1407]\n",
    "normal2 = bot[bot['category'] == 'Normal'].iloc[1407:1407*2]\n",
    "normal3 = bot[bot['category'] == 'Normal'].iloc[1407*2:1407*3]\n",
    "normal4 = bot[bot['category'] == 'Normal'].iloc[1407*3:1407*4]\n",
    "normal5 = bot[bot['category'] == 'Normal'].iloc[1407*4:]\n",
    "\n",
    "theft1 = bot[bot['category'] == 'Theft'].iloc[:241]\n",
    "theft2 = bot[bot['category'] == 'Theft'].iloc[241:241*2]\n",
    "theft3 = bot[bot['category'] == 'Theft'].iloc[241*2:241*3]\n",
    "theft4 = bot[bot['category'] == 'Theft'].iloc[241*3:241*4-1]\n",
    "theft5 = bot[bot['category'] == 'Theft'].iloc[241*4-1:]\n",
    "\n"
   ]
  },
  {
   "cell_type": "code",
   "execution_count": 44,
   "metadata": {},
   "outputs": [],
   "source": [
    "part1 = pd.concat([ddos1, dos1, recon1, normal1, theft1])\n",
    "part2 = pd.concat([ddos2, dos2, recon2, normal2, theft2])\n",
    "part3 = pd.concat([ddos3, dos3, recon3, normal3, theft3])\n",
    "part4 = pd.concat([ddos4, dos4, recon4, normal4, theft4])\n",
    "part5 = pd.concat([ddos5, dos5, recon5, normal5, theft5])\n",
    "\n",
    "part1.to_csv('../datasets/Bot-IoT/pred5_part1.csv', index=False)\n",
    "part2.to_csv('../datasets/Bot-IoT/pred5_part2.csv', index=False)\n",
    "part3.to_csv('../datasets/Bot-IoT/pred5_part3.csv', index=False)\n",
    "part4.to_csv('../datasets/Bot-IoT/pred5_part4.csv', index=False)\n",
    "part5.to_csv('../datasets/Bot-IoT/pred5_part5.csv', index=False)"
   ]
  },
  {
   "cell_type": "markdown",
   "metadata": {},
   "source": [
    "#### For attack classification"
   ]
  },
  {
   "cell_type": "code",
   "execution_count": 45,
   "metadata": {},
   "outputs": [],
   "source": [
    "ddos1 = bot[bot['category'] == 'DDoS'].iloc[:1510]\n",
    "ddos2 = bot[bot['category'] == 'DDoS'].iloc[1510:1510*2]\n",
    "ddos3 = bot[bot['category'] == 'DDoS'].iloc[1510*2:1510*3]\n",
    "ddos4 = bot[bot['category'] == 'DDoS'].iloc[1510*3:1510*4]\n",
    "ddos5 = bot[bot['category'] == 'DDoS'].iloc[1510*4:]\n",
    "\n",
    "dos1 = bot[bot['category'] == 'DoS'].iloc[:1501]\n",
    "dos2 = bot[bot['category'] == 'DoS'].iloc[1501:1501*2]\n",
    "dos3 = bot[bot['category'] == 'DoS'].iloc[1501*2:1501*3]\n",
    "dos4 = bot[bot['category'] == 'DoS'].iloc[1501*3:1501*4+1]\n",
    "dos5 = bot[bot['category'] == 'DoS'].iloc[1501*4+1:]\n",
    "\n",
    "recon1 = bot[bot['category'] == 'Reconnaissance'].iloc[:1495]\n",
    "recon2 = bot[bot['category'] == 'Reconnaissance'].iloc[1495:1495*2]\n",
    "recon3 = bot[bot['category'] == 'Reconnaissance'].iloc[1495*2:1495*3]\n",
    "recon4 = bot[bot['category'] == 'Reconnaissance'].iloc[1495*3:1495*4]\n",
    "recon5 = bot[bot['category'] == 'Reconnaissance'].iloc[1495*4:]\n",
    "\n",
    "\n",
    "theft1 = bot[bot['category'] == 'Theft'].iloc[:241]\n",
    "theft2 = bot[bot['category'] == 'Theft'].iloc[241:241*2]\n",
    "theft3 = bot[bot['category'] == 'Theft'].iloc[241*2:241*3]\n",
    "theft4 = bot[bot['category'] == 'Theft'].iloc[241*3:241*4-1]\n",
    "theft5 = bot[bot['category'] == 'Theft'].iloc[241*4-1:]\n",
    "\n"
   ]
  },
  {
   "cell_type": "code",
   "execution_count": 46,
   "metadata": {},
   "outputs": [],
   "source": [
    "part1 = pd.concat([ddos1, dos1, recon1, theft1])\n",
    "part2 = pd.concat([ddos2, dos2, recon2, theft2])\n",
    "part3 = pd.concat([ddos3, dos3, recon3, theft3])\n",
    "part4 = pd.concat([ddos4, dos4, recon4, theft4])\n",
    "part5 = pd.concat([ddos5, dos5, recon5, theft5])\n",
    "\n",
    "part1.to_csv('../datasets/Bot-IoT/cat5_part1.csv', index=False)\n",
    "part2.to_csv('../datasets/Bot-IoT/cat5_part2.csv', index=False)\n",
    "part3.to_csv('../datasets/Bot-IoT/cat5_part3.csv', index=False)\n",
    "part4.to_csv('../datasets/Bot-IoT/cat5_part4.csv', index=False)\n",
    "part5.to_csv('../datasets/Bot-IoT/cat5_part5.csv', index=False)"
   ]
  },
  {
   "cell_type": "markdown",
   "metadata": {},
   "source": [
    "### 7 nodes"
   ]
  },
  {
   "cell_type": "markdown",
   "metadata": {},
   "source": [
    "#### For detection"
   ]
  },
  {
   "cell_type": "code",
   "execution_count": 47,
   "metadata": {},
   "outputs": [],
   "source": [
    "ddos1 = bot[bot['category'] == 'DDoS'].iloc[:1079]\n",
    "ddos2 = bot[bot['category'] == 'DDoS'].iloc[1079:1079*2]\n",
    "ddos3 = bot[bot['category'] == 'DDoS'].iloc[1079*2:1079*3]\n",
    "ddos4 = bot[bot['category'] == 'DDoS'].iloc[1079*3:1079*4]\n",
    "ddos5 = bot[bot['category'] == 'DDoS'].iloc[1079*4:1079*5]\n",
    "ddos6 = bot[bot['category'] == 'DDoS'].iloc[1079*5:1079*6-1]\n",
    "ddos7 = bot[bot['category'] == 'DDoS'].iloc[1079*6-1:]\n",
    "\n",
    "dos1 = bot[bot['category'] == 'DoS'].iloc[:1072]\n",
    "dos2 = bot[bot['category'] == 'DoS'].iloc[1072:1072*2]\n",
    "dos3 = bot[bot['category'] == 'DoS'].iloc[1072*2:1072*3]\n",
    "dos4 = bot[bot['category'] == 'DoS'].iloc[1072*3:1072*4]\n",
    "dos5 = bot[bot['category'] == 'DoS'].iloc[1072*4:1072*5+1]\n",
    "dos6 = bot[bot['category'] == 'DoS'].iloc[1072*5+1:1072*6+2]\n",
    "dos7 = bot[bot['category'] == 'DoS'].iloc[1072*6+2:]\n",
    "\n",
    "recon1 = bot[bot['category'] == 'Reconnaissance'].iloc[:1068]\n",
    "recon2 = bot[bot['category'] == 'Reconnaissance'].iloc[1068:1068*2]\n",
    "recon3 = bot[bot['category'] == 'Reconnaissance'].iloc[1068*2:1068*3]\n",
    "recon4 = bot[bot['category'] == 'Reconnaissance'].iloc[1068*3:1068*4]\n",
    "recon5 = bot[bot['category'] == 'Reconnaissance'].iloc[1068*4:1068*5]\n",
    "recon6 = bot[bot['category'] == 'Reconnaissance'].iloc[1068*5:1068*6]\n",
    "recon7 = bot[bot['category'] == 'Reconnaissance'].iloc[1068*6:]\n",
    "\n",
    "normal1 = bot[bot['category'] == 'Normal'].iloc[:1005]\n",
    "normal2 = bot[bot['category'] == 'Normal'].iloc[1005:1005*2]\n",
    "normal3 = bot[bot['category'] == 'Normal'].iloc[1005*2:1005*3]\n",
    "normal4 = bot[bot['category'] == 'Normal'].iloc[1005*3:1005*4]\n",
    "normal5 = bot[bot['category'] == 'Normal'].iloc[1005*4:1005*5]\n",
    "normal6 = bot[bot['category'] == 'Normal'].iloc[1005*5:1005*6]\n",
    "normal7 = bot[bot['category'] == 'Normal'].iloc[1005*6:]\n",
    "\n",
    "theft1 = bot[bot['category'] == 'Theft'].iloc[:172]\n",
    "theft2 = bot[bot['category'] == 'Theft'].iloc[172:172*2]\n",
    "theft3 = bot[bot['category'] == 'Theft'].iloc[172*2:172*3]\n",
    "theft4 = bot[bot['category'] == 'Theft'].iloc[172*3:172*4]\n",
    "theft5 = bot[bot['category'] == 'Theft'].iloc[172*4:172*5]\n",
    "theft6 = bot[bot['category'] == 'Theft'].iloc[172*5:172*6]\n",
    "theft7 = bot[bot['category'] == 'Theft'].iloc[172*6:]\n"
   ]
  },
  {
   "cell_type": "code",
   "execution_count": 48,
   "metadata": {},
   "outputs": [],
   "source": [
    "part1 = pd.concat([ddos1, dos1, recon1, normal1, theft1])\n",
    "part2 = pd.concat([ddos2, dos2, recon2, normal2, theft2])\n",
    "part3 = pd.concat([ddos3, dos3, recon3, normal3, theft3])\n",
    "part4 = pd.concat([ddos4, dos4, recon4, normal4, theft4])\n",
    "part5 = pd.concat([ddos5, dos5, recon5, normal5, theft5])\n",
    "part6 = pd.concat([ddos6, dos6, recon6, normal6, theft6])\n",
    "part7 = pd.concat([ddos7, dos7, recon7, normal7, theft7])\n",
    "\n",
    "part1.to_csv('../datasets/Bot-IoT/pred7_part1.csv', index=False)\n",
    "part2.to_csv('../datasets/Bot-IoT/pred7_part2.csv', index=False)\n",
    "part3.to_csv('../datasets/Bot-IoT/pred7_part3.csv', index=False)\n",
    "part4.to_csv('../datasets/Bot-IoT/pred7_part4.csv', index=False)\n",
    "part5.to_csv('../datasets/Bot-IoT/pred7_part5.csv', index=False)\n",
    "part6.to_csv('../datasets/Bot-IoT/pred7_part6.csv', index=False)\n",
    "part7.to_csv('../datasets/Bot-IoT/pred7_part7.csv', index=False)"
   ]
  },
  {
   "cell_type": "markdown",
   "metadata": {},
   "source": [
    "#### For attack classification"
   ]
  },
  {
   "cell_type": "code",
   "execution_count": 49,
   "metadata": {},
   "outputs": [],
   "source": [
    "ddos1 = bot[bot['category'] == 'DDoS'].iloc[:1079]\n",
    "ddos2 = bot[bot['category'] == 'DDoS'].iloc[1079:1079*2]\n",
    "ddos3 = bot[bot['category'] == 'DDoS'].iloc[1079*2:1079*3]\n",
    "ddos4 = bot[bot['category'] == 'DDoS'].iloc[1079*3:1079*4]\n",
    "ddos5 = bot[bot['category'] == 'DDoS'].iloc[1079*4:1079*5]\n",
    "ddos6 = bot[bot['category'] == 'DDoS'].iloc[1079*5:1079*6-1]\n",
    "ddos7 = bot[bot['category'] == 'DDoS'].iloc[1079*6-1:]\n",
    "\n",
    "dos1 = bot[bot['category'] == 'DoS'].iloc[:1072]\n",
    "dos2 = bot[bot['category'] == 'DoS'].iloc[1072:1072*2]\n",
    "dos3 = bot[bot['category'] == 'DoS'].iloc[1072*2:1072*3]\n",
    "dos4 = bot[bot['category'] == 'DoS'].iloc[1072*3:1072*4]\n",
    "dos5 = bot[bot['category'] == 'DoS'].iloc[1072*4:1072*5+1]\n",
    "dos6 = bot[bot['category'] == 'DoS'].iloc[1072*5+1:1072*6+2]\n",
    "dos7 = bot[bot['category'] == 'DoS'].iloc[1072*6+2:]\n",
    "\n",
    "recon1 = bot[bot['category'] == 'Reconnaissance'].iloc[:1068]\n",
    "recon2 = bot[bot['category'] == 'Reconnaissance'].iloc[1068:1068*2]\n",
    "recon3 = bot[bot['category'] == 'Reconnaissance'].iloc[1068*2:1068*3]\n",
    "recon4 = bot[bot['category'] == 'Reconnaissance'].iloc[1068*3:1068*4]\n",
    "recon5 = bot[bot['category'] == 'Reconnaissance'].iloc[1068*4:1068*5]\n",
    "recon6 = bot[bot['category'] == 'Reconnaissance'].iloc[1068*5:1068*6]\n",
    "recon7 = bot[bot['category'] == 'Reconnaissance'].iloc[1068*6:]\n",
    "\n",
    "theft1 = bot[bot['category'] == 'Theft'].iloc[:172]\n",
    "theft2 = bot[bot['category'] == 'Theft'].iloc[172:172*2]\n",
    "theft3 = bot[bot['category'] == 'Theft'].iloc[172*2:172*3]\n",
    "theft4 = bot[bot['category'] == 'Theft'].iloc[172*3:172*4]\n",
    "theft5 = bot[bot['category'] == 'Theft'].iloc[172*4:172*5]\n",
    "theft6 = bot[bot['category'] == 'Theft'].iloc[172*5:172*6]\n",
    "theft7 = bot[bot['category'] == 'Theft'].iloc[172*6:]\n"
   ]
  },
  {
   "cell_type": "code",
   "execution_count": 50,
   "metadata": {},
   "outputs": [],
   "source": [
    "part1 = pd.concat([ddos1, dos1, recon1, theft1])\n",
    "part2 = pd.concat([ddos2, dos2, recon2, theft2])\n",
    "part3 = pd.concat([ddos3, dos3, recon3, theft3])\n",
    "part4 = pd.concat([ddos4, dos4, recon4, theft4])\n",
    "part5 = pd.concat([ddos5, dos5, recon5, theft5])\n",
    "part6 = pd.concat([ddos6, dos6, recon6, theft6])\n",
    "part7 = pd.concat([ddos7, dos7, recon7, theft7])\n",
    "\n",
    "part1.to_csv('../datasets/Bot-IoT/cat7_part1.csv', index=False)\n",
    "part2.to_csv('../datasets/Bot-IoT/cat7_part2.csv', index=False)\n",
    "part3.to_csv('../datasets/Bot-IoT/cat7_part3.csv', index=False)\n",
    "part4.to_csv('../datasets/Bot-IoT/cat7_part4.csv', index=False)\n",
    "part5.to_csv('../datasets/Bot-IoT/cat7_part5.csv', index=False)\n",
    "part6.to_csv('../datasets/Bot-IoT/cat7_part6.csv', index=False)\n",
    "part7.to_csv('../datasets/Bot-IoT/cat7_part7.csv', index=False)"
   ]
  }
 ],
 "metadata": {
  "kernelspec": {
   "display_name": "base",
   "language": "python",
   "name": "python3"
  },
  "language_info": {
   "codemirror_mode": {
    "name": "ipython",
    "version": 3
   },
   "file_extension": ".py",
   "mimetype": "text/x-python",
   "name": "python",
   "nbconvert_exporter": "python",
   "pygments_lexer": "ipython3",
   "version": "3.8.12"
  }
 },
 "nbformat": 4,
 "nbformat_minor": 2
}
