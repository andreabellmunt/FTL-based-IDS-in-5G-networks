{
 "cells": [
  {
   "cell_type": "markdown",
   "metadata": {},
   "source": [
    "## **Federated Learning for attack detection: 3 nodes sharing weights**\n",
    "USES FILTERED DATASETS WITH PROPER PROPORTIONS\n",
    "\n",
    "IDs from this file = **ID19xy** (x = 0 if experiment with dataset, x = 1 if epochs & iterations, y being integer equal or greater than 0)\n",
    "\n",
    "In this file, experiments with different datasets, and number of epochs & iterations are done. The experiments are divided into sections, based on the elements being changed. "
   ]
  },
  {
   "cell_type": "markdown",
   "metadata": {},
   "source": [
    "### Static elements for all experiments (execute first)"
   ]
  },
  {
   "cell_type": "code",
   "execution_count": 1,
   "metadata": {},
   "outputs": [],
   "source": [
    "# Imports\n",
    "import tensorflow as tf\n",
    "import numpy as np\n",
    "from tensorflow import keras\n",
    "import matplotlib.pyplot as plt\n",
    "import pandas as pd\n",
    "import seaborn as sns\n",
    "\n",
    "from tensorflow.keras import datasets, layers, models\n",
    "from tensorflow.keras.callbacks import EarlyStopping\n",
    "from tensorflow.keras.layers import Dense, BatchNormalization\n",
    "from sklearn.preprocessing import StandardScaler\n",
    "from sklearn.model_selection import train_test_split\n",
    "from sklearn.metrics import confusion_matrix, classification_report\n",
    "\n",
    "# Disable warns\n",
    "pd.options.mode.chained_assignment = None  # default='warn'"
   ]
  },
  {
   "cell_type": "code",
   "execution_count": 2,
   "metadata": {},
   "outputs": [],
   "source": [
    "def preprocessing(data): \n",
    "    # Select the 'proto' and 'state' values that I want\n",
    "    data = data.loc[(data['proto'] == 'tcp') | (data['proto'] =='udp') | (data['proto'] =='icmp') | (data['proto'] =='arp') | (data['proto'] =='ipv6-icmp') | (data['proto'] =='igmp') | (data['proto'] =='rarp'), :]\n",
    "    data = data.loc[(data['state'] == 'RST') | (data['state'] =='REQ') | (data['state'] =='INT') | (data['state'] =='FIN') | (data['state'] =='CON') | (data['state'] =='ECO') | (data['state'] =='ACC') | (data['state'] == 'PAR'), :]\n",
    "\n",
    "    # Extracting labels \n",
    "    data_labels = pd.DataFrame()\n",
    "\n",
    "    # Drop the invalid features and select interested data features\n",
    "    data_features=data[['proto','srcip','sport','dstip','dsport','spkts','dpkts','sbytes','dbytes','state','stime','ltime','dur']]\n",
    "\n",
    "    \"\"\"PREPROCESSING\"\"\"\n",
    "\n",
    "\n",
    "    # Preprocess IP and ports features\n",
    "    # IP Source Address\n",
    "    data_features['srcip'] = data_features['srcip'].apply(lambda x: x.split(\".\")[-1])\n",
    "    data_features['srcip'] = data_features['srcip'].apply(lambda x: x.split(\":\")[-1])\n",
    "    data_features['srcip'] = data_features['srcip'].apply(lambda x: int(x, 16))\n",
    "\n",
    "\n",
    "    # IP Destination Address\n",
    "    data_features['dstip'] = data_features['dstip'].apply(lambda x: x.split(\".\")[-1])\n",
    "    data_features['dstip'] = data_features['dstip'].apply(lambda x: x.split(\":\")[-1])\n",
    "    data_features['dstip'] = data_features['dstip'].apply(lambda x: int(x, 16))\n",
    "\n",
    "    # Ports\n",
    "    data_features['sport'] = data_features['sport'].apply(lambda x: x.replace('0x','') if \"0x\" in str(x) else x)\n",
    "    data_features['dsport'] = data_features['dsport'].apply(lambda x: x.replace('0x','') if \"0x\" in str(x) else x)\n",
    "\n",
    "    # Convert all ports with 0 decimal, and HEX to DEC\n",
    "    data_features['sport'] = data_features['sport'].apply(lambda x: str(x)[:-2] if str(x)[-2:] == '.0' else str(x))\n",
    "    data_features['sport'] = data_features['sport'].apply(lambda x: -1 if str(x).isalpha()==True else int(x,16))\n",
    "\n",
    "    data_features['dsport'] = data_features['dsport'].apply(lambda x: str(x)[:-2] if str(x)[-2:] == '.0' else str(x))\n",
    "    data_features['dsport'] = data_features['dsport'].apply(lambda x: -1 if str(x).isalpha()==True else int(x,16))\n",
    "\n",
    "    # Convert field to int format\n",
    "    data_features['srcip'] = data_features['srcip'].astype(int)\n",
    "    data_features['sport'] = data_features['sport'].astype(int)\n",
    "    data_features['dstip'] = data_features['dstip'].astype(int)\n",
    "    data_features['dsport'] = data_features['dsport'].astype(int)\n",
    "\n",
    "    # Convert some fields to logarithmic\n",
    "    log1p_col = ['dur', 'sbytes', 'dbytes', 'spkts']\n",
    "\n",
    "    for col in log1p_col:\n",
    "        data_features[col] = data_features[col].apply(np.log1p)\n",
    "\n",
    "    # Transform to One Hot Encoding the Categories - normal, attack\n",
    "    data_labels.insert(0, 'normal', data['attack_cat'].replace('normal', 1).replace(['dos', 'reconnaissance', 'generic', 'exploits', 'worms', 'fuzzers', 'analysis', 'backdoor', 'shellcode'], 0))\n",
    "    data_labels.insert(1, 'attack', data['attack_cat'].replace(['dos', 'reconnaissance', 'generic', 'exploits', 'worms', 'fuzzers', 'analysis', 'backdoor', 'shellcode'], 1).replace('normal', 0))\n",
    "\n",
    "    data_labels = pd.get_dummies(data_labels)\n",
    "\n",
    "    # Transform to One hot encoding - FEATURES\n",
    "    data_features=pd.get_dummies(data_features)\n",
    "\n",
    "    # Value given for the missing columns\n",
    "    auxCol=0\n",
    "\n",
    "    # As we are using different datasets that might not have all representations, we are going to detect and add the missing columns \n",
    "    # The columns that can have types are: proto and state: need to check if all representations are done \n",
    "    state_cols = [col for col in data_features if col.startswith('state_')]\n",
    "    proto_cols = [col for col in data_features if col.startswith('proto_')]\n",
    "    \n",
    "    # Check if all columns are present\n",
    "    if 'state_PAR' not in state_cols:\n",
    "        data_features.insert(data_features.shape[1], 'state_PAR', auxCol, True)\n",
    "    if 'state_ACC' not in state_cols: \n",
    "        data_features.insert(data_features.shape[1], 'state_ACC', auxCol, True)\n",
    "    if 'state_ECO' not in state_cols:\n",
    "        data_features.insert(data_features.shape[1], 'state_ECO', auxCol, True)\n",
    "    if 'state_CON' not in state_cols:\n",
    "        data_features.insert(data_features.shape[1], 'state_CON', auxCol, True)\n",
    "    if 'state_FIN' not in state_cols:\n",
    "        data_features.insert(data_features.shape[1], 'state_FIN', auxCol, True)\n",
    "    if 'state_INT' not in state_cols:\n",
    "        data_features.insert(data_features.shape[1], 'state_INT', auxCol, True)\n",
    "    if 'state_REQ' not in state_cols:\n",
    "        data_features.insert(data_features.shape[1], 'state_REQ', auxCol, True)\n",
    "    if 'state_RST' not in state_cols:\n",
    "        data_features.insert(data_features.shape[1], 'state_RST', auxCol, True)\n",
    "    if 'proto_igmp' not in proto_cols:\n",
    "        data_features.insert(data_features.shape[1], 'proto_igmp', auxCol, True)\n",
    "    if 'proto_arp' not in proto_cols:\n",
    "        data_features.insert(data_features.shape[1], 'proto_arp', auxCol, True)\n",
    "    if 'proto_icmp' not in proto_cols:\n",
    "        data_features.insert(data_features.shape[1], 'proto_icmp', auxCol, True)\n",
    "    if 'proto_udp' not in proto_cols:\n",
    "        data_features.insert(data_features.shape[1], 'proto_udp', auxCol, True)\n",
    "    if 'proto_tcp' not in proto_cols:\n",
    "        data_features.insert(data_features.shape[1], 'proto_tcp', auxCol, True)\n",
    "\n",
    "    # Normalize all data features\n",
    "    data_features = StandardScaler().fit_transform(data_features)\n",
    "\n",
    "    #Add dimension to data features\n",
    "    data_features = np.expand_dims(data_features, axis=2)\n",
    "    data_features = np.expand_dims(data_features, axis=3)\n",
    "\n",
    "    x = data_features\n",
    "    y = data_labels.to_numpy()\n",
    "\n",
    "    return x, y"
   ]
  },
  {
   "cell_type": "code",
   "execution_count": 3,
   "metadata": {},
   "outputs": [],
   "source": [
    "# Model building and definition\n",
    "def build_model(input_shape):\n",
    "    model = models.Sequential()\n",
    "    model.add(layers.Conv2D(filters=32,  input_shape=input_shape, kernel_size=(1,10), activation='relu', padding='same'))\n",
    "    model.add(layers.MaxPooling2D(pool_size=(1, 1), padding='same'))\n",
    "    model.add(layers.Conv2D(filters=64,  input_shape=input_shape, kernel_size=(1,10), activation='relu', padding='same'))\n",
    "    model.add(layers.MaxPooling2D(pool_size=(1, 1), padding='same'))\n",
    "    model.add(layers.Flatten())\n",
    "    model.add(Dense(444, activation='relu'))\n",
    "    model.add(Dense(2, activation='softmax'))\n",
    "\n",
    "    return model "
   ]
  },
  {
   "cell_type": "code",
   "execution_count": 4,
   "metadata": {},
   "outputs": [],
   "source": [
    "# Returns values of loss, accuracy, f1, precision and recall of model evaluating with test dataset \n",
    "def evaluation(model, x, y): \n",
    "    loss, accuracy = model.evaluate(x, y)\n",
    "    y_pred = model.predict(x)\n",
    "    y_pred = np.argmax(y_pred, axis=1)\n",
    "    y = np.argmax(y, axis=1)\n",
    "    report = classification_report(y, y_pred, target_names=['normal', 'attack'], output_dict=True)\n",
    "    # Obtain f1, precision and recall from the report\n",
    "    f1 = report['weighted avg']['f1-score']\n",
    "    precision = report['weighted avg']['precision']\n",
    "    recall = report['weighted avg']['recall']\n",
    "    return loss, accuracy, f1, precision, recall"
   ]
  },
  {
   "cell_type": "markdown",
   "metadata": {},
   "source": [
    "### Experiments with datasets"
   ]
  },
  {
   "cell_type": "markdown",
   "metadata": {},
   "source": [
    "#### Dataset 3A"
   ]
  },
  {
   "cell_type": "code",
   "execution_count": 5,
   "metadata": {},
   "outputs": [
    {
     "name": "stderr",
     "output_type": "stream",
     "text": [
      "C:\\Users\\UX430\\AppData\\Local\\Temp/ipykernel_5216/4261398225.py:2: DtypeWarning: Columns (4) have mixed types. Specify dtype option on import or set low_memory=False.\n",
      "  training1 = pd.read_csv('C:/Users/UX430/Documents/thesis/datasets/UNSW-NB15/UNSW-NB15-Train-Basic-Filt3A-Part1.csv')\n",
      "C:\\Users\\UX430\\AppData\\Local\\Temp/ipykernel_5216/4261398225.py:3: DtypeWarning: Columns (4) have mixed types. Specify dtype option on import or set low_memory=False.\n",
      "  training2 = pd.read_csv('C:/Users/UX430/Documents/thesis/datasets/UNSW-NB15/UNSW-NB15-Train-Basic-Filt3A-Part2.csv')\n",
      "C:\\Users\\UX430\\AppData\\Local\\Temp/ipykernel_5216/4261398225.py:4: DtypeWarning: Columns (4) have mixed types. Specify dtype option on import or set low_memory=False.\n",
      "  training3 = pd.read_csv('C:/Users/UX430/Documents/thesis/datasets/UNSW-NB15/UNSW-NB15-Train-Basic-Filt3A-Part3.csv')\n",
      "C:\\Users\\UX430\\AppData\\Local\\Temp/ipykernel_5216/4261398225.py:5: DtypeWarning: Columns (4) have mixed types. Specify dtype option on import or set low_memory=False.\n",
      "  test_basic = pd.read_csv('C:/Users/UX430/Documents/thesis/datasets/UNSW-NB15/UNSW-NB15-Test-Basic.csv')\n"
     ]
    }
   ],
   "source": [
    "# Load training datasets and testing datasets \n",
    "training1 = pd.read_csv('C:/Users/UX430/Documents/thesis/datasets/UNSW-NB15/UNSW-NB15-Train-Basic-Filt3A-Part1.csv')\n",
    "training2 = pd.read_csv('C:/Users/UX430/Documents/thesis/datasets/UNSW-NB15/UNSW-NB15-Train-Basic-Filt3A-Part2.csv')\n",
    "training3 = pd.read_csv('C:/Users/UX430/Documents/thesis/datasets/UNSW-NB15/UNSW-NB15-Train-Basic-Filt3A-Part3.csv')\n",
    "test_basic = pd.read_csv('C:/Users/UX430/Documents/thesis/datasets/UNSW-NB15/UNSW-NB15-Test-Basic.csv')\n",
    "test_plus = pd.read_csv('C:/Users/UX430/Documents/thesis/datasets/UNSW-NB15/UNSW-NB15-Test+.csv')"
   ]
  },
  {
   "cell_type": "code",
   "execution_count": 6,
   "metadata": {},
   "outputs": [],
   "source": [
    "# Define \n",
    "node_datasets = [training1, training2, training3]\n",
    "num_nodes = 3\n",
    "global_updates = 3\n",
    "\n",
    "# Define model training parameters\n",
    "loss_fct = \"categorical_crossentropy\"\n",
    "metrics = ['accuracy']\n",
    "local_epochs = 5"
   ]
  },
  {
   "cell_type": "code",
   "execution_count": 7,
   "metadata": {},
   "outputs": [],
   "source": [
    "def train_local_model(model, node, x_train, y_train): \n",
    "    filepath = 'C:/Users/UX430/Documents/thesis/code/models/node'+str(node)+'id1900.hdf5'\n",
    "    callbacks = [\n",
    "            keras.callbacks.EarlyStopping(\n",
    "                monitor = 'val_loss', # Use accuracy to monitor the model\n",
    "                patience = 10 # Stop after 10 steps with lower accuracy\n",
    "            ),\n",
    "            keras.callbacks.ModelCheckpoint(\n",
    "                filepath = filepath, # file where the checkpoint is saved\n",
    "                monitor = 'val_loss', # Don't overwrite the saved model unless val_loss is worse\n",
    "                save_best_only = True)]# Only save model if it is the best\n",
    "    optimizer = keras.optimizers.Adam(learning_rate=5e-4)\n",
    "    model.compile(optimizer=optimizer, loss=loss_fct, metrics=metrics)\n",
    "    history = model.fit(x_train, y_train, epochs=local_epochs, validation_split=0.2, callbacks=callbacks, batch_size=2048)\n",
    "    return model, history.history['loss'], history.history['accuracy'], history.history['val_loss'], history.history['val_accuracy']"
   ]
  },
  {
   "cell_type": "code",
   "execution_count": 8,
   "metadata": {},
   "outputs": [],
   "source": [
    "def aggregate(w_list): \n",
    "    avg_w = np.mean(w_list, axis=0)\n",
    "    return avg_w"
   ]
  },
  {
   "cell_type": "code",
   "execution_count": 9,
   "metadata": {},
   "outputs": [],
   "source": [
    "global_model = build_model((24,1,1))"
   ]
  },
  {
   "cell_type": "code",
   "execution_count": 13,
   "metadata": {},
   "outputs": [],
   "source": [
    "x1, y1 = preprocessing(training1)\n",
    "x2, y2 = preprocessing(training2)\n",
    "x3, y3 = preprocessing(training3)\n",
    "xbasic, ybasic = preprocessing(test_basic)\n",
    "xplus, yplus = preprocessing(test_plus)"
   ]
  },
  {
   "cell_type": "code",
   "execution_count": 14,
   "metadata": {},
   "outputs": [
    {
     "name": "stdout",
     "output_type": "stream",
     "text": [
      "Epoch 1/5\n",
      "51/51 [==============================] - 9s 171ms/step - loss: 0.0159 - accuracy: 0.9952 - val_loss: 0.9235 - val_accuracy: 0.5644\n",
      "Epoch 2/5\n",
      "51/51 [==============================] - 8s 164ms/step - loss: 0.0151 - accuracy: 0.9956 - val_loss: 0.8882 - val_accuracy: 0.5842\n",
      "Epoch 3/5\n",
      "51/51 [==============================] - 8s 163ms/step - loss: 0.0148 - accuracy: 0.9958 - val_loss: 0.8259 - val_accuracy: 0.6175\n",
      "Epoch 4/5\n",
      "51/51 [==============================] - 8s 155ms/step - loss: 0.0144 - accuracy: 0.9957 - val_loss: 0.9242 - val_accuracy: 0.6018\n",
      "Epoch 5/5\n",
      "51/51 [==============================] - 8s 157ms/step - loss: 0.0143 - accuracy: 0.9959 - val_loss: 0.9261 - val_accuracy: 0.5938\n",
      "Epoch 1/5\n",
      "51/51 [==============================] - 9s 169ms/step - loss: 0.0138 - accuracy: 0.9959 - val_loss: 0.1039 - val_accuracy: 0.9557\n",
      "Epoch 2/5\n",
      "51/51 [==============================] - 8s 156ms/step - loss: 0.0132 - accuracy: 0.9959 - val_loss: 0.1672 - val_accuracy: 0.9275\n",
      "Epoch 3/5\n",
      "51/51 [==============================] - 8s 160ms/step - loss: 0.0131 - accuracy: 0.9959 - val_loss: 0.1353 - val_accuracy: 0.9462\n",
      "Epoch 4/5\n",
      "51/51 [==============================] - 8s 164ms/step - loss: 0.0128 - accuracy: 0.9960 - val_loss: 0.1328 - val_accuracy: 0.9451\n",
      "Epoch 5/5\n",
      "51/51 [==============================] - 8s 162ms/step - loss: 0.0125 - accuracy: 0.9961 - val_loss: 0.1592 - val_accuracy: 0.9353\n",
      "Epoch 1/5\n",
      "51/51 [==============================] - 9s 168ms/step - loss: 0.0120 - accuracy: 0.9963 - val_loss: 0.2142 - val_accuracy: 0.9116\n",
      "Epoch 2/5\n",
      "51/51 [==============================] - 8s 161ms/step - loss: 0.0118 - accuracy: 0.9961 - val_loss: 0.2018 - val_accuracy: 0.9169\n",
      "Epoch 3/5\n",
      "51/51 [==============================] - 9s 173ms/step - loss: 0.0115 - accuracy: 0.9963 - val_loss: 0.1418 - val_accuracy: 0.9367\n",
      "Epoch 4/5\n",
      "51/51 [==============================] - 8s 162ms/step - loss: 0.0115 - accuracy: 0.9964 - val_loss: 0.1611 - val_accuracy: 0.9291\n",
      "Epoch 5/5\n",
      "51/51 [==============================] - 8s 160ms/step - loss: 0.0110 - accuracy: 0.9964 - val_loss: 0.2298 - val_accuracy: 0.9085\n",
      "  27/4279 [..............................] - ETA: 16s - loss: 0.2653 - accuracy: 0.9282"
     ]
    },
    {
     "name": "stderr",
     "output_type": "stream",
     "text": [
      "c:\\Users\\UX430\\anaconda3\\lib\\site-packages\\numpy\\core\\_asarray.py:171: VisibleDeprecationWarning: Creating an ndarray from ragged nested sequences (which is a list-or-tuple of lists-or-tuples-or ndarrays with different lengths or shapes) is deprecated. If you meant to do this, you must specify 'dtype=object' when creating the ndarray.\n",
      "  return array(a, dtype, copy=False, order=order, subok=True)\n"
     ]
    },
    {
     "name": "stdout",
     "output_type": "stream",
     "text": [
      "4279/4279 [==============================] - 19s 4ms/step - loss: 0.2748 - accuracy: 0.9307\n",
      "1721/1721 [==============================] - 8s 5ms/step - loss: 0.6377 - accuracy: 0.7937\n",
      "Epoch 1/5\n",
      "51/51 [==============================] - 8s 156ms/step - loss: 0.0135 - accuracy: 0.9960 - val_loss: 1.4425 - val_accuracy: 0.5123\n",
      "Epoch 2/5\n",
      "51/51 [==============================] - 8s 150ms/step - loss: 0.0132 - accuracy: 0.9963 - val_loss: 0.9709 - val_accuracy: 0.6134\n",
      "Epoch 3/5\n",
      "51/51 [==============================] - 8s 163ms/step - loss: 0.0127 - accuracy: 0.9963 - val_loss: 1.2343 - val_accuracy: 0.5665\n",
      "Epoch 4/5\n",
      "51/51 [==============================] - 8s 161ms/step - loss: 0.0126 - accuracy: 0.9963 - val_loss: 0.9718 - val_accuracy: 0.6283\n",
      "Epoch 5/5\n",
      "51/51 [==============================] - 8s 152ms/step - loss: 0.0120 - accuracy: 0.9965 - val_loss: 1.0008 - val_accuracy: 0.6364\n",
      "Epoch 1/5\n",
      "51/51 [==============================] - 9s 173ms/step - loss: 0.0123 - accuracy: 0.9962 - val_loss: 0.1488 - val_accuracy: 0.9373\n",
      "Epoch 2/5\n",
      "51/51 [==============================] - 9s 180ms/step - loss: 0.0110 - accuracy: 0.9963 - val_loss: 0.1065 - val_accuracy: 0.9602\n",
      "Epoch 3/5\n",
      "51/51 [==============================] - 9s 169ms/step - loss: 0.0109 - accuracy: 0.9965 - val_loss: 0.1408 - val_accuracy: 0.9476\n",
      "Epoch 4/5\n",
      "51/51 [==============================] - 9s 171ms/step - loss: 0.0108 - accuracy: 0.9965 - val_loss: 0.0792 - val_accuracy: 0.9752\n",
      "Epoch 5/5\n",
      "51/51 [==============================] - 9s 175ms/step - loss: 0.0107 - accuracy: 0.9965 - val_loss: 0.0850 - val_accuracy: 0.9698\n",
      "Epoch 1/5\n",
      "51/51 [==============================] - 9s 171ms/step - loss: 0.0102 - accuracy: 0.9965 - val_loss: 0.2070 - val_accuracy: 0.9209\n",
      "Epoch 2/5\n",
      "51/51 [==============================] - 9s 178ms/step - loss: 0.0105 - accuracy: 0.9964 - val_loss: 0.3205 - val_accuracy: 0.8790\n",
      "Epoch 3/5\n",
      "51/51 [==============================] - 8s 156ms/step - loss: 0.0099 - accuracy: 0.9967 - val_loss: 0.2429 - val_accuracy: 0.9042\n",
      "Epoch 4/5\n",
      "51/51 [==============================] - 8s 150ms/step - loss: 0.0096 - accuracy: 0.9968 - val_loss: 0.2477 - val_accuracy: 0.9058\n",
      "Epoch 5/5\n",
      "51/51 [==============================] - 8s 151ms/step - loss: 0.0099 - accuracy: 0.9967 - val_loss: 0.4068 - val_accuracy: 0.8457\n",
      "  33/4279 [..............................] - ETA: 13s - loss: 0.3901 - accuracy: 0.7509"
     ]
    },
    {
     "name": "stderr",
     "output_type": "stream",
     "text": [
      "c:\\Users\\UX430\\anaconda3\\lib\\site-packages\\numpy\\core\\_asarray.py:171: VisibleDeprecationWarning: Creating an ndarray from ragged nested sequences (which is a list-or-tuple of lists-or-tuples-or ndarrays with different lengths or shapes) is deprecated. If you meant to do this, you must specify 'dtype=object' when creating the ndarray.\n",
      "  return array(a, dtype, copy=False, order=order, subok=True)\n"
     ]
    },
    {
     "name": "stdout",
     "output_type": "stream",
     "text": [
      "4279/4279 [==============================] - 29s 7ms/step - loss: 0.3943 - accuracy: 0.7619\n",
      "1721/1721 [==============================] - 10s 6ms/step - loss: 0.9522 - accuracy: 0.6915\n",
      "Epoch 1/5\n",
      "51/51 [==============================] - 7s 141ms/step - loss: 0.0113 - accuracy: 0.9966 - val_loss: 0.8813 - val_accuracy: 0.6539\n",
      "Epoch 2/5\n",
      "51/51 [==============================] - 7s 141ms/step - loss: 0.0108 - accuracy: 0.9970 - val_loss: 1.2954 - val_accuracy: 0.5672\n",
      "Epoch 3/5\n",
      "51/51 [==============================] - 7s 139ms/step - loss: 0.0109 - accuracy: 0.9968 - val_loss: 1.4050 - val_accuracy: 0.5382\n",
      "Epoch 4/5\n",
      "51/51 [==============================] - 7s 138ms/step - loss: 0.0107 - accuracy: 0.9969 - val_loss: 1.3777 - val_accuracy: 0.5587\n",
      "Epoch 5/5\n",
      "51/51 [==============================] - 7s 140ms/step - loss: 0.0110 - accuracy: 0.9971 - val_loss: 1.1740 - val_accuracy: 0.6198\n",
      "Epoch 1/5\n",
      "51/51 [==============================] - 7s 144ms/step - loss: 0.0105 - accuracy: 0.9966 - val_loss: 0.0910 - val_accuracy: 0.9679\n",
      "Epoch 2/5\n",
      "51/51 [==============================] - 7s 143ms/step - loss: 0.0096 - accuracy: 0.9966 - val_loss: 0.1197 - val_accuracy: 0.9549\n",
      "Epoch 3/5\n",
      "51/51 [==============================] - 8s 152ms/step - loss: 0.0092 - accuracy: 0.9971 - val_loss: 0.1113 - val_accuracy: 0.9590\n",
      "Epoch 4/5\n",
      "51/51 [==============================] - 8s 149ms/step - loss: 0.0091 - accuracy: 0.9968 - val_loss: 0.0954 - val_accuracy: 0.9653\n",
      "Epoch 5/5\n",
      "51/51 [==============================] - 8s 154ms/step - loss: 0.0096 - accuracy: 0.9966 - val_loss: 0.1583 - val_accuracy: 0.9455\n",
      "Epoch 1/5\n",
      "51/51 [==============================] - 9s 174ms/step - loss: 0.0092 - accuracy: 0.9968 - val_loss: 0.2380 - val_accuracy: 0.9123\n",
      "Epoch 2/5\n",
      "51/51 [==============================] - 9s 167ms/step - loss: 0.0090 - accuracy: 0.9969 - val_loss: 0.2440 - val_accuracy: 0.9090\n",
      "Epoch 3/5\n",
      "51/51 [==============================] - 9s 170ms/step - loss: 0.0086 - accuracy: 0.9971 - val_loss: 0.2543 - val_accuracy: 0.9052\n",
      "Epoch 4/5\n",
      "51/51 [==============================] - 9s 167ms/step - loss: 0.0086 - accuracy: 0.9970 - val_loss: 0.4123 - val_accuracy: 0.8470\n",
      "Epoch 5/5\n",
      "51/51 [==============================] - 8s 166ms/step - loss: 0.0091 - accuracy: 0.9970 - val_loss: 0.2655 - val_accuracy: 0.9020\n",
      "  32/4279 [..............................] - ETA: 13s - loss: 0.7855 - accuracy: 0.5801"
     ]
    },
    {
     "name": "stderr",
     "output_type": "stream",
     "text": [
      "c:\\Users\\UX430\\anaconda3\\lib\\site-packages\\numpy\\core\\_asarray.py:171: VisibleDeprecationWarning: Creating an ndarray from ragged nested sequences (which is a list-or-tuple of lists-or-tuples-or ndarrays with different lengths or shapes) is deprecated. If you meant to do this, you must specify 'dtype=object' when creating the ndarray.\n",
      "  return array(a, dtype, copy=False, order=order, subok=True)\n"
     ]
    },
    {
     "name": "stdout",
     "output_type": "stream",
     "text": [
      "4279/4279 [==============================] - 21s 5ms/step - loss: 0.7815 - accuracy: 0.5783\n",
      "1721/1721 [==============================] - 7s 4ms/step - loss: 1.4691 - accuracy: 0.5973\n"
     ]
    }
   ],
   "source": [
    "# Values saved each iteration \n",
    "loss_it = []\n",
    "accuracy_it = []\n",
    "f1_it = []\n",
    "precision_it = []\n",
    "recall_it = []\n",
    "\n",
    "for i in range(global_updates): \n",
    "    w_list = []\n",
    "    for node in range(num_nodes): \n",
    "        cp = global_model # create a copy of the global model\n",
    "        if node == 0:\n",
    "            x, y = x1, y1\n",
    "        elif node == 1:\n",
    "            x, y = x2, y2\n",
    "        else:\n",
    "            x, y = x3, y3\n",
    "        local_model, local_loss, local_acc, local_val_loss, local_val_acc = train_local_model(cp, node, x, y)\n",
    "        w_list.append(local_model.get_weights())\n",
    "\n",
    "    avg_w = aggregate(w_list)\n",
    "    global_model.set_weights(avg_w) # apply gradients to global model\n",
    "    loss_basic, accuracy_basic, f1_basic, precision_basic, recall_basic = evaluation(global_model, xbasic, ybasic) # Evaluate with test basic to know progress\n",
    "    loss_plus, accuracy_plus, f1_plus, precision_plus, recall_plus = evaluation(global_model, xplus, yplus) # Evaluate with test plus to know progress\n",
    "\n",
    "    loss_it.append([loss_basic, loss_plus])\n",
    "    accuracy_it.append([accuracy_basic, accuracy_plus])\n",
    "    f1_it.append([f1_basic, f1_plus])\n",
    "    precision_it.append([precision_basic, precision_plus])\n",
    "    recall_it.append([recall_basic, recall_plus])\n",
    "\n",
    "\n",
    "global_model.save('C:/Users/UX430/Documents/thesis/code/models/id1900.hdf5')"
   ]
  },
  {
   "cell_type": "code",
   "execution_count": 15,
   "metadata": {},
   "outputs": [
    {
     "name": "stdout",
     "output_type": "stream",
     "text": [
      "Loss for iterations:  [[0.2747878432273865, 0.6377307772636414], [0.3942764103412628, 0.952224850654602], [0.7815492153167725, 1.4691256284713745]]\n",
      "Accuracy for iterations:  [[0.9307458400726318, 0.793740451335907], [0.7619270086288452, 0.6915462017059326], [0.578266978263855, 0.5973079800605774]]\n",
      "F1 for iterations:  [[0.9302972579774206, 0.7797400877371302], [0.7450686309044939, 0.644266187379188], [0.47160266863205885, 0.48299128383949]]\n",
      "Precision for iterations:  [[0.9358871805179806, 0.8402202577709154], [0.8273035500292377, 0.7878036875045736], [0.7383901293036254, 0.7427696366275242]]\n",
      "Recall for iterations:  [[0.9307458587747232, 0.7937404635617235], [0.76192702094715, 0.6915461745259028], [0.5782669666072628, 0.5973079997093657]]\n"
     ]
    }
   ],
   "source": [
    "print(\"Loss for iterations: \", loss_it)\n",
    "print(\"Accuracy for iterations: \", accuracy_it)\n",
    "print(\"F1 for iterations: \", f1_it)\n",
    "print(\"Precision for iterations: \", precision_it)\n",
    "print(\"Recall for iterations: \", recall_it)"
   ]
  },
  {
   "cell_type": "markdown",
   "metadata": {},
   "source": [
    "#### Dataset 3B "
   ]
  },
  {
   "cell_type": "code",
   "execution_count": 16,
   "metadata": {},
   "outputs": [
    {
     "name": "stderr",
     "output_type": "stream",
     "text": [
      "C:\\Users\\UX430\\AppData\\Local\\Temp/ipykernel_5216/1530530892.py:3: DtypeWarning: Columns (4) have mixed types. Specify dtype option on import or set low_memory=False.\n",
      "  training2 = pd.read_csv('C:/Users/UX430/Documents/thesis/datasets/UNSW-NB15/UNSW-NB15-Train-Basic-Filt3B-Part2.csv')\n"
     ]
    }
   ],
   "source": [
    "# Load training datasets and testing datasets \n",
    "training1 = pd.read_csv('C:/Users/UX430/Documents/thesis/datasets/UNSW-NB15/UNSW-NB15-Train-Basic-Filt3B-Part1.csv')\n",
    "training2 = pd.read_csv('C:/Users/UX430/Documents/thesis/datasets/UNSW-NB15/UNSW-NB15-Train-Basic-Filt3B-Part2.csv')\n",
    "training3 = pd.read_csv('C:/Users/UX430/Documents/thesis/datasets/UNSW-NB15/UNSW-NB15-Train-Basic-Filt3B-Part3.csv')"
   ]
  },
  {
   "cell_type": "code",
   "execution_count": 17,
   "metadata": {},
   "outputs": [],
   "source": [
    "# Define \n",
    "node_datasets = [training1, training2, training3]\n",
    "num_nodes = 3\n",
    "global_updates = 3\n",
    "\n",
    "# Define model training parameters\n",
    "loss_fct = \"categorical_crossentropy\"\n",
    "metrics = ['accuracy']\n",
    "local_epochs = 5"
   ]
  },
  {
   "cell_type": "code",
   "execution_count": 18,
   "metadata": {},
   "outputs": [],
   "source": [
    "def train_local_model(model, node, x_train, y_train): \n",
    "    filepath = 'C:/Users/UX430/Documents/thesis/code/models/node'+str(node)+'id1901.hdf5'\n",
    "    callbacks = [\n",
    "            keras.callbacks.EarlyStopping(\n",
    "                monitor = 'val_loss', # Use accuracy to monitor the model\n",
    "                patience = 10 # Stop after 10 steps with lower accuracy\n",
    "            ),\n",
    "            keras.callbacks.ModelCheckpoint(\n",
    "                filepath = filepath, # file where the checkpoint is saved\n",
    "                monitor = 'val_loss', # Don't overwrite the saved model unless val_loss is worse\n",
    "                save_best_only = True)]# Only save model if it is the best\n",
    "    optimizer = keras.optimizers.Adam(learning_rate=5e-4)\n",
    "    model.compile(optimizer=optimizer, loss=loss_fct, metrics=metrics)\n",
    "    history = model.fit(x_train, y_train, epochs=local_epochs, validation_split=0.2, callbacks=callbacks, batch_size=2048)\n",
    "    return model, history.history['loss'], history.history['accuracy'], history.history['val_loss'], history.history['val_accuracy']"
   ]
  },
  {
   "cell_type": "code",
   "execution_count": 19,
   "metadata": {},
   "outputs": [],
   "source": [
    "def aggregate(w_list): \n",
    "    avg_w = np.mean(w_list, axis=0)\n",
    "    return avg_w"
   ]
  },
  {
   "cell_type": "code",
   "execution_count": 20,
   "metadata": {},
   "outputs": [],
   "source": [
    "global_model = build_model((24,1,1))"
   ]
  },
  {
   "cell_type": "code",
   "execution_count": 21,
   "metadata": {},
   "outputs": [],
   "source": [
    "x1, y1 = preprocessing(training1)\n",
    "x2, y2 = preprocessing(training2)\n",
    "x3, y3 = preprocessing(training3)\n",
    "xbasic, ybasic = preprocessing(test_basic)\n",
    "xplus, yplus = preprocessing(test_plus)"
   ]
  },
  {
   "cell_type": "code",
   "execution_count": 22,
   "metadata": {},
   "outputs": [
    {
     "name": "stdout",
     "output_type": "stream",
     "text": [
      "Epoch 1/5\n",
      "51/51 [==============================] - 11s 219ms/step - loss: 0.1451 - accuracy: 0.9947 - val_loss: 2.6906e-05 - val_accuracy: 1.0000\n",
      "Epoch 2/5\n",
      "51/51 [==============================] - 11s 210ms/step - loss: 1.6899e-05 - accuracy: 1.0000 - val_loss: 1.4000e-05 - val_accuracy: 1.0000\n",
      "Epoch 3/5\n",
      "51/51 [==============================] - 11s 214ms/step - loss: 1.3473e-05 - accuracy: 1.0000 - val_loss: 1.2691e-05 - val_accuracy: 1.0000\n",
      "Epoch 4/5\n",
      "51/51 [==============================] - 11s 215ms/step - loss: 1.2182e-05 - accuracy: 1.0000 - val_loss: 1.1423e-05 - val_accuracy: 1.0000\n",
      "Epoch 5/5\n",
      "51/51 [==============================] - 11s 211ms/step - loss: 1.0923e-05 - accuracy: 1.0000 - val_loss: 1.0208e-05 - val_accuracy: 1.0000\n",
      "Epoch 1/5\n",
      "51/51 [==============================] - 11s 211ms/step - loss: 1.1348 - accuracy: 0.6250 - val_loss: 0.7937 - val_accuracy: 0.0000e+00\n",
      "Epoch 2/5\n",
      "51/51 [==============================] - 10s 206ms/step - loss: 0.3564 - accuracy: 0.8195 - val_loss: 1.0345 - val_accuracy: 0.8469\n",
      "Epoch 3/5\n",
      "51/51 [==============================] - 11s 209ms/step - loss: 0.1765 - accuracy: 0.9868 - val_loss: 0.3088 - val_accuracy: 0.8867\n",
      "Epoch 4/5\n",
      "51/51 [==============================] - 10s 202ms/step - loss: 0.0342 - accuracy: 0.9918 - val_loss: 0.2620 - val_accuracy: 0.8876\n",
      "Epoch 5/5\n",
      "51/51 [==============================] - 11s 212ms/step - loss: 0.0266 - accuracy: 0.9921 - val_loss: 0.1514 - val_accuracy: 0.9123\n",
      "Epoch 1/5\n",
      "36/36 [==============================] - 8s 221ms/step - loss: 0.1757 - accuracy: 0.9444 - val_loss: 3.7272e-04 - val_accuracy: 1.0000\n",
      "Epoch 2/5\n",
      "36/36 [==============================] - 8s 215ms/step - loss: 2.1559e-04 - accuracy: 1.0000 - val_loss: 1.6824e-04 - val_accuracy: 1.0000\n",
      "Epoch 3/5\n",
      "36/36 [==============================] - 8s 211ms/step - loss: 1.3112e-04 - accuracy: 1.0000 - val_loss: 1.0610e-04 - val_accuracy: 1.0000\n",
      "Epoch 4/5\n",
      "36/36 [==============================] - 8s 217ms/step - loss: 7.9556e-05 - accuracy: 1.0000 - val_loss: 6.3287e-05 - val_accuracy: 1.0000\n",
      "Epoch 5/5\n",
      "36/36 [==============================] - 8s 209ms/step - loss: 4.7325e-05 - accuracy: 1.0000 - val_loss: 3.8638e-05 - val_accuracy: 1.0000\n",
      "  14/4279 [..............................] - ETA: 16s - loss: 0.2434 - accuracy: 0.9754"
     ]
    },
    {
     "name": "stderr",
     "output_type": "stream",
     "text": [
      "c:\\Users\\UX430\\anaconda3\\lib\\site-packages\\numpy\\core\\_asarray.py:171: VisibleDeprecationWarning: Creating an ndarray from ragged nested sequences (which is a list-or-tuple of lists-or-tuples-or ndarrays with different lengths or shapes) is deprecated. If you meant to do this, you must specify 'dtype=object' when creating the ndarray.\n",
      "  return array(a, dtype, copy=False, order=order, subok=True)\n"
     ]
    },
    {
     "name": "stdout",
     "output_type": "stream",
     "text": [
      "4279/4279 [==============================] - 33s 8ms/step - loss: 0.2652 - accuracy: 0.9643\n",
      "1721/1721 [==============================] - 15s 8ms/step - loss: 0.3150 - accuracy: 0.9348\n",
      "Epoch 1/5\n",
      "51/51 [==============================] - 12s 228ms/step - loss: 0.0230 - accuracy: 0.9946 - val_loss: 1.7467e-05 - val_accuracy: 1.0000\n",
      "Epoch 2/5\n",
      "51/51 [==============================] - 10s 187ms/step - loss: 1.5220e-05 - accuracy: 1.0000 - val_loss: 1.4027e-05 - val_accuracy: 1.0000\n",
      "Epoch 3/5\n",
      "51/51 [==============================] - 12s 230ms/step - loss: 1.3226e-05 - accuracy: 1.0000 - val_loss: 1.2278e-05 - val_accuracy: 1.0000\n",
      "Epoch 4/5\n",
      "51/51 [==============================] - 11s 213ms/step - loss: 1.1300e-05 - accuracy: 1.0000 - val_loss: 1.0133e-05 - val_accuracy: 1.0000\n",
      "Epoch 5/5\n",
      "51/51 [==============================] - 8s 156ms/step - loss: 8.9546e-06 - accuracy: 1.0000 - val_loss: 7.6840e-06 - val_accuracy: 1.0000\n",
      "Epoch 1/5\n",
      "51/51 [==============================] - 8s 154ms/step - loss: 0.3452 - accuracy: 0.9229 - val_loss: 0.3366 - val_accuracy: 0.8853\n",
      "Epoch 2/5\n",
      "51/51 [==============================] - 8s 150ms/step - loss: 0.0340 - accuracy: 0.9924 - val_loss: 0.2269 - val_accuracy: 0.8871\n",
      "Epoch 3/5\n",
      "51/51 [==============================] - 8s 157ms/step - loss: 0.0280 - accuracy: 0.9925 - val_loss: 0.1990 - val_accuracy: 0.8893\n",
      "Epoch 4/5\n",
      "51/51 [==============================] - 8s 154ms/step - loss: 0.0259 - accuracy: 0.9924 - val_loss: 0.1884 - val_accuracy: 0.8900\n",
      "Epoch 5/5\n",
      "51/51 [==============================] - 8s 163ms/step - loss: 0.0246 - accuracy: 0.9924 - val_loss: 0.1705 - val_accuracy: 0.8932\n",
      "Epoch 1/5\n",
      "36/36 [==============================] - 6s 158ms/step - loss: 0.1589 - accuracy: 0.9501 - val_loss: 3.1861e-04 - val_accuracy: 1.0000\n",
      "Epoch 2/5\n",
      "36/36 [==============================] - 6s 163ms/step - loss: 2.6807e-04 - accuracy: 1.0000 - val_loss: 1.8197e-04 - val_accuracy: 1.0000\n",
      "Epoch 3/5\n",
      "36/36 [==============================] - 6s 159ms/step - loss: 2.0330e-04 - accuracy: 1.0000 - val_loss: 1.5362e-04 - val_accuracy: 1.0000\n",
      "Epoch 4/5\n",
      "36/36 [==============================] - 6s 163ms/step - loss: 1.6747e-04 - accuracy: 1.0000 - val_loss: 1.3117e-04 - val_accuracy: 1.0000\n",
      "Epoch 5/5\n",
      "36/36 [==============================] - 6s 159ms/step - loss: 1.3876e-04 - accuracy: 1.0000 - val_loss: 1.1261e-04 - val_accuracy: 1.0000\n",
      "  25/4279 [..............................] - ETA: 17s - loss: 0.2403 - accuracy: 0.9062"
     ]
    },
    {
     "name": "stderr",
     "output_type": "stream",
     "text": [
      "c:\\Users\\UX430\\anaconda3\\lib\\site-packages\\numpy\\core\\_asarray.py:171: VisibleDeprecationWarning: Creating an ndarray from ragged nested sequences (which is a list-or-tuple of lists-or-tuples-or ndarrays with different lengths or shapes) is deprecated. If you meant to do this, you must specify 'dtype=object' when creating the ndarray.\n",
      "  return array(a, dtype, copy=False, order=order, subok=True)\n"
     ]
    },
    {
     "name": "stdout",
     "output_type": "stream",
     "text": [
      "4279/4279 [==============================] - 23s 5ms/step - loss: 0.2592 - accuracy: 0.8862\n",
      "1721/1721 [==============================] - 8s 5ms/step - loss: 0.3254 - accuracy: 0.8530\n",
      "Epoch 1/5\n",
      "51/51 [==============================] - 7s 140ms/step - loss: 0.0365 - accuracy: 0.9842 - val_loss: 3.8351e-05 - val_accuracy: 1.0000\n",
      "Epoch 2/5\n",
      "51/51 [==============================] - 7s 143ms/step - loss: 3.2902e-05 - accuracy: 1.0000 - val_loss: 2.8228e-05 - val_accuracy: 1.0000\n",
      "Epoch 3/5\n",
      "51/51 [==============================] - 7s 142ms/step - loss: 2.6928e-05 - accuracy: 1.0000 - val_loss: 2.3732e-05 - val_accuracy: 1.0000\n",
      "Epoch 4/5\n",
      "51/51 [==============================] - 8s 154ms/step - loss: 2.2613e-05 - accuracy: 1.0000 - val_loss: 2.0042e-05 - val_accuracy: 1.0000\n",
      "Epoch 5/5\n",
      "51/51 [==============================] - 8s 154ms/step - loss: 1.9092e-05 - accuracy: 1.0000 - val_loss: 1.6951e-05 - val_accuracy: 1.0000\n",
      "Epoch 1/5\n",
      "51/51 [==============================] - 9s 170ms/step - loss: 0.1912 - accuracy: 0.9460 - val_loss: 0.2642 - val_accuracy: 0.8857\n",
      "Epoch 2/5\n",
      "51/51 [==============================] - 9s 185ms/step - loss: 0.0266 - accuracy: 0.9923 - val_loss: 0.1840 - val_accuracy: 0.8897\n",
      "Epoch 3/5\n",
      "51/51 [==============================] - 10s 191ms/step - loss: 0.0250 - accuracy: 0.9923 - val_loss: 0.1709 - val_accuracy: 0.8918\n",
      "Epoch 4/5\n",
      "51/51 [==============================] - 9s 183ms/step - loss: 0.0240 - accuracy: 0.9924 - val_loss: 0.1579 - val_accuracy: 0.8957\n",
      "Epoch 5/5\n",
      "51/51 [==============================] - 9s 169ms/step - loss: 0.0230 - accuracy: 0.9926 - val_loss: 0.1549 - val_accuracy: 0.8963\n",
      "Epoch 1/5\n",
      "36/36 [==============================] - 7s 187ms/step - loss: 0.1731 - accuracy: 0.9465 - val_loss: 4.7178e-04 - val_accuracy: 1.0000\n",
      "Epoch 2/5\n",
      "36/36 [==============================] - 6s 162ms/step - loss: 3.8142e-04 - accuracy: 1.0000 - val_loss: 2.2095e-04 - val_accuracy: 1.0000\n",
      "Epoch 3/5\n",
      "36/36 [==============================] - 6s 167ms/step - loss: 2.3953e-04 - accuracy: 1.0000 - val_loss: 1.5047e-04 - val_accuracy: 1.0000\n",
      "Epoch 4/5\n",
      "36/36 [==============================] - 6s 161ms/step - loss: 1.4843e-04 - accuracy: 1.0000 - val_loss: 9.2484e-05 - val_accuracy: 1.0000\n",
      "Epoch 5/5\n",
      "36/36 [==============================] - 6s 158ms/step - loss: 8.5787e-05 - accuracy: 1.0000 - val_loss: 5.5614e-05 - val_accuracy: 1.0000\n",
      "  41/4279 [..............................] - ETA: 10s - loss: 0.3471 - accuracy: 0.8316"
     ]
    },
    {
     "name": "stderr",
     "output_type": "stream",
     "text": [
      "c:\\Users\\UX430\\anaconda3\\lib\\site-packages\\numpy\\core\\_asarray.py:171: VisibleDeprecationWarning: Creating an ndarray from ragged nested sequences (which is a list-or-tuple of lists-or-tuples-or ndarrays with different lengths or shapes) is deprecated. If you meant to do this, you must specify 'dtype=object' when creating the ndarray.\n",
      "  return array(a, dtype, copy=False, order=order, subok=True)\n"
     ]
    },
    {
     "name": "stdout",
     "output_type": "stream",
     "text": [
      "4279/4279 [==============================] - 16s 4ms/step - loss: 0.3658 - accuracy: 0.8265\n",
      "1721/1721 [==============================] - 10s 6ms/step - loss: 0.4162 - accuracy: 0.8060\n"
     ]
    }
   ],
   "source": [
    "# Values saved each iteration \n",
    "loss_it = []\n",
    "accuracy_it = []\n",
    "f1_it = []\n",
    "precision_it = []\n",
    "recall_it = []\n",
    "\n",
    "for i in range(global_updates): \n",
    "    w_list = []\n",
    "    for node in range(num_nodes): \n",
    "        cp = global_model # create a copy of the global model\n",
    "        if node == 0:\n",
    "            x, y = x1, y1\n",
    "        elif node == 1:\n",
    "            x, y = x2, y2\n",
    "        else:\n",
    "            x, y = x3, y3\n",
    "        local_model, local_loss, local_acc, local_val_loss, local_val_acc = train_local_model(cp, node, x, y)\n",
    "        w_list.append(local_model.get_weights())\n",
    "\n",
    "    avg_w = aggregate(w_list)\n",
    "    global_model.set_weights(avg_w) # apply gradients to global model\n",
    "    loss_basic, accuracy_basic, f1_basic, precision_basic, recall_basic = evaluation(global_model, xbasic, ybasic) # Evaluate with test basic to know progress\n",
    "    loss_plus, accuracy_plus, f1_plus, precision_plus, recall_plus = evaluation(global_model, xplus, yplus) # Evaluate with test plus to know progress\n",
    "\n",
    "    loss_it.append([loss_basic, loss_plus])\n",
    "    accuracy_it.append([accuracy_basic, accuracy_plus])\n",
    "    f1_it.append([f1_basic, f1_plus])\n",
    "    precision_it.append([precision_basic, precision_plus])\n",
    "    recall_it.append([recall_basic, recall_plus])\n",
    "\n",
    "\n",
    "global_model.save('C:/Users/UX430/Documents/thesis/code/models/id1901.hdf5')"
   ]
  },
  {
   "cell_type": "code",
   "execution_count": 23,
   "metadata": {},
   "outputs": [
    {
     "name": "stdout",
     "output_type": "stream",
     "text": [
      "Loss for iterations:  [[0.2652433216571808, 0.3149508535861969], [0.2592286169528961, 0.32535701990127563], [0.36579328775405884, 0.41621941328048706]]\n",
      "Accuracy for iterations:  [[0.9642554521560669, 0.9348070621490479], [0.8861929774284363, 0.8529571890830994], [0.8265359997749329, 0.80596524477005]]\n",
      "F1 for iterations:  [[0.9642839717422446, 0.9350281469062873], [0.8854653116027342, 0.8524059562331278], [0.8230039430638397, 0.8032207517486496]]\n",
      "Precision for iterations:  [[0.9653437421564772, 0.9386785368633961], [0.908275547087677, 0.8898185181049664], [0.8731852615179614, 0.8654173815944096]]\n",
      "Recall for iterations:  [[0.9642554558999679, 0.9348070914771489], [0.8861929942446464, 0.8529572040979437], [0.8265359782640451, 0.8059652692000291]]\n"
     ]
    }
   ],
   "source": [
    "print(\"Loss for iterations: \", loss_it)\n",
    "print(\"Accuracy for iterations: \", accuracy_it)\n",
    "print(\"F1 for iterations: \", f1_it)\n",
    "print(\"Precision for iterations: \", precision_it)\n",
    "print(\"Recall for iterations: \", recall_it)"
   ]
  },
  {
   "cell_type": "markdown",
   "metadata": {},
   "source": [
    "#### Dataset 3C"
   ]
  },
  {
   "cell_type": "code",
   "execution_count": 5,
   "metadata": {},
   "outputs": [
    {
     "name": "stderr",
     "output_type": "stream",
     "text": [
      "C:\\Users\\UX430\\AppData\\Local\\Temp/ipykernel_10828/769371098.py:2: DtypeWarning: Columns (4) have mixed types. Specify dtype option on import or set low_memory=False.\n",
      "  training1 = pd.read_csv('C:/Users/UX430/Documents/thesis/datasets/UNSW-NB15/UNSW-NB15-Train-Basic-Filt3C-Part1.csv')\n",
      "C:\\Users\\UX430\\AppData\\Local\\Temp/ipykernel_10828/769371098.py:3: DtypeWarning: Columns (4) have mixed types. Specify dtype option on import or set low_memory=False.\n",
      "  training2 = pd.read_csv('C:/Users/UX430/Documents/thesis/datasets/UNSW-NB15/UNSW-NB15-Train-Basic-Filt3C-Part2.csv')\n",
      "C:\\Users\\UX430\\AppData\\Local\\Temp/ipykernel_10828/769371098.py:4: DtypeWarning: Columns (4) have mixed types. Specify dtype option on import or set low_memory=False.\n",
      "  training3 = pd.read_csv('C:/Users/UX430/Documents/thesis/datasets/UNSW-NB15/UNSW-NB15-Train-Basic-Filt3C-Part3.csv')\n",
      "C:\\Users\\UX430\\AppData\\Local\\Temp/ipykernel_10828/769371098.py:5: DtypeWarning: Columns (4) have mixed types. Specify dtype option on import or set low_memory=False.\n",
      "  test_basic = pd.read_csv('C:/Users/UX430/Documents/thesis/datasets/UNSW-NB15/UNSW-NB15-Test-Basic.csv')\n"
     ]
    }
   ],
   "source": [
    "# Load training datasets and testing datasets \n",
    "training1 = pd.read_csv('C:/Users/UX430/Documents/thesis/datasets/UNSW-NB15/UNSW-NB15-Train-Basic-Filt3C-Part1.csv')\n",
    "training2 = pd.read_csv('C:/Users/UX430/Documents/thesis/datasets/UNSW-NB15/UNSW-NB15-Train-Basic-Filt3C-Part2.csv')\n",
    "training3 = pd.read_csv('C:/Users/UX430/Documents/thesis/datasets/UNSW-NB15/UNSW-NB15-Train-Basic-Filt3C-Part3.csv')\n",
    "test_basic = pd.read_csv('C:/Users/UX430/Documents/thesis/datasets/UNSW-NB15/UNSW-NB15-Test-Basic.csv')\n",
    "test_plus = pd.read_csv('C:/Users/UX430/Documents/thesis/datasets/UNSW-NB15/UNSW-NB15-Test+.csv')"
   ]
  },
  {
   "cell_type": "code",
   "execution_count": 6,
   "metadata": {},
   "outputs": [],
   "source": [
    "# Define \n",
    "node_datasets = [training1, training2, training3]\n",
    "num_nodes = 3\n",
    "global_updates = 3\n",
    "\n",
    "# Define model training parameters\n",
    "loss_fct = \"categorical_crossentropy\"\n",
    "metrics = ['accuracy']\n",
    "local_epochs = 5"
   ]
  },
  {
   "cell_type": "code",
   "execution_count": 7,
   "metadata": {},
   "outputs": [],
   "source": [
    "def train_local_model(model, node, x_train, y_train): \n",
    "    filepath = 'C:/Users/UX430/Documents/thesis/code/models/node'+str(node)+'id1902.hdf5'\n",
    "    callbacks = [\n",
    "            keras.callbacks.EarlyStopping(\n",
    "                monitor = 'val_loss', # Use accuracy to monitor the model\n",
    "                patience = 10 # Stop after 10 steps with lower accuracy\n",
    "            ),\n",
    "            keras.callbacks.ModelCheckpoint(\n",
    "                filepath = filepath, # file where the checkpoint is saved\n",
    "                monitor = 'val_loss', # Don't overwrite the saved model unless val_loss is worse\n",
    "                save_best_only = True)]# Only save model if it is the best\n",
    "    optimizer = keras.optimizers.Adam(learning_rate=5e-4)\n",
    "    model.compile(optimizer=optimizer, loss=loss_fct, metrics=metrics)\n",
    "    history = model.fit(x_train, y_train, epochs=local_epochs, validation_split=0.2, callbacks=callbacks, batch_size=2048)\n",
    "    return model, history.history['loss'], history.history['accuracy'], history.history['val_loss'], history.history['val_accuracy']"
   ]
  },
  {
   "cell_type": "code",
   "execution_count": 8,
   "metadata": {},
   "outputs": [],
   "source": [
    "def aggregate(w_list): \n",
    "    avg_w = np.mean(w_list, axis=0)\n",
    "    return avg_w"
   ]
  },
  {
   "cell_type": "code",
   "execution_count": 9,
   "metadata": {},
   "outputs": [],
   "source": [
    "global_model = build_model((24,1,1))"
   ]
  },
  {
   "cell_type": "code",
   "execution_count": 10,
   "metadata": {},
   "outputs": [],
   "source": [
    "x1, y1 = preprocessing(training1)\n",
    "x2, y2 = preprocessing(training2)\n",
    "x3, y3 = preprocessing(training3)\n",
    "xbasic, ybasic = preprocessing(test_basic)\n",
    "xplus, yplus = preprocessing(test_plus)"
   ]
  },
  {
   "cell_type": "code",
   "execution_count": 11,
   "metadata": {},
   "outputs": [
    {
     "name": "stdout",
     "output_type": "stream",
     "text": [
      "Epoch 1/5\n",
      "51/51 [==============================] - 9s 184ms/step - loss: 0.2717 - accuracy: 0.9496 - val_loss: 1.8632 - val_accuracy: 0.6191\n",
      "Epoch 2/5\n",
      "51/51 [==============================] - 8s 167ms/step - loss: 0.0333 - accuracy: 0.9920 - val_loss: 0.6609 - val_accuracy: 0.6334\n",
      "Epoch 3/5\n",
      "51/51 [==============================] - 9s 178ms/step - loss: 0.0265 - accuracy: 0.9920 - val_loss: 0.5897 - val_accuracy: 0.6451\n",
      "Epoch 4/5\n",
      "51/51 [==============================] - 10s 188ms/step - loss: 0.0245 - accuracy: 0.9921 - val_loss: 0.5972 - val_accuracy: 0.6299\n",
      "Epoch 5/5\n",
      "51/51 [==============================] - 9s 175ms/step - loss: 0.0229 - accuracy: 0.9926 - val_loss: 0.4975 - val_accuracy: 0.6545\n",
      "Epoch 1/5\n",
      "51/51 [==============================] - 9s 184ms/step - loss: 0.0201 - accuracy: 0.9932 - val_loss: 0.5549 - val_accuracy: 0.6656\n",
      "Epoch 2/5\n",
      "51/51 [==============================] - 9s 173ms/step - loss: 0.0174 - accuracy: 0.9942 - val_loss: 0.7060 - val_accuracy: 0.6777\n",
      "Epoch 3/5\n",
      "51/51 [==============================] - 9s 176ms/step - loss: 0.0160 - accuracy: 0.9949 - val_loss: 0.5304 - val_accuracy: 0.7486\n",
      "Epoch 4/5\n",
      "51/51 [==============================] - 10s 195ms/step - loss: 0.0152 - accuracy: 0.9950 - val_loss: 0.7001 - val_accuracy: 0.7227\n",
      "Epoch 5/5\n",
      "51/51 [==============================] - 9s 181ms/step - loss: 0.0147 - accuracy: 0.9955 - val_loss: 0.4848 - val_accuracy: 0.7878\n",
      "Epoch 1/5\n",
      "51/51 [==============================] - 9s 180ms/step - loss: 0.0137 - accuracy: 0.9957 - val_loss: 0.3941 - val_accuracy: 0.8251\n",
      "Epoch 2/5\n",
      "51/51 [==============================] - 9s 170ms/step - loss: 0.0132 - accuracy: 0.9958 - val_loss: 0.3506 - val_accuracy: 0.8394\n",
      "Epoch 3/5\n",
      "51/51 [==============================] - 9s 175ms/step - loss: 0.0131 - accuracy: 0.9958 - val_loss: 0.4447 - val_accuracy: 0.8160\n",
      "Epoch 4/5\n",
      "51/51 [==============================] - 9s 175ms/step - loss: 0.0130 - accuracy: 0.9958 - val_loss: 0.3166 - val_accuracy: 0.8528\n",
      "Epoch 5/5\n",
      "51/51 [==============================] - 9s 175ms/step - loss: 0.0127 - accuracy: 0.9959 - val_loss: 0.4619 - val_accuracy: 0.8241\n",
      "  17/4279 [..............................] - ETA: 13s - loss: 0.0685 - accuracy: 0.9945"
     ]
    },
    {
     "name": "stderr",
     "output_type": "stream",
     "text": [
      "c:\\Users\\UX430\\anaconda3\\lib\\site-packages\\numpy\\core\\_asarray.py:171: VisibleDeprecationWarning: Creating an ndarray from ragged nested sequences (which is a list-or-tuple of lists-or-tuples-or ndarrays with different lengths or shapes) is deprecated. If you meant to do this, you must specify 'dtype=object' when creating the ndarray.\n",
      "  return array(a, dtype, copy=False, order=order, subok=True)\n"
     ]
    },
    {
     "name": "stdout",
     "output_type": "stream",
     "text": [
      "4279/4279 [==============================] - 12s 3ms/step - loss: 0.0936 - accuracy: 0.9892\n",
      "1721/1721 [==============================] - 5s 3ms/step - loss: 0.2428 - accuracy: 0.9137\n",
      "Epoch 1/5\n",
      "51/51 [==============================] - 9s 176ms/step - loss: 0.0160 - accuracy: 0.9952 - val_loss: 0.4958 - val_accuracy: 0.7624\n",
      "Epoch 2/5\n",
      "51/51 [==============================] - 9s 177ms/step - loss: 0.0148 - accuracy: 0.9955 - val_loss: 0.4267 - val_accuracy: 0.7964\n",
      "Epoch 3/5\n",
      "51/51 [==============================] - 10s 187ms/step - loss: 0.0149 - accuracy: 0.9955 - val_loss: 0.3529 - val_accuracy: 0.8332\n",
      "Epoch 4/5\n",
      "51/51 [==============================] - 9s 169ms/step - loss: 0.0146 - accuracy: 0.9958 - val_loss: 0.4217 - val_accuracy: 0.8120\n",
      "Epoch 5/5\n",
      "51/51 [==============================] - 9s 167ms/step - loss: 0.0143 - accuracy: 0.9959 - val_loss: 0.5563 - val_accuracy: 0.7756\n",
      "Epoch 1/5\n",
      "51/51 [==============================] - 9s 171ms/step - loss: 0.0134 - accuracy: 0.9958 - val_loss: 0.5718 - val_accuracy: 0.7888\n",
      "Epoch 2/5\n",
      "51/51 [==============================] - 9s 181ms/step - loss: 0.0137 - accuracy: 0.9959 - val_loss: 0.4378 - val_accuracy: 0.8163\n",
      "Epoch 3/5\n",
      "51/51 [==============================] - 9s 183ms/step - loss: 0.0128 - accuracy: 0.9961 - val_loss: 0.5947 - val_accuracy: 0.7822\n",
      "Epoch 4/5\n",
      "51/51 [==============================] - 9s 183ms/step - loss: 0.0129 - accuracy: 0.9959 - val_loss: 0.2357 - val_accuracy: 0.8751\n",
      "Epoch 5/5\n",
      "51/51 [==============================] - 9s 181ms/step - loss: 0.0130 - accuracy: 0.9958 - val_loss: 0.5129 - val_accuracy: 0.8031\n",
      "Epoch 1/5\n",
      "51/51 [==============================] - 9s 182ms/step - loss: 0.0120 - accuracy: 0.9960 - val_loss: 0.4491 - val_accuracy: 0.8345\n",
      "Epoch 2/5\n",
      "51/51 [==============================] - 9s 179ms/step - loss: 0.0117 - accuracy: 0.9961 - val_loss: 0.4021 - val_accuracy: 0.8383\n",
      "Epoch 3/5\n",
      "51/51 [==============================] - 9s 176ms/step - loss: 0.0115 - accuracy: 0.9961 - val_loss: 0.5436 - val_accuracy: 0.8083\n",
      "Epoch 4/5\n",
      "51/51 [==============================] - 10s 187ms/step - loss: 0.0114 - accuracy: 0.9962 - val_loss: 0.6792 - val_accuracy: 0.7700\n",
      "Epoch 5/5\n",
      "51/51 [==============================] - 9s 184ms/step - loss: 0.0115 - accuracy: 0.9963 - val_loss: 0.3153 - val_accuracy: 0.8591\n",
      "  39/4279 [..............................] - ETA: 11s - loss: 0.1415 - accuracy: 0.9880"
     ]
    },
    {
     "name": "stderr",
     "output_type": "stream",
     "text": [
      "c:\\Users\\UX430\\anaconda3\\lib\\site-packages\\numpy\\core\\_asarray.py:171: VisibleDeprecationWarning: Creating an ndarray from ragged nested sequences (which is a list-or-tuple of lists-or-tuples-or ndarrays with different lengths or shapes) is deprecated. If you meant to do this, you must specify 'dtype=object' when creating the ndarray.\n",
      "  return array(a, dtype, copy=False, order=order, subok=True)\n"
     ]
    },
    {
     "name": "stdout",
     "output_type": "stream",
     "text": [
      "4279/4279 [==============================] - 12s 3ms/step - loss: 0.1517 - accuracy: 0.9845 1s - loss: 0 - ETA: 0s - loss: 0.1517 \n",
      "1721/1721 [==============================] - 4s 3ms/step - loss: 0.4918 - accuracy: 0.8303\n",
      "Epoch 1/5\n",
      "51/51 [==============================] - 9s 173ms/step - loss: 0.0136 - accuracy: 0.9959 - val_loss: 0.4103 - val_accuracy: 0.8341\n",
      "Epoch 2/5\n",
      "51/51 [==============================] - 9s 173ms/step - loss: 0.0134 - accuracy: 0.9960 - val_loss: 0.4997 - val_accuracy: 0.7970\n",
      "Epoch 3/5\n",
      "51/51 [==============================] - 9s 174ms/step - loss: 0.0130 - accuracy: 0.9962 - val_loss: 0.4139 - val_accuracy: 0.8321\n",
      "Epoch 4/5\n",
      "51/51 [==============================] - 9s 168ms/step - loss: 0.0128 - accuracy: 0.9963 - val_loss: 0.5008 - val_accuracy: 0.7989\n",
      "Epoch 5/5\n",
      "51/51 [==============================] - 9s 167ms/step - loss: 0.0125 - accuracy: 0.9962 - val_loss: 0.5066 - val_accuracy: 0.8039\n",
      "Epoch 1/5\n",
      "51/51 [==============================] - 9s 181ms/step - loss: 0.0114 - accuracy: 0.9962 - val_loss: 0.4088 - val_accuracy: 0.8370\n",
      "Epoch 2/5\n",
      "51/51 [==============================] - 9s 175ms/step - loss: 0.0111 - accuracy: 0.9964 - val_loss: 0.6061 - val_accuracy: 0.7900\n",
      "Epoch 3/5\n",
      "51/51 [==============================] - 9s 174ms/step - loss: 0.0109 - accuracy: 0.9966 - val_loss: 0.4214 - val_accuracy: 0.8433\n",
      "Epoch 4/5\n",
      "51/51 [==============================] - 9s 176ms/step - loss: 0.0103 - accuracy: 0.9967 - val_loss: 0.5429 - val_accuracy: 0.8180\n",
      "Epoch 5/5\n",
      "51/51 [==============================] - 9s 175ms/step - loss: 0.0101 - accuracy: 0.9967 - val_loss: 0.5807 - val_accuracy: 0.8027\n",
      "Epoch 1/5\n",
      "51/51 [==============================] - 9s 176ms/step - loss: 0.0103 - accuracy: 0.9964 - val_loss: 0.4205 - val_accuracy: 0.8460\n",
      "Epoch 2/5\n",
      "51/51 [==============================] - 10s 190ms/step - loss: 0.0102 - accuracy: 0.9967 - val_loss: 0.5138 - val_accuracy: 0.8248\n",
      "Epoch 3/5\n",
      "51/51 [==============================] - 8s 165ms/step - loss: 0.0097 - accuracy: 0.9968 - val_loss: 0.5605 - val_accuracy: 0.8061\n",
      "Epoch 4/5\n",
      "51/51 [==============================] - 9s 171ms/step - loss: 0.0096 - accuracy: 0.9968 - val_loss: 0.6266 - val_accuracy: 0.7887\n",
      "Epoch 5/5\n",
      "51/51 [==============================] - 9s 185ms/step - loss: 0.0097 - accuracy: 0.9968 - val_loss: 0.4791 - val_accuracy: 0.8253\n",
      "  16/4279 [..............................] - ETA: 13s - loss: 0.1671 - accuracy: 0.9746"
     ]
    },
    {
     "name": "stderr",
     "output_type": "stream",
     "text": [
      "c:\\Users\\UX430\\anaconda3\\lib\\site-packages\\numpy\\core\\_asarray.py:171: VisibleDeprecationWarning: Creating an ndarray from ragged nested sequences (which is a list-or-tuple of lists-or-tuples-or ndarrays with different lengths or shapes) is deprecated. If you meant to do this, you must specify 'dtype=object' when creating the ndarray.\n",
      "  return array(a, dtype, copy=False, order=order, subok=True)\n"
     ]
    },
    {
     "name": "stdout",
     "output_type": "stream",
     "text": [
      "4279/4279 [==============================] - 13s 3ms/step - loss: 0.1793 - accuracy: 0.9737\n",
      "1721/1721 [==============================] - 5s 3ms/step - loss: 0.6750 - accuracy: 0.7741\n"
     ]
    }
   ],
   "source": [
    "# Values saved each iteration \n",
    "loss_it = []\n",
    "accuracy_it = []\n",
    "f1_it = []\n",
    "precision_it = []\n",
    "recall_it = []\n",
    "\n",
    "for i in range(global_updates): \n",
    "    w_list = []\n",
    "    for node in range(num_nodes): \n",
    "        cp = global_model # create a copy of the global model\n",
    "        if node == 0:\n",
    "            x, y = x1, y1\n",
    "        elif node == 1:\n",
    "            x, y = x2, y2\n",
    "        else:\n",
    "            x, y = x3, y3\n",
    "        local_model, local_loss, local_acc, local_val_loss, local_val_acc = train_local_model(cp, node, x, y)\n",
    "        w_list.append(local_model.get_weights())\n",
    "\n",
    "    avg_w = aggregate(w_list)\n",
    "    global_model.set_weights(avg_w) # apply gradients to global model\n",
    "    loss_basic, accuracy_basic, f1_basic, precision_basic, recall_basic = evaluation(global_model, xbasic, ybasic) # Evaluate with test basic to know progress\n",
    "    loss_plus, accuracy_plus, f1_plus, precision_plus, recall_plus = evaluation(global_model, xplus, yplus) # Evaluate with test plus to know progress\n",
    "\n",
    "    loss_it.append([loss_basic, loss_plus])\n",
    "    accuracy_it.append([accuracy_basic, accuracy_plus])\n",
    "    f1_it.append([f1_basic, f1_plus])\n",
    "    precision_it.append([precision_basic, precision_plus])\n",
    "    recall_it.append([recall_basic, recall_plus])\n",
    "\n",
    "\n",
    "global_model.save('C:/Users/UX430/Documents/thesis/code/models/id1902.hdf5')"
   ]
  },
  {
   "cell_type": "code",
   "execution_count": 12,
   "metadata": {},
   "outputs": [
    {
     "name": "stdout",
     "output_type": "stream",
     "text": [
      "Loss for iterations:  [[0.09364178776741028, 0.24279256165027618], [0.15169090032577515, 0.49179762601852417], [0.17932547628879547, 0.6749835014343262]]\n",
      "Accuracy for iterations:  [[0.9892416000366211, 0.913699746131897], [0.984494149684906, 0.8303058743476868], [0.9736918807029724, 0.7740681767463684]]\n",
      "F1 for iterations:  [[0.989244454139426, 0.9125154658529658], [0.9844925725085262, 0.8223248973403091], [0.9736647138244197, 0.7557072757067063]]\n",
      "Precision for iterations:  [[0.9892984207851672, 0.9206642174700433], [0.9844967255200144, 0.862110212068362], [0.9740386471388334, 0.8295610984638976]]\n",
      "Recall for iterations:  [[0.9892415787782289, 0.9136997747584102], [0.9844941423938766, 0.8303058926106227], [0.9736918986824038, 0.7740681537455497]]\n"
     ]
    }
   ],
   "source": [
    "print(\"Loss for iterations: \", loss_it)\n",
    "print(\"Accuracy for iterations: \", accuracy_it)\n",
    "print(\"F1 for iterations: \", f1_it)\n",
    "print(\"Precision for iterations: \", precision_it)\n",
    "print(\"Recall for iterations: \", recall_it)"
   ]
  },
  {
   "cell_type": "markdown",
   "metadata": {},
   "source": [
    "#### Dataset 3D"
   ]
  },
  {
   "cell_type": "code",
   "execution_count": 32,
   "metadata": {},
   "outputs": [],
   "source": [
    "# Load training datasets and testing datasets \n",
    "training1 = pd.read_csv('C:/Users/UX430/Documents/thesis/datasets/UNSW-NB15/UNSW-NB15-Train-Basic-Filt3D-Part1.csv')\n",
    "training2 = pd.read_csv('C:/Users/UX430/Documents/thesis/datasets/UNSW-NB15/UNSW-NB15-Train-Basic-Filt3D-Part2.csv')\n",
    "training3 = pd.read_csv('C:/Users/UX430/Documents/thesis/datasets/UNSW-NB15/UNSW-NB15-Train-Basic-Filt3D-Part3.csv')"
   ]
  },
  {
   "cell_type": "code",
   "execution_count": 33,
   "metadata": {},
   "outputs": [],
   "source": [
    "# Define \n",
    "node_datasets = [training1, training2, training3]\n",
    "num_nodes = 3\n",
    "global_updates = 3\n",
    "\n",
    "# Define model training parameters\n",
    "loss_fct = \"categorical_crossentropy\"\n",
    "metrics = ['accuracy']\n",
    "local_epochs = 5"
   ]
  },
  {
   "cell_type": "code",
   "execution_count": 34,
   "metadata": {},
   "outputs": [],
   "source": [
    "def train_local_model(model, node, x_train, y_train): \n",
    "    filepath = 'C:/Users/UX430/Documents/thesis/code/models/node'+str(node)+'id1903.hdf5'\n",
    "    callbacks = [\n",
    "            keras.callbacks.EarlyStopping(\n",
    "                monitor = 'val_loss', # Use accuracy to monitor the model\n",
    "                patience = 10 # Stop after 10 steps with lower accuracy\n",
    "            ),\n",
    "            keras.callbacks.ModelCheckpoint(\n",
    "                filepath = filepath, # file where the checkpoint is saved\n",
    "                monitor = 'val_loss', # Don't overwrite the saved model unless val_loss is worse\n",
    "                save_best_only = True)]# Only save model if it is the best\n",
    "    optimizer = keras.optimizers.Adam(learning_rate=5e-4)\n",
    "    model.compile(optimizer=optimizer, loss=loss_fct, metrics=metrics)\n",
    "    history = model.fit(x_train, y_train, epochs=local_epochs, validation_split=0.2, callbacks=callbacks, batch_size=2048)\n",
    "    return model, history.history['loss'], history.history['accuracy'], history.history['val_loss'], history.history['val_accuracy']"
   ]
  },
  {
   "cell_type": "code",
   "execution_count": 35,
   "metadata": {},
   "outputs": [],
   "source": [
    "def aggregate(w_list): \n",
    "    avg_w = np.mean(w_list, axis=0)\n",
    "    return avg_w"
   ]
  },
  {
   "cell_type": "code",
   "execution_count": 36,
   "metadata": {},
   "outputs": [],
   "source": [
    "global_model = build_model((24,1,1))"
   ]
  },
  {
   "cell_type": "code",
   "execution_count": 37,
   "metadata": {},
   "outputs": [],
   "source": [
    "x1, y1 = preprocessing(training1)\n",
    "x2, y2 = preprocessing(training2)\n",
    "x3, y3 = preprocessing(training3)\n",
    "xbasic, ybasic = preprocessing(test_basic)\n",
    "xplus, yplus = preprocessing(test_plus)"
   ]
  },
  {
   "cell_type": "code",
   "execution_count": 38,
   "metadata": {},
   "outputs": [
    {
     "name": "stdout",
     "output_type": "stream",
     "text": [
      "Epoch 1/5\n",
      "13/13 [==============================] - 2s 184ms/step - loss: 0.4675 - accuracy: 0.9527 - val_loss: 0.1457 - val_accuracy: 1.0000\n",
      "Epoch 2/5\n",
      "13/13 [==============================] - 2s 158ms/step - loss: 0.0398 - accuracy: 1.0000 - val_loss: 0.0013 - val_accuracy: 1.0000\n",
      "Epoch 3/5\n",
      "13/13 [==============================] - 2s 148ms/step - loss: 4.1712e-04 - accuracy: 1.0000 - val_loss: 7.0437e-05 - val_accuracy: 1.0000\n",
      "Epoch 4/5\n",
      "13/13 [==============================] - 2s 147ms/step - loss: 4.2023e-05 - accuracy: 1.0000 - val_loss: 2.4089e-05 - val_accuracy: 1.0000\n",
      "Epoch 5/5\n",
      "13/13 [==============================] - 2s 172ms/step - loss: 2.0408e-05 - accuracy: 1.0000 - val_loss: 1.6970e-05 - val_accuracy: 1.0000\n",
      "Epoch 1/5\n",
      "13/13 [==============================] - 2s 174ms/step - loss: 5.5577 - accuracy: 0.0000e+00 - val_loss: 2.4075 - val_accuracy: 0.0000e+00\n",
      "Epoch 2/5\n",
      "13/13 [==============================] - 2s 172ms/step - loss: 1.4300 - accuracy: 0.0000e+00 - val_loss: 0.8229 - val_accuracy: 0.0000e+00\n",
      "Epoch 3/5\n",
      "13/13 [==============================] - 2s 169ms/step - loss: 0.7052 - accuracy: 0.5410 - val_loss: 0.6329 - val_accuracy: 1.0000\n",
      "Epoch 4/5\n",
      "13/13 [==============================] - 2s 166ms/step - loss: 0.5936 - accuracy: 1.0000 - val_loss: 0.5360 - val_accuracy: 1.0000\n",
      "Epoch 5/5\n",
      "13/13 [==============================] - 2s 177ms/step - loss: 0.4615 - accuracy: 1.0000 - val_loss: 0.3528 - val_accuracy: 1.0000\n",
      "Epoch 1/5\n",
      "13/13 [==============================] - 3s 199ms/step - loss: 0.1274 - accuracy: 1.0000 - val_loss: 0.0150 - val_accuracy: 1.0000\n",
      "Epoch 2/5\n",
      "13/13 [==============================] - 2s 154ms/step - loss: 0.0067 - accuracy: 1.0000 - val_loss: 8.0254e-04 - val_accuracy: 1.0000\n",
      "Epoch 3/5\n",
      "13/13 [==============================] - 2s 160ms/step - loss: 5.4899e-04 - accuracy: 1.0000 - val_loss: 1.8283e-04 - val_accuracy: 1.0000\n",
      "Epoch 4/5\n",
      "13/13 [==============================] - 2s 150ms/step - loss: 1.8094e-04 - accuracy: 1.0000 - val_loss: 9.7606e-05 - val_accuracy: 1.0000\n",
      "Epoch 5/5\n",
      "13/13 [==============================] - 2s 159ms/step - loss: 1.1360e-04 - accuracy: 1.0000 - val_loss: 7.2028e-05 - val_accuracy: 1.0000\n",
      "   9/4279 [..............................] - ETA: 26s - loss: 0.9262 - accuracy: 0.4514"
     ]
    },
    {
     "name": "stderr",
     "output_type": "stream",
     "text": [
      "c:\\Users\\UX430\\anaconda3\\lib\\site-packages\\numpy\\core\\_asarray.py:171: VisibleDeprecationWarning: Creating an ndarray from ragged nested sequences (which is a list-or-tuple of lists-or-tuples-or ndarrays with different lengths or shapes) is deprecated. If you meant to do this, you must specify 'dtype=object' when creating the ndarray.\n",
      "  return array(a, dtype, copy=False, order=order, subok=True)\n"
     ]
    },
    {
     "name": "stdout",
     "output_type": "stream",
     "text": [
      "4279/4279 [==============================] - 20s 5ms/step - loss: 0.9043 - accuracy: 0.4712\n"
     ]
    },
    {
     "name": "stderr",
     "output_type": "stream",
     "text": [
      "c:\\Users\\UX430\\anaconda3\\lib\\site-packages\\sklearn\\metrics\\_classification.py:1308: UndefinedMetricWarning: Precision and F-score are ill-defined and being set to 0.0 in labels with no predicted samples. Use `zero_division` parameter to control this behavior.\n",
      "  _warn_prf(average, modifier, msg_start, len(result))\n",
      "c:\\Users\\UX430\\anaconda3\\lib\\site-packages\\sklearn\\metrics\\_classification.py:1308: UndefinedMetricWarning: Precision and F-score are ill-defined and being set to 0.0 in labels with no predicted samples. Use `zero_division` parameter to control this behavior.\n",
      "  _warn_prf(average, modifier, msg_start, len(result))\n",
      "c:\\Users\\UX430\\anaconda3\\lib\\site-packages\\sklearn\\metrics\\_classification.py:1308: UndefinedMetricWarning: Precision and F-score are ill-defined and being set to 0.0 in labels with no predicted samples. Use `zero_division` parameter to control this behavior.\n",
      "  _warn_prf(average, modifier, msg_start, len(result))\n"
     ]
    },
    {
     "name": "stdout",
     "output_type": "stream",
     "text": [
      "1721/1721 [==============================] - 10s 6ms/step - loss: 0.9348 - accuracy: 0.4392\n"
     ]
    },
    {
     "name": "stderr",
     "output_type": "stream",
     "text": [
      "c:\\Users\\UX430\\anaconda3\\lib\\site-packages\\sklearn\\metrics\\_classification.py:1308: UndefinedMetricWarning: Precision and F-score are ill-defined and being set to 0.0 in labels with no predicted samples. Use `zero_division` parameter to control this behavior.\n",
      "  _warn_prf(average, modifier, msg_start, len(result))\n",
      "c:\\Users\\UX430\\anaconda3\\lib\\site-packages\\sklearn\\metrics\\_classification.py:1308: UndefinedMetricWarning: Precision and F-score are ill-defined and being set to 0.0 in labels with no predicted samples. Use `zero_division` parameter to control this behavior.\n",
      "  _warn_prf(average, modifier, msg_start, len(result))\n",
      "c:\\Users\\UX430\\anaconda3\\lib\\site-packages\\sklearn\\metrics\\_classification.py:1308: UndefinedMetricWarning: Precision and F-score are ill-defined and being set to 0.0 in labels with no predicted samples. Use `zero_division` parameter to control this behavior.\n",
      "  _warn_prf(average, modifier, msg_start, len(result))\n"
     ]
    },
    {
     "name": "stdout",
     "output_type": "stream",
     "text": [
      "Epoch 1/5\n",
      "13/13 [==============================] - 3s 234ms/step - loss: 0.4083 - accuracy: 0.7688 - val_loss: 0.0195 - val_accuracy: 1.0000\n",
      "Epoch 2/5\n",
      "13/13 [==============================] - 3s 207ms/step - loss: 0.0058 - accuracy: 1.0000 - val_loss: 8.1705e-04 - val_accuracy: 1.0000\n",
      "Epoch 3/5\n",
      "13/13 [==============================] - 3s 224ms/step - loss: 4.5087e-04 - accuracy: 1.0000 - val_loss: 2.3319e-04 - val_accuracy: 1.0000\n",
      "Epoch 4/5\n",
      "13/13 [==============================] - 3s 214ms/step - loss: 1.8877e-04 - accuracy: 1.0000 - val_loss: 1.5052e-04 - val_accuracy: 1.0000\n",
      "Epoch 5/5\n",
      "13/13 [==============================] - 3s 230ms/step - loss: 1.4074e-04 - accuracy: 1.0000 - val_loss: 1.2771e-04 - val_accuracy: 1.0000\n",
      "Epoch 1/5\n",
      "13/13 [==============================] - 3s 239ms/step - loss: 3.8062 - accuracy: 0.0000e+00 - val_loss: 1.0859 - val_accuracy: 0.0000e+00\n",
      "Epoch 2/5\n",
      "13/13 [==============================] - 3s 215ms/step - loss: 0.5699 - accuracy: 0.6951 - val_loss: 0.2877 - val_accuracy: 1.0000\n",
      "Epoch 3/5\n",
      "13/13 [==============================] - 3s 202ms/step - loss: 0.2149 - accuracy: 1.0000 - val_loss: 0.1503 - val_accuracy: 1.0000\n",
      "Epoch 4/5\n",
      "13/13 [==============================] - 3s 225ms/step - loss: 0.1118 - accuracy: 1.0000 - val_loss: 0.0726 - val_accuracy: 1.0000\n",
      "Epoch 5/5\n",
      "13/13 [==============================] - 3s 220ms/step - loss: 0.0514 - accuracy: 1.0000 - val_loss: 0.0321 - val_accuracy: 1.0000\n",
      "Epoch 1/5\n",
      "13/13 [==============================] - 3s 267ms/step - loss: 0.0049 - accuracy: 1.0000 - val_loss: 1.7654e-04 - val_accuracy: 1.0000\n",
      "Epoch 2/5\n",
      "13/13 [==============================] - 3s 223ms/step - loss: 9.6162e-05 - accuracy: 1.0000 - val_loss: 2.0681e-05 - val_accuracy: 1.0000\n",
      "Epoch 3/5\n",
      "13/13 [==============================] - 3s 210ms/step - loss: 1.9392e-05 - accuracy: 1.0000 - val_loss: 9.3799e-06 - val_accuracy: 1.0000\n",
      "Epoch 4/5\n",
      "13/13 [==============================] - 3s 211ms/step - loss: 1.1291e-05 - accuracy: 1.0000 - val_loss: 7.0196e-06 - val_accuracy: 1.0000\n",
      "Epoch 5/5\n",
      "13/13 [==============================] - 3s 216ms/step - loss: 9.2274e-06 - accuracy: 1.0000 - val_loss: 6.1842e-06 - val_accuracy: 1.0000\n"
     ]
    },
    {
     "name": "stderr",
     "output_type": "stream",
     "text": [
      "c:\\Users\\UX430\\anaconda3\\lib\\site-packages\\numpy\\core\\_asarray.py:171: VisibleDeprecationWarning: Creating an ndarray from ragged nested sequences (which is a list-or-tuple of lists-or-tuples-or ndarrays with different lengths or shapes) is deprecated. If you meant to do this, you must specify 'dtype=object' when creating the ndarray.\n",
      "  return array(a, dtype, copy=False, order=order, subok=True)\n"
     ]
    },
    {
     "name": "stdout",
     "output_type": "stream",
     "text": [
      "4279/4279 [==============================] - 23s 5ms/step - loss: 1.9150 - accuracy: 0.4712\n"
     ]
    },
    {
     "name": "stderr",
     "output_type": "stream",
     "text": [
      "c:\\Users\\UX430\\anaconda3\\lib\\site-packages\\sklearn\\metrics\\_classification.py:1308: UndefinedMetricWarning: Precision and F-score are ill-defined and being set to 0.0 in labels with no predicted samples. Use `zero_division` parameter to control this behavior.\n",
      "  _warn_prf(average, modifier, msg_start, len(result))\n"
     ]
    },
    {
     "name": "stdout",
     "output_type": "stream",
     "text": [
      "   1/1721 [..............................] - ETA: 0s - loss: 0.0327 - accuracy: 1.0000"
     ]
    },
    {
     "name": "stderr",
     "output_type": "stream",
     "text": [
      "c:\\Users\\UX430\\anaconda3\\lib\\site-packages\\sklearn\\metrics\\_classification.py:1308: UndefinedMetricWarning: Precision and F-score are ill-defined and being set to 0.0 in labels with no predicted samples. Use `zero_division` parameter to control this behavior.\n",
      "  _warn_prf(average, modifier, msg_start, len(result))\n",
      "c:\\Users\\UX430\\anaconda3\\lib\\site-packages\\sklearn\\metrics\\_classification.py:1308: UndefinedMetricWarning: Precision and F-score are ill-defined and being set to 0.0 in labels with no predicted samples. Use `zero_division` parameter to control this behavior.\n",
      "  _warn_prf(average, modifier, msg_start, len(result))\n"
     ]
    },
    {
     "name": "stdout",
     "output_type": "stream",
     "text": [
      "1721/1721 [==============================] - 9s 5ms/step - loss: 2.0156 - accuracy: 0.4392\n"
     ]
    },
    {
     "name": "stderr",
     "output_type": "stream",
     "text": [
      "c:\\Users\\UX430\\anaconda3\\lib\\site-packages\\sklearn\\metrics\\_classification.py:1308: UndefinedMetricWarning: Precision and F-score are ill-defined and being set to 0.0 in labels with no predicted samples. Use `zero_division` parameter to control this behavior.\n",
      "  _warn_prf(average, modifier, msg_start, len(result))\n",
      "c:\\Users\\UX430\\anaconda3\\lib\\site-packages\\sklearn\\metrics\\_classification.py:1308: UndefinedMetricWarning: Precision and F-score are ill-defined and being set to 0.0 in labels with no predicted samples. Use `zero_division` parameter to control this behavior.\n",
      "  _warn_prf(average, modifier, msg_start, len(result))\n",
      "c:\\Users\\UX430\\anaconda3\\lib\\site-packages\\sklearn\\metrics\\_classification.py:1308: UndefinedMetricWarning: Precision and F-score are ill-defined and being set to 0.0 in labels with no predicted samples. Use `zero_division` parameter to control this behavior.\n",
      "  _warn_prf(average, modifier, msg_start, len(result))\n"
     ]
    },
    {
     "name": "stdout",
     "output_type": "stream",
     "text": [
      "Epoch 1/5\n",
      "13/13 [==============================] - 3s 260ms/step - loss: 1.1271 - accuracy: 0.4927 - val_loss: 0.0832 - val_accuracy: 1.0000\n",
      "Epoch 2/5\n",
      "13/13 [==============================] - 2s 186ms/step - loss: 0.0298 - accuracy: 1.0000 - val_loss: 0.0067 - val_accuracy: 1.0000\n",
      "Epoch 3/5\n",
      "13/13 [==============================] - 2s 188ms/step - loss: 0.0040 - accuracy: 1.0000 - val_loss: 0.0022 - val_accuracy: 1.0000\n",
      "Epoch 4/5\n",
      "13/13 [==============================] - 3s 204ms/step - loss: 0.0018 - accuracy: 1.0000 - val_loss: 0.0014 - val_accuracy: 1.0000\n",
      "Epoch 5/5\n",
      "13/13 [==============================] - 3s 195ms/step - loss: 0.0012 - accuracy: 1.0000 - val_loss: 0.0011 - val_accuracy: 1.0000\n",
      "Epoch 1/5\n",
      "13/13 [==============================] - 3s 230ms/step - loss: 2.6253 - accuracy: 0.0000e+00 - val_loss: 0.8119 - val_accuracy: 0.0000e+00\n",
      "Epoch 2/5\n",
      "13/13 [==============================] - 3s 200ms/step - loss: 0.4921 - accuracy: 0.8445 - val_loss: 0.2916 - val_accuracy: 1.0000\n",
      "Epoch 3/5\n",
      "13/13 [==============================] - 2s 192ms/step - loss: 0.2233 - accuracy: 1.0000 - val_loss: 0.1594 - val_accuracy: 1.0000\n",
      "Epoch 4/5\n",
      "13/13 [==============================] - 2s 191ms/step - loss: 0.1215 - accuracy: 1.0000 - val_loss: 0.0831 - val_accuracy: 1.0000\n",
      "Epoch 5/5\n",
      "13/13 [==============================] - 2s 187ms/step - loss: 0.0618 - accuracy: 1.0000 - val_loss: 0.0417 - val_accuracy: 1.0000\n",
      "Epoch 1/5\n",
      "13/13 [==============================] - 3s 221ms/step - loss: 0.0069 - accuracy: 1.0000 - val_loss: 3.1552e-04 - val_accuracy: 1.0000\n",
      "Epoch 2/5\n",
      "13/13 [==============================] - 2s 191ms/step - loss: 1.5329e-04 - accuracy: 1.0000 - val_loss: 3.0065e-05 - val_accuracy: 1.0000\n",
      "Epoch 3/5\n",
      "13/13 [==============================] - 3s 216ms/step - loss: 2.4715e-05 - accuracy: 1.0000 - val_loss: 1.1705e-05 - val_accuracy: 1.0000\n",
      "Epoch 4/5\n",
      "13/13 [==============================] - 3s 199ms/step - loss: 1.2658e-05 - accuracy: 1.0000 - val_loss: 8.0344e-06 - val_accuracy: 1.0000\n",
      "Epoch 5/5\n",
      "13/13 [==============================] - 2s 181ms/step - loss: 9.6311e-06 - accuracy: 1.0000 - val_loss: 6.7041e-06 - val_accuracy: 1.0000\n",
      "  13/4279 [..............................] - ETA: 17s - loss: 1.9856 - accuracy: 0.4543"
     ]
    },
    {
     "name": "stderr",
     "output_type": "stream",
     "text": [
      "c:\\Users\\UX430\\anaconda3\\lib\\site-packages\\numpy\\core\\_asarray.py:171: VisibleDeprecationWarning: Creating an ndarray from ragged nested sequences (which is a list-or-tuple of lists-or-tuples-or ndarrays with different lengths or shapes) is deprecated. If you meant to do this, you must specify 'dtype=object' when creating the ndarray.\n",
      "  return array(a, dtype, copy=False, order=order, subok=True)\n"
     ]
    },
    {
     "name": "stdout",
     "output_type": "stream",
     "text": [
      "4279/4279 [==============================] - 23s 5ms/step - loss: 1.9320 - accuracy: 0.4712\n"
     ]
    },
    {
     "name": "stderr",
     "output_type": "stream",
     "text": [
      "c:\\Users\\UX430\\anaconda3\\lib\\site-packages\\sklearn\\metrics\\_classification.py:1308: UndefinedMetricWarning: Precision and F-score are ill-defined and being set to 0.0 in labels with no predicted samples. Use `zero_division` parameter to control this behavior.\n",
      "  _warn_prf(average, modifier, msg_start, len(result))\n"
     ]
    },
    {
     "name": "stdout",
     "output_type": "stream",
     "text": [
      "   1/1721 [..............................] - ETA: 0s - loss: 0.0314 - accuracy: 1.0000"
     ]
    },
    {
     "name": "stderr",
     "output_type": "stream",
     "text": [
      "c:\\Users\\UX430\\anaconda3\\lib\\site-packages\\sklearn\\metrics\\_classification.py:1308: UndefinedMetricWarning: Precision and F-score are ill-defined and being set to 0.0 in labels with no predicted samples. Use `zero_division` parameter to control this behavior.\n",
      "  _warn_prf(average, modifier, msg_start, len(result))\n",
      "c:\\Users\\UX430\\anaconda3\\lib\\site-packages\\sklearn\\metrics\\_classification.py:1308: UndefinedMetricWarning: Precision and F-score are ill-defined and being set to 0.0 in labels with no predicted samples. Use `zero_division` parameter to control this behavior.\n",
      "  _warn_prf(average, modifier, msg_start, len(result))\n"
     ]
    },
    {
     "name": "stdout",
     "output_type": "stream",
     "text": [
      "1721/1721 [==============================] - 10s 6ms/step - loss: 2.0317 - accuracy: 0.4392\n"
     ]
    },
    {
     "name": "stderr",
     "output_type": "stream",
     "text": [
      "c:\\Users\\UX430\\anaconda3\\lib\\site-packages\\sklearn\\metrics\\_classification.py:1308: UndefinedMetricWarning: Precision and F-score are ill-defined and being set to 0.0 in labels with no predicted samples. Use `zero_division` parameter to control this behavior.\n",
      "  _warn_prf(average, modifier, msg_start, len(result))\n",
      "c:\\Users\\UX430\\anaconda3\\lib\\site-packages\\sklearn\\metrics\\_classification.py:1308: UndefinedMetricWarning: Precision and F-score are ill-defined and being set to 0.0 in labels with no predicted samples. Use `zero_division` parameter to control this behavior.\n",
      "  _warn_prf(average, modifier, msg_start, len(result))\n",
      "c:\\Users\\UX430\\anaconda3\\lib\\site-packages\\sklearn\\metrics\\_classification.py:1308: UndefinedMetricWarning: Precision and F-score are ill-defined and being set to 0.0 in labels with no predicted samples. Use `zero_division` parameter to control this behavior.\n",
      "  _warn_prf(average, modifier, msg_start, len(result))\n"
     ]
    }
   ],
   "source": [
    "# Values saved each iteration \n",
    "loss_it = []\n",
    "accuracy_it = []\n",
    "f1_it = []\n",
    "precision_it = []\n",
    "recall_it = []\n",
    "\n",
    "for i in range(global_updates): \n",
    "    w_list = []\n",
    "    for node in range(num_nodes): \n",
    "        cp = global_model # create a copy of the global model\n",
    "        if node == 0:\n",
    "            x, y = x1, y1\n",
    "        elif node == 1:\n",
    "            x, y = x2, y2\n",
    "        else:\n",
    "            x, y = x3, y3\n",
    "        local_model, local_loss, local_acc, local_val_loss, local_val_acc = train_local_model(cp, node, x, y)\n",
    "        w_list.append(local_model.get_weights())\n",
    "\n",
    "    avg_w = aggregate(w_list)\n",
    "    global_model.set_weights(avg_w) # apply gradients to global model\n",
    "    loss_basic, accuracy_basic, f1_basic, precision_basic, recall_basic = evaluation(global_model, xbasic, ybasic) # Evaluate with test basic to know progress\n",
    "    loss_plus, accuracy_plus, f1_plus, precision_plus, recall_plus = evaluation(global_model, xplus, yplus) # Evaluate with test plus to know progress\n",
    "\n",
    "    loss_it.append([loss_basic, loss_plus])\n",
    "    accuracy_it.append([accuracy_basic, accuracy_plus])\n",
    "    f1_it.append([f1_basic, f1_plus])\n",
    "    precision_it.append([precision_basic, precision_plus])\n",
    "    recall_it.append([recall_basic, recall_plus])\n",
    "\n",
    "\n",
    "global_model.save('C:/Users/UX430/Documents/thesis/code/models/id1903.hdf5')"
   ]
  },
  {
   "cell_type": "code",
   "execution_count": 39,
   "metadata": {},
   "outputs": [
    {
     "name": "stdout",
     "output_type": "stream",
     "text": [
      "Loss for iterations:  [[0.904284656047821, 0.9347654581069946], [1.915017008781433, 2.015558958053589], [1.931955099105835, 2.031741142272949]]\n",
      "Accuracy for iterations:  [[0.4712086319923401, 0.4392392635345459], [0.4712086319923401, 0.4392392635345459], [0.4712086319923401, 0.4392392635345459]]\n",
      "F1 for iterations:  [[0.30184375474744357, 0.2681015400046588], [0.30184375474744357, 0.2681015400046588], [0.30184375474744357, 0.2681015400046588]]\n",
      "Precision for iterations:  [[0.2220375675826312, 0.19293113164997755], [0.2220375675826312, 0.19293113164997755], [0.2220375675826312, 0.19293113164997755]]\n",
      "Recall for iterations:  [[0.4712086242659733, 0.43923926469519725], [0.4712086242659733, 0.43923926469519725], [0.4712086242659733, 0.43923926469519725]]\n"
     ]
    }
   ],
   "source": [
    "print(\"Loss for iterations: \", loss_it)\n",
    "print(\"Accuracy for iterations: \", accuracy_it)\n",
    "print(\"F1 for iterations: \", f1_it)\n",
    "print(\"Precision for iterations: \", precision_it)\n",
    "print(\"Recall for iterations: \", recall_it)"
   ]
  },
  {
   "cell_type": "markdown",
   "metadata": {},
   "source": [
    "#### DATASET 3E"
   ]
  },
  {
   "cell_type": "code",
   "execution_count": 40,
   "metadata": {},
   "outputs": [
    {
     "name": "stderr",
     "output_type": "stream",
     "text": [
      "C:\\Users\\UX430\\AppData\\Local\\Temp/ipykernel_5216/3505167362.py:3: DtypeWarning: Columns (4) have mixed types. Specify dtype option on import or set low_memory=False.\n",
      "  training2 = pd.read_csv('C:/Users/UX430/Documents/thesis/datasets/UNSW-NB15/UNSW-NB15-Train-Basic-Filt3E-Part2.csv')\n",
      "C:\\Users\\UX430\\AppData\\Local\\Temp/ipykernel_5216/3505167362.py:4: DtypeWarning: Columns (4) have mixed types. Specify dtype option on import or set low_memory=False.\n",
      "  training3 = pd.read_csv('C:/Users/UX430/Documents/thesis/datasets/UNSW-NB15/UNSW-NB15-Train-Basic-Filt3E-Part3.csv')\n"
     ]
    }
   ],
   "source": [
    "# Load training datasets and testing datasets \n",
    "training1 = pd.read_csv('C:/Users/UX430/Documents/thesis/datasets/UNSW-NB15/UNSW-NB15-Train-Basic-Filt3E-Part1.csv')\n",
    "training2 = pd.read_csv('C:/Users/UX430/Documents/thesis/datasets/UNSW-NB15/UNSW-NB15-Train-Basic-Filt3E-Part2.csv')\n",
    "training3 = pd.read_csv('C:/Users/UX430/Documents/thesis/datasets/UNSW-NB15/UNSW-NB15-Train-Basic-Filt3E-Part3.csv')"
   ]
  },
  {
   "cell_type": "code",
   "execution_count": 41,
   "metadata": {},
   "outputs": [],
   "source": [
    "# Define \n",
    "node_datasets = [training1, training2, training3]\n",
    "num_nodes = 3\n",
    "global_updates = 3\n",
    "\n",
    "# Define model training parameters\n",
    "loss_fct = \"categorical_crossentropy\"\n",
    "metrics = ['accuracy']\n",
    "local_epochs = 5"
   ]
  },
  {
   "cell_type": "code",
   "execution_count": 42,
   "metadata": {},
   "outputs": [],
   "source": [
    "def train_local_model(model, node, x_train, y_train): \n",
    "    filepath = 'C:/Users/UX430/Documents/thesis/code/models/node'+str(node)+'id1904.hdf5'\n",
    "    callbacks = [\n",
    "            keras.callbacks.EarlyStopping(\n",
    "                monitor = 'val_loss', # Use accuracy to monitor the model\n",
    "                patience = 10 # Stop after 10 steps with lower accuracy\n",
    "            ),\n",
    "            keras.callbacks.ModelCheckpoint(\n",
    "                filepath = filepath, # file where the checkpoint is saved\n",
    "                monitor = 'val_loss', # Don't overwrite the saved model unless val_loss is worse\n",
    "                save_best_only = True)]# Only save model if it is the best\n",
    "    optimizer = keras.optimizers.Adam(learning_rate=5e-4)\n",
    "    model.compile(optimizer=optimizer, loss=loss_fct, metrics=metrics)\n",
    "    history = model.fit(x_train, y_train, epochs=local_epochs, validation_split=0.2, callbacks=callbacks, batch_size=2048)\n",
    "    return model, history.history['loss'], history.history['accuracy'], history.history['val_loss'], history.history['val_accuracy']"
   ]
  },
  {
   "cell_type": "code",
   "execution_count": 43,
   "metadata": {},
   "outputs": [],
   "source": [
    "def aggregate(w_list): \n",
    "    avg_w = np.mean(w_list, axis=0)\n",
    "    return avg_w"
   ]
  },
  {
   "cell_type": "code",
   "execution_count": 44,
   "metadata": {},
   "outputs": [],
   "source": [
    "global_model = build_model((24,1,1))"
   ]
  },
  {
   "cell_type": "code",
   "execution_count": 45,
   "metadata": {},
   "outputs": [],
   "source": [
    "x1, y1 = preprocessing(training1)\n",
    "x2, y2 = preprocessing(training2)\n",
    "x3, y3 = preprocessing(training3)\n",
    "xbasic, ybasic = preprocessing(test_basic)\n",
    "xplus, yplus = preprocessing(test_plus)"
   ]
  },
  {
   "cell_type": "code",
   "execution_count": 46,
   "metadata": {},
   "outputs": [
    {
     "name": "stdout",
     "output_type": "stream",
     "text": [
      "Epoch 1/5\n",
      "51/51 [==============================] - 11s 206ms/step - loss: 0.2494 - accuracy: 0.9741 - val_loss: 1.7371 - val_accuracy: 0.6682\n",
      "Epoch 2/5\n",
      "51/51 [==============================] - 10s 204ms/step - loss: 0.0321 - accuracy: 0.9922 - val_loss: 0.6133 - val_accuracy: 0.6769\n",
      "Epoch 3/5\n",
      "51/51 [==============================] - 10s 199ms/step - loss: 0.0259 - accuracy: 0.9923 - val_loss: 0.5528 - val_accuracy: 0.6831\n",
      "Epoch 4/5\n",
      "51/51 [==============================] - 10s 200ms/step - loss: 0.0240 - accuracy: 0.9925 - val_loss: 0.4401 - val_accuracy: 0.7158\n",
      "Epoch 5/5\n",
      "51/51 [==============================] - 10s 200ms/step - loss: 0.0224 - accuracy: 0.9928 - val_loss: 0.4545 - val_accuracy: 0.7054\n",
      "Epoch 1/5\n",
      "51/51 [==============================] - 11s 211ms/step - loss: 0.0207 - accuracy: 0.9929 - val_loss: 0.4590 - val_accuracy: 0.6928\n",
      "Epoch 2/5\n",
      "51/51 [==============================] - 10s 200ms/step - loss: 0.0175 - accuracy: 0.9943 - val_loss: 0.3321 - val_accuracy: 0.7971\n",
      "Epoch 3/5\n",
      "51/51 [==============================] - 10s 204ms/step - loss: 0.0159 - accuracy: 0.9949 - val_loss: 0.3978 - val_accuracy: 0.7854\n",
      "Epoch 4/5\n",
      "51/51 [==============================] - 10s 206ms/step - loss: 0.0149 - accuracy: 0.9954 - val_loss: 0.6130 - val_accuracy: 0.7369\n",
      "Epoch 5/5\n",
      "51/51 [==============================] - 11s 206ms/step - loss: 0.0148 - accuracy: 0.9953 - val_loss: 0.5751 - val_accuracy: 0.7537\n",
      "Epoch 1/5\n",
      "51/51 [==============================] - 11s 218ms/step - loss: 0.0133 - accuracy: 0.9956 - val_loss: 0.3797 - val_accuracy: 0.8255\n",
      "Epoch 2/5\n",
      "51/51 [==============================] - 11s 215ms/step - loss: 0.0132 - accuracy: 0.9957 - val_loss: 0.6389 - val_accuracy: 0.7624\n",
      "Epoch 3/5\n",
      "51/51 [==============================] - 10s 203ms/step - loss: 0.0131 - accuracy: 0.9957 - val_loss: 0.5463 - val_accuracy: 0.7836\n",
      "Epoch 4/5\n",
      "51/51 [==============================] - 10s 200ms/step - loss: 0.0126 - accuracy: 0.9960 - val_loss: 0.3848 - val_accuracy: 0.8221\n",
      "Epoch 5/5\n",
      "51/51 [==============================] - 10s 196ms/step - loss: 0.0126 - accuracy: 0.9960 - val_loss: 0.4508 - val_accuracy: 0.8117\n",
      "  12/4279 [..............................] - ETA: 17s - loss: 0.1284 - accuracy: 0.9870"
     ]
    },
    {
     "name": "stderr",
     "output_type": "stream",
     "text": [
      "c:\\Users\\UX430\\anaconda3\\lib\\site-packages\\numpy\\core\\_asarray.py:171: VisibleDeprecationWarning: Creating an ndarray from ragged nested sequences (which is a list-or-tuple of lists-or-tuples-or ndarrays with different lengths or shapes) is deprecated. If you meant to do this, you must specify 'dtype=object' when creating the ndarray.\n",
      "  return array(a, dtype, copy=False, order=order, subok=True)\n"
     ]
    },
    {
     "name": "stdout",
     "output_type": "stream",
     "text": [
      "4279/4279 [==============================] - 24s 6ms/step - loss: 0.1511 - accuracy: 0.9862\n",
      "1721/1721 [==============================] - 8s 5ms/step - loss: 0.3110 - accuracy: 0.8855\n",
      "Epoch 1/5\n",
      "51/51 [==============================] - 11s 211ms/step - loss: 0.0158 - accuracy: 0.9953 - val_loss: 0.2856 - val_accuracy: 0.8544\n",
      "Epoch 2/5\n",
      "51/51 [==============================] - 10s 197ms/step - loss: 0.0148 - accuracy: 0.9958 - val_loss: 0.2502 - val_accuracy: 0.8787\n",
      "Epoch 3/5\n",
      "51/51 [==============================] - 10s 192ms/step - loss: 0.0148 - accuracy: 0.9957 - val_loss: 0.2082 - val_accuracy: 0.8970\n",
      "Epoch 4/5\n",
      "51/51 [==============================] - 10s 196ms/step - loss: 0.0143 - accuracy: 0.9957 - val_loss: 0.3660 - val_accuracy: 0.8272\n",
      "Epoch 5/5\n",
      "51/51 [==============================] - 10s 190ms/step - loss: 0.0141 - accuracy: 0.9961 - val_loss: 0.3437 - val_accuracy: 0.8410\n",
      "Epoch 1/5\n",
      "51/51 [==============================] - 11s 209ms/step - loss: 0.0140 - accuracy: 0.9956 - val_loss: 0.5234 - val_accuracy: 0.7766\n",
      "Epoch 2/5\n",
      "51/51 [==============================] - 10s 189ms/step - loss: 0.0134 - accuracy: 0.9958 - val_loss: 0.5908 - val_accuracy: 0.7698\n",
      "Epoch 3/5\n",
      "51/51 [==============================] - 10s 197ms/step - loss: 0.0136 - accuracy: 0.9956 - val_loss: 0.2157 - val_accuracy: 0.8555\n",
      "Epoch 4/5\n",
      "51/51 [==============================] - 9s 186ms/step - loss: 0.0136 - accuracy: 0.9957 - val_loss: 0.5423 - val_accuracy: 0.7795\n",
      "Epoch 5/5\n",
      "51/51 [==============================] - 11s 211ms/step - loss: 0.0128 - accuracy: 0.9960 - val_loss: 0.4471 - val_accuracy: 0.8073\n",
      "Epoch 1/5\n",
      "51/51 [==============================] - 12s 228ms/step - loss: 0.0118 - accuracy: 0.9962 - val_loss: 0.5139 - val_accuracy: 0.8030\n",
      "Epoch 2/5\n",
      "51/51 [==============================] - 10s 191ms/step - loss: 0.0116 - accuracy: 0.9962 - val_loss: 0.4661 - val_accuracy: 0.8213\n",
      "Epoch 3/5\n",
      "51/51 [==============================] - 9s 174ms/step - loss: 0.0113 - accuracy: 0.9965 - val_loss: 0.5031 - val_accuracy: 0.8051\n",
      "Epoch 4/5\n",
      "51/51 [==============================] - 9s 172ms/step - loss: 0.0114 - accuracy: 0.9961 - val_loss: 0.5340 - val_accuracy: 0.8014\n",
      "Epoch 5/5\n",
      "51/51 [==============================] - 10s 189ms/step - loss: 0.0112 - accuracy: 0.9964 - val_loss: 0.5257 - val_accuracy: 0.8110\n",
      "  12/4279 [..............................] - ETA: 18s - loss: 0.1770 - accuracy: 0.9792"
     ]
    },
    {
     "name": "stderr",
     "output_type": "stream",
     "text": [
      "c:\\Users\\UX430\\anaconda3\\lib\\site-packages\\numpy\\core\\_asarray.py:171: VisibleDeprecationWarning: Creating an ndarray from ragged nested sequences (which is a list-or-tuple of lists-or-tuples-or ndarrays with different lengths or shapes) is deprecated. If you meant to do this, you must specify 'dtype=object' when creating the ndarray.\n",
      "  return array(a, dtype, copy=False, order=order, subok=True)\n"
     ]
    },
    {
     "name": "stdout",
     "output_type": "stream",
     "text": [
      "4279/4279 [==============================] - 20s 5ms/step - loss: 0.1903 - accuracy: 0.9806\n",
      "1721/1721 [==============================] - 8s 5ms/step - loss: 0.5411 - accuracy: 0.8061\n",
      "Epoch 1/5\n",
      "51/51 [==============================] - 15s 287ms/step - loss: 0.0137 - accuracy: 0.9962 - val_loss: 0.2725 - val_accuracy: 0.8724\n",
      "Epoch 2/5\n",
      "51/51 [==============================] - 16s 304ms/step - loss: 0.0131 - accuracy: 0.9962 - val_loss: 0.1963 - val_accuracy: 0.9073\n",
      "Epoch 3/5\n",
      "51/51 [==============================] - 16s 315ms/step - loss: 0.0129 - accuracy: 0.9961 - val_loss: 0.2689 - val_accuracy: 0.8810\n",
      "Epoch 4/5\n",
      "51/51 [==============================] - 14s 277ms/step - loss: 0.0123 - accuracy: 0.9964 - val_loss: 0.2363 - val_accuracy: 0.8952\n",
      "Epoch 5/5\n",
      "51/51 [==============================] - 14s 270ms/step - loss: 0.0132 - accuracy: 0.9965 - val_loss: 0.3690 - val_accuracy: 0.8366\n",
      "Epoch 1/5\n",
      "51/51 [==============================] - 16s 311ms/step - loss: 0.0121 - accuracy: 0.9960 - val_loss: 0.3706 - val_accuracy: 0.8272\n",
      "Epoch 2/5\n",
      "51/51 [==============================] - 14s 280ms/step - loss: 0.0113 - accuracy: 0.9962 - val_loss: 0.5216 - val_accuracy: 0.8067\n",
      "Epoch 3/5\n",
      "51/51 [==============================] - 15s 290ms/step - loss: 0.0109 - accuracy: 0.9965 - val_loss: 0.7155 - val_accuracy: 0.7604\n",
      "Epoch 4/5\n",
      "51/51 [==============================] - 14s 265ms/step - loss: 0.0110 - accuracy: 0.9964 - val_loss: 0.5131 - val_accuracy: 0.8063\n",
      "Epoch 5/5\n",
      "51/51 [==============================] - 13s 250ms/step - loss: 0.0106 - accuracy: 0.9964 - val_loss: 0.6705 - val_accuracy: 0.7740\n",
      "Epoch 1/5\n",
      "51/51 [==============================] - 13s 257ms/step - loss: 0.0102 - accuracy: 0.9965 - val_loss: 0.5369 - val_accuracy: 0.8145\n",
      "Epoch 2/5\n",
      "51/51 [==============================] - 12s 233ms/step - loss: 0.0098 - accuracy: 0.9967 - val_loss: 0.5325 - val_accuracy: 0.8029\n",
      "Epoch 3/5\n",
      "51/51 [==============================] - 12s 241ms/step - loss: 0.0096 - accuracy: 0.9969 - val_loss: 0.6024 - val_accuracy: 0.7943\n",
      "Epoch 4/5\n",
      "51/51 [==============================] - 12s 240ms/step - loss: 0.0102 - accuracy: 0.9964 - val_loss: 0.6944 - val_accuracy: 0.7747\n",
      "Epoch 5/5\n",
      "51/51 [==============================] - 12s 239ms/step - loss: 0.0095 - accuracy: 0.9971 - val_loss: 0.6346 - val_accuracy: 0.7919\n",
      "   9/4279 [..............................] - ETA: 24s - loss: 0.2992 - accuracy: 0.8264"
     ]
    },
    {
     "name": "stderr",
     "output_type": "stream",
     "text": [
      "c:\\Users\\UX430\\anaconda3\\lib\\site-packages\\numpy\\core\\_asarray.py:171: VisibleDeprecationWarning: Creating an ndarray from ragged nested sequences (which is a list-or-tuple of lists-or-tuples-or ndarrays with different lengths or shapes) is deprecated. If you meant to do this, you must specify 'dtype=object' when creating the ndarray.\n",
      "  return array(a, dtype, copy=False, order=order, subok=True)\n"
     ]
    },
    {
     "name": "stdout",
     "output_type": "stream",
     "text": [
      "4279/4279 [==============================] - 17s 4ms/step - loss: 0.3233 - accuracy: 0.8197\n",
      "1721/1721 [==============================] - 8s 4ms/step - loss: 0.9030 - accuracy: 0.7022\n"
     ]
    }
   ],
   "source": [
    "# Values saved each iteration \n",
    "loss_it = []\n",
    "accuracy_it = []\n",
    "f1_it = []\n",
    "precision_it = []\n",
    "recall_it = []\n",
    "\n",
    "for i in range(global_updates): \n",
    "    w_list = []\n",
    "    for node in range(num_nodes): \n",
    "        cp = global_model # create a copy of the global model\n",
    "        if node == 0:\n",
    "            x, y = x1, y1\n",
    "        elif node == 1:\n",
    "            x, y = x2, y2\n",
    "        else:\n",
    "            x, y = x3, y3\n",
    "        local_model, local_loss, local_acc, local_val_loss, local_val_acc = train_local_model(cp, node, x, y)\n",
    "        w_list.append(local_model.get_weights())\n",
    "\n",
    "    avg_w = aggregate(w_list)\n",
    "    global_model.set_weights(avg_w) # apply gradients to global model\n",
    "    loss_basic, accuracy_basic, f1_basic, precision_basic, recall_basic = evaluation(global_model, xbasic, ybasic) # Evaluate with test basic to know progress\n",
    "    loss_plus, accuracy_plus, f1_plus, precision_plus, recall_plus = evaluation(global_model, xplus, yplus) # Evaluate with test plus to know progress\n",
    "\n",
    "    loss_it.append([loss_basic, loss_plus])\n",
    "    accuracy_it.append([accuracy_basic, accuracy_plus])\n",
    "    f1_it.append([f1_basic, f1_plus])\n",
    "    precision_it.append([precision_basic, precision_plus])\n",
    "    recall_it.append([recall_basic, recall_plus])\n",
    "\n",
    "\n",
    "global_model.save('C:/Users/UX430/Documents/thesis/code/models/id1904.hdf5')"
   ]
  },
  {
   "cell_type": "code",
   "execution_count": 47,
   "metadata": {},
   "outputs": [
    {
     "name": "stdout",
     "output_type": "stream",
     "text": [
      "Loss for iterations:  [[0.15110553801059723, 0.3109899163246155], [0.19025111198425293, 0.5411234498023987], [0.32329997420310974, 0.9030158519744873]]\n",
      "Accuracy for iterations:  [[0.9862178564071655, 0.8854537606239319], [0.9805647134780884, 0.8060560822486877], [0.8196850419044495, 0.702226996421814]]\n",
      "F1 for iterations:  [[0.9862190979287047, 0.8828540652447012], [0.9805559171498381, 0.7943169729026466], [0.8122185104201383, 0.6598394951030476]]\n",
      "Precision for iterations:  [[0.9862257108718581, 0.8989753447356438], [0.9806433972296336, 0.8475436656710653], [0.8601706484398761, 0.7931292593167546]]\n",
      "Recall for iterations:  [[0.9862178269888107, 0.8854537528155199], [0.9805647258172895, 0.8060560924217104], [0.8196850623740103, 0.702226985395626]]\n"
     ]
    }
   ],
   "source": [
    "print(\"Loss for iterations: \", loss_it)\n",
    "print(\"Accuracy for iterations: \", accuracy_it)\n",
    "print(\"F1 for iterations: \", f1_it)\n",
    "print(\"Precision for iterations: \", precision_it)\n",
    "print(\"Recall for iterations: \", recall_it)"
   ]
  },
  {
   "cell_type": "markdown",
   "metadata": {},
   "source": [
    "#### DATASET 3F"
   ]
  },
  {
   "cell_type": "code",
   "execution_count": 48,
   "metadata": {},
   "outputs": [
    {
     "name": "stderr",
     "output_type": "stream",
     "text": [
      "C:\\Users\\UX430\\AppData\\Local\\Temp/ipykernel_5216/89903324.py:2: DtypeWarning: Columns (4) have mixed types. Specify dtype option on import or set low_memory=False.\n",
      "  training1 = pd.read_csv('C:/Users/UX430/Documents/thesis/datasets/UNSW-NB15/UNSW-NB15-Train-Basic-Filt3F-Part1.csv')\n",
      "C:\\Users\\UX430\\AppData\\Local\\Temp/ipykernel_5216/89903324.py:3: DtypeWarning: Columns (4) have mixed types. Specify dtype option on import or set low_memory=False.\n",
      "  training2 = pd.read_csv('C:/Users/UX430/Documents/thesis/datasets/UNSW-NB15/UNSW-NB15-Train-Basic-Filt3F-Part2.csv')\n",
      "C:\\Users\\UX430\\AppData\\Local\\Temp/ipykernel_5216/89903324.py:4: DtypeWarning: Columns (4) have mixed types. Specify dtype option on import or set low_memory=False.\n",
      "  training3 = pd.read_csv('C:/Users/UX430/Documents/thesis/datasets/UNSW-NB15/UNSW-NB15-Train-Basic-Filt3F-Part3.csv')\n"
     ]
    }
   ],
   "source": [
    "# Load training datasets and testing datasets \n",
    "training1 = pd.read_csv('C:/Users/UX430/Documents/thesis/datasets/UNSW-NB15/UNSW-NB15-Train-Basic-Filt3F-Part1.csv')\n",
    "training2 = pd.read_csv('C:/Users/UX430/Documents/thesis/datasets/UNSW-NB15/UNSW-NB15-Train-Basic-Filt3F-Part2.csv')\n",
    "training3 = pd.read_csv('C:/Users/UX430/Documents/thesis/datasets/UNSW-NB15/UNSW-NB15-Train-Basic-Filt3F-Part3.csv')"
   ]
  },
  {
   "cell_type": "code",
   "execution_count": 49,
   "metadata": {},
   "outputs": [],
   "source": [
    "# Define \n",
    "node_datasets = [training1, training2, training3]\n",
    "num_nodes = 3\n",
    "global_updates = 3\n",
    "\n",
    "# Define model training parameters\n",
    "loss_fct = \"categorical_crossentropy\"\n",
    "metrics = ['accuracy']\n",
    "local_epochs = 5"
   ]
  },
  {
   "cell_type": "code",
   "execution_count": 50,
   "metadata": {},
   "outputs": [],
   "source": [
    "def train_local_model(model, node, x_train, y_train): \n",
    "    filepath = 'C:/Users/UX430/Documents/thesis/code/models/node'+str(node)+'id1905.hdf5'\n",
    "    callbacks = [\n",
    "            keras.callbacks.EarlyStopping(\n",
    "                monitor = 'val_loss', # Use accuracy to monitor the model\n",
    "                patience = 10 # Stop after 10 steps with lower accuracy\n",
    "            ),\n",
    "            keras.callbacks.ModelCheckpoint(\n",
    "                filepath = filepath, # file where the checkpoint is saved\n",
    "                monitor = 'val_loss', # Don't overwrite the saved model unless val_loss is worse\n",
    "                save_best_only = True)]# Only save model if it is the best\n",
    "    optimizer = keras.optimizers.Adam(learning_rate=5e-4)\n",
    "    model.compile(optimizer=optimizer, loss=loss_fct, metrics=metrics)\n",
    "    history = model.fit(x_train, y_train, epochs=local_epochs, validation_split=0.2, callbacks=callbacks, batch_size=2048)\n",
    "    return model, history.history['loss'], history.history['accuracy'], history.history['val_loss'], history.history['val_accuracy']"
   ]
  },
  {
   "cell_type": "code",
   "execution_count": 51,
   "metadata": {},
   "outputs": [],
   "source": [
    "def aggregate(w_list): \n",
    "    avg_w = np.mean(w_list, axis=0)\n",
    "    return avg_w"
   ]
  },
  {
   "cell_type": "code",
   "execution_count": 52,
   "metadata": {},
   "outputs": [],
   "source": [
    "global_model = build_model((24,1,1))"
   ]
  },
  {
   "cell_type": "code",
   "execution_count": 53,
   "metadata": {},
   "outputs": [],
   "source": [
    "x1, y1 = preprocessing(training1)\n",
    "x2, y2 = preprocessing(training2)\n",
    "x3, y3 = preprocessing(training3)\n",
    "xbasic, ybasic = preprocessing(test_basic)\n",
    "xplus, yplus = preprocessing(test_plus)"
   ]
  },
  {
   "cell_type": "code",
   "execution_count": 54,
   "metadata": {},
   "outputs": [
    {
     "name": "stdout",
     "output_type": "stream",
     "text": [
      "Epoch 1/5\n",
      "31/31 [==============================] - 8s 256ms/step - loss: 0.4924 - accuracy: 0.7761 - val_loss: 0.8399 - val_accuracy: 0.2471\n",
      "Epoch 2/5\n",
      "31/31 [==============================] - 8s 270ms/step - loss: 0.2105 - accuracy: 0.9173 - val_loss: 0.1920 - val_accuracy: 0.9600\n",
      "Epoch 3/5\n",
      "31/31 [==============================] - 9s 280ms/step - loss: 0.0963 - accuracy: 0.9758 - val_loss: 0.1099 - val_accuracy: 0.9891\n",
      "Epoch 4/5\n",
      "31/31 [==============================] - 8s 273ms/step - loss: 0.0644 - accuracy: 0.9840 - val_loss: 0.0896 - val_accuracy: 0.9961\n",
      "Epoch 5/5\n",
      "31/31 [==============================] - 9s 280ms/step - loss: 0.0500 - accuracy: 0.9873 - val_loss: 0.0789 - val_accuracy: 0.9977\n",
      "Epoch 1/5\n",
      "98/98 [==============================] - 28s 290ms/step - loss: 0.0212 - accuracy: 0.9931 - val_loss: 0.0183 - val_accuracy: 0.9924\n",
      "Epoch 2/5\n",
      "98/98 [==============================] - 27s 280ms/step - loss: 0.0159 - accuracy: 0.9948 - val_loss: 0.0145 - val_accuracy: 0.9938\n",
      "Epoch 3/5\n",
      "98/98 [==============================] - 26s 267ms/step - loss: 0.0145 - accuracy: 0.9954 - val_loss: 0.0181 - val_accuracy: 0.9929\n",
      "Epoch 4/5\n",
      "98/98 [==============================] - 27s 273ms/step - loss: 0.0142 - accuracy: 0.9957 - val_loss: 0.0108 - val_accuracy: 0.9966\n",
      "Epoch 5/5\n",
      "98/98 [==============================] - 28s 281ms/step - loss: 0.0137 - accuracy: 0.9961 - val_loss: 0.0181 - val_accuracy: 0.9927\n",
      "Epoch 1/5\n",
      "32/32 [==============================] - 9s 285ms/step - loss: 0.0781 - accuracy: 0.9680 - val_loss: 0.1791 - val_accuracy: 0.9189\n",
      "Epoch 2/5\n",
      "32/32 [==============================] - 9s 273ms/step - loss: 0.0170 - accuracy: 0.9942 - val_loss: 0.2051 - val_accuracy: 0.8967\n",
      "Epoch 3/5\n",
      "32/32 [==============================] - 8s 261ms/step - loss: 0.0153 - accuracy: 0.9949 - val_loss: 0.1403 - val_accuracy: 0.9383\n",
      "Epoch 4/5\n",
      "32/32 [==============================] - 10s 300ms/step - loss: 0.0146 - accuracy: 0.9951 - val_loss: 0.2364 - val_accuracy: 0.8712\n",
      "Epoch 5/5\n",
      "32/32 [==============================] - 9s 278ms/step - loss: 0.0140 - accuracy: 0.9953 - val_loss: 0.2104 - val_accuracy: 0.8876\n",
      "   1/4279 [..............................] - ETA: 3s - loss: 0.0078 - accuracy: 1.0000"
     ]
    },
    {
     "name": "stderr",
     "output_type": "stream",
     "text": [
      "c:\\Users\\UX430\\anaconda3\\lib\\site-packages\\numpy\\core\\_asarray.py:171: VisibleDeprecationWarning: Creating an ndarray from ragged nested sequences (which is a list-or-tuple of lists-or-tuples-or ndarrays with different lengths or shapes) is deprecated. If you meant to do this, you must specify 'dtype=object' when creating the ndarray.\n",
      "  return array(a, dtype, copy=False, order=order, subok=True)\n"
     ]
    },
    {
     "name": "stdout",
     "output_type": "stream",
     "text": [
      "4279/4279 [==============================] - 22s 5ms/step - loss: 0.0363 - accuracy: 0.9904\n",
      "1721/1721 [==============================] - 8s 5ms/step - loss: 0.0820 - accuracy: 0.9797\n",
      "Epoch 1/5\n",
      "31/31 [==============================] - 8s 248ms/step - loss: 0.0399 - accuracy: 0.9884 - val_loss: 0.1251 - val_accuracy: 0.9981\n",
      "Epoch 2/5\n",
      "31/31 [==============================] - 8s 255ms/step - loss: 0.0357 - accuracy: 0.9885 - val_loss: 0.1696 - val_accuracy: 0.9914\n",
      "Epoch 3/5\n",
      "31/31 [==============================] - 8s 252ms/step - loss: 0.0346 - accuracy: 0.9886 - val_loss: 0.1173 - val_accuracy: 0.9976\n",
      "Epoch 4/5\n",
      "31/31 [==============================] - 8s 251ms/step - loss: 0.0339 - accuracy: 0.9887 - val_loss: 0.1719 - val_accuracy: 0.9871\n",
      "Epoch 5/5\n",
      "31/31 [==============================] - 8s 253ms/step - loss: 0.0330 - accuracy: 0.9889 - val_loss: 0.1321 - val_accuracy: 0.9971\n",
      "Epoch 1/5\n",
      "98/98 [==============================] - 26s 266ms/step - loss: 0.0161 - accuracy: 0.9953 - val_loss: 0.0187 - val_accuracy: 0.9930\n",
      "Epoch 2/5\n",
      "98/98 [==============================] - 26s 265ms/step - loss: 0.0133 - accuracy: 0.9960 - val_loss: 0.0109 - val_accuracy: 0.9961\n",
      "Epoch 3/5\n",
      "98/98 [==============================] - 29s 298ms/step - loss: 0.0127 - accuracy: 0.9962 - val_loss: 0.0118 - val_accuracy: 0.9959\n",
      "Epoch 4/5\n",
      "98/98 [==============================] - 26s 265ms/step - loss: 0.0120 - accuracy: 0.9964 - val_loss: 0.0191 - val_accuracy: 0.9936\n",
      "Epoch 5/5\n",
      "98/98 [==============================] - 26s 263ms/step - loss: 0.0114 - accuracy: 0.9967 - val_loss: 0.0169 - val_accuracy: 0.9934\n",
      "Epoch 1/5\n",
      "32/32 [==============================] - 8s 258ms/step - loss: 0.0683 - accuracy: 0.9728 - val_loss: 0.4010 - val_accuracy: 0.8318\n",
      "Epoch 2/5\n",
      "32/32 [==============================] - 7s 226ms/step - loss: 0.0157 - accuracy: 0.9953 - val_loss: 0.3444 - val_accuracy: 0.8487\n",
      "Epoch 3/5\n",
      "32/32 [==============================] - 8s 246ms/step - loss: 0.0137 - accuracy: 0.9956 - val_loss: 0.2630 - val_accuracy: 0.8824\n",
      "Epoch 4/5\n",
      "32/32 [==============================] - 8s 249ms/step - loss: 0.0126 - accuracy: 0.9958 - val_loss: 0.3202 - val_accuracy: 0.8620\n",
      "Epoch 5/5\n",
      "32/32 [==============================] - 8s 242ms/step - loss: 0.0122 - accuracy: 0.9959 - val_loss: 0.2367 - val_accuracy: 0.8920\n",
      "  52/4279 [..............................] - ETA: 12s - loss: 0.0293 - accuracy: 0.9928"
     ]
    },
    {
     "name": "stderr",
     "output_type": "stream",
     "text": [
      "c:\\Users\\UX430\\anaconda3\\lib\\site-packages\\numpy\\core\\_asarray.py:171: VisibleDeprecationWarning: Creating an ndarray from ragged nested sequences (which is a list-or-tuple of lists-or-tuples-or ndarrays with different lengths or shapes) is deprecated. If you meant to do this, you must specify 'dtype=object' when creating the ndarray.\n",
      "  return array(a, dtype, copy=False, order=order, subok=True)\n"
     ]
    },
    {
     "name": "stdout",
     "output_type": "stream",
     "text": [
      "4279/4279 [==============================] - 17s 4ms/step - loss: 0.0305 - accuracy: 0.9920\n",
      "1721/1721 [==============================] - 7s 4ms/step - loss: 0.1226 - accuracy: 0.9650\n",
      "Epoch 1/5\n",
      "31/31 [==============================] - 8s 270ms/step - loss: 0.0345 - accuracy: 0.9885 - val_loss: 0.1601 - val_accuracy: 0.9917\n",
      "Epoch 2/5\n",
      "31/31 [==============================] - 7s 233ms/step - loss: 0.0316 - accuracy: 0.9891 - val_loss: 0.1942 - val_accuracy: 0.9533\n",
      "Epoch 3/5\n",
      "31/31 [==============================] - 8s 246ms/step - loss: 0.0304 - accuracy: 0.9894 - val_loss: 0.2536 - val_accuracy: 0.9004\n",
      "Epoch 4/5\n",
      "31/31 [==============================] - 8s 250ms/step - loss: 0.0302 - accuracy: 0.9897 - val_loss: 0.2048 - val_accuracy: 0.9328\n",
      "Epoch 5/5\n",
      "31/31 [==============================] - 7s 225ms/step - loss: 0.0295 - accuracy: 0.9897 - val_loss: 0.2492 - val_accuracy: 0.8519\n",
      "Epoch 1/5\n",
      "98/98 [==============================] - 24s 243ms/step - loss: 0.0141 - accuracy: 0.9959 - val_loss: 0.0119 - val_accuracy: 0.9955\n",
      "Epoch 2/5\n",
      "98/98 [==============================] - 24s 249ms/step - loss: 0.0112 - accuracy: 0.9967 - val_loss: 0.0132 - val_accuracy: 0.9955\n",
      "Epoch 3/5\n",
      "98/98 [==============================] - 26s 262ms/step - loss: 0.0104 - accuracy: 0.9969 - val_loss: 0.0166 - val_accuracy: 0.9945\n",
      "Epoch 4/5\n",
      "98/98 [==============================] - 27s 271ms/step - loss: 0.0100 - accuracy: 0.9968 - val_loss: 0.0115 - val_accuracy: 0.9958\n",
      "Epoch 5/5\n",
      "98/98 [==============================] - 30s 309ms/step - loss: 0.0102 - accuracy: 0.9972 - val_loss: 0.0136 - val_accuracy: 0.9954\n",
      "Epoch 1/5\n",
      "32/32 [==============================] - 8s 236ms/step - loss: 0.0311 - accuracy: 0.9878 - val_loss: 0.2326 - val_accuracy: 0.9047\n",
      "Epoch 2/5\n",
      "32/32 [==============================] - 8s 265ms/step - loss: 0.0112 - accuracy: 0.9961 - val_loss: 0.2937 - val_accuracy: 0.8841\n",
      "Epoch 3/5\n",
      "32/32 [==============================] - 7s 234ms/step - loss: 0.0105 - accuracy: 0.9962 - val_loss: 0.3527 - val_accuracy: 0.8648\n",
      "Epoch 4/5\n",
      "32/32 [==============================] - 7s 225ms/step - loss: 0.0102 - accuracy: 0.9964 - val_loss: 0.3113 - val_accuracy: 0.8774\n",
      "Epoch 5/5\n",
      "32/32 [==============================] - 7s 223ms/step - loss: 0.0099 - accuracy: 0.9965 - val_loss: 0.3748 - val_accuracy: 0.8543\n",
      "  27/4279 [..............................] - ETA: 15s - loss: 0.0285 - accuracy: 0.9931"
     ]
    },
    {
     "name": "stderr",
     "output_type": "stream",
     "text": [
      "c:\\Users\\UX430\\anaconda3\\lib\\site-packages\\numpy\\core\\_asarray.py:171: VisibleDeprecationWarning: Creating an ndarray from ragged nested sequences (which is a list-or-tuple of lists-or-tuples-or ndarrays with different lengths or shapes) is deprecated. If you meant to do this, you must specify 'dtype=object' when creating the ndarray.\n",
      "  return array(a, dtype, copy=False, order=order, subok=True)\n"
     ]
    },
    {
     "name": "stdout",
     "output_type": "stream",
     "text": [
      "4279/4279 [==============================] - 17s 4ms/step - loss: 0.0307 - accuracy: 0.9913\n",
      "1721/1721 [==============================] - 9s 5ms/step - loss: 0.2586 - accuracy: 0.8924\n"
     ]
    }
   ],
   "source": [
    "# Values saved each iteration \n",
    "loss_it = []\n",
    "accuracy_it = []\n",
    "f1_it = []\n",
    "precision_it = []\n",
    "recall_it = []\n",
    "\n",
    "for i in range(global_updates): \n",
    "    w_list = []\n",
    "    for node in range(num_nodes): \n",
    "        cp = global_model # create a copy of the global model\n",
    "        if node == 0:\n",
    "            x, y = x1, y1\n",
    "        elif node == 1:\n",
    "            x, y = x2, y2\n",
    "        else:\n",
    "            x, y = x3, y3\n",
    "        local_model, local_loss, local_acc, local_val_loss, local_val_acc = train_local_model(cp, node, x, y)\n",
    "        w_list.append(local_model.get_weights())\n",
    "\n",
    "    avg_w = aggregate(w_list)\n",
    "    global_model.set_weights(avg_w) # apply gradients to global model\n",
    "    loss_basic, accuracy_basic, f1_basic, precision_basic, recall_basic = evaluation(global_model, xbasic, ybasic) # Evaluate with test basic to know progress\n",
    "    loss_plus, accuracy_plus, f1_plus, precision_plus, recall_plus = evaluation(global_model, xplus, yplus) # Evaluate with test plus to know progress\n",
    "\n",
    "    loss_it.append([loss_basic, loss_plus])\n",
    "    accuracy_it.append([accuracy_basic, accuracy_plus])\n",
    "    f1_it.append([f1_basic, f1_plus])\n",
    "    precision_it.append([precision_basic, precision_plus])\n",
    "    recall_it.append([recall_basic, recall_plus])\n",
    "\n",
    "\n",
    "global_model.save('C:/Users/UX430/Documents/thesis/code/models/id1905.hdf5')"
   ]
  },
  {
   "cell_type": "code",
   "execution_count": 55,
   "metadata": {},
   "outputs": [
    {
     "name": "stdout",
     "output_type": "stream",
     "text": [
      "Loss for iterations:  [[0.036317676305770874, 0.08204517513513565], [0.030501162633299828, 0.12260642647743225], [0.03071054257452488, 0.25858744978904724]]\n",
      "Accuracy for iterations:  [[0.99040287733078, 0.9796919226646423], [0.9919585585594177, 0.9650148749351501], [0.991337776184082, 0.8923744559288025]]\n",
      "F1 for iterations:  [[0.9904071741676135, 0.979692834827217], [0.99196169120534, 0.9649327039299128], [0.9913401921767304, 0.8901177736525885]]\n",
      "Precision for iterations:  [[0.9905810819099359, 0.9796940042926382], [0.9920846030546682, 0.9653995430314516], [0.9914000457911404, 0.9047318564404355]]\n",
      "Recall for iterations:  [[0.9904028747553244, 0.9796919276320569], [0.9919585731397353, 0.9650148950083557], [0.9913377545356277, 0.8923744823076364]]\n"
     ]
    }
   ],
   "source": [
    "print(\"Loss for iterations: \", loss_it)\n",
    "print(\"Accuracy for iterations: \", accuracy_it)\n",
    "print(\"F1 for iterations: \", f1_it)\n",
    "print(\"Precision for iterations: \", precision_it)\n",
    "print(\"Recall for iterations: \", recall_it)"
   ]
  },
  {
   "cell_type": "markdown",
   "metadata": {},
   "source": [
    "#### DATASET 3G"
   ]
  },
  {
   "cell_type": "code",
   "execution_count": 56,
   "metadata": {},
   "outputs": [
    {
     "name": "stderr",
     "output_type": "stream",
     "text": [
      "C:\\Users\\UX430\\AppData\\Local\\Temp/ipykernel_5216/1702362103.py:3: DtypeWarning: Columns (4) have mixed types. Specify dtype option on import or set low_memory=False.\n",
      "  training2 = pd.read_csv('C:/Users/UX430/Documents/thesis/datasets/UNSW-NB15/UNSW-NB15-Train-Basic-Filt3G-Part2.csv')\n",
      "C:\\Users\\UX430\\AppData\\Local\\Temp/ipykernel_5216/1702362103.py:4: DtypeWarning: Columns (4) have mixed types. Specify dtype option on import or set low_memory=False.\n",
      "  training3 = pd.read_csv('C:/Users/UX430/Documents/thesis/datasets/UNSW-NB15/UNSW-NB15-Train-Basic-Filt3G-Part3.csv')\n"
     ]
    }
   ],
   "source": [
    "# Load training datasets and testing datasets \n",
    "training1 = pd.read_csv('C:/Users/UX430/Documents/thesis/datasets/UNSW-NB15/UNSW-NB15-Train-Basic-Filt3G-Part1.csv')\n",
    "training2 = pd.read_csv('C:/Users/UX430/Documents/thesis/datasets/UNSW-NB15/UNSW-NB15-Train-Basic-Filt3G-Part2.csv')\n",
    "training3 = pd.read_csv('C:/Users/UX430/Documents/thesis/datasets/UNSW-NB15/UNSW-NB15-Train-Basic-Filt3G-Part3.csv')"
   ]
  },
  {
   "cell_type": "code",
   "execution_count": 57,
   "metadata": {},
   "outputs": [],
   "source": [
    "# Define \n",
    "node_datasets = [training1, training2, training3]\n",
    "num_nodes = 3\n",
    "global_updates = 3\n",
    "\n",
    "# Define model training parameters\n",
    "loss_fct = \"categorical_crossentropy\"\n",
    "metrics = ['accuracy']\n",
    "local_epochs = 5"
   ]
  },
  {
   "cell_type": "code",
   "execution_count": 58,
   "metadata": {},
   "outputs": [],
   "source": [
    "def train_local_model(model, node, x_train, y_train): \n",
    "    filepath = 'C:/Users/UX430/Documents/thesis/code/models/node'+str(node)+'id1906.hdf5'\n",
    "    callbacks = [\n",
    "            keras.callbacks.EarlyStopping(\n",
    "                monitor = 'val_loss', # Use accuracy to monitor the model\n",
    "                patience = 10 # Stop after 10 steps with lower accuracy\n",
    "            ),\n",
    "            keras.callbacks.ModelCheckpoint(\n",
    "                filepath = filepath, # file where the checkpoint is saved\n",
    "                monitor = 'val_loss', # Don't overwrite the saved model unless val_loss is worse\n",
    "                save_best_only = True)]# Only save model if it is the best\n",
    "    optimizer = keras.optimizers.Adam(learning_rate=5e-4)\n",
    "    model.compile(optimizer=optimizer, loss=loss_fct, metrics=metrics)\n",
    "    history = model.fit(x_train, y_train, epochs=local_epochs, validation_split=0.2, callbacks=callbacks, batch_size=2048)\n",
    "    return model, history.history['loss'], history.history['accuracy'], history.history['val_loss'], history.history['val_accuracy']"
   ]
  },
  {
   "cell_type": "code",
   "execution_count": 59,
   "metadata": {},
   "outputs": [],
   "source": [
    "def aggregate(w_list): \n",
    "    avg_w = np.mean(w_list, axis=0)\n",
    "    return avg_w"
   ]
  },
  {
   "cell_type": "code",
   "execution_count": 60,
   "metadata": {},
   "outputs": [],
   "source": [
    "global_model = build_model((24,1,1))"
   ]
  },
  {
   "cell_type": "code",
   "execution_count": 61,
   "metadata": {},
   "outputs": [],
   "source": [
    "x1, y1 = preprocessing(training1)\n",
    "x2, y2 = preprocessing(training2)\n",
    "x3, y3 = preprocessing(training3)\n",
    "xbasic, ybasic = preprocessing(test_basic)\n",
    "xplus, yplus = preprocessing(test_plus)"
   ]
  },
  {
   "cell_type": "code",
   "execution_count": 62,
   "metadata": {},
   "outputs": [
    {
     "name": "stdout",
     "output_type": "stream",
     "text": [
      "Epoch 1/5\n",
      "20/20 [==============================] - 5s 226ms/step - loss: 0.4891 - accuracy: 0.9319 - val_loss: 1.7899 - val_accuracy: 0.1462\n",
      "Epoch 2/5\n",
      "20/20 [==============================] - 4s 224ms/step - loss: 0.1631 - accuracy: 0.9574 - val_loss: 0.9596 - val_accuracy: 0.3860\n",
      "Epoch 3/5\n",
      "20/20 [==============================] - 4s 221ms/step - loss: 0.0727 - accuracy: 0.9775 - val_loss: 0.6613 - val_accuracy: 0.6902\n",
      "Epoch 4/5\n",
      "20/20 [==============================] - 5s 236ms/step - loss: 0.0543 - accuracy: 0.9801 - val_loss: 0.4259 - val_accuracy: 0.8409\n",
      "Epoch 5/5\n",
      "20/20 [==============================] - 4s 222ms/step - loss: 0.0480 - accuracy: 0.9836 - val_loss: 0.4433 - val_accuracy: 0.8273\n",
      "Epoch 1/5\n",
      "54/54 [==============================] - 15s 269ms/step - loss: 0.0237 - accuracy: 0.9918 - val_loss: 0.4141 - val_accuracy: 0.6818\n",
      "Epoch 2/5\n",
      "54/54 [==============================] - 14s 268ms/step - loss: 0.0196 - accuracy: 0.9932 - val_loss: 0.3257 - val_accuracy: 0.7786\n",
      "Epoch 3/5\n",
      "54/54 [==============================] - 15s 278ms/step - loss: 0.0175 - accuracy: 0.9944 - val_loss: 0.3686 - val_accuracy: 0.7881\n",
      "Epoch 4/5\n",
      "54/54 [==============================] - 15s 284ms/step - loss: 0.0161 - accuracy: 0.9948 - val_loss: 0.3836 - val_accuracy: 0.7940\n",
      "Epoch 5/5\n",
      "54/54 [==============================] - 16s 292ms/step - loss: 0.0157 - accuracy: 0.9952 - val_loss: 0.2865 - val_accuracy: 0.8454\n",
      "Epoch 1/5\n",
      "79/79 [==============================] - 22s 272ms/step - loss: 0.0144 - accuracy: 0.9954 - val_loss: 0.3143 - val_accuracy: 0.8641\n",
      "Epoch 2/5\n",
      "79/79 [==============================] - 22s 273ms/step - loss: 0.0135 - accuracy: 0.9958 - val_loss: 0.3640 - val_accuracy: 0.8559\n",
      "Epoch 3/5\n",
      "79/79 [==============================] - 21s 271ms/step - loss: 0.0133 - accuracy: 0.9959 - val_loss: 0.2707 - val_accuracy: 0.8848\n",
      "Epoch 4/5\n",
      "79/79 [==============================] - 23s 290ms/step - loss: 0.0129 - accuracy: 0.9961 - val_loss: 0.3463 - val_accuracy: 0.8661\n",
      "Epoch 5/5\n",
      "79/79 [==============================] - 22s 282ms/step - loss: 0.0131 - accuracy: 0.9959 - val_loss: 0.1386 - val_accuracy: 0.9229\n",
      "  11/4279 [..............................] - ETA: 23s - loss: 0.0514 - accuracy: 0.9972"
     ]
    },
    {
     "name": "stderr",
     "output_type": "stream",
     "text": [
      "c:\\Users\\UX430\\anaconda3\\lib\\site-packages\\numpy\\core\\_asarray.py:171: VisibleDeprecationWarning: Creating an ndarray from ragged nested sequences (which is a list-or-tuple of lists-or-tuples-or ndarrays with different lengths or shapes) is deprecated. If you meant to do this, you must specify 'dtype=object' when creating the ndarray.\n",
      "  return array(a, dtype, copy=False, order=order, subok=True)\n"
     ]
    },
    {
     "name": "stdout",
     "output_type": "stream",
     "text": [
      "4279/4279 [==============================] - 23s 5ms/step - loss: 0.0873 - accuracy: 0.9883\n",
      "1721/1721 [==============================] - 9s 5ms/step - loss: 0.1458 - accuracy: 0.9425\n",
      "Epoch 1/5\n",
      "20/20 [==============================] - 6s 283ms/step - loss: 0.0281 - accuracy: 0.9889 - val_loss: 0.2057 - val_accuracy: 0.9557\n",
      "Epoch 2/5\n",
      "20/20 [==============================] - 5s 254ms/step - loss: 0.0261 - accuracy: 0.9901 - val_loss: 0.2162 - val_accuracy: 0.9416\n",
      "Epoch 3/5\n",
      "20/20 [==============================] - 5s 251ms/step - loss: 0.0257 - accuracy: 0.9906 - val_loss: 0.2761 - val_accuracy: 0.8898\n",
      "Epoch 4/5\n",
      "20/20 [==============================] - 5s 259ms/step - loss: 0.0248 - accuracy: 0.9908 - val_loss: 0.2941 - val_accuracy: 0.8672\n",
      "Epoch 5/5\n",
      "20/20 [==============================] - 5s 266ms/step - loss: 0.0249 - accuracy: 0.9911 - val_loss: 0.3108 - val_accuracy: 0.8454\n",
      "Epoch 1/5\n",
      "54/54 [==============================] - 16s 289ms/step - loss: 0.0152 - accuracy: 0.9954 - val_loss: 0.3007 - val_accuracy: 0.8444\n",
      "Epoch 2/5\n",
      "54/54 [==============================] - 16s 290ms/step - loss: 0.0142 - accuracy: 0.9959 - val_loss: 0.4151 - val_accuracy: 0.8042\n",
      "Epoch 3/5\n",
      "54/54 [==============================] - 15s 276ms/step - loss: 0.0140 - accuracy: 0.9959 - val_loss: 0.4063 - val_accuracy: 0.8078\n",
      "Epoch 4/5\n",
      "54/54 [==============================] - 18s 341ms/step - loss: 0.0136 - accuracy: 0.9961 - val_loss: 0.3364 - val_accuracy: 0.8494\n",
      "Epoch 5/5\n",
      "54/54 [==============================] - 18s 340ms/step - loss: 0.0136 - accuracy: 0.9961 - val_loss: 0.4469 - val_accuracy: 0.8132\n",
      "Epoch 1/5\n",
      "79/79 [==============================] - 28s 354ms/step - loss: 0.0123 - accuracy: 0.9963 - val_loss: 0.3209 - val_accuracy: 0.8807\n",
      "Epoch 2/5\n",
      "79/79 [==============================] - 26s 335ms/step - loss: 0.0119 - accuracy: 0.9963 - val_loss: 0.4099 - val_accuracy: 0.8523\n",
      "Epoch 3/5\n",
      "79/79 [==============================] - 28s 356ms/step - loss: 0.0115 - accuracy: 0.9965 - val_loss: 0.3145 - val_accuracy: 0.8871\n",
      "Epoch 4/5\n",
      "79/79 [==============================] - 30s 383ms/step - loss: 0.0109 - accuracy: 0.9967 - val_loss: 0.2772 - val_accuracy: 0.8998\n",
      "Epoch 5/5\n",
      "79/79 [==============================] - 26s 324ms/step - loss: 0.0107 - accuracy: 0.9966 - val_loss: 0.3499 - val_accuracy: 0.8796\n",
      "   1/4279 [..............................] - ETA: 0s - loss: 0.0697 - accuracy: 1.0000"
     ]
    },
    {
     "name": "stderr",
     "output_type": "stream",
     "text": [
      "c:\\Users\\UX430\\anaconda3\\lib\\site-packages\\numpy\\core\\_asarray.py:171: VisibleDeprecationWarning: Creating an ndarray from ragged nested sequences (which is a list-or-tuple of lists-or-tuples-or ndarrays with different lengths or shapes) is deprecated. If you meant to do this, you must specify 'dtype=object' when creating the ndarray.\n",
      "  return array(a, dtype, copy=False, order=order, subok=True)\n"
     ]
    },
    {
     "name": "stdout",
     "output_type": "stream",
     "text": [
      "4279/4279 [==============================] - 29s 7ms/step - loss: 0.1003 - accuracy: 0.9879\n",
      "1721/1721 [==============================] - 13s 7ms/step - loss: 0.3445 - accuracy: 0.8589\n",
      "Epoch 1/5\n",
      "20/20 [==============================] - 7s 374ms/step - loss: 0.0241 - accuracy: 0.9905 - val_loss: 0.2944 - val_accuracy: 0.8441\n",
      "Epoch 2/5\n",
      "20/20 [==============================] - 7s 335ms/step - loss: 0.0218 - accuracy: 0.9918 - val_loss: 0.2871 - val_accuracy: 0.8373\n",
      "Epoch 3/5\n",
      "20/20 [==============================] - 6s 305ms/step - loss: 0.0217 - accuracy: 0.9920 - val_loss: 0.3633 - val_accuracy: 0.7793\n",
      "Epoch 4/5\n",
      "20/20 [==============================] - 7s 368ms/step - loss: 0.0212 - accuracy: 0.9922 - val_loss: 0.2987 - val_accuracy: 0.8327\n",
      "Epoch 5/5\n",
      "20/20 [==============================] - 7s 343ms/step - loss: 0.0210 - accuracy: 0.9920 - val_loss: 0.4262 - val_accuracy: 0.7497\n",
      "Epoch 1/5\n",
      "54/54 [==============================] - 20s 374ms/step - loss: 0.0134 - accuracy: 0.9962 - val_loss: 0.3780 - val_accuracy: 0.8347\n",
      "Epoch 2/5\n",
      "54/54 [==============================] - 21s 395ms/step - loss: 0.0127 - accuracy: 0.9964 - val_loss: 0.4021 - val_accuracy: 0.8307\n",
      "Epoch 3/5\n",
      "54/54 [==============================] - 21s 393ms/step - loss: 0.0125 - accuracy: 0.9965 - val_loss: 0.4075 - val_accuracy: 0.8377\n",
      "Epoch 4/5\n",
      "54/54 [==============================] - 15s 283ms/step - loss: 0.0122 - accuracy: 0.9965 - val_loss: 0.7354 - val_accuracy: 0.7370\n",
      "Epoch 5/5\n",
      "54/54 [==============================] - 15s 279ms/step - loss: 0.0118 - accuracy: 0.9965 - val_loss: 0.4797 - val_accuracy: 0.8155\n",
      "Epoch 1/5\n",
      "79/79 [==============================] - 25s 314ms/step - loss: 0.0102 - accuracy: 0.9968 - val_loss: 0.4055 - val_accuracy: 0.8651\n",
      "Epoch 2/5\n",
      "79/79 [==============================] - 27s 340ms/step - loss: 0.0099 - accuracy: 0.9968 - val_loss: 0.4902 - val_accuracy: 0.8462\n",
      "Epoch 3/5\n",
      "79/79 [==============================] - 24s 300ms/step - loss: 0.0093 - accuracy: 0.9971 - val_loss: 0.2395 - val_accuracy: 0.9097\n",
      "Epoch 4/5\n",
      "79/79 [==============================] - 21s 269ms/step - loss: 0.0091 - accuracy: 0.9972 - val_loss: 0.4948 - val_accuracy: 0.8474\n",
      "Epoch 5/5\n",
      "79/79 [==============================] - 21s 269ms/step - loss: 0.0088 - accuracy: 0.9972 - val_loss: 0.4048 - val_accuracy: 0.8798\n"
     ]
    },
    {
     "name": "stderr",
     "output_type": "stream",
     "text": [
      "c:\\Users\\UX430\\anaconda3\\lib\\site-packages\\numpy\\core\\_asarray.py:171: VisibleDeprecationWarning: Creating an ndarray from ragged nested sequences (which is a list-or-tuple of lists-or-tuples-or ndarrays with different lengths or shapes) is deprecated. If you meant to do this, you must specify 'dtype=object' when creating the ndarray.\n",
      "  return array(a, dtype, copy=False, order=order, subok=True)\n"
     ]
    },
    {
     "name": "stdout",
     "output_type": "stream",
     "text": [
      "4279/4279 [==============================] - 23s 5ms/step - loss: 0.1773 - accuracy: 0.9757\n",
      "1721/1721 [==============================] - 8s 5ms/step - loss: 0.6137 - accuracy: 0.7549\n"
     ]
    }
   ],
   "source": [
    "# Values saved each iteration \n",
    "loss_it = []\n",
    "accuracy_it = []\n",
    "f1_it = []\n",
    "precision_it = []\n",
    "recall_it = []\n",
    "\n",
    "for i in range(global_updates): \n",
    "    w_list = []\n",
    "    for node in range(num_nodes): \n",
    "        cp = global_model # create a copy of the global model\n",
    "        if node == 0:\n",
    "            x, y = x1, y1\n",
    "        elif node == 1:\n",
    "            x, y = x2, y2\n",
    "        else:\n",
    "            x, y = x3, y3\n",
    "        local_model, local_loss, local_acc, local_val_loss, local_val_acc = train_local_model(cp, node, x, y)\n",
    "        w_list.append(local_model.get_weights())\n",
    "\n",
    "    avg_w = aggregate(w_list)\n",
    "    global_model.set_weights(avg_w) # apply gradients to global model\n",
    "    loss_basic, accuracy_basic, f1_basic, precision_basic, recall_basic = evaluation(global_model, xbasic, ybasic) # Evaluate with test basic to know progress\n",
    "    loss_plus, accuracy_plus, f1_plus, precision_plus, recall_plus = evaluation(global_model, xplus, yplus) # Evaluate with test plus to know progress\n",
    "\n",
    "    loss_it.append([loss_basic, loss_plus])\n",
    "    accuracy_it.append([accuracy_basic, accuracy_plus])\n",
    "    f1_it.append([f1_basic, f1_plus])\n",
    "    precision_it.append([precision_basic, precision_plus])\n",
    "    recall_it.append([recall_basic, recall_plus])\n",
    "\n",
    "\n",
    "global_model.save('C:/Users/UX430/Documents/thesis/code/models/id1906.hdf5')"
   ]
  },
  {
   "cell_type": "code",
   "execution_count": 63,
   "metadata": {},
   "outputs": [
    {
     "name": "stdout",
     "output_type": "stream",
     "text": [
      "Loss for iterations:  [[0.08730008453130722, 0.1458355337381363], [0.10025162994861603, 0.34445902705192566], [0.17731809616088867, 0.6136548519134521]]\n",
      "Accuracy for iterations:  [[0.9883286356925964, 0.9425270557403564], [0.9878538846969604, 0.8588970303535461], [0.9757442474365234, 0.754886269569397]]\n",
      "F1 for iterations:  [[0.9883332961354578, 0.9421687176171072], [0.9878556222806287, 0.8541542106213706], [0.975722963697017, 0.7314377050846614]]\n",
      "Precision for iterations:  [[0.9884676474774722, 0.9446438318790938], [0.987870997511829, 0.8807548339812601], [0.9760070100088785, 0.8195889618985991]]\n",
      "Recall for iterations:  [[0.9883286102427766, 0.942527065320061], [0.9878538666043414, 0.8588970427959021], [0.9757442519501008, 0.754886289326455]]\n"
     ]
    }
   ],
   "source": [
    "print(\"Loss for iterations: \", loss_it)\n",
    "print(\"Accuracy for iterations: \", accuracy_it)\n",
    "print(\"F1 for iterations: \", f1_it)\n",
    "print(\"Precision for iterations: \", precision_it)\n",
    "print(\"Recall for iterations: \", recall_it)"
   ]
  },
  {
   "cell_type": "markdown",
   "metadata": {},
   "source": [
    "### Weighted mean use for unbalanced partitions "
   ]
  },
  {
   "cell_type": "markdown",
   "metadata": {},
   "source": [
    "#### Dataset 3F"
   ]
  },
  {
   "cell_type": "code",
   "execution_count": 64,
   "metadata": {},
   "outputs": [
    {
     "name": "stderr",
     "output_type": "stream",
     "text": [
      "C:\\Users\\UX430\\AppData\\Local\\Temp/ipykernel_5216/89903324.py:2: DtypeWarning: Columns (4) have mixed types. Specify dtype option on import or set low_memory=False.\n",
      "  training1 = pd.read_csv('C:/Users/UX430/Documents/thesis/datasets/UNSW-NB15/UNSW-NB15-Train-Basic-Filt3F-Part1.csv')\n",
      "C:\\Users\\UX430\\AppData\\Local\\Temp/ipykernel_5216/89903324.py:3: DtypeWarning: Columns (4) have mixed types. Specify dtype option on import or set low_memory=False.\n",
      "  training2 = pd.read_csv('C:/Users/UX430/Documents/thesis/datasets/UNSW-NB15/UNSW-NB15-Train-Basic-Filt3F-Part2.csv')\n",
      "C:\\Users\\UX430\\AppData\\Local\\Temp/ipykernel_5216/89903324.py:4: DtypeWarning: Columns (4) have mixed types. Specify dtype option on import or set low_memory=False.\n",
      "  training3 = pd.read_csv('C:/Users/UX430/Documents/thesis/datasets/UNSW-NB15/UNSW-NB15-Train-Basic-Filt3F-Part3.csv')\n"
     ]
    }
   ],
   "source": [
    "# Load training datasets and testing datasets \n",
    "training1 = pd.read_csv('C:/Users/UX430/Documents/thesis/datasets/UNSW-NB15/UNSW-NB15-Train-Basic-Filt3F-Part1.csv')\n",
    "training2 = pd.read_csv('C:/Users/UX430/Documents/thesis/datasets/UNSW-NB15/UNSW-NB15-Train-Basic-Filt3F-Part2.csv')\n",
    "training3 = pd.read_csv('C:/Users/UX430/Documents/thesis/datasets/UNSW-NB15/UNSW-NB15-Train-Basic-Filt3F-Part3.csv')"
   ]
  },
  {
   "cell_type": "code",
   "execution_count": 65,
   "metadata": {},
   "outputs": [],
   "source": [
    "# Define \n",
    "node_datasets = [training1, training2, training3]\n",
    "num_nodes = 3\n",
    "global_updates = 3\n",
    "\n",
    "# Define model training parameters\n",
    "loss_fct = \"categorical_crossentropy\"\n",
    "metrics = ['accuracy']\n",
    "local_epochs = 5"
   ]
  },
  {
   "cell_type": "code",
   "execution_count": 66,
   "metadata": {},
   "outputs": [],
   "source": [
    "def train_local_model(model, node, x_train, y_train): \n",
    "    filepath = 'C:/Users/UX430/Documents/thesis/code/models/node'+str(node)+'id1907.hdf5'\n",
    "    callbacks = [\n",
    "            keras.callbacks.EarlyStopping(\n",
    "                monitor = 'val_loss', # Use accuracy to monitor the model\n",
    "                patience = 10 # Stop after 10 steps with lower accuracy\n",
    "            ),\n",
    "            keras.callbacks.ModelCheckpoint(\n",
    "                filepath = filepath, # file where the checkpoint is saved\n",
    "                monitor = 'val_loss', # Don't overwrite the saved model unless val_loss is worse\n",
    "                save_best_only = True)]# Only save model if it is the best\n",
    "    optimizer = keras.optimizers.Adam(learning_rate=5e-4)\n",
    "    model.compile(optimizer=optimizer, loss=loss_fct, metrics=metrics)\n",
    "    history = model.fit(x_train, y_train, epochs=local_epochs, validation_split=0.2, callbacks=callbacks, batch_size=2048)\n",
    "    return model, history.history['loss'], history.history['accuracy'], history.history['val_loss'], history.history['val_accuracy']"
   ]
  },
  {
   "cell_type": "code",
   "execution_count": 71,
   "metadata": {},
   "outputs": [],
   "source": [
    "def aggregate_weighted(w_list, sizes):\n",
    "    total_size = np.sum(sizes)\n",
    "    weighted_avg_w = []\n",
    "    for layer_weights in zip(*w_list):\n",
    "        weighted_layer = np.average(layer_weights, axis=0, weights=[size / total_size for size in sizes])\n",
    "        weighted_avg_w.append(weighted_layer)\n",
    "    return weighted_avg_w\n"
   ]
  },
  {
   "cell_type": "code",
   "execution_count": 68,
   "metadata": {},
   "outputs": [],
   "source": [
    "global_model = build_model((24,1,1))"
   ]
  },
  {
   "cell_type": "code",
   "execution_count": 69,
   "metadata": {},
   "outputs": [],
   "source": [
    "x1, y1 = preprocessing(training1)\n",
    "x2, y2 = preprocessing(training2)\n",
    "x3, y3 = preprocessing(training3)\n",
    "xbasic, ybasic = preprocessing(test_basic)\n",
    "xplus, yplus = preprocessing(test_plus)"
   ]
  },
  {
   "cell_type": "code",
   "execution_count": 72,
   "metadata": {},
   "outputs": [
    {
     "name": "stdout",
     "output_type": "stream",
     "text": [
      "Epoch 1/5\n",
      "31/31 [==============================] - 6s 186ms/step - loss: 0.0501 - accuracy: 0.9857 - val_loss: 0.1056 - val_accuracy: 0.9977\n",
      "Epoch 2/5\n",
      "31/31 [==============================] - 6s 198ms/step - loss: 0.0374 - accuracy: 0.9886 - val_loss: 0.1269 - val_accuracy: 0.9980\n",
      "Epoch 3/5\n",
      "31/31 [==============================] - 6s 200ms/step - loss: 0.0353 - accuracy: 0.9886 - val_loss: 0.1201 - val_accuracy: 0.9981\n",
      "Epoch 4/5\n",
      "31/31 [==============================] - 6s 201ms/step - loss: 0.0343 - accuracy: 0.9887 - val_loss: 0.1037 - val_accuracy: 0.9988\n",
      "Epoch 5/5\n",
      "31/31 [==============================] - 6s 191ms/step - loss: 0.0335 - accuracy: 0.9888 - val_loss: 0.1436 - val_accuracy: 0.9938\n",
      "Epoch 1/5\n",
      "98/98 [==============================] - 19s 191ms/step - loss: 0.0154 - accuracy: 0.9955 - val_loss: 0.0136 - val_accuracy: 0.9944\n",
      "Epoch 2/5\n",
      "98/98 [==============================] - 18s 188ms/step - loss: 0.0131 - accuracy: 0.9963 - val_loss: 0.0120 - val_accuracy: 0.9954\n",
      "Epoch 3/5\n",
      "98/98 [==============================] - 18s 184ms/step - loss: 0.0125 - accuracy: 0.9965 - val_loss: 0.0155 - val_accuracy: 0.9945\n",
      "Epoch 4/5\n",
      "98/98 [==============================] - 17s 176ms/step - loss: 0.0124 - accuracy: 0.9964 - val_loss: 0.0150 - val_accuracy: 0.9939\n",
      "Epoch 5/5\n",
      "98/98 [==============================] - 17s 172ms/step - loss: 0.0119 - accuracy: 0.9963 - val_loss: 0.0187 - val_accuracy: 0.9936\n",
      "Epoch 1/5\n",
      "32/32 [==============================] - 6s 178ms/step - loss: 0.0321 - accuracy: 0.9916 - val_loss: 0.3672 - val_accuracy: 0.8370\n",
      "Epoch 2/5\n",
      "32/32 [==============================] - 5s 166ms/step - loss: 0.0134 - accuracy: 0.9957 - val_loss: 0.2086 - val_accuracy: 0.9008\n",
      "Epoch 3/5\n",
      "32/32 [==============================] - 6s 175ms/step - loss: 0.0123 - accuracy: 0.9957 - val_loss: 0.1267 - val_accuracy: 0.9354\n",
      "Epoch 4/5\n",
      "32/32 [==============================] - 6s 172ms/step - loss: 0.0121 - accuracy: 0.9959 - val_loss: 0.2363 - val_accuracy: 0.8937\n",
      "Epoch 5/5\n",
      "32/32 [==============================] - 6s 174ms/step - loss: 0.0117 - accuracy: 0.9960 - val_loss: 0.2353 - val_accuracy: 0.8951\n",
      "4279/4279 [==============================] - 15s 3ms/step - loss: 0.0415 - accuracy: 0.9817\n",
      "1721/1721 [==============================] - 9s 5ms/step - loss: 0.3043 - accuracy: 0.8556\n",
      "Epoch 1/5\n",
      "31/31 [==============================] - 6s 196ms/step - loss: 0.0446 - accuracy: 0.9852 - val_loss: 0.1427 - val_accuracy: 0.9851\n",
      "Epoch 2/5\n",
      "31/31 [==============================] - 6s 185ms/step - loss: 0.0324 - accuracy: 0.9890 - val_loss: 0.1838 - val_accuracy: 0.9839\n",
      "Epoch 3/5\n",
      "31/31 [==============================] - 6s 196ms/step - loss: 0.0317 - accuracy: 0.9890 - val_loss: 0.1887 - val_accuracy: 0.9805\n",
      "Epoch 4/5\n",
      "31/31 [==============================] - 6s 194ms/step - loss: 0.0312 - accuracy: 0.9892 - val_loss: 0.1828 - val_accuracy: 0.9719\n",
      "Epoch 5/5\n",
      "31/31 [==============================] - 6s 189ms/step - loss: 0.0308 - accuracy: 0.9891 - val_loss: 0.1718 - val_accuracy: 0.9769\n",
      "Epoch 1/5\n",
      "98/98 [==============================] - 19s 195ms/step - loss: 0.0133 - accuracy: 0.9962 - val_loss: 0.0256 - val_accuracy: 0.9907\n",
      "Epoch 2/5\n",
      "98/98 [==============================] - 19s 196ms/step - loss: 0.0112 - accuracy: 0.9967 - val_loss: 0.0152 - val_accuracy: 0.9951\n",
      "Epoch 3/5\n",
      "98/98 [==============================] - 19s 198ms/step - loss: 0.0104 - accuracy: 0.9969 - val_loss: 0.0131 - val_accuracy: 0.9964\n",
      "Epoch 4/5\n",
      "98/98 [==============================] - 19s 198ms/step - loss: 0.0098 - accuracy: 0.9971 - val_loss: 0.0101 - val_accuracy: 0.9964\n",
      "Epoch 5/5\n",
      "98/98 [==============================] - 19s 198ms/step - loss: 0.0095 - accuracy: 0.9972 - val_loss: 0.0150 - val_accuracy: 0.9948\n",
      "Epoch 1/5\n",
      "32/32 [==============================] - 6s 189ms/step - loss: 0.0273 - accuracy: 0.9922 - val_loss: 0.4207 - val_accuracy: 0.8462\n",
      "Epoch 2/5\n",
      "32/32 [==============================] - 6s 193ms/step - loss: 0.0124 - accuracy: 0.9958 - val_loss: 0.2863 - val_accuracy: 0.8918\n",
      "Epoch 3/5\n",
      "32/32 [==============================] - 6s 189ms/step - loss: 0.0112 - accuracy: 0.9961 - val_loss: 0.2031 - val_accuracy: 0.9113\n",
      "Epoch 4/5\n",
      "32/32 [==============================] - 6s 194ms/step - loss: 0.0108 - accuracy: 0.9964 - val_loss: 0.3375 - val_accuracy: 0.8812\n",
      "Epoch 5/5\n",
      "32/32 [==============================] - 6s 198ms/step - loss: 0.0104 - accuracy: 0.9962 - val_loss: 0.2234 - val_accuracy: 0.9070\n",
      "4279/4279 [==============================] - 17s 4ms/step - loss: 0.0438 - accuracy: 0.9829\n",
      "1721/1721 [==============================] - 6s 4ms/step - loss: 0.4493 - accuracy: 0.8192\n",
      "Epoch 1/5\n",
      "31/31 [==============================] - 6s 189ms/step - loss: 0.0455 - accuracy: 0.9852 - val_loss: 0.2940 - val_accuracy: 0.8504\n",
      "Epoch 2/5\n",
      "31/31 [==============================] - 6s 181ms/step - loss: 0.0304 - accuracy: 0.9896 - val_loss: 0.2836 - val_accuracy: 0.8583\n",
      "Epoch 3/5\n",
      "31/31 [==============================] - 6s 193ms/step - loss: 0.0292 - accuracy: 0.9896 - val_loss: 0.2974 - val_accuracy: 0.8309\n",
      "Epoch 4/5\n",
      "31/31 [==============================] - 6s 181ms/step - loss: 0.0289 - accuracy: 0.9897 - val_loss: 0.1953 - val_accuracy: 0.9292\n",
      "Epoch 5/5\n",
      "31/31 [==============================] - 6s 187ms/step - loss: 0.0293 - accuracy: 0.9894 - val_loss: 0.2209 - val_accuracy: 0.9195\n",
      "Epoch 1/5\n",
      "98/98 [==============================] - 18s 187ms/step - loss: 0.0115 - accuracy: 0.9966 - val_loss: 0.0114 - val_accuracy: 0.9956\n",
      "Epoch 2/5\n",
      "98/98 [==============================] - 18s 185ms/step - loss: 0.0090 - accuracy: 0.9972 - val_loss: 0.0112 - val_accuracy: 0.9956\n",
      "Epoch 3/5\n",
      "98/98 [==============================] - 18s 182ms/step - loss: 0.0085 - accuracy: 0.9973 - val_loss: 0.0137 - val_accuracy: 0.9957\n",
      "Epoch 4/5\n",
      "98/98 [==============================] - 19s 189ms/step - loss: 0.0084 - accuracy: 0.9973 - val_loss: 0.0166 - val_accuracy: 0.9943\n",
      "Epoch 5/5\n",
      "98/98 [==============================] - 20s 206ms/step - loss: 0.0085 - accuracy: 0.9976 - val_loss: 0.0175 - val_accuracy: 0.9939\n",
      "Epoch 1/5\n",
      "32/32 [==============================] - 6s 202ms/step - loss: 0.0212 - accuracy: 0.9946 - val_loss: 0.3174 - val_accuracy: 0.8863\n",
      "Epoch 2/5\n",
      "32/32 [==============================] - 6s 200ms/step - loss: 0.0109 - accuracy: 0.9958 - val_loss: 0.3148 - val_accuracy: 0.8906\n",
      "Epoch 3/5\n",
      "32/32 [==============================] - 6s 189ms/step - loss: 0.0098 - accuracy: 0.9963 - val_loss: 0.3048 - val_accuracy: 0.8928\n",
      "Epoch 4/5\n",
      "32/32 [==============================] - 6s 203ms/step - loss: 0.0093 - accuracy: 0.9964 - val_loss: 0.1890 - val_accuracy: 0.9213\n",
      "Epoch 5/5\n",
      "32/32 [==============================] - 7s 206ms/step - loss: 0.0092 - accuracy: 0.9965 - val_loss: 0.2474 - val_accuracy: 0.9082\n",
      "4279/4279 [==============================] - 18s 4ms/step - loss: 0.0552 - accuracy: 0.9784\n",
      "1721/1721 [==============================] - 7s 4ms/step - loss: 0.6336 - accuracy: 0.7773\n"
     ]
    }
   ],
   "source": [
    "# Values saved each iteration \n",
    "loss_it = []\n",
    "accuracy_it = []\n",
    "f1_it = []\n",
    "precision_it = []\n",
    "recall_it = []\n",
    "\n",
    "for i in range(global_updates): \n",
    "    w_list = []\n",
    "    sizes = []  # List to store the sizes of local training datasets\n",
    "    for node in range(num_nodes): \n",
    "        cp = global_model # create a copy of the global model\n",
    "        if node == 0:\n",
    "            x, y = x1, y1\n",
    "        elif node == 1:\n",
    "            x, y = x2, y2\n",
    "        else:\n",
    "            x, y = x3, y3\n",
    "        local_model, local_loss, local_acc, local_val_loss, local_val_acc = train_local_model(cp, node, x, y)\n",
    "        w_list.append(local_model.get_weights())\n",
    "        sizes.append(len(x))  # Append the size of the local dataset\n",
    "\n",
    "    avg_w = aggregate_weighted(w_list, sizes)\n",
    "    global_model.set_weights(avg_w) # apply weighted average weights to global model\n",
    "\n",
    "    # Evaluation\n",
    "    loss_basic, accuracy_basic, f1_basic, precision_basic, recall_basic = evaluation(global_model, xbasic, ybasic) \n",
    "    loss_plus, accuracy_plus, f1_plus, precision_plus, recall_plus = evaluation(global_model, xplus, yplus)\n",
    "\n",
    "    loss_it.append([loss_basic, loss_plus])\n",
    "    accuracy_it.append([accuracy_basic, accuracy_plus])\n",
    "    f1_it.append([f1_basic, f1_plus])\n",
    "    precision_it.append([precision_basic, precision_plus])\n",
    "    recall_it.append([recall_basic, recall_plus])\n",
    "\n",
    "\n",
    "global_model.save('C:/Users/UX430/Documents/thesis/code/models/id1907.hdf5')"
   ]
  },
  {
   "cell_type": "code",
   "execution_count": 73,
   "metadata": {},
   "outputs": [
    {
     "name": "stdout",
     "output_type": "stream",
     "text": [
      "Loss for iterations:  [[0.041488200426101685, 0.30425289273262024], [0.04384875297546387, 0.44927117228507996], [0.055174168199300766, 0.6336178183555603]]\n",
      "Accuracy for iterations:  [[0.9816603064537048, 0.8555910587310791], [0.9829384684562683, 0.8191527724266052], [0.9784393310546875, 0.7773014307022095]]\n",
      "F1 for iterations:  [[0.9816510419603829, 0.8504546101438504], [0.9829314134438815, 0.8093805509054842], [0.978420790450338, 0.7593355210117334]]\n",
      "Precision for iterations:  [[0.9817585263491, 0.8790597718739682], [0.9830056154340061, 0.8564019481134787], [0.9786980975986554, 0.8332100998030972]]\n",
      "Recall for iterations:  [[0.9816602880598323, 0.855591077526702], [0.9829384440094656, 0.8191528009881567], [0.9784393350667563, 0.7773014604374047]]\n"
     ]
    }
   ],
   "source": [
    "print(\"Loss for iterations: \", loss_it)\n",
    "print(\"Accuracy for iterations: \", accuracy_it)\n",
    "print(\"F1 for iterations: \", f1_it)\n",
    "print(\"Precision for iterations: \", precision_it)\n",
    "print(\"Recall for iterations: \", recall_it)"
   ]
  },
  {
   "cell_type": "markdown",
   "metadata": {},
   "source": [
    "#### Dataset Filt3G"
   ]
  },
  {
   "cell_type": "code",
   "execution_count": 74,
   "metadata": {},
   "outputs": [
    {
     "name": "stderr",
     "output_type": "stream",
     "text": [
      "C:\\Users\\UX430\\AppData\\Local\\Temp/ipykernel_5216/1702362103.py:3: DtypeWarning: Columns (4) have mixed types. Specify dtype option on import or set low_memory=False.\n",
      "  training2 = pd.read_csv('C:/Users/UX430/Documents/thesis/datasets/UNSW-NB15/UNSW-NB15-Train-Basic-Filt3G-Part2.csv')\n",
      "C:\\Users\\UX430\\AppData\\Local\\Temp/ipykernel_5216/1702362103.py:4: DtypeWarning: Columns (4) have mixed types. Specify dtype option on import or set low_memory=False.\n",
      "  training3 = pd.read_csv('C:/Users/UX430/Documents/thesis/datasets/UNSW-NB15/UNSW-NB15-Train-Basic-Filt3G-Part3.csv')\n"
     ]
    }
   ],
   "source": [
    "# Load training datasets and testing datasets \n",
    "training1 = pd.read_csv('C:/Users/UX430/Documents/thesis/datasets/UNSW-NB15/UNSW-NB15-Train-Basic-Filt3G-Part1.csv')\n",
    "training2 = pd.read_csv('C:/Users/UX430/Documents/thesis/datasets/UNSW-NB15/UNSW-NB15-Train-Basic-Filt3G-Part2.csv')\n",
    "training3 = pd.read_csv('C:/Users/UX430/Documents/thesis/datasets/UNSW-NB15/UNSW-NB15-Train-Basic-Filt3G-Part3.csv')"
   ]
  },
  {
   "cell_type": "code",
   "execution_count": 75,
   "metadata": {},
   "outputs": [],
   "source": [
    "# Define \n",
    "node_datasets = [training1, training2, training3]\n",
    "num_nodes = 3\n",
    "global_updates = 3\n",
    "\n",
    "# Define model training parameters\n",
    "loss_fct = \"categorical_crossentropy\"\n",
    "metrics = ['accuracy']\n",
    "local_epochs = 5"
   ]
  },
  {
   "cell_type": "code",
   "execution_count": 76,
   "metadata": {},
   "outputs": [],
   "source": [
    "def train_local_model(model, node, x_train, y_train): \n",
    "    filepath = 'C:/Users/UX430/Documents/thesis/code/models/node'+str(node)+'id1908.hdf5'\n",
    "    callbacks = [\n",
    "            keras.callbacks.EarlyStopping(\n",
    "                monitor = 'val_loss', # Use accuracy to monitor the model\n",
    "                patience = 10 # Stop after 10 steps with lower accuracy\n",
    "            ),\n",
    "            keras.callbacks.ModelCheckpoint(\n",
    "                filepath = filepath, # file where the checkpoint is saved\n",
    "                monitor = 'val_loss', # Don't overwrite the saved model unless val_loss is worse\n",
    "                save_best_only = True)]# Only save model if it is the best\n",
    "    optimizer = keras.optimizers.Adam(learning_rate=5e-4)\n",
    "    model.compile(optimizer=optimizer, loss=loss_fct, metrics=metrics)\n",
    "    history = model.fit(x_train, y_train, epochs=local_epochs, validation_split=0.2, callbacks=callbacks, batch_size=2048)\n",
    "    return model, history.history['loss'], history.history['accuracy'], history.history['val_loss'], history.history['val_accuracy']"
   ]
  },
  {
   "cell_type": "code",
   "execution_count": 77,
   "metadata": {},
   "outputs": [],
   "source": [
    "def aggregate_weighted(w_list, sizes):\n",
    "    total_size = np.sum(sizes)\n",
    "    weighted_avg_w = []\n",
    "    for layer_weights in zip(*w_list):\n",
    "        weighted_layer = np.average(layer_weights, axis=0, weights=[size / total_size for size in sizes])\n",
    "        weighted_avg_w.append(weighted_layer)\n",
    "    return weighted_avg_w\n"
   ]
  },
  {
   "cell_type": "code",
   "execution_count": 78,
   "metadata": {},
   "outputs": [],
   "source": [
    "global_model = build_model((24,1,1))"
   ]
  },
  {
   "cell_type": "code",
   "execution_count": 79,
   "metadata": {},
   "outputs": [],
   "source": [
    "x1, y1 = preprocessing(training1)\n",
    "x2, y2 = preprocessing(training2)\n",
    "x3, y3 = preprocessing(training3)\n",
    "xbasic, ybasic = preprocessing(test_basic)\n",
    "xplus, yplus = preprocessing(test_plus)"
   ]
  },
  {
   "cell_type": "code",
   "execution_count": 82,
   "metadata": {},
   "outputs": [
    {
     "name": "stdout",
     "output_type": "stream",
     "text": [
      "Epoch 1/5\n",
      "20/20 [==============================] - 4s 183ms/step - loss: 0.0209 - accuracy: 0.9919 - val_loss: 0.3879 - val_accuracy: 0.7804\n",
      "Epoch 2/5\n",
      "20/20 [==============================] - 4s 202ms/step - loss: 0.0181 - accuracy: 0.9924 - val_loss: 0.4362 - val_accuracy: 0.7700\n",
      "Epoch 3/5\n",
      "20/20 [==============================] - 3s 165ms/step - loss: 0.0176 - accuracy: 0.9926 - val_loss: 0.4383 - val_accuracy: 0.7699\n",
      "Epoch 4/5\n",
      "20/20 [==============================] - 3s 169ms/step - loss: 0.0174 - accuracy: 0.9926 - val_loss: 0.4256 - val_accuracy: 0.7785\n",
      "Epoch 5/5\n",
      "20/20 [==============================] - 3s 175ms/step - loss: 0.0171 - accuracy: 0.9926 - val_loss: 0.4988 - val_accuracy: 0.7559\n",
      "Epoch 1/5\n",
      "54/54 [==============================] - 11s 204ms/step - loss: 0.0112 - accuracy: 0.9966 - val_loss: 0.4942 - val_accuracy: 0.8091\n",
      "Epoch 2/5\n",
      "54/54 [==============================] - 10s 184ms/step - loss: 0.0102 - accuracy: 0.9970 - val_loss: 0.4011 - val_accuracy: 0.8404\n",
      "Epoch 3/5\n",
      "54/54 [==============================] - 10s 181ms/step - loss: 0.0095 - accuracy: 0.9971 - val_loss: 0.3493 - val_accuracy: 0.8533\n",
      "Epoch 4/5\n",
      "54/54 [==============================] - 10s 176ms/step - loss: 0.0101 - accuracy: 0.9971 - val_loss: 0.3873 - val_accuracy: 0.8425\n",
      "Epoch 5/5\n",
      "54/54 [==============================] - 9s 173ms/step - loss: 0.0093 - accuracy: 0.9972 - val_loss: 0.3711 - val_accuracy: 0.8482\n",
      "Epoch 1/5\n",
      "79/79 [==============================] - 14s 177ms/step - loss: 0.0084 - accuracy: 0.9972 - val_loss: 0.1358 - val_accuracy: 0.9352\n",
      "Epoch 2/5\n",
      "79/79 [==============================] - 14s 171ms/step - loss: 0.0083 - accuracy: 0.9973 - val_loss: 0.3691 - val_accuracy: 0.8820\n",
      "Epoch 3/5\n",
      "79/79 [==============================] - 13s 165ms/step - loss: 0.0081 - accuracy: 0.9973 - val_loss: 0.2395 - val_accuracy: 0.9063\n",
      "Epoch 4/5\n",
      "79/79 [==============================] - 13s 161ms/step - loss: 0.0080 - accuracy: 0.9973 - val_loss: 0.3807 - val_accuracy: 0.8753\n",
      "Epoch 5/5\n",
      "79/79 [==============================] - 13s 165ms/step - loss: 0.0076 - accuracy: 0.9975 - val_loss: 0.2897 - val_accuracy: 0.8953\n",
      "4279/4279 [==============================] - 15s 4ms/step - loss: 1.2013 - accuracy: 0.5859\n",
      "1721/1721 [==============================] - 6s 3ms/step - loss: 1.7956 - accuracy: 0.5936\n",
      "Epoch 1/5\n",
      "20/20 [==============================] - 4s 191ms/step - loss: 0.0179 - accuracy: 0.9929 - val_loss: 0.4785 - val_accuracy: 0.7633\n",
      "Epoch 2/5\n",
      "20/20 [==============================] - 4s 217ms/step - loss: 0.0160 - accuracy: 0.9928 - val_loss: 0.4372 - val_accuracy: 0.7801\n",
      "Epoch 3/5\n",
      "20/20 [==============================] - 4s 185ms/step - loss: 0.0157 - accuracy: 0.9929 - val_loss: 0.5445 - val_accuracy: 0.7508\n",
      "Epoch 4/5\n",
      "20/20 [==============================] - 4s 211ms/step - loss: 0.0154 - accuracy: 0.9933 - val_loss: 0.3630 - val_accuracy: 0.7994\n",
      "Epoch 5/5\n",
      "20/20 [==============================] - 4s 185ms/step - loss: 0.0153 - accuracy: 0.9932 - val_loss: 0.5061 - val_accuracy: 0.7561\n",
      "Epoch 1/5\n",
      "54/54 [==============================] - 11s 201ms/step - loss: 0.0097 - accuracy: 0.9970 - val_loss: 0.4219 - val_accuracy: 0.8293\n",
      "Epoch 2/5\n",
      "54/54 [==============================] - 11s 198ms/step - loss: 0.0087 - accuracy: 0.9973 - val_loss: 0.4786 - val_accuracy: 0.8205\n",
      "Epoch 3/5\n",
      "54/54 [==============================] - 10s 194ms/step - loss: 0.0090 - accuracy: 0.9970 - val_loss: 0.3249 - val_accuracy: 0.8571\n",
      "Epoch 4/5\n",
      "54/54 [==============================] - 11s 200ms/step - loss: 0.0084 - accuracy: 0.9974 - val_loss: 0.4029 - val_accuracy: 0.8411\n",
      "Epoch 5/5\n",
      "54/54 [==============================] - 11s 195ms/step - loss: 0.0087 - accuracy: 0.9974 - val_loss: 0.3281 - val_accuracy: 0.8608\n",
      "Epoch 1/5\n",
      "79/79 [==============================] - 15s 193ms/step - loss: 0.0077 - accuracy: 0.9975 - val_loss: 0.3453 - val_accuracy: 0.8801\n",
      "Epoch 2/5\n",
      "79/79 [==============================] - 17s 221ms/step - loss: 0.0077 - accuracy: 0.9974 - val_loss: 0.2827 - val_accuracy: 0.8956\n",
      "Epoch 3/5\n",
      "79/79 [==============================] - 15s 190ms/step - loss: 0.0074 - accuracy: 0.9976 - val_loss: 0.3294 - val_accuracy: 0.8858\n",
      "Epoch 4/5\n",
      "79/79 [==============================] - 15s 193ms/step - loss: 0.0076 - accuracy: 0.9975 - val_loss: 0.3136 - val_accuracy: 0.8887\n",
      "Epoch 5/5\n",
      "79/79 [==============================] - 19s 244ms/step - loss: 0.0073 - accuracy: 0.9976 - val_loss: 0.3422 - val_accuracy: 0.8818\n",
      "4279/4279 [==============================] - 15s 4ms/step - loss: 1.5886 - accuracy: 0.5857 0s - loss: 1.5890 - accuracy: 0.58\n",
      "1721/1721 [==============================] - 5s 3ms/step - loss: 2.1838 - accuracy: 0.5906\n",
      "Epoch 1/5\n",
      "20/20 [==============================] - 4s 180ms/step - loss: 0.0170 - accuracy: 0.9928 - val_loss: 0.5207 - val_accuracy: 0.7531\n",
      "Epoch 2/5\n",
      "20/20 [==============================] - 4s 184ms/step - loss: 0.0153 - accuracy: 0.9933 - val_loss: 0.3871 - val_accuracy: 0.7993\n",
      "Epoch 3/5\n",
      "20/20 [==============================] - 4s 200ms/step - loss: 0.0151 - accuracy: 0.9934 - val_loss: 0.4931 - val_accuracy: 0.7627\n",
      "Epoch 4/5\n",
      "20/20 [==============================] - 4s 184ms/step - loss: 0.0148 - accuracy: 0.9933 - val_loss: 0.5788 - val_accuracy: 0.7390\n",
      "Epoch 5/5\n",
      "20/20 [==============================] - 4s 198ms/step - loss: 0.0148 - accuracy: 0.9934 - val_loss: 0.5062 - val_accuracy: 0.7570\n",
      "Epoch 1/5\n",
      "54/54 [==============================] - 11s 200ms/step - loss: 0.0091 - accuracy: 0.9971 - val_loss: 0.4641 - val_accuracy: 0.8206\n",
      "Epoch 2/5\n",
      "54/54 [==============================] - 11s 204ms/step - loss: 0.0084 - accuracy: 0.9976 - val_loss: 0.3991 - val_accuracy: 0.8387\n",
      "Epoch 3/5\n",
      "54/54 [==============================] - 11s 195ms/step - loss: 0.0083 - accuracy: 0.9975 - val_loss: 0.3829 - val_accuracy: 0.8441\n",
      "Epoch 4/5\n",
      "54/54 [==============================] - 10s 193ms/step - loss: 0.0083 - accuracy: 0.9974 - val_loss: 0.4311 - val_accuracy: 0.8312\n",
      "Epoch 5/5\n",
      "54/54 [==============================] - 11s 196ms/step - loss: 0.0084 - accuracy: 0.9975 - val_loss: 0.3211 - val_accuracy: 0.8625\n",
      "Epoch 1/5\n",
      "79/79 [==============================] - 16s 204ms/step - loss: 0.0076 - accuracy: 0.9974 - val_loss: 0.4726 - val_accuracy: 0.8571\n",
      "Epoch 2/5\n",
      "79/79 [==============================] - 16s 199ms/step - loss: 0.0074 - accuracy: 0.9975 - val_loss: 0.3194 - val_accuracy: 0.8870\n",
      "Epoch 3/5\n",
      "79/79 [==============================] - 15s 195ms/step - loss: 0.0072 - accuracy: 0.9976 - val_loss: 0.4833 - val_accuracy: 0.8575\n",
      "Epoch 4/5\n",
      "79/79 [==============================] - 16s 204ms/step - loss: 0.0072 - accuracy: 0.9977 - val_loss: 0.2751 - val_accuracy: 0.9005\n",
      "Epoch 5/5\n",
      "79/79 [==============================] - 16s 197ms/step - loss: 0.0070 - accuracy: 0.9978 - val_loss: 0.3386 - val_accuracy: 0.8816\n",
      "4279/4279 [==============================] - 15s 4ms/step - loss: 2.3354 - accuracy: 0.5812\n",
      "1721/1721 [==============================] - 6s 3ms/step - loss: 2.7038 - accuracy: 0.5797\n"
     ]
    }
   ],
   "source": [
    "# Values saved each iteration \n",
    "loss_it = []\n",
    "accuracy_it = []\n",
    "f1_it = []\n",
    "precision_it = []\n",
    "recall_it = []\n",
    "\n",
    "for i in range(global_updates): \n",
    "    w_list = []\n",
    "    sizes = []  # List to store the sizes of local training datasets\n",
    "    for node in range(num_nodes): \n",
    "        cp = global_model # create a copy of the global model\n",
    "        if node == 0:\n",
    "            x, y = x1, y1\n",
    "        elif node == 1:\n",
    "            x, y = x2, y2\n",
    "        else:\n",
    "            x, y = x3, y3\n",
    "        local_model, local_loss, local_acc, local_val_loss, local_val_acc = train_local_model(cp, node, x, y)\n",
    "        w_list.append(local_model.get_weights())\n",
    "        sizes.append(len(x))  # Append the size of the local dataset\n",
    "\n",
    "    avg_w = aggregate_weighted(w_list, sizes)\n",
    "    global_model.set_weights(avg_w) # apply weighted average weights to global model\n",
    "\n",
    "    # Evaluation\n",
    "    loss_basic, accuracy_basic, f1_basic, precision_basic, recall_basic = evaluation(global_model, xbasic, ybasic) \n",
    "    loss_plus, accuracy_plus, f1_plus, precision_plus, recall_plus = evaluation(global_model, xplus, yplus)\n",
    "\n",
    "    loss_it.append([loss_basic, loss_plus])\n",
    "    accuracy_it.append([accuracy_basic, accuracy_plus])\n",
    "    f1_it.append([f1_basic, f1_plus])\n",
    "    precision_it.append([precision_basic, precision_plus])\n",
    "    recall_it.append([recall_basic, recall_plus])\n",
    "\n",
    "\n",
    "global_model.save('C:/Users/UX430/Documents/thesis/code/models/id1908.hdf5')"
   ]
  },
  {
   "cell_type": "code",
   "execution_count": 83,
   "metadata": {},
   "outputs": [
    {
     "name": "stdout",
     "output_type": "stream",
     "text": [
      "Loss for iterations:  [[1.2012778520584106, 1.7955865859985352], [1.588597297668457, 2.1838297843933105], [2.335428237915039, 2.7038397789001465]]\n",
      "Accuracy for iterations:  [[0.5859286189079285, 0.5935842394828796], [0.5856875777244568, 0.5906415581703186], [0.5812323093414307, 0.5796701312065125]]\n",
      "F1 for iterations:  [[0.48695020766989316, 0.4751437524371377], [0.4864708979735109, 0.46886849799094027], [0.4775546323239458, 0.44561481820703497]]\n",
      "Precision for iterations:  [[0.7373255775396503, 0.7432347534352273], [0.7373619705289497, 0.743821323155352], [0.7380911842209517, 0.7398820221090562]]\n",
      "Recall for iterations:  [[0.5859285985567794, 0.5935842476204316], [0.5856875748634199, 0.5906415752379568], [0.5812322884104122, 0.5796701300588535]]\n"
     ]
    }
   ],
   "source": [
    "print(\"Loss for iterations: \", loss_it)\n",
    "print(\"Accuracy for iterations: \", accuracy_it)\n",
    "print(\"F1 for iterations: \", f1_it)\n",
    "print(\"Precision for iterations: \", precision_it)\n",
    "print(\"Recall for iterations: \", recall_it)"
   ]
  },
  {
   "cell_type": "markdown",
   "metadata": {},
   "source": [
    "### Experimenting with epochs and iterations \n",
    "\n",
    "Use of dataset 3C, considering it contains an equal partition of the data between the 3 nodes. "
   ]
  },
  {
   "cell_type": "markdown",
   "metadata": {},
   "source": [
    "#### #Epochs = 10, #Iterations = 10"
   ]
  },
  {
   "cell_type": "code",
   "execution_count": 72,
   "metadata": {},
   "outputs": [
    {
     "name": "stderr",
     "output_type": "stream",
     "text": [
      "C:\\Users\\UX430\\AppData\\Local\\Temp/ipykernel_17376/1685572531.py:2: DtypeWarning: Columns (2,4) have mixed types. Specify dtype option on import or set low_memory=False.\n",
      "  training1 = pd.read_csv('C:/Users/UX430/Documents/thesis/datasets/UNSW-NB15/UNSW-NB15-Train-Basic-3C-Part1.csv')\n",
      "C:\\Users\\UX430\\AppData\\Local\\Temp/ipykernel_17376/1685572531.py:3: DtypeWarning: Columns (4) have mixed types. Specify dtype option on import or set low_memory=False.\n",
      "  training2 = pd.read_csv('C:/Users/UX430/Documents/thesis/datasets/UNSW-NB15/UNSW-NB15-Train-Basic-3C-Part2.csv')\n",
      "C:\\Users\\UX430\\AppData\\Local\\Temp/ipykernel_17376/1685572531.py:4: DtypeWarning: Columns (4) have mixed types. Specify dtype option on import or set low_memory=False.\n",
      "  training3 = pd.read_csv('C:/Users/UX430/Documents/thesis/datasets/UNSW-NB15/UNSW-NB15-Train-Basic-3C-Part3.csv')\n",
      "C:\\Users\\UX430\\AppData\\Local\\Temp/ipykernel_17376/1685572531.py:5: DtypeWarning: Columns (4) have mixed types. Specify dtype option on import or set low_memory=False.\n",
      "  test_basic = pd.read_csv('C:/Users/UX430/Documents/thesis/datasets/UNSW-NB15/UNSW-NB15-Test-Basic.csv')\n"
     ]
    }
   ],
   "source": [
    "# Load training datasets and testing datasets \n",
    "training1 = pd.read_csv('C:/Users/UX430/Documents/thesis/datasets/UNSW-NB15/UNSW-NB15-Train-Basic-3C-Part1.csv')\n",
    "training2 = pd.read_csv('C:/Users/UX430/Documents/thesis/datasets/UNSW-NB15/UNSW-NB15-Train-Basic-3C-Part2.csv')\n",
    "training3 = pd.read_csv('C:/Users/UX430/Documents/thesis/datasets/UNSW-NB15/UNSW-NB15-Train-Basic-3C-Part3.csv')\n",
    "test_basic = pd.read_csv('C:/Users/UX430/Documents/thesis/datasets/UNSW-NB15/UNSW-NB15-Test-Basic.csv')\n",
    "test_plus = pd.read_csv('C:/Users/UX430/Documents/thesis/datasets/UNSW-NB15/UNSW-NB15-Test+.csv')"
   ]
  },
  {
   "cell_type": "code",
   "execution_count": 73,
   "metadata": {},
   "outputs": [],
   "source": [
    "# Define \n",
    "node_datasets = [training1, training2, training3]\n",
    "num_nodes = 3\n",
    "global_updates = 10\n",
    "\n",
    "# Define model training parameters\n",
    "loss_fct = \"categorical_crossentropy\"\n",
    "metrics = ['accuracy']\n",
    "local_epochs = 10"
   ]
  },
  {
   "cell_type": "code",
   "execution_count": 74,
   "metadata": {},
   "outputs": [],
   "source": [
    "def train_local_model(model, node, x_train, y_train): \n",
    "    filepath = 'C:/Users/UX430/Documents/thesis/code/models/node'+str(node)+'id1910.hdf5'\n",
    "    callbacks = [\n",
    "            keras.callbacks.EarlyStopping(\n",
    "                monitor = 'val_loss', # Use accuracy to monitor the model\n",
    "                patience = 10 # Stop after 10 steps with lower accuracy\n",
    "            ),\n",
    "            keras.callbacks.ModelCheckpoint(\n",
    "                filepath = filepath, # file where the checkpoint is saved\n",
    "                monitor = 'val_loss', # Don't overwrite the saved model unless val_loss is worse\n",
    "                save_best_only = True)]# Only save model if it is the best\n",
    "    optimizer = keras.optimizers.Adam(learning_rate=5e-4)\n",
    "    model.compile(optimizer=optimizer, loss=loss_fct, metrics=metrics)\n",
    "    history = model.fit(x_train, y_train, epochs=local_epochs, validation_split=0.2, callbacks=callbacks, batch_size=2048)\n",
    "    return model, history.history['loss'], history.history['accuracy'], history.history['val_loss'], history.history['val_accuracy']"
   ]
  },
  {
   "cell_type": "code",
   "execution_count": 75,
   "metadata": {},
   "outputs": [],
   "source": [
    "def aggregate(w_list): \n",
    "    avg_w = np.mean(w_list, axis=0)\n",
    "    return avg_w"
   ]
  },
  {
   "cell_type": "code",
   "execution_count": 76,
   "metadata": {},
   "outputs": [],
   "source": [
    "global_model = build_model((24,1,1))"
   ]
  },
  {
   "cell_type": "code",
   "execution_count": 77,
   "metadata": {},
   "outputs": [],
   "source": [
    "x1, y1 = preprocessing(training1)\n",
    "x2, y2 = preprocessing(training2)\n",
    "x3, y3 = preprocessing(training3)\n",
    "xbasic, ybasic = preprocessing(test_basic)\n",
    "xplus, yplus = preprocessing(test_plus)"
   ]
  },
  {
   "cell_type": "code",
   "execution_count": 78,
   "metadata": {},
   "outputs": [
    {
     "name": "stdout",
     "output_type": "stream",
     "text": [
      "Epoch 1/10\n",
      "54/54 [==============================] - 11s 199ms/step - loss: 0.2544 - accuracy: 0.9327 - val_loss: 1.8450 - val_accuracy: 0.6399\n",
      "Epoch 2/10\n",
      "54/54 [==============================] - 11s 197ms/step - loss: 0.0321 - accuracy: 0.9925 - val_loss: 0.7600 - val_accuracy: 0.6422\n",
      "Epoch 3/10\n",
      "54/54 [==============================] - 10s 192ms/step - loss: 0.0254 - accuracy: 0.9926 - val_loss: 0.5458 - val_accuracy: 0.6635\n",
      "Epoch 4/10\n",
      "54/54 [==============================] - 11s 196ms/step - loss: 0.0237 - accuracy: 0.9928 - val_loss: 0.4793 - val_accuracy: 0.6839\n",
      "Epoch 5/10\n",
      "54/54 [==============================] - 10s 194ms/step - loss: 0.0220 - accuracy: 0.9930 - val_loss: 0.5456 - val_accuracy: 0.6567\n",
      "Epoch 6/10\n",
      "54/54 [==============================] - 10s 193ms/step - loss: 0.0206 - accuracy: 0.9934 - val_loss: 0.4470 - val_accuracy: 0.7066\n",
      "Epoch 7/10\n",
      "54/54 [==============================] - 10s 192ms/step - loss: 0.0188 - accuracy: 0.9942 - val_loss: 0.5359 - val_accuracy: 0.6935\n",
      "Epoch 8/10\n",
      "54/54 [==============================] - 10s 191ms/step - loss: 0.0177 - accuracy: 0.9944 - val_loss: 0.2729 - val_accuracy: 0.8291\n",
      "Epoch 9/10\n",
      "54/54 [==============================] - 11s 196ms/step - loss: 0.0165 - accuracy: 0.9949 - val_loss: 0.4051 - val_accuracy: 0.7669\n",
      "Epoch 10/10\n",
      "54/54 [==============================] - 10s 192ms/step - loss: 0.0160 - accuracy: 0.9953 - val_loss: 0.4890 - val_accuracy: 0.7437\n",
      "Epoch 1/10\n",
      "54/54 [==============================] - 11s 199ms/step - loss: 0.0154 - accuracy: 0.9952 - val_loss: 0.5616 - val_accuracy: 0.7472\n",
      "Epoch 2/10\n",
      "54/54 [==============================] - 11s 204ms/step - loss: 0.0145 - accuracy: 0.9956 - val_loss: 0.2854 - val_accuracy: 0.8511\n",
      "Epoch 3/10\n",
      "54/54 [==============================] - 11s 202ms/step - loss: 0.0141 - accuracy: 0.9957 - val_loss: 0.4673 - val_accuracy: 0.8045\n",
      "Epoch 4/10\n",
      "54/54 [==============================] - 11s 201ms/step - loss: 0.0138 - accuracy: 0.9959 - val_loss: 0.3838 - val_accuracy: 0.8300\n",
      "Epoch 5/10\n",
      "54/54 [==============================] - 11s 201ms/step - loss: 0.0137 - accuracy: 0.9959 - val_loss: 0.4178 - val_accuracy: 0.8291\n",
      "Epoch 6/10\n",
      "54/54 [==============================] - 11s 199ms/step - loss: 0.0133 - accuracy: 0.9961 - val_loss: 0.5011 - val_accuracy: 0.8053\n",
      "Epoch 7/10\n",
      "54/54 [==============================] - 11s 203ms/step - loss: 0.0132 - accuracy: 0.9960 - val_loss: 0.5176 - val_accuracy: 0.8058\n",
      "Epoch 8/10\n",
      "54/54 [==============================] - 11s 202ms/step - loss: 0.0134 - accuracy: 0.9959 - val_loss: 0.4653 - val_accuracy: 0.8183\n",
      "Epoch 9/10\n",
      "54/54 [==============================] - 11s 201ms/step - loss: 0.0128 - accuracy: 0.9961 - val_loss: 0.3941 - val_accuracy: 0.8432\n",
      "Epoch 10/10\n",
      "54/54 [==============================] - 11s 199ms/step - loss: 0.0126 - accuracy: 0.9963 - val_loss: 0.4779 - val_accuracy: 0.8212\n",
      "Epoch 1/10\n",
      "54/54 [==============================] - 11s 210ms/step - loss: 0.0125 - accuracy: 0.9959 - val_loss: 0.5331 - val_accuracy: 0.8055\n",
      "Epoch 2/10\n",
      "54/54 [==============================] - 11s 211ms/step - loss: 0.0120 - accuracy: 0.9961 - val_loss: 0.4714 - val_accuracy: 0.8183\n",
      "Epoch 3/10\n",
      "54/54 [==============================] - 11s 212ms/step - loss: 0.0116 - accuracy: 0.9964 - val_loss: 0.4898 - val_accuracy: 0.8210\n",
      "Epoch 4/10\n",
      "54/54 [==============================] - 11s 211ms/step - loss: 0.0118 - accuracy: 0.9962 - val_loss: 0.4698 - val_accuracy: 0.8225\n",
      "Epoch 5/10\n",
      "54/54 [==============================] - 11s 209ms/step - loss: 0.0113 - accuracy: 0.9963 - val_loss: 0.5049 - val_accuracy: 0.8195\n",
      "Epoch 6/10\n",
      "54/54 [==============================] - 11s 210ms/step - loss: 0.0112 - accuracy: 0.9965 - val_loss: 0.3916 - val_accuracy: 0.8487\n",
      "Epoch 7/10\n",
      "54/54 [==============================] - 12s 213ms/step - loss: 0.0112 - accuracy: 0.9965 - val_loss: 0.6134 - val_accuracy: 0.7843\n",
      "Epoch 8/10\n",
      "54/54 [==============================] - 11s 212ms/step - loss: 0.0113 - accuracy: 0.9964 - val_loss: 0.6444 - val_accuracy: 0.7873\n",
      "Epoch 9/10\n",
      "54/54 [==============================] - 11s 207ms/step - loss: 0.0109 - accuracy: 0.9965 - val_loss: 0.3617 - val_accuracy: 0.8517\n",
      "Epoch 10/10\n",
      "54/54 [==============================] - 11s 208ms/step - loss: 0.0107 - accuracy: 0.9967 - val_loss: 0.4717 - val_accuracy: 0.8299\n",
      "  25/4279 [..............................] - ETA: 17s - loss: 0.1416 - accuracy: 0.9850"
     ]
    },
    {
     "name": "stderr",
     "output_type": "stream",
     "text": [
      "c:\\Users\\UX430\\anaconda3\\lib\\site-packages\\numpy\\core\\_asarray.py:171: VisibleDeprecationWarning: Creating an ndarray from ragged nested sequences (which is a list-or-tuple of lists-or-tuples-or ndarrays with different lengths or shapes) is deprecated. If you meant to do this, you must specify 'dtype=object' when creating the ndarray.\n",
      "  return array(a, dtype, copy=False, order=order, subok=True)\n"
     ]
    },
    {
     "name": "stdout",
     "output_type": "stream",
     "text": [
      "4279/4279 [==============================] - 18s 4ms/step - loss: 0.1511 - accuracy: 0.9789 0s - l\n",
      "1721/1721 [==============================] - 7s 4ms/step - loss: 0.3768 - accuracy: 0.8759\n",
      "Epoch 1/10\n",
      "54/54 [==============================] - 11s 200ms/step - loss: 0.0137 - accuracy: 0.9961 - val_loss: 0.4771 - val_accuracy: 0.8012\n",
      "Epoch 2/10\n",
      "54/54 [==============================] - 11s 207ms/step - loss: 0.0130 - accuracy: 0.9960 - val_loss: 0.4833 - val_accuracy: 0.8056\n",
      "Epoch 3/10\n",
      "54/54 [==============================] - 11s 199ms/step - loss: 0.0127 - accuracy: 0.9963 - val_loss: 0.6188 - val_accuracy: 0.7750\n",
      "Epoch 4/10\n",
      "54/54 [==============================] - 11s 198ms/step - loss: 0.0127 - accuracy: 0.9963 - val_loss: 0.3453 - val_accuracy: 0.8471\n",
      "Epoch 5/10\n",
      "54/54 [==============================] - 11s 200ms/step - loss: 0.0125 - accuracy: 0.9961 - val_loss: 0.6800 - val_accuracy: 0.7706\n",
      "Epoch 6/10\n",
      "54/54 [==============================] - 11s 198ms/step - loss: 0.0122 - accuracy: 0.9965 - val_loss: 0.4442 - val_accuracy: 0.8306\n",
      "Epoch 7/10\n",
      "54/54 [==============================] - 11s 196ms/step - loss: 0.0114 - accuracy: 0.9967 - val_loss: 0.4314 - val_accuracy: 0.8352\n",
      "Epoch 8/10\n",
      "54/54 [==============================] - 11s 195ms/step - loss: 0.0117 - accuracy: 0.9969 - val_loss: 0.5062 - val_accuracy: 0.8113\n",
      "Epoch 9/10\n",
      "54/54 [==============================] - 11s 200ms/step - loss: 0.0108 - accuracy: 0.9969 - val_loss: 0.4819 - val_accuracy: 0.8265\n",
      "Epoch 10/10\n",
      "54/54 [==============================] - 11s 197ms/step - loss: 0.0108 - accuracy: 0.9967 - val_loss: 0.4208 - val_accuracy: 0.8463\n",
      "Epoch 1/10\n",
      "54/54 [==============================] - 11s 196ms/step - loss: 0.0102 - accuracy: 0.9968 - val_loss: 0.5370 - val_accuracy: 0.8249\n",
      "Epoch 2/10\n",
      "54/54 [==============================] - 11s 196ms/step - loss: 0.0100 - accuracy: 0.9969 - val_loss: 0.6556 - val_accuracy: 0.7832\n",
      "Epoch 3/10\n",
      "54/54 [==============================] - 11s 196ms/step - loss: 0.0099 - accuracy: 0.9970 - val_loss: 0.6738 - val_accuracy: 0.7927\n",
      "Epoch 4/10\n",
      "54/54 [==============================] - 11s 195ms/step - loss: 0.0095 - accuracy: 0.9969 - val_loss: 0.5901 - val_accuracy: 0.8182\n",
      "Epoch 5/10\n",
      "54/54 [==============================] - 10s 193ms/step - loss: 0.0093 - accuracy: 0.9970 - val_loss: 0.4751 - val_accuracy: 0.8398\n",
      "Epoch 6/10\n",
      "54/54 [==============================] - 11s 197ms/step - loss: 0.0094 - accuracy: 0.9970 - val_loss: 0.5597 - val_accuracy: 0.8136\n",
      "Epoch 7/10\n",
      "54/54 [==============================] - 11s 196ms/step - loss: 0.0091 - accuracy: 0.9971 - val_loss: 0.5967 - val_accuracy: 0.8156\n",
      "Epoch 8/10\n",
      "54/54 [==============================] - 11s 195ms/step - loss: 0.0094 - accuracy: 0.9968 - val_loss: 0.5727 - val_accuracy: 0.8235\n",
      "Epoch 9/10\n",
      "54/54 [==============================] - 11s 197ms/step - loss: 0.0091 - accuracy: 0.9971 - val_loss: 0.5959 - val_accuracy: 0.8137\n",
      "Epoch 10/10\n",
      "54/54 [==============================] - 11s 195ms/step - loss: 0.0089 - accuracy: 0.9972 - val_loss: 0.5590 - val_accuracy: 0.8260\n",
      "Epoch 1/10\n",
      "54/54 [==============================] - 11s 197ms/step - loss: 0.0090 - accuracy: 0.9972 - val_loss: 0.5377 - val_accuracy: 0.8198\n",
      "Epoch 2/10\n",
      "54/54 [==============================] - 10s 194ms/step - loss: 0.0085 - accuracy: 0.9972 - val_loss: 0.5521 - val_accuracy: 0.8128\n",
      "Epoch 3/10\n",
      "54/54 [==============================] - 10s 194ms/step - loss: 0.0088 - accuracy: 0.9972 - val_loss: 0.7943 - val_accuracy: 0.7777\n",
      "Epoch 4/10\n",
      "54/54 [==============================] - 11s 196ms/step - loss: 0.0085 - accuracy: 0.9972 - val_loss: 0.6250 - val_accuracy: 0.8086\n",
      "Epoch 5/10\n",
      "54/54 [==============================] - 11s 196ms/step - loss: 0.0084 - accuracy: 0.9973 - val_loss: 0.5251 - val_accuracy: 0.8236\n",
      "Epoch 6/10\n",
      "54/54 [==============================] - 11s 195ms/step - loss: 0.0086 - accuracy: 0.9972 - val_loss: 0.4454 - val_accuracy: 0.8425\n",
      "Epoch 7/10\n",
      "54/54 [==============================] - 10s 194ms/step - loss: 0.0082 - accuracy: 0.9973 - val_loss: 0.8776 - val_accuracy: 0.7480\n",
      "Epoch 8/10\n",
      "54/54 [==============================] - 11s 196ms/step - loss: 0.0082 - accuracy: 0.9975 - val_loss: 0.5593 - val_accuracy: 0.8183\n",
      "Epoch 9/10\n",
      "54/54 [==============================] - 11s 196ms/step - loss: 0.0080 - accuracy: 0.9976 - val_loss: 0.6180 - val_accuracy: 0.8096\n",
      "Epoch 10/10\n",
      "54/54 [==============================] - 11s 195ms/step - loss: 0.0079 - accuracy: 0.9975 - val_loss: 0.4774 - val_accuracy: 0.8336\n",
      "  26/4279 [..............................] - ETA: 16s - loss: 0.3410 - accuracy: 0.7897"
     ]
    },
    {
     "name": "stderr",
     "output_type": "stream",
     "text": [
      "c:\\Users\\UX430\\anaconda3\\lib\\site-packages\\numpy\\core\\_asarray.py:171: VisibleDeprecationWarning: Creating an ndarray from ragged nested sequences (which is a list-or-tuple of lists-or-tuples-or ndarrays with different lengths or shapes) is deprecated. If you meant to do this, you must specify 'dtype=object' when creating the ndarray.\n",
      "  return array(a, dtype, copy=False, order=order, subok=True)\n"
     ]
    },
    {
     "name": "stdout",
     "output_type": "stream",
     "text": [
      "4279/4279 [==============================] - 18s 4ms/step - loss: 0.3587 - accuracy: 0.7930\n",
      "1721/1721 [==============================] - 10s 6ms/step - loss: 1.0575 - accuracy: 0.6811 0s - loss: 1.0662 - accuracy: 0.\n",
      "Epoch 1/10\n",
      "54/54 [==============================] - 11s 196ms/step - loss: 0.0096 - accuracy: 0.9973 - val_loss: 0.5719 - val_accuracy: 0.8128\n",
      "Epoch 2/10\n",
      "54/54 [==============================] - 10s 193ms/step - loss: 0.0093 - accuracy: 0.9973 - val_loss: 0.5635 - val_accuracy: 0.8080\n",
      "Epoch 3/10\n",
      "54/54 [==============================] - 10s 191ms/step - loss: 0.0087 - accuracy: 0.9974 - val_loss: 0.6817 - val_accuracy: 0.7872\n",
      "Epoch 4/10\n",
      "54/54 [==============================] - 10s 188ms/step - loss: 0.0091 - accuracy: 0.9974 - val_loss: 0.3999 - val_accuracy: 0.8470\n",
      "Epoch 5/10\n",
      "54/54 [==============================] - 10s 191ms/step - loss: 0.0089 - accuracy: 0.9972 - val_loss: 0.5172 - val_accuracy: 0.8254\n",
      "Epoch 6/10\n",
      "54/54 [==============================] - 10s 190ms/step - loss: 0.0089 - accuracy: 0.9975 - val_loss: 0.5384 - val_accuracy: 0.8198\n",
      "Epoch 7/10\n",
      "54/54 [==============================] - 10s 190ms/step - loss: 0.0084 - accuracy: 0.9975 - val_loss: 0.5403 - val_accuracy: 0.8199\n",
      "Epoch 8/10\n",
      "54/54 [==============================] - 10s 187ms/step - loss: 0.0087 - accuracy: 0.9975 - val_loss: 0.4826 - val_accuracy: 0.8279\n",
      "Epoch 9/10\n",
      "54/54 [==============================] - 10s 189ms/step - loss: 0.0083 - accuracy: 0.9975 - val_loss: 0.5473 - val_accuracy: 0.8171\n",
      "Epoch 10/10\n",
      "54/54 [==============================] - 10s 189ms/step - loss: 0.0082 - accuracy: 0.9977 - val_loss: 0.5424 - val_accuracy: 0.8148\n",
      "Epoch 1/10\n",
      "54/54 [==============================] - 10s 193ms/step - loss: 0.0086 - accuracy: 0.9972 - val_loss: 0.5103 - val_accuracy: 0.8258\n",
      "Epoch 2/10\n",
      "54/54 [==============================] - 11s 196ms/step - loss: 0.0079 - accuracy: 0.9974 - val_loss: 0.6373 - val_accuracy: 0.8044\n",
      "Epoch 3/10\n",
      "54/54 [==============================] - 11s 204ms/step - loss: 0.0079 - accuracy: 0.9977 - val_loss: 0.5090 - val_accuracy: 0.8351\n",
      "Epoch 4/10\n",
      "54/54 [==============================] - 11s 199ms/step - loss: 0.0078 - accuracy: 0.9975 - val_loss: 0.5988 - val_accuracy: 0.8212\n",
      "Epoch 5/10\n",
      "54/54 [==============================] - 11s 196ms/step - loss: 0.0075 - accuracy: 0.9977 - val_loss: 0.6441 - val_accuracy: 0.8139\n",
      "Epoch 6/10\n",
      "54/54 [==============================] - 10s 193ms/step - loss: 0.0079 - accuracy: 0.9975 - val_loss: 0.5848 - val_accuracy: 0.8216\n",
      "Epoch 7/10\n",
      "54/54 [==============================] - 11s 197ms/step - loss: 0.0075 - accuracy: 0.9976 - val_loss: 0.5181 - val_accuracy: 0.8319\n",
      "Epoch 8/10\n",
      "54/54 [==============================] - 11s 197ms/step - loss: 0.0074 - accuracy: 0.9979 - val_loss: 0.6359 - val_accuracy: 0.8154\n",
      "Epoch 9/10\n",
      "54/54 [==============================] - 10s 194ms/step - loss: 0.0077 - accuracy: 0.9977 - val_loss: 0.6832 - val_accuracy: 0.8060\n",
      "Epoch 10/10\n",
      "54/54 [==============================] - 11s 195ms/step - loss: 0.0075 - accuracy: 0.9976 - val_loss: 0.7490 - val_accuracy: 0.7983\n",
      "Epoch 1/10\n",
      "54/54 [==============================] - 11s 198ms/step - loss: 0.0080 - accuracy: 0.9973 - val_loss: 0.5358 - val_accuracy: 0.8297\n",
      "Epoch 2/10\n",
      "54/54 [==============================] - 11s 200ms/step - loss: 0.0077 - accuracy: 0.9975 - val_loss: 0.6621 - val_accuracy: 0.8008\n",
      "Epoch 3/10\n",
      "54/54 [==============================] - 11s 197ms/step - loss: 0.0077 - accuracy: 0.9976 - val_loss: 0.4612 - val_accuracy: 0.8432\n",
      "Epoch 4/10\n",
      "54/54 [==============================] - 11s 203ms/step - loss: 0.0076 - accuracy: 0.9975 - val_loss: 0.5828 - val_accuracy: 0.8189\n",
      "Epoch 5/10\n",
      "54/54 [==============================] - 11s 199ms/step - loss: 0.0074 - accuracy: 0.9976 - val_loss: 0.8732 - val_accuracy: 0.7630\n",
      "Epoch 6/10\n",
      "54/54 [==============================] - 11s 199ms/step - loss: 0.0081 - accuracy: 0.9971 - val_loss: 0.7016 - val_accuracy: 0.7992\n",
      "Epoch 7/10\n",
      "54/54 [==============================] - 11s 198ms/step - loss: 0.0072 - accuracy: 0.9979 - val_loss: 0.5626 - val_accuracy: 0.8188\n",
      "Epoch 8/10\n",
      "54/54 [==============================] - 11s 200ms/step - loss: 0.0073 - accuracy: 0.9977 - val_loss: 0.9789 - val_accuracy: 0.7360\n",
      "Epoch 9/10\n",
      "54/54 [==============================] - 11s 199ms/step - loss: 0.0075 - accuracy: 0.9975 - val_loss: 0.6106 - val_accuracy: 0.8172\n",
      "Epoch 10/10\n",
      "54/54 [==============================] - 11s 198ms/step - loss: 0.0072 - accuracy: 0.9978 - val_loss: 0.5144 - val_accuracy: 0.8341\n",
      "  23/4279 [..............................] - ETA: 18s - loss: 0.8978 - accuracy: 0.5842"
     ]
    },
    {
     "name": "stderr",
     "output_type": "stream",
     "text": [
      "c:\\Users\\UX430\\anaconda3\\lib\\site-packages\\numpy\\core\\_asarray.py:171: VisibleDeprecationWarning: Creating an ndarray from ragged nested sequences (which is a list-or-tuple of lists-or-tuples-or ndarrays with different lengths or shapes) is deprecated. If you meant to do this, you must specify 'dtype=object' when creating the ndarray.\n",
      "  return array(a, dtype, copy=False, order=order, subok=True)\n"
     ]
    },
    {
     "name": "stdout",
     "output_type": "stream",
     "text": [
      "4279/4279 [==============================] - 18s 4ms/step - loss: 0.8660 - accuracy: 0.5881\n",
      "1721/1721 [==============================] - 10s 6ms/step - loss: 2.0436 - accuracy: 0.5787\n",
      "Epoch 1/10\n",
      "54/54 [==============================] - 11s 202ms/step - loss: 0.0079 - accuracy: 0.9977 - val_loss: 0.7648 - val_accuracy: 0.7751\n",
      "Epoch 2/10\n",
      "54/54 [==============================] - 11s 199ms/step - loss: 0.0078 - accuracy: 0.9978 - val_loss: 0.5762 - val_accuracy: 0.8177\n",
      "Epoch 3/10\n",
      "54/54 [==============================] - 11s 199ms/step - loss: 0.0076 - accuracy: 0.9977 - val_loss: 0.6494 - val_accuracy: 0.7955\n",
      "Epoch 4/10\n",
      "54/54 [==============================] - 11s 196ms/step - loss: 0.0074 - accuracy: 0.9979 - val_loss: 0.6610 - val_accuracy: 0.8003\n",
      "Epoch 5/10\n",
      "54/54 [==============================] - 11s 195ms/step - loss: 0.0073 - accuracy: 0.9980 - val_loss: 0.7440 - val_accuracy: 0.7906\n",
      "Epoch 6/10\n",
      "54/54 [==============================] - 11s 196ms/step - loss: 0.0074 - accuracy: 0.9979 - val_loss: 0.5468 - val_accuracy: 0.8192\n",
      "Epoch 7/10\n",
      "54/54 [==============================] - 11s 199ms/step - loss: 0.0074 - accuracy: 0.9980 - val_loss: 0.6099 - val_accuracy: 0.8125\n",
      "Epoch 8/10\n",
      "54/54 [==============================] - 11s 197ms/step - loss: 0.0075 - accuracy: 0.9980 - val_loss: 0.7377 - val_accuracy: 0.7871\n",
      "Epoch 9/10\n",
      "54/54 [==============================] - 11s 195ms/step - loss: 0.0075 - accuracy: 0.9980 - val_loss: 0.6546 - val_accuracy: 0.8044\n",
      "Epoch 10/10\n",
      "54/54 [==============================] - 11s 198ms/step - loss: 0.0068 - accuracy: 0.9980 - val_loss: 0.6567 - val_accuracy: 0.7969\n",
      "Epoch 1/10\n",
      "54/54 [==============================] - 11s 204ms/step - loss: 0.0080 - accuracy: 0.9974 - val_loss: 0.5714 - val_accuracy: 0.8263\n",
      "Epoch 2/10\n",
      "54/54 [==============================] - 11s 205ms/step - loss: 0.0071 - accuracy: 0.9979 - val_loss: 0.7834 - val_accuracy: 0.7880\n",
      "Epoch 3/10\n",
      "54/54 [==============================] - 11s 197ms/step - loss: 0.0070 - accuracy: 0.9979 - val_loss: 0.4985 - val_accuracy: 0.8387\n",
      "Epoch 4/10\n",
      "54/54 [==============================] - 11s 200ms/step - loss: 0.0072 - accuracy: 0.9979 - val_loss: 0.6823 - val_accuracy: 0.8091\n",
      "Epoch 5/10\n",
      "54/54 [==============================] - 11s 203ms/step - loss: 0.0071 - accuracy: 0.9978 - val_loss: 0.7096 - val_accuracy: 0.8057\n",
      "Epoch 6/10\n",
      "54/54 [==============================] - 11s 204ms/step - loss: 0.0069 - accuracy: 0.9980 - val_loss: 0.5694 - val_accuracy: 0.8247\n",
      "Epoch 7/10\n",
      "54/54 [==============================] - 11s 197ms/step - loss: 0.0069 - accuracy: 0.9980 - val_loss: 0.8261 - val_accuracy: 0.7921\n",
      "Epoch 8/10\n",
      "54/54 [==============================] - 11s 201ms/step - loss: 0.0068 - accuracy: 0.9980 - val_loss: 0.4314 - val_accuracy: 0.8580\n",
      "Epoch 9/10\n",
      "54/54 [==============================] - 11s 196ms/step - loss: 0.0073 - accuracy: 0.9977 - val_loss: 0.7649 - val_accuracy: 0.7854\n",
      "Epoch 10/10\n",
      "54/54 [==============================] - 11s 197ms/step - loss: 0.0071 - accuracy: 0.9978 - val_loss: 0.6686 - val_accuracy: 0.8017\n",
      "Epoch 1/10\n",
      "54/54 [==============================] - 10s 191ms/step - loss: 0.0076 - accuracy: 0.9976 - val_loss: 0.6068 - val_accuracy: 0.8171\n",
      "Epoch 2/10\n",
      "54/54 [==============================] - 10s 188ms/step - loss: 0.0068 - accuracy: 0.9979 - val_loss: 0.5809 - val_accuracy: 0.8216\n",
      "Epoch 3/10\n",
      "54/54 [==============================] - 10s 189ms/step - loss: 0.0068 - accuracy: 0.9979 - val_loss: 0.5686 - val_accuracy: 0.8183\n",
      "Epoch 4/10\n",
      "54/54 [==============================] - 10s 190ms/step - loss: 0.0066 - accuracy: 0.9979 - val_loss: 0.5847 - val_accuracy: 0.8243\n",
      "Epoch 5/10\n",
      "54/54 [==============================] - 10s 190ms/step - loss: 0.0069 - accuracy: 0.9975 - val_loss: 0.5025 - val_accuracy: 0.8376\n",
      "Epoch 6/10\n",
      "54/54 [==============================] - 10s 190ms/step - loss: 0.0069 - accuracy: 0.9979 - val_loss: 0.7916 - val_accuracy: 0.7761\n",
      "Epoch 7/10\n",
      "54/54 [==============================] - 10s 189ms/step - loss: 0.0066 - accuracy: 0.9979 - val_loss: 0.5248 - val_accuracy: 0.8291\n",
      "Epoch 8/10\n",
      "54/54 [==============================] - 10s 189ms/step - loss: 0.0068 - accuracy: 0.9977 - val_loss: 0.5021 - val_accuracy: 0.8350\n",
      "Epoch 9/10\n",
      "54/54 [==============================] - 10s 190ms/step - loss: 0.0067 - accuracy: 0.9977 - val_loss: 0.7393 - val_accuracy: 0.7970\n",
      "Epoch 10/10\n",
      "54/54 [==============================] - 10s 187ms/step - loss: 0.0066 - accuracy: 0.9979 - val_loss: 0.4546 - val_accuracy: 0.8424\n",
      "  26/4279 [..............................] - ETA: 17s - loss: 1.6249 - accuracy: 0.5913"
     ]
    },
    {
     "name": "stderr",
     "output_type": "stream",
     "text": [
      "c:\\Users\\UX430\\anaconda3\\lib\\site-packages\\numpy\\core\\_asarray.py:171: VisibleDeprecationWarning: Creating an ndarray from ragged nested sequences (which is a list-or-tuple of lists-or-tuples-or ndarrays with different lengths or shapes) is deprecated. If you meant to do this, you must specify 'dtype=object' when creating the ndarray.\n",
      "  return array(a, dtype, copy=False, order=order, subok=True)\n"
     ]
    },
    {
     "name": "stdout",
     "output_type": "stream",
     "text": [
      "4279/4279 [==============================] - 17s 4ms/step - loss: 1.6212 - accuracy: 0.5881\n",
      "1721/1721 [==============================] - 9s 5ms/step - loss: 2.6673 - accuracy: 0.5744\n",
      "Epoch 1/10\n",
      "54/54 [==============================] - 11s 207ms/step - loss: 0.0074 - accuracy: 0.9978 - val_loss: 0.8264 - val_accuracy: 0.7685\n",
      "Epoch 2/10\n",
      "54/54 [==============================] - 11s 211ms/step - loss: 0.0075 - accuracy: 0.9981 - val_loss: 0.7248 - val_accuracy: 0.7899\n",
      "Epoch 3/10\n",
      "54/54 [==============================] - 12s 220ms/step - loss: 0.0075 - accuracy: 0.9982 - val_loss: 0.5349 - val_accuracy: 0.8277\n",
      "Epoch 4/10\n",
      "54/54 [==============================] - 11s 207ms/step - loss: 0.0071 - accuracy: 0.9980 - val_loss: 0.5895 - val_accuracy: 0.8170\n",
      "Epoch 5/10\n",
      "54/54 [==============================] - 11s 197ms/step - loss: 0.0066 - accuracy: 0.9980 - val_loss: 0.6861 - val_accuracy: 0.7945\n",
      "Epoch 6/10\n",
      "54/54 [==============================] - 11s 207ms/step - loss: 0.0073 - accuracy: 0.9980 - val_loss: 0.6155 - val_accuracy: 0.8099\n",
      "Epoch 7/10\n",
      "54/54 [==============================] - 10s 190ms/step - loss: 0.0067 - accuracy: 0.9980 - val_loss: 1.0749 - val_accuracy: 0.7278\n",
      "Epoch 8/10\n",
      "54/54 [==============================] - 10s 188ms/step - loss: 0.0073 - accuracy: 0.9982 - val_loss: 0.6563 - val_accuracy: 0.8103\n",
      "Epoch 9/10\n",
      "54/54 [==============================] - 10s 193ms/step - loss: 0.0068 - accuracy: 0.9980 - val_loss: 0.7800 - val_accuracy: 0.7797\n",
      "Epoch 10/10\n",
      "54/54 [==============================] - 10s 190ms/step - loss: 0.0066 - accuracy: 0.9982 - val_loss: 0.7891 - val_accuracy: 0.7750\n",
      "Epoch 1/10\n",
      "54/54 [==============================] - 10s 192ms/step - loss: 0.0074 - accuracy: 0.9977 - val_loss: 0.6867 - val_accuracy: 0.8085\n",
      "Epoch 2/10\n",
      "54/54 [==============================] - 10s 191ms/step - loss: 0.0069 - accuracy: 0.9977 - val_loss: 0.5598 - val_accuracy: 0.8271\n",
      "Epoch 3/10\n",
      "54/54 [==============================] - 10s 190ms/step - loss: 0.0067 - accuracy: 0.9978 - val_loss: 0.5890 - val_accuracy: 0.8223\n",
      "Epoch 4/10\n",
      "54/54 [==============================] - 11s 209ms/step - loss: 0.0065 - accuracy: 0.9980 - val_loss: 0.4745 - val_accuracy: 0.8444\n",
      "Epoch 5/10\n",
      "54/54 [==============================] - 11s 205ms/step - loss: 0.0069 - accuracy: 0.9979 - val_loss: 0.5337 - val_accuracy: 0.8323\n",
      "Epoch 6/10\n",
      "54/54 [==============================] - 11s 199ms/step - loss: 0.0065 - accuracy: 0.9979 - val_loss: 0.4738 - val_accuracy: 0.8449\n",
      "Epoch 7/10\n",
      "54/54 [==============================] - 11s 201ms/step - loss: 0.0065 - accuracy: 0.9980 - val_loss: 0.6103 - val_accuracy: 0.8222\n",
      "Epoch 8/10\n",
      "54/54 [==============================] - 10s 193ms/step - loss: 0.0064 - accuracy: 0.9980 - val_loss: 0.5587 - val_accuracy: 0.8303\n",
      "Epoch 9/10\n",
      "54/54 [==============================] - 10s 193ms/step - loss: 0.0064 - accuracy: 0.9980 - val_loss: 0.6822 - val_accuracy: 0.8029\n",
      "Epoch 10/10\n",
      "54/54 [==============================] - 11s 195ms/step - loss: 0.0064 - accuracy: 0.9981 - val_loss: 0.5756 - val_accuracy: 0.8292\n",
      "Epoch 1/10\n",
      "54/54 [==============================] - 11s 196ms/step - loss: 0.0071 - accuracy: 0.9976 - val_loss: 0.7149 - val_accuracy: 0.8026\n",
      "Epoch 2/10\n",
      "54/54 [==============================] - 10s 194ms/step - loss: 0.0064 - accuracy: 0.9978 - val_loss: 0.4808 - val_accuracy: 0.8391\n",
      "Epoch 3/10\n",
      "54/54 [==============================] - 11s 195ms/step - loss: 0.0063 - accuracy: 0.9980 - val_loss: 0.7560 - val_accuracy: 0.7859\n",
      "Epoch 4/10\n",
      "54/54 [==============================] - 10s 194ms/step - loss: 0.0066 - accuracy: 0.9979 - val_loss: 0.6770 - val_accuracy: 0.8117\n",
      "Epoch 5/10\n",
      "54/54 [==============================] - 10s 190ms/step - loss: 0.0061 - accuracy: 0.9980 - val_loss: 0.6491 - val_accuracy: 0.8069\n",
      "Epoch 6/10\n",
      "54/54 [==============================] - 10s 193ms/step - loss: 0.0062 - accuracy: 0.9980 - val_loss: 0.6407 - val_accuracy: 0.8174\n",
      "Epoch 7/10\n",
      "54/54 [==============================] - 10s 194ms/step - loss: 0.0062 - accuracy: 0.9981 - val_loss: 0.6396 - val_accuracy: 0.8127\n",
      "Epoch 8/10\n",
      "54/54 [==============================] - 10s 193ms/step - loss: 0.0061 - accuracy: 0.9981 - val_loss: 0.7038 - val_accuracy: 0.8002\n",
      "Epoch 9/10\n",
      "54/54 [==============================] - 10s 194ms/step - loss: 0.0061 - accuracy: 0.9980 - val_loss: 0.5159 - val_accuracy: 0.8399\n",
      "Epoch 10/10\n",
      "54/54 [==============================] - 10s 191ms/step - loss: 0.0062 - accuracy: 0.9979 - val_loss: 0.4922 - val_accuracy: 0.8430\n",
      "  25/4279 [..............................] - ETA: 17s - loss: 2.2940 - accuracy: 0.5925"
     ]
    },
    {
     "name": "stderr",
     "output_type": "stream",
     "text": [
      "c:\\Users\\UX430\\anaconda3\\lib\\site-packages\\numpy\\core\\_asarray.py:171: VisibleDeprecationWarning: Creating an ndarray from ragged nested sequences (which is a list-or-tuple of lists-or-tuples-or ndarrays with different lengths or shapes) is deprecated. If you meant to do this, you must specify 'dtype=object' when creating the ndarray.\n",
      "  return array(a, dtype, copy=False, order=order, subok=True)\n"
     ]
    },
    {
     "name": "stdout",
     "output_type": "stream",
     "text": [
      "4279/4279 [==============================] - 20s 5ms/step - loss: 2.2584 - accuracy: 0.5905\n",
      "1721/1721 [==============================] - 8s 5ms/step - loss: 2.9754 - accuracy: 0.5773\n",
      "Epoch 1/10\n",
      "54/54 [==============================] - 11s 197ms/step - loss: 0.0065 - accuracy: 0.9981 - val_loss: 0.6116 - val_accuracy: 0.8171\n",
      "Epoch 2/10\n",
      "54/54 [==============================] - 11s 195ms/step - loss: 0.0064 - accuracy: 0.9983 - val_loss: 0.7323 - val_accuracy: 0.7991\n",
      "Epoch 3/10\n",
      "54/54 [==============================] - 11s 196ms/step - loss: 0.0062 - accuracy: 0.9983 - val_loss: 0.6171 - val_accuracy: 0.8067\n",
      "Epoch 4/10\n",
      "54/54 [==============================] - 10s 194ms/step - loss: 0.0068 - accuracy: 0.9980 - val_loss: 0.4617 - val_accuracy: 0.8416\n",
      "Epoch 5/10\n",
      "54/54 [==============================] - 11s 195ms/step - loss: 0.0067 - accuracy: 0.9981 - val_loss: 0.5496 - val_accuracy: 0.8279\n",
      "Epoch 6/10\n",
      "54/54 [==============================] - 10s 193ms/step - loss: 0.0063 - accuracy: 0.9983 - val_loss: 0.5182 - val_accuracy: 0.8300\n",
      "Epoch 7/10\n",
      "54/54 [==============================] - 10s 192ms/step - loss: 0.0061 - accuracy: 0.9984 - val_loss: 0.6333 - val_accuracy: 0.7990\n",
      "Epoch 8/10\n",
      "54/54 [==============================] - 11s 195ms/step - loss: 0.0059 - accuracy: 0.9985 - val_loss: 0.6582 - val_accuracy: 0.8018\n",
      "Epoch 9/10\n",
      "54/54 [==============================] - 11s 196ms/step - loss: 0.0061 - accuracy: 0.9984 - val_loss: 0.7036 - val_accuracy: 0.7977\n",
      "Epoch 10/10\n",
      "54/54 [==============================] - 11s 195ms/step - loss: 0.0061 - accuracy: 0.9983 - val_loss: 0.8546 - val_accuracy: 0.7649\n",
      "Epoch 1/10\n",
      "54/54 [==============================] - 11s 199ms/step - loss: 0.0068 - accuracy: 0.9978 - val_loss: 0.6002 - val_accuracy: 0.8157\n",
      "Epoch 2/10\n",
      "54/54 [==============================] - 11s 197ms/step - loss: 0.0061 - accuracy: 0.9982 - val_loss: 0.6126 - val_accuracy: 0.8150\n",
      "Epoch 3/10\n",
      "54/54 [==============================] - 10s 190ms/step - loss: 0.0066 - accuracy: 0.9980 - val_loss: 0.6061 - val_accuracy: 0.8165\n",
      "Epoch 4/10\n",
      "54/54 [==============================] - 10s 192ms/step - loss: 0.0062 - accuracy: 0.9981 - val_loss: 0.5920 - val_accuracy: 0.8242\n",
      "Epoch 5/10\n",
      "54/54 [==============================] - 11s 196ms/step - loss: 0.0062 - accuracy: 0.9982 - val_loss: 0.5044 - val_accuracy: 0.8375\n",
      "Epoch 6/10\n",
      "54/54 [==============================] - 11s 195ms/step - loss: 0.0064 - accuracy: 0.9979 - val_loss: 0.6986 - val_accuracy: 0.8090\n",
      "Epoch 7/10\n",
      "54/54 [==============================] - 11s 200ms/step - loss: 0.0061 - accuracy: 0.9981 - val_loss: 0.7541 - val_accuracy: 0.7950\n",
      "Epoch 8/10\n",
      "54/54 [==============================] - 10s 194ms/step - loss: 0.0061 - accuracy: 0.9981 - val_loss: 0.5378 - val_accuracy: 0.8314\n",
      "Epoch 9/10\n",
      "54/54 [==============================] - 10s 192ms/step - loss: 0.0060 - accuracy: 0.9983 - val_loss: 0.5999 - val_accuracy: 0.8227\n",
      "Epoch 10/10\n",
      "54/54 [==============================] - 10s 193ms/step - loss: 0.0060 - accuracy: 0.9982 - val_loss: 0.6865 - val_accuracy: 0.8189\n",
      "Epoch 1/10\n",
      "54/54 [==============================] - 11s 196ms/step - loss: 0.0064 - accuracy: 0.9980 - val_loss: 0.4937 - val_accuracy: 0.8413\n",
      "Epoch 2/10\n",
      "54/54 [==============================] - 10s 194ms/step - loss: 0.0059 - accuracy: 0.9981 - val_loss: 0.6102 - val_accuracy: 0.8213\n",
      "Epoch 3/10\n",
      "54/54 [==============================] - 10s 192ms/step - loss: 0.0060 - accuracy: 0.9981 - val_loss: 0.5826 - val_accuracy: 0.8213\n",
      "Epoch 4/10\n",
      "54/54 [==============================] - 11s 195ms/step - loss: 0.0063 - accuracy: 0.9979 - val_loss: 0.7912 - val_accuracy: 0.7822\n",
      "Epoch 5/10\n",
      "54/54 [==============================] - 10s 193ms/step - loss: 0.0059 - accuracy: 0.9980 - val_loss: 0.6325 - val_accuracy: 0.8179\n",
      "Epoch 6/10\n",
      "54/54 [==============================] - 10s 192ms/step - loss: 0.0058 - accuracy: 0.9981 - val_loss: 0.5260 - val_accuracy: 0.8309\n",
      "Epoch 7/10\n",
      "54/54 [==============================] - 10s 192ms/step - loss: 0.0058 - accuracy: 0.9982 - val_loss: 0.4571 - val_accuracy: 0.8488\n",
      "Epoch 8/10\n",
      "54/54 [==============================] - 11s 195ms/step - loss: 0.0056 - accuracy: 0.9981 - val_loss: 0.7305 - val_accuracy: 0.7973\n",
      "Epoch 9/10\n",
      "54/54 [==============================] - 10s 193ms/step - loss: 0.0056 - accuracy: 0.9983 - val_loss: 0.7196 - val_accuracy: 0.7973\n",
      "Epoch 10/10\n",
      "54/54 [==============================] - 10s 194ms/step - loss: 0.0057 - accuracy: 0.9981 - val_loss: 0.5908 - val_accuracy: 0.8236\n",
      "  24/4279 [..............................] - ETA: 18s - loss: 3.4784 - accuracy: 0.5938"
     ]
    },
    {
     "name": "stderr",
     "output_type": "stream",
     "text": [
      "c:\\Users\\UX430\\anaconda3\\lib\\site-packages\\numpy\\core\\_asarray.py:171: VisibleDeprecationWarning: Creating an ndarray from ragged nested sequences (which is a list-or-tuple of lists-or-tuples-or ndarrays with different lengths or shapes) is deprecated. If you meant to do this, you must specify 'dtype=object' when creating the ndarray.\n",
      "  return array(a, dtype, copy=False, order=order, subok=True)\n"
     ]
    },
    {
     "name": "stdout",
     "output_type": "stream",
     "text": [
      "4279/4279 [==============================] - 20s 5ms/step - loss: 3.4451 - accuracy: 0.5903\n",
      "1721/1721 [==============================] - 8s 5ms/step - loss: 3.5713 - accuracy: 0.5788: \n",
      "Epoch 1/10\n",
      "54/54 [==============================] - 11s 195ms/step - loss: 0.0062 - accuracy: 0.9983 - val_loss: 0.5197 - val_accuracy: 0.8246\n",
      "Epoch 2/10\n",
      "54/54 [==============================] - 11s 195ms/step - loss: 0.0061 - accuracy: 0.9983 - val_loss: 0.7753 - val_accuracy: 0.7861\n",
      "Epoch 3/10\n",
      "54/54 [==============================] - 10s 194ms/step - loss: 0.0061 - accuracy: 0.9984 - val_loss: 0.4933 - val_accuracy: 0.8383\n",
      "Epoch 4/10\n",
      "54/54 [==============================] - 11s 196ms/step - loss: 0.0060 - accuracy: 0.9982 - val_loss: 0.5059 - val_accuracy: 0.8338\n",
      "Epoch 5/10\n",
      "54/54 [==============================] - 11s 195ms/step - loss: 0.0064 - accuracy: 0.9984 - val_loss: 0.8377 - val_accuracy: 0.7664\n",
      "Epoch 6/10\n",
      "54/54 [==============================] - 11s 196ms/step - loss: 0.0057 - accuracy: 0.9984 - val_loss: 0.6822 - val_accuracy: 0.7957\n",
      "Epoch 7/10\n",
      "54/54 [==============================] - 10s 191ms/step - loss: 0.0057 - accuracy: 0.9984 - val_loss: 0.6017 - val_accuracy: 0.8100\n",
      "Epoch 8/10\n",
      "54/54 [==============================] - 10s 191ms/step - loss: 0.0055 - accuracy: 0.9984 - val_loss: 0.7541 - val_accuracy: 0.7996\n",
      "Epoch 9/10\n",
      "54/54 [==============================] - 10s 192ms/step - loss: 0.0059 - accuracy: 0.9984 - val_loss: 0.5158 - val_accuracy: 0.8357\n",
      "Epoch 10/10\n",
      "54/54 [==============================] - 10s 190ms/step - loss: 0.0060 - accuracy: 0.9984 - val_loss: 0.7185 - val_accuracy: 0.7867\n",
      "Epoch 1/10\n",
      "54/54 [==============================] - 10s 193ms/step - loss: 0.0068 - accuracy: 0.9977 - val_loss: 0.5864 - val_accuracy: 0.8232\n",
      "Epoch 2/10\n",
      "54/54 [==============================] - 10s 192ms/step - loss: 0.0060 - accuracy: 0.9982 - val_loss: 0.7436 - val_accuracy: 0.7903\n",
      "Epoch 3/10\n",
      "54/54 [==============================] - 10s 191ms/step - loss: 0.0060 - accuracy: 0.9981 - val_loss: 0.7687 - val_accuracy: 0.7920\n",
      "Epoch 4/10\n",
      "54/54 [==============================] - 10s 189ms/step - loss: 0.0061 - accuracy: 0.9981 - val_loss: 0.5544 - val_accuracy: 0.8295\n",
      "Epoch 5/10\n",
      "54/54 [==============================] - 10s 192ms/step - loss: 0.0058 - accuracy: 0.9982 - val_loss: 0.5558 - val_accuracy: 0.8272\n",
      "Epoch 6/10\n",
      "54/54 [==============================] - 10s 193ms/step - loss: 0.0059 - accuracy: 0.9982 - val_loss: 0.7460 - val_accuracy: 0.7951\n",
      "Epoch 7/10\n",
      "54/54 [==============================] - 10s 193ms/step - loss: 0.0060 - accuracy: 0.9981 - val_loss: 0.5329 - val_accuracy: 0.8267\n",
      "Epoch 8/10\n",
      "54/54 [==============================] - 10s 193ms/step - loss: 0.0056 - accuracy: 0.9983 - val_loss: 0.6472 - val_accuracy: 0.8127\n",
      "Epoch 9/10\n",
      "54/54 [==============================] - 10s 191ms/step - loss: 0.0057 - accuracy: 0.9982 - val_loss: 0.6290 - val_accuracy: 0.8169\n",
      "Epoch 10/10\n",
      "54/54 [==============================] - 10s 190ms/step - loss: 0.0056 - accuracy: 0.9982 - val_loss: 0.5323 - val_accuracy: 0.8426\n",
      "Epoch 1/10\n",
      "54/54 [==============================] - 11s 196ms/step - loss: 0.0062 - accuracy: 0.9980 - val_loss: 0.5098 - val_accuracy: 0.8336\n",
      "Epoch 2/10\n",
      "54/54 [==============================] - 10s 194ms/step - loss: 0.0058 - accuracy: 0.9981 - val_loss: 0.4852 - val_accuracy: 0.8425\n",
      "Epoch 3/10\n",
      "54/54 [==============================] - 10s 193ms/step - loss: 0.0057 - accuracy: 0.9982 - val_loss: 0.8928 - val_accuracy: 0.7767\n",
      "Epoch 4/10\n",
      "54/54 [==============================] - 10s 191ms/step - loss: 0.0059 - accuracy: 0.9980 - val_loss: 0.4487 - val_accuracy: 0.8487\n",
      "Epoch 5/10\n",
      "54/54 [==============================] - 10s 194ms/step - loss: 0.0055 - accuracy: 0.9982 - val_loss: 0.5058 - val_accuracy: 0.8320\n",
      "Epoch 6/10\n",
      "54/54 [==============================] - 10s 191ms/step - loss: 0.0057 - accuracy: 0.9982 - val_loss: 0.4567 - val_accuracy: 0.8465\n",
      "Epoch 7/10\n",
      "54/54 [==============================] - 10s 191ms/step - loss: 0.0054 - accuracy: 0.9982 - val_loss: 0.6655 - val_accuracy: 0.8099\n",
      "Epoch 8/10\n",
      "54/54 [==============================] - 10s 192ms/step - loss: 0.0055 - accuracy: 0.9982 - val_loss: 0.5377 - val_accuracy: 0.8296\n",
      "Epoch 9/10\n",
      "54/54 [==============================] - 10s 192ms/step - loss: 0.0055 - accuracy: 0.9982 - val_loss: 0.7921 - val_accuracy: 0.7887\n",
      "Epoch 10/10\n",
      "54/54 [==============================] - 10s 190ms/step - loss: 0.0054 - accuracy: 0.9982 - val_loss: 0.5684 - val_accuracy: 0.8285\n",
      "  25/4279 [..............................] - ETA: 17s - loss: 3.8595 - accuracy: 0.5950"
     ]
    },
    {
     "name": "stderr",
     "output_type": "stream",
     "text": [
      "c:\\Users\\UX430\\anaconda3\\lib\\site-packages\\numpy\\core\\_asarray.py:171: VisibleDeprecationWarning: Creating an ndarray from ragged nested sequences (which is a list-or-tuple of lists-or-tuples-or ndarrays with different lengths or shapes) is deprecated. If you meant to do this, you must specify 'dtype=object' when creating the ndarray.\n",
      "  return array(a, dtype, copy=False, order=order, subok=True)\n"
     ]
    },
    {
     "name": "stdout",
     "output_type": "stream",
     "text": [
      "4279/4279 [==============================] - 20s 5ms/step - loss: 3.8306 - accuracy: 0.5936\n",
      "1721/1721 [==============================] - 8s 5ms/step - loss: 3.4602 - accuracy: 0.6073\n",
      "Epoch 1/10\n",
      "54/54 [==============================] - 11s 197ms/step - loss: 0.0059 - accuracy: 0.9984 - val_loss: 0.8065 - val_accuracy: 0.7715\n",
      "Epoch 2/10\n",
      "54/54 [==============================] - 10s 194ms/step - loss: 0.0057 - accuracy: 0.9984 - val_loss: 0.6106 - val_accuracy: 0.8120\n",
      "Epoch 3/10\n",
      "54/54 [==============================] - 10s 193ms/step - loss: 0.0057 - accuracy: 0.9983 - val_loss: 0.6102 - val_accuracy: 0.8151\n",
      "Epoch 4/10\n",
      "54/54 [==============================] - 10s 193ms/step - loss: 0.0057 - accuracy: 0.9985 - val_loss: 0.4635 - val_accuracy: 0.8355\n",
      "Epoch 5/10\n",
      "54/54 [==============================] - 10s 193ms/step - loss: 0.0055 - accuracy: 0.9985 - val_loss: 0.7191 - val_accuracy: 0.7964\n",
      "Epoch 6/10\n",
      "54/54 [==============================] - 10s 190ms/step - loss: 0.0060 - accuracy: 0.9983 - val_loss: 0.5625 - val_accuracy: 0.8200\n",
      "Epoch 7/10\n",
      "54/54 [==============================] - 10s 191ms/step - loss: 0.0055 - accuracy: 0.9984 - val_loss: 0.5178 - val_accuracy: 0.8271\n",
      "Epoch 8/10\n",
      "54/54 [==============================] - 10s 191ms/step - loss: 0.0055 - accuracy: 0.9984 - val_loss: 0.6583 - val_accuracy: 0.8010\n",
      "Epoch 9/10\n",
      "54/54 [==============================] - 10s 191ms/step - loss: 0.0053 - accuracy: 0.9985 - val_loss: 0.7878 - val_accuracy: 0.7709\n",
      "Epoch 10/10\n",
      "54/54 [==============================] - 10s 190ms/step - loss: 0.0059 - accuracy: 0.9985 - val_loss: 0.3896 - val_accuracy: 0.8613\n",
      "Epoch 1/10\n",
      "54/54 [==============================] - 11s 195ms/step - loss: 0.0059 - accuracy: 0.9981 - val_loss: 0.6038 - val_accuracy: 0.8148\n",
      "Epoch 2/10\n",
      "54/54 [==============================] - 10s 192ms/step - loss: 0.0055 - accuracy: 0.9983 - val_loss: 0.5602 - val_accuracy: 0.8318\n",
      "Epoch 3/10\n",
      "54/54 [==============================] - 10s 192ms/step - loss: 0.0058 - accuracy: 0.9983 - val_loss: 0.4015 - val_accuracy: 0.8569\n",
      "Epoch 4/10\n",
      "54/54 [==============================] - 10s 194ms/step - loss: 0.0056 - accuracy: 0.9982 - val_loss: 0.6648 - val_accuracy: 0.8103\n",
      "Epoch 5/10\n",
      "54/54 [==============================] - 10s 189ms/step - loss: 0.0056 - accuracy: 0.9982 - val_loss: 0.7260 - val_accuracy: 0.7941\n",
      "Epoch 6/10\n",
      "54/54 [==============================] - 10s 190ms/step - loss: 0.0054 - accuracy: 0.9984 - val_loss: 0.4745 - val_accuracy: 0.8410\n",
      "Epoch 7/10\n",
      "54/54 [==============================] - 10s 192ms/step - loss: 0.0052 - accuracy: 0.9983 - val_loss: 0.5368 - val_accuracy: 0.8321\n",
      "Epoch 8/10\n",
      "54/54 [==============================] - 10s 192ms/step - loss: 0.0053 - accuracy: 0.9983 - val_loss: 0.5086 - val_accuracy: 0.8326\n",
      "Epoch 9/10\n",
      "54/54 [==============================] - 10s 191ms/step - loss: 0.0052 - accuracy: 0.9984 - val_loss: 0.6824 - val_accuracy: 0.8119\n",
      "Epoch 10/10\n",
      "54/54 [==============================] - 10s 192ms/step - loss: 0.0053 - accuracy: 0.9983 - val_loss: 0.6944 - val_accuracy: 0.8132\n",
      "Epoch 1/10\n",
      "54/54 [==============================] - 10s 193ms/step - loss: 0.0056 - accuracy: 0.9982 - val_loss: 0.4965 - val_accuracy: 0.8396\n",
      "Epoch 2/10\n",
      "54/54 [==============================] - 11s 197ms/step - loss: 0.0053 - accuracy: 0.9982 - val_loss: 0.5818 - val_accuracy: 0.8263\n",
      "Epoch 3/10\n",
      "54/54 [==============================] - 10s 190ms/step - loss: 0.0053 - accuracy: 0.9983 - val_loss: 0.5217 - val_accuracy: 0.8375\n",
      "Epoch 4/10\n",
      "54/54 [==============================] - 10s 191ms/step - loss: 0.0051 - accuracy: 0.9982 - val_loss: 0.7939 - val_accuracy: 0.7859\n",
      "Epoch 5/10\n",
      "54/54 [==============================] - 10s 190ms/step - loss: 0.0050 - accuracy: 0.9983 - val_loss: 0.6228 - val_accuracy: 0.8184\n",
      "Epoch 6/10\n",
      "54/54 [==============================] - 10s 191ms/step - loss: 0.0051 - accuracy: 0.9982 - val_loss: 0.6755 - val_accuracy: 0.8117\n",
      "Epoch 7/10\n",
      "54/54 [==============================] - 10s 189ms/step - loss: 0.0051 - accuracy: 0.9982 - val_loss: 0.5468 - val_accuracy: 0.8258\n",
      "Epoch 8/10\n",
      "54/54 [==============================] - 10s 191ms/step - loss: 0.0050 - accuracy: 0.9983 - val_loss: 0.7992 - val_accuracy: 0.7897\n",
      "Epoch 9/10\n",
      "54/54 [==============================] - 10s 192ms/step - loss: 0.0050 - accuracy: 0.9984 - val_loss: 0.6889 - val_accuracy: 0.8122\n",
      "Epoch 10/10\n",
      "54/54 [==============================] - 10s 192ms/step - loss: 0.0051 - accuracy: 0.9982 - val_loss: 0.5609 - val_accuracy: 0.8252\n",
      "  24/4279 [..............................] - ETA: 18s - loss: 4.4854 - accuracy: 0.5977"
     ]
    },
    {
     "name": "stderr",
     "output_type": "stream",
     "text": [
      "c:\\Users\\UX430\\anaconda3\\lib\\site-packages\\numpy\\core\\_asarray.py:171: VisibleDeprecationWarning: Creating an ndarray from ragged nested sequences (which is a list-or-tuple of lists-or-tuples-or ndarrays with different lengths or shapes) is deprecated. If you meant to do this, you must specify 'dtype=object' when creating the ndarray.\n",
      "  return array(a, dtype, copy=False, order=order, subok=True)\n"
     ]
    },
    {
     "name": "stdout",
     "output_type": "stream",
     "text": [
      "4279/4279 [==============================] - 18s 4ms/step - loss: 4.4774 - accuracy: 0.5937\n",
      "1721/1721 [==============================] - 8s 5ms/step - loss: 3.6558 - accuracy: 0.6425\n",
      "Epoch 1/10\n",
      "54/54 [==============================] - 11s 198ms/step - loss: 0.0056 - accuracy: 0.9985 - val_loss: 0.7006 - val_accuracy: 0.7890\n",
      "Epoch 2/10\n",
      "54/54 [==============================] - 10s 193ms/step - loss: 0.0052 - accuracy: 0.9984 - val_loss: 0.6449 - val_accuracy: 0.7970\n",
      "Epoch 3/10\n",
      "54/54 [==============================] - 10s 193ms/step - loss: 0.0052 - accuracy: 0.9984 - val_loss: 0.3634 - val_accuracy: 0.8604\n",
      "Epoch 4/10\n",
      "54/54 [==============================] - 10s 192ms/step - loss: 0.0054 - accuracy: 0.9984 - val_loss: 0.4947 - val_accuracy: 0.8304\n",
      "Epoch 5/10\n",
      "54/54 [==============================] - 10s 191ms/step - loss: 0.0049 - accuracy: 0.9985 - val_loss: 0.6775 - val_accuracy: 0.8014\n",
      "Epoch 6/10\n",
      "54/54 [==============================] - 10s 189ms/step - loss: 0.0051 - accuracy: 0.9986 - val_loss: 0.5711 - val_accuracy: 0.8132\n",
      "Epoch 7/10\n",
      "54/54 [==============================] - 10s 192ms/step - loss: 0.0047 - accuracy: 0.9985 - val_loss: 0.6144 - val_accuracy: 0.8115\n",
      "Epoch 8/10\n",
      "54/54 [==============================] - 10s 192ms/step - loss: 0.0049 - accuracy: 0.9985 - val_loss: 0.5182 - val_accuracy: 0.8323\n",
      "Epoch 9/10\n",
      "54/54 [==============================] - 10s 189ms/step - loss: 0.0047 - accuracy: 0.9985 - val_loss: 0.7057 - val_accuracy: 0.7942\n",
      "Epoch 10/10\n",
      "54/54 [==============================] - 10s 193ms/step - loss: 0.0048 - accuracy: 0.9986 - val_loss: 0.5942 - val_accuracy: 0.8166\n",
      "Epoch 1/10\n",
      "54/54 [==============================] - 10s 194ms/step - loss: 0.0055 - accuracy: 0.9981 - val_loss: 0.6470 - val_accuracy: 0.8034\n",
      "Epoch 2/10\n",
      "54/54 [==============================] - 11s 199ms/step - loss: 0.0052 - accuracy: 0.9982 - val_loss: 0.6722 - val_accuracy: 0.8034\n",
      "Epoch 3/10\n",
      "54/54 [==============================] - 11s 195ms/step - loss: 0.0051 - accuracy: 0.9983 - val_loss: 0.5367 - val_accuracy: 0.8327\n",
      "Epoch 4/10\n",
      "54/54 [==============================] - 10s 194ms/step - loss: 0.0052 - accuracy: 0.9982 - val_loss: 0.7281 - val_accuracy: 0.7990\n",
      "Epoch 5/10\n",
      "54/54 [==============================] - 10s 192ms/step - loss: 0.0048 - accuracy: 0.9984 - val_loss: 0.4809 - val_accuracy: 0.8425\n",
      "Epoch 6/10\n",
      "54/54 [==============================] - 11s 195ms/step - loss: 0.0047 - accuracy: 0.9984 - val_loss: 0.5209 - val_accuracy: 0.8331\n",
      "Epoch 7/10\n",
      "54/54 [==============================] - 10s 194ms/step - loss: 0.0046 - accuracy: 0.9985 - val_loss: 0.5671 - val_accuracy: 0.8261\n",
      "Epoch 8/10\n",
      "54/54 [==============================] - 11s 195ms/step - loss: 0.0049 - accuracy: 0.9983 - val_loss: 0.4634 - val_accuracy: 0.8475\n",
      "Epoch 9/10\n",
      "54/54 [==============================] - 11s 195ms/step - loss: 0.0047 - accuracy: 0.9984 - val_loss: 0.5290 - val_accuracy: 0.8384\n",
      "Epoch 10/10\n",
      "54/54 [==============================] - 10s 191ms/step - loss: 0.0050 - accuracy: 0.9982 - val_loss: 0.7295 - val_accuracy: 0.8095\n",
      "Epoch 1/10\n",
      "54/54 [==============================] - 11s 199ms/step - loss: 0.0053 - accuracy: 0.9981 - val_loss: 0.7540 - val_accuracy: 0.7986\n",
      "Epoch 2/10\n",
      "54/54 [==============================] - 10s 193ms/step - loss: 0.0050 - accuracy: 0.9981 - val_loss: 0.6386 - val_accuracy: 0.8168\n",
      "Epoch 3/10\n",
      "54/54 [==============================] - 11s 195ms/step - loss: 0.0051 - accuracy: 0.9982 - val_loss: 0.4165 - val_accuracy: 0.8528\n",
      "Epoch 4/10\n",
      "54/54 [==============================] - 11s 196ms/step - loss: 0.0048 - accuracy: 0.9983 - val_loss: 0.6562 - val_accuracy: 0.8138\n",
      "Epoch 5/10\n",
      "54/54 [==============================] - 10s 194ms/step - loss: 0.0047 - accuracy: 0.9983 - val_loss: 0.5871 - val_accuracy: 0.8237\n",
      "Epoch 6/10\n",
      "54/54 [==============================] - 10s 193ms/step - loss: 0.0049 - accuracy: 0.9984 - val_loss: 0.5993 - val_accuracy: 0.8308\n",
      "Epoch 7/10\n",
      "54/54 [==============================] - 10s 191ms/step - loss: 0.0049 - accuracy: 0.9983 - val_loss: 0.6305 - val_accuracy: 0.8193\n",
      "Epoch 8/10\n",
      "54/54 [==============================] - 10s 193ms/step - loss: 0.0048 - accuracy: 0.9983 - val_loss: 0.5951 - val_accuracy: 0.8226\n",
      "Epoch 9/10\n",
      "54/54 [==============================] - 10s 193ms/step - loss: 0.0045 - accuracy: 0.9985 - val_loss: 0.6837 - val_accuracy: 0.8129\n",
      "Epoch 10/10\n",
      "54/54 [==============================] - 10s 194ms/step - loss: 0.0044 - accuracy: 0.9985 - val_loss: 0.5512 - val_accuracy: 0.8311\n",
      "  24/4279 [..............................] - ETA: 18s - loss: 5.5428 - accuracy: 0.5977"
     ]
    },
    {
     "name": "stderr",
     "output_type": "stream",
     "text": [
      "c:\\Users\\UX430\\anaconda3\\lib\\site-packages\\numpy\\core\\_asarray.py:171: VisibleDeprecationWarning: Creating an ndarray from ragged nested sequences (which is a list-or-tuple of lists-or-tuples-or ndarrays with different lengths or shapes) is deprecated. If you meant to do this, you must specify 'dtype=object' when creating the ndarray.\n",
      "  return array(a, dtype, copy=False, order=order, subok=True)\n"
     ]
    },
    {
     "name": "stdout",
     "output_type": "stream",
     "text": [
      "4279/4279 [==============================] - 19s 4ms/step - loss: 5.5419 - accuracy: 0.5941\n",
      "1721/1721 [==============================] - 8s 5ms/step - loss: 4.0920 - accuracy: 0.6729\n",
      "Epoch 1/10\n",
      "54/54 [==============================] - 11s 197ms/step - loss: 0.0047 - accuracy: 0.9985 - val_loss: 0.6507 - val_accuracy: 0.8058\n",
      "Epoch 2/10\n",
      "54/54 [==============================] - 11s 195ms/step - loss: 0.0046 - accuracy: 0.9986 - val_loss: 0.6399 - val_accuracy: 0.8050\n",
      "Epoch 3/10\n",
      "54/54 [==============================] - 11s 196ms/step - loss: 0.0045 - accuracy: 0.9985 - val_loss: 0.6329 - val_accuracy: 0.8100\n",
      "Epoch 4/10\n",
      "54/54 [==============================] - 11s 199ms/step - loss: 0.0045 - accuracy: 0.9986 - val_loss: 0.5471 - val_accuracy: 0.8214\n",
      "Epoch 5/10\n",
      "54/54 [==============================] - 10s 193ms/step - loss: 0.0049 - accuracy: 0.9983 - val_loss: 0.5311 - val_accuracy: 0.8320\n",
      "Epoch 6/10\n",
      "54/54 [==============================] - 10s 194ms/step - loss: 0.0044 - accuracy: 0.9986 - val_loss: 0.7088 - val_accuracy: 0.7913\n",
      "Epoch 7/10\n",
      "54/54 [==============================] - 11s 194ms/step - loss: 0.0043 - accuracy: 0.9987 - val_loss: 0.7477 - val_accuracy: 0.7962\n",
      "Epoch 8/10\n",
      "54/54 [==============================] - 10s 194ms/step - loss: 0.0045 - accuracy: 0.9987 - val_loss: 0.6683 - val_accuracy: 0.8041\n",
      "Epoch 9/10\n",
      "54/54 [==============================] - 10s 192ms/step - loss: 0.0043 - accuracy: 0.9987 - val_loss: 0.5077 - val_accuracy: 0.8369\n",
      "Epoch 10/10\n",
      "54/54 [==============================] - 11s 198ms/step - loss: 0.0042 - accuracy: 0.9987 - val_loss: 0.5411 - val_accuracy: 0.8261\n",
      "Epoch 1/10\n",
      "54/54 [==============================] - 11s 196ms/step - loss: 0.0049 - accuracy: 0.9983 - val_loss: 0.4876 - val_accuracy: 0.8461\n",
      "Epoch 2/10\n",
      "54/54 [==============================] - 11s 197ms/step - loss: 0.0047 - accuracy: 0.9984 - val_loss: 0.5754 - val_accuracy: 0.8243\n",
      "Epoch 3/10\n",
      "54/54 [==============================] - 10s 192ms/step - loss: 0.0045 - accuracy: 0.9984 - val_loss: 0.5529 - val_accuracy: 0.8294\n",
      "Epoch 4/10\n",
      "54/54 [==============================] - 11s 195ms/step - loss: 0.0045 - accuracy: 0.9984 - val_loss: 0.4785 - val_accuracy: 0.8453\n",
      "Epoch 5/10\n",
      "54/54 [==============================] - 11s 194ms/step - loss: 0.0046 - accuracy: 0.9984 - val_loss: 0.5946 - val_accuracy: 0.8221\n",
      "Epoch 6/10\n",
      "54/54 [==============================] - 10s 194ms/step - loss: 0.0043 - accuracy: 0.9986 - val_loss: 0.7926 - val_accuracy: 0.7987\n",
      "Epoch 7/10\n",
      "54/54 [==============================] - 10s 194ms/step - loss: 0.0042 - accuracy: 0.9985 - val_loss: 0.7958 - val_accuracy: 0.7912\n",
      "Epoch 8/10\n",
      "54/54 [==============================] - 10s 191ms/step - loss: 0.0044 - accuracy: 0.9986 - val_loss: 0.6162 - val_accuracy: 0.8276\n",
      "Epoch 9/10\n",
      "54/54 [==============================] - 11s 198ms/step - loss: 0.0043 - accuracy: 0.9986 - val_loss: 0.5502 - val_accuracy: 0.8330\n",
      "Epoch 10/10\n",
      "54/54 [==============================] - 11s 199ms/step - loss: 0.0042 - accuracy: 0.9986 - val_loss: 0.6103 - val_accuracy: 0.8325\n",
      "Epoch 1/10\n",
      "54/54 [==============================] - 11s 196ms/step - loss: 0.0053 - accuracy: 0.9983 - val_loss: 0.6501 - val_accuracy: 0.8191\n",
      "Epoch 2/10\n",
      "54/54 [==============================] - 11s 195ms/step - loss: 0.0045 - accuracy: 0.9985 - val_loss: 0.3975 - val_accuracy: 0.8682\n",
      "Epoch 3/10\n",
      "54/54 [==============================] - 11s 195ms/step - loss: 0.0049 - accuracy: 0.9983 - val_loss: 0.3519 - val_accuracy: 0.8808\n",
      "Epoch 4/10\n",
      "54/54 [==============================] - 11s 195ms/step - loss: 0.0048 - accuracy: 0.9982 - val_loss: 0.6042 - val_accuracy: 0.8271\n",
      "Epoch 5/10\n",
      "54/54 [==============================] - 11s 195ms/step - loss: 0.0043 - accuracy: 0.9984 - val_loss: 0.6602 - val_accuracy: 0.8209\n",
      "Epoch 6/10\n",
      "54/54 [==============================] - 11s 195ms/step - loss: 0.0042 - accuracy: 0.9985 - val_loss: 0.7953 - val_accuracy: 0.7930\n",
      "Epoch 7/10\n",
      "54/54 [==============================] - 10s 194ms/step - loss: 0.0044 - accuracy: 0.9985 - val_loss: 0.5733 - val_accuracy: 0.8316\n",
      "Epoch 8/10\n",
      "54/54 [==============================] - 10s 194ms/step - loss: 0.0042 - accuracy: 0.9985 - val_loss: 0.5263 - val_accuracy: 0.8442\n",
      "Epoch 9/10\n",
      "54/54 [==============================] - 10s 192ms/step - loss: 0.0042 - accuracy: 0.9985 - val_loss: 0.5631 - val_accuracy: 0.8335\n",
      "Epoch 10/10\n",
      "54/54 [==============================] - 10s 194ms/step - loss: 0.0044 - accuracy: 0.9985 - val_loss: 0.4880 - val_accuracy: 0.8450\n",
      "  24/4279 [..............................] - ETA: 18s - loss: 6.3580 - accuracy: 0.5977"
     ]
    },
    {
     "name": "stderr",
     "output_type": "stream",
     "text": [
      "c:\\Users\\UX430\\anaconda3\\lib\\site-packages\\numpy\\core\\_asarray.py:171: VisibleDeprecationWarning: Creating an ndarray from ragged nested sequences (which is a list-or-tuple of lists-or-tuples-or ndarrays with different lengths or shapes) is deprecated. If you meant to do this, you must specify 'dtype=object' when creating the ndarray.\n",
      "  return array(a, dtype, copy=False, order=order, subok=True)\n"
     ]
    },
    {
     "name": "stdout",
     "output_type": "stream",
     "text": [
      "4279/4279 [==============================] - 20s 5ms/step - loss: 6.3386 - accuracy: 0.5933\n",
      "1721/1721 [==============================] - 8s 5ms/step - loss: 4.2869 - accuracy: 0.7279\n"
     ]
    }
   ],
   "source": [
    "# Values saved each iteration \n",
    "loss_it = []\n",
    "accuracy_it = []\n",
    "f1_it = []\n",
    "precision_it = []\n",
    "recall_it = []\n",
    "\n",
    "for i in range(global_updates): \n",
    "    w_list = []\n",
    "    for node in range(num_nodes): \n",
    "        cp = global_model # create a copy of the global model\n",
    "        if node == 0:\n",
    "            x, y = x1, y1\n",
    "        elif node == 1:\n",
    "            x, y = x2, y2\n",
    "        else:\n",
    "            x, y = x3, y3\n",
    "        local_model, local_loss, local_acc, local_val_loss, local_val_acc = train_local_model(cp, node, x, y)\n",
    "        w_list.append(local_model.get_weights())\n",
    "\n",
    "    avg_w = aggregate(w_list)\n",
    "    global_model.set_weights(avg_w) # apply gradients to global model\n",
    "    loss_basic, accuracy_basic, f1_basic, precision_basic, recall_basic = evaluation(global_model, xbasic, ybasic) # Evaluate with test basic to know progress\n",
    "    loss_plus, accuracy_plus, f1_plus, precision_plus, recall_plus = evaluation(global_model, xplus, yplus) # Evaluate with test plus to know progress\n",
    "\n",
    "    loss_it.append([loss_basic, loss_plus])\n",
    "    accuracy_it.append([accuracy_basic, accuracy_plus])\n",
    "    f1_it.append([f1_basic, f1_plus])\n",
    "    precision_it.append([precision_basic, precision_plus])\n",
    "    recall_it.append([recall_basic, recall_plus])\n",
    "\n",
    "\n",
    "global_model.save('C:/Users/UX430/Documents/thesis/code/models/id1910.hdf5')"
   ]
  },
  {
   "cell_type": "code",
   "execution_count": 79,
   "metadata": {},
   "outputs": [
    {
     "name": "stdout",
     "output_type": "stream",
     "text": [
      "Loss for iterations:  [[0.1511470228433609, 0.37683457136154175], [0.3587162494659424, 1.0574772357940674], [0.8660457134246826, 2.043614387512207], [1.6211916208267212, 2.6672563552856445], [2.25840163230896, 2.9753661155700684], [3.4451019763946533, 3.571256399154663], [3.8306243419647217, 3.4602181911468506], [4.477360248565674, 3.655755043029785], [5.541928291320801, 4.091959476470947], [6.338571071624756, 4.286871910095215]]\n",
      "Accuracy for iterations:  [[0.9788848757743835, 0.8759173154830933], [0.7929971814155579, 0.6811015009880066], [0.5881343483924866, 0.5786892175674438], [0.5880978107452393, 0.5743842124938965], [0.5904861092567444, 0.5772542357444763], [0.5903181433677673, 0.5788345336914062], [0.5935537219047546, 0.6072622537612915], [0.5936924815177917, 0.6425379514694214], [0.5941160917282104, 0.6728910803794861], [0.593298077583313, 0.7279117703437805]]\n",
      "F1 for iterations:  [[0.9788777632026339, 0.872614195868444], [0.7821209882007997, 0.6280498098219511], [0.491061155190864, 0.4432760716780919], [0.4907308914644493, 0.43389368293156216], [0.4957757092841341, 0.44013785330266797], [0.49536243525465967, 0.4432412831338019], [0.5022658017457549, 0.500958113328074], [0.5043213398367478, 0.565003349008979], [0.5062241920945413, 0.6148088614246934], [0.5063974935793695, 0.6953794476261614]]\n",
      "Precision for iterations:  [[0.9789264142843261, 0.8924758189050885], [0.8428241461012115, 0.7851262845453251], [0.738372331113429, 0.7422693354242509], [0.7397458350338755, 0.7403183701386141], [0.7375980826819708, 0.7420580805940717], [0.7380475196442539, 0.7470339133065774], [0.7348027365893081, 0.7582300450224025], [0.7265313705564479, 0.7719088662954935], [0.7218364535273367, 0.7839285769993032], [0.7144701972247314, 0.8076431743442479]]\n",
      "Recall for iterations:  [[0.9788848637120571, 0.8759173145389814], [0.792997166145666, 0.6811015040325511], [0.5881343305384323, 0.5786892392646952], [0.5880978117970143, 0.5743842185570006], [0.5904861374857577, 0.5772542323621304], [0.5903181512752345, 0.5788345564193853], [0.5935537117648777, 0.6072622248056383], [0.5936924829822665, 0.6425379641066628], [0.5941161003827164, 0.6728910847925598], [0.593298080574951, 0.7279117924871031]]\n"
     ]
    }
   ],
   "source": [
    "print(\"Loss for iterations: \", loss_it)\n",
    "print(\"Accuracy for iterations: \", accuracy_it)\n",
    "print(\"F1 for iterations: \", f1_it)\n",
    "print(\"Precision for iterations: \", precision_it)\n",
    "print(\"Recall for iterations: \", recall_it)"
   ]
  },
  {
   "cell_type": "markdown",
   "metadata": {},
   "source": [
    "#### #Epochs = 5, #Iterations = 5"
   ]
  },
  {
   "cell_type": "code",
   "execution_count": 5,
   "metadata": {},
   "outputs": [
    {
     "name": "stderr",
     "output_type": "stream",
     "text": [
      "C:\\Users\\UX430\\AppData\\Local\\Temp/ipykernel_16700/1685572531.py:2: DtypeWarning: Columns (2,4) have mixed types. Specify dtype option on import or set low_memory=False.\n",
      "  training1 = pd.read_csv('C:/Users/UX430/Documents/thesis/datasets/UNSW-NB15/UNSW-NB15-Train-Basic-3C-Part1.csv')\n",
      "C:\\Users\\UX430\\AppData\\Local\\Temp/ipykernel_16700/1685572531.py:3: DtypeWarning: Columns (4) have mixed types. Specify dtype option on import or set low_memory=False.\n",
      "  training2 = pd.read_csv('C:/Users/UX430/Documents/thesis/datasets/UNSW-NB15/UNSW-NB15-Train-Basic-3C-Part2.csv')\n",
      "C:\\Users\\UX430\\AppData\\Local\\Temp/ipykernel_16700/1685572531.py:4: DtypeWarning: Columns (4) have mixed types. Specify dtype option on import or set low_memory=False.\n",
      "  training3 = pd.read_csv('C:/Users/UX430/Documents/thesis/datasets/UNSW-NB15/UNSW-NB15-Train-Basic-3C-Part3.csv')\n",
      "C:\\Users\\UX430\\AppData\\Local\\Temp/ipykernel_16700/1685572531.py:5: DtypeWarning: Columns (4) have mixed types. Specify dtype option on import or set low_memory=False.\n",
      "  test_basic = pd.read_csv('C:/Users/UX430/Documents/thesis/datasets/UNSW-NB15/UNSW-NB15-Test-Basic.csv')\n"
     ]
    }
   ],
   "source": [
    "# Load training datasets and testing datasets \n",
    "training1 = pd.read_csv('C:/Users/UX430/Documents/thesis/datasets/UNSW-NB15/UNSW-NB15-Train-Basic-3C-Part1.csv')\n",
    "training2 = pd.read_csv('C:/Users/UX430/Documents/thesis/datasets/UNSW-NB15/UNSW-NB15-Train-Basic-3C-Part2.csv')\n",
    "training3 = pd.read_csv('C:/Users/UX430/Documents/thesis/datasets/UNSW-NB15/UNSW-NB15-Train-Basic-3C-Part3.csv')\n",
    "test_basic = pd.read_csv('C:/Users/UX430/Documents/thesis/datasets/UNSW-NB15/UNSW-NB15-Test-Basic.csv')\n",
    "test_plus = pd.read_csv('C:/Users/UX430/Documents/thesis/datasets/UNSW-NB15/UNSW-NB15-Test+.csv')"
   ]
  },
  {
   "cell_type": "code",
   "execution_count": 6,
   "metadata": {},
   "outputs": [],
   "source": [
    "# Define \n",
    "node_datasets = [training1, training2, training3]\n",
    "num_nodes = 3\n",
    "global_updates = 5\n",
    "\n",
    "# Define model training parameters\n",
    "loss_fct = \"categorical_crossentropy\"\n",
    "metrics = ['accuracy']\n",
    "local_epochs = 5"
   ]
  },
  {
   "cell_type": "code",
   "execution_count": 7,
   "metadata": {},
   "outputs": [],
   "source": [
    "def train_local_model(model, node, x_train, y_train): \n",
    "    filepath = 'C:/Users/UX430/Documents/thesis/code/models/node'+str(node)+'id1911.hdf5'\n",
    "    callbacks = [\n",
    "            keras.callbacks.EarlyStopping(\n",
    "                monitor = 'val_loss', # Use accuracy to monitor the model\n",
    "                patience = 10 # Stop after 10 steps with lower accuracy\n",
    "            ),\n",
    "            keras.callbacks.ModelCheckpoint(\n",
    "                filepath = filepath, # file where the checkpoint is saved\n",
    "                monitor = 'val_loss', # Don't overwrite the saved model unless val_loss is worse\n",
    "                save_best_only = True)]# Only save model if it is the best\n",
    "    optimizer = keras.optimizers.Adam(learning_rate=5e-4)\n",
    "    model.compile(optimizer=optimizer, loss=loss_fct, metrics=metrics)\n",
    "    history = model.fit(x_train, y_train, epochs=local_epochs, validation_split=0.2, callbacks=callbacks, batch_size=2048)\n",
    "    return model, history.history['loss'], history.history['accuracy'], history.history['val_loss'], history.history['val_accuracy']"
   ]
  },
  {
   "cell_type": "code",
   "execution_count": 8,
   "metadata": {},
   "outputs": [],
   "source": [
    "def aggregate(w_list): \n",
    "    avg_w = np.mean(w_list, axis=0)\n",
    "    return avg_w"
   ]
  },
  {
   "cell_type": "code",
   "execution_count": 9,
   "metadata": {},
   "outputs": [],
   "source": [
    "global_model = build_model((24,1,1))"
   ]
  },
  {
   "cell_type": "code",
   "execution_count": 10,
   "metadata": {},
   "outputs": [],
   "source": [
    "x1, y1 = preprocessing(training1)\n",
    "x2, y2 = preprocessing(training2)\n",
    "x3, y3 = preprocessing(training3)\n",
    "xbasic, ybasic = preprocessing(test_basic)\n",
    "xplus, yplus = preprocessing(test_plus)"
   ]
  },
  {
   "cell_type": "code",
   "execution_count": 11,
   "metadata": {},
   "outputs": [
    {
     "name": "stdout",
     "output_type": "stream",
     "text": [
      "Epoch 1/5\n",
      "54/54 [==============================] - 12s 223ms/step - loss: 0.2645 - accuracy: 0.9722 - val_loss: 1.9327 - val_accuracy: 0.6399\n",
      "Epoch 2/5\n",
      "54/54 [==============================] - 12s 230ms/step - loss: 0.0342 - accuracy: 0.9921 - val_loss: 0.7014 - val_accuracy: 0.6454\n",
      "Epoch 3/5\n",
      "54/54 [==============================] - 13s 238ms/step - loss: 0.0256 - accuracy: 0.9925 - val_loss: 0.4979 - val_accuracy: 0.6941\n",
      "Epoch 4/5\n",
      "54/54 [==============================] - 12s 225ms/step - loss: 0.0239 - accuracy: 0.9925 - val_loss: 0.4756 - val_accuracy: 0.6957\n",
      "Epoch 5/5\n",
      "54/54 [==============================] - 12s 219ms/step - loss: 0.0224 - accuracy: 0.9927 - val_loss: 0.4330 - val_accuracy: 0.7127\n",
      "Epoch 1/5\n",
      "54/54 [==============================] - 12s 226ms/step - loss: 0.0200 - accuracy: 0.9934 - val_loss: 0.4135 - val_accuracy: 0.7392\n",
      "Epoch 2/5\n",
      "54/54 [==============================] - 12s 226ms/step - loss: 0.0171 - accuracy: 0.9946 - val_loss: 0.3682 - val_accuracy: 0.7957\n",
      "Epoch 3/5\n",
      "54/54 [==============================] - 12s 218ms/step - loss: 0.0156 - accuracy: 0.9951 - val_loss: 0.5764 - val_accuracy: 0.7506\n",
      "Epoch 4/5\n",
      "54/54 [==============================] - 12s 223ms/step - loss: 0.0149 - accuracy: 0.9954 - val_loss: 0.4417 - val_accuracy: 0.7954\n",
      "Epoch 5/5\n",
      "54/54 [==============================] - 12s 220ms/step - loss: 0.0146 - accuracy: 0.9956 - val_loss: 0.3198 - val_accuracy: 0.8444\n",
      "Epoch 1/5\n",
      "54/54 [==============================] - 12s 227ms/step - loss: 0.0137 - accuracy: 0.9957 - val_loss: 0.4631 - val_accuracy: 0.8045\n",
      "Epoch 2/5\n",
      "54/54 [==============================] - 12s 222ms/step - loss: 0.0134 - accuracy: 0.9957 - val_loss: 0.4926 - val_accuracy: 0.7958\n",
      "Epoch 3/5\n",
      "54/54 [==============================] - 12s 221ms/step - loss: 0.0131 - accuracy: 0.9960 - val_loss: 0.5025 - val_accuracy: 0.7990\n",
      "Epoch 4/5\n",
      "54/54 [==============================] - 12s 218ms/step - loss: 0.0133 - accuracy: 0.9959 - val_loss: 0.3318 - val_accuracy: 0.8547\n",
      "Epoch 5/5\n",
      "54/54 [==============================] - 12s 221ms/step - loss: 0.0130 - accuracy: 0.9959 - val_loss: 0.4497 - val_accuracy: 0.8200\n",
      "  27/4279 [..............................] - ETA: 16s - loss: 0.1113 - accuracy: 0.9907"
     ]
    },
    {
     "name": "stderr",
     "output_type": "stream",
     "text": [
      "c:\\Users\\UX430\\anaconda3\\lib\\site-packages\\numpy\\core\\_asarray.py:171: VisibleDeprecationWarning: Creating an ndarray from ragged nested sequences (which is a list-or-tuple of lists-or-tuples-or ndarrays with different lengths or shapes) is deprecated. If you meant to do this, you must specify 'dtype=object' when creating the ndarray.\n",
      "  return array(a, dtype, copy=False, order=order, subok=True)\n"
     ]
    },
    {
     "name": "stdout",
     "output_type": "stream",
     "text": [
      "4279/4279 [==============================] - 16s 4ms/step - loss: 0.1170 - accuracy: 0.9879\n",
      "1721/1721 [==============================] - 6s 4ms/step - loss: 0.2767 - accuracy: 0.8953\n",
      "Epoch 1/5\n",
      "54/54 [==============================] - 12s 220ms/step - loss: 0.0151 - accuracy: 0.9957 - val_loss: 0.3714 - val_accuracy: 0.8160\n",
      "Epoch 2/5\n",
      "54/54 [==============================] - 12s 217ms/step - loss: 0.0145 - accuracy: 0.9959 - val_loss: 0.4096 - val_accuracy: 0.8142\n",
      "Epoch 3/5\n",
      "54/54 [==============================] - 12s 221ms/step - loss: 0.0147 - accuracy: 0.9958 - val_loss: 0.4040 - val_accuracy: 0.8163\n",
      "Epoch 4/5\n",
      "54/54 [==============================] - 13s 238ms/step - loss: 0.0140 - accuracy: 0.9960 - val_loss: 0.4228 - val_accuracy: 0.8181\n",
      "Epoch 5/5\n",
      "54/54 [==============================] - 12s 231ms/step - loss: 0.0138 - accuracy: 0.9963 - val_loss: 0.3975 - val_accuracy: 0.8190\n",
      "Epoch 1/5\n",
      "54/54 [==============================] - 12s 219ms/step - loss: 0.0138 - accuracy: 0.9960 - val_loss: 0.5510 - val_accuracy: 0.7894\n",
      "Epoch 2/5\n",
      "54/54 [==============================] - 12s 225ms/step - loss: 0.0132 - accuracy: 0.9965 - val_loss: 0.4712 - val_accuracy: 0.8177\n",
      "Epoch 3/5\n",
      "54/54 [==============================] - 12s 229ms/step - loss: 0.0128 - accuracy: 0.9963 - val_loss: 0.6297 - val_accuracy: 0.7818\n",
      "Epoch 4/5\n",
      "54/54 [==============================] - 13s 234ms/step - loss: 0.0127 - accuracy: 0.9964 - val_loss: 0.4640 - val_accuracy: 0.8239\n",
      "Epoch 5/5\n",
      "54/54 [==============================] - 13s 238ms/step - loss: 0.0123 - accuracy: 0.9964 - val_loss: 0.3867 - val_accuracy: 0.8499\n",
      "Epoch 1/5\n",
      "54/54 [==============================] - 14s 259ms/step - loss: 0.0118 - accuracy: 0.9964 - val_loss: 0.4710 - val_accuracy: 0.8290\n",
      "Epoch 2/5\n",
      "54/54 [==============================] - 13s 243ms/step - loss: 0.0116 - accuracy: 0.9964 - val_loss: 0.5599 - val_accuracy: 0.8021\n",
      "Epoch 3/5\n",
      "54/54 [==============================] - 13s 249ms/step - loss: 0.0113 - accuracy: 0.9966 - val_loss: 0.5316 - val_accuracy: 0.8093\n",
      "Epoch 4/5\n",
      "54/54 [==============================] - 14s 263ms/step - loss: 0.0112 - accuracy: 0.9966 - val_loss: 0.5578 - val_accuracy: 0.8070\n",
      "Epoch 5/5\n",
      "54/54 [==============================] - 13s 245ms/step - loss: 0.0110 - accuracy: 0.9967 - val_loss: 0.7547 - val_accuracy: 0.7603\n",
      "   7/4279 [..............................] - ETA: 31s - loss: 0.1689 - accuracy: 0.9732"
     ]
    },
    {
     "name": "stderr",
     "output_type": "stream",
     "text": [
      "c:\\Users\\UX430\\anaconda3\\lib\\site-packages\\numpy\\core\\_asarray.py:171: VisibleDeprecationWarning: Creating an ndarray from ragged nested sequences (which is a list-or-tuple of lists-or-tuples-or ndarrays with different lengths or shapes) is deprecated. If you meant to do this, you must specify 'dtype=object' when creating the ndarray.\n",
      "  return array(a, dtype, copy=False, order=order, subok=True)\n"
     ]
    },
    {
     "name": "stdout",
     "output_type": "stream",
     "text": [
      "4279/4279 [==============================] - 19s 4ms/step - loss: 0.1959 - accuracy: 0.9743\n",
      "1721/1721 [==============================] - 7s 4ms/step - loss: 0.6133 - accuracy: 0.7966\n",
      "Epoch 1/5\n",
      "54/54 [==============================] - 12s 228ms/step - loss: 0.0135 - accuracy: 0.9965 - val_loss: 0.4723 - val_accuracy: 0.8211\n",
      "Epoch 2/5\n",
      "54/54 [==============================] - 13s 234ms/step - loss: 0.0127 - accuracy: 0.9966 - val_loss: 0.4651 - val_accuracy: 0.8210\n",
      "Epoch 3/5\n",
      "54/54 [==============================] - 12s 225ms/step - loss: 0.0123 - accuracy: 0.9967 - val_loss: 0.6406 - val_accuracy: 0.7696\n",
      "Epoch 4/5\n",
      "54/54 [==============================] - 12s 219ms/step - loss: 0.0121 - accuracy: 0.9966 - val_loss: 0.5718 - val_accuracy: 0.7938\n",
      "Epoch 5/5\n",
      "54/54 [==============================] - 12s 226ms/step - loss: 0.0121 - accuracy: 0.9966 - val_loss: 0.5102 - val_accuracy: 0.8151\n",
      "Epoch 1/5\n",
      "54/54 [==============================] - 12s 228ms/step - loss: 0.0113 - accuracy: 0.9965 - val_loss: 0.4983 - val_accuracy: 0.8257\n",
      "Epoch 2/5\n",
      "54/54 [==============================] - 12s 220ms/step - loss: 0.0107 - accuracy: 0.9967 - val_loss: 0.5671 - val_accuracy: 0.8124\n",
      "Epoch 3/5\n",
      "54/54 [==============================] - 12s 222ms/step - loss: 0.0104 - accuracy: 0.9969 - val_loss: 0.4089 - val_accuracy: 0.8515\n",
      "Epoch 4/5\n",
      "54/54 [==============================] - 12s 227ms/step - loss: 0.0111 - accuracy: 0.9964 - val_loss: 0.6671 - val_accuracy: 0.7862\n",
      "Epoch 5/5\n",
      "54/54 [==============================] - 12s 223ms/step - loss: 0.0099 - accuracy: 0.9971 - val_loss: 0.5622 - val_accuracy: 0.8154\n",
      "Epoch 1/5\n",
      "54/54 [==============================] - 12s 230ms/step - loss: 0.0100 - accuracy: 0.9968 - val_loss: 0.5347 - val_accuracy: 0.8249\n",
      "Epoch 2/5\n",
      "54/54 [==============================] - 13s 240ms/step - loss: 0.0096 - accuracy: 0.9967 - val_loss: 0.5220 - val_accuracy: 0.8324\n",
      "Epoch 3/5\n",
      "54/54 [==============================] - 12s 222ms/step - loss: 0.0092 - accuracy: 0.9972 - val_loss: 0.5739 - val_accuracy: 0.8136\n",
      "Epoch 4/5\n",
      "54/54 [==============================] - 12s 224ms/step - loss: 0.0093 - accuracy: 0.9972 - val_loss: 0.4206 - val_accuracy: 0.8517\n",
      "Epoch 5/5\n",
      "54/54 [==============================] - 13s 249ms/step - loss: 0.0089 - accuracy: 0.9972 - val_loss: 0.4887 - val_accuracy: 0.8286\n",
      "  22/4279 [..............................] - ETA: 20s - loss: 0.1830 - accuracy: 0.9688"
     ]
    },
    {
     "name": "stderr",
     "output_type": "stream",
     "text": [
      "c:\\Users\\UX430\\anaconda3\\lib\\site-packages\\numpy\\core\\_asarray.py:171: VisibleDeprecationWarning: Creating an ndarray from ragged nested sequences (which is a list-or-tuple of lists-or-tuples-or ndarrays with different lengths or shapes) is deprecated. If you meant to do this, you must specify 'dtype=object' when creating the ndarray.\n",
      "  return array(a, dtype, copy=False, order=order, subok=True)\n"
     ]
    },
    {
     "name": "stdout",
     "output_type": "stream",
     "text": [
      "4279/4279 [==============================] - 16s 4ms/step - loss: 0.1857 - accuracy: 0.9686\n",
      "1721/1721 [==============================] - 7s 4ms/step - loss: 0.8982 - accuracy: 0.7184\n",
      "Epoch 1/5\n",
      "54/54 [==============================] - 13s 235ms/step - loss: 0.0109 - accuracy: 0.9969 - val_loss: 0.3934 - val_accuracy: 0.8504\n",
      "Epoch 2/5\n",
      "54/54 [==============================] - 13s 240ms/step - loss: 0.0106 - accuracy: 0.9969 - val_loss: 0.7582 - val_accuracy: 0.7619\n",
      "Epoch 3/5\n",
      "54/54 [==============================] - 14s 252ms/step - loss: 0.0102 - accuracy: 0.9971 - val_loss: 0.6039 - val_accuracy: 0.8006\n",
      "Epoch 4/5\n",
      "54/54 [==============================] - 12s 228ms/step - loss: 0.0099 - accuracy: 0.9973 - val_loss: 0.3868 - val_accuracy: 0.8522\n",
      "Epoch 5/5\n",
      "54/54 [==============================] - 12s 221ms/step - loss: 0.0097 - accuracy: 0.9971 - val_loss: 0.5528 - val_accuracy: 0.8157\n",
      "Epoch 1/5\n",
      "54/54 [==============================] - 12s 224ms/step - loss: 0.0094 - accuracy: 0.9969 - val_loss: 0.6403 - val_accuracy: 0.8069\n",
      "Epoch 2/5\n",
      "54/54 [==============================] - 12s 223ms/step - loss: 0.0088 - accuracy: 0.9972 - val_loss: 0.7074 - val_accuracy: 0.7992\n",
      "Epoch 3/5\n",
      "54/54 [==============================] - 12s 224ms/step - loss: 0.0087 - accuracy: 0.9972 - val_loss: 0.5815 - val_accuracy: 0.8281\n",
      "Epoch 4/5\n",
      "54/54 [==============================] - 12s 220ms/step - loss: 0.0086 - accuracy: 0.9974 - val_loss: 0.6921 - val_accuracy: 0.8022\n",
      "Epoch 5/5\n",
      "54/54 [==============================] - 12s 226ms/step - loss: 0.0083 - accuracy: 0.9974 - val_loss: 0.5670 - val_accuracy: 0.8304\n",
      "Epoch 1/5\n",
      "54/54 [==============================] - 12s 225ms/step - loss: 0.0085 - accuracy: 0.9972 - val_loss: 0.6950 - val_accuracy: 0.8045\n",
      "Epoch 2/5\n",
      "54/54 [==============================] - 12s 220ms/step - loss: 0.0083 - accuracy: 0.9975 - val_loss: 0.6421 - val_accuracy: 0.8033\n",
      "Epoch 3/5\n",
      "54/54 [==============================] - 12s 222ms/step - loss: 0.0084 - accuracy: 0.9974 - val_loss: 0.6996 - val_accuracy: 0.7959\n",
      "Epoch 4/5\n",
      "54/54 [==============================] - 12s 226ms/step - loss: 0.0083 - accuracy: 0.9975 - val_loss: 0.7525 - val_accuracy: 0.7818\n",
      "Epoch 5/5\n",
      "54/54 [==============================] - 12s 223ms/step - loss: 0.0080 - accuracy: 0.9975 - val_loss: 0.6634 - val_accuracy: 0.8033\n",
      "  14/4279 [..............................] - ETA: 15s - loss: 0.1713 - accuracy: 0.9665"
     ]
    },
    {
     "name": "stderr",
     "output_type": "stream",
     "text": [
      "c:\\Users\\UX430\\anaconda3\\lib\\site-packages\\numpy\\core\\_asarray.py:171: VisibleDeprecationWarning: Creating an ndarray from ragged nested sequences (which is a list-or-tuple of lists-or-tuples-or ndarrays with different lengths or shapes) is deprecated. If you meant to do this, you must specify 'dtype=object' when creating the ndarray.\n",
      "  return array(a, dtype, copy=False, order=order, subok=True)\n"
     ]
    },
    {
     "name": "stdout",
     "output_type": "stream",
     "text": [
      "4279/4279 [==============================] - 16s 4ms/step - loss: 0.1899 - accuracy: 0.9676\n",
      "1721/1721 [==============================] - 6s 4ms/step - loss: 1.1148 - accuracy: 0.6839\n",
      "Epoch 1/5\n",
      "54/54 [==============================] - 12s 227ms/step - loss: 0.0093 - accuracy: 0.9974 - val_loss: 0.6650 - val_accuracy: 0.8055\n",
      "Epoch 2/5\n",
      "54/54 [==============================] - 12s 220ms/step - loss: 0.0095 - accuracy: 0.9976 - val_loss: 0.5259 - val_accuracy: 0.8258\n",
      "Epoch 3/5\n",
      "54/54 [==============================] - 12s 218ms/step - loss: 0.0084 - accuracy: 0.9977 - val_loss: 0.7564 - val_accuracy: 0.7706\n",
      "Epoch 4/5\n",
      "54/54 [==============================] - 12s 220ms/step - loss: 0.0081 - accuracy: 0.9978 - val_loss: 0.6562 - val_accuracy: 0.8006\n",
      "Epoch 5/5\n",
      "54/54 [==============================] - 12s 222ms/step - loss: 0.0084 - accuracy: 0.9977 - val_loss: 0.8334 - val_accuracy: 0.7509\n",
      "Epoch 1/5\n",
      "54/54 [==============================] - 15s 277ms/step - loss: 0.0083 - accuracy: 0.9973 - val_loss: 0.5401 - val_accuracy: 0.8260\n",
      "Epoch 2/5\n",
      "54/54 [==============================] - 12s 229ms/step - loss: 0.0080 - accuracy: 0.9976 - val_loss: 0.6168 - val_accuracy: 0.8151\n",
      "Epoch 3/5\n",
      "54/54 [==============================] - 12s 230ms/step - loss: 0.0076 - accuracy: 0.9978 - val_loss: 0.5101 - val_accuracy: 0.8397\n",
      "Epoch 4/5\n",
      "54/54 [==============================] - 12s 226ms/step - loss: 0.0078 - accuracy: 0.9976 - val_loss: 0.8833 - val_accuracy: 0.7749\n",
      "Epoch 5/5\n",
      "54/54 [==============================] - 12s 228ms/step - loss: 0.0078 - accuracy: 0.9975 - val_loss: 0.7205 - val_accuracy: 0.8051\n",
      "Epoch 1/5\n",
      "54/54 [==============================] - 13s 236ms/step - loss: 0.0084 - accuracy: 0.9973 - val_loss: 0.5105 - val_accuracy: 0.8319\n",
      "Epoch 2/5\n",
      "54/54 [==============================] - 12s 231ms/step - loss: 0.0078 - accuracy: 0.9975 - val_loss: 0.5313 - val_accuracy: 0.8241\n",
      "Epoch 3/5\n",
      "54/54 [==============================] - 12s 226ms/step - loss: 0.0077 - accuracy: 0.9975 - val_loss: 0.5165 - val_accuracy: 0.8324\n",
      "Epoch 4/5\n",
      "54/54 [==============================] - 12s 227ms/step - loss: 0.0078 - accuracy: 0.9974 - val_loss: 0.5478 - val_accuracy: 0.8248\n",
      "Epoch 5/5\n",
      "54/54 [==============================] - 12s 223ms/step - loss: 0.0078 - accuracy: 0.9974 - val_loss: 0.5036 - val_accuracy: 0.8330\n",
      "  25/4279 [..............................] - ETA: 17s - loss: 0.2700 - accuracy: 0.8512"
     ]
    },
    {
     "name": "stderr",
     "output_type": "stream",
     "text": [
      "c:\\Users\\UX430\\anaconda3\\lib\\site-packages\\numpy\\core\\_asarray.py:171: VisibleDeprecationWarning: Creating an ndarray from ragged nested sequences (which is a list-or-tuple of lists-or-tuples-or ndarrays with different lengths or shapes) is deprecated. If you meant to do this, you must specify 'dtype=object' when creating the ndarray.\n",
      "  return array(a, dtype, copy=False, order=order, subok=True)\n"
     ]
    },
    {
     "name": "stdout",
     "output_type": "stream",
     "text": [
      "4279/4279 [==============================] - 16s 4ms/step - loss: 0.2746 - accuracy: 0.8596\n",
      "1721/1721 [==============================] - 6s 4ms/step - loss: 1.2401 - accuracy: 0.6627\n"
     ]
    }
   ],
   "source": [
    "# Values saved each iteration \n",
    "loss_it = []\n",
    "accuracy_it = []\n",
    "f1_it = []\n",
    "precision_it = []\n",
    "recall_it = []\n",
    "\n",
    "for i in range(global_updates): \n",
    "    w_list = []\n",
    "    for node in range(num_nodes): \n",
    "        cp = global_model # create a copy of the global model\n",
    "        if node == 0:\n",
    "            x, y = x1, y1\n",
    "        elif node == 1:\n",
    "            x, y = x2, y2\n",
    "        else:\n",
    "            x, y = x3, y3\n",
    "        local_model, local_loss, local_acc, local_val_loss, local_val_acc = train_local_model(cp, node, x, y)\n",
    "        w_list.append(local_model.get_weights())\n",
    "\n",
    "    avg_w = aggregate(w_list)\n",
    "    global_model.set_weights(avg_w) # apply gradients to global model\n",
    "    loss_basic, accuracy_basic, f1_basic, precision_basic, recall_basic = evaluation(global_model, xbasic, ybasic) # Evaluate with test basic to know progress\n",
    "    loss_plus, accuracy_plus, f1_plus, precision_plus, recall_plus = evaluation(global_model, xplus, yplus) # Evaluate with test plus to know progress\n",
    "\n",
    "    loss_it.append([loss_basic, loss_plus])\n",
    "    accuracy_it.append([accuracy_basic, accuracy_plus])\n",
    "    f1_it.append([f1_basic, f1_plus])\n",
    "    precision_it.append([precision_basic, precision_plus])\n",
    "    recall_it.append([recall_basic, recall_plus])\n",
    "\n",
    "\n",
    "global_model.save('C:/Users/UX430/Documents/thesis/code/models/id1911.hdf5')"
   ]
  },
  {
   "cell_type": "code",
   "execution_count": 12,
   "metadata": {},
   "outputs": [
    {
     "name": "stdout",
     "output_type": "stream",
     "text": [
      "Loss for iterations:  [[0.11703264713287354, 0.2767493426799774], [0.19591358304023743, 0.6133018732070923], [0.1857309639453888, 0.898158848285675], [0.18993905186653137, 1.1148115396499634], [0.2746482193470001, 1.2400809526443481]]\n",
      "Accuracy for iterations:  [[0.9879488348960876, 0.8953171372413635], [0.9742615818977356, 0.7965922951698303], [0.9685500860214233, 0.7183572053909302], [0.9675859808921814, 0.6838988661766052], [0.8596073389053345, 0.6627007126808167]]\n",
      "F1 for iterations:  [[0.9879512311722966, 0.893262750243958], [0.9742392353914436, 0.7831071675087792], [0.9684930401739139, 0.6826180191237142], [0.9675242307820903, 0.6323115245188365], [0.8560237382588983, 0.5989273184549058]]\n",
      "Precision for iterations:  [[0.9879809146711573, 0.9066074075223175], [0.9745164002796086, 0.842080209017125], [0.9694262389720655, 0.8012362684054279], [0.9685306758294475, 0.786376489534689], [0.8846263110674074, 0.7781947755840517]]\n",
      "Recall for iterations:  [[0.9879488153320284, 0.8953171546901112], [0.974261591048526, 0.7965923127225168], [0.968550059890736, 0.7183571895662283], [0.9675859651172982, 0.6838988592603357], [0.8596073504922727, 0.6627007193199157]]\n"
     ]
    }
   ],
   "source": [
    "print(\"Loss for iterations: \", loss_it)\n",
    "print(\"Accuracy for iterations: \", accuracy_it)\n",
    "print(\"F1 for iterations: \", f1_it)\n",
    "print(\"Precision for iterations: \", precision_it)\n",
    "print(\"Recall for iterations: \", recall_it)"
   ]
  },
  {
   "cell_type": "markdown",
   "metadata": {},
   "source": [
    "#### #Epochs = 5, #Iterations = 10"
   ]
  },
  {
   "cell_type": "code",
   "execution_count": 80,
   "metadata": {},
   "outputs": [],
   "source": [
    "# Define \n",
    "node_datasets = [training1, training2, training3]\n",
    "num_nodes = 3\n",
    "global_updates = 10\n",
    "# Define model training parameters\n",
    "loss_fct = \"categorical_crossentropy\"\n",
    "metrics = ['accuracy']\n",
    "local_epochs = 5"
   ]
  },
  {
   "cell_type": "code",
   "execution_count": 81,
   "metadata": {},
   "outputs": [],
   "source": [
    "def train_local_model(model, node, x_train, y_train): \n",
    "    filepath = 'C:/Users/UX430/Documents/thesis/code/models/node'+str(node)+'id1912.hdf5'\n",
    "    callbacks = [\n",
    "            keras.callbacks.EarlyStopping(\n",
    "                monitor = 'val_loss', # Use accuracy to monitor the model\n",
    "                patience = 10 # Stop after 10 steps with lower accuracy\n",
    "            ),\n",
    "            keras.callbacks.ModelCheckpoint(\n",
    "                filepath = filepath, # file where the checkpoint is saved\n",
    "                monitor = 'val_loss', # Don't overwrite the saved model unless val_loss is worse\n",
    "                save_best_only = True)]# Only save model if it is the best\n",
    "    optimizer = keras.optimizers.Adam(learning_rate=5e-4)\n",
    "    model.compile(optimizer=optimizer, loss=loss_fct, metrics=metrics)\n",
    "    history = model.fit(x_train, y_train, epochs=local_epochs, validation_split=0.2, callbacks=callbacks, batch_size=2048)\n",
    "    return model, history.history['loss'], history.history['accuracy'], history.history['val_loss'], history.history['val_accuracy']"
   ]
  },
  {
   "cell_type": "code",
   "execution_count": 82,
   "metadata": {},
   "outputs": [],
   "source": [
    "global_model = build_model((24,1,1))"
   ]
  },
  {
   "cell_type": "code",
   "execution_count": 83,
   "metadata": {},
   "outputs": [
    {
     "name": "stdout",
     "output_type": "stream",
     "text": [
      "Epoch 1/5\n"
     ]
    },
    {
     "name": "stdout",
     "output_type": "stream",
     "text": [
      "54/54 [==============================] - 11s 199ms/step - loss: 0.2511 - accuracy: 0.9069 - val_loss: 1.9361 - val_accuracy: 0.6399\n",
      "Epoch 2/5\n",
      "54/54 [==============================] - 11s 195ms/step - loss: 0.0319 - accuracy: 0.9925 - val_loss: 0.6612 - val_accuracy: 0.6454\n",
      "Epoch 3/5\n",
      "54/54 [==============================] - 10s 194ms/step - loss: 0.0251 - accuracy: 0.9926 - val_loss: 0.6359 - val_accuracy: 0.6476\n",
      "Epoch 4/5\n",
      "54/54 [==============================] - 10s 193ms/step - loss: 0.0235 - accuracy: 0.9927 - val_loss: 0.4588 - val_accuracy: 0.6863\n",
      "Epoch 5/5\n",
      "54/54 [==============================] - 10s 190ms/step - loss: 0.0220 - accuracy: 0.9928 - val_loss: 0.6081 - val_accuracy: 0.6489\n",
      "Epoch 1/5\n",
      "54/54 [==============================] - 10s 193ms/step - loss: 0.0200 - accuracy: 0.9934 - val_loss: 0.4392 - val_accuracy: 0.7208\n",
      "Epoch 2/5\n",
      "54/54 [==============================] - 11s 196ms/step - loss: 0.0170 - accuracy: 0.9945 - val_loss: 0.4354 - val_accuracy: 0.7638\n",
      "Epoch 3/5\n",
      "54/54 [==============================] - 10s 193ms/step - loss: 0.0160 - accuracy: 0.9950 - val_loss: 0.3435 - val_accuracy: 0.8198\n",
      "Epoch 4/5\n",
      "54/54 [==============================] - 10s 190ms/step - loss: 0.0152 - accuracy: 0.9952 - val_loss: 0.5219 - val_accuracy: 0.7715\n",
      "Epoch 5/5\n",
      "54/54 [==============================] - 10s 193ms/step - loss: 0.0146 - accuracy: 0.9957 - val_loss: 0.4117 - val_accuracy: 0.8051\n",
      "Epoch 1/5\n",
      "54/54 [==============================] - 10s 193ms/step - loss: 0.0138 - accuracy: 0.9957 - val_loss: 0.4212 - val_accuracy: 0.8144\n",
      "Epoch 2/5\n",
      "54/54 [==============================] - 10s 191ms/step - loss: 0.0132 - accuracy: 0.9959 - val_loss: 0.6256 - val_accuracy: 0.7643\n",
      "Epoch 3/5\n",
      "54/54 [==============================] - 10s 191ms/step - loss: 0.0133 - accuracy: 0.9959 - val_loss: 0.5873 - val_accuracy: 0.7778\n",
      "Epoch 4/5\n",
      "54/54 [==============================] - 10s 191ms/step - loss: 0.0130 - accuracy: 0.9960 - val_loss: 0.5025 - val_accuracy: 0.8016\n",
      "Epoch 5/5\n",
      "54/54 [==============================] - 10s 189ms/step - loss: 0.0126 - accuracy: 0.9962 - val_loss: 0.4541 - val_accuracy: 0.8155\n",
      "  25/4279 [..............................] - ETA: 18s - loss: 0.0906 - accuracy: 0.9912"
     ]
    },
    {
     "name": "stderr",
     "output_type": "stream",
     "text": [
      "c:\\Users\\UX430\\anaconda3\\lib\\site-packages\\numpy\\core\\_asarray.py:171: VisibleDeprecationWarning: Creating an ndarray from ragged nested sequences (which is a list-or-tuple of lists-or-tuples-or ndarrays with different lengths or shapes) is deprecated. If you meant to do this, you must specify 'dtype=object' when creating the ndarray.\n",
      "  return array(a, dtype, copy=False, order=order, subok=True)\n"
     ]
    },
    {
     "name": "stdout",
     "output_type": "stream",
     "text": [
      "4279/4279 [==============================] - 17s 4ms/step - loss: 0.0963 - accuracy: 0.9880\n",
      "1721/1721 [==============================] - 9s 5ms/step - loss: 0.2919 - accuracy: 0.8903\n",
      "Epoch 1/5\n",
      "54/54 [==============================] - 10s 183ms/step - loss: 0.0151 - accuracy: 0.9955 - val_loss: 0.3542 - val_accuracy: 0.8211\n",
      "Epoch 2/5\n",
      "54/54 [==============================] - 10s 179ms/step - loss: 0.0146 - accuracy: 0.9958 - val_loss: 0.4645 - val_accuracy: 0.7932\n",
      "Epoch 3/5\n",
      "54/54 [==============================] - 9s 174ms/step - loss: 0.0142 - accuracy: 0.9959 - val_loss: 0.5226 - val_accuracy: 0.7890\n",
      "Epoch 4/5\n",
      "54/54 [==============================] - 10s 177ms/step - loss: 0.0140 - accuracy: 0.9961 - val_loss: 0.4800 - val_accuracy: 0.7964\n",
      "Epoch 5/5\n",
      "54/54 [==============================] - 10s 178ms/step - loss: 0.0140 - accuracy: 0.9960 - val_loss: 0.4435 - val_accuracy: 0.8102\n",
      "Epoch 1/5\n",
      "54/54 [==============================] - 10s 179ms/step - loss: 0.0133 - accuracy: 0.9960 - val_loss: 0.4236 - val_accuracy: 0.8256\n",
      "Epoch 2/5\n",
      "54/54 [==============================] - 10s 178ms/step - loss: 0.0128 - accuracy: 0.9962 - val_loss: 0.5174 - val_accuracy: 0.8035\n",
      "Epoch 3/5\n",
      "54/54 [==============================] - 9s 173ms/step - loss: 0.0125 - accuracy: 0.9964 - val_loss: 0.4303 - val_accuracy: 0.8278\n",
      "Epoch 4/5\n",
      "54/54 [==============================] - 10s 176ms/step - loss: 0.0124 - accuracy: 0.9964 - val_loss: 0.4184 - val_accuracy: 0.8452\n",
      "Epoch 5/5\n",
      "54/54 [==============================] - 10s 178ms/step - loss: 0.0119 - accuracy: 0.9963 - val_loss: 0.4837 - val_accuracy: 0.8207\n",
      "Epoch 1/5\n",
      "54/54 [==============================] - 9s 175ms/step - loss: 0.0116 - accuracy: 0.9961 - val_loss: 0.5215 - val_accuracy: 0.8126\n",
      "Epoch 2/5\n",
      "54/54 [==============================] - 10s 177ms/step - loss: 0.0113 - accuracy: 0.9963 - val_loss: 0.5855 - val_accuracy: 0.7990\n",
      "Epoch 3/5\n",
      "54/54 [==============================] - 10s 177ms/step - loss: 0.0113 - accuracy: 0.9964 - val_loss: 0.8021 - val_accuracy: 0.7477\n",
      "Epoch 4/5\n",
      "54/54 [==============================] - 9s 175ms/step - loss: 0.0108 - accuracy: 0.9966 - val_loss: 0.4624 - val_accuracy: 0.8343\n",
      "Epoch 5/5\n",
      "54/54 [==============================] - 9s 175ms/step - loss: 0.0105 - accuracy: 0.9967 - val_loss: 0.5755 - val_accuracy: 0.8040\n",
      "  27/4279 [..............................] - ETA: 16s - loss: 0.1078 - accuracy: 0.9907"
     ]
    },
    {
     "name": "stderr",
     "output_type": "stream",
     "text": [
      "c:\\Users\\UX430\\anaconda3\\lib\\site-packages\\numpy\\core\\_asarray.py:171: VisibleDeprecationWarning: Creating an ndarray from ragged nested sequences (which is a list-or-tuple of lists-or-tuples-or ndarrays with different lengths or shapes) is deprecated. If you meant to do this, you must specify 'dtype=object' when creating the ndarray.\n",
      "  return array(a, dtype, copy=False, order=order, subok=True)\n"
     ]
    },
    {
     "name": "stdout",
     "output_type": "stream",
     "text": [
      "4279/4279 [==============================] - 16s 4ms/step - loss: 0.1229 - accuracy: 0.9863\n",
      "1721/1721 [==============================] - 9s 5ms/step - loss: 0.5071 - accuracy: 0.8214\n",
      "Epoch 1/5\n",
      "54/54 [==============================] - 10s 178ms/step - loss: 0.0127 - accuracy: 0.9964 - val_loss: 0.5402 - val_accuracy: 0.7987\n",
      "Epoch 2/5\n",
      "54/54 [==============================] - 10s 179ms/step - loss: 0.0118 - accuracy: 0.9965 - val_loss: 0.4584 - val_accuracy: 0.8265\n",
      "Epoch 3/5\n",
      "54/54 [==============================] - 10s 179ms/step - loss: 0.0117 - accuracy: 0.9966 - val_loss: 0.4838 - val_accuracy: 0.8250\n",
      "Epoch 4/5\n",
      "54/54 [==============================] - 9s 176ms/step - loss: 0.0113 - accuracy: 0.9965 - val_loss: 0.5410 - val_accuracy: 0.8091\n",
      "Epoch 5/5\n",
      "54/54 [==============================] - 9s 173ms/step - loss: 0.0115 - accuracy: 0.9966 - val_loss: 0.6091 - val_accuracy: 0.7880\n",
      "Epoch 1/5\n",
      "54/54 [==============================] - 10s 178ms/step - loss: 0.0105 - accuracy: 0.9967 - val_loss: 0.4762 - val_accuracy: 0.8312\n",
      "Epoch 2/5\n",
      "54/54 [==============================] - 10s 178ms/step - loss: 0.0101 - accuracy: 0.9966 - val_loss: 0.5823 - val_accuracy: 0.8126\n",
      "Epoch 3/5\n",
      "54/54 [==============================] - 9s 174ms/step - loss: 0.0098 - accuracy: 0.9967 - val_loss: 0.7383 - val_accuracy: 0.7635\n",
      "Epoch 4/5\n",
      "54/54 [==============================] - 9s 175ms/step - loss: 0.0095 - accuracy: 0.9969 - val_loss: 0.5141 - val_accuracy: 0.8201\n",
      "Epoch 5/5\n",
      "54/54 [==============================] - 9s 176ms/step - loss: 0.0098 - accuracy: 0.9967 - val_loss: 0.6087 - val_accuracy: 0.8078\n",
      "Epoch 1/5\n",
      "54/54 [==============================] - 9s 175ms/step - loss: 0.0097 - accuracy: 0.9968 - val_loss: 0.4931 - val_accuracy: 0.8298\n",
      "Epoch 2/5\n",
      "54/54 [==============================] - 10s 178ms/step - loss: 0.0094 - accuracy: 0.9966 - val_loss: 0.6703 - val_accuracy: 0.7989\n",
      "Epoch 3/5\n",
      "54/54 [==============================] - 10s 177ms/step - loss: 0.0093 - accuracy: 0.9971 - val_loss: 0.5391 - val_accuracy: 0.8227\n",
      "Epoch 4/5\n",
      "54/54 [==============================] - 9s 175ms/step - loss: 0.0088 - accuracy: 0.9972 - val_loss: 0.4368 - val_accuracy: 0.8417\n",
      "Epoch 5/5\n",
      "54/54 [==============================] - 9s 174ms/step - loss: 0.0089 - accuracy: 0.9971 - val_loss: 0.5190 - val_accuracy: 0.8268\n",
      "  28/4279 [..............................] - ETA: 16s - loss: 0.1526 - accuracy: 0.9766"
     ]
    },
    {
     "name": "stderr",
     "output_type": "stream",
     "text": [
      "c:\\Users\\UX430\\anaconda3\\lib\\site-packages\\numpy\\core\\_asarray.py:171: VisibleDeprecationWarning: Creating an ndarray from ragged nested sequences (which is a list-or-tuple of lists-or-tuples-or ndarrays with different lengths or shapes) is deprecated. If you meant to do this, you must specify 'dtype=object' when creating the ndarray.\n",
      "  return array(a, dtype, copy=False, order=order, subok=True)\n"
     ]
    },
    {
     "name": "stdout",
     "output_type": "stream",
     "text": [
      "4279/4279 [==============================] - 16s 4ms/step - loss: 0.1649 - accuracy: 0.9732\n",
      "1721/1721 [==============================] - 9s 5ms/step - loss: 0.8753 - accuracy: 0.7205\n",
      "Epoch 1/5\n",
      "54/54 [==============================] - 10s 182ms/step - loss: 0.0106 - accuracy: 0.9970 - val_loss: 0.4355 - val_accuracy: 0.8318\n",
      "Epoch 2/5\n",
      "54/54 [==============================] - 10s 178ms/step - loss: 0.0096 - accuracy: 0.9970 - val_loss: 0.4178 - val_accuracy: 0.8453\n",
      "Epoch 3/5\n",
      "54/54 [==============================] - 10s 178ms/step - loss: 0.0091 - accuracy: 0.9971 - val_loss: 0.5675 - val_accuracy: 0.8093\n",
      "Epoch 4/5\n",
      "54/54 [==============================] - 9s 174ms/step - loss: 0.0108 - accuracy: 0.9971 - val_loss: 0.5841 - val_accuracy: 0.8102\n",
      "Epoch 5/5\n",
      "54/54 [==============================] - 10s 177ms/step - loss: 0.0094 - accuracy: 0.9973 - val_loss: 0.5289 - val_accuracy: 0.8139\n",
      "Epoch 1/5\n",
      "54/54 [==============================] - 10s 178ms/step - loss: 0.0091 - accuracy: 0.9969 - val_loss: 0.5916 - val_accuracy: 0.8165\n",
      "Epoch 2/5\n",
      "54/54 [==============================] - 9s 175ms/step - loss: 0.0087 - accuracy: 0.9972 - val_loss: 0.5441 - val_accuracy: 0.8258\n",
      "Epoch 3/5\n",
      "54/54 [==============================] - 10s 176ms/step - loss: 0.0086 - accuracy: 0.9972 - val_loss: 0.5843 - val_accuracy: 0.8216\n",
      "Epoch 4/5\n",
      "54/54 [==============================] - 9s 176ms/step - loss: 0.0081 - accuracy: 0.9975 - val_loss: 0.3932 - val_accuracy: 0.8521\n",
      "Epoch 5/5\n",
      "54/54 [==============================] - 10s 177ms/step - loss: 0.0093 - accuracy: 0.9968 - val_loss: 0.5167 - val_accuracy: 0.8283\n",
      "Epoch 1/5\n",
      "54/54 [==============================] - 9s 174ms/step - loss: 0.0092 - accuracy: 0.9969 - val_loss: 0.5479 - val_accuracy: 0.8267\n",
      "Epoch 2/5\n",
      "54/54 [==============================] - 10s 178ms/step - loss: 0.0084 - accuracy: 0.9972 - val_loss: 0.5820 - val_accuracy: 0.8159\n",
      "Epoch 3/5\n",
      "54/54 [==============================] - 10s 177ms/step - loss: 0.0081 - accuracy: 0.9974 - val_loss: 0.4799 - val_accuracy: 0.8308\n",
      "Epoch 4/5\n",
      "54/54 [==============================] - 10s 178ms/step - loss: 0.0080 - accuracy: 0.9975 - val_loss: 0.5673 - val_accuracy: 0.8213\n",
      "Epoch 5/5\n",
      "54/54 [==============================] - 9s 173ms/step - loss: 0.0079 - accuracy: 0.9975 - val_loss: 0.6035 - val_accuracy: 0.8073\n",
      "  28/4279 [..............................] - ETA: 16s - loss: 0.1091 - accuracy: 0.9821"
     ]
    },
    {
     "name": "stderr",
     "output_type": "stream",
     "text": [
      "c:\\Users\\UX430\\anaconda3\\lib\\site-packages\\numpy\\core\\_asarray.py:171: VisibleDeprecationWarning: Creating an ndarray from ragged nested sequences (which is a list-or-tuple of lists-or-tuples-or ndarrays with different lengths or shapes) is deprecated. If you meant to do this, you must specify 'dtype=object' when creating the ndarray.\n",
      "  return array(a, dtype, copy=False, order=order, subok=True)\n"
     ]
    },
    {
     "name": "stdout",
     "output_type": "stream",
     "text": [
      "4279/4279 [==============================] - 16s 4ms/step - loss: 0.1196 - accuracy: 0.9811\n",
      "1721/1721 [==============================] - 8s 5ms/step - loss: 1.0199 - accuracy: 0.6994\n",
      "Epoch 1/5\n",
      "54/54 [==============================] - 10s 180ms/step - loss: 0.0084 - accuracy: 0.9974 - val_loss: 0.5819 - val_accuracy: 0.8142\n",
      "Epoch 2/5\n",
      "54/54 [==============================] - 9s 176ms/step - loss: 0.0089 - accuracy: 0.9972 - val_loss: 0.5309 - val_accuracy: 0.8187\n",
      "Epoch 3/5\n",
      "54/54 [==============================] - 10s 177ms/step - loss: 0.0087 - accuracy: 0.9974 - val_loss: 0.5651 - val_accuracy: 0.8185\n",
      "Epoch 4/5\n",
      "54/54 [==============================] - 9s 175ms/step - loss: 0.0081 - accuracy: 0.9975 - val_loss: 0.9706 - val_accuracy: 0.7415\n",
      "Epoch 5/5\n",
      "54/54 [==============================] - 9s 173ms/step - loss: 0.0085 - accuracy: 0.9976 - val_loss: 0.6424 - val_accuracy: 0.8066\n",
      "Epoch 1/5\n",
      "54/54 [==============================] - 10s 178ms/step - loss: 0.0081 - accuracy: 0.9975 - val_loss: 0.5584 - val_accuracy: 0.8259\n",
      "Epoch 2/5\n",
      "54/54 [==============================] - 10s 177ms/step - loss: 0.0077 - accuracy: 0.9975 - val_loss: 0.6362 - val_accuracy: 0.8144\n",
      "Epoch 3/5\n",
      "54/54 [==============================] - 10s 176ms/step - loss: 0.0077 - accuracy: 0.9977 - val_loss: 0.5125 - val_accuracy: 0.8376\n",
      "Epoch 4/5\n",
      "54/54 [==============================] - 10s 176ms/step - loss: 0.0078 - accuracy: 0.9975 - val_loss: 0.7140 - val_accuracy: 0.7972\n",
      "Epoch 5/5\n",
      "54/54 [==============================] - 9s 172ms/step - loss: 0.0081 - accuracy: 0.9975 - val_loss: 0.7168 - val_accuracy: 0.7968\n",
      "Epoch 1/5\n",
      "54/54 [==============================] - 10s 178ms/step - loss: 0.0080 - accuracy: 0.9975 - val_loss: 0.6327 - val_accuracy: 0.8046\n",
      "Epoch 2/5\n",
      "54/54 [==============================] - 10s 179ms/step - loss: 0.0079 - accuracy: 0.9975 - val_loss: 0.5474 - val_accuracy: 0.8215\n",
      "Epoch 3/5\n",
      "54/54 [==============================] - 9s 175ms/step - loss: 0.0075 - accuracy: 0.9976 - val_loss: 0.5722 - val_accuracy: 0.8156\n",
      "Epoch 4/5\n",
      "54/54 [==============================] - 9s 174ms/step - loss: 0.0077 - accuracy: 0.9973 - val_loss: 0.6998 - val_accuracy: 0.7950\n",
      "Epoch 5/5\n",
      "54/54 [==============================] - 9s 175ms/step - loss: 0.0074 - accuracy: 0.9976 - val_loss: 0.5708 - val_accuracy: 0.8178\n",
      "  28/4279 [..............................] - ETA: 16s - loss: 0.2956 - accuracy: 0.8571"
     ]
    },
    {
     "name": "stderr",
     "output_type": "stream",
     "text": [
      "c:\\Users\\UX430\\anaconda3\\lib\\site-packages\\numpy\\core\\_asarray.py:171: VisibleDeprecationWarning: Creating an ndarray from ragged nested sequences (which is a list-or-tuple of lists-or-tuples-or ndarrays with different lengths or shapes) is deprecated. If you meant to do this, you must specify 'dtype=object' when creating the ndarray.\n",
      "  return array(a, dtype, copy=False, order=order, subok=True)\n"
     ]
    },
    {
     "name": "stdout",
     "output_type": "stream",
     "text": [
      "4279/4279 [==============================] - 16s 4ms/step - loss: 0.2979 - accuracy: 0.8587\n",
      "1721/1721 [==============================] - 9s 5ms/step - loss: 1.5467 - accuracy: 0.6329\n",
      "Epoch 1/5\n",
      "54/54 [==============================] - 10s 185ms/step - loss: 0.0086 - accuracy: 0.9974 - val_loss: 0.4854 - val_accuracy: 0.8364\n",
      "Epoch 2/5\n",
      "54/54 [==============================] - 10s 178ms/step - loss: 0.0081 - accuracy: 0.9977 - val_loss: 0.4123 - val_accuracy: 0.8456\n",
      "Epoch 3/5\n",
      "54/54 [==============================] - 10s 177ms/step - loss: 0.0079 - accuracy: 0.9975 - val_loss: 0.5989 - val_accuracy: 0.8130\n",
      "Epoch 4/5\n",
      "54/54 [==============================] - 9s 173ms/step - loss: 0.0080 - accuracy: 0.9980 - val_loss: 0.6727 - val_accuracy: 0.7972\n",
      "Epoch 5/5\n",
      "54/54 [==============================] - 10s 176ms/step - loss: 0.0076 - accuracy: 0.9980 - val_loss: 0.6244 - val_accuracy: 0.7980\n",
      "Epoch 1/5\n",
      "54/54 [==============================] - 10s 177ms/step - loss: 0.0078 - accuracy: 0.9975 - val_loss: 0.3961 - val_accuracy: 0.8534\n",
      "Epoch 2/5\n",
      "54/54 [==============================] - 9s 173ms/step - loss: 0.0077 - accuracy: 0.9976 - val_loss: 0.5481 - val_accuracy: 0.8264\n",
      "Epoch 3/5\n",
      "54/54 [==============================] - 9s 175ms/step - loss: 0.0075 - accuracy: 0.9979 - val_loss: 0.6685 - val_accuracy: 0.8036\n",
      "Epoch 4/5\n",
      "54/54 [==============================] - 9s 174ms/step - loss: 0.0073 - accuracy: 0.9976 - val_loss: 0.6311 - val_accuracy: 0.8147\n",
      "Epoch 5/5\n",
      "54/54 [==============================] - 9s 172ms/step - loss: 0.0072 - accuracy: 0.9978 - val_loss: 0.5714 - val_accuracy: 0.8239\n",
      "Epoch 1/5\n",
      "54/54 [==============================] - 10s 178ms/step - loss: 0.0077 - accuracy: 0.9974 - val_loss: 0.4877 - val_accuracy: 0.8381\n",
      "Epoch 2/5\n",
      "54/54 [==============================] - 10s 177ms/step - loss: 0.0074 - accuracy: 0.9976 - val_loss: 0.5501 - val_accuracy: 0.8214\n",
      "Epoch 3/5\n",
      "54/54 [==============================] - 9s 174ms/step - loss: 0.0074 - accuracy: 0.9976 - val_loss: 0.5317 - val_accuracy: 0.8269\n",
      "Epoch 4/5\n",
      "54/54 [==============================] - 10s 176ms/step - loss: 0.0074 - accuracy: 0.9975 - val_loss: 0.5300 - val_accuracy: 0.8286\n",
      "Epoch 5/5\n",
      "54/54 [==============================] - 10s 179ms/step - loss: 0.0080 - accuracy: 0.9973 - val_loss: 0.3839 - val_accuracy: 0.8614\n",
      "  28/4279 [..............................] - ETA: 16s - loss: 0.4375 - accuracy: 0.7500"
     ]
    },
    {
     "name": "stderr",
     "output_type": "stream",
     "text": [
      "c:\\Users\\UX430\\anaconda3\\lib\\site-packages\\numpy\\core\\_asarray.py:171: VisibleDeprecationWarning: Creating an ndarray from ragged nested sequences (which is a list-or-tuple of lists-or-tuples-or ndarrays with different lengths or shapes) is deprecated. If you meant to do this, you must specify 'dtype=object' when creating the ndarray.\n",
      "  return array(a, dtype, copy=False, order=order, subok=True)\n"
     ]
    },
    {
     "name": "stdout",
     "output_type": "stream",
     "text": [
      "4279/4279 [==============================] - 16s 4ms/step - loss: 0.4366 - accuracy: 0.7638 0s - loss: 0.4368 - \n",
      "1721/1721 [==============================] - 9s 5ms/step - loss: 1.7503 - accuracy: 0.6437\n",
      "Epoch 1/5\n",
      "54/54 [==============================] - 10s 182ms/step - loss: 0.0078 - accuracy: 0.9980 - val_loss: 0.6960 - val_accuracy: 0.7811\n",
      "Epoch 2/5\n",
      "54/54 [==============================] - 10s 177ms/step - loss: 0.0080 - accuracy: 0.9977 - val_loss: 1.0128 - val_accuracy: 0.7220\n",
      "Epoch 3/5\n",
      "54/54 [==============================] - 9s 173ms/step - loss: 0.0071 - accuracy: 0.9979 - val_loss: 0.7329 - val_accuracy: 0.7910\n",
      "Epoch 4/5\n",
      "54/54 [==============================] - 9s 176ms/step - loss: 0.0074 - accuracy: 0.9979 - val_loss: 0.6440 - val_accuracy: 0.8114\n",
      "Epoch 5/5\n",
      "54/54 [==============================] - 10s 179ms/step - loss: 0.0077 - accuracy: 0.9980 - val_loss: 0.6424 - val_accuracy: 0.8070\n",
      "Epoch 1/5\n",
      "54/54 [==============================] - 10s 178ms/step - loss: 0.0074 - accuracy: 0.9977 - val_loss: 0.5498 - val_accuracy: 0.8224\n",
      "Epoch 2/5\n",
      "54/54 [==============================] - 10s 176ms/step - loss: 0.0072 - accuracy: 0.9978 - val_loss: 0.7034 - val_accuracy: 0.8000\n",
      "Epoch 3/5\n",
      "54/54 [==============================] - 9s 174ms/step - loss: 0.0072 - accuracy: 0.9978 - val_loss: 0.7827 - val_accuracy: 0.7868\n",
      "Epoch 4/5\n",
      "54/54 [==============================] - 9s 175ms/step - loss: 0.0070 - accuracy: 0.9978 - val_loss: 0.5770 - val_accuracy: 0.8284\n",
      "Epoch 5/5\n",
      "54/54 [==============================] - 10s 179ms/step - loss: 0.0069 - accuracy: 0.9980 - val_loss: 0.7487 - val_accuracy: 0.7936\n",
      "Epoch 1/5\n",
      "54/54 [==============================] - 10s 178ms/step - loss: 0.0077 - accuracy: 0.9974 - val_loss: 0.7688 - val_accuracy: 0.7903\n",
      "Epoch 2/5\n",
      "54/54 [==============================] - 10s 181ms/step - loss: 0.0071 - accuracy: 0.9977 - val_loss: 0.6789 - val_accuracy: 0.8050\n",
      "Epoch 3/5\n",
      "54/54 [==============================] - 10s 180ms/step - loss: 0.0071 - accuracy: 0.9976 - val_loss: 0.8271 - val_accuracy: 0.7758\n",
      "Epoch 4/5\n",
      "54/54 [==============================] - 10s 177ms/step - loss: 0.0070 - accuracy: 0.9978 - val_loss: 0.5818 - val_accuracy: 0.8237\n",
      "Epoch 5/5\n",
      "54/54 [==============================] - 10s 180ms/step - loss: 0.0068 - accuracy: 0.9978 - val_loss: 0.5689 - val_accuracy: 0.8205\n",
      "  27/4279 [..............................] - ETA: 16s - loss: 1.1711 - accuracy: 0.5810"
     ]
    },
    {
     "name": "stderr",
     "output_type": "stream",
     "text": [
      "c:\\Users\\UX430\\anaconda3\\lib\\site-packages\\numpy\\core\\_asarray.py:171: VisibleDeprecationWarning: Creating an ndarray from ragged nested sequences (which is a list-or-tuple of lists-or-tuples-or ndarrays with different lengths or shapes) is deprecated. If you meant to do this, you must specify 'dtype=object' when creating the ndarray.\n",
      "  return array(a, dtype, copy=False, order=order, subok=True)\n"
     ]
    },
    {
     "name": "stdout",
     "output_type": "stream",
     "text": [
      "4279/4279 [==============================] - 17s 4ms/step - loss: 1.1560 - accuracy: 0.5811\n",
      "1721/1721 [==============================] - 9s 5ms/step - loss: 2.4754 - accuracy: 0.5908\n",
      "Epoch 1/5\n",
      "54/54 [==============================] - 10s 188ms/step - loss: 0.0074 - accuracy: 0.9980 - val_loss: 0.5188 - val_accuracy: 0.8300\n",
      "Epoch 2/5\n",
      "54/54 [==============================] - 10s 183ms/step - loss: 0.0072 - accuracy: 0.9982 - val_loss: 0.8311 - val_accuracy: 0.7748\n",
      "Epoch 3/5\n",
      "54/54 [==============================] - 10s 179ms/step - loss: 0.0068 - accuracy: 0.9981 - val_loss: 0.6537 - val_accuracy: 0.8044\n",
      "Epoch 4/5\n",
      "54/54 [==============================] - 10s 177ms/step - loss: 0.0077 - accuracy: 0.9978 - val_loss: 0.4068 - val_accuracy: 0.8527\n",
      "Epoch 5/5\n",
      "54/54 [==============================] - 10s 181ms/step - loss: 0.0072 - accuracy: 0.9980 - val_loss: 0.8349 - val_accuracy: 0.7780\n",
      "Epoch 1/5\n",
      "54/54 [==============================] - 10s 186ms/step - loss: 0.0071 - accuracy: 0.9978 - val_loss: 0.4760 - val_accuracy: 0.8467\n",
      "Epoch 2/5\n",
      "54/54 [==============================] - 10s 183ms/step - loss: 0.0071 - accuracy: 0.9976 - val_loss: 0.7336 - val_accuracy: 0.8031\n",
      "Epoch 3/5\n",
      "54/54 [==============================] - 10s 178ms/step - loss: 0.0070 - accuracy: 0.9980 - val_loss: 0.5934 - val_accuracy: 0.8242\n",
      "Epoch 4/5\n",
      "54/54 [==============================] - 10s 180ms/step - loss: 0.0070 - accuracy: 0.9978 - val_loss: 0.5761 - val_accuracy: 0.8291\n",
      "Epoch 5/5\n",
      "54/54 [==============================] - 10s 181ms/step - loss: 0.0068 - accuracy: 0.9980 - val_loss: 0.7314 - val_accuracy: 0.7989\n",
      "Epoch 1/5\n",
      "54/54 [==============================] - 10s 180ms/step - loss: 0.0070 - accuracy: 0.9977 - val_loss: 0.6247 - val_accuracy: 0.8168\n",
      "Epoch 2/5\n",
      "54/54 [==============================] - 10s 182ms/step - loss: 0.0068 - accuracy: 0.9978 - val_loss: 0.6398 - val_accuracy: 0.8134\n",
      "Epoch 3/5\n",
      "54/54 [==============================] - 10s 177ms/step - loss: 0.0070 - accuracy: 0.9976 - val_loss: 0.5964 - val_accuracy: 0.8220\n",
      "Epoch 4/5\n",
      "54/54 [==============================] - 10s 180ms/step - loss: 0.0068 - accuracy: 0.9976 - val_loss: 0.5910 - val_accuracy: 0.8180\n",
      "Epoch 5/5\n",
      "54/54 [==============================] - 10s 180ms/step - loss: 0.0065 - accuracy: 0.9979 - val_loss: 0.4993 - val_accuracy: 0.8317\n",
      "  27/4279 [..............................] - ETA: 16s - loss: 1.8399 - accuracy: 0.5810"
     ]
    },
    {
     "name": "stderr",
     "output_type": "stream",
     "text": [
      "c:\\Users\\UX430\\anaconda3\\lib\\site-packages\\numpy\\core\\_asarray.py:171: VisibleDeprecationWarning: Creating an ndarray from ragged nested sequences (which is a list-or-tuple of lists-or-tuples-or ndarrays with different lengths or shapes) is deprecated. If you meant to do this, you must specify 'dtype=object' when creating the ndarray.\n",
      "  return array(a, dtype, copy=False, order=order, subok=True)\n"
     ]
    },
    {
     "name": "stdout",
     "output_type": "stream",
     "text": [
      "4279/4279 [==============================] - 16s 4ms/step - loss: 1.8359 - accuracy: 0.5791\n",
      "1721/1721 [==============================] - 9s 5ms/step - loss: 2.8040 - accuracy: 0.5842\n",
      "Epoch 1/5\n",
      "54/54 [==============================] - 10s 187ms/step - loss: 0.0073 - accuracy: 0.9981 - val_loss: 0.8659 - val_accuracy: 0.7804\n",
      "Epoch 2/5\n",
      "54/54 [==============================] - 10s 179ms/step - loss: 0.0068 - accuracy: 0.9981 - val_loss: 0.6685 - val_accuracy: 0.7993\n",
      "Epoch 3/5\n",
      "54/54 [==============================] - 10s 181ms/step - loss: 0.0069 - accuracy: 0.9981 - val_loss: 0.6449 - val_accuracy: 0.8058\n",
      "Epoch 4/5\n",
      "54/54 [==============================] - 10s 183ms/step - loss: 0.0070 - accuracy: 0.9982 - val_loss: 0.6463 - val_accuracy: 0.8061\n",
      "Epoch 5/5\n",
      "54/54 [==============================] - 10s 177ms/step - loss: 0.0066 - accuracy: 0.9983 - val_loss: 0.5415 - val_accuracy: 0.8284\n",
      "Epoch 1/5\n",
      "54/54 [==============================] - 10s 181ms/step - loss: 0.0070 - accuracy: 0.9978 - val_loss: 0.5380 - val_accuracy: 0.8321\n",
      "Epoch 2/5\n",
      "54/54 [==============================] - 10s 179ms/step - loss: 0.0067 - accuracy: 0.9979 - val_loss: 0.8822 - val_accuracy: 0.7711\n",
      "Epoch 3/5\n",
      "54/54 [==============================] - 10s 179ms/step - loss: 0.0069 - accuracy: 0.9978 - val_loss: 0.4833 - val_accuracy: 0.8428\n",
      "Epoch 4/5\n",
      "54/54 [==============================] - 10s 184ms/step - loss: 0.0065 - accuracy: 0.9979 - val_loss: 0.7195 - val_accuracy: 0.8107\n",
      "Epoch 5/5\n",
      "54/54 [==============================] - 10s 179ms/step - loss: 0.0065 - accuracy: 0.9981 - val_loss: 0.3791 - val_accuracy: 0.8635\n",
      "Epoch 1/5\n",
      "54/54 [==============================] - 10s 181ms/step - loss: 0.0069 - accuracy: 0.9976 - val_loss: 0.4379 - val_accuracy: 0.8494\n",
      "Epoch 2/5\n",
      "54/54 [==============================] - 10s 179ms/step - loss: 0.0068 - accuracy: 0.9979 - val_loss: 0.5498 - val_accuracy: 0.8289\n",
      "Epoch 3/5\n",
      "54/54 [==============================] - 9s 175ms/step - loss: 0.0065 - accuracy: 0.9979 - val_loss: 0.5098 - val_accuracy: 0.8402\n",
      "Epoch 4/5\n",
      "54/54 [==============================] - 10s 178ms/step - loss: 0.0066 - accuracy: 0.9976 - val_loss: 0.6026 - val_accuracy: 0.8231\n",
      "Epoch 5/5\n",
      "54/54 [==============================] - 10s 178ms/step - loss: 0.0063 - accuracy: 0.9980 - val_loss: 0.7858 - val_accuracy: 0.7905\n",
      "  27/4279 [..............................] - ETA: 16s - loss: 1.7902 - accuracy: 0.5856"
     ]
    },
    {
     "name": "stderr",
     "output_type": "stream",
     "text": [
      "c:\\Users\\UX430\\anaconda3\\lib\\site-packages\\numpy\\core\\_asarray.py:171: VisibleDeprecationWarning: Creating an ndarray from ragged nested sequences (which is a list-or-tuple of lists-or-tuples-or ndarrays with different lengths or shapes) is deprecated. If you meant to do this, you must specify 'dtype=object' when creating the ndarray.\n",
      "  return array(a, dtype, copy=False, order=order, subok=True)\n"
     ]
    },
    {
     "name": "stdout",
     "output_type": "stream",
     "text": [
      "4279/4279 [==============================] - 16s 4ms/step - loss: 1.7880 - accuracy: 0.5846\n",
      "1721/1721 [==============================] - 7s 4ms/step - loss: 2.7545 - accuracy: 0.5972\n",
      "Epoch 1/5\n",
      "54/54 [==============================] - 11s 205ms/step - loss: 0.0067 - accuracy: 0.9982 - val_loss: 0.7035 - val_accuracy: 0.8026\n",
      "Epoch 2/5\n",
      "54/54 [==============================] - 10s 191ms/step - loss: 0.0070 - accuracy: 0.9980 - val_loss: 0.7450 - val_accuracy: 0.7860\n",
      "Epoch 3/5\n",
      "54/54 [==============================] - 10s 182ms/step - loss: 0.0067 - accuracy: 0.9982 - val_loss: 0.6474 - val_accuracy: 0.8085\n",
      "Epoch 4/5\n",
      "54/54 [==============================] - 10s 183ms/step - loss: 0.0065 - accuracy: 0.9983 - val_loss: 0.7878 - val_accuracy: 0.7786\n",
      "Epoch 5/5\n",
      "54/54 [==============================] - 10s 181ms/step - loss: 0.0064 - accuracy: 0.9983 - val_loss: 0.9783 - val_accuracy: 0.7380\n",
      "Epoch 1/5\n",
      "54/54 [==============================] - 10s 181ms/step - loss: 0.0068 - accuracy: 0.9979 - val_loss: 0.3654 - val_accuracy: 0.8654\n",
      "Epoch 2/5\n",
      "54/54 [==============================] - 10s 186ms/step - loss: 0.0069 - accuracy: 0.9977 - val_loss: 0.4728 - val_accuracy: 0.8459\n",
      "Epoch 3/5\n",
      "54/54 [==============================] - 10s 187ms/step - loss: 0.0067 - accuracy: 0.9978 - val_loss: 0.6292 - val_accuracy: 0.8160\n",
      "Epoch 4/5\n",
      "54/54 [==============================] - 10s 186ms/step - loss: 0.0068 - accuracy: 0.9977 - val_loss: 0.6651 - val_accuracy: 0.8125\n",
      "Epoch 5/5\n",
      "54/54 [==============================] - 10s 182ms/step - loss: 0.0065 - accuracy: 0.9980 - val_loss: 0.6081 - val_accuracy: 0.8214\n",
      "Epoch 1/5\n",
      "54/54 [==============================] - 10s 193ms/step - loss: 0.0068 - accuracy: 0.9977 - val_loss: 0.5560 - val_accuracy: 0.8251\n",
      "Epoch 2/5\n",
      "54/54 [==============================] - 10s 193ms/step - loss: 0.0063 - accuracy: 0.9981 - val_loss: 0.5020 - val_accuracy: 0.8350\n",
      "Epoch 3/5\n",
      "54/54 [==============================] - 11s 195ms/step - loss: 0.0064 - accuracy: 0.9979 - val_loss: 0.5818 - val_accuracy: 0.8279\n",
      "Epoch 4/5\n",
      "54/54 [==============================] - 10s 191ms/step - loss: 0.0063 - accuracy: 0.9978 - val_loss: 0.8340 - val_accuracy: 0.7788\n",
      "Epoch 5/5\n",
      "54/54 [==============================] - 10s 190ms/step - loss: 0.0065 - accuracy: 0.9979 - val_loss: 0.5089 - val_accuracy: 0.8365\n",
      "  25/4279 [..............................] - ETA: 17s - loss: 2.0657 - accuracy: 0.5763"
     ]
    },
    {
     "name": "stderr",
     "output_type": "stream",
     "text": [
      "c:\\Users\\UX430\\anaconda3\\lib\\site-packages\\numpy\\core\\_asarray.py:171: VisibleDeprecationWarning: Creating an ndarray from ragged nested sequences (which is a list-or-tuple of lists-or-tuples-or ndarrays with different lengths or shapes) is deprecated. If you meant to do this, you must specify 'dtype=object' when creating the ndarray.\n",
      "  return array(a, dtype, copy=False, order=order, subok=True)\n"
     ]
    },
    {
     "name": "stdout",
     "output_type": "stream",
     "text": [
      "4279/4279 [==============================] - 18s 4ms/step - loss: 2.0196 - accuracy: 0.5805\n",
      "1721/1721 [==============================] - 8s 4ms/step - loss: 3.0288 - accuracy: 0.5879\n"
     ]
    }
   ],
   "source": [
    "# Values saved each iteration \n",
    "loss_it = []\n",
    "accuracy_it = []\n",
    "f1_it = []\n",
    "precision_it = []\n",
    "recall_it = []\n",
    "\n",
    "for i in range(global_updates): \n",
    "    w_list = []\n",
    "    for node in range(num_nodes): \n",
    "        cp = global_model # create a copy of the global model\n",
    "        if node == 0:\n",
    "            x, y = x1, y1\n",
    "        elif node == 1:\n",
    "            x, y = x2, y2\n",
    "        else:\n",
    "            x, y = x3, y3\n",
    "        local_model, local_loss, local_acc, local_val_loss, local_val_acc = train_local_model(cp, node, x, y)\n",
    "        w_list.append(local_model.get_weights())\n",
    "\n",
    "    avg_w = aggregate(w_list)\n",
    "    global_model.set_weights(avg_w) # apply gradients to global model\n",
    "    loss_basic, accuracy_basic, f1_basic, precision_basic, recall_basic = evaluation(global_model, xbasic, ybasic) # Evaluate with test basic to know progress\n",
    "    loss_plus, accuracy_plus, f1_plus, precision_plus, recall_plus = evaluation(global_model, xplus, yplus) # Evaluate with test plus to know progress\n",
    "\n",
    "    loss_it.append([loss_basic, loss_plus])\n",
    "    accuracy_it.append([accuracy_basic, accuracy_plus])\n",
    "    f1_it.append([f1_basic, f1_plus])\n",
    "    precision_it.append([precision_basic, precision_plus])\n",
    "    recall_it.append([recall_basic, recall_plus])\n",
    "\n",
    "\n",
    "global_model.save('C:/Users/UX430/Documents/thesis/code/models/id1912.hdf5')"
   ]
  },
  {
   "cell_type": "code",
   "execution_count": 84,
   "metadata": {},
   "outputs": [
    {
     "name": "stdout",
     "output_type": "stream",
     "text": [
      "Loss for iterations:  [[0.09625285118818283, 0.2919221818447113], [0.12287917733192444, 0.5071086883544922], [0.1648828089237213, 0.8752776384353638], [0.11964885145425797, 1.0198652744293213], [0.29787641763687134, 1.54673171043396], [0.4365721344947815, 1.7502784729003906], [1.156044602394104, 2.4753761291503906], [1.8358707427978516, 2.8040149211883545], [1.7879897356033325, 2.75445294380188], [2.0196282863616943, 3.028756856918335]]\n",
      "Accuracy for iterations:  [[0.9879561066627502, 0.8903218507766724], [0.9862908720970154, 0.821423351764679], [0.9732244610786438, 0.7205005884170532], [0.9810906052589417, 0.6993569731712341], [0.8586943745613098, 0.6328925490379333], [0.7638478875160217, 0.6436823606491089], [0.5811081528663635, 0.590823233127594], [0.5790995955467224, 0.5841749906539917], [0.584635853767395, 0.597199022769928], [0.5804653763771057, 0.5879350304603577]]\n",
      "F1 for iterations:  [[0.9879585996628235, 0.8880029011684544], [0.9862914412058444, 0.8121348664985634], [0.9731927752705773, 0.6855190785394828], [0.9810806759874183, 0.6552622694191278], [0.8550525608287133, 0.5486092125988572], [0.7474758053380078, 0.5674198113706761], [0.47748266087419555, 0.468252548881804], [0.47350897365439165, 0.4545271059085335], [0.4846858094609937, 0.48133398749218653], [0.4760500893877768, 0.46206753347746077]]\n",
      "Precision for iterations:  [[0.9879899815624122, 0.9027123339479046], [0.986293094652639, 0.8569388659186051], [0.9736629454708082, 0.80260100821192], [0.9811960003999741, 0.7935841107680106], [0.8839442899402651, 0.7660887990565066], [0.8278780281405705, 0.770113111274834], [0.737090615145458, 0.7526602479265679], [0.7369402391139502, 0.7496684781140929], [0.7358413364329955, 0.7534846631305085], [0.7379895399508547, 0.7540550333979036]]\n",
      "Recall for iterations:  [[0.987956119080312, 0.8903218774976386], [0.9862908644716468, 0.8214233815301897], [0.9732244587922522, 0.7205006175979074], [0.98109059569371, 0.6993569715904963], [0.8586943819568202, 0.6328925379641067], [0.7638479067457419, 0.6436823366998474], [0.5811081246895907, 0.5908232216813195], [0.5790995939115954, 0.5841749618542469], [0.5846358351105787, 0.5971990118433481], [0.5804653948406322, 0.5879350432318535]]\n"
     ]
    }
   ],
   "source": [
    "print(\"Loss for iterations: \", loss_it)\n",
    "print(\"Accuracy for iterations: \", accuracy_it)\n",
    "print(\"F1 for iterations: \", f1_it)\n",
    "print(\"Precision for iterations: \", precision_it)\n",
    "print(\"Recall for iterations: \", recall_it)"
   ]
  },
  {
   "cell_type": "markdown",
   "metadata": {},
   "source": [
    "#### #Epochs = 5, #Iterations = 15"
   ]
  },
  {
   "cell_type": "code",
   "execution_count": 85,
   "metadata": {},
   "outputs": [],
   "source": [
    "# Define \n",
    "node_datasets = [training1, training2, training3]\n",
    "num_nodes = 3\n",
    "global_updates = 15\n",
    "# Define model training parameters\n",
    "loss_fct = \"categorical_crossentropy\"\n",
    "metrics = ['accuracy']\n",
    "local_epochs = 5"
   ]
  },
  {
   "cell_type": "code",
   "execution_count": 86,
   "metadata": {},
   "outputs": [],
   "source": [
    "def train_local_model(model, node, x_train, y_train): \n",
    "    filepath = 'C:/Users/UX430/Documents/thesis/code/models/node'+str(node)+'id1913.hdf5'\n",
    "    callbacks = [\n",
    "            keras.callbacks.EarlyStopping(\n",
    "                monitor = 'val_loss', # Use accuracy to monitor the model\n",
    "                patience = 10 # Stop after 10 steps with lower accuracy\n",
    "            ),\n",
    "            keras.callbacks.ModelCheckpoint(\n",
    "                filepath = filepath, # file where the checkpoint is saved\n",
    "                monitor = 'val_loss', # Don't overwrite the saved model unless val_loss is worse\n",
    "                save_best_only = True)]# Only save model if it is the best\n",
    "    optimizer = keras.optimizers.Adam(learning_rate=5e-4)\n",
    "    model.compile(optimizer=optimizer, loss=loss_fct, metrics=metrics)\n",
    "    history = model.fit(x_train, y_train, epochs=local_epochs, validation_split=0.2, callbacks=callbacks, batch_size=2048)\n",
    "    return model, history.history['loss'], history.history['accuracy'], history.history['val_loss'], history.history['val_accuracy']"
   ]
  },
  {
   "cell_type": "code",
   "execution_count": 87,
   "metadata": {},
   "outputs": [],
   "source": [
    "global_model = build_model((24,1,1))"
   ]
  },
  {
   "cell_type": "code",
   "execution_count": 88,
   "metadata": {},
   "outputs": [
    {
     "name": "stdout",
     "output_type": "stream",
     "text": [
      "Epoch 1/5\n"
     ]
    },
    {
     "name": "stdout",
     "output_type": "stream",
     "text": [
      "54/54 [==============================] - 10s 194ms/step - loss: 0.2479 - accuracy: 0.9556 - val_loss: 1.6721 - val_accuracy: 0.6400\n",
      "Epoch 2/5\n",
      "54/54 [==============================] - 10s 192ms/step - loss: 0.0310 - accuracy: 0.9924 - val_loss: 0.7515 - val_accuracy: 0.6422\n",
      "Epoch 3/5\n",
      "54/54 [==============================] - 10s 190ms/step - loss: 0.0249 - accuracy: 0.9925 - val_loss: 0.5051 - val_accuracy: 0.6767\n",
      "Epoch 4/5\n",
      "54/54 [==============================] - 10s 192ms/step - loss: 0.0232 - accuracy: 0.9925 - val_loss: 0.5618 - val_accuracy: 0.6519\n",
      "Epoch 5/5\n",
      "54/54 [==============================] - 10s 193ms/step - loss: 0.0217 - accuracy: 0.9927 - val_loss: 0.5475 - val_accuracy: 0.6590\n",
      "Epoch 1/5\n",
      "54/54 [==============================] - 10s 193ms/step - loss: 0.0200 - accuracy: 0.9933 - val_loss: 0.3913 - val_accuracy: 0.7403\n",
      "Epoch 2/5\n",
      "54/54 [==============================] - 10s 191ms/step - loss: 0.0173 - accuracy: 0.9944 - val_loss: 0.3801 - val_accuracy: 0.7717\n",
      "Epoch 3/5\n",
      "54/54 [==============================] - 10s 193ms/step - loss: 0.0156 - accuracy: 0.9951 - val_loss: 0.3445 - val_accuracy: 0.8118\n",
      "Epoch 4/5\n",
      "54/54 [==============================] - 10s 188ms/step - loss: 0.0149 - accuracy: 0.9954 - val_loss: 0.3641 - val_accuracy: 0.8242\n",
      "Epoch 5/5\n",
      "54/54 [==============================] - 10s 188ms/step - loss: 0.0146 - accuracy: 0.9956 - val_loss: 0.4545 - val_accuracy: 0.8031\n",
      "Epoch 1/5\n",
      "54/54 [==============================] - 10s 194ms/step - loss: 0.0133 - accuracy: 0.9958 - val_loss: 0.3836 - val_accuracy: 0.8317\n",
      "Epoch 2/5\n",
      "54/54 [==============================] - 10s 190ms/step - loss: 0.0133 - accuracy: 0.9958 - val_loss: 0.3738 - val_accuracy: 0.8401\n",
      "Epoch 3/5\n",
      "54/54 [==============================] - 10s 188ms/step - loss: 0.0129 - accuracy: 0.9962 - val_loss: 0.3637 - val_accuracy: 0.8475\n",
      "Epoch 4/5\n",
      "54/54 [==============================] - 10s 189ms/step - loss: 0.0127 - accuracy: 0.9962 - val_loss: 0.3847 - val_accuracy: 0.8404\n",
      "Epoch 5/5\n",
      "54/54 [==============================] - 10s 188ms/step - loss: 0.0125 - accuracy: 0.9962 - val_loss: 0.5810 - val_accuracy: 0.7893\n",
      "  26/4279 [..............................] - ETA: 16s - loss: 0.1870 - accuracy: 0.9880"
     ]
    },
    {
     "name": "stderr",
     "output_type": "stream",
     "text": [
      "c:\\Users\\UX430\\anaconda3\\lib\\site-packages\\numpy\\core\\_asarray.py:171: VisibleDeprecationWarning: Creating an ndarray from ragged nested sequences (which is a list-or-tuple of lists-or-tuples-or ndarrays with different lengths or shapes) is deprecated. If you meant to do this, you must specify 'dtype=object' when creating the ndarray.\n",
      "  return array(a, dtype, copy=False, order=order, subok=True)\n"
     ]
    },
    {
     "name": "stdout",
     "output_type": "stream",
     "text": [
      "4279/4279 [==============================] - 17s 4ms/step - loss: 0.1931 - accuracy: 0.9833\n",
      "1721/1721 [==============================] - 7s 4ms/step - loss: 0.4205 - accuracy: 0.8769\n",
      "Epoch 1/5\n",
      "54/54 [==============================] - 11s 196ms/step - loss: 0.0151 - accuracy: 0.9957 - val_loss: 0.3374 - val_accuracy: 0.8307\n",
      "Epoch 2/5\n",
      "54/54 [==============================] - 10s 194ms/step - loss: 0.0145 - accuracy: 0.9959 - val_loss: 0.4684 - val_accuracy: 0.7910\n",
      "Epoch 3/5\n",
      "54/54 [==============================] - 11s 197ms/step - loss: 0.0144 - accuracy: 0.9958 - val_loss: 0.4533 - val_accuracy: 0.8001\n",
      "Epoch 4/5\n",
      "54/54 [==============================] - 10s 194ms/step - loss: 0.0142 - accuracy: 0.9960 - val_loss: 0.4413 - val_accuracy: 0.8081\n",
      "Epoch 5/5\n",
      "54/54 [==============================] - 11s 198ms/step - loss: 0.0135 - accuracy: 0.9963 - val_loss: 0.4525 - val_accuracy: 0.8089\n",
      "Epoch 1/5\n",
      "54/54 [==============================] - 11s 204ms/step - loss: 0.0131 - accuracy: 0.9962 - val_loss: 0.4575 - val_accuracy: 0.8284\n",
      "Epoch 2/5\n",
      "54/54 [==============================] - 11s 204ms/step - loss: 0.0126 - accuracy: 0.9964 - val_loss: 0.5062 - val_accuracy: 0.8090\n",
      "Epoch 3/5\n",
      "54/54 [==============================] - 11s 202ms/step - loss: 0.0126 - accuracy: 0.9962 - val_loss: 0.3286 - val_accuracy: 0.8654\n",
      "Epoch 4/5\n",
      "54/54 [==============================] - 11s 205ms/step - loss: 0.0124 - accuracy: 0.9963 - val_loss: 0.6092 - val_accuracy: 0.7942\n",
      "Epoch 5/5\n",
      "54/54 [==============================] - 11s 202ms/step - loss: 0.0120 - accuracy: 0.9964 - val_loss: 0.4803 - val_accuracy: 0.8291\n",
      "Epoch 1/5\n",
      "54/54 [==============================] - 11s 205ms/step - loss: 0.0115 - accuracy: 0.9965 - val_loss: 0.3325 - val_accuracy: 0.8657\n",
      "Epoch 2/5\n",
      "54/54 [==============================] - 11s 203ms/step - loss: 0.0116 - accuracy: 0.9963 - val_loss: 0.4461 - val_accuracy: 0.8304\n",
      "Epoch 3/5\n",
      "54/54 [==============================] - 11s 203ms/step - loss: 0.0114 - accuracy: 0.9965 - val_loss: 0.4890 - val_accuracy: 0.8247\n",
      "Epoch 4/5\n",
      "54/54 [==============================] - 11s 206ms/step - loss: 0.0107 - accuracy: 0.9969 - val_loss: 0.4183 - val_accuracy: 0.8391\n",
      "Epoch 5/5\n",
      "54/54 [==============================] - 12s 222ms/step - loss: 0.0104 - accuracy: 0.9967 - val_loss: 0.4740 - val_accuracy: 0.8369\n",
      "  24/4279 [..............................] - ETA: 19s - loss: 0.2039 - accuracy: 0.9753"
     ]
    },
    {
     "name": "stderr",
     "output_type": "stream",
     "text": [
      "c:\\Users\\UX430\\anaconda3\\lib\\site-packages\\numpy\\core\\_asarray.py:171: VisibleDeprecationWarning: Creating an ndarray from ragged nested sequences (which is a list-or-tuple of lists-or-tuples-or ndarrays with different lengths or shapes) is deprecated. If you meant to do this, you must specify 'dtype=object' when creating the ndarray.\n",
      "  return array(a, dtype, copy=False, order=order, subok=True)\n"
     ]
    },
    {
     "name": "stdout",
     "output_type": "stream",
     "text": [
      "4279/4279 [==============================] - 20s 5ms/step - loss: 0.2075 - accuracy: 0.9705\n",
      "1721/1721 [==============================] - 8s 4ms/step - loss: 0.7487 - accuracy: 0.7521\n",
      "Epoch 1/5\n",
      "54/54 [==============================] - 12s 218ms/step - loss: 0.0126 - accuracy: 0.9966 - val_loss: 0.5550 - val_accuracy: 0.7931\n",
      "Epoch 2/5\n",
      "54/54 [==============================] - 12s 223ms/step - loss: 0.0127 - accuracy: 0.9965 - val_loss: 0.4748 - val_accuracy: 0.8230\n",
      "Epoch 3/5\n",
      "54/54 [==============================] - 12s 224ms/step - loss: 0.0120 - accuracy: 0.9968 - val_loss: 0.4323 - val_accuracy: 0.8401\n",
      "Epoch 4/5\n",
      "54/54 [==============================] - 12s 220ms/step - loss: 0.0114 - accuracy: 0.9967 - val_loss: 0.5470 - val_accuracy: 0.8050\n",
      "Epoch 5/5\n",
      "54/54 [==============================] - 12s 223ms/step - loss: 0.0112 - accuracy: 0.9969 - val_loss: 0.6551 - val_accuracy: 0.7769\n",
      "Epoch 1/5\n",
      "54/54 [==============================] - 13s 232ms/step - loss: 0.0109 - accuracy: 0.9968 - val_loss: 0.5097 - val_accuracy: 0.8337\n",
      "Epoch 2/5\n",
      "54/54 [==============================] - 12s 219ms/step - loss: 0.0104 - accuracy: 0.9968 - val_loss: 0.3390 - val_accuracy: 0.8623\n",
      "Epoch 3/5\n",
      "54/54 [==============================] - 11s 211ms/step - loss: 0.0103 - accuracy: 0.9967 - val_loss: 0.3770 - val_accuracy: 0.8639\n",
      "Epoch 4/5\n",
      "54/54 [==============================] - 12s 220ms/step - loss: 0.0101 - accuracy: 0.9967 - val_loss: 0.5485 - val_accuracy: 0.8262\n",
      "Epoch 5/5\n",
      "54/54 [==============================] - 12s 218ms/step - loss: 0.0095 - accuracy: 0.9970 - val_loss: 0.4499 - val_accuracy: 0.8473\n",
      "Epoch 1/5\n",
      "54/54 [==============================] - 12s 227ms/step - loss: 0.0096 - accuracy: 0.9970 - val_loss: 0.6519 - val_accuracy: 0.7949\n",
      "Epoch 2/5\n",
      "54/54 [==============================] - 13s 237ms/step - loss: 0.0094 - accuracy: 0.9969 - val_loss: 0.4411 - val_accuracy: 0.8500\n",
      "Epoch 3/5\n",
      "54/54 [==============================] - 13s 243ms/step - loss: 0.0090 - accuracy: 0.9970 - val_loss: 0.4044 - val_accuracy: 0.8580\n",
      "Epoch 4/5\n",
      "54/54 [==============================] - 13s 235ms/step - loss: 0.0088 - accuracy: 0.9973 - val_loss: 0.5998 - val_accuracy: 0.8139\n",
      "Epoch 5/5\n",
      "54/54 [==============================] - 12s 231ms/step - loss: 0.0087 - accuracy: 0.9972 - val_loss: 0.5353 - val_accuracy: 0.8252\n"
     ]
    },
    {
     "name": "stderr",
     "output_type": "stream",
     "text": [
      "c:\\Users\\UX430\\anaconda3\\lib\\site-packages\\numpy\\core\\_asarray.py:171: VisibleDeprecationWarning: Creating an ndarray from ragged nested sequences (which is a list-or-tuple of lists-or-tuples-or ndarrays with different lengths or shapes) is deprecated. If you meant to do this, you must specify 'dtype=object' when creating the ndarray.\n",
      "  return array(a, dtype, copy=False, order=order, subok=True)\n"
     ]
    },
    {
     "name": "stdout",
     "output_type": "stream",
     "text": [
      "4279/4279 [==============================] - 20s 5ms/step - loss: 0.2153 - accuracy: 0.9359\n",
      "1721/1721 [==============================] - 8s 5ms/step - loss: 1.1773 - accuracy: 0.6497\n",
      "Epoch 1/5\n",
      "54/54 [==============================] - 13s 241ms/step - loss: 0.0106 - accuracy: 0.9968 - val_loss: 0.6552 - val_accuracy: 0.7961\n",
      "Epoch 2/5\n",
      "54/54 [==============================] - 13s 241ms/step - loss: 0.0102 - accuracy: 0.9972 - val_loss: 0.6577 - val_accuracy: 0.7899\n",
      "Epoch 3/5\n",
      "54/54 [==============================] - 13s 238ms/step - loss: 0.0094 - accuracy: 0.9972 - val_loss: 0.4909 - val_accuracy: 0.8322\n",
      "Epoch 4/5\n",
      "54/54 [==============================] - 13s 237ms/step - loss: 0.0092 - accuracy: 0.9973 - val_loss: 0.5360 - val_accuracy: 0.8273\n",
      "Epoch 5/5\n",
      "54/54 [==============================] - 12s 225ms/step - loss: 0.0091 - accuracy: 0.9973 - val_loss: 0.5849 - val_accuracy: 0.8143\n",
      "Epoch 1/5\n",
      "54/54 [==============================] - 12s 228ms/step - loss: 0.0088 - accuracy: 0.9972 - val_loss: 0.5900 - val_accuracy: 0.8089\n",
      "Epoch 2/5\n",
      "54/54 [==============================] - 12s 224ms/step - loss: 0.0084 - accuracy: 0.9973 - val_loss: 0.5597 - val_accuracy: 0.8300\n",
      "Epoch 3/5\n",
      "54/54 [==============================] - 12s 226ms/step - loss: 0.0087 - accuracy: 0.9971 - val_loss: 0.4307 - val_accuracy: 0.8476\n",
      "Epoch 4/5\n",
      "54/54 [==============================] - 12s 230ms/step - loss: 0.0085 - accuracy: 0.9971 - val_loss: 0.5449 - val_accuracy: 0.8346\n",
      "Epoch 5/5\n",
      "54/54 [==============================] - 12s 216ms/step - loss: 0.0084 - accuracy: 0.9974 - val_loss: 0.6315 - val_accuracy: 0.8116\n",
      "Epoch 1/5\n",
      "54/54 [==============================] - 12s 221ms/step - loss: 0.0083 - accuracy: 0.9973 - val_loss: 0.4669 - val_accuracy: 0.8417\n",
      "Epoch 2/5\n",
      "54/54 [==============================] - 12s 225ms/step - loss: 0.0083 - accuracy: 0.9974 - val_loss: 0.4954 - val_accuracy: 0.8323\n",
      "Epoch 3/5\n",
      "54/54 [==============================] - 12s 228ms/step - loss: 0.0081 - accuracy: 0.9973 - val_loss: 0.4448 - val_accuracy: 0.8449\n",
      "Epoch 4/5\n",
      "54/54 [==============================] - 12s 230ms/step - loss: 0.0079 - accuracy: 0.9974 - val_loss: 0.5562 - val_accuracy: 0.8159\n",
      "Epoch 5/5\n",
      "54/54 [==============================] - 12s 223ms/step - loss: 0.0077 - accuracy: 0.9975 - val_loss: 0.5111 - val_accuracy: 0.8338\n",
      "  24/4279 [..............................] - ETA: 18s - loss: 0.2056 - accuracy: 0.9375"
     ]
    },
    {
     "name": "stderr",
     "output_type": "stream",
     "text": [
      "c:\\Users\\UX430\\anaconda3\\lib\\site-packages\\numpy\\core\\_asarray.py:171: VisibleDeprecationWarning: Creating an ndarray from ragged nested sequences (which is a list-or-tuple of lists-or-tuples-or ndarrays with different lengths or shapes) is deprecated. If you meant to do this, you must specify 'dtype=object' when creating the ndarray.\n",
      "  return array(a, dtype, copy=False, order=order, subok=True)\n"
     ]
    },
    {
     "name": "stdout",
     "output_type": "stream",
     "text": [
      "4279/4279 [==============================] - 19s 4ms/step - loss: 0.2031 - accuracy: 0.9405\n",
      "1721/1721 [==============================] - 7s 4ms/step - loss: 1.4117 - accuracy: 0.6332\n",
      "Epoch 1/5\n",
      "54/54 [==============================] - 11s 212ms/step - loss: 0.0090 - accuracy: 0.9975 - val_loss: 0.6535 - val_accuracy: 0.7962\n",
      "Epoch 2/5\n",
      "54/54 [==============================] - 12s 214ms/step - loss: 0.0090 - accuracy: 0.9974 - val_loss: 0.5241 - val_accuracy: 0.8246\n",
      "Epoch 3/5\n",
      "54/54 [==============================] - 12s 213ms/step - loss: 0.0080 - accuracy: 0.9976 - val_loss: 0.3528 - val_accuracy: 0.8589\n",
      "Epoch 4/5\n",
      "54/54 [==============================] - 11s 211ms/step - loss: 0.0084 - accuracy: 0.9975 - val_loss: 0.5098 - val_accuracy: 0.8227\n",
      "Epoch 5/5\n",
      "54/54 [==============================] - 11s 209ms/step - loss: 0.0079 - accuracy: 0.9975 - val_loss: 0.7418 - val_accuracy: 0.7869\n",
      "Epoch 1/5\n",
      "54/54 [==============================] - 12s 214ms/step - loss: 0.0080 - accuracy: 0.9976 - val_loss: 0.6680 - val_accuracy: 0.8093\n",
      "Epoch 2/5\n",
      "54/54 [==============================] - 12s 213ms/step - loss: 0.0080 - accuracy: 0.9974 - val_loss: 0.5952 - val_accuracy: 0.8226\n",
      "Epoch 3/5\n",
      "54/54 [==============================] - 11s 210ms/step - loss: 0.0077 - accuracy: 0.9976 - val_loss: 0.6779 - val_accuracy: 0.8141\n",
      "Epoch 4/5\n",
      "54/54 [==============================] - 11s 204ms/step - loss: 0.0075 - accuracy: 0.9977 - val_loss: 0.6553 - val_accuracy: 0.8128\n",
      "Epoch 5/5\n",
      "54/54 [==============================] - 11s 209ms/step - loss: 0.0074 - accuracy: 0.9978 - val_loss: 0.7016 - val_accuracy: 0.8033\n",
      "Epoch 1/5\n",
      "54/54 [==============================] - 11s 213ms/step - loss: 0.0079 - accuracy: 0.9974 - val_loss: 0.4910 - val_accuracy: 0.8313\n",
      "Epoch 2/5\n",
      "54/54 [==============================] - 11s 208ms/step - loss: 0.0075 - accuracy: 0.9975 - val_loss: 0.7855 - val_accuracy: 0.7866\n",
      "Epoch 3/5\n",
      "54/54 [==============================] - 11s 210ms/step - loss: 0.0078 - accuracy: 0.9975 - val_loss: 0.7388 - val_accuracy: 0.7940\n",
      "Epoch 4/5\n",
      "54/54 [==============================] - 11s 210ms/step - loss: 0.0076 - accuracy: 0.9974 - val_loss: 0.7300 - val_accuracy: 0.8006\n",
      "Epoch 5/5\n",
      "54/54 [==============================] - 11s 210ms/step - loss: 0.0075 - accuracy: 0.9975 - val_loss: 0.4949 - val_accuracy: 0.8335\n",
      "  25/4279 [..............................] - ETA: 18s - loss: 0.4056 - accuracy: 0.7638"
     ]
    },
    {
     "name": "stderr",
     "output_type": "stream",
     "text": [
      "c:\\Users\\UX430\\anaconda3\\lib\\site-packages\\numpy\\core\\_asarray.py:171: VisibleDeprecationWarning: Creating an ndarray from ragged nested sequences (which is a list-or-tuple of lists-or-tuples-or ndarrays with different lengths or shapes) is deprecated. If you meant to do this, you must specify 'dtype=object' when creating the ndarray.\n",
      "  return array(a, dtype, copy=False, order=order, subok=True)\n"
     ]
    },
    {
     "name": "stdout",
     "output_type": "stream",
     "text": [
      "4279/4279 [==============================] - 19s 4ms/step - loss: 0.3909 - accuracy: 0.7833\n",
      "1721/1721 [==============================] - 10s 6ms/step - loss: 1.8519 - accuracy: 0.6056\n",
      "Epoch 1/5\n",
      "54/54 [==============================] - 11s 207ms/step - loss: 0.0083 - accuracy: 0.9978 - val_loss: 0.5173 - val_accuracy: 0.8299\n",
      "Epoch 2/5\n",
      "54/54 [==============================] - 11s 210ms/step - loss: 0.0079 - accuracy: 0.9978 - val_loss: 0.7923 - val_accuracy: 0.7891\n",
      "Epoch 3/5\n",
      "54/54 [==============================] - 11s 210ms/step - loss: 0.0084 - accuracy: 0.9979 - val_loss: 0.4884 - val_accuracy: 0.8349\n",
      "Epoch 4/5\n",
      "54/54 [==============================] - 11s 210ms/step - loss: 0.0078 - accuracy: 0.9978 - val_loss: 0.8253 - val_accuracy: 0.7724\n",
      "Epoch 5/5\n",
      "54/54 [==============================] - 11s 207ms/step - loss: 0.0074 - accuracy: 0.9979 - val_loss: 0.4116 - val_accuracy: 0.8508\n",
      "Epoch 1/5\n",
      "54/54 [==============================] - 11s 213ms/step - loss: 0.0073 - accuracy: 0.9979 - val_loss: 0.5309 - val_accuracy: 0.8311\n",
      "Epoch 2/5\n",
      "54/54 [==============================] - 11s 210ms/step - loss: 0.0074 - accuracy: 0.9976 - val_loss: 0.5875 - val_accuracy: 0.8237\n",
      "Epoch 3/5\n",
      "54/54 [==============================] - 11s 209ms/step - loss: 0.0076 - accuracy: 0.9977 - val_loss: 0.7811 - val_accuracy: 0.7953\n",
      "Epoch 4/5\n",
      "54/54 [==============================] - 11s 207ms/step - loss: 0.0072 - accuracy: 0.9979 - val_loss: 0.5330 - val_accuracy: 0.8295\n",
      "Epoch 5/5\n",
      "54/54 [==============================] - 11s 209ms/step - loss: 0.0070 - accuracy: 0.9978 - val_loss: 0.6712 - val_accuracy: 0.8135\n",
      "Epoch 1/5\n",
      "54/54 [==============================] - 11s 212ms/step - loss: 0.0076 - accuracy: 0.9975 - val_loss: 0.5661 - val_accuracy: 0.8292\n",
      "Epoch 2/5\n",
      "54/54 [==============================] - 11s 212ms/step - loss: 0.0071 - accuracy: 0.9977 - val_loss: 0.5739 - val_accuracy: 0.8217\n",
      "Epoch 3/5\n",
      "54/54 [==============================] - 11s 213ms/step - loss: 0.0068 - accuracy: 0.9978 - val_loss: 0.5387 - val_accuracy: 0.8301\n",
      "Epoch 4/5\n",
      "54/54 [==============================] - 11s 211ms/step - loss: 0.0070 - accuracy: 0.9978 - val_loss: 0.5259 - val_accuracy: 0.8296\n",
      "Epoch 5/5\n",
      "54/54 [==============================] - 11s 207ms/step - loss: 0.0076 - accuracy: 0.9974 - val_loss: 0.8939 - val_accuracy: 0.7712\n",
      "  26/4279 [..............................] - ETA: 17s - loss: 0.5936 - accuracy: 0.6587"
     ]
    },
    {
     "name": "stderr",
     "output_type": "stream",
     "text": [
      "c:\\Users\\UX430\\anaconda3\\lib\\site-packages\\numpy\\core\\_asarray.py:171: VisibleDeprecationWarning: Creating an ndarray from ragged nested sequences (which is a list-or-tuple of lists-or-tuples-or ndarrays with different lengths or shapes) is deprecated. If you meant to do this, you must specify 'dtype=object' when creating the ndarray.\n",
      "  return array(a, dtype, copy=False, order=order, subok=True)\n"
     ]
    },
    {
     "name": "stdout",
     "output_type": "stream",
     "text": [
      "4279/4279 [==============================] - 19s 4ms/step - loss: 0.5843 - accuracy: 0.6765 0s - loss: 0.5844 \n",
      "1721/1721 [==============================] - 8s 4ms/step - loss: 2.1595 - accuracy: 0.5995\n",
      "Epoch 1/5\n",
      "54/54 [==============================] - 11s 210ms/step - loss: 0.0079 - accuracy: 0.9980 - val_loss: 0.9293 - val_accuracy: 0.7555\n",
      "Epoch 2/5\n",
      "54/54 [==============================] - 11s 208ms/step - loss: 0.0080 - accuracy: 0.9977 - val_loss: 0.5552 - val_accuracy: 0.8229\n",
      "Epoch 3/5\n",
      "54/54 [==============================] - 11s 208ms/step - loss: 0.0072 - accuracy: 0.9979 - val_loss: 0.5759 - val_accuracy: 0.8188\n",
      "Epoch 4/5\n",
      "54/54 [==============================] - 11s 209ms/step - loss: 0.0073 - accuracy: 0.9979 - val_loss: 0.6809 - val_accuracy: 0.8074\n",
      "Epoch 5/5\n",
      "54/54 [==============================] - 11s 210ms/step - loss: 0.0073 - accuracy: 0.9981 - val_loss: 0.7487 - val_accuracy: 0.8005\n",
      "Epoch 1/5\n",
      "54/54 [==============================] - 12s 213ms/step - loss: 0.0072 - accuracy: 0.9977 - val_loss: 0.5990 - val_accuracy: 0.8249\n",
      "Epoch 2/5\n",
      "54/54 [==============================] - 11s 212ms/step - loss: 0.0073 - accuracy: 0.9977 - val_loss: 0.4226 - val_accuracy: 0.8524\n",
      "Epoch 3/5\n",
      "54/54 [==============================] - 12s 223ms/step - loss: 0.0069 - accuracy: 0.9979 - val_loss: 0.5504 - val_accuracy: 0.8304\n",
      "Epoch 4/5\n",
      "54/54 [==============================] - 12s 223ms/step - loss: 0.0071 - accuracy: 0.9976 - val_loss: 0.4533 - val_accuracy: 0.8496\n",
      "Epoch 5/5\n",
      "54/54 [==============================] - 12s 223ms/step - loss: 0.0069 - accuracy: 0.9978 - val_loss: 0.6257 - val_accuracy: 0.8178\n",
      "Epoch 1/5\n",
      "54/54 [==============================] - 12s 215ms/step - loss: 0.0073 - accuracy: 0.9976 - val_loss: 0.7658 - val_accuracy: 0.7949\n",
      "Epoch 2/5\n",
      "54/54 [==============================] - 12s 215ms/step - loss: 0.0066 - accuracy: 0.9979 - val_loss: 0.5473 - val_accuracy: 0.8301\n",
      "Epoch 3/5\n",
      "54/54 [==============================] - 11s 207ms/step - loss: 0.0067 - accuracy: 0.9980 - val_loss: 0.4374 - val_accuracy: 0.8520\n",
      "Epoch 4/5\n",
      "54/54 [==============================] - 12s 214ms/step - loss: 0.0069 - accuracy: 0.9977 - val_loss: 0.5623 - val_accuracy: 0.8330\n",
      "Epoch 5/5\n",
      "54/54 [==============================] - 12s 215ms/step - loss: 0.0070 - accuracy: 0.9977 - val_loss: 0.5575 - val_accuracy: 0.8296\n",
      "  24/4279 [..............................] - ETA: 18s - loss: 0.9082 - accuracy: 0.5833"
     ]
    },
    {
     "name": "stderr",
     "output_type": "stream",
     "text": [
      "c:\\Users\\UX430\\anaconda3\\lib\\site-packages\\numpy\\core\\_asarray.py:171: VisibleDeprecationWarning: Creating an ndarray from ragged nested sequences (which is a list-or-tuple of lists-or-tuples-or ndarrays with different lengths or shapes) is deprecated. If you meant to do this, you must specify 'dtype=object' when creating the ndarray.\n",
      "  return array(a, dtype, copy=False, order=order, subok=True)\n"
     ]
    },
    {
     "name": "stdout",
     "output_type": "stream",
     "text": [
      "4279/4279 [==============================] - 19s 5ms/step - loss: 0.8783 - accuracy: 0.5852\n",
      "1721/1721 [==============================] - 8s 5ms/step - loss: 2.4470 - accuracy: 0.5861\n",
      "Epoch 1/5\n",
      "54/54 [==============================] - 12s 216ms/step - loss: 0.0081 - accuracy: 0.9980 - val_loss: 0.5756 - val_accuracy: 0.8249\n",
      "Epoch 2/5\n",
      "54/54 [==============================] - 11s 208ms/step - loss: 0.0068 - accuracy: 0.9981 - val_loss: 0.6819 - val_accuracy: 0.8099\n",
      "Epoch 3/5\n",
      "54/54 [==============================] - 12s 215ms/step - loss: 0.0067 - accuracy: 0.9982 - val_loss: 0.5657 - val_accuracy: 0.8266\n",
      "Epoch 4/5\n",
      "54/54 [==============================] - 11s 211ms/step - loss: 0.0069 - accuracy: 0.9982 - val_loss: 0.6397 - val_accuracy: 0.8100\n",
      "Epoch 5/5\n",
      "54/54 [==============================] - 11s 212ms/step - loss: 0.0069 - accuracy: 0.9982 - val_loss: 0.7951 - val_accuracy: 0.7851\n",
      "Epoch 1/5\n",
      "54/54 [==============================] - 11s 207ms/step - loss: 0.0072 - accuracy: 0.9977 - val_loss: 1.1257 - val_accuracy: 0.7356\n",
      "Epoch 2/5\n",
      "54/54 [==============================] - 11s 209ms/step - loss: 0.0069 - accuracy: 0.9978 - val_loss: 0.6682 - val_accuracy: 0.8141\n",
      "Epoch 3/5\n",
      "54/54 [==============================] - 11s 210ms/step - loss: 0.0066 - accuracy: 0.9980 - val_loss: 0.6459 - val_accuracy: 0.8231\n",
      "Epoch 4/5\n",
      "54/54 [==============================] - 11s 212ms/step - loss: 0.0067 - accuracy: 0.9979 - val_loss: 0.5901 - val_accuracy: 0.8283\n",
      "Epoch 5/5\n",
      "54/54 [==============================] - 11s 210ms/step - loss: 0.0067 - accuracy: 0.9979 - val_loss: 0.5641 - val_accuracy: 0.8281\n",
      "Epoch 1/5\n",
      "54/54 [==============================] - 12s 214ms/step - loss: 0.0072 - accuracy: 0.9976 - val_loss: 0.6108 - val_accuracy: 0.8142\n",
      "Epoch 2/5\n",
      "54/54 [==============================] - 11s 211ms/step - loss: 0.0067 - accuracy: 0.9979 - val_loss: 0.5379 - val_accuracy: 0.8353\n",
      "Epoch 3/5\n",
      "54/54 [==============================] - 11s 211ms/step - loss: 0.0066 - accuracy: 0.9978 - val_loss: 0.5218 - val_accuracy: 0.8372\n",
      "Epoch 4/5\n",
      "54/54 [==============================] - 12s 213ms/step - loss: 0.0063 - accuracy: 0.9980 - val_loss: 0.4570 - val_accuracy: 0.8525\n",
      "Epoch 5/5\n",
      "54/54 [==============================] - 12s 213ms/step - loss: 0.0066 - accuracy: 0.9977 - val_loss: 0.5820 - val_accuracy: 0.8183\n",
      "  25/4279 [..............................] - ETA: 17s - loss: 1.1219 - accuracy: 0.5838"
     ]
    },
    {
     "name": "stderr",
     "output_type": "stream",
     "text": [
      "c:\\Users\\UX430\\anaconda3\\lib\\site-packages\\numpy\\core\\_asarray.py:171: VisibleDeprecationWarning: Creating an ndarray from ragged nested sequences (which is a list-or-tuple of lists-or-tuples-or ndarrays with different lengths or shapes) is deprecated. If you meant to do this, you must specify 'dtype=object' when creating the ndarray.\n",
      "  return array(a, dtype, copy=False, order=order, subok=True)\n"
     ]
    },
    {
     "name": "stdout",
     "output_type": "stream",
     "text": [
      "4279/4279 [==============================] - 19s 4ms/step - loss: 1.0924 - accuracy: 0.5860\n",
      "1721/1721 [==============================] - 8s 5ms/step - loss: 2.6914 - accuracy: 0.5899\n",
      "Epoch 1/5\n",
      "54/54 [==============================] - 12s 216ms/step - loss: 0.0073 - accuracy: 0.9979 - val_loss: 0.4084 - val_accuracy: 0.8570\n",
      "Epoch 2/5\n",
      "54/54 [==============================] - 12s 215ms/step - loss: 0.0068 - accuracy: 0.9981 - val_loss: 0.4712 - val_accuracy: 0.8425\n",
      "Epoch 3/5\n",
      "54/54 [==============================] - 11s 213ms/step - loss: 0.0068 - accuracy: 0.9981 - val_loss: 0.6168 - val_accuracy: 0.8162\n",
      "Epoch 4/5\n",
      "54/54 [==============================] - 12s 214ms/step - loss: 0.0065 - accuracy: 0.9983 - val_loss: 0.6300 - val_accuracy: 0.8158\n",
      "Epoch 5/5\n",
      "54/54 [==============================] - 11s 213ms/step - loss: 0.0073 - accuracy: 0.9980 - val_loss: 0.5818 - val_accuracy: 0.8247\n",
      "Epoch 1/5\n",
      "54/54 [==============================] - 12s 219ms/step - loss: 0.0066 - accuracy: 0.9980 - val_loss: 0.5949 - val_accuracy: 0.8265\n",
      "Epoch 2/5\n",
      "54/54 [==============================] - 12s 217ms/step - loss: 0.0068 - accuracy: 0.9978 - val_loss: 0.8548 - val_accuracy: 0.7831\n",
      "Epoch 3/5\n",
      "54/54 [==============================] - 11s 212ms/step - loss: 0.0070 - accuracy: 0.9977 - val_loss: 0.8238 - val_accuracy: 0.7952\n",
      "Epoch 4/5\n",
      "54/54 [==============================] - 12s 219ms/step - loss: 0.0066 - accuracy: 0.9981 - val_loss: 0.6403 - val_accuracy: 0.8194\n",
      "Epoch 5/5\n",
      "54/54 [==============================] - 12s 224ms/step - loss: 0.0067 - accuracy: 0.9978 - val_loss: 0.7279 - val_accuracy: 0.7935\n",
      "Epoch 1/5\n",
      "54/54 [==============================] - 12s 217ms/step - loss: 0.0069 - accuracy: 0.9978 - val_loss: 0.7138 - val_accuracy: 0.8115\n",
      "Epoch 2/5\n",
      "54/54 [==============================] - 12s 217ms/step - loss: 0.0065 - accuracy: 0.9979 - val_loss: 0.6867 - val_accuracy: 0.8102\n",
      "Epoch 3/5\n",
      "54/54 [==============================] - 12s 218ms/step - loss: 0.0064 - accuracy: 0.9981 - val_loss: 0.6686 - val_accuracy: 0.8125\n",
      "Epoch 4/5\n",
      "54/54 [==============================] - 14s 257ms/step - loss: 0.0062 - accuracy: 0.9980 - val_loss: 0.8241 - val_accuracy: 0.7830\n",
      "Epoch 5/5\n",
      "54/54 [==============================] - 13s 238ms/step - loss: 0.0064 - accuracy: 0.9980 - val_loss: 0.6717 - val_accuracy: 0.8113\n",
      "  22/4279 [..............................] - ETA: 19s - loss: 1.4562 - accuracy: 0.5909"
     ]
    },
    {
     "name": "stderr",
     "output_type": "stream",
     "text": [
      "c:\\Users\\UX430\\anaconda3\\lib\\site-packages\\numpy\\core\\_asarray.py:171: VisibleDeprecationWarning: Creating an ndarray from ragged nested sequences (which is a list-or-tuple of lists-or-tuples-or ndarrays with different lengths or shapes) is deprecated. If you meant to do this, you must specify 'dtype=object' when creating the ndarray.\n",
      "  return array(a, dtype, copy=False, order=order, subok=True)\n"
     ]
    },
    {
     "name": "stdout",
     "output_type": "stream",
     "text": [
      "4279/4279 [==============================] - 20s 5ms/step - loss: 1.4178 - accuracy: 0.5896\n",
      "1721/1721 [==============================] - 8s 5ms/step - loss: 2.7791 - accuracy: 0.5922\n",
      "Epoch 1/5\n",
      "54/54 [==============================] - 12s 221ms/step - loss: 0.0071 - accuracy: 0.9980 - val_loss: 0.6677 - val_accuracy: 0.8110\n",
      "Epoch 2/5\n",
      "54/54 [==============================] - 12s 216ms/step - loss: 0.0067 - accuracy: 0.9982 - val_loss: 0.7002 - val_accuracy: 0.8050\n",
      "Epoch 3/5\n",
      "54/54 [==============================] - 12s 216ms/step - loss: 0.0063 - accuracy: 0.9983 - val_loss: 0.6962 - val_accuracy: 0.8006\n",
      "Epoch 4/5\n",
      "54/54 [==============================] - 12s 218ms/step - loss: 0.0063 - accuracy: 0.9981 - val_loss: 0.7171 - val_accuracy: 0.8100\n",
      "Epoch 5/5\n",
      "54/54 [==============================] - 12s 215ms/step - loss: 0.0072 - accuracy: 0.9981 - val_loss: 0.6545 - val_accuracy: 0.8104\n",
      "Epoch 1/5\n",
      "54/54 [==============================] - 12s 216ms/step - loss: 0.0068 - accuracy: 0.9978 - val_loss: 0.6146 - val_accuracy: 0.8262\n",
      "Epoch 2/5\n",
      "54/54 [==============================] - 12s 217ms/step - loss: 0.0066 - accuracy: 0.9979 - val_loss: 0.4860 - val_accuracy: 0.8458\n",
      "Epoch 3/5\n",
      "54/54 [==============================] - 12s 217ms/step - loss: 0.0062 - accuracy: 0.9981 - val_loss: 0.7069 - val_accuracy: 0.8139\n",
      "Epoch 4/5\n",
      "54/54 [==============================] - 12s 219ms/step - loss: 0.0063 - accuracy: 0.9981 - val_loss: 0.5301 - val_accuracy: 0.8408\n",
      "Epoch 5/5\n",
      "54/54 [==============================] - 12s 216ms/step - loss: 0.0062 - accuracy: 0.9981 - val_loss: 0.4816 - val_accuracy: 0.8461\n",
      "Epoch 1/5\n",
      "54/54 [==============================] - 12s 222ms/step - loss: 0.0073 - accuracy: 0.9976 - val_loss: 0.7753 - val_accuracy: 0.8007\n",
      "Epoch 2/5\n",
      "54/54 [==============================] - 12s 217ms/step - loss: 0.0064 - accuracy: 0.9979 - val_loss: 0.7706 - val_accuracy: 0.7892\n",
      "Epoch 3/5\n",
      "54/54 [==============================] - 12s 219ms/step - loss: 0.0064 - accuracy: 0.9979 - val_loss: 0.5155 - val_accuracy: 0.8345\n",
      "Epoch 4/5\n",
      "54/54 [==============================] - 12s 214ms/step - loss: 0.0062 - accuracy: 0.9980 - val_loss: 0.6799 - val_accuracy: 0.8028\n",
      "Epoch 5/5\n",
      "54/54 [==============================] - 11s 213ms/step - loss: 0.0062 - accuracy: 0.9980 - val_loss: 0.5290 - val_accuracy: 0.8322\n",
      "  24/4279 [..............................] - ETA: 18s - loss: 1.5469 - accuracy: 0.5951"
     ]
    },
    {
     "name": "stderr",
     "output_type": "stream",
     "text": [
      "c:\\Users\\UX430\\anaconda3\\lib\\site-packages\\numpy\\core\\_asarray.py:171: VisibleDeprecationWarning: Creating an ndarray from ragged nested sequences (which is a list-or-tuple of lists-or-tuples-or ndarrays with different lengths or shapes) is deprecated. If you meant to do this, you must specify 'dtype=object' when creating the ndarray.\n",
      "  return array(a, dtype, copy=False, order=order, subok=True)\n"
     ]
    },
    {
     "name": "stdout",
     "output_type": "stream",
     "text": [
      "4279/4279 [==============================] - 19s 5ms/step - loss: 1.5177 - accuracy: 0.5915\n",
      "1721/1721 [==============================] - 8s 4ms/step - loss: 2.7822 - accuracy: 0.6050\n",
      "Epoch 1/5\n",
      "54/54 [==============================] - 12s 217ms/step - loss: 0.0070 - accuracy: 0.9982 - val_loss: 0.6447 - val_accuracy: 0.8142\n",
      "Epoch 2/5\n",
      "54/54 [==============================] - 12s 221ms/step - loss: 0.0063 - accuracy: 0.9982 - val_loss: 0.6413 - val_accuracy: 0.8131\n",
      "Epoch 3/5\n",
      "54/54 [==============================] - 12s 216ms/step - loss: 0.0061 - accuracy: 0.9983 - val_loss: 0.7645 - val_accuracy: 0.7952\n",
      "Epoch 4/5\n",
      "54/54 [==============================] - 11s 211ms/step - loss: 0.0065 - accuracy: 0.9983 - val_loss: 0.5751 - val_accuracy: 0.8166\n",
      "Epoch 5/5\n",
      "54/54 [==============================] - 11s 212ms/step - loss: 0.0062 - accuracy: 0.9983 - val_loss: 0.7618 - val_accuracy: 0.7900\n",
      "Epoch 1/5\n",
      "54/54 [==============================] - 12s 214ms/step - loss: 0.0065 - accuracy: 0.9980 - val_loss: 0.6381 - val_accuracy: 0.8161\n",
      "Epoch 2/5\n",
      "54/54 [==============================] - 12s 214ms/step - loss: 0.0064 - accuracy: 0.9980 - val_loss: 0.4647 - val_accuracy: 0.8528\n",
      "Epoch 3/5\n",
      "54/54 [==============================] - 12s 214ms/step - loss: 0.0065 - accuracy: 0.9980 - val_loss: 0.5949 - val_accuracy: 0.8268\n",
      "Epoch 4/5\n",
      "54/54 [==============================] - 12s 215ms/step - loss: 0.0064 - accuracy: 0.9980 - val_loss: 0.6866 - val_accuracy: 0.8155\n",
      "Epoch 5/5\n",
      "54/54 [==============================] - 12s 214ms/step - loss: 0.0066 - accuracy: 0.9979 - val_loss: 0.5885 - val_accuracy: 0.8318\n",
      "Epoch 1/5\n",
      "54/54 [==============================] - 12s 213ms/step - loss: 0.0065 - accuracy: 0.9979 - val_loss: 0.6176 - val_accuracy: 0.8211\n",
      "Epoch 2/5\n",
      "54/54 [==============================] - 12s 214ms/step - loss: 0.0064 - accuracy: 0.9979 - val_loss: 0.5892 - val_accuracy: 0.8265\n",
      "Epoch 3/5\n",
      "54/54 [==============================] - 12s 214ms/step - loss: 0.0063 - accuracy: 0.9979 - val_loss: 0.7343 - val_accuracy: 0.7981\n",
      "Epoch 4/5\n",
      "54/54 [==============================] - 11s 213ms/step - loss: 0.0063 - accuracy: 0.9981 - val_loss: 0.6351 - val_accuracy: 0.8117\n",
      "Epoch 5/5\n",
      "54/54 [==============================] - 12s 213ms/step - loss: 0.0059 - accuracy: 0.9981 - val_loss: 0.6383 - val_accuracy: 0.8161\n",
      "  24/4279 [..............................] - ETA: 18s - loss: 1.8855 - accuracy: 0.5964"
     ]
    },
    {
     "name": "stderr",
     "output_type": "stream",
     "text": [
      "c:\\Users\\UX430\\anaconda3\\lib\\site-packages\\numpy\\core\\_asarray.py:171: VisibleDeprecationWarning: Creating an ndarray from ragged nested sequences (which is a list-or-tuple of lists-or-tuples-or ndarrays with different lengths or shapes) is deprecated. If you meant to do this, you must specify 'dtype=object' when creating the ndarray.\n",
      "  return array(a, dtype, copy=False, order=order, subok=True)\n"
     ]
    },
    {
     "name": "stdout",
     "output_type": "stream",
     "text": [
      "4279/4279 [==============================] - 19s 5ms/step - loss: 1.8557 - accuracy: 0.5918\n",
      "1721/1721 [==============================] - 8s 5ms/step - loss: 3.0099 - accuracy: 0.5990\n",
      "Epoch 1/5\n",
      "54/54 [==============================] - 12s 215ms/step - loss: 0.0068 - accuracy: 0.9981 - val_loss: 0.7405 - val_accuracy: 0.8056\n",
      "Epoch 2/5\n",
      "54/54 [==============================] - 12s 215ms/step - loss: 0.0063 - accuracy: 0.9982 - val_loss: 0.7518 - val_accuracy: 0.7955\n",
      "Epoch 3/5\n",
      "54/54 [==============================] - 12s 214ms/step - loss: 0.0060 - accuracy: 0.9983 - val_loss: 0.6004 - val_accuracy: 0.8211\n",
      "Epoch 4/5\n",
      "54/54 [==============================] - 12s 220ms/step - loss: 0.0061 - accuracy: 0.9982 - val_loss: 0.9017 - val_accuracy: 0.7689\n",
      "Epoch 5/5\n",
      "54/54 [==============================] - 11s 212ms/step - loss: 0.0064 - accuracy: 0.9981 - val_loss: 0.4309 - val_accuracy: 0.8491\n",
      "Epoch 1/5\n",
      "54/54 [==============================] - 13s 234ms/step - loss: 0.0069 - accuracy: 0.9978 - val_loss: 0.5272 - val_accuracy: 0.8405\n",
      "Epoch 2/5\n",
      "54/54 [==============================] - 12s 227ms/step - loss: 0.0063 - accuracy: 0.9980 - val_loss: 0.6123 - val_accuracy: 0.8245\n",
      "Epoch 3/5\n",
      "54/54 [==============================] - 13s 236ms/step - loss: 0.0061 - accuracy: 0.9981 - val_loss: 0.8054 - val_accuracy: 0.7893\n",
      "Epoch 4/5\n",
      "54/54 [==============================] - 14s 255ms/step - loss: 0.0061 - accuracy: 0.9980 - val_loss: 0.5932 - val_accuracy: 0.8298\n",
      "Epoch 5/5\n",
      "54/54 [==============================] - 12s 229ms/step - loss: 0.0062 - accuracy: 0.9981 - val_loss: 0.6033 - val_accuracy: 0.8262\n",
      "Epoch 1/5\n",
      "54/54 [==============================] - 12s 223ms/step - loss: 0.0066 - accuracy: 0.9979 - val_loss: 0.6320 - val_accuracy: 0.8184\n",
      "Epoch 2/5\n",
      "54/54 [==============================] - 13s 242ms/step - loss: 0.0061 - accuracy: 0.9980 - val_loss: 0.9016 - val_accuracy: 0.7702\n",
      "Epoch 3/5\n",
      "54/54 [==============================] - 13s 243ms/step - loss: 0.0062 - accuracy: 0.9980 - val_loss: 0.5794 - val_accuracy: 0.8258\n",
      "Epoch 4/5\n",
      "54/54 [==============================] - 12s 227ms/step - loss: 0.0059 - accuracy: 0.9981 - val_loss: 0.5520 - val_accuracy: 0.8306\n",
      "Epoch 5/5\n",
      "54/54 [==============================] - 12s 219ms/step - loss: 0.0060 - accuracy: 0.9980 - val_loss: 0.5605 - val_accuracy: 0.8285\n",
      "   1/4279 [..............................] - ETA: 0s - loss: 2.1484 - accuracy: 0.5938"
     ]
    },
    {
     "name": "stderr",
     "output_type": "stream",
     "text": [
      "c:\\Users\\UX430\\anaconda3\\lib\\site-packages\\numpy\\core\\_asarray.py:171: VisibleDeprecationWarning: Creating an ndarray from ragged nested sequences (which is a list-or-tuple of lists-or-tuples-or ndarrays with different lengths or shapes) is deprecated. If you meant to do this, you must specify 'dtype=object' when creating the ndarray.\n",
      "  return array(a, dtype, copy=False, order=order, subok=True)\n"
     ]
    },
    {
     "name": "stdout",
     "output_type": "stream",
     "text": [
      "4279/4279 [==============================] - 19s 5ms/step - loss: 2.0155 - accuracy: 0.5933\n",
      "1721/1721 [==============================] - 10s 6ms/step - loss: 2.9566 - accuracy: 0.6176\n",
      "Epoch 1/5\n",
      "54/54 [==============================] - 12s 216ms/step - loss: 0.0061 - accuracy: 0.9982 - val_loss: 0.7921 - val_accuracy: 0.7924\n",
      "Epoch 2/5\n",
      "54/54 [==============================] - 12s 213ms/step - loss: 0.0059 - accuracy: 0.9984 - val_loss: 0.6159 - val_accuracy: 0.8182\n",
      "Epoch 3/5\n",
      "54/54 [==============================] - 12s 215ms/step - loss: 0.0059 - accuracy: 0.9983 - val_loss: 0.5817 - val_accuracy: 0.8257\n",
      "Epoch 4/5\n",
      "54/54 [==============================] - 12s 214ms/step - loss: 0.0063 - accuracy: 0.9983 - val_loss: 0.5192 - val_accuracy: 0.8380\n",
      "Epoch 5/5\n",
      "54/54 [==============================] - 11s 212ms/step - loss: 0.0061 - accuracy: 0.9982 - val_loss: 0.7806 - val_accuracy: 0.7923\n",
      "Epoch 1/5\n",
      "54/54 [==============================] - 12s 215ms/step - loss: 0.0064 - accuracy: 0.9980 - val_loss: 0.7015 - val_accuracy: 0.8097\n",
      "Epoch 2/5\n",
      "54/54 [==============================] - 12s 213ms/step - loss: 0.0063 - accuracy: 0.9980 - val_loss: 0.8315 - val_accuracy: 0.7964\n",
      "Epoch 3/5\n",
      "54/54 [==============================] - 11s 213ms/step - loss: 0.0062 - accuracy: 0.9981 - val_loss: 0.5699 - val_accuracy: 0.8344\n",
      "Epoch 4/5\n",
      "54/54 [==============================] - 13s 236ms/step - loss: 0.0062 - accuracy: 0.9980 - val_loss: 0.6503 - val_accuracy: 0.8190\n",
      "Epoch 5/5\n",
      "54/54 [==============================] - 11s 213ms/step - loss: 0.0059 - accuracy: 0.9982 - val_loss: 0.8156 - val_accuracy: 0.8005\n",
      "Epoch 1/5\n",
      "54/54 [==============================] - 12s 220ms/step - loss: 0.0062 - accuracy: 0.9981 - val_loss: 0.6053 - val_accuracy: 0.8224\n",
      "Epoch 2/5\n",
      "54/54 [==============================] - 12s 219ms/step - loss: 0.0059 - accuracy: 0.9980 - val_loss: 0.4935 - val_accuracy: 0.8384\n",
      "Epoch 3/5\n",
      "54/54 [==============================] - 12s 219ms/step - loss: 0.0058 - accuracy: 0.9981 - val_loss: 0.9030 - val_accuracy: 0.7743\n",
      "Epoch 4/5\n",
      "54/54 [==============================] - 12s 218ms/step - loss: 0.0064 - accuracy: 0.9979 - val_loss: 0.5546 - val_accuracy: 0.8273\n",
      "Epoch 5/5\n",
      "54/54 [==============================] - 12s 217ms/step - loss: 0.0059 - accuracy: 0.9981 - val_loss: 0.4128 - val_accuracy: 0.8526\n",
      "  12/4279 [..............................] - ETA: 19s - loss: 2.7004 - accuracy: 0.6094"
     ]
    },
    {
     "name": "stderr",
     "output_type": "stream",
     "text": [
      "c:\\Users\\UX430\\anaconda3\\lib\\site-packages\\numpy\\core\\_asarray.py:171: VisibleDeprecationWarning: Creating an ndarray from ragged nested sequences (which is a list-or-tuple of lists-or-tuples-or ndarrays with different lengths or shapes) is deprecated. If you meant to do this, you must specify 'dtype=object' when creating the ndarray.\n",
      "  return array(a, dtype, copy=False, order=order, subok=True)\n"
     ]
    },
    {
     "name": "stdout",
     "output_type": "stream",
     "text": [
      "4279/4279 [==============================] - 19s 4ms/step - loss: 2.7307 - accuracy: 0.5923 4s - loss: 2.7286 - accuracy: 0. - ETA: 3s - loss: 2.7298 - accuracy:  - ETA: 3s - l - ETA: 0s - los\n",
      "1721/1721 [==============================] - 8s 5ms/step - loss: 3.3669 - accuracy: 0.5978\n",
      "Epoch 1/5\n",
      "54/54 [==============================] - 12s 218ms/step - loss: 0.0067 - accuracy: 0.9983 - val_loss: 0.7341 - val_accuracy: 0.7993\n",
      "Epoch 2/5\n",
      "54/54 [==============================] - 12s 219ms/step - loss: 0.0059 - accuracy: 0.9983 - val_loss: 0.6709 - val_accuracy: 0.8084\n",
      "Epoch 3/5\n",
      "54/54 [==============================] - 12s 219ms/step - loss: 0.0058 - accuracy: 0.9984 - val_loss: 0.5303 - val_accuracy: 0.8337\n",
      "Epoch 4/5\n",
      "54/54 [==============================] - 12s 218ms/step - loss: 0.0063 - accuracy: 0.9982 - val_loss: 0.6994 - val_accuracy: 0.7977\n",
      "Epoch 5/5\n",
      "54/54 [==============================] - 12s 217ms/step - loss: 0.0058 - accuracy: 0.9984 - val_loss: 0.7557 - val_accuracy: 0.7952\n",
      "Epoch 1/5\n",
      "54/54 [==============================] - 12s 220ms/step - loss: 0.0064 - accuracy: 0.9981 - val_loss: 0.5858 - val_accuracy: 0.8311\n",
      "Epoch 2/5\n",
      "54/54 [==============================] - 12s 219ms/step - loss: 0.0063 - accuracy: 0.9980 - val_loss: 0.6950 - val_accuracy: 0.8068\n",
      "Epoch 3/5\n",
      "54/54 [==============================] - 12s 226ms/step - loss: 0.0062 - accuracy: 0.9981 - val_loss: 0.5659 - val_accuracy: 0.8351\n",
      "Epoch 4/5\n",
      "54/54 [==============================] - 12s 226ms/step - loss: 0.0060 - accuracy: 0.9981 - val_loss: 0.5573 - val_accuracy: 0.8363\n",
      "Epoch 5/5\n",
      "54/54 [==============================] - 12s 220ms/step - loss: 0.0062 - accuracy: 0.9980 - val_loss: 0.6617 - val_accuracy: 0.8211\n",
      "Epoch 1/5\n",
      "54/54 [==============================] - 12s 224ms/step - loss: 0.0063 - accuracy: 0.9979 - val_loss: 0.6025 - val_accuracy: 0.8246\n",
      "Epoch 2/5\n",
      "54/54 [==============================] - 12s 223ms/step - loss: 0.0059 - accuracy: 0.9981 - val_loss: 0.5739 - val_accuracy: 0.8260\n",
      "Epoch 3/5\n",
      "54/54 [==============================] - 12s 222ms/step - loss: 0.0060 - accuracy: 0.9979 - val_loss: 0.5042 - val_accuracy: 0.8385\n",
      "Epoch 4/5\n",
      "54/54 [==============================] - 12s 222ms/step - loss: 0.0059 - accuracy: 0.9980 - val_loss: 0.4434 - val_accuracy: 0.8516\n",
      "Epoch 5/5\n",
      "54/54 [==============================] - 12s 220ms/step - loss: 0.0057 - accuracy: 0.9981 - val_loss: 0.6162 - val_accuracy: 0.8248\n",
      "  12/4279 [..............................] - ETA: 19s - loss: 2.6198 - accuracy: 0.6068"
     ]
    },
    {
     "name": "stderr",
     "output_type": "stream",
     "text": [
      "c:\\Users\\UX430\\anaconda3\\lib\\site-packages\\numpy\\core\\_asarray.py:171: VisibleDeprecationWarning: Creating an ndarray from ragged nested sequences (which is a list-or-tuple of lists-or-tuples-or ndarrays with different lengths or shapes) is deprecated. If you meant to do this, you must specify 'dtype=object' when creating the ndarray.\n",
      "  return array(a, dtype, copy=False, order=order, subok=True)\n"
     ]
    },
    {
     "name": "stdout",
     "output_type": "stream",
     "text": [
      "4279/4279 [==============================] - 19s 5ms/step - loss: 2.6420 - accuracy: 0.5927\n",
      "1721/1721 [==============================] - 11s 6ms/step - loss: 3.4309 - accuracy: 0.6075\n",
      "Epoch 1/5\n",
      "54/54 [==============================] - 12s 222ms/step - loss: 0.0061 - accuracy: 0.9982 - val_loss: 0.4842 - val_accuracy: 0.8387\n",
      "Epoch 2/5\n",
      "54/54 [==============================] - 12s 222ms/step - loss: 0.0060 - accuracy: 0.9983 - val_loss: 0.7482 - val_accuracy: 0.7938\n",
      "Epoch 3/5\n",
      "54/54 [==============================] - 12s 220ms/step - loss: 0.0059 - accuracy: 0.9983 - val_loss: 0.7849 - val_accuracy: 0.7959\n",
      "Epoch 4/5\n",
      "54/54 [==============================] - 12s 220ms/step - loss: 0.0058 - accuracy: 0.9984 - val_loss: 0.6058 - val_accuracy: 0.8218\n",
      "Epoch 5/5\n",
      "54/54 [==============================] - 12s 229ms/step - loss: 0.0058 - accuracy: 0.9984 - val_loss: 0.5761 - val_accuracy: 0.8293\n",
      "Epoch 1/5\n",
      "54/54 [==============================] - 12s 222ms/step - loss: 0.0062 - accuracy: 0.9980 - val_loss: 0.6120 - val_accuracy: 0.8259\n",
      "Epoch 2/5\n",
      "54/54 [==============================] - 12s 220ms/step - loss: 0.0060 - accuracy: 0.9982 - val_loss: 0.6507 - val_accuracy: 0.8230\n",
      "Epoch 3/5\n",
      "54/54 [==============================] - 12s 218ms/step - loss: 0.0059 - accuracy: 0.9981 - val_loss: 0.9822 - val_accuracy: 0.7762\n",
      "Epoch 4/5\n",
      "54/54 [==============================] - 12s 219ms/step - loss: 0.0060 - accuracy: 0.9981 - val_loss: 0.6322 - val_accuracy: 0.8225\n",
      "Epoch 5/5\n",
      "54/54 [==============================] - 12s 221ms/step - loss: 0.0059 - accuracy: 0.9981 - val_loss: 0.6207 - val_accuracy: 0.8258\n",
      "Epoch 1/5\n",
      "54/54 [==============================] - 12s 223ms/step - loss: 0.0066 - accuracy: 0.9977 - val_loss: 0.5682 - val_accuracy: 0.8312\n",
      "Epoch 2/5\n",
      "54/54 [==============================] - 12s 221ms/step - loss: 0.0057 - accuracy: 0.9981 - val_loss: 0.5785 - val_accuracy: 0.8244\n",
      "Epoch 3/5\n",
      "54/54 [==============================] - 12s 222ms/step - loss: 0.0056 - accuracy: 0.9982 - val_loss: 0.6348 - val_accuracy: 0.8175\n",
      "Epoch 4/5\n",
      "54/54 [==============================] - 12s 222ms/step - loss: 0.0058 - accuracy: 0.9980 - val_loss: 0.6716 - val_accuracy: 0.8155\n",
      "Epoch 5/5\n",
      "54/54 [==============================] - 12s 221ms/step - loss: 0.0058 - accuracy: 0.9980 - val_loss: 0.8049 - val_accuracy: 0.7959\n",
      "  11/4279 [..............................] - ETA: 20s - loss: 2.9871 - accuracy: 0.6051"
     ]
    },
    {
     "name": "stderr",
     "output_type": "stream",
     "text": [
      "c:\\Users\\UX430\\anaconda3\\lib\\site-packages\\numpy\\core\\_asarray.py:171: VisibleDeprecationWarning: Creating an ndarray from ragged nested sequences (which is a list-or-tuple of lists-or-tuples-or ndarrays with different lengths or shapes) is deprecated. If you meant to do this, you must specify 'dtype=object' when creating the ndarray.\n",
      "  return array(a, dtype, copy=False, order=order, subok=True)\n"
     ]
    },
    {
     "name": "stdout",
     "output_type": "stream",
     "text": [
      "4279/4279 [==============================] - 20s 5ms/step - loss: 2.9996 - accuracy: 0.5923 0s - loss: 2.9\n",
      "1721/1721 [==============================] - 8s 5ms/step - loss: 3.5532 - accuracy: 0.6056\n"
     ]
    }
   ],
   "source": [
    "# Values saved each iteration \n",
    "loss_it = []\n",
    "accuracy_it = []\n",
    "f1_it = []\n",
    "precision_it = []\n",
    "recall_it = []\n",
    "\n",
    "for i in range(global_updates): \n",
    "    w_list = []\n",
    "    for node in range(num_nodes): \n",
    "        cp = global_model # create a copy of the global model\n",
    "        if node == 0:\n",
    "            x, y = x1, y1\n",
    "        elif node == 1:\n",
    "            x, y = x2, y2\n",
    "        else:\n",
    "            x, y = x3, y3\n",
    "        local_model, local_loss, local_acc, local_val_loss, local_val_acc = train_local_model(cp, node, x, y)\n",
    "        w_list.append(local_model.get_weights())\n",
    "\n",
    "    avg_w = aggregate(w_list)\n",
    "    global_model.set_weights(avg_w) # apply gradients to global model\n",
    "    loss_basic, accuracy_basic, f1_basic, precision_basic, recall_basic = evaluation(global_model, xbasic, ybasic) # Evaluate with test basic to know progress\n",
    "    loss_plus, accuracy_plus, f1_plus, precision_plus, recall_plus = evaluation(global_model, xplus, yplus) # Evaluate with test plus to know progress\n",
    "\n",
    "    loss_it.append([loss_basic, loss_plus])\n",
    "    accuracy_it.append([accuracy_basic, accuracy_plus])\n",
    "    f1_it.append([f1_basic, f1_plus])\n",
    "    precision_it.append([precision_basic, precision_plus])\n",
    "    recall_it.append([recall_basic, recall_plus])\n",
    "\n",
    "\n",
    "global_model.save('C:/Users/UX430/Documents/thesis/code/models/id1913.hdf5')"
   ]
  },
  {
   "cell_type": "code",
   "execution_count": 89,
   "metadata": {},
   "outputs": [
    {
     "name": "stdout",
     "output_type": "stream",
     "text": [
      "Loss for iterations:  [[0.19311249256134033, 0.42053696513175964], [0.207519069314003, 0.7487212419509888], [0.2153296023607254, 1.1773408651351929], [0.20308400690555573, 1.4116877317428589], [0.39093777537345886, 1.8519067764282227], [0.584341287612915, 2.159454822540283], [0.8782985806465149, 2.4470252990722656], [1.0924036502838135, 2.6914265155792236], [1.4177628755569458, 2.7790586948394775], [1.517730474472046, 2.782214641571045], [1.855697512626648, 3.0099053382873535], [2.0155065059661865, 2.9566304683685303], [2.730656385421753, 3.3668792247772217], [2.6420443058013916, 3.4309136867523193], [2.999624252319336, 3.5531585216522217]]\n",
      "Accuracy for iterations:  [[0.9832963347434998, 0.8768618702888489], [0.9705074429512024, 0.7520707845687866], [0.9358657598495483, 0.6496766805648804], [0.9405109882354736, 0.6331831812858582], [0.7832539677619934, 0.6055547595024109], [0.6764585375785828, 0.5994696021080017], [0.5852347612380981, 0.5861367583274841], [0.5860089659690857, 0.5898967981338501], [0.589609682559967, 0.5921673774719238], [0.5915013551712036, 0.6049734950065613], [0.5917862057685852, 0.5989609956741333], [0.5933272838592529, 0.6175797581672668], [0.5923413038253784, 0.5977621078491211], [0.5926699638366699, 0.6075347065925598], [0.5923193693161011, 0.6056455969810486]]\n",
      "F1 for iterations:  [[0.9832949929066395, 0.873645204794908], [0.9704692950566033, 0.7279463241648328], [0.935452544522304, 0.5785239881568177], [0.9401816755690118, 0.5496163302677338], [0.7702931954431069, 0.4982837648268967], [0.6323712028956632, 0.4862616916422521], [0.485352749154855, 0.4590393697455547], [0.4865326474370992, 0.4665678875188608], [0.4937121323099557, 0.4710276225747662], [0.49748054461644065, 0.4963882385804137], [0.4978991781580321, 0.48466450374289477], [0.5012999557431742, 0.5212029906300492], [0.49920533841564696, 0.48285546618168246], [0.5004226970923659, 0.5018158724507537], [0.49973910462752014, 0.49776575214342295]]\n",
      "Precision for iterations:  [[0.9832972612574984, 0.8930145253770523], [0.97101055011986, 0.8174675981024487], [0.941068886564734, 0.7680883851976742], [0.9447796421082003, 0.7636869910404942], [0.8402303743678506, 0.7533603547975553], [0.7870100291609804, 0.7513346407231876], [0.7386118013638615, 0.7462043342586809], [0.7404486720949146, 0.7503218207626704], [0.7394886496729776, 0.7528689572115208], [0.7389026271131188, 0.7583546736055803], [0.7395649907829714, 0.7555486034185658], [0.7373795412344918, 0.7579483826840964], [0.7383634101596751, 0.7506568475934287], [0.7354758715877341, 0.7561270502891071], [0.7355091256181312, 0.7580904276221205]]\n",
      "Recall for iterations:  [[0.983296327675363, 0.8768618760444671], [0.9705074644307459, 0.752070769454334], [0.9358657863215402, 0.6496766693308145], [0.940510970229922, 0.6331831722734869], [0.783253965935318, 0.6055547482380295], [0.6764585585322388, 0.5994695923853811], [0.5852347424698355, 0.5861367434425634], [0.5860089397878991, 0.58989682482017], [0.5896096876917234, 0.592167405362203], [0.5915013584971808, 0.6049734796192691], [0.5917862046802419, 0.5989609823439657], [0.5933272955680855, 0.6175797427886361], [0.5923412895497969, 0.5977621158177723], [0.5926699582225599, 0.6075346944706823], [0.5923193783049461, 0.6056455714597109]]\n"
     ]
    }
   ],
   "source": [
    "print(\"Loss for iterations: \", loss_it)\n",
    "print(\"Accuracy for iterations: \", accuracy_it)\n",
    "print(\"F1 for iterations: \", f1_it)\n",
    "print(\"Precision for iterations: \", precision_it)\n",
    "print(\"Recall for iterations: \", recall_it)"
   ]
  },
  {
   "cell_type": "markdown",
   "metadata": {},
   "source": [
    "#### #Epochs = 10, #Iterations = 5"
   ]
  },
  {
   "cell_type": "code",
   "execution_count": 90,
   "metadata": {},
   "outputs": [],
   "source": [
    "# Define \n",
    "node_datasets = [training1, training2, training3]\n",
    "num_nodes = 3\n",
    "global_updates = 5\n",
    "# Define model training parameters\n",
    "loss_fct = \"categorical_crossentropy\"\n",
    "metrics = ['accuracy']\n",
    "local_epochs = 10"
   ]
  },
  {
   "cell_type": "code",
   "execution_count": 91,
   "metadata": {},
   "outputs": [],
   "source": [
    "def train_local_model(model, node, x_train, y_train): \n",
    "    filepath = 'C:/Users/UX430/Documents/thesis/code/models/node'+str(node)+'id1914.hdf5'\n",
    "    callbacks = [\n",
    "            keras.callbacks.EarlyStopping(\n",
    "                monitor = 'val_loss', # Use accuracy to monitor the model\n",
    "                patience = 10 # Stop after 10 steps with lower accuracy\n",
    "            ),\n",
    "            keras.callbacks.ModelCheckpoint(\n",
    "                filepath = filepath, # file where the checkpoint is saved\n",
    "                monitor = 'val_loss', # Don't overwrite the saved model unless val_loss is worse\n",
    "                save_best_only = True)]# Only save model if it is the best\n",
    "    optimizer = keras.optimizers.Adam(learning_rate=5e-4)\n",
    "    model.compile(optimizer=optimizer, loss=loss_fct, metrics=metrics)\n",
    "    history = model.fit(x_train, y_train, epochs=local_epochs, validation_split=0.2, callbacks=callbacks, batch_size=2048)\n",
    "    return model, history.history['loss'], history.history['accuracy'], history.history['val_loss'], history.history['val_accuracy']"
   ]
  },
  {
   "cell_type": "code",
   "execution_count": 92,
   "metadata": {},
   "outputs": [],
   "source": [
    "global_model = build_model((24,1,1))"
   ]
  },
  {
   "cell_type": "code",
   "execution_count": 93,
   "metadata": {},
   "outputs": [
    {
     "name": "stdout",
     "output_type": "stream",
     "text": [
      "Epoch 1/10\n"
     ]
    },
    {
     "name": "stdout",
     "output_type": "stream",
     "text": [
      "54/54 [==============================] - 12s 228ms/step - loss: 0.2533 - accuracy: 0.9727 - val_loss: 1.8887 - val_accuracy: 0.6399\n",
      "Epoch 2/10\n",
      "54/54 [==============================] - 12s 228ms/step - loss: 0.0327 - accuracy: 0.9924 - val_loss: 0.6309 - val_accuracy: 0.6492\n",
      "Epoch 3/10\n",
      "54/54 [==============================] - 12s 225ms/step - loss: 0.0257 - accuracy: 0.9926 - val_loss: 0.6105 - val_accuracy: 0.6527\n",
      "Epoch 4/10\n",
      "54/54 [==============================] - 12s 225ms/step - loss: 0.0239 - accuracy: 0.9926 - val_loss: 0.4485 - val_accuracy: 0.6978\n",
      "Epoch 5/10\n",
      "54/54 [==============================] - 12s 225ms/step - loss: 0.0226 - accuracy: 0.9928 - val_loss: 0.5086 - val_accuracy: 0.6659\n",
      "Epoch 6/10\n",
      "54/54 [==============================] - 12s 223ms/step - loss: 0.0208 - accuracy: 0.9932 - val_loss: 0.5316 - val_accuracy: 0.6664\n",
      "Epoch 7/10\n",
      "54/54 [==============================] - 12s 226ms/step - loss: 0.0193 - accuracy: 0.9939 - val_loss: 0.4171 - val_accuracy: 0.7278\n",
      "Epoch 8/10\n",
      "54/54 [==============================] - 12s 225ms/step - loss: 0.0179 - accuracy: 0.9945 - val_loss: 0.4257 - val_accuracy: 0.7440\n",
      "Epoch 9/10\n",
      "54/54 [==============================] - 12s 225ms/step - loss: 0.0169 - accuracy: 0.9949 - val_loss: 0.2701 - val_accuracy: 0.8366\n",
      "Epoch 10/10\n",
      "54/54 [==============================] - 12s 223ms/step - loss: 0.0159 - accuracy: 0.9953 - val_loss: 0.4677 - val_accuracy: 0.7644\n",
      "Epoch 1/10\n",
      "54/54 [==============================] - 12s 229ms/step - loss: 0.0159 - accuracy: 0.9951 - val_loss: 0.2433 - val_accuracy: 0.8608\n",
      "Epoch 2/10\n",
      "54/54 [==============================] - 12s 225ms/step - loss: 0.0148 - accuracy: 0.9956 - val_loss: 0.3793 - val_accuracy: 0.8189\n",
      "Epoch 3/10\n",
      "54/54 [==============================] - 12s 225ms/step - loss: 0.0144 - accuracy: 0.9957 - val_loss: 0.4054 - val_accuracy: 0.8203\n",
      "Epoch 4/10\n",
      "54/54 [==============================] - 12s 224ms/step - loss: 0.0140 - accuracy: 0.9960 - val_loss: 0.4509 - val_accuracy: 0.8122\n",
      "Epoch 5/10\n",
      "54/54 [==============================] - 12s 226ms/step - loss: 0.0137 - accuracy: 0.9959 - val_loss: 0.5258 - val_accuracy: 0.8009\n",
      "Epoch 6/10\n",
      "54/54 [==============================] - 12s 225ms/step - loss: 0.0138 - accuracy: 0.9959 - val_loss: 0.5045 - val_accuracy: 0.8009\n",
      "Epoch 7/10\n",
      "54/54 [==============================] - 12s 225ms/step - loss: 0.0137 - accuracy: 0.9960 - val_loss: 0.6059 - val_accuracy: 0.7778\n",
      "Epoch 8/10\n",
      "54/54 [==============================] - 12s 228ms/step - loss: 0.0138 - accuracy: 0.9960 - val_loss: 0.8166 - val_accuracy: 0.7375\n",
      "Epoch 9/10\n",
      "54/54 [==============================] - 12s 226ms/step - loss: 0.0134 - accuracy: 0.9962 - val_loss: 0.3622 - val_accuracy: 0.8492\n",
      "Epoch 10/10\n",
      "54/54 [==============================] - 12s 226ms/step - loss: 0.0135 - accuracy: 0.9961 - val_loss: 0.4617 - val_accuracy: 0.8216\n",
      "Epoch 1/10\n",
      "54/54 [==============================] - 12s 228ms/step - loss: 0.0125 - accuracy: 0.9962 - val_loss: 0.4928 - val_accuracy: 0.8142\n",
      "Epoch 2/10\n",
      "54/54 [==============================] - 12s 228ms/step - loss: 0.0122 - accuracy: 0.9963 - val_loss: 0.3712 - val_accuracy: 0.8496\n",
      "Epoch 3/10\n",
      "54/54 [==============================] - 12s 229ms/step - loss: 0.0121 - accuracy: 0.9962 - val_loss: 0.4120 - val_accuracy: 0.8399\n",
      "Epoch 4/10\n",
      "54/54 [==============================] - 12s 225ms/step - loss: 0.0121 - accuracy: 0.9963 - val_loss: 0.5978 - val_accuracy: 0.7882\n",
      "Epoch 5/10\n",
      "54/54 [==============================] - 12s 226ms/step - loss: 0.0117 - accuracy: 0.9965 - val_loss: 0.4251 - val_accuracy: 0.8406\n",
      "Epoch 6/10\n",
      "54/54 [==============================] - 12s 226ms/step - loss: 0.0118 - accuracy: 0.9964 - val_loss: 0.4450 - val_accuracy: 0.8327\n",
      "Epoch 7/10\n",
      "54/54 [==============================] - 12s 226ms/step - loss: 0.0114 - accuracy: 0.9966 - val_loss: 0.4233 - val_accuracy: 0.8437\n",
      "Epoch 8/10\n",
      "54/54 [==============================] - 12s 227ms/step - loss: 0.0113 - accuracy: 0.9965 - val_loss: 0.5763 - val_accuracy: 0.8017\n",
      "Epoch 9/10\n",
      "54/54 [==============================] - 12s 227ms/step - loss: 0.0109 - accuracy: 0.9969 - val_loss: 0.5395 - val_accuracy: 0.8174\n",
      "Epoch 10/10\n",
      "54/54 [==============================] - 12s 228ms/step - loss: 0.0108 - accuracy: 0.9969 - val_loss: 0.5231 - val_accuracy: 0.8258\n",
      "  11/4279 [..............................] - ETA: 20s - loss: 0.1214 - accuracy: 0.9915"
     ]
    },
    {
     "name": "stderr",
     "output_type": "stream",
     "text": [
      "c:\\Users\\UX430\\anaconda3\\lib\\site-packages\\numpy\\core\\_asarray.py:171: VisibleDeprecationWarning: Creating an ndarray from ragged nested sequences (which is a list-or-tuple of lists-or-tuples-or ndarrays with different lengths or shapes) is deprecated. If you meant to do this, you must specify 'dtype=object' when creating the ndarray.\n",
      "  return array(a, dtype, copy=False, order=order, subok=True)\n"
     ]
    },
    {
     "name": "stdout",
     "output_type": "stream",
     "text": [
      "4279/4279 [==============================] - 21s 5ms/step - loss: 0.1365 - accuracy: 0.9856\n",
      "1721/1721 [==============================] - 8s 5ms/step - loss: 0.4283 - accuracy: 0.8469\n",
      "Epoch 1/10\n",
      "54/54 [==============================] - 12s 229ms/step - loss: 0.0140 - accuracy: 0.9961 - val_loss: 0.4353 - val_accuracy: 0.8186\n",
      "Epoch 2/10\n",
      "54/54 [==============================] - 12s 228ms/step - loss: 0.0132 - accuracy: 0.9962 - val_loss: 0.4390 - val_accuracy: 0.8173\n",
      "Epoch 3/10\n",
      "54/54 [==============================] - 12s 227ms/step - loss: 0.0134 - accuracy: 0.9963 - val_loss: 0.5241 - val_accuracy: 0.8004\n",
      "Epoch 4/10\n",
      "54/54 [==============================] - 12s 228ms/step - loss: 0.0129 - accuracy: 0.9965 - val_loss: 0.6577 - val_accuracy: 0.7691\n",
      "Epoch 5/10\n",
      "54/54 [==============================] - 12s 227ms/step - loss: 0.0129 - accuracy: 0.9965 - val_loss: 0.6586 - val_accuracy: 0.7787\n",
      "Epoch 6/10\n",
      "54/54 [==============================] - 12s 226ms/step - loss: 0.0128 - accuracy: 0.9964 - val_loss: 0.4950 - val_accuracy: 0.8198\n",
      "Epoch 7/10\n",
      "54/54 [==============================] - 12s 226ms/step - loss: 0.0126 - accuracy: 0.9965 - val_loss: 0.4589 - val_accuracy: 0.8243\n",
      "Epoch 8/10\n",
      "54/54 [==============================] - 12s 227ms/step - loss: 0.0120 - accuracy: 0.9968 - val_loss: 0.6360 - val_accuracy: 0.7764\n",
      "Epoch 9/10\n",
      "54/54 [==============================] - 12s 227ms/step - loss: 0.0118 - accuracy: 0.9966 - val_loss: 0.4222 - val_accuracy: 0.8447\n",
      "Epoch 10/10\n",
      "54/54 [==============================] - 12s 225ms/step - loss: 0.0111 - accuracy: 0.9967 - val_loss: 0.5355 - val_accuracy: 0.8155\n",
      "Epoch 1/10\n",
      "54/54 [==============================] - 12s 230ms/step - loss: 0.0105 - accuracy: 0.9968 - val_loss: 0.4303 - val_accuracy: 0.8487\n",
      "Epoch 2/10\n",
      "54/54 [==============================] - 12s 227ms/step - loss: 0.0102 - accuracy: 0.9969 - val_loss: 0.6857 - val_accuracy: 0.7878\n",
      "Epoch 3/10\n",
      "54/54 [==============================] - 12s 227ms/step - loss: 0.0101 - accuracy: 0.9970 - val_loss: 0.4041 - val_accuracy: 0.8565\n",
      "Epoch 4/10\n",
      "54/54 [==============================] - 12s 229ms/step - loss: 0.0098 - accuracy: 0.9969 - val_loss: 0.5093 - val_accuracy: 0.8389\n",
      "Epoch 5/10\n",
      "54/54 [==============================] - 12s 228ms/step - loss: 0.0095 - accuracy: 0.9970 - val_loss: 0.5339 - val_accuracy: 0.8351\n",
      "Epoch 6/10\n",
      "54/54 [==============================] - 12s 226ms/step - loss: 0.0094 - accuracy: 0.9970 - val_loss: 0.7840 - val_accuracy: 0.7723\n",
      "Epoch 7/10\n",
      "54/54 [==============================] - 12s 228ms/step - loss: 0.0091 - accuracy: 0.9971 - val_loss: 0.6158 - val_accuracy: 0.8194\n",
      "Epoch 8/10\n",
      "54/54 [==============================] - 12s 225ms/step - loss: 0.0090 - accuracy: 0.9972 - val_loss: 0.5213 - val_accuracy: 0.8384\n",
      "Epoch 9/10\n",
      "54/54 [==============================] - 12s 225ms/step - loss: 0.0089 - accuracy: 0.9972 - val_loss: 0.5897 - val_accuracy: 0.8261\n",
      "Epoch 10/10\n",
      "54/54 [==============================] - 12s 227ms/step - loss: 0.0086 - accuracy: 0.9974 - val_loss: 0.6001 - val_accuracy: 0.8209\n",
      "Epoch 1/10\n",
      "54/54 [==============================] - 12s 229ms/step - loss: 0.0090 - accuracy: 0.9971 - val_loss: 0.5942 - val_accuracy: 0.8134\n",
      "Epoch 2/10\n",
      "54/54 [==============================] - 12s 231ms/step - loss: 0.0090 - accuracy: 0.9970 - val_loss: 0.5847 - val_accuracy: 0.8178\n",
      "Epoch 3/10\n",
      "54/54 [==============================] - 12s 228ms/step - loss: 0.0088 - accuracy: 0.9972 - val_loss: 0.6703 - val_accuracy: 0.8039\n",
      "Epoch 4/10\n",
      "54/54 [==============================] - 12s 229ms/step - loss: 0.0087 - accuracy: 0.9970 - val_loss: 0.4126 - val_accuracy: 0.8540\n",
      "Epoch 5/10\n",
      "54/54 [==============================] - 12s 230ms/step - loss: 0.0085 - accuracy: 0.9973 - val_loss: 0.4991 - val_accuracy: 0.8348\n",
      "Epoch 6/10\n",
      "54/54 [==============================] - 12s 228ms/step - loss: 0.0083 - accuracy: 0.9974 - val_loss: 0.6761 - val_accuracy: 0.7997\n",
      "Epoch 7/10\n",
      "54/54 [==============================] - 13s 233ms/step - loss: 0.0082 - accuracy: 0.9976 - val_loss: 0.5926 - val_accuracy: 0.8146\n",
      "Epoch 8/10\n",
      "54/54 [==============================] - 12s 227ms/step - loss: 0.0082 - accuracy: 0.9974 - val_loss: 0.6697 - val_accuracy: 0.8043\n",
      "Epoch 9/10\n",
      "54/54 [==============================] - 12s 227ms/step - loss: 0.0081 - accuracy: 0.9974 - val_loss: 0.8463 - val_accuracy: 0.7782\n",
      "Epoch 10/10\n",
      "54/54 [==============================] - 12s 228ms/step - loss: 0.0083 - accuracy: 0.9973 - val_loss: 0.4811 - val_accuracy: 0.8376\n",
      "  21/4279 [..............................] - ETA: 21s - loss: 0.2570 - accuracy: 0.8646"
     ]
    },
    {
     "name": "stderr",
     "output_type": "stream",
     "text": [
      "c:\\Users\\UX430\\anaconda3\\lib\\site-packages\\numpy\\core\\_asarray.py:171: VisibleDeprecationWarning: Creating an ndarray from ragged nested sequences (which is a list-or-tuple of lists-or-tuples-or ndarrays with different lengths or shapes) is deprecated. If you meant to do this, you must specify 'dtype=object' when creating the ndarray.\n",
      "  return array(a, dtype, copy=False, order=order, subok=True)\n"
     ]
    },
    {
     "name": "stdout",
     "output_type": "stream",
     "text": [
      "4279/4279 [==============================] - 21s 5ms/step - loss: 0.2652 - accuracy: 0.8604\n",
      "1721/1721 [==============================] - 10s 6ms/step - loss: 1.0025 - accuracy: 0.6725\n",
      "Epoch 1/10\n",
      "54/54 [==============================] - 12s 231ms/step - loss: 0.0093 - accuracy: 0.9973 - val_loss: 0.6391 - val_accuracy: 0.7982\n",
      "Epoch 2/10\n",
      "54/54 [==============================] - 12s 231ms/step - loss: 0.0092 - accuracy: 0.9973 - val_loss: 0.5742 - val_accuracy: 0.8200\n",
      "Epoch 3/10\n",
      "54/54 [==============================] - 12s 230ms/step - loss: 0.0094 - accuracy: 0.9975 - val_loss: 0.5256 - val_accuracy: 0.8251\n",
      "Epoch 4/10\n",
      "54/54 [==============================] - 12s 229ms/step - loss: 0.0089 - accuracy: 0.9973 - val_loss: 0.8143 - val_accuracy: 0.7635\n",
      "Epoch 5/10\n",
      "54/54 [==============================] - 12s 228ms/step - loss: 0.0084 - accuracy: 0.9977 - val_loss: 0.6434 - val_accuracy: 0.8057\n",
      "Epoch 6/10\n",
      "54/54 [==============================] - 12s 229ms/step - loss: 0.0086 - accuracy: 0.9974 - val_loss: 0.4994 - val_accuracy: 0.8319\n",
      "Epoch 7/10\n",
      "54/54 [==============================] - 12s 229ms/step - loss: 0.0088 - accuracy: 0.9977 - val_loss: 0.7344 - val_accuracy: 0.7839\n",
      "Epoch 8/10\n",
      "54/54 [==============================] - 12s 230ms/step - loss: 0.0083 - accuracy: 0.9977 - val_loss: 0.7078 - val_accuracy: 0.7863\n",
      "Epoch 9/10\n",
      "54/54 [==============================] - 12s 228ms/step - loss: 0.0084 - accuracy: 0.9976 - val_loss: 0.8231 - val_accuracy: 0.7617\n",
      "Epoch 10/10\n",
      "54/54 [==============================] - 12s 230ms/step - loss: 0.0080 - accuracy: 0.9977 - val_loss: 0.6728 - val_accuracy: 0.8021\n",
      "Epoch 1/10\n",
      "54/54 [==============================] - 12s 226ms/step - loss: 0.0090 - accuracy: 0.9971 - val_loss: 0.5634 - val_accuracy: 0.8276\n",
      "Epoch 2/10\n",
      "54/54 [==============================] - 12s 224ms/step - loss: 0.0078 - accuracy: 0.9977 - val_loss: 0.6158 - val_accuracy: 0.8213\n",
      "Epoch 3/10\n",
      "54/54 [==============================] - 12s 222ms/step - loss: 0.0078 - accuracy: 0.9976 - val_loss: 0.5708 - val_accuracy: 0.8286\n",
      "Epoch 4/10\n",
      "54/54 [==============================] - 12s 230ms/step - loss: 0.0076 - accuracy: 0.9977 - val_loss: 0.7472 - val_accuracy: 0.7897\n",
      "Epoch 5/10\n",
      "54/54 [==============================] - 12s 223ms/step - loss: 0.0076 - accuracy: 0.9977 - val_loss: 0.5029 - val_accuracy: 0.8366\n",
      "Epoch 6/10\n",
      "54/54 [==============================] - 12s 226ms/step - loss: 0.0074 - accuracy: 0.9978 - val_loss: 0.4605 - val_accuracy: 0.8393\n",
      "Epoch 7/10\n",
      "54/54 [==============================] - 12s 224ms/step - loss: 0.0076 - accuracy: 0.9976 - val_loss: 0.7782 - val_accuracy: 0.7885\n",
      "Epoch 8/10\n",
      "54/54 [==============================] - 12s 222ms/step - loss: 0.0074 - accuracy: 0.9977 - val_loss: 0.7014 - val_accuracy: 0.8023\n",
      "Epoch 9/10\n",
      "54/54 [==============================] - 12s 224ms/step - loss: 0.0074 - accuracy: 0.9977 - val_loss: 0.6007 - val_accuracy: 0.8206\n",
      "Epoch 10/10\n",
      "54/54 [==============================] - 12s 224ms/step - loss: 0.0074 - accuracy: 0.9975 - val_loss: 0.7221 - val_accuracy: 0.8069\n",
      "Epoch 1/10\n",
      "54/54 [==============================] - 12s 229ms/step - loss: 0.0081 - accuracy: 0.9973 - val_loss: 0.3902 - val_accuracy: 0.8556\n",
      "Epoch 2/10\n",
      "54/54 [==============================] - 12s 227ms/step - loss: 0.0083 - accuracy: 0.9972 - val_loss: 0.8211 - val_accuracy: 0.7707\n",
      "Epoch 3/10\n",
      "54/54 [==============================] - 12s 226ms/step - loss: 0.0075 - accuracy: 0.9976 - val_loss: 0.4809 - val_accuracy: 0.8421\n",
      "Epoch 4/10\n",
      "54/54 [==============================] - 12s 227ms/step - loss: 0.0074 - accuracy: 0.9975 - val_loss: 0.7213 - val_accuracy: 0.7897\n",
      "Epoch 5/10\n",
      "54/54 [==============================] - 12s 226ms/step - loss: 0.0079 - accuracy: 0.9973 - val_loss: 0.8907 - val_accuracy: 0.7561\n",
      "Epoch 6/10\n",
      "54/54 [==============================] - 12s 226ms/step - loss: 0.0075 - accuracy: 0.9976 - val_loss: 0.6710 - val_accuracy: 0.8003\n",
      "Epoch 7/10\n",
      "54/54 [==============================] - 12s 225ms/step - loss: 0.0071 - accuracy: 0.9978 - val_loss: 0.5914 - val_accuracy: 0.8205\n",
      "Epoch 8/10\n",
      "54/54 [==============================] - 12s 226ms/step - loss: 0.0070 - accuracy: 0.9978 - val_loss: 0.7358 - val_accuracy: 0.7871\n",
      "Epoch 9/10\n",
      "54/54 [==============================] - 12s 225ms/step - loss: 0.0074 - accuracy: 0.9976 - val_loss: 0.5157 - val_accuracy: 0.8321\n",
      "Epoch 10/10\n",
      "54/54 [==============================] - 12s 225ms/step - loss: 0.0072 - accuracy: 0.9978 - val_loss: 0.5422 - val_accuracy: 0.8299\n",
      "  22/4279 [..............................] - ETA: 20s - loss: 0.7368 - accuracy: 0.6151"
     ]
    },
    {
     "name": "stderr",
     "output_type": "stream",
     "text": [
      "c:\\Users\\UX430\\anaconda3\\lib\\site-packages\\numpy\\core\\_asarray.py:171: VisibleDeprecationWarning: Creating an ndarray from ragged nested sequences (which is a list-or-tuple of lists-or-tuples-or ndarrays with different lengths or shapes) is deprecated. If you meant to do this, you must specify 'dtype=object' when creating the ndarray.\n",
      "  return array(a, dtype, copy=False, order=order, subok=True)\n"
     ]
    },
    {
     "name": "stdout",
     "output_type": "stream",
     "text": [
      "4279/4279 [==============================] - 20s 5ms/step - loss: 0.7037 - accuracy: 0.6240\n",
      "1721/1721 [==============================] - 8s 5ms/step - loss: 1.8330 - accuracy: 0.5882: 4s - loss: 4.2361 - accuracy - ETA - ETA: 3s - loss: 3.2569 - accura\n",
      "Epoch 1/10\n",
      "54/54 [==============================] - 13s 232ms/step - loss: 0.0080 - accuracy: 0.9977 - val_loss: 0.4665 - val_accuracy: 0.8357\n",
      "Epoch 2/10\n",
      "54/54 [==============================] - 14s 260ms/step - loss: 0.0089 - accuracy: 0.9973 - val_loss: 1.0048 - val_accuracy: 0.7306\n",
      "Epoch 3/10\n",
      "54/54 [==============================] - 13s 246ms/step - loss: 0.0081 - accuracy: 0.9978 - val_loss: 0.6301 - val_accuracy: 0.8093\n",
      "Epoch 4/10\n",
      "54/54 [==============================] - 13s 237ms/step - loss: 0.0074 - accuracy: 0.9981 - val_loss: 0.6060 - val_accuracy: 0.8070\n",
      "Epoch 5/10\n",
      "54/54 [==============================] - 13s 240ms/step - loss: 0.0073 - accuracy: 0.9979 - val_loss: 0.5361 - val_accuracy: 0.8231\n",
      "Epoch 6/10\n",
      "54/54 [==============================] - 13s 232ms/step - loss: 0.0078 - accuracy: 0.9979 - val_loss: 0.5998 - val_accuracy: 0.8106\n",
      "Epoch 7/10\n",
      "54/54 [==============================] - 12s 226ms/step - loss: 0.0079 - accuracy: 0.9975 - val_loss: 0.4134 - val_accuracy: 0.8463\n",
      "Epoch 8/10\n",
      "54/54 [==============================] - 12s 226ms/step - loss: 0.0073 - accuracy: 0.9980 - val_loss: 0.6657 - val_accuracy: 0.8073\n",
      "Epoch 9/10\n",
      "54/54 [==============================] - 12s 225ms/step - loss: 0.0072 - accuracy: 0.9980 - val_loss: 0.5093 - val_accuracy: 0.8293\n",
      "Epoch 10/10\n",
      "54/54 [==============================] - 14s 256ms/step - loss: 0.0071 - accuracy: 0.9981 - val_loss: 0.8046 - val_accuracy: 0.7784\n",
      "Epoch 1/10\n",
      "54/54 [==============================] - 13s 243ms/step - loss: 0.0076 - accuracy: 0.9977 - val_loss: 0.5704 - val_accuracy: 0.8214\n",
      "Epoch 2/10\n",
      "54/54 [==============================] - 13s 240ms/step - loss: 0.0071 - accuracy: 0.9978 - val_loss: 0.5303 - val_accuracy: 0.8321\n",
      "Epoch 3/10\n",
      "54/54 [==============================] - 13s 236ms/step - loss: 0.0073 - accuracy: 0.9977 - val_loss: 0.3953 - val_accuracy: 0.8583\n",
      "Epoch 4/10\n",
      "54/54 [==============================] - 13s 235ms/step - loss: 0.0073 - accuracy: 0.9976 - val_loss: 0.7089 - val_accuracy: 0.8046\n",
      "Epoch 5/10\n",
      "54/54 [==============================] - 13s 237ms/step - loss: 0.0069 - accuracy: 0.9980 - val_loss: 0.5796 - val_accuracy: 0.8231\n",
      "Epoch 6/10\n",
      "54/54 [==============================] - 13s 239ms/step - loss: 0.0068 - accuracy: 0.9980 - val_loss: 0.6533 - val_accuracy: 0.8200\n",
      "Epoch 7/10\n",
      "54/54 [==============================] - 13s 235ms/step - loss: 0.0067 - accuracy: 0.9981 - val_loss: 0.7783 - val_accuracy: 0.7897\n",
      "Epoch 8/10\n",
      "54/54 [==============================] - 13s 238ms/step - loss: 0.0068 - accuracy: 0.9980 - val_loss: 0.4998 - val_accuracy: 0.8404\n",
      "Epoch 9/10\n",
      "54/54 [==============================] - 13s 240ms/step - loss: 0.0069 - accuracy: 0.9979 - val_loss: 0.6315 - val_accuracy: 0.8082\n",
      "Epoch 10/10\n",
      "54/54 [==============================] - 13s 239ms/step - loss: 0.0066 - accuracy: 0.9980 - val_loss: 0.7935 - val_accuracy: 0.7976\n",
      "Epoch 1/10\n",
      "54/54 [==============================] - 14s 255ms/step - loss: 0.0074 - accuracy: 0.9977 - val_loss: 0.8063 - val_accuracy: 0.7782\n",
      "Epoch 2/10\n",
      "54/54 [==============================] - 14s 251ms/step - loss: 0.0069 - accuracy: 0.9979 - val_loss: 0.6989 - val_accuracy: 0.8000\n",
      "Epoch 3/10\n",
      "54/54 [==============================] - 14s 251ms/step - loss: 0.0068 - accuracy: 0.9978 - val_loss: 0.6516 - val_accuracy: 0.8098\n",
      "Epoch 4/10\n",
      "54/54 [==============================] - 14s 250ms/step - loss: 0.0067 - accuracy: 0.9979 - val_loss: 0.6370 - val_accuracy: 0.8108\n",
      "Epoch 5/10\n",
      "54/54 [==============================] - 14s 251ms/step - loss: 0.0066 - accuracy: 0.9978 - val_loss: 0.5782 - val_accuracy: 0.8185\n",
      "Epoch 6/10\n",
      "54/54 [==============================] - 14s 251ms/step - loss: 0.0070 - accuracy: 0.9976 - val_loss: 0.5452 - val_accuracy: 0.8274\n",
      "Epoch 7/10\n",
      "54/54 [==============================] - 13s 246ms/step - loss: 0.0065 - accuracy: 0.9979 - val_loss: 0.6598 - val_accuracy: 0.8081\n",
      "Epoch 8/10\n",
      "54/54 [==============================] - 14s 252ms/step - loss: 0.0070 - accuracy: 0.9977 - val_loss: 0.4436 - val_accuracy: 0.8476\n",
      "Epoch 9/10\n",
      "54/54 [==============================] - 13s 246ms/step - loss: 0.0070 - accuracy: 0.9976 - val_loss: 0.5485 - val_accuracy: 0.8312\n",
      "Epoch 10/10\n",
      "54/54 [==============================] - 13s 247ms/step - loss: 0.0066 - accuracy: 0.9978 - val_loss: 0.7706 - val_accuracy: 0.7959\n",
      "  14/4279 [..............................] - ETA: 33s - loss: 1.5758 - accuracy: 0.5848"
     ]
    },
    {
     "name": "stderr",
     "output_type": "stream",
     "text": [
      "c:\\Users\\UX430\\anaconda3\\lib\\site-packages\\numpy\\core\\_asarray.py:171: VisibleDeprecationWarning: Creating an ndarray from ragged nested sequences (which is a list-or-tuple of lists-or-tuples-or ndarrays with different lengths or shapes) is deprecated. If you meant to do this, you must specify 'dtype=object' when creating the ndarray.\n",
      "  return array(a, dtype, copy=False, order=order, subok=True)\n"
     ]
    },
    {
     "name": "stdout",
     "output_type": "stream",
     "text": [
      "4279/4279 [==============================] - 63s 15ms/step - loss: 1.5822 - accuracy: 0.5767\n",
      "1721/1721 [==============================] - 25s 14ms/step - loss: 2.4086 - accuracy: 0.5780\n",
      "Epoch 1/10\n",
      "54/54 [==============================] - 15s 282ms/step - loss: 0.0069 - accuracy: 0.9982 - val_loss: 0.7027 - val_accuracy: 0.8013\n",
      "Epoch 2/10\n",
      "54/54 [==============================] - 15s 281ms/step - loss: 0.0066 - accuracy: 0.9983 - val_loss: 0.8368 - val_accuracy: 0.7796\n",
      "Epoch 3/10\n",
      "54/54 [==============================] - 15s 279ms/step - loss: 0.0070 - accuracy: 0.9982 - val_loss: 0.7806 - val_accuracy: 0.7800\n",
      "Epoch 4/10\n",
      "54/54 [==============================] - 15s 284ms/step - loss: 0.0065 - accuracy: 0.9982 - val_loss: 0.4830 - val_accuracy: 0.8351\n",
      "Epoch 5/10\n",
      "54/54 [==============================] - 15s 272ms/step - loss: 0.0065 - accuracy: 0.9982 - val_loss: 0.5774 - val_accuracy: 0.8127\n",
      "Epoch 6/10\n",
      "54/54 [==============================] - 16s 294ms/step - loss: 0.0065 - accuracy: 0.9981 - val_loss: 0.5144 - val_accuracy: 0.8337\n",
      "Epoch 7/10\n",
      "54/54 [==============================] - 15s 276ms/step - loss: 0.0065 - accuracy: 0.9982 - val_loss: 0.5996 - val_accuracy: 0.8162\n",
      "Epoch 8/10\n",
      "54/54 [==============================] - 16s 288ms/step - loss: 0.0065 - accuracy: 0.9982 - val_loss: 0.6393 - val_accuracy: 0.8137\n",
      "Epoch 9/10\n",
      "54/54 [==============================] - 15s 270ms/step - loss: 0.0063 - accuracy: 0.9984 - val_loss: 0.4838 - val_accuracy: 0.8378\n",
      "Epoch 10/10\n",
      "54/54 [==============================] - 15s 273ms/step - loss: 0.0064 - accuracy: 0.9982 - val_loss: 0.6900 - val_accuracy: 0.7984\n",
      "Epoch 1/10\n",
      "54/54 [==============================] - 12s 226ms/step - loss: 0.0069 - accuracy: 0.9979 - val_loss: 0.6950 - val_accuracy: 0.8122\n",
      "Epoch 2/10\n",
      "54/54 [==============================] - 12s 217ms/step - loss: 0.0067 - accuracy: 0.9980 - val_loss: 0.6824 - val_accuracy: 0.8106\n",
      "Epoch 3/10\n",
      "54/54 [==============================] - 12s 217ms/step - loss: 0.0065 - accuracy: 0.9979 - val_loss: 0.6524 - val_accuracy: 0.8272\n",
      "Epoch 4/10\n",
      "54/54 [==============================] - 12s 215ms/step - loss: 0.0070 - accuracy: 0.9977 - val_loss: 0.7833 - val_accuracy: 0.7935\n",
      "Epoch 5/10\n",
      "54/54 [==============================] - 12s 215ms/step - loss: 0.0063 - accuracy: 0.9981 - val_loss: 0.5926 - val_accuracy: 0.8220\n",
      "Epoch 6/10\n",
      "54/54 [==============================] - 12s 215ms/step - loss: 0.0064 - accuracy: 0.9980 - val_loss: 0.6311 - val_accuracy: 0.8163\n",
      "Epoch 7/10\n",
      "54/54 [==============================] - 12s 217ms/step - loss: 0.0063 - accuracy: 0.9982 - val_loss: 0.6756 - val_accuracy: 0.8098\n",
      "Epoch 8/10\n",
      "54/54 [==============================] - 12s 216ms/step - loss: 0.0061 - accuracy: 0.9982 - val_loss: 0.7764 - val_accuracy: 0.7968\n",
      "Epoch 9/10\n",
      "54/54 [==============================] - 12s 215ms/step - loss: 0.0062 - accuracy: 0.9982 - val_loss: 0.7552 - val_accuracy: 0.7912\n",
      "Epoch 10/10\n",
      "54/54 [==============================] - 12s 213ms/step - loss: 0.0067 - accuracy: 0.9979 - val_loss: 0.6219 - val_accuracy: 0.8232\n",
      "Epoch 1/10\n",
      "54/54 [==============================] - 12s 226ms/step - loss: 0.0068 - accuracy: 0.9979 - val_loss: 0.6697 - val_accuracy: 0.8031\n",
      "Epoch 2/10\n",
      "54/54 [==============================] - 12s 216ms/step - loss: 0.0065 - accuracy: 0.9980 - val_loss: 0.7907 - val_accuracy: 0.7806\n",
      "Epoch 3/10\n",
      "54/54 [==============================] - 12s 214ms/step - loss: 0.0063 - accuracy: 0.9979 - val_loss: 0.8623 - val_accuracy: 0.7734\n",
      "Epoch 4/10\n",
      "54/54 [==============================] - 12s 213ms/step - loss: 0.0064 - accuracy: 0.9978 - val_loss: 0.8813 - val_accuracy: 0.7742\n",
      "Epoch 5/10\n",
      "54/54 [==============================] - 12s 215ms/step - loss: 0.0063 - accuracy: 0.9980 - val_loss: 0.5396 - val_accuracy: 0.8294\n",
      "Epoch 6/10\n",
      "54/54 [==============================] - 12s 214ms/step - loss: 0.0064 - accuracy: 0.9980 - val_loss: 0.5475 - val_accuracy: 0.8292\n",
      "Epoch 7/10\n",
      "54/54 [==============================] - 12s 215ms/step - loss: 0.0061 - accuracy: 0.9980 - val_loss: 0.6065 - val_accuracy: 0.8183\n",
      "Epoch 8/10\n",
      "54/54 [==============================] - 12s 214ms/step - loss: 0.0061 - accuracy: 0.9980 - val_loss: 0.7196 - val_accuracy: 0.8034\n",
      "Epoch 9/10\n",
      "54/54 [==============================] - 12s 215ms/step - loss: 0.0059 - accuracy: 0.9981 - val_loss: 0.6166 - val_accuracy: 0.8150\n",
      "Epoch 10/10\n",
      "54/54 [==============================] - 11s 213ms/step - loss: 0.0059 - accuracy: 0.9981 - val_loss: 0.6381 - val_accuracy: 0.8173\n",
      "  10/4279 [..............................] - ETA: 21s - loss: 2.2538 - accuracy: 0.5938"
     ]
    },
    {
     "name": "stderr",
     "output_type": "stream",
     "text": [
      "c:\\Users\\UX430\\anaconda3\\lib\\site-packages\\numpy\\core\\_asarray.py:171: VisibleDeprecationWarning: Creating an ndarray from ragged nested sequences (which is a list-or-tuple of lists-or-tuples-or ndarrays with different lengths or shapes) is deprecated. If you meant to do this, you must specify 'dtype=object' when creating the ndarray.\n",
      "  return array(a, dtype, copy=False, order=order, subok=True)\n"
     ]
    },
    {
     "name": "stdout",
     "output_type": "stream",
     "text": [
      "4279/4279 [==============================] - 58s 14ms/step - loss: 2.3268 - accuracy: 0.5847\n",
      "1721/1721 [==============================] - 22s 13ms/step - loss: 2.6894 - accuracy: 0.5911\n"
     ]
    }
   ],
   "source": [
    "# Values saved each iteration \n",
    "loss_it = []\n",
    "accuracy_it = []\n",
    "f1_it = []\n",
    "precision_it = []\n",
    "recall_it = []\n",
    "\n",
    "for i in range(global_updates): \n",
    "    w_list = []\n",
    "    for node in range(num_nodes): \n",
    "        cp = global_model # create a copy of the global model\n",
    "        if node == 0:\n",
    "            x, y = x1, y1\n",
    "        elif node == 1:\n",
    "            x, y = x2, y2\n",
    "        else:\n",
    "            x, y = x3, y3\n",
    "        local_model, local_loss, local_acc, local_val_loss, local_val_acc = train_local_model(cp, node, x, y)\n",
    "        w_list.append(local_model.get_weights())\n",
    "\n",
    "    avg_w = aggregate(w_list)\n",
    "    global_model.set_weights(avg_w) # apply gradients to global model\n",
    "    loss_basic, accuracy_basic, f1_basic, precision_basic, recall_basic = evaluation(global_model, xbasic, ybasic) # Evaluate with test basic to know progress\n",
    "    loss_plus, accuracy_plus, f1_plus, precision_plus, recall_plus = evaluation(global_model, xplus, yplus) # Evaluate with test plus to know progress\n",
    "\n",
    "    loss_it.append([loss_basic, loss_plus])\n",
    "    accuracy_it.append([accuracy_basic, accuracy_plus])\n",
    "    f1_it.append([f1_basic, f1_plus])\n",
    "    precision_it.append([precision_basic, precision_plus])\n",
    "    recall_it.append([recall_basic, recall_plus])\n",
    "\n",
    "\n",
    "global_model.save('C:/Users/UX430/Documents/thesis/code/models/id1914.hdf5')"
   ]
  },
  {
   "cell_type": "code",
   "execution_count": 94,
   "metadata": {},
   "outputs": [
    {
     "name": "stdout",
     "output_type": "stream",
     "text": [
      "Loss for iterations:  [[0.1365291327238083, 0.4283352196216583], [0.2651519179344177, 1.0024899244308472], [0.7037181258201599, 1.832952857017517], [1.5821514129638672, 2.4086146354675293], [2.3268370628356934, 2.6893749237060547]]\n",
      "Accuracy for iterations:  [[0.9855824112892151, 0.8469265699386597], [0.860381543636322, 0.6725096106529236], [0.6239592432975769, 0.5882256627082825], [0.5767039656639099, 0.5780171751976013], [0.5847015976905823, 0.5910593867301941]]\n",
      "F1 for iterations:  [[0.9855826670707051, 0.8409762834970507], [0.8568613387554346, 0.6149381434584613], [0.5508425246294328, 0.4636867477882422], [0.46738062441285394, 0.4423453790972255], [0.4837946867218398, 0.47302792034124125]]\n",
      "Precision for iterations:  [[0.9855831374686987, 0.8727007844361674], [0.8850718746255002, 0.7805118410349414], [0.7680038756565108, 0.7443149963827191], [0.7453524292311242, 0.735034928827699], [0.7414682594253333, 0.7193566642547569]]\n",
      "Recall for iterations:  [[0.9855824008881358, 0.8469265421783041], [0.8603815478103363, 0.6725096272614982], [0.6239592158695842, 0.5882256775412338], [0.5767039644745684, 0.5780171474242535], [0.5847015688451314, 0.5910593620576909]]\n"
     ]
    }
   ],
   "source": [
    "print(\"Loss for iterations: \", loss_it)\n",
    "print(\"Accuracy for iterations: \", accuracy_it)\n",
    "print(\"F1 for iterations: \", f1_it)\n",
    "print(\"Precision for iterations: \", precision_it)\n",
    "print(\"Recall for iterations: \", recall_it)"
   ]
  },
  {
   "cell_type": "markdown",
   "metadata": {},
   "source": [
    "#### #Epochs = 8, #Iterations = 5"
   ]
  },
  {
   "cell_type": "code",
   "execution_count": 95,
   "metadata": {},
   "outputs": [],
   "source": [
    "# Define \n",
    "node_datasets = [training1, training2, training3]\n",
    "num_nodes = 3\n",
    "global_updates = 5\n",
    "# Define model training parameters\n",
    "loss_fct = \"categorical_crossentropy\"\n",
    "metrics = ['accuracy']\n",
    "local_epochs = 8"
   ]
  },
  {
   "cell_type": "code",
   "execution_count": 96,
   "metadata": {},
   "outputs": [],
   "source": [
    "def train_local_model(model, node, x_train, y_train): \n",
    "    filepath = 'C:/Users/UX430/Documents/thesis/code/models/node'+str(node)+'id1915.hdf5'\n",
    "    callbacks = [\n",
    "            keras.callbacks.EarlyStopping(\n",
    "                monitor = 'val_loss', # Use accuracy to monitor the model\n",
    "                patience = 10 # Stop after 10 steps with lower accuracy\n",
    "            ),\n",
    "            keras.callbacks.ModelCheckpoint(\n",
    "                filepath = filepath, # file where the checkpoint is saved\n",
    "                monitor = 'val_loss', # Don't overwrite the saved model unless val_loss is worse\n",
    "                save_best_only = True)]# Only save model if it is the best\n",
    "    optimizer = keras.optimizers.Adam(learning_rate=5e-4)\n",
    "    model.compile(optimizer=optimizer, loss=loss_fct, metrics=metrics)\n",
    "    history = model.fit(x_train, y_train, epochs=local_epochs, validation_split=0.2, callbacks=callbacks, batch_size=2048)\n",
    "    return model, history.history['loss'], history.history['accuracy'], history.history['val_loss'], history.history['val_accuracy']"
   ]
  },
  {
   "cell_type": "code",
   "execution_count": 97,
   "metadata": {},
   "outputs": [],
   "source": [
    "global_model = build_model((24,1,1))"
   ]
  },
  {
   "cell_type": "code",
   "execution_count": 98,
   "metadata": {},
   "outputs": [
    {
     "name": "stdout",
     "output_type": "stream",
     "text": [
      "Epoch 1/8\n"
     ]
    },
    {
     "name": "stdout",
     "output_type": "stream",
     "text": [
      "54/54 [==============================] - 12s 228ms/step - loss: 0.2470 - accuracy: 0.9317 - val_loss: 1.6157 - val_accuracy: 0.6400\n",
      "Epoch 2/8\n",
      "54/54 [==============================] - 12s 222ms/step - loss: 0.0311 - accuracy: 0.9925 - val_loss: 0.7175 - val_accuracy: 0.6467\n",
      "Epoch 3/8\n",
      "54/54 [==============================] - 12s 219ms/step - loss: 0.0264 - accuracy: 0.9925 - val_loss: 0.6154 - val_accuracy: 0.6488\n",
      "Epoch 4/8\n",
      "54/54 [==============================] - 12s 217ms/step - loss: 0.0246 - accuracy: 0.9926 - val_loss: 0.5837 - val_accuracy: 0.6496\n",
      "Epoch 5/8\n",
      "54/54 [==============================] - 12s 217ms/step - loss: 0.0230 - accuracy: 0.9926 - val_loss: 0.4128 - val_accuracy: 0.7236\n",
      "Epoch 6/8\n",
      "54/54 [==============================] - 12s 217ms/step - loss: 0.0211 - accuracy: 0.9933 - val_loss: 0.4062 - val_accuracy: 0.7333\n",
      "Epoch 7/8\n",
      "54/54 [==============================] - 12s 216ms/step - loss: 0.0192 - accuracy: 0.9939 - val_loss: 0.4178 - val_accuracy: 0.7333\n",
      "Epoch 8/8\n",
      "54/54 [==============================] - 12s 215ms/step - loss: 0.0178 - accuracy: 0.9943 - val_loss: 0.3187 - val_accuracy: 0.8060\n",
      "Epoch 1/8\n",
      "54/54 [==============================] - 12s 221ms/step - loss: 0.0164 - accuracy: 0.9947 - val_loss: 0.5614 - val_accuracy: 0.7381\n",
      "Epoch 2/8\n",
      "54/54 [==============================] - 12s 218ms/step - loss: 0.0154 - accuracy: 0.9951 - val_loss: 0.6693 - val_accuracy: 0.7334\n",
      "Epoch 3/8\n",
      "54/54 [==============================] - 12s 216ms/step - loss: 0.0148 - accuracy: 0.9955 - val_loss: 0.4886 - val_accuracy: 0.7907\n",
      "Epoch 4/8\n",
      "54/54 [==============================] - 12s 216ms/step - loss: 0.0149 - accuracy: 0.9956 - val_loss: 0.5117 - val_accuracy: 0.7815\n",
      "Epoch 5/8\n",
      "54/54 [==============================] - 12s 216ms/step - loss: 0.0142 - accuracy: 0.9958 - val_loss: 0.3749 - val_accuracy: 0.8346\n",
      "Epoch 6/8\n",
      "54/54 [==============================] - 12s 217ms/step - loss: 0.0138 - accuracy: 0.9960 - val_loss: 0.5972 - val_accuracy: 0.7715\n",
      "Epoch 7/8\n",
      "54/54 [==============================] - 12s 216ms/step - loss: 0.0138 - accuracy: 0.9960 - val_loss: 0.3532 - val_accuracy: 0.8454\n",
      "Epoch 8/8\n",
      "54/54 [==============================] - 12s 222ms/step - loss: 0.0136 - accuracy: 0.9962 - val_loss: 0.2876 - val_accuracy: 0.8645\n",
      "Epoch 1/8\n",
      "54/54 [==============================] - 12s 220ms/step - loss: 0.0130 - accuracy: 0.9959 - val_loss: 0.4459 - val_accuracy: 0.8207\n",
      "Epoch 2/8\n",
      "54/54 [==============================] - 12s 224ms/step - loss: 0.0128 - accuracy: 0.9960 - val_loss: 0.6653 - val_accuracy: 0.7624\n",
      "Epoch 3/8\n",
      "54/54 [==============================] - 12s 225ms/step - loss: 0.0125 - accuracy: 0.9963 - val_loss: 0.4461 - val_accuracy: 0.8218\n",
      "Epoch 4/8\n",
      "54/54 [==============================] - 12s 224ms/step - loss: 0.0127 - accuracy: 0.9961 - val_loss: 0.3899 - val_accuracy: 0.8457\n",
      "Epoch 5/8\n",
      "54/54 [==============================] - 12s 225ms/step - loss: 0.0125 - accuracy: 0.9961 - val_loss: 0.5676 - val_accuracy: 0.7850\n",
      "Epoch 6/8\n",
      "54/54 [==============================] - 12s 222ms/step - loss: 0.0121 - accuracy: 0.9965 - val_loss: 0.4633 - val_accuracy: 0.8238\n",
      "Epoch 7/8\n",
      "54/54 [==============================] - 12s 218ms/step - loss: 0.0123 - accuracy: 0.9962 - val_loss: 0.5755 - val_accuracy: 0.7875\n",
      "Epoch 8/8\n",
      "54/54 [==============================] - 12s 217ms/step - loss: 0.0118 - accuracy: 0.9966 - val_loss: 0.4161 - val_accuracy: 0.8415\n",
      "   7/4279 [..............................] - ETA: 33s - loss: 0.1129 - accuracy: 0.9911"
     ]
    },
    {
     "name": "stderr",
     "output_type": "stream",
     "text": [
      "c:\\Users\\UX430\\anaconda3\\lib\\site-packages\\numpy\\core\\_asarray.py:171: VisibleDeprecationWarning: Creating an ndarray from ragged nested sequences (which is a list-or-tuple of lists-or-tuples-or ndarrays with different lengths or shapes) is deprecated. If you meant to do this, you must specify 'dtype=object' when creating the ndarray.\n",
      "  return array(a, dtype, copy=False, order=order, subok=True)\n"
     ]
    },
    {
     "name": "stdout",
     "output_type": "stream",
     "text": [
      "4279/4279 [==============================] - 51s 12ms/step - loss: 0.1552 - accuracy: 0.9877\n",
      "1721/1721 [==============================] - 17s 10ms/step - loss: 0.3090 - accuracy: 0.9097\n",
      "Epoch 1/8\n",
      "54/54 [==============================] - 13s 232ms/step - loss: 0.0148 - accuracy: 0.9958 - val_loss: 0.5605 - val_accuracy: 0.7666\n",
      "Epoch 2/8\n",
      "54/54 [==============================] - 12s 217ms/step - loss: 0.0140 - accuracy: 0.9960 - val_loss: 0.5251 - val_accuracy: 0.7822\n",
      "Epoch 3/8\n",
      "54/54 [==============================] - 12s 218ms/step - loss: 0.0142 - accuracy: 0.9959 - val_loss: 0.3481 - val_accuracy: 0.8477\n",
      "Epoch 4/8\n",
      "54/54 [==============================] - 12s 217ms/step - loss: 0.0137 - accuracy: 0.9961 - val_loss: 0.6239 - val_accuracy: 0.7772\n",
      "Epoch 5/8\n",
      "54/54 [==============================] - 12s 215ms/step - loss: 0.0136 - accuracy: 0.9962 - val_loss: 0.4505 - val_accuracy: 0.8222\n",
      "Epoch 6/8\n",
      "54/54 [==============================] - 12s 217ms/step - loss: 0.0132 - accuracy: 0.9962 - val_loss: 0.4862 - val_accuracy: 0.8098\n",
      "Epoch 7/8\n",
      "54/54 [==============================] - 12s 216ms/step - loss: 0.0133 - accuracy: 0.9962 - val_loss: 0.3692 - val_accuracy: 0.8453\n",
      "Epoch 8/8\n",
      "54/54 [==============================] - 12s 216ms/step - loss: 0.0128 - accuracy: 0.9964 - val_loss: 0.6160 - val_accuracy: 0.7814\n",
      "Epoch 1/8\n",
      "54/54 [==============================] - 12s 221ms/step - loss: 0.0122 - accuracy: 0.9964 - val_loss: 0.5868 - val_accuracy: 0.7893\n",
      "Epoch 2/8\n",
      "54/54 [==============================] - 12s 217ms/step - loss: 0.0117 - accuracy: 0.9965 - val_loss: 0.5240 - val_accuracy: 0.8123\n",
      "Epoch 3/8\n",
      "54/54 [==============================] - 12s 216ms/step - loss: 0.0115 - accuracy: 0.9965 - val_loss: 0.5488 - val_accuracy: 0.8090\n",
      "Epoch 4/8\n",
      "54/54 [==============================] - 12s 217ms/step - loss: 0.0112 - accuracy: 0.9966 - val_loss: 0.3506 - val_accuracy: 0.8611\n",
      "Epoch 5/8\n",
      "54/54 [==============================] - 12s 217ms/step - loss: 0.0109 - accuracy: 0.9967 - val_loss: 0.6301 - val_accuracy: 0.7999\n",
      "Epoch 6/8\n",
      "54/54 [==============================] - 12s 215ms/step - loss: 0.0107 - accuracy: 0.9967 - val_loss: 0.5134 - val_accuracy: 0.8324\n",
      "Epoch 7/8\n",
      "54/54 [==============================] - 12s 216ms/step - loss: 0.0102 - accuracy: 0.9969 - val_loss: 0.4539 - val_accuracy: 0.8421\n",
      "Epoch 8/8\n",
      "54/54 [==============================] - 12s 214ms/step - loss: 0.0099 - accuracy: 0.9969 - val_loss: 0.5417 - val_accuracy: 0.8246\n",
      "Epoch 1/8\n",
      "54/54 [==============================] - 12s 221ms/step - loss: 0.0101 - accuracy: 0.9967 - val_loss: 0.4860 - val_accuracy: 0.8316\n",
      "Epoch 2/8\n",
      "54/54 [==============================] - 12s 215ms/step - loss: 0.0098 - accuracy: 0.9968 - val_loss: 0.6463 - val_accuracy: 0.7891\n",
      "Epoch 3/8\n",
      "54/54 [==============================] - 12s 214ms/step - loss: 0.0094 - accuracy: 0.9971 - val_loss: 0.5662 - val_accuracy: 0.8086\n",
      "Epoch 4/8\n",
      "54/54 [==============================] - 12s 216ms/step - loss: 0.0095 - accuracy: 0.9969 - val_loss: 0.5623 - val_accuracy: 0.8112\n",
      "Epoch 5/8\n",
      "54/54 [==============================] - 12s 214ms/step - loss: 0.0092 - accuracy: 0.9971 - val_loss: 0.5496 - val_accuracy: 0.8246\n",
      "Epoch 6/8\n",
      "54/54 [==============================] - 12s 214ms/step - loss: 0.0089 - accuracy: 0.9971 - val_loss: 0.5486 - val_accuracy: 0.8207\n",
      "Epoch 7/8\n",
      "54/54 [==============================] - 12s 215ms/step - loss: 0.0087 - accuracy: 0.9972 - val_loss: 0.5664 - val_accuracy: 0.8163\n",
      "Epoch 8/8\n",
      "54/54 [==============================] - 11s 213ms/step - loss: 0.0086 - accuracy: 0.9972 - val_loss: 0.7427 - val_accuracy: 0.7763\n",
      "   1/4279 [..............................] - ETA: 0s - loss: 0.4002 - accuracy: 0.6875"
     ]
    },
    {
     "name": "stderr",
     "output_type": "stream",
     "text": [
      "c:\\Users\\UX430\\anaconda3\\lib\\site-packages\\numpy\\core\\_asarray.py:171: VisibleDeprecationWarning: Creating an ndarray from ragged nested sequences (which is a list-or-tuple of lists-or-tuples-or ndarrays with different lengths or shapes) is deprecated. If you meant to do this, you must specify 'dtype=object' when creating the ndarray.\n",
      "  return array(a, dtype, copy=False, order=order, subok=True)\n"
     ]
    },
    {
     "name": "stdout",
     "output_type": "stream",
     "text": [
      "4279/4279 [==============================] - 56s 13ms/step - loss: 0.3944 - accuracy: 0.7236\n",
      "1721/1721 [==============================] - 23s 13ms/step - loss: 0.8273 - accuracy: 0.7249\n",
      "Epoch 1/8\n",
      "54/54 [==============================] - 13s 235ms/step - loss: 0.0111 - accuracy: 0.9970 - val_loss: 0.4965 - val_accuracy: 0.8223\n",
      "Epoch 2/8\n",
      "54/54 [==============================] - 12s 222ms/step - loss: 0.0106 - accuracy: 0.9971 - val_loss: 0.4363 - val_accuracy: 0.8428\n",
      "Epoch 3/8\n",
      "54/54 [==============================] - 12s 218ms/step - loss: 0.0100 - accuracy: 0.9971 - val_loss: 0.4670 - val_accuracy: 0.8304\n",
      "Epoch 4/8\n",
      "54/54 [==============================] - 12s 215ms/step - loss: 0.0104 - accuracy: 0.9971 - val_loss: 0.3818 - val_accuracy: 0.8523\n",
      "Epoch 5/8\n",
      "54/54 [==============================] - 12s 217ms/step - loss: 0.0094 - accuracy: 0.9971 - val_loss: 0.4754 - val_accuracy: 0.8324\n",
      "Epoch 6/8\n",
      "54/54 [==============================] - 12s 216ms/step - loss: 0.0095 - accuracy: 0.9973 - val_loss: 0.7333 - val_accuracy: 0.7752\n",
      "Epoch 7/8\n",
      "54/54 [==============================] - 12s 220ms/step - loss: 0.0088 - accuracy: 0.9973 - val_loss: 0.5043 - val_accuracy: 0.8270\n",
      "Epoch 8/8\n",
      "54/54 [==============================] - 12s 215ms/step - loss: 0.0090 - accuracy: 0.9974 - val_loss: 0.3990 - val_accuracy: 0.8449\n",
      "Epoch 1/8\n",
      "54/54 [==============================] - 12s 222ms/step - loss: 0.0087 - accuracy: 0.9972 - val_loss: 0.5580 - val_accuracy: 0.8265\n",
      "Epoch 2/8\n",
      "54/54 [==============================] - 12s 225ms/step - loss: 0.0085 - accuracy: 0.9974 - val_loss: 0.5710 - val_accuracy: 0.8235\n",
      "Epoch 3/8\n",
      "54/54 [==============================] - 12s 215ms/step - loss: 0.0081 - accuracy: 0.9975 - val_loss: 0.5635 - val_accuracy: 0.8195\n",
      "Epoch 4/8\n",
      "54/54 [==============================] - 12s 216ms/step - loss: 0.0081 - accuracy: 0.9975 - val_loss: 0.5134 - val_accuracy: 0.8298\n",
      "Epoch 5/8\n",
      "54/54 [==============================] - 12s 217ms/step - loss: 0.0077 - accuracy: 0.9975 - val_loss: 0.7988 - val_accuracy: 0.7849\n",
      "Epoch 6/8\n",
      "54/54 [==============================] - 12s 217ms/step - loss: 0.0079 - accuracy: 0.9976 - val_loss: 0.5179 - val_accuracy: 0.8281\n",
      "Epoch 7/8\n",
      "54/54 [==============================] - 12s 217ms/step - loss: 0.0080 - accuracy: 0.9974 - val_loss: 0.7236 - val_accuracy: 0.8050\n",
      "Epoch 8/8\n",
      "54/54 [==============================] - 12s 215ms/step - loss: 0.0078 - accuracy: 0.9975 - val_loss: 0.7488 - val_accuracy: 0.7864\n",
      "Epoch 1/8\n",
      "54/54 [==============================] - 12s 227ms/step - loss: 0.0079 - accuracy: 0.9974 - val_loss: 0.7761 - val_accuracy: 0.7713\n",
      "Epoch 2/8\n",
      "54/54 [==============================] - 12s 216ms/step - loss: 0.0076 - accuracy: 0.9975 - val_loss: 0.9812 - val_accuracy: 0.7290\n",
      "Epoch 3/8\n",
      "54/54 [==============================] - 12s 218ms/step - loss: 0.0077 - accuracy: 0.9975 - val_loss: 0.5064 - val_accuracy: 0.8280\n",
      "Epoch 4/8\n",
      "54/54 [==============================] - 12s 219ms/step - loss: 0.0072 - accuracy: 0.9977 - val_loss: 0.4998 - val_accuracy: 0.8235\n",
      "Epoch 5/8\n",
      "54/54 [==============================] - 12s 216ms/step - loss: 0.0071 - accuracy: 0.9977 - val_loss: 0.5831 - val_accuracy: 0.8142\n",
      "Epoch 6/8\n",
      "54/54 [==============================] - 12s 217ms/step - loss: 0.0073 - accuracy: 0.9977 - val_loss: 0.7122 - val_accuracy: 0.7930\n",
      "Epoch 7/8\n",
      "54/54 [==============================] - 12s 224ms/step - loss: 0.0073 - accuracy: 0.9978 - val_loss: 0.4178 - val_accuracy: 0.8460\n",
      "Epoch 8/8\n",
      "54/54 [==============================] - 12s 231ms/step - loss: 0.0075 - accuracy: 0.9974 - val_loss: 0.5997 - val_accuracy: 0.8124\n",
      "   1/4279 [..............................] - ETA: 0s - loss: 0.4783 - accuracy: 0.6250"
     ]
    },
    {
     "name": "stderr",
     "output_type": "stream",
     "text": [
      "c:\\Users\\UX430\\anaconda3\\lib\\site-packages\\numpy\\core\\_asarray.py:171: VisibleDeprecationWarning: Creating an ndarray from ragged nested sequences (which is a list-or-tuple of lists-or-tuples-or ndarrays with different lengths or shapes) is deprecated. If you meant to do this, you must specify 'dtype=object' when creating the ndarray.\n",
      "  return array(a, dtype, copy=False, order=order, subok=True)\n"
     ]
    },
    {
     "name": "stdout",
     "output_type": "stream",
     "text": [
      "4279/4279 [==============================] - 34s 8ms/step - loss: 0.4893 - accuracy: 0.6321\n",
      "1721/1721 [==============================] - 16s 9ms/step - loss: 1.1401 - accuracy: 0.6861\n",
      "Epoch 1/8\n",
      "54/54 [==============================] - 12s 214ms/step - loss: 0.0084 - accuracy: 0.9978 - val_loss: 0.6121 - val_accuracy: 0.8078\n",
      "Epoch 2/8\n",
      "54/54 [==============================] - 12s 215ms/step - loss: 0.0085 - accuracy: 0.9977 - val_loss: 0.9500 - val_accuracy: 0.7377\n",
      "Epoch 3/8\n",
      "54/54 [==============================] - 12s 220ms/step - loss: 0.0079 - accuracy: 0.9978 - val_loss: 0.4002 - val_accuracy: 0.8463\n",
      "Epoch 4/8\n",
      "54/54 [==============================] - 13s 232ms/step - loss: 0.0077 - accuracy: 0.9978 - val_loss: 0.7166 - val_accuracy: 0.7872\n",
      "Epoch 5/8\n",
      "54/54 [==============================] - 12s 217ms/step - loss: 0.0079 - accuracy: 0.9979 - val_loss: 0.6051 - val_accuracy: 0.8065\n",
      "Epoch 6/8\n",
      "54/54 [==============================] - 11s 203ms/step - loss: 0.0080 - accuracy: 0.9979 - val_loss: 0.5437 - val_accuracy: 0.8161\n",
      "Epoch 7/8\n",
      "54/54 [==============================] - 11s 208ms/step - loss: 0.0073 - accuracy: 0.9981 - val_loss: 0.4830 - val_accuracy: 0.8257\n",
      "Epoch 8/8\n",
      "54/54 [==============================] - 11s 205ms/step - loss: 0.0074 - accuracy: 0.9980 - val_loss: 0.5057 - val_accuracy: 0.8258\n",
      "Epoch 1/8\n",
      "54/54 [==============================] - 12s 218ms/step - loss: 0.0076 - accuracy: 0.9976 - val_loss: 0.5406 - val_accuracy: 0.8209\n",
      "Epoch 2/8\n",
      "54/54 [==============================] - 11s 207ms/step - loss: 0.0072 - accuracy: 0.9978 - val_loss: 0.6865 - val_accuracy: 0.7946\n",
      "Epoch 3/8\n",
      "54/54 [==============================] - 11s 209ms/step - loss: 0.0072 - accuracy: 0.9979 - val_loss: 0.5084 - val_accuracy: 0.8269\n",
      "Epoch 4/8\n",
      "54/54 [==============================] - 12s 221ms/step - loss: 0.0070 - accuracy: 0.9979 - val_loss: 0.5439 - val_accuracy: 0.8236\n",
      "Epoch 5/8\n",
      "54/54 [==============================] - 12s 224ms/step - loss: 0.0067 - accuracy: 0.9981 - val_loss: 0.5430 - val_accuracy: 0.8277\n",
      "Epoch 6/8\n",
      "54/54 [==============================] - 12s 225ms/step - loss: 0.0069 - accuracy: 0.9979 - val_loss: 0.6240 - val_accuracy: 0.8100\n",
      "Epoch 7/8\n",
      "54/54 [==============================] - 12s 218ms/step - loss: 0.0074 - accuracy: 0.9978 - val_loss: 0.8407 - val_accuracy: 0.7842\n",
      "Epoch 8/8\n",
      "54/54 [==============================] - 12s 223ms/step - loss: 0.0072 - accuracy: 0.9978 - val_loss: 0.6733 - val_accuracy: 0.8022\n",
      "Epoch 1/8\n",
      "54/54 [==============================] - 12s 219ms/step - loss: 0.0071 - accuracy: 0.9977 - val_loss: 0.6952 - val_accuracy: 0.8001\n",
      "Epoch 2/8\n",
      "54/54 [==============================] - 11s 212ms/step - loss: 0.0070 - accuracy: 0.9978 - val_loss: 0.7727 - val_accuracy: 0.7808\n",
      "Epoch 3/8\n",
      "54/54 [==============================] - 12s 219ms/step - loss: 0.0068 - accuracy: 0.9978 - val_loss: 0.5392 - val_accuracy: 0.8227\n",
      "Epoch 4/8\n",
      "54/54 [==============================] - 13s 236ms/step - loss: 0.0070 - accuracy: 0.9978 - val_loss: 0.4584 - val_accuracy: 0.8431\n",
      "Epoch 5/8\n",
      "54/54 [==============================] - 10s 193ms/step - loss: 0.0070 - accuracy: 0.9978 - val_loss: 0.4523 - val_accuracy: 0.8413\n",
      "Epoch 6/8\n",
      "54/54 [==============================] - 11s 200ms/step - loss: 0.0069 - accuracy: 0.9977 - val_loss: 0.5545 - val_accuracy: 0.8288\n",
      "Epoch 7/8\n",
      "54/54 [==============================] - 11s 196ms/step - loss: 0.0066 - accuracy: 0.9980 - val_loss: 0.6971 - val_accuracy: 0.8015\n",
      "Epoch 8/8\n",
      "54/54 [==============================] - 11s 198ms/step - loss: 0.0067 - accuracy: 0.9979 - val_loss: 0.5870 - val_accuracy: 0.8184\n",
      "  17/4279 [..............................] - ETA: 16s - loss: 1.3574 - accuracy: 0.6029"
     ]
    },
    {
     "name": "stderr",
     "output_type": "stream",
     "text": [
      "c:\\Users\\UX430\\anaconda3\\lib\\site-packages\\numpy\\core\\_asarray.py:171: VisibleDeprecationWarning: Creating an ndarray from ragged nested sequences (which is a list-or-tuple of lists-or-tuples-or ndarrays with different lengths or shapes) is deprecated. If you meant to do this, you must specify 'dtype=object' when creating the ndarray.\n",
      "  return array(a, dtype, copy=False, order=order, subok=True)\n"
     ]
    },
    {
     "name": "stdout",
     "output_type": "stream",
     "text": [
      "4279/4279 [==============================] - 16s 4ms/step - loss: 1.3998 - accuracy: 0.5893\n",
      "1721/1721 [==============================] - 6s 4ms/step - loss: 1.7186 - accuracy: 0.6793\n",
      "Epoch 1/8\n",
      "54/54 [==============================] - 11s 196ms/step - loss: 0.0072 - accuracy: 0.9981 - val_loss: 0.6565 - val_accuracy: 0.7961\n",
      "Epoch 2/8\n",
      "54/54 [==============================] - 11s 196ms/step - loss: 0.0071 - accuracy: 0.9981 - val_loss: 0.5742 - val_accuracy: 0.8095\n",
      "Epoch 3/8\n",
      "54/54 [==============================] - 11s 196ms/step - loss: 0.0067 - accuracy: 0.9982 - val_loss: 0.6854 - val_accuracy: 0.7932\n",
      "Epoch 4/8\n",
      "54/54 [==============================] - 10s 194ms/step - loss: 0.0067 - accuracy: 0.9980 - val_loss: 0.5630 - val_accuracy: 0.8158\n",
      "Epoch 5/8\n",
      "54/54 [==============================] - 11s 196ms/step - loss: 0.0070 - accuracy: 0.9982 - val_loss: 0.5873 - val_accuracy: 0.8081\n",
      "Epoch 6/8\n",
      "54/54 [==============================] - 11s 196ms/step - loss: 0.0067 - accuracy: 0.9982 - val_loss: 0.7150 - val_accuracy: 0.7843\n",
      "Epoch 7/8\n",
      "54/54 [==============================] - 10s 193ms/step - loss: 0.0072 - accuracy: 0.9982 - val_loss: 0.8602 - val_accuracy: 0.7555\n",
      "Epoch 8/8\n",
      "54/54 [==============================] - 11s 196ms/step - loss: 0.0065 - accuracy: 0.9982 - val_loss: 0.5832 - val_accuracy: 0.8131\n",
      "Epoch 1/8\n",
      "54/54 [==============================] - 11s 197ms/step - loss: 0.0071 - accuracy: 0.9979 - val_loss: 0.4863 - val_accuracy: 0.8333\n",
      "Epoch 2/8\n",
      "54/54 [==============================] - 11s 196ms/step - loss: 0.0066 - accuracy: 0.9980 - val_loss: 0.6738 - val_accuracy: 0.8000\n",
      "Epoch 3/8\n",
      "54/54 [==============================] - 11s 195ms/step - loss: 0.0065 - accuracy: 0.9980 - val_loss: 0.6282 - val_accuracy: 0.8086\n",
      "Epoch 4/8\n",
      "54/54 [==============================] - 10s 193ms/step - loss: 0.0067 - accuracy: 0.9978 - val_loss: 0.7568 - val_accuracy: 0.7918\n",
      "Epoch 5/8\n",
      "54/54 [==============================] - 11s 197ms/step - loss: 0.0064 - accuracy: 0.9980 - val_loss: 0.6098 - val_accuracy: 0.8162\n",
      "Epoch 6/8\n",
      "54/54 [==============================] - 11s 195ms/step - loss: 0.0066 - accuracy: 0.9979 - val_loss: 0.7733 - val_accuracy: 0.7838\n",
      "Epoch 7/8\n",
      "54/54 [==============================] - 11s 196ms/step - loss: 0.0063 - accuracy: 0.9982 - val_loss: 0.5363 - val_accuracy: 0.8261\n",
      "Epoch 8/8\n",
      "54/54 [==============================] - 11s 197ms/step - loss: 0.0061 - accuracy: 0.9982 - val_loss: 0.5822 - val_accuracy: 0.8197\n",
      "Epoch 1/8\n",
      "54/54 [==============================] - 11s 199ms/step - loss: 0.0071 - accuracy: 0.9977 - val_loss: 0.4254 - val_accuracy: 0.8470\n",
      "Epoch 2/8\n",
      "54/54 [==============================] - 10s 193ms/step - loss: 0.0063 - accuracy: 0.9980 - val_loss: 0.5870 - val_accuracy: 0.8159\n",
      "Epoch 3/8\n",
      "54/54 [==============================] - 11s 197ms/step - loss: 0.0062 - accuracy: 0.9980 - val_loss: 0.4957 - val_accuracy: 0.8301\n",
      "Epoch 4/8\n",
      "54/54 [==============================] - 11s 195ms/step - loss: 0.0063 - accuracy: 0.9980 - val_loss: 0.5839 - val_accuracy: 0.8126\n",
      "Epoch 5/8\n",
      "54/54 [==============================] - 10s 193ms/step - loss: 0.0063 - accuracy: 0.9980 - val_loss: 0.6492 - val_accuracy: 0.7998\n",
      "Epoch 6/8\n",
      "54/54 [==============================] - 10s 193ms/step - loss: 0.0063 - accuracy: 0.9979 - val_loss: 0.8280 - val_accuracy: 0.7641\n",
      "Epoch 7/8\n",
      "54/54 [==============================] - 11s 196ms/step - loss: 0.0064 - accuracy: 0.9979 - val_loss: 0.5263 - val_accuracy: 0.8307\n",
      "Epoch 8/8\n",
      "54/54 [==============================] - 11s 196ms/step - loss: 0.0062 - accuracy: 0.9980 - val_loss: 0.7486 - val_accuracy: 0.78430.0062 - accuracy: 0.\n",
      "  28/4279 [..............................] - ETA: 17s - loss: 2.3732 - accuracy: 0.5949"
     ]
    },
    {
     "name": "stderr",
     "output_type": "stream",
     "text": [
      "c:\\Users\\UX430\\anaconda3\\lib\\site-packages\\numpy\\core\\_asarray.py:171: VisibleDeprecationWarning: Creating an ndarray from ragged nested sequences (which is a list-or-tuple of lists-or-tuples-or ndarrays with different lengths or shapes) is deprecated. If you meant to do this, you must specify 'dtype=object' when creating the ndarray.\n",
      "  return array(a, dtype, copy=False, order=order, subok=True)\n"
     ]
    },
    {
     "name": "stdout",
     "output_type": "stream",
     "text": [
      "4279/4279 [==============================] - 16s 4ms/step - loss: 2.3852 - accuracy: 0.5907\n",
      "1721/1721 [==============================] - 8s 5ms/step - loss: 2.1888 - accuracy: 0.6872\n"
     ]
    }
   ],
   "source": [
    "# Values saved each iteration \n",
    "loss_it = []\n",
    "accuracy_it = []\n",
    "f1_it = []\n",
    "precision_it = []\n",
    "recall_it = []\n",
    "\n",
    "for i in range(global_updates): \n",
    "    w_list = []\n",
    "    for node in range(num_nodes): \n",
    "        cp = global_model # create a copy of the global model\n",
    "        if node == 0:\n",
    "            x, y = x1, y1\n",
    "        elif node == 1:\n",
    "            x, y = x2, y2\n",
    "        else:\n",
    "            x, y = x3, y3\n",
    "        local_model, local_loss, local_acc, local_val_loss, local_val_acc = train_local_model(cp, node, x, y)\n",
    "        w_list.append(local_model.get_weights())\n",
    "\n",
    "    avg_w = aggregate(w_list)\n",
    "    global_model.set_weights(avg_w) # apply gradients to global model\n",
    "    loss_basic, accuracy_basic, f1_basic, precision_basic, recall_basic = evaluation(global_model, xbasic, ybasic) # Evaluate with test basic to know progress\n",
    "    loss_plus, accuracy_plus, f1_plus, precision_plus, recall_plus = evaluation(global_model, xplus, yplus) # Evaluate with test plus to know progress\n",
    "\n",
    "    loss_it.append([loss_basic, loss_plus])\n",
    "    accuracy_it.append([accuracy_basic, accuracy_plus])\n",
    "    f1_it.append([f1_basic, f1_plus])\n",
    "    precision_it.append([precision_basic, precision_plus])\n",
    "    recall_it.append([recall_basic, recall_plus])\n",
    "\n",
    "\n",
    "global_model.save('C:/Users/UX430/Documents/thesis/code/models/id1915.hdf5')"
   ]
  },
  {
   "cell_type": "code",
   "execution_count": 99,
   "metadata": {},
   "outputs": [
    {
     "name": "stdout",
     "output_type": "stream",
     "text": [
      "Loss for iterations:  [[0.1551613062620163, 0.3090450167655945], [0.39441975951194763, 0.827255368232727], [0.48933789134025574, 1.1401209831237793], [1.3998279571533203, 1.718559980392456], [2.3852107524871826, 2.1888344287872314]]\n",
      "Accuracy for iterations:  [[0.9876712560653687, 0.9097035527229309], [0.7235531210899353, 0.7248964905738831], [0.6320590972900391, 0.686133086681366], [0.5892736911773682, 0.6792668700218201], [0.5906614065170288, 0.6871684789657593]]\n",
      "F1 for iterations:  [[0.9876740047741682, 0.9084097026691861], [0.6970280822167986, 0.6915926298900763], [0.5656337469397139, 0.6355295358394175], [0.4935263554174655, 0.6249145617594916], [0.49617727724775007, 0.6368594826811318]]\n",
      "Precision for iterations:  [[0.987710573856323, 0.917019485897581], [0.8072991844827647, 0.8046626074435853], [0.7640255800302556, 0.788097391066705], [0.7370750903214642, 0.7857416156544874], [0.7372821739744763, 0.7895831169954107]]\n",
      "Recall for iterations:  [[0.9876712728972509, 0.9097035530044322], [0.7235531274650151, 0.7248964615272833], [0.6320590727161179, 0.6861331105136962], [0.589273715270677, 0.6792668749545884], [0.5906614274445645, 0.6871684952408632]]\n"
     ]
    }
   ],
   "source": [
    "print(\"Loss for iterations: \", loss_it)\n",
    "print(\"Accuracy for iterations: \", accuracy_it)\n",
    "print(\"F1 for iterations: \", f1_it)\n",
    "print(\"Precision for iterations: \", precision_it)\n",
    "print(\"Recall for iterations: \", recall_it)"
   ]
  },
  {
   "cell_type": "markdown",
   "metadata": {},
   "source": [
    "#### #Epochs = 15, #Iterations = 5"
   ]
  },
  {
   "cell_type": "code",
   "execution_count": 100,
   "metadata": {},
   "outputs": [],
   "source": [
    "# Define \n",
    "node_datasets = [training1, training2, training3]\n",
    "num_nodes = 3\n",
    "global_updates = 5\n",
    "# Define model training parameters\n",
    "loss_fct = \"categorical_crossentropy\"\n",
    "metrics = ['accuracy']\n",
    "local_epochs = 15"
   ]
  },
  {
   "cell_type": "code",
   "execution_count": 101,
   "metadata": {},
   "outputs": [],
   "source": [
    "def train_local_model(model, node, x_train, y_train): \n",
    "    filepath = 'C:/Users/UX430/Documents/thesis/code/models/node'+str(node)+'id1916.hdf5'\n",
    "    callbacks = [\n",
    "            keras.callbacks.EarlyStopping(\n",
    "                monitor = 'val_loss', # Use accuracy to monitor the model\n",
    "                patience = 10 # Stop after 10 steps with lower accuracy\n",
    "            ),\n",
    "            keras.callbacks.ModelCheckpoint(\n",
    "                filepath = filepath, # file where the checkpoint is saved\n",
    "                monitor = 'val_loss', # Don't overwrite the saved model unless val_loss is worse\n",
    "                save_best_only = True)]# Only save model if it is the best\n",
    "    optimizer = keras.optimizers.Adam(learning_rate=5e-4)\n",
    "    model.compile(optimizer=optimizer, loss=loss_fct, metrics=metrics)\n",
    "    history = model.fit(x_train, y_train, epochs=local_epochs, validation_split=0.2, callbacks=callbacks, batch_size=2048)\n",
    "    return model, history.history['loss'], history.history['accuracy'], history.history['val_loss'], history.history['val_accuracy']"
   ]
  },
  {
   "cell_type": "code",
   "execution_count": 102,
   "metadata": {},
   "outputs": [],
   "source": [
    "global_model = build_model((24,1,1))"
   ]
  },
  {
   "cell_type": "code",
   "execution_count": 103,
   "metadata": {},
   "outputs": [
    {
     "name": "stdout",
     "output_type": "stream",
     "text": [
      "Epoch 1/15\n"
     ]
    },
    {
     "name": "stdout",
     "output_type": "stream",
     "text": [
      "54/54 [==============================] - 11s 207ms/step - loss: 0.2578 - accuracy: 0.9609 - val_loss: 1.8913 - val_accuracy: 0.6399\n",
      "Epoch 2/15\n",
      "54/54 [==============================] - 11s 195ms/step - loss: 0.0326 - accuracy: 0.9923 - val_loss: 0.6685 - val_accuracy: 0.6476\n",
      "Epoch 3/15\n",
      "54/54 [==============================] - 11s 201ms/step - loss: 0.0257 - accuracy: 0.9925 - val_loss: 0.5236 - val_accuracy: 0.6765\n",
      "Epoch 4/15\n",
      "54/54 [==============================] - 11s 211ms/step - loss: 0.0237 - accuracy: 0.9925 - val_loss: 0.4728 - val_accuracy: 0.6862\n",
      "Epoch 5/15\n",
      "54/54 [==============================] - 11s 209ms/step - loss: 0.0219 - accuracy: 0.9930 - val_loss: 0.4140 - val_accuracy: 0.7261\n",
      "Epoch 6/15\n",
      "54/54 [==============================] - 11s 206ms/step - loss: 0.0196 - accuracy: 0.9938 - val_loss: 0.4572 - val_accuracy: 0.7128\n",
      "Epoch 7/15\n",
      "54/54 [==============================] - 11s 210ms/step - loss: 0.0179 - accuracy: 0.9945 - val_loss: 0.3424 - val_accuracy: 0.7901\n",
      "Epoch 8/15\n",
      "54/54 [==============================] - 11s 209ms/step - loss: 0.0166 - accuracy: 0.9949 - val_loss: 0.3780 - val_accuracy: 0.7888\n",
      "Epoch 9/15\n",
      "54/54 [==============================] - 11s 208ms/step - loss: 0.0161 - accuracy: 0.9952 - val_loss: 0.4828 - val_accuracy: 0.7554\n",
      "Epoch 10/15\n",
      "54/54 [==============================] - 11s 209ms/step - loss: 0.0156 - accuracy: 0.9953 - val_loss: 0.5010 - val_accuracy: 0.7646\n",
      "Epoch 11/15\n",
      "54/54 [==============================] - 11s 207ms/step - loss: 0.0153 - accuracy: 0.9955 - val_loss: 0.5191 - val_accuracy: 0.7650\n",
      "Epoch 12/15\n",
      "54/54 [==============================] - 11s 209ms/step - loss: 0.0155 - accuracy: 0.9955 - val_loss: 0.5187 - val_accuracy: 0.7683- loss: 0.0158 - accura\n",
      "Epoch 13/15\n",
      "54/54 [==============================] - 11s 209ms/step - loss: 0.0149 - accuracy: 0.9958 - val_loss: 0.3657 - val_accuracy: 0.8237\n",
      "Epoch 14/15\n",
      "54/54 [==============================] - 11s 207ms/step - loss: 0.0148 - accuracy: 0.9957 - val_loss: 0.4152 - val_accuracy: 0.8115\n",
      "Epoch 15/15\n",
      "54/54 [==============================] - 11s 212ms/step - loss: 0.0149 - accuracy: 0.9960 - val_loss: 0.4273 - val_accuracy: 0.8071\n",
      "Epoch 1/15\n",
      "54/54 [==============================] - 11s 213ms/step - loss: 0.0142 - accuracy: 0.9958 - val_loss: 0.3274 - val_accuracy: 0.8452\n",
      "Epoch 2/15\n",
      "54/54 [==============================] - 11s 211ms/step - loss: 0.0138 - accuracy: 0.9961 - val_loss: 0.4174 - val_accuracy: 0.8263\n",
      "Epoch 3/15\n",
      "54/54 [==============================] - 11s 208ms/step - loss: 0.0136 - accuracy: 0.9961 - val_loss: 0.3554 - val_accuracy: 0.8440\n",
      "Epoch 4/15\n",
      "54/54 [==============================] - 12s 213ms/step - loss: 0.0135 - accuracy: 0.9961 - val_loss: 0.4957 - val_accuracy: 0.8083\n",
      "Epoch 5/15\n",
      "54/54 [==============================] - 12s 213ms/step - loss: 0.0131 - accuracy: 0.9963 - val_loss: 0.5065 - val_accuracy: 0.8071\n",
      "Epoch 6/15\n",
      "54/54 [==============================] - 12s 215ms/step - loss: 0.0130 - accuracy: 0.9963 - val_loss: 0.3443 - val_accuracy: 0.8527\n",
      "Epoch 7/15\n",
      "54/54 [==============================] - 11s 208ms/step - loss: 0.0127 - accuracy: 0.9963 - val_loss: 0.3977 - val_accuracy: 0.8428\n",
      "Epoch 8/15\n",
      "54/54 [==============================] - 11s 211ms/step - loss: 0.0130 - accuracy: 0.9962 - val_loss: 0.6385 - val_accuracy: 0.7738\n",
      "Epoch 9/15\n",
      "54/54 [==============================] - 11s 211ms/step - loss: 0.0128 - accuracy: 0.9963 - val_loss: 0.6063 - val_accuracy: 0.7905\n",
      "Epoch 10/15\n",
      "54/54 [==============================] - 11s 209ms/step - loss: 0.0125 - accuracy: 0.9964 - val_loss: 0.5254 - val_accuracy: 0.8146\n",
      "Epoch 11/15\n",
      "54/54 [==============================] - 11s 207ms/step - loss: 0.0120 - accuracy: 0.9965 - val_loss: 0.5563 - val_accuracy: 0.8075\n",
      "Epoch 1/15\n",
      "54/54 [==============================] - 12s 222ms/step - loss: 0.0118 - accuracy: 0.9965 - val_loss: 0.4367 - val_accuracy: 0.8340\n",
      "Epoch 2/15\n",
      "54/54 [==============================] - 12s 214ms/step - loss: 0.0112 - accuracy: 0.9967 - val_loss: 0.4607 - val_accuracy: 0.8282\n",
      "Epoch 3/15\n",
      "54/54 [==============================] - 11s 210ms/step - loss: 0.0109 - accuracy: 0.9968 - val_loss: 0.5759 - val_accuracy: 0.8049\n",
      "Epoch 4/15\n",
      "54/54 [==============================] - 12s 217ms/step - loss: 0.0110 - accuracy: 0.9966 - val_loss: 0.5476 - val_accuracy: 0.8137\n",
      "Epoch 5/15\n",
      "54/54 [==============================] - 11s 209ms/step - loss: 0.0110 - accuracy: 0.9965 - val_loss: 0.4717 - val_accuracy: 0.8304\n",
      "Epoch 6/15\n",
      "54/54 [==============================] - 11s 207ms/step - loss: 0.0106 - accuracy: 0.9968 - val_loss: 0.4510 - val_accuracy: 0.8429\n",
      "Epoch 7/15\n",
      "54/54 [==============================] - 11s 212ms/step - loss: 0.0102 - accuracy: 0.9969 - val_loss: 0.6185 - val_accuracy: 0.7962\n",
      "Epoch 8/15\n",
      "54/54 [==============================] - 11s 209ms/step - loss: 0.0101 - accuracy: 0.9968 - val_loss: 0.6005 - val_accuracy: 0.8018\n",
      "Epoch 9/15\n",
      "54/54 [==============================] - 11s 211ms/step - loss: 0.0099 - accuracy: 0.9969 - val_loss: 0.6161 - val_accuracy: 0.7976\n",
      "Epoch 10/15\n",
      "54/54 [==============================] - 11s 206ms/step - loss: 0.0096 - accuracy: 0.9970 - val_loss: 0.5312 - val_accuracy: 0.8278\n",
      "Epoch 11/15\n",
      "54/54 [==============================] - 11s 209ms/step - loss: 0.0092 - accuracy: 0.9972 - val_loss: 0.4667 - val_accuracy: 0.8368\n",
      "  15/4279 [..............................] - ETA: 17s - loss: 0.1878 - accuracy: 0.9563"
     ]
    },
    {
     "name": "stderr",
     "output_type": "stream",
     "text": [
      "c:\\Users\\UX430\\anaconda3\\lib\\site-packages\\numpy\\core\\_asarray.py:171: VisibleDeprecationWarning: Creating an ndarray from ragged nested sequences (which is a list-or-tuple of lists-or-tuples-or ndarrays with different lengths or shapes) is deprecated. If you meant to do this, you must specify 'dtype=object' when creating the ndarray.\n",
      "  return array(a, dtype, copy=False, order=order, subok=True)\n"
     ]
    },
    {
     "name": "stdout",
     "output_type": "stream",
     "text": [
      "4279/4279 [==============================] - 17s 4ms/step - loss: 0.2155 - accuracy: 0.9519\n",
      "1721/1721 [==============================] - 7s 4ms/step - loss: 0.6025 - accuracy: 0.8243\n",
      "Epoch 1/15\n",
      "54/54 [==============================] - 12s 218ms/step - loss: 0.0129 - accuracy: 0.9967 - val_loss: 0.5113 - val_accuracy: 0.8050\n",
      "Epoch 2/15\n",
      "54/54 [==============================] - 11s 210ms/step - loss: 0.0122 - accuracy: 0.9967 - val_loss: 0.4126 - val_accuracy: 0.8418\n",
      "Epoch 3/15\n",
      "54/54 [==============================] - 11s 208ms/step - loss: 0.0123 - accuracy: 0.9967 - val_loss: 0.4079 - val_accuracy: 0.8478\n",
      "Epoch 4/15\n",
      "54/54 [==============================] - 11s 212ms/step - loss: 0.0120 - accuracy: 0.9968 - val_loss: 0.4019 - val_accuracy: 0.8435\n",
      "Epoch 5/15\n",
      "54/54 [==============================] - 11s 210ms/step - loss: 0.0110 - accuracy: 0.9969 - val_loss: 0.5778 - val_accuracy: 0.7965\n",
      "Epoch 6/15\n",
      "54/54 [==============================] - 11s 212ms/step - loss: 0.0110 - accuracy: 0.9970 - val_loss: 0.4398 - val_accuracy: 0.8437\n",
      "Epoch 7/15\n",
      "54/54 [==============================] - 11s 208ms/step - loss: 0.0108 - accuracy: 0.9970 - val_loss: 0.4256 - val_accuracy: 0.8448\n",
      "Epoch 8/15\n",
      "54/54 [==============================] - 11s 209ms/step - loss: 0.0109 - accuracy: 0.9970 - val_loss: 0.6526 - val_accuracy: 0.7802\n",
      "Epoch 9/15\n",
      "54/54 [==============================] - 11s 210ms/step - loss: 0.0100 - accuracy: 0.9974 - val_loss: 0.5130 - val_accuracy: 0.8205\n",
      "Epoch 10/15\n",
      "54/54 [==============================] - 11s 212ms/step - loss: 0.0096 - accuracy: 0.9972 - val_loss: 0.6250 - val_accuracy: 0.7897\n",
      "Epoch 11/15\n",
      "54/54 [==============================] - 11s 206ms/step - loss: 0.0095 - accuracy: 0.9973 - val_loss: 0.7550 - val_accuracy: 0.7651\n",
      "Epoch 12/15\n",
      "54/54 [==============================] - 11s 210ms/step - loss: 0.0094 - accuracy: 0.9974 - val_loss: 0.4461 - val_accuracy: 0.8347\n",
      "Epoch 13/15\n",
      "54/54 [==============================] - 12s 215ms/step - loss: 0.0093 - accuracy: 0.9974 - val_loss: 0.7281 - val_accuracy: 0.7670\n",
      "Epoch 14/15\n",
      "54/54 [==============================] - 11s 211ms/step - loss: 0.0092 - accuracy: 0.9974 - val_loss: 0.6412 - val_accuracy: 0.8047\n",
      "Epoch 1/15\n",
      "54/54 [==============================] - 12s 214ms/step - loss: 0.0089 - accuracy: 0.9972 - val_loss: 0.5916 - val_accuracy: 0.8137\n",
      "Epoch 2/15\n",
      "54/54 [==============================] - 12s 213ms/step - loss: 0.0085 - accuracy: 0.9973 - val_loss: 0.6548 - val_accuracy: 0.7988\n",
      "Epoch 3/15\n",
      "54/54 [==============================] - 12s 215ms/step - loss: 0.0081 - accuracy: 0.9976 - val_loss: 0.4321 - val_accuracy: 0.8503\n",
      "Epoch 4/15\n",
      "54/54 [==============================] - 11s 212ms/step - loss: 0.0081 - accuracy: 0.9975 - val_loss: 0.4802 - val_accuracy: 0.8433\n",
      "Epoch 5/15\n",
      "54/54 [==============================] - 11s 211ms/step - loss: 0.0081 - accuracy: 0.9974 - val_loss: 0.4353 - val_accuracy: 0.8503\n",
      "Epoch 6/15\n",
      "54/54 [==============================] - 11s 211ms/step - loss: 0.0080 - accuracy: 0.9976 - val_loss: 0.4060 - val_accuracy: 0.8512\n",
      "Epoch 7/15\n",
      "54/54 [==============================] - 10s 194ms/step - loss: 0.0078 - accuracy: 0.9975 - val_loss: 0.5460 - val_accuracy: 0.8303\n",
      "Epoch 8/15\n",
      "54/54 [==============================] - 11s 195ms/step - loss: 0.0080 - accuracy: 0.9975 - val_loss: 0.6226 - val_accuracy: 0.8219\n",
      "Epoch 9/15\n",
      "54/54 [==============================] - 11s 197ms/step - loss: 0.0078 - accuracy: 0.9975 - val_loss: 0.5655 - val_accuracy: 0.8237\n",
      "Epoch 10/15\n",
      "54/54 [==============================] - 11s 196ms/step - loss: 0.0075 - accuracy: 0.9978 - val_loss: 0.4697 - val_accuracy: 0.8420\n",
      "Epoch 11/15\n",
      "54/54 [==============================] - 10s 194ms/step - loss: 0.0075 - accuracy: 0.9978 - val_loss: 0.6897 - val_accuracy: 0.7961\n",
      "Epoch 12/15\n",
      "54/54 [==============================] - 11s 199ms/step - loss: 0.0076 - accuracy: 0.9977 - val_loss: 0.5604 - val_accuracy: 0.8266\n",
      "Epoch 13/15\n",
      "54/54 [==============================] - 11s 196ms/step - loss: 0.0072 - accuracy: 0.9979 - val_loss: 0.4738 - val_accuracy: 0.8414\n",
      "Epoch 14/15\n",
      "54/54 [==============================] - 11s 195ms/step - loss: 0.0072 - accuracy: 0.9977 - val_loss: 0.4686 - val_accuracy: 0.8467\n",
      "Epoch 15/15\n",
      "54/54 [==============================] - 11s 197ms/step - loss: 0.0072 - accuracy: 0.9979 - val_loss: 0.5437 - val_accuracy: 0.8321\n",
      "Epoch 1/15\n",
      "54/54 [==============================] - 11s 196ms/step - loss: 0.0078 - accuracy: 0.9977 - val_loss: 0.4666 - val_accuracy: 0.8456\n",
      "Epoch 2/15\n",
      "54/54 [==============================] - 10s 194ms/step - loss: 0.0072 - accuracy: 0.9978 - val_loss: 0.5396 - val_accuracy: 0.8290\n",
      "Epoch 3/15\n",
      "54/54 [==============================] - 11s 195ms/step - loss: 0.0076 - accuracy: 0.9975 - val_loss: 0.4204 - val_accuracy: 0.8543\n",
      "Epoch 4/15\n",
      "54/54 [==============================] - 10s 194ms/step - loss: 0.0073 - accuracy: 0.9976 - val_loss: 0.7893 - val_accuracy: 0.7759\n",
      "Epoch 5/15\n",
      "54/54 [==============================] - 11s 201ms/step - loss: 0.0073 - accuracy: 0.9976 - val_loss: 0.5148 - val_accuracy: 0.8344\n",
      "Epoch 6/15\n",
      "54/54 [==============================] - 11s 195ms/step - loss: 0.0071 - accuracy: 0.9977 - val_loss: 0.6544 - val_accuracy: 0.8074\n",
      "Epoch 7/15\n",
      "54/54 [==============================] - 10s 192ms/step - loss: 0.0073 - accuracy: 0.9977 - val_loss: 0.4622 - val_accuracy: 0.8457\n",
      "Epoch 8/15\n",
      "54/54 [==============================] - 11s 195ms/step - loss: 0.0073 - accuracy: 0.9976 - val_loss: 0.4502 - val_accuracy: 0.8478\n",
      "Epoch 9/15\n",
      "54/54 [==============================] - 11s 195ms/step - loss: 0.0069 - accuracy: 0.9978 - val_loss: 0.6074 - val_accuracy: 0.8118\n",
      "Epoch 10/15\n",
      "54/54 [==============================] - 11s 195ms/step - loss: 0.0068 - accuracy: 0.9979 - val_loss: 0.5397 - val_accuracy: 0.8268\n",
      "Epoch 11/15\n",
      "54/54 [==============================] - 10s 193ms/step - loss: 0.0072 - accuracy: 0.9978 - val_loss: 0.4849 - val_accuracy: 0.8410\n",
      "Epoch 12/15\n",
      "54/54 [==============================] - 11s 195ms/step - loss: 0.0070 - accuracy: 0.9978 - val_loss: 0.6419 - val_accuracy: 0.8072\n",
      "Epoch 13/15\n",
      "54/54 [==============================] - 11s 195ms/step - loss: 0.0067 - accuracy: 0.9980 - val_loss: 0.5264 - val_accuracy: 0.8326\n",
      "  29/4279 [..............................] - ETA: 18s - loss: 0.4216 - accuracy: 0.7619"
     ]
    },
    {
     "name": "stderr",
     "output_type": "stream",
     "text": [
      "c:\\Users\\UX430\\anaconda3\\lib\\site-packages\\numpy\\core\\_asarray.py:171: VisibleDeprecationWarning: Creating an ndarray from ragged nested sequences (which is a list-or-tuple of lists-or-tuples-or ndarrays with different lengths or shapes) is deprecated. If you meant to do this, you must specify 'dtype=object' when creating the ndarray.\n",
      "  return array(a, dtype, copy=False, order=order, subok=True)\n"
     ]
    },
    {
     "name": "stdout",
     "output_type": "stream",
     "text": [
      "4279/4279 [==============================] - 19s 4ms/step - loss: 0.4390 - accuracy: 0.7667\n",
      "   1/1721 [..............................] - ETA: 0s - loss: 2.8057 - accuracy: 0.3438WARNING:tensorflow:Callbacks method `on_test_batch_end` is slow compared to the batch time (batch time: 0.0000s vs `on_test_batch_end` time: 0.0156s). Check your callbacks.\n",
      "1721/1721 [==============================] - 9s 5ms/step - loss: 1.4645 - accuracy: 0.6635\n",
      "Epoch 1/15\n",
      "54/54 [==============================] - 11s 206ms/step - loss: 0.0086 - accuracy: 0.9978 - val_loss: 0.5538 - val_accuracy: 0.8236\n",
      "Epoch 2/15\n",
      "54/54 [==============================] - 11s 205ms/step - loss: 0.0077 - accuracy: 0.9979 - val_loss: 0.7832 - val_accuracy: 0.7656\n",
      "Epoch 3/15\n",
      "54/54 [==============================] - 10s 194ms/step - loss: 0.0078 - accuracy: 0.9979 - val_loss: 0.4001 - val_accuracy: 0.8523\n",
      "Epoch 4/15\n",
      "54/54 [==============================] - 11s 196ms/step - loss: 0.0081 - accuracy: 0.9978 - val_loss: 0.8035 - val_accuracy: 0.7609\n",
      "Epoch 5/15\n",
      "54/54 [==============================] - 11s 196ms/step - loss: 0.0078 - accuracy: 0.9978 - val_loss: 0.6749 - val_accuracy: 0.8013\n",
      "Epoch 6/15\n",
      "54/54 [==============================] - 10s 193ms/step - loss: 0.0074 - accuracy: 0.9981 - val_loss: 0.6893 - val_accuracy: 0.7996\n",
      "Epoch 7/15\n",
      "54/54 [==============================] - 11s 196ms/step - loss: 0.0075 - accuracy: 0.9980 - val_loss: 0.5636 - val_accuracy: 0.8249\n",
      "Epoch 8/15\n",
      "54/54 [==============================] - 11s 195ms/step - loss: 0.0075 - accuracy: 0.9981 - val_loss: 0.6658 - val_accuracy: 0.8021\n",
      "Epoch 9/15\n",
      "54/54 [==============================] - 10s 193ms/step - loss: 0.0072 - accuracy: 0.9981 - val_loss: 0.7604 - val_accuracy: 0.7879\n",
      "Epoch 10/15\n",
      "54/54 [==============================] - 11s 196ms/step - loss: 0.0069 - accuracy: 0.9981 - val_loss: 0.7454 - val_accuracy: 0.7900\n",
      "Epoch 11/15\n",
      "54/54 [==============================] - 11s 195ms/step - loss: 0.0072 - accuracy: 0.9981 - val_loss: 0.8446 - val_accuracy: 0.7693\n",
      "Epoch 12/15\n",
      "54/54 [==============================] - 10s 193ms/step - loss: 0.0071 - accuracy: 0.9978 - val_loss: 0.8430 - val_accuracy: 0.7770\n",
      "Epoch 13/15\n",
      "54/54 [==============================] - 11s 197ms/step - loss: 0.0071 - accuracy: 0.9981 - val_loss: 0.6164 - val_accuracy: 0.8080\n",
      "Epoch 1/15\n",
      "54/54 [==============================] - 11s 198ms/step - loss: 0.0077 - accuracy: 0.9977 - val_loss: 0.7791 - val_accuracy: 0.7803\n",
      "Epoch 2/15\n",
      "54/54 [==============================] - 11s 196ms/step - loss: 0.0075 - accuracy: 0.9976 - val_loss: 0.7766 - val_accuracy: 0.7846\n",
      "Epoch 3/15\n",
      "54/54 [==============================] - 10s 194ms/step - loss: 0.0072 - accuracy: 0.9978 - val_loss: 0.6103 - val_accuracy: 0.8217\n",
      "Epoch 4/15\n",
      "54/54 [==============================] - 11s 196ms/step - loss: 0.0069 - accuracy: 0.9979 - val_loss: 0.6615 - val_accuracy: 0.8076\n",
      "Epoch 5/15\n",
      "54/54 [==============================] - 11s 196ms/step - loss: 0.0068 - accuracy: 0.9980 - val_loss: 0.5771 - val_accuracy: 0.8257\n",
      "Epoch 6/15\n",
      "54/54 [==============================] - 10s 193ms/step - loss: 0.0067 - accuracy: 0.9981 - val_loss: 0.6090 - val_accuracy: 0.8208\n",
      "Epoch 7/15\n",
      "54/54 [==============================] - 11s 196ms/step - loss: 0.0068 - accuracy: 0.9980 - val_loss: 0.6132 - val_accuracy: 0.8213\n",
      "Epoch 8/15\n",
      "54/54 [==============================] - 11s 196ms/step - loss: 0.0067 - accuracy: 0.9980 - val_loss: 0.5815 - val_accuracy: 0.8208\n",
      "Epoch 9/15\n",
      "54/54 [==============================] - 11s 196ms/step - loss: 0.0066 - accuracy: 0.9981 - val_loss: 0.5068 - val_accuracy: 0.8353\n",
      "Epoch 10/15\n",
      "54/54 [==============================] - 10s 194ms/step - loss: 0.0066 - accuracy: 0.9981 - val_loss: 0.5971 - val_accuracy: 0.8200\n",
      "Epoch 11/15\n",
      "54/54 [==============================] - 11s 196ms/step - loss: 0.0066 - accuracy: 0.9982 - val_loss: 0.6072 - val_accuracy: 0.8203\n",
      "Epoch 12/15\n",
      "54/54 [==============================] - 11s 196ms/step - loss: 0.0065 - accuracy: 0.9981 - val_loss: 0.4549 - val_accuracy: 0.8453\n",
      "Epoch 13/15\n",
      "54/54 [==============================] - 11s 196ms/step - loss: 0.0064 - accuracy: 0.9980 - val_loss: 0.8731 - val_accuracy: 0.7704\n",
      "Epoch 14/15\n",
      "54/54 [==============================] - 10s 193ms/step - loss: 0.0066 - accuracy: 0.9981 - val_loss: 0.6890 - val_accuracy: 0.8059\n",
      "Epoch 15/15\n",
      "54/54 [==============================] - 11s 196ms/step - loss: 0.0064 - accuracy: 0.9981 - val_loss: 0.7601 - val_accuracy: 0.7922\n",
      "Epoch 1/15\n",
      "54/54 [==============================] - 11s 195ms/step - loss: 0.0068 - accuracy: 0.9978 - val_loss: 0.6074 - val_accuracy: 0.8198\n",
      "Epoch 2/15\n",
      "54/54 [==============================] - 11s 196ms/step - loss: 0.0066 - accuracy: 0.9979 - val_loss: 0.7398 - val_accuracy: 0.7940\n",
      "Epoch 3/15\n",
      "54/54 [==============================] - 11s 196ms/step - loss: 0.0066 - accuracy: 0.9978 - val_loss: 0.6043 - val_accuracy: 0.8233\n",
      "Epoch 4/15\n",
      "54/54 [==============================] - 10s 193ms/step - loss: 0.0064 - accuracy: 0.9980 - val_loss: 0.5918 - val_accuracy: 0.8222\n",
      "Epoch 5/15\n",
      "54/54 [==============================] - 11s 196ms/step - loss: 0.0063 - accuracy: 0.9980 - val_loss: 0.4371 - val_accuracy: 0.8456\n",
      "Epoch 6/15\n",
      "54/54 [==============================] - 11s 195ms/step - loss: 0.0065 - accuracy: 0.9979 - val_loss: 0.4969 - val_accuracy: 0.8399\n",
      "Epoch 7/15\n",
      "54/54 [==============================] - 11s 196ms/step - loss: 0.0064 - accuracy: 0.9980 - val_loss: 0.4710 - val_accuracy: 0.8412\n",
      "Epoch 8/15\n",
      "54/54 [==============================] - 10s 194ms/step - loss: 0.0066 - accuracy: 0.9979 - val_loss: 0.6523 - val_accuracy: 0.8059\n",
      "Epoch 9/15\n",
      "54/54 [==============================] - 11s 197ms/step - loss: 0.0064 - accuracy: 0.9980 - val_loss: 0.5537 - val_accuracy: 0.8250\n",
      "Epoch 10/15\n",
      "54/54 [==============================] - 11s 196ms/step - loss: 0.0061 - accuracy: 0.9981 - val_loss: 0.5036 - val_accuracy: 0.8326\n",
      "Epoch 11/15\n",
      "54/54 [==============================] - 11s 196ms/step - loss: 0.0063 - accuracy: 0.9980 - val_loss: 0.3781 - val_accuracy: 0.8619\n",
      "Epoch 12/15\n",
      "54/54 [==============================] - 11s 195ms/step - loss: 0.0062 - accuracy: 0.9980 - val_loss: 0.3841 - val_accuracy: 0.8631\n",
      "Epoch 13/15\n",
      "54/54 [==============================] - 11s 195ms/step - loss: 0.0063 - accuracy: 0.9980 - val_loss: 0.4958 - val_accuracy: 0.8355\n",
      "Epoch 14/15\n",
      "54/54 [==============================] - 11s 195ms/step - loss: 0.0061 - accuracy: 0.9980 - val_loss: 0.6422 - val_accuracy: 0.8127\n",
      "Epoch 15/15\n",
      "54/54 [==============================] - 11s 195ms/step - loss: 0.0060 - accuracy: 0.9981 - val_loss: 0.6976 - val_accuracy: 0.7995\n",
      "  14/4279 [..............................] - ETA: 19s - loss: 1.1942 - accuracy: 0.6094"
     ]
    },
    {
     "name": "stderr",
     "output_type": "stream",
     "text": [
      "c:\\Users\\UX430\\anaconda3\\lib\\site-packages\\numpy\\core\\_asarray.py:171: VisibleDeprecationWarning: Creating an ndarray from ragged nested sequences (which is a list-or-tuple of lists-or-tuples-or ndarrays with different lengths or shapes) is deprecated. If you meant to do this, you must specify 'dtype=object' when creating the ndarray.\n",
      "  return array(a, dtype, copy=False, order=order, subok=True)\n"
     ]
    },
    {
     "name": "stdout",
     "output_type": "stream",
     "text": [
      "4279/4279 [==============================] - 16s 4ms/step - loss: 1.2051 - accuracy: 0.5929\n",
      "1721/1721 [==============================] - 9s 5ms/step - loss: 2.0876 - accuracy: 0.6579\n",
      "Epoch 1/15\n",
      "54/54 [==============================] - 11s 205ms/step - loss: 0.0069 - accuracy: 0.9981 - val_loss: 0.4917 - val_accuracy: 0.8369\n",
      "Epoch 2/15\n",
      "54/54 [==============================] - 11s 201ms/step - loss: 0.0068 - accuracy: 0.9982 - val_loss: 0.5841 - val_accuracy: 0.8159\n",
      "Epoch 3/15\n",
      "54/54 [==============================] - 11s 197ms/step - loss: 0.0065 - accuracy: 0.9982 - val_loss: 0.7025 - val_accuracy: 0.8043\n",
      "Epoch 4/15\n",
      "54/54 [==============================] - 10s 194ms/step - loss: 0.0064 - accuracy: 0.9983 - val_loss: 0.6358 - val_accuracy: 0.8102\n",
      "Epoch 5/15\n",
      "54/54 [==============================] - 11s 195ms/step - loss: 0.0066 - accuracy: 0.9982 - val_loss: 0.8439 - val_accuracy: 0.7726\n",
      "Epoch 6/15\n",
      "54/54 [==============================] - 11s 196ms/step - loss: 0.0064 - accuracy: 0.9982 - val_loss: 0.9817 - val_accuracy: 0.7390\n",
      "Epoch 7/15\n",
      "54/54 [==============================] - 10s 193ms/step - loss: 0.0066 - accuracy: 0.9982 - val_loss: 0.6139 - val_accuracy: 0.8140\n",
      "Epoch 8/15\n",
      "54/54 [==============================] - 11s 196ms/step - loss: 0.0061 - accuracy: 0.9983 - val_loss: 0.5827 - val_accuracy: 0.8171\n",
      "Epoch 9/15\n",
      "54/54 [==============================] - 11s 196ms/step - loss: 0.0063 - accuracy: 0.9984 - val_loss: 0.7329 - val_accuracy: 0.7939\n",
      "Epoch 10/15\n",
      "54/54 [==============================] - 11s 196ms/step - loss: 0.0063 - accuracy: 0.9983 - val_loss: 0.6896 - val_accuracy: 0.8014\n",
      "Epoch 11/15\n",
      "54/54 [==============================] - 10s 193ms/step - loss: 0.0066 - accuracy: 0.9983 - val_loss: 0.5831 - val_accuracy: 0.8168\n",
      "Epoch 1/15\n",
      "54/54 [==============================] - 11s 197ms/step - loss: 0.0070 - accuracy: 0.9980 - val_loss: 0.5422 - val_accuracy: 0.8231\n",
      "Epoch 2/15\n",
      "54/54 [==============================] - 11s 197ms/step - loss: 0.0065 - accuracy: 0.9980 - val_loss: 0.7346 - val_accuracy: 0.7920\n",
      "Epoch 3/15\n",
      "54/54 [==============================] - 10s 193ms/step - loss: 0.0063 - accuracy: 0.9981 - val_loss: 0.6034 - val_accuracy: 0.8194\n",
      "Epoch 4/15\n",
      "54/54 [==============================] - 11s 199ms/step - loss: 0.0064 - accuracy: 0.9980 - val_loss: 0.7409 - val_accuracy: 0.7977\n",
      "Epoch 5/15\n",
      "54/54 [==============================] - 11s 196ms/step - loss: 0.0063 - accuracy: 0.9981 - val_loss: 0.6170 - val_accuracy: 0.8099\n",
      "Epoch 6/15\n",
      "54/54 [==============================] - 10s 194ms/step - loss: 0.0061 - accuracy: 0.9981 - val_loss: 0.3748 - val_accuracy: 0.8627\n",
      "Epoch 7/15\n",
      "54/54 [==============================] - 11s 196ms/step - loss: 0.0062 - accuracy: 0.9980 - val_loss: 0.5410 - val_accuracy: 0.8283\n",
      "Epoch 8/15\n",
      "54/54 [==============================] - 11s 196ms/step - loss: 0.0060 - accuracy: 0.9982 - val_loss: 0.5879 - val_accuracy: 0.8251\n",
      "Epoch 9/15\n",
      "54/54 [==============================] - 11s 196ms/step - loss: 0.0060 - accuracy: 0.9982 - val_loss: 0.7671 - val_accuracy: 0.7970\n",
      "Epoch 10/15\n",
      "54/54 [==============================] - 10s 193ms/step - loss: 0.0062 - accuracy: 0.9982 - val_loss: 0.6608 - val_accuracy: 0.8083\n",
      "Epoch 11/15\n",
      "54/54 [==============================] - 11s 197ms/step - loss: 0.0063 - accuracy: 0.9980 - val_loss: 0.5494 - val_accuracy: 0.8310\n",
      "Epoch 12/15\n",
      "54/54 [==============================] - 11s 196ms/step - loss: 0.0060 - accuracy: 0.9982 - val_loss: 0.9172 - val_accuracy: 0.7753\n",
      "Epoch 13/15\n",
      "54/54 [==============================] - 10s 193ms/step - loss: 0.0063 - accuracy: 0.9979 - val_loss: 0.5945 - val_accuracy: 0.8243\n",
      "Epoch 14/15\n",
      "54/54 [==============================] - 11s 196ms/step - loss: 0.0059 - accuracy: 0.9982 - val_loss: 0.5094 - val_accuracy: 0.8398\n",
      "Epoch 15/15\n",
      "54/54 [==============================] - 11s 195ms/step - loss: 0.0060 - accuracy: 0.9981 - val_loss: 0.5789 - val_accuracy: 0.8275\n",
      "Epoch 1/15\n",
      "54/54 [==============================] - 11s 195ms/step - loss: 0.0065 - accuracy: 0.9980 - val_loss: 0.6543 - val_accuracy: 0.8091\n",
      "Epoch 2/15\n",
      "54/54 [==============================] - 10s 194ms/step - loss: 0.0062 - accuracy: 0.9979 - val_loss: 0.4902 - val_accuracy: 0.8385\n",
      "Epoch 3/15\n",
      "54/54 [==============================] - 11s 196ms/step - loss: 0.0059 - accuracy: 0.9981 - val_loss: 0.5171 - val_accuracy: 0.8314\n",
      "Epoch 4/15\n",
      "54/54 [==============================] - 11s 196ms/step - loss: 0.0060 - accuracy: 0.9980 - val_loss: 0.7571 - val_accuracy: 0.7905\n",
      "Epoch 5/15\n",
      "54/54 [==============================] - 10s 193ms/step - loss: 0.0058 - accuracy: 0.9982 - val_loss: 0.7686 - val_accuracy: 0.7905\n",
      "Epoch 6/15\n",
      "54/54 [==============================] - 11s 196ms/step - loss: 0.0058 - accuracy: 0.9982 - val_loss: 0.5309 - val_accuracy: 0.8318\n",
      "Epoch 7/15\n",
      "54/54 [==============================] - 11s 196ms/step - loss: 0.0057 - accuracy: 0.9982 - val_loss: 0.4980 - val_accuracy: 0.8360\n",
      "Epoch 8/15\n",
      "54/54 [==============================] - 11s 196ms/step - loss: 0.0057 - accuracy: 0.9981 - val_loss: 0.7019 - val_accuracy: 0.8069\n",
      "Epoch 9/15\n",
      "54/54 [==============================] - 10s 193ms/step - loss: 0.0057 - accuracy: 0.9982 - val_loss: 0.6247 - val_accuracy: 0.8161\n",
      "Epoch 10/15\n",
      "54/54 [==============================] - 11s 198ms/step - loss: 0.0058 - accuracy: 0.9980 - val_loss: 0.8230 - val_accuracy: 0.7842\n",
      "Epoch 11/15\n",
      "54/54 [==============================] - 10s 193ms/step - loss: 0.0054 - accuracy: 0.9982 - val_loss: 0.8585 - val_accuracy: 0.7737\n",
      "Epoch 12/15\n",
      "54/54 [==============================] - 11s 196ms/step - loss: 0.0055 - accuracy: 0.9982 - val_loss: 0.7359 - val_accuracy: 0.8030\n",
      "  30/4279 [..............................] - ETA: 17s - loss: 1.5050 - accuracy: 0.6000"
     ]
    },
    {
     "name": "stderr",
     "output_type": "stream",
     "text": [
      "c:\\Users\\UX430\\anaconda3\\lib\\site-packages\\numpy\\core\\_asarray.py:171: VisibleDeprecationWarning: Creating an ndarray from ragged nested sequences (which is a list-or-tuple of lists-or-tuples-or ndarrays with different lengths or shapes) is deprecated. If you meant to do this, you must specify 'dtype=object' when creating the ndarray.\n",
      "  return array(a, dtype, copy=False, order=order, subok=True)\n"
     ]
    },
    {
     "name": "stdout",
     "output_type": "stream",
     "text": [
      "4279/4279 [==============================] - 15s 4ms/step - loss: 1.5226 - accuracy: 0.5926\n",
      "1721/1721 [==============================] - 10s 6ms/step - loss: 2.1810 - accuracy: 0.7010\n",
      "Epoch 1/15\n",
      "54/54 [==============================] - 11s 204ms/step - loss: 0.0064 - accuracy: 0.9982 - val_loss: 0.4371 - val_accuracy: 0.8478\n",
      "Epoch 2/15\n",
      "54/54 [==============================] - 11s 200ms/step - loss: 0.0062 - accuracy: 0.9984 - val_loss: 0.5495 - val_accuracy: 0.8274\n",
      "Epoch 3/15\n",
      "54/54 [==============================] - 11s 196ms/step - loss: 0.0058 - accuracy: 0.9983 - val_loss: 0.6802 - val_accuracy: 0.8021\n",
      "Epoch 4/15\n",
      "54/54 [==============================] - 11s 195ms/step - loss: 0.0061 - accuracy: 0.9984 - val_loss: 0.5591 - val_accuracy: 0.8186\n",
      "Epoch 5/15\n",
      "54/54 [==============================] - 10s 193ms/step - loss: 0.0055 - accuracy: 0.9985 - val_loss: 0.6556 - val_accuracy: 0.8105\n",
      "Epoch 6/15\n",
      "54/54 [==============================] - 11s 196ms/step - loss: 0.0078 - accuracy: 0.9982 - val_loss: 0.7606 - val_accuracy: 0.7853\n",
      "Epoch 7/15\n",
      "54/54 [==============================] - 10s 194ms/step - loss: 0.0060 - accuracy: 0.9984 - val_loss: 0.4708 - val_accuracy: 0.8387\n",
      "Epoch 8/15\n",
      "54/54 [==============================] - 11s 195ms/step - loss: 0.0056 - accuracy: 0.9983 - val_loss: 0.5786 - val_accuracy: 0.8163\n",
      "Epoch 9/15\n",
      "54/54 [==============================] - 11s 195ms/step - loss: 0.0056 - accuracy: 0.9985 - val_loss: 0.9179 - val_accuracy: 0.7631\n",
      "Epoch 10/15\n",
      "54/54 [==============================] - 10s 193ms/step - loss: 0.0065 - accuracy: 0.9983 - val_loss: 0.6676 - val_accuracy: 0.8026\n",
      "Epoch 11/15\n",
      "54/54 [==============================] - 11s 196ms/step - loss: 0.0060 - accuracy: 0.9984 - val_loss: 0.6231 - val_accuracy: 0.8125\n",
      "Epoch 1/15\n",
      "54/54 [==============================] - 11s 197ms/step - loss: 0.0064 - accuracy: 0.9981 - val_loss: 0.6218 - val_accuracy: 0.8126\n",
      "Epoch 2/15\n",
      "54/54 [==============================] - 11s 202ms/step - loss: 0.0059 - accuracy: 0.9982 - val_loss: 0.6505 - val_accuracy: 0.8123\n",
      "Epoch 3/15\n",
      "54/54 [==============================] - 10s 194ms/step - loss: 0.0059 - accuracy: 0.9983 - val_loss: 0.4107 - val_accuracy: 0.8516\n",
      "Epoch 4/15\n",
      "54/54 [==============================] - 11s 195ms/step - loss: 0.0059 - accuracy: 0.9982 - val_loss: 0.5808 - val_accuracy: 0.8204\n",
      "Epoch 5/15\n",
      "54/54 [==============================] - 11s 196ms/step - loss: 0.0058 - accuracy: 0.9982 - val_loss: 0.6460 - val_accuracy: 0.8135\n",
      "Epoch 6/15\n",
      "54/54 [==============================] - 11s 196ms/step - loss: 0.0059 - accuracy: 0.9982 - val_loss: 0.7289 - val_accuracy: 0.8027\n",
      "Epoch 7/15\n",
      "54/54 [==============================] - 11s 196ms/step - loss: 0.0057 - accuracy: 0.9982 - val_loss: 0.4245 - val_accuracy: 0.8523\n",
      "Epoch 8/15\n",
      "54/54 [==============================] - 11s 201ms/step - loss: 0.0057 - accuracy: 0.9981 - val_loss: 0.5947 - val_accuracy: 0.8285\n",
      "Epoch 9/15\n",
      "54/54 [==============================] - 10s 193ms/step - loss: 0.0056 - accuracy: 0.9983 - val_loss: 0.6867 - val_accuracy: 0.8077\n",
      "Epoch 10/15\n",
      "54/54 [==============================] - 11s 198ms/step - loss: 0.0056 - accuracy: 0.9983 - val_loss: 0.7537 - val_accuracy: 0.7992\n",
      "Epoch 11/15\n",
      "54/54 [==============================] - 10s 193ms/step - loss: 0.0056 - accuracy: 0.9983 - val_loss: 0.5434 - val_accuracy: 0.8356\n",
      "Epoch 12/15\n",
      "54/54 [==============================] - 11s 195ms/step - loss: 0.0058 - accuracy: 0.9981 - val_loss: 0.6286 - val_accuracy: 0.8149\n",
      "Epoch 13/15\n",
      "54/54 [==============================] - 11s 196ms/step - loss: 0.0054 - accuracy: 0.9984 - val_loss: 0.6799 - val_accuracy: 0.8099\n",
      "Epoch 1/15\n",
      "54/54 [==============================] - 11s 195ms/step - loss: 0.0057 - accuracy: 0.9980 - val_loss: 0.6730 - val_accuracy: 0.8049\n",
      "Epoch 2/15\n",
      "54/54 [==============================] - 11s 195ms/step - loss: 0.0056 - accuracy: 0.9981 - val_loss: 0.4442 - val_accuracy: 0.8508\n",
      "Epoch 3/15\n",
      "54/54 [==============================] - 11s 200ms/step - loss: 0.0058 - accuracy: 0.9981 - val_loss: 0.5734 - val_accuracy: 0.8198\n",
      "Epoch 4/15\n",
      "54/54 [==============================] - 11s 195ms/step - loss: 0.0057 - accuracy: 0.9981 - val_loss: 0.6321 - val_accuracy: 0.8101\n",
      "Epoch 5/15\n",
      "54/54 [==============================] - 10s 193ms/step - loss: 0.0053 - accuracy: 0.9982 - val_loss: 0.5302 - val_accuracy: 0.8322\n",
      "Epoch 6/15\n",
      "54/54 [==============================] - 11s 199ms/step - loss: 0.0053 - accuracy: 0.9982 - val_loss: 0.6905 - val_accuracy: 0.8069\n",
      "Epoch 7/15\n",
      "54/54 [==============================] - 11s 196ms/step - loss: 0.0051 - accuracy: 0.9983 - val_loss: 0.5169 - val_accuracy: 0.8343\n",
      "Epoch 8/15\n",
      "54/54 [==============================] - 11s 195ms/step - loss: 0.0052 - accuracy: 0.9983 - val_loss: 0.7731 - val_accuracy: 0.79970.0053 - accura\n",
      "Epoch 9/15\n",
      "54/54 [==============================] - 10s 193ms/step - loss: 0.0053 - accuracy: 0.9983 - val_loss: 0.5528 - val_accuracy: 0.8255\n",
      "Epoch 10/15\n",
      "54/54 [==============================] - 11s 196ms/step - loss: 0.0050 - accuracy: 0.9983 - val_loss: 0.4566 - val_accuracy: 0.8479\n",
      "Epoch 11/15\n",
      "54/54 [==============================] - 11s 195ms/step - loss: 0.0051 - accuracy: 0.9983 - val_loss: 0.5518 - val_accuracy: 0.8272\n",
      "Epoch 12/15\n",
      "54/54 [==============================] - 10s 193ms/step - loss: 0.0051 - accuracy: 0.9982 - val_loss: 0.6540 - val_accuracy: 0.8117\n",
      "  21/4279 [..............................] - ETA: 25s - loss: 1.9844 - accuracy: 0.6012"
     ]
    },
    {
     "name": "stderr",
     "output_type": "stream",
     "text": [
      "c:\\Users\\UX430\\anaconda3\\lib\\site-packages\\numpy\\core\\_asarray.py:171: VisibleDeprecationWarning: Creating an ndarray from ragged nested sequences (which is a list-or-tuple of lists-or-tuples-or ndarrays with different lengths or shapes) is deprecated. If you meant to do this, you must specify 'dtype=object' when creating the ndarray.\n",
      "  return array(a, dtype, copy=False, order=order, subok=True)\n"
     ]
    },
    {
     "name": "stdout",
     "output_type": "stream",
     "text": [
      "4279/4279 [==============================] - 18s 4ms/step - loss: 2.0096 - accuracy: 0.5914\n",
      "1721/1721 [==============================] - 9s 5ms/step - loss: 2.4714 - accuracy: 0.7287\n"
     ]
    }
   ],
   "source": [
    "# Values saved each iteration \n",
    "loss_it = []\n",
    "accuracy_it = []\n",
    "f1_it = []\n",
    "precision_it = []\n",
    "recall_it = []\n",
    "\n",
    "for i in range(global_updates): \n",
    "    w_list = []\n",
    "    for node in range(num_nodes): \n",
    "        cp = global_model # create a copy of the global model\n",
    "        if node == 0:\n",
    "            x, y = x1, y1\n",
    "        elif node == 1:\n",
    "            x, y = x2, y2\n",
    "        else:\n",
    "            x, y = x3, y3\n",
    "        local_model, local_loss, local_acc, local_val_loss, local_val_acc = train_local_model(cp, node, x, y)\n",
    "        w_list.append(local_model.get_weights())\n",
    "\n",
    "    avg_w = aggregate(w_list)\n",
    "    global_model.set_weights(avg_w) # apply gradients to global model\n",
    "    loss_basic, accuracy_basic, f1_basic, precision_basic, recall_basic = evaluation(global_model, xbasic, ybasic) # Evaluate with test basic to know progress\n",
    "    loss_plus, accuracy_plus, f1_plus, precision_plus, recall_plus = evaluation(global_model, xplus, yplus) # Evaluate with test plus to know progress\n",
    "\n",
    "    loss_it.append([loss_basic, loss_plus])\n",
    "    accuracy_it.append([accuracy_basic, accuracy_plus])\n",
    "    f1_it.append([f1_basic, f1_plus])\n",
    "    precision_it.append([precision_basic, precision_plus])\n",
    "    recall_it.append([recall_basic, recall_plus])\n",
    "\n",
    "\n",
    "global_model.save('C:/Users/UX430/Documents/thesis/code/models/id1916.hdf5')"
   ]
  },
  {
   "cell_type": "code",
   "execution_count": 104,
   "metadata": {},
   "outputs": [
    {
     "name": "stdout",
     "output_type": "stream",
     "text": [
      "Loss for iterations:  [[0.21554751694202423, 0.6025245785713196], [0.43903639912605286, 1.4645129442214966], [1.2050604820251465, 2.087563991546631], [1.522641658782959, 2.1810131072998047], [2.0096006393432617, 2.4713964462280273]]\n",
      "Accuracy for iterations:  [[0.951904833316803, 0.8243297338485718], [0.7666671276092529, 0.6635181307792664], [0.5929402112960815, 0.6579052805900574], [0.59264075756073, 0.7010281085968018], [0.5913698673248291, 0.7287473678588867]]\n",
      "F1 for iterations:  [[0.9517577984522455, 0.815554872472297], [0.7510943322934576, 0.6004197509719447], [0.5016871463562266, 0.5910450327209422], [0.5031850823105745, 0.6578276036984575], [0.5035784985272762, 0.6969376973614473]]\n",
      "Precision for iterations:  [[0.9537582253850795, 0.8581842500087389], [0.8281696470343505, 0.7777392125236178], [0.7319174911136448, 0.7766280385398969], [0.7224876012655619, 0.7937685972410671], [0.7104288177094473, 0.8061525739118192]]\n",
      "Recall for iterations:  [[0.9519048175523679, 0.8243297246239919], [0.7666671535832189, 0.6635181283150476], [0.5929401969090538, 0.657905253215142], [0.5926407432294254, 0.7010281188694325], [0.5913698910280756, 0.7287473661265712]]\n"
     ]
    }
   ],
   "source": [
    "print(\"Loss for iterations: \", loss_it)\n",
    "print(\"Accuracy for iterations: \", accuracy_it)\n",
    "print(\"F1 for iterations: \", f1_it)\n",
    "print(\"Precision for iterations: \", precision_it)\n",
    "print(\"Recall for iterations: \", recall_it)"
   ]
  },
  {
   "cell_type": "markdown",
   "metadata": {},
   "source": [
    "#### #Epochs = 5, #Iterations = 3"
   ]
  },
  {
   "cell_type": "code",
   "execution_count": 153,
   "metadata": {},
   "outputs": [
    {
     "name": "stderr",
     "output_type": "stream",
     "text": [
      "C:\\Users\\UX430\\AppData\\Local\\Temp/ipykernel_17376/1685572531.py:2: DtypeWarning: Columns (2,4) have mixed types. Specify dtype option on import or set low_memory=False.\n",
      "  training1 = pd.read_csv('C:/Users/UX430/Documents/thesis/datasets/UNSW-NB15/UNSW-NB15-Train-Basic-3C-Part1.csv')\n",
      "C:\\Users\\UX430\\AppData\\Local\\Temp/ipykernel_17376/1685572531.py:3: DtypeWarning: Columns (4) have mixed types. Specify dtype option on import or set low_memory=False.\n",
      "  training2 = pd.read_csv('C:/Users/UX430/Documents/thesis/datasets/UNSW-NB15/UNSW-NB15-Train-Basic-3C-Part2.csv')\n",
      "C:\\Users\\UX430\\AppData\\Local\\Temp/ipykernel_17376/1685572531.py:4: DtypeWarning: Columns (4) have mixed types. Specify dtype option on import or set low_memory=False.\n",
      "  training3 = pd.read_csv('C:/Users/UX430/Documents/thesis/datasets/UNSW-NB15/UNSW-NB15-Train-Basic-3C-Part3.csv')\n",
      "C:\\Users\\UX430\\AppData\\Local\\Temp/ipykernel_17376/1685572531.py:5: DtypeWarning: Columns (4) have mixed types. Specify dtype option on import or set low_memory=False.\n",
      "  test_basic = pd.read_csv('C:/Users/UX430/Documents/thesis/datasets/UNSW-NB15/UNSW-NB15-Test-Basic.csv')\n"
     ]
    }
   ],
   "source": [
    "# Load training datasets and testing datasets \n",
    "training1 = pd.read_csv('C:/Users/UX430/Documents/thesis/datasets/UNSW-NB15/UNSW-NB15-Train-Basic-3C-Part1.csv')\n",
    "training2 = pd.read_csv('C:/Users/UX430/Documents/thesis/datasets/UNSW-NB15/UNSW-NB15-Train-Basic-3C-Part2.csv')\n",
    "training3 = pd.read_csv('C:/Users/UX430/Documents/thesis/datasets/UNSW-NB15/UNSW-NB15-Train-Basic-3C-Part3.csv')\n",
    "test_basic = pd.read_csv('C:/Users/UX430/Documents/thesis/datasets/UNSW-NB15/UNSW-NB15-Test-Basic.csv')\n",
    "test_plus = pd.read_csv('C:/Users/UX430/Documents/thesis/datasets/UNSW-NB15/UNSW-NB15-Test+.csv')"
   ]
  },
  {
   "cell_type": "code",
   "execution_count": 154,
   "metadata": {},
   "outputs": [],
   "source": [
    "# Define \n",
    "node_datasets = [training1, training2, training3]\n",
    "num_nodes = 3\n",
    "global_updates = 3\n",
    "# Define model training parameters\n",
    "loss_fct = \"categorical_crossentropy\"\n",
    "metrics = ['accuracy']\n",
    "local_epochs = 5"
   ]
  },
  {
   "cell_type": "code",
   "execution_count": 155,
   "metadata": {},
   "outputs": [],
   "source": [
    "def train_local_model(model, node, x_train, y_train): \n",
    "    filepath = 'C:/Users/UX430/Documents/thesis/code/models/node'+str(node)+'id1917.hdf5'\n",
    "    callbacks = [\n",
    "            keras.callbacks.EarlyStopping(\n",
    "                monitor = 'val_loss', # Use accuracy to monitor the model\n",
    "                patience = 10 # Stop after 10 steps with lower accuracy\n",
    "            ),\n",
    "            keras.callbacks.ModelCheckpoint(\n",
    "                filepath = filepath, # file where the checkpoint is saved\n",
    "                monitor = 'val_loss', # Don't overwrite the saved model unless val_loss is worse\n",
    "                save_best_only = True)]# Only save model if it is the best\n",
    "    optimizer = keras.optimizers.Adam(learning_rate=5e-4)\n",
    "    model.compile(optimizer=optimizer, loss=loss_fct, metrics=metrics)\n",
    "    history = model.fit(x_train, y_train, epochs=local_epochs, validation_split=0.2, callbacks=callbacks, batch_size=2048)\n",
    "    return model, history.history['loss'], history.history['accuracy'], history.history['val_loss'], history.history['val_accuracy']"
   ]
  },
  {
   "cell_type": "code",
   "execution_count": 156,
   "metadata": {},
   "outputs": [],
   "source": [
    "global_model = build_model((24,1,1))"
   ]
  },
  {
   "cell_type": "code",
   "execution_count": 157,
   "metadata": {},
   "outputs": [
    {
     "name": "stdout",
     "output_type": "stream",
     "text": [
      "Epoch 1/5\n",
      "45/45 [==============================] - 10s 213ms/step - loss: 0.2985 - accuracy: 0.9581 - val_loss: 2.1682 - val_accuracy: 0.5722\n",
      "Epoch 2/5\n",
      "45/45 [==============================] - 9s 210ms/step - loss: 0.0375 - accuracy: 0.9908 - val_loss: 0.6280 - val_accuracy: 0.6188\n",
      "Epoch 3/5\n",
      "45/45 [==============================] - 9s 209ms/step - loss: 0.0259 - accuracy: 0.9911 - val_loss: 0.5202 - val_accuracy: 0.6711\n",
      "Epoch 4/5\n",
      "45/45 [==============================] - 9s 207ms/step - loss: 0.0238 - accuracy: 0.9914 - val_loss: 0.4142 - val_accuracy: 0.7493\n",
      "Epoch 5/5\n",
      "45/45 [==============================] - 9s 208ms/step - loss: 0.0219 - accuracy: 0.9921 - val_loss: 0.3805 - val_accuracy: 0.7698\n",
      "Epoch 1/5\n",
      "65/65 [==============================] - 14s 209ms/step - loss: 0.0209 - accuracy: 0.9936 - val_loss: 0.4311 - val_accuracy: 0.7335\n",
      "Epoch 2/5\n",
      "65/65 [==============================] - 13s 207ms/step - loss: 0.0176 - accuracy: 0.9946 - val_loss: 0.4078 - val_accuracy: 0.7782\n",
      "Epoch 3/5\n",
      "65/65 [==============================] - 13s 207ms/step - loss: 0.0156 - accuracy: 0.9955 - val_loss: 0.5064 - val_accuracy: 0.7859\n",
      "Epoch 4/5\n",
      "65/65 [==============================] - 13s 205ms/step - loss: 0.0150 - accuracy: 0.9957 - val_loss: 0.5922 - val_accuracy: 0.7782\n",
      "Epoch 5/5\n",
      "65/65 [==============================] - 13s 203ms/step - loss: 0.0147 - accuracy: 0.9959 - val_loss: 0.8784 - val_accuracy: 0.7495\n",
      "Epoch 1/5\n",
      "52/52 [==============================] - 11s 207ms/step - loss: 0.0482 - accuracy: 0.9815 - val_loss: 0.4489 - val_accuracy: 0.7693\n",
      "Epoch 2/5\n",
      "52/52 [==============================] - 11s 209ms/step - loss: 0.0143 - accuracy: 0.9953 - val_loss: 0.4478 - val_accuracy: 0.7830\n",
      "Epoch 3/5\n",
      "52/52 [==============================] - 11s 211ms/step - loss: 0.0138 - accuracy: 0.9953 - val_loss: 0.4604 - val_accuracy: 0.7898\n",
      "Epoch 4/5\n",
      "52/52 [==============================] - 11s 213ms/step - loss: 0.0135 - accuracy: 0.9955 - val_loss: 0.3975 - val_accuracy: 0.8142\n",
      "Epoch 5/5\n",
      "52/52 [==============================] - 11s 205ms/step - loss: 0.0133 - accuracy: 0.9955 - val_loss: 0.4509 - val_accuracy: 0.7996\n",
      "  24/4279 [..............................] - ETA: 18s - loss: 0.0588 - accuracy: 0.9844"
     ]
    },
    {
     "name": "stderr",
     "output_type": "stream",
     "text": [
      "c:\\Users\\UX430\\anaconda3\\lib\\site-packages\\numpy\\core\\_asarray.py:171: VisibleDeprecationWarning: Creating an ndarray from ragged nested sequences (which is a list-or-tuple of lists-or-tuples-or ndarrays with different lengths or shapes) is deprecated. If you meant to do this, you must specify 'dtype=object' when creating the ndarray.\n",
      "  return array(a, dtype, copy=False, order=order, subok=True)\n"
     ]
    },
    {
     "name": "stdout",
     "output_type": "stream",
     "text": [
      "4279/4279 [==============================] - 17s 4ms/step - loss: 0.0553 - accuracy: 0.9845\n",
      "1721/1721 [==============================] - 9s 5ms/step - loss: 0.2117 - accuracy: 0.9045\n",
      "Epoch 1/5\n",
      "45/45 [==============================] - 9s 206ms/step - loss: 0.0155 - accuracy: 0.9950 - val_loss: 0.4115 - val_accuracy: 0.7848\n",
      "Epoch 2/5\n",
      "45/45 [==============================] - 10s 212ms/step - loss: 0.0147 - accuracy: 0.9952 - val_loss: 0.3895 - val_accuracy: 0.8045\n",
      "Epoch 3/5\n",
      "45/45 [==============================] - 9s 207ms/step - loss: 0.0145 - accuracy: 0.9956 - val_loss: 0.2868 - val_accuracy: 0.8383\n",
      "Epoch 4/5\n",
      "45/45 [==============================] - 9s 204ms/step - loss: 0.0140 - accuracy: 0.9958 - val_loss: 0.4138 - val_accuracy: 0.7975\n",
      "Epoch 5/5\n",
      "45/45 [==============================] - 9s 207ms/step - loss: 0.0140 - accuracy: 0.9958 - val_loss: 0.3500 - val_accuracy: 0.8234\n",
      "Epoch 1/5\n",
      "65/65 [==============================] - 13s 206ms/step - loss: 0.0145 - accuracy: 0.9960 - val_loss: 0.3666 - val_accuracy: 0.8444\n",
      "Epoch 2/5\n",
      "65/65 [==============================] - 13s 204ms/step - loss: 0.0135 - accuracy: 0.9964 - val_loss: 0.4751 - val_accuracy: 0.8188\n",
      "Epoch 3/5\n",
      "65/65 [==============================] - 13s 204ms/step - loss: 0.0135 - accuracy: 0.9963 - val_loss: 0.4497 - val_accuracy: 0.8320\n",
      "Epoch 4/5\n",
      "65/65 [==============================] - 13s 204ms/step - loss: 0.0132 - accuracy: 0.9964 - val_loss: 0.3805 - val_accuracy: 0.8514\n",
      "Epoch 5/5\n",
      "65/65 [==============================] - 13s 206ms/step - loss: 0.0132 - accuracy: 0.9963 - val_loss: 0.3652 - val_accuracy: 0.8581\n",
      "Epoch 1/5\n",
      "52/52 [==============================] - 11s 205ms/step - loss: 0.0190 - accuracy: 0.9945 - val_loss: 0.3357 - val_accuracy: 0.8489\n",
      "Epoch 2/5\n",
      "52/52 [==============================] - 11s 203ms/step - loss: 0.0127 - accuracy: 0.9959 - val_loss: 0.4200 - val_accuracy: 0.8277\n",
      "Epoch 3/5\n",
      "52/52 [==============================] - 11s 206ms/step - loss: 0.0122 - accuracy: 0.9960 - val_loss: 0.5259 - val_accuracy: 0.7959\n",
      "Epoch 4/5\n",
      "52/52 [==============================] - 11s 205ms/step - loss: 0.0121 - accuracy: 0.9963 - val_loss: 0.4580 - val_accuracy: 0.8161\n",
      "Epoch 5/5\n",
      "52/52 [==============================] - 11s 203ms/step - loss: 0.0121 - accuracy: 0.9961 - val_loss: 0.4605 - val_accuracy: 0.8200\n",
      "  14/4279 [..............................] - ETA: 18s - loss: 0.0582 - accuracy: 0.9665"
     ]
    },
    {
     "name": "stderr",
     "output_type": "stream",
     "text": [
      "c:\\Users\\UX430\\anaconda3\\lib\\site-packages\\numpy\\core\\_asarray.py:171: VisibleDeprecationWarning: Creating an ndarray from ragged nested sequences (which is a list-or-tuple of lists-or-tuples-or ndarrays with different lengths or shapes) is deprecated. If you meant to do this, you must specify 'dtype=object' when creating the ndarray.\n",
      "  return array(a, dtype, copy=False, order=order, subok=True)\n"
     ]
    },
    {
     "name": "stdout",
     "output_type": "stream",
     "text": [
      "4279/4279 [==============================] - 16s 4ms/step - loss: 0.0547 - accuracy: 0.9725\n",
      "1721/1721 [==============================] - 9s 5ms/step - loss: 0.4155 - accuracy: 0.8119\n",
      "Epoch 1/5\n",
      "45/45 [==============================] - 9s 208ms/step - loss: 0.0136 - accuracy: 0.9957 - val_loss: 0.4478 - val_accuracy: 0.8064\n",
      "Epoch 2/5\n",
      "45/45 [==============================] - 9s 208ms/step - loss: 0.0131 - accuracy: 0.9959 - val_loss: 0.3384 - val_accuracy: 0.8421\n",
      "Epoch 3/5\n",
      "45/45 [==============================] - 9s 207ms/step - loss: 0.0128 - accuracy: 0.9960 - val_loss: 0.4207 - val_accuracy: 0.8158\n",
      "Epoch 4/5\n",
      "45/45 [==============================] - 9s 203ms/step - loss: 0.0128 - accuracy: 0.9960 - val_loss: 0.3400 - val_accuracy: 0.8356\n",
      "Epoch 5/5\n",
      "45/45 [==============================] - 9s 207ms/step - loss: 0.0127 - accuracy: 0.9961 - val_loss: 0.4374 - val_accuracy: 0.8109\n",
      "Epoch 1/5\n",
      "65/65 [==============================] - 13s 206ms/step - loss: 0.0125 - accuracy: 0.9965 - val_loss: 0.5329 - val_accuracy: 0.8134\n",
      "Epoch 2/5\n",
      "65/65 [==============================] - 13s 204ms/step - loss: 0.0119 - accuracy: 0.9966 - val_loss: 0.4098 - val_accuracy: 0.8538\n",
      "Epoch 3/5\n",
      "65/65 [==============================] - 13s 205ms/step - loss: 0.0115 - accuracy: 0.9966 - val_loss: 0.6997 - val_accuracy: 0.8021\n",
      "Epoch 4/5\n",
      "65/65 [==============================] - 13s 204ms/step - loss: 0.0108 - accuracy: 0.9970 - val_loss: 0.5088 - val_accuracy: 0.8357\n",
      "Epoch 5/5\n",
      "65/65 [==============================] - 13s 204ms/step - loss: 0.0107 - accuracy: 0.9969 - val_loss: 0.4232 - val_accuracy: 0.8612\n",
      "Epoch 1/5\n",
      "52/52 [==============================] - 11s 208ms/step - loss: 0.0152 - accuracy: 0.9959 - val_loss: 0.5748 - val_accuracy: 0.8075\n",
      "Epoch 2/5\n",
      "52/52 [==============================] - 11s 202ms/step - loss: 0.0109 - accuracy: 0.9963 - val_loss: 0.5962 - val_accuracy: 0.7957\n",
      "Epoch 3/5\n",
      "52/52 [==============================] - 11s 206ms/step - loss: 0.0109 - accuracy: 0.9964 - val_loss: 0.5521 - val_accuracy: 0.8078\n",
      "Epoch 4/5\n",
      "52/52 [==============================] - 11s 206ms/step - loss: 0.0111 - accuracy: 0.9962 - val_loss: 0.5429 - val_accuracy: 0.8078\n",
      "Epoch 5/5\n",
      "52/52 [==============================] - 11s 204ms/step - loss: 0.0101 - accuracy: 0.9967 - val_loss: 0.6235 - val_accuracy: 0.7797\n",
      "  14/4279 [..............................] - ETA: 17s - loss: 0.1057 - accuracy: 0.9554"
     ]
    },
    {
     "name": "stderr",
     "output_type": "stream",
     "text": [
      "c:\\Users\\UX430\\anaconda3\\lib\\site-packages\\numpy\\core\\_asarray.py:171: VisibleDeprecationWarning: Creating an ndarray from ragged nested sequences (which is a list-or-tuple of lists-or-tuples-or ndarrays with different lengths or shapes) is deprecated. If you meant to do this, you must specify 'dtype=object' when creating the ndarray.\n",
      "  return array(a, dtype, copy=False, order=order, subok=True)\n"
     ]
    },
    {
     "name": "stdout",
     "output_type": "stream",
     "text": [
      "4279/4279 [==============================] - 16s 4ms/step - loss: 0.0959 - accuracy: 0.9643\n",
      "1721/1721 [==============================] - 7s 4ms/step - loss: 0.8198 - accuracy: 0.6863\n"
     ]
    }
   ],
   "source": [
    "# Values saved each iteration \n",
    "loss_it = []\n",
    "accuracy_it = []\n",
    "f1_it = []\n",
    "precision_it = []\n",
    "recall_it = []\n",
    "\n",
    "for i in range(global_updates): \n",
    "    w_list = []\n",
    "    for node in range(num_nodes): \n",
    "        cp = global_model # create a copy of the global model\n",
    "        if node == 0:\n",
    "            x, y = x1, y1\n",
    "        elif node == 1:\n",
    "            x, y = x2, y2\n",
    "        else:\n",
    "            x, y = x3, y3\n",
    "        local_model, local_loss, local_acc, local_val_loss, local_val_acc = train_local_model(cp, node, x, y)\n",
    "        w_list.append(local_model.get_weights())\n",
    "\n",
    "    avg_w = aggregate(w_list)\n",
    "    global_model.set_weights(avg_w) # apply gradients to global model\n",
    "    loss_basic, accuracy_basic, f1_basic, precision_basic, recall_basic = evaluation(global_model, xbasic, ybasic) # Evaluate with test basic to know progress\n",
    "    loss_plus, accuracy_plus, f1_plus, precision_plus, recall_plus = evaluation(global_model, xplus, yplus) # Evaluate with test plus to know progress\n",
    "\n",
    "    loss_it.append([loss_basic, loss_plus])\n",
    "    accuracy_it.append([accuracy_basic, accuracy_plus])\n",
    "    f1_it.append([f1_basic, f1_plus])\n",
    "    precision_it.append([precision_basic, precision_plus])\n",
    "    recall_it.append([recall_basic, recall_plus])\n",
    "\n",
    "\n",
    "global_model.save('C:/Users/UX430/Documents/thesis/code/models/id1917.hdf5')"
   ]
  },
  {
   "cell_type": "code",
   "execution_count": 158,
   "metadata": {},
   "outputs": [
    {
     "name": "stdout",
     "output_type": "stream",
     "text": [
      "Loss for iterations:  [[0.055341463536024094, 0.21167635917663574], [0.054742418229579926, 0.4154618978500366], [0.09591921418905258, 0.8197669386863708]]\n",
      "Accuracy for iterations:  [[0.984479546546936, 0.9045266509056091], [0.9725160002708435, 0.8118687868118286], [0.9642627835273743, 0.6862965822219849]]\n",
      "F1 for iterations:  [[0.9844785269044698, 0.9029244478672587], [0.9724731963312149, 0.8011067238666677], [0.9641574953615748, 0.6362723102708954]]\n",
      "Precision for iterations:  [[0.9844799221101318, 0.913737606198411], [0.9732125269378484, 0.8510417498580631], [0.9661124994480643, 0.7859974529417739]]\n",
      "Recall for iterations:  [[0.9844795348973093, 0.904526629368597], [0.9725159952087411, 0.8118687786093148], [0.9642627596482515, 0.6862965923127226]]\n"
     ]
    }
   ],
   "source": [
    "print(\"Loss for iterations: \", loss_it)\n",
    "print(\"Accuracy for iterations: \", accuracy_it)\n",
    "print(\"F1 for iterations: \", f1_it)\n",
    "print(\"Precision for iterations: \", precision_it)\n",
    "print(\"Recall for iterations: \", recall_it)"
   ]
  }
 ],
 "metadata": {
  "kernelspec": {
   "display_name": "base",
   "language": "python",
   "name": "python3"
  },
  "language_info": {
   "codemirror_mode": {
    "name": "ipython",
    "version": 3
   },
   "file_extension": ".py",
   "mimetype": "text/x-python",
   "name": "python",
   "nbconvert_exporter": "python",
   "pygments_lexer": "ipython3",
   "version": "3.8.12"
  }
 },
 "nbformat": 4,
 "nbformat_minor": 2
}
