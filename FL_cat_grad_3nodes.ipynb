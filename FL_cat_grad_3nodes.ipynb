{
 "cells": [
  {
   "cell_type": "markdown",
   "metadata": {},
   "source": [
    "## **Federated Learning for attack classification: 3 nodes sharing gradients**\n",
    "\n",
    "IDs from this file = **id0xy** (x = 0 if experiment with dataset, x = 1 if epochs & iterations, y being integer equal or greater than 0)\n",
    "\n",
    "In this file, experiments with different datasets, and number of epochs & iterations are done. The experiments are divided into sections, based on the elements being changed. "
   ]
  },
  {
   "cell_type": "markdown",
   "metadata": {},
   "source": [
    "### Static elements for all experiments (execute first)"
   ]
  },
  {
   "cell_type": "code",
   "execution_count": 1,
   "metadata": {},
   "outputs": [],
   "source": [
    "# Imports\n",
    "import tensorflow as tf\n",
    "import numpy as np\n",
    "from tensorflow import keras\n",
    "import matplotlib.pyplot as plt\n",
    "import pandas as pd\n",
    "import seaborn as sns\n",
    "\n",
    "from tensorflow.keras import datasets, layers, models\n",
    "from tensorflow.keras.callbacks import EarlyStopping\n",
    "from tensorflow.keras.layers import Dense, BatchNormalization\n",
    "from sklearn.preprocessing import StandardScaler\n",
    "from sklearn.model_selection import train_test_split\n",
    "from sklearn.metrics import confusion_matrix, classification_report\n",
    "\n",
    "# Disable warns\n",
    "pd.options.mode.chained_assignment = None  # default='warn'"
   ]
  },
  {
   "cell_type": "code",
   "execution_count": 2,
   "metadata": {},
   "outputs": [],
   "source": [
    "# Preprocessing for test and training datasets (to be able to train and make predictions to evaluate)\n",
    "def preprocessing(data): \n",
    "\n",
    "    # Select the 'proto' and 'state' values that I want\n",
    "    data = data.loc[(data['proto'] == 'tcp') | (data['proto'] =='udp') | (data['proto'] =='icmp') | (data['proto'] =='arp') | (data['proto'] =='ipv6-icmp') | (data['proto'] =='igmp') | (data['proto'] =='rarp'), :]\n",
    "    data = data.loc[(data['state'] == 'RST') | (data['state'] =='REQ') | (data['state'] =='INT') | (data['state'] =='FIN') | (data['state'] =='CON') | (data['state'] =='ECO') | (data['state'] =='ACC') | (data['state'] == 'PAR'), :]\n",
    "\n",
    "    # Creating categories dataframe\n",
    "    data_labels = pd.DataFrame()\n",
    "\n",
    "    # Drop the invalid features and select interested data features\n",
    "    data_features=data[['proto','srcip','sport','dstip','dsport','spkts','dpkts','sbytes','dbytes','state','stime','ltime','dur']]\n",
    "\n",
    "    \"\"\"PREPROCESSING\"\"\"\n",
    "\n",
    "\n",
    "    # Preprocess IP and ports features\n",
    "    # IP Source Address\n",
    "    data_features['srcip'] = data_features['srcip'].apply(lambda x: x.split(\".\")[-1])\n",
    "    data_features['srcip'] = data_features['srcip'].apply(lambda x: x.split(\":\")[-1])\n",
    "    data_features['srcip'] = data_features['srcip'].apply(lambda x: int(x, 16))\n",
    "\n",
    "\n",
    "    # IP Destination Address\n",
    "    data_features['dstip'] = data_features['dstip'].apply(lambda x: x.split(\".\")[-1])\n",
    "    data_features['dstip'] = data_features['dstip'].apply(lambda x: x.split(\":\")[-1])\n",
    "    data_features['dstip'] = data_features['dstip'].apply(lambda x: int(x, 16))\n",
    "\n",
    "    # Ports\n",
    "    data_features['sport'] = data_features['sport'].apply(lambda x: x.replace('0x','') if \"0x\" in str(x) else x)\n",
    "    data_features['dsport'] = data_features['dsport'].apply(lambda x: x.replace('0x','') if \"0x\" in str(x) else x)\n",
    "\n",
    "    # Convert all ports with 0 decimal, and HEX to DEC\n",
    "    data_features['sport'] = data_features['sport'].apply(lambda x: str(x)[:-2] if str(x)[-2:] == '.0' else str(x))\n",
    "    data_features['sport'] = data_features['sport'].apply(lambda x: -1 if str(x).isalpha()==True else int(x,16))\n",
    "\n",
    "    data_features['dsport'] = data_features['dsport'].apply(lambda x: str(x)[:-2] if str(x)[-2:] == '.0' else str(x))\n",
    "    data_features['dsport'] = data_features['dsport'].apply(lambda x: -1 if str(x).isalpha()==True else int(x,16))\n",
    "\n",
    "    # Convert field to int format\n",
    "    data_features['srcip'] = data_features['srcip'].astype(int)\n",
    "    data_features['sport'] = data_features['sport'].astype(int)\n",
    "    data_features['dstip'] = data_features['dstip'].astype(int)\n",
    "    data_features['dsport'] = data_features['dsport'].astype(int)\n",
    "\n",
    "    # Convert some fields to logarithmic\n",
    "    log1p_col = ['dur', 'sbytes', 'dbytes', 'spkts']\n",
    "\n",
    "    for col in log1p_col:\n",
    "        data_features[col] = data_features[col].apply(np.log1p)\n",
    "        \n",
    "    # Transform to One Hot Encoding the Categories - normal, dos, reconnaissance, generic, exploits, worms, fuzzers, analysis, backdoor, shellcode\n",
    "    data_labels.insert(0, 'dos', data['attack_cat'].replace('dos', 1).replace(['reconnaissance', 'generic', 'exploits', 'worms', 'fuzzers', 'analysis', 'backdoor', 'shellcode'], 0))\n",
    "    data_labels.insert(1, 'reconnaissance', data['attack_cat'].replace('reconnaissance', 1).replace([ 'dos', 'generic', 'exploits', 'worms', 'fuzzers', 'analysis', 'backdoor', 'shellcode'], 0))\n",
    "    data_labels.insert(2, 'generic', data['attack_cat'].replace('generic', 1).replace(['dos', 'reconnaissance', 'exploits', 'worms', 'fuzzers', 'analysis', 'backdoor', 'shellcode'], 0))\n",
    "    data_labels.insert(3, 'exploits', data['attack_cat'].replace('exploits', 1).replace([ 'dos', 'reconnaissance', 'generic', 'worms', 'fuzzers', 'analysis', 'backdoor', 'shellcode'], 0))\n",
    "    data_labels = pd.get_dummies(data_labels)\n",
    "\n",
    "    # Transform to One hot encoding - FEATURES\n",
    "    data_features=pd.get_dummies(data_features)\n",
    "\n",
    "    # Generate 2 new columns to fit with training\n",
    "    auxCol=data_features['sbytes']\n",
    "    auxCol=0\n",
    "\n",
    "      # As we are using different datasets that might not have all representations, we are going to detect and add the missing columns \n",
    "    # The columns that can have types are: proto and state: need to check if all representations are done \n",
    "    state_cols = [col for col in data_features if col.startswith('state_')]\n",
    "    proto_cols = [col for col in data_features if col.startswith('proto_')]\n",
    "    \n",
    "    # Check if all columns are present\n",
    "    if 'state_PAR' not in state_cols:\n",
    "        data_features.insert(data_features.shape[1], 'state_PAR', auxCol, True)\n",
    "    if 'state_ACC' not in state_cols: \n",
    "        data_features.insert(data_features.shape[1], 'state_ACC', auxCol, True)\n",
    "    if 'state_ECO' not in state_cols:\n",
    "        data_features.insert(data_features.shape[1], 'state_ECO', auxCol, True)\n",
    "    if 'state_CON' not in state_cols:\n",
    "        data_features.insert(data_features.shape[1], 'state_CON', auxCol, True)\n",
    "    if 'state_FIN' not in state_cols:\n",
    "        data_features.insert(data_features.shape[1], 'state_FIN', auxCol, True)\n",
    "    if 'state_INT' not in state_cols:\n",
    "        data_features.insert(data_features.shape[1], 'state_INT', auxCol, True)\n",
    "    if 'state_REQ' not in state_cols:\n",
    "        data_features.insert(data_features.shape[1], 'state_REQ', auxCol, True)\n",
    "    if 'state_RST' not in state_cols:\n",
    "        data_features.insert(data_features.shape[1], 'state_RST', auxCol, True)\n",
    "    if 'proto_igmp' not in proto_cols:\n",
    "        data_features.insert(data_features.shape[1], 'proto_igmp', auxCol, True)\n",
    "    if 'proto_arp' not in proto_cols:\n",
    "        data_features.insert(data_features.shape[1], 'proto_arp', auxCol, True)\n",
    "    if 'proto_icmp' not in proto_cols:\n",
    "        data_features.insert(data_features.shape[1], 'proto_icmp', auxCol, True)\n",
    "    if 'proto_udp' not in proto_cols:\n",
    "        data_features.insert(data_features.shape[1], 'proto_udp', auxCol, True)\n",
    "    if 'proto_tcp' not in proto_cols:\n",
    "        data_features.insert(data_features.shape[1], 'proto_tcp', auxCol, True)\n",
    "\n",
    "    # Normalize all data features\n",
    "    data_features = StandardScaler().fit_transform(data_features)\n",
    "\n",
    "    #Add dimension to data features\n",
    "    data_features = np.expand_dims(data_features, axis=2)\n",
    "    data_features = np.expand_dims(data_features, axis=3)\n",
    "\n",
    "    x = data_features\n",
    "    y = data_labels.to_numpy()\n",
    "\n",
    "    return x, y"
   ]
  },
  {
   "cell_type": "code",
   "execution_count": 3,
   "metadata": {},
   "outputs": [],
   "source": [
    "# Model building and definition\n",
    "def build_model(input_shape):\n",
    "    model = models.Sequential()\n",
    "    model.add(Dense(108, input_shape=input_shape, activation='relu'))\n",
    "    model.add(layers.Conv2D(filters=16, kernel_size=(1, 2), activation='relu', padding='same'))\n",
    "    model.add(BatchNormalization())\n",
    "    model.add(layers.MaxPooling2D(pool_size=(1, 1), padding='same'))\n",
    "    model.add(layers.Flatten())\n",
    "    model.add(Dense(108, activation='relu'))\n",
    "    model.add(Dense(4, activation='softmax'))\n",
    "\n",
    "    return model "
   ]
  },
  {
   "cell_type": "code",
   "execution_count": 4,
   "metadata": {},
   "outputs": [],
   "source": [
    "# Returns values of loss, accuracy, f1, precision and recall of model evaluating with test dataset \n",
    "def evaluation(model, x, y): \n",
    "    loss, accuracy = model.evaluate(x, y)\n",
    "    y_pred = model.predict(x)\n",
    "    y_pred = np.argmax(y_pred, axis=1)\n",
    "    y = np.argmax(y, axis=1)\n",
    "    report = classification_report(y, y_pred, labels = [i for i in range(4)], target_names=['dos', 'reconnaissance', 'generic', 'exploits'], output_dict=True)\n",
    "    # Obtain f1, precision and recall from the report\n",
    "    f1 = report['weighted avg']['f1-score']\n",
    "    precision = report['weighted avg']['precision']\n",
    "    recall = report['weighted avg']['recall']\n",
    "    return loss, accuracy, f1, precision, recall"
   ]
  },
  {
   "cell_type": "markdown",
   "metadata": {},
   "source": [
    "### Experiments with datasets"
   ]
  },
  {
   "cell_type": "markdown",
   "metadata": {},
   "source": [
    "#### Dataset 3A"
   ]
  },
  {
   "cell_type": "code",
   "execution_count": 5,
   "metadata": {},
   "outputs": [
    {
     "name": "stderr",
     "output_type": "stream",
     "text": [
      "C:\\Users\\UX430\\AppData\\Local\\Temp/ipykernel_9140/2733919938.py:5: DtypeWarning: Columns (4) have mixed types. Specify dtype option on import or set low_memory=False.\n",
      "  test_basic = pd.read_csv('C:/Users/UX430/Documents/thesis/datasets/UNSW-NB15/UNSW-NB15-Test-Basic.csv')\n"
     ]
    }
   ],
   "source": [
    "# Load training datasets and testing datasets \n",
    "training1 = pd.read_csv('C:/Users/UX430/Documents/thesis/datasets/UNSW-NB15/UNSW-NB15-Train-Basic-Cat3A-Part1.csv')\n",
    "training2 = pd.read_csv('C:/Users/UX430/Documents/thesis/datasets/UNSW-NB15/UNSW-NB15-Train-Basic-Cat3A-Part2.csv')\n",
    "training3 = pd.read_csv('C:/Users/UX430/Documents/thesis/datasets/UNSW-NB15/UNSW-NB15-Train-Basic-Cat3A-Part3.csv')\n",
    "test_basic = pd.read_csv('C:/Users/UX430/Documents/thesis/datasets/UNSW-NB15/UNSW-NB15-Test-Basic.csv')\n",
    "test_plus = pd.read_csv('C:/Users/UX430/Documents/thesis/datasets/UNSW-NB15/UNSW-NB15-Test+.csv')"
   ]
  },
  {
   "cell_type": "code",
   "execution_count": 6,
   "metadata": {},
   "outputs": [],
   "source": [
    "# Define \n",
    "node_datasets = [training1, training2, training3]\n",
    "num_nodes = 3\n",
    "global_updates = 3\n",
    "\n",
    "# Define model training parameters\n",
    "loss_fct = \"categorical_crossentropy\"\n",
    "metrics = ['accuracy']\n",
    "local_epochs = 5"
   ]
  },
  {
   "cell_type": "code",
   "execution_count": 7,
   "metadata": {},
   "outputs": [],
   "source": [
    "def train_local_model(model, node, x_train, y_train): \n",
    "    filepath = 'C:/Users/UX430/Documents/thesis/code/models/node'+str(node)+'ID000.hdf5'\n",
    "    callbacks = [\n",
    "            keras.callbacks.EarlyStopping(\n",
    "                monitor = 'val_loss', # Use accuracy to monitor the model\n",
    "                patience = 10 # Stop after 10 steps with lower accuracy\n",
    "            ),\n",
    "            keras.callbacks.ModelCheckpoint(\n",
    "                filepath = filepath, # file where the checkpoint is saved\n",
    "                monitor = 'val_loss', # Don't overwrite the saved model unless val_loss is worse\n",
    "                save_best_only = True)]# Only save model if it is the best\n",
    "    optimizer = keras.optimizers.Adam(learning_rate=1e-4)\n",
    "    model.compile(optimizer=optimizer, loss=loss_fct, metrics=metrics)\n",
    "    history = model.fit(x_train, y_train, epochs=local_epochs, validation_split=0.2, callbacks=callbacks, batch_size=1024)\n",
    "    return model, history.history['loss'], history.history['accuracy'], history.history['val_loss'], history.history['val_accuracy']"
   ]
  },
  {
   "cell_type": "code",
   "execution_count": 8,
   "metadata": {},
   "outputs": [],
   "source": [
    "def aggregate(grad_list):\n",
    "    avg_grad = np.mean(grad_list, axis=0)\n",
    "    return avg_grad"
   ]
  },
  {
   "cell_type": "code",
   "execution_count": 9,
   "metadata": {},
   "outputs": [],
   "source": [
    "global_model = build_model((24,1,1))"
   ]
  },
  {
   "cell_type": "code",
   "execution_count": 10,
   "metadata": {},
   "outputs": [],
   "source": [
    "# Filter test and train by not getting normal traffic: label is 1\n",
    "test_basic = test_basic.loc[test_basic['label'] == 1]\n",
    "test_plus = test_plus.loc[test_plus['label'] == 1]"
   ]
  },
  {
   "cell_type": "code",
   "execution_count": 11,
   "metadata": {},
   "outputs": [],
   "source": [
    "x1, y1 = preprocessing(training1)\n",
    "x2, y2 = preprocessing(training2)\n",
    "x3, y3 = preprocessing(training3)\n",
    "xbasic, ybasic = preprocessing(test_basic)\n",
    "xplus, yplus = preprocessing(test_plus)"
   ]
  },
  {
   "cell_type": "code",
   "execution_count": 12,
   "metadata": {},
   "outputs": [],
   "source": [
    "optimizer = keras.optimizers.Adam(learning_rate=1e-4)"
   ]
  },
  {
   "cell_type": "code",
   "execution_count": 13,
   "metadata": {},
   "outputs": [
    {
     "name": "stdout",
     "output_type": "stream",
     "text": [
      "Epoch 1/5\n",
      "51/51 [==============================] - 3s 61ms/step - loss: 0.5111 - accuracy: 0.9569 - val_loss: 1.4468 - val_accuracy: 0.1444\n",
      "Epoch 2/5\n",
      "51/51 [==============================] - 3s 53ms/step - loss: 0.0443 - accuracy: 0.9994 - val_loss: 1.4906 - val_accuracy: 0.1431\n",
      "Epoch 3/5\n",
      "51/51 [==============================] - 3s 55ms/step - loss: 0.0122 - accuracy: 0.9995 - val_loss: 1.5498 - val_accuracy: 0.1417\n",
      "Epoch 4/5\n",
      "51/51 [==============================] - 3s 56ms/step - loss: 0.0053 - accuracy: 1.0000 - val_loss: 1.6444 - val_accuracy: 0.1414\n",
      "Epoch 5/5\n",
      "51/51 [==============================] - 3s 56ms/step - loss: 0.0029 - accuracy: 1.0000 - val_loss: 1.7871 - val_accuracy: 0.1413\n",
      "Epoch 1/5\n",
      "51/51 [==============================] - 3s 58ms/step - loss: 4.0405e-04 - accuracy: 1.0000 - val_loss: 2.5839 - val_accuracy: 0.1413\n",
      "Epoch 2/5\n",
      "51/51 [==============================] - 3s 54ms/step - loss: 3.8410e-05 - accuracy: 1.0000 - val_loss: 3.3246 - val_accuracy: 0.1413\n",
      "Epoch 3/5\n",
      "51/51 [==============================] - 3s 55ms/step - loss: 2.0255e-05 - accuracy: 1.0000 - val_loss: 4.2306 - val_accuracy: 0.1413\n",
      "Epoch 4/5\n",
      "51/51 [==============================] - 3s 53ms/step - loss: 1.2849e-05 - accuracy: 1.0000 - val_loss: 5.2898 - val_accuracy: 0.1413\n",
      "Epoch 5/5\n",
      "51/51 [==============================] - 3s 55ms/step - loss: 8.9852e-06 - accuracy: 1.0000 - val_loss: 6.4049 - val_accuracy: 0.1413\n",
      "Epoch 1/5\n",
      "51/51 [==============================] - 3s 59ms/step - loss: 2.4524e-06 - accuracy: 1.0000 - val_loss: 8.9828 - val_accuracy: 0.1411\n",
      "Epoch 2/5\n",
      "51/51 [==============================] - 3s 53ms/step - loss: 3.8462e-07 - accuracy: 1.0000 - val_loss: 10.6676 - val_accuracy: 0.1411\n",
      "Epoch 3/5\n",
      "51/51 [==============================] - 3s 53ms/step - loss: 1.9625e-07 - accuracy: 1.0000 - val_loss: 11.9275 - val_accuracy: 0.1411\n",
      "Epoch 4/5\n",
      "51/51 [==============================] - 3s 50ms/step - loss: 1.2005e-07 - accuracy: 1.0000 - val_loss: 12.8920 - val_accuracy: 0.1411\n",
      "Epoch 5/5\n",
      "51/51 [==============================] - 3s 51ms/step - loss: 7.9499e-08 - accuracy: 1.0000 - val_loss: 13.5966 - val_accuracy: 0.1411\n",
      "  90/2017 [>.............................] - ETA: 3s - loss: 2.4259 - accuracy: 0.8354"
     ]
    },
    {
     "name": "stderr",
     "output_type": "stream",
     "text": [
      "c:\\Users\\UX430\\anaconda3\\lib\\site-packages\\numpy\\core\\_asarray.py:171: VisibleDeprecationWarning: Creating an ndarray from ragged nested sequences (which is a list-or-tuple of lists-or-tuples-or ndarrays with different lengths or shapes) is deprecated. If you meant to do this, you must specify 'dtype=object' when creating the ndarray.\n",
      "  return array(a, dtype, copy=False, order=order, subok=True)\n"
     ]
    },
    {
     "name": "stdout",
     "output_type": "stream",
     "text": [
      "2017/2017 [==============================] - 3s 1ms/step - loss: 2.4902 - accuracy: 0.8320: 0s - loss: 2.4920 - accuracy: 0.\n",
      " 98/756 [==>...........................] - ETA: 0s - loss: 0.0000e+00 - accuracy: 0.0000e+00"
     ]
    },
    {
     "name": "stderr",
     "output_type": "stream",
     "text": [
      "c:\\Users\\UX430\\anaconda3\\lib\\site-packages\\sklearn\\metrics\\_classification.py:1308: UndefinedMetricWarning: Precision and F-score are ill-defined and being set to 0.0 in labels with no predicted samples. Use `zero_division` parameter to control this behavior.\n",
      "  _warn_prf(average, modifier, msg_start, len(result))\n",
      "c:\\Users\\UX430\\anaconda3\\lib\\site-packages\\sklearn\\metrics\\_classification.py:1308: UndefinedMetricWarning: Precision and F-score are ill-defined and being set to 0.0 in labels with no predicted samples. Use `zero_division` parameter to control this behavior.\n",
      "  _warn_prf(average, modifier, msg_start, len(result))\n",
      "c:\\Users\\UX430\\anaconda3\\lib\\site-packages\\sklearn\\metrics\\_classification.py:1308: UndefinedMetricWarning: Precision and F-score are ill-defined and being set to 0.0 in labels with no predicted samples. Use `zero_division` parameter to control this behavior.\n",
      "  _warn_prf(average, modifier, msg_start, len(result))\n"
     ]
    },
    {
     "name": "stdout",
     "output_type": "stream",
     "text": [
      "756/756 [==============================] - 1s 1ms/step - loss: 0.0000e+00 - accuracy: 0.0000e+00\n"
     ]
    },
    {
     "name": "stderr",
     "output_type": "stream",
     "text": [
      "c:\\Users\\UX430\\anaconda3\\lib\\site-packages\\sklearn\\metrics\\_classification.py:1308: UndefinedMetricWarning: Precision and F-score are ill-defined and being set to 0.0 in labels with no predicted samples. Use `zero_division` parameter to control this behavior.\n",
      "  _warn_prf(average, modifier, msg_start, len(result))\n",
      "c:\\Users\\UX430\\anaconda3\\lib\\site-packages\\sklearn\\metrics\\_classification.py:1308: UndefinedMetricWarning: Recall and F-score are ill-defined and being set to 0.0 in labels with no true samples. Use `zero_division` parameter to control this behavior.\n",
      "  _warn_prf(average, modifier, msg_start, len(result))\n",
      "c:\\Users\\UX430\\anaconda3\\lib\\site-packages\\sklearn\\metrics\\_classification.py:1308: UndefinedMetricWarning: Precision and F-score are ill-defined and being set to 0.0 in labels with no predicted samples. Use `zero_division` parameter to control this behavior.\n",
      "  _warn_prf(average, modifier, msg_start, len(result))\n",
      "c:\\Users\\UX430\\anaconda3\\lib\\site-packages\\sklearn\\metrics\\_classification.py:1308: UndefinedMetricWarning: Recall and F-score are ill-defined and being set to 0.0 in labels with no true samples. Use `zero_division` parameter to control this behavior.\n",
      "  _warn_prf(average, modifier, msg_start, len(result))\n",
      "c:\\Users\\UX430\\anaconda3\\lib\\site-packages\\sklearn\\metrics\\_classification.py:1308: UndefinedMetricWarning: Precision and F-score are ill-defined and being set to 0.0 in labels with no predicted samples. Use `zero_division` parameter to control this behavior.\n",
      "  _warn_prf(average, modifier, msg_start, len(result))\n",
      "c:\\Users\\UX430\\anaconda3\\lib\\site-packages\\sklearn\\metrics\\_classification.py:1308: UndefinedMetricWarning: Recall and F-score are ill-defined and being set to 0.0 in labels with no true samples. Use `zero_division` parameter to control this behavior.\n",
      "  _warn_prf(average, modifier, msg_start, len(result))\n"
     ]
    },
    {
     "name": "stdout",
     "output_type": "stream",
     "text": [
      "Epoch 1/5\n",
      "51/51 [==============================] - 3s 53ms/step - loss: 2.0624e-04 - accuracy: 1.0000 - val_loss: 14.3430 - val_accuracy: 0.1412\n",
      "Epoch 2/5\n",
      "51/51 [==============================] - 3s 51ms/step - loss: 3.8279e-05 - accuracy: 1.0000 - val_loss: 14.9688 - val_accuracy: 0.1411\n",
      "Epoch 3/5\n",
      "51/51 [==============================] - 3s 52ms/step - loss: 5.0771e-07 - accuracy: 1.0000 - val_loss: 15.0710 - val_accuracy: 0.1411\n",
      "Epoch 4/5\n",
      "51/51 [==============================] - 3s 51ms/step - loss: 3.4688e-07 - accuracy: 1.0000 - val_loss: 15.1532 - val_accuracy: 0.1411\n",
      "Epoch 5/5\n",
      "51/51 [==============================] - 3s 50ms/step - loss: 2.9752e-07 - accuracy: 1.0000 - val_loss: 15.2247 - val_accuracy: 0.1411\n",
      "Epoch 1/5\n",
      "51/51 [==============================] - 3s 56ms/step - loss: 9.3278e-09 - accuracy: 1.0000 - val_loss: 15.3795 - val_accuracy: 0.1411\n",
      "Epoch 2/5\n",
      "51/51 [==============================] - 3s 52ms/step - loss: 7.2364e-09 - accuracy: 1.0000 - val_loss: 15.6272 - val_accuracy: 0.1411\n",
      "Epoch 3/5\n",
      "51/51 [==============================] - 3s 50ms/step - loss: 3.9884e-09 - accuracy: 1.0000 - val_loss: 15.8047 - val_accuracy: 0.1411\n",
      "Epoch 4/5\n",
      "51/51 [==============================] - 2s 49ms/step - loss: 2.5887e-09 - accuracy: 1.0000 - val_loss: 15.9519 - val_accuracy: 0.1411\n",
      "Epoch 5/5\n",
      "51/51 [==============================] - 3s 50ms/step - loss: 2.8849e-09 - accuracy: 1.0000 - val_loss: 16.0786 - val_accuracy: 0.1411\n",
      "Epoch 1/5\n",
      "51/51 [==============================] - 3s 52ms/step - loss: 2.3505e-09 - accuracy: 1.0000 - val_loss: 16.1853 - val_accuracy: 0.1411\n",
      "Epoch 2/5\n",
      "51/51 [==============================] - 3s 52ms/step - loss: 1.9479e-09 - accuracy: 1.0000 - val_loss: 16.2751 - val_accuracy: 0.1411\n",
      "Epoch 3/5\n",
      "51/51 [==============================] - 3s 50ms/step - loss: 1.3649e-09 - accuracy: 1.0000 - val_loss: 16.3689 - val_accuracy: 0.1411\n",
      "Epoch 4/5\n",
      "51/51 [==============================] - 2s 49ms/step - loss: 1.2469e-09 - accuracy: 1.0000 - val_loss: 16.4507 - val_accuracy: 0.1411\n",
      "Epoch 5/5\n",
      "51/51 [==============================] - 3s 52ms/step - loss: 1.0526e-09 - accuracy: 1.0000 - val_loss: 16.5370 - val_accuracy: 0.1411\n",
      "  91/2017 [>.............................] - ETA: 2s - loss: 2.9990 - accuracy: 0.8345"
     ]
    },
    {
     "name": "stderr",
     "output_type": "stream",
     "text": [
      "c:\\Users\\UX430\\anaconda3\\lib\\site-packages\\numpy\\core\\_asarray.py:171: VisibleDeprecationWarning: Creating an ndarray from ragged nested sequences (which is a list-or-tuple of lists-or-tuples-or ndarrays with different lengths or shapes) is deprecated. If you meant to do this, you must specify 'dtype=object' when creating the ndarray.\n",
      "  return array(a, dtype, copy=False, order=order, subok=True)\n"
     ]
    },
    {
     "name": "stdout",
     "output_type": "stream",
     "text": [
      "2017/2017 [==============================] - 2s 1ms/step - loss: 3.0537 - accuracy: 0.8320\n",
      " 90/756 [==>...........................] - ETA: 0s - loss: 0.0000e+00 - accuracy: 0.0000e+00"
     ]
    },
    {
     "name": "stderr",
     "output_type": "stream",
     "text": [
      "c:\\Users\\UX430\\anaconda3\\lib\\site-packages\\sklearn\\metrics\\_classification.py:1308: UndefinedMetricWarning: Precision and F-score are ill-defined and being set to 0.0 in labels with no predicted samples. Use `zero_division` parameter to control this behavior.\n",
      "  _warn_prf(average, modifier, msg_start, len(result))\n",
      "c:\\Users\\UX430\\anaconda3\\lib\\site-packages\\sklearn\\metrics\\_classification.py:1308: UndefinedMetricWarning: Precision and F-score are ill-defined and being set to 0.0 in labels with no predicted samples. Use `zero_division` parameter to control this behavior.\n",
      "  _warn_prf(average, modifier, msg_start, len(result))\n",
      "c:\\Users\\UX430\\anaconda3\\lib\\site-packages\\sklearn\\metrics\\_classification.py:1308: UndefinedMetricWarning: Precision and F-score are ill-defined and being set to 0.0 in labels with no predicted samples. Use `zero_division` parameter to control this behavior.\n",
      "  _warn_prf(average, modifier, msg_start, len(result))\n"
     ]
    },
    {
     "name": "stdout",
     "output_type": "stream",
     "text": [
      "756/756 [==============================] - 1s 988us/step - loss: 0.0000e+00 - accuracy: 0.0000e+00\n"
     ]
    },
    {
     "name": "stderr",
     "output_type": "stream",
     "text": [
      "c:\\Users\\UX430\\anaconda3\\lib\\site-packages\\sklearn\\metrics\\_classification.py:1308: UndefinedMetricWarning: Precision and F-score are ill-defined and being set to 0.0 in labels with no predicted samples. Use `zero_division` parameter to control this behavior.\n",
      "  _warn_prf(average, modifier, msg_start, len(result))\n",
      "c:\\Users\\UX430\\anaconda3\\lib\\site-packages\\sklearn\\metrics\\_classification.py:1308: UndefinedMetricWarning: Recall and F-score are ill-defined and being set to 0.0 in labels with no true samples. Use `zero_division` parameter to control this behavior.\n",
      "  _warn_prf(average, modifier, msg_start, len(result))\n",
      "c:\\Users\\UX430\\anaconda3\\lib\\site-packages\\sklearn\\metrics\\_classification.py:1308: UndefinedMetricWarning: Precision and F-score are ill-defined and being set to 0.0 in labels with no predicted samples. Use `zero_division` parameter to control this behavior.\n",
      "  _warn_prf(average, modifier, msg_start, len(result))\n",
      "c:\\Users\\UX430\\anaconda3\\lib\\site-packages\\sklearn\\metrics\\_classification.py:1308: UndefinedMetricWarning: Recall and F-score are ill-defined and being set to 0.0 in labels with no true samples. Use `zero_division` parameter to control this behavior.\n",
      "  _warn_prf(average, modifier, msg_start, len(result))\n",
      "c:\\Users\\UX430\\anaconda3\\lib\\site-packages\\sklearn\\metrics\\_classification.py:1308: UndefinedMetricWarning: Precision and F-score are ill-defined and being set to 0.0 in labels with no predicted samples. Use `zero_division` parameter to control this behavior.\n",
      "  _warn_prf(average, modifier, msg_start, len(result))\n",
      "c:\\Users\\UX430\\anaconda3\\lib\\site-packages\\sklearn\\metrics\\_classification.py:1308: UndefinedMetricWarning: Recall and F-score are ill-defined and being set to 0.0 in labels with no true samples. Use `zero_division` parameter to control this behavior.\n",
      "  _warn_prf(average, modifier, msg_start, len(result))\n"
     ]
    },
    {
     "name": "stdout",
     "output_type": "stream",
     "text": [
      "Epoch 1/5\n",
      "51/51 [==============================] - 3s 53ms/step - loss: 1.1984e-07 - accuracy: 1.0000 - val_loss: 16.4139 - val_accuracy: 0.1411\n",
      "Epoch 2/5\n",
      "51/51 [==============================] - 3s 51ms/step - loss: 1.3328e-08 - accuracy: 1.0000 - val_loss: 16.4262 - val_accuracy: 0.1411\n",
      "Epoch 3/5\n",
      "51/51 [==============================] - 3s 51ms/step - loss: 1.4644e-08 - accuracy: 1.0000 - val_loss: 16.4050 - val_accuracy: 0.1411\n",
      "Epoch 4/5\n",
      "51/51 [==============================] - 3s 49ms/step - loss: 1.2951e-08 - accuracy: 1.0000 - val_loss: 16.5402 - val_accuracy: 0.1411\n",
      "Epoch 5/5\n",
      "51/51 [==============================] - 3s 53ms/step - loss: 1.0193e-08 - accuracy: 1.0000 - val_loss: 16.6057 - val_accuracy: 0.1411\n",
      "Epoch 1/5\n",
      "51/51 [==============================] - 3s 53ms/step - loss: 4.7194e-10 - accuracy: 1.0000 - val_loss: 16.6582 - val_accuracy: 0.1411\n",
      "Epoch 2/5\n",
      "51/51 [==============================] - 3s 51ms/step - loss: 4.8351e-10 - accuracy: 1.0000 - val_loss: 16.7579 - val_accuracy: 0.1411\n",
      "Epoch 3/5\n",
      "51/51 [==============================] - 2s 41ms/step - loss: 4.6037e-10 - accuracy: 1.0000 - val_loss: 16.8254 - val_accuracy: 0.1411\n",
      "Epoch 4/5\n",
      "51/51 [==============================] - 2s 41ms/step - loss: 4.7888e-10 - accuracy: 1.0000 - val_loss: 16.8781 - val_accuracy: 0.1411\n",
      "Epoch 5/5\n",
      "51/51 [==============================] - 2s 43ms/step - loss: 4.1642e-10 - accuracy: 1.0000 - val_loss: 16.9358 - val_accuracy: 0.1411\n",
      "Epoch 1/5\n",
      "51/51 [==============================] - 3s 53ms/step - loss: 4.7888e-10 - accuracy: 1.0000 - val_loss: 16.9964 - val_accuracy: 0.1411\n",
      "Epoch 2/5\n",
      "51/51 [==============================] - 3s 51ms/step - loss: 4.6269e-10 - accuracy: 1.0000 - val_loss: 17.0457 - val_accuracy: 0.1411\n",
      "Epoch 3/5\n",
      "51/51 [==============================] - 3s 51ms/step - loss: 4.2799e-10 - accuracy: 1.0000 - val_loss: 17.0880 - val_accuracy: 0.1411\n",
      "Epoch 4/5\n",
      "51/51 [==============================] - 3s 49ms/step - loss: 4.3030e-10 - accuracy: 1.0000 - val_loss: 17.1274 - val_accuracy: 0.1411\n",
      "Epoch 5/5\n",
      "51/51 [==============================] - 3s 52ms/step - loss: 4.0254e-10 - accuracy: 1.0000 - val_loss: 17.1718 - val_accuracy: 0.1411\n",
      " 137/2017 [=>............................] - ETA: 2s - loss: 2.9360 - accuracy: 0.8442"
     ]
    },
    {
     "name": "stderr",
     "output_type": "stream",
     "text": [
      "c:\\Users\\UX430\\anaconda3\\lib\\site-packages\\numpy\\core\\_asarray.py:171: VisibleDeprecationWarning: Creating an ndarray from ragged nested sequences (which is a list-or-tuple of lists-or-tuples-or ndarrays with different lengths or shapes) is deprecated. If you meant to do this, you must specify 'dtype=object' when creating the ndarray.\n",
      "  return array(a, dtype, copy=False, order=order, subok=True)\n"
     ]
    },
    {
     "name": "stdout",
     "output_type": "stream",
     "text": [
      "2017/2017 [==============================] - 2s 1ms/step - loss: 3.1763 - accuracy: 0.8320\n",
      " 77/756 [==>...........................] - ETA: 0s - loss: 0.0000e+00 - accuracy: 0.0000e+00"
     ]
    },
    {
     "name": "stderr",
     "output_type": "stream",
     "text": [
      "c:\\Users\\UX430\\anaconda3\\lib\\site-packages\\sklearn\\metrics\\_classification.py:1308: UndefinedMetricWarning: Precision and F-score are ill-defined and being set to 0.0 in labels with no predicted samples. Use `zero_division` parameter to control this behavior.\n",
      "  _warn_prf(average, modifier, msg_start, len(result))\n",
      "c:\\Users\\UX430\\anaconda3\\lib\\site-packages\\sklearn\\metrics\\_classification.py:1308: UndefinedMetricWarning: Precision and F-score are ill-defined and being set to 0.0 in labels with no predicted samples. Use `zero_division` parameter to control this behavior.\n",
      "  _warn_prf(average, modifier, msg_start, len(result))\n",
      "c:\\Users\\UX430\\anaconda3\\lib\\site-packages\\sklearn\\metrics\\_classification.py:1308: UndefinedMetricWarning: Precision and F-score are ill-defined and being set to 0.0 in labels with no predicted samples. Use `zero_division` parameter to control this behavior.\n",
      "  _warn_prf(average, modifier, msg_start, len(result))\n"
     ]
    },
    {
     "name": "stdout",
     "output_type": "stream",
     "text": [
      "756/756 [==============================] - 1s 1ms/step - loss: 0.0000e+00 - accuracy: 0.0000e+00\n"
     ]
    },
    {
     "name": "stderr",
     "output_type": "stream",
     "text": [
      "c:\\Users\\UX430\\anaconda3\\lib\\site-packages\\sklearn\\metrics\\_classification.py:1308: UndefinedMetricWarning: Precision and F-score are ill-defined and being set to 0.0 in labels with no predicted samples. Use `zero_division` parameter to control this behavior.\n",
      "  _warn_prf(average, modifier, msg_start, len(result))\n",
      "c:\\Users\\UX430\\anaconda3\\lib\\site-packages\\sklearn\\metrics\\_classification.py:1308: UndefinedMetricWarning: Recall and F-score are ill-defined and being set to 0.0 in labels with no true samples. Use `zero_division` parameter to control this behavior.\n",
      "  _warn_prf(average, modifier, msg_start, len(result))\n",
      "c:\\Users\\UX430\\anaconda3\\lib\\site-packages\\sklearn\\metrics\\_classification.py:1308: UndefinedMetricWarning: Precision and F-score are ill-defined and being set to 0.0 in labels with no predicted samples. Use `zero_division` parameter to control this behavior.\n",
      "  _warn_prf(average, modifier, msg_start, len(result))\n",
      "c:\\Users\\UX430\\anaconda3\\lib\\site-packages\\sklearn\\metrics\\_classification.py:1308: UndefinedMetricWarning: Recall and F-score are ill-defined and being set to 0.0 in labels with no true samples. Use `zero_division` parameter to control this behavior.\n",
      "  _warn_prf(average, modifier, msg_start, len(result))\n",
      "c:\\Users\\UX430\\anaconda3\\lib\\site-packages\\sklearn\\metrics\\_classification.py:1308: UndefinedMetricWarning: Precision and F-score are ill-defined and being set to 0.0 in labels with no predicted samples. Use `zero_division` parameter to control this behavior.\n",
      "  _warn_prf(average, modifier, msg_start, len(result))\n",
      "c:\\Users\\UX430\\anaconda3\\lib\\site-packages\\sklearn\\metrics\\_classification.py:1308: UndefinedMetricWarning: Recall and F-score are ill-defined and being set to 0.0 in labels with no true samples. Use `zero_division` parameter to control this behavior.\n",
      "  _warn_prf(average, modifier, msg_start, len(result))\n"
     ]
    }
   ],
   "source": [
    "# Values saved each iteration \n",
    "loss_it = []\n",
    "accuracy_it = []\n",
    "f1_it = []\n",
    "precision_it = []\n",
    "recall_it = []\n",
    "\n",
    "for i in range(global_updates): \n",
    "    gradients_list = []\n",
    "    for node in range(num_nodes): \n",
    "        cp = global_model # create a copy of the global model\n",
    "        if node == 0:\n",
    "            x, y = x1, y1\n",
    "        elif node == 1:\n",
    "            x, y = x2, y2\n",
    "        else:\n",
    "            x, y = x3, y3\n",
    "        local_model, local_loss, local_acc, local_val_loss, local_val_acc = train_local_model(cp, node, x, y)\n",
    "        with tf.GradientTape() as tape: \n",
    "            predictions = local_model(x)\n",
    "            loss = tf.keras.losses.categorical_crossentropy(y, predictions)\n",
    "        gradients = tape.gradient(loss, local_model.trainable_variables)\n",
    "        gradients_list.append(gradients)\n",
    "\n",
    "    avg_grad = aggregate(gradients_list)\n",
    "    optimizer.apply_gradients(zip(avg_grad, global_model.trainable_variables)) # apply gradients to global model\n",
    "    loss_basic, accuracy_basic, f1_basic, precision_basic, recall_basic = evaluation(global_model, xbasic, ybasic) \n",
    "    loss_plus, accuracy_plus, f1_plus, precision_plus, recall_plus = evaluation(global_model, xplus, yplus)\n",
    "\n",
    "    loss_it.append([loss_basic, loss_plus])\n",
    "    accuracy_it.append([accuracy_basic, accuracy_plus])\n",
    "    f1_it.append([f1_basic, f1_plus])\n",
    "    precision_it.append([precision_basic, precision_plus])\n",
    "    recall_it.append([recall_basic, recall_plus])\n",
    "\n",
    "\n",
    "global_model.save('C:/Users/UX430/Documents/thesis/code/models/id000.hdf5')"
   ]
  },
  {
   "cell_type": "code",
   "execution_count": 14,
   "metadata": {},
   "outputs": [
    {
     "name": "stdout",
     "output_type": "stream",
     "text": [
      "Loss for iterations:  [[2.490201473236084, 0.0], [3.0537493228912354, 0.0], [3.1763179302215576, 0.0]]\n",
      "Accuracy for iterations:  [[0.8319796919822693, 0.0], [0.8319796919822693, 0.0], [0.8319796919822693, 0.0]]\n",
      "F1 for iterations:  [[0.7557141574837521, 0.0], [0.7557013693602648, 0.0], [0.7557013693602648, 0.0]]\n",
      "Precision for iterations:  [[0.6922567069545479, 0.0], [0.6922352459557739, 0.0], [0.6922352459557739, 0.0]]\n",
      "Recall for iterations:  [[0.8319796639593279, 0.0], [0.8319796639593279, 0.0], [0.8319796639593279, 0.0]]\n"
     ]
    }
   ],
   "source": [
    "print(\"Loss for iterations: \", loss_it)\n",
    "print(\"Accuracy for iterations: \", accuracy_it)\n",
    "print(\"F1 for iterations: \", f1_it)\n",
    "print(\"Precision for iterations: \", precision_it)\n",
    "print(\"Recall for iterations: \", recall_it)"
   ]
  },
  {
   "cell_type": "markdown",
   "metadata": {},
   "source": [
    "#### Dataset 3B "
   ]
  },
  {
   "cell_type": "code",
   "execution_count": 15,
   "metadata": {},
   "outputs": [],
   "source": [
    "# Load training datasets and testing datasets \n",
    "training1 = pd.read_csv('C:/Users/UX430/Documents/thesis/datasets/UNSW-NB15/UNSW-NB15-Train-Basic-Cat3B-Part1.csv')\n",
    "training2 = pd.read_csv('C:/Users/UX430/Documents/thesis/datasets/UNSW-NB15/UNSW-NB15-Train-Basic-Cat3B-Part2.csv')\n",
    "training3 = pd.read_csv('C:/Users/UX430/Documents/thesis/datasets/UNSW-NB15/UNSW-NB15-Train-Basic-Cat3B-Part3.csv')"
   ]
  },
  {
   "cell_type": "code",
   "execution_count": 16,
   "metadata": {},
   "outputs": [],
   "source": [
    "# Define \n",
    "node_datasets = [training1, training2, training3]\n",
    "num_nodes = 3\n",
    "global_updates = 3\n",
    "\n",
    "# Define model training parameters\n",
    "loss_fct = \"categorical_crossentropy\"\n",
    "metrics = ['accuracy']\n",
    "local_epochs = 5"
   ]
  },
  {
   "cell_type": "code",
   "execution_count": 17,
   "metadata": {},
   "outputs": [],
   "source": [
    "def train_local_model(model, node, x_train, y_train): \n",
    "    filepath = 'C:/Users/UX430/Documents/thesis/code/models/node'+str(node)+'id001.hdf5'\n",
    "    callbacks = [\n",
    "            keras.callbacks.EarlyStopping(\n",
    "                monitor = 'val_loss', # Use accuracy to monitor the model\n",
    "                patience = 10 # Stop after 10 steps with lower accuracy\n",
    "            ),\n",
    "            keras.callbacks.ModelCheckpoint(\n",
    "                filepath = filepath, # file where the checkpoint is saved\n",
    "                monitor = 'val_loss', # Don't overwrite the saved model unless val_loss is worse\n",
    "                save_best_only = True)]# Only save model if it is the best\n",
    "    optimizer = keras.optimizers.Adam(learning_rate=1e-4)\n",
    "    model.compile(optimizer=optimizer, loss=loss_fct, metrics=metrics)\n",
    "    history = model.fit(x_train, y_train, epochs=local_epochs, validation_split=0.2, callbacks=callbacks, batch_size=1024)\n",
    "    return model, history.history['loss'], history.history['accuracy'], history.history['val_loss'], history.history['val_accuracy']"
   ]
  },
  {
   "cell_type": "code",
   "execution_count": 18,
   "metadata": {},
   "outputs": [],
   "source": [
    "def aggregate(grad_list):\n",
    "    avg_grad = np.mean(grad_list, axis=0)\n",
    "    return avg_grad"
   ]
  },
  {
   "cell_type": "code",
   "execution_count": 19,
   "metadata": {},
   "outputs": [],
   "source": [
    "global_model = build_model((24,1,1))"
   ]
  },
  {
   "cell_type": "code",
   "execution_count": 20,
   "metadata": {},
   "outputs": [],
   "source": [
    "x1, y1 = preprocessing(training1)\n",
    "x2, y2 = preprocessing(training2)\n",
    "x3, y3 = preprocessing(training3)\n"
   ]
  },
  {
   "cell_type": "code",
   "execution_count": 21,
   "metadata": {},
   "outputs": [],
   "source": [
    "optimizer = keras.optimizers.Adam(learning_rate=1e-4)"
   ]
  },
  {
   "cell_type": "code",
   "execution_count": 22,
   "metadata": {},
   "outputs": [
    {
     "name": "stdout",
     "output_type": "stream",
     "text": [
      "Epoch 1/5\n",
      "15/15 [==============================] - 1s 49ms/step - loss: 1.3446 - accuracy: 0.4943 - val_loss: 1.3871 - val_accuracy: 0.1394\n",
      "Epoch 2/5\n",
      "15/15 [==============================] - 1s 37ms/step - loss: 0.8474 - accuracy: 0.7260 - val_loss: 1.4083 - val_accuracy: 0.0047\n",
      "Epoch 3/5\n",
      "15/15 [==============================] - 1s 38ms/step - loss: 0.5341 - accuracy: 0.9432 - val_loss: 1.4320 - val_accuracy: 0.0000e+00\n",
      "Epoch 4/5\n",
      "15/15 [==============================] - 1s 38ms/step - loss: 0.3439 - accuracy: 0.9578 - val_loss: 1.4591 - val_accuracy: 0.0000e+00\n",
      "Epoch 5/5\n",
      "15/15 [==============================] - 1s 38ms/step - loss: 0.2521 - accuracy: 0.9593 - val_loss: 1.4868 - val_accuracy: 0.0000e+00\n",
      "Epoch 1/5\n",
      "15/15 [==============================] - 1s 57ms/step - loss: 0.2060 - accuracy: 0.9618 - val_loss: 1.5403 - val_accuracy: 0.0000e+00\n",
      "Epoch 2/5\n",
      "15/15 [==============================] - 1s 38ms/step - loss: 0.1843 - accuracy: 0.9626 - val_loss: 1.5900 - val_accuracy: 0.0011\n",
      "Epoch 3/5\n",
      "15/15 [==============================] - 1s 38ms/step - loss: 0.1756 - accuracy: 0.9626 - val_loss: 1.6351 - val_accuracy: 0.0011\n",
      "Epoch 4/5\n",
      "15/15 [==============================] - 1s 38ms/step - loss: 0.1710 - accuracy: 0.9627 - val_loss: 1.6800 - val_accuracy: 0.0011\n",
      "Epoch 5/5\n",
      "15/15 [==============================] - 1s 38ms/step - loss: 0.1668 - accuracy: 0.9631 - val_loss: 1.7249 - val_accuracy: 0.0011\n",
      "Epoch 1/5\n",
      "15/15 [==============================] - 1s 57ms/step - loss: 0.1619 - accuracy: 0.9645 - val_loss: 1.7982 - val_accuracy: 5.4975e-04\n",
      "Epoch 2/5\n",
      "15/15 [==============================] - 1s 46ms/step - loss: 0.1591 - accuracy: 0.9647 - val_loss: 1.8700 - val_accuracy: 5.4975e-04\n",
      "Epoch 3/5\n",
      "15/15 [==============================] - 1s 49ms/step - loss: 0.1560 - accuracy: 0.9648 - val_loss: 1.9438 - val_accuracy: 5.4975e-04\n",
      "Epoch 4/5\n",
      "15/15 [==============================] - 1s 46ms/step - loss: 0.1539 - accuracy: 0.9649 - val_loss: 2.0269 - val_accuracy: 5.4975e-04\n",
      "Epoch 5/5\n",
      "15/15 [==============================] - 1s 47ms/step - loss: 0.1516 - accuracy: 0.9650 - val_loss: 2.1170 - val_accuracy: 5.4975e-04\n",
      "  85/2017 [>.............................] - ETA: 2s - loss: 0.9986 - accuracy: 0.9272"
     ]
    },
    {
     "name": "stderr",
     "output_type": "stream",
     "text": [
      "c:\\Users\\UX430\\anaconda3\\lib\\site-packages\\numpy\\core\\_asarray.py:171: VisibleDeprecationWarning: Creating an ndarray from ragged nested sequences (which is a list-or-tuple of lists-or-tuples-or ndarrays with different lengths or shapes) is deprecated. If you meant to do this, you must specify 'dtype=object' when creating the ndarray.\n",
      "  return array(a, dtype, copy=False, order=order, subok=True)\n"
     ]
    },
    {
     "name": "stdout",
     "output_type": "stream",
     "text": [
      "2017/2017 [==============================] - 2s 1ms/step - loss: 0.9997 - accuracy: 0.9244\n",
      " 88/756 [==>...........................] - ETA: 0s - loss: 0.0000e+00 - accuracy: 0.0000e+00"
     ]
    },
    {
     "name": "stderr",
     "output_type": "stream",
     "text": [
      "c:\\Users\\UX430\\anaconda3\\lib\\site-packages\\sklearn\\metrics\\_classification.py:1308: UndefinedMetricWarning: Precision and F-score are ill-defined and being set to 0.0 in labels with no predicted samples. Use `zero_division` parameter to control this behavior.\n",
      "  _warn_prf(average, modifier, msg_start, len(result))\n",
      "c:\\Users\\UX430\\anaconda3\\lib\\site-packages\\sklearn\\metrics\\_classification.py:1308: UndefinedMetricWarning: Precision and F-score are ill-defined and being set to 0.0 in labels with no predicted samples. Use `zero_division` parameter to control this behavior.\n",
      "  _warn_prf(average, modifier, msg_start, len(result))\n",
      "c:\\Users\\UX430\\anaconda3\\lib\\site-packages\\sklearn\\metrics\\_classification.py:1308: UndefinedMetricWarning: Precision and F-score are ill-defined and being set to 0.0 in labels with no predicted samples. Use `zero_division` parameter to control this behavior.\n",
      "  _warn_prf(average, modifier, msg_start, len(result))\n"
     ]
    },
    {
     "name": "stdout",
     "output_type": "stream",
     "text": [
      "756/756 [==============================] - 1s 1ms/step - loss: 0.0000e+00 - accuracy: 7.8574e-04\n"
     ]
    },
    {
     "name": "stderr",
     "output_type": "stream",
     "text": [
      "c:\\Users\\UX430\\anaconda3\\lib\\site-packages\\sklearn\\metrics\\_classification.py:1308: UndefinedMetricWarning: Precision and F-score are ill-defined and being set to 0.0 in labels with no predicted samples. Use `zero_division` parameter to control this behavior.\n",
      "  _warn_prf(average, modifier, msg_start, len(result))\n",
      "c:\\Users\\UX430\\anaconda3\\lib\\site-packages\\sklearn\\metrics\\_classification.py:1308: UndefinedMetricWarning: Recall and F-score are ill-defined and being set to 0.0 in labels with no true samples. Use `zero_division` parameter to control this behavior.\n",
      "  _warn_prf(average, modifier, msg_start, len(result))\n",
      "c:\\Users\\UX430\\anaconda3\\lib\\site-packages\\sklearn\\metrics\\_classification.py:1308: UndefinedMetricWarning: Precision and F-score are ill-defined and being set to 0.0 in labels with no predicted samples. Use `zero_division` parameter to control this behavior.\n",
      "  _warn_prf(average, modifier, msg_start, len(result))\n",
      "c:\\Users\\UX430\\anaconda3\\lib\\site-packages\\sklearn\\metrics\\_classification.py:1308: UndefinedMetricWarning: Recall and F-score are ill-defined and being set to 0.0 in labels with no true samples. Use `zero_division` parameter to control this behavior.\n",
      "  _warn_prf(average, modifier, msg_start, len(result))\n",
      "c:\\Users\\UX430\\anaconda3\\lib\\site-packages\\sklearn\\metrics\\_classification.py:1308: UndefinedMetricWarning: Precision and F-score are ill-defined and being set to 0.0 in labels with no predicted samples. Use `zero_division` parameter to control this behavior.\n",
      "  _warn_prf(average, modifier, msg_start, len(result))\n",
      "c:\\Users\\UX430\\anaconda3\\lib\\site-packages\\sklearn\\metrics\\_classification.py:1308: UndefinedMetricWarning: Recall and F-score are ill-defined and being set to 0.0 in labels with no true samples. Use `zero_division` parameter to control this behavior.\n",
      "  _warn_prf(average, modifier, msg_start, len(result))\n"
     ]
    },
    {
     "name": "stdout",
     "output_type": "stream",
     "text": [
      "Epoch 1/5\n",
      "15/15 [==============================] - 1s 59ms/step - loss: 0.1594 - accuracy: 0.9625 - val_loss: 2.1985 - val_accuracy: 8.2463e-04\n",
      "Epoch 2/5\n",
      "15/15 [==============================] - 1s 49ms/step - loss: 0.1564 - accuracy: 0.9622 - val_loss: 2.2954 - val_accuracy: 8.2463e-04\n",
      "Epoch 3/5\n",
      "15/15 [==============================] - 1s 47ms/step - loss: 0.1553 - accuracy: 0.9623 - val_loss: 2.4147 - val_accuracy: 0.0011\n",
      "Epoch 4/5\n",
      "15/15 [==============================] - 1s 50ms/step - loss: 0.1537 - accuracy: 0.9630 - val_loss: 2.5323 - val_accuracy: 0.0011\n",
      "Epoch 5/5\n",
      "15/15 [==============================] - 1s 38ms/step - loss: 0.1531 - accuracy: 0.9630 - val_loss: 2.6636 - val_accuracy: 0.0011\n",
      "Epoch 1/5\n",
      "15/15 [==============================] - 1s 61ms/step - loss: 0.1496 - accuracy: 0.9650 - val_loss: 2.8110 - val_accuracy: 0.0011\n",
      "Epoch 2/5\n",
      "15/15 [==============================] - 1s 48ms/step - loss: 0.1476 - accuracy: 0.9650 - val_loss: 2.9887 - val_accuracy: 0.0011\n",
      "Epoch 3/5\n",
      "15/15 [==============================] - 1s 48ms/step - loss: 0.1467 - accuracy: 0.9654 - val_loss: 3.1705 - val_accuracy: 0.0011\n",
      "Epoch 4/5\n",
      "15/15 [==============================] - 1s 49ms/step - loss: 0.1458 - accuracy: 0.9655 - val_loss: 3.3438 - val_accuracy: 0.0011\n",
      "Epoch 5/5\n",
      "15/15 [==============================] - 1s 51ms/step - loss: 0.1449 - accuracy: 0.9658 - val_loss: 3.5411 - val_accuracy: 0.0011\n",
      "Epoch 1/5\n",
      "15/15 [==============================] - 1s 66ms/step - loss: 0.1443 - accuracy: 0.9663 - val_loss: 3.7897 - val_accuracy: 2.7488e-04\n",
      "Epoch 2/5\n",
      "15/15 [==============================] - 1s 52ms/step - loss: 0.1434 - accuracy: 0.9665 - val_loss: 3.9795 - val_accuracy: 5.4975e-04\n",
      "Epoch 3/5\n",
      "15/15 [==============================] - 1s 49ms/step - loss: 0.1422 - accuracy: 0.9663 - val_loss: 4.2616 - val_accuracy: 5.4975e-04\n",
      "Epoch 4/5\n",
      "15/15 [==============================] - 1s 50ms/step - loss: 0.1415 - accuracy: 0.9665 - val_loss: 4.4651 - val_accuracy: 5.4975e-04\n",
      "Epoch 5/5\n",
      "15/15 [==============================] - 1s 51ms/step - loss: 0.1410 - accuracy: 0.9665 - val_loss: 4.7086 - val_accuracy: 2.7488e-04\n",
      " 133/2017 [>.............................] - ETA: 2s - loss: 0.7280 - accuracy: 0.9250"
     ]
    },
    {
     "name": "stderr",
     "output_type": "stream",
     "text": [
      "c:\\Users\\UX430\\anaconda3\\lib\\site-packages\\numpy\\core\\_asarray.py:171: VisibleDeprecationWarning: Creating an ndarray from ragged nested sequences (which is a list-or-tuple of lists-or-tuples-or ndarrays with different lengths or shapes) is deprecated. If you meant to do this, you must specify 'dtype=object' when creating the ndarray.\n",
      "  return array(a, dtype, copy=False, order=order, subok=True)\n"
     ]
    },
    {
     "name": "stdout",
     "output_type": "stream",
     "text": [
      "2017/2017 [==============================] - 2s 1ms/step - loss: 0.7288 - accuracy: 0.9244\n",
      " 88/756 [==>...........................] - ETA: 0s - loss: 0.0000e+00 - accuracy: 0.0014    "
     ]
    },
    {
     "name": "stderr",
     "output_type": "stream",
     "text": [
      "c:\\Users\\UX430\\anaconda3\\lib\\site-packages\\sklearn\\metrics\\_classification.py:1308: UndefinedMetricWarning: Precision and F-score are ill-defined and being set to 0.0 in labels with no predicted samples. Use `zero_division` parameter to control this behavior.\n",
      "  _warn_prf(average, modifier, msg_start, len(result))\n",
      "c:\\Users\\UX430\\anaconda3\\lib\\site-packages\\sklearn\\metrics\\_classification.py:1308: UndefinedMetricWarning: Precision and F-score are ill-defined and being set to 0.0 in labels with no predicted samples. Use `zero_division` parameter to control this behavior.\n",
      "  _warn_prf(average, modifier, msg_start, len(result))\n",
      "c:\\Users\\UX430\\anaconda3\\lib\\site-packages\\sklearn\\metrics\\_classification.py:1308: UndefinedMetricWarning: Precision and F-score are ill-defined and being set to 0.0 in labels with no predicted samples. Use `zero_division` parameter to control this behavior.\n",
      "  _warn_prf(average, modifier, msg_start, len(result))\n"
     ]
    },
    {
     "name": "stdout",
     "output_type": "stream",
     "text": [
      "756/756 [==============================] - 1s 1ms/step - loss: 0.0000e+00 - accuracy: 7.0303e-04\n"
     ]
    },
    {
     "name": "stderr",
     "output_type": "stream",
     "text": [
      "c:\\Users\\UX430\\anaconda3\\lib\\site-packages\\sklearn\\metrics\\_classification.py:1308: UndefinedMetricWarning: Precision and F-score are ill-defined and being set to 0.0 in labels with no predicted samples. Use `zero_division` parameter to control this behavior.\n",
      "  _warn_prf(average, modifier, msg_start, len(result))\n",
      "c:\\Users\\UX430\\anaconda3\\lib\\site-packages\\sklearn\\metrics\\_classification.py:1308: UndefinedMetricWarning: Recall and F-score are ill-defined and being set to 0.0 in labels with no true samples. Use `zero_division` parameter to control this behavior.\n",
      "  _warn_prf(average, modifier, msg_start, len(result))\n",
      "c:\\Users\\UX430\\anaconda3\\lib\\site-packages\\sklearn\\metrics\\_classification.py:1308: UndefinedMetricWarning: Precision and F-score are ill-defined and being set to 0.0 in labels with no predicted samples. Use `zero_division` parameter to control this behavior.\n",
      "  _warn_prf(average, modifier, msg_start, len(result))\n",
      "c:\\Users\\UX430\\anaconda3\\lib\\site-packages\\sklearn\\metrics\\_classification.py:1308: UndefinedMetricWarning: Recall and F-score are ill-defined and being set to 0.0 in labels with no true samples. Use `zero_division` parameter to control this behavior.\n",
      "  _warn_prf(average, modifier, msg_start, len(result))\n",
      "c:\\Users\\UX430\\anaconda3\\lib\\site-packages\\sklearn\\metrics\\_classification.py:1308: UndefinedMetricWarning: Precision and F-score are ill-defined and being set to 0.0 in labels with no predicted samples. Use `zero_division` parameter to control this behavior.\n",
      "  _warn_prf(average, modifier, msg_start, len(result))\n",
      "c:\\Users\\UX430\\anaconda3\\lib\\site-packages\\sklearn\\metrics\\_classification.py:1308: UndefinedMetricWarning: Recall and F-score are ill-defined and being set to 0.0 in labels with no true samples. Use `zero_division` parameter to control this behavior.\n",
      "  _warn_prf(average, modifier, msg_start, len(result))\n"
     ]
    },
    {
     "name": "stdout",
     "output_type": "stream",
     "text": [
      "Epoch 1/5\n",
      "15/15 [==============================] - 1s 57ms/step - loss: 0.1492 - accuracy: 0.9654 - val_loss: 4.8970 - val_accuracy: 0.0014\n",
      "Epoch 2/5\n",
      "15/15 [==============================] - 1s 50ms/step - loss: 0.1475 - accuracy: 0.9657 - val_loss: 5.1096 - val_accuracy: 0.0014\n",
      "Epoch 3/5\n",
      "15/15 [==============================] - 1s 53ms/step - loss: 0.1470 - accuracy: 0.9653 - val_loss: 5.3703 - val_accuracy: 0.0014\n",
      "Epoch 4/5\n",
      "15/15 [==============================] - 1s 38ms/step - loss: 0.1466 - accuracy: 0.9658 - val_loss: 5.5638 - val_accuracy: 0.0014\n",
      "Epoch 5/5\n",
      "15/15 [==============================] - 1s 38ms/step - loss: 0.1459 - accuracy: 0.9660 - val_loss: 5.8394 - val_accuracy: 0.0014\n",
      "Epoch 1/5\n",
      "15/15 [==============================] - 1s 55ms/step - loss: 0.1433 - accuracy: 0.9669 - val_loss: 5.9985 - val_accuracy: 0.0016\n",
      "Epoch 2/5\n",
      "15/15 [==============================] - 1s 48ms/step - loss: 0.1417 - accuracy: 0.9671 - val_loss: 6.2196 - val_accuracy: 0.0011\n",
      "Epoch 3/5\n",
      "15/15 [==============================] - 1s 47ms/step - loss: 0.1414 - accuracy: 0.9672 - val_loss: 6.4305 - val_accuracy: 0.0011\n",
      "Epoch 4/5\n",
      "15/15 [==============================] - 1s 51ms/step - loss: 0.1410 - accuracy: 0.9674 - val_loss: 6.6518 - val_accuracy: 0.0011\n",
      "Epoch 5/5\n",
      "15/15 [==============================] - 1s 44ms/step - loss: 0.1408 - accuracy: 0.9674 - val_loss: 6.7366 - val_accuracy: 0.0011\n",
      "Epoch 1/5\n",
      "15/15 [==============================] - 1s 62ms/step - loss: 0.1404 - accuracy: 0.9671 - val_loss: 6.9825 - val_accuracy: 2.7488e-04\n",
      "Epoch 2/5\n",
      "15/15 [==============================] - 1s 37ms/step - loss: 0.1391 - accuracy: 0.9672 - val_loss: 7.1795 - val_accuracy: 0.0000e+00\n",
      "Epoch 3/5\n",
      "15/15 [==============================] - 1s 38ms/step - loss: 0.1388 - accuracy: 0.9675 - val_loss: 7.3203 - val_accuracy: 2.7488e-04\n",
      "Epoch 4/5\n",
      "15/15 [==============================] - 1s 38ms/step - loss: 0.1384 - accuracy: 0.9673 - val_loss: 7.5165 - val_accuracy: 0.0000e+00\n",
      "Epoch 5/5\n",
      "15/15 [==============================] - 1s 38ms/step - loss: 0.1381 - accuracy: 0.9675 - val_loss: 7.6186 - val_accuracy: 2.7488e-04\n",
      "  77/2017 [>.............................] - ETA: 2s - loss: 0.7906 - accuracy: 0.9286"
     ]
    },
    {
     "name": "stderr",
     "output_type": "stream",
     "text": [
      "c:\\Users\\UX430\\anaconda3\\lib\\site-packages\\numpy\\core\\_asarray.py:171: VisibleDeprecationWarning: Creating an ndarray from ragged nested sequences (which is a list-or-tuple of lists-or-tuples-or ndarrays with different lengths or shapes) is deprecated. If you meant to do this, you must specify 'dtype=object' when creating the ndarray.\n",
      "  return array(a, dtype, copy=False, order=order, subok=True)\n"
     ]
    },
    {
     "name": "stdout",
     "output_type": "stream",
     "text": [
      "2017/2017 [==============================] - 2s 1ms/step - loss: 0.8147 - accuracy: 0.9244\n",
      " 90/756 [==>...........................] - ETA: 0s - loss: 0.0000e+00 - accuracy: 0.0000e+00"
     ]
    },
    {
     "name": "stderr",
     "output_type": "stream",
     "text": [
      "c:\\Users\\UX430\\anaconda3\\lib\\site-packages\\sklearn\\metrics\\_classification.py:1308: UndefinedMetricWarning: Precision and F-score are ill-defined and being set to 0.0 in labels with no predicted samples. Use `zero_division` parameter to control this behavior.\n",
      "  _warn_prf(average, modifier, msg_start, len(result))\n",
      "c:\\Users\\UX430\\anaconda3\\lib\\site-packages\\sklearn\\metrics\\_classification.py:1308: UndefinedMetricWarning: Precision and F-score are ill-defined and being set to 0.0 in labels with no predicted samples. Use `zero_division` parameter to control this behavior.\n",
      "  _warn_prf(average, modifier, msg_start, len(result))\n",
      "c:\\Users\\UX430\\anaconda3\\lib\\site-packages\\sklearn\\metrics\\_classification.py:1308: UndefinedMetricWarning: Precision and F-score are ill-defined and being set to 0.0 in labels with no predicted samples. Use `zero_division` parameter to control this behavior.\n",
      "  _warn_prf(average, modifier, msg_start, len(result))\n"
     ]
    },
    {
     "name": "stdout",
     "output_type": "stream",
     "text": [
      "756/756 [==============================] - 1s 1ms/step - loss: 0.0000e+00 - accuracy: 5.7897e-04\n"
     ]
    },
    {
     "name": "stderr",
     "output_type": "stream",
     "text": [
      "c:\\Users\\UX430\\anaconda3\\lib\\site-packages\\sklearn\\metrics\\_classification.py:1308: UndefinedMetricWarning: Precision and F-score are ill-defined and being set to 0.0 in labels with no predicted samples. Use `zero_division` parameter to control this behavior.\n",
      "  _warn_prf(average, modifier, msg_start, len(result))\n",
      "c:\\Users\\UX430\\anaconda3\\lib\\site-packages\\sklearn\\metrics\\_classification.py:1308: UndefinedMetricWarning: Recall and F-score are ill-defined and being set to 0.0 in labels with no true samples. Use `zero_division` parameter to control this behavior.\n",
      "  _warn_prf(average, modifier, msg_start, len(result))\n",
      "c:\\Users\\UX430\\anaconda3\\lib\\site-packages\\sklearn\\metrics\\_classification.py:1308: UndefinedMetricWarning: Precision and F-score are ill-defined and being set to 0.0 in labels with no predicted samples. Use `zero_division` parameter to control this behavior.\n",
      "  _warn_prf(average, modifier, msg_start, len(result))\n",
      "c:\\Users\\UX430\\anaconda3\\lib\\site-packages\\sklearn\\metrics\\_classification.py:1308: UndefinedMetricWarning: Recall and F-score are ill-defined and being set to 0.0 in labels with no true samples. Use `zero_division` parameter to control this behavior.\n",
      "  _warn_prf(average, modifier, msg_start, len(result))\n",
      "c:\\Users\\UX430\\anaconda3\\lib\\site-packages\\sklearn\\metrics\\_classification.py:1308: UndefinedMetricWarning: Precision and F-score are ill-defined and being set to 0.0 in labels with no predicted samples. Use `zero_division` parameter to control this behavior.\n",
      "  _warn_prf(average, modifier, msg_start, len(result))\n",
      "c:\\Users\\UX430\\anaconda3\\lib\\site-packages\\sklearn\\metrics\\_classification.py:1308: UndefinedMetricWarning: Recall and F-score are ill-defined and being set to 0.0 in labels with no true samples. Use `zero_division` parameter to control this behavior.\n",
      "  _warn_prf(average, modifier, msg_start, len(result))\n"
     ]
    }
   ],
   "source": [
    "# Values saved each iteration \n",
    "loss_it = []\n",
    "accuracy_it = []\n",
    "f1_it = []\n",
    "precision_it = []\n",
    "recall_it = []\n",
    "\n",
    "for i in range(global_updates): \n",
    "    gradients_list = []\n",
    "    for node in range(num_nodes): \n",
    "        cp = global_model # create a copy of the global model\n",
    "        if node == 0:\n",
    "            x, y = x1, y1\n",
    "        elif node == 1:\n",
    "            x, y = x2, y2\n",
    "        else:\n",
    "            x, y = x3, y3\n",
    "        local_model, local_loss, local_acc, local_val_loss, local_val_acc = train_local_model(cp, node, x, y)\n",
    "        with tf.GradientTape() as tape: \n",
    "            predictions = local_model(x)\n",
    "            loss = tf.keras.losses.categorical_crossentropy(y, predictions)\n",
    "        gradients = tape.gradient(loss, local_model.trainable_variables)\n",
    "        gradients_list.append(gradients)\n",
    "\n",
    "    avg_grad = aggregate(gradients_list)\n",
    "    optimizer.apply_gradients(zip(avg_grad, global_model.trainable_variables)) # apply gradients to global model\n",
    "    loss_basic, accuracy_basic, f1_basic, precision_basic, recall_basic = evaluation(global_model, xbasic, ybasic) \n",
    "    loss_plus, accuracy_plus, f1_plus, precision_plus, recall_plus = evaluation(global_model, xplus, yplus)\n",
    "\n",
    "    loss_it.append([loss_basic, loss_plus])\n",
    "    accuracy_it.append([accuracy_basic, accuracy_plus])\n",
    "    f1_it.append([f1_basic, f1_plus])\n",
    "    precision_it.append([precision_basic, precision_plus])\n",
    "    recall_it.append([recall_basic, recall_plus])\n",
    "\n",
    "\n",
    "global_model.save('C:/Users/UX430/Documents/thesis/code/models/id001.hdf5')"
   ]
  },
  {
   "cell_type": "code",
   "execution_count": 23,
   "metadata": {},
   "outputs": [
    {
     "name": "stdout",
     "output_type": "stream",
     "text": [
      "Loss for iterations:  [[0.9997096061706543, 0.0], [0.7288485169410706, 0.0], [0.8146520853042603, 0.0]]\n",
      "Accuracy for iterations:  [[0.9243753552436829, 0.000785740849096328], [0.9244373440742493, 0.0007030313136056066], [0.9244373440742493, 0.0005789669812656939]]\n",
      "F1 for iterations:  [[0.9006694012382915, 0.0015702479338842972], [0.9024768401055161, 0.0014050747995702126], [0.9038515695470377, 0.0011572638974994833]]\n",
      "Precision for iterations:  [[0.8850810222648535, 1.0], [0.9051148713574935, 1.0], [0.9090988690155398, 1.0]]\n",
      "Recall for iterations:  [[0.9243753487506975, 0.0007857408709317233], [0.9244373488746978, 0.0007030313055704893], [0.9244373488746978, 0.0005789669575286382]]\n"
     ]
    }
   ],
   "source": [
    "print(\"Loss for iterations: \", loss_it)\n",
    "print(\"Accuracy for iterations: \", accuracy_it)\n",
    "print(\"F1 for iterations: \", f1_it)\n",
    "print(\"Precision for iterations: \", precision_it)\n",
    "print(\"Recall for iterations: \", recall_it)"
   ]
  },
  {
   "cell_type": "markdown",
   "metadata": {},
   "source": [
    "#### Dataset 3C"
   ]
  },
  {
   "cell_type": "code",
   "execution_count": 24,
   "metadata": {},
   "outputs": [],
   "source": [
    "# Load training datasets and testing datasets \n",
    "training1 = pd.read_csv('C:/Users/UX430/Documents/thesis/datasets/UNSW-NB15/UNSW-NB15-Train-Basic-Cat3C-Part1.csv')\n",
    "training2 = pd.read_csv('C:/Users/UX430/Documents/thesis/datasets/UNSW-NB15/UNSW-NB15-Train-Basic-Cat3C-Part2.csv')\n",
    "training3 = pd.read_csv('C:/Users/UX430/Documents/thesis/datasets/UNSW-NB15/UNSW-NB15-Train-Basic-Cat3C-Part3.csv')"
   ]
  },
  {
   "cell_type": "code",
   "execution_count": 25,
   "metadata": {},
   "outputs": [],
   "source": [
    "# Define \n",
    "node_datasets = [training1, training2, training3]\n",
    "num_nodes = 3\n",
    "global_updates = 3\n",
    "\n",
    "# Define model training parameters\n",
    "loss_fct = \"categorical_crossentropy\"\n",
    "metrics = ['accuracy']\n",
    "local_epochs = 5"
   ]
  },
  {
   "cell_type": "code",
   "execution_count": 26,
   "metadata": {},
   "outputs": [],
   "source": [
    "def train_local_model(model, node, x_train, y_train): \n",
    "    filepath = 'C:/Users/UX430/Documents/thesis/code/models/node'+str(node)+'id002.hdf5'\n",
    "    callbacks = [\n",
    "            keras.callbacks.EarlyStopping(\n",
    "                monitor = 'val_loss', # Use accuracy to monitor the model\n",
    "                patience = 10 # Stop after 10 steps with lower accuracy\n",
    "            ),\n",
    "            keras.callbacks.ModelCheckpoint(\n",
    "                filepath = filepath, # file where the checkpoint is saved\n",
    "                monitor = 'val_loss', # Don't overwrite the saved model unless val_loss is worse\n",
    "                save_best_only = True)]# Only save model if it is the best\n",
    "    optimizer = keras.optimizers.Adam(learning_rate=1e-4)\n",
    "    model.compile(optimizer=optimizer, loss=loss_fct, metrics=metrics)\n",
    "    history = model.fit(x_train, y_train, epochs=local_epochs, validation_split=0.2, callbacks=callbacks, batch_size=1024)\n",
    "    return model, history.history['loss'], history.history['accuracy'], history.history['val_loss'], history.history['val_accuracy']"
   ]
  },
  {
   "cell_type": "code",
   "execution_count": 27,
   "metadata": {},
   "outputs": [],
   "source": [
    "def aggregate(grad_list):\n",
    "    avg_grad = np.mean(grad_list, axis=0)\n",
    "    return avg_grad"
   ]
  },
  {
   "cell_type": "code",
   "execution_count": 28,
   "metadata": {},
   "outputs": [],
   "source": [
    "global_model = build_model((24,1,1))"
   ]
  },
  {
   "cell_type": "code",
   "execution_count": 29,
   "metadata": {},
   "outputs": [],
   "source": [
    "x1, y1 = preprocessing(training1)\n",
    "x2, y2 = preprocessing(training2)\n",
    "x3, y3 = preprocessing(training3)\n"
   ]
  },
  {
   "cell_type": "code",
   "execution_count": 30,
   "metadata": {},
   "outputs": [],
   "source": [
    "optimizer = keras.optimizers.Adam(learning_rate=1e-4)"
   ]
  },
  {
   "cell_type": "code",
   "execution_count": 31,
   "metadata": {},
   "outputs": [
    {
     "name": "stdout",
     "output_type": "stream",
     "text": [
      "Epoch 1/5\n",
      "4/4 [==============================] - 0s 81ms/step - loss: 1.2956 - accuracy: 0.3753 - val_loss: 1.3826 - val_accuracy: 0.2868\n",
      "Epoch 2/5\n",
      "4/4 [==============================] - 0s 35ms/step - loss: 1.1912 - accuracy: 0.5469 - val_loss: 1.3884 - val_accuracy: 0.2302\n",
      "Epoch 3/5\n",
      "4/4 [==============================] - 0s 31ms/step - loss: 1.1017 - accuracy: 0.5998 - val_loss: 1.3942 - val_accuracy: 0.1107\n",
      "Epoch 4/5\n",
      "4/4 [==============================] - 0s 33ms/step - loss: 1.0282 - accuracy: 0.6093 - val_loss: 1.3997 - val_accuracy: 0.0516\n",
      "Epoch 5/5\n",
      "4/4 [==============================] - 0s 32ms/step - loss: 0.9689 - accuracy: 0.6181 - val_loss: 1.4051 - val_accuracy: 0.0465\n",
      "Epoch 1/5\n",
      "4/4 [==============================] - 0s 72ms/step - loss: 0.9100 - accuracy: 0.6423 - val_loss: 1.4118 - val_accuracy: 0.0377\n",
      "Epoch 2/5\n",
      "4/4 [==============================] - 0s 34ms/step - loss: 0.8677 - accuracy: 0.6470 - val_loss: 1.4173 - val_accuracy: 0.0340\n",
      "Epoch 3/5\n",
      "4/4 [==============================] - 0s 38ms/step - loss: 0.8373 - accuracy: 0.6445 - val_loss: 1.4225 - val_accuracy: 0.0189\n",
      "Epoch 4/5\n",
      "4/4 [==============================] - 0s 34ms/step - loss: 0.8159 - accuracy: 0.6470 - val_loss: 1.4267 - val_accuracy: 0.0126\n",
      "Epoch 5/5\n",
      "4/4 [==============================] - 0s 32ms/step - loss: 0.8017 - accuracy: 0.6480 - val_loss: 1.4305 - val_accuracy: 0.0126\n",
      "Epoch 1/5\n",
      "4/4 [==============================] - 0s 69ms/step - loss: 0.7973 - accuracy: 0.6346 - val_loss: 1.4324 - val_accuracy: 0.0025\n",
      "Epoch 2/5\n",
      "4/4 [==============================] - 0s 34ms/step - loss: 0.7848 - accuracy: 0.6402 - val_loss: 1.4338 - val_accuracy: 0.0013\n",
      "Epoch 3/5\n",
      "4/4 [==============================] - 0s 36ms/step - loss: 0.7742 - accuracy: 0.6456 - val_loss: 1.4339 - val_accuracy: 0.0000e+00\n",
      "Epoch 4/5\n",
      "4/4 [==============================] - 0s 36ms/step - loss: 0.7664 - accuracy: 0.6528 - val_loss: 1.4343 - val_accuracy: 0.0000e+00\n",
      "Epoch 5/5\n",
      "4/4 [==============================] - 0s 33ms/step - loss: 0.7595 - accuracy: 0.6582 - val_loss: 1.4337 - val_accuracy: 0.0000e+00\n",
      " 148/2017 [=>............................] - ETA: 1s - loss: 1.3523 - accuracy: 0.7853"
     ]
    },
    {
     "name": "stderr",
     "output_type": "stream",
     "text": [
      "c:\\Users\\UX430\\anaconda3\\lib\\site-packages\\numpy\\core\\_asarray.py:171: VisibleDeprecationWarning: Creating an ndarray from ragged nested sequences (which is a list-or-tuple of lists-or-tuples-or ndarrays with different lengths or shapes) is deprecated. If you meant to do this, you must specify 'dtype=object' when creating the ndarray.\n",
      "  return array(a, dtype, copy=False, order=order, subok=True)\n"
     ]
    },
    {
     "name": "stdout",
     "output_type": "stream",
     "text": [
      "2017/2017 [==============================] - 2s 1ms/step - loss: 1.3516 - accuracy: 0.7739\n",
      "756/756 [==============================] - 1s 1ms/step - loss: 0.0000e+00 - accuracy: 0.6268\n"
     ]
    },
    {
     "name": "stderr",
     "output_type": "stream",
     "text": [
      "c:\\Users\\UX430\\anaconda3\\lib\\site-packages\\sklearn\\metrics\\_classification.py:1308: UndefinedMetricWarning: Recall and F-score are ill-defined and being set to 0.0 in labels with no true samples. Use `zero_division` parameter to control this behavior.\n",
      "  _warn_prf(average, modifier, msg_start, len(result))\n",
      "c:\\Users\\UX430\\anaconda3\\lib\\site-packages\\sklearn\\metrics\\_classification.py:1308: UndefinedMetricWarning: Recall and F-score are ill-defined and being set to 0.0 in labels with no true samples. Use `zero_division` parameter to control this behavior.\n",
      "  _warn_prf(average, modifier, msg_start, len(result))\n",
      "c:\\Users\\UX430\\anaconda3\\lib\\site-packages\\sklearn\\metrics\\_classification.py:1308: UndefinedMetricWarning: Recall and F-score are ill-defined and being set to 0.0 in labels with no true samples. Use `zero_division` parameter to control this behavior.\n",
      "  _warn_prf(average, modifier, msg_start, len(result))\n"
     ]
    },
    {
     "name": "stdout",
     "output_type": "stream",
     "text": [
      "Epoch 1/5\n",
      "4/4 [==============================] - 0s 66ms/step - loss: 0.7631 - accuracy: 0.6524 - val_loss: 1.4314 - val_accuracy: 0.0025\n",
      "Epoch 2/5\n",
      "4/4 [==============================] - 0s 32ms/step - loss: 0.7555 - accuracy: 0.6615 - val_loss: 1.4288 - val_accuracy: 0.0025\n",
      "Epoch 3/5\n",
      "4/4 [==============================] - 0s 34ms/step - loss: 0.7503 - accuracy: 0.6596 - val_loss: 1.4276 - val_accuracy: 0.0038\n",
      "Epoch 4/5\n",
      "4/4 [==============================] - 0s 32ms/step - loss: 0.7462 - accuracy: 0.6618 - val_loss: 1.4269 - val_accuracy: 0.0038\n",
      "Epoch 5/5\n",
      "4/4 [==============================] - 0s 32ms/step - loss: 0.7416 - accuracy: 0.6637 - val_loss: 1.4260 - val_accuracy: 0.0038\n",
      "Epoch 1/5\n",
      "4/4 [==============================] - 0s 72ms/step - loss: 0.7395 - accuracy: 0.6628 - val_loss: 1.4250 - val_accuracy: 0.0075\n",
      "Epoch 2/5\n",
      "4/4 [==============================] - 0s 32ms/step - loss: 0.7345 - accuracy: 0.6650 - val_loss: 1.4256 - val_accuracy: 0.0113\n",
      "Epoch 3/5\n",
      "4/4 [==============================] - 0s 38ms/step - loss: 0.7309 - accuracy: 0.6675 - val_loss: 1.4248 - val_accuracy: 0.0151\n",
      "Epoch 4/5\n",
      "4/4 [==============================] - 0s 39ms/step - loss: 0.7279 - accuracy: 0.6644 - val_loss: 1.4241 - val_accuracy: 0.0176\n",
      "Epoch 5/5\n",
      "4/4 [==============================] - 0s 44ms/step - loss: 0.7244 - accuracy: 0.6599 - val_loss: 1.4231 - val_accuracy: 0.0151\n",
      "Epoch 1/5\n",
      "4/4 [==============================] - 0s 69ms/step - loss: 0.7163 - accuracy: 0.6667 - val_loss: 1.4232 - val_accuracy: 0.0088\n",
      "Epoch 2/5\n",
      "4/4 [==============================] - 0s 40ms/step - loss: 0.7117 - accuracy: 0.6689 - val_loss: 1.4228 - val_accuracy: 0.0038\n",
      "Epoch 3/5\n",
      "4/4 [==============================] - 0s 42ms/step - loss: 0.7066 - accuracy: 0.6711 - val_loss: 1.4218 - val_accuracy: 0.0038\n",
      "Epoch 4/5\n",
      "4/4 [==============================] - 0s 34ms/step - loss: 0.7030 - accuracy: 0.6698 - val_loss: 1.4218 - val_accuracy: 0.0025\n",
      "Epoch 5/5\n",
      "4/4 [==============================] - 0s 36ms/step - loss: 0.6999 - accuracy: 0.6686 - val_loss: 1.4220 - val_accuracy: 0.0025\n",
      " 146/2017 [=>............................] - ETA: 1s - loss: 1.3471 - accuracy: 0.5623"
     ]
    },
    {
     "name": "stderr",
     "output_type": "stream",
     "text": [
      "c:\\Users\\UX430\\anaconda3\\lib\\site-packages\\numpy\\core\\_asarray.py:171: VisibleDeprecationWarning: Creating an ndarray from ragged nested sequences (which is a list-or-tuple of lists-or-tuples-or ndarrays with different lengths or shapes) is deprecated. If you meant to do this, you must specify 'dtype=object' when creating the ndarray.\n",
      "  return array(a, dtype, copy=False, order=order, subok=True)\n"
     ]
    },
    {
     "name": "stdout",
     "output_type": "stream",
     "text": [
      "2017/2017 [==============================] - 2s 1ms/step - loss: 1.3450 - accuracy: 0.5587\n",
      "756/756 [==============================] - 1s 1ms/step - loss: 0.0000e+00 - accuracy: 0.5948\n"
     ]
    },
    {
     "name": "stderr",
     "output_type": "stream",
     "text": [
      "c:\\Users\\UX430\\anaconda3\\lib\\site-packages\\sklearn\\metrics\\_classification.py:1308: UndefinedMetricWarning: Recall and F-score are ill-defined and being set to 0.0 in labels with no true samples. Use `zero_division` parameter to control this behavior.\n",
      "  _warn_prf(average, modifier, msg_start, len(result))\n",
      "c:\\Users\\UX430\\anaconda3\\lib\\site-packages\\sklearn\\metrics\\_classification.py:1308: UndefinedMetricWarning: Recall and F-score are ill-defined and being set to 0.0 in labels with no true samples. Use `zero_division` parameter to control this behavior.\n",
      "  _warn_prf(average, modifier, msg_start, len(result))\n",
      "c:\\Users\\UX430\\anaconda3\\lib\\site-packages\\sklearn\\metrics\\_classification.py:1308: UndefinedMetricWarning: Recall and F-score are ill-defined and being set to 0.0 in labels with no true samples. Use `zero_division` parameter to control this behavior.\n",
      "  _warn_prf(average, modifier, msg_start, len(result))\n"
     ]
    },
    {
     "name": "stdout",
     "output_type": "stream",
     "text": [
      "Epoch 1/5\n",
      "4/4 [==============================] - 0s 75ms/step - loss: 0.7160 - accuracy: 0.6628 - val_loss: 1.4158 - val_accuracy: 0.0138\n",
      "Epoch 2/5\n",
      "4/4 [==============================] - 0s 39ms/step - loss: 0.7100 - accuracy: 0.6694 - val_loss: 1.4116 - val_accuracy: 0.0164\n",
      "Epoch 3/5\n",
      "4/4 [==============================] - 0s 44ms/step - loss: 0.7075 - accuracy: 0.6735 - val_loss: 1.4105 - val_accuracy: 0.0201\n",
      "Epoch 4/5\n",
      "4/4 [==============================] - 0s 39ms/step - loss: 0.7044 - accuracy: 0.6795 - val_loss: 1.4091 - val_accuracy: 0.0239\n",
      "Epoch 5/5\n",
      "4/4 [==============================] - 0s 43ms/step - loss: 0.7008 - accuracy: 0.6725 - val_loss: 1.4067 - val_accuracy: 0.0302\n",
      "Epoch 1/5\n",
      "4/4 [==============================] - 0s 69ms/step - loss: 0.7027 - accuracy: 0.6700 - val_loss: 1.4046 - val_accuracy: 0.0252\n",
      "Epoch 2/5\n",
      "4/4 [==============================] - 0s 33ms/step - loss: 0.6979 - accuracy: 0.6707 - val_loss: 1.4084 - val_accuracy: 0.0226\n",
      "Epoch 3/5\n",
      "4/4 [==============================] - 0s 34ms/step - loss: 0.6967 - accuracy: 0.6744 - val_loss: 1.4101 - val_accuracy: 0.0201\n",
      "Epoch 4/5\n",
      "4/4 [==============================] - 0s 34ms/step - loss: 0.6935 - accuracy: 0.6785 - val_loss: 1.4110 - val_accuracy: 0.0201\n",
      "Epoch 5/5\n",
      "4/4 [==============================] - 0s 35ms/step - loss: 0.6920 - accuracy: 0.6773 - val_loss: 1.4119 - val_accuracy: 0.0214\n",
      "Epoch 1/5\n",
      "4/4 [==============================] - 0s 77ms/step - loss: 0.6803 - accuracy: 0.6708 - val_loss: 1.4081 - val_accuracy: 0.0189\n",
      "Epoch 2/5\n",
      "4/4 [==============================] - 0s 32ms/step - loss: 0.6748 - accuracy: 0.6720 - val_loss: 1.4103 - val_accuracy: 0.0101\n",
      "Epoch 3/5\n",
      "4/4 [==============================] - 0s 33ms/step - loss: 0.6715 - accuracy: 0.6723 - val_loss: 1.4125 - val_accuracy: 0.0050\n",
      "Epoch 4/5\n",
      "4/4 [==============================] - 0s 31ms/step - loss: 0.6673 - accuracy: 0.6755 - val_loss: 1.4110 - val_accuracy: 0.0025\n",
      "Epoch 5/5\n",
      "4/4 [==============================] - 0s 37ms/step - loss: 0.6658 - accuracy: 0.6758 - val_loss: 1.4075 - val_accuracy: 0.0063\n",
      "  98/2017 [>.............................] - ETA: 3s - loss: 1.3239 - accuracy: 0.5721"
     ]
    },
    {
     "name": "stderr",
     "output_type": "stream",
     "text": [
      "c:\\Users\\UX430\\anaconda3\\lib\\site-packages\\numpy\\core\\_asarray.py:171: VisibleDeprecationWarning: Creating an ndarray from ragged nested sequences (which is a list-or-tuple of lists-or-tuples-or ndarrays with different lengths or shapes) is deprecated. If you meant to do this, you must specify 'dtype=object' when creating the ndarray.\n",
      "  return array(a, dtype, copy=False, order=order, subok=True)\n"
     ]
    },
    {
     "name": "stdout",
     "output_type": "stream",
     "text": [
      "2017/2017 [==============================] - 2s 1ms/step - loss: 1.3233 - accuracy: 0.5665\n",
      "756/756 [==============================] - 1s 1ms/step - loss: 0.0000e+00 - accuracy: 0.4639\n"
     ]
    },
    {
     "name": "stderr",
     "output_type": "stream",
     "text": [
      "c:\\Users\\UX430\\anaconda3\\lib\\site-packages\\sklearn\\metrics\\_classification.py:1308: UndefinedMetricWarning: Recall and F-score are ill-defined and being set to 0.0 in labels with no true samples. Use `zero_division` parameter to control this behavior.\n",
      "  _warn_prf(average, modifier, msg_start, len(result))\n",
      "c:\\Users\\UX430\\anaconda3\\lib\\site-packages\\sklearn\\metrics\\_classification.py:1308: UndefinedMetricWarning: Recall and F-score are ill-defined and being set to 0.0 in labels with no true samples. Use `zero_division` parameter to control this behavior.\n",
      "  _warn_prf(average, modifier, msg_start, len(result))\n",
      "c:\\Users\\UX430\\anaconda3\\lib\\site-packages\\sklearn\\metrics\\_classification.py:1308: UndefinedMetricWarning: Recall and F-score are ill-defined and being set to 0.0 in labels with no true samples. Use `zero_division` parameter to control this behavior.\n",
      "  _warn_prf(average, modifier, msg_start, len(result))\n"
     ]
    }
   ],
   "source": [
    "# Values saved each iteration \n",
    "loss_it = []\n",
    "accuracy_it = []\n",
    "f1_it = []\n",
    "precision_it = []\n",
    "recall_it = []\n",
    "\n",
    "for i in range(global_updates): \n",
    "    gradients_list = []\n",
    "    for node in range(num_nodes): \n",
    "        cp = global_model # create a copy of the global model\n",
    "        if node == 0:\n",
    "            x, y = x1, y1\n",
    "        elif node == 1:\n",
    "            x, y = x2, y2\n",
    "        else:\n",
    "            x, y = x3, y3\n",
    "        local_model, local_loss, local_acc, local_val_loss, local_val_acc = train_local_model(cp, node, x, y)\n",
    "        with tf.GradientTape() as tape: \n",
    "            predictions = local_model(x)\n",
    "            loss = tf.keras.losses.categorical_crossentropy(y, predictions)\n",
    "        gradients = tape.gradient(loss, local_model.trainable_variables)\n",
    "        gradients_list.append(gradients)\n",
    "\n",
    "    avg_grad = aggregate(gradients_list)\n",
    "    optimizer.apply_gradients(zip(avg_grad, global_model.trainable_variables)) # apply gradients to global model\n",
    "    loss_basic, accuracy_basic, f1_basic, precision_basic, recall_basic = evaluation(global_model, xbasic, ybasic) \n",
    "    loss_plus, accuracy_plus, f1_plus, precision_plus, recall_plus = evaluation(global_model, xplus, yplus)\n",
    "\n",
    "    loss_it.append([loss_basic, loss_plus])\n",
    "    accuracy_it.append([accuracy_basic, accuracy_plus])\n",
    "    f1_it.append([f1_basic, f1_plus])\n",
    "    precision_it.append([precision_basic, precision_plus])\n",
    "    recall_it.append([recall_basic, recall_plus])\n",
    "\n",
    "\n",
    "global_model.save('C:/Users/UX430/Documents/thesis/code/models/id002.hdf5')"
   ]
  },
  {
   "cell_type": "code",
   "execution_count": 32,
   "metadata": {},
   "outputs": [
    {
     "name": "stdout",
     "output_type": "stream",
     "text": [
      "Loss for iterations:  [[1.351609230041504, 0.0], [1.344989538192749, 0.0], [1.3233356475830078, 0.0]]\n",
      "Accuracy for iterations:  [[0.7739320397377014, 0.6267730593681335], [0.5587140917778015, 0.5948472023010254], [0.5665261149406433, 0.46391794085502625]]\n",
      "F1 for iterations:  [[0.8079833909530446, 0.7705722347916719], [0.6807306688355753, 0.7459613639310255], [0.6849748581510946, 0.6338032147800785]]\n",
      "Precision for iterations:  [[0.8705563500231841, 1.0], [0.9017045766615176, 1.0], [0.9035348578338046, 1.0]]\n",
      "Recall for iterations:  [[0.7739320478640958, 0.6267730863074314], [0.5587141174282348, 0.5948471940779951], [0.5665261330522661, 0.46391795211116166]]\n"
     ]
    }
   ],
   "source": [
    "print(\"Loss for iterations: \", loss_it)\n",
    "print(\"Accuracy for iterations: \", accuracy_it)\n",
    "print(\"F1 for iterations: \", f1_it)\n",
    "print(\"Precision for iterations: \", precision_it)\n",
    "print(\"Recall for iterations: \", recall_it)"
   ]
  },
  {
   "cell_type": "markdown",
   "metadata": {},
   "source": [
    "#### Dataset 3D"
   ]
  },
  {
   "cell_type": "code",
   "execution_count": 33,
   "metadata": {},
   "outputs": [],
   "source": [
    "# Load training datasets and testing datasets \n",
    "training1 = pd.read_csv('C:/Users/UX430/Documents/thesis/datasets/UNSW-NB15/UNSW-NB15-Train-Basic-Cat3D-Part1.csv')\n",
    "training2 = pd.read_csv('C:/Users/UX430/Documents/thesis/datasets/UNSW-NB15/UNSW-NB15-Train-Basic-Cat3D-Part2.csv')\n",
    "training3 = pd.read_csv('C:/Users/UX430/Documents/thesis/datasets/UNSW-NB15/UNSW-NB15-Train-Basic-Cat3D-Part3.csv')"
   ]
  },
  {
   "cell_type": "code",
   "execution_count": 34,
   "metadata": {},
   "outputs": [],
   "source": [
    "# Define \n",
    "node_datasets = [training1, training2, training3]\n",
    "num_nodes = 3\n",
    "global_updates = 3\n",
    "\n",
    "# Define model training parameters\n",
    "loss_fct = \"categorical_crossentropy\"\n",
    "metrics = ['accuracy']\n",
    "local_epochs = 5"
   ]
  },
  {
   "cell_type": "code",
   "execution_count": 35,
   "metadata": {},
   "outputs": [],
   "source": [
    "def train_local_model(model, node, x_train, y_train): \n",
    "    filepath = 'C:/Users/UX430/Documents/thesis/code/models/node'+str(node)+'id003.hdf5'\n",
    "    callbacks = [\n",
    "            keras.callbacks.EarlyStopping(\n",
    "                monitor = 'val_loss', # Use accuracy to monitor the model\n",
    "                patience = 10 # Stop after 10 steps with lower accuracy\n",
    "            ),\n",
    "            keras.callbacks.ModelCheckpoint(\n",
    "                filepath = filepath, # file where the checkpoint is saved\n",
    "                monitor = 'val_loss', # Don't overwrite the saved model unless val_loss is worse\n",
    "                save_best_only = True)]# Only save model if it is the best\n",
    "    optimizer = keras.optimizers.Adam(learning_rate=1e-4)\n",
    "    model.compile(optimizer=optimizer, loss=loss_fct, metrics=metrics)\n",
    "    history = model.fit(x_train, y_train, epochs=local_epochs, validation_split=0.2, callbacks=callbacks, batch_size=1024)\n",
    "    return model, history.history['loss'], history.history['accuracy'], history.history['val_loss'], history.history['val_accuracy']"
   ]
  },
  {
   "cell_type": "code",
   "execution_count": 36,
   "metadata": {},
   "outputs": [],
   "source": [
    "def aggregate(grad_list):\n",
    "    avg_grad = np.mean(grad_list, axis=0)\n",
    "    return avg_grad"
   ]
  },
  {
   "cell_type": "code",
   "execution_count": 37,
   "metadata": {},
   "outputs": [],
   "source": [
    "global_model = build_model((24,1,1))"
   ]
  },
  {
   "cell_type": "code",
   "execution_count": 38,
   "metadata": {},
   "outputs": [],
   "source": [
    "x1, y1 = preprocessing(training1)\n",
    "x2, y2 = preprocessing(training2)\n",
    "x3, y3 = preprocessing(training3)\n"
   ]
  },
  {
   "cell_type": "code",
   "execution_count": 39,
   "metadata": {},
   "outputs": [],
   "source": [
    "optimizer = keras.optimizers.Adam(learning_rate=1e-4)"
   ]
  },
  {
   "cell_type": "code",
   "execution_count": 40,
   "metadata": {},
   "outputs": [
    {
     "name": "stdout",
     "output_type": "stream",
     "text": [
      "Epoch 1/5\n",
      "34/34 [==============================] - 2s 55ms/step - loss: 1.1687 - accuracy: 0.5011 - val_loss: 1.3323 - val_accuracy: 0.8121\n",
      "Epoch 2/5\n",
      "34/34 [==============================] - 2s 53ms/step - loss: 0.3827 - accuracy: 0.9562 - val_loss: 1.1736 - val_accuracy: 0.9773\n",
      "Epoch 3/5\n",
      "34/34 [==============================] - 2s 51ms/step - loss: 0.1556 - accuracy: 0.9827 - val_loss: 1.0347 - val_accuracy: 0.9798\n",
      "Epoch 4/5\n",
      "34/34 [==============================] - 2s 52ms/step - loss: 0.1061 - accuracy: 0.9831 - val_loss: 0.9319 - val_accuracy: 0.9802\n",
      "Epoch 5/5\n",
      "34/34 [==============================] - 2s 51ms/step - loss: 0.0930 - accuracy: 0.9832 - val_loss: 0.8442 - val_accuracy: 0.9809\n",
      "Epoch 1/5\n",
      "5/5 [==============================] - 0s 72ms/step - loss: 1.9985 - accuracy: 0.6167 - val_loss: 1.6887 - val_accuracy: 0.0017\n",
      "Epoch 2/5\n",
      "5/5 [==============================] - 0s 42ms/step - loss: 1.7584 - accuracy: 0.6167 - val_loss: 1.6267 - val_accuracy: 0.0043\n",
      "Epoch 3/5\n",
      "5/5 [==============================] - 0s 44ms/step - loss: 1.5275 - accuracy: 0.6175 - val_loss: 1.5645 - val_accuracy: 0.0043\n",
      "Epoch 4/5\n",
      "5/5 [==============================] - 0s 48ms/step - loss: 1.3071 - accuracy: 0.6182 - val_loss: 1.5014 - val_accuracy: 0.0060\n",
      "Epoch 5/5\n",
      "5/5 [==============================] - 0s 47ms/step - loss: 1.1008 - accuracy: 0.6197 - val_loss: 1.4378 - val_accuracy: 0.0077\n",
      "Epoch 1/5\n",
      "14/14 [==============================] - 1s 63ms/step - loss: 1.8021 - accuracy: 0.6143 - val_loss: 1.6781 - val_accuracy: 0.0000e+00\n",
      "Epoch 2/5\n",
      "14/14 [==============================] - 1s 53ms/step - loss: 1.2305 - accuracy: 0.6146 - val_loss: 1.5289 - val_accuracy: 0.0000e+00\n",
      "Epoch 3/5\n",
      "14/14 [==============================] - 1s 53ms/step - loss: 0.8663 - accuracy: 0.6864 - val_loss: 1.3834 - val_accuracy: 0.5111\n",
      "Epoch 4/5\n",
      "14/14 [==============================] - 1s 51ms/step - loss: 0.6570 - accuracy: 0.8359 - val_loss: 1.2547 - val_accuracy: 0.5888\n",
      "Epoch 5/5\n",
      "14/14 [==============================] - 1s 53ms/step - loss: 0.5379 - accuracy: 0.8363 - val_loss: 1.1460 - val_accuracy: 0.5888\n",
      " 131/2017 [>.............................] - ETA: 2s - loss: 1.2101 - accuracy: 0.8590"
     ]
    },
    {
     "name": "stderr",
     "output_type": "stream",
     "text": [
      "c:\\Users\\UX430\\anaconda3\\lib\\site-packages\\numpy\\core\\_asarray.py:171: VisibleDeprecationWarning: Creating an ndarray from ragged nested sequences (which is a list-or-tuple of lists-or-tuples-or ndarrays with different lengths or shapes) is deprecated. If you meant to do this, you must specify 'dtype=object' when creating the ndarray.\n",
      "  return array(a, dtype, copy=False, order=order, subok=True)\n"
     ]
    },
    {
     "name": "stdout",
     "output_type": "stream",
     "text": [
      "2017/2017 [==============================] - 2s 1ms/step - loss: 1.2169 - accuracy: 0.8459\n",
      "756/756 [==============================] - 1s 1ms/step - loss: 0.0000e+00 - accuracy: 0.0231\n"
     ]
    },
    {
     "name": "stderr",
     "output_type": "stream",
     "text": [
      "c:\\Users\\UX430\\anaconda3\\lib\\site-packages\\sklearn\\metrics\\_classification.py:1308: UndefinedMetricWarning: Recall and F-score are ill-defined and being set to 0.0 in labels with no true samples. Use `zero_division` parameter to control this behavior.\n",
      "  _warn_prf(average, modifier, msg_start, len(result))\n",
      "c:\\Users\\UX430\\anaconda3\\lib\\site-packages\\sklearn\\metrics\\_classification.py:1308: UndefinedMetricWarning: Recall and F-score are ill-defined and being set to 0.0 in labels with no true samples. Use `zero_division` parameter to control this behavior.\n",
      "  _warn_prf(average, modifier, msg_start, len(result))\n",
      "c:\\Users\\UX430\\anaconda3\\lib\\site-packages\\sklearn\\metrics\\_classification.py:1308: UndefinedMetricWarning: Recall and F-score are ill-defined and being set to 0.0 in labels with no true samples. Use `zero_division` parameter to control this behavior.\n",
      "  _warn_prf(average, modifier, msg_start, len(result))\n"
     ]
    },
    {
     "name": "stdout",
     "output_type": "stream",
     "text": [
      "Epoch 1/5\n",
      "34/34 [==============================] - 2s 61ms/step - loss: 0.3565 - accuracy: 0.8715 - val_loss: 0.8832 - val_accuracy: 0.9801\n",
      "Epoch 2/5\n",
      "34/34 [==============================] - 2s 56ms/step - loss: 0.1028 - accuracy: 0.9833 - val_loss: 0.6338 - val_accuracy: 0.9814\n",
      "Epoch 3/5\n",
      "34/34 [==============================] - 2s 45ms/step - loss: 0.0877 - accuracy: 0.9834 - val_loss: 0.5113 - val_accuracy: 0.9818\n",
      "Epoch 4/5\n",
      "34/34 [==============================] - 1s 43ms/step - loss: 0.0819 - accuracy: 0.9837 - val_loss: 0.4113 - val_accuracy: 0.9820\n",
      "Epoch 5/5\n",
      "34/34 [==============================] - 1s 43ms/step - loss: 0.0782 - accuracy: 0.9838 - val_loss: 0.3240 - val_accuracy: 0.9827\n",
      "Epoch 1/5\n",
      "5/5 [==============================] - 0s 72ms/step - loss: 2.1586 - accuracy: 0.6158 - val_loss: 2.6699 - val_accuracy: 0.0000e+00\n",
      "Epoch 2/5\n",
      "5/5 [==============================] - 0s 38ms/step - loss: 1.8857 - accuracy: 0.6158 - val_loss: 2.4094 - val_accuracy: 0.0000e+00\n",
      "Epoch 3/5\n",
      "5/5 [==============================] - 0s 38ms/step - loss: 1.6188 - accuracy: 0.6158 - val_loss: 2.1588 - val_accuracy: 0.0026\n",
      "Epoch 4/5\n",
      "5/5 [==============================] - 0s 39ms/step - loss: 1.3621 - accuracy: 0.6165 - val_loss: 1.9189 - val_accuracy: 0.0043\n",
      "Epoch 5/5\n",
      "5/5 [==============================] - 0s 39ms/step - loss: 1.1203 - accuracy: 0.6175 - val_loss: 1.6946 - val_accuracy: 0.0060\n",
      "Epoch 1/5\n",
      "14/14 [==============================] - 1s 52ms/step - loss: 1.0314 - accuracy: 0.6208 - val_loss: 1.4956 - val_accuracy: 0.2258\n",
      "Epoch 2/5\n",
      "14/14 [==============================] - 1s 40ms/step - loss: 0.5916 - accuracy: 0.8147 - val_loss: 1.0541 - val_accuracy: 0.5888\n",
      "Epoch 3/5\n",
      "14/14 [==============================] - 1s 41ms/step - loss: 0.4533 - accuracy: 0.8460 - val_loss: 0.8288 - val_accuracy: 0.6104\n",
      "Epoch 4/5\n",
      "14/14 [==============================] - 1s 42ms/step - loss: 0.3853 - accuracy: 0.8551 - val_loss: 0.7183 - val_accuracy: 0.6325\n",
      "Epoch 5/5\n",
      "14/14 [==============================] - 1s 42ms/step - loss: 0.3404 - accuracy: 0.8617 - val_loss: 0.6406 - val_accuracy: 0.6429\n",
      "  74/2017 [>.............................] - ETA: 2s - loss: 1.0211 - accuracy: 0.8476"
     ]
    },
    {
     "name": "stderr",
     "output_type": "stream",
     "text": [
      "c:\\Users\\UX430\\anaconda3\\lib\\site-packages\\numpy\\core\\_asarray.py:171: VisibleDeprecationWarning: Creating an ndarray from ragged nested sequences (which is a list-or-tuple of lists-or-tuples-or ndarrays with different lengths or shapes) is deprecated. If you meant to do this, you must specify 'dtype=object' when creating the ndarray.\n",
      "  return array(a, dtype, copy=False, order=order, subok=True)\n"
     ]
    },
    {
     "name": "stdout",
     "output_type": "stream",
     "text": [
      "2017/2017 [==============================] - 3s 1ms/step - loss: 1.0301 - accuracy: 0.8423\n",
      "756/756 [==============================] - 1s 1ms/step - loss: 0.0000e+00 - accuracy: 0.0067\n"
     ]
    },
    {
     "name": "stderr",
     "output_type": "stream",
     "text": [
      "c:\\Users\\UX430\\anaconda3\\lib\\site-packages\\sklearn\\metrics\\_classification.py:1308: UndefinedMetricWarning: Recall and F-score are ill-defined and being set to 0.0 in labels with no true samples. Use `zero_division` parameter to control this behavior.\n",
      "  _warn_prf(average, modifier, msg_start, len(result))\n",
      "c:\\Users\\UX430\\anaconda3\\lib\\site-packages\\sklearn\\metrics\\_classification.py:1308: UndefinedMetricWarning: Recall and F-score are ill-defined and being set to 0.0 in labels with no true samples. Use `zero_division` parameter to control this behavior.\n",
      "  _warn_prf(average, modifier, msg_start, len(result))\n",
      "c:\\Users\\UX430\\anaconda3\\lib\\site-packages\\sklearn\\metrics\\_classification.py:1308: UndefinedMetricWarning: Recall and F-score are ill-defined and being set to 0.0 in labels with no true samples. Use `zero_division` parameter to control this behavior.\n",
      "  _warn_prf(average, modifier, msg_start, len(result))\n"
     ]
    },
    {
     "name": "stdout",
     "output_type": "stream",
     "text": [
      "Epoch 1/5\n",
      "34/34 [==============================] - 2s 57ms/step - loss: 0.3709 - accuracy: 0.8637 - val_loss: 0.3561 - val_accuracy: 0.9816\n",
      "Epoch 2/5\n",
      "34/34 [==============================] - 2s 52ms/step - loss: 0.0888 - accuracy: 0.9835 - val_loss: 0.1665 - val_accuracy: 0.9823\n",
      "Epoch 3/5\n",
      "34/34 [==============================] - 2s 53ms/step - loss: 0.0793 - accuracy: 0.9838 - val_loss: 0.1296 - val_accuracy: 0.9830\n",
      "Epoch 4/5\n",
      "34/34 [==============================] - 2s 55ms/step - loss: 0.0751 - accuracy: 0.9839 - val_loss: 0.1103 - val_accuracy: 0.9833\n",
      "Epoch 5/5\n",
      "34/34 [==============================] - 2s 53ms/step - loss: 0.0724 - accuracy: 0.9839 - val_loss: 0.0949 - val_accuracy: 0.9836\n",
      "Epoch 1/5\n",
      "5/5 [==============================] - 0s 69ms/step - loss: 2.2522 - accuracy: 0.6158 - val_loss: 4.6121 - val_accuracy: 0.0000e+00\n",
      "Epoch 2/5\n",
      "5/5 [==============================] - 0s 48ms/step - loss: 1.9397 - accuracy: 0.6158 - val_loss: 3.9082 - val_accuracy: 0.0000e+00\n",
      "Epoch 3/5\n",
      "5/5 [==============================] - 0s 51ms/step - loss: 1.6446 - accuracy: 0.6158 - val_loss: 3.2494 - val_accuracy: 0.0000e+00\n",
      "Epoch 4/5\n",
      "5/5 [==============================] - 0s 49ms/step - loss: 1.3638 - accuracy: 0.6158 - val_loss: 2.6498 - val_accuracy: 0.0000e+00\n",
      "Epoch 5/5\n",
      "5/5 [==============================] - 0s 42ms/step - loss: 1.1009 - accuracy: 0.6158 - val_loss: 2.0970 - val_accuracy: 0.0034\n",
      "Epoch 1/5\n",
      "14/14 [==============================] - 1s 59ms/step - loss: 0.6627 - accuracy: 0.7130 - val_loss: 0.9746 - val_accuracy: 0.6101\n",
      "Epoch 2/5\n",
      "14/14 [==============================] - 1s 44ms/step - loss: 0.3607 - accuracy: 0.8672 - val_loss: 0.5474 - val_accuracy: 0.7052\n",
      "Epoch 3/5\n",
      "14/14 [==============================] - 1s 55ms/step - loss: 0.2932 - accuracy: 0.8961 - val_loss: 0.4846 - val_accuracy: 0.7069\n",
      "Epoch 4/5\n",
      "14/14 [==============================] - 1s 45ms/step - loss: 0.2576 - accuracy: 0.8992 - val_loss: 0.4537 - val_accuracy: 0.7217\n",
      "Epoch 5/5\n",
      "14/14 [==============================] - 1s 42ms/step - loss: 0.2318 - accuracy: 0.9177 - val_loss: 0.4104 - val_accuracy: 0.7484\n",
      "  78/2017 [>.............................] - ETA: 2s - loss: 0.9445 - accuracy: 0.7989"
     ]
    },
    {
     "name": "stderr",
     "output_type": "stream",
     "text": [
      "c:\\Users\\UX430\\anaconda3\\lib\\site-packages\\numpy\\core\\_asarray.py:171: VisibleDeprecationWarning: Creating an ndarray from ragged nested sequences (which is a list-or-tuple of lists-or-tuples-or ndarrays with different lengths or shapes) is deprecated. If you meant to do this, you must specify 'dtype=object' when creating the ndarray.\n",
      "  return array(a, dtype, copy=False, order=order, subok=True)\n"
     ]
    },
    {
     "name": "stdout",
     "output_type": "stream",
     "text": [
      "2017/2017 [==============================] - 2s 1ms/step - loss: 0.9773 - accuracy: 0.7962: 0s - loss: 0.9772 - accuracy: \n",
      "756/756 [==============================] - 1s 1ms/step - loss: 0.0000e+00 - accuracy: 0.0024\n"
     ]
    },
    {
     "name": "stderr",
     "output_type": "stream",
     "text": [
      "c:\\Users\\UX430\\anaconda3\\lib\\site-packages\\sklearn\\metrics\\_classification.py:1308: UndefinedMetricWarning: Recall and F-score are ill-defined and being set to 0.0 in labels with no true samples. Use `zero_division` parameter to control this behavior.\n",
      "  _warn_prf(average, modifier, msg_start, len(result))\n",
      "c:\\Users\\UX430\\anaconda3\\lib\\site-packages\\sklearn\\metrics\\_classification.py:1308: UndefinedMetricWarning: Recall and F-score are ill-defined and being set to 0.0 in labels with no true samples. Use `zero_division` parameter to control this behavior.\n",
      "  _warn_prf(average, modifier, msg_start, len(result))\n",
      "c:\\Users\\UX430\\anaconda3\\lib\\site-packages\\sklearn\\metrics\\_classification.py:1308: UndefinedMetricWarning: Recall and F-score are ill-defined and being set to 0.0 in labels with no true samples. Use `zero_division` parameter to control this behavior.\n",
      "  _warn_prf(average, modifier, msg_start, len(result))\n"
     ]
    }
   ],
   "source": [
    "# Values saved each iteration \n",
    "loss_it = []\n",
    "accuracy_it = []\n",
    "f1_it = []\n",
    "precision_it = []\n",
    "recall_it = []\n",
    "\n",
    "for i in range(global_updates): \n",
    "    gradients_list = []\n",
    "    for node in range(num_nodes): \n",
    "        cp = global_model # create a copy of the global model\n",
    "        if node == 0:\n",
    "            x, y = x1, y1\n",
    "        elif node == 1:\n",
    "            x, y = x2, y2\n",
    "        else:\n",
    "            x, y = x3, y3\n",
    "        local_model, local_loss, local_acc, local_val_loss, local_val_acc = train_local_model(cp, node, x, y)\n",
    "        with tf.GradientTape() as tape: \n",
    "            predictions = local_model(x)\n",
    "            loss = tf.keras.losses.categorical_crossentropy(y, predictions)\n",
    "        gradients = tape.gradient(loss, local_model.trainable_variables)\n",
    "        gradients_list.append(gradients)\n",
    "\n",
    "    avg_grad = aggregate(gradients_list)\n",
    "    optimizer.apply_gradients(zip(avg_grad, global_model.trainable_variables)) # apply gradients to global model\n",
    "    loss_basic, accuracy_basic, f1_basic, precision_basic, recall_basic = evaluation(global_model, xbasic, ybasic) \n",
    "    loss_plus, accuracy_plus, f1_plus, precision_plus, recall_plus = evaluation(global_model, xplus, yplus)\n",
    "\n",
    "    loss_it.append([loss_basic, loss_plus])\n",
    "    accuracy_it.append([accuracy_basic, accuracy_plus])\n",
    "    f1_it.append([f1_basic, f1_plus])\n",
    "    precision_it.append([precision_basic, precision_plus])\n",
    "    recall_it.append([recall_basic, recall_plus])\n",
    "\n",
    "\n",
    "\n",
    "global_model.save('C:/Users/UX430/Documents/thesis/code/models/id003.hdf5')"
   ]
  },
  {
   "cell_type": "code",
   "execution_count": 41,
   "metadata": {},
   "outputs": [
    {
     "name": "stdout",
     "output_type": "stream",
     "text": [
      "Loss for iterations:  [[1.2169039249420166, 0.0], [1.0300925970077515, 0.0], [0.9772835969924927, 0.0]]\n",
      "Accuracy for iterations:  [[0.8458676934242249, 0.023075968027114868], [0.8422871828079224, 0.00669947499409318], [0.7962055802345276, 0.002357222605496645]]\n",
      "F1 for iterations:  [[0.8277851954926706, 0.045110958405756095], [0.8328297901688606, 0.013309781045885882], [0.8020408108831394, 0.0047033583629012285]]\n",
      "Precision for iterations:  [[0.826770702008479, 1.0], [0.932864971064535, 1.0], [0.9321506112898233, 1.0]]\n",
      "Recall for iterations:  [[0.8458676917353835, 0.023075968735784293], [0.8422871845743691, 0.006699474794259956], [0.7962055924111848, 0.0023572226127951696]]\n"
     ]
    }
   ],
   "source": [
    "print(\"Loss for iterations: \", loss_it)\n",
    "print(\"Accuracy for iterations: \", accuracy_it)\n",
    "print(\"F1 for iterations: \", f1_it)\n",
    "print(\"Precision for iterations: \", precision_it)\n",
    "print(\"Recall for iterations: \", recall_it)"
   ]
  },
  {
   "cell_type": "markdown",
   "metadata": {},
   "source": [
    "#### DATASET 3E"
   ]
  },
  {
   "cell_type": "code",
   "execution_count": 42,
   "metadata": {},
   "outputs": [],
   "source": [
    "# Load training datasets and testing datasets \n",
    "training1 = pd.read_csv('C:/Users/UX430/Documents/thesis/datasets/UNSW-NB15/UNSW-NB15-Train-Basic-Cat3E-Part1.csv')\n",
    "training2 = pd.read_csv('C:/Users/UX430/Documents/thesis/datasets/UNSW-NB15/UNSW-NB15-Train-Basic-Cat3E-Part2.csv')\n",
    "training3 = pd.read_csv('C:/Users/UX430/Documents/thesis/datasets/UNSW-NB15/UNSW-NB15-Train-Basic-Cat3E-Part3.csv')"
   ]
  },
  {
   "cell_type": "code",
   "execution_count": 43,
   "metadata": {},
   "outputs": [],
   "source": [
    "# Define \n",
    "node_datasets = [training1, training2, training3]\n",
    "num_nodes = 3\n",
    "global_updates = 3\n",
    "\n",
    "# Define model training parameters\n",
    "loss_fct = \"categorical_crossentropy\"\n",
    "metrics = ['accuracy']\n",
    "local_epochs = 5"
   ]
  },
  {
   "cell_type": "code",
   "execution_count": 44,
   "metadata": {},
   "outputs": [],
   "source": [
    "def train_local_model(model, node, x_train, y_train): \n",
    "    filepath = 'C:/Users/UX430/Documents/thesis/code/models/node'+str(node)+'id004.hdf5'\n",
    "    callbacks = [\n",
    "            keras.callbacks.EarlyStopping(\n",
    "                monitor = 'val_loss', # Use accuracy to monitor the model\n",
    "                patience = 10 # Stop after 10 steps with lower accuracy\n",
    "            ),\n",
    "            keras.callbacks.ModelCheckpoint(\n",
    "                filepath = filepath, # file where the checkpoint is saved\n",
    "                monitor = 'val_loss', # Don't overwrite the saved model unless val_loss is worse\n",
    "                save_best_only = True)]# Only save model if it is the best\n",
    "    optimizer = keras.optimizers.Adam(learning_rate=1e-4)\n",
    "    model.compile(optimizer=optimizer, loss=loss_fct, metrics=metrics)\n",
    "    history = model.fit(x_train, y_train, epochs=local_epochs, validation_split=0.2, callbacks=callbacks, batch_size=1024)\n",
    "    return model, history.history['loss'], history.history['accuracy'], history.history['val_loss'], history.history['val_accuracy']"
   ]
  },
  {
   "cell_type": "code",
   "execution_count": 45,
   "metadata": {},
   "outputs": [],
   "source": [
    "def aggregate(grad_list):\n",
    "    avg_grad = np.mean(grad_list, axis=0)\n",
    "    return avg_grad"
   ]
  },
  {
   "cell_type": "code",
   "execution_count": 46,
   "metadata": {},
   "outputs": [],
   "source": [
    "global_model = build_model((24,1,1))"
   ]
  },
  {
   "cell_type": "code",
   "execution_count": 47,
   "metadata": {},
   "outputs": [],
   "source": [
    "x1, y1 = preprocessing(training1)\n",
    "x2, y2 = preprocessing(training2)\n",
    "x3, y3 = preprocessing(training3)\n"
   ]
  },
  {
   "cell_type": "code",
   "execution_count": 48,
   "metadata": {},
   "outputs": [],
   "source": [
    "optimizer = keras.optimizers.Adam(learning_rate=1e-4)"
   ]
  },
  {
   "cell_type": "code",
   "execution_count": 49,
   "metadata": {},
   "outputs": [
    {
     "name": "stdout",
     "output_type": "stream",
     "text": [
      "Epoch 1/5\n",
      "126/126 [==============================] - 6s 44ms/step - loss: 0.4373 - accuracy: 0.8791 - val_loss: 0.9267 - val_accuracy: 0.9998\n",
      "Epoch 2/5\n",
      "126/126 [==============================] - 5s 42ms/step - loss: 0.0120 - accuracy: 1.0000 - val_loss: 0.4263 - val_accuracy: 0.9998\n",
      "Epoch 3/5\n",
      "126/126 [==============================] - 5s 43ms/step - loss: 0.0023 - accuracy: 1.0000 - val_loss: 0.1134 - val_accuracy: 0.9999\n",
      "Epoch 4/5\n",
      "126/126 [==============================] - 5s 44ms/step - loss: 0.0010 - accuracy: 1.0000 - val_loss: 0.0156 - val_accuracy: 1.0000\n",
      "Epoch 5/5\n",
      "126/126 [==============================] - 5s 43ms/step - loss: 6.4622e-04 - accuracy: 1.0000 - val_loss: 0.0018 - val_accuracy: 1.0000\n",
      "Epoch 1/5\n",
      "17/17 [==============================] - 1s 64ms/step - loss: 4.8017 - accuracy: 0.0019 - val_loss: 1.9465 - val_accuracy: 0.0625\n",
      "Epoch 2/5\n",
      "17/17 [==============================] - 1s 53ms/step - loss: 2.0721 - accuracy: 0.1507 - val_loss: 0.7646 - val_accuracy: 0.8245\n",
      "Epoch 3/5\n",
      "17/17 [==============================] - 1s 51ms/step - loss: 0.5965 - accuracy: 0.8116 - val_loss: 0.3586 - val_accuracy: 0.9991\n",
      "Epoch 4/5\n",
      "17/17 [==============================] - 1s 55ms/step - loss: 0.2097 - accuracy: 0.9965 - val_loss: 0.2081 - val_accuracy: 0.9998\n",
      "Epoch 5/5\n",
      "17/17 [==============================] - 1s 51ms/step - loss: 0.1115 - accuracy: 0.9989 - val_loss: 0.1367 - val_accuracy: 0.9998\n",
      "Epoch 1/5\n",
      "10/10 [==============================] - 1s 64ms/step - loss: 3.3383 - accuracy: 0.0079 - val_loss: 1.6750 - val_accuracy: 0.0478\n",
      "Epoch 2/5\n",
      "10/10 [==============================] - 1s 52ms/step - loss: 2.1506 - accuracy: 0.0413 - val_loss: 1.1299 - val_accuracy: 0.2646\n",
      "Epoch 3/5\n",
      "10/10 [==============================] - 1s 53ms/step - loss: 1.4032 - accuracy: 0.2789 - val_loss: 0.8003 - val_accuracy: 0.8500\n",
      "Epoch 4/5\n",
      "10/10 [==============================] - 1s 50ms/step - loss: 1.0013 - accuracy: 0.6404 - val_loss: 0.6167 - val_accuracy: 0.9425\n",
      "Epoch 5/5\n",
      "10/10 [==============================] - 0s 49ms/step - loss: 0.7926 - accuracy: 0.7776 - val_loss: 0.5149 - val_accuracy: 0.9683\n",
      " 110/2017 [>.............................] - ETA: 2s - loss: 1.1879 - accuracy: 0.3460"
     ]
    },
    {
     "name": "stderr",
     "output_type": "stream",
     "text": [
      "c:\\Users\\UX430\\anaconda3\\lib\\site-packages\\numpy\\core\\_asarray.py:171: VisibleDeprecationWarning: Creating an ndarray from ragged nested sequences (which is a list-or-tuple of lists-or-tuples-or ndarrays with different lengths or shapes) is deprecated. If you meant to do this, you must specify 'dtype=object' when creating the ndarray.\n",
      "  return array(a, dtype, copy=False, order=order, subok=True)\n"
     ]
    },
    {
     "name": "stdout",
     "output_type": "stream",
     "text": [
      "2017/2017 [==============================] - 3s 1ms/step - loss: 1.2079 - accuracy: 0.3416\n",
      "756/756 [==============================] - 1s 1ms/step - loss: 0.0000e+00 - accuracy: 0.0863\n"
     ]
    },
    {
     "name": "stderr",
     "output_type": "stream",
     "text": [
      "c:\\Users\\UX430\\anaconda3\\lib\\site-packages\\sklearn\\metrics\\_classification.py:1308: UndefinedMetricWarning: Recall and F-score are ill-defined and being set to 0.0 in labels with no true samples. Use `zero_division` parameter to control this behavior.\n",
      "  _warn_prf(average, modifier, msg_start, len(result))\n",
      "c:\\Users\\UX430\\anaconda3\\lib\\site-packages\\sklearn\\metrics\\_classification.py:1308: UndefinedMetricWarning: Recall and F-score are ill-defined and being set to 0.0 in labels with no true samples. Use `zero_division` parameter to control this behavior.\n",
      "  _warn_prf(average, modifier, msg_start, len(result))\n",
      "c:\\Users\\UX430\\anaconda3\\lib\\site-packages\\sklearn\\metrics\\_classification.py:1308: UndefinedMetricWarning: Recall and F-score are ill-defined and being set to 0.0 in labels with no true samples. Use `zero_division` parameter to control this behavior.\n",
      "  _warn_prf(average, modifier, msg_start, len(result))\n"
     ]
    },
    {
     "name": "stdout",
     "output_type": "stream",
     "text": [
      "Epoch 1/5\n",
      "126/126 [==============================] - 7s 56ms/step - loss: 0.0121 - accuracy: 0.9989 - val_loss: 4.3860e-04 - val_accuracy: 1.0000\n",
      "Epoch 2/5\n",
      "126/126 [==============================] - 7s 55ms/step - loss: 3.7278e-04 - accuracy: 1.0000 - val_loss: 1.1796e-04 - val_accuracy: 1.0000\n",
      "Epoch 3/5\n",
      "126/126 [==============================] - 7s 55ms/step - loss: 1.2937e-04 - accuracy: 1.0000 - val_loss: 6.1705e-05 - val_accuracy: 1.0000\n",
      "Epoch 4/5\n",
      "126/126 [==============================] - 7s 55ms/step - loss: 6.4674e-05 - accuracy: 1.0000 - val_loss: 3.7219e-05 - val_accuracy: 1.0000\n",
      "Epoch 5/5\n",
      "126/126 [==============================] - 7s 54ms/step - loss: 3.8021e-05 - accuracy: 1.0000 - val_loss: 2.4395e-05 - val_accuracy: 1.0000\n",
      "Epoch 1/5\n",
      "17/17 [==============================] - 1s 54ms/step - loss: 0.6713 - accuracy: 0.7418 - val_loss: 0.1951 - val_accuracy: 0.9958\n",
      "Epoch 2/5\n",
      "17/17 [==============================] - 1s 44ms/step - loss: 0.1412 - accuracy: 0.9980 - val_loss: 0.0725 - val_accuracy: 0.9998\n",
      "Epoch 3/5\n",
      "17/17 [==============================] - 1s 43ms/step - loss: 0.0574 - accuracy: 0.9996 - val_loss: 0.0367 - val_accuracy: 0.9998\n",
      "Epoch 4/5\n",
      "17/17 [==============================] - 1s 42ms/step - loss: 0.0333 - accuracy: 0.9998 - val_loss: 0.0232 - val_accuracy: 1.0000\n",
      "Epoch 5/5\n",
      "17/17 [==============================] - 1s 42ms/step - loss: 0.0230 - accuracy: 0.9999 - val_loss: 0.0165 - val_accuracy: 1.0000\n",
      "Epoch 1/5\n",
      "10/10 [==============================] - 1s 62ms/step - loss: 2.6914 - accuracy: 0.0217 - val_loss: 1.2799 - val_accuracy: 0.2122\n",
      "Epoch 2/5\n",
      "10/10 [==============================] - 0s 38ms/step - loss: 1.5395 - accuracy: 0.2451 - val_loss: 0.7324 - val_accuracy: 0.8546\n",
      "Epoch 3/5\n",
      "10/10 [==============================] - 0s 38ms/step - loss: 0.9703 - accuracy: 0.6625 - val_loss: 0.5193 - val_accuracy: 0.9539\n",
      "Epoch 4/5\n",
      "10/10 [==============================] - 0s 40ms/step - loss: 0.7214 - accuracy: 0.7845 - val_loss: 0.4239 - val_accuracy: 0.9691\n",
      "Epoch 5/5\n",
      "10/10 [==============================] - 0s 49ms/step - loss: 0.6030 - accuracy: 0.8101 - val_loss: 0.3783 - val_accuracy: 0.9746\n",
      " 104/2017 [>.............................] - ETA: 2s - loss: 0.8420 - accuracy: 0.8245"
     ]
    },
    {
     "name": "stderr",
     "output_type": "stream",
     "text": [
      "c:\\Users\\UX430\\anaconda3\\lib\\site-packages\\numpy\\core\\_asarray.py:171: VisibleDeprecationWarning: Creating an ndarray from ragged nested sequences (which is a list-or-tuple of lists-or-tuples-or ndarrays with different lengths or shapes) is deprecated. If you meant to do this, you must specify 'dtype=object' when creating the ndarray.\n",
      "  return array(a, dtype, copy=False, order=order, subok=True)\n"
     ]
    },
    {
     "name": "stdout",
     "output_type": "stream",
     "text": [
      "2017/2017 [==============================] - 2s 1ms/step - loss: 0.8782 - accuracy: 0.8168\n",
      "756/756 [==============================] - 1s 1ms/step - loss: 0.0000e+00 - accuracy: 0.1211\n"
     ]
    },
    {
     "name": "stderr",
     "output_type": "stream",
     "text": [
      "c:\\Users\\UX430\\anaconda3\\lib\\site-packages\\sklearn\\metrics\\_classification.py:1308: UndefinedMetricWarning: Recall and F-score are ill-defined and being set to 0.0 in labels with no true samples. Use `zero_division` parameter to control this behavior.\n",
      "  _warn_prf(average, modifier, msg_start, len(result))\n",
      "c:\\Users\\UX430\\anaconda3\\lib\\site-packages\\sklearn\\metrics\\_classification.py:1308: UndefinedMetricWarning: Recall and F-score are ill-defined and being set to 0.0 in labels with no true samples. Use `zero_division` parameter to control this behavior.\n",
      "  _warn_prf(average, modifier, msg_start, len(result))\n",
      "c:\\Users\\UX430\\anaconda3\\lib\\site-packages\\sklearn\\metrics\\_classification.py:1308: UndefinedMetricWarning: Recall and F-score are ill-defined and being set to 0.0 in labels with no true samples. Use `zero_division` parameter to control this behavior.\n",
      "  _warn_prf(average, modifier, msg_start, len(result))\n"
     ]
    },
    {
     "name": "stdout",
     "output_type": "stream",
     "text": [
      "Epoch 1/5\n",
      "126/126 [==============================] - 7s 53ms/step - loss: 4.2822e-04 - accuracy: 0.9999 - val_loss: 1.8471e-05 - val_accuracy: 1.0000\n",
      "Epoch 2/5\n",
      "126/126 [==============================] - 7s 52ms/step - loss: 1.9617e-05 - accuracy: 1.0000 - val_loss: 9.0101e-06 - val_accuracy: 1.0000\n",
      "Epoch 3/5\n",
      "126/126 [==============================] - 7s 54ms/step - loss: 9.5984e-06 - accuracy: 1.0000 - val_loss: 5.5314e-06 - val_accuracy: 1.0000\n",
      "Epoch 4/5\n",
      "126/126 [==============================] - 7s 54ms/step - loss: 5.9301e-06 - accuracy: 1.0000 - val_loss: 3.8234e-06 - val_accuracy: 1.0000\n",
      "Epoch 5/5\n",
      "126/126 [==============================] - 7s 52ms/step - loss: 4.0489e-06 - accuracy: 1.0000 - val_loss: 2.9155e-06 - val_accuracy: 1.0000\n",
      "Epoch 1/5\n",
      "17/17 [==============================] - 1s 50ms/step - loss: 0.1866 - accuracy: 0.9894 - val_loss: 0.0461 - val_accuracy: 1.0000\n",
      "Epoch 2/5\n",
      "17/17 [==============================] - 1s 41ms/step - loss: 0.0333 - accuracy: 1.0000 - val_loss: 0.0142 - val_accuracy: 1.0000\n",
      "Epoch 3/5\n",
      "17/17 [==============================] - 1s 42ms/step - loss: 0.0135 - accuracy: 1.0000 - val_loss: 0.0078 - val_accuracy: 1.0000\n",
      "Epoch 4/5\n",
      "17/17 [==============================] - 1s 42ms/step - loss: 0.0085 - accuracy: 1.0000 - val_loss: 0.0054 - val_accuracy: 1.0000\n",
      "Epoch 5/5\n",
      "17/17 [==============================] - 1s 43ms/step - loss: 0.0062 - accuracy: 1.0000 - val_loss: 0.0041 - val_accuracy: 1.0000\n",
      "Epoch 1/5\n",
      "10/10 [==============================] - 1s 67ms/step - loss: 2.1500 - accuracy: 0.0488 - val_loss: 0.8233 - val_accuracy: 0.5934\n",
      "Epoch 2/5\n",
      "10/10 [==============================] - 0s 42ms/step - loss: 1.0853 - accuracy: 0.6067 - val_loss: 0.4585 - val_accuracy: 0.9899\n",
      "Epoch 3/5\n",
      "10/10 [==============================] - 0s 41ms/step - loss: 0.7002 - accuracy: 0.7801 - val_loss: 0.3655 - val_accuracy: 0.9814\n",
      "Epoch 4/5\n",
      "10/10 [==============================] - 0s 40ms/step - loss: 0.5617 - accuracy: 0.8217 - val_loss: 0.3422 - val_accuracy: 0.9653\n",
      "Epoch 5/5\n",
      "10/10 [==============================] - 0s 40ms/step - loss: 0.4949 - accuracy: 0.8401 - val_loss: 0.3260 - val_accuracy: 0.9544\n",
      "  73/2017 [>.............................] - ETA: 2s - loss: 0.8746 - accuracy: 0.8408"
     ]
    },
    {
     "name": "stderr",
     "output_type": "stream",
     "text": [
      "c:\\Users\\UX430\\anaconda3\\lib\\site-packages\\numpy\\core\\_asarray.py:171: VisibleDeprecationWarning: Creating an ndarray from ragged nested sequences (which is a list-or-tuple of lists-or-tuples-or ndarrays with different lengths or shapes) is deprecated. If you meant to do this, you must specify 'dtype=object' when creating the ndarray.\n",
      "  return array(a, dtype, copy=False, order=order, subok=True)\n"
     ]
    },
    {
     "name": "stdout",
     "output_type": "stream",
     "text": [
      "2017/2017 [==============================] - 2s 1ms/step - loss: 0.9216 - accuracy: 0.8320\n",
      "756/756 [==============================] - 1s 1ms/step - loss: 0.0000e+00 - accuracy: 0.1091\n"
     ]
    },
    {
     "name": "stderr",
     "output_type": "stream",
     "text": [
      "c:\\Users\\UX430\\anaconda3\\lib\\site-packages\\sklearn\\metrics\\_classification.py:1308: UndefinedMetricWarning: Recall and F-score are ill-defined and being set to 0.0 in labels with no true samples. Use `zero_division` parameter to control this behavior.\n",
      "  _warn_prf(average, modifier, msg_start, len(result))\n",
      "c:\\Users\\UX430\\anaconda3\\lib\\site-packages\\sklearn\\metrics\\_classification.py:1308: UndefinedMetricWarning: Recall and F-score are ill-defined and being set to 0.0 in labels with no true samples. Use `zero_division` parameter to control this behavior.\n",
      "  _warn_prf(average, modifier, msg_start, len(result))\n",
      "c:\\Users\\UX430\\anaconda3\\lib\\site-packages\\sklearn\\metrics\\_classification.py:1308: UndefinedMetricWarning: Recall and F-score are ill-defined and being set to 0.0 in labels with no true samples. Use `zero_division` parameter to control this behavior.\n",
      "  _warn_prf(average, modifier, msg_start, len(result))\n"
     ]
    }
   ],
   "source": [
    "# Values saved each iteration \n",
    "loss_it = []\n",
    "accuracy_it = []\n",
    "f1_it = []\n",
    "precision_it = []\n",
    "recall_it = []\n",
    "\n",
    "for i in range(global_updates): \n",
    "    gradients_list = []\n",
    "    for node in range(num_nodes): \n",
    "        cp = global_model # create a copy of the global model\n",
    "        if node == 0:\n",
    "            x, y = x1, y1\n",
    "        elif node == 1:\n",
    "            x, y = x2, y2\n",
    "        else:\n",
    "            x, y = x3, y3\n",
    "        local_model, local_loss, local_acc, local_val_loss, local_val_acc = train_local_model(cp, node, x, y)\n",
    "        with tf.GradientTape() as tape: \n",
    "            predictions = local_model(x)\n",
    "            loss = tf.keras.losses.categorical_crossentropy(y, predictions)\n",
    "        gradients = tape.gradient(loss, local_model.trainable_variables)\n",
    "        gradients_list.append(gradients)\n",
    "\n",
    "    avg_grad = aggregate(gradients_list)\n",
    "    optimizer.apply_gradients(zip(avg_grad, global_model.trainable_variables)) # apply gradients to global model\n",
    "    loss_basic, accuracy_basic, f1_basic, precision_basic, recall_basic = evaluation(global_model, xbasic, ybasic) \n",
    "    loss_plus, accuracy_plus, f1_plus, precision_plus, recall_plus = evaluation(global_model, xplus, yplus)\n",
    "\n",
    "    loss_it.append([loss_basic, loss_plus])\n",
    "    accuracy_it.append([accuracy_basic, accuracy_plus])\n",
    "    f1_it.append([f1_basic, f1_plus])\n",
    "    precision_it.append([precision_basic, precision_plus])\n",
    "    recall_it.append([recall_basic, recall_plus])\n",
    "\n",
    "\n",
    "global_model.save('C:/Users/UX430/Documents/thesis/code/models/id004.hdf5')"
   ]
  },
  {
   "cell_type": "code",
   "execution_count": 50,
   "metadata": {},
   "outputs": [
    {
     "name": "stdout",
     "output_type": "stream",
     "text": [
      "Loss for iterations:  [[1.20791494846344, 0.0], [0.8782169222831726, 0.0], [0.9215601086616516, 0.0]]\n",
      "Accuracy for iterations:  [[0.34155869483947754, 0.08630742877721786], [0.8168051242828369, 0.1211281567811966], [0.8319796919822693, 0.10905256122350693]]\n",
      "F1 for iterations:  [[0.4290826996459166, 0.1589005634231765], [0.748544589457651, 0.21608262633714498], [0.7558243931251452, 0.19665896039973155]]\n",
      "Precision for iterations:  [[0.6608090572287052, 1.0], [0.7291052690660783, 1.0], [0.7207542089862083, 1.0]]\n",
      "Recall for iterations:  [[0.34155868311736626, 0.0863074314544477], [0.8168051336102672, 0.12112815847152723], [0.8319796639593279, 0.10905256192878707]]\n"
     ]
    }
   ],
   "source": [
    "print(\"Loss for iterations: \", loss_it)\n",
    "print(\"Accuracy for iterations: \", accuracy_it)\n",
    "print(\"F1 for iterations: \", f1_it)\n",
    "print(\"Precision for iterations: \", precision_it)\n",
    "print(\"Recall for iterations: \", recall_it)"
   ]
  },
  {
   "cell_type": "markdown",
   "metadata": {},
   "source": [
    "### Experimenting with epochs and iterations \n",
    "\n",
    "Use of dataset Cat3B, considering it contains an equal partition of the data between the 3 nodes. "
   ]
  },
  {
   "cell_type": "markdown",
   "metadata": {},
   "source": [
    "#### #Epochs = 10, #Iterations = 10"
   ]
  },
  {
   "cell_type": "code",
   "execution_count": 51,
   "metadata": {},
   "outputs": [],
   "source": [
    "# Load training datasets and testing datasets \n",
    "training1 = pd.read_csv('C:/Users/UX430/Documents/thesis/datasets/UNSW-NB15/UNSW-NB15-Train-Basic-Cat3B-Part1.csv')\n",
    "training2 = pd.read_csv('C:/Users/UX430/Documents/thesis/datasets/UNSW-NB15/UNSW-NB15-Train-Basic-Cat3B-Part2.csv')\n",
    "training3 = pd.read_csv('C:/Users/UX430/Documents/thesis/datasets/UNSW-NB15/UNSW-NB15-Train-Basic-Cat3B-Part3.csv')"
   ]
  },
  {
   "cell_type": "code",
   "execution_count": 52,
   "metadata": {},
   "outputs": [],
   "source": [
    "# Define \n",
    "node_datasets = [training1, training2, training3]\n",
    "num_nodes = 3\n",
    "global_updates = 10\n",
    "\n",
    "# Define model training parameters\n",
    "loss_fct = \"categorical_crossentropy\"\n",
    "metrics = ['accuracy']\n",
    "local_epochs = 10"
   ]
  },
  {
   "cell_type": "code",
   "execution_count": 53,
   "metadata": {},
   "outputs": [],
   "source": [
    "def train_local_model(model, node, x_train, y_train): \n",
    "    filepath = 'C:/Users/UX430/Documents/thesis/code/models/node'+str(node)+'id010.hdf5'\n",
    "    callbacks = [\n",
    "            keras.callbacks.EarlyStopping(\n",
    "                monitor = 'val_loss', # Use accuracy to monitor the model\n",
    "                patience = 10 # Stop after 10 steps with lower accuracy\n",
    "            ),\n",
    "            keras.callbacks.ModelCheckpoint(\n",
    "                filepath = filepath, # file where the checkpoint is saved\n",
    "                monitor = 'val_loss', # Don't overwrite the saved model unless val_loss is worse\n",
    "                save_best_only = True)]# Only save model if it is the best\n",
    "    optimizer = keras.optimizers.Adam(learning_rate=1e-4)\n",
    "    model.compile(optimizer=optimizer, loss=loss_fct, metrics=metrics)\n",
    "    history = model.fit(x_train, y_train, epochs=local_epochs, validation_split=0.2, callbacks=callbacks, batch_size=1024)\n",
    "    return model, history.history['loss'], history.history['accuracy'], history.history['val_loss'], history.history['val_accuracy']"
   ]
  },
  {
   "cell_type": "code",
   "execution_count": 54,
   "metadata": {},
   "outputs": [],
   "source": [
    "def aggregate(grad_list):\n",
    "    avg_grad = np.mean(grad_list, axis=0)\n",
    "    return avg_grad"
   ]
  },
  {
   "cell_type": "code",
   "execution_count": 55,
   "metadata": {},
   "outputs": [],
   "source": [
    "global_model = build_model((24,1,1))"
   ]
  },
  {
   "cell_type": "code",
   "execution_count": 56,
   "metadata": {},
   "outputs": [],
   "source": [
    "x1, y1 = preprocessing(training1)\n",
    "x2, y2 = preprocessing(training2)\n",
    "x3, y3 = preprocessing(training3)\n"
   ]
  },
  {
   "cell_type": "code",
   "execution_count": 57,
   "metadata": {},
   "outputs": [],
   "source": [
    "optimizer = keras.optimizers.Adam(learning_rate=1e-4)"
   ]
  },
  {
   "cell_type": "code",
   "execution_count": 58,
   "metadata": {},
   "outputs": [
    {
     "name": "stdout",
     "output_type": "stream",
     "text": [
      "Epoch 1/10\n",
      "15/15 [==============================] - 1s 67ms/step - loss: 1.0098 - accuracy: 0.6693 - val_loss: 1.4186 - val_accuracy: 0.0088\n",
      "Epoch 2/10\n",
      "15/15 [==============================] - 1s 43ms/step - loss: 0.5051 - accuracy: 0.9604 - val_loss: 1.4550 - val_accuracy: 8.2463e-04\n",
      "Epoch 3/10\n",
      "15/15 [==============================] - 1s 38ms/step - loss: 0.3097 - accuracy: 0.9615 - val_loss: 1.4905 - val_accuracy: 2.7488e-04\n",
      "Epoch 4/10\n",
      "15/15 [==============================] - 1s 38ms/step - loss: 0.2393 - accuracy: 0.9614 - val_loss: 1.5210 - val_accuracy: 0.0000e+00\n",
      "Epoch 5/10\n",
      "15/15 [==============================] - 1s 39ms/step - loss: 0.2107 - accuracy: 0.9616 - val_loss: 1.5484 - val_accuracy: 0.0000e+00\n",
      "Epoch 6/10\n",
      "15/15 [==============================] - 1s 39ms/step - loss: 0.1973 - accuracy: 0.9616 - val_loss: 1.5743 - val_accuracy: 2.7488e-04\n",
      "Epoch 7/10\n",
      "15/15 [==============================] - 1s 38ms/step - loss: 0.1890 - accuracy: 0.9614 - val_loss: 1.6021 - val_accuracy: 8.2463e-04\n",
      "Epoch 8/10\n",
      "15/15 [==============================] - 1s 40ms/step - loss: 0.1828 - accuracy: 0.9613 - val_loss: 1.6326 - val_accuracy: 8.2463e-04\n",
      "Epoch 9/10\n",
      "15/15 [==============================] - 1s 43ms/step - loss: 0.1797 - accuracy: 0.9615 - val_loss: 1.6662 - val_accuracy: 8.2463e-04\n",
      "Epoch 10/10\n",
      "15/15 [==============================] - 1s 39ms/step - loss: 0.1762 - accuracy: 0.9615 - val_loss: 1.6999 - val_accuracy: 8.2463e-04\n",
      "Epoch 1/10\n",
      "15/15 [==============================] - 1s 60ms/step - loss: 0.1700 - accuracy: 0.9632 - val_loss: 1.7765 - val_accuracy: 0.0014\n",
      "Epoch 2/10\n",
      "15/15 [==============================] - 1s 50ms/step - loss: 0.1652 - accuracy: 0.9636 - val_loss: 1.8404 - val_accuracy: 0.0011\n",
      "Epoch 3/10\n",
      "15/15 [==============================] - 1s 47ms/step - loss: 0.1619 - accuracy: 0.9637 - val_loss: 1.9167 - val_accuracy: 0.0011\n",
      "Epoch 4/10\n",
      "15/15 [==============================] - 1s 46ms/step - loss: 0.1596 - accuracy: 0.9640 - val_loss: 1.9826 - val_accuracy: 0.0011\n",
      "Epoch 5/10\n",
      "15/15 [==============================] - 1s 46ms/step - loss: 0.1572 - accuracy: 0.9638 - val_loss: 2.0555 - val_accuracy: 0.0011\n",
      "Epoch 6/10\n",
      "15/15 [==============================] - 1s 45ms/step - loss: 0.1555 - accuracy: 0.9641 - val_loss: 2.1313 - val_accuracy: 0.0014\n",
      "Epoch 7/10\n",
      "15/15 [==============================] - 1s 38ms/step - loss: 0.1531 - accuracy: 0.9643 - val_loss: 2.2161 - val_accuracy: 0.0016\n",
      "Epoch 8/10\n",
      "15/15 [==============================] - 1s 37ms/step - loss: 0.1516 - accuracy: 0.9643 - val_loss: 2.3102 - val_accuracy: 0.0030\n",
      "Epoch 9/10\n",
      "15/15 [==============================] - 1s 40ms/step - loss: 0.1506 - accuracy: 0.9645 - val_loss: 2.4134 - val_accuracy: 8.2463e-04\n",
      "Epoch 10/10\n",
      "15/15 [==============================] - 1s 36ms/step - loss: 0.1488 - accuracy: 0.9645 - val_loss: 2.5239 - val_accuracy: 0.0022\n",
      "Epoch 1/10\n",
      "15/15 [==============================] - 1s 56ms/step - loss: 0.1482 - accuracy: 0.9652 - val_loss: 2.6886 - val_accuracy: 0.0014\n",
      "Epoch 2/10\n",
      "15/15 [==============================] - 1s 49ms/step - loss: 0.1457 - accuracy: 0.9654 - val_loss: 2.7898 - val_accuracy: 0.0019\n",
      "Epoch 3/10\n",
      "15/15 [==============================] - 1s 49ms/step - loss: 0.1443 - accuracy: 0.9653 - val_loss: 2.9386 - val_accuracy: 0.0022\n",
      "Epoch 4/10\n",
      "15/15 [==============================] - 1s 45ms/step - loss: 0.1431 - accuracy: 0.9654 - val_loss: 3.1168 - val_accuracy: 0.0033\n",
      "Epoch 5/10\n",
      "15/15 [==============================] - 1s 39ms/step - loss: 0.1419 - accuracy: 0.9655 - val_loss: 3.2531 - val_accuracy: 0.0014\n",
      "Epoch 6/10\n",
      "15/15 [==============================] - 1s 39ms/step - loss: 0.1406 - accuracy: 0.9659 - val_loss: 3.4394 - val_accuracy: 0.0025\n",
      "Epoch 7/10\n",
      "15/15 [==============================] - 1s 39ms/step - loss: 0.1396 - accuracy: 0.9663 - val_loss: 3.6432 - val_accuracy: 0.0022\n",
      "Epoch 8/10\n",
      "15/15 [==============================] - 1s 38ms/step - loss: 0.1392 - accuracy: 0.9661 - val_loss: 3.8338 - val_accuracy: 0.0016\n",
      "Epoch 9/10\n",
      "15/15 [==============================] - 1s 39ms/step - loss: 0.1379 - accuracy: 0.9663 - val_loss: 4.0301 - val_accuracy: 0.0019\n",
      "Epoch 10/10\n",
      "15/15 [==============================] - 1s 39ms/step - loss: 0.1377 - accuracy: 0.9668 - val_loss: 4.2661 - val_accuracy: 0.0025\n",
      "  76/2017 [>.............................] - ETA: 2s - loss: 1.0178 - accuracy: 0.8684"
     ]
    },
    {
     "name": "stderr",
     "output_type": "stream",
     "text": [
      "c:\\Users\\UX430\\anaconda3\\lib\\site-packages\\numpy\\core\\_asarray.py:171: VisibleDeprecationWarning: Creating an ndarray from ragged nested sequences (which is a list-or-tuple of lists-or-tuples-or ndarrays with different lengths or shapes) is deprecated. If you meant to do this, you must specify 'dtype=object' when creating the ndarray.\n",
      "  return array(a, dtype, copy=False, order=order, subok=True)\n"
     ]
    },
    {
     "name": "stdout",
     "output_type": "stream",
     "text": [
      "2017/2017 [==============================] - 3s 1ms/step - loss: 1.0247 - accuracy: 0.8624: 0s -\n",
      "756/756 [==============================] - 1s 1ms/step - loss: 0.0000e+00 - accuracy: 0.0218\n"
     ]
    },
    {
     "name": "stderr",
     "output_type": "stream",
     "text": [
      "c:\\Users\\UX430\\anaconda3\\lib\\site-packages\\sklearn\\metrics\\_classification.py:1308: UndefinedMetricWarning: Recall and F-score are ill-defined and being set to 0.0 in labels with no true samples. Use `zero_division` parameter to control this behavior.\n",
      "  _warn_prf(average, modifier, msg_start, len(result))\n",
      "c:\\Users\\UX430\\anaconda3\\lib\\site-packages\\sklearn\\metrics\\_classification.py:1308: UndefinedMetricWarning: Recall and F-score are ill-defined and being set to 0.0 in labels with no true samples. Use `zero_division` parameter to control this behavior.\n",
      "  _warn_prf(average, modifier, msg_start, len(result))\n",
      "c:\\Users\\UX430\\anaconda3\\lib\\site-packages\\sklearn\\metrics\\_classification.py:1308: UndefinedMetricWarning: Recall and F-score are ill-defined and being set to 0.0 in labels with no true samples. Use `zero_division` parameter to control this behavior.\n",
      "  _warn_prf(average, modifier, msg_start, len(result))\n"
     ]
    },
    {
     "name": "stdout",
     "output_type": "stream",
     "text": [
      "Epoch 1/10\n",
      "15/15 [==============================] - 1s 58ms/step - loss: 0.1481 - accuracy: 0.9652 - val_loss: 4.4030 - val_accuracy: 0.0022\n",
      "Epoch 2/10\n",
      "15/15 [==============================] - 1s 43ms/step - loss: 0.1456 - accuracy: 0.9651 - val_loss: 4.6469 - val_accuracy: 0.0019\n",
      "Epoch 3/10\n",
      "15/15 [==============================] - 1s 46ms/step - loss: 0.1451 - accuracy: 0.9656 - val_loss: 4.8806 - val_accuracy: 0.0019\n",
      "Epoch 4/10\n",
      "15/15 [==============================] - 1s 50ms/step - loss: 0.1446 - accuracy: 0.9664 - val_loss: 5.1195 - val_accuracy: 0.0019\n",
      "Epoch 5/10\n",
      "15/15 [==============================] - 1s 44ms/step - loss: 0.1437 - accuracy: 0.9665 - val_loss: 5.3554 - val_accuracy: 0.0019\n",
      "Epoch 6/10\n",
      "15/15 [==============================] - 1s 39ms/step - loss: 0.1430 - accuracy: 0.9665 - val_loss: 5.6345 - val_accuracy: 0.0019\n",
      "Epoch 7/10\n",
      "15/15 [==============================] - 1s 38ms/step - loss: 0.1426 - accuracy: 0.9666 - val_loss: 5.8514 - val_accuracy: 0.0019\n",
      "Epoch 8/10\n",
      "15/15 [==============================] - 1s 40ms/step - loss: 0.1423 - accuracy: 0.9665 - val_loss: 6.0359 - val_accuracy: 0.0019\n",
      "Epoch 9/10\n",
      "15/15 [==============================] - 1s 37ms/step - loss: 0.1416 - accuracy: 0.9667 - val_loss: 6.2968 - val_accuracy: 0.0019\n",
      "Epoch 10/10\n",
      "15/15 [==============================] - 1s 39ms/step - loss: 0.1418 - accuracy: 0.9668 - val_loss: 6.4881 - val_accuracy: 0.0019\n",
      "Epoch 1/10\n",
      "15/15 [==============================] - 1s 54ms/step - loss: 0.1401 - accuracy: 0.9680 - val_loss: 6.6743 - val_accuracy: 0.0036\n",
      "Epoch 2/10\n",
      "15/15 [==============================] - 1s 46ms/step - loss: 0.1380 - accuracy: 0.9681 - val_loss: 6.8985 - val_accuracy: 0.0019\n",
      "Epoch 3/10\n",
      "15/15 [==============================] - 1s 51ms/step - loss: 0.1379 - accuracy: 0.9680 - val_loss: 7.1121 - val_accuracy: 0.0019\n",
      "Epoch 4/10\n",
      "15/15 [==============================] - 1s 40ms/step - loss: 0.1368 - accuracy: 0.9684 - val_loss: 7.2888 - val_accuracy: 0.0030\n",
      "Epoch 5/10\n",
      "15/15 [==============================] - 1s 39ms/step - loss: 0.1365 - accuracy: 0.9682 - val_loss: 7.4066 - val_accuracy: 0.0025\n",
      "Epoch 6/10\n",
      "15/15 [==============================] - 1s 39ms/step - loss: 0.1358 - accuracy: 0.9684 - val_loss: 7.6532 - val_accuracy: 0.0041\n",
      "Epoch 7/10\n",
      "15/15 [==============================] - 1s 38ms/step - loss: 0.1356 - accuracy: 0.9683 - val_loss: 7.7415 - val_accuracy: 0.0022\n",
      "Epoch 8/10\n",
      "15/15 [==============================] - 1s 39ms/step - loss: 0.1353 - accuracy: 0.9683 - val_loss: 7.9372 - val_accuracy: 0.0027\n",
      "Epoch 9/10\n",
      "15/15 [==============================] - 1s 39ms/step - loss: 0.1347 - accuracy: 0.9686 - val_loss: 8.0645 - val_accuracy: 0.0036\n",
      "Epoch 10/10\n",
      "15/15 [==============================] - 1s 39ms/step - loss: 0.1342 - accuracy: 0.9687 - val_loss: 8.1228 - val_accuracy: 0.0025\n",
      "Epoch 1/10\n",
      "15/15 [==============================] - 1s 57ms/step - loss: 0.1354 - accuracy: 0.9680 - val_loss: 8.3632 - val_accuracy: 0.0016\n",
      "Epoch 2/10\n",
      "15/15 [==============================] - 1s 46ms/step - loss: 0.1340 - accuracy: 0.9680 - val_loss: 8.4109 - val_accuracy: 0.0016\n",
      "Epoch 3/10\n",
      "15/15 [==============================] - 1s 40ms/step - loss: 0.1334 - accuracy: 0.9682 - val_loss: 8.5722 - val_accuracy: 0.0027\n",
      "Epoch 4/10\n",
      "15/15 [==============================] - 1s 41ms/step - loss: 0.1326 - accuracy: 0.9685 - val_loss: 8.7201 - val_accuracy: 0.0027\n",
      "Epoch 5/10\n",
      "15/15 [==============================] - 1s 40ms/step - loss: 0.1323 - accuracy: 0.9683 - val_loss: 8.7482 - val_accuracy: 0.0030\n",
      "Epoch 6/10\n",
      "15/15 [==============================] - 1s 38ms/step - loss: 0.1322 - accuracy: 0.9683 - val_loss: 8.8628 - val_accuracy: 0.0016\n",
      "Epoch 7/10\n",
      "15/15 [==============================] - 1s 39ms/step - loss: 0.1319 - accuracy: 0.9685 - val_loss: 8.8862 - val_accuracy: 0.0027\n",
      "Epoch 8/10\n",
      "15/15 [==============================] - 1s 39ms/step - loss: 0.1313 - accuracy: 0.9685 - val_loss: 9.0795 - val_accuracy: 0.0019\n",
      "Epoch 9/10\n",
      "15/15 [==============================] - 1s 38ms/step - loss: 0.1312 - accuracy: 0.9685 - val_loss: 9.1853 - val_accuracy: 0.0019\n",
      "Epoch 10/10\n",
      "15/15 [==============================] - 1s 41ms/step - loss: 0.1312 - accuracy: 0.9685 - val_loss: 9.1531 - val_accuracy: 0.0027\n",
      " 119/2017 [>.............................] - ETA: 2s - loss: 1.4434 - accuracy: 0.3466"
     ]
    },
    {
     "name": "stderr",
     "output_type": "stream",
     "text": [
      "c:\\Users\\UX430\\anaconda3\\lib\\site-packages\\numpy\\core\\_asarray.py:171: VisibleDeprecationWarning: Creating an ndarray from ragged nested sequences (which is a list-or-tuple of lists-or-tuples-or ndarrays with different lengths or shapes) is deprecated. If you meant to do this, you must specify 'dtype=object' when creating the ndarray.\n",
      "  return array(a, dtype, copy=False, order=order, subok=True)\n"
     ]
    },
    {
     "name": "stdout",
     "output_type": "stream",
     "text": [
      "2017/2017 [==============================] - 2s 1ms/step - loss: 1.4417 - accuracy: 0.3532\n",
      " 92/756 [==>...........................] - ETA: 0s - loss: 0.0000e+00 - accuracy: 0.0153  "
     ]
    },
    {
     "name": "stderr",
     "output_type": "stream",
     "text": [
      "c:\\Users\\UX430\\anaconda3\\lib\\site-packages\\sklearn\\metrics\\_classification.py:1308: UndefinedMetricWarning: Precision and F-score are ill-defined and being set to 0.0 in labels with no predicted samples. Use `zero_division` parameter to control this behavior.\n",
      "  _warn_prf(average, modifier, msg_start, len(result))\n",
      "c:\\Users\\UX430\\anaconda3\\lib\\site-packages\\sklearn\\metrics\\_classification.py:1308: UndefinedMetricWarning: Precision and F-score are ill-defined and being set to 0.0 in labels with no predicted samples. Use `zero_division` parameter to control this behavior.\n",
      "  _warn_prf(average, modifier, msg_start, len(result))\n",
      "c:\\Users\\UX430\\anaconda3\\lib\\site-packages\\sklearn\\metrics\\_classification.py:1308: UndefinedMetricWarning: Precision and F-score are ill-defined and being set to 0.0 in labels with no predicted samples. Use `zero_division` parameter to control this behavior.\n",
      "  _warn_prf(average, modifier, msg_start, len(result))\n"
     ]
    },
    {
     "name": "stdout",
     "output_type": "stream",
     "text": [
      "756/756 [==============================] - 1s 1ms/step - loss: 0.0000e+00 - accuracy: 0.0157\n"
     ]
    },
    {
     "name": "stderr",
     "output_type": "stream",
     "text": [
      "c:\\Users\\UX430\\anaconda3\\lib\\site-packages\\sklearn\\metrics\\_classification.py:1308: UndefinedMetricWarning: Precision and F-score are ill-defined and being set to 0.0 in labels with no predicted samples. Use `zero_division` parameter to control this behavior.\n",
      "  _warn_prf(average, modifier, msg_start, len(result))\n",
      "c:\\Users\\UX430\\anaconda3\\lib\\site-packages\\sklearn\\metrics\\_classification.py:1308: UndefinedMetricWarning: Recall and F-score are ill-defined and being set to 0.0 in labels with no true samples. Use `zero_division` parameter to control this behavior.\n",
      "  _warn_prf(average, modifier, msg_start, len(result))\n",
      "c:\\Users\\UX430\\anaconda3\\lib\\site-packages\\sklearn\\metrics\\_classification.py:1308: UndefinedMetricWarning: Precision and F-score are ill-defined and being set to 0.0 in labels with no predicted samples. Use `zero_division` parameter to control this behavior.\n",
      "  _warn_prf(average, modifier, msg_start, len(result))\n",
      "c:\\Users\\UX430\\anaconda3\\lib\\site-packages\\sklearn\\metrics\\_classification.py:1308: UndefinedMetricWarning: Recall and F-score are ill-defined and being set to 0.0 in labels with no true samples. Use `zero_division` parameter to control this behavior.\n",
      "  _warn_prf(average, modifier, msg_start, len(result))\n",
      "c:\\Users\\UX430\\anaconda3\\lib\\site-packages\\sklearn\\metrics\\_classification.py:1308: UndefinedMetricWarning: Precision and F-score are ill-defined and being set to 0.0 in labels with no predicted samples. Use `zero_division` parameter to control this behavior.\n",
      "  _warn_prf(average, modifier, msg_start, len(result))\n",
      "c:\\Users\\UX430\\anaconda3\\lib\\site-packages\\sklearn\\metrics\\_classification.py:1308: UndefinedMetricWarning: Recall and F-score are ill-defined and being set to 0.0 in labels with no true samples. Use `zero_division` parameter to control this behavior.\n",
      "  _warn_prf(average, modifier, msg_start, len(result))\n"
     ]
    },
    {
     "name": "stdout",
     "output_type": "stream",
     "text": [
      "Epoch 1/10\n",
      "15/15 [==============================] - 1s 58ms/step - loss: 0.1416 - accuracy: 0.9671 - val_loss: 9.1681 - val_accuracy: 0.0022\n",
      "Epoch 2/10\n",
      "15/15 [==============================] - 1s 51ms/step - loss: 0.1398 - accuracy: 0.9668 - val_loss: 9.2353 - val_accuracy: 0.0022\n",
      "Epoch 3/10\n",
      "15/15 [==============================] - 1s 40ms/step - loss: 0.1398 - accuracy: 0.9668 - val_loss: 9.2590 - val_accuracy: 0.0022\n",
      "Epoch 4/10\n",
      "15/15 [==============================] - 1s 41ms/step - loss: 0.1388 - accuracy: 0.9667 - val_loss: 9.4048 - val_accuracy: 0.0022\n",
      "Epoch 5/10\n",
      "15/15 [==============================] - 1s 37ms/step - loss: 0.1386 - accuracy: 0.9670 - val_loss: 9.4357 - val_accuracy: 0.0022\n",
      "Epoch 6/10\n",
      "15/15 [==============================] - 1s 40ms/step - loss: 0.1379 - accuracy: 0.9670 - val_loss: 9.5668 - val_accuracy: 0.0022\n",
      "Epoch 7/10\n",
      "15/15 [==============================] - 1s 39ms/step - loss: 0.1376 - accuracy: 0.9668 - val_loss: 9.6456 - val_accuracy: 0.0022\n",
      "Epoch 8/10\n",
      "15/15 [==============================] - 1s 38ms/step - loss: 0.1371 - accuracy: 0.9669 - val_loss: 9.7437 - val_accuracy: 0.0022\n",
      "Epoch 9/10\n",
      "15/15 [==============================] - 1s 39ms/step - loss: 0.1369 - accuracy: 0.9669 - val_loss: 9.8162 - val_accuracy: 0.0025\n",
      "Epoch 10/10\n",
      "15/15 [==============================] - 1s 38ms/step - loss: 0.1369 - accuracy: 0.9671 - val_loss: 9.8769 - val_accuracy: 0.0022\n",
      "Epoch 1/10\n",
      "15/15 [==============================] - 1s 63ms/step - loss: 0.1347 - accuracy: 0.9683 - val_loss: 9.8680 - val_accuracy: 0.0041\n",
      "Epoch 2/10\n",
      "15/15 [==============================] - 1s 38ms/step - loss: 0.1332 - accuracy: 0.9686 - val_loss: 9.9437 - val_accuracy: 0.0038\n",
      "Epoch 3/10\n",
      "15/15 [==============================] - 1s 40ms/step - loss: 0.1319 - accuracy: 0.9685 - val_loss: 10.0114 - val_accuracy: 0.0027\n",
      "Epoch 4/10\n",
      "15/15 [==============================] - 1s 40ms/step - loss: 0.1317 - accuracy: 0.9685 - val_loss: 10.0549 - val_accuracy: 0.0044\n",
      "Epoch 5/10\n",
      "15/15 [==============================] - 1s 39ms/step - loss: 0.1310 - accuracy: 0.9687 - val_loss: 10.0459 - val_accuracy: 0.0036\n",
      "Epoch 6/10\n",
      "15/15 [==============================] - 1s 39ms/step - loss: 0.1309 - accuracy: 0.9688 - val_loss: 10.2537 - val_accuracy: 0.0036\n",
      "Epoch 7/10\n",
      "15/15 [==============================] - 1s 38ms/step - loss: 0.1306 - accuracy: 0.9687 - val_loss: 10.1937 - val_accuracy: 0.0041\n",
      "Epoch 8/10\n",
      "15/15 [==============================] - 1s 39ms/step - loss: 0.1301 - accuracy: 0.9687 - val_loss: 10.3155 - val_accuracy: 0.0041\n",
      "Epoch 9/10\n",
      "15/15 [==============================] - 1s 38ms/step - loss: 0.1298 - accuracy: 0.9687 - val_loss: 10.3143 - val_accuracy: 0.0036\n",
      "Epoch 10/10\n",
      "15/15 [==============================] - 1s 47ms/step - loss: 0.1296 - accuracy: 0.9688 - val_loss: 10.3674 - val_accuracy: 0.0044\n",
      "Epoch 1/10\n",
      "15/15 [==============================] - 1s 48ms/step - loss: 0.1319 - accuracy: 0.9685 - val_loss: 10.5188 - val_accuracy: 0.0027\n",
      "Epoch 2/10\n",
      "15/15 [==============================] - 1s 38ms/step - loss: 0.1303 - accuracy: 0.9687 - val_loss: 10.5038 - val_accuracy: 0.0030\n",
      "Epoch 3/10\n",
      "15/15 [==============================] - 1s 39ms/step - loss: 0.1296 - accuracy: 0.9687 - val_loss: 10.5981 - val_accuracy: 0.0030\n",
      "Epoch 4/10\n",
      "15/15 [==============================] - 1s 41ms/step - loss: 0.1290 - accuracy: 0.9688 - val_loss: 10.6261 - val_accuracy: 0.0030\n",
      "Epoch 5/10\n",
      "15/15 [==============================] - 1s 41ms/step - loss: 0.1287 - accuracy: 0.9687 - val_loss: 10.6790 - val_accuracy: 0.0030\n",
      "Epoch 6/10\n",
      "15/15 [==============================] - 1s 39ms/step - loss: 0.1284 - accuracy: 0.9689 - val_loss: 10.7500 - val_accuracy: 0.0030\n",
      "Epoch 7/10\n",
      "15/15 [==============================] - 1s 39ms/step - loss: 0.1277 - accuracy: 0.9688 - val_loss: 10.7898 - val_accuracy: 0.0030\n",
      "Epoch 8/10\n",
      "15/15 [==============================] - 1s 37ms/step - loss: 0.1281 - accuracy: 0.9688 - val_loss: 10.8284 - val_accuracy: 0.0030\n",
      "Epoch 9/10\n",
      "15/15 [==============================] - 1s 39ms/step - loss: 0.1275 - accuracy: 0.9689 - val_loss: 10.9527 - val_accuracy: 0.0030\n",
      "Epoch 10/10\n",
      "15/15 [==============================] - 1s 47ms/step - loss: 0.1270 - accuracy: 0.9687 - val_loss: 10.9596 - val_accuracy: 0.0030\n",
      " 121/2017 [>.............................] - ETA: 2s - loss: 1.6819 - accuracy: 0.0974"
     ]
    },
    {
     "name": "stderr",
     "output_type": "stream",
     "text": [
      "c:\\Users\\UX430\\anaconda3\\lib\\site-packages\\numpy\\core\\_asarray.py:171: VisibleDeprecationWarning: Creating an ndarray from ragged nested sequences (which is a list-or-tuple of lists-or-tuples-or ndarrays with different lengths or shapes) is deprecated. If you meant to do this, you must specify 'dtype=object' when creating the ndarray.\n",
      "  return array(a, dtype, copy=False, order=order, subok=True)\n"
     ]
    },
    {
     "name": "stdout",
     "output_type": "stream",
     "text": [
      "2017/2017 [==============================] - 2s 1ms/step - loss: 1.6839 - accuracy: 0.1078\n",
      " 98/756 [==>...........................] - ETA: 0s - loss: 0.0000e+00 - accuracy: 0.0140  "
     ]
    },
    {
     "name": "stderr",
     "output_type": "stream",
     "text": [
      "c:\\Users\\UX430\\anaconda3\\lib\\site-packages\\sklearn\\metrics\\_classification.py:1308: UndefinedMetricWarning: Precision and F-score are ill-defined and being set to 0.0 in labels with no predicted samples. Use `zero_division` parameter to control this behavior.\n",
      "  _warn_prf(average, modifier, msg_start, len(result))\n",
      "c:\\Users\\UX430\\anaconda3\\lib\\site-packages\\sklearn\\metrics\\_classification.py:1308: UndefinedMetricWarning: Precision and F-score are ill-defined and being set to 0.0 in labels with no predicted samples. Use `zero_division` parameter to control this behavior.\n",
      "  _warn_prf(average, modifier, msg_start, len(result))\n",
      "c:\\Users\\UX430\\anaconda3\\lib\\site-packages\\sklearn\\metrics\\_classification.py:1308: UndefinedMetricWarning: Precision and F-score are ill-defined and being set to 0.0 in labels with no predicted samples. Use `zero_division` parameter to control this behavior.\n",
      "  _warn_prf(average, modifier, msg_start, len(result))\n"
     ]
    },
    {
     "name": "stdout",
     "output_type": "stream",
     "text": [
      "756/756 [==============================] - 1s 1ms/step - loss: 0.0000e+00 - accuracy: 0.0173\n"
     ]
    },
    {
     "name": "stderr",
     "output_type": "stream",
     "text": [
      "c:\\Users\\UX430\\anaconda3\\lib\\site-packages\\sklearn\\metrics\\_classification.py:1308: UndefinedMetricWarning: Precision and F-score are ill-defined and being set to 0.0 in labels with no predicted samples. Use `zero_division` parameter to control this behavior.\n",
      "  _warn_prf(average, modifier, msg_start, len(result))\n",
      "c:\\Users\\UX430\\anaconda3\\lib\\site-packages\\sklearn\\metrics\\_classification.py:1308: UndefinedMetricWarning: Recall and F-score are ill-defined and being set to 0.0 in labels with no true samples. Use `zero_division` parameter to control this behavior.\n",
      "  _warn_prf(average, modifier, msg_start, len(result))\n",
      "c:\\Users\\UX430\\anaconda3\\lib\\site-packages\\sklearn\\metrics\\_classification.py:1308: UndefinedMetricWarning: Precision and F-score are ill-defined and being set to 0.0 in labels with no predicted samples. Use `zero_division` parameter to control this behavior.\n",
      "  _warn_prf(average, modifier, msg_start, len(result))\n",
      "c:\\Users\\UX430\\anaconda3\\lib\\site-packages\\sklearn\\metrics\\_classification.py:1308: UndefinedMetricWarning: Recall and F-score are ill-defined and being set to 0.0 in labels with no true samples. Use `zero_division` parameter to control this behavior.\n",
      "  _warn_prf(average, modifier, msg_start, len(result))\n",
      "c:\\Users\\UX430\\anaconda3\\lib\\site-packages\\sklearn\\metrics\\_classification.py:1308: UndefinedMetricWarning: Precision and F-score are ill-defined and being set to 0.0 in labels with no predicted samples. Use `zero_division` parameter to control this behavior.\n",
      "  _warn_prf(average, modifier, msg_start, len(result))\n",
      "c:\\Users\\UX430\\anaconda3\\lib\\site-packages\\sklearn\\metrics\\_classification.py:1308: UndefinedMetricWarning: Recall and F-score are ill-defined and being set to 0.0 in labels with no true samples. Use `zero_division` parameter to control this behavior.\n",
      "  _warn_prf(average, modifier, msg_start, len(result))\n"
     ]
    },
    {
     "name": "stdout",
     "output_type": "stream",
     "text": [
      "Epoch 1/10\n",
      "15/15 [==============================] - 1s 56ms/step - loss: 0.1384 - accuracy: 0.9668 - val_loss: 10.8188 - val_accuracy: 0.0022\n",
      "Epoch 2/10\n",
      "15/15 [==============================] - 1s 47ms/step - loss: 0.1362 - accuracy: 0.9671 - val_loss: 10.7516 - val_accuracy: 0.0033\n",
      "Epoch 3/10\n",
      "15/15 [==============================] - 1s 37ms/step - loss: 0.1356 - accuracy: 0.9671 - val_loss: 10.9417 - val_accuracy: 0.0022\n",
      "Epoch 4/10\n",
      "15/15 [==============================] - 1s 39ms/step - loss: 0.1350 - accuracy: 0.9671 - val_loss: 11.0153 - val_accuracy: 0.0025\n",
      "Epoch 5/10\n",
      "15/15 [==============================] - 1s 44ms/step - loss: 0.1344 - accuracy: 0.9672 - val_loss: 11.1483 - val_accuracy: 0.0033\n",
      "Epoch 6/10\n",
      "15/15 [==============================] - 1s 37ms/step - loss: 0.1342 - accuracy: 0.9671 - val_loss: 11.1390 - val_accuracy: 0.0025\n",
      "Epoch 7/10\n",
      "15/15 [==============================] - 1s 38ms/step - loss: 0.1337 - accuracy: 0.9670 - val_loss: 11.1745 - val_accuracy: 0.0025\n",
      "Epoch 8/10\n",
      "15/15 [==============================] - 1s 38ms/step - loss: 0.1335 - accuracy: 0.9673 - val_loss: 11.2233 - val_accuracy: 0.0025\n",
      "Epoch 9/10\n",
      "15/15 [==============================] - 1s 38ms/step - loss: 0.1333 - accuracy: 0.9673 - val_loss: 11.3160 - val_accuracy: 0.0033\n",
      "Epoch 10/10\n",
      "15/15 [==============================] - 1s 39ms/step - loss: 0.1330 - accuracy: 0.9674 - val_loss: 11.4259 - val_accuracy: 0.0025\n",
      "Epoch 1/10\n",
      "15/15 [==============================] - 1s 77ms/step - loss: 0.1310 - accuracy: 0.9682 - val_loss: 11.3546 - val_accuracy: 0.0049\n",
      "Epoch 2/10\n",
      "15/15 [==============================] - 1s 52ms/step - loss: 0.1292 - accuracy: 0.9688 - val_loss: 11.3206 - val_accuracy: 0.0055\n",
      "Epoch 3/10\n",
      "15/15 [==============================] - 1s 46ms/step - loss: 0.1287 - accuracy: 0.9689 - val_loss: 11.4133 - val_accuracy: 0.0038\n",
      "Epoch 4/10\n",
      "15/15 [==============================] - 1s 50ms/step - loss: 0.1279 - accuracy: 0.9689 - val_loss: 11.4296 - val_accuracy: 0.0044\n",
      "Epoch 5/10\n",
      "15/15 [==============================] - 1s 40ms/step - loss: 0.1274 - accuracy: 0.9691 - val_loss: 11.4466 - val_accuracy: 0.0038\n",
      "Epoch 6/10\n",
      "15/15 [==============================] - 1s 48ms/step - loss: 0.1271 - accuracy: 0.9688 - val_loss: 11.5263 - val_accuracy: 0.0044\n",
      "Epoch 7/10\n",
      "15/15 [==============================] - 1s 46ms/step - loss: 0.1271 - accuracy: 0.9688 - val_loss: 11.5018 - val_accuracy: 0.0047\n",
      "Epoch 8/10\n",
      "15/15 [==============================] - 1s 51ms/step - loss: 0.1266 - accuracy: 0.9687 - val_loss: 11.6045 - val_accuracy: 0.0049\n",
      "Epoch 9/10\n",
      "15/15 [==============================] - 1s 41ms/step - loss: 0.1261 - accuracy: 0.9690 - val_loss: 11.6866 - val_accuracy: 0.0049\n",
      "Epoch 10/10\n",
      "15/15 [==============================] - 1s 40ms/step - loss: 0.1260 - accuracy: 0.9691 - val_loss: 11.7183 - val_accuracy: 0.0036\n",
      "Epoch 1/10\n",
      "15/15 [==============================] - 1s 60ms/step - loss: 0.1289 - accuracy: 0.9688 - val_loss: 11.8775 - val_accuracy: 0.0033\n",
      "Epoch 2/10\n",
      "15/15 [==============================] - 1s 50ms/step - loss: 0.1272 - accuracy: 0.9689 - val_loss: 11.7462 - val_accuracy: 0.0030\n",
      "Epoch 3/10\n",
      "15/15 [==============================] - 1s 48ms/step - loss: 0.1265 - accuracy: 0.9691 - val_loss: 11.8862 - val_accuracy: 0.0030\n",
      "Epoch 4/10\n",
      "15/15 [==============================] - 1s 53ms/step - loss: 0.1259 - accuracy: 0.9689 - val_loss: 11.8444 - val_accuracy: 0.0030\n",
      "Epoch 5/10\n",
      "15/15 [==============================] - 1s 54ms/step - loss: 0.1257 - accuracy: 0.9691 - val_loss: 11.9010 - val_accuracy: 0.0030\n",
      "Epoch 6/10\n",
      "15/15 [==============================] - 1s 49ms/step - loss: 0.1252 - accuracy: 0.9691 - val_loss: 11.9691 - val_accuracy: 0.0030\n",
      "Epoch 7/10\n",
      "15/15 [==============================] - 1s 48ms/step - loss: 0.1251 - accuracy: 0.9693 - val_loss: 12.0224 - val_accuracy: 0.0030\n",
      "Epoch 8/10\n",
      "15/15 [==============================] - 1s 52ms/step - loss: 0.1245 - accuracy: 0.9693 - val_loss: 12.0739 - val_accuracy: 0.0030\n",
      "Epoch 9/10\n",
      "15/15 [==============================] - 1s 48ms/step - loss: 0.1243 - accuracy: 0.9693 - val_loss: 12.0852 - val_accuracy: 0.0030\n",
      "Epoch 10/10\n",
      "15/15 [==============================] - 1s 48ms/step - loss: 0.1241 - accuracy: 0.9693 - val_loss: 12.1506 - val_accuracy: 0.0027\n",
      "  74/2017 [>.............................] - ETA: 4s - loss: 1.8123 - accuracy: 0.1056"
     ]
    },
    {
     "name": "stderr",
     "output_type": "stream",
     "text": [
      "c:\\Users\\UX430\\anaconda3\\lib\\site-packages\\numpy\\core\\_asarray.py:171: VisibleDeprecationWarning: Creating an ndarray from ragged nested sequences (which is a list-or-tuple of lists-or-tuples-or ndarrays with different lengths or shapes) is deprecated. If you meant to do this, you must specify 'dtype=object' when creating the ndarray.\n",
      "  return array(a, dtype, copy=False, order=order, subok=True)\n"
     ]
    },
    {
     "name": "stdout",
     "output_type": "stream",
     "text": [
      "2017/2017 [==============================] - 3s 1ms/step - loss: 1.8431 - accuracy: 0.1078\n",
      " 94/756 [==>...........................] - ETA: 0s - loss: 0.0000e+00 - accuracy: 0.0116  "
     ]
    },
    {
     "name": "stderr",
     "output_type": "stream",
     "text": [
      "c:\\Users\\UX430\\anaconda3\\lib\\site-packages\\sklearn\\metrics\\_classification.py:1308: UndefinedMetricWarning: Precision and F-score are ill-defined and being set to 0.0 in labels with no predicted samples. Use `zero_division` parameter to control this behavior.\n",
      "  _warn_prf(average, modifier, msg_start, len(result))\n",
      "c:\\Users\\UX430\\anaconda3\\lib\\site-packages\\sklearn\\metrics\\_classification.py:1308: UndefinedMetricWarning: Precision and F-score are ill-defined and being set to 0.0 in labels with no predicted samples. Use `zero_division` parameter to control this behavior.\n",
      "  _warn_prf(average, modifier, msg_start, len(result))\n",
      "c:\\Users\\UX430\\anaconda3\\lib\\site-packages\\sklearn\\metrics\\_classification.py:1308: UndefinedMetricWarning: Precision and F-score are ill-defined and being set to 0.0 in labels with no predicted samples. Use `zero_division` parameter to control this behavior.\n",
      "  _warn_prf(average, modifier, msg_start, len(result))\n"
     ]
    },
    {
     "name": "stdout",
     "output_type": "stream",
     "text": [
      "756/756 [==============================] - 1s 1ms/step - loss: 0.0000e+00 - accuracy: 0.0121\n"
     ]
    },
    {
     "name": "stderr",
     "output_type": "stream",
     "text": [
      "c:\\Users\\UX430\\anaconda3\\lib\\site-packages\\sklearn\\metrics\\_classification.py:1308: UndefinedMetricWarning: Precision and F-score are ill-defined and being set to 0.0 in labels with no predicted samples. Use `zero_division` parameter to control this behavior.\n",
      "  _warn_prf(average, modifier, msg_start, len(result))\n",
      "c:\\Users\\UX430\\anaconda3\\lib\\site-packages\\sklearn\\metrics\\_classification.py:1308: UndefinedMetricWarning: Recall and F-score are ill-defined and being set to 0.0 in labels with no true samples. Use `zero_division` parameter to control this behavior.\n",
      "  _warn_prf(average, modifier, msg_start, len(result))\n",
      "c:\\Users\\UX430\\anaconda3\\lib\\site-packages\\sklearn\\metrics\\_classification.py:1308: UndefinedMetricWarning: Precision and F-score are ill-defined and being set to 0.0 in labels with no predicted samples. Use `zero_division` parameter to control this behavior.\n",
      "  _warn_prf(average, modifier, msg_start, len(result))\n",
      "c:\\Users\\UX430\\anaconda3\\lib\\site-packages\\sklearn\\metrics\\_classification.py:1308: UndefinedMetricWarning: Recall and F-score are ill-defined and being set to 0.0 in labels with no true samples. Use `zero_division` parameter to control this behavior.\n",
      "  _warn_prf(average, modifier, msg_start, len(result))\n",
      "c:\\Users\\UX430\\anaconda3\\lib\\site-packages\\sklearn\\metrics\\_classification.py:1308: UndefinedMetricWarning: Precision and F-score are ill-defined and being set to 0.0 in labels with no predicted samples. Use `zero_division` parameter to control this behavior.\n",
      "  _warn_prf(average, modifier, msg_start, len(result))\n",
      "c:\\Users\\UX430\\anaconda3\\lib\\site-packages\\sklearn\\metrics\\_classification.py:1308: UndefinedMetricWarning: Recall and F-score are ill-defined and being set to 0.0 in labels with no true samples. Use `zero_division` parameter to control this behavior.\n",
      "  _warn_prf(average, modifier, msg_start, len(result))\n"
     ]
    },
    {
     "name": "stdout",
     "output_type": "stream",
     "text": [
      "Epoch 1/10\n",
      "15/15 [==============================] - 1s 50ms/step - loss: 0.1353 - accuracy: 0.9673 - val_loss: 11.8431 - val_accuracy: 0.0033\n",
      "Epoch 2/10\n",
      "15/15 [==============================] - 1s 44ms/step - loss: 0.1333 - accuracy: 0.9672 - val_loss: 12.0208 - val_accuracy: 0.0033\n",
      "Epoch 3/10\n",
      "15/15 [==============================] - 1s 49ms/step - loss: 0.1323 - accuracy: 0.9676 - val_loss: 11.9756 - val_accuracy: 0.0025\n",
      "Epoch 4/10\n",
      "15/15 [==============================] - 1s 57ms/step - loss: 0.1320 - accuracy: 0.9675 - val_loss: 12.1427 - val_accuracy: 0.0025\n",
      "Epoch 5/10\n",
      "15/15 [==============================] - 1s 45ms/step - loss: 0.1317 - accuracy: 0.9676 - val_loss: 12.1572 - val_accuracy: 0.0025\n",
      "Epoch 6/10\n",
      "15/15 [==============================] - 1s 44ms/step - loss: 0.1314 - accuracy: 0.9677 - val_loss: 12.1580 - val_accuracy: 0.0025\n",
      "Epoch 7/10\n",
      "15/15 [==============================] - 1s 42ms/step - loss: 0.1311 - accuracy: 0.9676 - val_loss: 12.2337 - val_accuracy: 0.0033\n",
      "Epoch 8/10\n",
      "15/15 [==============================] - 1s 50ms/step - loss: 0.1307 - accuracy: 0.9676 - val_loss: 12.2764 - val_accuracy: 0.0025\n",
      "Epoch 9/10\n",
      "15/15 [==============================] - 1s 54ms/step - loss: 0.1308 - accuracy: 0.9677 - val_loss: 12.2882 - val_accuracy: 0.0025\n",
      "Epoch 10/10\n",
      "15/15 [==============================] - 1s 42ms/step - loss: 0.1306 - accuracy: 0.9676 - val_loss: 12.3080 - val_accuracy: 0.0033\n",
      "Epoch 1/10\n",
      "15/15 [==============================] - 1s 52ms/step - loss: 0.1281 - accuracy: 0.9687 - val_loss: 12.2098 - val_accuracy: 0.0055\n",
      "Epoch 2/10\n",
      "15/15 [==============================] - 1s 39ms/step - loss: 0.1266 - accuracy: 0.9690 - val_loss: 12.2771 - val_accuracy: 0.0038\n",
      "Epoch 3/10\n",
      "15/15 [==============================] - 1s 44ms/step - loss: 0.1261 - accuracy: 0.9690 - val_loss: 12.2083 - val_accuracy: 0.0052\n",
      "Epoch 4/10\n",
      "15/15 [==============================] - 1s 45ms/step - loss: 0.1252 - accuracy: 0.9693 - val_loss: 12.3124 - val_accuracy: 0.0047\n",
      "Epoch 5/10\n",
      "15/15 [==============================] - 1s 42ms/step - loss: 0.1243 - accuracy: 0.9691 - val_loss: 12.2747 - val_accuracy: 0.0049\n",
      "Epoch 6/10\n",
      "15/15 [==============================] - 1s 43ms/step - loss: 0.1243 - accuracy: 0.9693 - val_loss: 12.2912 - val_accuracy: 0.0052\n",
      "Epoch 7/10\n",
      "15/15 [==============================] - 1s 42ms/step - loss: 0.1241 - accuracy: 0.9692 - val_loss: 12.3242 - val_accuracy: 0.0044\n",
      "Epoch 8/10\n",
      "15/15 [==============================] - 1s 40ms/step - loss: 0.1239 - accuracy: 0.9693 - val_loss: 12.3328 - val_accuracy: 0.0052\n",
      "Epoch 9/10\n",
      "15/15 [==============================] - 1s 42ms/step - loss: 0.1233 - accuracy: 0.9694 - val_loss: 12.3945 - val_accuracy: 0.0052\n",
      "Epoch 10/10\n",
      "15/15 [==============================] - 1s 42ms/step - loss: 0.1234 - accuracy: 0.9692 - val_loss: 12.3880 - val_accuracy: 0.0052\n",
      "Epoch 1/10\n",
      "15/15 [==============================] - 1s 49ms/step - loss: 0.1262 - accuracy: 0.9691 - val_loss: 12.4165 - val_accuracy: 0.0041\n",
      "Epoch 2/10\n",
      "15/15 [==============================] - 1s 38ms/step - loss: 0.1253 - accuracy: 0.9692 - val_loss: 12.5974 - val_accuracy: 0.0036\n",
      "Epoch 3/10\n",
      "15/15 [==============================] - 1s 42ms/step - loss: 0.1242 - accuracy: 0.9692 - val_loss: 12.5491 - val_accuracy: 0.0033\n",
      "Epoch 4/10\n",
      "15/15 [==============================] - 1s 41ms/step - loss: 0.1239 - accuracy: 0.9692 - val_loss: 12.5319 - val_accuracy: 0.0036\n",
      "Epoch 5/10\n",
      "15/15 [==============================] - 1s 39ms/step - loss: 0.1235 - accuracy: 0.9692 - val_loss: 12.6440 - val_accuracy: 0.0033\n",
      "Epoch 6/10\n",
      "15/15 [==============================] - 1s 40ms/step - loss: 0.1229 - accuracy: 0.9693 - val_loss: 12.6332 - val_accuracy: 0.0030\n",
      "Epoch 7/10\n",
      "15/15 [==============================] - 1s 58ms/step - loss: 0.1229 - accuracy: 0.9693 - val_loss: 12.6846 - val_accuracy: 0.0033\n",
      "Epoch 8/10\n",
      "15/15 [==============================] - 1s 55ms/step - loss: 0.1227 - accuracy: 0.9694 - val_loss: 12.7191 - val_accuracy: 0.0030\n",
      "Epoch 9/10\n",
      "15/15 [==============================] - 1s 58ms/step - loss: 0.1221 - accuracy: 0.9696 - val_loss: 12.7237 - val_accuracy: 0.0030\n",
      "Epoch 10/10\n",
      "15/15 [==============================] - 1s 55ms/step - loss: 0.1220 - accuracy: 0.9696 - val_loss: 12.7847 - val_accuracy: 0.0030\n",
      "  21/2017 [..............................] - ETA: 8s - loss: 1.9738 - accuracy: 0.0997"
     ]
    },
    {
     "name": "stderr",
     "output_type": "stream",
     "text": [
      "c:\\Users\\UX430\\anaconda3\\lib\\site-packages\\numpy\\core\\_asarray.py:171: VisibleDeprecationWarning: Creating an ndarray from ragged nested sequences (which is a list-or-tuple of lists-or-tuples-or ndarrays with different lengths or shapes) is deprecated. If you meant to do this, you must specify 'dtype=object' when creating the ndarray.\n",
      "  return array(a, dtype, copy=False, order=order, subok=True)\n"
     ]
    },
    {
     "name": "stdout",
     "output_type": "stream",
     "text": [
      "2017/2017 [==============================] - 3s 2ms/step - loss: 1.9342 - accuracy: 0.1078\n",
      " 94/756 [==>...........................] - ETA: 0s - loss: 0.0000e+00 - accuracy: 0.0100  "
     ]
    },
    {
     "name": "stderr",
     "output_type": "stream",
     "text": [
      "c:\\Users\\UX430\\anaconda3\\lib\\site-packages\\sklearn\\metrics\\_classification.py:1308: UndefinedMetricWarning: Precision and F-score are ill-defined and being set to 0.0 in labels with no predicted samples. Use `zero_division` parameter to control this behavior.\n",
      "  _warn_prf(average, modifier, msg_start, len(result))\n",
      "c:\\Users\\UX430\\anaconda3\\lib\\site-packages\\sklearn\\metrics\\_classification.py:1308: UndefinedMetricWarning: Precision and F-score are ill-defined and being set to 0.0 in labels with no predicted samples. Use `zero_division` parameter to control this behavior.\n",
      "  _warn_prf(average, modifier, msg_start, len(result))\n",
      "c:\\Users\\UX430\\anaconda3\\lib\\site-packages\\sklearn\\metrics\\_classification.py:1308: UndefinedMetricWarning: Precision and F-score are ill-defined and being set to 0.0 in labels with no predicted samples. Use `zero_division` parameter to control this behavior.\n",
      "  _warn_prf(average, modifier, msg_start, len(result))\n"
     ]
    },
    {
     "name": "stdout",
     "output_type": "stream",
     "text": [
      "756/756 [==============================] - 1s 1ms/step - loss: 0.0000e+00 - accuracy: 0.0128\n"
     ]
    },
    {
     "name": "stderr",
     "output_type": "stream",
     "text": [
      "c:\\Users\\UX430\\anaconda3\\lib\\site-packages\\sklearn\\metrics\\_classification.py:1308: UndefinedMetricWarning: Precision and F-score are ill-defined and being set to 0.0 in labels with no predicted samples. Use `zero_division` parameter to control this behavior.\n",
      "  _warn_prf(average, modifier, msg_start, len(result))\n",
      "c:\\Users\\UX430\\anaconda3\\lib\\site-packages\\sklearn\\metrics\\_classification.py:1308: UndefinedMetricWarning: Recall and F-score are ill-defined and being set to 0.0 in labels with no true samples. Use `zero_division` parameter to control this behavior.\n",
      "  _warn_prf(average, modifier, msg_start, len(result))\n",
      "c:\\Users\\UX430\\anaconda3\\lib\\site-packages\\sklearn\\metrics\\_classification.py:1308: UndefinedMetricWarning: Precision and F-score are ill-defined and being set to 0.0 in labels with no predicted samples. Use `zero_division` parameter to control this behavior.\n",
      "  _warn_prf(average, modifier, msg_start, len(result))\n",
      "c:\\Users\\UX430\\anaconda3\\lib\\site-packages\\sklearn\\metrics\\_classification.py:1308: UndefinedMetricWarning: Recall and F-score are ill-defined and being set to 0.0 in labels with no true samples. Use `zero_division` parameter to control this behavior.\n",
      "  _warn_prf(average, modifier, msg_start, len(result))\n",
      "c:\\Users\\UX430\\anaconda3\\lib\\site-packages\\sklearn\\metrics\\_classification.py:1308: UndefinedMetricWarning: Precision and F-score are ill-defined and being set to 0.0 in labels with no predicted samples. Use `zero_division` parameter to control this behavior.\n",
      "  _warn_prf(average, modifier, msg_start, len(result))\n",
      "c:\\Users\\UX430\\anaconda3\\lib\\site-packages\\sklearn\\metrics\\_classification.py:1308: UndefinedMetricWarning: Recall and F-score are ill-defined and being set to 0.0 in labels with no true samples. Use `zero_division` parameter to control this behavior.\n",
      "  _warn_prf(average, modifier, msg_start, len(result))\n"
     ]
    },
    {
     "name": "stdout",
     "output_type": "stream",
     "text": [
      "Epoch 1/10\n",
      "15/15 [==============================] - 1s 60ms/step - loss: 0.1331 - accuracy: 0.9676 - val_loss: 12.4331 - val_accuracy: 0.0038\n",
      "Epoch 2/10\n",
      "15/15 [==============================] - 1s 44ms/step - loss: 0.1316 - accuracy: 0.9678 - val_loss: 12.6711 - val_accuracy: 0.0027\n",
      "Epoch 3/10\n",
      "15/15 [==============================] - 1s 57ms/step - loss: 0.1303 - accuracy: 0.9677 - val_loss: 12.5991 - val_accuracy: 0.0033\n",
      "Epoch 4/10\n",
      "15/15 [==============================] - 1s 40ms/step - loss: 0.1299 - accuracy: 0.9675 - val_loss: 12.7145 - val_accuracy: 0.0027\n",
      "Epoch 5/10\n",
      "15/15 [==============================] - 1s 43ms/step - loss: 0.1295 - accuracy: 0.9674 - val_loss: 12.7001 - val_accuracy: 0.0033\n",
      "Epoch 6/10\n",
      "15/15 [==============================] - 1s 43ms/step - loss: 0.1296 - accuracy: 0.9676 - val_loss: 12.7458 - val_accuracy: 0.0033\n",
      "Epoch 7/10\n",
      "15/15 [==============================] - 1s 47ms/step - loss: 0.1295 - accuracy: 0.9676 - val_loss: 12.7558 - val_accuracy: 0.0036\n",
      "Epoch 8/10\n",
      "15/15 [==============================] - 1s 50ms/step - loss: 0.1289 - accuracy: 0.9679 - val_loss: 12.7123 - val_accuracy: 0.0033\n",
      "Epoch 9/10\n",
      "15/15 [==============================] - 1s 50ms/step - loss: 0.1282 - accuracy: 0.9678 - val_loss: 12.8204 - val_accuracy: 0.0025\n",
      "Epoch 10/10\n",
      "15/15 [==============================] - 1s 45ms/step - loss: 0.1281 - accuracy: 0.9680 - val_loss: 12.8949 - val_accuracy: 0.0033\n",
      "Epoch 1/10\n",
      "15/15 [==============================] - 1s 54ms/step - loss: 0.1255 - accuracy: 0.9689 - val_loss: 12.8204 - val_accuracy: 0.0055\n",
      "Epoch 2/10\n",
      "15/15 [==============================] - 1s 40ms/step - loss: 0.1235 - accuracy: 0.9694 - val_loss: 12.6786 - val_accuracy: 0.0049\n",
      "Epoch 3/10\n",
      "15/15 [==============================] - 1s 52ms/step - loss: 0.1230 - accuracy: 0.9689 - val_loss: 12.7461 - val_accuracy: 0.0049\n",
      "Epoch 4/10\n",
      "15/15 [==============================] - 1s 48ms/step - loss: 0.1226 - accuracy: 0.9691 - val_loss: 12.7858 - val_accuracy: 0.0049\n",
      "Epoch 5/10\n",
      "15/15 [==============================] - 1s 47ms/step - loss: 0.1219 - accuracy: 0.9692 - val_loss: 12.7811 - val_accuracy: 0.0049\n",
      "Epoch 6/10\n",
      "15/15 [==============================] - 1s 47ms/step - loss: 0.1219 - accuracy: 0.9695 - val_loss: 12.7610 - val_accuracy: 0.0058\n",
      "Epoch 7/10\n",
      "15/15 [==============================] - 1s 54ms/step - loss: 0.1214 - accuracy: 0.9693 - val_loss: 12.8120 - val_accuracy: 0.0041\n",
      "Epoch 8/10\n",
      "15/15 [==============================] - 1s 45ms/step - loss: 0.1211 - accuracy: 0.9691 - val_loss: 12.8021 - val_accuracy: 0.0052\n",
      "Epoch 9/10\n",
      "15/15 [==============================] - 1s 45ms/step - loss: 0.1209 - accuracy: 0.9696 - val_loss: 12.8474 - val_accuracy: 0.0052\n",
      "Epoch 10/10\n",
      "15/15 [==============================] - ETA: 0s - loss: 0.1214 - accuracy: 0.96 - 1s 54ms/step - loss: 0.1210 - accuracy: 0.9696 - val_loss: 12.8058 - val_accuracy: 0.0052\n",
      "Epoch 1/10\n",
      "15/15 [==============================] - 1s 58ms/step - loss: 0.1249 - accuracy: 0.9693 - val_loss: 12.9753 - val_accuracy: 0.0041\n",
      "Epoch 2/10\n",
      "15/15 [==============================] - 1s 57ms/step - loss: 0.1229 - accuracy: 0.9693 - val_loss: 12.9684 - val_accuracy: 0.0036\n",
      "Epoch 3/10\n",
      "15/15 [==============================] - 1s 46ms/step - loss: 0.1223 - accuracy: 0.9694 - val_loss: 12.9421 - val_accuracy: 0.0036\n",
      "Epoch 4/10\n",
      "15/15 [==============================] - 1s 44ms/step - loss: 0.1218 - accuracy: 0.9698 - val_loss: 13.0203 - val_accuracy: 0.0036\n",
      "Epoch 5/10\n",
      "15/15 [==============================] - 1s 47ms/step - loss: 0.1212 - accuracy: 0.9696 - val_loss: 13.0549 - val_accuracy: 0.0036\n",
      "Epoch 6/10\n",
      "15/15 [==============================] - 1s 46ms/step - loss: 0.1208 - accuracy: 0.9696 - val_loss: 13.1094 - val_accuracy: 0.0036\n",
      "Epoch 7/10\n",
      "15/15 [==============================] - 1s 44ms/step - loss: 0.1210 - accuracy: 0.9696 - val_loss: 13.1349 - val_accuracy: 0.0030\n",
      "Epoch 8/10\n",
      "15/15 [==============================] - 1s 46ms/step - loss: 0.1204 - accuracy: 0.9697 - val_loss: 13.1158 - val_accuracy: 0.0036\n",
      "Epoch 9/10\n",
      "15/15 [==============================] - 1s 43ms/step - loss: 0.1203 - accuracy: 0.9696 - val_loss: 13.1220 - val_accuracy: 0.0030\n",
      "Epoch 10/10\n",
      "15/15 [==============================] - 1s 59ms/step - loss: 0.1198 - accuracy: 0.9698 - val_loss: 13.2054 - val_accuracy: 0.0033\n",
      "  79/2017 [>.............................] - ETA: 2s - loss: 1.9706 - accuracy: 0.1017"
     ]
    },
    {
     "name": "stderr",
     "output_type": "stream",
     "text": [
      "c:\\Users\\UX430\\anaconda3\\lib\\site-packages\\numpy\\core\\_asarray.py:171: VisibleDeprecationWarning: Creating an ndarray from ragged nested sequences (which is a list-or-tuple of lists-or-tuples-or ndarrays with different lengths or shapes) is deprecated. If you meant to do this, you must specify 'dtype=object' when creating the ndarray.\n",
      "  return array(a, dtype, copy=False, order=order, subok=True)\n"
     ]
    },
    {
     "name": "stdout",
     "output_type": "stream",
     "text": [
      "2017/2017 [==============================] - 3s 1ms/step - loss: 2.0032 - accuracy: 0.1079\n",
      " 72/756 [=>............................] - ETA: 0s - loss: 0.0000e+00 - accuracy: 0.0130  "
     ]
    },
    {
     "name": "stderr",
     "output_type": "stream",
     "text": [
      "c:\\Users\\UX430\\anaconda3\\lib\\site-packages\\sklearn\\metrics\\_classification.py:1308: UndefinedMetricWarning: Precision and F-score are ill-defined and being set to 0.0 in labels with no predicted samples. Use `zero_division` parameter to control this behavior.\n",
      "  _warn_prf(average, modifier, msg_start, len(result))\n",
      "c:\\Users\\UX430\\anaconda3\\lib\\site-packages\\sklearn\\metrics\\_classification.py:1308: UndefinedMetricWarning: Precision and F-score are ill-defined and being set to 0.0 in labels with no predicted samples. Use `zero_division` parameter to control this behavior.\n",
      "  _warn_prf(average, modifier, msg_start, len(result))\n",
      "c:\\Users\\UX430\\anaconda3\\lib\\site-packages\\sklearn\\metrics\\_classification.py:1308: UndefinedMetricWarning: Precision and F-score are ill-defined and being set to 0.0 in labels with no predicted samples. Use `zero_division` parameter to control this behavior.\n",
      "  _warn_prf(average, modifier, msg_start, len(result))\n"
     ]
    },
    {
     "name": "stdout",
     "output_type": "stream",
     "text": [
      "756/756 [==============================] - 1s 1ms/step - loss: 0.0000e+00 - accuracy: 0.0164\n"
     ]
    },
    {
     "name": "stderr",
     "output_type": "stream",
     "text": [
      "c:\\Users\\UX430\\anaconda3\\lib\\site-packages\\sklearn\\metrics\\_classification.py:1308: UndefinedMetricWarning: Precision and F-score are ill-defined and being set to 0.0 in labels with no predicted samples. Use `zero_division` parameter to control this behavior.\n",
      "  _warn_prf(average, modifier, msg_start, len(result))\n",
      "c:\\Users\\UX430\\anaconda3\\lib\\site-packages\\sklearn\\metrics\\_classification.py:1308: UndefinedMetricWarning: Recall and F-score are ill-defined and being set to 0.0 in labels with no true samples. Use `zero_division` parameter to control this behavior.\n",
      "  _warn_prf(average, modifier, msg_start, len(result))\n",
      "c:\\Users\\UX430\\anaconda3\\lib\\site-packages\\sklearn\\metrics\\_classification.py:1308: UndefinedMetricWarning: Precision and F-score are ill-defined and being set to 0.0 in labels with no predicted samples. Use `zero_division` parameter to control this behavior.\n",
      "  _warn_prf(average, modifier, msg_start, len(result))\n",
      "c:\\Users\\UX430\\anaconda3\\lib\\site-packages\\sklearn\\metrics\\_classification.py:1308: UndefinedMetricWarning: Recall and F-score are ill-defined and being set to 0.0 in labels with no true samples. Use `zero_division` parameter to control this behavior.\n",
      "  _warn_prf(average, modifier, msg_start, len(result))\n",
      "c:\\Users\\UX430\\anaconda3\\lib\\site-packages\\sklearn\\metrics\\_classification.py:1308: UndefinedMetricWarning: Precision and F-score are ill-defined and being set to 0.0 in labels with no predicted samples. Use `zero_division` parameter to control this behavior.\n",
      "  _warn_prf(average, modifier, msg_start, len(result))\n",
      "c:\\Users\\UX430\\anaconda3\\lib\\site-packages\\sklearn\\metrics\\_classification.py:1308: UndefinedMetricWarning: Recall and F-score are ill-defined and being set to 0.0 in labels with no true samples. Use `zero_division` parameter to control this behavior.\n",
      "  _warn_prf(average, modifier, msg_start, len(result))\n"
     ]
    },
    {
     "name": "stdout",
     "output_type": "stream",
     "text": [
      "Epoch 1/10\n",
      "15/15 [==============================] - 1s 48ms/step - loss: 0.1314 - accuracy: 0.9677 - val_loss: 13.0716 - val_accuracy: 0.0033\n",
      "Epoch 2/10\n",
      "15/15 [==============================] - 1s 40ms/step - loss: 0.1298 - accuracy: 0.9678 - val_loss: 12.9328 - val_accuracy: 0.0036\n",
      "Epoch 3/10\n",
      "15/15 [==============================] - 1s 39ms/step - loss: 0.1287 - accuracy: 0.9674 - val_loss: 13.0994 - val_accuracy: 0.0033\n",
      "Epoch 4/10\n",
      "15/15 [==============================] - 1s 42ms/step - loss: 0.1279 - accuracy: 0.9677 - val_loss: 13.1100 - val_accuracy: 0.0036\n",
      "Epoch 5/10\n",
      "15/15 [==============================] - 1s 47ms/step - loss: 0.1280 - accuracy: 0.9681 - val_loss: 13.1042 - val_accuracy: 0.0033\n",
      "Epoch 6/10\n",
      "15/15 [==============================] - 1s 39ms/step - loss: 0.1273 - accuracy: 0.9679 - val_loss: 13.1371 - val_accuracy: 0.0033\n",
      "Epoch 7/10\n",
      "15/15 [==============================] - 1s 39ms/step - loss: 0.1271 - accuracy: 0.9680 - val_loss: 13.1474 - val_accuracy: 0.0033\n",
      "Epoch 8/10\n",
      "15/15 [==============================] - 1s 43ms/step - loss: 0.1268 - accuracy: 0.9680 - val_loss: 13.2320 - val_accuracy: 0.0033\n",
      "Epoch 9/10\n",
      "15/15 [==============================] - 1s 39ms/step - loss: 0.1266 - accuracy: 0.9678 - val_loss: 13.2309 - val_accuracy: 0.0033\n",
      "Epoch 10/10\n",
      "15/15 [==============================] - 1s 38ms/step - loss: 0.1261 - accuracy: 0.9680 - val_loss: 13.2798 - val_accuracy: 0.0030\n",
      "Epoch 1/10\n",
      "15/15 [==============================] - 1s 51ms/step - loss: 0.1232 - accuracy: 0.9689 - val_loss: 13.1504 - val_accuracy: 0.0058\n",
      "Epoch 2/10\n",
      "15/15 [==============================] - 1s 38ms/step - loss: 0.1219 - accuracy: 0.9691 - val_loss: 13.1542 - val_accuracy: 0.0071\n",
      "Epoch 3/10\n",
      "15/15 [==============================] - 1s 40ms/step - loss: 0.1208 - accuracy: 0.9694 - val_loss: 13.1626 - val_accuracy: 0.0052\n",
      "Epoch 4/10\n",
      "15/15 [==============================] - 1s 44ms/step - loss: 0.1205 - accuracy: 0.9693 - val_loss: 13.1698 - val_accuracy: 0.0049\n",
      "Epoch 5/10\n",
      "15/15 [==============================] - 1s 44ms/step - loss: 0.1200 - accuracy: 0.9694 - val_loss: 13.1366 - val_accuracy: 0.0058\n",
      "Epoch 6/10\n",
      "15/15 [==============================] - 1s 49ms/step - loss: 0.1196 - accuracy: 0.9695 - val_loss: 13.2006 - val_accuracy: 0.0052\n",
      "Epoch 7/10\n",
      "15/15 [==============================] - 1s 47ms/step - loss: 0.1193 - accuracy: 0.9693 - val_loss: 13.2443 - val_accuracy: 0.0055\n",
      "Epoch 8/10\n",
      "15/15 [==============================] - 1s 45ms/step - loss: 0.1190 - accuracy: 0.9696 - val_loss: 13.2069 - val_accuracy: 0.0055\n",
      "Epoch 9/10\n",
      "15/15 [==============================] - 1s 44ms/step - loss: 0.1189 - accuracy: 0.9697 - val_loss: 13.2168 - val_accuracy: 0.0055\n",
      "Epoch 10/10\n",
      "15/15 [==============================] - 1s 43ms/step - loss: 0.1186 - accuracy: 0.9698 - val_loss: 13.2548 - val_accuracy: 0.0055\n",
      "Epoch 1/10\n",
      "15/15 [==============================] - 1s 59ms/step - loss: 0.1232 - accuracy: 0.9693 - val_loss: 13.3227 - val_accuracy: 0.0044\n",
      "Epoch 2/10\n",
      "15/15 [==============================] - 1s 44ms/step - loss: 0.1208 - accuracy: 0.9696 - val_loss: 13.2979 - val_accuracy: 0.0038\n",
      "Epoch 3/10\n",
      "15/15 [==============================] - 1s 49ms/step - loss: 0.1202 - accuracy: 0.9697 - val_loss: 13.3453 - val_accuracy: 0.0036\n",
      "Epoch 4/10\n",
      "15/15 [==============================] - 1s 43ms/step - loss: 0.1198 - accuracy: 0.9695 - val_loss: 13.3912 - val_accuracy: 0.0036\n",
      "Epoch 5/10\n",
      "15/15 [==============================] - 1s 40ms/step - loss: 0.1195 - accuracy: 0.9694 - val_loss: 13.3813 - val_accuracy: 0.0036\n",
      "Epoch 6/10\n",
      "15/15 [==============================] - 1s 39ms/step - loss: 0.1191 - accuracy: 0.9698 - val_loss: 13.3449 - val_accuracy: 0.0036\n",
      "Epoch 7/10\n",
      "15/15 [==============================] - 1s 49ms/step - loss: 0.1189 - accuracy: 0.9699 - val_loss: 13.3445 - val_accuracy: 0.0030\n",
      "Epoch 8/10\n",
      "15/15 [==============================] - 1s 48ms/step - loss: 0.1184 - accuracy: 0.9697 - val_loss: 13.3911 - val_accuracy: 0.0033\n",
      "Epoch 9/10\n",
      "15/15 [==============================] - 1s 42ms/step - loss: 0.1184 - accuracy: 0.9698 - val_loss: 13.4066 - val_accuracy: 0.0030\n",
      "Epoch 10/10\n",
      "15/15 [==============================] - 1s 51ms/step - loss: 0.1183 - accuracy: 0.9699 - val_loss: 13.3638 - val_accuracy: 0.0036\n",
      "  68/2017 [>.............................] - ETA: 2s - loss: 2.0419 - accuracy: 0.1071"
     ]
    },
    {
     "name": "stderr",
     "output_type": "stream",
     "text": [
      "c:\\Users\\UX430\\anaconda3\\lib\\site-packages\\numpy\\core\\_asarray.py:171: VisibleDeprecationWarning: Creating an ndarray from ragged nested sequences (which is a list-or-tuple of lists-or-tuples-or ndarrays with different lengths or shapes) is deprecated. If you meant to do this, you must specify 'dtype=object' when creating the ndarray.\n",
      "  return array(a, dtype, copy=False, order=order, subok=True)\n"
     ]
    },
    {
     "name": "stdout",
     "output_type": "stream",
     "text": [
      "2017/2017 [==============================] - 3s 1ms/step - loss: 2.0565 - accuracy: 0.1080\n",
      " 79/756 [==>...........................] - ETA: 0s - loss: 0.0000e+00 - accuracy: 0.0150  "
     ]
    },
    {
     "name": "stderr",
     "output_type": "stream",
     "text": [
      "c:\\Users\\UX430\\anaconda3\\lib\\site-packages\\sklearn\\metrics\\_classification.py:1308: UndefinedMetricWarning: Precision and F-score are ill-defined and being set to 0.0 in labels with no predicted samples. Use `zero_division` parameter to control this behavior.\n",
      "  _warn_prf(average, modifier, msg_start, len(result))\n",
      "c:\\Users\\UX430\\anaconda3\\lib\\site-packages\\sklearn\\metrics\\_classification.py:1308: UndefinedMetricWarning: Precision and F-score are ill-defined and being set to 0.0 in labels with no predicted samples. Use `zero_division` parameter to control this behavior.\n",
      "  _warn_prf(average, modifier, msg_start, len(result))\n",
      "c:\\Users\\UX430\\anaconda3\\lib\\site-packages\\sklearn\\metrics\\_classification.py:1308: UndefinedMetricWarning: Precision and F-score are ill-defined and being set to 0.0 in labels with no predicted samples. Use `zero_division` parameter to control this behavior.\n",
      "  _warn_prf(average, modifier, msg_start, len(result))\n"
     ]
    },
    {
     "name": "stdout",
     "output_type": "stream",
     "text": [
      "756/756 [==============================] - 1s 1ms/step - loss: 0.0000e+00 - accuracy: 0.0187: 0s - loss: 0.0000e+00 - accuracy: \n"
     ]
    },
    {
     "name": "stderr",
     "output_type": "stream",
     "text": [
      "c:\\Users\\UX430\\anaconda3\\lib\\site-packages\\sklearn\\metrics\\_classification.py:1308: UndefinedMetricWarning: Precision and F-score are ill-defined and being set to 0.0 in labels with no predicted samples. Use `zero_division` parameter to control this behavior.\n",
      "  _warn_prf(average, modifier, msg_start, len(result))\n",
      "c:\\Users\\UX430\\anaconda3\\lib\\site-packages\\sklearn\\metrics\\_classification.py:1308: UndefinedMetricWarning: Recall and F-score are ill-defined and being set to 0.0 in labels with no true samples. Use `zero_division` parameter to control this behavior.\n",
      "  _warn_prf(average, modifier, msg_start, len(result))\n",
      "c:\\Users\\UX430\\anaconda3\\lib\\site-packages\\sklearn\\metrics\\_classification.py:1308: UndefinedMetricWarning: Precision and F-score are ill-defined and being set to 0.0 in labels with no predicted samples. Use `zero_division` parameter to control this behavior.\n",
      "  _warn_prf(average, modifier, msg_start, len(result))\n",
      "c:\\Users\\UX430\\anaconda3\\lib\\site-packages\\sklearn\\metrics\\_classification.py:1308: UndefinedMetricWarning: Recall and F-score are ill-defined and being set to 0.0 in labels with no true samples. Use `zero_division` parameter to control this behavior.\n",
      "  _warn_prf(average, modifier, msg_start, len(result))\n",
      "c:\\Users\\UX430\\anaconda3\\lib\\site-packages\\sklearn\\metrics\\_classification.py:1308: UndefinedMetricWarning: Precision and F-score are ill-defined and being set to 0.0 in labels with no predicted samples. Use `zero_division` parameter to control this behavior.\n",
      "  _warn_prf(average, modifier, msg_start, len(result))\n",
      "c:\\Users\\UX430\\anaconda3\\lib\\site-packages\\sklearn\\metrics\\_classification.py:1308: UndefinedMetricWarning: Recall and F-score are ill-defined and being set to 0.0 in labels with no true samples. Use `zero_division` parameter to control this behavior.\n",
      "  _warn_prf(average, modifier, msg_start, len(result))\n"
     ]
    },
    {
     "name": "stdout",
     "output_type": "stream",
     "text": [
      "Epoch 1/10\n",
      "15/15 [==============================] - 1s 57ms/step - loss: 0.1296 - accuracy: 0.9678 - val_loss: 13.1870 - val_accuracy: 0.0036\n",
      "Epoch 2/10\n",
      "15/15 [==============================] - 1s 50ms/step - loss: 0.1275 - accuracy: 0.9679 - val_loss: 13.1829 - val_accuracy: 0.0038\n",
      "Epoch 3/10\n",
      "15/15 [==============================] - 1s 52ms/step - loss: 0.1269 - accuracy: 0.9678 - val_loss: 13.3434 - val_accuracy: 0.0033\n",
      "Epoch 4/10\n",
      "15/15 [==============================] - 1s 45ms/step - loss: 0.1268 - accuracy: 0.9680 - val_loss: 13.3191 - val_accuracy: 0.0036\n",
      "Epoch 5/10\n",
      "15/15 [==============================] - 1s 44ms/step - loss: 0.1256 - accuracy: 0.9680 - val_loss: 13.3677 - val_accuracy: 0.0033\n",
      "Epoch 6/10\n",
      "15/15 [==============================] - 1s 40ms/step - loss: 0.1253 - accuracy: 0.9680 - val_loss: 13.3619 - val_accuracy: 0.0033\n",
      "Epoch 7/10\n",
      "15/15 [==============================] - 1s 40ms/step - loss: 0.1255 - accuracy: 0.9682 - val_loss: 13.3909 - val_accuracy: 0.0033\n",
      "Epoch 8/10\n",
      "15/15 [==============================] - 1s 41ms/step - loss: 0.1250 - accuracy: 0.9683 - val_loss: 13.4412 - val_accuracy: 0.0033\n",
      "Epoch 9/10\n",
      "15/15 [==============================] - 1s 49ms/step - loss: 0.1249 - accuracy: 0.9682 - val_loss: 13.5542 - val_accuracy: 0.0036\n",
      "Epoch 10/10\n",
      "15/15 [==============================] - 1s 48ms/step - loss: 0.1244 - accuracy: 0.9685 - val_loss: 13.4206 - val_accuracy: 0.0036\n",
      "Epoch 1/10\n",
      "15/15 [==============================] - 1s 58ms/step - loss: 0.1219 - accuracy: 0.9693 - val_loss: 13.2951 - val_accuracy: 0.0066\n",
      "Epoch 2/10\n",
      "15/15 [==============================] - 1s 51ms/step - loss: 0.1198 - accuracy: 0.9694 - val_loss: 13.4046 - val_accuracy: 0.0052\n",
      "Epoch 3/10\n",
      "15/15 [==============================] - 1s 42ms/step - loss: 0.1188 - accuracy: 0.9698 - val_loss: 13.3012 - val_accuracy: 0.0060\n",
      "Epoch 4/10\n",
      "15/15 [==============================] - 1s 41ms/step - loss: 0.1182 - accuracy: 0.9697 - val_loss: 13.3650 - val_accuracy: 0.0058\n",
      "Epoch 5/10\n",
      "15/15 [==============================] - 1s 42ms/step - loss: 0.1179 - accuracy: 0.9698 - val_loss: 13.3529 - val_accuracy: 0.0055\n",
      "Epoch 6/10\n",
      "15/15 [==============================] - 1s 47ms/step - loss: 0.1175 - accuracy: 0.9697 - val_loss: 13.2786 - val_accuracy: 0.0052\n",
      "Epoch 7/10\n",
      "15/15 [==============================] - 1s 53ms/step - loss: 0.1174 - accuracy: 0.9698 - val_loss: 13.4234 - val_accuracy: 0.0055\n",
      "Epoch 8/10\n",
      "15/15 [==============================] - 1s 46ms/step - loss: 0.1171 - accuracy: 0.9698 - val_loss: 13.3325 - val_accuracy: 0.0066\n",
      "Epoch 9/10\n",
      "15/15 [==============================] - 1s 41ms/step - loss: 0.1173 - accuracy: 0.9699 - val_loss: 13.4278 - val_accuracy: 0.0055\n",
      "Epoch 10/10\n",
      "15/15 [==============================] - 1s 40ms/step - loss: 0.1162 - accuracy: 0.9698 - val_loss: 13.3180 - val_accuracy: 0.0055\n",
      "Epoch 1/10\n",
      "15/15 [==============================] - 1s 54ms/step - loss: 0.1215 - accuracy: 0.9691 - val_loss: 13.4118 - val_accuracy: 0.0044\n",
      "Epoch 2/10\n",
      "15/15 [==============================] - 1s 38ms/step - loss: 0.1198 - accuracy: 0.9696 - val_loss: 13.4709 - val_accuracy: 0.0041\n",
      "Epoch 3/10\n",
      "15/15 [==============================] - 1s 42ms/step - loss: 0.1188 - accuracy: 0.9697 - val_loss: 13.4713 - val_accuracy: 0.0036\n",
      "Epoch 4/10\n",
      "15/15 [==============================] - 1s 44ms/step - loss: 0.1184 - accuracy: 0.9699 - val_loss: 13.5064 - val_accuracy: 0.0036\n",
      "Epoch 5/10\n",
      "15/15 [==============================] - 1s 42ms/step - loss: 0.1179 - accuracy: 0.9698 - val_loss: 13.5248 - val_accuracy: 0.0036\n",
      "Epoch 6/10\n",
      "15/15 [==============================] - 1s 40ms/step - loss: 0.1174 - accuracy: 0.9700 - val_loss: 13.5523 - val_accuracy: 0.0038\n",
      "Epoch 7/10\n",
      "15/15 [==============================] - 1s 45ms/step - loss: 0.1173 - accuracy: 0.9698 - val_loss: 13.4827 - val_accuracy: 0.0036\n",
      "Epoch 8/10\n",
      "15/15 [==============================] - 1s 44ms/step - loss: 0.1172 - accuracy: 0.9700 - val_loss: 13.5525 - val_accuracy: 0.0038\n",
      "Epoch 9/10\n",
      "15/15 [==============================] - 1s 42ms/step - loss: 0.1167 - accuracy: 0.9701 - val_loss: 13.5626 - val_accuracy: 0.0036\n",
      "Epoch 10/10\n",
      "15/15 [==============================] - 1s 51ms/step - loss: 0.1169 - accuracy: 0.9702 - val_loss: 13.5447 - val_accuracy: 0.0038\n",
      "  64/2017 [..............................] - ETA: 3s - loss: 2.0293 - accuracy: 0.1074"
     ]
    },
    {
     "name": "stderr",
     "output_type": "stream",
     "text": [
      "c:\\Users\\UX430\\anaconda3\\lib\\site-packages\\numpy\\core\\_asarray.py:171: VisibleDeprecationWarning: Creating an ndarray from ragged nested sequences (which is a list-or-tuple of lists-or-tuples-or ndarrays with different lengths or shapes) is deprecated. If you meant to do this, you must specify 'dtype=object' when creating the ndarray.\n",
      "  return array(a, dtype, copy=False, order=order, subok=True)\n"
     ]
    },
    {
     "name": "stdout",
     "output_type": "stream",
     "text": [
      "2017/2017 [==============================] - 3s 1ms/step - loss: 2.0528 - accuracy: 0.1080\n",
      " 38/756 [>.............................] - ETA: 0s - loss: 0.0000e+00 - accuracy: 0.0156    "
     ]
    },
    {
     "name": "stderr",
     "output_type": "stream",
     "text": [
      "c:\\Users\\UX430\\anaconda3\\lib\\site-packages\\sklearn\\metrics\\_classification.py:1308: UndefinedMetricWarning: Precision and F-score are ill-defined and being set to 0.0 in labels with no predicted samples. Use `zero_division` parameter to control this behavior.\n",
      "  _warn_prf(average, modifier, msg_start, len(result))\n",
      "c:\\Users\\UX430\\anaconda3\\lib\\site-packages\\sklearn\\metrics\\_classification.py:1308: UndefinedMetricWarning: Precision and F-score are ill-defined and being set to 0.0 in labels with no predicted samples. Use `zero_division` parameter to control this behavior.\n",
      "  _warn_prf(average, modifier, msg_start, len(result))\n",
      "c:\\Users\\UX430\\anaconda3\\lib\\site-packages\\sklearn\\metrics\\_classification.py:1308: UndefinedMetricWarning: Precision and F-score are ill-defined and being set to 0.0 in labels with no predicted samples. Use `zero_division` parameter to control this behavior.\n",
      "  _warn_prf(average, modifier, msg_start, len(result))\n"
     ]
    },
    {
     "name": "stdout",
     "output_type": "stream",
     "text": [
      "756/756 [==============================] - 1s 1ms/step - loss: 0.0000e+00 - accuracy: 0.0196: 0s - loss: 0.0000e+00 - \n"
     ]
    },
    {
     "name": "stderr",
     "output_type": "stream",
     "text": [
      "c:\\Users\\UX430\\anaconda3\\lib\\site-packages\\sklearn\\metrics\\_classification.py:1308: UndefinedMetricWarning: Precision and F-score are ill-defined and being set to 0.0 in labels with no predicted samples. Use `zero_division` parameter to control this behavior.\n",
      "  _warn_prf(average, modifier, msg_start, len(result))\n",
      "c:\\Users\\UX430\\anaconda3\\lib\\site-packages\\sklearn\\metrics\\_classification.py:1308: UndefinedMetricWarning: Recall and F-score are ill-defined and being set to 0.0 in labels with no true samples. Use `zero_division` parameter to control this behavior.\n",
      "  _warn_prf(average, modifier, msg_start, len(result))\n",
      "c:\\Users\\UX430\\anaconda3\\lib\\site-packages\\sklearn\\metrics\\_classification.py:1308: UndefinedMetricWarning: Precision and F-score are ill-defined and being set to 0.0 in labels with no predicted samples. Use `zero_division` parameter to control this behavior.\n",
      "  _warn_prf(average, modifier, msg_start, len(result))\n",
      "c:\\Users\\UX430\\anaconda3\\lib\\site-packages\\sklearn\\metrics\\_classification.py:1308: UndefinedMetricWarning: Recall and F-score are ill-defined and being set to 0.0 in labels with no true samples. Use `zero_division` parameter to control this behavior.\n",
      "  _warn_prf(average, modifier, msg_start, len(result))\n",
      "c:\\Users\\UX430\\anaconda3\\lib\\site-packages\\sklearn\\metrics\\_classification.py:1308: UndefinedMetricWarning: Precision and F-score are ill-defined and being set to 0.0 in labels with no predicted samples. Use `zero_division` parameter to control this behavior.\n",
      "  _warn_prf(average, modifier, msg_start, len(result))\n",
      "c:\\Users\\UX430\\anaconda3\\lib\\site-packages\\sklearn\\metrics\\_classification.py:1308: UndefinedMetricWarning: Recall and F-score are ill-defined and being set to 0.0 in labels with no true samples. Use `zero_division` parameter to control this behavior.\n",
      "  _warn_prf(average, modifier, msg_start, len(result))\n"
     ]
    },
    {
     "name": "stdout",
     "output_type": "stream",
     "text": [
      "Epoch 1/10\n",
      "15/15 [==============================] - 1s 57ms/step - loss: 0.1281 - accuracy: 0.9679 - val_loss: 13.4112 - val_accuracy: 0.0038\n",
      "Epoch 2/10\n",
      "15/15 [==============================] - 1s 41ms/step - loss: 0.1263 - accuracy: 0.9682 - val_loss: 13.4025 - val_accuracy: 0.0038\n",
      "Epoch 3/10\n",
      "15/15 [==============================] - 1s 41ms/step - loss: 0.1254 - accuracy: 0.9688 - val_loss: 13.4715 - val_accuracy: 0.0036\n",
      "Epoch 4/10\n",
      "15/15 [==============================] - 1s 43ms/step - loss: 0.1247 - accuracy: 0.9689 - val_loss: 13.4674 - val_accuracy: 0.0036\n",
      "Epoch 5/10\n",
      "15/15 [==============================] - 1s 44ms/step - loss: 0.1246 - accuracy: 0.9685 - val_loss: 13.5717 - val_accuracy: 0.0025\n",
      "Epoch 6/10\n",
      "15/15 [==============================] - 1s 48ms/step - loss: 0.1248 - accuracy: 0.9689 - val_loss: 13.4778 - val_accuracy: 0.0036\n",
      "Epoch 7/10\n",
      "15/15 [==============================] - 1s 44ms/step - loss: 0.1242 - accuracy: 0.9686 - val_loss: 13.5958 - val_accuracy: 0.0036\n",
      "Epoch 8/10\n",
      "15/15 [==============================] - 1s 39ms/step - loss: 0.1234 - accuracy: 0.9689 - val_loss: 13.4946 - val_accuracy: 0.0036\n",
      "Epoch 9/10\n",
      "15/15 [==============================] - 1s 39ms/step - loss: 0.1232 - accuracy: 0.9687 - val_loss: 13.5227 - val_accuracy: 0.0036\n",
      "Epoch 10/10\n",
      "15/15 [==============================] - 1s 43ms/step - loss: 0.1228 - accuracy: 0.9690 - val_loss: 13.5717 - val_accuracy: 0.0036\n",
      "Epoch 1/10\n",
      "15/15 [==============================] - 1s 51ms/step - loss: 0.1195 - accuracy: 0.9697 - val_loss: 13.4810 - val_accuracy: 0.0063\n",
      "Epoch 2/10\n",
      "15/15 [==============================] - 1s 42ms/step - loss: 0.1180 - accuracy: 0.9700 - val_loss: 13.5730 - val_accuracy: 0.0049\n",
      "Epoch 3/10\n",
      "15/15 [==============================] - 1s 53ms/step - loss: 0.1175 - accuracy: 0.9698 - val_loss: 13.4174 - val_accuracy: 0.0074\n",
      "Epoch 4/10\n",
      "15/15 [==============================] - 1s 43ms/step - loss: 0.1165 - accuracy: 0.9700 - val_loss: 13.4406 - val_accuracy: 0.0058\n",
      "Epoch 5/10\n",
      "15/15 [==============================] - 1s 42ms/step - loss: 0.1166 - accuracy: 0.9697 - val_loss: 13.6105 - val_accuracy: 0.0055\n",
      "Epoch 6/10\n",
      "15/15 [==============================] - 1s 41ms/step - loss: 0.1162 - accuracy: 0.9698 - val_loss: 13.4841 - val_accuracy: 0.0063\n",
      "Epoch 7/10\n",
      "15/15 [==============================] - 1s 41ms/step - loss: 0.1155 - accuracy: 0.9700 - val_loss: 13.5166 - val_accuracy: 0.0060\n",
      "Epoch 8/10\n",
      "15/15 [==============================] - 1s 45ms/step - loss: 0.1155 - accuracy: 0.9700 - val_loss: 13.5352 - val_accuracy: 0.0055\n",
      "Epoch 9/10\n",
      "15/15 [==============================] - 1s 50ms/step - loss: 0.1150 - accuracy: 0.9699 - val_loss: 13.4776 - val_accuracy: 0.0060\n",
      "Epoch 10/10\n",
      "15/15 [==============================] - 1s 44ms/step - loss: 0.1149 - accuracy: 0.9700 - val_loss: 13.5599 - val_accuracy: 0.0060\n",
      "Epoch 1/10\n",
      "15/15 [==============================] - 1s 56ms/step - loss: 0.1199 - accuracy: 0.9693 - val_loss: 13.7169 - val_accuracy: 0.0041\n",
      "Epoch 2/10\n",
      "15/15 [==============================] - 1s 44ms/step - loss: 0.1185 - accuracy: 0.9700 - val_loss: 13.5398 - val_accuracy: 0.0038\n",
      "Epoch 3/10\n",
      "15/15 [==============================] - 1s 44ms/step - loss: 0.1178 - accuracy: 0.9700 - val_loss: 13.6291 - val_accuracy: 0.0036\n",
      "Epoch 4/10\n",
      "15/15 [==============================] - 1s 43ms/step - loss: 0.1172 - accuracy: 0.9699 - val_loss: 13.5999 - val_accuracy: 0.0036\n",
      "Epoch 5/10\n",
      "15/15 [==============================] - 1s 54ms/step - loss: 0.1163 - accuracy: 0.9699 - val_loss: 13.6637 - val_accuracy: 0.0036\n",
      "Epoch 6/10\n",
      "15/15 [==============================] - 1s 45ms/step - loss: 0.1160 - accuracy: 0.9700 - val_loss: 13.6797 - val_accuracy: 0.0036\n",
      "Epoch 7/10\n",
      "15/15 [==============================] - 1s 43ms/step - loss: 0.1157 - accuracy: 0.9702 - val_loss: 13.6977 - val_accuracy: 0.0036\n",
      "Epoch 8/10\n",
      "15/15 [==============================] - 1s 45ms/step - loss: 0.1153 - accuracy: 0.9699 - val_loss: 13.7445 - val_accuracy: 0.0036\n",
      "Epoch 9/10\n",
      "15/15 [==============================] - 1s 40ms/step - loss: 0.1153 - accuracy: 0.9702 - val_loss: 13.6737 - val_accuracy: 0.0038\n",
      "Epoch 10/10\n",
      "15/15 [==============================] - 1s 42ms/step - loss: 0.1150 - accuracy: 0.9699 - val_loss: 13.7526 - val_accuracy: 0.0041\n",
      "  66/2017 [..............................] - ETA: 3s - loss: 2.0825 - accuracy: 0.1061"
     ]
    },
    {
     "name": "stderr",
     "output_type": "stream",
     "text": [
      "c:\\Users\\UX430\\anaconda3\\lib\\site-packages\\numpy\\core\\_asarray.py:171: VisibleDeprecationWarning: Creating an ndarray from ragged nested sequences (which is a list-or-tuple of lists-or-tuples-or ndarrays with different lengths or shapes) is deprecated. If you meant to do this, you must specify 'dtype=object' when creating the ndarray.\n",
      "  return array(a, dtype, copy=False, order=order, subok=True)\n"
     ]
    },
    {
     "name": "stdout",
     "output_type": "stream",
     "text": [
      "2017/2017 [==============================] - 3s 1ms/step - loss: 2.1101 - accuracy: 0.1079\n",
      " 86/756 [==>...........................] - ETA: 0s - loss: 0.0000e+00 - accuracy: 0.0156  "
     ]
    },
    {
     "name": "stderr",
     "output_type": "stream",
     "text": [
      "c:\\Users\\UX430\\anaconda3\\lib\\site-packages\\sklearn\\metrics\\_classification.py:1308: UndefinedMetricWarning: Precision and F-score are ill-defined and being set to 0.0 in labels with no predicted samples. Use `zero_division` parameter to control this behavior.\n",
      "  _warn_prf(average, modifier, msg_start, len(result))\n",
      "c:\\Users\\UX430\\anaconda3\\lib\\site-packages\\sklearn\\metrics\\_classification.py:1308: UndefinedMetricWarning: Precision and F-score are ill-defined and being set to 0.0 in labels with no predicted samples. Use `zero_division` parameter to control this behavior.\n",
      "  _warn_prf(average, modifier, msg_start, len(result))\n",
      "c:\\Users\\UX430\\anaconda3\\lib\\site-packages\\sklearn\\metrics\\_classification.py:1308: UndefinedMetricWarning: Precision and F-score are ill-defined and being set to 0.0 in labels with no predicted samples. Use `zero_division` parameter to control this behavior.\n",
      "  _warn_prf(average, modifier, msg_start, len(result))\n"
     ]
    },
    {
     "name": "stdout",
     "output_type": "stream",
     "text": [
      "756/756 [==============================] - 1s 1ms/step - loss: 0.0000e+00 - accuracy: 0.0268\n"
     ]
    },
    {
     "name": "stderr",
     "output_type": "stream",
     "text": [
      "c:\\Users\\UX430\\anaconda3\\lib\\site-packages\\sklearn\\metrics\\_classification.py:1308: UndefinedMetricWarning: Precision and F-score are ill-defined and being set to 0.0 in labels with no predicted samples. Use `zero_division` parameter to control this behavior.\n",
      "  _warn_prf(average, modifier, msg_start, len(result))\n",
      "c:\\Users\\UX430\\anaconda3\\lib\\site-packages\\sklearn\\metrics\\_classification.py:1308: UndefinedMetricWarning: Recall and F-score are ill-defined and being set to 0.0 in labels with no true samples. Use `zero_division` parameter to control this behavior.\n",
      "  _warn_prf(average, modifier, msg_start, len(result))\n",
      "c:\\Users\\UX430\\anaconda3\\lib\\site-packages\\sklearn\\metrics\\_classification.py:1308: UndefinedMetricWarning: Precision and F-score are ill-defined and being set to 0.0 in labels with no predicted samples. Use `zero_division` parameter to control this behavior.\n",
      "  _warn_prf(average, modifier, msg_start, len(result))\n",
      "c:\\Users\\UX430\\anaconda3\\lib\\site-packages\\sklearn\\metrics\\_classification.py:1308: UndefinedMetricWarning: Recall and F-score are ill-defined and being set to 0.0 in labels with no true samples. Use `zero_division` parameter to control this behavior.\n",
      "  _warn_prf(average, modifier, msg_start, len(result))\n",
      "c:\\Users\\UX430\\anaconda3\\lib\\site-packages\\sklearn\\metrics\\_classification.py:1308: UndefinedMetricWarning: Precision and F-score are ill-defined and being set to 0.0 in labels with no predicted samples. Use `zero_division` parameter to control this behavior.\n",
      "  _warn_prf(average, modifier, msg_start, len(result))\n",
      "c:\\Users\\UX430\\anaconda3\\lib\\site-packages\\sklearn\\metrics\\_classification.py:1308: UndefinedMetricWarning: Recall and F-score are ill-defined and being set to 0.0 in labels with no true samples. Use `zero_division` parameter to control this behavior.\n",
      "  _warn_prf(average, modifier, msg_start, len(result))\n"
     ]
    },
    {
     "name": "stdout",
     "output_type": "stream",
     "text": [
      "Epoch 1/10\n",
      "15/15 [==============================] - 1s 53ms/step - loss: 0.1267 - accuracy: 0.9690 - val_loss: 13.6265 - val_accuracy: 0.0038\n",
      "Epoch 2/10\n",
      "15/15 [==============================] - 1s 42ms/step - loss: 0.1244 - accuracy: 0.9690 - val_loss: 13.6457 - val_accuracy: 0.0038\n",
      "Epoch 3/10\n",
      "15/15 [==============================] - 1s 45ms/step - loss: 0.1239 - accuracy: 0.9690 - val_loss: 13.6268 - val_accuracy: 0.0038\n",
      "Epoch 4/10\n",
      "15/15 [==============================] - 1s 45ms/step - loss: 0.1234 - accuracy: 0.9689 - val_loss: 13.7117 - val_accuracy: 0.0025\n",
      "Epoch 5/10\n",
      "15/15 [==============================] - 1s 54ms/step - loss: 0.1227 - accuracy: 0.9689 - val_loss: 13.5600 - val_accuracy: 0.0036\n",
      "Epoch 6/10\n",
      "15/15 [==============================] - 1s 42ms/step - loss: 0.1225 - accuracy: 0.9690 - val_loss: 13.7399 - val_accuracy: 0.0036\n",
      "Epoch 7/10\n",
      "15/15 [==============================] - 1s 44ms/step - loss: 0.1225 - accuracy: 0.9690 - val_loss: 13.7156 - val_accuracy: 0.0036\n",
      "Epoch 8/10\n",
      "15/15 [==============================] - 1s 42ms/step - loss: 0.1218 - accuracy: 0.9690 - val_loss: 13.6783 - val_accuracy: 0.0038\n",
      "Epoch 9/10\n",
      "15/15 [==============================] - 1s 44ms/step - loss: 0.1220 - accuracy: 0.9690 - val_loss: 13.7565 - val_accuracy: 0.0027\n",
      "Epoch 10/10\n",
      "15/15 [==============================] - 1s 45ms/step - loss: 0.1216 - accuracy: 0.9692 - val_loss: 13.7125 - val_accuracy: 0.0036\n",
      "Epoch 1/10\n",
      "15/15 [==============================] - 1s 55ms/step - loss: 0.1186 - accuracy: 0.9697 - val_loss: 13.5560 - val_accuracy: 0.0066\n",
      "Epoch 2/10\n",
      "15/15 [==============================] - 1s 40ms/step - loss: 0.1168 - accuracy: 0.9700 - val_loss: 13.6487 - val_accuracy: 0.0063\n",
      "Epoch 3/10\n",
      "15/15 [==============================] - 1s 44ms/step - loss: 0.1157 - accuracy: 0.9702 - val_loss: 13.5481 - val_accuracy: 0.0058\n",
      "Epoch 4/10\n",
      "15/15 [==============================] - 1s 41ms/step - loss: 0.1151 - accuracy: 0.9701 - val_loss: 13.5712 - val_accuracy: 0.0052\n",
      "Epoch 5/10\n",
      "15/15 [==============================] - 1s 39ms/step - loss: 0.1147 - accuracy: 0.9702 - val_loss: 13.6680 - val_accuracy: 0.0069\n",
      "Epoch 6/10\n",
      "15/15 [==============================] - 1s 41ms/step - loss: 0.1146 - accuracy: 0.9702 - val_loss: 13.5966 - val_accuracy: 0.0060\n",
      "Epoch 7/10\n",
      "15/15 [==============================] - 1s 46ms/step - loss: 0.1142 - accuracy: 0.9705 - val_loss: 13.6713 - val_accuracy: 0.0058\n",
      "Epoch 8/10\n",
      "15/15 [==============================] - 1s 54ms/step - loss: 0.1142 - accuracy: 0.9707 - val_loss: 13.7394 - val_accuracy: 0.0058\n",
      "Epoch 9/10\n",
      "15/15 [==============================] - 1s 43ms/step - loss: 0.1135 - accuracy: 0.9702 - val_loss: 13.6787 - val_accuracy: 0.0058\n",
      "Epoch 10/10\n",
      "15/15 [==============================] - 1s 41ms/step - loss: 0.1135 - accuracy: 0.9706 - val_loss: 13.7361 - val_accuracy: 0.0060\n",
      "Epoch 1/10\n",
      "15/15 [==============================] - 1s 53ms/step - loss: 0.1187 - accuracy: 0.9700 - val_loss: 13.8271 - val_accuracy: 0.0044\n",
      "Epoch 2/10\n",
      "15/15 [==============================] - 1s 45ms/step - loss: 0.1168 - accuracy: 0.9702 - val_loss: 13.7963 - val_accuracy: 0.0041\n",
      "Epoch 3/10\n",
      "15/15 [==============================] - 1s 52ms/step - loss: 0.1161 - accuracy: 0.9701 - val_loss: 13.8003 - val_accuracy: 0.0038\n",
      "Epoch 4/10\n",
      "15/15 [==============================] - 1s 49ms/step - loss: 0.1154 - accuracy: 0.9704 - val_loss: 13.7881 - val_accuracy: 0.0036\n",
      "Epoch 5/10\n",
      "15/15 [==============================] - 1s 45ms/step - loss: 0.1153 - accuracy: 0.9702 - val_loss: 13.8309 - val_accuracy: 0.0038\n",
      "Epoch 6/10\n",
      "15/15 [==============================] - 1s 46ms/step - loss: 0.1144 - accuracy: 0.9704 - val_loss: 13.6973 - val_accuracy: 0.0041\n",
      "Epoch 7/10\n",
      "15/15 [==============================] - 1s 43ms/step - loss: 0.1143 - accuracy: 0.9706 - val_loss: 13.8017 - val_accuracy: 0.0036\n",
      "Epoch 8/10\n",
      "15/15 [==============================] - 1s 44ms/step - loss: 0.1139 - accuracy: 0.9705 - val_loss: 13.8132 - val_accuracy: 0.0036\n",
      "Epoch 9/10\n",
      "15/15 [==============================] - 1s 41ms/step - loss: 0.1139 - accuracy: 0.9705 - val_loss: 13.7990 - val_accuracy: 0.0038\n",
      "Epoch 10/10\n",
      "15/15 [==============================] - 1s 52ms/step - loss: 0.1134 - accuracy: 0.9702 - val_loss: 13.7896 - val_accuracy: 0.0036\n",
      "  64/2017 [..............................] - ETA: 3s - loss: 2.1087 - accuracy: 0.1069"
     ]
    },
    {
     "name": "stderr",
     "output_type": "stream",
     "text": [
      "c:\\Users\\UX430\\anaconda3\\lib\\site-packages\\numpy\\core\\_asarray.py:171: VisibleDeprecationWarning: Creating an ndarray from ragged nested sequences (which is a list-or-tuple of lists-or-tuples-or ndarrays with different lengths or shapes) is deprecated. If you meant to do this, you must specify 'dtype=object' when creating the ndarray.\n",
      "  return array(a, dtype, copy=False, order=order, subok=True)\n"
     ]
    },
    {
     "name": "stdout",
     "output_type": "stream",
     "text": [
      "2017/2017 [==============================] - 3s 1ms/step - loss: 2.1310 - accuracy: 0.1079: 0s - loss: 2\n",
      " 84/756 [==>...........................] - ETA: 0s - loss: 0.0000e+00 - accuracy: 0.0264  "
     ]
    },
    {
     "name": "stderr",
     "output_type": "stream",
     "text": [
      "c:\\Users\\UX430\\anaconda3\\lib\\site-packages\\sklearn\\metrics\\_classification.py:1308: UndefinedMetricWarning: Precision and F-score are ill-defined and being set to 0.0 in labels with no predicted samples. Use `zero_division` parameter to control this behavior.\n",
      "  _warn_prf(average, modifier, msg_start, len(result))\n",
      "c:\\Users\\UX430\\anaconda3\\lib\\site-packages\\sklearn\\metrics\\_classification.py:1308: UndefinedMetricWarning: Precision and F-score are ill-defined and being set to 0.0 in labels with no predicted samples. Use `zero_division` parameter to control this behavior.\n",
      "  _warn_prf(average, modifier, msg_start, len(result))\n",
      "c:\\Users\\UX430\\anaconda3\\lib\\site-packages\\sklearn\\metrics\\_classification.py:1308: UndefinedMetricWarning: Precision and F-score are ill-defined and being set to 0.0 in labels with no predicted samples. Use `zero_division` parameter to control this behavior.\n",
      "  _warn_prf(average, modifier, msg_start, len(result))\n"
     ]
    },
    {
     "name": "stdout",
     "output_type": "stream",
     "text": [
      "756/756 [==============================] - 1s 1ms/step - loss: 0.0000e+00 - accuracy: 0.0305\n"
     ]
    },
    {
     "name": "stderr",
     "output_type": "stream",
     "text": [
      "c:\\Users\\UX430\\anaconda3\\lib\\site-packages\\sklearn\\metrics\\_classification.py:1308: UndefinedMetricWarning: Precision and F-score are ill-defined and being set to 0.0 in labels with no predicted samples. Use `zero_division` parameter to control this behavior.\n",
      "  _warn_prf(average, modifier, msg_start, len(result))\n",
      "c:\\Users\\UX430\\anaconda3\\lib\\site-packages\\sklearn\\metrics\\_classification.py:1308: UndefinedMetricWarning: Recall and F-score are ill-defined and being set to 0.0 in labels with no true samples. Use `zero_division` parameter to control this behavior.\n",
      "  _warn_prf(average, modifier, msg_start, len(result))\n",
      "c:\\Users\\UX430\\anaconda3\\lib\\site-packages\\sklearn\\metrics\\_classification.py:1308: UndefinedMetricWarning: Precision and F-score are ill-defined and being set to 0.0 in labels with no predicted samples. Use `zero_division` parameter to control this behavior.\n",
      "  _warn_prf(average, modifier, msg_start, len(result))\n",
      "c:\\Users\\UX430\\anaconda3\\lib\\site-packages\\sklearn\\metrics\\_classification.py:1308: UndefinedMetricWarning: Recall and F-score are ill-defined and being set to 0.0 in labels with no true samples. Use `zero_division` parameter to control this behavior.\n",
      "  _warn_prf(average, modifier, msg_start, len(result))\n",
      "c:\\Users\\UX430\\anaconda3\\lib\\site-packages\\sklearn\\metrics\\_classification.py:1308: UndefinedMetricWarning: Precision and F-score are ill-defined and being set to 0.0 in labels with no predicted samples. Use `zero_division` parameter to control this behavior.\n",
      "  _warn_prf(average, modifier, msg_start, len(result))\n",
      "c:\\Users\\UX430\\anaconda3\\lib\\site-packages\\sklearn\\metrics\\_classification.py:1308: UndefinedMetricWarning: Recall and F-score are ill-defined and being set to 0.0 in labels with no true samples. Use `zero_division` parameter to control this behavior.\n",
      "  _warn_prf(average, modifier, msg_start, len(result))\n"
     ]
    }
   ],
   "source": [
    "# Values saved each iteration \n",
    "loss_it = []\n",
    "accuracy_it = []\n",
    "f1_it = []\n",
    "precision_it = []\n",
    "recall_it = []\n",
    "\n",
    "for i in range(global_updates): \n",
    "    gradients_list = []\n",
    "    for node in range(num_nodes): \n",
    "        cp = global_model # create a copy of the global model\n",
    "        if node == 0:\n",
    "            x, y = x1, y1\n",
    "        elif node == 1:\n",
    "            x, y = x2, y2\n",
    "        else:\n",
    "            x, y = x3, y3\n",
    "        local_model, local_loss, local_acc, local_val_loss, local_val_acc = train_local_model(cp, node, x, y)\n",
    "        with tf.GradientTape() as tape: \n",
    "            predictions = local_model(x)\n",
    "            loss = tf.keras.losses.categorical_crossentropy(y, predictions)\n",
    "        gradients = tape.gradient(loss, local_model.trainable_variables)\n",
    "        gradients_list.append(gradients)\n",
    "\n",
    "    avg_grad = aggregate(gradients_list)\n",
    "    optimizer.apply_gradients(zip(avg_grad, global_model.trainable_variables)) # apply gradients to global model\n",
    "    loss_basic, accuracy_basic, f1_basic, precision_basic, recall_basic = evaluation(global_model, xbasic, ybasic) \n",
    "    loss_plus, accuracy_plus, f1_plus, precision_plus, recall_plus = evaluation(global_model, xplus, yplus)\n",
    "\n",
    "    loss_it.append([loss_basic, loss_plus])\n",
    "    accuracy_it.append([accuracy_basic, accuracy_plus])\n",
    "    f1_it.append([f1_basic, f1_plus])\n",
    "    precision_it.append([precision_basic, precision_plus])\n",
    "    recall_it.append([recall_basic, recall_plus])\n",
    "\n",
    "\n",
    "\n",
    "global_model.save('C:/Users/UX430/Documents/thesis/code/models/id010.hdf5')"
   ]
  },
  {
   "cell_type": "code",
   "execution_count": 59,
   "metadata": {},
   "outputs": [
    {
     "name": "stdout",
     "output_type": "stream",
     "text": [
      "Loss for iterations:  [[1.0246622562408447, 0.0], [1.4416749477386475, 0.0], [1.683904767036438, 0.0], [1.8431316614151, 0.0], [1.9341689348220825, 0.0], [2.0031845569610596, 0.0], [2.056488275527954, 0.0], [2.0527660846710205, 0.0], [2.110060453414917, 0.0], [2.130955934524536, 0.0]]\n",
      "Accuracy for iterations:  [[0.8624372482299805, 0.02183532528579235], [0.35324570536613464, 0.015714816749095917], [0.10781821608543396, 0.017327653244137764], [0.10784921795129776, 0.012116950936615467], [0.10784921795129776, 0.012778627686202526], [0.10789571702480316, 0.016376493498682976], [0.10801971703767776, 0.018692361190915108], [0.10801971703767776, 0.019643520936369896], [0.10794221609830856, 0.026839254423975945], [0.10792671889066696, 0.03051983006298542]]\n",
      "F1 for iterations:  [[0.8570724759480345, 0.04273746408191347], [0.40902853126000055, 0.030943365498147468], [0.023505237229824536, 0.034065040650406504], [0.025493754426870276, 0.023943777069543187], [0.02583190357047961, 0.025234789710085748], [0.027597362271349204, 0.03222525125116979], [0.045842545767548, 0.03669873746600089], [0.05181344486521725, 0.03853017521090201], [0.05198407185485033, 0.0522754732178816], [0.05208407471889875, 0.059231911392913034]]\n",
      "Precision for iterations:  [[0.8821994108215618, 1.0], [0.8485574719235704, 1.0], [0.42899542835552756, 1.0], [0.43025707167844096, 1.0], [0.41236796149838106, 1.0], [0.4635406500233281, 1.0], [0.44465679693099314, 1.0], [0.4874650254721315, 1.0], [0.44983374185506897, 1.0], [0.4611144929067433, 1.0]]\n",
      "Recall for iterations:  [[0.8624372248744497, 0.021835325255365783], [0.35324570649141296, 0.015714817418634466], [0.10781821563643128, 0.01732765394317853], [0.1078492156984314, 0.012116951325420785], [0.1078492156984314, 0.012778627848310657], [0.10789571579143158, 0.016376493941524337], [0.10801971603943208, 0.01869236177163889], [0.10801971603943208, 0.019643521773293083], [0.10794221588443177, 0.026839253959720442], [0.1079267158534317, 0.030519829618295354]]\n"
     ]
    }
   ],
   "source": [
    "print(\"Loss for iterations: \", loss_it)\n",
    "print(\"Accuracy for iterations: \", accuracy_it)\n",
    "print(\"F1 for iterations: \", f1_it)\n",
    "print(\"Precision for iterations: \", precision_it)\n",
    "print(\"Recall for iterations: \", recall_it)"
   ]
  },
  {
   "cell_type": "markdown",
   "metadata": {},
   "source": [
    "#### #Epochs = 5, #Iterations = 5"
   ]
  },
  {
   "cell_type": "code",
   "execution_count": 60,
   "metadata": {},
   "outputs": [],
   "source": [
    "# Load training datasets and testing datasets \n",
    "training1 = pd.read_csv('C:/Users/UX430/Documents/thesis/datasets/UNSW-NB15/UNSW-NB15-Train-Basic-Cat3B-Part1.csv')\n",
    "training2 = pd.read_csv('C:/Users/UX430/Documents/thesis/datasets/UNSW-NB15/UNSW-NB15-Train-Basic-Cat3B-Part2.csv')\n",
    "training3 = pd.read_csv('C:/Users/UX430/Documents/thesis/datasets/UNSW-NB15/UNSW-NB15-Train-Basic-Cat3B-Part3.csv')"
   ]
  },
  {
   "cell_type": "code",
   "execution_count": 61,
   "metadata": {},
   "outputs": [],
   "source": [
    "# Define \n",
    "node_datasets = [training1, training2, training3]\n",
    "num_nodes = 3\n",
    "global_updates = 5\n",
    "\n",
    "# Define model training parameters\n",
    "loss_fct = \"categorical_crossentropy\"\n",
    "metrics = ['accuracy']\n",
    "local_epochs = 5"
   ]
  },
  {
   "cell_type": "code",
   "execution_count": 62,
   "metadata": {},
   "outputs": [],
   "source": [
    "def train_local_model(model, node, x_train, y_train): \n",
    "    filepath = 'C:/Users/UX430/Documents/thesis/code/models/node'+str(node)+'id011.hdf5'\n",
    "    callbacks = [\n",
    "            keras.callbacks.EarlyStopping(\n",
    "                monitor = 'val_loss', # Use accuracy to monitor the model\n",
    "                patience = 10 # Stop after 10 steps with lower accuracy\n",
    "            ),\n",
    "            keras.callbacks.ModelCheckpoint(\n",
    "                filepath = filepath, # file where the checkpoint is saved\n",
    "                monitor = 'val_loss', # Don't overwrite the saved model unless val_loss is worse\n",
    "                save_best_only = True)]# Only save model if it is the best\n",
    "    optimizer = keras.optimizers.Adam(learning_rate=1e-4)\n",
    "    model.compile(optimizer=optimizer, loss=loss_fct, metrics=metrics)\n",
    "    history = model.fit(x_train, y_train, epochs=local_epochs, validation_split=0.2, callbacks=callbacks, batch_size=1024)\n",
    "    return model, history.history['loss'], history.history['accuracy'], history.history['val_loss'], history.history['val_accuracy']"
   ]
  },
  {
   "cell_type": "code",
   "execution_count": 63,
   "metadata": {},
   "outputs": [],
   "source": [
    "def aggregate(grad_list):\n",
    "    avg_grad = np.mean(grad_list, axis=0)\n",
    "    return avg_grad"
   ]
  },
  {
   "cell_type": "code",
   "execution_count": 64,
   "metadata": {},
   "outputs": [],
   "source": [
    "global_model = build_model((24,1,1))"
   ]
  },
  {
   "cell_type": "code",
   "execution_count": 65,
   "metadata": {},
   "outputs": [],
   "source": [
    "x1, y1 = preprocessing(training1)\n",
    "x2, y2 = preprocessing(training2)\n",
    "x3, y3 = preprocessing(training3)\n"
   ]
  },
  {
   "cell_type": "code",
   "execution_count": 66,
   "metadata": {},
   "outputs": [],
   "source": [
    "optimizer = keras.optimizers.Adam(learning_rate=1e-4)"
   ]
  },
  {
   "cell_type": "code",
   "execution_count": 67,
   "metadata": {},
   "outputs": [
    {
     "name": "stdout",
     "output_type": "stream",
     "text": [
      "Epoch 1/5\n",
      "15/15 [==============================] - 1s 55ms/step - loss: 1.3763 - accuracy: 0.3948 - val_loss: 1.3997 - val_accuracy: 0.0489\n",
      "Epoch 2/5\n",
      "15/15 [==============================] - 1s 42ms/step - loss: 0.6559 - accuracy: 0.9176 - val_loss: 1.4343 - val_accuracy: 0.0027\n",
      "Epoch 3/5\n",
      "15/15 [==============================] - 1s 42ms/step - loss: 0.3593 - accuracy: 0.9532 - val_loss: 1.4677 - val_accuracy: 0.0019\n",
      "Epoch 4/5\n",
      "15/15 [==============================] - 1s 41ms/step - loss: 0.2545 - accuracy: 0.9544 - val_loss: 1.4967 - val_accuracy: 0.0014\n",
      "Epoch 5/5\n",
      "15/15 [==============================] - 1s 41ms/step - loss: 0.2151 - accuracy: 0.9564 - val_loss: 1.5228 - val_accuracy: 0.0011\n",
      "Epoch 1/5\n",
      "15/15 [==============================] - 1s 58ms/step - loss: 0.1838 - accuracy: 0.9619 - val_loss: 1.5861 - val_accuracy: 0.0019\n",
      "Epoch 2/5\n",
      "15/15 [==============================] - 1s 45ms/step - loss: 0.1692 - accuracy: 0.9627 - val_loss: 1.6404 - val_accuracy: 0.0022\n",
      "Epoch 3/5\n",
      "15/15 [==============================] - 1s 56ms/step - loss: 0.1633 - accuracy: 0.9634 - val_loss: 1.6959 - val_accuracy: 0.0011\n",
      "Epoch 4/5\n",
      "15/15 [==============================] - 1s 45ms/step - loss: 0.1593 - accuracy: 0.9635 - val_loss: 1.7505 - val_accuracy: 0.0016\n",
      "Epoch 5/5\n",
      "15/15 [==============================] - 1s 43ms/step - loss: 0.1563 - accuracy: 0.9636 - val_loss: 1.8067 - val_accuracy: 0.0019\n",
      "Epoch 1/5\n",
      "15/15 [==============================] - 1s 60ms/step - loss: 0.1533 - accuracy: 0.9643 - val_loss: 1.8871 - val_accuracy: 8.2463e-04\n",
      "Epoch 2/5\n",
      "15/15 [==============================] - 1s 46ms/step - loss: 0.1502 - accuracy: 0.9648 - val_loss: 1.9539 - val_accuracy: 5.4975e-04\n",
      "Epoch 3/5\n",
      "15/15 [==============================] - 1s 43ms/step - loss: 0.1472 - accuracy: 0.9649 - val_loss: 2.0463 - val_accuracy: 0.0011\n",
      "Epoch 4/5\n",
      "15/15 [==============================] - 1s 52ms/step - loss: 0.1453 - accuracy: 0.9649 - val_loss: 2.1356 - val_accuracy: 0.0011\n",
      "Epoch 5/5\n",
      "15/15 [==============================] - 1s 42ms/step - loss: 0.1442 - accuracy: 0.9652 - val_loss: 2.2329 - val_accuracy: 0.0016\n",
      "  74/2017 [>.............................] - ETA: 2s - loss: 1.0775 - accuracy: 0.8746"
     ]
    },
    {
     "name": "stderr",
     "output_type": "stream",
     "text": [
      "c:\\Users\\UX430\\anaconda3\\lib\\site-packages\\numpy\\core\\_asarray.py:171: VisibleDeprecationWarning: Creating an ndarray from ragged nested sequences (which is a list-or-tuple of lists-or-tuples-or ndarrays with different lengths or shapes) is deprecated. If you meant to do this, you must specify 'dtype=object' when creating the ndarray.\n",
      "  return array(a, dtype, copy=False, order=order, subok=True)\n"
     ]
    },
    {
     "name": "stdout",
     "output_type": "stream",
     "text": [
      "2017/2017 [==============================] - 3s 1ms/step - loss: 1.0814 - accuracy: 0.8679\n",
      " 76/756 [==>...........................] - ETA: 0s - loss: 0.0000e+00 - accuracy: 0.0181"
     ]
    },
    {
     "name": "stderr",
     "output_type": "stream",
     "text": [
      "c:\\Users\\UX430\\anaconda3\\lib\\site-packages\\sklearn\\metrics\\_classification.py:1308: UndefinedMetricWarning: Precision and F-score are ill-defined and being set to 0.0 in labels with no predicted samples. Use `zero_division` parameter to control this behavior.\n",
      "  _warn_prf(average, modifier, msg_start, len(result))\n",
      "c:\\Users\\UX430\\anaconda3\\lib\\site-packages\\sklearn\\metrics\\_classification.py:1308: UndefinedMetricWarning: Precision and F-score are ill-defined and being set to 0.0 in labels with no predicted samples. Use `zero_division` parameter to control this behavior.\n",
      "  _warn_prf(average, modifier, msg_start, len(result))\n",
      "c:\\Users\\UX430\\anaconda3\\lib\\site-packages\\sklearn\\metrics\\_classification.py:1308: UndefinedMetricWarning: Precision and F-score are ill-defined and being set to 0.0 in labels with no predicted samples. Use `zero_division` parameter to control this behavior.\n",
      "  _warn_prf(average, modifier, msg_start, len(result))\n"
     ]
    },
    {
     "name": "stdout",
     "output_type": "stream",
     "text": [
      "756/756 [==============================] - 1s 1ms/step - loss: 0.0000e+00 - accuracy: 0.0085: 0s - loss: 0.0\n"
     ]
    },
    {
     "name": "stderr",
     "output_type": "stream",
     "text": [
      "c:\\Users\\UX430\\anaconda3\\lib\\site-packages\\sklearn\\metrics\\_classification.py:1308: UndefinedMetricWarning: Precision and F-score are ill-defined and being set to 0.0 in labels with no predicted samples. Use `zero_division` parameter to control this behavior.\n",
      "  _warn_prf(average, modifier, msg_start, len(result))\n",
      "c:\\Users\\UX430\\anaconda3\\lib\\site-packages\\sklearn\\metrics\\_classification.py:1308: UndefinedMetricWarning: Recall and F-score are ill-defined and being set to 0.0 in labels with no true samples. Use `zero_division` parameter to control this behavior.\n",
      "  _warn_prf(average, modifier, msg_start, len(result))\n",
      "c:\\Users\\UX430\\anaconda3\\lib\\site-packages\\sklearn\\metrics\\_classification.py:1308: UndefinedMetricWarning: Precision and F-score are ill-defined and being set to 0.0 in labels with no predicted samples. Use `zero_division` parameter to control this behavior.\n",
      "  _warn_prf(average, modifier, msg_start, len(result))\n",
      "c:\\Users\\UX430\\anaconda3\\lib\\site-packages\\sklearn\\metrics\\_classification.py:1308: UndefinedMetricWarning: Recall and F-score are ill-defined and being set to 0.0 in labels with no true samples. Use `zero_division` parameter to control this behavior.\n",
      "  _warn_prf(average, modifier, msg_start, len(result))\n",
      "c:\\Users\\UX430\\anaconda3\\lib\\site-packages\\sklearn\\metrics\\_classification.py:1308: UndefinedMetricWarning: Precision and F-score are ill-defined and being set to 0.0 in labels with no predicted samples. Use `zero_division` parameter to control this behavior.\n",
      "  _warn_prf(average, modifier, msg_start, len(result))\n",
      "c:\\Users\\UX430\\anaconda3\\lib\\site-packages\\sklearn\\metrics\\_classification.py:1308: UndefinedMetricWarning: Recall and F-score are ill-defined and being set to 0.0 in labels with no true samples. Use `zero_division` parameter to control this behavior.\n",
      "  _warn_prf(average, modifier, msg_start, len(result))\n"
     ]
    },
    {
     "name": "stdout",
     "output_type": "stream",
     "text": [
      "Epoch 1/5\n",
      "15/15 [==============================] - 1s 67ms/step - loss: 0.1533 - accuracy: 0.9632 - val_loss: 2.3429 - val_accuracy: 0.0011\n",
      "Epoch 2/5\n",
      "15/15 [==============================] - 1s 60ms/step - loss: 0.1513 - accuracy: 0.9634 - val_loss: 2.4607 - val_accuracy: 0.0011\n",
      "Epoch 3/5\n",
      "15/15 [==============================] - 1s 48ms/step - loss: 0.1498 - accuracy: 0.9638 - val_loss: 2.5890 - val_accuracy: 0.0011\n",
      "Epoch 4/5\n",
      "15/15 [==============================] - 1s 45ms/step - loss: 0.1487 - accuracy: 0.9639 - val_loss: 2.7331 - val_accuracy: 0.0011\n",
      "Epoch 5/5\n",
      "15/15 [==============================] - 1s 43ms/step - loss: 0.1478 - accuracy: 0.9645 - val_loss: 2.8867 - val_accuracy: 0.0011\n",
      "Epoch 1/5\n",
      "15/15 [==============================] - 1s 56ms/step - loss: 0.1435 - accuracy: 0.9671 - val_loss: 3.0706 - val_accuracy: 0.0016\n",
      "Epoch 2/5\n",
      "15/15 [==============================] - 1s 44ms/step - loss: 0.1414 - accuracy: 0.9672 - val_loss: 3.2625 - val_accuracy: 0.0019\n",
      "Epoch 3/5\n",
      "15/15 [==============================] - 1s 44ms/step - loss: 0.1407 - accuracy: 0.9675 - val_loss: 3.4367 - val_accuracy: 0.0019\n",
      "Epoch 4/5\n",
      "15/15 [==============================] - 1s 59ms/step - loss: 0.1399 - accuracy: 0.9676 - val_loss: 3.6523 - val_accuracy: 0.0014\n",
      "Epoch 5/5\n",
      "15/15 [==============================] - 1s 45ms/step - loss: 0.1391 - accuracy: 0.9673 - val_loss: 3.8831 - val_accuracy: 0.0011\n",
      "Epoch 1/5\n",
      "15/15 [==============================] - 1s 54ms/step - loss: 0.1401 - accuracy: 0.9673 - val_loss: 4.1577 - val_accuracy: 8.2463e-04\n",
      "Epoch 2/5\n",
      "15/15 [==============================] - 1s 44ms/step - loss: 0.1378 - accuracy: 0.9676 - val_loss: 4.4188 - val_accuracy: 0.0016\n",
      "Epoch 3/5\n",
      "15/15 [==============================] - 1s 47ms/step - loss: 0.1373 - accuracy: 0.9678 - val_loss: 4.6830 - val_accuracy: 0.0016\n",
      "Epoch 4/5\n",
      "15/15 [==============================] - 1s 45ms/step - loss: 0.1367 - accuracy: 0.9679 - val_loss: 4.9691 - val_accuracy: 0.0016\n",
      "Epoch 5/5\n",
      "15/15 [==============================] - 1s 58ms/step - loss: 0.1363 - accuracy: 0.9680 - val_loss: 5.2356 - val_accuracy: 0.0030\n",
      "  62/2017 [..............................] - ETA: 3s - loss: 0.9496 - accuracy: 0.8700"
     ]
    },
    {
     "name": "stderr",
     "output_type": "stream",
     "text": [
      "c:\\Users\\UX430\\anaconda3\\lib\\site-packages\\numpy\\core\\_asarray.py:171: VisibleDeprecationWarning: Creating an ndarray from ragged nested sequences (which is a list-or-tuple of lists-or-tuples-or ndarrays with different lengths or shapes) is deprecated. If you meant to do this, you must specify 'dtype=object' when creating the ndarray.\n",
      "  return array(a, dtype, copy=False, order=order, subok=True)\n"
     ]
    },
    {
     "name": "stdout",
     "output_type": "stream",
     "text": [
      "2017/2017 [==============================] - 3s 2ms/step - loss: 0.9628 - accuracy: 0.8638\n",
      " 72/756 [=>............................] - ETA: 0s - loss: 0.0000e+00 - accuracy: 0.0035  "
     ]
    },
    {
     "name": "stderr",
     "output_type": "stream",
     "text": [
      "c:\\Users\\UX430\\anaconda3\\lib\\site-packages\\sklearn\\metrics\\_classification.py:1308: UndefinedMetricWarning: Precision and F-score are ill-defined and being set to 0.0 in labels with no predicted samples. Use `zero_division` parameter to control this behavior.\n",
      "  _warn_prf(average, modifier, msg_start, len(result))\n",
      "c:\\Users\\UX430\\anaconda3\\lib\\site-packages\\sklearn\\metrics\\_classification.py:1308: UndefinedMetricWarning: Precision and F-score are ill-defined and being set to 0.0 in labels with no predicted samples. Use `zero_division` parameter to control this behavior.\n",
      "  _warn_prf(average, modifier, msg_start, len(result))\n",
      "c:\\Users\\UX430\\anaconda3\\lib\\site-packages\\sklearn\\metrics\\_classification.py:1308: UndefinedMetricWarning: Precision and F-score are ill-defined and being set to 0.0 in labels with no predicted samples. Use `zero_division` parameter to control this behavior.\n",
      "  _warn_prf(average, modifier, msg_start, len(result))\n"
     ]
    },
    {
     "name": "stdout",
     "output_type": "stream",
     "text": [
      "756/756 [==============================] - 1s 2ms/step - loss: 0.0000e+00 - accuracy: 0.0085: 0s - loss: 0.0000e+00 - ac\n"
     ]
    },
    {
     "name": "stderr",
     "output_type": "stream",
     "text": [
      "c:\\Users\\UX430\\anaconda3\\lib\\site-packages\\sklearn\\metrics\\_classification.py:1308: UndefinedMetricWarning: Precision and F-score are ill-defined and being set to 0.0 in labels with no predicted samples. Use `zero_division` parameter to control this behavior.\n",
      "  _warn_prf(average, modifier, msg_start, len(result))\n",
      "c:\\Users\\UX430\\anaconda3\\lib\\site-packages\\sklearn\\metrics\\_classification.py:1308: UndefinedMetricWarning: Recall and F-score are ill-defined and being set to 0.0 in labels with no true samples. Use `zero_division` parameter to control this behavior.\n",
      "  _warn_prf(average, modifier, msg_start, len(result))\n",
      "c:\\Users\\UX430\\anaconda3\\lib\\site-packages\\sklearn\\metrics\\_classification.py:1308: UndefinedMetricWarning: Precision and F-score are ill-defined and being set to 0.0 in labels with no predicted samples. Use `zero_division` parameter to control this behavior.\n",
      "  _warn_prf(average, modifier, msg_start, len(result))\n",
      "c:\\Users\\UX430\\anaconda3\\lib\\site-packages\\sklearn\\metrics\\_classification.py:1308: UndefinedMetricWarning: Recall and F-score are ill-defined and being set to 0.0 in labels with no true samples. Use `zero_division` parameter to control this behavior.\n",
      "  _warn_prf(average, modifier, msg_start, len(result))\n",
      "c:\\Users\\UX430\\anaconda3\\lib\\site-packages\\sklearn\\metrics\\_classification.py:1308: UndefinedMetricWarning: Precision and F-score are ill-defined and being set to 0.0 in labels with no predicted samples. Use `zero_division` parameter to control this behavior.\n",
      "  _warn_prf(average, modifier, msg_start, len(result))\n",
      "c:\\Users\\UX430\\anaconda3\\lib\\site-packages\\sklearn\\metrics\\_classification.py:1308: UndefinedMetricWarning: Recall and F-score are ill-defined and being set to 0.0 in labels with no true samples. Use `zero_division` parameter to control this behavior.\n",
      "  _warn_prf(average, modifier, msg_start, len(result))\n"
     ]
    },
    {
     "name": "stdout",
     "output_type": "stream",
     "text": [
      "Epoch 1/5\n",
      "15/15 [==============================] - 1s 69ms/step - loss: 0.1472 - accuracy: 0.9665 - val_loss: 5.4484 - val_accuracy: 0.0014\n",
      "Epoch 2/5\n",
      "15/15 [==============================] - 1s 44ms/step - loss: 0.1452 - accuracy: 0.9665 - val_loss: 5.6885 - val_accuracy: 0.0011\n",
      "Epoch 3/5\n",
      "15/15 [==============================] - 1s 58ms/step - loss: 0.1446 - accuracy: 0.9667 - val_loss: 5.9131 - val_accuracy: 0.0011\n",
      "Epoch 4/5\n",
      "15/15 [==============================] - 1s 56ms/step - loss: 0.1438 - accuracy: 0.9667 - val_loss: 6.2119 - val_accuracy: 0.0011\n",
      "Epoch 5/5\n",
      "15/15 [==============================] - 1s 51ms/step - loss: 0.1435 - accuracy: 0.9668 - val_loss: 6.4036 - val_accuracy: 0.0011\n",
      "Epoch 1/5\n",
      "15/15 [==============================] - 1s 55ms/step - loss: 0.1386 - accuracy: 0.9681 - val_loss: 6.7384 - val_accuracy: 0.0022\n",
      "Epoch 2/5\n",
      "15/15 [==============================] - 1s 44ms/step - loss: 0.1377 - accuracy: 0.9682 - val_loss: 6.9075 - val_accuracy: 0.0027\n",
      "Epoch 3/5\n",
      "15/15 [==============================] - 1s 55ms/step - loss: 0.1368 - accuracy: 0.9682 - val_loss: 7.2408 - val_accuracy: 0.0022\n",
      "Epoch 4/5\n",
      "15/15 [==============================] - 1s 48ms/step - loss: 0.1366 - accuracy: 0.9682 - val_loss: 7.4069 - val_accuracy: 0.0033\n",
      "Epoch 5/5\n",
      "15/15 [==============================] - 1s 46ms/step - loss: 0.1361 - accuracy: 0.9682 - val_loss: 7.6762 - val_accuracy: 0.0030\n",
      "Epoch 1/5\n",
      "15/15 [==============================] - 1s 53ms/step - loss: 0.1365 - accuracy: 0.9678 - val_loss: 7.9789 - val_accuracy: 0.0014\n",
      "Epoch 2/5\n",
      "15/15 [==============================] - 1s 43ms/step - loss: 0.1354 - accuracy: 0.9681 - val_loss: 8.1890 - val_accuracy: 0.0019\n",
      "Epoch 3/5\n",
      "15/15 [==============================] - 1s 45ms/step - loss: 0.1348 - accuracy: 0.9682 - val_loss: 8.3687 - val_accuracy: 0.0030\n",
      "Epoch 4/5\n",
      "15/15 [==============================] - 1s 58ms/step - loss: 0.1343 - accuracy: 0.9682 - val_loss: 8.5751 - val_accuracy: 0.0019\n",
      "Epoch 5/5\n",
      "15/15 [==============================] - 1s 45ms/step - loss: 0.1340 - accuracy: 0.9682 - val_loss: 8.7910 - val_accuracy: 0.0019\n",
      "  69/2017 [>.............................] - ETA: 2s - loss: 1.1205 - accuracy: 0.8868"
     ]
    },
    {
     "name": "stderr",
     "output_type": "stream",
     "text": [
      "c:\\Users\\UX430\\anaconda3\\lib\\site-packages\\numpy\\core\\_asarray.py:171: VisibleDeprecationWarning: Creating an ndarray from ragged nested sequences (which is a list-or-tuple of lists-or-tuples-or ndarrays with different lengths or shapes) is deprecated. If you meant to do this, you must specify 'dtype=object' when creating the ndarray.\n",
      "  return array(a, dtype, copy=False, order=order, subok=True)\n"
     ]
    },
    {
     "name": "stdout",
     "output_type": "stream",
     "text": [
      "2017/2017 [==============================] - 3s 2ms/step - loss: 1.1502 - accuracy: 0.8750\n",
      " 69/756 [=>............................] - ETA: 1s - loss: 0.0000e+00 - accuracy: 0.0000e+00"
     ]
    },
    {
     "name": "stderr",
     "output_type": "stream",
     "text": [
      "c:\\Users\\UX430\\anaconda3\\lib\\site-packages\\sklearn\\metrics\\_classification.py:1308: UndefinedMetricWarning: Precision and F-score are ill-defined and being set to 0.0 in labels with no predicted samples. Use `zero_division` parameter to control this behavior.\n",
      "  _warn_prf(average, modifier, msg_start, len(result))\n",
      "c:\\Users\\UX430\\anaconda3\\lib\\site-packages\\sklearn\\metrics\\_classification.py:1308: UndefinedMetricWarning: Precision and F-score are ill-defined and being set to 0.0 in labels with no predicted samples. Use `zero_division` parameter to control this behavior.\n",
      "  _warn_prf(average, modifier, msg_start, len(result))\n",
      "c:\\Users\\UX430\\anaconda3\\lib\\site-packages\\sklearn\\metrics\\_classification.py:1308: UndefinedMetricWarning: Precision and F-score are ill-defined and being set to 0.0 in labels with no predicted samples. Use `zero_division` parameter to control this behavior.\n",
      "  _warn_prf(average, modifier, msg_start, len(result))\n"
     ]
    },
    {
     "name": "stdout",
     "output_type": "stream",
     "text": [
      "756/756 [==============================] - 1s 1ms/step - loss: 0.0000e+00 - accuracy: 0.0033\n"
     ]
    },
    {
     "name": "stderr",
     "output_type": "stream",
     "text": [
      "c:\\Users\\UX430\\anaconda3\\lib\\site-packages\\sklearn\\metrics\\_classification.py:1308: UndefinedMetricWarning: Precision and F-score are ill-defined and being set to 0.0 in labels with no predicted samples. Use `zero_division` parameter to control this behavior.\n",
      "  _warn_prf(average, modifier, msg_start, len(result))\n",
      "c:\\Users\\UX430\\anaconda3\\lib\\site-packages\\sklearn\\metrics\\_classification.py:1308: UndefinedMetricWarning: Recall and F-score are ill-defined and being set to 0.0 in labels with no true samples. Use `zero_division` parameter to control this behavior.\n",
      "  _warn_prf(average, modifier, msg_start, len(result))\n",
      "c:\\Users\\UX430\\anaconda3\\lib\\site-packages\\sklearn\\metrics\\_classification.py:1308: UndefinedMetricWarning: Precision and F-score are ill-defined and being set to 0.0 in labels with no predicted samples. Use `zero_division` parameter to control this behavior.\n",
      "  _warn_prf(average, modifier, msg_start, len(result))\n",
      "c:\\Users\\UX430\\anaconda3\\lib\\site-packages\\sklearn\\metrics\\_classification.py:1308: UndefinedMetricWarning: Recall and F-score are ill-defined and being set to 0.0 in labels with no true samples. Use `zero_division` parameter to control this behavior.\n",
      "  _warn_prf(average, modifier, msg_start, len(result))\n",
      "c:\\Users\\UX430\\anaconda3\\lib\\site-packages\\sklearn\\metrics\\_classification.py:1308: UndefinedMetricWarning: Precision and F-score are ill-defined and being set to 0.0 in labels with no predicted samples. Use `zero_division` parameter to control this behavior.\n",
      "  _warn_prf(average, modifier, msg_start, len(result))\n",
      "c:\\Users\\UX430\\anaconda3\\lib\\site-packages\\sklearn\\metrics\\_classification.py:1308: UndefinedMetricWarning: Recall and F-score are ill-defined and being set to 0.0 in labels with no true samples. Use `zero_division` parameter to control this behavior.\n",
      "  _warn_prf(average, modifier, msg_start, len(result))\n"
     ]
    },
    {
     "name": "stdout",
     "output_type": "stream",
     "text": [
      "Epoch 1/5\n",
      "15/15 [==============================] - 1s 68ms/step - loss: 0.1441 - accuracy: 0.9668 - val_loss: 8.8057 - val_accuracy: 0.0022\n",
      "Epoch 2/5\n",
      "15/15 [==============================] - 1s 42ms/step - loss: 0.1426 - accuracy: 0.9669 - val_loss: 8.8435 - val_accuracy: 0.0014\n",
      "Epoch 3/5\n",
      "15/15 [==============================] - 1s 46ms/step - loss: 0.1422 - accuracy: 0.9669 - val_loss: 9.0141 - val_accuracy: 0.0014\n",
      "Epoch 4/5\n",
      "15/15 [==============================] - 1s 48ms/step - loss: 0.1415 - accuracy: 0.9668 - val_loss: 9.0564 - val_accuracy: 0.0022\n",
      "Epoch 5/5\n",
      "15/15 [==============================] - 1s 43ms/step - loss: 0.1413 - accuracy: 0.9669 - val_loss: 9.2314 - val_accuracy: 0.0014\n",
      "Epoch 1/5\n",
      "15/15 [==============================] - 1s 71ms/step - loss: 0.1369 - accuracy: 0.9681 - val_loss: 9.3286 - val_accuracy: 0.0038\n",
      "Epoch 2/5\n",
      "15/15 [==============================] - 1s 44ms/step - loss: 0.1353 - accuracy: 0.9683 - val_loss: 9.5611 - val_accuracy: 0.0036\n",
      "Epoch 3/5\n",
      "15/15 [==============================] - 1s 43ms/step - loss: 0.1354 - accuracy: 0.9683 - val_loss: 9.6305 - val_accuracy: 0.0038\n",
      "Epoch 4/5\n",
      "15/15 [==============================] - 1s 48ms/step - loss: 0.1346 - accuracy: 0.9683 - val_loss: 9.7065 - val_accuracy: 0.0038\n",
      "Epoch 5/5\n",
      "15/15 [==============================] - 1s 43ms/step - loss: 0.1342 - accuracy: 0.9685 - val_loss: 9.8220 - val_accuracy: 0.0038\n",
      "Epoch 1/5\n",
      "15/15 [==============================] - 1s 51ms/step - loss: 0.1351 - accuracy: 0.9680 - val_loss: 9.9286 - val_accuracy: 0.0016\n",
      "Epoch 2/5\n",
      "15/15 [==============================] - 1s 43ms/step - loss: 0.1333 - accuracy: 0.9683 - val_loss: 10.0697 - val_accuracy: 0.0027\n",
      "Epoch 3/5\n",
      "15/15 [==============================] - 1s 54ms/step - loss: 0.1330 - accuracy: 0.9683 - val_loss: 10.2373 - val_accuracy: 0.0016\n",
      "Epoch 4/5\n",
      "15/15 [==============================] - 1s 45ms/step - loss: 0.1327 - accuracy: 0.9684 - val_loss: 10.2627 - val_accuracy: 0.0019\n",
      "Epoch 5/5\n",
      "15/15 [==============================] - 1s 49ms/step - loss: 0.1322 - accuracy: 0.9685 - val_loss: 10.4160 - val_accuracy: 0.0019\n",
      "  90/2017 [>.............................] - ETA: 3s - loss: 1.2941 - accuracy: 0.6330"
     ]
    },
    {
     "name": "stderr",
     "output_type": "stream",
     "text": [
      "c:\\Users\\UX430\\anaconda3\\lib\\site-packages\\numpy\\core\\_asarray.py:171: VisibleDeprecationWarning: Creating an ndarray from ragged nested sequences (which is a list-or-tuple of lists-or-tuples-or ndarrays with different lengths or shapes) is deprecated. If you meant to do this, you must specify 'dtype=object' when creating the ndarray.\n",
      "  return array(a, dtype, copy=False, order=order, subok=True)\n"
     ]
    },
    {
     "name": "stdout",
     "output_type": "stream",
     "text": [
      "2017/2017 [==============================] - 3s 2ms/step - loss: 1.2968 - accuracy: 0.6246\n",
      " 75/756 [=>............................] - ETA: 0s - loss: 0.0000e+00 - accuracy: 4.1667e-04"
     ]
    },
    {
     "name": "stderr",
     "output_type": "stream",
     "text": [
      "c:\\Users\\UX430\\anaconda3\\lib\\site-packages\\sklearn\\metrics\\_classification.py:1308: UndefinedMetricWarning: Precision and F-score are ill-defined and being set to 0.0 in labels with no predicted samples. Use `zero_division` parameter to control this behavior.\n",
      "  _warn_prf(average, modifier, msg_start, len(result))\n",
      "c:\\Users\\UX430\\anaconda3\\lib\\site-packages\\sklearn\\metrics\\_classification.py:1308: UndefinedMetricWarning: Precision and F-score are ill-defined and being set to 0.0 in labels with no predicted samples. Use `zero_division` parameter to control this behavior.\n",
      "  _warn_prf(average, modifier, msg_start, len(result))\n",
      "c:\\Users\\UX430\\anaconda3\\lib\\site-packages\\sklearn\\metrics\\_classification.py:1308: UndefinedMetricWarning: Precision and F-score are ill-defined and being set to 0.0 in labels with no predicted samples. Use `zero_division` parameter to control this behavior.\n",
      "  _warn_prf(average, modifier, msg_start, len(result))\n"
     ]
    },
    {
     "name": "stdout",
     "output_type": "stream",
     "text": [
      "756/756 [==============================] - 1s 2ms/step - loss: 0.0000e+00 - accuracy: 0.0035\n"
     ]
    },
    {
     "name": "stderr",
     "output_type": "stream",
     "text": [
      "c:\\Users\\UX430\\anaconda3\\lib\\site-packages\\sklearn\\metrics\\_classification.py:1308: UndefinedMetricWarning: Precision and F-score are ill-defined and being set to 0.0 in labels with no predicted samples. Use `zero_division` parameter to control this behavior.\n",
      "  _warn_prf(average, modifier, msg_start, len(result))\n",
      "c:\\Users\\UX430\\anaconda3\\lib\\site-packages\\sklearn\\metrics\\_classification.py:1308: UndefinedMetricWarning: Recall and F-score are ill-defined and being set to 0.0 in labels with no true samples. Use `zero_division` parameter to control this behavior.\n",
      "  _warn_prf(average, modifier, msg_start, len(result))\n",
      "c:\\Users\\UX430\\anaconda3\\lib\\site-packages\\sklearn\\metrics\\_classification.py:1308: UndefinedMetricWarning: Precision and F-score are ill-defined and being set to 0.0 in labels with no predicted samples. Use `zero_division` parameter to control this behavior.\n",
      "  _warn_prf(average, modifier, msg_start, len(result))\n",
      "c:\\Users\\UX430\\anaconda3\\lib\\site-packages\\sklearn\\metrics\\_classification.py:1308: UndefinedMetricWarning: Recall and F-score are ill-defined and being set to 0.0 in labels with no true samples. Use `zero_division` parameter to control this behavior.\n",
      "  _warn_prf(average, modifier, msg_start, len(result))\n",
      "c:\\Users\\UX430\\anaconda3\\lib\\site-packages\\sklearn\\metrics\\_classification.py:1308: UndefinedMetricWarning: Precision and F-score are ill-defined and being set to 0.0 in labels with no predicted samples. Use `zero_division` parameter to control this behavior.\n",
      "  _warn_prf(average, modifier, msg_start, len(result))\n",
      "c:\\Users\\UX430\\anaconda3\\lib\\site-packages\\sklearn\\metrics\\_classification.py:1308: UndefinedMetricWarning: Recall and F-score are ill-defined and being set to 0.0 in labels with no true samples. Use `zero_division` parameter to control this behavior.\n",
      "  _warn_prf(average, modifier, msg_start, len(result))\n"
     ]
    },
    {
     "name": "stdout",
     "output_type": "stream",
     "text": [
      "Epoch 1/5\n",
      "15/15 [==============================] - 1s 51ms/step - loss: 0.1420 - accuracy: 0.9669 - val_loss: 10.3460 - val_accuracy: 0.0022\n",
      "Epoch 2/5\n",
      "15/15 [==============================] - 1s 43ms/step - loss: 0.1407 - accuracy: 0.9669 - val_loss: 10.2887 - val_accuracy: 0.0022\n",
      "Epoch 3/5\n",
      "15/15 [==============================] - 1s 42ms/step - loss: 0.1401 - accuracy: 0.9669 - val_loss: 10.4514 - val_accuracy: 0.0016\n",
      "Epoch 4/5\n",
      "15/15 [==============================] - 1s 45ms/step - loss: 0.1398 - accuracy: 0.9670 - val_loss: 10.4977 - val_accuracy: 0.0022\n",
      "Epoch 5/5\n",
      "15/15 [==============================] - 1s 49ms/step - loss: 0.1396 - accuracy: 0.9669 - val_loss: 10.5304 - val_accuracy: 0.0016\n",
      "Epoch 1/5\n",
      "15/15 [==============================] - 1s 53ms/step - loss: 0.1353 - accuracy: 0.9681 - val_loss: 10.6348 - val_accuracy: 0.0033\n",
      "Epoch 2/5\n",
      "15/15 [==============================] - 1s 53ms/step - loss: 0.1339 - accuracy: 0.9687 - val_loss: 10.7280 - val_accuracy: 0.0038\n",
      "Epoch 3/5\n",
      "15/15 [==============================] - 1s 45ms/step - loss: 0.1336 - accuracy: 0.9684 - val_loss: 10.6903 - val_accuracy: 0.0036\n",
      "Epoch 4/5\n",
      "15/15 [==============================] - 1s 46ms/step - loss: 0.1335 - accuracy: 0.9685 - val_loss: 10.8727 - val_accuracy: 0.0038\n",
      "Epoch 5/5\n",
      "15/15 [==============================] - 1s 48ms/step - loss: 0.1329 - accuracy: 0.9687 - val_loss: 10.9095 - val_accuracy: 0.0038\n",
      "Epoch 1/5\n",
      "15/15 [==============================] - 1s 55ms/step - loss: 0.1337 - accuracy: 0.9683 - val_loss: 10.8688 - val_accuracy: 0.0016\n",
      "Epoch 2/5\n",
      "15/15 [==============================] - 1s 45ms/step - loss: 0.1320 - accuracy: 0.9686 - val_loss: 11.1091 - val_accuracy: 0.0027\n",
      "Epoch 3/5\n",
      "15/15 [==============================] - 1s 50ms/step - loss: 0.1315 - accuracy: 0.9685 - val_loss: 11.0778 - val_accuracy: 0.0027\n",
      "Epoch 4/5\n",
      "15/15 [==============================] - 1s 47ms/step - loss: 0.1315 - accuracy: 0.9686 - val_loss: 11.1694 - val_accuracy: 0.0030\n",
      "Epoch 5/5\n",
      "15/15 [==============================] - 1s 44ms/step - loss: 0.1310 - accuracy: 0.9687 - val_loss: 11.3492 - val_accuracy: 0.0030\n",
      "  58/2017 [..............................] - ETA: 3s - loss: 1.3175 - accuracy: 0.6627"
     ]
    },
    {
     "name": "stderr",
     "output_type": "stream",
     "text": [
      "c:\\Users\\UX430\\anaconda3\\lib\\site-packages\\numpy\\core\\_asarray.py:171: VisibleDeprecationWarning: Creating an ndarray from ragged nested sequences (which is a list-or-tuple of lists-or-tuples-or ndarrays with different lengths or shapes) is deprecated. If you meant to do this, you must specify 'dtype=object' when creating the ndarray.\n",
      "  return array(a, dtype, copy=False, order=order, subok=True)\n"
     ]
    },
    {
     "name": "stdout",
     "output_type": "stream",
     "text": [
      "2017/2017 [==============================] - 3s 2ms/step - loss: 1.3596 - accuracy: 0.6486\n",
      " 69/756 [=>............................] - ETA: 1s - loss: 0.0000e+00 - accuracy: 9.0580e-04"
     ]
    },
    {
     "name": "stderr",
     "output_type": "stream",
     "text": [
      "c:\\Users\\UX430\\anaconda3\\lib\\site-packages\\sklearn\\metrics\\_classification.py:1308: UndefinedMetricWarning: Precision and F-score are ill-defined and being set to 0.0 in labels with no predicted samples. Use `zero_division` parameter to control this behavior.\n",
      "  _warn_prf(average, modifier, msg_start, len(result))\n",
      "c:\\Users\\UX430\\anaconda3\\lib\\site-packages\\sklearn\\metrics\\_classification.py:1308: UndefinedMetricWarning: Precision and F-score are ill-defined and being set to 0.0 in labels with no predicted samples. Use `zero_division` parameter to control this behavior.\n",
      "  _warn_prf(average, modifier, msg_start, len(result))\n",
      "c:\\Users\\UX430\\anaconda3\\lib\\site-packages\\sklearn\\metrics\\_classification.py:1308: UndefinedMetricWarning: Precision and F-score are ill-defined and being set to 0.0 in labels with no predicted samples. Use `zero_division` parameter to control this behavior.\n",
      "  _warn_prf(average, modifier, msg_start, len(result))\n"
     ]
    },
    {
     "name": "stdout",
     "output_type": "stream",
     "text": [
      "756/756 [==============================] - 1s 1ms/step - loss: 0.0000e+00 - accuracy: 0.0043\n"
     ]
    },
    {
     "name": "stderr",
     "output_type": "stream",
     "text": [
      "c:\\Users\\UX430\\anaconda3\\lib\\site-packages\\sklearn\\metrics\\_classification.py:1308: UndefinedMetricWarning: Precision and F-score are ill-defined and being set to 0.0 in labels with no predicted samples. Use `zero_division` parameter to control this behavior.\n",
      "  _warn_prf(average, modifier, msg_start, len(result))\n",
      "c:\\Users\\UX430\\anaconda3\\lib\\site-packages\\sklearn\\metrics\\_classification.py:1308: UndefinedMetricWarning: Recall and F-score are ill-defined and being set to 0.0 in labels with no true samples. Use `zero_division` parameter to control this behavior.\n",
      "  _warn_prf(average, modifier, msg_start, len(result))\n",
      "c:\\Users\\UX430\\anaconda3\\lib\\site-packages\\sklearn\\metrics\\_classification.py:1308: UndefinedMetricWarning: Precision and F-score are ill-defined and being set to 0.0 in labels with no predicted samples. Use `zero_division` parameter to control this behavior.\n",
      "  _warn_prf(average, modifier, msg_start, len(result))\n",
      "c:\\Users\\UX430\\anaconda3\\lib\\site-packages\\sklearn\\metrics\\_classification.py:1308: UndefinedMetricWarning: Recall and F-score are ill-defined and being set to 0.0 in labels with no true samples. Use `zero_division` parameter to control this behavior.\n",
      "  _warn_prf(average, modifier, msg_start, len(result))\n",
      "c:\\Users\\UX430\\anaconda3\\lib\\site-packages\\sklearn\\metrics\\_classification.py:1308: UndefinedMetricWarning: Precision and F-score are ill-defined and being set to 0.0 in labels with no predicted samples. Use `zero_division` parameter to control this behavior.\n",
      "  _warn_prf(average, modifier, msg_start, len(result))\n",
      "c:\\Users\\UX430\\anaconda3\\lib\\site-packages\\sklearn\\metrics\\_classification.py:1308: UndefinedMetricWarning: Recall and F-score are ill-defined and being set to 0.0 in labels with no true samples. Use `zero_division` parameter to control this behavior.\n",
      "  _warn_prf(average, modifier, msg_start, len(result))\n"
     ]
    }
   ],
   "source": [
    "# Values saved each iteration \n",
    "loss_it = []\n",
    "accuracy_it = []\n",
    "f1_it = []\n",
    "precision_it = []\n",
    "recall_it = []\n",
    "\n",
    "for i in range(global_updates): \n",
    "    gradients_list = []\n",
    "    for node in range(num_nodes): \n",
    "        cp = global_model # create a copy of the global model\n",
    "        if node == 0:\n",
    "            x, y = x1, y1\n",
    "        elif node == 1:\n",
    "            x, y = x2, y2\n",
    "        else:\n",
    "            x, y = x3, y3\n",
    "        local_model, local_loss, local_acc, local_val_loss, local_val_acc = train_local_model(cp, node, x, y)\n",
    "        with tf.GradientTape() as tape: \n",
    "            predictions = local_model(x)\n",
    "            loss = tf.keras.losses.categorical_crossentropy(y, predictions)\n",
    "        gradients = tape.gradient(loss, local_model.trainable_variables)\n",
    "        gradients_list.append(gradients)\n",
    "\n",
    "    avg_grad = aggregate(gradients_list)\n",
    "    optimizer.apply_gradients(zip(avg_grad, global_model.trainable_variables)) # apply gradients to global model\n",
    "    loss_basic, accuracy_basic, f1_basic, precision_basic, recall_basic = evaluation(global_model, xbasic, ybasic) \n",
    "    loss_plus, accuracy_plus, f1_plus, precision_plus, recall_plus = evaluation(global_model, xplus, yplus)\n",
    "\n",
    "    loss_it.append([loss_basic, loss_plus])\n",
    "    accuracy_it.append([accuracy_basic, accuracy_plus])\n",
    "    f1_it.append([f1_basic, f1_plus])\n",
    "    precision_it.append([precision_basic, precision_plus])\n",
    "    recall_it.append([recall_basic, recall_plus])\n",
    "\n",
    "\n",
    "global_model.save('C:/Users/UX430/Documents/thesis/code/models/id011.hdf5')"
   ]
  },
  {
   "cell_type": "code",
   "execution_count": 68,
   "metadata": {},
   "outputs": [
    {
     "name": "stdout",
     "output_type": "stream",
     "text": [
      "Loss for iterations:  [[1.0814100503921509, 0.0], [0.9628205895423889, 0.0], [1.1502130031585693, 0.0], [1.2967842817306519, 0.0], [1.3596251010894775, 0.0]]\n",
      "Accuracy for iterations:  [[0.8679397106170654, 0.008477730676531792], [0.8637547492980957, 0.008519085124135017], [0.8749767541885376, 0.00334973749704659], [0.6245737671852112, 0.0034738017711788416], [0.6486142873764038, 0.004300897475332022]]\n",
      "F1 for iterations:  [[0.8503178269932039, 0.016812925449028134], [0.8459715613697972, 0.016894246934842337], [0.8587310410291272, 0.0066771082351001565], [0.6754417817454541, 0.006923552441788584], [0.6922036771336822, 0.008564957792876261]]\n",
      "Precision for iterations:  [[0.8395150629795601, 1.0], [0.8357970173391828, 1.0], [0.8536917089703516, 1.0], [0.8037978674768768, 1.0], [0.787846126265895, 1.0]]\n",
      "Recall for iterations:  [[0.8679397358794717, 0.008477730449526488], [0.863754727509455, 0.008519085232207105], [0.8749767499534999, 0.003349737397129978], [0.6245737491474983, 0.003473801745171829], [0.6486142972285944, 0.0043008973987841695]]\n"
     ]
    }
   ],
   "source": [
    "print(\"Loss for iterations: \", loss_it)\n",
    "print(\"Accuracy for iterations: \", accuracy_it)\n",
    "print(\"F1 for iterations: \", f1_it)\n",
    "print(\"Precision for iterations: \", precision_it)\n",
    "print(\"Recall for iterations: \", recall_it)"
   ]
  }
 ],
 "metadata": {
  "kernelspec": {
   "display_name": "base",
   "language": "python",
   "name": "python3"
  },
  "language_info": {
   "codemirror_mode": {
    "name": "ipython",
    "version": 3
   },
   "file_extension": ".py",
   "mimetype": "text/x-python",
   "name": "python",
   "nbconvert_exporter": "python",
   "pygments_lexer": "ipython3",
   "version": "3.8.12"
  }
 },
 "nbformat": 4,
 "nbformat_minor": 2
}
