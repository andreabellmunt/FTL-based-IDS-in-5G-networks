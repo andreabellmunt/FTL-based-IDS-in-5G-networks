{
 "cells": [
  {
   "cell_type": "markdown",
   "metadata": {},
   "source": [
    "### Creating the detection partitions/ datasets: Training and Test\n",
    "\n",
    "The train partitions made can be balanced/ unbalanced, with 5 nodes. Attacks might appear in all nodes or only a subset. \n",
    "The test dataset also has unknown attacks (not shown in training). "
   ]
  },
  {
   "cell_type": "code",
   "execution_count": 4,
   "metadata": {},
   "outputs": [],
   "source": [
    "import pandas as pd  "
   ]
  },
  {
   "cell_type": "code",
   "execution_count": null,
   "metadata": {},
   "outputs": [],
   "source": [
    "def filter(dataset): \n",
    "    # Get only the rows that contain state (PAR, ACC, ECO, CON, FIN, INT, REQ, RST) and proto (igmp, arp, icmp, udp, tcp)\n",
    "    dataset = dataset[dataset['state'].isin(['PAR', 'ACC', 'ECO', 'CON', 'FIN', 'INT', 'REQ', 'RST'])]\n",
    "    dataset = dataset[dataset['proto'].isin(['igmp', 'arp', 'icmp', 'udp', 'tcp','ipv6-icmp', 'rarp'])] #last two are added for the test dataset \n",
    "    return dataset"
   ]
  },
  {
   "cell_type": "markdown",
   "metadata": {},
   "source": [
    "#### Train"
   ]
  },
  {
   "cell_type": "code",
   "execution_count": null,
   "metadata": {},
   "outputs": [],
   "source": [
    "complete = pd.read_csv('../datasets/UNSW-NB15-Train-Basic.csv')"
   ]
  },
  {
   "cell_type": "code",
   "execution_count": null,
   "metadata": {},
   "outputs": [],
   "source": [
    "complete = filter(complete)"
   ]
  },
  {
   "cell_type": "markdown",
   "metadata": {},
   "source": [
    "**DET-UNIFORM**"
   ]
  },
  {
   "cell_type": "code",
   "execution_count": null,
   "metadata": {},
   "outputs": [],
   "source": [
    "\n",
    "# Create the partitions \n",
    "\n",
    "normal1 = complete[complete['label'] == 0].iloc[:38647]\n",
    "normal2 = complete[complete['label'] == 0].iloc[38647:38647*2]\n",
    "normal3 = complete[complete['label'] == 0].iloc[38647*2:38647*3]\n",
    "normal4 = complete[complete['label'] == 0].iloc[38647*3:38647*4]\n",
    "normal5 = complete[complete['label'] == 0].iloc[38647*4:(38647*5+1)]\n",
    "\n",
    "generic1 = complete[complete['attack_cat'] == \"generic\"].iloc[:32008]\n",
    "generic2 = complete[complete['attack_cat'] == \"generic\"].iloc[32008:32008*2]\n",
    "generic3 = complete[complete['attack_cat'] == \"generic\"].iloc[32008*2:32008*3]\n",
    "generic4 = complete[complete['attack_cat'] == \"generic\"].iloc[32008*3:32008*4]\n",
    "generic5 = complete[complete['attack_cat'] == \"generic\"].iloc[32008*4:]\n",
    "\n",
    "exploits1 = complete[complete['attack_cat'] == \"exploits\"].iloc[:4274]\n",
    "exploits2 = complete[complete['attack_cat'] == \"exploits\"].iloc[4274:4274*2]\n",
    "exploits3 = complete[complete['attack_cat'] == \"exploits\"].iloc[4274*2:4274*3]\n",
    "exploits4 = complete[complete['attack_cat'] == \"exploits\"].iloc[4274*3:4274*4]\n",
    "exploits5 = complete[complete['attack_cat'] == \"exploits\"].iloc[4274*4:]\n",
    "\n",
    "dos1 = complete[complete['attack_cat'] == \"dos\"].iloc[:583]\n",
    "dos2 = complete[complete['attack_cat'] == \"dos\"].iloc[583:(583*2)]\n",
    "dos3 = complete[complete['attack_cat'] == \"dos\"].iloc[(583*2):(583*3)]\n",
    "dos4 = complete[complete['attack_cat'] == \"dos\"].iloc[(583*3):(583*4)]\n",
    "dos5 = complete[complete['attack_cat'] == \"dos\"].iloc[(583*4):]\n",
    "\n",
    "recon1 = complete[complete['attack_cat'] == \"reconnaissance\"].iloc[:1783]\n",
    "recon2 = complete[complete['attack_cat'] == \"reconnaissance\"].iloc[1783:1783*2]\n",
    "recon3 = complete[complete['attack_cat'] == \"reconnaissance\"].iloc[1783*2:1783*3-1]\n",
    "recon4 = complete[complete['attack_cat'] == \"reconnaissance\"].iloc[1783*3-1:(1783*4-2)]\n",
    "recon5 = complete[complete['attack_cat'] == \"reconnaissance\"].iloc[(1783*4-2):]"
   ]
  },
  {
   "cell_type": "code",
   "execution_count": null,
   "metadata": {},
   "outputs": [],
   "source": [
    "part1 = pd.concat([normal1, generic1, exploits1, dos1, recon1])\n",
    "part2 = pd.concat([normal2, generic2, exploits2, dos2, recon2])\n",
    "part3 = pd.concat([normal3, generic3, exploits3, dos3, recon3])\n",
    "part4 = pd.concat([normal4, generic4, exploits4, dos4, recon4])\n",
    "part5 = pd.concat([normal5, generic5, exploits5, dos5, recon5])"
   ]
  },
  {
   "cell_type": "code",
   "execution_count": null,
   "metadata": {},
   "outputs": [],
   "source": [
    "part1.to_csv('../datasets/uniform_part1.csv', index=False)\n",
    "part2.to_csv('../datasets/uniform_part2.csv', index=False)\n",
    "part3.to_csv('../datasets/uniform_part3.csv', index=False)\n",
    "part4.to_csv('../datasets/uniform_part4.csv', index=False)\n",
    "part5.to_csv('../datasets/uniform_part5.csv', index=False)"
   ]
  },
  {
   "cell_type": "markdown",
   "metadata": {},
   "source": [
    "**IMBALANCED1**"
   ]
  },
  {
   "cell_type": "code",
   "execution_count": null,
   "metadata": {},
   "outputs": [],
   "source": [
    "\n",
    "# Create the partitions \n",
    "\n",
    "normal1 = complete[complete['label'] == 0].iloc[:45000]\n",
    "normal2 = complete[complete['label'] == 0].iloc[45000:(45000+41571)]\n",
    "normal3 = complete[complete['label'] == 0].iloc[(45000+41571):(45000*2+41571)]\n",
    "normal4 = complete[complete['label'] == 0].iloc[(45000*2+41571):(45000*2+41571*2)]\n",
    "normal5 = complete[complete['label'] == 0].iloc[(45000*2+41571*2):(45000*3+41571*2)]\n",
    "\n",
    "generic1 = complete[complete['attack_cat'] == \"generic\"].iloc[:32008]\n",
    "generic2 = complete[complete['attack_cat'] == \"generic\"].iloc[32008:32008*2]\n",
    "generic3 = complete[complete['attack_cat'] == \"generic\"].iloc[32008*2:32008*3]\n",
    "generic4 = complete[complete['attack_cat'] == \"generic\"].iloc[32008*3:32008*4]\n",
    "generic5 = complete[complete['attack_cat'] == \"generic\"].iloc[32008*4:]\n",
    "\n",
    "exploits1 = complete[complete['attack_cat'] == \"exploits\"].iloc[:4274]\n",
    "exploits2 = complete[complete['attack_cat'] == \"exploits\"].iloc[4274:4274*2]\n",
    "exploits3 = complete[complete['attack_cat'] == \"exploits\"].iloc[4274*2:4274*3]\n",
    "exploits4 = complete[complete['attack_cat'] == \"exploits\"].iloc[4274*3:4274*4]\n",
    "exploits5 = complete[complete['attack_cat'] == \"exploits\"].iloc[4274*4:]\n",
    "\n",
    "dos1 = complete[complete['attack_cat'] == \"dos\"].iloc[:583]\n",
    "dos2 = complete[complete['attack_cat'] == \"dos\"].iloc[583:(583*2)]\n",
    "dos3 = complete[complete['attack_cat'] == \"dos\"].iloc[(583*2):(583*3)]\n",
    "dos4 = complete[complete['attack_cat'] == \"dos\"].iloc[(583*3):(583*4)]\n",
    "dos5 = complete[complete['attack_cat'] == \"dos\"].iloc[(583*4):]\n",
    "\n",
    "recon1 = complete[complete['attack_cat'] == \"reconnaissance\"].iloc[:2971]\n",
    "recon2 = complete[complete['attack_cat'] == \"reconnaissance\"].iloc[2971:2971*2]\n",
    "recon3 = complete[complete['attack_cat'] == \"reconnaissance\"].iloc[2971*2:2971*3-1]"
   ]
  },
  {
   "cell_type": "code",
   "execution_count": null,
   "metadata": {},
   "outputs": [],
   "source": [
    "part1 = pd.concat([normal1, generic1, exploits1, dos1, recon1])\n",
    "part2 = pd.concat([normal2, generic2, exploits2, dos2])\n",
    "part3 = pd.concat([normal3, generic3, exploits3, dos3, recon2])\n",
    "part4 = pd.concat([normal4, generic4, exploits4, dos4])\n",
    "part5 = pd.concat([normal5, generic5, exploits5, dos5, recon3])"
   ]
  },
  {
   "cell_type": "code",
   "execution_count": null,
   "metadata": {},
   "outputs": [],
   "source": [
    "part1.to_csv('../datasets/imb1_part1.csv', index=False)\n",
    "part2.to_csv('../datasets/imb1_part2.csv', index=False)\n",
    "part3.to_csv('../datasets/imb1_part3.csv', index=False)\n",
    "part4.to_csv('../datasets/imb1_part4.csv', index=False)\n",
    "part5.to_csv('../datasets/imb1_part5.csv', index=False)"
   ]
  },
  {
   "cell_type": "markdown",
   "metadata": {},
   "source": [
    "**IMBALANCED2**"
   ]
  },
  {
   "cell_type": "code",
   "execution_count": null,
   "metadata": {},
   "outputs": [],
   "source": [
    "\n",
    "# Create the partitions \n",
    "\n",
    "normal1 = complete[complete['label'] == 0].iloc[:46600]\n",
    "normal2 = complete[complete['label'] == 0].iloc[46600:(46600+41571)]\n",
    "normal3 = complete[complete['label'] == 0].iloc[(46600+41571):(46600+41571*2)]\n",
    "normal4 = complete[complete['label'] == 0].iloc[(46600+41571*2):(46600+41571*3)]\n",
    "normal5 = complete[complete['label'] == 0].iloc[(46600+41571*3):(46600*2+41571*3)]\n",
    "\n",
    "generic1 = complete[complete['attack_cat'] == \"generic\"].iloc[:32008]\n",
    "generic2 = complete[complete['attack_cat'] == \"generic\"].iloc[32008:32008*2]\n",
    "generic3 = complete[complete['attack_cat'] == \"generic\"].iloc[32008*2:32008*3]\n",
    "generic4 = complete[complete['attack_cat'] == \"generic\"].iloc[32008*3:32008*4]\n",
    "generic5 = complete[complete['attack_cat'] == \"generic\"].iloc[32008*4:]\n",
    "\n",
    "exploits1 = complete[complete['attack_cat'] == \"exploits\"].iloc[:4274]\n",
    "exploits2 = complete[complete['attack_cat'] == \"exploits\"].iloc[4274:4274*2]\n",
    "exploits3 = complete[complete['attack_cat'] == \"exploits\"].iloc[4274*2:4274*3]\n",
    "exploits4 = complete[complete['attack_cat'] == \"exploits\"].iloc[4274*3:4274*4]\n",
    "exploits5 = complete[complete['attack_cat'] == \"exploits\"].iloc[4274*4:]\n",
    "\n",
    "dos1 = complete[complete['attack_cat'] == \"dos\"].iloc[:583]\n",
    "dos2 = complete[complete['attack_cat'] == \"dos\"].iloc[583:(583*2)]\n",
    "dos3 = complete[complete['attack_cat'] == \"dos\"].iloc[(583*2):(583*3)]\n",
    "dos4 = complete[complete['attack_cat'] == \"dos\"].iloc[(583*3):(583*4)]\n",
    "dos5 = complete[complete['attack_cat'] == \"dos\"].iloc[(583*4):]\n",
    "\n",
    "recon1 = complete[complete['attack_cat'] == \"reconnaissance\"].iloc[:4456]\n",
    "recon2 = complete[complete['attack_cat'] == \"reconnaissance\"].iloc[4456:]\n"
   ]
  },
  {
   "cell_type": "code",
   "execution_count": null,
   "metadata": {},
   "outputs": [],
   "source": [
    "part1 = pd.concat([normal1, generic1, exploits1, dos1, recon1])\n",
    "part2 = pd.concat([normal2, generic2, exploits2, dos2])\n",
    "part3 = pd.concat([normal3, generic3, exploits3, dos3])\n",
    "part4 = pd.concat([normal4, generic4, exploits4, dos4])\n",
    "part5 = pd.concat([normal5, generic5, exploits5, dos5, recon2])"
   ]
  },
  {
   "cell_type": "code",
   "execution_count": null,
   "metadata": {},
   "outputs": [],
   "source": [
    "part1.to_csv('../datasets/imb2_part1.csv', index=False)\n",
    "part2.to_csv('../datasets/imb2_part2.csv', index=False)\n",
    "part3.to_csv('../datasets/imb2_part3.csv', index=False)\n",
    "part4.to_csv('../datasets/imb2_part4.csv', index=False)\n",
    "part5.to_csv('../datasets/imb2_part5.csv', index=False)"
   ]
  },
  {
   "cell_type": "markdown",
   "metadata": {},
   "source": [
    "**IMBALANCED3**"
   ]
  },
  {
   "cell_type": "code",
   "execution_count": null,
   "metadata": {},
   "outputs": [],
   "source": [
    "\n",
    "# Create the partitions \n",
    "\n",
    "normal1 = complete[complete['label'] == 0].iloc[:31480]\n",
    "normal2 = complete[complete['label'] == 0].iloc[(31480):(31480+37776)]\n",
    "normal3 = complete[complete['label'] == 0].iloc[(31480+37776):(31480+37776+47200)]\n",
    "normal4 = complete[complete['label'] == 0].iloc[(31480+37776+47200):(31480+37776+47200+56682)]\n",
    "normal5 = complete[complete['label'] == 0].iloc[(31480+37776+47200+56682):(31480+37776+47200+56682+44082)]\n",
    "\n",
    "generic1 = complete[complete['attack_cat'] == \"generic\"].iloc[:24840]\n",
    "generic2 = complete[complete['attack_cat'] == \"generic\"].iloc[24840:(24840+18544)]\n",
    "generic3 = complete[complete['attack_cat'] == \"generic\"].iloc[(24840+18544):(24840+18544+9095)]\n",
    "generic4 = complete[complete['attack_cat'] == \"generic\"].iloc[(24840+18544+9095):(24840+18544+9095+1955)]\n",
    "generic5 = complete[complete['attack_cat'] == \"generic\"].iloc[(24840+18544+9095+1955):(24840+18544+9095+1955+12281)]\n",
    "\n",
    "exploits1 = complete[complete['attack_cat'] == \"exploits\"].iloc[:4274]\n",
    "exploits2 = complete[complete['attack_cat'] == \"exploits\"].iloc[4274:4274*2]\n",
    "exploits3 = complete[complete['attack_cat'] == \"exploits\"].iloc[4274*2:4274*3]\n",
    "exploits4 = complete[complete['attack_cat'] == \"exploits\"].iloc[4274*3:4274*3+1998]\n",
    "exploits5 = complete[complete['attack_cat'] == \"exploits\"].iloc[4274*3+1998:4274*4+1998]\n",
    "\n",
    "dos1 = complete[complete['attack_cat'] == \"dos\"].iloc[:583]\n",
    "dos2 = complete[complete['attack_cat'] == \"dos\"].iloc[583:(583*2)]\n",
    "dos3 = complete[complete['attack_cat'] == \"dos\"].iloc[(583*2):(583*3)]\n",
    "dos4 = complete[complete['attack_cat'] == \"dos\"].iloc[(583*3):(583*4)]\n",
    "dos5 = complete[complete['attack_cat'] == \"dos\"].iloc[(583*4):]\n",
    "\n",
    "recon1 = complete[complete['attack_cat'] == \"reconnaissance\"].iloc[:1783]\n",
    "recon2 = complete[complete['attack_cat'] == \"reconnaissance\"].iloc[1783:1783*2]\n",
    "recon3 = complete[complete['attack_cat'] == \"reconnaissance\"].iloc[1783*2:1783*3-1]\n",
    "recon4 = complete[complete['attack_cat'] == \"reconnaissance\"].iloc[1783*3-1:(1783*4-2)]\n",
    "recon5 = complete[complete['attack_cat'] == \"reconnaissance\"].iloc[(1783*4-2):]"
   ]
  },
  {
   "cell_type": "code",
   "execution_count": null,
   "metadata": {},
   "outputs": [],
   "source": [
    "part1 = pd.concat([normal1, generic1, exploits1, dos1, recon1])\n",
    "part2 = pd.concat([normal2, generic2, exploits2, dos2, recon2])\n",
    "part3 = pd.concat([normal3, generic3, exploits3, dos3, recon3])\n",
    "part4 = pd.concat([normal4, generic4, exploits4, dos4, recon4])\n",
    "part5 = pd.concat([normal5, generic5, exploits5, dos5, recon5])"
   ]
  },
  {
   "cell_type": "code",
   "execution_count": null,
   "metadata": {},
   "outputs": [],
   "source": [
    "part1.to_csv('../datasets/imb3_part1.csv', index=False)\n",
    "part2.to_csv('../datasets/imb3_part2.csv', index=False)\n",
    "part3.to_csv('../datasets/imb3_part3.csv', index=False)\n",
    "part4.to_csv('../datasets/imb3_part4.csv', index=False)\n",
    "part5.to_csv('../datasets/imb3_part5.csv', index=False)"
   ]
  },
  {
   "cell_type": "markdown",
   "metadata": {},
   "source": [
    "#### Test"
   ]
  },
  {
   "cell_type": "markdown",
   "metadata": {},
   "source": [
    "**DET-TEST**"
   ]
  },
  {
   "cell_type": "code",
   "execution_count": null,
   "metadata": {},
   "outputs": [],
   "source": [
    "test_basic = pd.read_csv('../datasets/UNSW-NB15-Test-Basic.csv') #contains known attacks and normal samples\n",
    "test_plus = pd.read_csv('../datasets/UNSW-NB15-Test+.csv') #contains unkonwn attacks and normal samples"
   ]
  },
  {
   "cell_type": "code",
   "execution_count": null,
   "metadata": {},
   "outputs": [],
   "source": [
    "test_basic = filter(test_basic)\n",
    "test_plus = filter(test_plus)"
   ]
  },
  {
   "cell_type": "code",
   "execution_count": null,
   "metadata": {},
   "outputs": [],
   "source": [
    "# Merge 'normal' traffic from test_basic and test_plus\n",
    "test_basic_n = test_basic[test_basic['label'] == 0]\n",
    "test_plus_n = test_plus[test_plus['label'] == 0]\n",
    "test_n = pd.concat([test_basic_n, test_plus_n])"
   ]
  },
  {
   "cell_type": "code",
   "execution_count": null,
   "metadata": {},
   "outputs": [],
   "source": [
    "# Get all attacks from test_basic\n",
    "test_ka = test_basic[test_basic['label'] == 1]"
   ]
  },
  {
   "cell_type": "code",
   "execution_count": null,
   "metadata": {},
   "outputs": [],
   "source": [
    "# Get 71685 samples from test_n, which contains the normal samples \n",
    "test_n = test_n.sample(n = 72542)"
   ]
  },
  {
   "cell_type": "code",
   "execution_count": null,
   "metadata": {},
   "outputs": [],
   "source": [
    "# Get all unknown attacks from test_plus\n",
    "test_ua = test_plus[test_plus['label'] == 1]"
   ]
  },
  {
   "cell_type": "code",
   "execution_count": null,
   "metadata": {},
   "outputs": [],
   "source": [
    "test_ka = test_ka.sample(n=64482)"
   ]
  },
  {
   "cell_type": "code",
   "execution_count": null,
   "metadata": {},
   "outputs": [],
   "source": [
    "test_ua = test_ua.sample(n=24180)"
   ]
  },
  {
   "cell_type": "code",
   "execution_count": null,
   "metadata": {},
   "outputs": [],
   "source": [
    "test_complete = pd.concat([test_ka, test_n, test_ua])"
   ]
  },
  {
   "cell_type": "code",
   "execution_count": null,
   "metadata": {},
   "outputs": [],
   "source": [
    "# save test_complete to csv\n",
    "test_complete.to_csv('../datasets/DET_TEST.csv', index=False)"
   ]
  }
 ],
 "metadata": {
  "kernelspec": {
   "display_name": "Python 3",
   "language": "python",
   "name": "python3"
  },
  "language_info": {
   "codemirror_mode": {
    "name": "ipython",
    "version": 3
   },
   "file_extension": ".py",
   "mimetype": "text/x-python",
   "name": "python",
   "nbconvert_exporter": "python",
   "pygments_lexer": "ipython3",
   "version": "3.10.11"
  }
 },
 "nbformat": 4,
 "nbformat_minor": 2
}
