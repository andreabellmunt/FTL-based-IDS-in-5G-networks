{
 "cells": [
  {
   "cell_type": "markdown",
   "metadata": {},
   "source": [
    "# Creation of DET-TEST\n",
    "The test dataset used to evaluate local and global models trained with the UNSW-NB15 dataset contains: \n",
    "* Benign samples - 45% \n",
    "* Known attacks - 40% \n",
    "* Unknown attacks - 15% \n"
   ]
  },
  {
   "cell_type": "code",
   "execution_count": null,
   "metadata": {},
   "outputs": [],
   "source": [
    "import numpy as np\n",
    "import pandas as pd\n",
    "from sklearn.preprocessing import StandardScaler"
   ]
  },
  {
   "cell_type": "markdown",
   "metadata": {},
   "source": [
    "\"UNSW-NB15-Test-Basic.csv\" and \"UNSW-NB15-Test+.csv\" account for the datasets included in \"Transfer-Learning-Based Intrusion Detection Framwork in IoT Networks\" by Rodríguez E. et al. (GitHub: https://github.com/polvalls9/Transfer-Learning-Based-Intrusion-Detection-in-5G-and-IoT-Networks.git)"
   ]
  },
  {
   "cell_type": "code",
   "execution_count": null,
   "metadata": {},
   "outputs": [],
   "source": [
    "test_basic = pd.read_csv(\"../UNSW-NB15-Test-Basic.csv\", low_memory = False)\n",
    "test_plus = pd.read_csv('../UNSW-NB15-Test+.csv', low_memory = False)"
   ]
  },
  {
   "cell_type": "code",
   "execution_count": null,
   "metadata": {},
   "outputs": [],
   "source": [
    "def filter(dataset): \n",
    "    \"\"\"\n",
    "    Function used to filter out all state and proto values that are unwanted. \n",
    "    Wanted values are: \n",
    "        proto: igmp, arp, icmp, udp, tcp, ipv6-icmp, rarp\n",
    "        state: PAR, ACC, ECO, CON, FIN, INT, REQ, RST\n",
    "    \n",
    "    \"\"\"\n",
    "\n",
    "    dataset = dataset[dataset['state'].isin(['PAR', 'ACC', 'ECO', 'CON', 'FIN', 'INT', 'REQ', 'RST'])]\n",
    "    dataset = dataset[dataset['proto'].isin(['igmp', 'arp', 'icmp', 'udp', 'tcp', 'ipv6-icmp', 'rarp'])]\n",
    "    return dataset"
   ]
  },
  {
   "cell_type": "code",
   "execution_count": null,
   "metadata": {},
   "outputs": [],
   "source": [
    "test_basic = filter(test_basic)\n",
    "test_plus = filter(test_plus)"
   ]
  },
  {
   "cell_type": "code",
   "execution_count": null,
   "metadata": {},
   "outputs": [],
   "source": [
    "test_basic_n = test_basic[test_basic['label'] == 0] # Normal traffic from test_basic\n",
    "test_plus_n = test_plus[test_plus['label'] == 0] # Normal traffic from test_plus\n",
    "test_n = pd.concat([test_basic_n, test_plus_n]) # Merge all normal samples"
   ]
  },
  {
   "cell_type": "code",
   "execution_count": null,
   "metadata": {},
   "outputs": [],
   "source": [
    "test_ka = test_basic[test_basic['label'] == 1] # Known attacks extracted from test_basic"
   ]
  },
  {
   "cell_type": "code",
   "execution_count": null,
   "metadata": {},
   "outputs": [],
   "source": [
    "test_ua = test_plus[test_plus['label'] == 1] # Unknown attacks extracted from test_plus"
   ]
  },
  {
   "cell_type": "code",
   "execution_count": null,
   "metadata": {},
   "outputs": [],
   "source": [
    "test_n = test_n.sample(n = 72542) # Represents 45% of the dataset "
   ]
  },
  {
   "cell_type": "code",
   "execution_count": null,
   "metadata": {},
   "outputs": [],
   "source": [
    "test_ka = test_ka.sample(n=64482) # Represents 40% of the dataset "
   ]
  },
  {
   "cell_type": "code",
   "execution_count": null,
   "metadata": {},
   "outputs": [],
   "source": [
    "test_ua = test_ua.sample(n=24180) # Represents 15% of the dataset "
   ]
  },
  {
   "cell_type": "code",
   "execution_count": null,
   "metadata": {},
   "outputs": [],
   "source": [
    "test_complete = pd.concat([test_ka, test_n, test_ua]) #  Merge all wanted samples "
   ]
  },
  {
   "cell_type": "code",
   "execution_count": null,
   "metadata": {},
   "outputs": [],
   "source": [
    "test_complete.to_csv('../DET_TEST.csv', index=False)"
   ]
  }
 ],
 "metadata": {
  "kernelspec": {
   "display_name": "Python 3",
   "language": "python",
   "name": "python3"
  },
  "language_info": {
   "codemirror_mode": {
    "name": "ipython",
    "version": 3
   },
   "file_extension": ".py",
   "mimetype": "text/x-python",
   "name": "python",
   "nbconvert_exporter": "python",
   "pygments_lexer": "ipython3",
   "version": "3.10.12"
  }
 },
 "nbformat": 4,
 "nbformat_minor": 2
}
