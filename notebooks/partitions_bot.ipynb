{
 "cells": [
  {
   "cell_type": "markdown",
   "metadata": {},
   "source": [
    "### Bot-IoT partitions\n",
    "Creating the partitions for 5 nodes to train and test the pre-trained model"
   ]
  },
  {
   "cell_type": "code",
   "execution_count": null,
   "metadata": {},
   "outputs": [],
   "source": [
    "import pandas as pd "
   ]
  },
  {
   "cell_type": "code",
   "execution_count": null,
   "metadata": {},
   "outputs": [],
   "source": [
    "bot = pd.read_csv('../datasets/Bot-IoT/BoT-IoT.txt', sep = ',', low_memory=False)"
   ]
  },
  {
   "cell_type": "code",
   "execution_count": null,
   "metadata": {},
   "outputs": [],
   "source": [
    "# Delete the first column \n",
    "bot = bot.drop(bot.columns[0], axis=1)"
   ]
  },
  {
   "cell_type": "code",
   "execution_count": null,
   "metadata": {},
   "outputs": [],
   "source": [
    "def filter(dataset): \n",
    "    # Get only the rows that contain state (PAR, ACC, ECO, CON, FIN, INT, REQ, RST) and proto (igmp, arp, icmp, udp, tcp, ipv6-icmp, rarp)\n",
    "    dataset = dataset[dataset['state'].isin(['PAR', 'ACC', 'ECO', 'CON', 'FIN', 'INT', 'REQ', 'RST'])]\n",
    "    dataset = dataset[dataset['proto'].isin(['igmp', 'arp', 'icmp', 'udp', 'tcp', 'ipv6-icmp', 'rarp'])]\n",
    "    return dataset"
   ]
  },
  {
   "cell_type": "code",
   "execution_count": null,
   "metadata": {},
   "outputs": [],
   "source": [
    "bot = filter(bot)"
   ]
  },
  {
   "cell_type": "code",
   "execution_count": null,
   "metadata": {},
   "outputs": [],
   "source": [
    "ddos = bot.loc[bot['category'] == 'DDoS']\n",
    "dos = bot.loc[bot['category'] == 'DoS']\n",
    "reconnaissance = bot.loc[bot['category'] == 'Reconnaissance']\n",
    "normal = bot.loc[bot['category'] == 'Normal']\n",
    "theft = bot.loc[bot['category'] == 'Theft']\n",
    "\n",
    "ddos = ddos.sample(n=10000, random_state=1)\n",
    "dos = dos.sample(n=10000, random_state=1)\n",
    "reconnaissance = reconnaissance.sample(n=10000, random_state=1)\n",
    "\n",
    "data = pd.concat([ddos, dos, reconnaissance, normal, theft], ignore_index=True)"
   ]
  },
  {
   "cell_type": "code",
   "execution_count": null,
   "metadata": {},
   "outputs": [],
   "source": [
    "train = data.sample(frac=0.75, random_state=1)\n",
    "test = data.drop(train.index)"
   ]
  },
  {
   "cell_type": "markdown",
   "metadata": {},
   "source": [
    "**BOT-TEST**"
   ]
  },
  {
   "cell_type": "code",
   "execution_count": null,
   "metadata": {},
   "outputs": [],
   "source": [
    "bot = train \n",
    "test.to_csv('../datasets/Bot_test.csv', index=False)"
   ]
  },
  {
   "cell_type": "markdown",
   "metadata": {},
   "source": [
    "#### Train partitions"
   ]
  },
  {
   "cell_type": "code",
   "execution_count": null,
   "metadata": {},
   "outputs": [],
   "source": [
    "ddos1 = bot[bot['category'] == 'DDoS'].iloc[:1510]\n",
    "ddos2 = bot[bot['category'] == 'DDoS'].iloc[1510:1510*2]\n",
    "ddos3 = bot[bot['category'] == 'DDoS'].iloc[1510*2:1510*3]\n",
    "ddos4 = bot[bot['category'] == 'DDoS'].iloc[1510*3:1510*4]\n",
    "ddos5 = bot[bot['category'] == 'DDoS'].iloc[1510*4:]\n",
    "\n",
    "dos1 = bot[bot['category'] == 'DoS'].iloc[:1501]\n",
    "dos2 = bot[bot['category'] == 'DoS'].iloc[1501:1501*2]\n",
    "dos3 = bot[bot['category'] == 'DoS'].iloc[1501*2:1501*3]\n",
    "dos4 = bot[bot['category'] == 'DoS'].iloc[1501*3:1501*4+1]\n",
    "dos5 = bot[bot['category'] == 'DoS'].iloc[1501*4+1:]\n",
    "\n",
    "recon1 = bot[bot['category'] == 'Reconnaissance'].iloc[:1495]\n",
    "recon2 = bot[bot['category'] == 'Reconnaissance'].iloc[1495:1495*2]\n",
    "recon3 = bot[bot['category'] == 'Reconnaissance'].iloc[1495*2:1495*3]\n",
    "recon4 = bot[bot['category'] == 'Reconnaissance'].iloc[1495*3:1495*4]\n",
    "recon5 = bot[bot['category'] == 'Reconnaissance'].iloc[1495*4:]\n",
    "\n",
    "normal1 = bot[bot['category'] == 'Normal'].iloc[:1407]\n",
    "normal2 = bot[bot['category'] == 'Normal'].iloc[1407:1407*2]\n",
    "normal3 = bot[bot['category'] == 'Normal'].iloc[1407*2:1407*3]\n",
    "normal4 = bot[bot['category'] == 'Normal'].iloc[1407*3:1407*4]\n",
    "normal5 = bot[bot['category'] == 'Normal'].iloc[1407*4:]\n",
    "\n",
    "theft1 = bot[bot['category'] == 'Theft'].iloc[:241]\n",
    "theft2 = bot[bot['category'] == 'Theft'].iloc[241:241*2]\n",
    "theft3 = bot[bot['category'] == 'Theft'].iloc[241*2:241*3]\n",
    "theft4 = bot[bot['category'] == 'Theft'].iloc[241*3:241*4-1]\n",
    "theft5 = bot[bot['category'] == 'Theft'].iloc[241*4-1:]\n",
    "\n"
   ]
  },
  {
   "cell_type": "code",
   "execution_count": null,
   "metadata": {},
   "outputs": [],
   "source": [
    "part1 = pd.concat([ddos1, dos1, recon1, normal1, theft1])\n",
    "part2 = pd.concat([ddos2, dos2, recon2, normal2, theft2])\n",
    "part3 = pd.concat([ddos3, dos3, recon3, normal3, theft3])\n",
    "part4 = pd.concat([ddos4, dos4, recon4, normal4, theft4])\n",
    "part5 = pd.concat([ddos5, dos5, recon5, normal5, theft5])\n",
    "\n",
    "part1.to_csv('../datasets/bot_part1.csv', index=False)\n",
    "part2.to_csv('../datasets/bot_part2.csv', index=False)\n",
    "part3.to_csv('../datasets/bot_part3.csv', index=False)\n",
    "part4.to_csv('../datasets/bot_part4.csv', index=False)\n",
    "part5.to_csv('../datasets/bot_part5.csv', index=False)"
   ]
  }
 ],
 "metadata": {
  "kernelspec": {
   "display_name": "Python 3",
   "language": "python",
   "name": "python3"
  },
  "language_info": {
   "codemirror_mode": {
    "name": "ipython",
    "version": 3
   },
   "file_extension": ".py",
   "mimetype": "text/x-python",
   "name": "python",
   "nbconvert_exporter": "python",
   "pygments_lexer": "ipython3",
   "version": "3.10.11"
  }
 },
 "nbformat": 4,
 "nbformat_minor": 2
}
