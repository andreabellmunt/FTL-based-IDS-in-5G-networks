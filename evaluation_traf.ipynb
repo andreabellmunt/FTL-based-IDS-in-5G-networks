{
 "cells": [
  {
   "cell_type": "code",
   "execution_count": 1,
   "metadata": {},
   "outputs": [],
   "source": [
    "# Imports\n",
    "import tensorflow as tf\n",
    "import numpy as np\n",
    "from tensorflow import keras\n",
    "import matplotlib.pyplot as plt\n",
    "import pandas as pd\n",
    "import seaborn as sns\n",
    "import sys\n",
    "\n",
    "from tensorflow.keras import datasets, layers, models\n",
    "from tensorflow.keras.callbacks import EarlyStopping\n",
    "from tensorflow.keras.layers import Dense, BatchNormalization\n",
    "from sklearn.preprocessing import StandardScaler\n",
    "from sklearn.model_selection import train_test_split\n",
    "from sklearn.metrics import confusion_matrix, classification_report\n",
    "\n",
    "# Disable warns\n",
    "pd.options.mode.chained_assignment = None  # default='warn'"
   ]
  },
  {
   "cell_type": "code",
   "execution_count": 2,
   "metadata": {},
   "outputs": [],
   "source": [
    "# Load training datasets and testing datasets \n",
    "test_basic = pd.read_csv('C:/Users/UX430/Documents/thesis/datasets/UNSW-NB15/UNSW-NB15-Test-Basic.csv', low_memory = False)\n",
    "test_plus = pd.read_csv('C:/Users/UX430/Documents/thesis/datasets/UNSW-NB15/UNSW-NB15-Test+.csv', low_memory = False)\n",
    "test_complete = pd.read_csv('C:/Users/UX430/Documents/thesis/datasets/UNSW-NB15/UNSW-NB15-Test-Complete.csv', low_memory = False)"
   ]
  },
  {
   "cell_type": "markdown",
   "metadata": {},
   "source": [
    "## Evaluate 'label' prediction models: \n",
    "Includes all those models that have been trained to identify between normal traffic and attack traffic. "
   ]
  },
  {
   "cell_type": "code",
   "execution_count": 3,
   "metadata": {},
   "outputs": [],
   "source": [
    "def preprocessing(data): \n",
    "\n",
    "    # Select the 'proto' and 'state' values that I want\n",
    "    data = data.loc[(data['proto'] == 'tcp') | (data['proto'] =='udp') | (data['proto'] =='icmp') | (data['proto'] =='arp') | (data['proto'] =='ipv6-icmp') | (data['proto'] =='igmp') | (data['proto'] =='rarp'), :]\n",
    "    data = data.loc[(data['state'] == 'RST') | (data['state'] =='REQ') | (data['state'] =='INT') | (data['state'] =='FIN') | (data['state'] =='CON') | (data['state'] =='ECO') | (data['state'] =='ACC') | (data['state'] == 'PAR'), :]\n",
    "\n",
    "    # Extracting labels \n",
    "    data_labels = pd.DataFrame()\n",
    "\n",
    "    # Drop the invalid features and select interested data features\n",
    "    data_features=data[['proto','srcip','sport','dstip','dsport','spkts','dpkts','sbytes','dbytes','state','stime','ltime','dur']]\n",
    "\n",
    "    \"\"\"PREPROCESSING\"\"\"\n",
    "\n",
    "\n",
    "    # Preprocess IP and ports features\n",
    "    # IP Source Address\n",
    "    data_features['srcip'] = data_features['srcip'].apply(lambda x: x.split(\".\")[-1])\n",
    "    data_features['srcip'] = data_features['srcip'].apply(lambda x: x.split(\":\")[-1])\n",
    "    data_features['srcip'] = data_features['srcip'].apply(lambda x: int(x, 16))\n",
    "\n",
    "\n",
    "    # IP Destination Address\n",
    "    data_features['dstip'] = data_features['dstip'].apply(lambda x: x.split(\".\")[-1])\n",
    "    data_features['dstip'] = data_features['dstip'].apply(lambda x: x.split(\":\")[-1])\n",
    "    data_features['dstip'] = data_features['dstip'].apply(lambda x: int(x, 16))\n",
    "\n",
    "    # Ports\n",
    "    data_features['sport'] = data_features['sport'].apply(lambda x: x.replace('0x','') if \"0x\" in str(x) else x)\n",
    "    data_features['dsport'] = data_features['dsport'].apply(lambda x: x.replace('0x','') if \"0x\" in str(x) else x)\n",
    "\n",
    "    # Convert all ports with 0 decimal, and HEX to DEC\n",
    "    data_features['sport'] = data_features['sport'].apply(lambda x: str(x)[:-2] if str(x)[-2:] == '.0' else str(x))\n",
    "    data_features['sport'] = data_features['sport'].apply(lambda x: -1 if str(x).isalpha()==True else int(x,16))\n",
    "\n",
    "    data_features['dsport'] = data_features['dsport'].apply(lambda x: str(x)[:-2] if str(x)[-2:] == '.0' else str(x))\n",
    "    data_features['dsport'] = data_features['dsport'].apply(lambda x: -1 if str(x).isalpha()==True else int(x,16))\n",
    "\n",
    "    # Convert field to int format\n",
    "    data_features['srcip'] = data_features['srcip'].astype(int)\n",
    "    data_features['sport'] = data_features['sport'].astype(int)\n",
    "    data_features['dstip'] = data_features['dstip'].astype(int)\n",
    "    data_features['dsport'] = data_features['dsport'].astype(int)\n",
    "\n",
    "    # Convert some fields to logarithmic\n",
    "    log1p_col = ['dur', 'sbytes', 'dbytes', 'spkts']\n",
    "\n",
    "    for col in log1p_col:\n",
    "        data_features[col] = data_features[col].apply(np.log1p)\n",
    "\n",
    "    # Transform to One Hot Encoding the Categories - normal, attack\n",
    "    data_labels.insert(0, 'normal', data['attack_cat'].replace('normal', 1).replace(['dos', 'reconnaissance', 'generic', 'exploits', 'worms', 'fuzzers', 'analysis', 'backdoor', 'shellcode'], 0))\n",
    "    data_labels.insert(1, 'attack', data['attack_cat'].replace(['dos', 'reconnaissance', 'generic', 'exploits', 'worms', 'fuzzers', 'analysis', 'backdoor', 'shellcode'], 1).replace('normal', 0))\n",
    "\n",
    "    data_labels = pd.get_dummies(data_labels)\n",
    "\n",
    "    # Transform to One hot encoding - FEATURES\n",
    "    data_features=pd.get_dummies(data_features)\n",
    "\n",
    "    # Value given for the missing columns\n",
    "    auxCol=0\n",
    "\n",
    "    # As we are using different datasets that might not have all representations, we are going to detect and add the missing columns \n",
    "    # The columns that can have types are: proto and state: need to check if all representations are done \n",
    "    state_cols = [col for col in data_features if col.startswith('state_')]\n",
    "    proto_cols = [col for col in data_features if col.startswith('proto_')]\n",
    "    \n",
    "    # Check if all columns are present\n",
    "    if 'state_PAR' not in state_cols:\n",
    "        data_features.insert(data_features.shape[1], 'state_PAR', auxCol, True)\n",
    "    if 'state_ACC' not in state_cols: \n",
    "        data_features.insert(data_features.shape[1], 'state_ACC', auxCol, True)\n",
    "    if 'state_ECO' not in state_cols:\n",
    "        data_features.insert(data_features.shape[1], 'state_ECO', auxCol, True)\n",
    "    if 'state_CON' not in state_cols:\n",
    "        data_features.insert(data_features.shape[1], 'state_CON', auxCol, True)\n",
    "    if 'state_FIN' not in state_cols:\n",
    "        data_features.insert(data_features.shape[1], 'state_FIN', auxCol, True)\n",
    "    if 'state_INT' not in state_cols:\n",
    "        data_features.insert(data_features.shape[1], 'state_INT', auxCol, True)\n",
    "    if 'state_REQ' not in state_cols:\n",
    "        data_features.insert(data_features.shape[1], 'state_REQ', auxCol, True)\n",
    "    if 'state_RST' not in state_cols:\n",
    "        data_features.insert(data_features.shape[1], 'state_RST', auxCol, True)\n",
    "    if 'proto_igmp' not in proto_cols:\n",
    "        data_features.insert(data_features.shape[1], 'proto_igmp', auxCol, True)\n",
    "    if 'proto_arp' not in proto_cols:\n",
    "        data_features.insert(data_features.shape[1], 'proto_arp', auxCol, True)\n",
    "    if 'proto_icmp' not in proto_cols:\n",
    "        data_features.insert(data_features.shape[1], 'proto_icmp', auxCol, True)\n",
    "    if 'proto_udp' not in proto_cols:\n",
    "        data_features.insert(data_features.shape[1], 'proto_udp', auxCol, True)\n",
    "    if 'proto_tcp' not in proto_cols:\n",
    "        data_features.insert(data_features.shape[1], 'proto_tcp', auxCol, True)\n",
    "\n",
    "    # Normalize all data features\n",
    "    data_features = StandardScaler().fit_transform(data_features)\n",
    "\n",
    "    #Add dimension to data features\n",
    "    data_features = np.expand_dims(data_features, axis=2)\n",
    "    data_features = np.expand_dims(data_features, axis=3)\n",
    "\n",
    "    x = data_features\n",
    "    y = data_labels.to_numpy()\n",
    "\n",
    "    return x, y"
   ]
  },
  {
   "cell_type": "code",
   "execution_count": 3,
   "metadata": {},
   "outputs": [],
   "source": [
    "def evaluate_detection(model, x, y): \n",
    "    # Need to return FNR, F1, Precision, Recall, Accuracy, number of false positives, number of false negatives, number of true positives, number of true negatives\n",
    "    y_pred = model.predict(x)\n",
    "    y_pred = np.argmax(y_pred, axis=1)\n",
    "    y_true = np.argmax(y, axis=1)\n",
    "    report = classification_report(y_true, y_pred, output_dict=True)\n",
    "    cm = confusion_matrix(y_true, y_pred)\n",
    "    tn, fp, fn, tp = cm.ravel()\n",
    "    f1 = report['weighted avg']['f1-score']\n",
    "    precision = report['weighted avg']['precision']\n",
    "    recall = report['weighted avg']['recall']\n",
    "    accuracy = report['accuracy']\n",
    "    FNR = fn / (fn + tp)\n",
    "\n",
    "    \n",
    "    return FNR, f1, precision, recall, accuracy, cm"
   ]
  },
  {
   "cell_type": "code",
   "execution_count": 5,
   "metadata": {},
   "outputs": [],
   "source": [
    "xbasic, ybasic = preprocessing(test_basic)\n",
    "xplus, yplus = preprocessing(test_plus)\n",
    "xcom, ycom = preprocessing(test_complete)"
   ]
  },
  {
   "cell_type": "markdown",
   "metadata": {},
   "source": [
    "#### 910, 911, 912, 913, 914, 915, 916, 917"
   ]
  },
  {
   "cell_type": "code",
   "execution_count": 34,
   "metadata": {},
   "outputs": [],
   "source": [
    "mod910 = models.load_model('C:/Users/UX430/Documents/thesis/code/models/ID910.hdf5')\n",
    "mod911 = models.load_model('C:/Users/UX430/Documents/thesis/code/models/ID911.hdf5')\n",
    "mod912 = models.load_model('C:/Users/UX430/Documents/thesis/code/models/ID912.hdf5')\n",
    "mod913 = models.load_model('C:/Users/UX430/Documents/thesis/code/models/ID913.hdf5')\n",
    "mod914 = models.load_model('C:/Users/UX430/Documents/thesis/code/models/ID914.hdf5')\n",
    "mod915 = models.load_model('C:/Users/UX430/Documents/thesis/code/models/ID915.hdf5')\n",
    "mod916 = models.load_model('C:/Users/UX430/Documents/thesis/code/models/ID916.hdf5')\n",
    "mod917 = models.load_model('C:/Users/UX430/Documents/thesis/code/models/ID917.hdf5')"
   ]
  },
  {
   "cell_type": "code",
   "execution_count": 28,
   "metadata": {},
   "outputs": [
    {
     "data": {
      "text/plain": [
       "(0.8415586831173663,\n",
       " 0.5063974935793695,\n",
       " 0.7144701972247314,\n",
       " 0.593298080574951,\n",
       " 0.593298080574951,\n",
       " array([[71010,  1390],\n",
       "        [54294, 10222]], dtype=int64))"
      ]
     },
     "execution_count": 28,
     "metadata": {},
     "output_type": "execute_result"
    }
   ],
   "source": [
    "evaluate_detection(mod910, xbasic, ybasic)"
   ]
  },
  {
   "cell_type": "code",
   "execution_count": 36,
   "metadata": {},
   "outputs": [
    {
     "data": {
      "text/plain": [
       "(0.6102725280178652,\n",
       " 0.6953794476261614,\n",
       " 0.8076431743442479,\n",
       " 0.7279117924871031,\n",
       " 0.7279117924871031,\n",
       " array([[30649,   222],\n",
       "        [14757,  9424]], dtype=int64))"
      ]
     },
     "execution_count": 36,
     "metadata": {},
     "output_type": "execute_result"
    }
   ],
   "source": [
    "evaluate_detection(mod910, xplus, yplus)"
   ]
  },
  {
   "cell_type": "code",
   "execution_count": 29,
   "metadata": {},
   "outputs": [
    {
     "data": {
      "text/plain": [
       "(0.2876960753921508,\n",
       " 0.8560237382588983,\n",
       " 0.8846263110674074,\n",
       " 0.8596073504922727,\n",
       " 0.8596073504922727,\n",
       " array([[71739,   661],\n",
       "        [18561, 45955]], dtype=int64))"
      ]
     },
     "execution_count": 29,
     "metadata": {},
     "output_type": "execute_result"
    }
   ],
   "source": [
    "evaluate_detection(mod911, xbasic, ybasic)"
   ]
  },
  {
   "cell_type": "code",
   "execution_count": 37,
   "metadata": {},
   "outputs": [
    {
     "data": {
      "text/plain": [
       "(0.7614242587155204,\n",
       " 0.5989273184549058,\n",
       " 0.7781947755840517,\n",
       " 0.6627007193199157,\n",
       " 0.6627007193199157,\n",
       " array([[30714,   157],\n",
       "        [18412,  5769]], dtype=int64))"
      ]
     },
     "execution_count": 37,
     "metadata": {},
     "output_type": "execute_result"
    }
   ],
   "source": [
    "evaluate_detection(mod911, xplus, yplus)"
   ]
  },
  {
   "cell_type": "code",
   "execution_count": 30,
   "metadata": {},
   "outputs": [
    {
     "data": {
      "text/plain": [
       "(0.8828507657015314,\n",
       " 0.4760500893877768,\n",
       " 0.7379895399508547,\n",
       " 0.5804653948406322,\n",
       " 0.5804653948406322,\n",
       " array([[71917,   483],\n",
       "        [56958,  7558]], dtype=int64))"
      ]
     },
     "execution_count": 30,
     "metadata": {},
     "output_type": "execute_result"
    }
   ],
   "source": [
    "evaluate_detection(mod912, xbasic, ybasic)"
   ]
  },
  {
   "cell_type": "code",
   "execution_count": 38,
   "metadata": {},
   "outputs": [
    {
     "data": {
      "text/plain": [
       "(0.9368926016293785,\n",
       " 0.46206753347746077,\n",
       " 0.7540550333979036,\n",
       " 0.5879350432318535,\n",
       " 0.5879350432318535,\n",
       " array([[30841,    30],\n",
       "        [22655,  1526]], dtype=int64))"
      ]
     },
     "execution_count": 38,
     "metadata": {},
     "output_type": "execute_result"
    }
   ],
   "source": [
    "evaluate_detection(mod912, xplus, yplus)"
   ]
  },
  {
   "cell_type": "code",
   "execution_count": 31,
   "metadata": {},
   "outputs": [
    {
     "data": {
      "text/plain": [
       "(0.8535402070804141,\n",
       " 0.49973910462752014,\n",
       " 0.7355091256181312,\n",
       " 0.5923193783049461,\n",
       " 0.5923193783049461,\n",
       " array([[71649,   751],\n",
       "        [55067,  9449]], dtype=int64))"
      ]
     },
     "execution_count": 31,
     "metadata": {},
     "output_type": "execute_result"
    }
   ],
   "source": [
    "evaluate_detection(mod913, xbasic, ybasic)"
   ]
  },
  {
   "cell_type": "code",
   "execution_count": 39,
   "metadata": {},
   "outputs": [
    {
     "data": {
      "text/plain": [
       "(0.8952483354699972,\n",
       " 0.49776575214342295,\n",
       " 0.7580904276221205,\n",
       " 0.6056455714597109,\n",
       " 0.6056455714597109,\n",
       " array([[30809,    62],\n",
       "        [21648,  2533]], dtype=int64))"
      ]
     },
     "execution_count": 39,
     "metadata": {},
     "output_type": "execute_result"
    }
   ],
   "source": [
    "evaluate_detection(mod913, xplus, yplus)"
   ]
  },
  {
   "cell_type": "code",
   "execution_count": 32,
   "metadata": {},
   "outputs": [
    {
     "data": {
      "text/plain": [
       "(0.8739382478764958,\n",
       " 0.4837946867218398,\n",
       " 0.7414682594253333,\n",
       " 0.5847015688451314,\n",
       " 0.5847015688451314,\n",
       " array([[71922,   478],\n",
       "        [56383,  8133]], dtype=int64))"
      ]
     },
     "execution_count": 32,
     "metadata": {},
     "output_type": "execute_result"
    }
   ],
   "source": [
    "evaluate_detection(mod914, xbasic, ybasic)"
   ]
  },
  {
   "cell_type": "code",
   "execution_count": 40,
   "metadata": {},
   "outputs": [
    {
     "data": {
      "text/plain": [
       "(0.92225300856044,\n",
       " 0.47302792034124125,\n",
       " 0.7193566642547569,\n",
       " 0.5910593620576909,\n",
       " 0.5910593620576909,\n",
       " array([[30659,   212],\n",
       "        [22301,  1880]], dtype=int64))"
      ]
     },
     "execution_count": 40,
     "metadata": {},
     "output_type": "execute_result"
    }
   ],
   "source": [
    "evaluate_detection(mod914, xplus, yplus)"
   ]
  },
  {
   "cell_type": "code",
   "execution_count": 33,
   "metadata": {},
   "outputs": [
    {
     "data": {
      "text/plain": [
       "(0.8582522165044331,\n",
       " 0.49617727724775007,\n",
       " 0.7372821739744763,\n",
       " 0.5906614274445645,\n",
       " 0.5906614274445645,\n",
       " array([[71726,   674],\n",
       "        [55371,  9145]], dtype=int64))"
      ]
     },
     "execution_count": 33,
     "metadata": {},
     "output_type": "execute_result"
    }
   ],
   "source": [
    "evaluate_detection(mod915, xbasic, ybasic)"
   ]
  },
  {
   "cell_type": "code",
   "execution_count": 41,
   "metadata": {},
   "outputs": [
    {
     "data": {
      "text/plain": [
       "(0.7052231090525619,\n",
       " 0.6368594826811318,\n",
       " 0.7895831169954107,\n",
       " 0.6871684952408632,\n",
       " 0.6871684952408632,\n",
       " array([[30702,   169],\n",
       "        [17053,  7128]], dtype=int64))"
      ]
     },
     "execution_count": 41,
     "metadata": {},
     "output_type": "execute_result"
    }
   ],
   "source": [
    "evaluate_detection(mod915, xplus, yplus)"
   ]
  },
  {
   "cell_type": "code",
   "execution_count": 34,
   "metadata": {},
   "outputs": [
    {
     "data": {
      "text/plain": [
       "(0.8445811891623783,\n",
       " 0.5035784985272762,\n",
       " 0.7104288177094473,\n",
       " 0.5913698910280756,\n",
       " 0.5913698910280756,\n",
       " array([[70941,  1459],\n",
       "        [54489, 10027]], dtype=int64))"
      ]
     },
     "execution_count": 34,
     "metadata": {},
     "output_type": "execute_result"
    }
   ],
   "source": [
    "evaluate_detection(mod916, xbasic, ybasic)"
   ]
  },
  {
   "cell_type": "code",
   "execution_count": 42,
   "metadata": {},
   "outputs": [
    {
     "data": {
      "text/plain": [
       "(0.6063024688805261,\n",
       " 0.6969376973614473,\n",
       " 0.8061525739118192,\n",
       " 0.7287473661265712,\n",
       " 0.7287473661265712,\n",
       " array([[30599,   272],\n",
       "        [14661,  9520]], dtype=int64))"
      ]
     },
     "execution_count": 42,
     "metadata": {},
     "output_type": "execute_result"
    }
   ],
   "source": [
    "evaluate_detection(mod916, xplus, yplus)"
   ]
  },
  {
   "cell_type": "code",
   "execution_count": 35,
   "metadata": {},
   "outputs": [
    {
     "data": {
      "text/plain": [
       "(0.07235414470828942,\n",
       " 0.9641574953615748,\n",
       " 0.9661124994480643,\n",
       " 0.9642627596482515,\n",
       " 0.9642627596482515,\n",
       " array([[72175,   225],\n",
       "        [ 4668, 59848]], dtype=int64))"
      ]
     },
     "execution_count": 35,
     "metadata": {},
     "output_type": "execute_result"
    }
   ],
   "source": [
    "evaluate_detection(mod917, xbasic, ybasic)"
   ]
  },
  {
   "cell_type": "code",
   "execution_count": 43,
   "metadata": {},
   "outputs": [
    {
     "data": {
      "text/plain": [
       "(0.7047682064430751,\n",
       " 0.6362723102708954,\n",
       " 0.7859974529417739,\n",
       " 0.6862965923127226,\n",
       " 0.6862965923127226,\n",
       " array([[30643,   228],\n",
       "        [17042,  7139]], dtype=int64))"
      ]
     },
     "execution_count": 43,
     "metadata": {},
     "output_type": "execute_result"
    }
   ],
   "source": [
    "evaluate_detection(mod917, xplus, yplus)"
   ]
  },
  {
   "cell_type": "code",
   "execution_count": 35,
   "metadata": {},
   "outputs": [
    {
     "data": {
      "text/plain": [
       "(0.7881117125160426,\n",
       " 0.5280034936318392,\n",
       " 0.7452920639657324,\n",
       " 0.598581283262072,\n",
       " 0.598581283262072,\n",
       " array([[70629,  1056],\n",
       "        [56495, 15189]], dtype=int64))"
      ]
     },
     "execution_count": 35,
     "metadata": {},
     "output_type": "execute_result"
    }
   ],
   "source": [
    "evaluate_detection(mod910, xcom, ycom)"
   ]
  },
  {
   "cell_type": "code",
   "execution_count": 36,
   "metadata": {},
   "outputs": [
    {
     "data": {
      "text/plain": [
       "(0.3008342168405781,\n",
       " 0.8414632128852411,\n",
       " 0.8768048304643389,\n",
       " 0.8448269849130565,\n",
       " 0.8448269849130565,\n",
       " array([[71003,   682],\n",
       "        [21565, 50119]], dtype=int64))"
      ]
     },
     "execution_count": 36,
     "metadata": {},
     "output_type": "execute_result"
    }
   ],
   "source": [
    "evaluate_detection(mod911, xcom, ycom)"
   ]
  },
  {
   "cell_type": "code",
   "execution_count": 37,
   "metadata": {},
   "outputs": [
    {
     "data": {
      "text/plain": [
       "(0.846757993415546,\n",
       " 0.4814320830692171,\n",
       " 0.7450890282096714,\n",
       " 0.5726482014940468,\n",
       " 0.5726482014940468,\n",
       " array([[71115,   570],\n",
       "        [60699, 10985]], dtype=int64))"
      ]
     },
     "execution_count": 37,
     "metadata": {},
     "output_type": "execute_result"
    }
   ],
   "source": [
    "evaluate_detection(mod912, xcom, ycom)"
   ]
  },
  {
   "cell_type": "code",
   "execution_count": 38,
   "metadata": {},
   "outputs": [
    {
     "data": {
      "text/plain": [
       "(0.8055354053903242,\n",
       " 0.5155912259094523,\n",
       " 0.7512245540767714,\n",
       " 0.5922340254866812,\n",
       " 0.5922340254866812,\n",
       " array([[70968,   717],\n",
       "        [57744, 13940]], dtype=int64))"
      ]
     },
     "execution_count": 38,
     "metadata": {},
     "output_type": "execute_result"
    }
   ],
   "source": [
    "evaluate_detection(mod913, xcom, ycom)"
   ]
  },
  {
   "cell_type": "code",
   "execution_count": 39,
   "metadata": {},
   "outputs": [
    {
     "data": {
      "text/plain": [
       "(0.8376625188326544,\n",
       " 0.4895201075654078,\n",
       " 0.7495894896071347,\n",
       " 0.5775097824494835,\n",
       " 0.5775097824494835,\n",
       " array([[71160,   525],\n",
       "        [60047, 11637]], dtype=int64))"
      ]
     },
     "execution_count": 39,
     "metadata": {},
     "output_type": "execute_result"
    }
   ],
   "source": [
    "evaluate_detection(mod914, xcom, ycom)"
   ]
  },
  {
   "cell_type": "code",
   "execution_count": 40,
   "metadata": {},
   "outputs": [
    {
     "data": {
      "text/plain": [
       "(0.8193878689805256,\n",
       " 0.5040938597050593,\n",
       " 0.7473728475059096,\n",
       " 0.5853148170106508,\n",
       " 0.5853148170106508,\n",
       " array([[70969,   716],\n",
       "        [58737, 12947]], dtype=int64))"
      ]
     },
     "execution_count": 40,
     "metadata": {},
     "output_type": "execute_result"
    }
   ],
   "source": [
    "evaluate_detection(mod915, xcom, ycom)"
   ]
  },
  {
   "cell_type": "code",
   "execution_count": 41,
   "metadata": {},
   "outputs": [
    {
     "data": {
      "text/plain": [
       "(0.7920316946598962,\n",
       " 0.5253266440145772,\n",
       " 0.7469744958772219,\n",
       " 0.5972630066471831,\n",
       " 0.5972630066471831,\n",
       " array([[70721,   964],\n",
       "        [56776, 14908]], dtype=int64))"
      ]
     },
     "execution_count": 41,
     "metadata": {},
     "output_type": "execute_result"
    }
   ],
   "source": [
    "evaluate_detection(mod916, xcom, ycom)"
   ]
  },
  {
   "cell_type": "code",
   "execution_count": 42,
   "metadata": {},
   "outputs": [
    {
     "data": {
      "text/plain": [
       "(0.13743652697952125,\n",
       " 0.929220949557373,\n",
       " 0.9373860293404368,\n",
       " 0.929538463684618,\n",
       " 0.929538463684618,\n",
       " array([[71435,   250],\n",
       "        [ 9852, 61832]], dtype=int64))"
      ]
     },
     "execution_count": 42,
     "metadata": {},
     "output_type": "execute_result"
    }
   ],
   "source": [
    "evaluate_detection(mod917, xcom, ycom)"
   ]
  },
  {
   "cell_type": "markdown",
   "metadata": {},
   "source": [
    "#### 900"
   ]
  },
  {
   "cell_type": "code",
   "execution_count": 43,
   "metadata": {},
   "outputs": [],
   "source": [
    "mod_900 = models.load_model('C:/Users/UX430/Documents/thesis/code/models/ID900.hdf5')\n",
    "mod_900_0 = models.load_model('C:/Users/UX430/Documents/thesis/code/models/node0id900.hdf5')\n",
    "mod_900_1 = models.load_model('C:/Users/UX430/Documents/thesis/code/models/node1id900.hdf5')\n",
    "mod_900_2 = models.load_model('C:/Users/UX430/Documents/thesis/code/models/node2id900.hdf5')\n"
   ]
  },
  {
   "cell_type": "code",
   "execution_count": 45,
   "metadata": {},
   "outputs": [
    {
     "data": {
      "text/plain": [
       "(0.5132990265980532,\n",
       " 0.7356653483572342,\n",
       " 0.8262189548215215,\n",
       " 0.7546378801600981,\n",
       " 0.7546378801600981,\n",
       " array([[71922,   478],\n",
       "        [33116, 31400]], dtype=int64))"
      ]
     },
     "execution_count": 45,
     "metadata": {},
     "output_type": "execute_result"
    }
   ],
   "source": [
    "evaluate_detection(mod_900, xbasic, ybasic)"
   ]
  },
  {
   "cell_type": "code",
   "execution_count": 49,
   "metadata": {},
   "outputs": [
    {
     "data": {
      "text/plain": [
       "(0.8948347876431909,\n",
       " 0.49782254466752396,\n",
       " 0.7540072721991109,\n",
       " 0.6053731017946669,\n",
       " 0.6053731017946669,\n",
       " array([[30784,    87],\n",
       "        [21638,  2543]], dtype=int64))"
      ]
     },
     "execution_count": 49,
     "metadata": {},
     "output_type": "execute_result"
    }
   ],
   "source": [
    "evaluate_detection(mod_900, xplus, yplus)"
   ]
  },
  {
   "cell_type": "code",
   "execution_count": 46,
   "metadata": {},
   "outputs": [
    {
     "data": {
      "text/plain": [
       "(0.4534534069068138,\n",
       " 0.7693972311368287,\n",
       " 0.8402191759738504,\n",
       " 0.782545502351807,\n",
       " 0.782545502351807,\n",
       " array([[71882,   518],\n",
       "        [29255, 35261]], dtype=int64))"
      ]
     },
     "execution_count": 46,
     "metadata": {},
     "output_type": "execute_result"
    }
   ],
   "source": [
    "evaluate_detection(mod_900_0, xbasic, ybasic)"
   ]
  },
  {
   "cell_type": "code",
   "execution_count": 50,
   "metadata": {},
   "outputs": [
    {
     "data": {
      "text/plain": [
       "(0.8790372606591952,\n",
       " 0.5106748244833054,\n",
       " 0.7555097420945571,\n",
       " 0.6119668676887307,\n",
       " 0.6119668676887307,\n",
       " array([[30765,   106],\n",
       "        [21256,  2925]], dtype=int64))"
      ]
     },
     "execution_count": 50,
     "metadata": {},
     "output_type": "execute_result"
    }
   ],
   "source": [
    "evaluate_detection(mod_900_0, xplus, yplus)"
   ]
  },
  {
   "cell_type": "code",
   "execution_count": 47,
   "metadata": {},
   "outputs": [
    {
     "data": {
      "text/plain": [
       "(0.3904612809225618,\n",
       " 0.8036365812035009,\n",
       " 0.8565316536045363,\n",
       " 0.8121622016418826,\n",
       " 0.8121622016418826,\n",
       " array([[71873,   527],\n",
       "        [25191, 39325]], dtype=int64))"
      ]
     },
     "execution_count": 47,
     "metadata": {},
     "output_type": "execute_result"
    }
   ],
   "source": [
    "evaluate_detection(mod_900_1, xbasic, ybasic)"
   ]
  },
  {
   "cell_type": "code",
   "execution_count": 51,
   "metadata": {},
   "outputs": [
    {
     "data": {
      "text/plain": [
       "(0.8893759563293495,\n",
       " 0.5022470844694719,\n",
       " 0.7537969265771943,\n",
       " 0.6075710237593548,\n",
       " 0.6075710237593548,\n",
       " array([[30773,    98],\n",
       "        [21506,  2675]], dtype=int64))"
      ]
     },
     "execution_count": 51,
     "metadata": {},
     "output_type": "execute_result"
    }
   ],
   "source": [
    "evaluate_detection(mod_900_1, xplus, yplus)"
   ]
  },
  {
   "cell_type": "code",
   "execution_count": 48,
   "metadata": {},
   "outputs": [
    {
     "data": {
      "text/plain": [
       "(0.5140430280860562,\n",
       " 0.7352193882095733,\n",
       " 0.8260105773066937,\n",
       " 0.7542726927459172,\n",
       " 0.7542726927459172,\n",
       " array([[71920,   480],\n",
       "        [33164, 31352]], dtype=int64))"
      ]
     },
     "execution_count": 48,
     "metadata": {},
     "output_type": "execute_result"
    }
   ],
   "source": [
    "evaluate_detection(mod_900_2, xbasic, ybasic)"
   ]
  },
  {
   "cell_type": "code",
   "execution_count": 52,
   "metadata": {},
   "outputs": [
    {
     "data": {
      "text/plain": [
       "(0.9045118067904553,\n",
       " 0.4898873040465314,\n",
       " 0.7547763420751633,\n",
       " 0.6014858679067064,\n",
       " 0.6014858679067064,\n",
       " array([[30804,    67],\n",
       "        [21872,  2309]], dtype=int64))"
      ]
     },
     "execution_count": 52,
     "metadata": {},
     "output_type": "execute_result"
    }
   ],
   "source": [
    "evaluate_detection(mod_900_2, xplus, yplus)"
   ]
  },
  {
   "cell_type": "markdown",
   "metadata": {},
   "source": [
    "#### 901"
   ]
  },
  {
   "cell_type": "code",
   "execution_count": 44,
   "metadata": {},
   "outputs": [],
   "source": [
    "mod_901 = models.load_model('C:/Users/UX430/Documents/thesis/code/models/ID901.hdf5')\n",
    "mod_901_0 = models.load_model('C:/Users/UX430/Documents/thesis/code/models/node0id901.hdf5')\n",
    "mod_901_1 = models.load_model('C:/Users/UX430/Documents/thesis/code/models/node1id901.hdf5')\n",
    "mod_901_2 = models.load_model('C:/Users/UX430/Documents/thesis/code/models/node2id901.hdf5')\n"
   ]
  },
  {
   "cell_type": "code",
   "execution_count": 54,
   "metadata": {},
   "outputs": [
    {
     "data": {
      "text/plain": [
       "(4.6500093000186e-05,\n",
       " 0.6711269993979918,\n",
       " 0.8149807420106494,\n",
       " 0.6954994303076338,\n",
       " 0.6954994303076338,\n",
       " array([[30712, 41688],\n",
       "        [    3, 64513]], dtype=int64))"
      ]
     },
     "execution_count": 54,
     "metadata": {},
     "output_type": "execute_result"
    }
   ],
   "source": [
    "evaluate_detection(mod_901, xbasic, ybasic)"
   ]
  },
  {
   "cell_type": "code",
   "execution_count": 55,
   "metadata": {},
   "outputs": [
    {
     "data": {
      "text/plain": [
       "(0.0,\n",
       " 0.6762043226949995,\n",
       " 0.819670241181861,\n",
       " 0.6940710600886435,\n",
       " 0.6940710600886435,\n",
       " array([[14029, 16842],\n",
       "        [    0, 24181]], dtype=int64))"
      ]
     },
     "execution_count": 55,
     "metadata": {},
     "output_type": "execute_result"
    }
   ],
   "source": [
    "evaluate_detection(mod_901, xplus, yplus)"
   ]
  },
  {
   "cell_type": "code",
   "execution_count": 56,
   "metadata": {},
   "outputs": [
    {
     "name": "stderr",
     "output_type": "stream",
     "text": [
      "c:\\Users\\UX430\\anaconda3\\lib\\site-packages\\sklearn\\metrics\\_classification.py:1308: UndefinedMetricWarning: Precision and F-score are ill-defined and being set to 0.0 in labels with no predicted samples. Use `zero_division` parameter to control this behavior.\n",
      "  _warn_prf(average, modifier, msg_start, len(result))\n",
      "c:\\Users\\UX430\\anaconda3\\lib\\site-packages\\sklearn\\metrics\\_classification.py:1308: UndefinedMetricWarning: Precision and F-score are ill-defined and being set to 0.0 in labels with no predicted samples. Use `zero_division` parameter to control this behavior.\n",
      "  _warn_prf(average, modifier, msg_start, len(result))\n",
      "c:\\Users\\UX430\\anaconda3\\lib\\site-packages\\sklearn\\metrics\\_classification.py:1308: UndefinedMetricWarning: Precision and F-score are ill-defined and being set to 0.0 in labels with no predicted samples. Use `zero_division` parameter to control this behavior.\n",
      "  _warn_prf(average, modifier, msg_start, len(result))\n"
     ]
    },
    {
     "data": {
      "text/plain": [
       "(1.0,\n",
       " 0.36580572534487127,\n",
       " 0.2796203190506846,\n",
       " 0.5287913757340267,\n",
       " 0.5287913757340267,\n",
       " array([[72400,     0],\n",
       "        [64516,     0]], dtype=int64))"
      ]
     },
     "execution_count": 56,
     "metadata": {},
     "output_type": "execute_result"
    }
   ],
   "source": [
    "evaluate_detection(mod_901_0, xbasic, ybasic)"
   ]
  },
  {
   "cell_type": "code",
   "execution_count": 57,
   "metadata": {},
   "outputs": [
    {
     "name": "stderr",
     "output_type": "stream",
     "text": [
      "c:\\Users\\UX430\\anaconda3\\lib\\site-packages\\sklearn\\metrics\\_classification.py:1308: UndefinedMetricWarning: Precision and F-score are ill-defined and being set to 0.0 in labels with no predicted samples. Use `zero_division` parameter to control this behavior.\n",
      "  _warn_prf(average, modifier, msg_start, len(result))\n",
      "c:\\Users\\UX430\\anaconda3\\lib\\site-packages\\sklearn\\metrics\\_classification.py:1308: UndefinedMetricWarning: Precision and F-score are ill-defined and being set to 0.0 in labels with no predicted samples. Use `zero_division` parameter to control this behavior.\n",
      "  _warn_prf(average, modifier, msg_start, len(result))\n",
      "c:\\Users\\UX430\\anaconda3\\lib\\site-packages\\sklearn\\metrics\\_classification.py:1308: UndefinedMetricWarning: Precision and F-score are ill-defined and being set to 0.0 in labels with no predicted samples. Use `zero_division` parameter to control this behavior.\n",
      "  _warn_prf(average, modifier, msg_start, len(result))\n"
     ]
    },
    {
     "data": {
      "text/plain": [
       "(1.0,\n",
       " 0.4029478640083462,\n",
       " 0.31445260225958305,\n",
       " 0.5607607353048027,\n",
       " 0.5607607353048027,\n",
       " array([[30871,     0],\n",
       "        [24181,     0]], dtype=int64))"
      ]
     },
     "execution_count": 57,
     "metadata": {},
     "output_type": "execute_result"
    }
   ],
   "source": [
    "evaluate_detection(mod_901_0, xplus, yplus)"
   ]
  },
  {
   "cell_type": "code",
   "execution_count": 58,
   "metadata": {},
   "outputs": [
    {
     "data": {
      "text/plain": [
       "(0.00015500031000062,\n",
       " 0.8674115613403924,\n",
       " 0.8972396646715455,\n",
       " 0.8686859096088112,\n",
       " 0.8686859096088112,\n",
       " array([[54431, 17969],\n",
       "        [   10, 64506]], dtype=int64))"
      ]
     },
     "execution_count": 58,
     "metadata": {},
     "output_type": "execute_result"
    }
   ],
   "source": [
    "evaluate_detection(mod_901_1, xbasic, ybasic)"
   ]
  },
  {
   "cell_type": "code",
   "execution_count": 59,
   "metadata": {},
   "outputs": [
    {
     "data": {
      "text/plain": [
       "(0.026260287002191803,\n",
       " 0.871134353762791,\n",
       " 0.8910863385115998,\n",
       " 0.8709220373465087,\n",
       " 0.8709220373465087,\n",
       " array([[24400,  6471],\n",
       "        [  635, 23546]], dtype=int64))"
      ]
     },
     "execution_count": 59,
     "metadata": {},
     "output_type": "execute_result"
    }
   ],
   "source": [
    "evaluate_detection(mod_901_1, xplus, yplus)"
   ]
  },
  {
   "cell_type": "code",
   "execution_count": 60,
   "metadata": {},
   "outputs": [
    {
     "data": {
      "text/plain": [
       "(0.0,\n",
       " 0.3855818607562937,\n",
       " 0.7601955775025923,\n",
       " 0.5116859972537906,\n",
       " 0.5116859972537906,\n",
       " array([[ 5542, 66858],\n",
       "        [    0, 64516]], dtype=int64))"
      ]
     },
     "execution_count": 60,
     "metadata": {},
     "output_type": "execute_result"
    }
   ],
   "source": [
    "evaluate_detection(mod_901_2, xbasic, ybasic)"
   ]
  },
  {
   "cell_type": "code",
   "execution_count": 61,
   "metadata": {},
   "outputs": [
    {
     "data": {
      "text/plain": [
       "(0.0,\n",
       " 0.29160603781147343,\n",
       " 0.7558249163809195,\n",
       " 0.45017438058562814,\n",
       " 0.45017438058562814,\n",
       " array([[  602, 30269],\n",
       "        [    0, 24181]], dtype=int64))"
      ]
     },
     "execution_count": 61,
     "metadata": {},
     "output_type": "execute_result"
    }
   ],
   "source": [
    "evaluate_detection(mod_901_2, xplus, yplus)"
   ]
  },
  {
   "cell_type": "markdown",
   "metadata": {},
   "source": [
    "#### 902"
   ]
  },
  {
   "cell_type": "code",
   "execution_count": 45,
   "metadata": {},
   "outputs": [],
   "source": [
    "mod_902 = models.load_model('C:/Users/UX430/Documents/thesis/code/models/ID902.hdf5')\n",
    "mod_902_0 = models.load_model('C:/Users/UX430/Documents/thesis/code/models/node0id902.hdf5')\n",
    "mod_902_1 = models.load_model('C:/Users/UX430/Documents/thesis/code/models/node1id902.hdf5')\n",
    "mod_902_2 = models.load_model('C:/Users/UX430/Documents/thesis/code/models/node2id902.hdf5')\n"
   ]
  },
  {
   "cell_type": "code",
   "execution_count": 63,
   "metadata": {},
   "outputs": [
    {
     "data": {
      "text/plain": [
       "(0.8228811457622915,\n",
       " 0.5183148087073767,\n",
       " 0.7028923191363293,\n",
       " 0.5977387595313916,\n",
       " 0.5977387595313916,\n",
       " array([[70413,  1987],\n",
       "        [53089, 11427]], dtype=int64))"
      ]
     },
     "execution_count": 63,
     "metadata": {},
     "output_type": "execute_result"
    }
   ],
   "source": [
    "evaluate_detection(mod_902, xbasic, ybasic)"
   ]
  },
  {
   "cell_type": "code",
   "execution_count": 64,
   "metadata": {},
   "outputs": [
    {
     "data": {
      "text/plain": [
       "(0.3011455274802531,\n",
       " 0.8422116840360242,\n",
       " 0.8610411045317384,\n",
       " 0.8463997674925525,\n",
       " 0.8463997674925525,\n",
       " array([[29697,  1174],\n",
       "        [ 7282, 16899]], dtype=int64))"
      ]
     },
     "execution_count": 64,
     "metadata": {},
     "output_type": "execute_result"
    }
   ],
   "source": [
    "evaluate_detection(mod_902, xplus, yplus)"
   ]
  },
  {
   "cell_type": "code",
   "execution_count": 65,
   "metadata": {},
   "outputs": [
    {
     "data": {
      "text/plain": [
       "(0.8224316448632897,\n",
       " 0.5173775718898278,\n",
       " 0.6954131327694697,\n",
       " 0.5961465424055625,\n",
       " 0.5961465424055625,\n",
       " array([[70166,  2234],\n",
       "        [53060, 11456]], dtype=int64))"
      ]
     },
     "execution_count": 65,
     "metadata": {},
     "output_type": "execute_result"
    }
   ],
   "source": [
    "evaluate_detection(mod_902_0, xbasic, ybasic)"
   ]
  },
  {
   "cell_type": "code",
   "execution_count": 66,
   "metadata": {},
   "outputs": [
    {
     "data": {
      "text/plain": [
       "(0.29432198833795126,\n",
       " 0.8522380003359403,\n",
       " 0.8732756899223758,\n",
       " 0.8563721572331614,\n",
       " 0.8563721572331614,\n",
       " array([[30081,   790],\n",
       "        [ 7117, 17064]], dtype=int64))"
      ]
     },
     "execution_count": 66,
     "metadata": {},
     "output_type": "execute_result"
    }
   ],
   "source": [
    "evaluate_detection(mod_902_0, xplus, yplus)"
   ]
  },
  {
   "cell_type": "code",
   "execution_count": 67,
   "metadata": {},
   "outputs": [
    {
     "data": {
      "text/plain": [
       "(0.8225711451422902,\n",
       " 0.5154894600895281,\n",
       " 0.6851499246811477,\n",
       " 0.5935975342545794,\n",
       " 0.5935975342545794,\n",
       " array([[69826,  2574],\n",
       "        [53069, 11447]], dtype=int64))"
      ]
     },
     "execution_count": 67,
     "metadata": {},
     "output_type": "execute_result"
    }
   ],
   "source": [
    "evaluate_detection(mod_902_1, xbasic, ybasic)"
   ]
  },
  {
   "cell_type": "code",
   "execution_count": 68,
   "metadata": {},
   "outputs": [
    {
     "data": {
      "text/plain": [
       "(0.29498366486084115,\n",
       " 0.8400368672693922,\n",
       " 0.8557967620070023,\n",
       " 0.8438385526411393,\n",
       " 0.8438385526411393,\n",
       " array([[29407,  1464],\n",
       "        [ 7133, 17048]], dtype=int64))"
      ]
     },
     "execution_count": 68,
     "metadata": {},
     "output_type": "execute_result"
    }
   ],
   "source": [
    "evaluate_detection(mod_902_1, xplus, yplus)"
   ]
  },
  {
   "cell_type": "code",
   "execution_count": 69,
   "metadata": {},
   "outputs": [
    {
     "data": {
      "text/plain": [
       "(0.8235631471262943,\n",
       " 0.5142183031479978,\n",
       " 0.6818510737632014,\n",
       " 0.5924435420257677,\n",
       " 0.5924435420257677,\n",
       " array([[69732,  2668],\n",
       "        [53133, 11383]], dtype=int64))"
      ]
     },
     "execution_count": 69,
     "metadata": {},
     "output_type": "execute_result"
    }
   ],
   "source": [
    "evaluate_detection(mod_902_2, xbasic, ybasic)"
   ]
  },
  {
   "cell_type": "code",
   "execution_count": 70,
   "metadata": {},
   "outputs": [
    {
     "data": {
      "text/plain": [
       "(0.30370952400645135,\n",
       " 0.8331675295875275,\n",
       " 0.8489368297310398,\n",
       " 0.8371902928140666,\n",
       " 0.8371902928140666,\n",
       " array([[29252,  1619],\n",
       "        [ 7344, 16837]], dtype=int64))"
      ]
     },
     "execution_count": 70,
     "metadata": {},
     "output_type": "execute_result"
    }
   ],
   "source": [
    "evaluate_detection(mod_902_2, xplus, yplus)"
   ]
  },
  {
   "cell_type": "markdown",
   "metadata": {},
   "source": [
    "#### 903"
   ]
  },
  {
   "cell_type": "code",
   "execution_count": 46,
   "metadata": {},
   "outputs": [],
   "source": [
    "mod_903 = models.load_model('C:/Users/UX430/Documents/thesis/code/models/ID903.hdf5')\n",
    "mod_903_0 = models.load_model('C:/Users/UX430/Documents/thesis/code/models/node0id903.hdf5')\n",
    "mod_903_1 = models.load_model('C:/Users/UX430/Documents/thesis/code/models/node1id903.hdf5')\n",
    "mod_903_2 = models.load_model('C:/Users/UX430/Documents/thesis/code/models/node2id903.hdf5')\n"
   ]
  },
  {
   "cell_type": "code",
   "execution_count": 72,
   "metadata": {},
   "outputs": [
    {
     "data": {
      "text/plain": [
       "(7.750015500031e-05,\n",
       " 0.30200498464953024,\n",
       " 0.5855903787793216,\n",
       " 0.471252446755675,\n",
       " 0.471252446755675,\n",
       " array([[   11, 72389],\n",
       "        [    5, 64511]], dtype=int64))"
      ]
     },
     "execution_count": 72,
     "metadata": {},
     "output_type": "execute_result"
    }
   ],
   "source": [
    "evaluate_detection(mod_903, xbasic, ybasic)"
   ]
  },
  {
   "cell_type": "code",
   "execution_count": 73,
   "metadata": {},
   "outputs": [
    {
     "data": {
      "text/plain": [
       "(0.0,\n",
       " 0.26826037385846335,\n",
       " 0.7537058860749408,\n",
       " 0.4393119232725423,\n",
       " 0.4393119232725423,\n",
       " array([[    4, 30867],\n",
       "        [    0, 24181]], dtype=int64))"
      ]
     },
     "execution_count": 73,
     "metadata": {},
     "output_type": "execute_result"
    }
   ],
   "source": [
    "evaluate_detection(mod_903, xplus, yplus)"
   ]
  },
  {
   "cell_type": "code",
   "execution_count": 74,
   "metadata": {},
   "outputs": [
    {
     "name": "stderr",
     "output_type": "stream",
     "text": [
      "c:\\Users\\UX430\\anaconda3\\lib\\site-packages\\sklearn\\metrics\\_classification.py:1308: UndefinedMetricWarning: Precision and F-score are ill-defined and being set to 0.0 in labels with no predicted samples. Use `zero_division` parameter to control this behavior.\n",
      "  _warn_prf(average, modifier, msg_start, len(result))\n",
      "c:\\Users\\UX430\\anaconda3\\lib\\site-packages\\sklearn\\metrics\\_classification.py:1308: UndefinedMetricWarning: Precision and F-score are ill-defined and being set to 0.0 in labels with no predicted samples. Use `zero_division` parameter to control this behavior.\n",
      "  _warn_prf(average, modifier, msg_start, len(result))\n",
      "c:\\Users\\UX430\\anaconda3\\lib\\site-packages\\sklearn\\metrics\\_classification.py:1308: UndefinedMetricWarning: Precision and F-score are ill-defined and being set to 0.0 in labels with no predicted samples. Use `zero_division` parameter to control this behavior.\n",
      "  _warn_prf(average, modifier, msg_start, len(result))\n"
     ]
    },
    {
     "data": {
      "text/plain": [
       "(1.0,\n",
       " 0.36580572534487127,\n",
       " 0.2796203190506846,\n",
       " 0.5287913757340267,\n",
       " 0.5287913757340267,\n",
       " array([[72400,     0],\n",
       "        [64516,     0]], dtype=int64))"
      ]
     },
     "execution_count": 74,
     "metadata": {},
     "output_type": "execute_result"
    }
   ],
   "source": [
    "evaluate_detection(mod_903_0, xbasic, ybasic)"
   ]
  },
  {
   "cell_type": "code",
   "execution_count": 75,
   "metadata": {},
   "outputs": [
    {
     "name": "stderr",
     "output_type": "stream",
     "text": [
      "c:\\Users\\UX430\\anaconda3\\lib\\site-packages\\sklearn\\metrics\\_classification.py:1308: UndefinedMetricWarning: Precision and F-score are ill-defined and being set to 0.0 in labels with no predicted samples. Use `zero_division` parameter to control this behavior.\n",
      "  _warn_prf(average, modifier, msg_start, len(result))\n",
      "c:\\Users\\UX430\\anaconda3\\lib\\site-packages\\sklearn\\metrics\\_classification.py:1308: UndefinedMetricWarning: Precision and F-score are ill-defined and being set to 0.0 in labels with no predicted samples. Use `zero_division` parameter to control this behavior.\n",
      "  _warn_prf(average, modifier, msg_start, len(result))\n",
      "c:\\Users\\UX430\\anaconda3\\lib\\site-packages\\sklearn\\metrics\\_classification.py:1308: UndefinedMetricWarning: Precision and F-score are ill-defined and being set to 0.0 in labels with no predicted samples. Use `zero_division` parameter to control this behavior.\n",
      "  _warn_prf(average, modifier, msg_start, len(result))\n"
     ]
    },
    {
     "data": {
      "text/plain": [
       "(1.0,\n",
       " 0.4029478640083462,\n",
       " 0.31445260225958305,\n",
       " 0.5607607353048027,\n",
       " 0.5607607353048027,\n",
       " array([[30871,     0],\n",
       "        [24181,     0]], dtype=int64))"
      ]
     },
     "execution_count": 75,
     "metadata": {},
     "output_type": "execute_result"
    }
   ],
   "source": [
    "evaluate_detection(mod_903_0, xplus, yplus)"
   ]
  },
  {
   "cell_type": "code",
   "execution_count": 76,
   "metadata": {},
   "outputs": [
    {
     "name": "stderr",
     "output_type": "stream",
     "text": [
      "c:\\Users\\UX430\\anaconda3\\lib\\site-packages\\sklearn\\metrics\\_classification.py:1308: UndefinedMetricWarning: Precision and F-score are ill-defined and being set to 0.0 in labels with no predicted samples. Use `zero_division` parameter to control this behavior.\n",
      "  _warn_prf(average, modifier, msg_start, len(result))\n",
      "c:\\Users\\UX430\\anaconda3\\lib\\site-packages\\sklearn\\metrics\\_classification.py:1308: UndefinedMetricWarning: Precision and F-score are ill-defined and being set to 0.0 in labels with no predicted samples. Use `zero_division` parameter to control this behavior.\n",
      "  _warn_prf(average, modifier, msg_start, len(result))\n",
      "c:\\Users\\UX430\\anaconda3\\lib\\site-packages\\sklearn\\metrics\\_classification.py:1308: UndefinedMetricWarning: Precision and F-score are ill-defined and being set to 0.0 in labels with no predicted samples. Use `zero_division` parameter to control this behavior.\n",
      "  _warn_prf(average, modifier, msg_start, len(result))\n"
     ]
    },
    {
     "data": {
      "text/plain": [
       "(0.0,\n",
       " 0.30184375474744357,\n",
       " 0.2220375675826312,\n",
       " 0.4712086242659733,\n",
       " 0.4712086242659733,\n",
       " array([[    0, 72400],\n",
       "        [    0, 64516]], dtype=int64))"
      ]
     },
     "execution_count": 76,
     "metadata": {},
     "output_type": "execute_result"
    }
   ],
   "source": [
    "evaluate_detection(mod_903_1, xbasic, ybasic)"
   ]
  },
  {
   "cell_type": "code",
   "execution_count": 77,
   "metadata": {},
   "outputs": [
    {
     "name": "stderr",
     "output_type": "stream",
     "text": [
      "c:\\Users\\UX430\\anaconda3\\lib\\site-packages\\sklearn\\metrics\\_classification.py:1308: UndefinedMetricWarning: Precision and F-score are ill-defined and being set to 0.0 in labels with no predicted samples. Use `zero_division` parameter to control this behavior.\n",
      "  _warn_prf(average, modifier, msg_start, len(result))\n",
      "c:\\Users\\UX430\\anaconda3\\lib\\site-packages\\sklearn\\metrics\\_classification.py:1308: UndefinedMetricWarning: Precision and F-score are ill-defined and being set to 0.0 in labels with no predicted samples. Use `zero_division` parameter to control this behavior.\n",
      "  _warn_prf(average, modifier, msg_start, len(result))\n",
      "c:\\Users\\UX430\\anaconda3\\lib\\site-packages\\sklearn\\metrics\\_classification.py:1308: UndefinedMetricWarning: Precision and F-score are ill-defined and being set to 0.0 in labels with no predicted samples. Use `zero_division` parameter to control this behavior.\n",
      "  _warn_prf(average, modifier, msg_start, len(result))\n"
     ]
    },
    {
     "data": {
      "text/plain": [
       "(0.0,\n",
       " 0.2681015400046588,\n",
       " 0.19293113164997755,\n",
       " 0.43923926469519725,\n",
       " 0.43923926469519725,\n",
       " array([[    0, 30871],\n",
       "        [    0, 24181]], dtype=int64))"
      ]
     },
     "execution_count": 77,
     "metadata": {},
     "output_type": "execute_result"
    }
   ],
   "source": [
    "evaluate_detection(mod_903_1, xplus, yplus)"
   ]
  },
  {
   "cell_type": "code",
   "execution_count": 78,
   "metadata": {},
   "outputs": [
    {
     "name": "stderr",
     "output_type": "stream",
     "text": [
      "c:\\Users\\UX430\\anaconda3\\lib\\site-packages\\sklearn\\metrics\\_classification.py:1308: UndefinedMetricWarning: Precision and F-score are ill-defined and being set to 0.0 in labels with no predicted samples. Use `zero_division` parameter to control this behavior.\n",
      "  _warn_prf(average, modifier, msg_start, len(result))\n",
      "c:\\Users\\UX430\\anaconda3\\lib\\site-packages\\sklearn\\metrics\\_classification.py:1308: UndefinedMetricWarning: Precision and F-score are ill-defined and being set to 0.0 in labels with no predicted samples. Use `zero_division` parameter to control this behavior.\n",
      "  _warn_prf(average, modifier, msg_start, len(result))\n",
      "c:\\Users\\UX430\\anaconda3\\lib\\site-packages\\sklearn\\metrics\\_classification.py:1308: UndefinedMetricWarning: Precision and F-score are ill-defined and being set to 0.0 in labels with no predicted samples. Use `zero_division` parameter to control this behavior.\n",
      "  _warn_prf(average, modifier, msg_start, len(result))\n"
     ]
    },
    {
     "data": {
      "text/plain": [
       "(0.0,\n",
       " 0.30184375474744357,\n",
       " 0.2220375675826312,\n",
       " 0.4712086242659733,\n",
       " 0.4712086242659733,\n",
       " array([[    0, 72400],\n",
       "        [    0, 64516]], dtype=int64))"
      ]
     },
     "execution_count": 78,
     "metadata": {},
     "output_type": "execute_result"
    }
   ],
   "source": [
    "evaluate_detection(mod_903_2, xbasic, ybasic)"
   ]
  },
  {
   "cell_type": "code",
   "execution_count": 79,
   "metadata": {},
   "outputs": [
    {
     "name": "stderr",
     "output_type": "stream",
     "text": [
      "c:\\Users\\UX430\\anaconda3\\lib\\site-packages\\sklearn\\metrics\\_classification.py:1308: UndefinedMetricWarning: Precision and F-score are ill-defined and being set to 0.0 in labels with no predicted samples. Use `zero_division` parameter to control this behavior.\n",
      "  _warn_prf(average, modifier, msg_start, len(result))\n",
      "c:\\Users\\UX430\\anaconda3\\lib\\site-packages\\sklearn\\metrics\\_classification.py:1308: UndefinedMetricWarning: Precision and F-score are ill-defined and being set to 0.0 in labels with no predicted samples. Use `zero_division` parameter to control this behavior.\n",
      "  _warn_prf(average, modifier, msg_start, len(result))\n",
      "c:\\Users\\UX430\\anaconda3\\lib\\site-packages\\sklearn\\metrics\\_classification.py:1308: UndefinedMetricWarning: Precision and F-score are ill-defined and being set to 0.0 in labels with no predicted samples. Use `zero_division` parameter to control this behavior.\n",
      "  _warn_prf(average, modifier, msg_start, len(result))\n"
     ]
    },
    {
     "data": {
      "text/plain": [
       "(0.0,\n",
       " 0.2681015400046588,\n",
       " 0.19293113164997755,\n",
       " 0.43923926469519725,\n",
       " 0.43923926469519725,\n",
       " array([[    0, 30871],\n",
       "        [    0, 24181]], dtype=int64))"
      ]
     },
     "execution_count": 79,
     "metadata": {},
     "output_type": "execute_result"
    }
   ],
   "source": [
    "evaluate_detection(mod_903_2, xplus, yplus)"
   ]
  },
  {
   "cell_type": "markdown",
   "metadata": {},
   "source": [
    "#### 904"
   ]
  },
  {
   "cell_type": "code",
   "execution_count": 47,
   "metadata": {},
   "outputs": [],
   "source": [
    "mod_904 = models.load_model('C:/Users/UX430/Documents/thesis/code/models/ID904.hdf5')\n",
    "mod_904_0 = models.load_model('C:/Users/UX430/Documents/thesis/code/models/node0id904.hdf5')\n",
    "mod_904_1 = models.load_model('C:/Users/UX430/Documents/thesis/code/models/node1id904.hdf5')\n",
    "mod_904_2 = models.load_model('C:/Users/UX430/Documents/thesis/code/models/node2id904.hdf5')\n"
   ]
  },
  {
   "cell_type": "code",
   "execution_count": 81,
   "metadata": {},
   "outputs": [
    {
     "data": {
      "text/plain": [
       "(0.478749457498915,\n",
       " 0.7562099328558912,\n",
       " 0.8361581849813545,\n",
       " 0.7716994361506325,\n",
       " 0.7716994361506325,\n",
       " array([[72029,   371],\n",
       "        [30887, 33629]], dtype=int64))"
      ]
     },
     "execution_count": 81,
     "metadata": {},
     "output_type": "execute_result"
    }
   ],
   "source": [
    "evaluate_detection(mod_904, xbasic, ybasic)"
   ]
  },
  {
   "cell_type": "code",
   "execution_count": 82,
   "metadata": {},
   "outputs": [
    {
     "data": {
      "text/plain": [
       "(0.9310615772714115,\n",
       " 0.46691651454452276,\n",
       " 0.7474853648839689,\n",
       " 0.5899149894645063,\n",
       " 0.5899149894645063,\n",
       " array([[30809,    62],\n",
       "        [22514,  1667]], dtype=int64))"
      ]
     },
     "execution_count": 82,
     "metadata": {},
     "output_type": "execute_result"
    }
   ],
   "source": [
    "evaluate_detection(mod_904, xplus, yplus)"
   ]
  },
  {
   "cell_type": "code",
   "execution_count": 83,
   "metadata": {},
   "outputs": [
    {
     "data": {
      "text/plain": [
       "(0.46332692665385333,\n",
       " 0.7645812353213383,\n",
       " 0.8392353326613166,\n",
       " 0.7786306932717871,\n",
       " 0.7786306932717871,\n",
       " array([[71983,   417],\n",
       "        [29892, 34624]], dtype=int64))"
      ]
     },
     "execution_count": 83,
     "metadata": {},
     "output_type": "execute_result"
    }
   ],
   "source": [
    "evaluate_detection(mod_904_0, xbasic, ybasic)"
   ]
  },
  {
   "cell_type": "code",
   "execution_count": 84,
   "metadata": {},
   "outputs": [
    {
     "data": {
      "text/plain": [
       "(0.892022662420909,\n",
       " 0.5002195101009569,\n",
       " 0.7554499865696139,\n",
       " 0.6066809561868779,\n",
       " 0.6066809561868779,\n",
       " array([[30788,    83],\n",
       "        [21570,  2611]], dtype=int64))"
      ]
     },
     "execution_count": 84,
     "metadata": {},
     "output_type": "execute_result"
    }
   ],
   "source": [
    "evaluate_detection(mod_904_0, xplus, yplus)"
   ]
  },
  {
   "cell_type": "code",
   "execution_count": 85,
   "metadata": {},
   "outputs": [
    {
     "data": {
      "text/plain": [
       "(0.4568634137268274,\n",
       " 0.7681103583724327,\n",
       " 0.8406612309241416,\n",
       " 0.7815887113266529,\n",
       " 0.7815887113266529,\n",
       " array([[71971,   429],\n",
       "        [29475, 35041]], dtype=int64))"
      ]
     },
     "execution_count": 85,
     "metadata": {},
     "output_type": "execute_result"
    }
   ],
   "source": [
    "evaluate_detection(mod_904_1, xbasic, ybasic)"
   ]
  },
  {
   "cell_type": "code",
   "execution_count": 86,
   "metadata": {},
   "outputs": [
    {
     "data": {
      "text/plain": [
       "(0.9131136015880237,\n",
       " 0.4824062182814524,\n",
       " 0.7501007097178776,\n",
       " 0.5975078107970646,\n",
       " 0.5975078107970646,\n",
       " array([[30793,    78],\n",
       "        [22080,  2101]], dtype=int64))"
      ]
     },
     "execution_count": 86,
     "metadata": {},
     "output_type": "execute_result"
    }
   ],
   "source": [
    "evaluate_detection(mod_904_1, xplus, yplus)"
   ]
  },
  {
   "cell_type": "code",
   "execution_count": 87,
   "metadata": {},
   "outputs": [
    {
     "data": {
      "text/plain": [
       "(0.4655744311488623,\n",
       " 0.7631092511680524,\n",
       " 0.8382204366936806,\n",
       " 0.7773452335738701,\n",
       " 0.7773452335738701,\n",
       " array([[71952,   448],\n",
       "        [30037, 34479]], dtype=int64))"
      ]
     },
     "execution_count": 87,
     "metadata": {},
     "output_type": "execute_result"
    }
   ],
   "source": [
    "evaluate_detection(mod_904_2, xbasic, ybasic)"
   ]
  },
  {
   "cell_type": "code",
   "execution_count": 88,
   "metadata": {},
   "outputs": [
    {
     "data": {
      "text/plain": [
       "(0.8880526032835697,\n",
       " 0.5036275225527176,\n",
       " 0.7579402005084992,\n",
       " 0.6085882438421856,\n",
       " 0.6085882438421856,\n",
       " array([[30797,    74],\n",
       "        [21474,  2707]], dtype=int64))"
      ]
     },
     "execution_count": 88,
     "metadata": {},
     "output_type": "execute_result"
    }
   ],
   "source": [
    "evaluate_detection(mod_904_2, xplus, yplus)"
   ]
  },
  {
   "cell_type": "markdown",
   "metadata": {},
   "source": [
    "#### 905"
   ]
  },
  {
   "cell_type": "code",
   "execution_count": 48,
   "metadata": {},
   "outputs": [],
   "source": [
    "mod_905 = models.load_model('C:/Users/UX430/Documents/thesis/code/models/ID905.hdf5')\n",
    "mod_905_0 = models.load_model('C:/Users/UX430/Documents/thesis/code/models/node0id905.hdf5')\n",
    "mod_905_1 = models.load_model('C:/Users/UX430/Documents/thesis/code/models/node1id905.hdf5')\n",
    "mod_905_2 = models.load_model('C:/Users/UX430/Documents/thesis/code/models/node2id905.hdf5')\n"
   ]
  },
  {
   "cell_type": "code",
   "execution_count": 90,
   "metadata": {},
   "outputs": [
    {
     "data": {
      "text/plain": [
       "(0.127751255502511,\n",
       " 0.9369474222428824,\n",
       " 0.9429589206447899,\n",
       " 0.9373703584679658,\n",
       " 0.9373703584679658,\n",
       " array([[72067,   333],\n",
       "        [ 8242, 56274]], dtype=int64))"
      ]
     },
     "execution_count": 90,
     "metadata": {},
     "output_type": "execute_result"
    }
   ],
   "source": [
    "evaluate_detection(mod_905, xbasic, ybasic)"
   ]
  },
  {
   "cell_type": "code",
   "execution_count": 91,
   "metadata": {},
   "outputs": [
    {
     "data": {
      "text/plain": [
       "(0.7682064430751416,\n",
       " 0.5947077139783268,\n",
       " 0.779775821415889,\n",
       " 0.6604301387778827,\n",
       " 0.6604301387778827,\n",
       " array([[30753,   118],\n",
       "        [18576,  5605]], dtype=int64))"
      ]
     },
     "execution_count": 91,
     "metadata": {},
     "output_type": "execute_result"
    }
   ],
   "source": [
    "evaluate_detection(mod_905, xplus, yplus)"
   ]
  },
  {
   "cell_type": "code",
   "execution_count": 92,
   "metadata": {},
   "outputs": [
    {
     "data": {
      "text/plain": [
       "(0.05158410316820634,\n",
       " 0.9718644786208608,\n",
       " 0.9726456510418081,\n",
       " 0.9719097841012008,\n",
       " 0.9719097841012008,\n",
       " array([[71882,   518],\n",
       "        [ 3328, 61188]], dtype=int64))"
      ]
     },
     "execution_count": 92,
     "metadata": {},
     "output_type": "execute_result"
    }
   ],
   "source": [
    "evaluate_detection(mod_905_0, xbasic, ybasic)"
   ]
  },
  {
   "cell_type": "code",
   "execution_count": 93,
   "metadata": {},
   "outputs": [
    {
     "data": {
      "text/plain": [
       "(0.5988172532153343,\n",
       " 0.7025726691349677,\n",
       " 0.8114328738532891,\n",
       " 0.7333975150766548,\n",
       " 0.7333975150766548,\n",
       " array([[30674,   197],\n",
       "        [14480,  9701]], dtype=int64))"
      ]
     },
     "execution_count": 93,
     "metadata": {},
     "output_type": "execute_result"
    }
   ],
   "source": [
    "evaluate_detection(mod_905_0, xplus, yplus)"
   ]
  },
  {
   "cell_type": "code",
   "execution_count": 94,
   "metadata": {},
   "outputs": [
    {
     "data": {
      "text/plain": [
       "(0.06669663339326679,\n",
       " 0.9644790216183351,\n",
       " 0.965863722297186,\n",
       " 0.9645622133278798,\n",
       " 0.9645622133278798,\n",
       " array([[71851,   549],\n",
       "        [ 4303, 60213]], dtype=int64))"
      ]
     },
     "execution_count": 94,
     "metadata": {},
     "output_type": "execute_result"
    }
   ],
   "source": [
    "evaluate_detection(mod_905_1, xbasic, ybasic)"
   ]
  },
  {
   "cell_type": "code",
   "execution_count": 95,
   "metadata": {},
   "outputs": [
    {
     "data": {
      "text/plain": [
       "(0.6100243993217815,\n",
       " 0.6956234857213938,\n",
       " 0.8079904892830223,\n",
       " 0.7281297682191382,\n",
       " 0.7281297682191382,\n",
       " array([[30655,   216],\n",
       "        [14751,  9430]], dtype=int64))"
      ]
     },
     "execution_count": 95,
     "metadata": {},
     "output_type": "execute_result"
    }
   ],
   "source": [
    "evaluate_detection(mod_905_1, xplus, yplus)"
   ]
  },
  {
   "cell_type": "code",
   "execution_count": 96,
   "metadata": {},
   "outputs": [
    {
     "data": {
      "text/plain": [
       "(0.14779279558559116,\n",
       " 0.9270148210311314,\n",
       " 0.9349972531459907,\n",
       " 0.9276271582576178,\n",
       " 0.9276271582576178,\n",
       " array([[72026,   374],\n",
       "        [ 9535, 54981]], dtype=int64))"
      ]
     },
     "execution_count": 96,
     "metadata": {},
     "output_type": "execute_result"
    }
   ],
   "source": [
    "evaluate_detection(mod_905_2, xbasic, ybasic)"
   ]
  },
  {
   "cell_type": "code",
   "execution_count": 97,
   "metadata": {},
   "outputs": [
    {
     "data": {
      "text/plain": [
       "(0.7518299491336173,\n",
       " 0.6058545449783876,\n",
       " 0.7815541454105245,\n",
       " 0.6672237157596455,\n",
       " 0.6672237157596455,\n",
       " array([[30731,   140],\n",
       "        [18180,  6001]], dtype=int64))"
      ]
     },
     "execution_count": 97,
     "metadata": {},
     "output_type": "execute_result"
    }
   ],
   "source": [
    "evaluate_detection(mod_905_2, xplus, yplus)"
   ]
  },
  {
   "cell_type": "markdown",
   "metadata": {},
   "source": [
    "#### 906"
   ]
  },
  {
   "cell_type": "code",
   "execution_count": 49,
   "metadata": {},
   "outputs": [],
   "source": [
    "mod_906 = models.load_model('C:/Users/UX430/Documents/thesis/code/models/ID906.hdf5')\n",
    "mod_906_0 = models.load_model('C:/Users/UX430/Documents/thesis/code/models/node0id906.hdf5')\n",
    "mod_906_1 = models.load_model('C:/Users/UX430/Documents/thesis/code/models/node1id906.hdf5')\n",
    "mod_906_2 = models.load_model('C:/Users/UX430/Documents/thesis/code/models/node2id906.hdf5')\n"
   ]
  },
  {
   "cell_type": "code",
   "execution_count": 99,
   "metadata": {},
   "outputs": [
    {
     "data": {
      "text/plain": [
       "(0.08554467108934218,\n",
       " 0.9589758880458612,\n",
       " 0.9619029276240579,\n",
       " 0.9591355283531509,\n",
       " 0.9591355283531509,\n",
       " array([[72324,    76],\n",
       "        [ 5519, 58997]], dtype=int64))"
      ]
     },
     "execution_count": 99,
     "metadata": {},
     "output_type": "execute_result"
    }
   ],
   "source": [
    "evaluate_detection(mod_906, xbasic, ybasic)"
   ]
  },
  {
   "cell_type": "code",
   "execution_count": 100,
   "metadata": {},
   "outputs": [
    {
     "data": {
      "text/plain": [
       "(0.8397915718952897,\n",
       " 0.5423410530526002,\n",
       " 0.7690532664079486,\n",
       " 0.6298045484269418,\n",
       " 0.6298045484269418,\n",
       " array([[30798,    73],\n",
       "        [20307,  3874]], dtype=int64))"
      ]
     },
     "execution_count": 100,
     "metadata": {},
     "output_type": "execute_result"
    }
   ],
   "source": [
    "evaluate_detection(mod_906, xplus, yplus)"
   ]
  },
  {
   "cell_type": "code",
   "execution_count": 101,
   "metadata": {},
   "outputs": [
    {
     "data": {
      "text/plain": [
       "(0.0856996713993428,\n",
       " 0.958756336989638,\n",
       " 0.9616707668284087,\n",
       " 0.9589164159046423,\n",
       " 0.9589164159046423,\n",
       " array([[72304,    96],\n",
       "        [ 5529, 58987]], dtype=int64))"
      ]
     },
     "execution_count": 101,
     "metadata": {},
     "output_type": "execute_result"
    }
   ],
   "source": [
    "evaluate_detection(mod_906_0, xbasic, ybasic)"
   ]
  },
  {
   "cell_type": "code",
   "execution_count": 102,
   "metadata": {},
   "outputs": [
    {
     "data": {
      "text/plain": [
       "(0.8210165005582896,\n",
       " 0.5561779255852202,\n",
       " 0.7687553137124057,\n",
       " 0.6373065465378188,\n",
       " 0.6373065465378188,\n",
       " array([[30757,   114],\n",
       "        [19853,  4328]], dtype=int64))"
      ]
     },
     "execution_count": 102,
     "metadata": {},
     "output_type": "execute_result"
    }
   ],
   "source": [
    "evaluate_detection(mod_906_0, xplus, yplus)"
   ]
  },
  {
   "cell_type": "code",
   "execution_count": 103,
   "metadata": {},
   "outputs": [
    {
     "data": {
      "text/plain": [
       "(0.149249798499597,\n",
       " 0.9278303663821462,\n",
       " 0.9363902580383465,\n",
       " 0.928467089310234,\n",
       " 0.928467089310234,\n",
       " array([[72235,   165],\n",
       "        [ 9629, 54887]], dtype=int64))"
      ]
     },
     "execution_count": 103,
     "metadata": {},
     "output_type": "execute_result"
    }
   ],
   "source": [
    "evaluate_detection(mod_906_1, xbasic, ybasic)"
   ]
  },
  {
   "cell_type": "code",
   "execution_count": 104,
   "metadata": {},
   "outputs": [
    {
     "data": {
      "text/plain": [
       "(0.9123692154997726,\n",
       " 0.4833808784232044,\n",
       " 0.7563384776704783,\n",
       " 0.5983797137252053,\n",
       " 0.5983797137252053,\n",
       " array([[30823,    48],\n",
       "        [22062,  2119]], dtype=int64))"
      ]
     },
     "execution_count": 104,
     "metadata": {},
     "output_type": "execute_result"
    }
   ],
   "source": [
    "evaluate_detection(mod_906_1, xplus, yplus)"
   ]
  },
  {
   "cell_type": "code",
   "execution_count": 105,
   "metadata": {},
   "outputs": [
    {
     "data": {
      "text/plain": [
       "(0.07584165168330337,\n",
       " 0.963230834697454,\n",
       " 0.96548504104383,\n",
       " 0.9633497911127991,\n",
       " 0.9633497911127991,\n",
       " array([[72275,   125],\n",
       "        [ 4893, 59623]], dtype=int64))"
      ]
     },
     "execution_count": 105,
     "metadata": {},
     "output_type": "execute_result"
    }
   ],
   "source": [
    "evaluate_detection(mod_906_2, xbasic, ybasic)"
   ]
  },
  {
   "cell_type": "code",
   "execution_count": 106,
   "metadata": {},
   "outputs": [
    {
     "data": {
      "text/plain": [
       "(0.7423183491170754,\n",
       " 0.6126983638802298,\n",
       " 0.7850180013754058,\n",
       " 0.6717648768437114,\n",
       " 0.6717648768437114,\n",
       " array([[30751,   120],\n",
       "        [17950,  6231]], dtype=int64))"
      ]
     },
     "execution_count": 106,
     "metadata": {},
     "output_type": "execute_result"
    }
   ],
   "source": [
    "evaluate_detection(mod_906_2, xplus, yplus)"
   ]
  },
  {
   "cell_type": "code",
   "execution_count": 50,
   "metadata": {},
   "outputs": [
    {
     "data": {
      "text/plain": [
       "(0.2986998493387646,\n",
       " 0.8423449553013105,\n",
       " 0.8770446608063805,\n",
       " 0.8456291108956608,\n",
       " 0.8456291108956608,\n",
       " array([[70965,   720],\n",
       "        [21412, 50272]], dtype=int64))"
      ]
     },
     "execution_count": 50,
     "metadata": {},
     "output_type": "execute_result"
    }
   ],
   "source": [
    "evaluate_detection(mod_900, xcom, ycom)"
   ]
  },
  {
   "cell_type": "code",
   "execution_count": 51,
   "metadata": {},
   "outputs": [
    {
     "data": {
      "text/plain": [
       "(4.185034317281402e-05,\n",
       " 0.7588016747310468,\n",
       " 0.8430914516548553,\n",
       " 0.7714010699663107,\n",
       " 0.7714010699663107,\n",
       " array([[38914, 32771],\n",
       "        [    3, 71681]], dtype=int64))"
      ]
     },
     "execution_count": 51,
     "metadata": {},
     "output_type": "execute_result"
    }
   ],
   "source": [
    "evaluate_detection(mod_901, xcom, ycom)"
   ]
  },
  {
   "cell_type": "code",
   "execution_count": 52,
   "metadata": {},
   "outputs": [
    {
     "data": {
      "text/plain": [
       "(0.7866469505049941,\n",
       " 0.5262685399317407,\n",
       " 0.7293157797329555,\n",
       " 0.5954216043914654,\n",
       " 0.5954216043914654,\n",
       " array([[70071,  1614],\n",
       "        [56390, 15294]], dtype=int64))"
      ]
     },
     "execution_count": 52,
     "metadata": {},
     "output_type": "execute_result"
    }
   ],
   "source": [
    "evaluate_detection(mod_902, xcom, ycom)"
   ]
  },
  {
   "cell_type": "code",
   "execution_count": 53,
   "metadata": {},
   "outputs": [
    {
     "data": {
      "text/plain": [
       "(6.975057195469003e-05,\n",
       " 0.3334999189634608,\n",
       " 0.6029523581667466,\n",
       " 0.5000453375555385,\n",
       " 0.5000453375555385,\n",
       " array([[   12, 71673],\n",
       "        [    5, 71679]], dtype=int64))"
      ]
     },
     "execution_count": 53,
     "metadata": {},
     "output_type": "execute_result"
    }
   ],
   "source": [
    "evaluate_detection(mod_903, xcom, ycom)"
   ]
  },
  {
   "cell_type": "code",
   "execution_count": 54,
   "metadata": {},
   "outputs": [
    {
     "data": {
      "text/plain": [
       "(0.5454076223425032,\n",
       " 0.702778012393244,\n",
       " 0.8166217514654848,\n",
       " 0.7244174124113302,\n",
       " 0.7244174124113302,\n",
       " array([[71272,   413],\n",
       "        [39097, 32587]], dtype=int64))"
      ]
     },
     "execution_count": 54,
     "metadata": {},
     "output_type": "execute_result"
    }
   ],
   "source": [
    "evaluate_detection(mod_904, xcom, ycom)"
   ]
  },
  {
   "cell_type": "code",
   "execution_count": 55,
   "metadata": {},
   "outputs": [
    {
     "data": {
      "text/plain": [
       "(0.18232799508955974,\n",
       " 0.905507496886349,\n",
       " 0.9194110232244885,\n",
       " 0.9062489101549149,\n",
       " 0.9062489101549149,\n",
       " array([[71314,   371],\n",
       "        [13070, 58614]], dtype=int64))"
      ]
     },
     "execution_count": 55,
     "metadata": {},
     "output_type": "execute_result"
    }
   ],
   "source": [
    "evaluate_detection(mod_905, xcom, ycom)"
   ]
  },
  {
   "cell_type": "code",
   "execution_count": 56,
   "metadata": {},
   "outputs": [
    {
     "data": {
      "text/plain": [
       "(0.15991016126332236,\n",
       " 0.9188588847435221,\n",
       " 0.9301836404782657,\n",
       " 0.919368901226904,\n",
       " 0.919368901226904,\n",
       " array([[71588,    97],\n",
       "        [11463, 60221]], dtype=int64))"
      ]
     },
     "execution_count": 56,
     "metadata": {},
     "output_type": "execute_result"
    }
   ],
   "source": [
    "evaluate_detection(mod_906, xcom, ycom)"
   ]
  },
  {
   "cell_type": "markdown",
   "metadata": {},
   "source": [
    "#### 1000 (5 nodes)"
   ]
  },
  {
   "cell_type": "code",
   "execution_count": 24,
   "metadata": {},
   "outputs": [],
   "source": [
    "mod_1000 = models.load_model('C:/Users/UX430/Documents/thesis/code/models/ID1000.hdf5')\n",
    "mod_1000_0 = models.load_model('C:/Users/UX430/Documents/thesis/code/models/node0id1000.hdf5')\n",
    "mod_1000_1 = models.load_model('C:/Users/UX430/Documents/thesis/code/models/node1id1000.hdf5')\n",
    "mod_1000_2 = models.load_model('C:/Users/UX430/Documents/thesis/code/models/node2id1000.hdf5')\n",
    "mod_1000_3 = models.load_model('C:/Users/UX430/Documents/thesis/code/models/node3id1000.hdf5')\n",
    "mod_1000_4 = models.load_model('C:/Users/UX430/Documents/thesis/code/models/node4id1000.hdf5')"
   ]
  },
  {
   "cell_type": "code",
   "execution_count": 27,
   "metadata": {},
   "outputs": [
    {
     "data": {
      "text/plain": [
       "(0.9217093434186868,\n",
       " 0.03429730346229051,\n",
       " 0.03159272454927669,\n",
       " 0.03757048117093693,\n",
       " 0.03757048117093693,\n",
       " array([[   93, 72307],\n",
       "        [59465,  5051]], dtype=int64))"
      ]
     },
     "execution_count": 27,
     "metadata": {},
     "output_type": "execute_result"
    }
   ],
   "source": [
    "evaluate_detection(mod_1000, xbasic, ybasic)"
   ]
  },
  {
   "cell_type": "code",
   "execution_count": 33,
   "metadata": {},
   "outputs": [
    {
     "data": {
      "text/plain": [
       "(0.18907406641578098,\n",
       " 0.2336356130445689,\n",
       " 0.1810240866451773,\n",
       " 0.3577163409140449,\n",
       " 0.3577163409140449,\n",
       " array([[   84, 30787],\n",
       "        [ 4572, 19609]], dtype=int64))"
      ]
     },
     "execution_count": 33,
     "metadata": {},
     "output_type": "execute_result"
    }
   ],
   "source": [
    "evaluate_detection(mod_1000, xplus, yplus)"
   ]
  },
  {
   "cell_type": "code",
   "execution_count": 28,
   "metadata": {},
   "outputs": [
    {
     "data": {
      "text/plain": [
       "(0.9138043276086553,\n",
       " 0.03777964135857462,\n",
       " 0.03473752240851977,\n",
       " 0.04149259399924041,\n",
       " 0.04149259399924041,\n",
       " array([[  120, 72280],\n",
       "        [58955,  5561]], dtype=int64))"
      ]
     },
     "execution_count": 28,
     "metadata": {},
     "output_type": "execute_result"
    }
   ],
   "source": [
    "evaluate_detection(mod_1000_0, xbasic, ybasic)"
   ]
  },
  {
   "cell_type": "code",
   "execution_count": 34,
   "metadata": {},
   "outputs": [
    {
     "data": {
      "text/plain": [
       "(0.2131425499359001,\n",
       " 0.2291125240634923,\n",
       " 0.17871521092483084,\n",
       " 0.3474714815083921,\n",
       " 0.3474714815083921,\n",
       " array([[  102, 30769],\n",
       "        [ 5154, 19027]], dtype=int64))"
      ]
     },
     "execution_count": 34,
     "metadata": {},
     "output_type": "execute_result"
    }
   ],
   "source": [
    "evaluate_detection(mod_1000_0, xplus, yplus)"
   ]
  },
  {
   "cell_type": "code",
   "execution_count": 29,
   "metadata": {},
   "outputs": [
    {
     "data": {
      "text/plain": [
       "(0.9404023808047616,\n",
       " 0.02776373764303839,\n",
       " 0.026002034700304703,\n",
       " 0.029901545473136813,\n",
       " 0.029901545473136813,\n",
       " array([[  249, 72151],\n",
       "        [60671,  3845]], dtype=int64))"
      ]
     },
     "execution_count": 29,
     "metadata": {},
     "output_type": "execute_result"
    }
   ],
   "source": [
    "evaluate_detection(mod_1000_1, xbasic, ybasic)"
   ]
  },
  {
   "cell_type": "code",
   "execution_count": 35,
   "metadata": {},
   "outputs": [
    {
     "data": {
      "text/plain": [
       "(0.3107811918448369,\n",
       " 0.20963660332938375,\n",
       " 0.16709939655739983,\n",
       " 0.3058562813340115,\n",
       " 0.3058562813340115,\n",
       " array([[  172, 30699],\n",
       "        [ 7515, 16666]], dtype=int64))"
      ]
     },
     "execution_count": 35,
     "metadata": {},
     "output_type": "execute_result"
    }
   ],
   "source": [
    "evaluate_detection(mod_1000_1, xplus, yplus)"
   ]
  },
  {
   "cell_type": "code",
   "execution_count": 30,
   "metadata": {},
   "outputs": [
    {
     "data": {
      "text/plain": [
       "(0.9364498728997458,\n",
       " 0.029306066699451735,\n",
       " 0.027371988310696777,\n",
       " 0.03165444506120541,\n",
       " 0.03165444506120541,\n",
       " array([[  234, 72166],\n",
       "        [60416,  4100]], dtype=int64))"
      ]
     },
     "execution_count": 30,
     "metadata": {},
     "output_type": "execute_result"
    }
   ],
   "source": [
    "evaluate_detection(mod_1000_2, xbasic, ybasic)"
   ]
  },
  {
   "cell_type": "code",
   "execution_count": 36,
   "metadata": {},
   "outputs": [
    {
     "data": {
      "text/plain": [
       "(0.29767172573508127,\n",
       " 0.21159093547586455,\n",
       " 0.16696024386807953,\n",
       " 0.3110150403255104,\n",
       " 0.3110150403255104,\n",
       " array([[  139, 30732],\n",
       "        [ 7198, 16983]], dtype=int64))"
      ]
     },
     "execution_count": 36,
     "metadata": {},
     "output_type": "execute_result"
    }
   ],
   "source": [
    "evaluate_detection(mod_1000_2, xplus, yplus)"
   ]
  },
  {
   "cell_type": "code",
   "execution_count": 31,
   "metadata": {},
   "outputs": [
    {
     "data": {
      "text/plain": [
       "(0.9297073594147188,\n",
       " 0.031337080433207924,\n",
       " 0.02903038552855499,\n",
       " 0.03412311198106868,\n",
       " 0.03412311198106868,\n",
       " array([[  137, 72263],\n",
       "        [59981,  4535]], dtype=int64))"
      ]
     },
     "execution_count": 31,
     "metadata": {},
     "output_type": "execute_result"
    }
   ],
   "source": [
    "evaluate_detection(mod_1000_3, xbasic, ybasic)"
   ]
  },
  {
   "cell_type": "code",
   "execution_count": 37,
   "metadata": {},
   "outputs": [
    {
     "data": {
      "text/plain": [
       "(0.2705429882965965,\n",
       " 0.21733646292979078,\n",
       " 0.17081230114293255,\n",
       " 0.32271307127806437,\n",
       " 0.32271307127806437,\n",
       " array([[  127, 30744],\n",
       "        [ 6542, 17639]], dtype=int64))"
      ]
     },
     "execution_count": 37,
     "metadata": {},
     "output_type": "execute_result"
    }
   ],
   "source": [
    "evaluate_detection(mod_1000_3, xplus, yplus)"
   ]
  },
  {
   "cell_type": "code",
   "execution_count": 32,
   "metadata": {},
   "outputs": [
    {
     "data": {
      "text/plain": [
       "(0.9350703701407402,\n",
       " 0.02951085733656612,\n",
       " 0.027478735812864637,\n",
       " 0.03196850623740104,\n",
       " 0.03196850623740104,\n",
       " array([[  188, 72212],\n",
       "        [60327,  4189]], dtype=int64))"
      ]
     },
     "execution_count": 32,
     "metadata": {},
     "output_type": "execute_result"
    }
   ],
   "source": [
    "evaluate_detection(mod_1000_4, xbasic, ybasic)"
   ]
  },
  {
   "cell_type": "code",
   "execution_count": 38,
   "metadata": {},
   "outputs": [
    {
     "data": {
      "text/plain": [
       "(0.224597824738431,\n",
       " 0.2265008716626924,\n",
       " 0.17624056743704708,\n",
       " 0.3423672164499019,\n",
       " 0.3423672164499019,\n",
       " array([[   98, 30773],\n",
       "        [ 5431, 18750]], dtype=int64))"
      ]
     },
     "execution_count": 38,
     "metadata": {},
     "output_type": "execute_result"
    }
   ],
   "source": [
    "evaluate_detection(mod_1000_4, xplus, yplus)"
   ]
  },
  {
   "cell_type": "code",
   "execution_count": 4,
   "metadata": {},
   "outputs": [],
   "source": [
    "def preprocessing(data): \n",
    "\n",
    "    # Select the 'proto' and 'state' values that I want\n",
    "    data = data.loc[(data['proto'] == 'tcp') | (data['proto'] =='udp') | (data['proto'] =='icmp') | (data['proto'] =='arp') | (data['proto'] =='ipv6-icmp') | (data['proto'] =='igmp') | (data['proto'] =='rarp'), :]\n",
    "    data = data.loc[(data['state'] == 'RST') | (data['state'] =='REQ') | (data['state'] =='INT') | (data['state'] =='FIN') | (data['state'] =='CON') | (data['state'] =='ECO') | (data['state'] =='ACC') | (data['state'] == 'PAR'), :]\n",
    "\n",
    "    # Extracting labels \n",
    "    data_labels = data[['label']]\n",
    "\n",
    "    # Drop the invalid features and select interested data features\n",
    "    data_features=data[['proto','srcip','sport','dstip','dsport','spkts','dpkts','sbytes','dbytes','state','stime','ltime','dur']]\n",
    "\n",
    "    \"\"\"PREPROCESSING\"\"\"\n",
    "\n",
    "\n",
    "    # Preprocess IP and ports features\n",
    "    # IP Source Address\n",
    "    data_features['srcip'] = data_features['srcip'].apply(lambda x: x.split(\".\")[-1])\n",
    "    data_features['srcip'] = data_features['srcip'].apply(lambda x: x.split(\":\")[-1])\n",
    "    data_features['srcip'] = data_features['srcip'].apply(lambda x: int(x, 16))\n",
    "\n",
    "\n",
    "    # IP Destination Address\n",
    "    data_features['dstip'] = data_features['dstip'].apply(lambda x: x.split(\".\")[-1])\n",
    "    data_features['dstip'] = data_features['dstip'].apply(lambda x: x.split(\":\")[-1])\n",
    "    data_features['dstip'] = data_features['dstip'].apply(lambda x: int(x, 16))\n",
    "\n",
    "    # Ports\n",
    "    data_features['sport'] = data_features['sport'].apply(lambda x: x.replace('0x','') if \"0x\" in str(x) else x)\n",
    "    data_features['dsport'] = data_features['dsport'].apply(lambda x: x.replace('0x','') if \"0x\" in str(x) else x)\n",
    "\n",
    "    # Convert all ports with 0 decimal, and HEX to DEC\n",
    "    data_features['sport'] = data_features['sport'].apply(lambda x: str(x)[:-2] if str(x)[-2:] == '.0' else str(x))\n",
    "    data_features['sport'] = data_features['sport'].apply(lambda x: -1 if str(x).isalpha()==True else int(x,16))\n",
    "\n",
    "    data_features['dsport'] = data_features['dsport'].apply(lambda x: str(x)[:-2] if str(x)[-2:] == '.0' else str(x))\n",
    "    data_features['dsport'] = data_features['dsport'].apply(lambda x: -1 if str(x).isalpha()==True else int(x,16))\n",
    "\n",
    "    # Convert field to int format\n",
    "    data_features['srcip'] = data_features['srcip'].astype(int)\n",
    "    data_features['sport'] = data_features['sport'].astype(int)\n",
    "    data_features['dstip'] = data_features['dstip'].astype(int)\n",
    "    data_features['dsport'] = data_features['dsport'].astype(int)\n",
    "\n",
    "    # Convert some fields to logarithmic\n",
    "    log1p_col = ['dur', 'sbytes', 'dbytes', 'spkts']\n",
    "\n",
    "    for col in log1p_col:\n",
    "        data_features[col] = data_features[col].apply(np.log1p)\n",
    "\n",
    "    # Create a complementary field of attack & Transform to One hot encoding - LABELS\n",
    "    normal=data_labels['label']\n",
    "    normal=normal.replace(1,2)\n",
    "    normal=normal.replace(0,1)\n",
    "    normal=normal.replace(2,0)\n",
    "\n",
    "    # Insert the new column in data labels\n",
    "    data_labels.insert(1, 'normal', normal)\n",
    "    data_labels = pd.get_dummies(data_labels)\n",
    "\n",
    "    data_labels = pd.get_dummies(data_labels)\n",
    "\n",
    "    # Transform to One hot encoding - FEATURES\n",
    "    data_features=pd.get_dummies(data_features)\n",
    "\n",
    "    # Value given for the missing columns\n",
    "    auxCol=0\n",
    "\n",
    "    # As we are using different datasets that might not have all representations, we are going to detect and add the missing columns \n",
    "    # The columns that can have types are: proto and state: need to check if all representations are done \n",
    "    state_cols = [col for col in data_features if col.startswith('state_')]\n",
    "    proto_cols = [col for col in data_features if col.startswith('proto_')]\n",
    "    \n",
    "    # Check if all columns are present\n",
    "    if 'state_PAR' not in state_cols:\n",
    "        data_features.insert(data_features.shape[1], 'state_PAR', auxCol, True)\n",
    "    if 'state_ACC' not in state_cols: \n",
    "        data_features.insert(data_features.shape[1], 'state_ACC', auxCol, True)\n",
    "    if 'state_ECO' not in state_cols:\n",
    "        data_features.insert(data_features.shape[1], 'state_ECO', auxCol, True)\n",
    "    if 'state_CON' not in state_cols:\n",
    "        data_features.insert(data_features.shape[1], 'state_CON', auxCol, True)\n",
    "    if 'state_FIN' not in state_cols:\n",
    "        data_features.insert(data_features.shape[1], 'state_FIN', auxCol, True)\n",
    "    if 'state_INT' not in state_cols:\n",
    "        data_features.insert(data_features.shape[1], 'state_INT', auxCol, True)\n",
    "    if 'state_REQ' not in state_cols:\n",
    "        data_features.insert(data_features.shape[1], 'state_REQ', auxCol, True)\n",
    "    if 'state_RST' not in state_cols:\n",
    "        data_features.insert(data_features.shape[1], 'state_RST', auxCol, True)\n",
    "    if 'proto_igmp' not in proto_cols:\n",
    "        data_features.insert(data_features.shape[1], 'proto_igmp', auxCol, True)\n",
    "    if 'proto_arp' not in proto_cols:\n",
    "        data_features.insert(data_features.shape[1], 'proto_arp', auxCol, True)\n",
    "    if 'proto_icmp' not in proto_cols:\n",
    "        data_features.insert(data_features.shape[1], 'proto_icmp', auxCol, True)\n",
    "    if 'proto_udp' not in proto_cols:\n",
    "        data_features.insert(data_features.shape[1], 'proto_udp', auxCol, True)\n",
    "    if 'proto_tcp' not in proto_cols:\n",
    "        data_features.insert(data_features.shape[1], 'proto_tcp', auxCol, True)\n",
    "\n",
    "    # Normalize all data features\n",
    "    data_features = StandardScaler().fit_transform(data_features)\n",
    "\n",
    "    #Add dimension to data features\n",
    "    data_features = np.expand_dims(data_features, axis=2)\n",
    "    data_features = np.expand_dims(data_features, axis=3)\n",
    "\n",
    "    x = data_features\n",
    "    y = data_labels.to_numpy()\n",
    "\n",
    "    return x, y"
   ]
  },
  {
   "cell_type": "code",
   "execution_count": 5,
   "metadata": {},
   "outputs": [],
   "source": [
    "xbasic, ybasic = preprocessing(test_basic)\n",
    "xplus, yplus = preprocessing(test_plus)\n",
    "xcom, ycom = preprocessing(test_complete)"
   ]
  },
  {
   "cell_type": "markdown",
   "metadata": {},
   "source": [
    "#### 800, 801, 802"
   ]
  },
  {
   "cell_type": "code",
   "execution_count": 8,
   "metadata": {},
   "outputs": [],
   "source": [
    "mod_800 = models.load_model('C:/Users/UX430/Documents/thesis/code/models/ID800.hdf5')\n",
    "mod_801 = models.load_model('C:/Users/UX430/Documents/thesis/code/models/ID801.hdf5')\n",
    "mod_802 = models.load_model('C:/Users/UX430/Documents/thesis/code/models/ID802.hdf5')"
   ]
  },
  {
   "cell_type": "code",
   "execution_count": 9,
   "metadata": {},
   "outputs": [
    {
     "data": {
      "text/plain": [
       "(0.008232044198895028,\n",
       " 0.975379422934498,\n",
       " 0.9758466743376849,\n",
       " 0.9754082795290543,\n",
       " 0.9754082795290543,\n",
       " array([[61745,  2771],\n",
       "        [  596, 71804]], dtype=int64))"
      ]
     },
     "execution_count": 9,
     "metadata": {},
     "output_type": "execute_result"
    }
   ],
   "source": [
    "evaluate_detection(mod_800, xbasic, ybasic)"
   ]
  },
  {
   "cell_type": "code",
   "execution_count": 10,
   "metadata": {},
   "outputs": [
    {
     "name": "stderr",
     "output_type": "stream",
     "text": [
      "c:\\Users\\UX430\\anaconda3\\lib\\site-packages\\sklearn\\metrics\\_classification.py:1308: UndefinedMetricWarning: Precision and F-score are ill-defined and being set to 0.0 in labels with no predicted samples. Use `zero_division` parameter to control this behavior.\n",
      "  _warn_prf(average, modifier, msg_start, len(result))\n",
      "c:\\Users\\UX430\\anaconda3\\lib\\site-packages\\sklearn\\metrics\\_classification.py:1308: UndefinedMetricWarning: Precision and F-score are ill-defined and being set to 0.0 in labels with no predicted samples. Use `zero_division` parameter to control this behavior.\n",
      "  _warn_prf(average, modifier, msg_start, len(result))\n",
      "c:\\Users\\UX430\\anaconda3\\lib\\site-packages\\sklearn\\metrics\\_classification.py:1308: UndefinedMetricWarning: Precision and F-score are ill-defined and being set to 0.0 in labels with no predicted samples. Use `zero_division` parameter to control this behavior.\n",
      "  _warn_prf(average, modifier, msg_start, len(result))\n"
     ]
    },
    {
     "data": {
      "text/plain": [
       "(0.0,\n",
       " 0.36580572534487127,\n",
       " 0.2796203190506846,\n",
       " 0.5287913757340267,\n",
       " 0.5287913757340267,\n",
       " array([[    0, 64516],\n",
       "        [    0, 72400]], dtype=int64))"
      ]
     },
     "execution_count": 10,
     "metadata": {},
     "output_type": "execute_result"
    }
   ],
   "source": [
    "evaluate_detection(mod_801, xbasic, ybasic)"
   ]
  },
  {
   "cell_type": "code",
   "execution_count": 11,
   "metadata": {},
   "outputs": [
    {
     "data": {
      "text/plain": [
       "(0.005055248618784531,\n",
       " 0.9607299641024801,\n",
       " 0.9628368207667298,\n",
       " 0.9608519091998013,\n",
       " 0.9608519091998013,\n",
       " array([[59522,  4994],\n",
       "        [  366, 72034]], dtype=int64))"
      ]
     },
     "execution_count": 11,
     "metadata": {},
     "output_type": "execute_result"
    }
   ],
   "source": [
    "evaluate_detection(mod_802, xbasic, ybasic)"
   ]
  },
  {
   "cell_type": "code",
   "execution_count": 12,
   "metadata": {},
   "outputs": [
    {
     "data": {
      "text/plain": [
       "(0.010981179747983544,\n",
       " 0.8056475489028748,\n",
       " 0.8536176953832524,\n",
       " 0.8158105064302841,\n",
       " 0.8158105064302841,\n",
       " array([[14380,  9801],\n",
       "        [  339, 30532]], dtype=int64))"
      ]
     },
     "execution_count": 12,
     "metadata": {},
     "output_type": "execute_result"
    }
   ],
   "source": [
    "evaluate_detection(mod_800, xplus, yplus)"
   ]
  },
  {
   "cell_type": "code",
   "execution_count": 13,
   "metadata": {},
   "outputs": [
    {
     "name": "stderr",
     "output_type": "stream",
     "text": [
      "c:\\Users\\UX430\\anaconda3\\lib\\site-packages\\sklearn\\metrics\\_classification.py:1308: UndefinedMetricWarning: Precision and F-score are ill-defined and being set to 0.0 in labels with no predicted samples. Use `zero_division` parameter to control this behavior.\n",
      "  _warn_prf(average, modifier, msg_start, len(result))\n",
      "c:\\Users\\UX430\\anaconda3\\lib\\site-packages\\sklearn\\metrics\\_classification.py:1308: UndefinedMetricWarning: Precision and F-score are ill-defined and being set to 0.0 in labels with no predicted samples. Use `zero_division` parameter to control this behavior.\n",
      "  _warn_prf(average, modifier, msg_start, len(result))\n",
      "c:\\Users\\UX430\\anaconda3\\lib\\site-packages\\sklearn\\metrics\\_classification.py:1308: UndefinedMetricWarning: Precision and F-score are ill-defined and being set to 0.0 in labels with no predicted samples. Use `zero_division` parameter to control this behavior.\n",
      "  _warn_prf(average, modifier, msg_start, len(result))\n"
     ]
    },
    {
     "data": {
      "text/plain": [
       "(0.0,\n",
       " 0.4029478640083462,\n",
       " 0.31445260225958305,\n",
       " 0.5607607353048027,\n",
       " 0.5607607353048027,\n",
       " array([[    0, 24181],\n",
       "        [    0, 30871]], dtype=int64))"
      ]
     },
     "execution_count": 13,
     "metadata": {},
     "output_type": "execute_result"
    }
   ],
   "source": [
    "evaluate_detection(mod_801, xplus, yplus)"
   ]
  },
  {
   "cell_type": "code",
   "execution_count": 14,
   "metadata": {},
   "outputs": [
    {
     "data": {
      "text/plain": [
       "(0.010333322535713129,\n",
       " 0.8239361419268945,\n",
       " 0.8640875336071753,\n",
       " 0.8318680520235414,\n",
       " 0.8318680520235414,\n",
       " array([[15244,  8937],\n",
       "        [  319, 30552]], dtype=int64))"
      ]
     },
     "execution_count": 14,
     "metadata": {},
     "output_type": "execute_result"
    }
   ],
   "source": [
    "evaluate_detection(mod_802, xplus, yplus)"
   ]
  },
  {
   "cell_type": "code",
   "execution_count": 15,
   "metadata": {},
   "outputs": [
    {
     "data": {
      "text/plain": [
       "(0.008788449466415568,\n",
       " 0.9601272866682927,\n",
       " 0.9619466801420513,\n",
       " 0.9601657262030145,\n",
       " 0.9601657262030145,\n",
       " array([[66603,  5081],\n",
       "        [  630, 71055]], dtype=int64))"
      ]
     },
     "execution_count": 15,
     "metadata": {},
     "output_type": "execute_result"
    }
   ],
   "source": [
    "evaluate_detection(mod_800, xcom, ycom)"
   ]
  },
  {
   "cell_type": "code",
   "execution_count": 16,
   "metadata": {},
   "outputs": [
    {
     "name": "stderr",
     "output_type": "stream",
     "text": [
      "c:\\Users\\UX430\\anaconda3\\lib\\site-packages\\sklearn\\metrics\\_classification.py:1308: UndefinedMetricWarning: Precision and F-score are ill-defined and being set to 0.0 in labels with no predicted samples. Use `zero_division` parameter to control this behavior.\n",
      "  _warn_prf(average, modifier, msg_start, len(result))\n",
      "c:\\Users\\UX430\\anaconda3\\lib\\site-packages\\sklearn\\metrics\\_classification.py:1308: UndefinedMetricWarning: Precision and F-score are ill-defined and being set to 0.0 in labels with no predicted samples. Use `zero_division` parameter to control this behavior.\n",
      "  _warn_prf(average, modifier, msg_start, len(result))\n",
      "c:\\Users\\UX430\\anaconda3\\lib\\site-packages\\sklearn\\metrics\\_classification.py:1308: UndefinedMetricWarning: Precision and F-score are ill-defined and being set to 0.0 in labels with no predicted samples. Use `zero_division` parameter to control this behavior.\n",
      "  _warn_prf(average, modifier, msg_start, len(result))\n"
     ]
    },
    {
     "data": {
      "text/plain": [
       "(0.0,\n",
       " 0.33333720834528774,\n",
       " 0.25000348751643486,\n",
       " 0.5000034875042721,\n",
       " 0.5000034875042721,\n",
       " array([[    0, 71684],\n",
       "        [    0, 71685]], dtype=int64))"
      ]
     },
     "execution_count": 16,
     "metadata": {},
     "output_type": "execute_result"
    }
   ],
   "source": [
    "evaluate_detection(mod_801, xcom, ycom)"
   ]
  },
  {
   "cell_type": "code",
   "execution_count": 17,
   "metadata": {},
   "outputs": [
    {
     "data": {
      "text/plain": [
       "(0.005119620562181767,\n",
       " 0.9305933206595549,\n",
       " 0.9380553154521759,\n",
       " 0.93087766532514,\n",
       " 0.93087766532514,\n",
       " array([[62141,  9543],\n",
       "        [  367, 71318]], dtype=int64))"
      ]
     },
     "execution_count": 17,
     "metadata": {},
     "output_type": "execute_result"
    }
   ],
   "source": [
    "evaluate_detection(mod_802, xcom, ycom)"
   ]
  },
  {
   "cell_type": "markdown",
   "metadata": {},
   "source": [
    "### 600 to 606"
   ]
  },
  {
   "cell_type": "code",
   "execution_count": 8,
   "metadata": {},
   "outputs": [],
   "source": [
    "mod_600 = models.load_model('C:/Users/UX430/Documents/thesis/code/models/id600.hdf5')\n",
    "mod_601 = models.load_model('C:/Users/UX430/Documents/thesis/code/models/id601.hdf5')\n",
    "mod_602 = models.load_model('C:/Users/UX430/Documents/thesis/code/models/id602.hdf5')\n",
    "mod_603 = models.load_model('C:/Users/UX430/Documents/thesis/code/models/id603.hdf5')\n",
    "mod_604 = models.load_model('C:/Users/UX430/Documents/thesis/code/models/id604.hdf5')\n",
    "mod_605 = models.load_model('C:/Users/UX430/Documents/thesis/code/models/id605.hdf5')\n",
    "mod_606 = models.load_model('C:/Users/UX430/Documents/thesis/code/models/id606.hdf5')\n"
   ]
  },
  {
   "cell_type": "code",
   "execution_count": 9,
   "metadata": {},
   "outputs": [
    {
     "data": {
      "text/plain": [
       "(0.011325966850828728,\n",
       " 0.9500586250958318,\n",
       " 0.9526364067437322,\n",
       " 0.9502395629437027,\n",
       " 0.9502395629437027,\n",
       " array([[58523,  5993],\n",
       "        [  820, 71580]], dtype=int64))"
      ]
     },
     "execution_count": 9,
     "metadata": {},
     "output_type": "execute_result"
    }
   ],
   "source": [
    "evaluate_detection(mod_600, xbasic, ybasic)"
   ]
  },
  {
   "cell_type": "code",
   "execution_count": 10,
   "metadata": {},
   "outputs": [
    {
     "data": {
      "text/plain": [
       "(0.9989226519337017,\n",
       " 0.3030988407521974,\n",
       " 0.7509555085271363,\n",
       " 0.4717783166320956,\n",
       " 0.4717783166320956,\n",
       " array([[64516,     0],\n",
       "        [72322,    78]], dtype=int64))"
      ]
     },
     "execution_count": 10,
     "metadata": {},
     "output_type": "execute_result"
    }
   ],
   "source": [
    "evaluate_detection(mod_601, xbasic, ybasic)"
   ]
  },
  {
   "cell_type": "code",
   "execution_count": 11,
   "metadata": {},
   "outputs": [
    {
     "data": {
      "text/plain": [
       "(0.012361878453038674,\n",
       " 0.9805860543248166,\n",
       " 0.9806571853604926,\n",
       " 0.980593940810424,\n",
       " 0.980593940810424,\n",
       " array([[62754,  1762],\n",
       "        [  895, 71505]], dtype=int64))"
      ]
     },
     "execution_count": 11,
     "metadata": {},
     "output_type": "execute_result"
    }
   ],
   "source": [
    "evaluate_detection(mod_602, xbasic, ybasic)"
   ]
  },
  {
   "cell_type": "code",
   "execution_count": 12,
   "metadata": {},
   "outputs": [
    {
     "name": "stderr",
     "output_type": "stream",
     "text": [
      "c:\\Users\\UX430\\anaconda3\\lib\\site-packages\\sklearn\\metrics\\_classification.py:1308: UndefinedMetricWarning: Precision and F-score are ill-defined and being set to 0.0 in labels with no predicted samples. Use `zero_division` parameter to control this behavior.\n",
      "  _warn_prf(average, modifier, msg_start, len(result))\n",
      "c:\\Users\\UX430\\anaconda3\\lib\\site-packages\\sklearn\\metrics\\_classification.py:1308: UndefinedMetricWarning: Precision and F-score are ill-defined and being set to 0.0 in labels with no predicted samples. Use `zero_division` parameter to control this behavior.\n",
      "  _warn_prf(average, modifier, msg_start, len(result))\n",
      "c:\\Users\\UX430\\anaconda3\\lib\\site-packages\\sklearn\\metrics\\_classification.py:1308: UndefinedMetricWarning: Precision and F-score are ill-defined and being set to 0.0 in labels with no predicted samples. Use `zero_division` parameter to control this behavior.\n",
      "  _warn_prf(average, modifier, msg_start, len(result))\n"
     ]
    },
    {
     "data": {
      "text/plain": [
       "(1.0,\n",
       " 0.30184375474744357,\n",
       " 0.2220375675826312,\n",
       " 0.4712086242659733,\n",
       " 0.4712086242659733,\n",
       " array([[64516,     0],\n",
       "        [72400,     0]], dtype=int64))"
      ]
     },
     "execution_count": 12,
     "metadata": {},
     "output_type": "execute_result"
    }
   ],
   "source": [
    "evaluate_detection(mod_603, xbasic, ybasic)"
   ]
  },
  {
   "cell_type": "code",
   "execution_count": 13,
   "metadata": {},
   "outputs": [
    {
     "data": {
      "text/plain": [
       "(0.014074585635359117,\n",
       " 0.9714436948455951,\n",
       " 0.9717799989701116,\n",
       " 0.9714715592041836,\n",
       " 0.9714715592041836,\n",
       " array([[61629,  2887],\n",
       "        [ 1019, 71381]], dtype=int64))"
      ]
     },
     "execution_count": 13,
     "metadata": {},
     "output_type": "execute_result"
    }
   ],
   "source": [
    "evaluate_detection(mod_604, xbasic, ybasic)"
   ]
  },
  {
   "cell_type": "code",
   "execution_count": 14,
   "metadata": {},
   "outputs": [
    {
     "data": {
      "text/plain": [
       "(0.004019337016574586,\n",
       " 0.9672131450905261,\n",
       " 0.9687188040919812,\n",
       " 0.9672938151859535,\n",
       " 0.9672938151859535,\n",
       " array([[60329,  4187],\n",
       "        [  291, 72109]], dtype=int64))"
      ]
     },
     "execution_count": 14,
     "metadata": {},
     "output_type": "execute_result"
    }
   ],
   "source": [
    "evaluate_detection(mod_605, xbasic, ybasic)"
   ]
  },
  {
   "cell_type": "code",
   "execution_count": 15,
   "metadata": {},
   "outputs": [
    {
     "data": {
      "text/plain": [
       "(0.011104972375690608,\n",
       " 0.9817037076793979,\n",
       " 0.9817804950266569,\n",
       " 0.9817114142978176,\n",
       " 0.9817114142978176,\n",
       " array([[62816,  1700],\n",
       "        [  804, 71596]], dtype=int64))"
      ]
     },
     "execution_count": 15,
     "metadata": {},
     "output_type": "execute_result"
    }
   ],
   "source": [
    "evaluate_detection(mod_606, xbasic, ybasic)"
   ]
  },
  {
   "cell_type": "code",
   "execution_count": 16,
   "metadata": {},
   "outputs": [
    {
     "data": {
      "text/plain": [
       "(0.011791001263321563,\n",
       " 0.7487386917147426,\n",
       " 0.8248187420742665,\n",
       " 0.7682191382692727,\n",
       " 0.7682191382692727,\n",
       " array([[11785, 12396],\n",
       "        [  364, 30507]], dtype=int64))"
      ]
     },
     "execution_count": 16,
     "metadata": {},
     "output_type": "execute_result"
    }
   ],
   "source": [
    "evaluate_detection(mod_600, xplus, yplus)"
   ]
  },
  {
   "cell_type": "code",
   "execution_count": 17,
   "metadata": {},
   "outputs": [
    {
     "data": {
      "text/plain": [
       "(0.9991253927634349,\n",
       " 0.2691729649829838,\n",
       " 0.7537865355700379,\n",
       " 0.4397297100922764,\n",
       " 0.4397297100922764,\n",
       " array([[24181,     0],\n",
       "        [30844,    27]], dtype=int64))"
      ]
     },
     "execution_count": 17,
     "metadata": {},
     "output_type": "execute_result"
    }
   ],
   "source": [
    "evaluate_detection(mod_601, xplus, yplus)"
   ]
  },
  {
   "cell_type": "code",
   "execution_count": 18,
   "metadata": {},
   "outputs": [
    {
     "data": {
      "text/plain": [
       "(0.017265394707006575,\n",
       " 0.9207001222559648,\n",
       " 0.9266130258528362,\n",
       " 0.9215650657560125,\n",
       " 0.9215650657560125,\n",
       " array([[20396,  3785],\n",
       "        [  533, 30338]], dtype=int64))"
      ]
     },
     "execution_count": 18,
     "metadata": {},
     "output_type": "execute_result"
    }
   ],
   "source": [
    "evaluate_detection(mod_602, xplus, yplus)"
   ]
  },
  {
   "cell_type": "code",
   "execution_count": 19,
   "metadata": {},
   "outputs": [
    {
     "name": "stderr",
     "output_type": "stream",
     "text": [
      "c:\\Users\\UX430\\anaconda3\\lib\\site-packages\\sklearn\\metrics\\_classification.py:1308: UndefinedMetricWarning: Precision and F-score are ill-defined and being set to 0.0 in labels with no predicted samples. Use `zero_division` parameter to control this behavior.\n",
      "  _warn_prf(average, modifier, msg_start, len(result))\n",
      "c:\\Users\\UX430\\anaconda3\\lib\\site-packages\\sklearn\\metrics\\_classification.py:1308: UndefinedMetricWarning: Precision and F-score are ill-defined and being set to 0.0 in labels with no predicted samples. Use `zero_division` parameter to control this behavior.\n",
      "  _warn_prf(average, modifier, msg_start, len(result))\n",
      "c:\\Users\\UX430\\anaconda3\\lib\\site-packages\\sklearn\\metrics\\_classification.py:1308: UndefinedMetricWarning: Precision and F-score are ill-defined and being set to 0.0 in labels with no predicted samples. Use `zero_division` parameter to control this behavior.\n",
      "  _warn_prf(average, modifier, msg_start, len(result))\n"
     ]
    },
    {
     "data": {
      "text/plain": [
       "(1.0,\n",
       " 0.2681015400046588,\n",
       " 0.19293113164997755,\n",
       " 0.43923926469519725,\n",
       " 0.43923926469519725,\n",
       " array([[24181,     0],\n",
       "        [30871,     0]], dtype=int64))"
      ]
     },
     "execution_count": 19,
     "metadata": {},
     "output_type": "execute_result"
    }
   ],
   "source": [
    "evaluate_detection(mod_603, xplus, yplus)"
   ]
  },
  {
   "cell_type": "code",
   "execution_count": 20,
   "metadata": {},
   "outputs": [
    {
     "data": {
      "text/plain": [
       "(0.01946810922872599,\n",
       " 0.7995370116182215,\n",
       " 0.8443418509629739,\n",
       " 0.8096890212889631,\n",
       " 0.8096890212889631,\n",
       " array([[14305,  9876],\n",
       "        [  601, 30270]], dtype=int64))"
      ]
     },
     "execution_count": 20,
     "metadata": {},
     "output_type": "execute_result"
    }
   ],
   "source": [
    "evaluate_detection(mod_604, xplus, yplus)"
   ]
  },
  {
   "cell_type": "code",
   "execution_count": 21,
   "metadata": {},
   "outputs": [
    {
     "data": {
      "text/plain": [
       "(0.011078358329824107,\n",
       " 0.7461594868219816,\n",
       " 0.8243363146066571,\n",
       " 0.7662573566809562,\n",
       " 0.7662573566809562,\n",
       " array([[11655, 12526],\n",
       "        [  342, 30529]], dtype=int64))"
      ]
     },
     "execution_count": 21,
     "metadata": {},
     "output_type": "execute_result"
    }
   ],
   "source": [
    "evaluate_detection(mod_605, xplus, yplus)"
   ]
  },
  {
   "cell_type": "code",
   "execution_count": 22,
   "metadata": {},
   "outputs": [
    {
     "data": {
      "text/plain": [
       "(0.00955589388098863,\n",
       " 0.6504287255082116,\n",
       " 0.7874536043719509,\n",
       " 0.6953789144808544,\n",
       " 0.6953789144808544,\n",
       " array([[ 7706, 16475],\n",
       "        [  295, 30576]], dtype=int64))"
      ]
     },
     "execution_count": 22,
     "metadata": {},
     "output_type": "execute_result"
    }
   ],
   "source": [
    "evaluate_detection(mod_606, xplus, yplus)"
   ]
  },
  {
   "cell_type": "code",
   "execution_count": 23,
   "metadata": {},
   "outputs": [
    {
     "data": {
      "text/plain": [
       "(0.011355234707400432,\n",
       " 0.9559056848229267,\n",
       " 0.9579103843600567,\n",
       " 0.9559528210422058,\n",
       " 0.9559528210422058,\n",
       " array([[66183,  5501],\n",
       "        [  814, 70871]], dtype=int64))"
      ]
     },
     "execution_count": 23,
     "metadata": {},
     "output_type": "execute_result"
    }
   ],
   "source": [
    "evaluate_detection(mod_600, xcom, ycom)"
   ]
  },
  {
   "cell_type": "code",
   "execution_count": 24,
   "metadata": {},
   "outputs": [
    {
     "data": {
      "text/plain": [
       "(0.9936527864964776,\n",
       " 0.34034342240552407,\n",
       " 0.7507959221274985,\n",
       " 0.5031701413834232,\n",
       " 0.5031701413834232,\n",
       " array([[71684,     0],\n",
       "        [71230,   455]], dtype=int64))"
      ]
     },
     "execution_count": 24,
     "metadata": {},
     "output_type": "execute_result"
    }
   ],
   "source": [
    "evaluate_detection(mod_601, xcom, ycom)"
   ]
  },
  {
   "cell_type": "code",
   "execution_count": 25,
   "metadata": {},
   "outputs": [
    {
     "data": {
      "text/plain": [
       "(0.013545372114110344,\n",
       " 0.9704602609035092,\n",
       " 0.97094925926196,\n",
       " 0.9704678138230719,\n",
       " 0.9704678138230719,\n",
       " array([[68421,  3263],\n",
       "        [  971, 70714]], dtype=int64))"
      ]
     },
     "execution_count": 25,
     "metadata": {},
     "output_type": "execute_result"
    }
   ],
   "source": [
    "evaluate_detection(mod_602, xcom, ycom)"
   ]
  },
  {
   "cell_type": "code",
   "execution_count": 26,
   "metadata": {},
   "outputs": [
    {
     "name": "stderr",
     "output_type": "stream",
     "text": [
      "c:\\Users\\UX430\\anaconda3\\lib\\site-packages\\sklearn\\metrics\\_classification.py:1308: UndefinedMetricWarning: Precision and F-score are ill-defined and being set to 0.0 in labels with no predicted samples. Use `zero_division` parameter to control this behavior.\n",
      "  _warn_prf(average, modifier, msg_start, len(result))\n",
      "c:\\Users\\UX430\\anaconda3\\lib\\site-packages\\sklearn\\metrics\\_classification.py:1308: UndefinedMetricWarning: Precision and F-score are ill-defined and being set to 0.0 in labels with no predicted samples. Use `zero_division` parameter to control this behavior.\n",
      "  _warn_prf(average, modifier, msg_start, len(result))\n",
      "c:\\Users\\UX430\\anaconda3\\lib\\site-packages\\sklearn\\metrics\\_classification.py:1308: UndefinedMetricWarning: Precision and F-score are ill-defined and being set to 0.0 in labels with no predicted samples. Use `zero_division` parameter to control this behavior.\n",
      "  _warn_prf(average, modifier, msg_start, len(result))\n"
     ]
    },
    {
     "data": {
      "text/plain": [
       "(1.0,\n",
       " 0.33332945833579397,\n",
       " 0.24999651250789046,\n",
       " 0.4999965124957278,\n",
       " 0.4999965124957278,\n",
       " array([[71684,     0],\n",
       "        [71685,     0]], dtype=int64))"
      ]
     },
     "execution_count": 26,
     "metadata": {},
     "output_type": "execute_result"
    }
   ],
   "source": [
    "evaluate_detection(mod_603, xcom, ycom)"
   ]
  },
  {
   "cell_type": "code",
   "execution_count": 27,
   "metadata": {},
   "outputs": [
    {
     "data": {
      "text/plain": [
       "(0.013698821231777918,\n",
       " 0.9603692990103223,\n",
       " 0.9616350614172964,\n",
       " 0.9603959014849793,\n",
       " 0.9603959014849793,\n",
       " array([[66988,  4696],\n",
       "        [  982, 70703]], dtype=int64))"
      ]
     },
     "execution_count": 27,
     "metadata": {},
     "output_type": "execute_result"
    }
   ],
   "source": [
    "evaluate_detection(mod_604, xcom, ycom)"
   ]
  },
  {
   "cell_type": "code",
   "execution_count": 28,
   "metadata": {},
   "outputs": [
    {
     "data": {
      "text/plain": [
       "(0.00481272232684662,\n",
       " 0.9380000619876052,\n",
       " 0.9439683262907895,\n",
       " 0.9382014242967448,\n",
       " 0.9382014242967448,\n",
       " array([[63169,  8515],\n",
       "        [  345, 71340]], dtype=int64))"
      ]
     },
     "execution_count": 28,
     "metadata": {},
     "output_type": "execute_result"
    }
   ],
   "source": [
    "evaluate_detection(mod_605, xcom, ycom)"
   ]
  },
  {
   "cell_type": "code",
   "execution_count": 29,
   "metadata": {},
   "outputs": [
    {
     "data": {
      "text/plain": [
       "(0.011620283183371695,\n",
       " 0.9641972994200044,\n",
       " 0.9653047273129904,\n",
       " 0.9642182061673026,\n",
       " 0.9642182061673026,\n",
       " array([[67387,  4297],\n",
       "        [  833, 70852]], dtype=int64))"
      ]
     },
     "execution_count": 29,
     "metadata": {},
     "output_type": "execute_result"
    }
   ],
   "source": [
    "evaluate_detection(mod_606, xcom, ycom)"
   ]
  },
  {
   "cell_type": "markdown",
   "metadata": {},
   "source": [
    "#### Models 700, 701 and 702"
   ]
  },
  {
   "cell_type": "code",
   "execution_count": 30,
   "metadata": {},
   "outputs": [],
   "source": [
    "mod_700 = models.load_model('C:/Users/UX430/Documents/thesis/code/models/id700.hdf5')\n",
    "mod_701 = models.load_model('C:/Users/UX430/Documents/thesis/code/models/id701.hdf5')\n",
    "mod_702 = models.load_model('C:/Users/UX430/Documents/thesis/code/models/id702.hdf5')\n"
   ]
  },
  {
   "cell_type": "code",
   "execution_count": 31,
   "metadata": {},
   "outputs": [
    {
     "data": {
      "text/plain": [
       "(0.006263513984794587,\n",
       " 0.9485102660927153,\n",
       " 0.9522984846048763,\n",
       " 0.9486151120535122,\n",
       " 0.9486151120535122,\n",
       " array([[64766,  6918],\n",
       "        [  449, 71236]], dtype=int64))"
      ]
     },
     "execution_count": 31,
     "metadata": {},
     "output_type": "execute_result"
    }
   ],
   "source": [
    "evaluate_detection(mod_700, xcom, ycom)"
   ]
  },
  {
   "cell_type": "code",
   "execution_count": 32,
   "metadata": {},
   "outputs": [
    {
     "data": {
      "text/plain": [
       "(0.004408174652995745,\n",
       " 0.9086378332472831,\n",
       " 0.9218783038238343,\n",
       " 0.9093179139144445,\n",
       " 0.9093179139144445,\n",
       " array([[58999, 12685],\n",
       "        [  316, 71369]], dtype=int64))"
      ]
     },
     "execution_count": 32,
     "metadata": {},
     "output_type": "execute_result"
    }
   ],
   "source": [
    "evaluate_detection(mod_701, xcom, ycom)"
   ]
  },
  {
   "cell_type": "code",
   "execution_count": 33,
   "metadata": {},
   "outputs": [
    {
     "data": {
      "text/plain": [
       "(0.018148845644137546,\n",
       " 0.9879397635678289,\n",
       " 0.9880125896412548,\n",
       " 0.9879402102267575,\n",
       " 0.9879402102267575,\n",
       " array([[71256,   428],\n",
       "        [ 1301, 70384]], dtype=int64))"
      ]
     },
     "execution_count": 33,
     "metadata": {},
     "output_type": "execute_result"
    }
   ],
   "source": [
    "evaluate_detection(mod_702, xcom, ycom)"
   ]
  },
  {
   "cell_type": "code",
   "execution_count": 34,
   "metadata": {},
   "outputs": [
    {
     "data": {
      "text/plain": [
       "(0.005455801104972376,\n",
       " 0.9716245405472854,\n",
       " 0.9725716710212223,\n",
       " 0.971676064156125,\n",
       " 0.971676064156125,\n",
       " array([[61033,  3483],\n",
       "        [  395, 72005]], dtype=int64))"
      ]
     },
     "execution_count": 34,
     "metadata": {},
     "output_type": "execute_result"
    }
   ],
   "source": [
    "evaluate_detection(mod_700, xbasic, ybasic )"
   ]
  },
  {
   "cell_type": "code",
   "execution_count": 35,
   "metadata": {},
   "outputs": [
    {
     "data": {
      "text/plain": [
       "(0.009847429626510317,\n",
       " 0.734246008100034,\n",
       " 0.8203151931332536,\n",
       " 0.7570115527137978,\n",
       " 0.7570115527137978,\n",
       " array([[11108, 13073],\n",
       "        [  304, 30567]], dtype=int64))"
      ]
     },
     "execution_count": 35,
     "metadata": {},
     "output_type": "execute_result"
    }
   ],
   "source": [
    "evaluate_detection(mod_700, xplus, yplus )"
   ]
  },
  {
   "cell_type": "code",
   "execution_count": 36,
   "metadata": {},
   "outputs": [
    {
     "data": {
      "text/plain": [
       "(0.004102209944751381,\n",
       " 0.9416874732802485,\n",
       " 0.9468958940466878,\n",
       " 0.9420374536211984,\n",
       " 0.9420374536211984,\n",
       " array([[56877,  7639],\n",
       "        [  297, 72103]], dtype=int64))"
      ]
     },
     "execution_count": 36,
     "metadata": {},
     "output_type": "execute_result"
    }
   ],
   "source": [
    "evaluate_detection(mod_701, xbasic, ybasic )"
   ]
  },
  {
   "cell_type": "code",
   "execution_count": 37,
   "metadata": {},
   "outputs": [
    {
     "data": {
      "text/plain": [
       "(0.013928930063813936,\n",
       " 0.8806837182262405,\n",
       " 0.8976967067608941,\n",
       " 0.8834374772941945,\n",
       " 0.8834374772941945,\n",
       " array([[18194,  5987],\n",
       "        [  430, 30441]], dtype=int64))"
      ]
     },
     "execution_count": 37,
     "metadata": {},
     "output_type": "execute_result"
    }
   ],
   "source": [
    "evaluate_detection(mod_701, xplus, yplus )"
   ]
  },
  {
   "cell_type": "code",
   "execution_count": 38,
   "metadata": {},
   "outputs": [
    {
     "data": {
      "text/plain": [
       "(0.01819060773480663,\n",
       " 0.990042161736056,\n",
       " 0.990217253956467,\n",
       " 0.9900376873411435,\n",
       " 0.9900376873411435,\n",
       " array([[64469,    47],\n",
       "        [ 1317, 71083]], dtype=int64))"
      ]
     },
     "execution_count": 38,
     "metadata": {},
     "output_type": "execute_result"
    }
   ],
   "source": [
    "evaluate_detection(mod_702, xbasic, ybasic )"
   ]
  },
  {
   "cell_type": "code",
   "execution_count": 39,
   "metadata": {},
   "outputs": [
    {
     "data": {
      "text/plain": [
       "(0.018561109131547408,\n",
       " 0.9468745067838977,\n",
       " 0.9486164158111176,\n",
       " 0.9471408849814721,\n",
       " 0.9471408849814721,\n",
       " array([[21844,  2337],\n",
       "        [  573, 30298]], dtype=int64))"
      ]
     },
     "execution_count": 39,
     "metadata": {},
     "output_type": "execute_result"
    }
   ],
   "source": [
    "evaluate_detection(mod_702, xplus, yplus )"
   ]
  },
  {
   "cell_type": "markdown",
   "metadata": {},
   "source": [
    "#### TRIM"
   ]
  },
  {
   "cell_type": "code",
   "execution_count": 6,
   "metadata": {},
   "outputs": [],
   "source": [
    "trim00 = models.load_model('C:/Users/UX430/Documents/thesis/code/models/idTRIM00.hdf5')\n",
    "trim01 = models.load_model('C:/Users/UX430/Documents/thesis/code/models/idTRIM01.hdf5')\n",
    "trim02 = models.load_model('C:/Users/UX430/Documents/thesis/code/models/idTRIM02.hdf5')\n"
   ]
  },
  {
   "cell_type": "code",
   "execution_count": 7,
   "metadata": {},
   "outputs": [
    {
     "data": {
      "text/plain": [
       "(0.0036187845303867405,\n",
       " 0.9692174919876617,\n",
       " 0.9705653078566339,\n",
       " 0.9692877384673815,\n",
       " 0.9692877384673815,\n",
       " array([[60573,  3943],\n",
       "        [  262, 72138]], dtype=int64))"
      ]
     },
     "execution_count": 7,
     "metadata": {},
     "output_type": "execute_result"
    }
   ],
   "source": [
    "evaluate_detection(trim00, xbasic, ybasic )"
   ]
  },
  {
   "cell_type": "code",
   "execution_count": 8,
   "metadata": {},
   "outputs": [
    {
     "data": {
      "text/plain": [
       "(0.005992679213501344,\n",
       " 0.665614374572885,\n",
       " 0.7984771010769703,\n",
       " 0.7067499818353556,\n",
       " 0.7067499818353556,\n",
       " array([[ 8222, 15959],\n",
       "        [  185, 30686]], dtype=int64))"
      ]
     },
     "execution_count": 8,
     "metadata": {},
     "output_type": "execute_result"
    }
   ],
   "source": [
    "evaluate_detection(trim00, xplus, yplus )"
   ]
  },
  {
   "cell_type": "code",
   "execution_count": 9,
   "metadata": {},
   "outputs": [
    {
     "data": {
      "text/plain": [
       "(0.0044060773480662984,\n",
       " 0.9480098734652984,\n",
       " 0.9520472639387606,\n",
       " 0.9482675509071256,\n",
       " 0.9482675509071256,\n",
       " array([[57752,  6764],\n",
       "        [  319, 72081]], dtype=int64))"
      ]
     },
     "execution_count": 9,
     "metadata": {},
     "output_type": "execute_result"
    }
   ],
   "source": [
    "evaluate_detection(trim01, xbasic, ybasic )"
   ]
  },
  {
   "cell_type": "code",
   "execution_count": 10,
   "metadata": {},
   "outputs": [
    {
     "data": {
      "text/plain": [
       "(0.01370218003951929,\n",
       " 0.8722869313316397,\n",
       " 0.892055665080549,\n",
       " 0.8755903509409286,\n",
       " 0.8755903509409286,\n",
       " array([[17755,  6426],\n",
       "        [  423, 30448]], dtype=int64))"
      ]
     },
     "execution_count": 10,
     "metadata": {},
     "output_type": "execute_result"
    }
   ],
   "source": [
    "evaluate_detection(trim01, xplus, yplus )"
   ]
  },
  {
   "cell_type": "code",
   "execution_count": 11,
   "metadata": {},
   "outputs": [
    {
     "data": {
      "text/plain": [
       "(0.020124309392265192,\n",
       " 0.9892761308924688,\n",
       " 0.9895021323314124,\n",
       " 0.9892707937713635,\n",
       " 0.9892707937713635,\n",
       " array([[64504,    12],\n",
       "        [ 1457, 70943]], dtype=int64))"
      ]
     },
     "execution_count": 11,
     "metadata": {},
     "output_type": "execute_result"
    }
   ],
   "source": [
    "evaluate_detection(trim02, xbasic, ybasic )"
   ]
  },
  {
   "cell_type": "code",
   "execution_count": 12,
   "metadata": {},
   "outputs": [
    {
     "data": {
      "text/plain": [
       "(0.026270609957565354,\n",
       " 0.9702999397527143,\n",
       " 0.9702991827410952,\n",
       " 0.9703008065102086,\n",
       " 0.9703008065102086,\n",
       " array([[23357,   824],\n",
       "        [  811, 30060]], dtype=int64))"
      ]
     },
     "execution_count": 12,
     "metadata": {},
     "output_type": "execute_result"
    }
   ],
   "source": [
    "evaluate_detection(trim02, xplus, yplus )"
   ]
  },
  {
   "cell_type": "code",
   "execution_count": 13,
   "metadata": {},
   "outputs": [
    {
     "data": {
      "text/plain": [
       "(0.0044500244123596286,\n",
       " 0.9404631622826496,\n",
       " 0.9460213145679357,\n",
       " 0.9406426772872797,\n",
       " 0.9406426772872797,\n",
       " array([[63493,  8191],\n",
       "        [  319, 71366]], dtype=int64))"
      ]
     },
     "execution_count": 13,
     "metadata": {},
     "output_type": "execute_result"
    }
   ],
   "source": [
    "evaluate_detection(trim00, xcom, ycom)"
   ]
  },
  {
   "cell_type": "code",
   "execution_count": 14,
   "metadata": {},
   "outputs": [
    {
     "data": {
      "text/plain": [
       "(0.004910371765362349,\n",
       " 0.9154071673070557,\n",
       " 0.9266286148727427,\n",
       " 0.9159371970230663,\n",
       " 0.9159371970230663,\n",
       " array([[59984, 11700],\n",
       "        [  352, 71333]], dtype=int64))"
      ]
     },
     "execution_count": 14,
     "metadata": {},
     "output_type": "execute_result"
    }
   ],
   "source": [
    "evaluate_detection(trim01, xcom, ycom)"
   ]
  },
  {
   "cell_type": "code",
   "execution_count": 15,
   "metadata": {},
   "outputs": [
    {
     "data": {
      "text/plain": [
       "(0.019097440189718907,\n",
       " 0.9893065571211679,\n",
       " 0.9894456149808546,\n",
       " 0.989307311901457,\n",
       " 0.989307311901457,\n",
       " array([[71520,   164],\n",
       "        [ 1369, 70316]], dtype=int64))"
      ]
     },
     "execution_count": 15,
     "metadata": {},
     "output_type": "execute_result"
    }
   ],
   "source": [
    "evaluate_detection(trim02, xcom, ycom)"
   ]
  },
  {
   "cell_type": "markdown",
   "metadata": {},
   "source": [
    "#### MEDIAN"
   ]
  },
  {
   "cell_type": "code",
   "execution_count": 50,
   "metadata": {},
   "outputs": [],
   "source": [
    "med00 = models.load_model('C:/Users/UX430/Documents/thesis/code/models/idMED00.hdf5')\n",
    "med01 = models.load_model('C:/Users/UX430/Documents/thesis/code/models/idMED01.hdf5')\n",
    "med02 = models.load_model('C:/Users/UX430/Documents/thesis/code/models/idMED02.hdf5')\n"
   ]
  },
  {
   "cell_type": "code",
   "execution_count": 51,
   "metadata": {},
   "outputs": [
    {
     "data": {
      "text/plain": [
       "(0.0032458563535911603,\n",
       " 0.9685108164478585,\n",
       " 0.9699706538488233,\n",
       " 0.968586578632154,\n",
       " 0.968586578632154,\n",
       " array([[60450,  4066],\n",
       "        [  235, 72165]], dtype=int64))"
      ]
     },
     "execution_count": 51,
     "metadata": {},
     "output_type": "execute_result"
    }
   ],
   "source": [
    "evaluate_detection(med00, xbasic, ybasic )"
   ]
  },
  {
   "cell_type": "code",
   "execution_count": 52,
   "metadata": {},
   "outputs": [
    {
     "data": {
      "text/plain": [
       "(0.010884001166142982,\n",
       " 0.7759273251167887,\n",
       " 0.8385065526992616,\n",
       " 0.7905798154472136,\n",
       " 0.7905798154472136,\n",
       " array([[12988, 11193],\n",
       "        [  336, 30535]], dtype=int64))"
      ]
     },
     "execution_count": 52,
     "metadata": {},
     "output_type": "execute_result"
    }
   ],
   "source": [
    "evaluate_detection(med00, xplus, yplus )"
   ]
  },
  {
   "cell_type": "code",
   "execution_count": 53,
   "metadata": {},
   "outputs": [
    {
     "data": {
      "text/plain": [
       "(0.004792817679558011,\n",
       " 0.9522853829097507,\n",
       " 0.9555799542266943,\n",
       " 0.9524891174150574,\n",
       " 0.9524891174150574,\n",
       " array([[58358,  6158],\n",
       "        [  347, 72053]], dtype=int64))"
      ]
     },
     "execution_count": 53,
     "metadata": {},
     "output_type": "execute_result"
    }
   ],
   "source": [
    "evaluate_detection(med01, xbasic, ybasic )"
   ]
  },
  {
   "cell_type": "code",
   "execution_count": 54,
   "metadata": {},
   "outputs": [
    {
     "data": {
      "text/plain": [
       "(0.015516180233876454,\n",
       " 0.8645479830216747,\n",
       " 0.8860697097195477,\n",
       " 0.8683063285620868,\n",
       " 0.8683063285620868,\n",
       " array([[17410,  6771],\n",
       "        [  479, 30392]], dtype=int64))"
      ]
     },
     "execution_count": 54,
     "metadata": {},
     "output_type": "execute_result"
    }
   ],
   "source": [
    "evaluate_detection(med01, xplus, yplus )"
   ]
  },
  {
   "cell_type": "code",
   "execution_count": 55,
   "metadata": {},
   "outputs": [
    {
     "data": {
      "text/plain": [
       "(0.021104972375690607,\n",
       " 0.9887945470246919,\n",
       " 0.9890446953678572,\n",
       " 0.9887887463846446,\n",
       " 0.9887887463846446,\n",
       " array([[64509,     7],\n",
       "        [ 1528, 70872]], dtype=int64))"
      ]
     },
     "execution_count": 55,
     "metadata": {},
     "output_type": "execute_result"
    }
   ],
   "source": [
    "evaluate_detection(med02, xbasic, ybasic )"
   ]
  },
  {
   "cell_type": "code",
   "execution_count": 56,
   "metadata": {},
   "outputs": [
    {
     "data": {
      "text/plain": [
       "(0.02870007450357941,\n",
       " 0.9838066189632456,\n",
       " 0.9843397518722772,\n",
       " 0.9837789726077163,\n",
       " 0.9837789726077163,\n",
       " array([[24174,     7],\n",
       "        [  886, 29985]], dtype=int64))"
      ]
     },
     "execution_count": 56,
     "metadata": {},
     "output_type": "execute_result"
    }
   ],
   "source": [
    "evaluate_detection(med02, xplus, yplus )"
   ]
  },
  {
   "cell_type": "code",
   "execution_count": 57,
   "metadata": {},
   "outputs": [
    {
     "data": {
      "text/plain": [
       "(0.004310525214480017,\n",
       " 0.9378625699018214,\n",
       " 0.9439649392456899,\n",
       " 0.9380688991344014,\n",
       " 0.9380688991344014,\n",
       " array([[63114,  8570],\n",
       "        [  309, 71376]], dtype=int64))"
      ]
     },
     "execution_count": 57,
     "metadata": {},
     "output_type": "execute_result"
    }
   ],
   "source": [
    "evaluate_detection(med00, xcom, ycom)"
   ]
  },
  {
   "cell_type": "code",
   "execution_count": 58,
   "metadata": {},
   "outputs": [
    {
     "data": {
      "text/plain": [
       "(0.0051335704819697285,\n",
       " 0.9212841612252541,\n",
       " 0.9309317373909491,\n",
       " 0.9217055290892732,\n",
       " 0.9217055290892732,\n",
       " array([[60827, 10857],\n",
       "        [  368, 71317]], dtype=int64))"
      ]
     },
     "execution_count": 58,
     "metadata": {},
     "output_type": "execute_result"
    }
   ],
   "source": [
    "evaluate_detection(med01, xcom, ycom)"
   ]
  },
  {
   "cell_type": "code",
   "execution_count": 59,
   "metadata": {},
   "outputs": [
    {
     "data": {
      "text/plain": [
       "(0.01980888609890493,\n",
       " 0.9900456965845631,\n",
       " 0.9902371400138832,\n",
       " 0.9900466628071619,\n",
       " 0.9900466628071619,\n",
       " array([[71677,     7],\n",
       "        [ 1420, 70265]], dtype=int64))"
      ]
     },
     "execution_count": 59,
     "metadata": {},
     "output_type": "execute_result"
    }
   ],
   "source": [
    "evaluate_detection(med02, xcom, ycom)"
   ]
  },
  {
   "cell_type": "markdown",
   "metadata": {},
   "source": [
    "#### KRUM"
   ]
  },
  {
   "cell_type": "code",
   "execution_count": 60,
   "metadata": {},
   "outputs": [],
   "source": [
    "krum00 = models.load_model('C:/Users/UX430/Documents/thesis/code/models/idKRUM00.hdf5')\n",
    "krum01 = models.load_model('C:/Users/UX430/Documents/thesis/code/models/idKRUM01.hdf5')\n",
    "krum02 = models.load_model('C:/Users/UX430/Documents/thesis/code/models/idKRUM02.hdf5')\n"
   ]
  },
  {
   "cell_type": "code",
   "execution_count": 61,
   "metadata": {},
   "outputs": [
    {
     "data": {
      "text/plain": [
       "(0.004378453038674033,\n",
       " 0.9692349378527148,\n",
       " 0.9705001595482861,\n",
       " 0.9693023459639487,\n",
       " 0.9693023459639487,\n",
       " array([[60630,  3886],\n",
       "        [  317, 72083]], dtype=int64))"
      ]
     },
     "execution_count": 61,
     "metadata": {},
     "output_type": "execute_result"
    }
   ],
   "source": [
    "evaluate_detection(krum00, xbasic, ybasic )"
   ]
  },
  {
   "cell_type": "code",
   "execution_count": 62,
   "metadata": {},
   "outputs": [
    {
     "data": {
      "text/plain": [
       "(0.0075475365229503415,\n",
       " 0.7125105552563743,\n",
       " 0.8138686114556182,\n",
       " 0.7406452081668241,\n",
       " 0.7406452081668241,\n",
       " array([[10136, 14045],\n",
       "        [  233, 30638]], dtype=int64))"
      ]
     },
     "execution_count": 62,
     "metadata": {},
     "output_type": "execute_result"
    }
   ],
   "source": [
    "evaluate_detection(krum00, xplus, yplus )"
   ]
  },
  {
   "cell_type": "code",
   "execution_count": 63,
   "metadata": {},
   "outputs": [
    {
     "data": {
      "text/plain": [
       "(0.004461325966850829,\n",
       " 0.955552926164441,\n",
       " 0.9584258577276722,\n",
       " 0.9557246779047007,\n",
       " 0.9557246779047007,\n",
       " array([[58777,  5739],\n",
       "        [  323, 72077]], dtype=int64))"
      ]
     },
     "execution_count": 63,
     "metadata": {},
     "output_type": "execute_result"
    }
   ],
   "source": [
    "evaluate_detection(krum01, xbasic, ybasic )"
   ]
  },
  {
   "cell_type": "code",
   "execution_count": 64,
   "metadata": {},
   "outputs": [
    {
     "data": {
      "text/plain": [
       "(0.014090894366881539,\n",
       " 0.9293800076359917,\n",
       " 0.9344163489049463,\n",
       " 0.930066119305384,\n",
       " 0.930066119305384,\n",
       " array([[20766,  3415],\n",
       "        [  435, 30436]], dtype=int64))"
      ]
     },
     "execution_count": 64,
     "metadata": {},
     "output_type": "execute_result"
    }
   ],
   "source": [
    "evaluate_detection(krum01, xplus, yplus )"
   ]
  },
  {
   "cell_type": "code",
   "execution_count": 65,
   "metadata": {},
   "outputs": [
    {
     "data": {
      "text/plain": [
       "(0.017803867403314917,\n",
       " 0.9902391931011721,\n",
       " 0.9904064503870083,\n",
       " 0.9902348885448012,\n",
       " 0.9902348885448012,\n",
       " array([[64468,    48],\n",
       "        [ 1289, 71111]], dtype=int64))"
      ]
     },
     "execution_count": 65,
     "metadata": {},
     "output_type": "execute_result"
    }
   ],
   "source": [
    "evaluate_detection(krum02, xbasic, ybasic )"
   ]
  },
  {
   "cell_type": "code",
   "execution_count": 66,
   "metadata": {},
   "outputs": [
    {
     "data": {
      "text/plain": [
       "(0.018885037737682613,\n",
       " 0.9726951004082693,\n",
       " 0.9727472144071837,\n",
       " 0.9727167042069317,\n",
       " 0.9727167042069317,\n",
       " array([[23262,   919],\n",
       "        [  583, 30288]], dtype=int64))"
      ]
     },
     "execution_count": 66,
     "metadata": {},
     "output_type": "execute_result"
    }
   ],
   "source": [
    "evaluate_detection(krum02, xplus, yplus )"
   ]
  },
  {
   "cell_type": "code",
   "execution_count": 67,
   "metadata": {},
   "outputs": [
    {
     "data": {
      "text/plain": [
       "(0.005091720722605845,\n",
       " 0.9426773587612735,\n",
       " 0.9476890554678995,\n",
       " 0.9428328299702167,\n",
       " 0.9428328299702167,\n",
       " array([[63853,  7831],\n",
       "        [  365, 71320]], dtype=int64))"
      ]
     },
     "execution_count": 67,
     "metadata": {},
     "output_type": "execute_result"
    }
   ],
   "source": [
    "evaluate_detection(krum00, xcom, ycom )"
   ]
  },
  {
   "cell_type": "code",
   "execution_count": 68,
   "metadata": {},
   "outputs": [
    {
     "data": {
      "text/plain": [
       "(0.0053288693590011855,\n",
       " 0.9264159913216581,\n",
       " 0.9347770819443417,\n",
       " 0.9267554352754082,\n",
       " 0.9267554352754082,\n",
       " array([[61565, 10119],\n",
       "        [  382, 71303]], dtype=int64))"
      ]
     },
     "execution_count": 68,
     "metadata": {},
     "output_type": "execute_result"
    }
   ],
   "source": [
    "evaluate_detection(krum01, xcom, ycom )"
   ]
  },
  {
   "cell_type": "code",
   "execution_count": 69,
   "metadata": {},
   "outputs": [
    {
     "data": {
      "text/plain": [
       "(0.017981446606682012,\n",
       " 0.9891323871495287,\n",
       " 0.9892319900707868,\n",
       " 0.9891329366878474,\n",
       " 0.9891329366878474,\n",
       " array([[71415,   269],\n",
       "        [ 1289, 70396]], dtype=int64))"
      ]
     },
     "execution_count": 69,
     "metadata": {},
     "output_type": "execute_result"
    }
   ],
   "source": [
    "evaluate_detection(krum02, xcom, ycom )"
   ]
  },
  {
   "cell_type": "markdown",
   "metadata": {},
   "source": [
    "#### GEOMETRIC MEDIAN"
   ]
  },
  {
   "cell_type": "code",
   "execution_count": 70,
   "metadata": {},
   "outputs": [],
   "source": [
    "geo00 = models.load_model('C:/Users/UX430/Documents/thesis/code/models/idGEO00.hdf5')\n",
    "geo01 = models.load_model('C:/Users/UX430/Documents/thesis/code/models/idGEO01.hdf5')\n",
    "geo02 = models.load_model('C:/Users/UX430/Documents/thesis/code/models/idGEO02.hdf5')\n"
   ]
  },
  {
   "cell_type": "code",
   "execution_count": 71,
   "metadata": {},
   "outputs": [
    {
     "data": {
      "text/plain": [
       "(0.00712707182320442,\n",
       " 0.9754574277724276,\n",
       " 0.9759929096074956,\n",
       " 0.9754886207601742,\n",
       " 0.9754886207601742,\n",
       " array([[61676,  2840],\n",
       "        [  516, 71884]], dtype=int64))"
      ]
     },
     "execution_count": 71,
     "metadata": {},
     "output_type": "execute_result"
    }
   ],
   "source": [
    "evaluate_detection(geo00, xbasic, ybasic )"
   ]
  },
  {
   "cell_type": "code",
   "execution_count": 72,
   "metadata": {},
   "outputs": [
    {
     "data": {
      "text/plain": [
       "(0.008681286644423568,\n",
       " 0.7656067274071545,\n",
       " 0.8355189360247318,\n",
       " 0.7823330669185498,\n",
       " 0.7823330669185498,\n",
       " array([[12466, 11715],\n",
       "        [  268, 30603]], dtype=int64))"
      ]
     },
     "execution_count": 72,
     "metadata": {},
     "output_type": "execute_result"
    }
   ],
   "source": [
    "evaluate_detection(geo00, xplus, yplus )"
   ]
  },
  {
   "cell_type": "code",
   "execution_count": 73,
   "metadata": {},
   "outputs": [
    {
     "data": {
      "text/plain": [
       "(0.004668508287292818,\n",
       " 0.9440509381249023,\n",
       " 0.948714588262095,\n",
       " 0.9443600455753893,\n",
       " 0.9443600455753893,\n",
       " array([[57236,  7280],\n",
       "        [  338, 72062]], dtype=int64))"
      ]
     },
     "execution_count": 73,
     "metadata": {},
     "output_type": "execute_result"
    }
   ],
   "source": [
    "evaluate_detection(geo01, xbasic, ybasic )"
   ]
  },
  {
   "cell_type": "code",
   "execution_count": 74,
   "metadata": {},
   "outputs": [
    {
     "data": {
      "text/plain": [
       "(0.014900715882219558,\n",
       " 0.9165176387721264,\n",
       " 0.9238694111759653,\n",
       " 0.9175688440020344,\n",
       " 0.9175688440020344,\n",
       " array([[20103,  4078],\n",
       "        [  460, 30411]], dtype=int64))"
      ]
     },
     "execution_count": 74,
     "metadata": {},
     "output_type": "execute_result"
    }
   ],
   "source": [
    "evaluate_detection(geo01, xplus, yplus )"
   ]
  },
  {
   "cell_type": "code",
   "execution_count": 75,
   "metadata": {},
   "outputs": [
    {
     "data": {
      "text/plain": [
       "(0.01899171270718232,\n",
       " 0.9898891213014196,\n",
       " 0.9900909806559807,\n",
       " 0.9898843086271875,\n",
       " 0.9898843086271875,\n",
       " array([[64506,    10],\n",
       "        [ 1375, 71025]], dtype=int64))"
      ]
     },
     "execution_count": 75,
     "metadata": {},
     "output_type": "execute_result"
    }
   ],
   "source": [
    "evaluate_detection(geo02, xbasic, ybasic )"
   ]
  },
  {
   "cell_type": "code",
   "execution_count": 76,
   "metadata": {},
   "outputs": [
    {
     "data": {
      "text/plain": [
       "(0.023549609666029606,\n",
       " 0.9862322162185762,\n",
       " 0.9865685957771482,\n",
       " 0.9862130349487757,\n",
       " 0.9862130349487757,\n",
       " array([[24149,    32],\n",
       "        [  727, 30144]], dtype=int64))"
      ]
     },
     "execution_count": 76,
     "metadata": {},
     "output_type": "execute_result"
    }
   ],
   "source": [
    "evaluate_detection(geo02, xplus, yplus )"
   ]
  },
  {
   "cell_type": "code",
   "execution_count": 77,
   "metadata": {},
   "outputs": [
    {
     "data": {
      "text/plain": [
       "(0.007574806444862942,\n",
       " 0.9563495550864797,\n",
       " 0.9587870328222783,\n",
       " 0.9564061965975909,\n",
       " 0.9564061965975909,\n",
       " array([[65977,  5707],\n",
       "        [  543, 71142]], dtype=int64))"
      ]
     },
     "execution_count": 77,
     "metadata": {},
     "output_type": "execute_result"
    }
   ],
   "source": [
    "evaluate_detection(geo00, xcom, ycom )"
   ]
  },
  {
   "cell_type": "code",
   "execution_count": 78,
   "metadata": {},
   "outputs": [
    {
     "data": {
      "text/plain": [
       "(0.005063820883029923,\n",
       " 0.9129895350603425,\n",
       " 0.9248167226582382,\n",
       " 0.9135656941179753,\n",
       " 0.9135656941179753,\n",
       " array([[59655, 12029],\n",
       "        [  363, 71322]], dtype=int64))"
      ]
     },
     "execution_count": 78,
     "metadata": {},
     "output_type": "execute_result"
    }
   ],
   "source": [
    "evaluate_detection(geo01, xcom, ycom )"
   ]
  },
  {
   "cell_type": "code",
   "execution_count": 79,
   "metadata": {},
   "outputs": [
    {
     "data": {
      "text/plain": [
       "(0.01912534002929483,\n",
       " 0.990345722631171,\n",
       " 0.9905226280682651,\n",
       " 0.9903465881745706,\n",
       " 0.9903465881745706,\n",
       " array([[71671,    13],\n",
       "        [ 1371, 70314]], dtype=int64))"
      ]
     },
     "execution_count": 79,
     "metadata": {},
     "output_type": "execute_result"
    }
   ],
   "source": [
    "evaluate_detection(geo02, xcom, ycom )"
   ]
  }
 ],
 "metadata": {
  "kernelspec": {
   "display_name": "base",
   "language": "python",
   "name": "python3"
  },
  "language_info": {
   "codemirror_mode": {
    "name": "ipython",
    "version": 3
   },
   "file_extension": ".py",
   "mimetype": "text/x-python",
   "name": "python",
   "nbconvert_exporter": "python",
   "pygments_lexer": "ipython3",
   "version": "3.8.12"
  }
 },
 "nbformat": 4,
 "nbformat_minor": 2
}
