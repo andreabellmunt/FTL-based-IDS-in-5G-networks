{
 "cells": [
  {
   "cell_type": "markdown",
   "metadata": {},
   "source": [
    "## Partitioning UNSW-NB15-Train-Basic into 7 nodes \n",
    "\n",
    "The partitions made can be balanced/ unbalanced, with 7 nodes. Attacks might appear in all nodes or only a subset. "
   ]
  },
  {
   "cell_type": "code",
   "execution_count": 1,
   "metadata": {},
   "outputs": [],
   "source": [
    "import numpy as np  # for array\n",
    "import pandas as pd  # for csv files and dataframe\n",
    "import matplotlib.pyplot as plt  # for plotting\n",
    "import seaborn as sns  # plotting\n",
    "from scipy import stats\n",
    "\n",
    "import pickle  # To load data int disk\n",
    "\n",
    "import warnings\n",
    "warnings.filterwarnings(\"ignore\")\n",
    "\n",
    "from sklearn.preprocessing import StandardScaler\n",
    "from sklearn.preprocessing import LabelEncoder, OneHotEncoder\n",
    "\n",
    "from sklearn.model_selection import train_test_split\n",
    "\n",
    "from sklearn.metrics import accuracy_score, confusion_matrix, make_scorer\n",
    "from sklearn.metrics import auc, f1_score, roc_curve\n",
    "from sklearn.model_selection import GridSearchCV, RandomizedSearchCV\n",
    "from sklearn.model_selection import cross_validate, cross_val_predict"
   ]
  },
  {
   "cell_type": "code",
   "execution_count": 2,
   "metadata": {},
   "outputs": [],
   "source": [
    "# Get UNSW-NB15-Train-Basic dataset \n",
    "complete = pd.read_csv('C:/Users/UX430/Documents/thesis/datasets/UNSW-NB15/UNSW-NB15-Train-Basic.csv')"
   ]
  },
  {
   "cell_type": "code",
   "execution_count": 3,
   "metadata": {},
   "outputs": [],
   "source": [
    "def filter(dataset): \n",
    "    # Get only the rows that contain state (PAR, ACC, ECO, CON, FIN, INT, REQ, RST) and proto (igmp, arp, icmp, udp, tcp, ipv6-icmp, rarp)\n",
    "    dataset = dataset[dataset['state'].isin(['PAR', 'ACC', 'ECO', 'CON', 'FIN', 'INT', 'REQ', 'RST'])]\n",
    "    dataset = dataset[dataset['proto'].isin(['igmp', 'arp', 'icmp', 'udp', 'tcp', 'ipv6-icmp', 'rarp'])]\n",
    "    return dataset"
   ]
  },
  {
   "cell_type": "code",
   "execution_count": 4,
   "metadata": {},
   "outputs": [],
   "source": [
    "complete = filter(complete)"
   ]
  },
  {
   "cell_type": "markdown",
   "metadata": {},
   "source": [
    "### id = 7A : Partition with 7 balanced nodes \n",
    "\n",
    "All of the traffic represented in the 7 nodes. \n",
    "\n"
   ]
  },
  {
   "cell_type": "code",
   "execution_count": 14,
   "metadata": {},
   "outputs": [],
   "source": [
    "# Create the partitions \n",
    "\n",
    "normal1 = complete[complete['label'] == 0].iloc[:27605]\n",
    "normal2 = complete[complete['label'] == 0].iloc[27605:(27605*2)]\n",
    "normal3 = complete[complete['label'] == 0].iloc[(27605*2):(27605*3)]\n",
    "normal4 = complete[complete['label'] == 0].iloc[(27605*3):(27605*4)]\n",
    "normal5 = complete[complete['label'] == 0].iloc[(27605*4):(27605*5)]\n",
    "normal6 = complete[complete['label'] == 0].iloc[(27605*5):(27605*6)]\n",
    "normal7 = complete[complete['label'] == 0].iloc[(27605*6):(27605*7)]\n",
    "\n",
    "generic1 = complete[complete['attack_cat'] == \"generic\"].iloc[:22863]\n",
    "generic2 = complete[complete['attack_cat'] == \"generic\"].iloc[22863:22863*2]\n",
    "generic3 = complete[complete['attack_cat'] == \"generic\"].iloc[22863*2:22863*3]\n",
    "generic4 = complete[complete['attack_cat'] == \"generic\"].iloc[22863*3:22863*4]\n",
    "generic5 = complete[complete['attack_cat'] == \"generic\"].iloc[22863*4:22863*5]\n",
    "generic6 = complete[complete['attack_cat'] == \"generic\"].iloc[22863*5:22863*6]\n",
    "generic7 = complete[complete['attack_cat'] == \"generic\"].iloc[22863*6:]\n",
    "\n",
    "exploits1 = complete[complete['attack_cat'] == \"exploits\"].iloc[:3053]\n",
    "exploits2 = complete[complete['attack_cat'] == \"exploits\"].iloc[3053:3053*2]\n",
    "exploits3 = complete[complete['attack_cat'] == \"exploits\"].iloc[3053*2:3053*3]\n",
    "exploits4 = complete[complete['attack_cat'] == \"exploits\"].iloc[3053*3:3053*4]\n",
    "exploits5 = complete[complete['attack_cat'] == \"exploits\"].iloc[3053*4:3053*5]\n",
    "exploits7 = complete[complete['attack_cat'] == \"exploits\"].iloc[3053*5:3053*6-1]\n",
    "exploits6 = complete[complete['attack_cat'] == \"exploits\"].iloc[3053*6-1:]\n",
    "\n",
    "dos1 = complete[complete['attack_cat'] == \"dos\"].iloc[:416]\n",
    "dos2 = complete[complete['attack_cat'] == \"dos\"].iloc[416:(416*2)]\n",
    "dos3 = complete[complete['attack_cat'] == \"dos\"].iloc[(416*2):(416*3)]\n",
    "dos4 = complete[complete['attack_cat'] == \"dos\"].iloc[(416*3):(416*4)]\n",
    "dos5 = complete[complete['attack_cat'] == \"dos\"].iloc[(416*4):(416*5)]\n",
    "dos6 = complete[complete['attack_cat'] == \"dos\"].iloc[(416*5):(416*6+1)]\n",
    "dos7 = complete[complete['attack_cat'] == \"dos\"].iloc[(416*6+1):]\n",
    "\n",
    "recon1 = complete[complete['attack_cat'] == \"reconnaissance\"].iloc[:1273]\n",
    "recon2 = complete[complete['attack_cat'] == \"reconnaissance\"].iloc[1273:1273*2]\n",
    "recon3 = complete[complete['attack_cat'] == \"reconnaissance\"].iloc[1273*2:1273*3]\n",
    "recon4 = complete[complete['attack_cat'] == \"reconnaissance\"].iloc[1273*3:1273*4]\n",
    "recon5 = complete[complete['attack_cat'] == \"reconnaissance\"].iloc[1273*4:1273*5]\n",
    "recon6 = complete[complete['attack_cat'] == \"reconnaissance\"].iloc[1273*5:1273*6]\n",
    "recon7 = complete[complete['attack_cat'] == \"reconnaissance\"].iloc[1273*6:]"
   ]
  },
  {
   "cell_type": "code",
   "execution_count": 15,
   "metadata": {},
   "outputs": [],
   "source": [
    "\n",
    "part1 = pd.concat([normal1, generic1, exploits1, dos1, recon1])\n",
    "part2 = pd.concat([normal2, generic2, exploits2, dos2, recon2])\n",
    "part3 = pd.concat([normal3, generic3, exploits3, dos3, recon3])\n",
    "part4 = pd.concat([normal4, generic4, exploits4, dos4, recon4])\n",
    "part5 = pd.concat([normal5, generic5, exploits5, dos5, recon5])\n",
    "part6 = pd.concat([normal6, generic6, exploits6, dos6, recon6])\n",
    "part7 = pd.concat([normal7, generic7, exploits7, dos7, recon7])\n",
    "part1.to_csv('C:/Users/UX430/Documents/thesis/datasets/UNSW-NB15/UNSW-NB15-Train-Basic-7A-Part1.csv', index=False)\n",
    "part2.to_csv('C:/Users/UX430/Documents/thesis/datasets/UNSW-NB15/UNSW-NB15-Train-Basic-7A-Part2.csv', index=False)\n",
    "part3.to_csv('C:/Users/UX430/Documents/thesis/datasets/UNSW-NB15/UNSW-NB15-Train-Basic-7A-Part3.csv', index=False)\n",
    "part4.to_csv('C:/Users/UX430/Documents/thesis/datasets/UNSW-NB15/UNSW-NB15-Train-Basic-7A-Part4.csv', index=False)\n",
    "part5.to_csv('C:/Users/UX430/Documents/thesis/datasets/UNSW-NB15/UNSW-NB15-Train-Basic-7A-Part5.csv', index=False)\n",
    "part6.to_csv('C:/Users/UX430/Documents/thesis/datasets/UNSW-NB15/UNSW-NB15-Train-Basic-7A-Part6.csv', index=False)\n",
    "part7.to_csv('C:/Users/UX430/Documents/thesis/datasets/UNSW-NB15/UNSW-NB15-Train-Basic-7A-Part7.csv', index=False)"
   ]
  },
  {
   "cell_type": "code",
   "execution_count": 13,
   "metadata": {},
   "outputs": [
    {
     "data": {
      "text/plain": [
       "normal            217320\n",
       "generic           160041\n",
       "exploits           21369\n",
       "reconnaissance      8912\n",
       "dos                 2914\n",
       "Name: attack_cat, dtype: int64"
      ]
     },
     "execution_count": 13,
     "metadata": {},
     "output_type": "execute_result"
    }
   ],
   "source": [
    "complete['attack_cat'].value_counts() # 416 dos, 1273 recon, 3503 exploits, 22863 generic, 27605 normal"
   ]
  },
  {
   "cell_type": "markdown",
   "metadata": {},
   "source": [
    "### id = 7B : Partition with 7 balanced nodes \n"
   ]
  },
  {
   "cell_type": "code",
   "execution_count": 16,
   "metadata": {},
   "outputs": [],
   "source": [
    "# Create the partitions \n",
    "\n",
    "normal1 = complete[complete['label'] == 0].iloc[:26636]\n",
    "normal2 = complete[complete['label'] == 0].iloc[26636:(26636+24560)]\n",
    "normal3 = complete[complete['label'] == 0].iloc[(26636+24560):(26636+24560+23075)]\n",
    "normal4 = complete[complete['label'] == 0].iloc[(26636+24560+23075):(26636+24560+23075+23074)]\n",
    "normal5 = complete[complete['label'] == 0].iloc[(26636+24560+23075+23074):(26636+24560+23075+23074+46143)]\n",
    "normal6 = complete[complete['label'] == 0].iloc[(26636+24560+23075+23074+46143):(26636+24560+23075+23074+46143+49746)]\n",
    "\n",
    "generic1 = complete[complete['attack_cat'] == \"generic\"].iloc[:26673]\n",
    "generic2 = complete[complete['attack_cat'] == \"generic\"].iloc[26673:26673*2]\n",
    "generic3 = complete[complete['attack_cat'] == \"generic\"].iloc[26673*2:26673*3]\n",
    "generic4 = complete[complete['attack_cat'] == \"generic\"].iloc[26673*3:26673*4+1]\n",
    "generic5 = complete[complete['attack_cat'] == \"generic\"].iloc[26673*4+1:26673*5+2]\n",
    "generic6 = complete[complete['attack_cat'] == \"generic\"].iloc[26673*5+2:26673*6+3]\n",
    "\n",
    "\n",
    "exploits1 = complete[complete['attack_cat'] == \"exploits\"].iloc[:3561]\n",
    "exploits2 = complete[complete['attack_cat'] == \"exploits\"].iloc[3561:3561*2]\n",
    "exploits3 = complete[complete['attack_cat'] == \"exploits\"].iloc[3561*2:3561*3]\n",
    "exploits4 = complete[complete['attack_cat'] == \"exploits\"].iloc[3561*3:3561*4+1]\n",
    "exploits5 = complete[complete['attack_cat'] == \"exploits\"].iloc[3561*4+1:3561*5+2]\n",
    "exploits6 = complete[complete['attack_cat'] == \"exploits\"].iloc[3561*5+2:3561*6+3]\n",
    "\n",
    "\n",
    "dos1 = complete[complete['attack_cat'] == \"dos\"].iloc[:416]\n",
    "dos2 = complete[complete['attack_cat'] == \"dos\"].iloc[416:(416*2)]\n",
    "dos3 = complete[complete['attack_cat'] == \"dos\"].iloc[(416*2):(416*3)]\n",
    "dos4 = complete[complete['attack_cat'] == \"dos\"].iloc[(416*3):(416*4)]\n",
    "dos5 = complete[complete['attack_cat'] == \"dos\"].iloc[(416*4):(416*4+417*2)]\n",
    "dos6 = complete[complete['attack_cat'] == \"dos\"].iloc[(416*4+417*2):]\n",
    "\n",
    "recon1 = complete[complete['attack_cat'] == \"reconnaissance\"].iloc[:1485]\n",
    "recon2 = complete[complete['attack_cat'] == \"reconnaissance\"].iloc[1485:1485*2]\n",
    "recon3 = complete[complete['attack_cat'] == \"reconnaissance\"].iloc[1485*2:1485*3]\n",
    "recon4 = complete[complete['attack_cat'] == \"reconnaissance\"].iloc[1485*3:1485*4]\n",
    "recon5 = complete[complete['attack_cat'] == \"reconnaissance\"].iloc[1485*4:1485*5+1]\n",
    "recon6 = complete[complete['attack_cat'] == \"reconnaissance\"].iloc[1485*5+1:1485*6+2]\n"
   ]
  },
  {
   "cell_type": "code",
   "execution_count": 17,
   "metadata": {},
   "outputs": [],
   "source": [
    "part1 = pd.concat([normal1, generic1,  dos1, recon1])\n",
    "part2 = pd.concat([normal2, generic2, exploits1, dos2])\n",
    "part3 = pd.concat([normal3, generic3, exploits2, dos3, recon2])\n",
    "part4 = pd.concat([normal4, generic4, exploits3, dos4, recon3])\n",
    "part5 = pd.concat([ generic5, exploits4, dos5, recon4])\n",
    "part6 = pd.concat([normal5, generic6, exploits5, recon5])\n",
    "part7 = pd.concat([normal6, dos6, exploits6, recon6])\n",
    "\n",
    "part1.to_csv('C:/Users/UX430/Documents/thesis/datasets/UNSW-NB15/UNSW-NB15-Train-Basic-7B-Part1.csv', index=False)\n",
    "part2.to_csv('C:/Users/UX430/Documents/thesis/datasets/UNSW-NB15/UNSW-NB15-Train-Basic-7B-Part2.csv', index=False)\n",
    "part3.to_csv('C:/Users/UX430/Documents/thesis/datasets/UNSW-NB15/UNSW-NB15-Train-Basic-7B-Part3.csv', index=False)\n",
    "part4.to_csv('C:/Users/UX430/Documents/thesis/datasets/UNSW-NB15/UNSW-NB15-Train-Basic-7B-Part4.csv', index=False)\n",
    "part5.to_csv('C:/Users/UX430/Documents/thesis/datasets/UNSW-NB15/UNSW-NB15-Train-Basic-7B-Part5.csv', index=False)\n",
    "part6.to_csv('C:/Users/UX430/Documents/thesis/datasets/UNSW-NB15/UNSW-NB15-Train-Basic-7B-Part6.csv', index=False)\n",
    "part7.to_csv('C:/Users/UX430/Documents/thesis/datasets/UNSW-NB15/UNSW-NB15-Train-Basic-7B-Part7.csv', index=False)"
   ]
  },
  {
   "cell_type": "markdown",
   "metadata": {},
   "source": [
    "### id = 7C : Partition with 7 unbalanced nodes \n",
    "\n",
    "\n",
    "\n"
   ]
  },
  {
   "cell_type": "code",
   "execution_count": 19,
   "metadata": {},
   "outputs": [],
   "source": [
    "# Create the partitions \n",
    "\n",
    "normal1 = complete[complete['label'] == 0].iloc[:10000]\n",
    "normal2 = complete[complete['label'] == 0].iloc[10000:(10000+50000)]\n",
    "normal3 = complete[complete['label'] == 0].iloc[(10000+50000):(10000+50000+20000)]\n",
    "normal4 = complete[complete['label'] == 0].iloc[(10000+50000+20000):(10000+50000+20000+75000)]\n",
    "normal5 = complete[complete['label'] == 0].iloc[(10000+50000+20000+75000):(10000+50000+20000+75000+28236)]\n",
    "normal6 = complete[complete['label'] == 0].iloc[(10000+50000+20000+75000+28236):(10000+50000+20000+75000+28236+10000)]\n",
    "\n",
    "generic1 = complete[complete['attack_cat'] == \"generic\"].iloc[:26673]\n",
    "generic2 = complete[complete['attack_cat'] == \"generic\"].iloc[26673:26673*2]\n",
    "generic3 = complete[complete['attack_cat'] == \"generic\"].iloc[26673*2:26673*3]\n",
    "generic4 = complete[complete['attack_cat'] == \"generic\"].iloc[26673*3:26673*4+1]\n",
    "generic5 = complete[complete['attack_cat'] == \"generic\"].iloc[26673*4+1:26673*5+2]\n",
    "generic6 = complete[complete['attack_cat'] == \"generic\"].iloc[26673*5+2:26673*6+3]\n",
    "\n",
    "\n",
    "exploits1 = complete[complete['attack_cat'] == \"exploits\"].iloc[:3561]\n",
    "exploits2 = complete[complete['attack_cat'] == \"exploits\"].iloc[3561:3561*2]\n",
    "exploits3 = complete[complete['attack_cat'] == \"exploits\"].iloc[3561*2:3561*3]\n",
    "exploits4 = complete[complete['attack_cat'] == \"exploits\"].iloc[3561*3:3561*4+1]\n",
    "exploits5 = complete[complete['attack_cat'] == \"exploits\"].iloc[3561*4+1:3561*5+2]\n",
    "exploits6 = complete[complete['attack_cat'] == \"exploits\"].iloc[3561*5+2:3561*6+3]\n",
    "\n",
    "\n",
    "dos1 = complete[complete['attack_cat'] == \"dos\"].iloc[:416]\n",
    "dos2 = complete[complete['attack_cat'] == \"dos\"].iloc[416:(416*2)]\n",
    "dos3 = complete[complete['attack_cat'] == \"dos\"].iloc[(416*2):(416*3)]\n",
    "dos4 = complete[complete['attack_cat'] == \"dos\"].iloc[(416*3):(416*4)]\n",
    "dos5 = complete[complete['attack_cat'] == \"dos\"].iloc[(416*4):(416*4+417*2)]\n",
    "dos6 = complete[complete['attack_cat'] == \"dos\"].iloc[(416*4+417*2):]\n",
    "\n",
    "recon1 = complete[complete['attack_cat'] == \"reconnaissance\"].iloc[:1485]\n",
    "recon2 = complete[complete['attack_cat'] == \"reconnaissance\"].iloc[1485:1485*2]\n",
    "recon3 = complete[complete['attack_cat'] == \"reconnaissance\"].iloc[1485*2:1485*3]\n",
    "recon4 = complete[complete['attack_cat'] == \"reconnaissance\"].iloc[1485*3:1485*4]\n",
    "recon5 = complete[complete['attack_cat'] == \"reconnaissance\"].iloc[1485*4:1485*5+1]\n",
    "recon6 = complete[complete['attack_cat'] == \"reconnaissance\"].iloc[1485*5+1:1485*6+2]\n"
   ]
  },
  {
   "cell_type": "code",
   "execution_count": 20,
   "metadata": {},
   "outputs": [],
   "source": [
    "part1 = pd.concat([normal1, generic1,  dos1, recon1])\n",
    "part2 = pd.concat([normal2, generic2, exploits1, dos2])\n",
    "part3 = pd.concat([normal3, generic3, exploits2, dos3, recon2])\n",
    "part4 = pd.concat([ generic4, exploits3, dos4, recon3])\n",
    "part5 = pd.concat([normal4, generic5, exploits4, dos5, recon4])\n",
    "part6 = pd.concat([normal5, generic6, exploits5, recon5])\n",
    "part7 = pd.concat([normal6, dos6, exploits6, recon6])\n",
    "\n",
    "part1.to_csv('C:/Users/UX430/Documents/thesis/datasets/UNSW-NB15/UNSW-NB15-Train-Basic-7C-Part1.csv', index=False)\n",
    "part2.to_csv('C:/Users/UX430/Documents/thesis/datasets/UNSW-NB15/UNSW-NB15-Train-Basic-7C-Part2.csv', index=False)\n",
    "part3.to_csv('C:/Users/UX430/Documents/thesis/datasets/UNSW-NB15/UNSW-NB15-Train-Basic-7C-Part3.csv', index=False)\n",
    "part4.to_csv('C:/Users/UX430/Documents/thesis/datasets/UNSW-NB15/UNSW-NB15-Train-Basic-7C-Part4.csv', index=False)\n",
    "part5.to_csv('C:/Users/UX430/Documents/thesis/datasets/UNSW-NB15/UNSW-NB15-Train-Basic-7C-Part5.csv', index=False)\n",
    "part6.to_csv('C:/Users/UX430/Documents/thesis/datasets/UNSW-NB15/UNSW-NB15-Train-Basic-7C-Part6.csv', index=False)\n",
    "part7.to_csv('C:/Users/UX430/Documents/thesis/datasets/UNSW-NB15/UNSW-NB15-Train-Basic-7C-Part7.csv', index=False)"
   ]
  },
  {
   "cell_type": "markdown",
   "metadata": {},
   "source": [
    "### Classification datasets "
   ]
  },
  {
   "cell_type": "markdown",
   "metadata": {},
   "source": [
    "#### Cat7A"
   ]
  },
  {
   "cell_type": "code",
   "execution_count": 21,
   "metadata": {},
   "outputs": [],
   "source": [
    "\n",
    "\n",
    "generic1 = complete[complete['attack_cat'] == \"generic\"].iloc[:22863]\n",
    "generic2 = complete[complete['attack_cat'] == \"generic\"].iloc[22863:22863*2]\n",
    "generic3 = complete[complete['attack_cat'] == \"generic\"].iloc[22863*2:22863*3]\n",
    "generic4 = complete[complete['attack_cat'] == \"generic\"].iloc[22863*3:22863*4]\n",
    "generic5 = complete[complete['attack_cat'] == \"generic\"].iloc[22863*4:22863*5]\n",
    "generic6 = complete[complete['attack_cat'] == \"generic\"].iloc[22863*5:22863*6]\n",
    "generic7 = complete[complete['attack_cat'] == \"generic\"].iloc[22863*6:]\n",
    "\n",
    "exploits1 = complete[complete['attack_cat'] == \"exploits\"].iloc[:3053]\n",
    "exploits2 = complete[complete['attack_cat'] == \"exploits\"].iloc[3053:3053*2]\n",
    "exploits3 = complete[complete['attack_cat'] == \"exploits\"].iloc[3053*2:3053*3]\n",
    "exploits4 = complete[complete['attack_cat'] == \"exploits\"].iloc[3053*3:3053*4]\n",
    "exploits5 = complete[complete['attack_cat'] == \"exploits\"].iloc[3053*4:3053*5]\n",
    "exploits7 = complete[complete['attack_cat'] == \"exploits\"].iloc[3053*5:3053*6-1]\n",
    "exploits6 = complete[complete['attack_cat'] == \"exploits\"].iloc[3053*6-1:]\n",
    "\n",
    "dos1 = complete[complete['attack_cat'] == \"dos\"].iloc[:416]\n",
    "dos2 = complete[complete['attack_cat'] == \"dos\"].iloc[416:(416*2)]\n",
    "dos3 = complete[complete['attack_cat'] == \"dos\"].iloc[(416*2):(416*3)]\n",
    "dos4 = complete[complete['attack_cat'] == \"dos\"].iloc[(416*3):(416*4)]\n",
    "dos5 = complete[complete['attack_cat'] == \"dos\"].iloc[(416*4):(416*5)]\n",
    "dos6 = complete[complete['attack_cat'] == \"dos\"].iloc[(416*5):(416*6+1)]\n",
    "dos7 = complete[complete['attack_cat'] == \"dos\"].iloc[(416*6+1):]\n",
    "\n",
    "recon1 = complete[complete['attack_cat'] == \"reconnaissance\"].iloc[:1273]\n",
    "recon2 = complete[complete['attack_cat'] == \"reconnaissance\"].iloc[1273:1273*2]\n",
    "recon3 = complete[complete['attack_cat'] == \"reconnaissance\"].iloc[1273*2:1273*3]\n",
    "recon4 = complete[complete['attack_cat'] == \"reconnaissance\"].iloc[1273*3:1273*4]\n",
    "recon5 = complete[complete['attack_cat'] == \"reconnaissance\"].iloc[1273*4:1273*5]\n",
    "recon6 = complete[complete['attack_cat'] == \"reconnaissance\"].iloc[1273*5:1273*6]\n",
    "recon7 = complete[complete['attack_cat'] == \"reconnaissance\"].iloc[1273*6:]"
   ]
  },
  {
   "cell_type": "code",
   "execution_count": 22,
   "metadata": {},
   "outputs": [],
   "source": [
    "\n",
    "part1 = pd.concat([ generic1, exploits1, dos1, recon1])\n",
    "part2 = pd.concat([generic2, exploits2, dos2, recon2])\n",
    "part3 = pd.concat([ generic3, exploits3, dos3, recon3])\n",
    "part4 = pd.concat([ generic4, exploits4, dos4, recon4])\n",
    "part5 = pd.concat([ generic5, exploits5, dos5, recon5])\n",
    "part6 = pd.concat([ generic6, exploits6, dos6, recon6])\n",
    "part7 = pd.concat([ generic7, exploits7, dos7, recon7])\n",
    "part1.to_csv('C:/Users/UX430/Documents/thesis/datasets/UNSW-NB15/UNSW-NB15-Train-Basic-Cat7A-Part1.csv', index=False)\n",
    "part2.to_csv('C:/Users/UX430/Documents/thesis/datasets/UNSW-NB15/UNSW-NB15-Train-Basic-Cat7A-Part2.csv', index=False)\n",
    "part3.to_csv('C:/Users/UX430/Documents/thesis/datasets/UNSW-NB15/UNSW-NB15-Train-Basic-Cat7A-Part3.csv', index=False)\n",
    "part4.to_csv('C:/Users/UX430/Documents/thesis/datasets/UNSW-NB15/UNSW-NB15-Train-Basic-Cat7A-Part4.csv', index=False)\n",
    "part5.to_csv('C:/Users/UX430/Documents/thesis/datasets/UNSW-NB15/UNSW-NB15-Train-Basic-Cat7A-Part5.csv', index=False)\n",
    "part6.to_csv('C:/Users/UX430/Documents/thesis/datasets/UNSW-NB15/UNSW-NB15-Train-Basic-Cat7A-Part6.csv', index=False)\n",
    "part7.to_csv('C:/Users/UX430/Documents/thesis/datasets/UNSW-NB15/UNSW-NB15-Train-Basic-Cat7A-Part7.csv', index=False)"
   ]
  },
  {
   "cell_type": "markdown",
   "metadata": {},
   "source": [
    "#### Cat7B"
   ]
  },
  {
   "cell_type": "code",
   "execution_count": 23,
   "metadata": {},
   "outputs": [],
   "source": [
    "\n",
    "\n",
    "generic1 = complete[complete['attack_cat'] == \"generic\"].iloc[:416]\n",
    "generic2 = complete[complete['attack_cat'] == \"generic\"].iloc[416:(416*2)]\n",
    "generic3 = complete[complete['attack_cat'] == \"generic\"].iloc[(416*2):(416*3)]\n",
    "generic4 = complete[complete['attack_cat'] == \"generic\"].iloc[(416*3):(416*4)]\n",
    "generic5 = complete[complete['attack_cat'] == \"generic\"].iloc[(416*4):(416*5)]\n",
    "generic6 = complete[complete['attack_cat'] == \"generic\"].iloc[(416*5):(416*6)]\n",
    "generic7 = complete[complete['attack_cat'] == \"generic\"].iloc[(416*6):416*7]\n",
    "\n",
    "exploits1 = complete[complete['attack_cat'] == \"exploits\"].iloc[:416]\n",
    "exploits2 = complete[complete['attack_cat'] == \"exploits\"].iloc[416:(416*2)]\n",
    "exploits3 = complete[complete['attack_cat'] == \"exploits\"].iloc[(416*2):(416*3)]\n",
    "exploits4 = complete[complete['attack_cat'] == \"exploits\"].iloc[(416*3):(416*4)]\n",
    "exploits5 = complete[complete['attack_cat'] == \"exploits\"].iloc[(416*4):(416*5)]\n",
    "exploits7 = complete[complete['attack_cat'] == \"exploits\"].iloc[(416*5):(416*6)]\n",
    "exploits6 = complete[complete['attack_cat'] == \"exploits\"].iloc[(416*6):416*7]\n",
    "\n",
    "dos1 = complete[complete['attack_cat'] == \"dos\"].iloc[:416]\n",
    "dos2 = complete[complete['attack_cat'] == \"dos\"].iloc[416:(416*2)]\n",
    "dos3 = complete[complete['attack_cat'] == \"dos\"].iloc[(416*2):(416*3)]\n",
    "dos4 = complete[complete['attack_cat'] == \"dos\"].iloc[(416*3):(416*4)]\n",
    "dos5 = complete[complete['attack_cat'] == \"dos\"].iloc[(416*4):(416*5)]\n",
    "dos6 = complete[complete['attack_cat'] == \"dos\"].iloc[(416*5):(416*6)]\n",
    "dos7 = complete[complete['attack_cat'] == \"dos\"].iloc[(416*6):416*7]\n",
    "\n",
    "recon1 = complete[complete['attack_cat'] == \"reconnaissance\"].iloc[:416]\n",
    "recon2 = complete[complete['attack_cat'] == \"reconnaissance\"].iloc[416:(416*2)]\n",
    "recon3 = complete[complete['attack_cat'] == \"reconnaissance\"].iloc[(416*2):(416*3)]\n",
    "recon4 = complete[complete['attack_cat'] == \"reconnaissance\"].iloc[(416*3):(416*4)]\n",
    "recon5 = complete[complete['attack_cat'] == \"reconnaissance\"].iloc[(416*4):(416*5)]\n",
    "recon6 = complete[complete['attack_cat'] == \"reconnaissance\"].iloc[(416*5):(416*6)]\n",
    "recon7 = complete[complete['attack_cat'] == \"reconnaissance\"].iloc[(416*6):416*7]"
   ]
  },
  {
   "cell_type": "code",
   "execution_count": 24,
   "metadata": {},
   "outputs": [],
   "source": [
    "\n",
    "part1 = pd.concat([ generic1, exploits1, dos1, recon1])\n",
    "part2 = pd.concat([generic2, exploits2, dos2, recon2])\n",
    "part3 = pd.concat([ generic3, exploits3, dos3, recon3])\n",
    "part4 = pd.concat([ generic4, exploits4, dos4, recon4])\n",
    "part5 = pd.concat([ generic5, exploits5, dos5, recon5])\n",
    "part6 = pd.concat([ generic6, exploits6, dos6, recon6])\n",
    "part7 = pd.concat([ generic7, exploits7, dos7, recon7])\n",
    "part1.to_csv('C:/Users/UX430/Documents/thesis/datasets/UNSW-NB15/UNSW-NB15-Train-Basic-Cat7B-Part1.csv', index=False)\n",
    "part2.to_csv('C:/Users/UX430/Documents/thesis/datasets/UNSW-NB15/UNSW-NB15-Train-Basic-Cat7B-Part2.csv', index=False)\n",
    "part3.to_csv('C:/Users/UX430/Documents/thesis/datasets/UNSW-NB15/UNSW-NB15-Train-Basic-Cat7B-Part3.csv', index=False)\n",
    "part4.to_csv('C:/Users/UX430/Documents/thesis/datasets/UNSW-NB15/UNSW-NB15-Train-Basic-Cat7B-Part4.csv', index=False)\n",
    "part5.to_csv('C:/Users/UX430/Documents/thesis/datasets/UNSW-NB15/UNSW-NB15-Train-Basic-Cat7B-Part5.csv', index=False)\n",
    "part6.to_csv('C:/Users/UX430/Documents/thesis/datasets/UNSW-NB15/UNSW-NB15-Train-Basic-Cat7B-Part6.csv', index=False)\n",
    "part7.to_csv('C:/Users/UX430/Documents/thesis/datasets/UNSW-NB15/UNSW-NB15-Train-Basic-Cat7B-Part7.csv', index=False)"
   ]
  },
  {
   "cell_type": "markdown",
   "metadata": {},
   "source": [
    "#### Cat7C"
   ]
  },
  {
   "cell_type": "code",
   "execution_count": 25,
   "metadata": {},
   "outputs": [],
   "source": [
    "\n",
    "\n",
    "generic1 = complete[complete['attack_cat'] == \"generic\"].iloc[:729]\n",
    "generic2 = complete[complete['attack_cat'] == \"generic\"].iloc[729:(729*2)]\n",
    "generic3 = complete[complete['attack_cat'] == \"generic\"].iloc[(729*2):(729*2+3727)]\n",
    "generic4 = complete[complete['attack_cat'] == \"generic\"].iloc[(729*2+3727):(729*2+3727+3728)]\n",
    "generic5 = complete[complete['attack_cat'] == \"generic\"].iloc[(729*2+3727+3728):(729*2+3727+3728+15457)]\n",
    "\n",
    "\n",
    "exploits1 = complete[complete['attack_cat'] == \"exploits\"].iloc[:728]\n",
    "exploits2 = complete[complete['attack_cat'] == \"exploits\"].iloc[728:(728*2)]\n",
    "exploits3 = complete[complete['attack_cat'] == \"exploits\"].iloc[(728*2):(728*3+1)]\n",
    "exploits4 = complete[complete['attack_cat'] == \"exploits\"].iloc[(728*3+1):(728*3+1+3727)]\n",
    "exploits5 = complete[complete['attack_cat'] == \"exploits\"].iloc[(728*3+1+3727):(728*3+1+3727+15457)]\n",
    "\n",
    "\n",
    "dos1 = complete[complete['attack_cat'] == \"dos\"].iloc[:728]\n",
    "dos2 = complete[complete['attack_cat'] == \"dos\"].iloc[728:(728*2)]\n",
    "dos3 = complete[complete['attack_cat'] == \"dos\"].iloc[(728*2):(728*3+1)]\n",
    "dos4 = complete[complete['attack_cat'] == \"dos\"].iloc[(728*3+1):(728*4+2)]\n",
    "\n",
    "\n",
    "recon1 = complete[complete['attack_cat'] == \"reconnaissance\"].iloc[:728]\n",
    "recon2 = complete[complete['attack_cat'] == \"reconnaissance\"].iloc[728:(728*2+1)]\n",
    "recon3 = complete[complete['attack_cat'] == \"reconnaissance\"].iloc[(728*2+1):(728*2+1+3727)]\n",
    "recon4 = complete[complete['attack_cat'] == \"reconnaissance\"].iloc[(728*2+1+3727):(728*2+1+3727+3728)]\n"
   ]
  },
  {
   "cell_type": "code",
   "execution_count": 26,
   "metadata": {},
   "outputs": [],
   "source": [
    "\n",
    "part1 = pd.concat([ exploits1, dos1])\n",
    "part2 = pd.concat([ exploits2, dos2, recon1])\n",
    "part3 = pd.concat([ generic1, exploits3, dos3])\n",
    "part4 = pd.concat([ generic2, dos4, recon2])\n",
    "part5 = pd.concat([ generic3, exploits4,  recon3])\n",
    "part6 = pd.concat([ generic4, recon4])\n",
    "part7 = pd.concat([ generic5, exploits5])\n",
    "part1.to_csv('C:/Users/UX430/Documents/thesis/datasets/UNSW-NB15/UNSW-NB15-Train-Basic-Cat7C-Part1.csv', index=False)\n",
    "part2.to_csv('C:/Users/UX430/Documents/thesis/datasets/UNSW-NB15/UNSW-NB15-Train-Basic-Cat7C-Part2.csv', index=False)\n",
    "part3.to_csv('C:/Users/UX430/Documents/thesis/datasets/UNSW-NB15/UNSW-NB15-Train-Basic-Cat7C-Part3.csv', index=False)\n",
    "part4.to_csv('C:/Users/UX430/Documents/thesis/datasets/UNSW-NB15/UNSW-NB15-Train-Basic-Cat7C-Part4.csv', index=False)\n",
    "part5.to_csv('C:/Users/UX430/Documents/thesis/datasets/UNSW-NB15/UNSW-NB15-Train-Basic-Cat7C-Part5.csv', index=False)\n",
    "part6.to_csv('C:/Users/UX430/Documents/thesis/datasets/UNSW-NB15/UNSW-NB15-Train-Basic-Cat7C-Part6.csv', index=False)\n",
    "part7.to_csv('C:/Users/UX430/Documents/thesis/datasets/UNSW-NB15/UNSW-NB15-Train-Basic-Cat7C-Part7.csv', index=False)"
   ]
  }
 ],
 "metadata": {
  "kernelspec": {
   "display_name": "base",
   "language": "python",
   "name": "python3"
  },
  "language_info": {
   "codemirror_mode": {
    "name": "ipython",
    "version": 3
   },
   "file_extension": ".py",
   "mimetype": "text/x-python",
   "name": "python",
   "nbconvert_exporter": "python",
   "pygments_lexer": "ipython3",
   "version": "3.8.12"
  }
 },
 "nbformat": 4,
 "nbformat_minor": 2
}
