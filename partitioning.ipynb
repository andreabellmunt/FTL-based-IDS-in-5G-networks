{
 "cells": [
  {
   "cell_type": "markdown",
   "metadata": {},
   "source": [
    "## Partitioning UNSW-NB15-Train-Basic\n",
    "\n",
    "The partitions made can be balanced/ unbalanced, with 3 and 5 nodes, and considering attacks in multiple places or just one node. "
   ]
  },
  {
   "cell_type": "markdown",
   "metadata": {},
   "source": [
    "### Partitions with 3 balanced nodes \n",
    "\n",
    "Generic (3 nodes), Exploits (2 nodes), DoS and Reconnaissance (1 node).\n",
    "\n",
    "\n",
    "- UNSW-NB15-Train-Basic-Part1 (145200): \n",
    "    - Normal: 72600 (50.0%)\n",
    "    - Generic: 47369 (32.6%)\n",
    "    - Exploits: 14728 (10.2%)\n",
    "    - DoS: 0 (0.0%)\n",
    "    - Reconnaissance: 10503 (7.2%)\n",
    "\n",
    "- UNSW-NB15-Train-Basic-Part2 (145119): \n",
    "    - Normal: 72600 (50.0%)\n",
    "    - Generic: 60213 (41.5%)\n",
    "    - Exploits: 0 (0.0%)\n",
    "    - DoS: 12306 (8.5%)\n",
    "    - Reconnaissance: 0 (0.0%)\n",
    "\n",
    "- UNSW-NB15-Train-Basic-Part3 (145200): \n",
    "    - Normal: 72600 (50.0%)\n",
    "    - Generic: 53792 (37.0%)\n",
    "    - Exploits: 18808 (13.0%)\n",
    "    - DoS: 0 (0.0%)\n",
    "    - Reconnaissance: 0 (0.0%)"
   ]
  },
  {
   "cell_type": "code",
   "execution_count": 1,
   "metadata": {},
   "outputs": [],
   "source": [
    "import numpy as np  # for array\n",
    "import pandas as pd  # for csv files and dataframe\n",
    "import matplotlib.pyplot as plt  # for plotting\n",
    "import seaborn as sns  # plotting\n",
    "from scipy import stats\n",
    "\n",
    "import pickle  # To load data int disk\n",
    "\n",
    "import warnings\n",
    "warnings.filterwarnings(\"ignore\")\n",
    "\n",
    "from sklearn.preprocessing import StandardScaler\n",
    "from sklearn.preprocessing import LabelEncoder, OneHotEncoder\n",
    "\n",
    "from sklearn.model_selection import train_test_split\n",
    "\n",
    "from sklearn.metrics import accuracy_score, confusion_matrix, make_scorer\n",
    "from sklearn.metrics import auc, f1_score, roc_curve\n",
    "from sklearn.model_selection import GridSearchCV, RandomizedSearchCV\n",
    "from sklearn.model_selection import cross_validate, cross_val_predict"
   ]
  },
  {
   "cell_type": "code",
   "execution_count": 3,
   "metadata": {},
   "outputs": [],
   "source": [
    "# Get UNSW-NB15-Train-Basic dataset \n",
    "complete = pd.read_csv('C:/Users/UX430/Documents/thesis/datasets/UNSW-NB15/UNSW-NB15-Train-Basic.csv')"
   ]
  },
  {
   "cell_type": "code",
   "execution_count": 4,
   "metadata": {},
   "outputs": [
    {
     "data": {
      "text/html": [
       "<div>\n",
       "<style scoped>\n",
       "    .dataframe tbody tr th:only-of-type {\n",
       "        vertical-align: middle;\n",
       "    }\n",
       "\n",
       "    .dataframe tbody tr th {\n",
       "        vertical-align: top;\n",
       "    }\n",
       "\n",
       "    .dataframe thead th {\n",
       "        text-align: right;\n",
       "    }\n",
       "</style>\n",
       "<table border=\"1\" class=\"dataframe\">\n",
       "  <thead>\n",
       "    <tr style=\"text-align: right;\">\n",
       "      <th></th>\n",
       "      <th>proto</th>\n",
       "      <th>srcip</th>\n",
       "      <th>sport</th>\n",
       "      <th>dstip</th>\n",
       "      <th>dsport</th>\n",
       "      <th>spkts</th>\n",
       "      <th>dpkts</th>\n",
       "      <th>sbytes</th>\n",
       "      <th>dbytes</th>\n",
       "      <th>state</th>\n",
       "      <th>stime</th>\n",
       "      <th>ltime</th>\n",
       "      <th>dur</th>\n",
       "      <th>label</th>\n",
       "      <th>attack_cat</th>\n",
       "    </tr>\n",
       "  </thead>\n",
       "  <tbody>\n",
       "    <tr>\n",
       "      <th>0</th>\n",
       "      <td>udp</td>\n",
       "      <td>59.166.0.7</td>\n",
       "      <td>45584</td>\n",
       "      <td>149.171.126.0</td>\n",
       "      <td>53</td>\n",
       "      <td>2</td>\n",
       "      <td>2</td>\n",
       "      <td>130</td>\n",
       "      <td>162</td>\n",
       "      <td>CON</td>\n",
       "      <td>1424257612</td>\n",
       "      <td>1424257612</td>\n",
       "      <td>0.003362</td>\n",
       "      <td>0</td>\n",
       "      <td>normal</td>\n",
       "    </tr>\n",
       "    <tr>\n",
       "      <th>1</th>\n",
       "      <td>tcp</td>\n",
       "      <td>59.166.0.2</td>\n",
       "      <td>18633</td>\n",
       "      <td>149.171.126.3</td>\n",
       "      <td>8908</td>\n",
       "      <td>38</td>\n",
       "      <td>40</td>\n",
       "      <td>2438</td>\n",
       "      <td>19440</td>\n",
       "      <td>FIN</td>\n",
       "      <td>1424258064</td>\n",
       "      <td>1424258064</td>\n",
       "      <td>0.013975</td>\n",
       "      <td>0</td>\n",
       "      <td>normal</td>\n",
       "    </tr>\n",
       "    <tr>\n",
       "      <th>2</th>\n",
       "      <td>tcp</td>\n",
       "      <td>59.166.0.7</td>\n",
       "      <td>48428</td>\n",
       "      <td>149.171.126.4</td>\n",
       "      <td>143</td>\n",
       "      <td>122</td>\n",
       "      <td>126</td>\n",
       "      <td>7824</td>\n",
       "      <td>14814</td>\n",
       "      <td>FIN</td>\n",
       "      <td>1421951117</td>\n",
       "      <td>1421951118</td>\n",
       "      <td>0.757193</td>\n",
       "      <td>0</td>\n",
       "      <td>normal</td>\n",
       "    </tr>\n",
       "    <tr>\n",
       "      <th>3</th>\n",
       "      <td>unas</td>\n",
       "      <td>175.45.176.1</td>\n",
       "      <td>0</td>\n",
       "      <td>149.171.126.17</td>\n",
       "      <td>0</td>\n",
       "      <td>2</td>\n",
       "      <td>0</td>\n",
       "      <td>200</td>\n",
       "      <td>0</td>\n",
       "      <td>INT</td>\n",
       "      <td>1424244417</td>\n",
       "      <td>1424244417</td>\n",
       "      <td>0.000004</td>\n",
       "      <td>1</td>\n",
       "      <td>dos</td>\n",
       "    </tr>\n",
       "    <tr>\n",
       "      <th>4</th>\n",
       "      <td>tcp</td>\n",
       "      <td>175.45.176.1</td>\n",
       "      <td>65485</td>\n",
       "      <td>149.171.126.17</td>\n",
       "      <td>179</td>\n",
       "      <td>10</td>\n",
       "      <td>6</td>\n",
       "      <td>876</td>\n",
       "      <td>268</td>\n",
       "      <td>FIN</td>\n",
       "      <td>1421928270</td>\n",
       "      <td>1421928271</td>\n",
       "      <td>0.436004</td>\n",
       "      <td>0</td>\n",
       "      <td>normal</td>\n",
       "    </tr>\n",
       "    <tr>\n",
       "      <th>...</th>\n",
       "      <td>...</td>\n",
       "      <td>...</td>\n",
       "      <td>...</td>\n",
       "      <td>...</td>\n",
       "      <td>...</td>\n",
       "      <td>...</td>\n",
       "      <td>...</td>\n",
       "      <td>...</td>\n",
       "      <td>...</td>\n",
       "      <td>...</td>\n",
       "      <td>...</td>\n",
       "      <td>...</td>\n",
       "      <td>...</td>\n",
       "      <td>...</td>\n",
       "      <td>...</td>\n",
       "    </tr>\n",
       "    <tr>\n",
       "      <th>435514</th>\n",
       "      <td>udp</td>\n",
       "      <td>175.45.176.2</td>\n",
       "      <td>31072</td>\n",
       "      <td>149.171.126.19</td>\n",
       "      <td>500</td>\n",
       "      <td>2</td>\n",
       "      <td>0</td>\n",
       "      <td>136</td>\n",
       "      <td>0</td>\n",
       "      <td>INT</td>\n",
       "      <td>1424223755</td>\n",
       "      <td>1424223755</td>\n",
       "      <td>0.000001</td>\n",
       "      <td>1</td>\n",
       "      <td>dos</td>\n",
       "    </tr>\n",
       "    <tr>\n",
       "      <th>435515</th>\n",
       "      <td>tcp</td>\n",
       "      <td>59.166.0.5</td>\n",
       "      <td>2758</td>\n",
       "      <td>149.171.126.8</td>\n",
       "      <td>51824</td>\n",
       "      <td>44</td>\n",
       "      <td>46</td>\n",
       "      <td>2766</td>\n",
       "      <td>28558</td>\n",
       "      <td>FIN</td>\n",
       "      <td>1424261274</td>\n",
       "      <td>1424261274</td>\n",
       "      <td>0.014994</td>\n",
       "      <td>0</td>\n",
       "      <td>normal</td>\n",
       "    </tr>\n",
       "    <tr>\n",
       "      <th>435516</th>\n",
       "      <td>udp</td>\n",
       "      <td>175.45.176.0</td>\n",
       "      <td>47439</td>\n",
       "      <td>149.171.126.10</td>\n",
       "      <td>53</td>\n",
       "      <td>2</td>\n",
       "      <td>0</td>\n",
       "      <td>114</td>\n",
       "      <td>0</td>\n",
       "      <td>INT</td>\n",
       "      <td>1424259155</td>\n",
       "      <td>1424259155</td>\n",
       "      <td>0.000002</td>\n",
       "      <td>1</td>\n",
       "      <td>generic</td>\n",
       "    </tr>\n",
       "    <tr>\n",
       "      <th>435517</th>\n",
       "      <td>udp</td>\n",
       "      <td>175.45.176.1</td>\n",
       "      <td>47439</td>\n",
       "      <td>149.171.126.18</td>\n",
       "      <td>53</td>\n",
       "      <td>2</td>\n",
       "      <td>0</td>\n",
       "      <td>114</td>\n",
       "      <td>0</td>\n",
       "      <td>INT</td>\n",
       "      <td>1424238658</td>\n",
       "      <td>1424238658</td>\n",
       "      <td>0.000002</td>\n",
       "      <td>1</td>\n",
       "      <td>generic</td>\n",
       "    </tr>\n",
       "    <tr>\n",
       "      <th>435518</th>\n",
       "      <td>tcp</td>\n",
       "      <td>59.166.0.9</td>\n",
       "      <td>21223</td>\n",
       "      <td>149.171.126.7</td>\n",
       "      <td>5190</td>\n",
       "      <td>12</td>\n",
       "      <td>12</td>\n",
       "      <td>1064</td>\n",
       "      <td>2260</td>\n",
       "      <td>FIN</td>\n",
       "      <td>1424231610</td>\n",
       "      <td>1424231610</td>\n",
       "      <td>0.004064</td>\n",
       "      <td>0</td>\n",
       "      <td>normal</td>\n",
       "    </tr>\n",
       "  </tbody>\n",
       "</table>\n",
       "<p>435519 rows × 15 columns</p>\n",
       "</div>"
      ],
      "text/plain": [
       "       proto         srcip  sport           dstip dsport  spkts  dpkts  \\\n",
       "0        udp    59.166.0.7  45584   149.171.126.0     53      2      2   \n",
       "1        tcp    59.166.0.2  18633   149.171.126.3   8908     38     40   \n",
       "2        tcp    59.166.0.7  48428   149.171.126.4    143    122    126   \n",
       "3       unas  175.45.176.1      0  149.171.126.17      0      2      0   \n",
       "4        tcp  175.45.176.1  65485  149.171.126.17    179     10      6   \n",
       "...      ...           ...    ...             ...    ...    ...    ...   \n",
       "435514   udp  175.45.176.2  31072  149.171.126.19    500      2      0   \n",
       "435515   tcp    59.166.0.5   2758   149.171.126.8  51824     44     46   \n",
       "435516   udp  175.45.176.0  47439  149.171.126.10     53      2      0   \n",
       "435517   udp  175.45.176.1  47439  149.171.126.18     53      2      0   \n",
       "435518   tcp    59.166.0.9  21223   149.171.126.7   5190     12     12   \n",
       "\n",
       "        sbytes  dbytes state       stime       ltime       dur  label  \\\n",
       "0          130     162   CON  1424257612  1424257612  0.003362      0   \n",
       "1         2438   19440   FIN  1424258064  1424258064  0.013975      0   \n",
       "2         7824   14814   FIN  1421951117  1421951118  0.757193      0   \n",
       "3          200       0   INT  1424244417  1424244417  0.000004      1   \n",
       "4          876     268   FIN  1421928270  1421928271  0.436004      0   \n",
       "...        ...     ...   ...         ...         ...       ...    ...   \n",
       "435514     136       0   INT  1424223755  1424223755  0.000001      1   \n",
       "435515    2766   28558   FIN  1424261274  1424261274  0.014994      0   \n",
       "435516     114       0   INT  1424259155  1424259155  0.000002      1   \n",
       "435517     114       0   INT  1424238658  1424238658  0.000002      1   \n",
       "435518    1064    2260   FIN  1424231610  1424231610  0.004064      0   \n",
       "\n",
       "       attack_cat  \n",
       "0          normal  \n",
       "1          normal  \n",
       "2          normal  \n",
       "3             dos  \n",
       "4          normal  \n",
       "...           ...  \n",
       "435514        dos  \n",
       "435515     normal  \n",
       "435516    generic  \n",
       "435517    generic  \n",
       "435518     normal  \n",
       "\n",
       "[435519 rows x 15 columns]"
      ]
     },
     "execution_count": 4,
     "metadata": {},
     "output_type": "execute_result"
    }
   ],
   "source": [
    "complete"
   ]
  },
  {
   "cell_type": "markdown",
   "metadata": {},
   "source": [
    "Get amount of samples for every type of traffic (attack subtypes as well): "
   ]
  },
  {
   "cell_type": "code",
   "execution_count": 12,
   "metadata": {},
   "outputs": [
    {
     "data": {
      "text/plain": [
       "(217800, 15)"
      ]
     },
     "execution_count": 12,
     "metadata": {},
     "output_type": "execute_result"
    }
   ],
   "source": [
    "normal = complete[complete['label'] == 0]\n",
    "normal.shape"
   ]
  },
  {
   "cell_type": "code",
   "execution_count": 14,
   "metadata": {},
   "outputs": [
    {
     "data": {
      "text/plain": [
       "(161374, 15)"
      ]
     },
     "execution_count": 14,
     "metadata": {},
     "output_type": "execute_result"
    }
   ],
   "source": [
    "generic = complete[complete['attack_cat'] == \"generic\"]\n",
    "generic.shape"
   ]
  },
  {
   "cell_type": "code",
   "execution_count": 16,
   "metadata": {},
   "outputs": [
    {
     "data": {
      "text/plain": [
       "(33536, 15)"
      ]
     },
     "execution_count": 16,
     "metadata": {},
     "output_type": "execute_result"
    }
   ],
   "source": [
    "exploits = complete[complete['attack_cat'] == \"exploits\"]\n",
    "exploits.shape"
   ]
  },
  {
   "cell_type": "code",
   "execution_count": 17,
   "metadata": {},
   "outputs": [
    {
     "data": {
      "text/plain": [
       "(12306, 15)"
      ]
     },
     "execution_count": 17,
     "metadata": {},
     "output_type": "execute_result"
    }
   ],
   "source": [
    "dos = complete[complete['attack_cat'] == \"dos\"]\n",
    "dos.shape"
   ]
  },
  {
   "cell_type": "code",
   "execution_count": 18,
   "metadata": {},
   "outputs": [
    {
     "data": {
      "text/plain": [
       "(10503, 15)"
      ]
     },
     "execution_count": 18,
     "metadata": {},
     "output_type": "execute_result"
    }
   ],
   "source": [
    "reconnaissance = complete[complete['attack_cat'] == \"reconnaissance\"]\n",
    "reconnaissance.shape"
   ]
  },
  {
   "cell_type": "markdown",
   "metadata": {},
   "source": [
    "Construct the partitions for each subtype: "
   ]
  },
  {
   "cell_type": "code",
   "execution_count": 24,
   "metadata": {},
   "outputs": [],
   "source": [
    "# Separate into three partitions normal samples (72600)\n",
    "normal1 = complete[complete['label'] == 0].iloc[:72600]\n",
    "normal2 = complete[complete['label'] == 0].iloc[72600:72600*2]\n",
    "normal3 = complete[complete['label'] == 0].iloc[72600*2:]\n"
   ]
  },
  {
   "cell_type": "code",
   "execution_count": 26,
   "metadata": {},
   "outputs": [],
   "source": [
    "# Separate into three partitions generic samples (47369, 60213, 53792)\n",
    "generic1 = complete[complete['attack_cat'] == \"generic\"].iloc[:47369]\n",
    "generic2 = complete[complete['attack_cat'] == \"generic\"].iloc[47369:(47369+60213)]\n",
    "generic3 = complete[complete['attack_cat'] == \"generic\"].iloc[(47369+60213):]"
   ]
  },
  {
   "cell_type": "code",
   "execution_count": 30,
   "metadata": {},
   "outputs": [],
   "source": [
    "# Separate into two partitions exploits samples (14728, 18808)\n",
    "exploits1 = complete[complete['attack_cat'] == \"exploits\"].iloc[:14728]\n",
    "exploits2 = complete[complete['attack_cat'] == \"exploits\"].iloc[14728:]"
   ]
  },
  {
   "cell_type": "code",
   "execution_count": 32,
   "metadata": {},
   "outputs": [],
   "source": [
    "# Get all dos samples and reconnaissance samples\n",
    "dos = complete[complete['attack_cat'] == \"dos\"]\n",
    "recon = complete[complete['attack_cat'] == \"reconnaissance\"]"
   ]
  },
  {
   "cell_type": "markdown",
   "metadata": {},
   "source": [
    "Concatenate the different df to obtain the three final partitions: "
   ]
  },
  {
   "cell_type": "code",
   "execution_count": 33,
   "metadata": {},
   "outputs": [],
   "source": [
    "# Create UNSW-NB15-Train-Basic-PartN, N = 1,2,3, dataset and export to csv\n",
    "part1 = pd.concat([normal1, generic1, exploits1, recon])\n",
    "part2 = pd.concat([normal2, generic2, dos])\n",
    "part3 = pd.concat([normal3, generic3, exploits2])\n",
    "part1.to_csv('C:/Users/UX430/Documents/thesis/datasets/UNSW-NB15/UNSW-NB15-Train-Basic-Part1.csv', index=False)\n",
    "part2.to_csv('C:/Users/UX430/Documents/thesis/datasets/UNSW-NB15/UNSW-NB15-Train-Basic-Part2.csv', index=False)\n",
    "part3.to_csv('C:/Users/UX430/Documents/thesis/datasets/UNSW-NB15/UNSW-NB15-Train-Basic-Part3.csv', index=False)"
   ]
  }
 ],
 "metadata": {
  "kernelspec": {
   "display_name": "base",
   "language": "python",
   "name": "python3"
  },
  "language_info": {
   "codemirror_mode": {
    "name": "ipython",
    "version": 3
   },
   "file_extension": ".py",
   "mimetype": "text/x-python",
   "name": "python",
   "nbconvert_exporter": "python",
   "pygments_lexer": "ipython3",
   "version": "3.8.12"
  }
 },
 "nbformat": 4,
 "nbformat_minor": 2
}
